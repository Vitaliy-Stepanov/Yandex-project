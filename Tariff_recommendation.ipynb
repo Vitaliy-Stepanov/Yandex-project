{
 "cells": [
  {
   "cell_type": "markdown",
   "metadata": {},
   "source": [
    "# Рекомендация тарифов"
   ]
  },
  {
   "cell_type": "markdown",
   "metadata": {},
   "source": [
    "В вашем распоряжении данные о поведении клиентов, которые уже перешли на эти тарифы (из проекта курса «Статистический анализ данных»). Нужно построить модель для задачи классификации, которая выберет подходящий тариф. Предобработка данных не понадобится — вы её уже сделали.\n",
    "\n",
    "Постройте модель с максимально большим значением *accuracy*. Чтобы сдать проект успешно, нужно довести долю правильных ответов по крайней мере до 0.75. Проверьте *accuracy* на тестовой выборке самостоятельно."
   ]
  },
  {
   "cell_type": "markdown",
   "metadata": {},
   "source": [
    "## Откройте и изучите файл"
   ]
  },
  {
   "cell_type": "markdown",
   "metadata": {},
   "source": [
    "### Импортируем библиотеки "
   ]
  },
  {
   "cell_type": "code",
   "execution_count": 79,
   "metadata": {},
   "outputs": [],
   "source": [
    "import pandas as pd\n",
    "from sklearn.dummy import DummyClassifier\n",
    "from sklearn.tree import DecisionTreeClassifier\n",
    "from sklearn.metrics import accuracy_score, mean_squared_error\n",
    "from sklearn.ensemble import RandomForestClassifier\n",
    "from sklearn.linear_model import LogisticRegression\n",
    "from sklearn.model_selection import GridSearchCV, cross_val_score, train_test_split\n",
    "import matplotlib.pyplot as plt\n",
    "import seaborn as sns"
   ]
  },
  {
   "cell_type": "markdown",
   "metadata": {},
   "source": [
    "### Ознакомимся с данными."
   ]
  },
  {
   "cell_type": "markdown",
   "metadata": {},
   "source": [
    "* Запишим данные в переменную data."
   ]
  },
  {
   "cell_type": "code",
   "execution_count": 80,
   "metadata": {},
   "outputs": [],
   "source": [
    "data = pd.read_csv('/datasets/users_behavior.csv')"
   ]
  },
  {
   "cell_type": "markdown",
   "metadata": {},
   "source": [
    "* Выведим первые 10 строк."
   ]
  },
  {
   "cell_type": "code",
   "execution_count": 81,
   "metadata": {},
   "outputs": [
    {
     "data": {
      "text/html": [
       "<div>\n",
       "<style scoped>\n",
       "    .dataframe tbody tr th:only-of-type {\n",
       "        vertical-align: middle;\n",
       "    }\n",
       "\n",
       "    .dataframe tbody tr th {\n",
       "        vertical-align: top;\n",
       "    }\n",
       "\n",
       "    .dataframe thead th {\n",
       "        text-align: right;\n",
       "    }\n",
       "</style>\n",
       "<table border=\"1\" class=\"dataframe\">\n",
       "  <thead>\n",
       "    <tr style=\"text-align: right;\">\n",
       "      <th></th>\n",
       "      <th>calls</th>\n",
       "      <th>minutes</th>\n",
       "      <th>messages</th>\n",
       "      <th>mb_used</th>\n",
       "      <th>is_ultra</th>\n",
       "    </tr>\n",
       "  </thead>\n",
       "  <tbody>\n",
       "    <tr>\n",
       "      <th>0</th>\n",
       "      <td>40.0</td>\n",
       "      <td>311.90</td>\n",
       "      <td>83.0</td>\n",
       "      <td>19915.42</td>\n",
       "      <td>0</td>\n",
       "    </tr>\n",
       "    <tr>\n",
       "      <th>1</th>\n",
       "      <td>85.0</td>\n",
       "      <td>516.75</td>\n",
       "      <td>56.0</td>\n",
       "      <td>22696.96</td>\n",
       "      <td>0</td>\n",
       "    </tr>\n",
       "    <tr>\n",
       "      <th>2</th>\n",
       "      <td>77.0</td>\n",
       "      <td>467.66</td>\n",
       "      <td>86.0</td>\n",
       "      <td>21060.45</td>\n",
       "      <td>0</td>\n",
       "    </tr>\n",
       "    <tr>\n",
       "      <th>3</th>\n",
       "      <td>106.0</td>\n",
       "      <td>745.53</td>\n",
       "      <td>81.0</td>\n",
       "      <td>8437.39</td>\n",
       "      <td>1</td>\n",
       "    </tr>\n",
       "    <tr>\n",
       "      <th>4</th>\n",
       "      <td>66.0</td>\n",
       "      <td>418.74</td>\n",
       "      <td>1.0</td>\n",
       "      <td>14502.75</td>\n",
       "      <td>0</td>\n",
       "    </tr>\n",
       "    <tr>\n",
       "      <th>5</th>\n",
       "      <td>58.0</td>\n",
       "      <td>344.56</td>\n",
       "      <td>21.0</td>\n",
       "      <td>15823.37</td>\n",
       "      <td>0</td>\n",
       "    </tr>\n",
       "    <tr>\n",
       "      <th>6</th>\n",
       "      <td>57.0</td>\n",
       "      <td>431.64</td>\n",
       "      <td>20.0</td>\n",
       "      <td>3738.90</td>\n",
       "      <td>1</td>\n",
       "    </tr>\n",
       "    <tr>\n",
       "      <th>7</th>\n",
       "      <td>15.0</td>\n",
       "      <td>132.40</td>\n",
       "      <td>6.0</td>\n",
       "      <td>21911.60</td>\n",
       "      <td>0</td>\n",
       "    </tr>\n",
       "    <tr>\n",
       "      <th>8</th>\n",
       "      <td>7.0</td>\n",
       "      <td>43.39</td>\n",
       "      <td>3.0</td>\n",
       "      <td>2538.67</td>\n",
       "      <td>1</td>\n",
       "    </tr>\n",
       "    <tr>\n",
       "      <th>9</th>\n",
       "      <td>90.0</td>\n",
       "      <td>665.41</td>\n",
       "      <td>38.0</td>\n",
       "      <td>17358.61</td>\n",
       "      <td>0</td>\n",
       "    </tr>\n",
       "  </tbody>\n",
       "</table>\n",
       "</div>"
      ],
      "text/plain": [
       "   calls  minutes  messages   mb_used  is_ultra\n",
       "0   40.0   311.90      83.0  19915.42         0\n",
       "1   85.0   516.75      56.0  22696.96         0\n",
       "2   77.0   467.66      86.0  21060.45         0\n",
       "3  106.0   745.53      81.0   8437.39         1\n",
       "4   66.0   418.74       1.0  14502.75         0\n",
       "5   58.0   344.56      21.0  15823.37         0\n",
       "6   57.0   431.64      20.0   3738.90         1\n",
       "7   15.0   132.40       6.0  21911.60         0\n",
       "8    7.0    43.39       3.0   2538.67         1\n",
       "9   90.0   665.41      38.0  17358.61         0"
      ]
     },
     "execution_count": 81,
     "metadata": {},
     "output_type": "execute_result"
    }
   ],
   "source": [
    "data.head(10)"
   ]
  },
  {
   "cell_type": "code",
   "execution_count": 82,
   "metadata": {},
   "outputs": [
    {
     "name": "stdout",
     "output_type": "stream",
     "text": [
      "<class 'pandas.core.frame.DataFrame'>\n",
      "RangeIndex: 3214 entries, 0 to 3213\n",
      "Data columns (total 5 columns):\n",
      " #   Column    Non-Null Count  Dtype  \n",
      "---  ------    --------------  -----  \n",
      " 0   calls     3214 non-null   float64\n",
      " 1   minutes   3214 non-null   float64\n",
      " 2   messages  3214 non-null   float64\n",
      " 3   mb_used   3214 non-null   float64\n",
      " 4   is_ultra  3214 non-null   int64  \n",
      "dtypes: float64(4), int64(1)\n",
      "memory usage: 125.7 KB\n"
     ]
    }
   ],
   "source": [
    "data.info()"
   ]
  },
  {
   "cell_type": "markdown",
   "metadata": {},
   "source": [
    "Итак количество данных у нас не большое всего 3214 строк и 5 столбцов."
   ]
  },
  {
   "cell_type": "markdown",
   "metadata": {},
   "source": [
    "Признаком классификации послужит столбец `is_ultra`.  1 - тариф \"Ультра\", 0 - тариф \"Смарт\" \\\n",
    "Взглянем на соотношение тарифов \"Смарт\" к \"Ультра\"."
   ]
  },
  {
   "cell_type": "code",
   "execution_count": 83,
   "metadata": {},
   "outputs": [
    {
     "data": {
      "text/plain": [
       "0    2229\n",
       "1     985\n",
       "Name: is_ultra, dtype: int64"
      ]
     },
     "execution_count": 83,
     "metadata": {},
     "output_type": "execute_result"
    }
   ],
   "source": [
    "data['is_ultra'].value_counts()"
   ]
  },
  {
   "cell_type": "code",
   "execution_count": 84,
   "metadata": {},
   "outputs": [
    {
     "data": {
      "image/png": "[encoded data removed]",
      "text/plain": [
       "<Figure size 432x288 with 1 Axes>"
      ]
     },
     "metadata": {
      "needs_background": "light"
     },
     "output_type": "display_data"
    }
   ],
   "source": [
    "sns.countplot(x='is_ultra', data=data, palette='hls');"
   ]
  },
  {
   "cell_type": "markdown",
   "metadata": {},
   "source": [
    "Мы видим что тарифов \"Ультра\" примерно в 2 раза меньше чем \"Смарт\"."
   ]
  },
  {
   "cell_type": "markdown",
   "metadata": {},
   "source": [
    "## Разбейте данные на выборки"
   ]
  },
  {
   "cell_type": "markdown",
   "metadata": {},
   "source": [
    "### Сохраним признаки в отдельные переменные. "
   ]
  },
  {
   "cell_type": "markdown",
   "metadata": {},
   "source": [
    "* `features`- признаки, `target`- целевой признак."
   ]
  },
  {
   "cell_type": "code",
   "execution_count": 85,
   "metadata": {},
   "outputs": [],
   "source": [
    "features = data.drop(['is_ultra'], axis=1)\n",
    "target = data['is_ultra']"
   ]
  },
  {
   "cell_type": "markdown",
   "metadata": {},
   "source": [
    "### Разобьём исходные данные на обучающую, валидационную и тестовую выборку."
   ]
  },
  {
   "cell_type": "markdown",
   "metadata": {},
   "source": [
    "* Воспользуемся **train_test_split**, и  разабьем на 60%, 20% и 20%"
   ]
  },
  {
   "cell_type": "code",
   "execution_count": 86,
   "metadata": {},
   "outputs": [],
   "source": [
    "# Сначала разобьем на обучающие и валидационные выборки 60% и 40%.\n",
    "\n",
    "features_train, features_valid, target_train, target_valid = train_test_split(\n",
    "    features, target, test_size=0.4, random_state=12345)\n",
    "\n",
    "# Теперь разобьем на валидационную и тестовую выборку 50% на 50%.\n",
    "\n",
    "features_test, features_valid, target_test, target_valid = train_test_split(\n",
    "    features_valid, target_valid, test_size=0.5, random_state=12345)"
   ]
  },
  {
   "cell_type": "code",
   "execution_count": 87,
   "metadata": {},
   "outputs": [
    {
     "name": "stdout",
     "output_type": "stream",
     "text": [
      "Количество строк на обучающей выборке 1928\n",
      "Количество строк на валидационной выборке 643\n",
      "Количество строк на тестовую выборку 643\n"
     ]
    }
   ],
   "source": [
    "print('Количество строк на обучающей выборке', features_train.shape[0])\n",
    "print('Количество строк на валидационной выборке', features_valid.shape[0])\n",
    "print('Количество строк на тестовую выборку', features_test.shape[0])"
   ]
  },
  {
   "cell_type": "markdown",
   "metadata": {},
   "source": [
    "## Исследуйте модели"
   ]
  },
  {
   "cell_type": "markdown",
   "metadata": {},
   "source": [
    "###  Воспользуемся моделью \"Случайного леса\"."
   ]
  },
  {
   "cell_type": "code",
   "execution_count": 89,
   "metadata": {
    "scrolled": true
   },
   "outputs": [
    {
     "data": {
      "text/plain": [
       "GridSearchCV(cv=5, estimator=RandomForestClassifier(random_state=12345),\n",
       "             param_grid={'max_depth': [1, 2, 3, 4, 5, 6, 7, 8, 9, 10],\n",
       "                         'min_samples_split': [2, 4, 6, 8]})"
      ]
     },
     "execution_count": 89,
     "metadata": {},
     "output_type": "execute_result"
    }
   ],
   "source": [
    "parametrs_forest = {'max_depth': list(range (1,11)),\n",
    "                    'min_samples_split': list(range (2,10,2))}\n",
    "\n",
    "model_forest = GridSearchCV(RandomForestClassifier(random_state=12345), parametrs_forest, cv=5)\n",
    "model_forest.fit(features_train, target_train)"
   ]
  },
  {
   "cell_type": "code",
   "execution_count": 90,
   "metadata": {},
   "outputs": [
    {
     "name": "stdout",
     "output_type": "stream",
     "text": [
      "Accuracy наилучшей модели на валидационной выборке: 80.56%\n"
     ]
    }
   ],
   "source": [
    "result_forest = model_forest.score(features_valid, target_valid)\n",
    "print(\"Accuracy наилучшей модели на валидационной выборке:\", format(result_forest, '.2%'))"
   ]
  },
  {
   "cell_type": "markdown",
   "metadata": {},
   "source": [
    "Доля правильных ответов составила 80.56% не плохой результат. Т.к данных не много, модель обучается не долго.  Посмотрим еще на другие модели. "
   ]
  },
  {
   "cell_type": "markdown",
   "metadata": {},
   "source": [
    "### Обучим модель логистической регрессии"
   ]
  },
  {
   "cell_type": "code",
   "execution_count": 91,
   "metadata": {},
   "outputs": [
    {
     "data": {
      "text/plain": [
       "GridSearchCV(cv=3, estimator=LogisticRegression(random_state=12345),\n",
       "             param_grid={'C': [0.01, 0.05, 0.1, 0.5, 1, 5, 10]})"
      ]
     },
     "execution_count": 91,
     "metadata": {},
     "output_type": "execute_result"
    }
   ],
   "source": [
    "# Определяем тестируемые значения гиперпараметров.\n",
    "\n",
    "parametr_set_logic = {'C': [0.01, 0.05, 0.1, 0.5, 1, 5, 10]}\n",
    "\n",
    "# Повысим качество модели на кросс-валидации\n",
    "\n",
    "best_model_logic = GridSearchCV(LogisticRegression(random_state=12345,), parametr_set_logic, cv=3)\n",
    "\n",
    "# Обучаем модель\n",
    "\n",
    "best_model_logic.fit(features_train, target_train) "
   ]
  },
  {
   "cell_type": "code",
   "execution_count": 92,
   "metadata": {},
   "outputs": [
    {
     "name": "stdout",
     "output_type": "stream",
     "text": [
      "Лучшие параметры: {'C': 0.05}\n",
      "Лучший результат кросс-валидации 75.00%\n"
     ]
    }
   ],
   "source": [
    "print(\"Лучшие параметры:\", best_model_logic.best_params_)\n",
    "print(\"Лучший результат кросс-валидации\", format(best_model_logic.best_score_, '.2%'))"
   ]
  },
  {
   "cell_type": "markdown",
   "metadata": {},
   "source": [
    "Доля правильных ответов оказалась хуже чем у случайного леса, и составило всего 75.00%."
   ]
  },
  {
   "cell_type": "markdown",
   "metadata": {},
   "source": [
    "### Обучим модель \"Дерево решений\""
   ]
  },
  {
   "cell_type": "code",
   "execution_count": 93,
   "metadata": {},
   "outputs": [
    {
     "name": "stdout",
     "output_type": "stream",
     "text": [
      "Fitting 5 folds for each of 128 candidates, totalling 640 fits\n"
     ]
    },
    {
     "data": {
      "text/plain": [
       "GridSearchCV(cv=5, estimator=DecisionTreeClassifier(random_state=17), n_jobs=-1,\n",
       "             param_grid={'criterion': ['entropy', 'gini'],\n",
       "                         'max_depth': [1, 2, 3, 4],\n",
       "                         'min_samples_leaf': [1, 2, 3, 4],\n",
       "                         'min_samples_split': [8, 9, 10, 11]},\n",
       "             verbose=True)"
      ]
     },
     "execution_count": 93,
     "metadata": {},
     "output_type": "execute_result"
    }
   ],
   "source": [
    "# Определяем тестируемые значения гиперпараметров.\n",
    "\n",
    "parametr_set = {\n",
    "    'criterion': ['entropy', 'gini'],\n",
    "    'max_depth': list(range(1, 5)),\n",
    "    'min_samples_split': list(range(8, 12)),\n",
    "    'min_samples_leaf': list(range(1, 5))\n",
    "}\n",
    "\n",
    "# Повысим качество модели на кросс-валидации.\n",
    "\n",
    "best_model_tree = GridSearchCV(DecisionTreeClassifier(random_state=17),\n",
    "                                parametr_set, verbose=True,\n",
    "                                 n_jobs=-1, cv=5)\n",
    "\n",
    "# Обучаем модель.\n",
    "\n",
    "best_model_tree.fit(features_train, target_train)"
   ]
  },
  {
   "cell_type": "code",
   "execution_count": 94,
   "metadata": {
    "scrolled": false
   },
   "outputs": [
    {
     "name": "stdout",
     "output_type": "stream",
     "text": [
      "Лучшие параметры: {'criterion': 'gini', 'max_depth': 4, 'min_samples_leaf': 1, 'min_samples_split': 10}\n",
      "Лучший результат кросс-валидации 80.19%\n"
     ]
    }
   ],
   "source": [
    "print(\"Лучшие параметры:\", best_model_tree.best_params_)\n",
    "print(\"Лучший результат кросс-валидации\", format(best_model_tree.best_score_, '.2%'))"
   ]
  },
  {
   "cell_type": "markdown",
   "metadata": {},
   "source": [
    "Лучшей моделью оказалась модель \"Случайного леса\" с результатом Accuracy 80.56%. Так же не плохой результат получилось добиться у \"Дерево решений\" с точностью 80.19%. И хуже всех показала модель \"Логистической регрессии\" с 75.00%."
   ]
  },
  {
   "cell_type": "markdown",
   "metadata": {},
   "source": [
    "## Проверьте модель на тестовой выборке"
   ]
  },
  {
   "cell_type": "markdown",
   "metadata": {},
   "source": [
    "* Делаем предсказание по всем моделям и проверм на правильность моделей на тестовой выборке. "
   ]
  },
  {
   "cell_type": "code",
   "execution_count": 95,
   "metadata": {},
   "outputs": [
    {
     "name": "stdout",
     "output_type": "stream",
     "text": [
      "Качество: 79.47%\n"
     ]
    }
   ],
   "source": [
    "# Предсказание для \"Случайного леса\"\n",
    "\n",
    "predictions_test_forest = model_forest.predict(features_test)\n",
    "\n",
    "# Проверяем правильность модели. \n",
    "\n",
    "result_forest = accuracy_score(target_test, predictions_test_forest)\n",
    "print(\"Качество:\", format(result_forest, '.2%'))"
   ]
  },
  {
   "cell_type": "code",
   "execution_count": 96,
   "metadata": {},
   "outputs": [
    {
     "name": "stdout",
     "output_type": "stream",
     "text": [
      "Качество: 75.58%\n"
     ]
    }
   ],
   "source": [
    "# Предсказание для \"Логистической регрессии\"\n",
    "\n",
    "predictions_test_logic = best_model_logic.predict(features_test)\n",
    "\n",
    "# Проверяем правильность модели.\n",
    "\n",
    "result_logic = accuracy_score(target_test, predictions_test_logic)\n",
    "print(\"Качество:\", format(result_logic, '.2%'))"
   ]
  },
  {
   "cell_type": "code",
   "execution_count": 97,
   "metadata": {},
   "outputs": [
    {
     "name": "stdout",
     "output_type": "stream",
     "text": [
      "Качество: 77.92%\n"
     ]
    }
   ],
   "source": [
    "# Предсказание для \"Дерево решений\"\n",
    "\n",
    "predictions_test_tree = best_model_tree.predict(features_test)\n",
    "\n",
    "# Проверяем правильность модели.\n",
    "\n",
    "result_tree = accuracy_score(target_test, predictions_test_tree)\n",
    "print(\"Качество:\", format(result_tree, '.2%'))"
   ]
  },
  {
   "cell_type": "markdown",
   "metadata": {},
   "source": [
    "**Вывод:** И так мы разбили данные на 3 выборки, **обучающую, валидационную и тестовую**. Обучили три модели **\"Случайного леса\", \"Логистической регрессии\", и \"Дерево решений\"**. Для улучшения моделей использовали гиперпараметры. По данным моделям мы будем оценивать долю правильных ответов **Accuracy**, которая поможет для наших клиентов подобрать оптимальный тарифный план.\n",
    "\n",
    "На валидационной выборке наиболее эффективной себя показала модель **\"Случайного леса\"** правильность модели составило 80.56%.  На тестовой выборке отличный результат опять же показывает модель **\"Случайного леса\"** - 79.47%. Данная модель и послужит помощником для предложения клиентам новых тарифов. Другие две модели на тестовой выборке показали хуже результат **\"Логистической регрессии\"** - 75.58% и **\"Дерево решений\"** - 77.92%. "
   ]
  },
  {
   "cell_type": "markdown",
   "metadata": {},
   "source": [
    "* Рассмотрим **RMSE** метрику, для определения адекватности модели."
   ]
  },
  {
   "cell_type": "markdown",
   "metadata": {},
   "source": [
    "**RMSE:** метрика, которая сообщает нам квадратный корень из средней квадратичной разницы между прогнозируемыми значениями и фактическими значениями в наборе данных. Чем ниже RMSE, тем лучше модель соответствует набору данных."
   ]
  },
  {
   "cell_type": "markdown",
   "metadata": {},
   "source": [
    "**Воспользуемся DummyClassifier который нам даст представление о минимальном качестве которое мы можем достичь.**"
   ]
  },
  {
   "cell_type": "code",
   "execution_count": 101,
   "metadata": {},
   "outputs": [
    {
     "name": "stdout",
     "output_type": "stream",
     "text": [
      "Результат простой модели на валидационной выборке: 0.6924273858921162\n",
      "Результат простой модели на тестовой выборке: 0.7060653188180405\n"
     ]
    }
   ],
   "source": [
    "baseline_model = DummyClassifier(strategy=\"most_frequent\").fit(features_train, target_train)\n",
    "\n",
    "print(\"Результат простой модели на валидационной выборке:\", baseline_model.score(features_train, target_train))\n",
    "print(\"Результат простой модели на тестовой выборке:\", baseline_model.score(features_test, target_test))"
   ]
  },
  {
   "cell_type": "markdown",
   "metadata": {},
   "source": [
    "## Чек-лист готовности проекта"
   ]
  },
  {
   "cell_type": "markdown",
   "metadata": {},
   "source": [
    "Поставьте 'x' в выполненных пунктах. Далее нажмите Shift+Enter."
   ]
  },
  {
   "cell_type": "markdown",
   "metadata": {},
   "source": [
    "- [x] Jupyter Notebook открыт\n",
    "- [ ] Весь код исполняется без ошибок\n",
    "- [ ] Ячейки с кодом расположены в порядке исполнения\n",
    "- [ ] Выполнено задание 1: данные загружены и изучены\n",
    "- [ ] Выполнено задание 2: данные разбиты на три выборки\n",
    "- [ ] Выполнено задание 3: проведено исследование моделей\n",
    "    - [ ] Рассмотрено больше одной модели\n",
    "    - [ ] Рассмотрено хотя бы 3 значения гипепараметров для какой-нибудь модели\n",
    "    - [ ] Написаны выводы по результатам исследования\n",
    "- [ ] Выполнено задание 3: Проведено тестирование\n",
    "- [ ] Удалось достичь accuracy не меньше 0.75\n"
   ]
  }
 ],
 "metadata": {
  "ExecuteTimeLog": [
   {
    "duration": 1097,
    "start_time": "2023-02-02T07:45:22.059Z"
   },
   {
    "duration": 60,
    "start_time": "2023-02-02T07:48:03.382Z"
   },
   {
    "duration": 24,
    "start_time": "2023-02-02T07:51:35.715Z"
   },
   {
    "duration": 10,
    "start_time": "2023-02-02T07:51:56.580Z"
   },
   {
    "duration": 12,
    "start_time": "2023-02-02T07:52:22.781Z"
   },
   {
    "duration": 4,
    "start_time": "2023-02-02T08:32:35.467Z"
   },
   {
    "duration": 7,
    "start_time": "2023-02-02T08:43:20.415Z"
   },
   {
    "duration": 3,
    "start_time": "2023-02-02T09:01:02.710Z"
   },
   {
    "duration": 23,
    "start_time": "2023-02-02T09:01:54.834Z"
   },
   {
    "duration": 6,
    "start_time": "2023-02-02T09:23:34.634Z"
   },
   {
    "duration": 8,
    "start_time": "2023-02-02T09:23:41.905Z"
   },
   {
    "duration": 64,
    "start_time": "2023-02-03T10:42:37.682Z"
   },
   {
    "duration": 1121,
    "start_time": "2023-02-03T10:42:43.066Z"
   },
   {
    "duration": 164,
    "start_time": "2023-02-03T10:42:44.189Z"
   },
   {
    "duration": 19,
    "start_time": "2023-02-03T10:42:44.355Z"
   },
   {
    "duration": 17,
    "start_time": "2023-02-03T10:42:44.376Z"
   },
   {
    "duration": 118,
    "start_time": "2023-02-03T10:42:44.395Z"
   },
   {
    "duration": 0,
    "start_time": "2023-02-03T10:42:44.514Z"
   },
   {
    "duration": 0,
    "start_time": "2023-02-03T10:42:44.515Z"
   },
   {
    "duration": 0,
    "start_time": "2023-02-03T10:42:44.517Z"
   },
   {
    "duration": 0,
    "start_time": "2023-02-03T10:42:44.517Z"
   },
   {
    "duration": 0,
    "start_time": "2023-02-03T10:42:44.519Z"
   },
   {
    "duration": 14,
    "start_time": "2023-02-03T10:43:05.059Z"
   },
   {
    "duration": 6,
    "start_time": "2023-02-03T10:43:23.033Z"
   },
   {
    "duration": 10,
    "start_time": "2023-02-03T10:45:10.296Z"
   },
   {
    "duration": 10,
    "start_time": "2023-02-03T10:45:27.940Z"
   },
   {
    "duration": 513,
    "start_time": "2023-02-03T10:45:42.671Z"
   },
   {
    "duration": 138,
    "start_time": "2023-02-03T10:47:18.273Z"
   },
   {
    "duration": 93,
    "start_time": "2023-02-03T10:47:23.685Z"
   },
   {
    "duration": 3,
    "start_time": "2023-02-03T10:53:53.066Z"
   },
   {
    "duration": 24,
    "start_time": "2023-02-03T10:53:53.245Z"
   },
   {
    "duration": 9,
    "start_time": "2023-02-03T10:53:53.387Z"
   },
   {
    "duration": 4,
    "start_time": "2023-02-03T10:54:00.739Z"
   },
   {
    "duration": 8,
    "start_time": "2023-02-03T10:54:01.102Z"
   },
   {
    "duration": 3,
    "start_time": "2023-02-03T10:54:02.086Z"
   },
   {
    "duration": 26,
    "start_time": "2023-02-03T10:54:02.149Z"
   },
   {
    "duration": 12,
    "start_time": "2023-02-03T10:54:02.645Z"
   },
   {
    "duration": 9,
    "start_time": "2023-02-03T10:54:10.834Z"
   },
   {
    "duration": 21,
    "start_time": "2023-02-03T10:57:59.204Z"
   },
   {
    "duration": 297,
    "start_time": "2023-02-03T10:58:11.214Z"
   },
   {
    "duration": 266,
    "start_time": "2023-02-03T11:01:07.898Z"
   },
   {
    "duration": 304,
    "start_time": "2023-02-03T11:01:42.392Z"
   },
   {
    "duration": 298,
    "start_time": "2023-02-03T11:01:49.336Z"
   },
   {
    "duration": 288,
    "start_time": "2023-02-03T11:02:47.478Z"
   },
   {
    "duration": 516,
    "start_time": "2023-02-03T11:02:57.657Z"
   },
   {
    "duration": 267,
    "start_time": "2023-02-03T11:03:37.714Z"
   },
   {
    "duration": 285,
    "start_time": "2023-02-03T11:03:44.211Z"
   },
   {
    "duration": 41,
    "start_time": "2023-02-03T11:31:36.321Z"
   },
   {
    "duration": 32,
    "start_time": "2023-02-03T11:31:43.263Z"
   },
   {
    "duration": 36,
    "start_time": "2023-02-03T11:34:19.359Z"
   },
   {
    "duration": 27,
    "start_time": "2023-02-03T11:37:05.419Z"
   },
   {
    "duration": 25,
    "start_time": "2023-02-03T11:37:33.540Z"
   },
   {
    "duration": 7,
    "start_time": "2023-02-03T11:50:52.810Z"
   },
   {
    "duration": 15,
    "start_time": "2023-02-03T12:15:36.683Z"
   },
   {
    "duration": 16,
    "start_time": "2023-02-03T12:15:46.204Z"
   },
   {
    "duration": 11,
    "start_time": "2023-02-03T12:16:42.105Z"
   },
   {
    "duration": 13,
    "start_time": "2023-02-03T12:16:46.487Z"
   },
   {
    "duration": 13,
    "start_time": "2023-02-03T12:20:44.869Z"
   },
   {
    "duration": 16,
    "start_time": "2023-02-03T12:20:48.364Z"
   },
   {
    "duration": 16,
    "start_time": "2023-02-03T12:20:55.076Z"
   },
   {
    "duration": 16,
    "start_time": "2023-02-03T12:21:00.423Z"
   },
   {
    "duration": 9,
    "start_time": "2023-02-03T12:21:03.497Z"
   },
   {
    "duration": 10,
    "start_time": "2023-02-03T12:21:06.320Z"
   },
   {
    "duration": 11,
    "start_time": "2023-02-03T12:21:09.117Z"
   },
   {
    "duration": 50,
    "start_time": "2023-02-03T13:20:38.521Z"
   },
   {
    "duration": 1615,
    "start_time": "2023-02-03T13:20:45.189Z"
   },
   {
    "duration": 65,
    "start_time": "2023-02-03T13:20:46.806Z"
   },
   {
    "duration": 15,
    "start_time": "2023-02-03T13:20:46.873Z"
   },
   {
    "duration": 11,
    "start_time": "2023-02-03T13:20:46.890Z"
   },
   {
    "duration": 13,
    "start_time": "2023-02-03T13:20:46.903Z"
   },
   {
    "duration": 105,
    "start_time": "2023-02-03T13:20:46.919Z"
   },
   {
    "duration": 4,
    "start_time": "2023-02-03T13:20:47.026Z"
   },
   {
    "duration": 13,
    "start_time": "2023-02-03T13:20:47.032Z"
   },
   {
    "duration": 296,
    "start_time": "2023-02-03T13:20:47.047Z"
   },
   {
    "duration": 39,
    "start_time": "2023-02-03T13:20:47.347Z"
   },
   {
    "duration": 111,
    "start_time": "2023-02-03T13:20:47.404Z"
   },
   {
    "duration": 12,
    "start_time": "2023-02-03T13:22:06.346Z"
   },
   {
    "duration": 11,
    "start_time": "2023-02-03T13:22:11.164Z"
   },
   {
    "duration": 11,
    "start_time": "2023-02-03T13:22:20.899Z"
   },
   {
    "duration": 15,
    "start_time": "2023-02-03T13:23:44.210Z"
   },
   {
    "duration": 4,
    "start_time": "2023-02-03T13:42:37.658Z"
   },
   {
    "duration": 3,
    "start_time": "2023-02-03T13:54:21.566Z"
   },
   {
    "duration": 9,
    "start_time": "2023-02-03T13:55:21.876Z"
   },
   {
    "duration": 3,
    "start_time": "2023-02-03T13:56:35.990Z"
   },
   {
    "duration": 27852,
    "start_time": "2023-02-03T13:57:40.246Z"
   },
   {
    "duration": 5,
    "start_time": "2023-02-03T13:59:20.159Z"
   },
   {
    "duration": 3,
    "start_time": "2023-02-03T13:59:54.119Z"
   },
   {
    "duration": 3,
    "start_time": "2023-02-03T13:59:54.890Z"
   },
   {
    "duration": 4323,
    "start_time": "2023-02-03T13:59:55.704Z"
   },
   {
    "duration": 4,
    "start_time": "2023-02-03T14:00:00.029Z"
   },
   {
    "duration": 3,
    "start_time": "2023-02-03T14:00:07.064Z"
   },
   {
    "duration": 11,
    "start_time": "2023-02-03T14:01:29.263Z"
   },
   {
    "duration": 4,
    "start_time": "2023-02-03T14:01:48.653Z"
   },
   {
    "duration": 3,
    "start_time": "2023-02-03T14:08:39.326Z"
   },
   {
    "duration": 2,
    "start_time": "2023-02-03T14:08:40.196Z"
   },
   {
    "duration": 3638,
    "start_time": "2023-02-03T14:08:41.525Z"
   },
   {
    "duration": 4,
    "start_time": "2023-02-03T14:08:46.744Z"
   },
   {
    "duration": 3,
    "start_time": "2023-02-03T14:10:34.594Z"
   },
   {
    "duration": 4,
    "start_time": "2023-02-03T14:12:23.146Z"
   },
   {
    "duration": 3,
    "start_time": "2023-02-03T14:19:02.841Z"
   },
   {
    "duration": 3,
    "start_time": "2023-02-03T14:20:32.858Z"
   },
   {
    "duration": 3,
    "start_time": "2023-02-03T14:21:48.008Z"
   },
   {
    "duration": 3,
    "start_time": "2023-02-03T14:21:48.682Z"
   },
   {
    "duration": 3368,
    "start_time": "2023-02-03T14:21:50.111Z"
   },
   {
    "duration": 4,
    "start_time": "2023-02-03T14:21:54.697Z"
   },
   {
    "duration": 12,
    "start_time": "2023-02-03T14:22:09.821Z"
   },
   {
    "duration": 4,
    "start_time": "2023-02-03T14:24:47.873Z"
   },
   {
    "duration": 3,
    "start_time": "2023-02-03T14:28:38.215Z"
   },
   {
    "duration": 295460,
    "start_time": "2023-02-03T14:29:26.727Z"
   },
   {
    "duration": 4,
    "start_time": "2023-02-03T14:35:56.621Z"
   },
   {
    "duration": 3,
    "start_time": "2023-02-03T14:38:28.062Z"
   },
   {
    "duration": 2,
    "start_time": "2023-02-03T14:38:28.464Z"
   },
   {
    "duration": 11,
    "start_time": "2023-02-03T14:38:42.985Z"
   },
   {
    "duration": 101518,
    "start_time": "2023-02-03T14:39:00.680Z"
   },
   {
    "duration": 3,
    "start_time": "2023-02-03T14:41:33.968Z"
   },
   {
    "duration": 3,
    "start_time": "2023-02-03T14:42:11.802Z"
   },
   {
    "duration": 3,
    "start_time": "2023-02-03T14:42:12.187Z"
   },
   {
    "duration": 28721,
    "start_time": "2023-02-03T14:42:13.373Z"
   },
   {
    "duration": 3,
    "start_time": "2023-02-03T14:42:59.769Z"
   },
   {
    "duration": 2,
    "start_time": "2023-02-03T14:43:00.752Z"
   },
   {
    "duration": 47429,
    "start_time": "2023-02-03T14:43:01.723Z"
   },
   {
    "duration": 4,
    "start_time": "2023-02-03T14:43:57.913Z"
   },
   {
    "duration": 278,
    "start_time": "2023-02-03T14:44:12.481Z"
   },
   {
    "duration": 3,
    "start_time": "2023-02-03T15:37:36.393Z"
   },
   {
    "duration": 3,
    "start_time": "2023-02-03T15:39:23.568Z"
   },
   {
    "duration": 545,
    "start_time": "2023-02-03T15:39:44.828Z"
   },
   {
    "duration": 5,
    "start_time": "2023-02-03T15:40:04.285Z"
   },
   {
    "duration": 3,
    "start_time": "2023-02-03T16:12:18.189Z"
   },
   {
    "duration": 3,
    "start_time": "2023-02-03T16:12:18.668Z"
   },
   {
    "duration": 1034,
    "start_time": "2023-02-03T16:12:19.316Z"
   },
   {
    "duration": 5,
    "start_time": "2023-02-03T16:12:22.498Z"
   },
   {
    "duration": 3,
    "start_time": "2023-02-03T16:16:41.046Z"
   },
   {
    "duration": 334,
    "start_time": "2023-02-03T16:16:41.962Z"
   },
   {
    "duration": 3,
    "start_time": "2023-02-03T16:16:44.695Z"
   },
   {
    "duration": 3,
    "start_time": "2023-02-03T16:17:03.673Z"
   },
   {
    "duration": 1046,
    "start_time": "2023-02-03T16:17:04.061Z"
   },
   {
    "duration": 4,
    "start_time": "2023-02-03T16:17:05.170Z"
   },
   {
    "duration": 4,
    "start_time": "2023-02-03T16:17:14.093Z"
   },
   {
    "duration": 3,
    "start_time": "2023-02-03T16:17:14.527Z"
   },
   {
    "duration": 1478,
    "start_time": "2023-02-03T16:17:15.008Z"
   },
   {
    "duration": 5,
    "start_time": "2023-02-03T16:17:17.928Z"
   },
   {
    "duration": 3,
    "start_time": "2023-02-03T16:17:47.551Z"
   },
   {
    "duration": 891,
    "start_time": "2023-02-03T16:17:47.865Z"
   },
   {
    "duration": 3,
    "start_time": "2023-02-03T16:17:49.647Z"
   },
   {
    "duration": 3,
    "start_time": "2023-02-03T16:18:06.701Z"
   },
   {
    "duration": 1538,
    "start_time": "2023-02-03T16:18:07.083Z"
   },
   {
    "duration": 4,
    "start_time": "2023-02-03T16:18:08.623Z"
   },
   {
    "duration": 3,
    "start_time": "2023-02-03T16:18:27.327Z"
   },
   {
    "duration": 3,
    "start_time": "2023-02-03T16:18:27.571Z"
   },
   {
    "duration": 507,
    "start_time": "2023-02-03T16:18:28.368Z"
   },
   {
    "duration": 3,
    "start_time": "2023-02-03T16:18:29.748Z"
   },
   {
    "duration": 3,
    "start_time": "2023-02-03T16:19:19.021Z"
   },
   {
    "duration": 3,
    "start_time": "2023-02-03T16:19:19.953Z"
   },
   {
    "duration": 525,
    "start_time": "2023-02-03T16:19:20.138Z"
   },
   {
    "duration": 3,
    "start_time": "2023-02-03T16:19:22.489Z"
   },
   {
    "duration": 3,
    "start_time": "2023-02-03T16:19:29.050Z"
   },
   {
    "duration": 539,
    "start_time": "2023-02-03T16:19:29.265Z"
   },
   {
    "duration": 3,
    "start_time": "2023-02-03T16:22:35.169Z"
   },
   {
    "duration": 552,
    "start_time": "2023-02-03T16:24:31.534Z"
   },
   {
    "duration": 3539,
    "start_time": "2023-02-03T16:27:49.832Z"
   },
   {
    "duration": 11,
    "start_time": "2023-02-03T16:47:33.436Z"
   },
   {
    "duration": 5,
    "start_time": "2023-02-03T16:48:34.187Z"
   },
   {
    "duration": 9,
    "start_time": "2023-02-03T16:51:49.487Z"
   },
   {
    "duration": 4,
    "start_time": "2023-02-03T16:51:56.468Z"
   },
   {
    "duration": 6,
    "start_time": "2023-02-03T16:52:39.708Z"
   },
   {
    "duration": 4,
    "start_time": "2023-02-03T16:53:13.871Z"
   },
   {
    "duration": 5,
    "start_time": "2023-02-03T16:54:32.972Z"
   },
   {
    "duration": 4,
    "start_time": "2023-02-03T16:54:46.874Z"
   },
   {
    "duration": 4,
    "start_time": "2023-02-03T16:55:19.802Z"
   },
   {
    "duration": 4,
    "start_time": "2023-02-03T16:55:29.671Z"
   },
   {
    "duration": 4,
    "start_time": "2023-02-03T16:55:44.571Z"
   },
   {
    "duration": 47,
    "start_time": "2023-02-04T15:49:53.066Z"
   },
   {
    "duration": 1698,
    "start_time": "2023-02-04T15:50:05.460Z"
   },
   {
    "duration": 146,
    "start_time": "2023-02-04T15:50:07.161Z"
   },
   {
    "duration": 21,
    "start_time": "2023-02-04T15:50:07.310Z"
   },
   {
    "duration": 12,
    "start_time": "2023-02-04T15:50:07.335Z"
   },
   {
    "duration": 12,
    "start_time": "2023-02-04T15:50:07.349Z"
   },
   {
    "duration": 108,
    "start_time": "2023-02-04T15:50:07.363Z"
   },
   {
    "duration": 4,
    "start_time": "2023-02-04T15:50:07.472Z"
   },
   {
    "duration": 20,
    "start_time": "2023-02-04T15:50:07.478Z"
   },
   {
    "duration": 303,
    "start_time": "2023-02-04T15:50:07.500Z"
   },
   {
    "duration": 631,
    "start_time": "2023-02-04T15:50:07.805Z"
   },
   {
    "duration": 4,
    "start_time": "2023-02-04T15:50:08.439Z"
   },
   {
    "duration": 3836,
    "start_time": "2023-02-04T15:50:08.445Z"
   },
   {
    "duration": 4,
    "start_time": "2023-02-04T15:50:12.283Z"
   },
   {
    "duration": 26,
    "start_time": "2023-02-04T15:50:12.289Z"
   },
   {
    "duration": 24,
    "start_time": "2023-02-04T15:50:12.317Z"
   },
   {
    "duration": 7,
    "start_time": "2023-02-04T15:50:12.343Z"
   },
   {
    "duration": 9,
    "start_time": "2023-02-04T15:50:12.352Z"
   },
   {
    "duration": 10,
    "start_time": "2023-02-04T15:50:12.363Z"
   },
   {
    "duration": 14,
    "start_time": "2023-02-04T15:53:05.997Z"
   },
   {
    "duration": 9,
    "start_time": "2023-02-04T15:53:12.469Z"
   },
   {
    "duration": 5,
    "start_time": "2023-02-04T16:08:21.461Z"
   },
   {
    "duration": 8,
    "start_time": "2023-02-04T16:08:26.841Z"
   },
   {
    "duration": 106,
    "start_time": "2023-02-04T16:12:41.545Z"
   },
   {
    "duration": 22,
    "start_time": "2023-02-04T16:12:52.230Z"
   },
   {
    "duration": 18,
    "start_time": "2023-02-04T16:14:28.815Z"
   },
   {
    "duration": 5,
    "start_time": "2023-02-04T16:22:43.255Z"
   },
   {
    "duration": 25,
    "start_time": "2023-02-04T16:23:11.914Z"
   },
   {
    "duration": 11,
    "start_time": "2023-02-04T16:38:13.455Z"
   },
   {
    "duration": 9,
    "start_time": "2023-02-04T16:41:14.159Z"
   },
   {
    "duration": 64,
    "start_time": "2023-02-04T16:41:48.817Z"
   },
   {
    "duration": 16,
    "start_time": "2023-02-04T16:41:57.625Z"
   },
   {
    "duration": 91,
    "start_time": "2023-02-04T16:42:24.739Z"
   },
   {
    "duration": 16,
    "start_time": "2023-02-04T16:42:28.367Z"
   },
   {
    "duration": 11,
    "start_time": "2023-02-04T16:42:49.644Z"
   },
   {
    "duration": 11,
    "start_time": "2023-02-04T16:43:05.209Z"
   },
   {
    "duration": 8,
    "start_time": "2023-02-04T16:44:54.557Z"
   },
   {
    "duration": 7,
    "start_time": "2023-02-04T16:45:29.649Z"
   },
   {
    "duration": 6,
    "start_time": "2023-02-04T16:45:35.845Z"
   },
   {
    "duration": 16,
    "start_time": "2023-02-04T16:50:40.631Z"
   },
   {
    "duration": 8,
    "start_time": "2023-02-04T16:50:40.943Z"
   },
   {
    "duration": 7,
    "start_time": "2023-02-04T16:50:41.344Z"
   },
   {
    "duration": 308,
    "start_time": "2023-02-04T16:52:41.662Z"
   },
   {
    "duration": 51,
    "start_time": "2023-02-05T17:50:04.970Z"
   },
   {
    "duration": 1676,
    "start_time": "2023-02-05T17:50:12.801Z"
   },
   {
    "duration": 66,
    "start_time": "2023-02-05T17:50:14.480Z"
   },
   {
    "duration": 19,
    "start_time": "2023-02-05T17:50:14.548Z"
   },
   {
    "duration": 13,
    "start_time": "2023-02-05T17:50:14.568Z"
   },
   {
    "duration": 13,
    "start_time": "2023-02-05T17:50:14.584Z"
   },
   {
    "duration": 108,
    "start_time": "2023-02-05T17:50:14.599Z"
   },
   {
    "duration": 5,
    "start_time": "2023-02-05T17:50:14.710Z"
   },
   {
    "duration": 12,
    "start_time": "2023-02-05T17:50:14.718Z"
   },
   {
    "duration": 376,
    "start_time": "2023-02-05T17:50:14.732Z"
   },
   {
    "duration": 628,
    "start_time": "2023-02-05T17:50:15.110Z"
   },
   {
    "duration": 4,
    "start_time": "2023-02-05T17:50:15.740Z"
   },
   {
    "duration": 3890,
    "start_time": "2023-02-05T17:50:15.746Z"
   },
   {
    "duration": 5,
    "start_time": "2023-02-05T17:50:19.638Z"
   },
   {
    "duration": 20,
    "start_time": "2023-02-05T17:50:19.647Z"
   },
   {
    "duration": 19,
    "start_time": "2023-02-05T17:50:19.669Z"
   },
   {
    "duration": 50,
    "start_time": "2023-02-05T17:50:19.690Z"
   },
   {
    "duration": 9,
    "start_time": "2023-02-05T17:50:19.742Z"
   },
   {
    "duration": 12,
    "start_time": "2023-02-05T17:50:19.753Z"
   },
   {
    "duration": 8,
    "start_time": "2023-02-05T17:50:19.767Z"
   },
   {
    "duration": 5,
    "start_time": "2023-02-05T19:02:45.870Z"
   },
   {
    "duration": 5,
    "start_time": "2023-02-05T19:02:47.550Z"
   },
   {
    "duration": 6,
    "start_time": "2023-02-05T19:02:48.794Z"
   },
   {
    "duration": 2255,
    "start_time": "2023-02-06T03:47:45.031Z"
   },
   {
    "duration": 131,
    "start_time": "2023-02-06T03:47:47.289Z"
   },
   {
    "duration": 16,
    "start_time": "2023-02-06T03:47:47.422Z"
   },
   {
    "duration": 21,
    "start_time": "2023-02-06T03:47:47.441Z"
   },
   {
    "duration": 8,
    "start_time": "2023-02-06T03:47:47.464Z"
   },
   {
    "duration": 106,
    "start_time": "2023-02-06T03:47:47.473Z"
   },
   {
    "duration": 5,
    "start_time": "2023-02-06T03:47:47.580Z"
   },
   {
    "duration": 11,
    "start_time": "2023-02-06T03:47:47.586Z"
   },
   {
    "duration": 299,
    "start_time": "2023-02-06T03:47:47.599Z"
   },
   {
    "duration": 569,
    "start_time": "2023-02-06T03:47:47.901Z"
   },
   {
    "duration": 3,
    "start_time": "2023-02-06T03:47:48.471Z"
   },
   {
    "duration": 3490,
    "start_time": "2023-02-06T03:47:48.476Z"
   },
   {
    "duration": 3,
    "start_time": "2023-02-06T03:47:51.968Z"
   },
   {
    "duration": 31,
    "start_time": "2023-02-06T03:47:51.973Z"
   },
   {
    "duration": 15,
    "start_time": "2023-02-06T03:47:52.006Z"
   },
   {
    "duration": 20,
    "start_time": "2023-02-06T03:47:52.022Z"
   },
   {
    "duration": 9,
    "start_time": "2023-02-06T03:47:52.044Z"
   },
   {
    "duration": 6,
    "start_time": "2023-02-06T03:47:52.054Z"
   },
   {
    "duration": 16,
    "start_time": "2023-02-06T03:47:52.061Z"
   },
   {
    "duration": 4,
    "start_time": "2023-02-06T03:55:45.541Z"
   },
   {
    "duration": 34,
    "start_time": "2023-02-06T03:55:45.549Z"
   },
   {
    "duration": 11,
    "start_time": "2023-02-06T03:55:45.585Z"
   },
   {
    "duration": 14,
    "start_time": "2023-02-06T03:55:45.598Z"
   },
   {
    "duration": 22,
    "start_time": "2023-02-06T03:55:45.614Z"
   },
   {
    "duration": 93,
    "start_time": "2023-02-06T03:55:45.638Z"
   },
   {
    "duration": 3,
    "start_time": "2023-02-06T03:55:45.734Z"
   },
   {
    "duration": 20,
    "start_time": "2023-02-06T03:55:45.739Z"
   },
   {
    "duration": 33,
    "start_time": "2023-02-06T03:55:45.761Z"
   },
   {
    "duration": 17,
    "start_time": "2023-02-06T03:55:45.796Z"
   },
   {
    "duration": 27,
    "start_time": "2023-02-06T03:55:45.815Z"
   },
   {
    "duration": 6,
    "start_time": "2023-02-06T03:55:45.843Z"
   },
   {
    "duration": 10,
    "start_time": "2023-02-06T03:55:45.850Z"
   },
   {
    "duration": 19,
    "start_time": "2023-02-06T03:55:45.862Z"
   },
   {
    "duration": 12,
    "start_time": "2023-02-06T03:55:45.883Z"
   },
   {
    "duration": 14,
    "start_time": "2023-02-06T03:55:45.897Z"
   },
   {
    "duration": 1508,
    "start_time": "2023-02-07T07:05:30.565Z"
   },
   {
    "duration": 124,
    "start_time": "2023-02-07T07:05:32.075Z"
   },
   {
    "duration": 15,
    "start_time": "2023-02-07T07:05:32.201Z"
   },
   {
    "duration": 27,
    "start_time": "2023-02-07T07:05:32.218Z"
   },
   {
    "duration": 20,
    "start_time": "2023-02-07T07:05:32.247Z"
   },
   {
    "duration": 108,
    "start_time": "2023-02-07T07:05:32.269Z"
   },
   {
    "duration": 4,
    "start_time": "2023-02-07T07:05:32.379Z"
   },
   {
    "duration": 8,
    "start_time": "2023-02-07T07:05:35.953Z"
   },
   {
    "duration": 269,
    "start_time": "2023-02-07T07:06:19.985Z"
   },
   {
    "duration": 534,
    "start_time": "2023-02-07T07:06:36.567Z"
   },
   {
    "duration": 4,
    "start_time": "2023-02-07T07:06:38.273Z"
   },
   {
    "duration": 3274,
    "start_time": "2023-02-07T07:07:08.515Z"
   },
   {
    "duration": 3,
    "start_time": "2023-02-07T07:07:11.791Z"
   },
   {
    "duration": 9,
    "start_time": "2023-02-07T07:07:40.713Z"
   },
   {
    "duration": 6,
    "start_time": "2023-02-07T07:07:43.899Z"
   },
   {
    "duration": 7,
    "start_time": "2023-02-07T07:07:45.331Z"
   },
   {
    "duration": 4,
    "start_time": "2023-02-07T07:12:01.054Z"
   },
   {
    "duration": 4,
    "start_time": "2023-02-07T07:12:13.016Z"
   },
   {
    "duration": 4,
    "start_time": "2023-02-07T07:12:52.487Z"
   },
   {
    "duration": 5,
    "start_time": "2023-02-07T07:12:59.566Z"
   },
   {
    "duration": 4,
    "start_time": "2023-02-07T07:13:37.982Z"
   },
   {
    "duration": 4,
    "start_time": "2023-02-07T07:13:45.644Z"
   },
   {
    "duration": 3,
    "start_time": "2023-02-07T07:13:52.078Z"
   },
   {
    "duration": 4,
    "start_time": "2023-02-07T07:14:00.698Z"
   },
   {
    "duration": 4,
    "start_time": "2023-02-07T07:16:03.553Z"
   },
   {
    "duration": 4,
    "start_time": "2023-02-07T07:16:10.245Z"
   },
   {
    "duration": 4,
    "start_time": "2023-02-07T07:16:15.062Z"
   },
   {
    "duration": 5,
    "start_time": "2023-02-07T07:16:21.013Z"
   },
   {
    "duration": 3,
    "start_time": "2023-02-07T07:16:27.160Z"
   },
   {
    "duration": 4,
    "start_time": "2023-02-07T07:16:33.133Z"
   },
   {
    "duration": 6,
    "start_time": "2023-02-07T07:17:34.013Z"
   },
   {
    "duration": 7,
    "start_time": "2023-02-07T07:25:32.890Z"
   },
   {
    "duration": 4,
    "start_time": "2023-02-07T07:25:34.967Z"
   },
   {
    "duration": 5,
    "start_time": "2023-02-07T07:25:46.259Z"
   },
   {
    "duration": 4,
    "start_time": "2023-02-07T07:37:21.933Z"
   },
   {
    "duration": 4,
    "start_time": "2023-02-07T07:37:33.055Z"
   },
   {
    "duration": 66761,
    "start_time": "2023-02-07T07:40:28.576Z"
   },
   {
    "duration": 291376,
    "start_time": "2023-02-07T07:41:59.852Z"
   },
   {
    "duration": 8,
    "start_time": "2023-02-07T07:46:54.968Z"
   },
   {
    "duration": 9,
    "start_time": "2023-02-07T07:47:04.920Z"
   },
   {
    "duration": 189299,
    "start_time": "2023-02-07T07:51:58.525Z"
   },
   {
    "duration": 9,
    "start_time": "2023-02-07T07:55:29.417Z"
   },
   {
    "duration": 26,
    "start_time": "2023-02-07T07:55:44.777Z"
   },
   {
    "duration": 297500,
    "start_time": "2023-02-07T07:55:59.982Z"
   },
   {
    "duration": 12,
    "start_time": "2023-02-07T08:01:10.362Z"
   },
   {
    "duration": 26921,
    "start_time": "2023-02-07T08:02:45.079Z"
   },
   {
    "duration": 25,
    "start_time": "2023-02-07T08:03:51.293Z"
   },
   {
    "duration": 44418,
    "start_time": "2023-02-07T08:04:14.163Z"
   },
   {
    "duration": 26,
    "start_time": "2023-02-07T08:05:04.083Z"
   },
   {
    "duration": 24,
    "start_time": "2023-02-07T08:05:56.198Z"
   },
   {
    "duration": 572,
    "start_time": "2023-02-07T08:06:20.091Z"
   },
   {
    "duration": 97799,
    "start_time": "2023-02-07T08:18:07.927Z"
   },
   {
    "duration": 24,
    "start_time": "2023-02-07T08:19:49.426Z"
   },
   {
    "duration": 94704,
    "start_time": "2023-02-07T08:19:59.599Z"
   },
   {
    "duration": 25,
    "start_time": "2023-02-07T08:21:53.569Z"
   },
   {
    "duration": 46016,
    "start_time": "2023-02-07T08:24:12.808Z"
   },
   {
    "duration": 25,
    "start_time": "2023-02-07T08:28:52.562Z"
   },
   {
    "duration": 46370,
    "start_time": "2023-02-07T08:33:16.312Z"
   },
   {
    "duration": 23,
    "start_time": "2023-02-07T08:34:07.343Z"
   },
   {
    "duration": 27,
    "start_time": "2023-02-07T08:39:01.563Z"
   },
   {
    "duration": 599,
    "start_time": "2023-02-07T08:40:49.912Z"
   },
   {
    "duration": 4,
    "start_time": "2023-02-07T08:41:10.075Z"
   },
   {
    "duration": 3594,
    "start_time": "2023-02-07T08:41:23.527Z"
   },
   {
    "duration": 5,
    "start_time": "2023-02-07T08:41:27.123Z"
   },
   {
    "duration": 25,
    "start_time": "2023-02-07T08:41:46.733Z"
   },
   {
    "duration": 7,
    "start_time": "2023-02-07T08:41:53.407Z"
   },
   {
    "duration": 8,
    "start_time": "2023-02-07T08:41:54.007Z"
   },
   {
    "duration": 5,
    "start_time": "2023-02-07T08:51:25.398Z"
   },
   {
    "duration": 3,
    "start_time": "2023-02-07T08:55:18.880Z"
   },
   {
    "duration": 7,
    "start_time": "2023-02-07T09:07:57.405Z"
   },
   {
    "duration": 6,
    "start_time": "2023-02-07T09:09:44.089Z"
   },
   {
    "duration": 5,
    "start_time": "2023-02-07T09:12:57.549Z"
   },
   {
    "duration": 7,
    "start_time": "2023-02-07T09:18:16.199Z"
   },
   {
    "duration": 7,
    "start_time": "2023-02-07T09:27:12.890Z"
   },
   {
    "duration": 5,
    "start_time": "2023-02-07T09:27:19.434Z"
   },
   {
    "duration": 9,
    "start_time": "2023-02-07T09:35:33.901Z"
   },
   {
    "duration": 4,
    "start_time": "2023-02-07T09:56:59.520Z"
   },
   {
    "duration": 4,
    "start_time": "2023-02-07T09:58:13.779Z"
   },
   {
    "duration": 3,
    "start_time": "2023-02-07T10:01:40.733Z"
   },
   {
    "duration": 33,
    "start_time": "2023-02-07T10:01:40.739Z"
   },
   {
    "duration": 13,
    "start_time": "2023-02-07T10:01:40.774Z"
   },
   {
    "duration": 18,
    "start_time": "2023-02-07T10:01:40.788Z"
   },
   {
    "duration": 13,
    "start_time": "2023-02-07T10:01:40.809Z"
   },
   {
    "duration": 104,
    "start_time": "2023-02-07T10:01:40.824Z"
   },
   {
    "duration": 3,
    "start_time": "2023-02-07T10:01:40.930Z"
   },
   {
    "duration": 9,
    "start_time": "2023-02-07T10:01:40.935Z"
   },
   {
    "duration": 9,
    "start_time": "2023-02-07T10:01:40.946Z"
   },
   {
    "duration": 10,
    "start_time": "2023-02-07T10:01:40.956Z"
   },
   {
    "duration": 45916,
    "start_time": "2023-02-07T10:01:40.968Z"
   },
   {
    "duration": 32,
    "start_time": "2023-02-07T10:02:26.886Z"
   },
   {
    "duration": 585,
    "start_time": "2023-02-07T10:02:26.920Z"
   },
   {
    "duration": 5,
    "start_time": "2023-02-07T10:02:27.507Z"
   },
   {
    "duration": 3589,
    "start_time": "2023-02-07T10:02:27.514Z"
   },
   {
    "duration": 5,
    "start_time": "2023-02-07T10:02:31.107Z"
   },
   {
    "duration": 42,
    "start_time": "2023-02-07T10:02:31.114Z"
   },
   {
    "duration": 5,
    "start_time": "2023-02-07T10:02:31.158Z"
   },
   {
    "duration": 29,
    "start_time": "2023-02-07T10:02:31.165Z"
   },
   {
    "duration": 25,
    "start_time": "2023-02-07T10:02:31.196Z"
   },
   {
    "duration": 25,
    "start_time": "2023-02-07T10:02:31.223Z"
   },
   {
    "duration": 20,
    "start_time": "2023-02-07T10:02:31.249Z"
   },
   {
    "duration": 26,
    "start_time": "2023-02-07T10:02:31.270Z"
   }
  ],
  "kernelspec": {
   "display_name": "Python 3 (ipykernel)",
   "language": "python",
   "name": "python3"
  },
  "language_info": {
   "codemirror_mode": {
    "name": "ipython",
    "version": 3
   },
   "file_extension": ".py",
   "mimetype": "text/x-python",
   "name": "python",
   "nbconvert_exporter": "python",
   "pygments_lexer": "ipython3",
   "version": "3.9.13"
  },
  "toc": {
   "base_numbering": 1,
   "nav_menu": {},
   "number_sections": true,
   "sideBar": true,
   "skip_h1_title": true,
   "title_cell": "Table of Contents",
   "title_sidebar": "Contents",
   "toc_cell": false,
   "toc_position": {
    "height": "calc(100% - 180px)",
    "left": "10px",
    "top": "150px",
    "width": "165px"
   },
   "toc_section_display": true,
   "toc_window_display": true
  }
 },
 "nbformat": 4,
 "nbformat_minor": 2
}
