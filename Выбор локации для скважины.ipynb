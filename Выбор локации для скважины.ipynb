{
 "cells": [
  {
   "cell_type": "markdown",
   "metadata": {},
   "source": [
    "# Выбор локации для скважины"
   ]
  },
  {
   "cell_type": "markdown",
   "metadata": {},
   "source": [
    "Допустим, вы работаете в добывающей компании «ГлавРосГосНефть». Нужно решить, где бурить новую скважину.\n",
    "\n",
    "Вам предоставлены пробы нефти в трёх регионах: в каждом 10 000 месторождений, где измерили качество нефти и объём её запасов. Постройте модель машинного обучения, которая поможет определить регион, где добыча принесёт наибольшую прибыль. Проанализируйте возможную прибыль и риски техникой *Bootstrap.*\n",
    "\n",
    "Шаги для выбора локации:\n",
    "\n",
    "- В избранном регионе ищут месторождения, для каждого определяют значения признаков;\n",
    "- Строят модель и оценивают объём запасов;\n",
    "- Выбирают месторождения с самым высокими оценками значений. Количество месторождений зависит от бюджета компании и стоимости разработки одной скважины;\n",
    "- Прибыль равна суммарной прибыли отобранных месторождений."
   ]
  },
  {
   "cell_type": "markdown",
   "metadata": {},
   "source": [
    "## Загрузка и подготовка данных"
   ]
  },
  {
   "cell_type": "markdown",
   "metadata": {},
   "source": [
    "### Импортируем библиотеки"
   ]
  },
  {
   "cell_type": "code",
   "execution_count": 1,
   "metadata": {},
   "outputs": [],
   "source": [
    "# Обработка данных\n",
    "import pandas as pd\n",
    "import numpy as np\n",
    "\n",
    "# Визуализация данных\n",
    "import matplotlib.pyplot as plt\n",
    "import seaborn as sns\n",
    "\n",
    "from sklearn.utils import shuffle\n",
    "from sklearn.model_selection import train_test_split, GridSearchCV, cross_val_score\n",
    "from sklearn.linear_model import LinearRegression, LogisticRegression\n",
    "from sklearn.tree import DecisionTreeRegressor, DecisionTreeClassifier\n",
    "from sklearn.ensemble import RandomForestRegressor, RandomForestClassifier\n",
    "from sklearn.metrics import mean_squared_error\n",
    "from sklearn.preprocessing import StandardScaler"
   ]
  },
  {
   "cell_type": "markdown",
   "metadata": {},
   "source": [
    "### Знакомство с данными"
   ]
  },
  {
   "cell_type": "code",
   "execution_count": 2,
   "metadata": {},
   "outputs": [
    {
     "data": {
      "text/plain": [
       "(      id        f0        f1        f2     product\n",
       " 0  txEyH  0.705745 -0.497823  1.221170  105.280062\n",
       " 1  2acmU  1.334711 -0.340164  4.365080   73.037750\n",
       " 2  409Wp  1.022732  0.151990  1.419926   85.265647\n",
       " 3  iJLyR -0.032172  0.139033  2.978566  168.620776\n",
       " 4  Xdl7t  1.988431  0.155413  4.751769  154.036647,\n",
       "       id         f0         f1        f2     product\n",
       " 0  kBEdx -15.001348  -8.276000 -0.005876    3.179103\n",
       " 1  62mP7  14.272088  -3.475083  0.999183   26.953261\n",
       " 2  vyE1P   6.263187  -5.948386  5.001160  134.766305\n",
       " 3  KcrkZ -13.081196 -11.506057  4.999415  137.945408\n",
       " 4  AHL4O  12.702195  -8.147433  5.004363  134.766305,\n",
       "       id        f0        f1        f2     product\n",
       " 0  fwXo0 -1.146987  0.963328 -0.828965   27.758673\n",
       " 1  WJtFt  0.262778  0.269839 -2.530187   56.069697\n",
       " 2  ovLUW  0.194587  0.289035 -5.586433   62.871910\n",
       " 3  q6cA6  2.236060 -0.553760  0.930038  114.572842\n",
       " 4  WPMUX -0.515993  1.716266  5.899011  149.600746)"
      ]
     },
     "execution_count": 2,
     "metadata": {},
     "output_type": "execute_result"
    }
   ],
   "source": [
    "geo_data_0 = pd.read_csv('/datasets/geo_data_0.csv')\n",
    "geo_data_1 = pd.read_csv('/datasets/geo_data_1.csv')\n",
    "geo_data_2 = pd.read_csv('/datasets/geo_data_2.csv')\n",
    "\n",
    "geo_data_0.head(), geo_data_1.head(), geo_data_2.head()"
   ]
  },
  {
   "cell_type": "markdown",
   "metadata": {},
   "source": [
    "* id — уникальный идентификатор скважины;\n",
    "* f0, f1, f2 — три признака точек;\n",
    "* product — объём запасов в скважине (тыс. баррелей)."
   ]
  },
  {
   "cell_type": "code",
   "execution_count": 3,
   "metadata": {},
   "outputs": [
    {
     "name": "stdout",
     "output_type": "stream",
     "text": [
      "<class 'pandas.core.frame.DataFrame'>\n",
      "RangeIndex: 100000 entries, 0 to 99999\n",
      "Data columns (total 5 columns):\n",
      " #   Column   Non-Null Count   Dtype  \n",
      "---  ------   --------------   -----  \n",
      " 0   id       100000 non-null  object \n",
      " 1   f0       100000 non-null  float64\n",
      " 2   f1       100000 non-null  float64\n",
      " 3   f2       100000 non-null  float64\n",
      " 4   product  100000 non-null  float64\n",
      "dtypes: float64(4), object(1)\n",
      "memory usage: 3.8+ MB\n",
      "----------------------------------------------------\n",
      "<class 'pandas.core.frame.DataFrame'>\n",
      "RangeIndex: 100000 entries, 0 to 99999\n",
      "Data columns (total 5 columns):\n",
      " #   Column   Non-Null Count   Dtype  \n",
      "---  ------   --------------   -----  \n",
      " 0   id       100000 non-null  object \n",
      " 1   f0       100000 non-null  float64\n",
      " 2   f1       100000 non-null  float64\n",
      " 3   f2       100000 non-null  float64\n",
      " 4   product  100000 non-null  float64\n",
      "dtypes: float64(4), object(1)\n",
      "memory usage: 3.8+ MB\n",
      "----------------------------------------------------\n",
      "<class 'pandas.core.frame.DataFrame'>\n",
      "RangeIndex: 100000 entries, 0 to 99999\n",
      "Data columns (total 5 columns):\n",
      " #   Column   Non-Null Count   Dtype  \n",
      "---  ------   --------------   -----  \n",
      " 0   id       100000 non-null  object \n",
      " 1   f0       100000 non-null  float64\n",
      " 2   f1       100000 non-null  float64\n",
      " 3   f2       100000 non-null  float64\n",
      " 4   product  100000 non-null  float64\n",
      "dtypes: float64(4), object(1)\n",
      "memory usage: 3.8+ MB\n"
     ]
    }
   ],
   "source": [
    "geo_data_0.info()\n",
    "print('----------------------------------------------------')\n",
    "geo_data_1.info()\n",
    "print('----------------------------------------------------')\n",
    "geo_data_2.info()"
   ]
  },
  {
   "cell_type": "code",
   "execution_count": 4,
   "metadata": {},
   "outputs": [
    {
     "data": {
      "text/html": [
       "<div>\n",
       "<style scoped>\n",
       "    .dataframe tbody tr th:only-of-type {\n",
       "        vertical-align: middle;\n",
       "    }\n",
       "\n",
       "    .dataframe tbody tr th {\n",
       "        vertical-align: top;\n",
       "    }\n",
       "\n",
       "    .dataframe thead th {\n",
       "        text-align: right;\n",
       "    }\n",
       "</style>\n",
       "<table border=\"1\" class=\"dataframe\">\n",
       "  <thead>\n",
       "    <tr style=\"text-align: right;\">\n",
       "      <th></th>\n",
       "      <th>f0</th>\n",
       "      <th>f1</th>\n",
       "      <th>f2</th>\n",
       "      <th>product</th>\n",
       "    </tr>\n",
       "  </thead>\n",
       "  <tbody>\n",
       "    <tr>\n",
       "      <th>count</th>\n",
       "      <td>100000.000000</td>\n",
       "      <td>100000.000000</td>\n",
       "      <td>100000.000000</td>\n",
       "      <td>100000.000000</td>\n",
       "    </tr>\n",
       "    <tr>\n",
       "      <th>mean</th>\n",
       "      <td>0.500419</td>\n",
       "      <td>0.250143</td>\n",
       "      <td>2.502647</td>\n",
       "      <td>92.500000</td>\n",
       "    </tr>\n",
       "    <tr>\n",
       "      <th>std</th>\n",
       "      <td>0.871832</td>\n",
       "      <td>0.504433</td>\n",
       "      <td>3.248248</td>\n",
       "      <td>44.288691</td>\n",
       "    </tr>\n",
       "    <tr>\n",
       "      <th>min</th>\n",
       "      <td>-1.408605</td>\n",
       "      <td>-0.848218</td>\n",
       "      <td>-12.088328</td>\n",
       "      <td>0.000000</td>\n",
       "    </tr>\n",
       "    <tr>\n",
       "      <th>25%</th>\n",
       "      <td>-0.072580</td>\n",
       "      <td>-0.200881</td>\n",
       "      <td>0.287748</td>\n",
       "      <td>56.497507</td>\n",
       "    </tr>\n",
       "    <tr>\n",
       "      <th>50%</th>\n",
       "      <td>0.502360</td>\n",
       "      <td>0.250252</td>\n",
       "      <td>2.515969</td>\n",
       "      <td>91.849972</td>\n",
       "    </tr>\n",
       "    <tr>\n",
       "      <th>75%</th>\n",
       "      <td>1.073581</td>\n",
       "      <td>0.700646</td>\n",
       "      <td>4.715088</td>\n",
       "      <td>128.564089</td>\n",
       "    </tr>\n",
       "    <tr>\n",
       "      <th>max</th>\n",
       "      <td>2.362331</td>\n",
       "      <td>1.343769</td>\n",
       "      <td>16.003790</td>\n",
       "      <td>185.364347</td>\n",
       "    </tr>\n",
       "  </tbody>\n",
       "</table>\n",
       "</div>"
      ],
      "text/plain": [
       "                  f0             f1             f2        product\n",
       "count  100000.000000  100000.000000  100000.000000  100000.000000\n",
       "mean        0.500419       0.250143       2.502647      92.500000\n",
       "std         0.871832       0.504433       3.248248      44.288691\n",
       "min        -1.408605      -0.848218     -12.088328       0.000000\n",
       "25%        -0.072580      -0.200881       0.287748      56.497507\n",
       "50%         0.502360       0.250252       2.515969      91.849972\n",
       "75%         1.073581       0.700646       4.715088     128.564089\n",
       "max         2.362331       1.343769      16.003790     185.364347"
      ]
     },
     "execution_count": 4,
     "metadata": {},
     "output_type": "execute_result"
    }
   ],
   "source": [
    "geo_data_0.describe()"
   ]
  },
  {
   "cell_type": "code",
   "execution_count": 5,
   "metadata": {},
   "outputs": [
    {
     "data": {
      "text/html": [
       "<div>\n",
       "<style scoped>\n",
       "    .dataframe tbody tr th:only-of-type {\n",
       "        vertical-align: middle;\n",
       "    }\n",
       "\n",
       "    .dataframe tbody tr th {\n",
       "        vertical-align: top;\n",
       "    }\n",
       "\n",
       "    .dataframe thead th {\n",
       "        text-align: right;\n",
       "    }\n",
       "</style>\n",
       "<table border=\"1\" class=\"dataframe\">\n",
       "  <thead>\n",
       "    <tr style=\"text-align: right;\">\n",
       "      <th></th>\n",
       "      <th>f0</th>\n",
       "      <th>f1</th>\n",
       "      <th>f2</th>\n",
       "      <th>product</th>\n",
       "    </tr>\n",
       "  </thead>\n",
       "  <tbody>\n",
       "    <tr>\n",
       "      <th>count</th>\n",
       "      <td>100000.000000</td>\n",
       "      <td>100000.000000</td>\n",
       "      <td>100000.000000</td>\n",
       "      <td>100000.000000</td>\n",
       "    </tr>\n",
       "    <tr>\n",
       "      <th>mean</th>\n",
       "      <td>1.141296</td>\n",
       "      <td>-4.796579</td>\n",
       "      <td>2.494541</td>\n",
       "      <td>68.825000</td>\n",
       "    </tr>\n",
       "    <tr>\n",
       "      <th>std</th>\n",
       "      <td>8.965932</td>\n",
       "      <td>5.119872</td>\n",
       "      <td>1.703572</td>\n",
       "      <td>45.944423</td>\n",
       "    </tr>\n",
       "    <tr>\n",
       "      <th>min</th>\n",
       "      <td>-31.609576</td>\n",
       "      <td>-26.358598</td>\n",
       "      <td>-0.018144</td>\n",
       "      <td>0.000000</td>\n",
       "    </tr>\n",
       "    <tr>\n",
       "      <th>25%</th>\n",
       "      <td>-6.298551</td>\n",
       "      <td>-8.267985</td>\n",
       "      <td>1.000021</td>\n",
       "      <td>26.953261</td>\n",
       "    </tr>\n",
       "    <tr>\n",
       "      <th>50%</th>\n",
       "      <td>1.153055</td>\n",
       "      <td>-4.813172</td>\n",
       "      <td>2.011479</td>\n",
       "      <td>57.085625</td>\n",
       "    </tr>\n",
       "    <tr>\n",
       "      <th>75%</th>\n",
       "      <td>8.621015</td>\n",
       "      <td>-1.332816</td>\n",
       "      <td>3.999904</td>\n",
       "      <td>107.813044</td>\n",
       "    </tr>\n",
       "    <tr>\n",
       "      <th>max</th>\n",
       "      <td>29.421755</td>\n",
       "      <td>18.734063</td>\n",
       "      <td>5.019721</td>\n",
       "      <td>137.945408</td>\n",
       "    </tr>\n",
       "  </tbody>\n",
       "</table>\n",
       "</div>"
      ],
      "text/plain": [
       "                  f0             f1             f2        product\n",
       "count  100000.000000  100000.000000  100000.000000  100000.000000\n",
       "mean        1.141296      -4.796579       2.494541      68.825000\n",
       "std         8.965932       5.119872       1.703572      45.944423\n",
       "min       -31.609576     -26.358598      -0.018144       0.000000\n",
       "25%        -6.298551      -8.267985       1.000021      26.953261\n",
       "50%         1.153055      -4.813172       2.011479      57.085625\n",
       "75%         8.621015      -1.332816       3.999904     107.813044\n",
       "max        29.421755      18.734063       5.019721     137.945408"
      ]
     },
     "execution_count": 5,
     "metadata": {},
     "output_type": "execute_result"
    }
   ],
   "source": [
    "geo_data_1.describe()"
   ]
  },
  {
   "cell_type": "code",
   "execution_count": 6,
   "metadata": {},
   "outputs": [
    {
     "data": {
      "text/html": [
       "<div>\n",
       "<style scoped>\n",
       "    .dataframe tbody tr th:only-of-type {\n",
       "        vertical-align: middle;\n",
       "    }\n",
       "\n",
       "    .dataframe tbody tr th {\n",
       "        vertical-align: top;\n",
       "    }\n",
       "\n",
       "    .dataframe thead th {\n",
       "        text-align: right;\n",
       "    }\n",
       "</style>\n",
       "<table border=\"1\" class=\"dataframe\">\n",
       "  <thead>\n",
       "    <tr style=\"text-align: right;\">\n",
       "      <th></th>\n",
       "      <th>f0</th>\n",
       "      <th>f1</th>\n",
       "      <th>f2</th>\n",
       "      <th>product</th>\n",
       "    </tr>\n",
       "  </thead>\n",
       "  <tbody>\n",
       "    <tr>\n",
       "      <th>count</th>\n",
       "      <td>100000.000000</td>\n",
       "      <td>100000.000000</td>\n",
       "      <td>100000.000000</td>\n",
       "      <td>100000.000000</td>\n",
       "    </tr>\n",
       "    <tr>\n",
       "      <th>mean</th>\n",
       "      <td>0.002023</td>\n",
       "      <td>-0.002081</td>\n",
       "      <td>2.495128</td>\n",
       "      <td>95.000000</td>\n",
       "    </tr>\n",
       "    <tr>\n",
       "      <th>std</th>\n",
       "      <td>1.732045</td>\n",
       "      <td>1.730417</td>\n",
       "      <td>3.473445</td>\n",
       "      <td>44.749921</td>\n",
       "    </tr>\n",
       "    <tr>\n",
       "      <th>min</th>\n",
       "      <td>-8.760004</td>\n",
       "      <td>-7.084020</td>\n",
       "      <td>-11.970335</td>\n",
       "      <td>0.000000</td>\n",
       "    </tr>\n",
       "    <tr>\n",
       "      <th>25%</th>\n",
       "      <td>-1.162288</td>\n",
       "      <td>-1.174820</td>\n",
       "      <td>0.130359</td>\n",
       "      <td>59.450441</td>\n",
       "    </tr>\n",
       "    <tr>\n",
       "      <th>50%</th>\n",
       "      <td>0.009424</td>\n",
       "      <td>-0.009482</td>\n",
       "      <td>2.484236</td>\n",
       "      <td>94.925613</td>\n",
       "    </tr>\n",
       "    <tr>\n",
       "      <th>75%</th>\n",
       "      <td>1.158535</td>\n",
       "      <td>1.163678</td>\n",
       "      <td>4.858794</td>\n",
       "      <td>130.595027</td>\n",
       "    </tr>\n",
       "    <tr>\n",
       "      <th>max</th>\n",
       "      <td>7.238262</td>\n",
       "      <td>7.844801</td>\n",
       "      <td>16.739402</td>\n",
       "      <td>190.029838</td>\n",
       "    </tr>\n",
       "  </tbody>\n",
       "</table>\n",
       "</div>"
      ],
      "text/plain": [
       "                  f0             f1             f2        product\n",
       "count  100000.000000  100000.000000  100000.000000  100000.000000\n",
       "mean        0.002023      -0.002081       2.495128      95.000000\n",
       "std         1.732045       1.730417       3.473445      44.749921\n",
       "min        -8.760004      -7.084020     -11.970335       0.000000\n",
       "25%        -1.162288      -1.174820       0.130359      59.450441\n",
       "50%         0.009424      -0.009482       2.484236      94.925613\n",
       "75%         1.158535       1.163678       4.858794     130.595027\n",
       "max         7.238262       7.844801      16.739402     190.029838"
      ]
     },
     "execution_count": 6,
     "metadata": {},
     "output_type": "execute_result"
    }
   ],
   "source": [
    "geo_data_2.describe()"
   ]
  },
  {
   "cell_type": "markdown",
   "metadata": {},
   "source": [
    "### Обработка данных"
   ]
  },
  {
   "cell_type": "code",
   "execution_count": 7,
   "metadata": {},
   "outputs": [],
   "source": [
    "# Удалим столбец id\n",
    "\n",
    "geo_data_0 = geo_data_0.drop(columns=['id'])\n",
    "geo_data_1 = geo_data_1.drop(columns=['id'])\n",
    "geo_data_2 = geo_data_2.drop(columns=['id'])"
   ]
  },
  {
   "cell_type": "markdown",
   "metadata": {},
   "source": [
    "Поиск дубликатов"
   ]
  },
  {
   "cell_type": "code",
   "execution_count": 8,
   "metadata": {},
   "outputs": [
    {
     "data": {
      "text/plain": [
       "0"
      ]
     },
     "execution_count": 8,
     "metadata": {},
     "output_type": "execute_result"
    }
   ],
   "source": [
    "geo_data_0.duplicated().sum()"
   ]
  },
  {
   "cell_type": "code",
   "execution_count": 9,
   "metadata": {},
   "outputs": [
    {
     "data": {
      "text/plain": [
       "0"
      ]
     },
     "execution_count": 9,
     "metadata": {},
     "output_type": "execute_result"
    }
   ],
   "source": [
    "geo_data_1.duplicated().sum()"
   ]
  },
  {
   "cell_type": "code",
   "execution_count": 10,
   "metadata": {},
   "outputs": [
    {
     "data": {
      "text/plain": [
       "0"
      ]
     },
     "execution_count": 10,
     "metadata": {},
     "output_type": "execute_result"
    }
   ],
   "source": [
    "geo_data_2.duplicated().sum()"
   ]
  },
  {
   "cell_type": "markdown",
   "metadata": {},
   "source": [
    "## Обучение и проверка модели"
   ]
  },
  {
   "cell_type": "markdown",
   "metadata": {},
   "source": [
    "* **Для обучения будем использовать модель \"Линейной регрессии\".**\n",
    "* **Разобьём данные на обучающую и валидационную выборки в соотношении 75:25**\n",
    "* **Проанализируем средний запас предсказанного сырья и RMSE модели.**"
   ]
  },
  {
   "cell_type": "code",
   "execution_count": 11,
   "metadata": {},
   "outputs": [],
   "source": [
    "STATE = np.random.RandomState(12345)"
   ]
  },
  {
   "cell_type": "markdown",
   "metadata": {},
   "source": [
    "### Регион №1"
   ]
  },
  {
   "cell_type": "code",
   "execution_count": 12,
   "metadata": {},
   "outputs": [
    {
     "name": "stdout",
     "output_type": "stream",
     "text": [
      "RMSE: 37.5794217150813\n",
      "Средний предсказанный запас: 92.59256778438035\n",
      "Средний реальный запас: 92.07859674082927\n"
     ]
    }
   ],
   "source": [
    "target_0 = geo_data_0['product']\n",
    "features_0 = geo_data_0.drop('product', axis=1)\n",
    "features_train_0, features_valid_0, target_train_0, target_valid_0 = train_test_split(\n",
    "    features_0, target_0, test_size=0.25, random_state=STATE)\n",
    "\n",
    "model = LinearRegression()\n",
    "model.fit(features_train_0, target_train_0)\n",
    "predicted_valid_0 = model.predict(features_valid_0)\n",
    "mse = mean_squared_error(target_valid_0, predicted_valid_0)\n",
    "\n",
    "print('RMSE:', mse**0.5)\n",
    "print('Средний предсказанный запас:', predicted_valid_0.mean())\n",
    "print('Средний реальный запас:', target_valid_0.mean())"
   ]
  },
  {
   "cell_type": "markdown",
   "metadata": {},
   "source": [
    "### Регион №2"
   ]
  },
  {
   "cell_type": "code",
   "execution_count": 13,
   "metadata": {},
   "outputs": [
    {
     "name": "stdout",
     "output_type": "stream",
     "text": [
      "RMSE: 0.889736773768065\n",
      "Средний предсказанный запас: 68.76995145799754\n",
      "Средний реальный запас: 68.77162424984647\n"
     ]
    }
   ],
   "source": [
    "target_1 = geo_data_1['product']\n",
    "features_1 = geo_data_1.drop('product', axis=1)\n",
    "features_train_1, features_valid_1, target_train_1, target_valid_1 = train_test_split(\n",
    "    features_1, target_1, test_size=0.25, random_state=STATE)\n",
    "\n",
    "model = LinearRegression()\n",
    "model.fit(features_train_1, target_train_1)\n",
    "predicted_valid_1 = model.predict(features_valid_1)\n",
    "mse = mean_squared_error(target_valid_1, predicted_valid_1)\n",
    "\n",
    "print('RMSE:', mse**0.5)\n",
    "print('Средний предсказанный запас:', predicted_valid_1.mean())\n",
    "print('Средний реальный запас:', target_valid_1.mean())"
   ]
  },
  {
   "cell_type": "markdown",
   "metadata": {},
   "source": [
    "### Регион №3"
   ]
  },
  {
   "cell_type": "code",
   "execution_count": 14,
   "metadata": {},
   "outputs": [
    {
     "name": "stdout",
     "output_type": "stream",
     "text": [
      "RMSE: 39.958042459521614\n",
      "Средний предсказанный запас: 95.087528122523\n",
      "Средний реальный запас: 94.74895871720241\n"
     ]
    }
   ],
   "source": [
    "target_2 = geo_data_2['product']\n",
    "features_2 = geo_data_2.drop('product', axis=1)\n",
    "features_train_2, features_valid_2, target_train_2, target_valid_2 = train_test_split(\n",
    "    features_2, target_2, test_size=0.25, random_state=STATE)\n",
    "\n",
    "model = LinearRegression()\n",
    "model.fit(features_train_2, target_train_2)\n",
    "predicted_valid_2 = model.predict(features_valid_2)\n",
    "mse = mean_squared_error(target_valid_2, predicted_valid_2)\n",
    "\n",
    "print('RMSE:', mse**0.5)\n",
    "print('Средний предсказанный запас:', predicted_valid_2.mean())\n",
    "print('Средний реальный запас:', target_valid_2.mean())"
   ]
  },
  {
   "cell_type": "markdown",
   "metadata": {},
   "source": [
    "**Вывод:** Хороший результат RMSE:0.89 показывает Регион№2, к сожалению данный регион с самым низким среднем показателем запаса сырья 68.76. У Регион№1 и Регион№3 предсказанный запас сырья 92.59 и 94.96 соответственно, но сильно большой позатель RMSE №1: 37.57 и RMSE №3: 40.02."
   ]
  },
  {
   "cell_type": "markdown",
   "metadata": {},
   "source": [
    "## Подготовка к расчёту прибыли"
   ]
  },
  {
   "cell_type": "code",
   "execution_count": 15,
   "metadata": {},
   "outputs": [],
   "source": [
    "# Запишем все ключевые значения для расчётов в отдельные переменные\n",
    "\n",
    "POINTS = 500\n",
    "BEST_POINTS = 200\n",
    "BUDGET = 10e9\n",
    "PRICE_ONETHOUSAND_BARREL = 450000"
   ]
  },
  {
   "cell_type": "code",
   "execution_count": 16,
   "metadata": {},
   "outputs": [
    {
     "name": "stdout",
     "output_type": "stream",
     "text": [
      "Объём сырья для безубыточной разработки: 111.11\n"
     ]
    }
   ],
   "source": [
    "# Расчитаем достаточный объём сырья для безубыточной разработки новой скважины.\n",
    "\n",
    "threshold_barrel = BUDGET / (PRICE_ONETHOUSAND_BARREL) / BEST_POINTS\n",
    "print('Объём сырья для безубыточной разработки:', round(threshold_barrel, 2))"
   ]
  },
  {
   "cell_type": "markdown",
   "metadata": {},
   "source": [
    "Минимальный объем сырья должен составлять 111.11 тыс. баррелей, при этом с нашим среднем предсказанным объемом не дотягиваем и до 100, а регион который показал самый лучший результат RMSE:0.89 и того средний запас составляет 68.72 тыс. баррелей. "
   ]
  },
  {
   "cell_type": "markdown",
   "metadata": {},
   "source": [
    "## Расчёт прибыли и рисков "
   ]
  },
  {
   "cell_type": "code",
   "execution_count": 17,
   "metadata": {},
   "outputs": [],
   "source": [
    "def revenue(target, predictions):\n",
    "    \n",
    "    \"\"\"Функция находит 200 лучших скважин и считает прибыль\"\"\"\n",
    "    \n",
    "    pred_sorted = pd.Series(predictions).sort_values(ascending=False)\n",
    "    profit = target.iloc[pred_sorted.index][:BEST_POINTS]\n",
    "    return profit.sum() * PRICE_ONETHOUSAND_BARREL - BUDGET"
   ]
  },
  {
   "cell_type": "code",
   "execution_count": 18,
   "metadata": {},
   "outputs": [],
   "source": [
    "def profit(targets, predict):\n",
    "    \n",
    "    \"\"\"Функция для подсчета ср. прибыли, 95%-й доверительный интервал  и риск убытков,\n",
    "    для выбранных скважин, в которой сгенерируем 1000 выборок.\"\"\"  \n",
    "\n",
    "    values = []\n",
    "    for i in range(1000):\n",
    "        predict_subsample = pd.Series(predict).sample(n=POINTS, replace=True, random_state=STATE)\n",
    "        values.append(revenue(targets,predict_subsample))\n",
    "        \n",
    "    values = pd.Series(values)\n",
    "    confidence_interval = (values.quantile(0.025),values.quantile(0.975)) \n",
    "    \n",
    "    print('Cредняя прибыль:', values.mean())\n",
    "    print('Доверительный интервал:', confidence_interval)\n",
    "    print('Риск убытков:', (values < 0).mean())\n",
    "    sns.boxplot(x=values, orient='h', width=0.3)"
   ]
  },
  {
   "cell_type": "code",
   "execution_count": 19,
   "metadata": {},
   "outputs": [
    {
     "name": "stdout",
     "output_type": "stream",
     "text": [
      "Cредняя прибыль: 394284411.3405507\n",
      "Доверительный интервал: (-69450566.85672115, 915496165.8311511)\n",
      "Риск убытков: 0.061\n"
     ]
    },
    {
     "data": {
      "image/png": "[encoded data removed]",
      "text/plain": [
       "<Figure size 432x288 with 1 Axes>"
      ]
     },
     "metadata": {
      "needs_background": "light"
     },
     "output_type": "display_data"
    }
   ],
   "source": [
    "profit(target_valid_0, predicted_valid_0)"
   ]
  },
  {
   "cell_type": "code",
   "execution_count": 20,
   "metadata": {
    "scrolled": true
   },
   "outputs": [
    {
     "name": "stdout",
     "output_type": "stream",
     "text": [
      "Cредняя прибыль: 454736359.0973578\n",
      "Доверительный интервал: (61071811.297698975, 855914149.1428356)\n",
      "Риск убытков: 0.007\n"
     ]
    },
    {
     "data": {
      "image/png": "[encoded data removed]",
      "text/plain": [
       "<Figure size 432x288 with 1 Axes>"
      ]
     },
     "metadata": {
      "needs_background": "light"
     },
     "output_type": "display_data"
    }
   ],
   "source": [
    "profit(target_valid_1, predicted_valid_1)"
   ]
  },
  {
   "cell_type": "code",
   "execution_count": 21,
   "metadata": {},
   "outputs": [
    {
     "name": "stdout",
     "output_type": "stream",
     "text": [
      "Cредняя прибыль: 353664097.5248346\n",
      "Доверительный интервал: (-162650946.9422927, 847761844.5147682)\n",
      "Риск убытков: 0.076\n"
     ]
    },
    {
     "data": {
      "image/png": "[encoded data removed]",
      "text/plain": [
       "<Figure size 432x288 with 1 Axes>"
      ]
     },
     "metadata": {
      "needs_background": "light"
     },
     "output_type": "display_data"
    }
   ],
   "source": [
    "profit(target_valid_2, predicted_valid_2)"
   ]
  },
  {
   "cell_type": "markdown",
   "metadata": {},
   "source": [
    "**Вывод:** И так, задачей данного проекта было определить самый прибыльный регион из трех доступных для бурения новых скважин.\n",
    "Для начала мы предсказали средний объём по каждому региону, воспользовавшись моделью Линейной регрессии. Определили качество модели с помощью **RMSE**. И получили следующие результаты.\n",
    "\n",
    "* Регион №1: RMSE = 37.77, Средний предсказанный запас = 92 и Средний реальный запас = 92.\n",
    "* Регион №2: RMSE = 0.88, Средний предсказанный запас = 68 и Средний реальный запас = 68.\n",
    "* Регион №3: RMSE = 40.03, Средний предсказанный запас = 94 и Средний реальный запас = 94.\n",
    "\n",
    "По расчетам,  для безубыточной разработки новой скважины минимальный объем должен был составлять 111.11 тыс. баррелей. \n",
    "При условии, что на разработку в регионе бюджет составляет 10 млдр. руб.. А стоимость  1 тыс. баррелей при нынешнией цене 450 тыс. рублей. Для расчета прибыли мы взяли 200 лучших скважин, самым большим объемом сырья.  \n",
    "Мы рассчитали среднею прибыль, доверительный интервал и риски убытков для каждого региона. \n",
    "\n",
    "* Регион №1: \n",
    "        Cредняя прибыль 200 лучших скважин составила 0.39 млрд. руб.\n",
    "        Доверительный интервал: (-93919399.11819586, 935053013.565755)\n",
    "        Риск убытков: 5%\n",
    "* Регион №2:\n",
    "        Cредняя прибыль 200 лучших скважин составила 0.43 млрд. руб.\n",
    "        Доверительный интервал: (39620643.840192705, 854519317.8844535)     \n",
    "        Риск убытков: 1%\n",
    "* Регион №3:\n",
    "        Cредняя прибыль 200 лучших скважин составила 0.34 млрд. руб.\n",
    "        Доверительный интервал: (-166403223.3065491, 815158158.1911238)\n",
    "        Риск убытков: 9%\n",
    "\n",
    "Подводя итоги, рекомендованный Регон№2, т.к. средняя прибыль составила 0.43 млрд. руб. и положительный доверительный интервал. Риск убытков при этом всего 1%."
   ]
  },
  {
   "cell_type": "markdown",
   "metadata": {},
   "source": [
    "## Чек-лист готовности проекта"
   ]
  },
  {
   "cell_type": "markdown",
   "metadata": {},
   "source": [
    "Поставьте 'x' в выполненных пунктах. Далее нажмите Shift+Enter."
   ]
  },
  {
   "cell_type": "markdown",
   "metadata": {},
   "source": [
    "- [x]  Jupyter Notebook открыт\n",
    "- [ ]  Весь код выполняется без ошибок\n",
    "- [ ]  Ячейки с кодом расположены в порядке исполнения\n",
    "- [ ]  Выполнен шаг 1: данные подготовлены\n",
    "- [ ]  Выполнен шаг 2: модели обучены и проверены\n",
    "    - [ ]  Данные корректно разбиты на обучающую и валидационную выборки\n",
    "    - [ ]  Модели обучены, предсказания сделаны\n",
    "    - [ ]  Предсказания и правильные ответы на валидационной выборке сохранены\n",
    "    - [ ]  На экране напечатаны результаты\n",
    "    - [ ]  Сделаны выводы\n",
    "- [ ]  Выполнен шаг 3: проведена подготовка к расчёту прибыли\n",
    "    - [ ]  Для всех ключевых значений созданы константы Python\n",
    "    - [ ]  Посчитано минимальное среднее количество продукта в месторождениях региона, достаточное для разработки\n",
    "    - [ ]  По предыдущему пункту сделаны выводы\n",
    "    - [ ]  Написана функция расчёта прибыли\n",
    "- [ ]  Выполнен шаг 4: посчитаны риски и прибыль\n",
    "    - [ ]  Проведена процедура *Bootstrap*\n",
    "    - [ ]  Все параметры бутстрепа соответствуют условию\n",
    "    - [ ]  Найдены все нужные величины\n",
    "    - [ ]  Предложен регион для разработки месторождения\n",
    "    - [ ]  Выбор региона обоснован"
   ]
  },
  {
   "cell_type": "code",
   "execution_count": null,
   "metadata": {},
   "outputs": [],
   "source": []
  }
 ],
 "metadata": {
  "ExecuteTimeLog": [
   {
    "duration": 1396,
    "start_time": "2023-03-04T13:15:59.468Z"
   },
   {
    "duration": 1741,
    "start_time": "2023-03-04T13:30:02.730Z"
   },
   {
    "duration": 26,
    "start_time": "2023-03-04T13:31:01.402Z"
   },
   {
    "duration": 57,
    "start_time": "2023-03-04T13:31:43.207Z"
   },
   {
    "duration": 102,
    "start_time": "2023-03-04T13:31:48.048Z"
   },
   {
    "duration": 14,
    "start_time": "2023-03-04T13:32:07.908Z"
   },
   {
    "duration": 17,
    "start_time": "2023-03-04T13:32:44.848Z"
   },
   {
    "duration": 422,
    "start_time": "2023-03-04T13:32:57.566Z"
   },
   {
    "duration": 17,
    "start_time": "2023-03-04T14:06:39.590Z"
   },
   {
    "duration": 34,
    "start_time": "2023-03-04T14:06:51.733Z"
   },
   {
    "duration": 33,
    "start_time": "2023-03-04T14:07:15.172Z"
   },
   {
    "duration": 90,
    "start_time": "2023-03-04T14:07:29.217Z"
   },
   {
    "duration": 39,
    "start_time": "2023-03-04T14:07:42.679Z"
   },
   {
    "duration": 40,
    "start_time": "2023-03-04T14:12:01.846Z"
   },
   {
    "duration": 34,
    "start_time": "2023-03-04T15:47:25.671Z"
   },
   {
    "duration": 10,
    "start_time": "2023-03-04T15:47:33.329Z"
   },
   {
    "duration": 34,
    "start_time": "2023-03-04T15:47:41.560Z"
   },
   {
    "duration": 18,
    "start_time": "2023-03-04T16:03:26.906Z"
   },
   {
    "duration": 18,
    "start_time": "2023-03-04T16:03:40.024Z"
   },
   {
    "duration": 17,
    "start_time": "2023-03-04T16:03:46.966Z"
   },
   {
    "duration": 11,
    "start_time": "2023-03-04T16:10:08.159Z"
   },
   {
    "duration": 9,
    "start_time": "2023-03-04T16:10:22.171Z"
   },
   {
    "duration": 2,
    "start_time": "2023-03-04T16:20:47.670Z"
   },
   {
    "duration": 9,
    "start_time": "2023-03-04T16:43:54.968Z"
   },
   {
    "duration": 5,
    "start_time": "2023-03-04T16:44:12.662Z"
   },
   {
    "duration": 12,
    "start_time": "2023-03-04T16:54:30.491Z"
   },
   {
    "duration": 276,
    "start_time": "2023-03-04T16:55:00.247Z"
   },
   {
    "duration": 25,
    "start_time": "2023-03-04T16:55:13.628Z"
   },
   {
    "duration": 25,
    "start_time": "2023-03-04T16:57:00.408Z"
   },
   {
    "duration": 51,
    "start_time": "2023-03-04T17:04:17.525Z"
   },
   {
    "duration": 34,
    "start_time": "2023-03-04T17:06:00.666Z"
   },
   {
    "duration": 32,
    "start_time": "2023-03-04T17:06:09.997Z"
   },
   {
    "duration": 31,
    "start_time": "2023-03-04T17:08:17.290Z"
   },
   {
    "duration": 10,
    "start_time": "2023-03-04T17:12:07.493Z"
   },
   {
    "duration": 15,
    "start_time": "2023-03-04T17:12:10.123Z"
   },
   {
    "duration": 15,
    "start_time": "2023-03-04T17:12:12.205Z"
   },
   {
    "duration": 17,
    "start_time": "2023-03-04T17:12:54.627Z"
   },
   {
    "duration": 18,
    "start_time": "2023-03-04T17:12:59.912Z"
   },
   {
    "duration": 20,
    "start_time": "2023-03-04T17:54:59.358Z"
   },
   {
    "duration": 5,
    "start_time": "2023-03-04T17:55:33.612Z"
   },
   {
    "duration": 20,
    "start_time": "2023-03-04T17:55:37.387Z"
   },
   {
    "duration": 21,
    "start_time": "2023-03-04T17:59:07.841Z"
   },
   {
    "duration": 16,
    "start_time": "2023-03-04T17:59:20.295Z"
   },
   {
    "duration": 17,
    "start_time": "2023-03-04T18:01:51.757Z"
   },
   {
    "duration": 16,
    "start_time": "2023-03-04T18:02:50.370Z"
   },
   {
    "duration": 15,
    "start_time": "2023-03-04T18:02:58.540Z"
   },
   {
    "duration": 37,
    "start_time": "2023-03-04T18:04:45.084Z"
   },
   {
    "duration": 34,
    "start_time": "2023-03-04T18:10:02.084Z"
   },
   {
    "duration": 37,
    "start_time": "2023-03-04T18:17:56.981Z"
   },
   {
    "duration": 32,
    "start_time": "2023-03-04T18:23:34.990Z"
   },
   {
    "duration": 60,
    "start_time": "2023-03-04T18:24:14.289Z"
   },
   {
    "duration": 14,
    "start_time": "2023-03-04T18:24:18.289Z"
   },
   {
    "duration": 16,
    "start_time": "2023-03-04T18:24:47.176Z"
   },
   {
    "duration": 1637,
    "start_time": "2023-03-07T09:25:32.405Z"
   },
   {
    "duration": 1580,
    "start_time": "2023-03-07T09:25:34.044Z"
   },
   {
    "duration": 34,
    "start_time": "2023-03-07T09:25:35.626Z"
   },
   {
    "duration": 36,
    "start_time": "2023-03-07T09:25:35.662Z"
   },
   {
    "duration": 49,
    "start_time": "2023-03-07T09:25:35.699Z"
   },
   {
    "duration": 36,
    "start_time": "2023-03-07T09:25:35.750Z"
   },
   {
    "duration": 10,
    "start_time": "2023-03-07T09:25:35.787Z"
   },
   {
    "duration": 39,
    "start_time": "2023-03-07T09:25:35.799Z"
   },
   {
    "duration": 85,
    "start_time": "2023-03-07T09:25:35.840Z"
   },
   {
    "duration": 17,
    "start_time": "2023-03-07T09:26:36.788Z"
   },
   {
    "duration": 16,
    "start_time": "2023-03-07T09:27:34.724Z"
   },
   {
    "duration": 16,
    "start_time": "2023-03-07T09:28:14.748Z"
   },
   {
    "duration": 15,
    "start_time": "2023-03-07T09:48:12.081Z"
   },
   {
    "duration": 293,
    "start_time": "2023-03-07T09:48:43.529Z"
   },
   {
    "duration": 17,
    "start_time": "2023-03-07T09:48:49.262Z"
   },
   {
    "duration": 18,
    "start_time": "2023-03-07T09:48:51.938Z"
   },
   {
    "duration": 17,
    "start_time": "2023-03-07T12:27:00.041Z"
   },
   {
    "duration": 50,
    "start_time": "2023-03-07T12:27:36.396Z"
   },
   {
    "duration": 48,
    "start_time": "2023-03-07T12:28:40.898Z"
   },
   {
    "duration": 2429,
    "start_time": "2023-03-07T12:28:45.634Z"
   },
   {
    "duration": 1640,
    "start_time": "2023-03-07T12:28:48.065Z"
   },
   {
    "duration": 38,
    "start_time": "2023-03-07T12:28:49.707Z"
   },
   {
    "duration": 39,
    "start_time": "2023-03-07T12:28:49.748Z"
   },
   {
    "duration": 47,
    "start_time": "2023-03-07T12:28:49.789Z"
   },
   {
    "duration": 38,
    "start_time": "2023-03-07T12:28:49.837Z"
   },
   {
    "duration": 19,
    "start_time": "2023-03-07T12:28:49.877Z"
   },
   {
    "duration": 32,
    "start_time": "2023-03-07T12:28:49.898Z"
   },
   {
    "duration": 53,
    "start_time": "2023-03-07T12:29:23.306Z"
   },
   {
    "duration": 2716,
    "start_time": "2023-03-07T12:29:26.728Z"
   },
   {
    "duration": 1651,
    "start_time": "2023-03-07T12:29:29.447Z"
   },
   {
    "duration": 35,
    "start_time": "2023-03-07T12:29:31.100Z"
   },
   {
    "duration": 40,
    "start_time": "2023-03-07T12:29:31.137Z"
   },
   {
    "duration": 46,
    "start_time": "2023-03-07T12:29:31.178Z"
   },
   {
    "duration": 35,
    "start_time": "2023-03-07T12:29:31.225Z"
   },
   {
    "duration": 12,
    "start_time": "2023-03-07T12:29:31.261Z"
   },
   {
    "duration": 25,
    "start_time": "2023-03-07T12:29:31.274Z"
   },
   {
    "duration": 14,
    "start_time": "2023-03-07T12:29:32.921Z"
   },
   {
    "duration": 46,
    "start_time": "2023-03-07T12:53:23.609Z"
   },
   {
    "duration": 1437,
    "start_time": "2023-03-07T12:53:29.074Z"
   },
   {
    "duration": 1593,
    "start_time": "2023-03-07T12:53:30.514Z"
   },
   {
    "duration": 34,
    "start_time": "2023-03-07T12:53:32.109Z"
   },
   {
    "duration": 39,
    "start_time": "2023-03-07T12:53:32.145Z"
   },
   {
    "duration": 43,
    "start_time": "2023-03-07T12:53:32.186Z"
   },
   {
    "duration": 35,
    "start_time": "2023-03-07T12:53:32.230Z"
   },
   {
    "duration": 10,
    "start_time": "2023-03-07T12:53:32.266Z"
   },
   {
    "duration": 18,
    "start_time": "2023-03-07T12:53:32.277Z"
   },
   {
    "duration": 13,
    "start_time": "2023-03-07T12:53:33.153Z"
   },
   {
    "duration": 933,
    "start_time": "2023-03-07T12:53:33.454Z"
   },
   {
    "duration": 137,
    "start_time": "2023-03-07T12:53:51.682Z"
   },
   {
    "duration": 792,
    "start_time": "2023-03-07T12:54:17.326Z"
   },
   {
    "duration": 13,
    "start_time": "2023-03-07T12:56:01.211Z"
   },
   {
    "duration": 20,
    "start_time": "2023-03-07T12:56:02.093Z"
   },
   {
    "duration": 15,
    "start_time": "2023-03-07T12:56:02.422Z"
   },
   {
    "duration": 19,
    "start_time": "2023-03-07T12:56:02.594Z"
   },
   {
    "duration": 17,
    "start_time": "2023-03-07T12:56:02.923Z"
   },
   {
    "duration": 18,
    "start_time": "2023-03-07T12:56:03.816Z"
   },
   {
    "duration": 4,
    "start_time": "2023-03-07T14:14:23.030Z"
   },
   {
    "duration": 4,
    "start_time": "2023-03-07T14:14:40.855Z"
   },
   {
    "duration": 3,
    "start_time": "2023-03-07T14:22:08.775Z"
   },
   {
    "duration": 3,
    "start_time": "2023-03-07T14:23:42.956Z"
   },
   {
    "duration": 4,
    "start_time": "2023-03-07T14:23:47.655Z"
   },
   {
    "duration": 4,
    "start_time": "2023-03-07T14:25:52.600Z"
   },
   {
    "duration": 4,
    "start_time": "2023-03-07T14:29:46.384Z"
   },
   {
    "duration": 3,
    "start_time": "2023-03-07T14:30:06.933Z"
   },
   {
    "duration": 46,
    "start_time": "2023-03-07T14:32:38.385Z"
   },
   {
    "duration": 3,
    "start_time": "2023-03-07T14:32:42.420Z"
   },
   {
    "duration": 4,
    "start_time": "2023-03-07T14:32:57.311Z"
   },
   {
    "duration": 3,
    "start_time": "2023-03-07T14:36:52.498Z"
   },
   {
    "duration": 3,
    "start_time": "2023-03-07T15:40:13.932Z"
   },
   {
    "duration": 51,
    "start_time": "2023-03-07T15:59:31.450Z"
   },
   {
    "duration": 4,
    "start_time": "2023-03-07T15:59:35.307Z"
   },
   {
    "duration": 3,
    "start_time": "2023-03-07T16:03:52.637Z"
   },
   {
    "duration": 15,
    "start_time": "2023-03-07T16:05:01.395Z"
   },
   {
    "duration": 3,
    "start_time": "2023-03-07T16:08:34.434Z"
   },
   {
    "duration": 13,
    "start_time": "2023-03-07T16:08:37.500Z"
   },
   {
    "duration": 4,
    "start_time": "2023-03-07T16:12:26.474Z"
   },
   {
    "duration": 13,
    "start_time": "2023-03-07T16:12:28.966Z"
   },
   {
    "duration": 4,
    "start_time": "2023-03-07T16:12:42.348Z"
   },
   {
    "duration": 12,
    "start_time": "2023-03-07T16:12:43.402Z"
   },
   {
    "duration": 56,
    "start_time": "2023-03-07T16:16:04.450Z"
   },
   {
    "duration": 5,
    "start_time": "2023-03-07T16:16:10.456Z"
   },
   {
    "duration": 4,
    "start_time": "2023-03-07T16:16:12.694Z"
   },
   {
    "duration": 14,
    "start_time": "2023-03-07T16:16:15.043Z"
   },
   {
    "duration": 5,
    "start_time": "2023-03-07T16:16:50.121Z"
   },
   {
    "duration": 27,
    "start_time": "2023-03-07T16:16:51.714Z"
   },
   {
    "duration": 4,
    "start_time": "2023-03-07T16:17:08.474Z"
   },
   {
    "duration": 6,
    "start_time": "2023-03-07T16:17:10.300Z"
   },
   {
    "duration": 21,
    "start_time": "2023-03-07T16:17:11.609Z"
   },
   {
    "duration": 5,
    "start_time": "2023-03-07T16:17:33.917Z"
   },
   {
    "duration": 19,
    "start_time": "2023-03-07T16:17:35.109Z"
   },
   {
    "duration": 4,
    "start_time": "2023-03-07T16:33:06.459Z"
   },
   {
    "duration": 5,
    "start_time": "2023-03-07T16:33:22.509Z"
   },
   {
    "duration": 27,
    "start_time": "2023-03-07T16:35:28.246Z"
   },
   {
    "duration": 10,
    "start_time": "2023-03-07T16:37:36.309Z"
   },
   {
    "duration": 10,
    "start_time": "2023-03-07T16:37:50.172Z"
   },
   {
    "duration": 16,
    "start_time": "2023-03-07T16:38:03.798Z"
   },
   {
    "duration": 5,
    "start_time": "2023-03-07T16:39:42.104Z"
   },
   {
    "duration": 5,
    "start_time": "2023-03-07T16:40:55.698Z"
   },
   {
    "duration": 4,
    "start_time": "2023-03-07T16:40:56.332Z"
   },
   {
    "duration": 27,
    "start_time": "2023-03-07T16:40:56.938Z"
   },
   {
    "duration": 3,
    "start_time": "2023-03-07T16:42:11.498Z"
   },
   {
    "duration": 5,
    "start_time": "2023-03-07T16:42:12.894Z"
   },
   {
    "duration": 1669,
    "start_time": "2023-03-07T16:42:13.847Z"
   },
   {
    "duration": 6,
    "start_time": "2023-03-07T16:43:13.549Z"
   },
   {
    "duration": 5,
    "start_time": "2023-03-07T16:43:24.112Z"
   },
   {
    "duration": 12,
    "start_time": "2023-03-07T16:43:45.914Z"
   },
   {
    "duration": 7,
    "start_time": "2023-03-07T16:43:55.674Z"
   },
   {
    "duration": 5,
    "start_time": "2023-03-07T16:44:22.364Z"
   },
   {
    "duration": 11,
    "start_time": "2023-03-07T16:44:33.811Z"
   },
   {
    "duration": 5,
    "start_time": "2023-03-07T16:44:40.967Z"
   },
   {
    "duration": 1820,
    "start_time": "2023-03-07T16:55:29.570Z"
   },
   {
    "duration": 3,
    "start_time": "2023-03-07T17:06:59.374Z"
   },
   {
    "duration": 3,
    "start_time": "2023-03-07T17:08:26.445Z"
   },
   {
    "duration": 43,
    "start_time": "2023-03-07T17:26:17.485Z"
   },
   {
    "duration": 4,
    "start_time": "2023-03-07T17:26:36.557Z"
   },
   {
    "duration": 28,
    "start_time": "2023-03-07T17:26:54.112Z"
   },
   {
    "duration": 241,
    "start_time": "2023-03-07T17:27:20.518Z"
   },
   {
    "duration": 45,
    "start_time": "2023-03-07T17:27:31.434Z"
   },
   {
    "duration": 4,
    "start_time": "2023-03-07T17:27:41.626Z"
   },
   {
    "duration": 29,
    "start_time": "2023-03-07T17:27:49.620Z"
   },
   {
    "duration": 5,
    "start_time": "2023-03-07T17:27:59.529Z"
   },
   {
    "duration": 28,
    "start_time": "2023-03-07T17:28:01.198Z"
   },
   {
    "duration": 5,
    "start_time": "2023-03-07T17:28:27.664Z"
   },
   {
    "duration": 32,
    "start_time": "2023-03-07T17:28:29.973Z"
   },
   {
    "duration": 4,
    "start_time": "2023-03-07T17:28:53.189Z"
   },
   {
    "duration": 28,
    "start_time": "2023-03-07T17:28:54.991Z"
   },
   {
    "duration": 4,
    "start_time": "2023-03-07T17:29:02.325Z"
   },
   {
    "duration": 29,
    "start_time": "2023-03-07T17:29:05.108Z"
   },
   {
    "duration": 45,
    "start_time": "2023-03-07T17:29:36.495Z"
   },
   {
    "duration": 47,
    "start_time": "2023-03-07T17:29:42.504Z"
   },
   {
    "duration": 50,
    "start_time": "2023-03-07T17:29:49.248Z"
   },
   {
    "duration": 52,
    "start_time": "2023-03-07T17:30:00.248Z"
   },
   {
    "duration": 56,
    "start_time": "2023-03-07T17:30:17.832Z"
   },
   {
    "duration": 52,
    "start_time": "2023-03-07T17:30:22.771Z"
   },
   {
    "duration": 47,
    "start_time": "2023-03-07T17:30:33.022Z"
   },
   {
    "duration": 4,
    "start_time": "2023-03-07T17:30:49.743Z"
   },
   {
    "duration": 29,
    "start_time": "2023-03-07T17:31:00.008Z"
   },
   {
    "duration": 4,
    "start_time": "2023-03-07T17:31:34.647Z"
   },
   {
    "duration": 29,
    "start_time": "2023-03-07T17:31:36.206Z"
   },
   {
    "duration": 4,
    "start_time": "2023-03-07T17:32:13.748Z"
   },
   {
    "duration": 112,
    "start_time": "2023-03-07T17:32:15.810Z"
   },
   {
    "duration": 27,
    "start_time": "2023-03-07T17:32:47.861Z"
   },
   {
    "duration": 5,
    "start_time": "2023-03-07T17:33:12.200Z"
   },
   {
    "duration": 85,
    "start_time": "2023-03-07T17:33:17.837Z"
   },
   {
    "duration": 28,
    "start_time": "2023-03-07T17:33:33.905Z"
   },
   {
    "duration": 7,
    "start_time": "2023-03-07T17:46:51.043Z"
   },
   {
    "duration": 8,
    "start_time": "2023-03-07T17:47:21.822Z"
   },
   {
    "duration": 8,
    "start_time": "2023-03-07T17:47:29.613Z"
   },
   {
    "duration": 7,
    "start_time": "2023-03-07T17:54:45.502Z"
   },
   {
    "duration": 7,
    "start_time": "2023-03-07T17:54:52.900Z"
   },
   {
    "duration": 7,
    "start_time": "2023-03-07T18:34:25.723Z"
   },
   {
    "duration": 59,
    "start_time": "2023-03-07T18:53:11.248Z"
   },
   {
    "duration": 55,
    "start_time": "2023-03-07T18:53:30.123Z"
   },
   {
    "duration": 5,
    "start_time": "2023-03-07T18:53:37.056Z"
   },
   {
    "duration": 1780,
    "start_time": "2023-03-07T18:53:39.051Z"
   },
   {
    "duration": 3,
    "start_time": "2023-03-07T18:59:13.302Z"
   },
   {
    "duration": 5,
    "start_time": "2023-03-07T18:59:13.763Z"
   },
   {
    "duration": 1689,
    "start_time": "2023-03-07T18:59:15.228Z"
   },
   {
    "duration": 3,
    "start_time": "2023-03-07T19:11:25.305Z"
   },
   {
    "duration": 4,
    "start_time": "2023-03-07T19:11:25.548Z"
   },
   {
    "duration": 4,
    "start_time": "2023-03-07T19:11:26.300Z"
   },
   {
    "duration": 5,
    "start_time": "2023-03-07T19:11:26.909Z"
   },
   {
    "duration": 1664,
    "start_time": "2023-03-07T19:11:27.546Z"
   },
   {
    "duration": 3,
    "start_time": "2023-03-07T19:13:15.748Z"
   },
   {
    "duration": 5,
    "start_time": "2023-03-07T19:14:56.889Z"
   },
   {
    "duration": 1680,
    "start_time": "2023-03-07T19:14:59.551Z"
   },
   {
    "duration": 5,
    "start_time": "2023-03-07T19:15:49.892Z"
   },
   {
    "duration": 1729,
    "start_time": "2023-03-07T19:15:58.766Z"
   },
   {
    "duration": 1610,
    "start_time": "2023-03-07T19:16:02.321Z"
   },
   {
    "duration": 3,
    "start_time": "2023-03-07T19:17:36.869Z"
   },
   {
    "duration": 1688,
    "start_time": "2023-03-07T19:28:09.867Z"
   },
   {
    "duration": 1640,
    "start_time": "2023-03-07T19:28:19.266Z"
   },
   {
    "duration": 5,
    "start_time": "2023-03-07T19:29:13.677Z"
   },
   {
    "duration": 20,
    "start_time": "2023-03-07T19:29:15.946Z"
   },
   {
    "duration": 5,
    "start_time": "2023-03-07T19:29:27.679Z"
   },
   {
    "duration": 5,
    "start_time": "2023-03-07T19:29:28.724Z"
   },
   {
    "duration": 1186,
    "start_time": "2023-03-07T19:29:28.893Z"
   },
   {
    "duration": 1143,
    "start_time": "2023-03-07T19:29:36.781Z"
   },
   {
    "duration": 1118,
    "start_time": "2023-03-07T19:29:41.500Z"
   },
   {
    "duration": 4,
    "start_time": "2023-03-07T19:29:54.977Z"
   },
   {
    "duration": 20,
    "start_time": "2023-03-07T19:29:56.658Z"
   },
   {
    "duration": 11,
    "start_time": "2023-03-07T19:30:41.092Z"
   },
   {
    "duration": 6,
    "start_time": "2023-03-07T19:31:06.246Z"
   },
   {
    "duration": 1597,
    "start_time": "2023-03-07T19:31:08.695Z"
   },
   {
    "duration": 1468,
    "start_time": "2023-03-07T19:31:14.821Z"
   },
   {
    "duration": 1458,
    "start_time": "2023-03-07T19:31:20.646Z"
   },
   {
    "duration": 5,
    "start_time": "2023-03-07T19:34:23.240Z"
   },
   {
    "duration": 1798,
    "start_time": "2023-03-07T19:34:24.834Z"
   },
   {
    "duration": 1755,
    "start_time": "2023-03-07T19:34:28.450Z"
   },
   {
    "duration": 4,
    "start_time": "2023-03-07T19:42:27.065Z"
   },
   {
    "duration": 5,
    "start_time": "2023-03-07T19:42:28.464Z"
   },
   {
    "duration": 1853,
    "start_time": "2023-03-07T19:42:29.495Z"
   },
   {
    "duration": 1711,
    "start_time": "2023-03-07T19:42:33.527Z"
   },
   {
    "duration": 3,
    "start_time": "2023-03-07T19:43:46.491Z"
   },
   {
    "duration": 5,
    "start_time": "2023-03-07T19:43:48.110Z"
   },
   {
    "duration": 4,
    "start_time": "2023-03-07T19:46:43.841Z"
   },
   {
    "duration": 7,
    "start_time": "2023-03-07T19:49:34.222Z"
   },
   {
    "duration": 37,
    "start_time": "2023-03-07T19:49:35.597Z"
   },
   {
    "duration": 6,
    "start_time": "2023-03-07T19:53:34.572Z"
   },
   {
    "duration": 35,
    "start_time": "2023-03-07T19:53:37.646Z"
   },
   {
    "duration": 31,
    "start_time": "2023-03-07T19:53:45.967Z"
   },
   {
    "duration": 5,
    "start_time": "2023-03-07T19:56:14.885Z"
   },
   {
    "duration": 21,
    "start_time": "2023-03-07T19:56:17.773Z"
   },
   {
    "duration": 27,
    "start_time": "2023-03-07T19:56:20.000Z"
   },
   {
    "duration": 25,
    "start_time": "2023-03-07T19:56:22.922Z"
   },
   {
    "duration": 1545,
    "start_time": "2023-03-07T19:57:13.738Z"
   },
   {
    "duration": 397,
    "start_time": "2023-03-07T19:57:15.285Z"
   },
   {
    "duration": 48,
    "start_time": "2023-03-07T19:57:15.684Z"
   },
   {
    "duration": 49,
    "start_time": "2023-03-07T19:57:15.734Z"
   },
   {
    "duration": 57,
    "start_time": "2023-03-07T19:57:15.786Z"
   },
   {
    "duration": 38,
    "start_time": "2023-03-07T19:57:15.846Z"
   },
   {
    "duration": 10,
    "start_time": "2023-03-07T19:57:15.887Z"
   },
   {
    "duration": 25,
    "start_time": "2023-03-07T19:57:15.899Z"
   },
   {
    "duration": 149,
    "start_time": "2023-03-07T19:57:15.926Z"
   },
   {
    "duration": 0,
    "start_time": "2023-03-07T19:57:16.078Z"
   },
   {
    "duration": 0,
    "start_time": "2023-03-07T19:57:16.080Z"
   },
   {
    "duration": 0,
    "start_time": "2023-03-07T19:57:16.081Z"
   },
   {
    "duration": 0,
    "start_time": "2023-03-07T19:57:16.083Z"
   },
   {
    "duration": 0,
    "start_time": "2023-03-07T19:57:16.084Z"
   },
   {
    "duration": 0,
    "start_time": "2023-03-07T19:57:16.086Z"
   },
   {
    "duration": 0,
    "start_time": "2023-03-07T19:57:16.087Z"
   },
   {
    "duration": 6,
    "start_time": "2023-03-07T19:58:01.203Z"
   },
   {
    "duration": 55,
    "start_time": "2023-03-07T19:58:04.369Z"
   },
   {
    "duration": 5,
    "start_time": "2023-03-07T19:58:12.017Z"
   },
   {
    "duration": 405,
    "start_time": "2023-03-07T19:58:12.025Z"
   },
   {
    "duration": 36,
    "start_time": "2023-03-07T19:58:12.432Z"
   },
   {
    "duration": 59,
    "start_time": "2023-03-07T19:58:12.470Z"
   },
   {
    "duration": 43,
    "start_time": "2023-03-07T19:58:12.531Z"
   },
   {
    "duration": 58,
    "start_time": "2023-03-07T19:58:12.576Z"
   },
   {
    "duration": 9,
    "start_time": "2023-03-07T19:58:12.636Z"
   },
   {
    "duration": 6,
    "start_time": "2023-03-07T19:58:12.647Z"
   },
   {
    "duration": 68,
    "start_time": "2023-03-07T19:58:12.655Z"
   },
   {
    "duration": 206,
    "start_time": "2023-03-07T19:58:12.729Z"
   },
   {
    "duration": 110,
    "start_time": "2023-03-07T19:58:13.022Z"
   },
   {
    "duration": 4,
    "start_time": "2023-03-07T19:58:13.134Z"
   },
   {
    "duration": 84,
    "start_time": "2023-03-07T19:58:13.140Z"
   },
   {
    "duration": 4,
    "start_time": "2023-03-07T19:58:13.227Z"
   },
   {
    "duration": 6,
    "start_time": "2023-03-07T19:58:13.233Z"
   },
   {
    "duration": 12,
    "start_time": "2023-03-07T19:58:13.241Z"
   },
   {
    "duration": 5,
    "start_time": "2023-03-07T20:15:20.325Z"
   },
   {
    "duration": 13,
    "start_time": "2023-03-07T20:17:41.946Z"
   },
   {
    "duration": 31,
    "start_time": "2023-03-07T20:17:58.417Z"
   },
   {
    "duration": 26,
    "start_time": "2023-03-07T20:18:19.887Z"
   },
   {
    "duration": 28,
    "start_time": "2023-03-07T20:18:32.517Z"
   },
   {
    "duration": 33,
    "start_time": "2023-03-07T20:19:30.417Z"
   },
   {
    "duration": 27,
    "start_time": "2023-03-07T20:21:15.686Z"
   },
   {
    "duration": 25,
    "start_time": "2023-03-07T20:21:31.727Z"
   },
   {
    "duration": 23,
    "start_time": "2023-03-07T20:21:36.029Z"
   },
   {
    "duration": 28,
    "start_time": "2023-03-07T20:21:37.083Z"
   },
   {
    "duration": 27,
    "start_time": "2023-03-07T20:21:40.313Z"
   },
   {
    "duration": 27,
    "start_time": "2023-03-07T20:21:41.418Z"
   },
   {
    "duration": 31,
    "start_time": "2023-03-07T20:21:42.451Z"
   },
   {
    "duration": 10,
    "start_time": "2023-03-07T20:22:26.665Z"
   },
   {
    "duration": 635,
    "start_time": "2023-03-07T20:22:46.479Z"
   },
   {
    "duration": 643,
    "start_time": "2023-03-07T20:22:56.226Z"
   },
   {
    "duration": 613,
    "start_time": "2023-03-07T20:22:58.036Z"
   },
   {
    "duration": 697,
    "start_time": "2023-03-07T20:22:59.853Z"
   },
   {
    "duration": 613,
    "start_time": "2023-03-07T20:23:01.925Z"
   },
   {
    "duration": 660,
    "start_time": "2023-03-07T20:23:04.018Z"
   },
   {
    "duration": 625,
    "start_time": "2023-03-07T20:23:24.381Z"
   },
   {
    "duration": 629,
    "start_time": "2023-03-07T20:23:37.155Z"
   },
   {
    "duration": 666,
    "start_time": "2023-03-07T20:29:07.863Z"
   },
   {
    "duration": 659,
    "start_time": "2023-03-07T20:29:11.739Z"
   },
   {
    "duration": 3,
    "start_time": "2023-03-07T20:32:10.725Z"
   },
   {
    "duration": 3,
    "start_time": "2023-03-07T20:33:50.476Z"
   },
   {
    "duration": 3,
    "start_time": "2023-03-07T20:36:00.038Z"
   },
   {
    "duration": 12,
    "start_time": "2023-03-07T20:36:00.522Z"
   },
   {
    "duration": 667,
    "start_time": "2023-03-07T20:36:02.739Z"
   },
   {
    "duration": 741,
    "start_time": "2023-03-07T20:36:09.737Z"
   },
   {
    "duration": 57,
    "start_time": "2023-03-08T17:31:27.050Z"
   },
   {
    "duration": 1829,
    "start_time": "2023-03-08T17:31:34.277Z"
   },
   {
    "duration": 934,
    "start_time": "2023-03-08T17:31:36.111Z"
   },
   {
    "duration": 49,
    "start_time": "2023-03-08T17:31:37.047Z"
   },
   {
    "duration": 44,
    "start_time": "2023-03-08T17:31:37.102Z"
   },
   {
    "duration": 50,
    "start_time": "2023-03-08T17:31:37.148Z"
   },
   {
    "duration": 41,
    "start_time": "2023-03-08T17:31:37.200Z"
   },
   {
    "duration": 11,
    "start_time": "2023-03-08T17:31:37.243Z"
   },
   {
    "duration": 63,
    "start_time": "2023-03-08T17:31:37.256Z"
   },
   {
    "duration": 3,
    "start_time": "2023-03-08T17:31:37.321Z"
   },
   {
    "duration": 155,
    "start_time": "2023-03-08T17:31:37.327Z"
   },
   {
    "duration": 99,
    "start_time": "2023-03-08T17:31:37.484Z"
   },
   {
    "duration": 192,
    "start_time": "2023-03-08T17:31:37.591Z"
   },
   {
    "duration": 19,
    "start_time": "2023-03-08T17:31:37.789Z"
   },
   {
    "duration": 105,
    "start_time": "2023-03-08T17:31:37.813Z"
   },
   {
    "duration": 16,
    "start_time": "2023-03-08T17:31:37.920Z"
   },
   {
    "duration": 14,
    "start_time": "2023-03-08T17:31:37.938Z"
   },
   {
    "duration": 111,
    "start_time": "2023-03-08T17:31:37.954Z"
   },
   {
    "duration": 0,
    "start_time": "2023-03-08T17:31:38.067Z"
   },
   {
    "duration": 0,
    "start_time": "2023-03-08T17:31:38.068Z"
   },
   {
    "duration": 3,
    "start_time": "2023-03-08T17:32:29.523Z"
   },
   {
    "duration": 795,
    "start_time": "2023-03-08T17:32:32.298Z"
   },
   {
    "duration": 740,
    "start_time": "2023-03-08T17:32:33.095Z"
   },
   {
    "duration": 724,
    "start_time": "2023-03-08T17:32:34.002Z"
   },
   {
    "duration": 44,
    "start_time": "2023-03-08T17:33:21.545Z"
   },
   {
    "duration": 42,
    "start_time": "2023-03-08T17:33:37.175Z"
   },
   {
    "duration": 37,
    "start_time": "2023-03-08T17:33:37.319Z"
   },
   {
    "duration": 94,
    "start_time": "2023-03-08T17:33:49.452Z"
   },
   {
    "duration": 59,
    "start_time": "2023-03-08T17:34:12.560Z"
   },
   {
    "duration": 10,
    "start_time": "2023-03-08T18:24:55.038Z"
   },
   {
    "duration": 688,
    "start_time": "2023-03-08T18:25:13.429Z"
   },
   {
    "duration": 10,
    "start_time": "2023-03-08T18:25:16.487Z"
   },
   {
    "duration": 951,
    "start_time": "2023-03-08T18:25:18.623Z"
   },
   {
    "duration": 5,
    "start_time": "2023-03-08T18:25:38.637Z"
   },
   {
    "duration": 786,
    "start_time": "2023-03-08T18:25:40.706Z"
   },
   {
    "duration": 7,
    "start_time": "2023-03-08T18:31:16.308Z"
   },
   {
    "duration": 740,
    "start_time": "2023-03-08T18:31:17.996Z"
   },
   {
    "duration": 5,
    "start_time": "2023-03-08T18:31:39.525Z"
   },
   {
    "duration": 888,
    "start_time": "2023-03-08T18:31:42.096Z"
   },
   {
    "duration": 949,
    "start_time": "2023-03-08T18:32:11.702Z"
   },
   {
    "duration": 971,
    "start_time": "2023-03-08T18:32:21.689Z"
   },
   {
    "duration": 11,
    "start_time": "2023-03-08T18:32:55.316Z"
   },
   {
    "duration": 887,
    "start_time": "2023-03-08T18:32:56.677Z"
   },
   {
    "duration": 36,
    "start_time": "2023-03-08T18:57:24.294Z"
   },
   {
    "duration": 10,
    "start_time": "2023-03-09T10:16:52.002Z"
   },
   {
    "duration": 3,
    "start_time": "2023-03-09T10:17:17.711Z"
   },
   {
    "duration": 3,
    "start_time": "2023-03-09T10:19:30.949Z"
   },
   {
    "duration": 59,
    "start_time": "2023-03-09T10:19:57.612Z"
   },
   {
    "duration": 1568,
    "start_time": "2023-03-09T10:20:04.060Z"
   },
   {
    "duration": 1586,
    "start_time": "2023-03-09T10:20:05.630Z"
   },
   {
    "duration": 40,
    "start_time": "2023-03-09T10:20:07.218Z"
   },
   {
    "duration": 45,
    "start_time": "2023-03-09T10:20:07.260Z"
   },
   {
    "duration": 59,
    "start_time": "2023-03-09T10:20:07.307Z"
   },
   {
    "duration": 40,
    "start_time": "2023-03-09T10:20:07.369Z"
   },
   {
    "duration": 11,
    "start_time": "2023-03-09T10:20:07.411Z"
   },
   {
    "duration": 63,
    "start_time": "2023-03-09T10:20:07.425Z"
   },
   {
    "duration": 31,
    "start_time": "2023-03-09T10:20:07.491Z"
   },
   {
    "duration": 37,
    "start_time": "2023-03-09T10:20:07.542Z"
   },
   {
    "duration": 7,
    "start_time": "2023-03-09T10:20:11.818Z"
   },
   {
    "duration": 3,
    "start_time": "2023-03-09T10:20:12.552Z"
   },
   {
    "duration": 89,
    "start_time": "2023-03-09T10:20:12.804Z"
   },
   {
    "duration": 3,
    "start_time": "2023-03-09T10:20:15.715Z"
   },
   {
    "duration": 27,
    "start_time": "2023-03-09T10:20:17.329Z"
   },
   {
    "duration": 3,
    "start_time": "2023-03-09T10:21:16.217Z"
   },
   {
    "duration": 4,
    "start_time": "2023-03-09T10:21:16.852Z"
   },
   {
    "duration": 4,
    "start_time": "2023-03-09T10:21:17.030Z"
   },
   {
    "duration": 20,
    "start_time": "2023-03-09T10:21:17.466Z"
   },
   {
    "duration": 22,
    "start_time": "2023-03-09T10:21:45.928Z"
   },
   {
    "duration": 3,
    "start_time": "2023-03-09T10:22:01.564Z"
   },
   {
    "duration": 14,
    "start_time": "2023-03-09T10:22:03.423Z"
   },
   {
    "duration": 4,
    "start_time": "2023-03-09T10:22:07.073Z"
   },
   {
    "duration": 3,
    "start_time": "2023-03-09T10:22:07.831Z"
   },
   {
    "duration": 16,
    "start_time": "2023-03-09T10:22:08.002Z"
   },
   {
    "duration": 19,
    "start_time": "2023-03-09T10:22:14.152Z"
   },
   {
    "duration": 10,
    "start_time": "2023-03-09T10:31:43.556Z"
   },
   {
    "duration": 18,
    "start_time": "2023-03-09T10:32:20.602Z"
   },
   {
    "duration": 3,
    "start_time": "2023-03-09T10:32:49.691Z"
   },
   {
    "duration": 26,
    "start_time": "2023-03-09T10:32:51.906Z"
   },
   {
    "duration": 5,
    "start_time": "2023-03-09T10:33:25.845Z"
   },
   {
    "duration": 26,
    "start_time": "2023-03-09T10:33:28.200Z"
   },
   {
    "duration": 5,
    "start_time": "2023-03-09T10:33:31.044Z"
   },
   {
    "duration": 20,
    "start_time": "2023-03-09T10:33:33.263Z"
   },
   {
    "duration": 4,
    "start_time": "2023-03-09T10:33:46.413Z"
   },
   {
    "duration": 4,
    "start_time": "2023-03-09T10:33:49.304Z"
   },
   {
    "duration": 24,
    "start_time": "2023-03-09T10:33:50.527Z"
   },
   {
    "duration": 4,
    "start_time": "2023-03-09T10:35:26.258Z"
   },
   {
    "duration": 26,
    "start_time": "2023-03-09T10:35:31.644Z"
   },
   {
    "duration": 21,
    "start_time": "2023-03-09T10:35:40.968Z"
   },
   {
    "duration": 78,
    "start_time": "2023-03-09T11:00:27.776Z"
   },
   {
    "duration": 4,
    "start_time": "2023-03-09T11:00:37.309Z"
   },
   {
    "duration": 4,
    "start_time": "2023-03-09T11:00:38.920Z"
   },
   {
    "duration": 20,
    "start_time": "2023-03-09T11:00:40.774Z"
   },
   {
    "duration": 3,
    "start_time": "2023-03-09T11:00:58.321Z"
   },
   {
    "duration": 24,
    "start_time": "2023-03-09T11:01:00.774Z"
   },
   {
    "duration": 4,
    "start_time": "2023-03-09T11:01:10.348Z"
   },
   {
    "duration": 23,
    "start_time": "2023-03-09T11:01:12.346Z"
   },
   {
    "duration": 4,
    "start_time": "2023-03-09T11:01:20.546Z"
   },
   {
    "duration": 23,
    "start_time": "2023-03-09T11:01:22.439Z"
   },
   {
    "duration": 4,
    "start_time": "2023-03-09T11:02:21.612Z"
   },
   {
    "duration": 16,
    "start_time": "2023-03-09T11:02:23.038Z"
   },
   {
    "duration": 3,
    "start_time": "2023-03-09T11:02:40.945Z"
   },
   {
    "duration": 12,
    "start_time": "2023-03-09T11:02:42.192Z"
   },
   {
    "duration": 3,
    "start_time": "2023-03-09T11:05:26.598Z"
   },
   {
    "duration": 23,
    "start_time": "2023-03-09T11:05:28.017Z"
   },
   {
    "duration": 4,
    "start_time": "2023-03-09T11:06:38.909Z"
   },
   {
    "duration": 20,
    "start_time": "2023-03-09T11:06:40.767Z"
   },
   {
    "duration": 5,
    "start_time": "2023-03-09T11:07:39.237Z"
   },
   {
    "duration": 31,
    "start_time": "2023-03-09T11:07:41.707Z"
   },
   {
    "duration": 3,
    "start_time": "2023-03-09T11:07:58.353Z"
   },
   {
    "duration": 26,
    "start_time": "2023-03-09T11:07:59.715Z"
   },
   {
    "duration": 4,
    "start_time": "2023-03-09T11:08:22.305Z"
   },
   {
    "duration": 26,
    "start_time": "2023-03-09T11:08:24.442Z"
   },
   {
    "duration": 4,
    "start_time": "2023-03-09T11:08:37.299Z"
   },
   {
    "duration": 29,
    "start_time": "2023-03-09T11:08:38.786Z"
   },
   {
    "duration": 1765,
    "start_time": "2023-03-10T09:06:40.514Z"
   },
   {
    "duration": 830,
    "start_time": "2023-03-10T09:06:42.282Z"
   },
   {
    "duration": 41,
    "start_time": "2023-03-10T09:06:43.114Z"
   },
   {
    "duration": 39,
    "start_time": "2023-03-10T09:06:43.157Z"
   },
   {
    "duration": 37,
    "start_time": "2023-03-10T09:06:43.198Z"
   },
   {
    "duration": 58,
    "start_time": "2023-03-10T09:06:43.236Z"
   },
   {
    "duration": 11,
    "start_time": "2023-03-10T09:06:43.296Z"
   },
   {
    "duration": 42,
    "start_time": "2023-03-10T09:06:43.309Z"
   },
   {
    "duration": 36,
    "start_time": "2023-03-10T09:06:43.352Z"
   },
   {
    "duration": 36,
    "start_time": "2023-03-10T09:06:43.391Z"
   },
   {
    "duration": 4,
    "start_time": "2023-03-10T09:06:43.428Z"
   },
   {
    "duration": 31,
    "start_time": "2023-03-10T09:06:43.433Z"
   },
   {
    "duration": 16,
    "start_time": "2023-03-10T09:06:43.466Z"
   },
   {
    "duration": 38,
    "start_time": "2023-03-10T09:06:43.484Z"
   },
   {
    "duration": 141,
    "start_time": "2023-03-10T09:06:43.524Z"
   },
   {
    "duration": 118,
    "start_time": "2023-03-10T09:06:43.668Z"
   },
   {
    "duration": 276,
    "start_time": "2023-03-10T09:06:43.788Z"
   },
   {
    "duration": 90,
    "start_time": "2023-03-10T09:06:44.073Z"
   },
   {
    "duration": 23,
    "start_time": "2023-03-10T09:06:44.166Z"
   },
   {
    "duration": 17,
    "start_time": "2023-03-10T09:06:44.191Z"
   },
   {
    "duration": 8,
    "start_time": "2023-03-10T09:06:44.210Z"
   },
   {
    "duration": 900,
    "start_time": "2023-03-10T09:06:44.220Z"
   },
   {
    "duration": 732,
    "start_time": "2023-03-10T09:06:45.121Z"
   },
   {
    "duration": 801,
    "start_time": "2023-03-10T09:06:45.855Z"
   },
   {
    "duration": 4,
    "start_time": "2023-03-10T09:07:33.507Z"
   },
   {
    "duration": 125,
    "start_time": "2023-03-10T09:07:39.133Z"
   },
   {
    "duration": 629,
    "start_time": "2023-03-10T09:07:43.131Z"
   },
   {
    "duration": 628,
    "start_time": "2023-03-10T09:07:45.501Z"
   },
   {
    "duration": 680,
    "start_time": "2023-03-10T09:07:46.132Z"
   },
   {
    "duration": 615,
    "start_time": "2023-03-10T09:07:46.813Z"
   },
   {
    "duration": 95,
    "start_time": "2023-03-10T09:23:50.668Z"
   },
   {
    "duration": 39,
    "start_time": "2023-03-10T09:23:56.730Z"
   },
   {
    "duration": 46,
    "start_time": "2023-03-10T09:24:09.120Z"
   },
   {
    "duration": 104,
    "start_time": "2023-03-10T09:24:14.561Z"
   },
   {
    "duration": 26,
    "start_time": "2023-03-10T09:31:20.220Z"
   },
   {
    "duration": 30,
    "start_time": "2023-03-10T09:31:26.834Z"
   },
   {
    "duration": 699,
    "start_time": "2023-03-10T09:55:38.111Z"
   },
   {
    "duration": 617,
    "start_time": "2023-03-10T09:55:43.315Z"
   },
   {
    "duration": 609,
    "start_time": "2023-03-10T09:55:52.084Z"
   },
   {
    "duration": 4,
    "start_time": "2023-03-10T09:57:00.634Z"
   },
   {
    "duration": 732,
    "start_time": "2023-03-10T09:57:05.225Z"
   },
   {
    "duration": 891,
    "start_time": "2023-03-10T09:57:11.777Z"
   },
   {
    "duration": 781,
    "start_time": "2023-03-10T09:57:21.997Z"
   },
   {
    "duration": 738,
    "start_time": "2023-03-10T09:57:24.962Z"
   },
   {
    "duration": 4,
    "start_time": "2023-03-10T10:00:29.718Z"
   },
   {
    "duration": 744,
    "start_time": "2023-03-10T10:00:31.522Z"
   },
   {
    "duration": 708,
    "start_time": "2023-03-10T10:00:41.279Z"
   },
   {
    "duration": 746,
    "start_time": "2023-03-10T10:11:58.005Z"
   },
   {
    "duration": 732,
    "start_time": "2023-03-10T10:12:02.133Z"
   },
   {
    "duration": 725,
    "start_time": "2023-03-10T10:12:07.056Z"
   },
   {
    "duration": 723,
    "start_time": "2023-03-10T10:12:18.921Z"
   },
   {
    "duration": 5,
    "start_time": "2023-03-10T13:07:18.985Z"
   },
   {
    "duration": 671,
    "start_time": "2023-03-10T13:07:20.286Z"
   },
   {
    "duration": 4,
    "start_time": "2023-03-10T13:07:36.403Z"
   },
   {
    "duration": 742,
    "start_time": "2023-03-10T13:07:38.195Z"
   },
   {
    "duration": 6,
    "start_time": "2023-03-10T13:13:13.072Z"
   },
   {
    "duration": 659,
    "start_time": "2023-03-10T13:13:14.797Z"
   },
   {
    "duration": 5,
    "start_time": "2023-03-10T13:16:45.645Z"
   },
   {
    "duration": 10,
    "start_time": "2023-03-10T13:16:46.705Z"
   },
   {
    "duration": 657,
    "start_time": "2023-03-10T13:16:47.750Z"
   },
   {
    "duration": 99,
    "start_time": "2023-03-10T13:17:00.992Z"
   },
   {
    "duration": 7,
    "start_time": "2023-03-10T13:17:07.214Z"
   },
   {
    "duration": 718,
    "start_time": "2023-03-10T13:17:09.114Z"
   },
   {
    "duration": 4,
    "start_time": "2023-03-10T13:17:18.854Z"
   },
   {
    "duration": 743,
    "start_time": "2023-03-10T13:17:20.296Z"
   },
   {
    "duration": 5,
    "start_time": "2023-03-10T13:17:47.037Z"
   },
   {
    "duration": 642,
    "start_time": "2023-03-10T13:17:48.292Z"
   },
   {
    "duration": 4,
    "start_time": "2023-03-10T13:18:01.725Z"
   },
   {
    "duration": 740,
    "start_time": "2023-03-10T13:18:02.899Z"
   },
   {
    "duration": 101,
    "start_time": "2023-03-10T13:40:48.377Z"
   },
   {
    "duration": 4,
    "start_time": "2023-03-10T13:40:54.819Z"
   },
   {
    "duration": 750,
    "start_time": "2023-03-10T13:41:00.135Z"
   },
   {
    "duration": 2184,
    "start_time": "2023-03-11T04:55:16.704Z"
   },
   {
    "duration": 496,
    "start_time": "2023-03-11T04:55:18.891Z"
   },
   {
    "duration": 41,
    "start_time": "2023-03-11T04:55:19.393Z"
   },
   {
    "duration": 73,
    "start_time": "2023-03-11T04:55:19.437Z"
   },
   {
    "duration": 41,
    "start_time": "2023-03-11T04:55:19.512Z"
   },
   {
    "duration": 59,
    "start_time": "2023-03-11T04:55:19.555Z"
   },
   {
    "duration": 12,
    "start_time": "2023-03-11T04:55:19.616Z"
   },
   {
    "duration": 68,
    "start_time": "2023-03-11T04:55:19.630Z"
   },
   {
    "duration": 29,
    "start_time": "2023-03-11T04:55:19.700Z"
   },
   {
    "duration": 58,
    "start_time": "2023-03-11T04:55:19.732Z"
   },
   {
    "duration": 4,
    "start_time": "2023-03-11T04:55:19.795Z"
   },
   {
    "duration": 81,
    "start_time": "2023-03-11T04:55:19.801Z"
   },
   {
    "duration": 199,
    "start_time": "2023-03-11T04:55:19.889Z"
   },
   {
    "duration": 116,
    "start_time": "2023-03-11T04:55:20.093Z"
   },
   {
    "duration": 4,
    "start_time": "2023-03-11T04:55:20.274Z"
   },
   {
    "duration": 97,
    "start_time": "2023-03-11T04:55:20.281Z"
   },
   {
    "duration": 21,
    "start_time": "2023-03-11T04:55:20.381Z"
   },
   {
    "duration": 12,
    "start_time": "2023-03-11T04:55:20.404Z"
   },
   {
    "duration": 855,
    "start_time": "2023-03-11T04:55:20.418Z"
   },
   {
    "duration": 763,
    "start_time": "2023-03-11T04:55:21.280Z"
   },
   {
    "duration": 780,
    "start_time": "2023-03-11T04:55:22.045Z"
   },
   {
    "duration": 6,
    "start_time": "2023-03-11T05:00:59.847Z"
   },
   {
    "duration": 7,
    "start_time": "2023-03-11T05:03:39.241Z"
   }
  ],
  "kernelspec": {
   "display_name": "Python 3 (ipykernel)",
   "language": "python",
   "name": "python3"
  },
  "language_info": {
   "codemirror_mode": {
    "name": "ipython",
    "version": 3
   },
   "file_extension": ".py",
   "mimetype": "text/x-python",
   "name": "python",
   "nbconvert_exporter": "python",
   "pygments_lexer": "ipython3",
   "version": "3.9.13"
  },
  "toc": {
   "base_numbering": 1,
   "nav_menu": {},
   "number_sections": true,
   "sideBar": true,
   "skip_h1_title": true,
   "title_cell": "Table of Contents",
   "title_sidebar": "Contents",
   "toc_cell": false,
   "toc_position": {},
   "toc_section_display": true,
   "toc_window_display": true
  }
 },
 "nbformat": 4,
 "nbformat_minor": 2
}
