{
 "cells": [
  {
   "cell_type": "markdown",
   "metadata": {
    "toc": true
   },
   "source": [
    "<h1>Содержание<span class=\"tocSkip\"></span></h1>\n",
    "<div class=\"toc\"><ul class=\"toc-item\"><li><span><a href=\"#Подготовка\" data-toc-modified-id=\"Подготовка-1\"><span class=\"toc-item-num\">1&nbsp;&nbsp;</span>Подготовка</a></span><ul class=\"toc-item\"><li><span><a href=\"#Импорт-библиотек\" data-toc-modified-id=\"Импорт-библиотек-1.1\"><span class=\"toc-item-num\">1.1&nbsp;&nbsp;</span>Импорт библиотек</a></span></li></ul></li><li><span><a href=\"#Анализ\" data-toc-modified-id=\"Анализ-2\"><span class=\"toc-item-num\">2&nbsp;&nbsp;</span>Анализ</a></span></li><li><span><a href=\"#Обучение\" data-toc-modified-id=\"Обучение-3\"><span class=\"toc-item-num\">3&nbsp;&nbsp;</span>Обучение</a></span><ul class=\"toc-item\"><li><span><a href=\"#Модель-Random-Forest\" data-toc-modified-id=\"Модель-Random-Forest-3.1\"><span class=\"toc-item-num\">3.1&nbsp;&nbsp;</span>Модель Random Forest</a></span></li><li><span><a href=\"#Обучим-модель-CatBoost\" data-toc-modified-id=\"Обучим-модель-CatBoost-3.2\"><span class=\"toc-item-num\">3.2&nbsp;&nbsp;</span>Обучим модель CatBoost</a></span></li><li><span><a href=\"#Обучим-модель-LightGBM\" data-toc-modified-id=\"Обучим-модель-LightGBM-3.3\"><span class=\"toc-item-num\">3.3&nbsp;&nbsp;</span>Обучим модель LightGBM</a></span></li></ul></li><li><span><a href=\"#Тестирование\" data-toc-modified-id=\"Тестирование-4\"><span class=\"toc-item-num\">4&nbsp;&nbsp;</span>Тестирование</a></span></li><li><span><a href=\"#Чек-лист-проверки\" data-toc-modified-id=\"Чек-лист-проверки-5\"><span class=\"toc-item-num\">5&nbsp;&nbsp;</span>Чек-лист проверки</a></span></li></ul></div>"
   ]
  },
  {
   "cell_type": "markdown",
   "metadata": {},
   "source": [
    "#  Прогнозирование заказов такси"
   ]
  },
  {
   "cell_type": "markdown",
   "metadata": {},
   "source": [
    "Компания «Чётенькое такси» собрала исторические данные о заказах такси в аэропортах. Чтобы привлекать больше водителей в период пиковой нагрузки, нужно спрогнозировать количество заказов такси на следующий час. Постройте модель для такого предсказания.\n",
    "\n",
    "Значение метрики *RMSE* на тестовой выборке должно быть не больше 48.\n",
    "\n",
    "Вам нужно:\n",
    "\n",
    "1. Загрузить данные и выполнить их ресемплирование по одному часу.\n",
    "2. Проанализировать данные.\n",
    "3. Обучить разные модели с различными гиперпараметрами. Сделать тестовую выборку размером 10% от исходных данных.\n",
    "4. Проверить данные на тестовой выборке и сделать выводы.\n",
    "\n",
    "\n",
    "Данные лежат в файле `taxi.csv`. Количество заказов находится в столбце `num_orders` (от англ. *number of orders*, «число заказов»)."
   ]
  },
  {
   "cell_type": "markdown",
   "metadata": {},
   "source": [
    "## Подготовка"
   ]
  },
  {
   "cell_type": "markdown",
   "metadata": {},
   "source": [
    "### Импорт библиотек"
   ]
  },
  {
   "cell_type": "code",
   "execution_count": 1,
   "metadata": {},
   "outputs": [],
   "source": [
    "# Обработка данных\n",
    "import pandas as pd\n",
    "import numpy as np\n",
    "\n",
    "# Визуализация данных\n",
    "import matplotlib.pyplot as plt\n",
    "import seaborn as sns\n",
    "\n",
    "from statsmodels.tsa.seasonal import seasonal_decompose\n",
    "from sklearn.model_selection import train_test_split\n",
    "from sklearn.ensemble import RandomForestRegressor\n",
    "from sklearn.model_selection import GridSearchCV, cross_val_score, RandomizedSearchCV, TimeSeriesSplit\n",
    "from catboost import CatBoostRegressor\n",
    "from lightgbm import LGBMRegressor\n",
    "from sklearn.metrics import mean_squared_error\n",
    "from sklearn.dummy import DummyRegressor"
   ]
  },
  {
   "cell_type": "code",
   "execution_count": 2,
   "metadata": {},
   "outputs": [],
   "source": [
    "data = pd.read_csv('/datasets/taxi.csv', index_col=[0], parse_dates=[0])"
   ]
  },
  {
   "cell_type": "code",
   "execution_count": 3,
   "metadata": {},
   "outputs": [
    {
     "data": {
      "text/html": [
       "<div>\n",
       "<style scoped>\n",
       "    .dataframe tbody tr th:only-of-type {\n",
       "        vertical-align: middle;\n",
       "    }\n",
       "\n",
       "    .dataframe tbody tr th {\n",
       "        vertical-align: top;\n",
       "    }\n",
       "\n",
       "    .dataframe thead th {\n",
       "        text-align: right;\n",
       "    }\n",
       "</style>\n",
       "<table border=\"1\" class=\"dataframe\">\n",
       "  <thead>\n",
       "    <tr style=\"text-align: right;\">\n",
       "      <th></th>\n",
       "      <th>num_orders</th>\n",
       "    </tr>\n",
       "    <tr>\n",
       "      <th>datetime</th>\n",
       "      <th></th>\n",
       "    </tr>\n",
       "  </thead>\n",
       "  <tbody>\n",
       "    <tr>\n",
       "      <th>2018-03-01 00:00:00</th>\n",
       "      <td>9</td>\n",
       "    </tr>\n",
       "    <tr>\n",
       "      <th>2018-03-01 00:10:00</th>\n",
       "      <td>14</td>\n",
       "    </tr>\n",
       "    <tr>\n",
       "      <th>2018-03-01 00:20:00</th>\n",
       "      <td>28</td>\n",
       "    </tr>\n",
       "    <tr>\n",
       "      <th>2018-03-01 00:30:00</th>\n",
       "      <td>20</td>\n",
       "    </tr>\n",
       "    <tr>\n",
       "      <th>2018-03-01 00:40:00</th>\n",
       "      <td>32</td>\n",
       "    </tr>\n",
       "    <tr>\n",
       "      <th>2018-03-01 00:50:00</th>\n",
       "      <td>21</td>\n",
       "    </tr>\n",
       "    <tr>\n",
       "      <th>2018-03-01 01:00:00</th>\n",
       "      <td>7</td>\n",
       "    </tr>\n",
       "    <tr>\n",
       "      <th>2018-03-01 01:10:00</th>\n",
       "      <td>5</td>\n",
       "    </tr>\n",
       "    <tr>\n",
       "      <th>2018-03-01 01:20:00</th>\n",
       "      <td>17</td>\n",
       "    </tr>\n",
       "    <tr>\n",
       "      <th>2018-03-01 01:30:00</th>\n",
       "      <td>12</td>\n",
       "    </tr>\n",
       "  </tbody>\n",
       "</table>\n",
       "</div>"
      ],
      "text/plain": [
       "                     num_orders\n",
       "datetime                       \n",
       "2018-03-01 00:00:00           9\n",
       "2018-03-01 00:10:00          14\n",
       "2018-03-01 00:20:00          28\n",
       "2018-03-01 00:30:00          20\n",
       "2018-03-01 00:40:00          32\n",
       "2018-03-01 00:50:00          21\n",
       "2018-03-01 01:00:00           7\n",
       "2018-03-01 01:10:00           5\n",
       "2018-03-01 01:20:00          17\n",
       "2018-03-01 01:30:00          12"
      ]
     },
     "execution_count": 3,
     "metadata": {},
     "output_type": "execute_result"
    }
   ],
   "source": [
    "data.head(10)"
   ]
  },
  {
   "cell_type": "code",
   "execution_count": 4,
   "metadata": {
    "scrolled": true
   },
   "outputs": [
    {
     "name": "stdout",
     "output_type": "stream",
     "text": [
      "<class 'pandas.core.frame.DataFrame'>\n",
      "DatetimeIndex: 26496 entries, 2018-03-01 00:00:00 to 2018-08-31 23:50:00\n",
      "Data columns (total 1 columns):\n",
      " #   Column      Non-Null Count  Dtype\n",
      "---  ------      --------------  -----\n",
      " 0   num_orders  26496 non-null  int64\n",
      "dtypes: int64(1)\n",
      "memory usage: 414.0 KB\n"
     ]
    }
   ],
   "source": [
    "data.info()"
   ]
  },
  {
   "cell_type": "markdown",
   "metadata": {},
   "source": [
    "Проверим пропуски."
   ]
  },
  {
   "cell_type": "code",
   "execution_count": 5,
   "metadata": {},
   "outputs": [
    {
     "data": {
      "text/plain": [
       "num_orders    0\n",
       "dtype: int64"
      ]
     },
     "execution_count": 5,
     "metadata": {},
     "output_type": "execute_result"
    }
   ],
   "source": [
    "data.isna().sum()"
   ]
  },
  {
   "cell_type": "code",
   "execution_count": 6,
   "metadata": {},
   "outputs": [],
   "source": [
    "data.dropna(inplace = True)"
   ]
  },
  {
   "cell_type": "markdown",
   "metadata": {},
   "source": [
    "Чтобы проверить, в хронологическом ли порядке расположены даты и время, посмотритим на атрибут индекса таблицы"
   ]
  },
  {
   "cell_type": "code",
   "execution_count": 7,
   "metadata": {},
   "outputs": [
    {
     "data": {
      "text/plain": [
       "True"
      ]
     },
     "execution_count": 7,
     "metadata": {},
     "output_type": "execute_result"
    }
   ],
   "source": [
    "data.index.is_monotonic"
   ]
  },
  {
   "cell_type": "markdown",
   "metadata": {},
   "source": [
    "Посмотрим на минимальные и максимальные значения индексов."
   ]
  },
  {
   "cell_type": "code",
   "execution_count": 8,
   "metadata": {},
   "outputs": [
    {
     "data": {
      "text/plain": [
       "(Timestamp('2018-03-01 00:00:00'), Timestamp('2018-08-31 23:50:00'))"
      ]
     },
     "execution_count": 8,
     "metadata": {},
     "output_type": "execute_result"
    }
   ],
   "source": [
    "data.index.min(), data.index.max()"
   ]
  },
  {
   "cell_type": "markdown",
   "metadata": {},
   "source": [
    "Взглянем на график."
   ]
  },
  {
   "cell_type": "code",
   "execution_count": 9,
   "metadata": {},
   "outputs": [
    {
     "data": {
      "image/png": "[encoded data removed]",
      "text/plain": [
       "<Figure size 432x288 with 1 Axes>"
      ]
     },
     "metadata": {
      "needs_background": "light"
     },
     "output_type": "display_data"
    }
   ],
   "source": [
    "data.plot();"
   ]
  },
  {
   "cell_type": "markdown",
   "metadata": {},
   "source": [
    "## Анализ"
   ]
  },
  {
   "cell_type": "markdown",
   "metadata": {},
   "source": [
    "Выполним ресемплирование с интервалом 1 час."
   ]
  },
  {
   "cell_type": "code",
   "execution_count": 10,
   "metadata": {
    "scrolled": false
   },
   "outputs": [
    {
     "data": {
      "text/html": [
       "<div>\n",
       "<style scoped>\n",
       "    .dataframe tbody tr th:only-of-type {\n",
       "        vertical-align: middle;\n",
       "    }\n",
       "\n",
       "    .dataframe tbody tr th {\n",
       "        vertical-align: top;\n",
       "    }\n",
       "\n",
       "    .dataframe thead th {\n",
       "        text-align: right;\n",
       "    }\n",
       "</style>\n",
       "<table border=\"1\" class=\"dataframe\">\n",
       "  <thead>\n",
       "    <tr style=\"text-align: right;\">\n",
       "      <th></th>\n",
       "      <th>num_orders</th>\n",
       "    </tr>\n",
       "    <tr>\n",
       "      <th>datetime</th>\n",
       "      <th></th>\n",
       "    </tr>\n",
       "  </thead>\n",
       "  <tbody>\n",
       "    <tr>\n",
       "      <th>2018-03-01 00:00:00</th>\n",
       "      <td>124</td>\n",
       "    </tr>\n",
       "    <tr>\n",
       "      <th>2018-03-01 01:00:00</th>\n",
       "      <td>85</td>\n",
       "    </tr>\n",
       "    <tr>\n",
       "      <th>2018-03-01 02:00:00</th>\n",
       "      <td>71</td>\n",
       "    </tr>\n",
       "    <tr>\n",
       "      <th>2018-03-01 03:00:00</th>\n",
       "      <td>66</td>\n",
       "    </tr>\n",
       "    <tr>\n",
       "      <th>2018-03-01 04:00:00</th>\n",
       "      <td>43</td>\n",
       "    </tr>\n",
       "    <tr>\n",
       "      <th>...</th>\n",
       "      <td>...</td>\n",
       "    </tr>\n",
       "    <tr>\n",
       "      <th>2018-08-31 19:00:00</th>\n",
       "      <td>136</td>\n",
       "    </tr>\n",
       "    <tr>\n",
       "      <th>2018-08-31 20:00:00</th>\n",
       "      <td>154</td>\n",
       "    </tr>\n",
       "    <tr>\n",
       "      <th>2018-08-31 21:00:00</th>\n",
       "      <td>159</td>\n",
       "    </tr>\n",
       "    <tr>\n",
       "      <th>2018-08-31 22:00:00</th>\n",
       "      <td>223</td>\n",
       "    </tr>\n",
       "    <tr>\n",
       "      <th>2018-08-31 23:00:00</th>\n",
       "      <td>205</td>\n",
       "    </tr>\n",
       "  </tbody>\n",
       "</table>\n",
       "<p>4416 rows × 1 columns</p>\n",
       "</div>"
      ],
      "text/plain": [
       "                     num_orders\n",
       "datetime                       \n",
       "2018-03-01 00:00:00         124\n",
       "2018-03-01 01:00:00          85\n",
       "2018-03-01 02:00:00          71\n",
       "2018-03-01 03:00:00          66\n",
       "2018-03-01 04:00:00          43\n",
       "...                         ...\n",
       "2018-08-31 19:00:00         136\n",
       "2018-08-31 20:00:00         154\n",
       "2018-08-31 21:00:00         159\n",
       "2018-08-31 22:00:00         223\n",
       "2018-08-31 23:00:00         205\n",
       "\n",
       "[4416 rows x 1 columns]"
      ]
     },
     "execution_count": 10,
     "metadata": {},
     "output_type": "execute_result"
    }
   ],
   "source": [
    "data = data.resample('1H').sum()\n",
    "data"
   ]
  },
  {
   "cell_type": "code",
   "execution_count": 11,
   "metadata": {},
   "outputs": [
    {
     "data": {
      "image/png": "[encoded data removed]",
      "text/plain": [
       "<Figure size 864x432 with 1 Axes>"
      ]
     },
     "metadata": {
      "needs_background": "light"
     },
     "output_type": "display_data"
    }
   ],
   "source": [
    "data.plot(figsize=(12,6));"
   ]
  },
  {
   "cell_type": "markdown",
   "metadata": {},
   "source": [
    "Посмотрим на скользящее среднее"
   ]
  },
  {
   "cell_type": "code",
   "execution_count": 12,
   "metadata": {},
   "outputs": [],
   "source": [
    "rolling_mean = data.rolling(10).mean()"
   ]
  },
  {
   "cell_type": "code",
   "execution_count": 13,
   "metadata": {},
   "outputs": [
    {
     "data": {
      "image/png": "[encoded data removed]",
      "text/plain": [
       "<Figure size 864x432 with 1 Axes>"
      ]
     },
     "metadata": {
      "needs_background": "light"
     },
     "output_type": "display_data"
    }
   ],
   "source": [
    "rolling_mean.plot(figsize=(12,6));"
   ]
  },
  {
   "cell_type": "markdown",
   "metadata": {},
   "source": [
    "Посмотрим на тренды и сезонность"
   ]
  },
  {
   "cell_type": "code",
   "execution_count": 14,
   "metadata": {},
   "outputs": [],
   "source": [
    "decomposed = seasonal_decompose(data)"
   ]
  },
  {
   "cell_type": "code",
   "execution_count": 15,
   "metadata": {},
   "outputs": [
    {
     "data": {
      "image/png": "[encoded data removed]",
      "text/plain": [
       "<Figure size 864x576 with 3 Axes>"
      ]
     },
     "metadata": {
      "needs_background": "light"
     },
     "output_type": "display_data"
    }
   ],
   "source": [
    "fig = plt.subplots(figsize=(12, 8))\n",
    "plt.subplot(311)\n",
    "decomposed.trend.plot(ax=plt.gca())\n",
    "plt.title('Trend')\n",
    "plt.subplot(312)\n",
    "decomposed.seasonal.plot(ax=plt.gca())\n",
    "plt.title('Seasonality')\n",
    "plt.subplot(313)\n",
    "decomposed.resid.plot(ax=plt.gca())\n",
    "plt.title('Residuals')\n",
    "plt.tight_layout()"
   ]
  },
  {
   "cell_type": "markdown",
   "metadata": {},
   "source": [
    "Т.к у нас ресемплирование по одному часу, посмотрим, как меняется количество заказов в течение недели. Возьмём 1 неделю нескольких месяцев."
   ]
  },
  {
   "cell_type": "code",
   "execution_count": 16,
   "metadata": {},
   "outputs": [
    {
     "data": {
      "image/png": "[encoded data removed]",
      "text/plain": [
       "<Figure size 1152x576 with 4 Axes>"
      ]
     },
     "metadata": {
      "needs_background": "light"
     },
     "output_type": "display_data"
    }
   ],
   "source": [
    "fig = plt.subplots(figsize=(16, 8))\n",
    "plt.subplot(221)\n",
    "decomposed.seasonal['2018-03-05':'2018-03-11'].rolling(10).mean().plot(title='1 Неделя марта', ax=plt.gca());\n",
    "plt.subplot(222)\n",
    "decomposed.seasonal['2018-04-02':'2018-04-08'].rolling(10).mean().plot(title='1 Неделя апреля', ax=plt.gca());\n",
    "plt.subplot(223)\n",
    "decomposed.seasonal['2018-04-30':'2018-05-06'].rolling(10).mean().plot(title='1 Неделя мая', ax=plt.gca());\n",
    "plt.subplot(224)\n",
    "decomposed.seasonal['2018-06-4':'2018-06-10'].rolling(10).mean().plot(title='1 Неделя июня', ax=plt.gca());"
   ]
  },
  {
   "cell_type": "markdown",
   "metadata": {},
   "source": [
    "Взглянем поближе как меняется спрос в течения дня."
   ]
  },
  {
   "cell_type": "code",
   "execution_count": 17,
   "metadata": {},
   "outputs": [
    {
     "data": {
      "image/png": "[encoded data removed]",
      "text/plain": [
       "<Figure size 1080x144 with 1 Axes>"
      ]
     },
     "metadata": {
      "needs_background": "light"
     },
     "output_type": "display_data"
    }
   ],
   "source": [
    "decomposed.seasonal['2018-05-06':'2018-05-08'].plot(figsize=(15, 2), ax=plt.gca());"
   ]
  },
  {
   "cell_type": "markdown",
   "metadata": {},
   "source": [
    "**Вывод:** Мы выполним ресемплирование с интервалом 1 час. Построили график с трендами и сезонностью. На графике \"Trend\" наблюдаем, что летом увеличивается количество заказов. Так же посмотрели, как меняется спроса в течения дня. Наблюдаем уменьшения спроса под утро - 6:00 и увеличение ближе к полуночи с небольшими перепадами."
   ]
  },
  {
   "cell_type": "markdown",
   "metadata": {},
   "source": [
    "## Обучение"
   ]
  },
  {
   "cell_type": "code",
   "execution_count": 18,
   "metadata": {},
   "outputs": [],
   "source": [
    "STATE = np.random.RandomState(12345)"
   ]
  },
  {
   "cell_type": "markdown",
   "metadata": {},
   "source": [
    "Создадим признаки для горизонта прогнозирования. Признаками будет 1 час - задача проекта и неделя. Год и месяц не подойдут, не большой период, день не сильно будет видна тенденция. Так же добавим скользящее среднее и разность временного ряда."
   ]
  },
  {
   "cell_type": "code",
   "execution_count": 19,
   "metadata": {
    "scrolled": true
   },
   "outputs": [],
   "source": [
    "def make_features(data, max_lag, rolling_mean_size):\n",
    "    df = data.copy()\n",
    "    df['hour'] = df.index.hour\n",
    "    df['dayofweek'] = df.index.dayofweek\n",
    "    \n",
    "    for lag in range(1, max_lag + 1):\n",
    "        df['lag_{}'.format(lag)] = df['num_orders'].shift(lag)\n",
    "\n",
    "    df['rolling_mean'] = df['num_orders'].shift().rolling(rolling_mean_size).mean()\n",
    "    \n",
    "    return df"
   ]
  },
  {
   "cell_type": "code",
   "execution_count": 20,
   "metadata": {
    "scrolled": false
   },
   "outputs": [
    {
     "data": {
      "text/html": [
       "<div>\n",
       "<style scoped>\n",
       "    .dataframe tbody tr th:only-of-type {\n",
       "        vertical-align: middle;\n",
       "    }\n",
       "\n",
       "    .dataframe tbody tr th {\n",
       "        vertical-align: top;\n",
       "    }\n",
       "\n",
       "    .dataframe thead th {\n",
       "        text-align: right;\n",
       "    }\n",
       "</style>\n",
       "<table border=\"1\" class=\"dataframe\">\n",
       "  <thead>\n",
       "    <tr style=\"text-align: right;\">\n",
       "      <th></th>\n",
       "      <th>num_orders</th>\n",
       "      <th>hour</th>\n",
       "      <th>dayofweek</th>\n",
       "      <th>lag_1</th>\n",
       "      <th>lag_2</th>\n",
       "      <th>lag_3</th>\n",
       "      <th>lag_4</th>\n",
       "      <th>lag_5</th>\n",
       "      <th>lag_6</th>\n",
       "      <th>lag_7</th>\n",
       "      <th>lag_8</th>\n",
       "      <th>lag_9</th>\n",
       "      <th>rolling_mean</th>\n",
       "    </tr>\n",
       "    <tr>\n",
       "      <th>datetime</th>\n",
       "      <th></th>\n",
       "      <th></th>\n",
       "      <th></th>\n",
       "      <th></th>\n",
       "      <th></th>\n",
       "      <th></th>\n",
       "      <th></th>\n",
       "      <th></th>\n",
       "      <th></th>\n",
       "      <th></th>\n",
       "      <th></th>\n",
       "      <th></th>\n",
       "      <th></th>\n",
       "    </tr>\n",
       "  </thead>\n",
       "  <tbody>\n",
       "    <tr>\n",
       "      <th>2018-03-01 00:00:00</th>\n",
       "      <td>124</td>\n",
       "      <td>0</td>\n",
       "      <td>3</td>\n",
       "      <td>NaN</td>\n",
       "      <td>NaN</td>\n",
       "      <td>NaN</td>\n",
       "      <td>NaN</td>\n",
       "      <td>NaN</td>\n",
       "      <td>NaN</td>\n",
       "      <td>NaN</td>\n",
       "      <td>NaN</td>\n",
       "      <td>NaN</td>\n",
       "      <td>NaN</td>\n",
       "    </tr>\n",
       "    <tr>\n",
       "      <th>2018-03-01 01:00:00</th>\n",
       "      <td>85</td>\n",
       "      <td>1</td>\n",
       "      <td>3</td>\n",
       "      <td>124.0</td>\n",
       "      <td>NaN</td>\n",
       "      <td>NaN</td>\n",
       "      <td>NaN</td>\n",
       "      <td>NaN</td>\n",
       "      <td>NaN</td>\n",
       "      <td>NaN</td>\n",
       "      <td>NaN</td>\n",
       "      <td>NaN</td>\n",
       "      <td>NaN</td>\n",
       "    </tr>\n",
       "    <tr>\n",
       "      <th>2018-03-01 02:00:00</th>\n",
       "      <td>71</td>\n",
       "      <td>2</td>\n",
       "      <td>3</td>\n",
       "      <td>85.0</td>\n",
       "      <td>124.0</td>\n",
       "      <td>NaN</td>\n",
       "      <td>NaN</td>\n",
       "      <td>NaN</td>\n",
       "      <td>NaN</td>\n",
       "      <td>NaN</td>\n",
       "      <td>NaN</td>\n",
       "      <td>NaN</td>\n",
       "      <td>NaN</td>\n",
       "    </tr>\n",
       "    <tr>\n",
       "      <th>2018-03-01 03:00:00</th>\n",
       "      <td>66</td>\n",
       "      <td>3</td>\n",
       "      <td>3</td>\n",
       "      <td>71.0</td>\n",
       "      <td>85.0</td>\n",
       "      <td>124.0</td>\n",
       "      <td>NaN</td>\n",
       "      <td>NaN</td>\n",
       "      <td>NaN</td>\n",
       "      <td>NaN</td>\n",
       "      <td>NaN</td>\n",
       "      <td>NaN</td>\n",
       "      <td>NaN</td>\n",
       "    </tr>\n",
       "    <tr>\n",
       "      <th>2018-03-01 04:00:00</th>\n",
       "      <td>43</td>\n",
       "      <td>4</td>\n",
       "      <td>3</td>\n",
       "      <td>66.0</td>\n",
       "      <td>71.0</td>\n",
       "      <td>85.0</td>\n",
       "      <td>124.0</td>\n",
       "      <td>NaN</td>\n",
       "      <td>NaN</td>\n",
       "      <td>NaN</td>\n",
       "      <td>NaN</td>\n",
       "      <td>NaN</td>\n",
       "      <td>NaN</td>\n",
       "    </tr>\n",
       "    <tr>\n",
       "      <th>...</th>\n",
       "      <td>...</td>\n",
       "      <td>...</td>\n",
       "      <td>...</td>\n",
       "      <td>...</td>\n",
       "      <td>...</td>\n",
       "      <td>...</td>\n",
       "      <td>...</td>\n",
       "      <td>...</td>\n",
       "      <td>...</td>\n",
       "      <td>...</td>\n",
       "      <td>...</td>\n",
       "      <td>...</td>\n",
       "      <td>...</td>\n",
       "    </tr>\n",
       "    <tr>\n",
       "      <th>2018-08-31 19:00:00</th>\n",
       "      <td>136</td>\n",
       "      <td>19</td>\n",
       "      <td>4</td>\n",
       "      <td>207.0</td>\n",
       "      <td>217.0</td>\n",
       "      <td>197.0</td>\n",
       "      <td>116.0</td>\n",
       "      <td>133.0</td>\n",
       "      <td>166.0</td>\n",
       "      <td>136.0</td>\n",
       "      <td>167.0</td>\n",
       "      <td>191.0</td>\n",
       "      <td>170.000000</td>\n",
       "    </tr>\n",
       "    <tr>\n",
       "      <th>2018-08-31 20:00:00</th>\n",
       "      <td>154</td>\n",
       "      <td>20</td>\n",
       "      <td>4</td>\n",
       "      <td>136.0</td>\n",
       "      <td>207.0</td>\n",
       "      <td>217.0</td>\n",
       "      <td>197.0</td>\n",
       "      <td>116.0</td>\n",
       "      <td>133.0</td>\n",
       "      <td>166.0</td>\n",
       "      <td>136.0</td>\n",
       "      <td>167.0</td>\n",
       "      <td>163.888889</td>\n",
       "    </tr>\n",
       "    <tr>\n",
       "      <th>2018-08-31 21:00:00</th>\n",
       "      <td>159</td>\n",
       "      <td>21</td>\n",
       "      <td>4</td>\n",
       "      <td>154.0</td>\n",
       "      <td>136.0</td>\n",
       "      <td>207.0</td>\n",
       "      <td>217.0</td>\n",
       "      <td>197.0</td>\n",
       "      <td>116.0</td>\n",
       "      <td>133.0</td>\n",
       "      <td>166.0</td>\n",
       "      <td>136.0</td>\n",
       "      <td>162.444444</td>\n",
       "    </tr>\n",
       "    <tr>\n",
       "      <th>2018-08-31 22:00:00</th>\n",
       "      <td>223</td>\n",
       "      <td>22</td>\n",
       "      <td>4</td>\n",
       "      <td>159.0</td>\n",
       "      <td>154.0</td>\n",
       "      <td>136.0</td>\n",
       "      <td>207.0</td>\n",
       "      <td>217.0</td>\n",
       "      <td>197.0</td>\n",
       "      <td>116.0</td>\n",
       "      <td>133.0</td>\n",
       "      <td>166.0</td>\n",
       "      <td>165.000000</td>\n",
       "    </tr>\n",
       "    <tr>\n",
       "      <th>2018-08-31 23:00:00</th>\n",
       "      <td>205</td>\n",
       "      <td>23</td>\n",
       "      <td>4</td>\n",
       "      <td>223.0</td>\n",
       "      <td>159.0</td>\n",
       "      <td>154.0</td>\n",
       "      <td>136.0</td>\n",
       "      <td>207.0</td>\n",
       "      <td>217.0</td>\n",
       "      <td>197.0</td>\n",
       "      <td>116.0</td>\n",
       "      <td>133.0</td>\n",
       "      <td>171.333333</td>\n",
       "    </tr>\n",
       "  </tbody>\n",
       "</table>\n",
       "<p>4416 rows × 13 columns</p>\n",
       "</div>"
      ],
      "text/plain": [
       "                     num_orders  hour  dayofweek  lag_1  lag_2  lag_3  lag_4  \\\n",
       "datetime                                                                       \n",
       "2018-03-01 00:00:00         124     0          3    NaN    NaN    NaN    NaN   \n",
       "2018-03-01 01:00:00          85     1          3  124.0    NaN    NaN    NaN   \n",
       "2018-03-01 02:00:00          71     2          3   85.0  124.0    NaN    NaN   \n",
       "2018-03-01 03:00:00          66     3          3   71.0   85.0  124.0    NaN   \n",
       "2018-03-01 04:00:00          43     4          3   66.0   71.0   85.0  124.0   \n",
       "...                         ...   ...        ...    ...    ...    ...    ...   \n",
       "2018-08-31 19:00:00         136    19          4  207.0  217.0  197.0  116.0   \n",
       "2018-08-31 20:00:00         154    20          4  136.0  207.0  217.0  197.0   \n",
       "2018-08-31 21:00:00         159    21          4  154.0  136.0  207.0  217.0   \n",
       "2018-08-31 22:00:00         223    22          4  159.0  154.0  136.0  207.0   \n",
       "2018-08-31 23:00:00         205    23          4  223.0  159.0  154.0  136.0   \n",
       "\n",
       "                     lag_5  lag_6  lag_7  lag_8  lag_9  rolling_mean  \n",
       "datetime                                                              \n",
       "2018-03-01 00:00:00    NaN    NaN    NaN    NaN    NaN           NaN  \n",
       "2018-03-01 01:00:00    NaN    NaN    NaN    NaN    NaN           NaN  \n",
       "2018-03-01 02:00:00    NaN    NaN    NaN    NaN    NaN           NaN  \n",
       "2018-03-01 03:00:00    NaN    NaN    NaN    NaN    NaN           NaN  \n",
       "2018-03-01 04:00:00    NaN    NaN    NaN    NaN    NaN           NaN  \n",
       "...                    ...    ...    ...    ...    ...           ...  \n",
       "2018-08-31 19:00:00  133.0  166.0  136.0  167.0  191.0    170.000000  \n",
       "2018-08-31 20:00:00  116.0  133.0  166.0  136.0  167.0    163.888889  \n",
       "2018-08-31 21:00:00  197.0  116.0  133.0  166.0  136.0    162.444444  \n",
       "2018-08-31 22:00:00  217.0  197.0  116.0  133.0  166.0    165.000000  \n",
       "2018-08-31 23:00:00  207.0  217.0  197.0  116.0  133.0    171.333333  \n",
       "\n",
       "[4416 rows x 13 columns]"
      ]
     },
     "execution_count": 20,
     "metadata": {},
     "output_type": "execute_result"
    }
   ],
   "source": [
    "make_features(data, 9, 9)"
   ]
  },
  {
   "cell_type": "code",
   "execution_count": 21,
   "metadata": {},
   "outputs": [],
   "source": [
    "# Разобьем на обучающую и тестовую выборку.\n",
    "\n",
    "train, test = train_test_split(make_features(data, 9, 9), shuffle=False, test_size=0.1)\n",
    "train = train.dropna()"
   ]
  },
  {
   "cell_type": "code",
   "execution_count": 22,
   "metadata": {},
   "outputs": [
    {
     "data": {
      "text/html": [
       "<div>\n",
       "<style scoped>\n",
       "    .dataframe tbody tr th:only-of-type {\n",
       "        vertical-align: middle;\n",
       "    }\n",
       "\n",
       "    .dataframe tbody tr th {\n",
       "        vertical-align: top;\n",
       "    }\n",
       "\n",
       "    .dataframe thead th {\n",
       "        text-align: right;\n",
       "    }\n",
       "</style>\n",
       "<table border=\"1\" class=\"dataframe\">\n",
       "  <thead>\n",
       "    <tr style=\"text-align: right;\">\n",
       "      <th></th>\n",
       "      <th>num_orders</th>\n",
       "      <th>hour</th>\n",
       "      <th>dayofweek</th>\n",
       "      <th>lag_1</th>\n",
       "      <th>lag_2</th>\n",
       "      <th>lag_3</th>\n",
       "      <th>lag_4</th>\n",
       "      <th>lag_5</th>\n",
       "      <th>lag_6</th>\n",
       "      <th>lag_7</th>\n",
       "      <th>lag_8</th>\n",
       "      <th>lag_9</th>\n",
       "      <th>rolling_mean</th>\n",
       "    </tr>\n",
       "    <tr>\n",
       "      <th>datetime</th>\n",
       "      <th></th>\n",
       "      <th></th>\n",
       "      <th></th>\n",
       "      <th></th>\n",
       "      <th></th>\n",
       "      <th></th>\n",
       "      <th></th>\n",
       "      <th></th>\n",
       "      <th></th>\n",
       "      <th></th>\n",
       "      <th></th>\n",
       "      <th></th>\n",
       "      <th></th>\n",
       "    </tr>\n",
       "  </thead>\n",
       "  <tbody>\n",
       "    <tr>\n",
       "      <th>2018-03-01 09:00:00</th>\n",
       "      <td>69</td>\n",
       "      <td>9</td>\n",
       "      <td>3</td>\n",
       "      <td>34.0</td>\n",
       "      <td>15.0</td>\n",
       "      <td>12.0</td>\n",
       "      <td>6.0</td>\n",
       "      <td>43.0</td>\n",
       "      <td>66.0</td>\n",
       "      <td>71.0</td>\n",
       "      <td>85.0</td>\n",
       "      <td>124.0</td>\n",
       "      <td>50.666667</td>\n",
       "    </tr>\n",
       "    <tr>\n",
       "      <th>2018-03-01 10:00:00</th>\n",
       "      <td>64</td>\n",
       "      <td>10</td>\n",
       "      <td>3</td>\n",
       "      <td>69.0</td>\n",
       "      <td>34.0</td>\n",
       "      <td>15.0</td>\n",
       "      <td>12.0</td>\n",
       "      <td>6.0</td>\n",
       "      <td>43.0</td>\n",
       "      <td>66.0</td>\n",
       "      <td>71.0</td>\n",
       "      <td>85.0</td>\n",
       "      <td>44.555556</td>\n",
       "    </tr>\n",
       "    <tr>\n",
       "      <th>2018-03-01 11:00:00</th>\n",
       "      <td>96</td>\n",
       "      <td>11</td>\n",
       "      <td>3</td>\n",
       "      <td>64.0</td>\n",
       "      <td>69.0</td>\n",
       "      <td>34.0</td>\n",
       "      <td>15.0</td>\n",
       "      <td>12.0</td>\n",
       "      <td>6.0</td>\n",
       "      <td>43.0</td>\n",
       "      <td>66.0</td>\n",
       "      <td>71.0</td>\n",
       "      <td>42.222222</td>\n",
       "    </tr>\n",
       "    <tr>\n",
       "      <th>2018-03-01 12:00:00</th>\n",
       "      <td>30</td>\n",
       "      <td>12</td>\n",
       "      <td>3</td>\n",
       "      <td>96.0</td>\n",
       "      <td>64.0</td>\n",
       "      <td>69.0</td>\n",
       "      <td>34.0</td>\n",
       "      <td>15.0</td>\n",
       "      <td>12.0</td>\n",
       "      <td>6.0</td>\n",
       "      <td>43.0</td>\n",
       "      <td>66.0</td>\n",
       "      <td>45.000000</td>\n",
       "    </tr>\n",
       "    <tr>\n",
       "      <th>2018-03-01 13:00:00</th>\n",
       "      <td>32</td>\n",
       "      <td>13</td>\n",
       "      <td>3</td>\n",
       "      <td>30.0</td>\n",
       "      <td>96.0</td>\n",
       "      <td>64.0</td>\n",
       "      <td>69.0</td>\n",
       "      <td>34.0</td>\n",
       "      <td>15.0</td>\n",
       "      <td>12.0</td>\n",
       "      <td>6.0</td>\n",
       "      <td>43.0</td>\n",
       "      <td>41.000000</td>\n",
       "    </tr>\n",
       "    <tr>\n",
       "      <th>...</th>\n",
       "      <td>...</td>\n",
       "      <td>...</td>\n",
       "      <td>...</td>\n",
       "      <td>...</td>\n",
       "      <td>...</td>\n",
       "      <td>...</td>\n",
       "      <td>...</td>\n",
       "      <td>...</td>\n",
       "      <td>...</td>\n",
       "      <td>...</td>\n",
       "      <td>...</td>\n",
       "      <td>...</td>\n",
       "      <td>...</td>\n",
       "    </tr>\n",
       "    <tr>\n",
       "      <th>2018-08-13 09:00:00</th>\n",
       "      <td>137</td>\n",
       "      <td>9</td>\n",
       "      <td>0</td>\n",
       "      <td>91.0</td>\n",
       "      <td>39.0</td>\n",
       "      <td>66.0</td>\n",
       "      <td>83.0</td>\n",
       "      <td>143.0</td>\n",
       "      <td>168.0</td>\n",
       "      <td>437.0</td>\n",
       "      <td>273.0</td>\n",
       "      <td>160.0</td>\n",
       "      <td>162.222222</td>\n",
       "    </tr>\n",
       "    <tr>\n",
       "      <th>2018-08-13 10:00:00</th>\n",
       "      <td>156</td>\n",
       "      <td>10</td>\n",
       "      <td>0</td>\n",
       "      <td>137.0</td>\n",
       "      <td>91.0</td>\n",
       "      <td>39.0</td>\n",
       "      <td>66.0</td>\n",
       "      <td>83.0</td>\n",
       "      <td>143.0</td>\n",
       "      <td>168.0</td>\n",
       "      <td>437.0</td>\n",
       "      <td>273.0</td>\n",
       "      <td>159.666667</td>\n",
       "    </tr>\n",
       "    <tr>\n",
       "      <th>2018-08-13 11:00:00</th>\n",
       "      <td>144</td>\n",
       "      <td>11</td>\n",
       "      <td>0</td>\n",
       "      <td>156.0</td>\n",
       "      <td>137.0</td>\n",
       "      <td>91.0</td>\n",
       "      <td>39.0</td>\n",
       "      <td>66.0</td>\n",
       "      <td>83.0</td>\n",
       "      <td>143.0</td>\n",
       "      <td>168.0</td>\n",
       "      <td>437.0</td>\n",
       "      <td>146.666667</td>\n",
       "    </tr>\n",
       "    <tr>\n",
       "      <th>2018-08-13 12:00:00</th>\n",
       "      <td>92</td>\n",
       "      <td>12</td>\n",
       "      <td>0</td>\n",
       "      <td>144.0</td>\n",
       "      <td>156.0</td>\n",
       "      <td>137.0</td>\n",
       "      <td>91.0</td>\n",
       "      <td>39.0</td>\n",
       "      <td>66.0</td>\n",
       "      <td>83.0</td>\n",
       "      <td>143.0</td>\n",
       "      <td>168.0</td>\n",
       "      <td>114.111111</td>\n",
       "    </tr>\n",
       "    <tr>\n",
       "      <th>2018-08-13 13:00:00</th>\n",
       "      <td>119</td>\n",
       "      <td>13</td>\n",
       "      <td>0</td>\n",
       "      <td>92.0</td>\n",
       "      <td>144.0</td>\n",
       "      <td>156.0</td>\n",
       "      <td>137.0</td>\n",
       "      <td>91.0</td>\n",
       "      <td>39.0</td>\n",
       "      <td>66.0</td>\n",
       "      <td>83.0</td>\n",
       "      <td>143.0</td>\n",
       "      <td>105.666667</td>\n",
       "    </tr>\n",
       "  </tbody>\n",
       "</table>\n",
       "<p>3965 rows × 13 columns</p>\n",
       "</div>"
      ],
      "text/plain": [
       "                     num_orders  hour  dayofweek  lag_1  lag_2  lag_3  lag_4  \\\n",
       "datetime                                                                       \n",
       "2018-03-01 09:00:00          69     9          3   34.0   15.0   12.0    6.0   \n",
       "2018-03-01 10:00:00          64    10          3   69.0   34.0   15.0   12.0   \n",
       "2018-03-01 11:00:00          96    11          3   64.0   69.0   34.0   15.0   \n",
       "2018-03-01 12:00:00          30    12          3   96.0   64.0   69.0   34.0   \n",
       "2018-03-01 13:00:00          32    13          3   30.0   96.0   64.0   69.0   \n",
       "...                         ...   ...        ...    ...    ...    ...    ...   \n",
       "2018-08-13 09:00:00         137     9          0   91.0   39.0   66.0   83.0   \n",
       "2018-08-13 10:00:00         156    10          0  137.0   91.0   39.0   66.0   \n",
       "2018-08-13 11:00:00         144    11          0  156.0  137.0   91.0   39.0   \n",
       "2018-08-13 12:00:00          92    12          0  144.0  156.0  137.0   91.0   \n",
       "2018-08-13 13:00:00         119    13          0   92.0  144.0  156.0  137.0   \n",
       "\n",
       "                     lag_5  lag_6  lag_7  lag_8  lag_9  rolling_mean  \n",
       "datetime                                                              \n",
       "2018-03-01 09:00:00   43.0   66.0   71.0   85.0  124.0     50.666667  \n",
       "2018-03-01 10:00:00    6.0   43.0   66.0   71.0   85.0     44.555556  \n",
       "2018-03-01 11:00:00   12.0    6.0   43.0   66.0   71.0     42.222222  \n",
       "2018-03-01 12:00:00   15.0   12.0    6.0   43.0   66.0     45.000000  \n",
       "2018-03-01 13:00:00   34.0   15.0   12.0    6.0   43.0     41.000000  \n",
       "...                    ...    ...    ...    ...    ...           ...  \n",
       "2018-08-13 09:00:00  143.0  168.0  437.0  273.0  160.0    162.222222  \n",
       "2018-08-13 10:00:00   83.0  143.0  168.0  437.0  273.0    159.666667  \n",
       "2018-08-13 11:00:00   66.0   83.0  143.0  168.0  437.0    146.666667  \n",
       "2018-08-13 12:00:00   39.0   66.0   83.0  143.0  168.0    114.111111  \n",
       "2018-08-13 13:00:00   91.0   39.0   66.0   83.0  143.0    105.666667  \n",
       "\n",
       "[3965 rows x 13 columns]"
      ]
     },
     "execution_count": 22,
     "metadata": {},
     "output_type": "execute_result"
    }
   ],
   "source": [
    "train"
   ]
  },
  {
   "cell_type": "code",
   "execution_count": 23,
   "metadata": {},
   "outputs": [],
   "source": [
    "features_train = train.drop(['num_orders'], axis = 1)\n",
    "target_train = train['num_orders']\n",
    "features_test = test.drop(['num_orders'], axis = 1)\n",
    "target_test = test['num_orders']"
   ]
  },
  {
   "cell_type": "code",
   "execution_count": 24,
   "metadata": {},
   "outputs": [
    {
     "name": "stdout",
     "output_type": "stream",
     "text": [
      "Количество строк на обучающей выборке 3965\n",
      "Количество строк на тестовую выборку 442\n"
     ]
    }
   ],
   "source": [
    "print('Количество строк на обучающей выборке', features_train.shape[0])\n",
    "print('Количество строк на тестовую выборку', features_test.shape[0])"
   ]
  },
  {
   "cell_type": "markdown",
   "metadata": {},
   "source": [
    "### Модель Random Forest"
   ]
  },
  {
   "cell_type": "code",
   "execution_count": 25,
   "metadata": {},
   "outputs": [],
   "source": [
    "# Фиксируем временной интервал\n",
    "\n",
    "tscv = TimeSeriesSplit(n_splits=3)"
   ]
  },
  {
   "cell_type": "code",
   "execution_count": 26,
   "metadata": {},
   "outputs": [],
   "source": [
    "forest_model =RandomForestRegressor(random_state = STATE)\n",
    "\n",
    "parametr_set = {'max_depth': [10, 30, 50], \n",
    "                'min_samples_split': [2, 3, 4], \n",
    "                'min_samples_leaf': [10, 20]\n",
    "               }\n",
    "\n",
    "model_forest = GridSearchCV(estimator=forest_model, param_grid=parametr_set, \n",
    "                               scoring='neg_mean_squared_error', cv = tscv)"
   ]
  },
  {
   "cell_type": "code",
   "execution_count": 27,
   "metadata": {},
   "outputs": [
    {
     "name": "stdout",
     "output_type": "stream",
     "text": [
      "Параметры: {'max_depth': 30, 'min_samples_leaf': 10, 'min_samples_split': 2}\n",
      "RMSE: 28.25277559098524\n",
      "CPU times: user 39.2 s, sys: 156 ms, total: 39.3 s\n",
      "Wall time: 39.3 s\n"
     ]
    }
   ],
   "source": [
    "%%time\n",
    "\n",
    "model_forest.fit(features_train, target_train)\n",
    "print(\"Параметры:\", model_forest.best_params_)\n",
    "print('RMSE:', np.sqrt(-model_forest.best_score_))"
   ]
  },
  {
   "cell_type": "markdown",
   "metadata": {},
   "source": [
    "### Обучим модель CatBoost"
   ]
  },
  {
   "cell_type": "code",
   "execution_count": 28,
   "metadata": {},
   "outputs": [],
   "source": [
    "cat_model = CatBoostRegressor(verbose=False)\n",
    "\n",
    "parameters_cat = {'iterations':[50, 100],\n",
    "                  'learning_rate':[0.1, 0.3, 0.7],\n",
    "                  'l2_leaf_reg':[3, 4, 6]\n",
    "                 }\n",
    "\n",
    "model_cat = GridSearchCV(estimator=cat_model, param_grid=parameters_cat, \n",
    "                               scoring='neg_mean_squared_error', cv = tscv)"
   ]
  },
  {
   "cell_type": "code",
   "execution_count": 29,
   "metadata": {},
   "outputs": [
    {
     "name": "stdout",
     "output_type": "stream",
     "text": [
      "Параметры: {'iterations': 100, 'l2_leaf_reg': 6, 'learning_rate': 0.3}\n",
      "RMSE: 27.86388683218474\n",
      "CPU times: user 9.55 s, sys: 587 ms, total: 10.1 s\n",
      "Wall time: 37.7 s\n"
     ]
    }
   ],
   "source": [
    "%%time\n",
    "\n",
    "model_cat.fit(features_train, target_train)\n",
    "print(\"Параметры:\", model_cat.best_params_)\n",
    "print('RMSE:', np.sqrt(-model_cat.best_score_))"
   ]
  },
  {
   "cell_type": "markdown",
   "metadata": {},
   "source": [
    "### Обучим модель LightGBM"
   ]
  },
  {
   "cell_type": "code",
   "execution_count": 30,
   "metadata": {},
   "outputs": [],
   "source": [
    "light_model = LGBMRegressor(verbosity= -1, random_state = STATE, n_jobs=4)\n",
    "\n",
    "parameters_light = {'num_leaves': [10, 30, 50, 100], 'max_depth': [5, 20, 30, 50], \n",
    "                    'learning_rate':[0.1, 0.5, 0.8]}\n",
    "\n",
    "model_light = GridSearchCV(estimator=light_model, param_grid=parameters_light, scoring='neg_mean_squared_error', cv = tscv)"
   ]
  },
  {
   "cell_type": "code",
   "execution_count": 31,
   "metadata": {},
   "outputs": [
    {
     "name": "stdout",
     "output_type": "stream",
     "text": [
      "Параметры: {'learning_rate': 0.1, 'max_depth': 30, 'num_leaves': 50}\n",
      "RMSE: 27.766773245859426\n",
      "CPU times: user 1min 34s, sys: 2.16 s, total: 1min 36s\n",
      "Wall time: 1min 37s\n"
     ]
    }
   ],
   "source": [
    "%%time\n",
    "\n",
    "model_light.fit(features_train, target_train)\n",
    "print(\"Параметры:\", model_light.best_params_)\n",
    "print('RMSE:', np.sqrt(-model_light.best_score_))"
   ]
  },
  {
   "cell_type": "markdown",
   "metadata": {},
   "source": [
    "**Итог:** Лучший результат RMSE показывает модель LightGBM. **RMSE: 27.76**. "
   ]
  },
  {
   "cell_type": "markdown",
   "metadata": {},
   "source": [
    "## Тестирование"
   ]
  },
  {
   "cell_type": "markdown",
   "metadata": {},
   "source": [
    "Проверяем на тестовой выборке нашу модель."
   ]
  },
  {
   "cell_type": "code",
   "execution_count": 32,
   "metadata": {},
   "outputs": [
    {
     "name": "stdout",
     "output_type": "stream",
     "text": [
      "CPU times: user 16.8 ms, sys: 223 µs, total: 17 ms\n",
      "Wall time: 14 ms\n"
     ]
    },
    {
     "data": {
      "text/plain": [
       "45.657906123851525"
      ]
     },
     "execution_count": 32,
     "metadata": {},
     "output_type": "execute_result"
    }
   ],
   "source": [
    "%%time\n",
    "\n",
    "predict_light = model_light.best_estimator_.predict(features_test)\n",
    "mse = mean_squared_error(target_test, predict_light)\n",
    "rmse = np.sqrt(mse)\n",
    "rmse"
   ]
  },
  {
   "cell_type": "markdown",
   "metadata": {},
   "source": [
    "Сравненим с dummy моделью."
   ]
  },
  {
   "cell_type": "code",
   "execution_count": 33,
   "metadata": {},
   "outputs": [
    {
     "name": "stdout",
     "output_type": "stream",
     "text": [
      "RMSE: 84.69882415876955\n"
     ]
    }
   ],
   "source": [
    "baseline_model = DummyRegressor()\n",
    "baseline_model.fit(features_train, target_train)\n",
    "predicted_test = baseline_model.predict(features_test)\n",
    "mse = mean_squared_error(target_test, predicted_test)\n",
    "print(\"RMSE:\", np.sqrt(mse))"
   ]
  },
  {
   "cell_type": "code",
   "execution_count": 34,
   "metadata": {},
   "outputs": [
    {
     "data": {
      "image/png": "[encoded data removed]",
      "text/plain": [
       "<Figure size 1152x576 with 1 Axes>"
      ]
     },
     "metadata": {
      "needs_background": "light"
     },
     "output_type": "display_data"
    }
   ],
   "source": [
    "fig = plt.subplots(figsize=(16, 8))\n",
    "\n",
    "plt.plot(target_test, label = 'Target')\n",
    "plt.plot(target_test.index, predict_light, label = 'Predict')\n",
    "plt.legend();"
   ]
  },
  {
   "cell_type": "markdown",
   "metadata": {},
   "source": [
    "**Вывод:** Задачей нашего провекта было спрогнозировать количество заказов такси на следующий час. Компания «Чётенькое такси» собрала исторические данные о заказах такси в аэропортах. Чтобы привлекать больше водителей в период пиковой нагрузки.\n",
    "**Критерий который важен заказчику:** RMSE на тестовой выборке должно быть не больше 48.\n",
    "Были предоставеклнны данные с 2018-03-01 до 2018-08-31 с итервалом 10 мин, т.к. прогноз будет на следущий час мы выполнили ресемплирование с интервалом 1 час.\n",
    "По трендам и сезонности было выявлено, что начиная с июня количество заказов растет. Так же что в течение дня спрос увеличивается начиная с 6:00 утра и до 0:00.\n",
    "\n",
    "Мы ознакомились с данными и обучили 3 модели. \n",
    "\n",
    "1-я модель **Random Forest** получили следующие результаты: RMSE: 28.25\n",
    "\n",
    "2-я модель **CatBoost** получили следующие результаты: RMSE: 27.86\n",
    "\n",
    "3-я модель **LightGBM** получили следующие результаты: RMSE: 27.76\n",
    "\n",
    "Для дальнейшего анализа мы выбрали модель **LightGBM** и на тестовой выборке получили RMSE: 45.65 что является приемлемым для нас. "
   ]
  },
  {
   "cell_type": "markdown",
   "metadata": {},
   "source": [
    "## Чек-лист проверки"
   ]
  },
  {
   "cell_type": "markdown",
   "metadata": {},
   "source": [
    "- [x]  Jupyter Notebook открыт\n",
    "- [ ]  Весь код выполняется без ошибок\n",
    "- [ ]  Ячейки с кодом расположены в порядке исполнения\n",
    "- [ ]  Данные загружены и подготовлены\n",
    "- [ ]  Данные проанализированы\n",
    "- [ ]  Модель обучена, гиперпараметры подобраны\n",
    "- [ ]  Качество моделей проверено, выводы сделаны\n",
    "- [ ]  Значение *RMSE* на тестовой выборке не больше 48"
   ]
  }
 ],
 "metadata": {
  "ExecuteTimeLog": [
   {
    "duration": 354,
    "start_time": "2023-05-03T11:44:38.804Z"
   },
   {
    "duration": 116,
    "start_time": "2023-05-03T11:47:20.220Z"
   },
   {
    "duration": 12,
    "start_time": "2023-05-03T11:47:35.518Z"
   },
   {
    "duration": 9,
    "start_time": "2023-05-03T11:48:01.227Z"
   },
   {
    "duration": 7,
    "start_time": "2023-05-03T11:49:26.972Z"
   },
   {
    "duration": 4,
    "start_time": "2023-05-03T11:51:50.034Z"
   },
   {
    "duration": 1030,
    "start_time": "2023-05-03T11:54:44.533Z"
   },
   {
    "duration": 490,
    "start_time": "2023-05-03T11:54:52.245Z"
   },
   {
    "duration": 4,
    "start_time": "2023-05-03T11:58:39.097Z"
   },
   {
    "duration": 8,
    "start_time": "2023-05-03T12:16:34.953Z"
   },
   {
    "duration": 4,
    "start_time": "2023-05-03T12:17:03.860Z"
   },
   {
    "duration": 11,
    "start_time": "2023-05-03T12:17:14.610Z"
   },
   {
    "duration": 426,
    "start_time": "2023-05-03T12:17:41.231Z"
   },
   {
    "duration": 47,
    "start_time": "2023-05-03T12:17:41.658Z"
   },
   {
    "duration": 12,
    "start_time": "2023-05-03T12:17:41.706Z"
   },
   {
    "duration": 13,
    "start_time": "2023-05-03T12:17:41.720Z"
   },
   {
    "duration": 6,
    "start_time": "2023-05-03T12:17:41.734Z"
   },
   {
    "duration": 5,
    "start_time": "2023-05-03T12:17:41.743Z"
   },
   {
    "duration": 784,
    "start_time": "2023-05-03T12:17:41.750Z"
   },
   {
    "duration": 270,
    "start_time": "2023-05-03T12:17:42.536Z"
   },
   {
    "duration": 212,
    "start_time": "2023-05-03T12:17:49.031Z"
   },
   {
    "duration": 3,
    "start_time": "2023-05-03T12:18:43.421Z"
   },
   {
    "duration": 89,
    "start_time": "2023-05-03T12:19:51.081Z"
   },
   {
    "duration": 3,
    "start_time": "2023-05-03T12:19:58.134Z"
   },
   {
    "duration": 53,
    "start_time": "2023-05-03T12:20:08.609Z"
   },
   {
    "duration": 348,
    "start_time": "2023-05-03T12:20:12.111Z"
   },
   {
    "duration": 46,
    "start_time": "2023-05-03T12:20:12.461Z"
   },
   {
    "duration": 13,
    "start_time": "2023-05-03T12:20:12.508Z"
   },
   {
    "duration": 9,
    "start_time": "2023-05-03T12:20:12.523Z"
   },
   {
    "duration": 6,
    "start_time": "2023-05-03T12:20:12.534Z"
   },
   {
    "duration": 10,
    "start_time": "2023-05-03T12:20:12.541Z"
   },
   {
    "duration": 772,
    "start_time": "2023-05-03T12:20:12.553Z"
   },
   {
    "duration": 6,
    "start_time": "2023-05-03T12:20:13.327Z"
   },
   {
    "duration": 17,
    "start_time": "2023-05-03T12:20:13.334Z"
   },
   {
    "duration": 43,
    "start_time": "2023-05-03T12:21:04.650Z"
   },
   {
    "duration": 408,
    "start_time": "2023-05-03T12:21:08.933Z"
   },
   {
    "duration": 48,
    "start_time": "2023-05-03T12:21:09.343Z"
   },
   {
    "duration": 13,
    "start_time": "2023-05-03T12:21:09.393Z"
   },
   {
    "duration": 10,
    "start_time": "2023-05-03T12:21:09.408Z"
   },
   {
    "duration": 3,
    "start_time": "2023-05-03T12:21:09.420Z"
   },
   {
    "duration": 13,
    "start_time": "2023-05-03T12:21:09.424Z"
   },
   {
    "duration": 826,
    "start_time": "2023-05-03T12:21:09.439Z"
   },
   {
    "duration": 51,
    "start_time": "2023-05-03T12:21:10.266Z"
   },
   {
    "duration": 204,
    "start_time": "2023-05-03T12:24:45.929Z"
   },
   {
    "duration": 79,
    "start_time": "2023-05-03T12:27:06.361Z"
   },
   {
    "duration": 248,
    "start_time": "2023-05-03T12:27:27.227Z"
   },
   {
    "duration": 236,
    "start_time": "2023-05-03T12:27:34.133Z"
   },
   {
    "duration": 231,
    "start_time": "2023-05-03T12:27:39.875Z"
   },
   {
    "duration": 5,
    "start_time": "2023-05-03T12:31:01.065Z"
   },
   {
    "duration": 276,
    "start_time": "2023-05-03T12:31:20.220Z"
   },
   {
    "duration": 8,
    "start_time": "2023-05-03T12:33:18.635Z"
   },
   {
    "duration": 487,
    "start_time": "2023-05-03T12:33:29.957Z"
   },
   {
    "duration": 40,
    "start_time": "2023-05-03T12:33:33.592Z"
   },
   {
    "duration": 8,
    "start_time": "2023-05-03T12:37:32.041Z"
   },
   {
    "duration": 13,
    "start_time": "2023-05-03T12:37:42.598Z"
   },
   {
    "duration": 6,
    "start_time": "2023-05-03T12:37:48.453Z"
   },
   {
    "duration": 7,
    "start_time": "2023-05-03T12:38:39.740Z"
   },
   {
    "duration": 11,
    "start_time": "2023-05-03T12:40:45.818Z"
   },
   {
    "duration": 5,
    "start_time": "2023-05-03T12:40:52.588Z"
   },
   {
    "duration": 7,
    "start_time": "2023-05-03T12:40:54.903Z"
   },
   {
    "duration": 7,
    "start_time": "2023-05-03T12:40:58.731Z"
   },
   {
    "duration": 12,
    "start_time": "2023-05-03T12:44:36.725Z"
   },
   {
    "duration": 70,
    "start_time": "2023-05-03T12:44:54.903Z"
   },
   {
    "duration": 493,
    "start_time": "2023-05-03T12:44:58.412Z"
   },
   {
    "duration": 674,
    "start_time": "2023-05-03T12:45:31.473Z"
   },
   {
    "duration": 592,
    "start_time": "2023-05-03T12:45:55.210Z"
   },
   {
    "duration": 659,
    "start_time": "2023-05-03T12:46:13.944Z"
   },
   {
    "duration": 3,
    "start_time": "2023-05-03T12:47:52.129Z"
   },
   {
    "duration": 686,
    "start_time": "2023-05-03T12:51:51.103Z"
   },
   {
    "duration": 116,
    "start_time": "2023-05-03T13:13:37.880Z"
   },
   {
    "duration": 136,
    "start_time": "2023-05-03T13:13:44.553Z"
   },
   {
    "duration": 162,
    "start_time": "2023-05-03T13:16:17.664Z"
   },
   {
    "duration": 165,
    "start_time": "2023-05-03T13:16:23.011Z"
   },
   {
    "duration": 161,
    "start_time": "2023-05-03T13:16:30.261Z"
   },
   {
    "duration": 152,
    "start_time": "2023-05-03T13:18:17.628Z"
   },
   {
    "duration": 229,
    "start_time": "2023-05-03T13:19:14.557Z"
   },
   {
    "duration": 137,
    "start_time": "2023-05-03T13:19:49.308Z"
   },
   {
    "duration": 205,
    "start_time": "2023-05-03T13:20:03.095Z"
   },
   {
    "duration": 19,
    "start_time": "2023-05-03T13:20:22.408Z"
   },
   {
    "duration": 17,
    "start_time": "2023-05-03T13:20:34.917Z"
   },
   {
    "duration": 307,
    "start_time": "2023-05-03T13:20:49.219Z"
   },
   {
    "duration": 274,
    "start_time": "2023-05-03T13:24:03.965Z"
   },
   {
    "duration": 337,
    "start_time": "2023-05-03T13:24:10.405Z"
   },
   {
    "duration": 309,
    "start_time": "2023-05-03T13:24:49.720Z"
   },
   {
    "duration": 318,
    "start_time": "2023-05-03T13:25:30.519Z"
   },
   {
    "duration": 378,
    "start_time": "2023-05-03T13:26:21.609Z"
   },
   {
    "duration": 333,
    "start_time": "2023-05-03T13:26:59.324Z"
   },
   {
    "duration": 561,
    "start_time": "2023-05-03T13:27:08.919Z"
   },
   {
    "duration": 408,
    "start_time": "2023-05-03T13:27:16.878Z"
   },
   {
    "duration": 426,
    "start_time": "2023-05-03T13:27:29.883Z"
   },
   {
    "duration": 453,
    "start_time": "2023-05-03T13:27:35.578Z"
   },
   {
    "duration": 455,
    "start_time": "2023-05-03T13:27:41.420Z"
   },
   {
    "duration": 474,
    "start_time": "2023-05-03T13:27:46.447Z"
   },
   {
    "duration": 614,
    "start_time": "2023-05-03T13:27:50.181Z"
   },
   {
    "duration": 81,
    "start_time": "2023-05-03T13:39:02.025Z"
   },
   {
    "duration": 495,
    "start_time": "2023-05-03T13:39:15.649Z"
   },
   {
    "duration": 520,
    "start_time": "2023-05-03T13:40:09.561Z"
   },
   {
    "duration": 149,
    "start_time": "2023-05-03T13:41:27.681Z"
   },
   {
    "duration": 137,
    "start_time": "2023-05-03T13:41:42.441Z"
   },
   {
    "duration": 182,
    "start_time": "2023-05-03T13:44:40.579Z"
   },
   {
    "duration": 137,
    "start_time": "2023-05-03T13:44:50.177Z"
   },
   {
    "duration": 141,
    "start_time": "2023-05-03T13:44:58.308Z"
   },
   {
    "duration": 113,
    "start_time": "2023-05-03T13:45:03.409Z"
   },
   {
    "duration": 213,
    "start_time": "2023-05-03T13:45:14.220Z"
   },
   {
    "duration": 118,
    "start_time": "2023-05-03T13:49:53.922Z"
   },
   {
    "duration": 121,
    "start_time": "2023-05-03T13:50:35.896Z"
   },
   {
    "duration": 120,
    "start_time": "2023-05-03T13:50:58.310Z"
   },
   {
    "duration": 117,
    "start_time": "2023-05-03T13:51:21.922Z"
   },
   {
    "duration": 120,
    "start_time": "2023-05-03T13:52:07.505Z"
   },
   {
    "duration": 115,
    "start_time": "2023-05-03T13:52:51.870Z"
   },
   {
    "duration": 81,
    "start_time": "2023-05-03T13:53:59.286Z"
   },
   {
    "duration": 3,
    "start_time": "2023-05-03T14:08:08.255Z"
   },
   {
    "duration": 1117,
    "start_time": "2023-05-03T14:08:20.969Z"
   },
   {
    "duration": 47,
    "start_time": "2023-05-03T14:08:22.088Z"
   },
   {
    "duration": 10,
    "start_time": "2023-05-03T14:08:22.137Z"
   },
   {
    "duration": 18,
    "start_time": "2023-05-03T14:08:22.148Z"
   },
   {
    "duration": 5,
    "start_time": "2023-05-03T14:08:22.168Z"
   },
   {
    "duration": 8,
    "start_time": "2023-05-03T14:08:22.174Z"
   },
   {
    "duration": 7,
    "start_time": "2023-05-03T14:08:22.184Z"
   },
   {
    "duration": 7,
    "start_time": "2023-05-03T14:08:22.192Z"
   },
   {
    "duration": 512,
    "start_time": "2023-05-03T14:08:22.201Z"
   },
   {
    "duration": 12,
    "start_time": "2023-05-03T14:08:22.714Z"
   },
   {
    "duration": 233,
    "start_time": "2023-05-03T14:08:22.728Z"
   },
   {
    "duration": 5,
    "start_time": "2023-05-03T14:08:22.963Z"
   },
   {
    "duration": 293,
    "start_time": "2023-05-03T14:08:22.969Z"
   },
   {
    "duration": 8,
    "start_time": "2023-05-03T14:08:23.265Z"
   },
   {
    "duration": 718,
    "start_time": "2023-05-03T14:08:23.274Z"
   },
   {
    "duration": 457,
    "start_time": "2023-05-03T14:08:23.994Z"
   },
   {
    "duration": 134,
    "start_time": "2023-05-03T14:08:24.453Z"
   },
   {
    "duration": 251,
    "start_time": "2023-05-03T14:08:34.933Z"
   },
   {
    "duration": 129,
    "start_time": "2023-05-03T14:09:07.866Z"
   },
   {
    "duration": 197,
    "start_time": "2023-05-03T14:09:19.175Z"
   },
   {
    "duration": 114,
    "start_time": "2023-05-03T14:09:22.845Z"
   },
   {
    "duration": 115,
    "start_time": "2023-05-03T14:09:42.570Z"
   },
   {
    "duration": 4,
    "start_time": "2023-05-03T14:50:45.615Z"
   },
   {
    "duration": 3,
    "start_time": "2023-05-03T14:57:27.516Z"
   },
   {
    "duration": 120,
    "start_time": "2023-05-03T14:57:39.573Z"
   },
   {
    "duration": 436,
    "start_time": "2023-05-03T14:58:02.832Z"
   },
   {
    "duration": 10,
    "start_time": "2023-05-03T14:58:06.535Z"
   },
   {
    "duration": 21,
    "start_time": "2023-05-03T14:59:32.814Z"
   },
   {
    "duration": 21,
    "start_time": "2023-05-03T15:00:02.820Z"
   },
   {
    "duration": 10,
    "start_time": "2023-05-03T15:00:38.605Z"
   },
   {
    "duration": 18,
    "start_time": "2023-05-03T15:00:43.336Z"
   },
   {
    "duration": 45,
    "start_time": "2023-05-03T15:03:01.458Z"
   },
   {
    "duration": 172,
    "start_time": "2023-05-03T15:03:51.867Z"
   },
   {
    "duration": 97,
    "start_time": "2023-05-03T15:04:52.001Z"
   },
   {
    "duration": 23,
    "start_time": "2023-05-03T15:05:12.646Z"
   },
   {
    "duration": 3,
    "start_time": "2023-05-03T15:05:31.728Z"
   },
   {
    "duration": 3,
    "start_time": "2023-05-03T15:05:37.622Z"
   },
   {
    "duration": 5,
    "start_time": "2023-05-03T15:06:37.604Z"
   },
   {
    "duration": 19,
    "start_time": "2023-05-03T15:06:40.350Z"
   },
   {
    "duration": 159,
    "start_time": "2023-05-03T15:09:25.706Z"
   },
   {
    "duration": 202,
    "start_time": "2023-05-03T15:09:51.699Z"
   },
   {
    "duration": 4,
    "start_time": "2023-05-03T15:10:58.743Z"
   },
   {
    "duration": 11167,
    "start_time": "2023-05-03T15:11:06.401Z"
   },
   {
    "duration": 4,
    "start_time": "2023-05-03T15:20:32.995Z"
   },
   {
    "duration": 1673,
    "start_time": "2023-05-03T15:20:39.911Z"
   },
   {
    "duration": 48,
    "start_time": "2023-05-03T15:20:41.586Z"
   },
   {
    "duration": 11,
    "start_time": "2023-05-03T15:20:41.636Z"
   },
   {
    "duration": 14,
    "start_time": "2023-05-03T15:20:41.649Z"
   },
   {
    "duration": 24,
    "start_time": "2023-05-03T15:20:41.664Z"
   },
   {
    "duration": 9,
    "start_time": "2023-05-03T15:20:41.689Z"
   },
   {
    "duration": 11,
    "start_time": "2023-05-03T15:20:41.700Z"
   },
   {
    "duration": 10,
    "start_time": "2023-05-03T15:20:41.712Z"
   },
   {
    "duration": 579,
    "start_time": "2023-05-03T15:20:41.723Z"
   },
   {
    "duration": 13,
    "start_time": "2023-05-03T15:20:42.304Z"
   },
   {
    "duration": 239,
    "start_time": "2023-05-03T15:20:42.319Z"
   },
   {
    "duration": 4,
    "start_time": "2023-05-03T15:20:42.560Z"
   },
   {
    "duration": 261,
    "start_time": "2023-05-03T15:20:42.567Z"
   },
   {
    "duration": 6,
    "start_time": "2023-05-03T15:20:42.830Z"
   },
   {
    "duration": 712,
    "start_time": "2023-05-03T15:20:42.837Z"
   },
   {
    "duration": 486,
    "start_time": "2023-05-03T15:20:43.551Z"
   },
   {
    "duration": 199,
    "start_time": "2023-05-03T15:20:44.038Z"
   },
   {
    "duration": 3,
    "start_time": "2023-05-03T15:20:44.248Z"
   },
   {
    "duration": 18,
    "start_time": "2023-05-03T15:20:44.252Z"
   },
   {
    "duration": 11,
    "start_time": "2023-05-03T15:20:44.271Z"
   },
   {
    "duration": 16,
    "start_time": "2023-05-03T15:20:44.283Z"
   },
   {
    "duration": 18,
    "start_time": "2023-05-03T15:20:44.301Z"
   },
   {
    "duration": 4,
    "start_time": "2023-05-03T15:20:44.320Z"
   },
   {
    "duration": 5,
    "start_time": "2023-05-03T15:20:44.326Z"
   },
   {
    "duration": 10649,
    "start_time": "2023-05-03T15:20:44.332Z"
   },
   {
    "duration": 126,
    "start_time": "2023-05-03T15:28:49.197Z"
   },
   {
    "duration": 22,
    "start_time": "2023-05-03T15:29:15.008Z"
   },
   {
    "duration": 4,
    "start_time": "2023-05-03T15:29:19.836Z"
   },
   {
    "duration": 25564,
    "start_time": "2023-05-03T15:29:21.074Z"
   },
   {
    "duration": 25,
    "start_time": "2023-05-03T15:31:19.552Z"
   },
   {
    "duration": 3,
    "start_time": "2023-05-03T15:32:14.113Z"
   },
   {
    "duration": 4621,
    "start_time": "2023-05-03T15:32:15.230Z"
   },
   {
    "duration": 3,
    "start_time": "2023-05-03T15:33:05.488Z"
   },
   {
    "duration": 4,
    "start_time": "2023-05-03T15:33:27.914Z"
   },
   {
    "duration": 238,
    "start_time": "2023-05-03T15:50:25.656Z"
   },
   {
    "duration": 4,
    "start_time": "2023-05-03T15:53:01.556Z"
   },
   {
    "duration": 6,
    "start_time": "2023-05-03T15:53:05.611Z"
   },
   {
    "duration": 10,
    "start_time": "2023-05-03T15:53:50.060Z"
   },
   {
    "duration": 8,
    "start_time": "2023-05-03T15:54:02.194Z"
   },
   {
    "duration": 16,
    "start_time": "2023-05-03T15:58:38.546Z"
   },
   {
    "duration": 3,
    "start_time": "2023-05-03T16:00:38.440Z"
   },
   {
    "duration": 14090,
    "start_time": "2023-05-03T16:00:39.617Z"
   },
   {
    "duration": 4,
    "start_time": "2023-05-03T16:01:00.231Z"
   },
   {
    "duration": 30381,
    "start_time": "2023-05-03T16:01:00.488Z"
   },
   {
    "duration": 4,
    "start_time": "2023-05-03T16:01:36.062Z"
   },
   {
    "duration": 6084,
    "start_time": "2023-05-03T16:01:36.469Z"
   },
   {
    "duration": 9,
    "start_time": "2023-05-03T16:02:14.916Z"
   },
   {
    "duration": 3,
    "start_time": "2023-05-03T16:03:50.088Z"
   },
   {
    "duration": 9,
    "start_time": "2023-05-03T16:04:54.103Z"
   },
   {
    "duration": 9,
    "start_time": "2023-05-03T16:05:18.989Z"
   },
   {
    "duration": 5,
    "start_time": "2023-05-03T16:05:42.706Z"
   },
   {
    "duration": 285,
    "start_time": "2023-05-03T16:06:22.988Z"
   },
   {
    "duration": 225,
    "start_time": "2023-05-03T16:11:57.701Z"
   },
   {
    "duration": 281,
    "start_time": "2023-05-03T16:12:47.890Z"
   },
   {
    "duration": 146,
    "start_time": "2023-05-03T16:18:22.316Z"
   },
   {
    "duration": 226,
    "start_time": "2023-05-03T16:18:43.803Z"
   },
   {
    "duration": 7,
    "start_time": "2023-05-03T16:19:50.303Z"
   },
   {
    "duration": 11,
    "start_time": "2023-05-03T16:21:03.110Z"
   },
   {
    "duration": 232,
    "start_time": "2023-05-03T16:21:10.160Z"
   },
   {
    "duration": 174,
    "start_time": "2023-05-03T16:21:23.031Z"
   },
   {
    "duration": 235,
    "start_time": "2023-05-03T16:23:12.812Z"
   },
   {
    "duration": 239,
    "start_time": "2023-05-03T16:24:27.330Z"
   },
   {
    "duration": 216,
    "start_time": "2023-05-03T16:28:11.417Z"
   },
   {
    "duration": 230,
    "start_time": "2023-05-03T16:28:30.540Z"
   },
   {
    "duration": 221,
    "start_time": "2023-05-03T16:28:46.620Z"
   },
   {
    "duration": 233,
    "start_time": "2023-05-03T16:31:55.608Z"
   },
   {
    "duration": 1497,
    "start_time": "2023-05-03T16:35:14.198Z"
   },
   {
    "duration": 49,
    "start_time": "2023-05-03T16:35:15.697Z"
   },
   {
    "duration": 21,
    "start_time": "2023-05-03T16:35:15.748Z"
   },
   {
    "duration": 13,
    "start_time": "2023-05-03T16:35:15.771Z"
   },
   {
    "duration": 5,
    "start_time": "2023-05-03T16:35:15.785Z"
   },
   {
    "duration": 11,
    "start_time": "2023-05-03T16:35:15.791Z"
   },
   {
    "duration": 7,
    "start_time": "2023-05-03T16:35:15.803Z"
   },
   {
    "duration": 5,
    "start_time": "2023-05-03T16:35:15.811Z"
   },
   {
    "duration": 644,
    "start_time": "2023-05-03T16:35:15.818Z"
   },
   {
    "duration": 14,
    "start_time": "2023-05-03T16:35:16.466Z"
   },
   {
    "duration": 248,
    "start_time": "2023-05-03T16:35:16.482Z"
   },
   {
    "duration": 4,
    "start_time": "2023-05-03T16:35:16.732Z"
   },
   {
    "duration": 283,
    "start_time": "2023-05-03T16:35:16.737Z"
   },
   {
    "duration": 7,
    "start_time": "2023-05-03T16:35:17.022Z"
   },
   {
    "duration": 740,
    "start_time": "2023-05-03T16:35:17.031Z"
   },
   {
    "duration": 594,
    "start_time": "2023-05-03T16:35:17.773Z"
   },
   {
    "duration": 130,
    "start_time": "2023-05-03T16:35:18.369Z"
   },
   {
    "duration": 4,
    "start_time": "2023-05-03T16:35:18.501Z"
   },
   {
    "duration": 5,
    "start_time": "2023-05-03T16:35:18.507Z"
   },
   {
    "duration": 13,
    "start_time": "2023-05-03T16:35:18.514Z"
   },
   {
    "duration": 31,
    "start_time": "2023-05-03T16:35:18.528Z"
   },
   {
    "duration": 24,
    "start_time": "2023-05-03T16:35:18.562Z"
   },
   {
    "duration": 13,
    "start_time": "2023-05-03T16:35:18.588Z"
   },
   {
    "duration": 17,
    "start_time": "2023-05-03T16:35:18.602Z"
   },
   {
    "duration": 11,
    "start_time": "2023-05-03T16:35:18.620Z"
   },
   {
    "duration": 17113,
    "start_time": "2023-05-03T16:35:18.632Z"
   },
   {
    "duration": 6,
    "start_time": "2023-05-03T16:35:35.751Z"
   },
   {
    "duration": 20375,
    "start_time": "2023-05-03T16:35:35.761Z"
   },
   {
    "duration": 4,
    "start_time": "2023-05-03T16:35:56.137Z"
   },
   {
    "duration": 6920,
    "start_time": "2023-05-03T16:35:56.143Z"
   },
   {
    "duration": 12,
    "start_time": "2023-05-03T16:36:03.064Z"
   },
   {
    "duration": 81,
    "start_time": "2023-05-03T16:36:03.078Z"
   },
   {
    "duration": 315,
    "start_time": "2023-05-03T16:36:03.160Z"
   },
   {
    "duration": 3,
    "start_time": "2023-05-03T17:59:56.226Z"
   },
   {
    "duration": 3,
    "start_time": "2023-05-03T18:01:08.964Z"
   },
   {
    "duration": 4,
    "start_time": "2023-05-03T18:03:19.608Z"
   },
   {
    "duration": 53,
    "start_time": "2023-05-03T18:03:19.614Z"
   },
   {
    "duration": 7,
    "start_time": "2023-05-03T18:03:19.668Z"
   },
   {
    "duration": 10,
    "start_time": "2023-05-03T18:03:19.676Z"
   },
   {
    "duration": 4,
    "start_time": "2023-05-03T18:03:19.689Z"
   },
   {
    "duration": 6,
    "start_time": "2023-05-03T18:03:19.695Z"
   },
   {
    "duration": 14,
    "start_time": "2023-05-03T18:03:19.703Z"
   },
   {
    "duration": 13,
    "start_time": "2023-05-03T18:03:19.719Z"
   },
   {
    "duration": 532,
    "start_time": "2023-05-03T18:03:19.733Z"
   },
   {
    "duration": 11,
    "start_time": "2023-05-03T18:03:20.266Z"
   },
   {
    "duration": 237,
    "start_time": "2023-05-03T18:03:20.278Z"
   },
   {
    "duration": 4,
    "start_time": "2023-05-03T18:03:20.516Z"
   },
   {
    "duration": 259,
    "start_time": "2023-05-03T18:03:20.521Z"
   },
   {
    "duration": 6,
    "start_time": "2023-05-03T18:03:20.783Z"
   },
   {
    "duration": 784,
    "start_time": "2023-05-03T18:03:20.791Z"
   },
   {
    "duration": 487,
    "start_time": "2023-05-03T18:03:21.576Z"
   },
   {
    "duration": 124,
    "start_time": "2023-05-03T18:03:22.065Z"
   },
   {
    "duration": 2,
    "start_time": "2023-05-03T18:03:22.191Z"
   },
   {
    "duration": 5,
    "start_time": "2023-05-03T18:03:22.195Z"
   },
   {
    "duration": 12,
    "start_time": "2023-05-03T18:03:22.202Z"
   },
   {
    "duration": 6,
    "start_time": "2023-05-03T18:03:22.215Z"
   },
   {
    "duration": 36,
    "start_time": "2023-05-03T18:03:22.222Z"
   },
   {
    "duration": 5,
    "start_time": "2023-05-03T18:03:22.260Z"
   },
   {
    "duration": 6,
    "start_time": "2023-05-03T18:03:22.266Z"
   },
   {
    "duration": 5,
    "start_time": "2023-05-03T18:03:22.273Z"
   },
   {
    "duration": 14,
    "start_time": "2023-05-03T18:03:22.279Z"
   },
   {
    "duration": 0,
    "start_time": "2023-05-03T18:03:22.294Z"
   },
   {
    "duration": 0,
    "start_time": "2023-05-03T18:03:22.296Z"
   },
   {
    "duration": 0,
    "start_time": "2023-05-03T18:03:22.297Z"
   },
   {
    "duration": 0,
    "start_time": "2023-05-03T18:03:22.298Z"
   },
   {
    "duration": 0,
    "start_time": "2023-05-03T18:03:22.299Z"
   },
   {
    "duration": 0,
    "start_time": "2023-05-03T18:03:22.300Z"
   },
   {
    "duration": 0,
    "start_time": "2023-05-03T18:03:22.301Z"
   },
   {
    "duration": 0,
    "start_time": "2023-05-03T18:03:22.302Z"
   },
   {
    "duration": 11,
    "start_time": "2023-05-03T18:04:13.852Z"
   },
   {
    "duration": 0,
    "start_time": "2023-05-03T18:04:13.865Z"
   },
   {
    "duration": 0,
    "start_time": "2023-05-03T18:04:13.866Z"
   },
   {
    "duration": 0,
    "start_time": "2023-05-03T18:04:13.867Z"
   },
   {
    "duration": 0,
    "start_time": "2023-05-03T18:04:13.868Z"
   },
   {
    "duration": 0,
    "start_time": "2023-05-03T18:04:13.869Z"
   },
   {
    "duration": 0,
    "start_time": "2023-05-03T18:04:13.871Z"
   },
   {
    "duration": 5,
    "start_time": "2023-05-03T18:04:13.872Z"
   },
   {
    "duration": 263,
    "start_time": "2023-05-03T18:04:13.878Z"
   },
   {
    "duration": 4,
    "start_time": "2023-05-03T18:04:40.280Z"
   },
   {
    "duration": 42695,
    "start_time": "2023-05-03T18:04:40.286Z"
   },
   {
    "duration": 3,
    "start_time": "2023-05-03T18:05:22.983Z"
   },
   {
    "duration": 52267,
    "start_time": "2023-05-03T18:05:22.988Z"
   },
   {
    "duration": 4,
    "start_time": "2023-05-03T18:06:15.257Z"
   },
   {
    "duration": 46691,
    "start_time": "2023-05-03T18:06:15.263Z"
   },
   {
    "duration": 9,
    "start_time": "2023-05-03T18:07:01.956Z"
   },
   {
    "duration": 33,
    "start_time": "2023-05-03T18:07:01.966Z"
   },
   {
    "duration": 263,
    "start_time": "2023-05-03T18:07:02.000Z"
   },
   {
    "duration": 261,
    "start_time": "2023-05-03T18:16:44.335Z"
   },
   {
    "duration": 3,
    "start_time": "2023-05-03T18:17:49.416Z"
   },
   {
    "duration": 1686,
    "start_time": "2023-05-05T08:41:40.578Z"
   },
   {
    "duration": 166,
    "start_time": "2023-05-05T08:41:42.266Z"
   },
   {
    "duration": 13,
    "start_time": "2023-05-05T08:41:42.434Z"
   },
   {
    "duration": 19,
    "start_time": "2023-05-05T08:41:42.449Z"
   },
   {
    "duration": 12,
    "start_time": "2023-05-05T08:41:42.469Z"
   },
   {
    "duration": 20,
    "start_time": "2023-05-05T08:41:42.483Z"
   },
   {
    "duration": 11,
    "start_time": "2023-05-05T08:41:42.507Z"
   },
   {
    "duration": 21,
    "start_time": "2023-05-05T08:41:42.520Z"
   },
   {
    "duration": 826,
    "start_time": "2023-05-05T08:41:42.543Z"
   },
   {
    "duration": 28,
    "start_time": "2023-05-05T08:41:43.372Z"
   },
   {
    "duration": 287,
    "start_time": "2023-05-05T08:41:43.408Z"
   },
   {
    "duration": 5,
    "start_time": "2023-05-05T08:41:43.701Z"
   },
   {
    "duration": 341,
    "start_time": "2023-05-05T08:41:43.712Z"
   },
   {
    "duration": 8,
    "start_time": "2023-05-05T08:41:44.055Z"
   },
   {
    "duration": 838,
    "start_time": "2023-05-05T08:41:44.064Z"
   },
   {
    "duration": 633,
    "start_time": "2023-05-05T08:41:44.904Z"
   },
   {
    "duration": 170,
    "start_time": "2023-05-05T08:41:45.538Z"
   },
   {
    "duration": 3,
    "start_time": "2023-05-05T08:41:45.710Z"
   },
   {
    "duration": 10,
    "start_time": "2023-05-05T08:41:45.714Z"
   },
   {
    "duration": 45,
    "start_time": "2023-05-05T08:41:45.726Z"
   },
   {
    "duration": 8,
    "start_time": "2023-05-05T08:41:45.772Z"
   },
   {
    "duration": 17,
    "start_time": "2023-05-05T08:41:45.782Z"
   },
   {
    "duration": 16,
    "start_time": "2023-05-05T08:41:45.804Z"
   },
   {
    "duration": 8,
    "start_time": "2023-05-05T08:41:45.822Z"
   },
   {
    "duration": 11,
    "start_time": "2023-05-05T08:41:45.833Z"
   },
   {
    "duration": 14,
    "start_time": "2023-05-05T08:41:45.846Z"
   },
   {
    "duration": 417,
    "start_time": "2023-05-05T08:41:45.863Z"
   },
   {
    "duration": 4,
    "start_time": "2023-05-05T08:41:46.284Z"
   },
   {
    "duration": 177,
    "start_time": "2023-05-05T08:41:46.289Z"
   },
   {
    "duration": 5,
    "start_time": "2023-05-05T08:41:46.468Z"
   },
   {
    "duration": 6518,
    "start_time": "2023-05-05T08:41:46.477Z"
   },
   {
    "duration": 13,
    "start_time": "2023-05-05T08:41:52.997Z"
   },
   {
    "duration": 24,
    "start_time": "2023-05-05T08:41:53.011Z"
   },
   {
    "duration": 368,
    "start_time": "2023-05-05T08:41:53.037Z"
   },
   {
    "duration": 4,
    "start_time": "2023-05-05T09:03:18.248Z"
   },
   {
    "duration": 4,
    "start_time": "2023-05-05T09:03:21.835Z"
   },
   {
    "duration": 38,
    "start_time": "2023-05-05T09:03:22.229Z"
   },
   {
    "duration": 7,
    "start_time": "2023-05-05T09:03:26.439Z"
   },
   {
    "duration": 16,
    "start_time": "2023-05-05T09:03:27.406Z"
   },
   {
    "duration": 5,
    "start_time": "2023-05-05T09:03:30.260Z"
   },
   {
    "duration": 6,
    "start_time": "2023-05-05T09:03:30.611Z"
   },
   {
    "duration": 3,
    "start_time": "2023-05-05T09:03:32.510Z"
   },
   {
    "duration": 4,
    "start_time": "2023-05-05T09:03:33.045Z"
   },
   {
    "duration": 282,
    "start_time": "2023-05-05T09:03:34.146Z"
   },
   {
    "duration": 64,
    "start_time": "2023-05-05T09:04:18.372Z"
   },
   {
    "duration": 7,
    "start_time": "2023-05-05T09:04:47.135Z"
   },
   {
    "duration": 7,
    "start_time": "2023-05-05T09:05:12.215Z"
   },
   {
    "duration": 13,
    "start_time": "2023-05-05T09:06:45.637Z"
   },
   {
    "duration": 5,
    "start_time": "2023-05-05T09:06:50.869Z"
   },
   {
    "duration": 34,
    "start_time": "2023-05-05T09:06:53.915Z"
   },
   {
    "duration": 21,
    "start_time": "2023-05-05T09:06:56.402Z"
   },
   {
    "duration": 6,
    "start_time": "2023-05-05T09:07:17.546Z"
   },
   {
    "duration": 24,
    "start_time": "2023-05-05T09:07:20.339Z"
   },
   {
    "duration": 5,
    "start_time": "2023-05-05T09:07:30.548Z"
   },
   {
    "duration": 33,
    "start_time": "2023-05-05T09:07:32.736Z"
   },
   {
    "duration": 10,
    "start_time": "2023-05-05T09:07:36.347Z"
   },
   {
    "duration": 8,
    "start_time": "2023-05-05T09:13:23.902Z"
   },
   {
    "duration": 31,
    "start_time": "2023-05-05T09:13:26.344Z"
   },
   {
    "duration": 9,
    "start_time": "2023-05-05T09:13:47.940Z"
   },
   {
    "duration": 10,
    "start_time": "2023-05-05T09:13:50.935Z"
   },
   {
    "duration": 8,
    "start_time": "2023-05-05T09:14:22.604Z"
   },
   {
    "duration": 20,
    "start_time": "2023-05-05T09:14:24.983Z"
   },
   {
    "duration": 8,
    "start_time": "2023-05-05T09:14:31.988Z"
   },
   {
    "duration": 32,
    "start_time": "2023-05-05T09:14:33.433Z"
   },
   {
    "duration": 8,
    "start_time": "2023-05-05T09:17:16.130Z"
   },
   {
    "duration": 5,
    "start_time": "2023-05-05T09:22:35.555Z"
   },
   {
    "duration": 33,
    "start_time": "2023-05-05T09:22:37.493Z"
   },
   {
    "duration": 15,
    "start_time": "2023-05-05T09:22:40.964Z"
   },
   {
    "duration": 5,
    "start_time": "2023-05-05T09:25:22.465Z"
   },
   {
    "duration": 26,
    "start_time": "2023-05-05T09:25:24.921Z"
   },
   {
    "duration": 14,
    "start_time": "2023-05-05T09:25:28.605Z"
   },
   {
    "duration": 25,
    "start_time": "2023-05-05T09:25:55.805Z"
   },
   {
    "duration": 9,
    "start_time": "2023-05-05T09:30:29.804Z"
   },
   {
    "duration": 4,
    "start_time": "2023-05-05T09:30:45.916Z"
   },
   {
    "duration": 258,
    "start_time": "2023-05-05T09:30:46.511Z"
   },
   {
    "duration": 1498,
    "start_time": "2023-05-05T09:33:34.106Z"
   },
   {
    "duration": 43,
    "start_time": "2023-05-05T09:33:35.605Z"
   },
   {
    "duration": 10,
    "start_time": "2023-05-05T09:33:35.650Z"
   },
   {
    "duration": 31,
    "start_time": "2023-05-05T09:33:35.661Z"
   },
   {
    "duration": 6,
    "start_time": "2023-05-05T09:33:35.706Z"
   },
   {
    "duration": 23,
    "start_time": "2023-05-05T09:33:35.714Z"
   },
   {
    "duration": 18,
    "start_time": "2023-05-05T09:33:35.738Z"
   },
   {
    "duration": 21,
    "start_time": "2023-05-05T09:33:35.758Z"
   },
   {
    "duration": 744,
    "start_time": "2023-05-05T09:33:35.781Z"
   },
   {
    "duration": 15,
    "start_time": "2023-05-05T09:33:36.527Z"
   },
   {
    "duration": 279,
    "start_time": "2023-05-05T09:33:36.544Z"
   },
   {
    "duration": 4,
    "start_time": "2023-05-05T09:33:36.825Z"
   },
   {
    "duration": 293,
    "start_time": "2023-05-05T09:33:36.831Z"
   },
   {
    "duration": 8,
    "start_time": "2023-05-05T09:33:37.127Z"
   },
   {
    "duration": 902,
    "start_time": "2023-05-05T09:33:37.137Z"
   },
   {
    "duration": 695,
    "start_time": "2023-05-05T09:33:38.041Z"
   },
   {
    "duration": 142,
    "start_time": "2023-05-05T09:33:38.737Z"
   },
   {
    "duration": 3,
    "start_time": "2023-05-05T09:33:38.881Z"
   },
   {
    "duration": 21,
    "start_time": "2023-05-05T09:33:38.896Z"
   },
   {
    "duration": 50,
    "start_time": "2023-05-05T09:33:38.918Z"
   },
   {
    "duration": 6,
    "start_time": "2023-05-05T09:33:38.969Z"
   },
   {
    "duration": 30,
    "start_time": "2023-05-05T09:33:38.977Z"
   },
   {
    "duration": 6,
    "start_time": "2023-05-05T09:33:39.008Z"
   },
   {
    "duration": 13,
    "start_time": "2023-05-05T09:33:39.016Z"
   },
   {
    "duration": 31,
    "start_time": "2023-05-05T09:33:39.031Z"
   },
   {
    "duration": 11,
    "start_time": "2023-05-05T09:33:39.064Z"
   },
   {
    "duration": 367,
    "start_time": "2023-05-05T09:33:39.077Z"
   },
   {
    "duration": 4,
    "start_time": "2023-05-05T09:33:39.445Z"
   },
   {
    "duration": 11,
    "start_time": "2023-05-05T09:34:08.546Z"
   },
   {
    "duration": 17,
    "start_time": "2023-05-05T09:36:32.779Z"
   },
   {
    "duration": 29,
    "start_time": "2023-05-05T09:36:37.650Z"
   },
   {
    "duration": 4,
    "start_time": "2023-05-05T09:43:47.445Z"
   },
   {
    "duration": 330,
    "start_time": "2023-05-05T09:43:47.627Z"
   },
   {
    "duration": 12,
    "start_time": "2023-05-05T09:43:57.509Z"
   },
   {
    "duration": 4,
    "start_time": "2023-05-05T09:43:57.829Z"
   },
   {
    "duration": 8,
    "start_time": "2023-05-05T09:43:59.915Z"
   },
   {
    "duration": 4,
    "start_time": "2023-05-05T09:44:00.285Z"
   },
   {
    "duration": 41740,
    "start_time": "2023-05-05T09:44:00.836Z"
   },
   {
    "duration": 1538,
    "start_time": "2023-05-05T10:11:23.720Z"
   },
   {
    "duration": 59,
    "start_time": "2023-05-05T10:11:25.260Z"
   },
   {
    "duration": 11,
    "start_time": "2023-05-05T10:11:25.322Z"
   },
   {
    "duration": 12,
    "start_time": "2023-05-05T10:11:25.335Z"
   },
   {
    "duration": 6,
    "start_time": "2023-05-05T10:11:25.349Z"
   },
   {
    "duration": 7,
    "start_time": "2023-05-05T10:11:25.356Z"
   },
   {
    "duration": 5,
    "start_time": "2023-05-05T10:11:25.364Z"
   },
   {
    "duration": 31,
    "start_time": "2023-05-05T10:11:25.370Z"
   },
   {
    "duration": 767,
    "start_time": "2023-05-05T10:11:25.403Z"
   },
   {
    "duration": 39,
    "start_time": "2023-05-05T10:11:26.172Z"
   },
   {
    "duration": 259,
    "start_time": "2023-05-05T10:11:26.214Z"
   },
   {
    "duration": 4,
    "start_time": "2023-05-05T10:11:26.474Z"
   },
   {
    "duration": 304,
    "start_time": "2023-05-05T10:11:26.480Z"
   },
   {
    "duration": 11,
    "start_time": "2023-05-05T10:11:26.787Z"
   },
   {
    "duration": 833,
    "start_time": "2023-05-05T10:11:26.800Z"
   },
   {
    "duration": 679,
    "start_time": "2023-05-05T10:11:27.636Z"
   },
   {
    "duration": 143,
    "start_time": "2023-05-05T10:11:28.317Z"
   },
   {
    "duration": 4,
    "start_time": "2023-05-05T10:11:28.462Z"
   },
   {
    "duration": 5,
    "start_time": "2023-05-05T10:11:28.468Z"
   },
   {
    "duration": 49,
    "start_time": "2023-05-05T10:11:28.474Z"
   },
   {
    "duration": 14,
    "start_time": "2023-05-05T10:11:28.525Z"
   },
   {
    "duration": 30,
    "start_time": "2023-05-05T10:11:28.541Z"
   },
   {
    "duration": 6,
    "start_time": "2023-05-05T10:11:28.572Z"
   },
   {
    "duration": 8,
    "start_time": "2023-05-05T10:11:28.599Z"
   },
   {
    "duration": 29,
    "start_time": "2023-05-05T10:11:28.608Z"
   },
   {
    "duration": 11,
    "start_time": "2023-05-05T10:11:28.638Z"
   },
   {
    "duration": 39374,
    "start_time": "2023-05-05T10:11:28.651Z"
   },
   {
    "duration": 4,
    "start_time": "2023-05-05T10:12:08.027Z"
   },
   {
    "duration": 37727,
    "start_time": "2023-05-05T10:12:08.032Z"
   },
   {
    "duration": 3,
    "start_time": "2023-05-05T10:12:45.761Z"
   },
   {
    "duration": 97238,
    "start_time": "2023-05-05T10:12:45.766Z"
   },
   {
    "duration": 21,
    "start_time": "2023-05-05T10:14:23.005Z"
   },
   {
    "duration": 12,
    "start_time": "2023-05-05T10:14:23.028Z"
   },
   {
    "duration": 392,
    "start_time": "2023-05-05T10:14:23.042Z"
   }
  ],
  "kernelspec": {
   "display_name": "Python 3 (ipykernel)",
   "language": "python",
   "name": "python3"
  },
  "language_info": {
   "codemirror_mode": {
    "name": "ipython",
    "version": 3
   },
   "file_extension": ".py",
   "mimetype": "text/x-python",
   "name": "python",
   "nbconvert_exporter": "python",
   "pygments_lexer": "ipython3",
   "version": "3.9.13"
  },
  "toc": {
   "base_numbering": 1,
   "nav_menu": {},
   "number_sections": true,
   "sideBar": true,
   "skip_h1_title": true,
   "title_cell": "Содержание",
   "title_sidebar": "Contents",
   "toc_cell": true,
   "toc_position": {},
   "toc_section_display": true,
   "toc_window_display": true
  }
 },
 "nbformat": 4,
 "nbformat_minor": 2
}
