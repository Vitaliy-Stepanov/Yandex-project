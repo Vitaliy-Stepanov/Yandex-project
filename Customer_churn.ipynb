{
 "cells": [
  {
   "cell_type": "markdown",
   "metadata": {},
   "source": [
    "<font color='orange' style='font-size:24px; font-weight:bold'>Общее впечатление[2]</font>\n",
    "* Спасибо за оперативность\n",
    "- Приятно видеть фидбек на комментарии.\n",
    "- Недочеты исправлены - работа полностью корректна\n",
    "- Рад был быть полезен. Удачи в дальнейшем обучении!\n"
   ]
  },
  {
   "cell_type": "markdown",
   "metadata": {
    "toc": true
   },
   "source": [
    "<h1>Содержание<span class=\"tocSkip\"></span></h1>\n",
    "<div class=\"toc\"><ul class=\"toc-item\"><li><span><a href=\"#Подготовка-данных\" data-toc-modified-id=\"Подготовка-данных-1\"><span class=\"toc-item-num\">1&nbsp;&nbsp;</span>Подготовка данных</a></span><ul class=\"toc-item\"><li><span><a href=\"#Импортируем-библиотеки\" data-toc-modified-id=\"Импортируем-библиотеки-1.1\"><span class=\"toc-item-num\">1.1&nbsp;&nbsp;</span>Импортируем библиотеки</a></span></li><li><span><a href=\"#Ознакомимся-с-данными.\" data-toc-modified-id=\"Ознакомимся-с-данными.-1.2\"><span class=\"toc-item-num\">1.2&nbsp;&nbsp;</span>Ознакомимся с данными.</a></span></li></ul></li><li><span><a href=\"#Предобработка-данных\" data-toc-modified-id=\"Предобработка-данных-2\"><span class=\"toc-item-num\">2&nbsp;&nbsp;</span>Предобработка данных</a></span><ul class=\"toc-item\"><li><span><a href=\"#Разбейте-данные-на-выборки.\" data-toc-modified-id=\"Разбейте-данные-на-выборки.-2.1\"><span class=\"toc-item-num\">2.1&nbsp;&nbsp;</span>Разбейте данные на выборки.</a></span></li><li><span><a href=\"#Маштабируем-признаки\" data-toc-modified-id=\"Маштабируем-признаки-2.2\"><span class=\"toc-item-num\">2.2&nbsp;&nbsp;</span>Маштабируем признаки</a></span></li></ul></li><li><span><a href=\"#Исследование-задачи\" data-toc-modified-id=\"Исследование-задачи-3\"><span class=\"toc-item-num\">3&nbsp;&nbsp;</span>Исследование задачи</a></span><ul class=\"toc-item\"><li><span><a href=\"#Обучим-модель-логистической-регрессии\" data-toc-modified-id=\"Обучим-модель-логистической-регрессии-3.1\"><span class=\"toc-item-num\">3.1&nbsp;&nbsp;</span>Обучим модель логистической регрессии</a></span></li><li><span><a href=\"#Обучим-модель-&quot;Дерево-решений&quot;\" data-toc-modified-id=\"Обучим-модель-&quot;Дерево-решений&quot;-3.2\"><span class=\"toc-item-num\">3.2&nbsp;&nbsp;</span>Обучим модель \"Дерево решений\"</a></span></li><li><span><a href=\"#Обучим-модель-&quot;Случайного-леса&quot;\" data-toc-modified-id=\"Обучим-модель-&quot;Случайного-леса&quot;-3.3\"><span class=\"toc-item-num\">3.3&nbsp;&nbsp;</span>Обучим модель \"Случайного леса\"</a></span></li></ul></li><li><span><a href=\"#Борьба-с-дисбалансом\" data-toc-modified-id=\"Борьба-с-дисбалансом-4\"><span class=\"toc-item-num\">4&nbsp;&nbsp;</span>Борьба с дисбалансом</a></span><ul class=\"toc-item\"><li><span><a href=\"#Для-борьбы-с-дисбалансом-попробуем-воспользоваться-&quot;Взвешиванием-классов&quot;.\" data-toc-modified-id=\"Для-борьбы-с-дисбалансом-попробуем-воспользоваться-&quot;Взвешиванием-классов&quot;.-4.1\"><span class=\"toc-item-num\">4.1&nbsp;&nbsp;</span>Для борьбы с дисбалансом попробуем воспользоваться \"Взвешиванием классов\".</a></span><ul class=\"toc-item\"><li><span><a href=\"#Обучим-модель-логистической-регрессии-c-сбалансированный-классом\" data-toc-modified-id=\"Обучим-модель-логистической-регрессии-c-сбалансированный-классом-4.1.1\"><span class=\"toc-item-num\">4.1.1&nbsp;&nbsp;</span>Обучим модель логистической регрессии c сбалансированный классом</a></span></li><li><span><a href=\"#Обучим-модель-&quot;Дерево-решений&quot;-c-сбалансированный-классом.\" data-toc-modified-id=\"Обучим-модель-&quot;Дерево-решений&quot;-c-сбалансированный-классом.-4.1.2\"><span class=\"toc-item-num\">4.1.2&nbsp;&nbsp;</span>Обучим модель \"Дерево решений\" c сбалансированный классом.</a></span></li><li><span><a href=\"#Обучим-модель-&quot;Случайного-леса&quot;-c-сбалансированный-классом.\" data-toc-modified-id=\"Обучим-модель-&quot;Случайного-леса&quot;-c-сбалансированный-классом.-4.1.3\"><span class=\"toc-item-num\">4.1.3&nbsp;&nbsp;</span>Обучим модель \"Случайного леса\" c сбалансированный классом.</a></span></li></ul></li><li><span><a href=\"#Борьба-с-дисбалансом-с-помощью-увеличение-выборки.\" data-toc-modified-id=\"Борьба-с-дисбалансом-с-помощью-увеличение-выборки.-4.2\"><span class=\"toc-item-num\">4.2&nbsp;&nbsp;</span>Борьба с дисбалансом с помощью увеличение выборки.</a></span><ul class=\"toc-item\"><li><span><a href=\"#Модель-логистической-регрессии\" data-toc-modified-id=\"Модель-логистической-регрессии-4.2.1\"><span class=\"toc-item-num\">4.2.1&nbsp;&nbsp;</span>Модель логистической регрессии</a></span></li><li><span><a href=\"#Модель-&quot;Дерево-решений&quot;\" data-toc-modified-id=\"Модель-&quot;Дерево-решений&quot;-4.2.2\"><span class=\"toc-item-num\">4.2.2&nbsp;&nbsp;</span>Модель \"Дерево решений\"</a></span></li><li><span><a href=\"#Модель-&quot;Случайного-леса&quot;\" data-toc-modified-id=\"Модель-&quot;Случайного-леса&quot;-4.2.3\"><span class=\"toc-item-num\">4.2.3&nbsp;&nbsp;</span>Модель \"Случайного леса\"</a></span></li></ul></li><li><span><a href=\"#Борьба-с-дисбалансом-с-помощью-уменьшения-выборки.\" data-toc-modified-id=\"Борьба-с-дисбалансом-с-помощью-уменьшения-выборки.-4.3\"><span class=\"toc-item-num\">4.3&nbsp;&nbsp;</span>Борьба с дисбалансом с помощью уменьшения выборки.</a></span><ul class=\"toc-item\"><li><span><a href=\"#Модель-логистической-регрессии\" data-toc-modified-id=\"Модель-логистической-регрессии-4.3.1\"><span class=\"toc-item-num\">4.3.1&nbsp;&nbsp;</span>Модель логистической регрессии</a></span></li><li><span><a href=\"#Модель-&quot;Дерево-решений&quot;\" data-toc-modified-id=\"Модель-&quot;Дерево-решений&quot;-4.3.2\"><span class=\"toc-item-num\">4.3.2&nbsp;&nbsp;</span>Модель \"Дерево решений\"</a></span></li><li><span><a href=\"#Модель-&quot;Случайного-леса&quot;\" data-toc-modified-id=\"Модель-&quot;Случайного-леса&quot;-4.3.3\"><span class=\"toc-item-num\">4.3.3&nbsp;&nbsp;</span>Модель \"Случайного леса\"</a></span></li></ul></li></ul></li><li><span><a href=\"#Тестирование-модели\" data-toc-modified-id=\"Тестирование-модели-5\"><span class=\"toc-item-num\">5&nbsp;&nbsp;</span>Тестирование модели</a></span></li><li><span><a href=\"#Чек-лист-готовности-проекта\" data-toc-modified-id=\"Чек-лист-готовности-проекта-6\"><span class=\"toc-item-num\">6&nbsp;&nbsp;</span>Чек-лист готовности проекта</a></span></li></ul></div>"
   ]
  },
  {
   "cell_type": "markdown",
   "metadata": {},
   "source": [
    "# Отток клиентов"
   ]
  },
  {
   "cell_type": "markdown",
   "metadata": {},
   "source": [
    "Из «Бета-Банка» стали уходить клиенты. Каждый месяц. Немного, но заметно. Банковские маркетологи посчитали: сохранять текущих клиентов дешевле, чем привлекать новых.\n",
    "\n",
    "Нужно спрогнозировать, уйдёт клиент из банка в ближайшее время или нет. Вам предоставлены исторические данные о поведении клиентов и расторжении договоров с банком. \n",
    "\n",
    "Постройте модель с предельно большим значением *F1*-меры. Чтобы сдать проект успешно, нужно довести метрику до 0.59. Проверьте *F1*-меру на тестовой выборке самостоятельно.\n",
    "\n",
    "Дополнительно измеряйте *AUC-ROC*, сравнивайте её значение с *F1*-мерой.\n",
    "\n",
    "Источник данных: [https://www.kaggle.com/barelydedicated/bank-customer-churn-modeling](https://www.kaggle.com/barelydedicated/bank-customer-churn-modeling)"
   ]
  },
  {
   "cell_type": "markdown",
   "metadata": {},
   "source": [
    "## Подготовка данных"
   ]
  },
  {
   "cell_type": "markdown",
   "metadata": {},
   "source": [
    "### Импортируем библиотеки "
   ]
  },
  {
   "cell_type": "code",
   "execution_count": 1,
   "metadata": {},
   "outputs": [],
   "source": [
    "# Обработка данных\n",
    "import pandas as pd\n",
    "import numpy as np\n",
    "\n",
    "# Визуализация данных\n",
    "import matplotlib.pyplot as plt\n",
    "import seaborn as sns\n",
    "\n",
    "\n",
    "from sklearn.utils import shuffle\n",
    "from sklearn.model_selection import train_test_split, GridSearchCV, cross_val_score\n",
    "from sklearn.linear_model import LinearRegression, LogisticRegression\n",
    "from sklearn.tree import DecisionTreeRegressor, DecisionTreeClassifier\n",
    "from sklearn.ensemble import RandomForestRegressor, RandomForestClassifier\n",
    "from sklearn.metrics import f1_score, roc_auc_score, precision_score, recall_score\n",
    "from sklearn.preprocessing import StandardScaler"
   ]
  },
  {
   "cell_type": "markdown",
   "metadata": {},
   "source": [
    "### Ознакомимся с данными."
   ]
  },
  {
   "cell_type": "code",
   "execution_count": 2,
   "metadata": {},
   "outputs": [],
   "source": [
    "# Запишим данные в переменную data.\n",
    "\n",
    "data = pd.read_csv('/datasets/Churn.csv')"
   ]
  },
  {
   "cell_type": "code",
   "execution_count": 3,
   "metadata": {},
   "outputs": [
    {
     "data": {
      "text/html": [
       "<div>\n",
       "<style scoped>\n",
       "    .dataframe tbody tr th:only-of-type {\n",
       "        vertical-align: middle;\n",
       "    }\n",
       "\n",
       "    .dataframe tbody tr th {\n",
       "        vertical-align: top;\n",
       "    }\n",
       "\n",
       "    .dataframe thead th {\n",
       "        text-align: right;\n",
       "    }\n",
       "</style>\n",
       "<table border=\"1\" class=\"dataframe\">\n",
       "  <thead>\n",
       "    <tr style=\"text-align: right;\">\n",
       "      <th></th>\n",
       "      <th>RowNumber</th>\n",
       "      <th>CustomerId</th>\n",
       "      <th>Surname</th>\n",
       "      <th>CreditScore</th>\n",
       "      <th>Geography</th>\n",
       "      <th>Gender</th>\n",
       "      <th>Age</th>\n",
       "      <th>Tenure</th>\n",
       "      <th>Balance</th>\n",
       "      <th>NumOfProducts</th>\n",
       "      <th>HasCrCard</th>\n",
       "      <th>IsActiveMember</th>\n",
       "      <th>EstimatedSalary</th>\n",
       "      <th>Exited</th>\n",
       "    </tr>\n",
       "  </thead>\n",
       "  <tbody>\n",
       "    <tr>\n",
       "      <th>0</th>\n",
       "      <td>1</td>\n",
       "      <td>15634602</td>\n",
       "      <td>Hargrave</td>\n",
       "      <td>619</td>\n",
       "      <td>France</td>\n",
       "      <td>Female</td>\n",
       "      <td>42</td>\n",
       "      <td>2.0</td>\n",
       "      <td>0.00</td>\n",
       "      <td>1</td>\n",
       "      <td>1</td>\n",
       "      <td>1</td>\n",
       "      <td>101348.88</td>\n",
       "      <td>1</td>\n",
       "    </tr>\n",
       "    <tr>\n",
       "      <th>1</th>\n",
       "      <td>2</td>\n",
       "      <td>15647311</td>\n",
       "      <td>Hill</td>\n",
       "      <td>608</td>\n",
       "      <td>Spain</td>\n",
       "      <td>Female</td>\n",
       "      <td>41</td>\n",
       "      <td>1.0</td>\n",
       "      <td>83807.86</td>\n",
       "      <td>1</td>\n",
       "      <td>0</td>\n",
       "      <td>1</td>\n",
       "      <td>112542.58</td>\n",
       "      <td>0</td>\n",
       "    </tr>\n",
       "    <tr>\n",
       "      <th>2</th>\n",
       "      <td>3</td>\n",
       "      <td>15619304</td>\n",
       "      <td>Onio</td>\n",
       "      <td>502</td>\n",
       "      <td>France</td>\n",
       "      <td>Female</td>\n",
       "      <td>42</td>\n",
       "      <td>8.0</td>\n",
       "      <td>159660.80</td>\n",
       "      <td>3</td>\n",
       "      <td>1</td>\n",
       "      <td>0</td>\n",
       "      <td>113931.57</td>\n",
       "      <td>1</td>\n",
       "    </tr>\n",
       "    <tr>\n",
       "      <th>3</th>\n",
       "      <td>4</td>\n",
       "      <td>15701354</td>\n",
       "      <td>Boni</td>\n",
       "      <td>699</td>\n",
       "      <td>France</td>\n",
       "      <td>Female</td>\n",
       "      <td>39</td>\n",
       "      <td>1.0</td>\n",
       "      <td>0.00</td>\n",
       "      <td>2</td>\n",
       "      <td>0</td>\n",
       "      <td>0</td>\n",
       "      <td>93826.63</td>\n",
       "      <td>0</td>\n",
       "    </tr>\n",
       "    <tr>\n",
       "      <th>4</th>\n",
       "      <td>5</td>\n",
       "      <td>15737888</td>\n",
       "      <td>Mitchell</td>\n",
       "      <td>850</td>\n",
       "      <td>Spain</td>\n",
       "      <td>Female</td>\n",
       "      <td>43</td>\n",
       "      <td>2.0</td>\n",
       "      <td>125510.82</td>\n",
       "      <td>1</td>\n",
       "      <td>1</td>\n",
       "      <td>1</td>\n",
       "      <td>79084.10</td>\n",
       "      <td>0</td>\n",
       "    </tr>\n",
       "    <tr>\n",
       "      <th>5</th>\n",
       "      <td>6</td>\n",
       "      <td>15574012</td>\n",
       "      <td>Chu</td>\n",
       "      <td>645</td>\n",
       "      <td>Spain</td>\n",
       "      <td>Male</td>\n",
       "      <td>44</td>\n",
       "      <td>8.0</td>\n",
       "      <td>113755.78</td>\n",
       "      <td>2</td>\n",
       "      <td>1</td>\n",
       "      <td>0</td>\n",
       "      <td>149756.71</td>\n",
       "      <td>1</td>\n",
       "    </tr>\n",
       "    <tr>\n",
       "      <th>6</th>\n",
       "      <td>7</td>\n",
       "      <td>15592531</td>\n",
       "      <td>Bartlett</td>\n",
       "      <td>822</td>\n",
       "      <td>France</td>\n",
       "      <td>Male</td>\n",
       "      <td>50</td>\n",
       "      <td>7.0</td>\n",
       "      <td>0.00</td>\n",
       "      <td>2</td>\n",
       "      <td>1</td>\n",
       "      <td>1</td>\n",
       "      <td>10062.80</td>\n",
       "      <td>0</td>\n",
       "    </tr>\n",
       "    <tr>\n",
       "      <th>7</th>\n",
       "      <td>8</td>\n",
       "      <td>15656148</td>\n",
       "      <td>Obinna</td>\n",
       "      <td>376</td>\n",
       "      <td>Germany</td>\n",
       "      <td>Female</td>\n",
       "      <td>29</td>\n",
       "      <td>4.0</td>\n",
       "      <td>115046.74</td>\n",
       "      <td>4</td>\n",
       "      <td>1</td>\n",
       "      <td>0</td>\n",
       "      <td>119346.88</td>\n",
       "      <td>1</td>\n",
       "    </tr>\n",
       "    <tr>\n",
       "      <th>8</th>\n",
       "      <td>9</td>\n",
       "      <td>15792365</td>\n",
       "      <td>He</td>\n",
       "      <td>501</td>\n",
       "      <td>France</td>\n",
       "      <td>Male</td>\n",
       "      <td>44</td>\n",
       "      <td>4.0</td>\n",
       "      <td>142051.07</td>\n",
       "      <td>2</td>\n",
       "      <td>0</td>\n",
       "      <td>1</td>\n",
       "      <td>74940.50</td>\n",
       "      <td>0</td>\n",
       "    </tr>\n",
       "    <tr>\n",
       "      <th>9</th>\n",
       "      <td>10</td>\n",
       "      <td>15592389</td>\n",
       "      <td>H?</td>\n",
       "      <td>684</td>\n",
       "      <td>France</td>\n",
       "      <td>Male</td>\n",
       "      <td>27</td>\n",
       "      <td>2.0</td>\n",
       "      <td>134603.88</td>\n",
       "      <td>1</td>\n",
       "      <td>1</td>\n",
       "      <td>1</td>\n",
       "      <td>71725.73</td>\n",
       "      <td>0</td>\n",
       "    </tr>\n",
       "  </tbody>\n",
       "</table>\n",
       "</div>"
      ],
      "text/plain": [
       "   RowNumber  CustomerId   Surname  CreditScore Geography  Gender  Age  \\\n",
       "0          1    15634602  Hargrave          619    France  Female   42   \n",
       "1          2    15647311      Hill          608     Spain  Female   41   \n",
       "2          3    15619304      Onio          502    France  Female   42   \n",
       "3          4    15701354      Boni          699    France  Female   39   \n",
       "4          5    15737888  Mitchell          850     Spain  Female   43   \n",
       "5          6    15574012       Chu          645     Spain    Male   44   \n",
       "6          7    15592531  Bartlett          822    France    Male   50   \n",
       "7          8    15656148    Obinna          376   Germany  Female   29   \n",
       "8          9    15792365        He          501    France    Male   44   \n",
       "9         10    15592389        H?          684    France    Male   27   \n",
       "\n",
       "   Tenure    Balance  NumOfProducts  HasCrCard  IsActiveMember  \\\n",
       "0     2.0       0.00              1          1               1   \n",
       "1     1.0   83807.86              1          0               1   \n",
       "2     8.0  159660.80              3          1               0   \n",
       "3     1.0       0.00              2          0               0   \n",
       "4     2.0  125510.82              1          1               1   \n",
       "5     8.0  113755.78              2          1               0   \n",
       "6     7.0       0.00              2          1               1   \n",
       "7     4.0  115046.74              4          1               0   \n",
       "8     4.0  142051.07              2          0               1   \n",
       "9     2.0  134603.88              1          1               1   \n",
       "\n",
       "   EstimatedSalary  Exited  \n",
       "0        101348.88       1  \n",
       "1        112542.58       0  \n",
       "2        113931.57       1  \n",
       "3         93826.63       0  \n",
       "4         79084.10       0  \n",
       "5        149756.71       1  \n",
       "6         10062.80       0  \n",
       "7        119346.88       1  \n",
       "8         74940.50       0  \n",
       "9         71725.73       0  "
      ]
     },
     "execution_count": 3,
     "metadata": {},
     "output_type": "execute_result"
    }
   ],
   "source": [
    "# Выведим первые 10 строк.\n",
    "\n",
    "pd.set_option('display.max_columns', None)\n",
    "\n",
    "data.head(10)"
   ]
  },
  {
   "cell_type": "code",
   "execution_count": 4,
   "metadata": {
    "scrolled": false
   },
   "outputs": [
    {
     "name": "stdout",
     "output_type": "stream",
     "text": [
      "<class 'pandas.core.frame.DataFrame'>\n",
      "RangeIndex: 10000 entries, 0 to 9999\n",
      "Data columns (total 14 columns):\n",
      " #   Column           Non-Null Count  Dtype  \n",
      "---  ------           --------------  -----  \n",
      " 0   RowNumber        10000 non-null  int64  \n",
      " 1   CustomerId       10000 non-null  int64  \n",
      " 2   Surname          10000 non-null  object \n",
      " 3   CreditScore      10000 non-null  int64  \n",
      " 4   Geography        10000 non-null  object \n",
      " 5   Gender           10000 non-null  object \n",
      " 6   Age              10000 non-null  int64  \n",
      " 7   Tenure           9091 non-null   float64\n",
      " 8   Balance          10000 non-null  float64\n",
      " 9   NumOfProducts    10000 non-null  int64  \n",
      " 10  HasCrCard        10000 non-null  int64  \n",
      " 11  IsActiveMember   10000 non-null  int64  \n",
      " 12  EstimatedSalary  10000 non-null  float64\n",
      " 13  Exited           10000 non-null  int64  \n",
      "dtypes: float64(3), int64(8), object(3)\n",
      "memory usage: 1.1+ MB\n"
     ]
    }
   ],
   "source": [
    "data.info()"
   ]
  },
  {
   "cell_type": "markdown",
   "metadata": {},
   "source": [
    "**Описания данных**"
   ]
  },
  {
   "cell_type": "markdown",
   "metadata": {},
   "source": [
    "* RowNumber — индекс строки в данных\n",
    "* CustomerId — уникальный идентификатор клиента\n",
    "* Surname — фамилия\n",
    "* CreditScore — кредитный рейтинг\n",
    "* Geography — страна проживания\n",
    "* Gender — пол\n",
    "* Age — возраст\n",
    "* Tenure — сколько лет человек является клиентом банка\n",
    "* Balance — баланс на счёте\n",
    "* NumOfProducts — количество продуктов банка, используемых клиентом\n",
    "* HasCrCard — наличие кредитной карты\n",
    "* IsActiveMember — активность клиента\n",
    "* EstimatedSalary — предполагаемая зарплата\n",
    "* Exited — факт ухода клиента"
   ]
  },
  {
   "cell_type": "markdown",
   "metadata": {},
   "source": [
    "## Предобработка данных"
   ]
  },
  {
   "cell_type": "code",
   "execution_count": 5,
   "metadata": {},
   "outputs": [],
   "source": [
    "# Сразу удалим столбцы RowNumber, Surname, и CustomerId, они нам не потребуются для анализа.\n",
    "\n",
    "data = data.drop(columns=['CustomerId','Surname', 'RowNumber'], axis=1)"
   ]
  },
  {
   "cell_type": "code",
   "execution_count": 6,
   "metadata": {},
   "outputs": [
    {
     "data": {
      "text/plain": [
       "0"
      ]
     },
     "execution_count": 6,
     "metadata": {},
     "output_type": "execute_result"
    }
   ],
   "source": [
    "# Поиск дубликатов\n",
    "\n",
    "data.duplicated().sum()"
   ]
  },
  {
   "cell_type": "code",
   "execution_count": 7,
   "metadata": {},
   "outputs": [
    {
     "data": {
      "text/html": [
       "<style  type=\"text/css\" >\n",
       "#T_455c8_row0_col0{\n",
       "            background-color:  #b40426;\n",
       "            color:  #f1f1f1;\n",
       "        }#T_455c8_row1_col0,#T_455c8_row2_col0,#T_455c8_row3_col0,#T_455c8_row4_col0,#T_455c8_row5_col0,#T_455c8_row6_col0,#T_455c8_row7_col0,#T_455c8_row8_col0,#T_455c8_row9_col0,#T_455c8_row10_col0{\n",
       "            background-color:  #3b4cc0;\n",
       "            color:  #f1f1f1;\n",
       "        }</style><table id=\"T_455c8_\" ><thead>    <tr>        <th class=\"blank level0\" ></th>        <th class=\"col_heading level0 col0\" >percent_space</th>    </tr></thead><tbody>\n",
       "                <tr>\n",
       "                        <th id=\"T_455c8_level0_row0\" class=\"row_heading level0 row0\" >Tenure</th>\n",
       "                        <td id=\"T_455c8_row0_col0\" class=\"data row0 col0\" >9.1</td>\n",
       "            </tr>\n",
       "            <tr>\n",
       "                        <th id=\"T_455c8_level0_row1\" class=\"row_heading level0 row1\" >CreditScore</th>\n",
       "                        <td id=\"T_455c8_row1_col0\" class=\"data row1 col0\" >0.0</td>\n",
       "            </tr>\n",
       "            <tr>\n",
       "                        <th id=\"T_455c8_level0_row2\" class=\"row_heading level0 row2\" >Geography</th>\n",
       "                        <td id=\"T_455c8_row2_col0\" class=\"data row2 col0\" >0.0</td>\n",
       "            </tr>\n",
       "            <tr>\n",
       "                        <th id=\"T_455c8_level0_row3\" class=\"row_heading level0 row3\" >Gender</th>\n",
       "                        <td id=\"T_455c8_row3_col0\" class=\"data row3 col0\" >0.0</td>\n",
       "            </tr>\n",
       "            <tr>\n",
       "                        <th id=\"T_455c8_level0_row4\" class=\"row_heading level0 row4\" >Age</th>\n",
       "                        <td id=\"T_455c8_row4_col0\" class=\"data row4 col0\" >0.0</td>\n",
       "            </tr>\n",
       "            <tr>\n",
       "                        <th id=\"T_455c8_level0_row5\" class=\"row_heading level0 row5\" >Balance</th>\n",
       "                        <td id=\"T_455c8_row5_col0\" class=\"data row5 col0\" >0.0</td>\n",
       "            </tr>\n",
       "            <tr>\n",
       "                        <th id=\"T_455c8_level0_row6\" class=\"row_heading level0 row6\" >NumOfProducts</th>\n",
       "                        <td id=\"T_455c8_row6_col0\" class=\"data row6 col0\" >0.0</td>\n",
       "            </tr>\n",
       "            <tr>\n",
       "                        <th id=\"T_455c8_level0_row7\" class=\"row_heading level0 row7\" >HasCrCard</th>\n",
       "                        <td id=\"T_455c8_row7_col0\" class=\"data row7 col0\" >0.0</td>\n",
       "            </tr>\n",
       "            <tr>\n",
       "                        <th id=\"T_455c8_level0_row8\" class=\"row_heading level0 row8\" >IsActiveMember</th>\n",
       "                        <td id=\"T_455c8_row8_col0\" class=\"data row8 col0\" >0.0</td>\n",
       "            </tr>\n",
       "            <tr>\n",
       "                        <th id=\"T_455c8_level0_row9\" class=\"row_heading level0 row9\" >EstimatedSalary</th>\n",
       "                        <td id=\"T_455c8_row9_col0\" class=\"data row9 col0\" >0.0</td>\n",
       "            </tr>\n",
       "            <tr>\n",
       "                        <th id=\"T_455c8_level0_row10\" class=\"row_heading level0 row10\" >Exited</th>\n",
       "                        <td id=\"T_455c8_row10_col0\" class=\"data row10 col0\" >0.0</td>\n",
       "            </tr>\n",
       "    </tbody></table>"
      ],
      "text/plain": [
       "<pandas.io.formats.style.Styler at 0x7ff8f775f940>"
      ]
     },
     "execution_count": 7,
     "metadata": {},
     "output_type": "execute_result"
    }
   ],
   "source": [
    "# Выведем количество пропусков в данных\n",
    "\n",
    "def isna_view (df):\n",
    "    return  (\n",
    "                (df.isna().mean()*100)\n",
    "                .sort_values(ascending=False)\n",
    "                .to_frame()\n",
    "                .rename(columns = {0:'percent_space'})\n",
    "                .style.background_gradient('coolwarm').format(\"{:.1f}\")\n",
    "            )\n",
    "\n",
    "isna_view (data)"
   ]
  },
  {
   "cell_type": "code",
   "execution_count": 8,
   "metadata": {},
   "outputs": [
    {
     "data": {
      "text/html": [
       "<style  type=\"text/css\" >\n",
       "#T_62890_row0_col0,#T_62890_row1_col0,#T_62890_row2_col0,#T_62890_row3_col0,#T_62890_row4_col0,#T_62890_row5_col0,#T_62890_row6_col0,#T_62890_row7_col0,#T_62890_row8_col0,#T_62890_row9_col0,#T_62890_row10_col0{\n",
       "            background-color:  #3b4cc0;\n",
       "            color:  #f1f1f1;\n",
       "        }</style><table id=\"T_62890_\" ><thead>    <tr>        <th class=\"blank level0\" ></th>        <th class=\"col_heading level0 col0\" >percent_space</th>    </tr></thead><tbody>\n",
       "                <tr>\n",
       "                        <th id=\"T_62890_level0_row0\" class=\"row_heading level0 row0\" >CreditScore</th>\n",
       "                        <td id=\"T_62890_row0_col0\" class=\"data row0 col0\" >0.0</td>\n",
       "            </tr>\n",
       "            <tr>\n",
       "                        <th id=\"T_62890_level0_row1\" class=\"row_heading level0 row1\" >Geography</th>\n",
       "                        <td id=\"T_62890_row1_col0\" class=\"data row1 col0\" >0.0</td>\n",
       "            </tr>\n",
       "            <tr>\n",
       "                        <th id=\"T_62890_level0_row2\" class=\"row_heading level0 row2\" >Gender</th>\n",
       "                        <td id=\"T_62890_row2_col0\" class=\"data row2 col0\" >0.0</td>\n",
       "            </tr>\n",
       "            <tr>\n",
       "                        <th id=\"T_62890_level0_row3\" class=\"row_heading level0 row3\" >Age</th>\n",
       "                        <td id=\"T_62890_row3_col0\" class=\"data row3 col0\" >0.0</td>\n",
       "            </tr>\n",
       "            <tr>\n",
       "                        <th id=\"T_62890_level0_row4\" class=\"row_heading level0 row4\" >Tenure</th>\n",
       "                        <td id=\"T_62890_row4_col0\" class=\"data row4 col0\" >0.0</td>\n",
       "            </tr>\n",
       "            <tr>\n",
       "                        <th id=\"T_62890_level0_row5\" class=\"row_heading level0 row5\" >Balance</th>\n",
       "                        <td id=\"T_62890_row5_col0\" class=\"data row5 col0\" >0.0</td>\n",
       "            </tr>\n",
       "            <tr>\n",
       "                        <th id=\"T_62890_level0_row6\" class=\"row_heading level0 row6\" >NumOfProducts</th>\n",
       "                        <td id=\"T_62890_row6_col0\" class=\"data row6 col0\" >0.0</td>\n",
       "            </tr>\n",
       "            <tr>\n",
       "                        <th id=\"T_62890_level0_row7\" class=\"row_heading level0 row7\" >HasCrCard</th>\n",
       "                        <td id=\"T_62890_row7_col0\" class=\"data row7 col0\" >0.0</td>\n",
       "            </tr>\n",
       "            <tr>\n",
       "                        <th id=\"T_62890_level0_row8\" class=\"row_heading level0 row8\" >IsActiveMember</th>\n",
       "                        <td id=\"T_62890_row8_col0\" class=\"data row8 col0\" >0.0</td>\n",
       "            </tr>\n",
       "            <tr>\n",
       "                        <th id=\"T_62890_level0_row9\" class=\"row_heading level0 row9\" >EstimatedSalary</th>\n",
       "                        <td id=\"T_62890_row9_col0\" class=\"data row9 col0\" >0.0</td>\n",
       "            </tr>\n",
       "            <tr>\n",
       "                        <th id=\"T_62890_level0_row10\" class=\"row_heading level0 row10\" >Exited</th>\n",
       "                        <td id=\"T_62890_row10_col0\" class=\"data row10 col0\" >0.0</td>\n",
       "            </tr>\n",
       "    </tbody></table>"
      ],
      "text/plain": [
       "<pandas.io.formats.style.Styler at 0x7ff8f775f190>"
      ]
     },
     "execution_count": 8,
     "metadata": {},
     "output_type": "execute_result"
    }
   ],
   "source": [
    "# Заменим пропуски методом ffill.\n",
    "\n",
    "data['Tenure'] = data['Tenure'].fillna(method='ffill')\n",
    "\n",
    "isna_view(data)"
   ]
  },
  {
   "cell_type": "code",
   "execution_count": 9,
   "metadata": {},
   "outputs": [
    {
     "data": {
      "text/plain": [
       "0    7963\n",
       "1    2037\n",
       "Name: Exited, dtype: int64"
      ]
     },
     "execution_count": 9,
     "metadata": {},
     "output_type": "execute_result"
    },
    {
     "data": {
      "image/png": "[encoded data removed]",
      "text/plain": [
       "<Figure size 432x288 with 1 Axes>"
      ]
     },
     "metadata": {
      "needs_background": "light"
     },
     "output_type": "display_data"
    }
   ],
   "source": [
    "# Посмотрим на целевые признаки поближе.\n",
    "\n",
    "sns.countplot(x='Exited', data=data, palette='hls');\n",
    "\n",
    "# подсчётаем классы в целевом признаке примените метод value_counts().\n",
    "\n",
    "data['Exited'].value_counts()"
   ]
  },
  {
   "cell_type": "markdown",
   "metadata": {},
   "source": [
    "И так у нас есть 10 тыс. данных, в столбце **Tenure** - (сколько лет человек является клиентом банка), есть пропуски около 10%, мы заменили их. Так же у на в столбце **Exited** действующих клиентов примерно в 4 раза больше ушедших. \n",
    "Действующие(0) - **7963**. Ушедшие(1) - **2037**. На лицо дисбаланс классов. Для дальнейшего анализа на не потребуются столбцы   RowNumber, Surname, и CustomerId мы от них избавились."
   ]
  },
  {
   "cell_type": "markdown",
   "metadata": {},
   "source": [
    "### Разбейте данные на выборки."
   ]
  },
  {
   "cell_type": "markdown",
   "metadata": {},
   "source": [
    "* Для пеобразования категориальные признаки в численные поможет техника прямого кодирования **OHE**."
   ]
  },
  {
   "cell_type": "code",
   "execution_count": 10,
   "metadata": {
    "scrolled": true
   },
   "outputs": [],
   "source": [
    "data_ohe =  pd.get_dummies(data, drop_first=True)"
   ]
  },
  {
   "cell_type": "markdown",
   "metadata": {},
   "source": [
    "* Сохраним признаки в отдельные переменные."
   ]
  },
  {
   "cell_type": "code",
   "execution_count": 11,
   "metadata": {},
   "outputs": [],
   "source": [
    "target = data_ohe['Exited']\n",
    "features = data_ohe.drop('Exited', axis=1)"
   ]
  },
  {
   "cell_type": "markdown",
   "metadata": {},
   "source": [
    "* Разобьём исходные данные на обучающую, валидационную и тестовую выборку.\n",
    "* Воспользуемся **train_test_split**, и  разабьем на 60%, 20% и 20%"
   ]
  },
  {
   "cell_type": "code",
   "execution_count": 12,
   "metadata": {},
   "outputs": [],
   "source": [
    "# Сначала разобьем на обучающие и валидационные выборки 60% и 40%.\n",
    "\n",
    "features_train, features_valid, target_train, target_valid = train_test_split(\n",
    "    features, target, test_size=0.4, random_state=12345)\n",
    "\n",
    "# Теперь разобьем на валидационную и тестовую выборку 50% на 50%.\n",
    "\n",
    "features_test, features_valid, target_test, target_valid = train_test_split(\n",
    "    features_valid, target_valid, test_size=0.5, random_state=12345)"
   ]
  },
  {
   "cell_type": "code",
   "execution_count": 13,
   "metadata": {
    "scrolled": false
   },
   "outputs": [
    {
     "name": "stdout",
     "output_type": "stream",
     "text": [
      "Количество строк на обучающей выборке 6000\n",
      "Количество строк на валидационной выборке 2000\n",
      "Количество строк на тестовую выборку 2000\n"
     ]
    }
   ],
   "source": [
    "print('Количество строк на обучающей выборке', features_train.shape[0])\n",
    "print('Количество строк на валидационной выборке', features_valid.shape[0])\n",
    "print('Количество строк на тестовую выборку', features_test.shape[0])"
   ]
  },
  {
   "cell_type": "markdown",
   "metadata": {},
   "source": [
    "### Маштабируем признаки"
   ]
  },
  {
   "cell_type": "markdown",
   "metadata": {},
   "source": [
    "В переменную `numeric` добавим список всех численных признаков"
   ]
  },
  {
   "cell_type": "code",
   "execution_count": 15,
   "metadata": {},
   "outputs": [],
   "source": [
    "numeric = ['CreditScore', 'Age', 'Tenure', 'Balance', 'EstimatedSalary', 'NumOfProducts']"
   ]
  },
  {
   "cell_type": "code",
   "execution_count": 16,
   "metadata": {},
   "outputs": [],
   "source": [
    "# При записи изменённых признаков в исходный датафрейм код может вызывать предупреждение SettingWithCopy\n",
    "# Чтобы предупреждение не появлялось, в код добавим строчку.\n",
    "\n",
    "pd.options.mode.chained_assignment = None\n",
    "\n",
    "# Для масштабирования будем использовать метод стандартизации данных — StandardScaler \n",
    "\n",
    "scaler = StandardScaler().fit(features_train[numeric]) \n",
    "\n",
    "features_train[numeric] = scaler.transform(features_train[numeric])\n",
    "features_valid[numeric] = scaler.transform(features_valid[numeric])\n",
    "features_test[numeric] = scaler.transform(features_test[numeric])"
   ]
  },
  {
   "cell_type": "markdown",
   "metadata": {},
   "source": [
    "## Исследование задачи"
   ]
  },
  {
   "cell_type": "markdown",
   "metadata": {},
   "source": [
    "**По отдельности полноту и точность расмартивать не будем, не слишком информативны. Нужно одновременно повышать показатели обеих. Поэтому будем сразу вычислять F1 и AUC-ROC.**"
   ]
  },
  {
   "cell_type": "markdown",
   "metadata": {},
   "source": [
    "### Обучим модель логистической регрессии"
   ]
  },
  {
   "cell_type": "code",
   "execution_count": 35,
   "metadata": {
    "scrolled": false
   },
   "outputs": [
    {
     "name": "stdout",
     "output_type": "stream",
     "text": [
      "F1: 0.27177700348432055\n",
      "ROC_auc: 0.7386799905857099\n"
     ]
    }
   ],
   "source": [
    "# Определяем тестируемые значения гиперпараметров.\n",
    "\n",
    "parametr_set_logic = {'C': [0.01, 0.05, 0.1, 0.5, 1, 5, 10]}\n",
    "\n",
    "# Повысим качество модели на кросс-валидации\n",
    "\n",
    "model_logic = LogisticRegression(random_state=12345, solver='liblinear')\n",
    "model_logic.fit(features_train, target_train) \n",
    "predicted_logic = model_logic.predict(features_valid)\n",
    "probabilities_model_logic = model_logic.predict_proba(features_valid)\n",
    "probabilities_one_model_logic = probabilities_model_logic[:, 1]\n",
    "\n",
    "print(\"F1:\", f1_score(target_valid, predicted_logic))\n",
    "print(\"ROC_auc:\", roc_auc_score(target_valid, probabilities_one_model_logic))"
   ]
  },
  {
   "cell_type": "markdown",
   "metadata": {},
   "source": [
    "### Обучим модель \"Дерево решений\""
   ]
  },
  {
   "cell_type": "code",
   "execution_count": 36,
   "metadata": {},
   "outputs": [
    {
     "name": "stdout",
     "output_type": "stream",
     "text": [
      "Fitting 5 folds for each of 594 candidates, totalling 2970 fits\n"
     ]
    },
    {
     "data": {
      "text/plain": [
       "GridSearchCV(cv=5, estimator=DecisionTreeClassifier(random_state=17), n_jobs=-1,\n",
       "             param_grid={'criterion': ['entropy', 'gini'],\n",
       "                         'max_depth': [1, 3, 5, 7, 9, 11, 13, 15, 17, 19, 21],\n",
       "                         'min_samples_leaf': [2, 4, 6, 8, 10, 12, 14, 16, 18],\n",
       "                         'min_samples_split': [2, 3, 4]},\n",
       "             verbose=True)"
      ]
     },
     "execution_count": 36,
     "metadata": {},
     "output_type": "execute_result"
    }
   ],
   "source": [
    "# Определяем тестируемые значения гиперпараметров.\n",
    "\n",
    "parametr_set = {\n",
    "    'criterion': ['entropy', 'gini'],\n",
    "    'max_depth': list(range(1, 22, 2)),\n",
    "    'min_samples_split': [2,3,4],\n",
    "    'min_samples_leaf': list(range(2, 20, 2))\n",
    "}\n",
    "\n",
    "# Повысим качество модели на кросс-валидации.\n",
    "\n",
    "model_tree = GridSearchCV(DecisionTreeClassifier(random_state=17),\n",
    "                                parametr_set, verbose=True,\n",
    "                                 n_jobs=-1, cv=5)\n",
    "\n",
    "# Обучаем модель.\n",
    "\n",
    "model_tree.fit(features_train, target_train)"
   ]
  },
  {
   "cell_type": "code",
   "execution_count": 37,
   "metadata": {},
   "outputs": [
    {
     "name": "stdout",
     "output_type": "stream",
     "text": [
      "F1: 0.5163297045101088\n",
      "ROC_auc: 0.826532707912651\n",
      "Параметры: {'criterion': 'entropy', 'max_depth': 7, 'min_samples_leaf': 18, 'min_samples_split': 2}\n"
     ]
    }
   ],
   "source": [
    "predicted_model_tree = model_tree.predict(features_valid)\n",
    "probabilities_model_tree = model_tree.predict_proba(features_valid)\n",
    "probabilities_one_model_tree = probabilities_model_tree[:, 1]\n",
    "\n",
    "print(\"F1:\", f1_score(target_valid, predicted_model_tree))\n",
    "print(\"ROC_auc:\", roc_auc_score(target_valid, probabilities_one_model_tree))\n",
    "print(\"Параметры:\", model_tree.best_params_)"
   ]
  },
  {
   "cell_type": "markdown",
   "metadata": {},
   "source": [
    "### Обучим модель \"Случайного леса\""
   ]
  },
  {
   "cell_type": "code",
   "execution_count": 38,
   "metadata": {},
   "outputs": [
    {
     "name": "stdout",
     "output_type": "stream",
     "text": [
      "CPU times: user 1min 44s, sys: 1.14 s, total: 1min 46s\n",
      "Wall time: 1min 46s\n"
     ]
    },
    {
     "data": {
      "text/plain": [
       "GridSearchCV(cv=5, estimator=RandomForestClassifier(random_state=12345),\n",
       "             n_jobs=-1,\n",
       "             param_grid={'criterion': ['entropy', 'gini'],\n",
       "                         'max_depth': [10, 20, 30],\n",
       "                         'n_estimators': [100, 200, 300]})"
      ]
     },
     "execution_count": 38,
     "metadata": {},
     "output_type": "execute_result"
    }
   ],
   "source": [
    "%%time\n",
    "# Определяем тестируемые значения гиперпараметров.\n",
    "\n",
    "parametrs_forest = {\n",
    "    'n_estimators' : [100,200,300],\n",
    "    'criterion': ['entropy', 'gini'],\n",
    "    'max_depth': [10,20,30]\n",
    "}\n",
    "\n",
    "model_forest = GridSearchCV(RandomForestClassifier(random_state=12345), parametrs_forest, cv=5, n_jobs=-1)\n",
    "model_forest.fit(features_train, target_train)"
   ]
  },
  {
   "cell_type": "code",
   "execution_count": 39,
   "metadata": {
    "scrolled": true
   },
   "outputs": [
    {
     "name": "stdout",
     "output_type": "stream",
     "text": [
      "F1: 0.5141955835962145\n",
      "ROC_auc: 0.8590299983060273\n",
      "Параметры: {'criterion': 'entropy', 'max_depth': 10, 'n_estimators': 100}\n"
     ]
    }
   ],
   "source": [
    "predicted_forest = model_forest.predict(features_valid)\n",
    "probabilities_model_forest = model_forest.predict_proba(features_valid)\n",
    "probabilities_one_model_forest = probabilities_model_forest[:, 1]\n",
    "\n",
    "print(\"F1:\", f1_score(target_valid, predicted_forest))\n",
    "print(\"ROC_auc:\", roc_auc_score(target_valid, probabilities_one_model_forest))\n",
    "print(\"Параметры:\", model_forest.best_params_)"
   ]
  },
  {
   "cell_type": "markdown",
   "metadata": {},
   "source": [
    "Итак, плохи результаты F1-меры по каждой из модели. Хуже всех себя показывает модель Логистической регрессии с F1 = 0.27. По лучше дела обстоят у Дерево решений и Случайного леса с F1 = 0.51 и F1 = 0.51 соответственно. Если же мы посмотрим на ROC_auc, то у Логистической регрессии самый низкий результат, чем у других двух моделей. Дерево решений и Случайный лес уже показываю результат получше. Такие результаты, как правило, считают промежуточными, и требуется поработать над улучшением точностью моделей."
   ]
  },
  {
   "cell_type": "markdown",
   "metadata": {},
   "source": [
    "## Борьба с дисбалансом"
   ]
  },
  {
   "cell_type": "markdown",
   "metadata": {},
   "source": [
    "### Для борьбы с дисбалансом попробуем воспользоваться \"Взвешиванием классов\"."
   ]
  },
  {
   "cell_type": "markdown",
   "metadata": {},
   "source": [
    "#### Обучим модель логистической регрессии c сбалансированный классом"
   ]
  },
  {
   "cell_type": "code",
   "execution_count": 40,
   "metadata": {},
   "outputs": [
    {
     "name": "stdout",
     "output_type": "stream",
     "text": [
      "F1: 0.47923875432525953\n",
      "ROC_auc: 0.741858063084739\n"
     ]
    }
   ],
   "source": [
    "model_logic_bln = LogisticRegression(random_state=12345, solver='liblinear', class_weight='balanced')\n",
    "\n",
    "model_logic_bln.fit(features_train, target_train) \n",
    "predicted_logic_bln = model_logic_bln.predict(features_valid)\n",
    "probabilities_logic_bln = model_logic_bln.predict_proba(features_valid)\n",
    "probabilities_one_logic_bln = probabilities_logic_bln[:, 1]\n",
    "\n",
    "print(\"F1:\", f1_score(target_valid, predicted_logic_bln))\n",
    "print(\"ROC_auc:\", roc_auc_score(target_valid, probabilities_one_logic_bln))"
   ]
  },
  {
   "cell_type": "markdown",
   "metadata": {},
   "source": [
    "#### Обучим модель \"Дерево решений\" c сбалансированный классом."
   ]
  },
  {
   "cell_type": "code",
   "execution_count": 41,
   "metadata": {},
   "outputs": [
    {
     "name": "stdout",
     "output_type": "stream",
     "text": [
      "Fitting 5 folds for each of 594 candidates, totalling 2970 fits\n",
      "F1: 0.5848074921956294\n",
      "ROC_auc: 0.838557664776313\n",
      "Параметры: {'criterion': 'entropy', 'max_depth': 5, 'min_samples_leaf': 16, 'min_samples_split': 2}\n"
     ]
    }
   ],
   "source": [
    "model_tree_bln = GridSearchCV(DecisionTreeClassifier(random_state=17, class_weight='balanced'),\n",
    "                                parametr_set, verbose=True,\n",
    "                                 n_jobs=-1, cv=5)\n",
    "\n",
    "model_tree_bln.fit(features_train, target_train)\n",
    "predicted_model_tree_bln = model_tree_bln.predict(features_valid)\n",
    "probabilities_tree_bln = model_tree_bln.predict_proba(features_valid)\n",
    "probabilities_one_tree_bln = probabilities_tree_bln[:, 1]\n",
    "\n",
    "print(\"F1:\", f1_score(target_valid, predicted_model_tree_bln))\n",
    "print(\"ROC_auc:\", roc_auc_score(target_valid, probabilities_one_tree_bln))\n",
    "print(\"Параметры:\", model_tree_bln.best_params_)"
   ]
  },
  {
   "cell_type": "markdown",
   "metadata": {},
   "source": [
    "#### Обучим модель \"Случайного леса\" c сбалансированный классом."
   ]
  },
  {
   "cell_type": "code",
   "execution_count": 42,
   "metadata": {},
   "outputs": [
    {
     "name": "stdout",
     "output_type": "stream",
     "text": [
      "F1: 0.5216049382716049\n",
      "ROC_auc: 0.8534286455264882\n",
      "Параметры: {'criterion': 'entropy', 'max_depth': 30, 'n_estimators': 100}\n"
     ]
    }
   ],
   "source": [
    "model_forest_bln = GridSearchCV(RandomForestClassifier(random_state=12345, class_weight='balanced'), \n",
    "                            parametrs_forest, cv=5, n_jobs=-1)\n",
    "\n",
    "model_forest_bln.fit(features_train, target_train)\n",
    "predicted_forest_bln = model_forest_bln.predict(features_valid)\n",
    "probabilities_forest_bln = model_forest_bln.predict_proba(features_valid)\n",
    "probabilities_one_forest_bln = probabilities_forest_bln[:, 1]\n",
    "\n",
    "print(\"F1:\", f1_score(target_valid, predicted_forest_bln))\n",
    "print(\"ROC_auc:\", roc_auc_score(target_valid, probabilities_one_forest_bln))\n",
    "print(\"Параметры:\", model_forest_bln.best_params_)"
   ]
  },
  {
   "cell_type": "markdown",
   "metadata": {},
   "source": [
    "F1 мера показала хороший прирост на Логической модели: 0.47, и на Дерево решений: 0.58,  при сбалансированном классе, но Случайный лес: 0.52 прироста практически не дал. \n",
    "Попробуем сбалансировать выборку вручную."
   ]
  },
  {
   "cell_type": "markdown",
   "metadata": {},
   "source": [
    "### Борьба с дисбалансом с помощью увеличение выборки."
   ]
  },
  {
   "cell_type": "code",
   "execution_count": 43,
   "metadata": {},
   "outputs": [],
   "source": [
    "def upsample(features, target, repeat):\n",
    "    features_zeros = features[target == 0]\n",
    "    features_ones = features[target == 1]\n",
    "    target_zeros = target[target == 0]\n",
    "    target_ones = target[target == 1]\n",
    "    \n",
    "    features_upsampled = pd.concat([features_zeros] + [features_ones] * repeat)\n",
    "    target_upsampled = pd.concat([target_zeros] + [target_ones] * repeat)\n",
    "    \n",
    "    features_upsampled, target_upsampled = shuffle(\n",
    "        features_upsampled, target_upsampled, random_state=12345)\n",
    "    \n",
    "    return features_upsampled, target_upsampled"
   ]
  },
  {
   "cell_type": "code",
   "execution_count": 44,
   "metadata": {},
   "outputs": [
    {
     "data": {
      "text/plain": [
       "((9588, 11), (9588,))"
      ]
     },
     "execution_count": 44,
     "metadata": {},
     "output_type": "execute_result"
    }
   ],
   "source": [
    "features_upsampled, target_upsampled = upsample(features_train, target_train, 4)\n",
    "features_upsampled.shape, target_upsampled.shape"
   ]
  },
  {
   "cell_type": "markdown",
   "metadata": {},
   "source": [
    "#### Модель логистической регрессии"
   ]
  },
  {
   "cell_type": "code",
   "execution_count": 45,
   "metadata": {},
   "outputs": [
    {
     "name": "stdout",
     "output_type": "stream",
     "text": [
      "F1: 0.4796536796536796\n",
      "ROC_auc: 0.7418055949066891\n"
     ]
    }
   ],
   "source": [
    "model_logic_up = LogisticRegression(random_state=12345, solver='liblinear')\n",
    "model_logic_up.fit(features_upsampled, target_upsampled)\n",
    "\n",
    "predicted_logic_up = model_logic_up.predict(features_valid)\n",
    "probabilities_logic_up = model_logic_up.predict_proba(features_valid)\n",
    "probabilities_one_logic_up = probabilities_logic_up[:, 1]\n",
    "\n",
    "print(\"F1:\", f1_score(target_valid, predicted_logic_up))\n",
    "print(\"ROC_auc:\", roc_auc_score(target_valid, probabilities_one_logic_up))"
   ]
  },
  {
   "cell_type": "markdown",
   "metadata": {},
   "source": [
    "#### Модель \"Дерево решений\""
   ]
  },
  {
   "cell_type": "code",
   "execution_count": 46,
   "metadata": {},
   "outputs": [
    {
     "name": "stdout",
     "output_type": "stream",
     "text": [
      "Fitting 5 folds for each of 594 candidates, totalling 2970 fits\n",
      "F1: 0.5011389521640092\n",
      "ROC_auc: 0.6908919740177581\n",
      "Параметры: {'criterion': 'entropy', 'max_depth': 21, 'min_samples_leaf': 2, 'min_samples_split': 2}\n"
     ]
    }
   ],
   "source": [
    "model_tree_up = GridSearchCV(DecisionTreeClassifier(random_state=17),parametr_set, \n",
    "                           verbose=True, n_jobs=-1, cv=5)\n",
    "\n",
    "model_tree_up.fit(features_upsampled, target_upsampled)\n",
    "predicted_model_tree_up = model_tree_up.predict(features_valid)\n",
    "probabilities_tree_up = model_tree_up.predict_proba(features_valid)\n",
    "probabilities_one_tree_up = probabilities_tree_up[:, 1]\n",
    "\n",
    "print(\"F1:\", f1_score(target_valid, predicted_model_tree_up))\n",
    "print(\"ROC_auc:\", roc_auc_score(target_valid, probabilities_one_tree_up))\n",
    "print(\"Параметры:\", model_tree_up.best_params_)"
   ]
  },
  {
   "cell_type": "markdown",
   "metadata": {},
   "source": [
    "#### Модель \"Случайного леса\""
   ]
  },
  {
   "cell_type": "code",
   "execution_count": 47,
   "metadata": {},
   "outputs": [
    {
     "name": "stdout",
     "output_type": "stream",
     "text": [
      "F1: 0.5912117177097204\n",
      "ROC_auc: 0.8517968851891329\n",
      "Параметры: {'criterion': 'gini', 'max_depth': 20, 'n_estimators': 200}\n"
     ]
    }
   ],
   "source": [
    "model_forest_up = GridSearchCV(RandomForestClassifier(random_state=12345), \n",
    "                            parametrs_forest, cv=5, n_jobs=-1)\n",
    "\n",
    "model_forest_up.fit(features_upsampled, target_upsampled)\n",
    "predicted_forest_up = model_forest_up.predict(features_valid)\n",
    "probabilities_forest_up = model_forest_up.predict_proba(features_valid)\n",
    "probabilities_one_forest_up = probabilities_forest_up[:, 1]\n",
    "\n",
    "print(\"F1:\", f1_score(target_valid, predicted_forest_up))\n",
    "print(\"ROC_auc:\", roc_auc_score(target_valid, probabilities_one_forest_up))\n",
    "print(\"Параметры:\", model_forest_up.best_params_)"
   ]
  },
  {
   "cell_type": "markdown",
   "metadata": {},
   "source": [
    "* Изменим значение порога и посмотрим, какими станут метрики"
   ]
  },
  {
   "cell_type": "code",
   "execution_count": 56,
   "metadata": {},
   "outputs": [
    {
     "name": "stdout",
     "output_type": "stream",
     "text": [
      "Порог = 0.00 | Точность = 0.214, Полнота = 0.995 | F1 = 0.353, ROC_auc = 0.852\n",
      "Порог = 0.02 | Точность = 0.239, Полнота = 0.991 | F1 = 0.385, ROC_auc = 0.852\n",
      "Порог = 0.04 | Точность = 0.261, Полнота = 0.979 | F1 = 0.413, ROC_auc = 0.852\n",
      "Порог = 0.06 | Точность = 0.282, Полнота = 0.962 | F1 = 0.436, ROC_auc = 0.852\n",
      "Порог = 0.08 | Точность = 0.300, Полнота = 0.950 | F1 = 0.456, ROC_auc = 0.852\n",
      "Порог = 0.10 | Точность = 0.319, Полнота = 0.934 | F1 = 0.475, ROC_auc = 0.852\n",
      "Порог = 0.12 | Точность = 0.336, Полнота = 0.920 | F1 = 0.492, ROC_auc = 0.852\n",
      "Порог = 0.14 | Точность = 0.353, Полнота = 0.903 | F1 = 0.508, ROC_auc = 0.852\n",
      "Порог = 0.16 | Точность = 0.372, Полнота = 0.889 | F1 = 0.524, ROC_auc = 0.852\n",
      "Порог = 0.18 | Точность = 0.393, Полнота = 0.870 | F1 = 0.542, ROC_auc = 0.852\n",
      "Порог = 0.20 | Точность = 0.410, Полнота = 0.835 | F1 = 0.549, ROC_auc = 0.852\n",
      "Порог = 0.22 | Точность = 0.436, Полнота = 0.825 | F1 = 0.571, ROC_auc = 0.852\n",
      "Порог = 0.24 | Точность = 0.455, Полнота = 0.809 | F1 = 0.582, ROC_auc = 0.852\n",
      "Порог = 0.26 | Точность = 0.472, Полнота = 0.790 | F1 = 0.591, ROC_auc = 0.852\n",
      "Порог = 0.28 | Точность = 0.485, Полнота = 0.754 | F1 = 0.590, ROC_auc = 0.852\n",
      "Порог = 0.30 | Точность = 0.509, Полнота = 0.740 | F1 = 0.603, ROC_auc = 0.852\n",
      "Порог = 0.32 | Точность = 0.528, Полнота = 0.709 | F1 = 0.605, ROC_auc = 0.852\n",
      "Порог = 0.34 | Точность = 0.543, Полнота = 0.683 | F1 = 0.605, ROC_auc = 0.852\n",
      "Порог = 0.36 | Точность = 0.564, Полнота = 0.667 | F1 = 0.611, ROC_auc = 0.852\n",
      "Порог = 0.38 | Точность = 0.579, Полнота = 0.643 | F1 = 0.609, ROC_auc = 0.852\n",
      "Порог = 0.40 | Точность = 0.591, Полнота = 0.622 | F1 = 0.606, ROC_auc = 0.852\n",
      "Порог = 0.42 | Точность = 0.607, Полнота = 0.603 | F1 = 0.605, ROC_auc = 0.852\n",
      "Порог = 0.44 | Точность = 0.622, Полнота = 0.584 | F1 = 0.602, ROC_auc = 0.852\n",
      "Порог = 0.46 | Точность = 0.639, Полнота = 0.560 | F1 = 0.597, ROC_auc = 0.852\n",
      "Порог = 0.48 | Точность = 0.658, Полнота = 0.541 | F1 = 0.594, ROC_auc = 0.852\n",
      "Порог = 0.50 | Точность = 0.677, Полнота = 0.525 | F1 = 0.591, ROC_auc = 0.852\n"
     ]
    }
   ],
   "source": [
    "for threshold in np.arange(0, 0.51, 0.02):\n",
    "    predicted_valid = probabilities_one_forest_up > threshold \n",
    "    precision = precision_score(target_valid, predicted_valid)\n",
    "    recall = recall_score(target_valid, predicted_valid)\n",
    "\n",
    "    print(\"Порог = {:.2f} | Точность = {:.3f}, Полнота = {:.3f} | F1 = {:.3f}, ROC_auc = {:.3f}\".format(\n",
    "        threshold, precision, recall, f1_score(target_valid, predicted_valid), \n",
    "        roc_auc_score(target_valid, probabilities_one_forest_up)))"
   ]
  },
  {
   "cell_type": "markdown",
   "metadata": {},
   "source": [
    "Итак, нам удалость достичь F1 меры в 0.59 при увеличение выборки и использования модели Случайного леса, ROC_auc при этом составляет 0.85. Логическая регрессия ни как особо не поменялась, а Дерево решений показала хуже результат. Так же мы изменили парог для Случайного леса и получили Порог = 0.36 | Точность = 0.564, Полнота = 0.667 | F1 = 0.611, ROC_auc = 0.852. Попробуем уменьшить выборку. "
   ]
  },
  {
   "cell_type": "markdown",
   "metadata": {},
   "source": [
    "### Борьба с дисбалансом с помощью уменьшения выборки."
   ]
  },
  {
   "cell_type": "code",
   "execution_count": 49,
   "metadata": {},
   "outputs": [],
   "source": [
    "def downsample(features, target, fraction):\n",
    "    features_zeros = features[target == 0]\n",
    "    features_ones = features[target == 1]\n",
    "    target_zeros = target[target == 0]\n",
    "    target_ones = target[target == 1]\n",
    "\n",
    "    features_downsampled = pd.concat(\n",
    "        [features_zeros.sample(frac=fraction, random_state=12345)] + [features_ones])\n",
    "    target_downsampled = pd.concat(\n",
    "        [target_zeros.sample(frac=fraction, random_state=12345)] + [target_ones])\n",
    "    \n",
    "    features_downsampled, target_downsampled = shuffle(\n",
    "        features_downsampled, target_downsampled, random_state=12345)\n",
    "    \n",
    "    return features_downsampled, target_downsampled"
   ]
  },
  {
   "cell_type": "code",
   "execution_count": 50,
   "metadata": {},
   "outputs": [
    {
     "data": {
      "text/plain": [
       "((2397, 11), (2397,))"
      ]
     },
     "execution_count": 50,
     "metadata": {},
     "output_type": "execute_result"
    }
   ],
   "source": [
    "features_downsampled, target_downsampled = downsample(features_train, target_train, 0.25)\n",
    "features_downsampled.shape, target_downsampled.shape"
   ]
  },
  {
   "cell_type": "markdown",
   "metadata": {},
   "source": [
    "#### Модель логистической регрессии"
   ]
  },
  {
   "cell_type": "code",
   "execution_count": 51,
   "metadata": {},
   "outputs": [
    {
     "name": "stdout",
     "output_type": "stream",
     "text": [
      "F1: 0.4796536796536796\n",
      "ROC_auc: 0.7418055949066891\n"
     ]
    }
   ],
   "source": [
    "model_logic_down = LogisticRegression(random_state=12345, solver='liblinear')\n",
    "\n",
    "model_logic_down.fit(features_upsampled, target_upsampled) \n",
    "predicted_logic_down = model_logic_down.predict(features_valid)\n",
    "probabilities_logic_down = model_logic_down.predict_proba(features_valid)\n",
    "probabilities_one_logic_down = probabilities_logic_down[:, 1]\n",
    "\n",
    "print(\"F1:\", f1_score(target_valid, predicted_logic_down))\n",
    "print(\"ROC_auc:\", roc_auc_score(target_valid, probabilities_one_logic_down))"
   ]
  },
  {
   "cell_type": "markdown",
   "metadata": {},
   "source": [
    "#### Модель \"Дерево решений\""
   ]
  },
  {
   "cell_type": "code",
   "execution_count": 52,
   "metadata": {},
   "outputs": [
    {
     "name": "stdout",
     "output_type": "stream",
     "text": [
      "Fitting 5 folds for each of 594 candidates, totalling 2970 fits\n",
      "F1: 0.5404411764705882\n",
      "ROC_auc: 0.8174617094732045\n",
      "Параметры: {'criterion': 'entropy', 'max_depth': 11, 'min_samples_leaf': 18, 'min_samples_split': 2}\n"
     ]
    }
   ],
   "source": [
    "model_tree_down = GridSearchCV(DecisionTreeClassifier(random_state=17),parametr_set, \n",
    "                           verbose=True, n_jobs=-1, cv=5)\n",
    "\n",
    "model_tree_down.fit(features_downsampled, target_downsampled)\n",
    "predicted_model_tree_down = model_tree_down.predict(features_valid)\n",
    "probabilities_tree_down = model_tree_down.predict_proba(features_valid)\n",
    "probabilities_one_tree_down = probabilities_tree_down[:, 1]\n",
    "\n",
    "print(\"F1:\", f1_score(target_valid, predicted_model_tree_down))\n",
    "print(\"ROC_auc:\", roc_auc_score(target_valid, probabilities_one_tree_down))\n",
    "print(\"Параметры:\", model_tree_down.best_params_)"
   ]
  },
  {
   "cell_type": "markdown",
   "metadata": {},
   "source": [
    "#### Модель \"Случайного леса\""
   ]
  },
  {
   "cell_type": "code",
   "execution_count": 53,
   "metadata": {},
   "outputs": [
    {
     "name": "stdout",
     "output_type": "stream",
     "text": [
      "F1: 0.5853658536585366\n",
      "ROC_auc: 0.8528852251109702\n",
      "Параметры: {'criterion': 'entropy', 'max_depth': 10, 'n_estimators': 300}\n"
     ]
    }
   ],
   "source": [
    "model_forest_down = GridSearchCV(RandomForestClassifier(random_state=12345), \n",
    "                            parametrs_forest, cv=5, n_jobs=-1)\n",
    "\n",
    "model_forest_down.fit(features_downsampled, target_downsampled)\n",
    "predicted_forest_down = model_forest_down.predict(features_valid)\n",
    "probabilities_forest_down = model_forest_down.predict_proba(features_valid)\n",
    "probabilities_one_forest_down = probabilities_forest_down[:, 1]\n",
    "\n",
    "print(\"F1:\", f1_score(target_valid, predicted_forest_down))\n",
    "print(\"ROC_auc:\", roc_auc_score(target_valid, probabilities_one_forest_down))\n",
    "print(\"Параметры:\", model_forest_down.best_params_)"
   ]
  },
  {
   "cell_type": "markdown",
   "metadata": {},
   "source": [
    "Борьба с дисбалансом с помощью уменьшения выборки, не дали нам нужных результат. К сожалению нам не удалось достичь F1 меры в 0.59 или выше, как поставлено в нашей задаче. Для тесовой данных будем использовать модель Случайного леса с увеличением выборки."
   ]
  },
  {
   "cell_type": "markdown",
   "metadata": {},
   "source": [
    "## Тестирование модели"
   ]
  },
  {
   "cell_type": "code",
   "execution_count": 54,
   "metadata": {},
   "outputs": [
    {
     "name": "stdout",
     "output_type": "stream",
     "text": [
      "F1: 0.5984042553191489\n",
      "ROC_auc: 0.8392819337160279\n"
     ]
    }
   ],
   "source": [
    "predicted_forest_up_test = model_forest_up.predict(features_test)\n",
    "probabilities_forest_up_test = model_forest_up.predict_proba(features_test)\n",
    "probabilities_one_forest_up_test = probabilities_forest_up_test[:, 1]\n",
    "\n",
    "print(\"F1:\", f1_score(target_test, predicted_forest_up_test))\n",
    "print(\"ROC_auc:\", roc_auc_score(target_test, probabilities_one_forest_up_test))"
   ]
  },
  {
   "cell_type": "code",
   "execution_count": 55,
   "metadata": {},
   "outputs": [
    {
     "data": {
      "image/png": "[encoded data removed]",
      "text/plain": [
       "<Figure size 432x288 with 1 Axes>"
      ]
     },
     "metadata": {},
     "output_type": "display_data"
    }
   ],
   "source": [
    "plt.style.use('fivethirtyeight')\n",
    "\n",
    "\n",
    "# График плотности окончательных прогнозов и тестовых значений\n",
    "sns.kdeplot(predicted_forest_up_test, label = 'Предсказанные')\n",
    "sns.kdeplot(target_test, label = 'Целевые')\n",
    "\n",
    "# Обозначения графика\n",
    "plt.xlabel('Отток клиентов'); plt.ylabel('Плотность')\n",
    "plt.title('Тестовые значения и прогнозы');\n",
    "plt.legend();"
   ]
  },
  {
   "cell_type": "markdown",
   "metadata": {},
   "source": [
    "Вывод: Для нашего прогноза, уйдет клиент или нет, мы использовали несолько моделй. Для лучшего результата нам необходимо, что бы и точность и полнота были высокими. Хорошо, когда значение полноты близко к единице: модель хорошо ищет положительные объекты. Точность же определяет, как много отрицательных ответов нашла модель, пока искала положительные. Важны обе метрики и контролировать их параллельно нам поможет F1 мера. С помощью F1 и ROC_auc будем оценивать наши модели. При этом F1 не должна быть меньше, чем 0.59. \n",
    "Лучшей себя показала модель Случайного леса. Нам удалось достичь F1: 0.59, при этом ROC: 0.85 на обучающей выборке. Посмотрев на тестовую выборку, мы так же получаем приемлемые результаты в F1: 0.59 и ROC: 0.83. "
   ]
  },
  {
   "cell_type": "markdown",
   "metadata": {},
   "source": [
    "## Чек-лист готовности проекта"
   ]
  },
  {
   "cell_type": "markdown",
   "metadata": {},
   "source": [
    "Поставьте 'x' в выполненных пунктах. Далее нажмите Shift+Enter."
   ]
  },
  {
   "cell_type": "markdown",
   "metadata": {},
   "source": [
    "- [x]  Jupyter Notebook открыт\n",
    "- [ ]  Весь код выполняется без ошибок\n",
    "- [ ]  Ячейки с кодом расположены в порядке исполнения\n",
    "- [ ]  Выполнен шаг 1: данные подготовлены\n",
    "- [ ]  Выполнен шаг 2: задача исследована\n",
    "    - [ ]  Исследован баланс классов\n",
    "    - [ ]  Изучены модели без учёта дисбаланса\n",
    "    - [ ]  Написаны выводы по результатам исследования\n",
    "- [ ]  Выполнен шаг 3: учтён дисбаланс\n",
    "    - [ ]  Применено несколько способов борьбы с дисбалансом\n",
    "    - [ ]  Написаны выводы по результатам исследования\n",
    "- [ ]  Выполнен шаг 4: проведено тестирование\n",
    "- [ ]  Удалось достичь *F1*-меры не менее 0.59\n",
    "- [ ]  Исследована метрика *AUC-ROC*"
   ]
  },
  {
   "cell_type": "code",
   "execution_count": null,
   "metadata": {},
   "outputs": [],
   "source": []
  }
 ],
 "metadata": {
  "ExecuteTimeLog": [
   {
    "duration": 1516,
    "start_time": "2023-02-20T11:43:43.201Z"
   },
   {
    "duration": 169,
    "start_time": "2023-02-20T11:44:47.265Z"
   },
   {
    "duration": 39,
    "start_time": "2023-02-20T11:45:58.997Z"
   },
   {
    "duration": 23,
    "start_time": "2023-02-20T11:46:19.153Z"
   },
   {
    "duration": 13,
    "start_time": "2023-02-20T11:46:51.140Z"
   },
   {
    "duration": 111,
    "start_time": "2023-02-20T12:04:48.255Z"
   },
   {
    "duration": 10,
    "start_time": "2023-02-20T12:04:53.300Z"
   },
   {
    "duration": 64,
    "start_time": "2023-02-20T12:06:02.660Z"
   },
   {
    "duration": 15,
    "start_time": "2023-02-20T12:11:54.988Z"
   },
   {
    "duration": 6,
    "start_time": "2023-02-20T12:14:41.021Z"
   },
   {
    "duration": 13,
    "start_time": "2023-02-20T12:14:58.052Z"
   },
   {
    "duration": 11,
    "start_time": "2023-02-20T12:16:10.768Z"
   },
   {
    "duration": 14,
    "start_time": "2023-02-20T12:16:29.938Z"
   },
   {
    "duration": 1653,
    "start_time": "2023-02-20T14:31:39.858Z"
   },
   {
    "duration": 167,
    "start_time": "2023-02-20T14:31:41.513Z"
   },
   {
    "duration": 19,
    "start_time": "2023-02-20T14:31:41.682Z"
   },
   {
    "duration": 14,
    "start_time": "2023-02-20T14:31:41.703Z"
   },
   {
    "duration": 49,
    "start_time": "2023-02-20T14:31:41.719Z"
   },
   {
    "duration": 4,
    "start_time": "2023-02-20T14:31:41.770Z"
   },
   {
    "duration": 35,
    "start_time": "2023-02-20T14:31:41.775Z"
   },
   {
    "duration": 21,
    "start_time": "2023-02-20T14:32:06.962Z"
   },
   {
    "duration": 13,
    "start_time": "2023-02-20T14:34:01.558Z"
   },
   {
    "duration": 5,
    "start_time": "2023-02-20T14:38:34.171Z"
   },
   {
    "duration": 119,
    "start_time": "2023-02-20T14:46:02.093Z"
   },
   {
    "duration": 132,
    "start_time": "2023-02-20T14:46:06.838Z"
   },
   {
    "duration": 5,
    "start_time": "2023-02-20T15:10:41.109Z"
   },
   {
    "duration": 5,
    "start_time": "2023-02-20T15:11:34.253Z"
   },
   {
    "duration": 8,
    "start_time": "2023-02-20T15:14:08.060Z"
   },
   {
    "duration": 4,
    "start_time": "2023-02-20T15:14:29.757Z"
   },
   {
    "duration": 10,
    "start_time": "2023-02-20T15:22:11.968Z"
   },
   {
    "duration": 3,
    "start_time": "2023-02-20T15:22:34.261Z"
   },
   {
    "duration": 20,
    "start_time": "2023-02-20T15:22:40.156Z"
   },
   {
    "duration": 14,
    "start_time": "2023-02-20T15:27:46.121Z"
   },
   {
    "duration": 3,
    "start_time": "2023-02-20T15:28:18.919Z"
   },
   {
    "duration": 11,
    "start_time": "2023-02-20T15:28:24.080Z"
   },
   {
    "duration": 7,
    "start_time": "2023-02-20T15:30:32.987Z"
   },
   {
    "duration": 29,
    "start_time": "2023-02-20T15:31:16.754Z"
   },
   {
    "duration": 68,
    "start_time": "2023-02-20T15:42:28.820Z"
   },
   {
    "duration": 198,
    "start_time": "2023-02-20T15:42:34.318Z"
   },
   {
    "duration": 76,
    "start_time": "2023-02-20T15:42:59.845Z"
   },
   {
    "duration": 33,
    "start_time": "2023-02-20T15:43:01.188Z"
   },
   {
    "duration": 83,
    "start_time": "2023-02-20T15:43:03.683Z"
   },
   {
    "duration": 4,
    "start_time": "2023-02-20T15:43:04.913Z"
   },
   {
    "duration": 842,
    "start_time": "2023-02-20T15:43:13.840Z"
   },
   {
    "duration": 65,
    "start_time": "2023-02-20T15:56:14.087Z"
   },
   {
    "duration": 34,
    "start_time": "2023-02-20T15:56:41.744Z"
   },
   {
    "duration": 60,
    "start_time": "2023-02-20T15:59:28.338Z"
   },
   {
    "duration": 1070,
    "start_time": "2023-02-20T16:00:10.222Z"
   },
   {
    "duration": 43,
    "start_time": "2023-02-20T16:35:00.713Z"
   },
   {
    "duration": 44,
    "start_time": "2023-02-20T16:35:09.954Z"
   },
   {
    "duration": 878,
    "start_time": "2023-02-20T16:35:31.802Z"
   },
   {
    "duration": 3,
    "start_time": "2023-02-20T16:47:56.979Z"
   },
   {
    "duration": 10,
    "start_time": "2023-02-20T16:50:24.578Z"
   },
   {
    "duration": 4,
    "start_time": "2023-02-20T16:50:46.756Z"
   },
   {
    "duration": 21,
    "start_time": "2023-02-20T16:51:01.945Z"
   },
   {
    "duration": 22,
    "start_time": "2023-02-20T16:55:11.338Z"
   },
   {
    "duration": 37,
    "start_time": "2023-02-20T16:55:40.870Z"
   },
   {
    "duration": 43,
    "start_time": "2023-02-20T16:57:14.522Z"
   },
   {
    "duration": 19,
    "start_time": "2023-02-20T16:57:31.821Z"
   },
   {
    "duration": 28,
    "start_time": "2023-02-20T17:02:02.017Z"
   },
   {
    "duration": 398,
    "start_time": "2023-02-20T17:02:13.221Z"
   },
   {
    "duration": 27,
    "start_time": "2023-02-20T17:02:43.102Z"
   },
   {
    "duration": 13,
    "start_time": "2023-02-20T17:04:31.800Z"
   },
   {
    "duration": 11,
    "start_time": "2023-02-20T17:04:41.946Z"
   },
   {
    "duration": 15,
    "start_time": "2023-02-20T17:06:12.214Z"
   },
   {
    "duration": 1396,
    "start_time": "2023-02-20T17:06:30.264Z"
   },
   {
    "duration": 45,
    "start_time": "2023-02-20T17:06:31.662Z"
   },
   {
    "duration": 17,
    "start_time": "2023-02-20T17:06:31.709Z"
   },
   {
    "duration": 12,
    "start_time": "2023-02-20T17:06:31.728Z"
   },
   {
    "duration": 70,
    "start_time": "2023-02-20T17:06:31.742Z"
   },
   {
    "duration": 4,
    "start_time": "2023-02-20T17:06:31.813Z"
   },
   {
    "duration": 17,
    "start_time": "2023-02-20T17:06:31.818Z"
   },
   {
    "duration": 19,
    "start_time": "2023-02-20T17:06:31.836Z"
   },
   {
    "duration": 128,
    "start_time": "2023-02-20T17:06:31.856Z"
   },
   {
    "duration": 218,
    "start_time": "2023-02-20T17:06:31.987Z"
   },
   {
    "duration": 67,
    "start_time": "2023-02-20T17:06:32.207Z"
   },
   {
    "duration": 101,
    "start_time": "2023-02-20T17:06:32.276Z"
   },
   {
    "duration": 4,
    "start_time": "2023-02-20T17:06:32.379Z"
   },
   {
    "duration": 8,
    "start_time": "2023-02-20T17:06:32.385Z"
   },
   {
    "duration": 34,
    "start_time": "2023-02-20T17:06:32.403Z"
   },
   {
    "duration": 930,
    "start_time": "2023-02-20T17:06:32.439Z"
   },
   {
    "duration": 417,
    "start_time": "2023-02-20T17:07:24.355Z"
   },
   {
    "duration": 19,
    "start_time": "2023-02-20T17:07:40.487Z"
   },
   {
    "duration": 17,
    "start_time": "2023-02-20T17:51:50.618Z"
   },
   {
    "duration": 1405,
    "start_time": "2023-02-20T17:52:44.635Z"
   },
   {
    "duration": 41,
    "start_time": "2023-02-20T17:52:46.042Z"
   },
   {
    "duration": 19,
    "start_time": "2023-02-20T17:52:46.085Z"
   },
   {
    "duration": 13,
    "start_time": "2023-02-20T17:52:46.105Z"
   },
   {
    "duration": 4,
    "start_time": "2023-02-20T17:52:47.948Z"
   },
   {
    "duration": 51,
    "start_time": "2023-02-20T17:52:51.362Z"
   },
   {
    "duration": 5,
    "start_time": "2023-02-20T17:52:56.012Z"
   },
   {
    "duration": 13,
    "start_time": "2023-02-20T17:52:56.460Z"
   },
   {
    "duration": 17,
    "start_time": "2023-02-20T17:52:57.268Z"
   },
   {
    "duration": 116,
    "start_time": "2023-02-20T17:52:59.640Z"
   },
   {
    "duration": 13,
    "start_time": "2023-02-20T17:53:05.801Z"
   },
   {
    "duration": 3,
    "start_time": "2023-02-20T18:00:43.903Z"
   },
   {
    "duration": 207,
    "start_time": "2023-02-20T18:18:41.419Z"
   },
   {
    "duration": 102,
    "start_time": "2023-02-20T18:18:56.926Z"
   },
   {
    "duration": 12,
    "start_time": "2023-02-20T18:19:07.626Z"
   },
   {
    "duration": 5,
    "start_time": "2023-02-20T18:19:31.564Z"
   },
   {
    "duration": 9,
    "start_time": "2023-02-20T18:19:36.846Z"
   },
   {
    "duration": 8,
    "start_time": "2023-02-20T18:22:06.833Z"
   },
   {
    "duration": 11,
    "start_time": "2023-02-20T18:25:16.382Z"
   },
   {
    "duration": 9,
    "start_time": "2023-02-20T18:31:20.732Z"
   },
   {
    "duration": 5,
    "start_time": "2023-02-20T18:31:31.821Z"
   },
   {
    "duration": 7,
    "start_time": "2023-02-20T18:31:34.810Z"
   },
   {
    "duration": 3,
    "start_time": "2023-02-20T18:31:36.913Z"
   },
   {
    "duration": 3,
    "start_time": "2023-02-20T18:31:41.950Z"
   },
   {
    "duration": 22,
    "start_time": "2023-02-20T18:31:42.412Z"
   },
   {
    "duration": 42,
    "start_time": "2023-02-20T18:50:33.857Z"
   },
   {
    "duration": 41,
    "start_time": "2023-02-20T18:51:05.464Z"
   },
   {
    "duration": 3,
    "start_time": "2023-02-20T18:51:38.729Z"
   },
   {
    "duration": 35,
    "start_time": "2023-02-20T18:51:43.052Z"
   },
   {
    "duration": 109,
    "start_time": "2023-02-20T19:02:31.904Z"
   },
   {
    "duration": 5,
    "start_time": "2023-02-20T19:03:10.958Z"
   },
   {
    "duration": 4,
    "start_time": "2023-02-20T19:03:26.739Z"
   },
   {
    "duration": 9,
    "start_time": "2023-02-20T19:03:31.617Z"
   },
   {
    "duration": 4,
    "start_time": "2023-02-20T19:04:38.004Z"
   },
   {
    "duration": 5562,
    "start_time": "2023-02-20T19:04:42.443Z"
   },
   {
    "duration": 2878,
    "start_time": "2023-02-20T19:07:29.833Z"
   },
   {
    "duration": 2962,
    "start_time": "2023-02-20T19:07:44.846Z"
   },
   {
    "duration": 3,
    "start_time": "2023-02-20T19:08:17.495Z"
   },
   {
    "duration": 3036,
    "start_time": "2023-02-20T19:08:27.869Z"
   },
   {
    "duration": 3033,
    "start_time": "2023-02-20T19:09:48.076Z"
   },
   {
    "duration": 4,
    "start_time": "2023-02-20T19:10:16.676Z"
   },
   {
    "duration": 2940,
    "start_time": "2023-02-20T19:10:21.965Z"
   },
   {
    "duration": 23,
    "start_time": "2023-02-20T19:11:23.787Z"
   },
   {
    "duration": 6239,
    "start_time": "2023-02-20T19:13:56.347Z"
   },
   {
    "duration": 71,
    "start_time": "2023-02-20T19:15:11.562Z"
   },
   {
    "duration": 25,
    "start_time": "2023-02-20T19:15:17.191Z"
   },
   {
    "duration": 11,
    "start_time": "2023-02-20T19:17:37.330Z"
   },
   {
    "duration": 5,
    "start_time": "2023-02-20T19:18:30.188Z"
   },
   {
    "duration": 11,
    "start_time": "2023-02-20T19:18:40.115Z"
   },
   {
    "duration": 0,
    "start_time": "2023-02-20T19:33:00.472Z"
   },
   {
    "duration": 32601,
    "start_time": "2023-02-20T19:33:24.370Z"
   },
   {
    "duration": 65533,
    "start_time": "2023-02-20T19:34:20.843Z"
   },
   {
    "duration": 24,
    "start_time": "2023-02-20T19:48:07.555Z"
   },
   {
    "duration": 33,
    "start_time": "2023-02-20T19:49:40.805Z"
   },
   {
    "duration": 1625,
    "start_time": "2023-02-21T08:42:24.284Z"
   },
   {
    "duration": 180,
    "start_time": "2023-02-21T08:42:25.911Z"
   },
   {
    "duration": 19,
    "start_time": "2023-02-21T08:42:26.093Z"
   },
   {
    "duration": 13,
    "start_time": "2023-02-21T08:42:26.114Z"
   },
   {
    "duration": 4,
    "start_time": "2023-02-21T08:42:26.129Z"
   },
   {
    "duration": 77,
    "start_time": "2023-02-21T08:42:26.135Z"
   },
   {
    "duration": 6,
    "start_time": "2023-02-21T08:42:26.214Z"
   },
   {
    "duration": 23,
    "start_time": "2023-02-21T08:42:26.222Z"
   },
   {
    "duration": 214,
    "start_time": "2023-02-21T08:42:26.248Z"
   },
   {
    "duration": 15,
    "start_time": "2023-02-21T08:42:26.465Z"
   },
   {
    "duration": 14,
    "start_time": "2023-02-21T08:42:26.482Z"
   },
   {
    "duration": 18,
    "start_time": "2023-02-21T08:42:26.499Z"
   },
   {
    "duration": 10,
    "start_time": "2023-02-21T08:42:26.519Z"
   },
   {
    "duration": 7,
    "start_time": "2023-02-21T08:42:26.531Z"
   },
   {
    "duration": 36,
    "start_time": "2023-02-21T08:42:26.539Z"
   },
   {
    "duration": 51,
    "start_time": "2023-02-21T08:42:26.577Z"
   },
   {
    "duration": 70,
    "start_time": "2023-02-21T08:42:26.630Z"
   },
   {
    "duration": 64534,
    "start_time": "2023-02-21T08:42:26.702Z"
   },
   {
    "duration": 30,
    "start_time": "2023-02-21T08:43:31.238Z"
   },
   {
    "duration": 14,
    "start_time": "2023-02-21T08:50:52.637Z"
   },
   {
    "duration": 28,
    "start_time": "2023-02-21T10:07:29.089Z"
   },
   {
    "duration": 349,
    "start_time": "2023-02-21T10:08:01.873Z"
   },
   {
    "duration": 100,
    "start_time": "2023-02-21T10:08:34.891Z"
   },
   {
    "duration": 5966,
    "start_time": "2023-02-21T10:10:35.634Z"
   },
   {
    "duration": 10878,
    "start_time": "2023-02-21T10:11:02.992Z"
   },
   {
    "duration": 14697,
    "start_time": "2023-02-21T10:11:35.595Z"
   },
   {
    "duration": 14691,
    "start_time": "2023-02-21T10:14:31.138Z"
   },
   {
    "duration": 9,
    "start_time": "2023-02-21T10:15:07.054Z"
   },
   {
    "duration": 12,
    "start_time": "2023-02-21T10:15:27.101Z"
   },
   {
    "duration": 30,
    "start_time": "2023-02-21T12:08:35.697Z"
   },
   {
    "duration": 15636,
    "start_time": "2023-02-21T12:13:39.629Z"
   },
   {
    "duration": 6089,
    "start_time": "2023-02-24T09:07:58.750Z"
   },
   {
    "duration": 365,
    "start_time": "2023-02-24T09:08:04.848Z"
   },
   {
    "duration": 40,
    "start_time": "2023-02-24T09:08:05.215Z"
   },
   {
    "duration": 40,
    "start_time": "2023-02-24T09:08:05.261Z"
   },
   {
    "duration": 40,
    "start_time": "2023-02-24T09:08:05.310Z"
   },
   {
    "duration": 311,
    "start_time": "2023-02-24T09:08:05.356Z"
   },
   {
    "duration": 17,
    "start_time": "2023-02-24T09:08:05.670Z"
   },
   {
    "duration": 191,
    "start_time": "2023-02-24T09:08:05.689Z"
   },
   {
    "duration": 19,
    "start_time": "2023-02-24T09:08:05.885Z"
   },
   {
    "duration": 75,
    "start_time": "2023-02-24T09:08:05.906Z"
   },
   {
    "duration": 23,
    "start_time": "2023-02-24T09:08:05.983Z"
   },
   {
    "duration": 61,
    "start_time": "2023-02-24T09:08:06.015Z"
   },
   {
    "duration": 5,
    "start_time": "2023-02-24T09:08:06.082Z"
   },
   {
    "duration": 118,
    "start_time": "2023-02-24T09:08:06.091Z"
   },
   {
    "duration": 136,
    "start_time": "2023-02-24T09:08:06.214Z"
   },
   {
    "duration": 81302,
    "start_time": "2023-02-24T09:08:06.354Z"
   },
   {
    "duration": 53,
    "start_time": "2023-02-24T09:09:27.658Z"
   },
   {
    "duration": 18024,
    "start_time": "2023-02-24T09:09:27.719Z"
   },
   {
    "duration": 11,
    "start_time": "2023-02-24T09:09:45.746Z"
   },
   {
    "duration": 49,
    "start_time": "2023-02-24T09:09:45.759Z"
   },
   {
    "duration": 19069,
    "start_time": "2023-02-24T09:09:45.810Z"
   },
   {
    "duration": 25,
    "start_time": "2023-02-24T09:12:01.553Z"
   },
   {
    "duration": 23,
    "start_time": "2023-02-24T09:16:00.325Z"
   },
   {
    "duration": 4,
    "start_time": "2023-02-24T09:39:13.767Z"
   },
   {
    "duration": 4,
    "start_time": "2023-02-24T09:40:27.086Z"
   },
   {
    "duration": 156,
    "start_time": "2023-02-24T09:40:29.155Z"
   },
   {
    "duration": 7,
    "start_time": "2023-02-24T09:41:08.213Z"
   },
   {
    "duration": 4,
    "start_time": "2023-02-24T09:41:20.347Z"
   },
   {
    "duration": 33,
    "start_time": "2023-02-24T09:41:22.135Z"
   },
   {
    "duration": 37,
    "start_time": "2023-02-24T09:41:39.340Z"
   },
   {
    "duration": 4,
    "start_time": "2023-02-24T09:46:00.846Z"
   },
   {
    "duration": 6,
    "start_time": "2023-02-24T09:46:02.221Z"
   },
   {
    "duration": 11,
    "start_time": "2023-02-24T09:46:02.816Z"
   },
   {
    "duration": 9,
    "start_time": "2023-02-24T09:46:14.343Z"
   },
   {
    "duration": 12,
    "start_time": "2023-02-24T09:46:33.478Z"
   },
   {
    "duration": 18114,
    "start_time": "2023-02-24T09:51:56.111Z"
   },
   {
    "duration": 74674,
    "start_time": "2023-02-24T09:54:29.247Z"
   },
   {
    "duration": 14,
    "start_time": "2023-02-24T10:05:50.687Z"
   },
   {
    "duration": 1610,
    "start_time": "2023-02-24T10:06:11.320Z"
   },
   {
    "duration": 43,
    "start_time": "2023-02-24T10:06:12.932Z"
   },
   {
    "duration": 42,
    "start_time": "2023-02-24T10:06:12.977Z"
   },
   {
    "duration": 14,
    "start_time": "2023-02-24T10:06:13.022Z"
   },
   {
    "duration": 4,
    "start_time": "2023-02-24T10:06:13.038Z"
   },
   {
    "duration": 75,
    "start_time": "2023-02-24T10:06:13.043Z"
   },
   {
    "duration": 14,
    "start_time": "2023-02-24T10:06:13.120Z"
   },
   {
    "duration": 145,
    "start_time": "2023-02-24T10:06:13.136Z"
   },
   {
    "duration": 29,
    "start_time": "2023-02-24T10:06:13.283Z"
   },
   {
    "duration": 11,
    "start_time": "2023-02-24T10:06:13.315Z"
   },
   {
    "duration": 7,
    "start_time": "2023-02-24T10:06:13.328Z"
   },
   {
    "duration": 9,
    "start_time": "2023-02-24T10:06:13.337Z"
   },
   {
    "duration": 5,
    "start_time": "2023-02-24T10:06:13.348Z"
   },
   {
    "duration": 33,
    "start_time": "2023-02-24T10:06:13.354Z"
   },
   {
    "duration": 102,
    "start_time": "2023-02-24T10:06:13.389Z"
   },
   {
    "duration": 72274,
    "start_time": "2023-02-24T10:06:13.493Z"
   },
   {
    "duration": 47,
    "start_time": "2023-02-24T10:07:25.768Z"
   },
   {
    "duration": 16580,
    "start_time": "2023-02-24T10:07:25.817Z"
   },
   {
    "duration": 15,
    "start_time": "2023-02-24T10:07:42.399Z"
   },
   {
    "duration": 78,
    "start_time": "2023-02-24T10:07:42.416Z"
   },
   {
    "duration": 17474,
    "start_time": "2023-02-24T10:07:42.505Z"
   },
   {
    "duration": 75550,
    "start_time": "2023-02-24T10:07:59.981Z"
   },
   {
    "duration": 5,
    "start_time": "2023-02-24T10:09:15.534Z"
   },
   {
    "duration": 34,
    "start_time": "2023-02-24T10:09:15.541Z"
   },
   {
    "duration": 45,
    "start_time": "2023-02-24T10:09:15.577Z"
   },
   {
    "duration": 65135,
    "start_time": "2023-02-24T10:20:33.925Z"
   },
   {
    "duration": 10,
    "start_time": "2023-02-24T10:21:39.062Z"
   },
   {
    "duration": 34060,
    "start_time": "2023-02-24T10:22:26.270Z"
   },
   {
    "duration": 10,
    "start_time": "2023-02-24T10:23:04.152Z"
   },
   {
    "duration": 167973,
    "start_time": "2023-02-24T10:24:45.984Z"
   },
   {
    "duration": 65,
    "start_time": "2023-02-24T10:27:44.879Z"
   },
   {
    "duration": 74573,
    "start_time": "2023-02-24T10:28:37.667Z"
   },
   {
    "duration": 56,
    "start_time": "2023-02-24T10:29:52.242Z"
   },
   {
    "duration": 43999,
    "start_time": "2023-02-24T10:32:57.550Z"
   },
   {
    "duration": 106054,
    "start_time": "2023-02-24T10:35:20.672Z"
   },
   {
    "duration": 31,
    "start_time": "2023-02-24T10:40:32.635Z"
   },
   {
    "duration": 142,
    "start_time": "2023-02-24T10:43:25.182Z"
   },
   {
    "duration": 9,
    "start_time": "2023-02-24T10:47:45.670Z"
   },
   {
    "duration": 33,
    "start_time": "2023-02-24T10:50:20.475Z"
   },
   {
    "duration": 72610,
    "start_time": "2023-02-24T10:50:29.213Z"
   },
   {
    "duration": 45,
    "start_time": "2023-02-24T10:51:45.062Z"
   },
   {
    "duration": 19,
    "start_time": "2023-02-24T10:55:07.488Z"
   },
   {
    "duration": 7,
    "start_time": "2023-02-24T10:56:19.124Z"
   },
   {
    "duration": 118062,
    "start_time": "2023-02-24T10:57:39.610Z"
   },
   {
    "duration": 45,
    "start_time": "2023-02-24T10:59:46.172Z"
   },
   {
    "duration": 283559,
    "start_time": "2023-02-24T11:00:01.943Z"
   },
   {
    "duration": 91,
    "start_time": "2023-02-24T11:04:52.546Z"
   },
   {
    "duration": 382290,
    "start_time": "2023-02-24T11:05:09.431Z"
   },
   {
    "duration": 6,
    "start_time": "2023-02-24T11:16:49.664Z"
   },
   {
    "duration": 11,
    "start_time": "2023-02-24T11:18:21.470Z"
   },
   {
    "duration": 12,
    "start_time": "2023-02-24T11:19:40.475Z"
   },
   {
    "duration": 146722,
    "start_time": "2023-02-24T11:19:41.927Z"
   },
   {
    "duration": 115605,
    "start_time": "2023-02-24T11:26:31.216Z"
   },
   {
    "duration": 100,
    "start_time": "2023-02-24T11:28:54.275Z"
   },
   {
    "duration": 61242,
    "start_time": "2023-02-24T11:29:05.021Z"
   },
   {
    "duration": 18,
    "start_time": "2023-02-24T11:30:45.525Z"
   },
   {
    "duration": 17,
    "start_time": "2023-02-24T11:31:22.944Z"
   },
   {
    "duration": 33,
    "start_time": "2023-02-24T11:32:03.027Z"
   },
   {
    "duration": 44,
    "start_time": "2023-02-24T11:32:45.189Z"
   },
   {
    "duration": 26,
    "start_time": "2023-02-24T11:33:26.581Z"
   },
   {
    "duration": 41,
    "start_time": "2023-02-24T11:33:36.069Z"
   },
   {
    "duration": 27,
    "start_time": "2023-02-24T11:37:34.086Z"
   },
   {
    "duration": 20,
    "start_time": "2023-02-24T11:37:38.040Z"
   },
   {
    "duration": 1666,
    "start_time": "2023-02-24T11:38:04.879Z"
   },
   {
    "duration": 177,
    "start_time": "2023-02-24T11:38:06.547Z"
   },
   {
    "duration": 26,
    "start_time": "2023-02-24T11:38:06.726Z"
   },
   {
    "duration": 17,
    "start_time": "2023-02-24T11:38:06.755Z"
   },
   {
    "duration": 14,
    "start_time": "2023-02-24T11:38:06.774Z"
   },
   {
    "duration": 103,
    "start_time": "2023-02-24T11:38:06.790Z"
   },
   {
    "duration": 29,
    "start_time": "2023-02-24T11:38:06.896Z"
   },
   {
    "duration": 142,
    "start_time": "2023-02-24T11:38:06.927Z"
   },
   {
    "duration": 24,
    "start_time": "2023-02-24T11:38:10.223Z"
   },
   {
    "duration": 143,
    "start_time": "2023-02-24T11:39:50.669Z"
   },
   {
    "duration": 27,
    "start_time": "2023-02-24T11:40:05.474Z"
   },
   {
    "duration": 20,
    "start_time": "2023-02-24T11:40:29.727Z"
   },
   {
    "duration": 12,
    "start_time": "2023-02-24T11:45:01.350Z"
   },
   {
    "duration": 9,
    "start_time": "2023-02-24T11:45:21.714Z"
   },
   {
    "duration": 4,
    "start_time": "2023-02-24T11:46:46.660Z"
   },
   {
    "duration": 83,
    "start_time": "2023-02-24T11:46:46.666Z"
   },
   {
    "duration": 21,
    "start_time": "2023-02-24T11:46:46.751Z"
   },
   {
    "duration": 21,
    "start_time": "2023-02-24T11:46:46.775Z"
   },
   {
    "duration": 11,
    "start_time": "2023-02-24T11:46:46.800Z"
   },
   {
    "duration": 32,
    "start_time": "2023-02-24T11:46:46.813Z"
   },
   {
    "duration": 30,
    "start_time": "2023-02-24T11:46:46.848Z"
   },
   {
    "duration": 31,
    "start_time": "2023-02-24T11:46:46.880Z"
   },
   {
    "duration": 137,
    "start_time": "2023-02-24T11:46:46.922Z"
   },
   {
    "duration": 15,
    "start_time": "2023-02-24T11:46:47.061Z"
   },
   {
    "duration": 6,
    "start_time": "2023-02-24T11:46:47.078Z"
   },
   {
    "duration": 19,
    "start_time": "2023-02-24T11:46:47.086Z"
   },
   {
    "duration": 24,
    "start_time": "2023-02-24T11:46:47.106Z"
   },
   {
    "duration": 5,
    "start_time": "2023-02-24T11:46:47.131Z"
   },
   {
    "duration": 35,
    "start_time": "2023-02-24T11:46:47.137Z"
   },
   {
    "duration": 45,
    "start_time": "2023-02-24T11:46:47.174Z"
   },
   {
    "duration": 113270,
    "start_time": "2023-02-24T11:46:47.227Z"
   },
   {
    "duration": 101,
    "start_time": "2023-02-24T11:48:40.499Z"
   },
   {
    "duration": 34344,
    "start_time": "2023-02-24T11:48:40.602Z"
   },
   {
    "duration": 10,
    "start_time": "2023-02-24T11:49:14.948Z"
   },
   {
    "duration": 50,
    "start_time": "2023-02-24T11:49:14.959Z"
   },
   {
    "duration": 35714,
    "start_time": "2023-02-24T11:49:15.098Z"
   },
   {
    "duration": 119539,
    "start_time": "2023-02-24T11:49:50.815Z"
   },
   {
    "duration": 4,
    "start_time": "2023-02-24T11:51:50.359Z"
   },
   {
    "duration": 43,
    "start_time": "2023-02-24T11:51:50.365Z"
   },
   {
    "duration": 95,
    "start_time": "2023-02-24T11:51:50.422Z"
   },
   {
    "duration": 44526,
    "start_time": "2023-02-24T11:51:50.528Z"
   },
   {
    "duration": 160420,
    "start_time": "2023-02-24T11:52:35.062Z"
   },
   {
    "duration": 10,
    "start_time": "2023-02-24T11:55:15.484Z"
   },
   {
    "duration": 46,
    "start_time": "2023-02-24T11:55:15.500Z"
   },
   {
    "duration": 60430,
    "start_time": "2023-02-24T11:55:15.548Z"
   },
   {
    "duration": 13,
    "start_time": "2023-02-24T11:58:50.317Z"
   },
   {
    "duration": 18428,
    "start_time": "2023-02-24T11:59:30.757Z"
   },
   {
    "duration": 123,
    "start_time": "2023-02-24T12:01:40.290Z"
   },
   {
    "duration": 22,
    "start_time": "2023-02-24T12:24:00.584Z"
   },
   {
    "duration": 6,
    "start_time": "2023-02-24T12:24:20.306Z"
   },
   {
    "duration": 15,
    "start_time": "2023-02-24T12:24:26.835Z"
   },
   {
    "duration": 1404,
    "start_time": "2023-02-24T12:24:43.542Z"
   },
   {
    "duration": 40,
    "start_time": "2023-02-24T12:24:44.948Z"
   },
   {
    "duration": 25,
    "start_time": "2023-02-24T12:24:44.990Z"
   },
   {
    "duration": 17,
    "start_time": "2023-02-24T12:24:45.017Z"
   },
   {
    "duration": 14,
    "start_time": "2023-02-24T12:24:45.037Z"
   },
   {
    "duration": 15,
    "start_time": "2023-02-24T12:24:45.053Z"
   },
   {
    "duration": 72,
    "start_time": "2023-02-24T12:24:45.070Z"
   },
   {
    "duration": 15,
    "start_time": "2023-02-24T12:24:45.145Z"
   },
   {
    "duration": 160,
    "start_time": "2023-02-24T12:24:45.161Z"
   },
   {
    "duration": 12,
    "start_time": "2023-02-24T12:24:45.322Z"
   },
   {
    "duration": 7,
    "start_time": "2023-02-24T12:24:45.335Z"
   },
   {
    "duration": 8,
    "start_time": "2023-02-24T12:24:45.343Z"
   },
   {
    "duration": 5,
    "start_time": "2023-02-24T12:24:45.353Z"
   },
   {
    "duration": 3,
    "start_time": "2023-02-24T12:24:45.392Z"
   },
   {
    "duration": 37,
    "start_time": "2023-02-24T12:24:45.397Z"
   },
   {
    "duration": 159,
    "start_time": "2023-02-24T12:24:45.436Z"
   },
   {
    "duration": 106031,
    "start_time": "2023-02-24T12:24:45.597Z"
   },
   {
    "duration": 71,
    "start_time": "2023-02-24T12:26:31.630Z"
   },
   {
    "duration": 31835,
    "start_time": "2023-02-24T12:26:31.703Z"
   },
   {
    "duration": 9,
    "start_time": "2023-02-24T12:27:03.539Z"
   },
   {
    "duration": 55,
    "start_time": "2023-02-24T12:27:03.550Z"
   },
   {
    "duration": 32916,
    "start_time": "2023-02-24T12:27:03.607Z"
   },
   {
    "duration": 104748,
    "start_time": "2023-02-24T12:27:36.525Z"
   },
   {
    "duration": 4,
    "start_time": "2023-02-24T12:29:21.274Z"
   },
   {
    "duration": 26,
    "start_time": "2023-02-24T12:29:21.280Z"
   },
   {
    "duration": 30,
    "start_time": "2023-02-24T12:29:21.308Z"
   },
   {
    "duration": 40968,
    "start_time": "2023-02-24T12:29:21.392Z"
   },
   {
    "duration": 147759,
    "start_time": "2023-02-24T12:30:02.361Z"
   },
   {
    "duration": 4,
    "start_time": "2023-02-24T12:32:30.122Z"
   },
   {
    "duration": 12,
    "start_time": "2023-02-24T12:32:30.128Z"
   },
   {
    "duration": 57229,
    "start_time": "2023-02-24T12:32:30.141Z"
   },
   {
    "duration": 16271,
    "start_time": "2023-02-24T12:33:27.372Z"
   },
   {
    "duration": 159,
    "start_time": "2023-02-24T12:33:43.645Z"
   },
   {
    "duration": 1409,
    "start_time": "2023-02-24T12:55:39.717Z"
   },
   {
    "duration": 39,
    "start_time": "2023-02-24T12:55:41.128Z"
   },
   {
    "duration": 20,
    "start_time": "2023-02-24T12:55:41.169Z"
   },
   {
    "duration": 19,
    "start_time": "2023-02-24T12:55:41.193Z"
   },
   {
    "duration": 11,
    "start_time": "2023-02-24T12:55:41.214Z"
   },
   {
    "duration": 19,
    "start_time": "2023-02-24T12:55:41.227Z"
   },
   {
    "duration": 71,
    "start_time": "2023-02-24T12:55:41.247Z"
   },
   {
    "duration": 12,
    "start_time": "2023-02-24T12:55:41.320Z"
   },
   {
    "duration": 141,
    "start_time": "2023-02-24T12:55:41.334Z"
   },
   {
    "duration": 26,
    "start_time": "2023-02-24T12:55:41.478Z"
   },
   {
    "duration": 8,
    "start_time": "2023-02-24T12:55:41.506Z"
   },
   {
    "duration": 8,
    "start_time": "2023-02-24T12:55:41.516Z"
   },
   {
    "duration": 6,
    "start_time": "2023-02-24T12:55:41.526Z"
   },
   {
    "duration": 4,
    "start_time": "2023-02-24T12:55:41.534Z"
   },
   {
    "duration": 26,
    "start_time": "2023-02-24T12:55:41.540Z"
   },
   {
    "duration": 124,
    "start_time": "2023-02-24T12:55:41.567Z"
   },
   {
    "duration": 103676,
    "start_time": "2023-02-24T12:55:41.694Z"
   },
   {
    "duration": 56,
    "start_time": "2023-02-24T12:57:25.372Z"
   },
   {
    "duration": 32046,
    "start_time": "2023-02-24T12:57:25.430Z"
   },
   {
    "duration": 26,
    "start_time": "2023-02-24T12:57:57.478Z"
   },
   {
    "duration": 89,
    "start_time": "2023-02-24T12:57:57.506Z"
   },
   {
    "duration": 33521,
    "start_time": "2023-02-24T12:57:57.601Z"
   },
   {
    "duration": 105085,
    "start_time": "2023-02-24T12:58:31.124Z"
   },
   {
    "duration": 5,
    "start_time": "2023-02-24T13:00:16.212Z"
   },
   {
    "duration": 25,
    "start_time": "2023-02-24T13:00:16.219Z"
   },
   {
    "duration": 52,
    "start_time": "2023-02-24T13:00:16.246Z"
   },
   {
    "duration": 42054,
    "start_time": "2023-02-24T13:00:16.300Z"
   },
   {
    "duration": 149232,
    "start_time": "2023-02-24T13:00:58.357Z"
   },
   {
    "duration": 5,
    "start_time": "2023-02-24T13:03:27.592Z"
   },
   {
    "duration": 20,
    "start_time": "2023-02-24T13:03:27.601Z"
   },
   {
    "duration": 57530,
    "start_time": "2023-02-24T13:03:27.622Z"
   },
   {
    "duration": 17253,
    "start_time": "2023-02-24T13:04:25.154Z"
   },
   {
    "duration": 30,
    "start_time": "2023-02-24T13:04:42.409Z"
   },
   {
    "duration": 0,
    "start_time": "2023-02-24T13:04:42.602Z"
   },
   {
    "duration": 13,
    "start_time": "2023-02-24T13:04:46.701Z"
   },
   {
    "duration": 11,
    "start_time": "2023-02-24T13:35:28.187Z"
   },
   {
    "duration": 15,
    "start_time": "2023-02-24T13:46:05.467Z"
   },
   {
    "duration": 36827,
    "start_time": "2023-02-24T13:52:18.831Z"
   },
   {
    "duration": 18,
    "start_time": "2023-02-24T13:52:59.789Z"
   },
   {
    "duration": 48389,
    "start_time": "2023-02-24T13:53:56.113Z"
   },
   {
    "duration": 13,
    "start_time": "2023-02-24T13:54:54.311Z"
   },
   {
    "duration": 4464,
    "start_time": "2023-02-24T13:55:02.773Z"
   },
   {
    "duration": 2484,
    "start_time": "2023-02-24T13:58:25.927Z"
   },
   {
    "duration": 27614,
    "start_time": "2023-02-24T13:58:34.679Z"
   },
   {
    "duration": 10,
    "start_time": "2023-02-24T13:59:06.852Z"
   },
   {
    "duration": 178871,
    "start_time": "2023-02-24T13:59:16.421Z"
   },
   {
    "duration": 11,
    "start_time": "2023-02-24T14:04:05.419Z"
   },
   {
    "duration": 57743,
    "start_time": "2023-02-24T14:06:08.352Z"
   },
   {
    "duration": 18,
    "start_time": "2023-02-24T14:07:38.241Z"
   },
   {
    "duration": 105,
    "start_time": "2023-02-24T14:09:04.990Z"
   },
   {
    "duration": 62754,
    "start_time": "2023-02-24T14:12:42.085Z"
   },
   {
    "duration": 108472,
    "start_time": "2023-02-24T14:16:22.749Z"
   },
   {
    "duration": 13,
    "start_time": "2023-02-24T14:18:33.123Z"
   },
   {
    "duration": 52,
    "start_time": "2023-02-24T14:20:21.012Z"
   },
   {
    "duration": 41,
    "start_time": "2023-02-24T14:21:34.468Z"
   },
   {
    "duration": 111159,
    "start_time": "2023-02-24T14:22:14.246Z"
   },
   {
    "duration": 83148,
    "start_time": "2023-02-24T14:33:09.458Z"
   },
   {
    "duration": 52,
    "start_time": "2023-02-24T14:44:23.018Z"
   },
   {
    "duration": 94,
    "start_time": "2023-02-24T14:44:58.286Z"
   },
   {
    "duration": 94,
    "start_time": "2023-02-24T14:45:02.485Z"
   },
   {
    "duration": 68,
    "start_time": "2023-02-24T14:45:07.517Z"
   },
   {
    "duration": 5,
    "start_time": "2023-02-24T14:45:41.819Z"
   },
   {
    "duration": 5,
    "start_time": "2023-02-24T14:46:35.558Z"
   },
   {
    "duration": 93,
    "start_time": "2023-02-24T14:46:39.319Z"
   },
   {
    "duration": 254,
    "start_time": "2023-02-24T14:47:48.881Z"
   },
   {
    "duration": 362,
    "start_time": "2023-02-24T14:50:27.845Z"
   },
   {
    "duration": 496,
    "start_time": "2023-02-24T14:52:26.392Z"
   },
   {
    "duration": 21,
    "start_time": "2023-02-24T14:59:45.216Z"
   },
   {
    "duration": 173750,
    "start_time": "2023-02-24T15:00:01.181Z"
   },
   {
    "duration": 11,
    "start_time": "2023-02-24T15:03:20.029Z"
   },
   {
    "duration": 38,
    "start_time": "2023-02-24T15:15:48.387Z"
   },
   {
    "duration": 72,
    "start_time": "2023-02-24T15:18:08.172Z"
   },
   {
    "duration": 10,
    "start_time": "2023-02-24T15:18:30.562Z"
   },
   {
    "duration": 65,
    "start_time": "2023-02-24T15:18:34.222Z"
   },
   {
    "duration": 11,
    "start_time": "2023-02-24T15:36:08.413Z"
   },
   {
    "duration": 13,
    "start_time": "2023-02-24T15:36:53.015Z"
   },
   {
    "duration": 6,
    "start_time": "2023-02-24T15:37:23.874Z"
   },
   {
    "duration": 15,
    "start_time": "2023-02-24T15:38:13.241Z"
   },
   {
    "duration": 7,
    "start_time": "2023-02-24T15:38:32.935Z"
   },
   {
    "duration": 11,
    "start_time": "2023-02-24T15:39:06.906Z"
   },
   {
    "duration": 7,
    "start_time": "2023-02-24T15:39:15.852Z"
   },
   {
    "duration": 7,
    "start_time": "2023-02-24T15:40:53.537Z"
   },
   {
    "duration": 69,
    "start_time": "2023-02-24T15:41:49.798Z"
   },
   {
    "duration": 1636,
    "start_time": "2023-02-24T17:06:15.727Z"
   },
   {
    "duration": 49,
    "start_time": "2023-02-24T17:06:17.365Z"
   },
   {
    "duration": 24,
    "start_time": "2023-02-24T17:06:17.423Z"
   },
   {
    "duration": 14,
    "start_time": "2023-02-24T17:06:17.449Z"
   },
   {
    "duration": 6,
    "start_time": "2023-02-24T17:06:17.468Z"
   },
   {
    "duration": 70,
    "start_time": "2023-02-24T17:06:17.476Z"
   },
   {
    "duration": 75,
    "start_time": "2023-02-24T17:06:17.548Z"
   },
   {
    "duration": 19,
    "start_time": "2023-02-24T17:06:17.629Z"
   },
   {
    "duration": 141,
    "start_time": "2023-02-24T17:06:17.650Z"
   },
   {
    "duration": 41,
    "start_time": "2023-02-24T17:06:17.793Z"
   },
   {
    "duration": 9,
    "start_time": "2023-02-24T17:06:17.839Z"
   },
   {
    "duration": 6,
    "start_time": "2023-02-24T17:06:17.851Z"
   },
   {
    "duration": 16,
    "start_time": "2023-02-24T17:06:17.859Z"
   },
   {
    "duration": 12,
    "start_time": "2023-02-24T17:06:17.878Z"
   },
   {
    "duration": 74,
    "start_time": "2023-02-24T17:06:17.898Z"
   },
   {
    "duration": 53,
    "start_time": "2023-02-24T17:06:17.973Z"
   },
   {
    "duration": 60516,
    "start_time": "2023-02-24T17:06:18.028Z"
   },
   {
    "duration": 10,
    "start_time": "2023-02-24T17:07:18.545Z"
   },
   {
    "duration": 114200,
    "start_time": "2023-02-24T17:07:18.557Z"
   },
   {
    "duration": 58,
    "start_time": "2023-02-24T17:09:12.759Z"
   },
   {
    "duration": 30,
    "start_time": "2023-02-24T17:09:12.819Z"
   },
   {
    "duration": 64194,
    "start_time": "2023-02-24T17:09:12.905Z"
   },
   {
    "duration": 115924,
    "start_time": "2023-02-24T17:10:17.100Z"
   },
   {
    "duration": 5,
    "start_time": "2023-02-24T17:12:13.030Z"
   },
   {
    "duration": 16,
    "start_time": "2023-02-24T17:12:13.036Z"
   },
   {
    "duration": 53,
    "start_time": "2023-02-24T17:12:13.054Z"
   },
   {
    "duration": 79348,
    "start_time": "2023-02-24T17:12:13.110Z"
   },
   {
    "duration": 158710,
    "start_time": "2023-02-24T17:13:32.460Z"
   },
   {
    "duration": 4,
    "start_time": "2023-02-24T17:16:11.172Z"
   },
   {
    "duration": 38,
    "start_time": "2023-02-24T17:16:11.178Z"
   },
   {
    "duration": 83,
    "start_time": "2023-02-24T17:16:11.218Z"
   },
   {
    "duration": 30675,
    "start_time": "2023-02-24T17:16:11.321Z"
   },
   {
    "duration": 60009,
    "start_time": "2023-02-24T17:16:41.998Z"
   },
   {
    "duration": 68,
    "start_time": "2023-02-24T17:17:42.009Z"
   },
   {
    "duration": 4,
    "start_time": "2023-02-24T17:30:46.479Z"
   },
   {
    "duration": 226,
    "start_time": "2023-02-24T17:59:52.953Z"
   },
   {
    "duration": 126,
    "start_time": "2023-02-24T18:00:38.291Z"
   },
   {
    "duration": 159,
    "start_time": "2023-02-24T18:01:01.760Z"
   },
   {
    "duration": 239,
    "start_time": "2023-02-24T18:01:16.057Z"
   },
   {
    "duration": 237,
    "start_time": "2023-02-24T18:01:31.850Z"
   },
   {
    "duration": 227,
    "start_time": "2023-02-24T18:01:38.759Z"
   },
   {
    "duration": 131,
    "start_time": "2023-02-24T18:04:03.602Z"
   },
   {
    "duration": 356,
    "start_time": "2023-02-24T18:05:21.910Z"
   },
   {
    "duration": 251,
    "start_time": "2023-02-24T18:05:39.623Z"
   },
   {
    "duration": 264,
    "start_time": "2023-02-24T18:16:25.316Z"
   },
   {
    "duration": 257,
    "start_time": "2023-02-24T18:16:47.722Z"
   },
   {
    "duration": 266,
    "start_time": "2023-02-24T18:16:52.180Z"
   },
   {
    "duration": 60,
    "start_time": "2023-02-24T18:18:19.524Z"
   },
   {
    "duration": 131,
    "start_time": "2023-02-25T07:18:37.852Z"
   },
   {
    "duration": 2940,
    "start_time": "2023-02-25T07:18:54.559Z"
   },
   {
    "duration": 294,
    "start_time": "2023-02-25T07:18:57.509Z"
   },
   {
    "duration": 85,
    "start_time": "2023-02-25T07:18:57.810Z"
   },
   {
    "duration": 147,
    "start_time": "2023-02-25T07:18:57.908Z"
   },
   {
    "duration": 14,
    "start_time": "2023-02-25T07:19:00.761Z"
   },
   {
    "duration": 188,
    "start_time": "2023-02-25T08:02:36.859Z"
   },
   {
    "duration": 8,
    "start_time": "2023-02-25T08:02:59.031Z"
   },
   {
    "duration": 362,
    "start_time": "2023-02-25T08:02:59.041Z"
   },
   {
    "duration": 100,
    "start_time": "2023-02-25T08:02:59.405Z"
   },
   {
    "duration": 158,
    "start_time": "2023-02-25T08:02:59.510Z"
   },
   {
    "duration": 110,
    "start_time": "2023-02-25T08:02:59.687Z"
   },
   {
    "duration": 204,
    "start_time": "2023-02-25T08:02:59.799Z"
   },
   {
    "duration": 350,
    "start_time": "2023-02-25T08:03:00.009Z"
   },
   {
    "duration": 126,
    "start_time": "2023-02-25T08:03:00.371Z"
   },
   {
    "duration": 403,
    "start_time": "2023-02-25T08:03:00.502Z"
   },
   {
    "duration": 27,
    "start_time": "2023-02-25T08:03:00.911Z"
   },
   {
    "duration": 193,
    "start_time": "2023-02-25T08:03:00.947Z"
   },
   {
    "duration": 190,
    "start_time": "2023-02-25T08:03:01.145Z"
   },
   {
    "duration": 193,
    "start_time": "2023-02-25T08:03:01.340Z"
   },
   {
    "duration": 131,
    "start_time": "2023-02-25T08:03:01.540Z"
   },
   {
    "duration": 223,
    "start_time": "2023-02-25T08:03:01.676Z"
   },
   {
    "duration": 391,
    "start_time": "2023-02-25T08:03:01.908Z"
   },
   {
    "duration": 105450,
    "start_time": "2023-02-25T08:03:02.339Z"
   },
   {
    "duration": 32,
    "start_time": "2023-02-25T08:04:47.803Z"
   },
   {
    "duration": 187166,
    "start_time": "2023-02-25T08:04:47.851Z"
   },
   {
    "duration": 114,
    "start_time": "2023-02-25T08:07:55.032Z"
   },
   {
    "duration": 143,
    "start_time": "2023-02-25T08:07:55.157Z"
   },
   {
    "duration": 103522,
    "start_time": "2023-02-25T08:07:55.309Z"
   },
   {
    "duration": 180837,
    "start_time": "2023-02-25T08:09:38.832Z"
   },
   {
    "duration": 9,
    "start_time": "2023-02-25T08:12:39.671Z"
   },
   {
    "duration": 14,
    "start_time": "2023-02-25T08:12:39.682Z"
   },
   {
    "duration": 137,
    "start_time": "2023-02-25T08:12:39.698Z"
   },
   {
    "duration": 109797,
    "start_time": "2023-02-25T08:12:39.850Z"
   },
   {
    "duration": 230711,
    "start_time": "2023-02-25T08:14:29.656Z"
   },
   {
    "duration": 302,
    "start_time": "2023-02-25T08:18:20.369Z"
   },
   {
    "duration": 7,
    "start_time": "2023-02-25T08:18:20.676Z"
   },
   {
    "duration": 136,
    "start_time": "2023-02-25T08:18:20.687Z"
   },
   {
    "duration": 302,
    "start_time": "2023-02-25T08:18:20.832Z"
   },
   {
    "duration": 41032,
    "start_time": "2023-02-25T08:18:21.143Z"
   },
   {
    "duration": 69587,
    "start_time": "2023-02-25T08:19:02.180Z"
   },
   {
    "duration": 109,
    "start_time": "2023-02-25T08:20:11.768Z"
   },
   {
    "duration": 11,
    "start_time": "2023-02-25T08:20:11.879Z"
   },
   {
    "duration": 4,
    "start_time": "2023-02-25T08:22:45.374Z"
   },
   {
    "duration": 315,
    "start_time": "2023-02-25T08:22:51.075Z"
   },
   {
    "duration": 284,
    "start_time": "2023-02-25T08:28:33.305Z"
   },
   {
    "duration": 262,
    "start_time": "2023-02-25T08:29:54.056Z"
   },
   {
    "duration": 324,
    "start_time": "2023-02-25T08:30:17.956Z"
   },
   {
    "duration": 388,
    "start_time": "2023-02-25T08:30:27.579Z"
   },
   {
    "duration": 268,
    "start_time": "2023-02-25T08:38:55.532Z"
   },
   {
    "duration": 17,
    "start_time": "2023-02-25T08:39:48.866Z"
   },
   {
    "duration": 12,
    "start_time": "2023-02-25T08:41:37.556Z"
   },
   {
    "duration": 20,
    "start_time": "2023-02-25T08:42:11.469Z"
   },
   {
    "duration": 18,
    "start_time": "2023-02-25T08:42:28.060Z"
   },
   {
    "duration": 12,
    "start_time": "2023-02-25T08:42:31.279Z"
   },
   {
    "duration": 48,
    "start_time": "2023-02-25T08:44:00.702Z"
   },
   {
    "duration": 407,
    "start_time": "2023-02-25T08:44:27.536Z"
   },
   {
    "duration": 11,
    "start_time": "2023-02-25T08:44:51.988Z"
   },
   {
    "duration": 294,
    "start_time": "2023-02-25T08:46:15.460Z"
   },
   {
    "duration": 390,
    "start_time": "2023-02-25T08:56:29.734Z"
   },
   {
    "duration": 1926,
    "start_time": "2023-02-25T09:53:52.565Z"
   },
   {
    "duration": 89,
    "start_time": "2023-02-25T09:53:54.494Z"
   },
   {
    "duration": 38,
    "start_time": "2023-02-25T09:53:54.585Z"
   },
   {
    "duration": 76,
    "start_time": "2023-02-25T09:53:54.628Z"
   },
   {
    "duration": 13,
    "start_time": "2023-02-25T09:53:54.706Z"
   },
   {
    "duration": 65,
    "start_time": "2023-02-25T09:53:54.721Z"
   },
   {
    "duration": 95,
    "start_time": "2023-02-25T09:53:54.788Z"
   },
   {
    "duration": 23,
    "start_time": "2023-02-25T09:53:54.885Z"
   },
   {
    "duration": 184,
    "start_time": "2023-02-25T09:53:54.914Z"
   },
   {
    "duration": 17,
    "start_time": "2023-02-25T09:53:55.100Z"
   },
   {
    "duration": 73,
    "start_time": "2023-02-25T09:53:55.119Z"
   },
   {
    "duration": 12,
    "start_time": "2023-02-25T09:53:55.195Z"
   },
   {
    "duration": 50,
    "start_time": "2023-02-25T09:53:55.209Z"
   },
   {
    "duration": 24,
    "start_time": "2023-02-25T09:53:55.265Z"
   },
   {
    "duration": 74,
    "start_time": "2023-02-25T09:53:55.292Z"
   },
   {
    "duration": 93,
    "start_time": "2023-02-25T09:53:55.369Z"
   },
   {
    "duration": 79965,
    "start_time": "2023-02-25T09:53:55.520Z"
   },
   {
    "duration": 13,
    "start_time": "2023-02-25T09:55:15.488Z"
   },
   {
    "duration": 146039,
    "start_time": "2023-02-25T09:55:15.503Z"
   },
   {
    "duration": 58,
    "start_time": "2023-02-25T09:57:41.550Z"
   },
   {
    "duration": 60,
    "start_time": "2023-02-25T09:57:41.609Z"
   },
   {
    "duration": 88299,
    "start_time": "2023-02-25T09:57:41.672Z"
   },
   {
    "duration": 137766,
    "start_time": "2023-02-25T09:59:09.973Z"
   },
   {
    "duration": 6,
    "start_time": "2023-02-25T10:01:27.740Z"
   },
   {
    "duration": 23,
    "start_time": "2023-02-25T10:01:27.755Z"
   },
   {
    "duration": 67,
    "start_time": "2023-02-25T10:01:27.780Z"
   },
   {
    "duration": 98019,
    "start_time": "2023-02-25T10:01:27.868Z"
   },
   {
    "duration": 188582,
    "start_time": "2023-02-25T10:03:05.891Z"
   },
   {
    "duration": 371,
    "start_time": "2023-02-25T10:06:14.476Z"
   },
   {
    "duration": 6,
    "start_time": "2023-02-25T10:06:14.858Z"
   },
   {
    "duration": 18,
    "start_time": "2023-02-25T10:06:14.866Z"
   },
   {
    "duration": 58,
    "start_time": "2023-02-25T10:06:14.885Z"
   },
   {
    "duration": 36885,
    "start_time": "2023-02-25T10:06:14.953Z"
   },
   {
    "duration": 74996,
    "start_time": "2023-02-25T10:06:51.859Z"
   },
   {
    "duration": 146,
    "start_time": "2023-02-25T10:08:06.860Z"
   },
   {
    "duration": 351,
    "start_time": "2023-02-25T10:08:07.008Z"
   },
   {
    "duration": 284,
    "start_time": "2023-02-25T10:08:07.361Z"
   },
   {
    "duration": 15,
    "start_time": "2023-02-25T10:08:39.533Z"
   },
   {
    "duration": 255,
    "start_time": "2023-02-25T10:08:43.167Z"
   },
   {
    "duration": 257,
    "start_time": "2023-02-25T10:10:42.290Z"
   },
   {
    "duration": 7913,
    "start_time": "2023-02-26T07:37:54.201Z"
   },
   {
    "duration": 1804,
    "start_time": "2023-02-28T09:06:20.034Z"
   },
   {
    "duration": 84,
    "start_time": "2023-02-28T09:06:21.840Z"
   },
   {
    "duration": 21,
    "start_time": "2023-02-28T09:06:21.925Z"
   },
   {
    "duration": 15,
    "start_time": "2023-02-28T09:06:21.948Z"
   },
   {
    "duration": 4,
    "start_time": "2023-02-28T09:06:21.965Z"
   },
   {
    "duration": 13,
    "start_time": "2023-02-28T09:06:21.970Z"
   },
   {
    "duration": 55,
    "start_time": "2023-02-28T09:06:21.985Z"
   },
   {
    "duration": 14,
    "start_time": "2023-02-28T09:06:22.058Z"
   },
   {
    "duration": 137,
    "start_time": "2023-02-28T09:06:22.074Z"
   },
   {
    "duration": 11,
    "start_time": "2023-02-28T09:06:22.213Z"
   },
   {
    "duration": 13,
    "start_time": "2023-02-28T09:06:22.225Z"
   },
   {
    "duration": 25,
    "start_time": "2023-02-28T09:06:22.240Z"
   },
   {
    "duration": 5,
    "start_time": "2023-02-28T09:06:22.267Z"
   },
   {
    "duration": 5,
    "start_time": "2023-02-28T09:06:22.274Z"
   },
   {
    "duration": 40,
    "start_time": "2023-02-28T09:06:22.280Z"
   },
   {
    "duration": 42,
    "start_time": "2023-02-28T09:06:22.322Z"
   },
   {
    "duration": 61843,
    "start_time": "2023-02-28T09:06:22.367Z"
   },
   {
    "duration": 124,
    "start_time": "2023-02-28T09:07:24.211Z"
   },
   {
    "duration": 0,
    "start_time": "2023-02-28T09:07:24.336Z"
   },
   {
    "duration": 0,
    "start_time": "2023-02-28T09:07:24.337Z"
   },
   {
    "duration": 0,
    "start_time": "2023-02-28T09:07:24.338Z"
   },
   {
    "duration": 0,
    "start_time": "2023-02-28T09:07:24.339Z"
   },
   {
    "duration": 0,
    "start_time": "2023-02-28T09:07:24.340Z"
   },
   {
    "duration": 0,
    "start_time": "2023-02-28T09:07:24.341Z"
   },
   {
    "duration": 0,
    "start_time": "2023-02-28T09:07:24.342Z"
   },
   {
    "duration": 0,
    "start_time": "2023-02-28T09:07:24.343Z"
   },
   {
    "duration": 0,
    "start_time": "2023-02-28T09:07:24.344Z"
   },
   {
    "duration": 0,
    "start_time": "2023-02-28T09:07:24.359Z"
   },
   {
    "duration": 0,
    "start_time": "2023-02-28T09:07:24.360Z"
   },
   {
    "duration": 0,
    "start_time": "2023-02-28T09:07:24.361Z"
   },
   {
    "duration": 0,
    "start_time": "2023-02-28T09:07:24.362Z"
   },
   {
    "duration": 0,
    "start_time": "2023-02-28T09:07:24.363Z"
   },
   {
    "duration": 0,
    "start_time": "2023-02-28T09:07:24.364Z"
   },
   {
    "duration": 0,
    "start_time": "2023-02-28T09:07:24.365Z"
   },
   {
    "duration": 0,
    "start_time": "2023-02-28T09:07:24.366Z"
   },
   {
    "duration": 0,
    "start_time": "2023-02-28T09:07:24.367Z"
   },
   {
    "duration": 28,
    "start_time": "2023-02-28T09:12:09.852Z"
   },
   {
    "duration": 4,
    "start_time": "2023-02-28T09:14:12.998Z"
   },
   {
    "duration": 51,
    "start_time": "2023-02-28T09:14:13.004Z"
   },
   {
    "duration": 16,
    "start_time": "2023-02-28T09:14:13.057Z"
   },
   {
    "duration": 33,
    "start_time": "2023-02-28T09:14:13.074Z"
   },
   {
    "duration": 6,
    "start_time": "2023-02-28T09:14:13.108Z"
   },
   {
    "duration": 18,
    "start_time": "2023-02-28T09:14:13.116Z"
   },
   {
    "duration": 15,
    "start_time": "2023-02-28T09:14:13.136Z"
   },
   {
    "duration": 18,
    "start_time": "2023-02-28T09:14:13.152Z"
   },
   {
    "duration": 123,
    "start_time": "2023-02-28T09:14:13.172Z"
   },
   {
    "duration": 10,
    "start_time": "2023-02-28T09:14:13.297Z"
   },
   {
    "duration": 8,
    "start_time": "2023-02-28T09:14:13.309Z"
   },
   {
    "duration": 11,
    "start_time": "2023-02-28T09:14:13.319Z"
   },
   {
    "duration": 12,
    "start_time": "2023-02-28T09:14:13.332Z"
   },
   {
    "duration": 15,
    "start_time": "2023-02-28T09:14:13.346Z"
   },
   {
    "duration": 32,
    "start_time": "2023-02-28T09:14:13.363Z"
   },
   {
    "duration": 65,
    "start_time": "2023-02-28T09:14:13.397Z"
   },
   {
    "duration": 58701,
    "start_time": "2023-02-28T09:14:13.464Z"
   },
   {
    "duration": 12,
    "start_time": "2023-02-28T09:15:12.167Z"
   },
   {
    "duration": 106219,
    "start_time": "2023-02-28T09:15:12.180Z"
   },
   {
    "duration": 97,
    "start_time": "2023-02-28T09:16:58.400Z"
   },
   {
    "duration": 65,
    "start_time": "2023-02-28T09:16:58.499Z"
   },
   {
    "duration": 61769,
    "start_time": "2023-02-28T09:16:58.567Z"
   },
   {
    "duration": 109107,
    "start_time": "2023-02-28T09:18:00.338Z"
   },
   {
    "duration": 3,
    "start_time": "2023-02-28T09:19:49.447Z"
   },
   {
    "duration": 11,
    "start_time": "2023-02-28T09:19:49.459Z"
   },
   {
    "duration": 93,
    "start_time": "2023-02-28T09:19:49.471Z"
   },
   {
    "duration": 78953,
    "start_time": "2023-02-28T09:19:49.567Z"
   },
   {
    "duration": 152331,
    "start_time": "2023-02-28T09:21:08.522Z"
   },
   {
    "duration": 171,
    "start_time": "2023-02-28T09:23:40.857Z"
   },
   {
    "duration": 4,
    "start_time": "2023-02-28T09:23:41.030Z"
   },
   {
    "duration": 26,
    "start_time": "2023-02-28T09:23:41.036Z"
   },
   {
    "duration": 100,
    "start_time": "2023-02-28T09:23:41.064Z"
   },
   {
    "duration": 30759,
    "start_time": "2023-02-28T09:23:41.166Z"
   },
   {
    "duration": 56308,
    "start_time": "2023-02-28T09:24:11.926Z"
   },
   {
    "duration": 214,
    "start_time": "2023-02-28T09:25:08.235Z"
   },
   {
    "duration": 190,
    "start_time": "2023-02-28T09:25:08.450Z"
   },
   {
    "duration": 151,
    "start_time": "2023-02-28T09:47:48.535Z"
   },
   {
    "duration": 10,
    "start_time": "2023-02-28T10:03:42.609Z"
   },
   {
    "duration": 106,
    "start_time": "2023-02-28T10:10:04.852Z"
   },
   {
    "duration": 4,
    "start_time": "2023-02-28T10:10:17.316Z"
   },
   {
    "duration": 9,
    "start_time": "2023-02-28T10:10:18.806Z"
   },
   {
    "duration": 3,
    "start_time": "2023-02-28T10:10:26.064Z"
   },
   {
    "duration": 2,
    "start_time": "2023-02-28T10:10:27.781Z"
   },
   {
    "duration": 10,
    "start_time": "2023-02-28T10:10:27.968Z"
   },
   {
    "duration": 3,
    "start_time": "2023-02-28T10:10:45.567Z"
   },
   {
    "duration": 3,
    "start_time": "2023-02-28T10:10:46.493Z"
   },
   {
    "duration": 11,
    "start_time": "2023-02-28T10:10:46.667Z"
   },
   {
    "duration": 29,
    "start_time": "2023-02-28T10:11:21.200Z"
   },
   {
    "duration": 25,
    "start_time": "2023-02-28T10:12:45.599Z"
   },
   {
    "duration": 11,
    "start_time": "2023-02-28T10:12:47.466Z"
   },
   {
    "duration": 3,
    "start_time": "2023-02-28T10:12:56.527Z"
   },
   {
    "duration": 9,
    "start_time": "2023-02-28T10:12:58.465Z"
   },
   {
    "duration": 11,
    "start_time": "2023-02-28T10:17:35.703Z"
   },
   {
    "duration": 1716,
    "start_time": "2023-03-17T17:00:20.218Z"
   },
   {
    "duration": 121,
    "start_time": "2023-03-17T17:00:21.937Z"
   },
   {
    "duration": 18,
    "start_time": "2023-03-17T17:00:22.060Z"
   },
   {
    "duration": 24,
    "start_time": "2023-03-17T17:00:22.079Z"
   },
   {
    "duration": 5,
    "start_time": "2023-03-17T17:00:22.109Z"
   },
   {
    "duration": 26,
    "start_time": "2023-03-17T17:00:22.121Z"
   },
   {
    "duration": 51,
    "start_time": "2023-03-17T17:00:22.149Z"
   },
   {
    "duration": 14,
    "start_time": "2023-03-17T17:00:22.202Z"
   },
   {
    "duration": 139,
    "start_time": "2023-03-17T17:00:22.218Z"
   },
   {
    "duration": 10,
    "start_time": "2023-03-17T17:00:22.359Z"
   },
   {
    "duration": 7,
    "start_time": "2023-03-17T17:00:22.370Z"
   },
   {
    "duration": 30,
    "start_time": "2023-03-17T17:00:22.378Z"
   },
   {
    "duration": 29,
    "start_time": "2023-03-17T17:00:22.410Z"
   },
   {
    "duration": 13,
    "start_time": "2023-03-17T17:00:22.442Z"
   },
   {
    "duration": 6,
    "start_time": "2023-03-17T17:00:25.222Z"
   },
   {
    "duration": 39,
    "start_time": "2023-03-17T17:00:25.610Z"
   },
   {
    "duration": 5,
    "start_time": "2023-03-17T17:01:06.837Z"
   },
   {
    "duration": 7,
    "start_time": "2023-03-17T17:01:19.623Z"
   }
  ],
  "kernelspec": {
   "display_name": "Python 3 (ipykernel)",
   "language": "python",
   "name": "python3"
  },
  "language_info": {
   "codemirror_mode": {
    "name": "ipython",
    "version": 3
   },
   "file_extension": ".py",
   "mimetype": "text/x-python",
   "name": "python",
   "nbconvert_exporter": "python",
   "pygments_lexer": "ipython3",
   "version": "3.9.13"
  },
  "toc": {
   "base_numbering": 1,
   "nav_menu": {},
   "number_sections": true,
   "sideBar": true,
   "skip_h1_title": true,
   "title_cell": "Содержание",
   "title_sidebar": "Contents",
   "toc_cell": true,
   "toc_position": {
    "height": "calc(100% - 180px)",
    "left": "10px",
    "top": "150px",
    "width": "165px"
   },
   "toc_section_display": true,
   "toc_window_display": false
  }
 },
 "nbformat": 4,
 "nbformat_minor": 2
}
