{
 "cells": [
  {
   "cell_type": "markdown",
   "metadata": {
    "toc": true
   },
   "source": [
    "<h1>Содержание<span class=\"tocSkip\"></span></h1>\n",
    "<div class=\"toc\"><ul class=\"toc-item\"><li><span><a href=\"#Подготовка-данных\" data-toc-modified-id=\"Подготовка-данных-1\"><span class=\"toc-item-num\">1&nbsp;&nbsp;</span>Подготовка данных</a></span><ul class=\"toc-item\"><li><span><a href=\"#Импортируем-библиотеки\" data-toc-modified-id=\"Импортируем-библиотеки-1.1\"><span class=\"toc-item-num\">1.1&nbsp;&nbsp;</span>Импортируем библиотеки</a></span></li><li><span><a href=\"#Знакомство-с-данными\" data-toc-modified-id=\"Знакомство-с-данными-1.2\"><span class=\"toc-item-num\">1.2&nbsp;&nbsp;</span>Знакомство с данными</a></span><ul class=\"toc-item\"><li><span><a href=\"#Считаем-данные-и-запишем-в-переменные.\" data-toc-modified-id=\"Считаем-данные-и-запишем-в-переменные.-1.2.1\"><span class=\"toc-item-num\">1.2.1&nbsp;&nbsp;</span>Считаем данные и запишем в переменные.</a></span></li><li><span><a href=\"#Посмотрим-на-общею-информацию-с-помощью-info-и-describe.\" data-toc-modified-id=\"Посмотрим-на-общею-информацию-с-помощью-info-и-describe.-1.2.2\"><span class=\"toc-item-num\">1.2.2&nbsp;&nbsp;</span>Посмотрим на общею информацию с помощью <code>info</code> и <code>describe</code>.</a></span></li><li><span><a href=\"#Поиск-дубликатов-и-пропусков.\" data-toc-modified-id=\"Поиск-дубликатов-и-пропусков.-1.2.3\"><span class=\"toc-item-num\">1.2.3&nbsp;&nbsp;</span>Поиск дубликатов и пропусков.</a></span></li></ul></li><li><span><a href=\"#Проверим,-что-эффективность-обогащения-рассчитана-правильно\" data-toc-modified-id=\"Проверим,-что-эффективность-обогащения-рассчитана-правильно-1.3\"><span class=\"toc-item-num\">1.3&nbsp;&nbsp;</span>Проверим, что эффективность обогащения рассчитана правильно</a></span></li><li><span><a href=\"#Проанализируем-признаки,-недоступные-в-тестовой-выборке\" data-toc-modified-id=\"Проанализируем-признаки,-недоступные-в-тестовой-выборке-1.4\"><span class=\"toc-item-num\">1.4&nbsp;&nbsp;</span>Проанализируем признаки, недоступные в тестовой выборке</a></span></li></ul></li><li><span><a href=\"#Анализ-данных\" data-toc-modified-id=\"Анализ-данных-2\"><span class=\"toc-item-num\">2&nbsp;&nbsp;</span>Анализ данных</a></span><ul class=\"toc-item\"><li><span><a href=\"#Посмотрим,-как-меняется-концентрация-металлов-(Au,-Ag,-Pb)-на-различных-этапах-очистки.\" data-toc-modified-id=\"Посмотрим,-как-меняется-концентрация-металлов-(Au,-Ag,-Pb)-на-различных-этапах-очистки.-2.1\"><span class=\"toc-item-num\">2.1&nbsp;&nbsp;</span>Посмотрим, как меняется концентрация металлов (Au, Ag, Pb) на различных этапах очистки.</a></span></li><li><span><a href=\"#Сравним-распределения-размеров-гранул-сырья-на-обучающей-и-тестовой-выборках.\" data-toc-modified-id=\"Сравним-распределения-размеров-гранул-сырья-на-обучающей-и-тестовой-выборках.-2.2\"><span class=\"toc-item-num\">2.2&nbsp;&nbsp;</span>Сравним распределения размеров гранул сырья на обучающей и тестовой выборках.</a></span></li><li><span><a href=\"#Исследуем-суммарную-концентрацию-всех-веществ-на-разных-стадиях-обработки\" data-toc-modified-id=\"Исследуем-суммарную-концентрацию-всех-веществ-на-разных-стадиях-обработки-2.3\"><span class=\"toc-item-num\">2.3&nbsp;&nbsp;</span>Исследуем суммарную концентрацию всех веществ на разных стадиях обработки</a></span></li></ul></li><li><span><a href=\"#Модель\" data-toc-modified-id=\"Модель-3\"><span class=\"toc-item-num\">3&nbsp;&nbsp;</span>Модель</a></span><ul class=\"toc-item\"><li><span><a href=\"#Напишим-функцию-для-вычисления-итоговой-sMAPE\" data-toc-modified-id=\"Напишим-функцию-для-вычисления-итоговой-sMAPE-3.1\"><span class=\"toc-item-num\">3.1&nbsp;&nbsp;</span>Напишим функцию для вычисления итоговой sMAPE</a></span></li><li><span><a href=\"#Подготовка-данных-для-обучения\" data-toc-modified-id=\"Подготовка-данных-для-обучения-3.2\"><span class=\"toc-item-num\">3.2&nbsp;&nbsp;</span>Подготовка данных для обучения</a></span></li><li><span><a href=\"#Настройка-гиперпараметров-и-обучение-моделей.\" data-toc-modified-id=\"Настройка-гиперпараметров-и-обучение-моделей.-3.3\"><span class=\"toc-item-num\">3.3&nbsp;&nbsp;</span>Настройка гиперпараметров и обучение моделей.</a></span><ul class=\"toc-item\"><li><span><a href=\"#Модель-№1-&quot;Случайный-лес&quot;\" data-toc-modified-id=\"Модель-№1-&quot;Случайный-лес&quot;-3.3.1\"><span class=\"toc-item-num\">3.3.1&nbsp;&nbsp;</span>Модель №1 \"Случайный лес\"</a></span></li><li><span><a href=\"#Модель-№2-&quot;Градиентный-бустинг.&quot;\" data-toc-modified-id=\"Модель-№2-&quot;Градиентный-бустинг.&quot;-3.3.2\"><span class=\"toc-item-num\">3.3.2&nbsp;&nbsp;</span>Модель №2 \"Градиентный бустинг.\"</a></span></li><li><span><a href=\"#Обучение-модели-&quot;Случайного-леса&quot;\" data-toc-modified-id=\"Обучение-модели-&quot;Случайного-леса&quot;-3.3.3\"><span class=\"toc-item-num\">3.3.3&nbsp;&nbsp;</span>Обучение модели \"Случайного леса\"</a></span></li><li><span><a href=\"#Обучение-модели-&quot;Градиентный-бустинг.&quot;\" data-toc-modified-id=\"Обучение-модели-&quot;Градиентный-бустинг.&quot;-3.3.4\"><span class=\"toc-item-num\">3.3.4&nbsp;&nbsp;</span>Обучение модели \"Градиентный бустинг.\"</a></span></li><li><span><a href=\"#Модель-№3-&quot;CatBoost-.&quot;\" data-toc-modified-id=\"Модель-№3-&quot;CatBoost-.&quot;-3.3.5\"><span class=\"toc-item-num\">3.3.5&nbsp;&nbsp;</span>Модель №3 \"CatBoost .\"</a></span></li></ul></li><li><span><a href=\"#Проверка-модели-на-тесовой-выборке-и-оценка-качества-с-помощью-метрики-sMAPE.\" data-toc-modified-id=\"Проверка-модели-на-тесовой-выборке-и-оценка-качества-с-помощью-метрики-sMAPE.-3.4\"><span class=\"toc-item-num\">3.4&nbsp;&nbsp;</span>Проверка модели на тесовой выборке и оценка качества с помощью метрики sMAPE.</a></span></li><li><span><a href=\"#Сравним-с-константной-моделью-используя-DummyRegressor\" data-toc-modified-id=\"Сравним-с-константной-моделью-используя-DummyRegressor-3.5\"><span class=\"toc-item-num\">3.5&nbsp;&nbsp;</span>Сравним с константной моделью используя DummyRegressor</a></span></li></ul></li><li><span><a href=\"#Чек-лист-готовности-проекта\" data-toc-modified-id=\"Чек-лист-готовности-проекта-4\"><span class=\"toc-item-num\">4&nbsp;&nbsp;</span>Чек-лист готовности проекта</a></span></li></ul></div>"
   ]
  },
  {
   "cell_type": "markdown",
   "metadata": {},
   "source": [
    "# Восстановление золота из руды"
   ]
  },
  {
   "cell_type": "markdown",
   "metadata": {},
   "source": [
    "Подготовьте прототип модели машинного обучения для «Цифры». Компания разрабатывает решения для эффективной работы промышленных предприятий.\n",
    "\n",
    "Модель должна предсказать коэффициент восстановления золота из золотосодержащей руды. Используйте данные с параметрами добычи и очистки. \n",
    "\n",
    "Модель поможет оптимизировать производство, чтобы не запускать предприятие с убыточными характеристиками.\n",
    "\n",
    "Вам нужно:\n",
    "\n",
    "1. Подготовить данные;\n",
    "2. Провести исследовательский анализ данных;\n",
    "3. Построить и обучить модель.\n",
    "\n",
    "Чтобы выполнить проект, обращайтесь к библиотекам *pandas*, *matplotlib* и *sklearn.* Вам поможет их документация."
   ]
  },
  {
   "cell_type": "markdown",
   "metadata": {},
   "source": [
    "**Описание данных**"
   ]
  },
  {
   "cell_type": "markdown",
   "metadata": {},
   "source": [
    "Технологический процесс"
   ]
  },
  {
   "cell_type": "markdown",
   "metadata": {},
   "source": [
    "* Rougher feed — исходное сырье\n",
    "* Rougher additions (или reagent additions) — флотационные реагенты: Xanthate, Sulphate, Depressant\n",
    "* Xanthate **— ксантогенат (промотер, или активатор флотации);\n",
    "* Sulphate — сульфат (на данном производстве сульфид натрия);\n",
    "* Depressant — депрессант (силикат натрия).\n",
    "* Rougher process (англ. «грубый процесс») — флотация\n",
    "* Rougher tails — отвальные хвосты\n",
    "* Float banks — флотационная установка\n",
    "* Cleaner process — очистка\n",
    "* Rougher Au — черновой концентрат золота\n",
    "* Final Au — финальный концентрат золота"
   ]
  },
  {
   "cell_type": "markdown",
   "metadata": {},
   "source": [
    "Параметры этапов"
   ]
  },
  {
   "cell_type": "markdown",
   "metadata": {},
   "source": [
    "* air amount — объём воздуха\n",
    "* fluid levels — уровень жидкости\n",
    "* feed size — размер гранул сырья\n",
    "* feed rate — скорость подачи"
   ]
  },
  {
   "cell_type": "markdown",
   "metadata": {},
   "source": [
    "## Подготовка данных"
   ]
  },
  {
   "cell_type": "markdown",
   "metadata": {},
   "source": [
    "### Импортируем библиотеки"
   ]
  },
  {
   "cell_type": "code",
   "execution_count": 1,
   "metadata": {},
   "outputs": [],
   "source": [
    "# Обработка данных\n",
    "import pandas as pd\n",
    "import numpy as np\n",
    "\n",
    "# Визуализация данных\n",
    "import matplotlib.pyplot as plt\n",
    "import seaborn as sns\n",
    "\n",
    "from tqdm import tqdm\n",
    "\n",
    "# ML\n",
    "from sklearn.utils import shuffle\n",
    "from sklearn.model_selection import GridSearchCV, cross_val_score, RandomizedSearchCV\n",
    "from sklearn.linear_model import LinearRegression, LogisticRegression\n",
    "from sklearn.tree import DecisionTreeRegressor\n",
    "from sklearn.ensemble import RandomForestRegressor, GradientBoostingRegressor\n",
    "from sklearn.metrics import mean_squared_error, mean_absolute_error, make_scorer\n",
    "from sklearn.preprocessing import StandardScaler\n",
    "from sklearn.pipeline import Pipeline\n",
    "from sklearn.dummy import DummyRegressor\n",
    "from catboost import CatBoostRegressor\n",
    "from catboost import Pool, cv"
   ]
  },
  {
   "cell_type": "code",
   "execution_count": 2,
   "metadata": {},
   "outputs": [],
   "source": [
    "pd.set_option('display.max_columns', None)"
   ]
  },
  {
   "cell_type": "code",
   "execution_count": 3,
   "metadata": {},
   "outputs": [],
   "source": [
    "STATE = np.random.RandomState(12345)"
   ]
  },
  {
   "cell_type": "markdown",
   "metadata": {},
   "source": [
    "### Знакомство с данными"
   ]
  },
  {
   "cell_type": "markdown",
   "metadata": {},
   "source": [
    "#### Считаем данные и запишем в переменные. "
   ]
  },
  {
   "cell_type": "code",
   "execution_count": 4,
   "metadata": {
    "scrolled": true
   },
   "outputs": [
    {
     "data": {
      "text/html": [
       "<div>\n",
       "<style scoped>\n",
       "    .dataframe tbody tr th:only-of-type {\n",
       "        vertical-align: middle;\n",
       "    }\n",
       "\n",
       "    .dataframe tbody tr th {\n",
       "        vertical-align: top;\n",
       "    }\n",
       "\n",
       "    .dataframe thead th {\n",
       "        text-align: right;\n",
       "    }\n",
       "</style>\n",
       "<table border=\"1\" class=\"dataframe\">\n",
       "  <thead>\n",
       "    <tr style=\"text-align: right;\">\n",
       "      <th></th>\n",
       "      <th>date</th>\n",
       "      <th>final.output.concentrate_ag</th>\n",
       "      <th>final.output.concentrate_pb</th>\n",
       "      <th>final.output.concentrate_sol</th>\n",
       "      <th>final.output.concentrate_au</th>\n",
       "      <th>final.output.recovery</th>\n",
       "      <th>final.output.tail_ag</th>\n",
       "      <th>final.output.tail_pb</th>\n",
       "      <th>final.output.tail_sol</th>\n",
       "      <th>final.output.tail_au</th>\n",
       "      <th>primary_cleaner.input.sulfate</th>\n",
       "      <th>primary_cleaner.input.depressant</th>\n",
       "      <th>primary_cleaner.input.feed_size</th>\n",
       "      <th>primary_cleaner.input.xanthate</th>\n",
       "      <th>primary_cleaner.output.concentrate_ag</th>\n",
       "      <th>primary_cleaner.output.concentrate_pb</th>\n",
       "      <th>primary_cleaner.output.concentrate_sol</th>\n",
       "      <th>primary_cleaner.output.concentrate_au</th>\n",
       "      <th>primary_cleaner.output.tail_ag</th>\n",
       "      <th>primary_cleaner.output.tail_pb</th>\n",
       "      <th>primary_cleaner.output.tail_sol</th>\n",
       "      <th>primary_cleaner.output.tail_au</th>\n",
       "      <th>primary_cleaner.state.floatbank8_a_air</th>\n",
       "      <th>primary_cleaner.state.floatbank8_a_level</th>\n",
       "      <th>primary_cleaner.state.floatbank8_b_air</th>\n",
       "      <th>primary_cleaner.state.floatbank8_b_level</th>\n",
       "      <th>primary_cleaner.state.floatbank8_c_air</th>\n",
       "      <th>primary_cleaner.state.floatbank8_c_level</th>\n",
       "      <th>primary_cleaner.state.floatbank8_d_air</th>\n",
       "      <th>primary_cleaner.state.floatbank8_d_level</th>\n",
       "      <th>rougher.calculation.sulfate_to_au_concentrate</th>\n",
       "      <th>rougher.calculation.floatbank10_sulfate_to_au_feed</th>\n",
       "      <th>rougher.calculation.floatbank11_sulfate_to_au_feed</th>\n",
       "      <th>rougher.calculation.au_pb_ratio</th>\n",
       "      <th>rougher.input.feed_ag</th>\n",
       "      <th>rougher.input.feed_pb</th>\n",
       "      <th>rougher.input.feed_rate</th>\n",
       "      <th>rougher.input.feed_size</th>\n",
       "      <th>rougher.input.feed_sol</th>\n",
       "      <th>rougher.input.feed_au</th>\n",
       "      <th>rougher.input.floatbank10_sulfate</th>\n",
       "      <th>rougher.input.floatbank10_xanthate</th>\n",
       "      <th>rougher.input.floatbank11_sulfate</th>\n",
       "      <th>rougher.input.floatbank11_xanthate</th>\n",
       "      <th>rougher.output.concentrate_ag</th>\n",
       "      <th>rougher.output.concentrate_pb</th>\n",
       "      <th>rougher.output.concentrate_sol</th>\n",
       "      <th>rougher.output.concentrate_au</th>\n",
       "      <th>rougher.output.recovery</th>\n",
       "      <th>rougher.output.tail_ag</th>\n",
       "      <th>rougher.output.tail_pb</th>\n",
       "      <th>rougher.output.tail_sol</th>\n",
       "      <th>rougher.output.tail_au</th>\n",
       "      <th>rougher.state.floatbank10_a_air</th>\n",
       "      <th>rougher.state.floatbank10_a_level</th>\n",
       "      <th>rougher.state.floatbank10_b_air</th>\n",
       "      <th>rougher.state.floatbank10_b_level</th>\n",
       "      <th>rougher.state.floatbank10_c_air</th>\n",
       "      <th>rougher.state.floatbank10_c_level</th>\n",
       "      <th>rougher.state.floatbank10_d_air</th>\n",
       "      <th>rougher.state.floatbank10_d_level</th>\n",
       "      <th>rougher.state.floatbank10_e_air</th>\n",
       "      <th>rougher.state.floatbank10_e_level</th>\n",
       "      <th>rougher.state.floatbank10_f_air</th>\n",
       "      <th>rougher.state.floatbank10_f_level</th>\n",
       "      <th>secondary_cleaner.output.tail_ag</th>\n",
       "      <th>secondary_cleaner.output.tail_pb</th>\n",
       "      <th>secondary_cleaner.output.tail_sol</th>\n",
       "      <th>secondary_cleaner.output.tail_au</th>\n",
       "      <th>secondary_cleaner.state.floatbank2_a_air</th>\n",
       "      <th>secondary_cleaner.state.floatbank2_a_level</th>\n",
       "      <th>secondary_cleaner.state.floatbank2_b_air</th>\n",
       "      <th>secondary_cleaner.state.floatbank2_b_level</th>\n",
       "      <th>secondary_cleaner.state.floatbank3_a_air</th>\n",
       "      <th>secondary_cleaner.state.floatbank3_a_level</th>\n",
       "      <th>secondary_cleaner.state.floatbank3_b_air</th>\n",
       "      <th>secondary_cleaner.state.floatbank3_b_level</th>\n",
       "      <th>secondary_cleaner.state.floatbank4_a_air</th>\n",
       "      <th>secondary_cleaner.state.floatbank4_a_level</th>\n",
       "      <th>secondary_cleaner.state.floatbank4_b_air</th>\n",
       "      <th>secondary_cleaner.state.floatbank4_b_level</th>\n",
       "      <th>secondary_cleaner.state.floatbank5_a_air</th>\n",
       "      <th>secondary_cleaner.state.floatbank5_a_level</th>\n",
       "      <th>secondary_cleaner.state.floatbank5_b_air</th>\n",
       "      <th>secondary_cleaner.state.floatbank5_b_level</th>\n",
       "      <th>secondary_cleaner.state.floatbank6_a_air</th>\n",
       "      <th>secondary_cleaner.state.floatbank6_a_level</th>\n",
       "    </tr>\n",
       "  </thead>\n",
       "  <tbody>\n",
       "    <tr>\n",
       "      <th>19409</th>\n",
       "      <td>2018-08-17 05:59:59</td>\n",
       "      <td>3.575851</td>\n",
       "      <td>11.907212</td>\n",
       "      <td>6.802939</td>\n",
       "      <td>45.444440</td>\n",
       "      <td>72.666035</td>\n",
       "      <td>9.478193</td>\n",
       "      <td>3.057374</td>\n",
       "      <td>9.797800</td>\n",
       "      <td>1.731699</td>\n",
       "      <td>100.660232</td>\n",
       "      <td>6.965547</td>\n",
       "      <td>6.460000</td>\n",
       "      <td>0.789850</td>\n",
       "      <td>7.084616</td>\n",
       "      <td>12.410259</td>\n",
       "      <td>7.804975</td>\n",
       "      <td>32.053491</td>\n",
       "      <td>22.752922</td>\n",
       "      <td>6.269964</td>\n",
       "      <td>3.554283</td>\n",
       "      <td>2.953635</td>\n",
       "      <td>1648.253639</td>\n",
       "      <td>-399.652957</td>\n",
       "      <td>1648.463763</td>\n",
       "      <td>-399.606965</td>\n",
       "      <td>1648.623990</td>\n",
       "      <td>-399.664682</td>\n",
       "      <td>1649.975109</td>\n",
       "      <td>-400.074773</td>\n",
       "      <td>41916.831962</td>\n",
       "      <td>2491.157171</td>\n",
       "      <td>2490.489462</td>\n",
       "      <td>1.136122</td>\n",
       "      <td>6.881480</td>\n",
       "      <td>5.063351</td>\n",
       "      <td>499.913283</td>\n",
       "      <td>75.555829</td>\n",
       "      <td>37.583419</td>\n",
       "      <td>5.752585</td>\n",
       "      <td>7.149966</td>\n",
       "      <td>7.493450</td>\n",
       "      <td>7.148391</td>\n",
       "      <td>7.500544</td>\n",
       "      <td>11.609476</td>\n",
       "      <td>10.998026</td>\n",
       "      <td>30.326956</td>\n",
       "      <td>18.755634</td>\n",
       "      <td>88.772782</td>\n",
       "      <td>4.633042</td>\n",
       "      <td>0.613917</td>\n",
       "      <td>17.276486</td>\n",
       "      <td>0.887502</td>\n",
       "      <td>1200.157535</td>\n",
       "      <td>-300.144541</td>\n",
       "      <td>1100.440625</td>\n",
       "      <td>-499.814870</td>\n",
       "      <td>999.177497</td>\n",
       "      <td>-499.762026</td>\n",
       "      <td>901.053589</td>\n",
       "      <td>-499.073520</td>\n",
       "      <td>801.845206</td>\n",
       "      <td>-500.086592</td>\n",
       "      <td>801.248561</td>\n",
       "      <td>-499.625962</td>\n",
       "      <td>17.181839</td>\n",
       "      <td>11.979707</td>\n",
       "      <td>NaN</td>\n",
       "      <td>3.762781</td>\n",
       "      <td>34.961689</td>\n",
       "      <td>-500.735010</td>\n",
       "      <td>30.048940</td>\n",
       "      <td>-500.158357</td>\n",
       "      <td>25.966349</td>\n",
       "      <td>-500.129114</td>\n",
       "      <td>23.011660</td>\n",
       "      <td>-499.994100</td>\n",
       "      <td>23.021990</td>\n",
       "      <td>-501.491291</td>\n",
       "      <td>20.081289</td>\n",
       "      <td>-500.659152</td>\n",
       "      <td>17.985410</td>\n",
       "      <td>-500.023766</td>\n",
       "      <td>13.016793</td>\n",
       "      <td>-499.968020</td>\n",
       "      <td>20.010051</td>\n",
       "      <td>-500.549456</td>\n",
       "    </tr>\n",
       "    <tr>\n",
       "      <th>19410</th>\n",
       "      <td>2018-08-17 06:59:59</td>\n",
       "      <td>3.676767</td>\n",
       "      <td>11.811546</td>\n",
       "      <td>6.701614</td>\n",
       "      <td>45.626776</td>\n",
       "      <td>70.124520</td>\n",
       "      <td>10.101142</td>\n",
       "      <td>3.458313</td>\n",
       "      <td>9.202298</td>\n",
       "      <td>1.985746</td>\n",
       "      <td>105.008309</td>\n",
       "      <td>6.995182</td>\n",
       "      <td>6.401667</td>\n",
       "      <td>0.801839</td>\n",
       "      <td>6.999118</td>\n",
       "      <td>12.429446</td>\n",
       "      <td>7.966334</td>\n",
       "      <td>32.246091</td>\n",
       "      <td>23.301500</td>\n",
       "      <td>6.519378</td>\n",
       "      <td>3.259334</td>\n",
       "      <td>2.944576</td>\n",
       "      <td>1648.001550</td>\n",
       "      <td>-399.870802</td>\n",
       "      <td>1648.478146</td>\n",
       "      <td>-400.203233</td>\n",
       "      <td>1648.578582</td>\n",
       "      <td>-400.605144</td>\n",
       "      <td>1650.268262</td>\n",
       "      <td>-400.156538</td>\n",
       "      <td>41937.040929</td>\n",
       "      <td>2496.794459</td>\n",
       "      <td>2496.952350</td>\n",
       "      <td>1.228492</td>\n",
       "      <td>7.009794</td>\n",
       "      <td>4.909009</td>\n",
       "      <td>514.977484</td>\n",
       "      <td>74.467183</td>\n",
       "      <td>36.839063</td>\n",
       "      <td>6.030679</td>\n",
       "      <td>7.493988</td>\n",
       "      <td>7.667556</td>\n",
       "      <td>7.495567</td>\n",
       "      <td>7.696076</td>\n",
       "      <td>11.438144</td>\n",
       "      <td>10.950660</td>\n",
       "      <td>29.937369</td>\n",
       "      <td>19.021444</td>\n",
       "      <td>86.379988</td>\n",
       "      <td>5.022654</td>\n",
       "      <td>0.658619</td>\n",
       "      <td>15.647142</td>\n",
       "      <td>1.131165</td>\n",
       "      <td>1199.343087</td>\n",
       "      <td>-300.147209</td>\n",
       "      <td>1147.078162</td>\n",
       "      <td>-500.062445</td>\n",
       "      <td>1048.042621</td>\n",
       "      <td>-500.376287</td>\n",
       "      <td>940.262276</td>\n",
       "      <td>-499.154832</td>\n",
       "      <td>851.091798</td>\n",
       "      <td>-500.235318</td>\n",
       "      <td>851.104372</td>\n",
       "      <td>-499.425752</td>\n",
       "      <td>16.983468</td>\n",
       "      <td>12.391459</td>\n",
       "      <td>NaN</td>\n",
       "      <td>3.679443</td>\n",
       "      <td>34.954898</td>\n",
       "      <td>-500.306542</td>\n",
       "      <td>30.078909</td>\n",
       "      <td>-500.336223</td>\n",
       "      <td>25.969538</td>\n",
       "      <td>-499.488722</td>\n",
       "      <td>22.966885</td>\n",
       "      <td>-499.694658</td>\n",
       "      <td>23.001575</td>\n",
       "      <td>-500.731390</td>\n",
       "      <td>19.995845</td>\n",
       "      <td>-499.827275</td>\n",
       "      <td>18.021047</td>\n",
       "      <td>-499.853567</td>\n",
       "      <td>12.971879</td>\n",
       "      <td>-500.117227</td>\n",
       "      <td>19.998784</td>\n",
       "      <td>-500.926436</td>\n",
       "    </tr>\n",
       "    <tr>\n",
       "      <th>19411</th>\n",
       "      <td>2018-08-17 07:59:59</td>\n",
       "      <td>3.571477</td>\n",
       "      <td>11.612422</td>\n",
       "      <td>6.819930</td>\n",
       "      <td>45.868268</td>\n",
       "      <td>66.461188</td>\n",
       "      <td>10.346141</td>\n",
       "      <td>3.447106</td>\n",
       "      <td>9.025933</td>\n",
       "      <td>2.037761</td>\n",
       "      <td>104.321144</td>\n",
       "      <td>6.971811</td>\n",
       "      <td>6.390000</td>\n",
       "      <td>0.808661</td>\n",
       "      <td>7.308847</td>\n",
       "      <td>12.345113</td>\n",
       "      <td>8.160708</td>\n",
       "      <td>31.837233</td>\n",
       "      <td>22.769633</td>\n",
       "      <td>6.363498</td>\n",
       "      <td>3.566117</td>\n",
       "      <td>2.945426</td>\n",
       "      <td>1649.388691</td>\n",
       "      <td>-399.029909</td>\n",
       "      <td>1648.793918</td>\n",
       "      <td>-399.520718</td>\n",
       "      <td>1648.833785</td>\n",
       "      <td>-400.555705</td>\n",
       "      <td>1651.426923</td>\n",
       "      <td>-399.795765</td>\n",
       "      <td>42098.236930</td>\n",
       "      <td>2513.707580</td>\n",
       "      <td>2513.093240</td>\n",
       "      <td>1.277886</td>\n",
       "      <td>6.942730</td>\n",
       "      <td>4.369886</td>\n",
       "      <td>520.303650</td>\n",
       "      <td>76.149509</td>\n",
       "      <td>37.131979</td>\n",
       "      <td>5.584216</td>\n",
       "      <td>7.136975</td>\n",
       "      <td>8.011375</td>\n",
       "      <td>7.134951</td>\n",
       "      <td>8.004409</td>\n",
       "      <td>11.762979</td>\n",
       "      <td>10.334964</td>\n",
       "      <td>29.247242</td>\n",
       "      <td>18.512130</td>\n",
       "      <td>84.040936</td>\n",
       "      <td>5.081916</td>\n",
       "      <td>0.668265</td>\n",
       "      <td>15.790780</td>\n",
       "      <td>1.193840</td>\n",
       "      <td>1201.274151</td>\n",
       "      <td>-300.061571</td>\n",
       "      <td>1157.483950</td>\n",
       "      <td>-500.110068</td>\n",
       "      <td>1057.037676</td>\n",
       "      <td>-499.944273</td>\n",
       "      <td>966.447061</td>\n",
       "      <td>-495.966604</td>\n",
       "      <td>851.317657</td>\n",
       "      <td>-499.726805</td>\n",
       "      <td>853.577703</td>\n",
       "      <td>-498.422421</td>\n",
       "      <td>17.010500</td>\n",
       "      <td>12.256636</td>\n",
       "      <td>NaN</td>\n",
       "      <td>4.065196</td>\n",
       "      <td>34.910582</td>\n",
       "      <td>-498.946702</td>\n",
       "      <td>29.942602</td>\n",
       "      <td>-499.499426</td>\n",
       "      <td>26.036524</td>\n",
       "      <td>-500.196862</td>\n",
       "      <td>23.010449</td>\n",
       "      <td>-499.983843</td>\n",
       "      <td>23.007388</td>\n",
       "      <td>-500.709707</td>\n",
       "      <td>20.063421</td>\n",
       "      <td>-500.286289</td>\n",
       "      <td>18.033292</td>\n",
       "      <td>-498.564918</td>\n",
       "      <td>12.961688</td>\n",
       "      <td>-499.930240</td>\n",
       "      <td>20.002626</td>\n",
       "      <td>-498.541530</td>\n",
       "    </tr>\n",
       "    <tr>\n",
       "      <th>19412</th>\n",
       "      <td>2018-08-17 08:59:59</td>\n",
       "      <td>3.651242</td>\n",
       "      <td>11.546264</td>\n",
       "      <td>6.896616</td>\n",
       "      <td>45.942074</td>\n",
       "      <td>66.417292</td>\n",
       "      <td>10.080692</td>\n",
       "      <td>3.109990</td>\n",
       "      <td>9.244794</td>\n",
       "      <td>1.941038</td>\n",
       "      <td>97.855853</td>\n",
       "      <td>6.982815</td>\n",
       "      <td>6.390000</td>\n",
       "      <td>0.875157</td>\n",
       "      <td>7.860497</td>\n",
       "      <td>11.957296</td>\n",
       "      <td>8.244764</td>\n",
       "      <td>30.755803</td>\n",
       "      <td>22.629053</td>\n",
       "      <td>6.144751</td>\n",
       "      <td>3.620707</td>\n",
       "      <td>2.962553</td>\n",
       "      <td>1649.920624</td>\n",
       "      <td>-399.799354</td>\n",
       "      <td>1648.138126</td>\n",
       "      <td>-399.983964</td>\n",
       "      <td>1648.816499</td>\n",
       "      <td>-401.025014</td>\n",
       "      <td>1649.958315</td>\n",
       "      <td>-399.539034</td>\n",
       "      <td>42081.773555</td>\n",
       "      <td>2505.242536</td>\n",
       "      <td>2506.595681</td>\n",
       "      <td>1.202026</td>\n",
       "      <td>6.749376</td>\n",
       "      <td>4.437641</td>\n",
       "      <td>520.055759</td>\n",
       "      <td>74.352820</td>\n",
       "      <td>36.818434</td>\n",
       "      <td>5.334160</td>\n",
       "      <td>6.836032</td>\n",
       "      <td>8.866426</td>\n",
       "      <td>6.840455</td>\n",
       "      <td>8.885448</td>\n",
       "      <td>11.851375</td>\n",
       "      <td>10.198830</td>\n",
       "      <td>28.658896</td>\n",
       "      <td>18.092120</td>\n",
       "      <td>83.803129</td>\n",
       "      <td>4.996664</td>\n",
       "      <td>0.648876</td>\n",
       "      <td>16.478637</td>\n",
       "      <td>1.147488</td>\n",
       "      <td>1198.635691</td>\n",
       "      <td>-299.864355</td>\n",
       "      <td>1146.875123</td>\n",
       "      <td>-499.771902</td>\n",
       "      <td>1047.091883</td>\n",
       "      <td>-498.775508</td>\n",
       "      <td>948.020265</td>\n",
       "      <td>-501.962415</td>\n",
       "      <td>848.792460</td>\n",
       "      <td>-500.283905</td>\n",
       "      <td>849.866730</td>\n",
       "      <td>-501.403563</td>\n",
       "      <td>17.410938</td>\n",
       "      <td>11.784212</td>\n",
       "      <td>NaN</td>\n",
       "      <td>3.865271</td>\n",
       "      <td>34.805518</td>\n",
       "      <td>-498.845168</td>\n",
       "      <td>29.895892</td>\n",
       "      <td>-499.637137</td>\n",
       "      <td>25.979531</td>\n",
       "      <td>-500.097166</td>\n",
       "      <td>22.959358</td>\n",
       "      <td>-499.888110</td>\n",
       "      <td>23.004905</td>\n",
       "      <td>-500.241069</td>\n",
       "      <td>20.019732</td>\n",
       "      <td>-499.381247</td>\n",
       "      <td>17.964550</td>\n",
       "      <td>-500.668205</td>\n",
       "      <td>13.006377</td>\n",
       "      <td>-500.012333</td>\n",
       "      <td>19.986553</td>\n",
       "      <td>-499.845622</td>\n",
       "    </tr>\n",
       "    <tr>\n",
       "      <th>19413</th>\n",
       "      <td>2018-08-17 09:59:59</td>\n",
       "      <td>3.991065</td>\n",
       "      <td>11.599666</td>\n",
       "      <td>6.905807</td>\n",
       "      <td>45.073197</td>\n",
       "      <td>69.884868</td>\n",
       "      <td>9.654578</td>\n",
       "      <td>2.835589</td>\n",
       "      <td>9.375307</td>\n",
       "      <td>1.713933</td>\n",
       "      <td>95.058385</td>\n",
       "      <td>7.044277</td>\n",
       "      <td>6.569999</td>\n",
       "      <td>0.695245</td>\n",
       "      <td>8.971777</td>\n",
       "      <td>11.391412</td>\n",
       "      <td>7.375135</td>\n",
       "      <td>27.867629</td>\n",
       "      <td>21.978954</td>\n",
       "      <td>5.652493</td>\n",
       "      <td>3.541234</td>\n",
       "      <td>2.513834</td>\n",
       "      <td>1649.514479</td>\n",
       "      <td>-400.177220</td>\n",
       "      <td>1648.063460</td>\n",
       "      <td>-399.854891</td>\n",
       "      <td>1647.933879</td>\n",
       "      <td>-401.903999</td>\n",
       "      <td>1649.210305</td>\n",
       "      <td>-400.597112</td>\n",
       "      <td>42026.195368</td>\n",
       "      <td>2499.588400</td>\n",
       "      <td>2498.722141</td>\n",
       "      <td>1.099282</td>\n",
       "      <td>6.413922</td>\n",
       "      <td>4.757455</td>\n",
       "      <td>519.740199</td>\n",
       "      <td>72.676754</td>\n",
       "      <td>36.466654</td>\n",
       "      <td>5.229785</td>\n",
       "      <td>6.709837</td>\n",
       "      <td>9.003702</td>\n",
       "      <td>6.706426</td>\n",
       "      <td>8.995812</td>\n",
       "      <td>11.523313</td>\n",
       "      <td>10.701882</td>\n",
       "      <td>28.295748</td>\n",
       "      <td>17.595923</td>\n",
       "      <td>85.176523</td>\n",
       "      <td>4.825933</td>\n",
       "      <td>0.614857</td>\n",
       "      <td>16.318209</td>\n",
       "      <td>1.038019</td>\n",
       "      <td>1199.378277</td>\n",
       "      <td>-299.642414</td>\n",
       "      <td>1150.214396</td>\n",
       "      <td>-500.167215</td>\n",
       "      <td>1050.871214</td>\n",
       "      <td>-500.953506</td>\n",
       "      <td>937.767035</td>\n",
       "      <td>-499.638557</td>\n",
       "      <td>849.242954</td>\n",
       "      <td>-500.078875</td>\n",
       "      <td>849.614786</td>\n",
       "      <td>-499.218315</td>\n",
       "      <td>17.837357</td>\n",
       "      <td>10.965235</td>\n",
       "      <td>0.530318</td>\n",
       "      <td>3.588618</td>\n",
       "      <td>34.954987</td>\n",
       "      <td>-499.651022</td>\n",
       "      <td>29.970947</td>\n",
       "      <td>-499.713652</td>\n",
       "      <td>25.990068</td>\n",
       "      <td>-499.812567</td>\n",
       "      <td>22.987820</td>\n",
       "      <td>-499.881304</td>\n",
       "      <td>23.005506</td>\n",
       "      <td>-500.379181</td>\n",
       "      <td>20.016167</td>\n",
       "      <td>-500.494647</td>\n",
       "      <td>18.001244</td>\n",
       "      <td>-500.340417</td>\n",
       "      <td>12.987431</td>\n",
       "      <td>-499.878309</td>\n",
       "      <td>19.971031</td>\n",
       "      <td>-500.525421</td>\n",
       "    </tr>\n",
       "    <tr>\n",
       "      <th>19414</th>\n",
       "      <td>2018-08-17 10:59:59</td>\n",
       "      <td>4.894652</td>\n",
       "      <td>12.713174</td>\n",
       "      <td>6.660313</td>\n",
       "      <td>41.924180</td>\n",
       "      <td>72.346428</td>\n",
       "      <td>9.274585</td>\n",
       "      <td>2.773309</td>\n",
       "      <td>9.499506</td>\n",
       "      <td>1.593406</td>\n",
       "      <td>95.702286</td>\n",
       "      <td>6.996929</td>\n",
       "      <td>6.660000</td>\n",
       "      <td>0.636334</td>\n",
       "      <td>9.595150</td>\n",
       "      <td>11.625295</td>\n",
       "      <td>7.856474</td>\n",
       "      <td>26.325246</td>\n",
       "      <td>21.170211</td>\n",
       "      <td>5.305853</td>\n",
       "      <td>2.959974</td>\n",
       "      <td>2.623531</td>\n",
       "      <td>1649.293762</td>\n",
       "      <td>-400.467259</td>\n",
       "      <td>1651.065222</td>\n",
       "      <td>-400.657488</td>\n",
       "      <td>1649.535593</td>\n",
       "      <td>-399.814081</td>\n",
       "      <td>1645.473629</td>\n",
       "      <td>-399.921994</td>\n",
       "      <td>41971.509540</td>\n",
       "      <td>2497.674206</td>\n",
       "      <td>2497.715187</td>\n",
       "      <td>1.066018</td>\n",
       "      <td>6.347536</td>\n",
       "      <td>4.916344</td>\n",
       "      <td>519.714494</td>\n",
       "      <td>70.465492</td>\n",
       "      <td>36.664364</td>\n",
       "      <td>5.240911</td>\n",
       "      <td>6.731820</td>\n",
       "      <td>8.997863</td>\n",
       "      <td>6.730742</td>\n",
       "      <td>9.002956</td>\n",
       "      <td>11.223092</td>\n",
       "      <td>11.126900</td>\n",
       "      <td>28.073480</td>\n",
       "      <td>17.482762</td>\n",
       "      <td>87.558903</td>\n",
       "      <td>4.552694</td>\n",
       "      <td>0.581822</td>\n",
       "      <td>15.696471</td>\n",
       "      <td>0.884081</td>\n",
       "      <td>1198.036238</td>\n",
       "      <td>-299.687525</td>\n",
       "      <td>1145.595699</td>\n",
       "      <td>-500.016520</td>\n",
       "      <td>1045.921471</td>\n",
       "      <td>-500.453249</td>\n",
       "      <td>949.025896</td>\n",
       "      <td>-504.335534</td>\n",
       "      <td>845.755668</td>\n",
       "      <td>-500.881743</td>\n",
       "      <td>846.387320</td>\n",
       "      <td>-500.690974</td>\n",
       "      <td>18.058221</td>\n",
       "      <td>10.482786</td>\n",
       "      <td>0.662766</td>\n",
       "      <td>3.791681</td>\n",
       "      <td>35.027138</td>\n",
       "      <td>-500.436491</td>\n",
       "      <td>29.989105</td>\n",
       "      <td>-500.344610</td>\n",
       "      <td>26.069549</td>\n",
       "      <td>-500.432573</td>\n",
       "      <td>22.982947</td>\n",
       "      <td>-500.379837</td>\n",
       "      <td>22.981693</td>\n",
       "      <td>-500.375436</td>\n",
       "      <td>20.045049</td>\n",
       "      <td>-499.630463</td>\n",
       "      <td>18.008026</td>\n",
       "      <td>-500.690545</td>\n",
       "      <td>12.994990</td>\n",
       "      <td>-500.075004</td>\n",
       "      <td>19.987483</td>\n",
       "      <td>-501.548787</td>\n",
       "    </tr>\n",
       "    <tr>\n",
       "      <th>19415</th>\n",
       "      <td>2018-08-17 11:59:59</td>\n",
       "      <td>4.827192</td>\n",
       "      <td>12.974069</td>\n",
       "      <td>6.641652</td>\n",
       "      <td>41.821659</td>\n",
       "      <td>72.754450</td>\n",
       "      <td>9.504075</td>\n",
       "      <td>3.028277</td>\n",
       "      <td>9.111587</td>\n",
       "      <td>1.632850</td>\n",
       "      <td>98.832193</td>\n",
       "      <td>8.019897</td>\n",
       "      <td>6.660000</td>\n",
       "      <td>0.603955</td>\n",
       "      <td>8.929451</td>\n",
       "      <td>12.035778</td>\n",
       "      <td>7.390553</td>\n",
       "      <td>27.335203</td>\n",
       "      <td>21.114439</td>\n",
       "      <td>5.420842</td>\n",
       "      <td>3.255398</td>\n",
       "      <td>2.662831</td>\n",
       "      <td>1650.110239</td>\n",
       "      <td>-399.828162</td>\n",
       "      <td>1649.813613</td>\n",
       "      <td>-399.854071</td>\n",
       "      <td>1650.211110</td>\n",
       "      <td>-400.113409</td>\n",
       "      <td>1650.732551</td>\n",
       "      <td>-399.945036</td>\n",
       "      <td>41908.053229</td>\n",
       "      <td>2490.448721</td>\n",
       "      <td>2490.557108</td>\n",
       "      <td>1.084777</td>\n",
       "      <td>6.432678</td>\n",
       "      <td>5.003105</td>\n",
       "      <td>520.076735</td>\n",
       "      <td>70.178018</td>\n",
       "      <td>37.273569</td>\n",
       "      <td>5.427253</td>\n",
       "      <td>6.958417</td>\n",
       "      <td>8.996328</td>\n",
       "      <td>6.958694</td>\n",
       "      <td>8.998763</td>\n",
       "      <td>11.273482</td>\n",
       "      <td>11.224784</td>\n",
       "      <td>28.061300</td>\n",
       "      <td>17.396721</td>\n",
       "      <td>89.614889</td>\n",
       "      <td>4.372936</td>\n",
       "      <td>0.574707</td>\n",
       "      <td>15.702253</td>\n",
       "      <td>0.782349</td>\n",
       "      <td>1200.011575</td>\n",
       "      <td>-300.100669</td>\n",
       "      <td>1150.733478</td>\n",
       "      <td>-498.734148</td>\n",
       "      <td>1049.807364</td>\n",
       "      <td>-500.114897</td>\n",
       "      <td>955.834131</td>\n",
       "      <td>-497.388243</td>\n",
       "      <td>850.807180</td>\n",
       "      <td>-500.813903</td>\n",
       "      <td>851.489053</td>\n",
       "      <td>-500.135056</td>\n",
       "      <td>17.826736</td>\n",
       "      <td>10.988334</td>\n",
       "      <td>0.743472</td>\n",
       "      <td>3.781508</td>\n",
       "      <td>34.968712</td>\n",
       "      <td>-499.984941</td>\n",
       "      <td>30.022480</td>\n",
       "      <td>-499.829772</td>\n",
       "      <td>25.988277</td>\n",
       "      <td>-500.152515</td>\n",
       "      <td>22.958074</td>\n",
       "      <td>-500.052563</td>\n",
       "      <td>23.024332</td>\n",
       "      <td>-501.673294</td>\n",
       "      <td>20.052960</td>\n",
       "      <td>-500.448548</td>\n",
       "      <td>17.997242</td>\n",
       "      <td>-500.720112</td>\n",
       "      <td>13.010501</td>\n",
       "      <td>-499.626615</td>\n",
       "      <td>19.995955</td>\n",
       "      <td>-502.213469</td>\n",
       "    </tr>\n",
       "    <tr>\n",
       "      <th>19416</th>\n",
       "      <td>2018-08-17 12:59:59</td>\n",
       "      <td>4.515130</td>\n",
       "      <td>12.868653</td>\n",
       "      <td>6.579353</td>\n",
       "      <td>42.645208</td>\n",
       "      <td>72.248239</td>\n",
       "      <td>9.501524</td>\n",
       "      <td>3.189444</td>\n",
       "      <td>9.023446</td>\n",
       "      <td>1.696612</td>\n",
       "      <td>104.479696</td>\n",
       "      <td>7.975558</td>\n",
       "      <td>6.660000</td>\n",
       "      <td>0.604532</td>\n",
       "      <td>8.438699</td>\n",
       "      <td>12.446818</td>\n",
       "      <td>7.529207</td>\n",
       "      <td>28.345128</td>\n",
       "      <td>21.407565</td>\n",
       "      <td>5.685268</td>\n",
       "      <td>3.661006</td>\n",
       "      <td>2.675620</td>\n",
       "      <td>1648.696021</td>\n",
       "      <td>-400.069849</td>\n",
       "      <td>1649.610826</td>\n",
       "      <td>-399.479252</td>\n",
       "      <td>1649.041564</td>\n",
       "      <td>-399.369227</td>\n",
       "      <td>1649.215480</td>\n",
       "      <td>-399.994232</td>\n",
       "      <td>41935.456917</td>\n",
       "      <td>2502.870977</td>\n",
       "      <td>2502.967665</td>\n",
       "      <td>1.092787</td>\n",
       "      <td>6.343984</td>\n",
       "      <td>5.069383</td>\n",
       "      <td>519.402068</td>\n",
       "      <td>72.380824</td>\n",
       "      <td>36.320938</td>\n",
       "      <td>5.539758</td>\n",
       "      <td>7.136243</td>\n",
       "      <td>8.996588</td>\n",
       "      <td>7.136513</td>\n",
       "      <td>8.999869</td>\n",
       "      <td>11.174380</td>\n",
       "      <td>11.202407</td>\n",
       "      <td>28.860089</td>\n",
       "      <td>17.872484</td>\n",
       "      <td>90.575891</td>\n",
       "      <td>4.304173</td>\n",
       "      <td>0.558524</td>\n",
       "      <td>15.702565</td>\n",
       "      <td>0.725856</td>\n",
       "      <td>1201.619605</td>\n",
       "      <td>-299.990564</td>\n",
       "      <td>1149.979368</td>\n",
       "      <td>-500.164238</td>\n",
       "      <td>1050.066661</td>\n",
       "      <td>-500.273861</td>\n",
       "      <td>952.282700</td>\n",
       "      <td>-500.716759</td>\n",
       "      <td>849.642310</td>\n",
       "      <td>-500.536018</td>\n",
       "      <td>849.798485</td>\n",
       "      <td>-501.026541</td>\n",
       "      <td>17.462725</td>\n",
       "      <td>11.675401</td>\n",
       "      <td>0.692615</td>\n",
       "      <td>3.920341</td>\n",
       "      <td>34.863297</td>\n",
       "      <td>-500.162333</td>\n",
       "      <td>29.995787</td>\n",
       "      <td>-499.968873</td>\n",
       "      <td>25.960827</td>\n",
       "      <td>-500.065260</td>\n",
       "      <td>23.004262</td>\n",
       "      <td>-499.830886</td>\n",
       "      <td>22.994118</td>\n",
       "      <td>-500.717182</td>\n",
       "      <td>19.980870</td>\n",
       "      <td>-499.580871</td>\n",
       "      <td>18.012514</td>\n",
       "      <td>-500.066290</td>\n",
       "      <td>12.999451</td>\n",
       "      <td>-500.008828</td>\n",
       "      <td>20.015172</td>\n",
       "      <td>-501.271089</td>\n",
       "    </tr>\n",
       "    <tr>\n",
       "      <th>19417</th>\n",
       "      <td>2018-08-17 13:59:59</td>\n",
       "      <td>4.108712</td>\n",
       "      <td>12.666388</td>\n",
       "      <td>6.563593</td>\n",
       "      <td>43.687607</td>\n",
       "      <td>72.582287</td>\n",
       "      <td>9.320000</td>\n",
       "      <td>3.277720</td>\n",
       "      <td>9.397333</td>\n",
       "      <td>1.678070</td>\n",
       "      <td>105.880296</td>\n",
       "      <td>8.044041</td>\n",
       "      <td>6.660000</td>\n",
       "      <td>0.598256</td>\n",
       "      <td>6.700402</td>\n",
       "      <td>10.697559</td>\n",
       "      <td>6.392370</td>\n",
       "      <td>24.626783</td>\n",
       "      <td>21.439259</td>\n",
       "      <td>5.829177</td>\n",
       "      <td>4.115866</td>\n",
       "      <td>2.704792</td>\n",
       "      <td>1648.845107</td>\n",
       "      <td>-400.124973</td>\n",
       "      <td>1650.440341</td>\n",
       "      <td>-400.182977</td>\n",
       "      <td>1650.279621</td>\n",
       "      <td>-399.968515</td>\n",
       "      <td>1649.706672</td>\n",
       "      <td>-400.438633</td>\n",
       "      <td>41966.701923</td>\n",
       "      <td>2497.230088</td>\n",
       "      <td>2497.122601</td>\n",
       "      <td>1.082861</td>\n",
       "      <td>6.210191</td>\n",
       "      <td>5.130377</td>\n",
       "      <td>519.813206</td>\n",
       "      <td>72.747320</td>\n",
       "      <td>36.583801</td>\n",
       "      <td>5.555483</td>\n",
       "      <td>7.140897</td>\n",
       "      <td>9.002550</td>\n",
       "      <td>7.141975</td>\n",
       "      <td>9.000660</td>\n",
       "      <td>10.982999</td>\n",
       "      <td>11.253276</td>\n",
       "      <td>29.005615</td>\n",
       "      <td>17.848178</td>\n",
       "      <td>91.068846</td>\n",
       "      <td>4.174661</td>\n",
       "      <td>0.557063</td>\n",
       "      <td>15.311872</td>\n",
       "      <td>0.692455</td>\n",
       "      <td>1200.421437</td>\n",
       "      <td>-299.996873</td>\n",
       "      <td>1150.028662</td>\n",
       "      <td>-499.918417</td>\n",
       "      <td>1049.185330</td>\n",
       "      <td>-499.830436</td>\n",
       "      <td>950.605707</td>\n",
       "      <td>-500.597049</td>\n",
       "      <td>849.533313</td>\n",
       "      <td>-500.467919</td>\n",
       "      <td>850.029750</td>\n",
       "      <td>-499.775214</td>\n",
       "      <td>17.117687</td>\n",
       "      <td>12.171111</td>\n",
       "      <td>0.757040</td>\n",
       "      <td>4.140606</td>\n",
       "      <td>34.932444</td>\n",
       "      <td>-500.100140</td>\n",
       "      <td>30.070079</td>\n",
       "      <td>-499.966051</td>\n",
       "      <td>25.987640</td>\n",
       "      <td>-500.179257</td>\n",
       "      <td>22.997179</td>\n",
       "      <td>-499.958874</td>\n",
       "      <td>23.014369</td>\n",
       "      <td>-500.212424</td>\n",
       "      <td>19.992876</td>\n",
       "      <td>-499.888065</td>\n",
       "      <td>17.977496</td>\n",
       "      <td>-499.967811</td>\n",
       "      <td>12.954171</td>\n",
       "      <td>-500.260455</td>\n",
       "      <td>19.983515</td>\n",
       "      <td>-503.243695</td>\n",
       "    </tr>\n",
       "    <tr>\n",
       "      <th>19418</th>\n",
       "      <td>2018-08-17 14:59:59</td>\n",
       "      <td>3.861031</td>\n",
       "      <td>12.441737</td>\n",
       "      <td>6.667624</td>\n",
       "      <td>44.339835</td>\n",
       "      <td>72.001394</td>\n",
       "      <td>8.752653</td>\n",
       "      <td>3.258726</td>\n",
       "      <td>10.303485</td>\n",
       "      <td>1.742921</td>\n",
       "      <td>108.127972</td>\n",
       "      <td>7.989871</td>\n",
       "      <td>6.660000</td>\n",
       "      <td>0.595134</td>\n",
       "      <td>7.781050</td>\n",
       "      <td>12.804960</td>\n",
       "      <td>7.515622</td>\n",
       "      <td>29.762286</td>\n",
       "      <td>21.728548</td>\n",
       "      <td>5.992773</td>\n",
       "      <td>4.040583</td>\n",
       "      <td>2.743374</td>\n",
       "      <td>1649.405961</td>\n",
       "      <td>-399.645178</td>\n",
       "      <td>1650.788636</td>\n",
       "      <td>-399.857146</td>\n",
       "      <td>1649.707469</td>\n",
       "      <td>-400.831714</td>\n",
       "      <td>1650.552948</td>\n",
       "      <td>-400.310647</td>\n",
       "      <td>41959.331207</td>\n",
       "      <td>2499.609135</td>\n",
       "      <td>2499.572877</td>\n",
       "      <td>1.068924</td>\n",
       "      <td>6.344844</td>\n",
       "      <td>5.288999</td>\n",
       "      <td>519.782461</td>\n",
       "      <td>73.955183</td>\n",
       "      <td>36.532975</td>\n",
       "      <td>5.653537</td>\n",
       "      <td>7.272077</td>\n",
       "      <td>9.001176</td>\n",
       "      <td>7.271614</td>\n",
       "      <td>8.991570</td>\n",
       "      <td>10.913800</td>\n",
       "      <td>11.418703</td>\n",
       "      <td>28.846029</td>\n",
       "      <td>17.870680</td>\n",
       "      <td>91.492066</td>\n",
       "      <td>4.077304</td>\n",
       "      <td>0.575396</td>\n",
       "      <td>15.077514</td>\n",
       "      <td>0.676932</td>\n",
       "      <td>1199.310939</td>\n",
       "      <td>-300.270580</td>\n",
       "      <td>1149.481748</td>\n",
       "      <td>-499.842052</td>\n",
       "      <td>1049.683412</td>\n",
       "      <td>-500.062701</td>\n",
       "      <td>944.002890</td>\n",
       "      <td>-499.743294</td>\n",
       "      <td>850.274654</td>\n",
       "      <td>-500.064710</td>\n",
       "      <td>850.067438</td>\n",
       "      <td>-500.636851</td>\n",
       "      <td>16.952631</td>\n",
       "      <td>12.485949</td>\n",
       "      <td>0.683082</td>\n",
       "      <td>4.248930</td>\n",
       "      <td>34.923706</td>\n",
       "      <td>-500.489921</td>\n",
       "      <td>29.993005</td>\n",
       "      <td>-500.025516</td>\n",
       "      <td>25.983069</td>\n",
       "      <td>-500.886621</td>\n",
       "      <td>23.039906</td>\n",
       "      <td>-499.917911</td>\n",
       "      <td>23.025088</td>\n",
       "      <td>-501.311668</td>\n",
       "      <td>20.031273</td>\n",
       "      <td>-500.674430</td>\n",
       "      <td>17.953446</td>\n",
       "      <td>-500.681679</td>\n",
       "      <td>13.013927</td>\n",
       "      <td>-500.258257</td>\n",
       "      <td>20.012671</td>\n",
       "      <td>-505.750254</td>\n",
       "    </tr>\n",
       "    <tr>\n",
       "      <th>19419</th>\n",
       "      <td>2018-08-17 15:59:59</td>\n",
       "      <td>3.769352</td>\n",
       "      <td>12.653977</td>\n",
       "      <td>6.733743</td>\n",
       "      <td>44.621845</td>\n",
       "      <td>70.004249</td>\n",
       "      <td>9.538939</td>\n",
       "      <td>3.572824</td>\n",
       "      <td>9.344995</td>\n",
       "      <td>1.846842</td>\n",
       "      <td>108.436718</td>\n",
       "      <td>7.995342</td>\n",
       "      <td>6.660000</td>\n",
       "      <td>0.592419</td>\n",
       "      <td>7.693782</td>\n",
       "      <td>13.126838</td>\n",
       "      <td>8.020305</td>\n",
       "      <td>29.913959</td>\n",
       "      <td>22.162235</td>\n",
       "      <td>6.224966</td>\n",
       "      <td>4.076909</td>\n",
       "      <td>2.893284</td>\n",
       "      <td>1647.373511</td>\n",
       "      <td>-399.718422</td>\n",
       "      <td>1649.170321</td>\n",
       "      <td>-400.119658</td>\n",
       "      <td>1650.330426</td>\n",
       "      <td>-398.758777</td>\n",
       "      <td>1650.368980</td>\n",
       "      <td>-400.800815</td>\n",
       "      <td>42003.084480</td>\n",
       "      <td>2491.724178</td>\n",
       "      <td>2491.835858</td>\n",
       "      <td>1.075400</td>\n",
       "      <td>6.389170</td>\n",
       "      <td>5.221009</td>\n",
       "      <td>534.302251</td>\n",
       "      <td>75.581975</td>\n",
       "      <td>36.793884</td>\n",
       "      <td>5.614674</td>\n",
       "      <td>7.266384</td>\n",
       "      <td>9.001968</td>\n",
       "      <td>7.267421</td>\n",
       "      <td>8.996827</td>\n",
       "      <td>11.120757</td>\n",
       "      <td>11.583608</td>\n",
       "      <td>29.082068</td>\n",
       "      <td>17.850498</td>\n",
       "      <td>90.912994</td>\n",
       "      <td>4.101903</td>\n",
       "      <td>0.601814</td>\n",
       "      <td>14.871610</td>\n",
       "      <td>0.714530</td>\n",
       "      <td>1199.596950</td>\n",
       "      <td>-299.922279</td>\n",
       "      <td>1150.643651</td>\n",
       "      <td>-500.624927</td>\n",
       "      <td>1050.311866</td>\n",
       "      <td>-499.319171</td>\n",
       "      <td>943.044876</td>\n",
       "      <td>-500.358077</td>\n",
       "      <td>849.984106</td>\n",
       "      <td>-499.328915</td>\n",
       "      <td>850.395925</td>\n",
       "      <td>-499.506926</td>\n",
       "      <td>16.803670</td>\n",
       "      <td>12.720986</td>\n",
       "      <td>0.814362</td>\n",
       "      <td>4.420492</td>\n",
       "      <td>34.919221</td>\n",
       "      <td>-499.558610</td>\n",
       "      <td>30.027713</td>\n",
       "      <td>-499.796403</td>\n",
       "      <td>25.947000</td>\n",
       "      <td>-499.475559</td>\n",
       "      <td>22.976698</td>\n",
       "      <td>-499.958587</td>\n",
       "      <td>23.018880</td>\n",
       "      <td>-500.910903</td>\n",
       "      <td>19.973517</td>\n",
       "      <td>-499.414252</td>\n",
       "      <td>17.957036</td>\n",
       "      <td>-499.519333</td>\n",
       "      <td>12.995216</td>\n",
       "      <td>-500.030232</td>\n",
       "      <td>19.983372</td>\n",
       "      <td>-509.060146</td>\n",
       "    </tr>\n",
       "    <tr>\n",
       "      <th>19420</th>\n",
       "      <td>2018-08-17 16:59:59</td>\n",
       "      <td>3.680897</td>\n",
       "      <td>12.778424</td>\n",
       "      <td>6.623745</td>\n",
       "      <td>44.636157</td>\n",
       "      <td>67.796293</td>\n",
       "      <td>9.558624</td>\n",
       "      <td>3.617360</td>\n",
       "      <td>9.210683</td>\n",
       "      <td>1.975891</td>\n",
       "      <td>111.336787</td>\n",
       "      <td>7.981744</td>\n",
       "      <td>6.660000</td>\n",
       "      <td>0.659512</td>\n",
       "      <td>7.278378</td>\n",
       "      <td>13.039313</td>\n",
       "      <td>7.730468</td>\n",
       "      <td>30.898004</td>\n",
       "      <td>22.071484</td>\n",
       "      <td>6.282320</td>\n",
       "      <td>4.280299</td>\n",
       "      <td>3.156794</td>\n",
       "      <td>1651.326284</td>\n",
       "      <td>-399.878826</td>\n",
       "      <td>1649.375947</td>\n",
       "      <td>-399.827594</td>\n",
       "      <td>1649.519493</td>\n",
       "      <td>-400.578727</td>\n",
       "      <td>1649.677354</td>\n",
       "      <td>-399.149192</td>\n",
       "      <td>41957.639706</td>\n",
       "      <td>2503.830982</td>\n",
       "      <td>2503.353793</td>\n",
       "      <td>1.091276</td>\n",
       "      <td>6.367655</td>\n",
       "      <td>5.143115</td>\n",
       "      <td>539.505358</td>\n",
       "      <td>76.736229</td>\n",
       "      <td>37.056661</td>\n",
       "      <td>5.612559</td>\n",
       "      <td>7.469923</td>\n",
       "      <td>9.000133</td>\n",
       "      <td>7.470929</td>\n",
       "      <td>8.998936</td>\n",
       "      <td>11.253180</td>\n",
       "      <td>11.615797</td>\n",
       "      <td>29.765601</td>\n",
       "      <td>18.311183</td>\n",
       "      <td>90.384753</td>\n",
       "      <td>4.168361</td>\n",
       "      <td>0.604370</td>\n",
       "      <td>15.030256</td>\n",
       "      <td>0.746459</td>\n",
       "      <td>1199.405551</td>\n",
       "      <td>-300.218487</td>\n",
       "      <td>1149.919618</td>\n",
       "      <td>-500.239756</td>\n",
       "      <td>1049.791661</td>\n",
       "      <td>-500.087268</td>\n",
       "      <td>950.606498</td>\n",
       "      <td>-500.092256</td>\n",
       "      <td>850.000363</td>\n",
       "      <td>-500.284130</td>\n",
       "      <td>849.399947</td>\n",
       "      <td>-500.054695</td>\n",
       "      <td>16.578715</td>\n",
       "      <td>12.827148</td>\n",
       "      <td>0.832636</td>\n",
       "      <td>4.869462</td>\n",
       "      <td>35.008874</td>\n",
       "      <td>-500.282611</td>\n",
       "      <td>30.077853</td>\n",
       "      <td>-500.080473</td>\n",
       "      <td>26.051994</td>\n",
       "      <td>-500.454889</td>\n",
       "      <td>23.013116</td>\n",
       "      <td>-499.971482</td>\n",
       "      <td>23.022083</td>\n",
       "      <td>-501.108490</td>\n",
       "      <td>20.018146</td>\n",
       "      <td>-500.739493</td>\n",
       "      <td>17.998088</td>\n",
       "      <td>-500.267224</td>\n",
       "      <td>12.995547</td>\n",
       "      <td>-500.179650</td>\n",
       "      <td>19.985572</td>\n",
       "      <td>-501.375774</td>\n",
       "    </tr>\n",
       "    <tr>\n",
       "      <th>19421</th>\n",
       "      <td>2018-08-17 17:59:59</td>\n",
       "      <td>3.500876</td>\n",
       "      <td>12.522030</td>\n",
       "      <td>6.666484</td>\n",
       "      <td>45.068492</td>\n",
       "      <td>63.082720</td>\n",
       "      <td>9.012745</td>\n",
       "      <td>3.513789</td>\n",
       "      <td>10.392631</td>\n",
       "      <td>2.047201</td>\n",
       "      <td>108.080163</td>\n",
       "      <td>7.970121</td>\n",
       "      <td>6.660000</td>\n",
       "      <td>0.774909</td>\n",
       "      <td>6.723180</td>\n",
       "      <td>13.105695</td>\n",
       "      <td>7.979863</td>\n",
       "      <td>32.432209</td>\n",
       "      <td>22.101497</td>\n",
       "      <td>6.437497</td>\n",
       "      <td>4.543611</td>\n",
       "      <td>3.462451</td>\n",
       "      <td>1652.660845</td>\n",
       "      <td>-399.702218</td>\n",
       "      <td>1651.203128</td>\n",
       "      <td>-400.291472</td>\n",
       "      <td>1651.924848</td>\n",
       "      <td>-398.058033</td>\n",
       "      <td>1650.782696</td>\n",
       "      <td>-399.597977</td>\n",
       "      <td>42143.655118</td>\n",
       "      <td>2518.384030</td>\n",
       "      <td>2519.316168</td>\n",
       "      <td>1.079240</td>\n",
       "      <td>6.084374</td>\n",
       "      <td>4.768124</td>\n",
       "      <td>539.713765</td>\n",
       "      <td>77.984784</td>\n",
       "      <td>36.808874</td>\n",
       "      <td>5.145949</td>\n",
       "      <td>6.927072</td>\n",
       "      <td>8.955597</td>\n",
       "      <td>6.929364</td>\n",
       "      <td>8.920717</td>\n",
       "      <td>11.374600</td>\n",
       "      <td>11.490951</td>\n",
       "      <td>29.869018</td>\n",
       "      <td>18.260411</td>\n",
       "      <td>88.478959</td>\n",
       "      <td>4.205933</td>\n",
       "      <td>0.627657</td>\n",
       "      <td>15.233675</td>\n",
       "      <td>0.789796</td>\n",
       "      <td>1199.292489</td>\n",
       "      <td>-299.778385</td>\n",
       "      <td>1152.512559</td>\n",
       "      <td>-500.338106</td>\n",
       "      <td>1052.601592</td>\n",
       "      <td>-499.695075</td>\n",
       "      <td>955.171539</td>\n",
       "      <td>-500.294989</td>\n",
       "      <td>851.957342</td>\n",
       "      <td>-499.779541</td>\n",
       "      <td>850.765662</td>\n",
       "      <td>-501.030559</td>\n",
       "      <td>16.282560</td>\n",
       "      <td>13.101025</td>\n",
       "      <td>0.609960</td>\n",
       "      <td>5.510263</td>\n",
       "      <td>35.038256</td>\n",
       "      <td>-500.102649</td>\n",
       "      <td>30.066959</td>\n",
       "      <td>-500.211499</td>\n",
       "      <td>26.013515</td>\n",
       "      <td>-500.054597</td>\n",
       "      <td>22.988928</td>\n",
       "      <td>-499.981410</td>\n",
       "      <td>23.032807</td>\n",
       "      <td>-501.287889</td>\n",
       "      <td>19.977466</td>\n",
       "      <td>-500.159903</td>\n",
       "      <td>17.980463</td>\n",
       "      <td>-500.504602</td>\n",
       "      <td>12.949071</td>\n",
       "      <td>-500.009937</td>\n",
       "      <td>20.010332</td>\n",
       "      <td>-508.337973</td>\n",
       "    </tr>\n",
       "    <tr>\n",
       "      <th>19422</th>\n",
       "      <td>2018-08-17 18:59:59</td>\n",
       "      <td>3.163108</td>\n",
       "      <td>11.384970</td>\n",
       "      <td>6.263301</td>\n",
       "      <td>42.962557</td>\n",
       "      <td>56.137031</td>\n",
       "      <td>8.409223</td>\n",
       "      <td>3.245894</td>\n",
       "      <td>9.343320</td>\n",
       "      <td>2.058186</td>\n",
       "      <td>98.209466</td>\n",
       "      <td>7.980342</td>\n",
       "      <td>6.466667</td>\n",
       "      <td>1.004989</td>\n",
       "      <td>6.381755</td>\n",
       "      <td>12.039587</td>\n",
       "      <td>7.791816</td>\n",
       "      <td>30.857716</td>\n",
       "      <td>20.913601</td>\n",
       "      <td>6.115773</td>\n",
       "      <td>4.038684</td>\n",
       "      <td>3.674340</td>\n",
       "      <td>1649.672742</td>\n",
       "      <td>-400.242440</td>\n",
       "      <td>1649.259588</td>\n",
       "      <td>-399.580931</td>\n",
       "      <td>1652.590371</td>\n",
       "      <td>-400.282064</td>\n",
       "      <td>1649.989293</td>\n",
       "      <td>-400.526621</td>\n",
       "      <td>42146.475684</td>\n",
       "      <td>2511.682890</td>\n",
       "      <td>2510.560269</td>\n",
       "      <td>1.014358</td>\n",
       "      <td>5.491951</td>\n",
       "      <td>4.358653</td>\n",
       "      <td>540.659299</td>\n",
       "      <td>83.856289</td>\n",
       "      <td>34.969575</td>\n",
       "      <td>4.421234</td>\n",
       "      <td>6.429040</td>\n",
       "      <td>8.994282</td>\n",
       "      <td>6.426564</td>\n",
       "      <td>9.003144</td>\n",
       "      <td>10.659928</td>\n",
       "      <td>10.845380</td>\n",
       "      <td>28.005892</td>\n",
       "      <td>17.032174</td>\n",
       "      <td>87.793594</td>\n",
       "      <td>4.117566</td>\n",
       "      <td>0.549278</td>\n",
       "      <td>15.981621</td>\n",
       "      <td>0.698965</td>\n",
       "      <td>1202.166594</td>\n",
       "      <td>-300.022766</td>\n",
       "      <td>1149.027411</td>\n",
       "      <td>-500.153563</td>\n",
       "      <td>1049.855122</td>\n",
       "      <td>-499.723735</td>\n",
       "      <td>953.510033</td>\n",
       "      <td>-499.809841</td>\n",
       "      <td>850.188331</td>\n",
       "      <td>-499.868074</td>\n",
       "      <td>849.698235</td>\n",
       "      <td>-500.410908</td>\n",
       "      <td>14.999573</td>\n",
       "      <td>12.498403</td>\n",
       "      <td>0.703719</td>\n",
       "      <td>6.340453</td>\n",
       "      <td>34.991783</td>\n",
       "      <td>-500.397999</td>\n",
       "      <td>30.027288</td>\n",
       "      <td>-499.860828</td>\n",
       "      <td>26.004500</td>\n",
       "      <td>-500.094587</td>\n",
       "      <td>22.998002</td>\n",
       "      <td>-500.043948</td>\n",
       "      <td>22.983029</td>\n",
       "      <td>-500.471907</td>\n",
       "      <td>19.992177</td>\n",
       "      <td>-499.841426</td>\n",
       "      <td>17.995858</td>\n",
       "      <td>-499.881287</td>\n",
       "      <td>13.040699</td>\n",
       "      <td>-500.102011</td>\n",
       "      <td>19.978991</td>\n",
       "      <td>-506.154599</td>\n",
       "    </tr>\n",
       "    <tr>\n",
       "      <th>19423</th>\n",
       "      <td>2018-08-17 19:59:59</td>\n",
       "      <td>3.467581</td>\n",
       "      <td>12.198985</td>\n",
       "      <td>6.695562</td>\n",
       "      <td>45.630993</td>\n",
       "      <td>58.570570</td>\n",
       "      <td>8.694564</td>\n",
       "      <td>3.174479</td>\n",
       "      <td>9.993155</td>\n",
       "      <td>1.987334</td>\n",
       "      <td>94.374681</td>\n",
       "      <td>7.984632</td>\n",
       "      <td>6.080000</td>\n",
       "      <td>0.972557</td>\n",
       "      <td>7.654692</td>\n",
       "      <td>12.810578</td>\n",
       "      <td>8.400378</td>\n",
       "      <td>30.463994</td>\n",
       "      <td>22.247646</td>\n",
       "      <td>6.319221</td>\n",
       "      <td>3.669043</td>\n",
       "      <td>3.903720</td>\n",
       "      <td>1652.843019</td>\n",
       "      <td>-399.962773</td>\n",
       "      <td>1649.606115</td>\n",
       "      <td>-399.890043</td>\n",
       "      <td>1649.119654</td>\n",
       "      <td>-398.908968</td>\n",
       "      <td>1649.055862</td>\n",
       "      <td>-398.838869</td>\n",
       "      <td>42813.394867</td>\n",
       "      <td>2503.564166</td>\n",
       "      <td>2503.812254</td>\n",
       "      <td>0.991771</td>\n",
       "      <td>5.824127</td>\n",
       "      <td>4.556183</td>\n",
       "      <td>539.403965</td>\n",
       "      <td>82.395217</td>\n",
       "      <td>37.171760</td>\n",
       "      <td>4.518689</td>\n",
       "      <td>6.053601</td>\n",
       "      <td>8.630881</td>\n",
       "      <td>6.053477</td>\n",
       "      <td>8.544054</td>\n",
       "      <td>11.467013</td>\n",
       "      <td>11.785651</td>\n",
       "      <td>29.613255</td>\n",
       "      <td>17.998415</td>\n",
       "      <td>90.466483</td>\n",
       "      <td>3.946942</td>\n",
       "      <td>0.540102</td>\n",
       "      <td>16.477907</td>\n",
       "      <td>0.557387</td>\n",
       "      <td>1199.337928</td>\n",
       "      <td>-300.060055</td>\n",
       "      <td>1151.754713</td>\n",
       "      <td>-499.615403</td>\n",
       "      <td>1050.657337</td>\n",
       "      <td>-499.732921</td>\n",
       "      <td>941.182622</td>\n",
       "      <td>-500.103851</td>\n",
       "      <td>849.722351</td>\n",
       "      <td>-500.264534</td>\n",
       "      <td>849.231466</td>\n",
       "      <td>-499.479767</td>\n",
       "      <td>16.484125</td>\n",
       "      <td>12.855712</td>\n",
       "      <td>0.942621</td>\n",
       "      <td>6.408357</td>\n",
       "      <td>34.973300</td>\n",
       "      <td>-499.165345</td>\n",
       "      <td>30.068738</td>\n",
       "      <td>-499.331838</td>\n",
       "      <td>25.977254</td>\n",
       "      <td>-500.072258</td>\n",
       "      <td>23.015823</td>\n",
       "      <td>-500.284572</td>\n",
       "      <td>23.038847</td>\n",
       "      <td>-501.385545</td>\n",
       "      <td>20.031048</td>\n",
       "      <td>-500.151459</td>\n",
       "      <td>17.998732</td>\n",
       "      <td>-500.375117</td>\n",
       "      <td>13.022033</td>\n",
       "      <td>-500.018178</td>\n",
       "      <td>20.004434</td>\n",
       "      <td>-507.317080</td>\n",
       "    </tr>\n",
       "    <tr>\n",
       "      <th>19424</th>\n",
       "      <td>2018-08-17 20:59:59</td>\n",
       "      <td>3.690737</td>\n",
       "      <td>12.546410</td>\n",
       "      <td>6.486781</td>\n",
       "      <td>44.837728</td>\n",
       "      <td>51.168934</td>\n",
       "      <td>8.764530</td>\n",
       "      <td>3.226070</td>\n",
       "      <td>9.722573</td>\n",
       "      <td>2.114178</td>\n",
       "      <td>92.387927</td>\n",
       "      <td>7.994911</td>\n",
       "      <td>6.066667</td>\n",
       "      <td>1.254427</td>\n",
       "      <td>6.576096</td>\n",
       "      <td>12.518923</td>\n",
       "      <td>6.874945</td>\n",
       "      <td>32.510852</td>\n",
       "      <td>22.471642</td>\n",
       "      <td>6.546969</td>\n",
       "      <td>3.638378</td>\n",
       "      <td>4.320648</td>\n",
       "      <td>1649.402813</td>\n",
       "      <td>-400.073386</td>\n",
       "      <td>1649.459080</td>\n",
       "      <td>-400.558233</td>\n",
       "      <td>1650.555095</td>\n",
       "      <td>-400.803280</td>\n",
       "      <td>1650.729405</td>\n",
       "      <td>-400.683849</td>\n",
       "      <td>44146.766229</td>\n",
       "      <td>2509.370081</td>\n",
       "      <td>2509.205831</td>\n",
       "      <td>0.976453</td>\n",
       "      <td>5.729293</td>\n",
       "      <td>4.225217</td>\n",
       "      <td>540.561050</td>\n",
       "      <td>78.393221</td>\n",
       "      <td>37.209750</td>\n",
       "      <td>4.125726</td>\n",
       "      <td>5.538614</td>\n",
       "      <td>9.004429</td>\n",
       "      <td>5.537430</td>\n",
       "      <td>8.996390</td>\n",
       "      <td>11.651589</td>\n",
       "      <td>11.664664</td>\n",
       "      <td>29.664556</td>\n",
       "      <td>18.031260</td>\n",
       "      <td>90.577495</td>\n",
       "      <td>3.907190</td>\n",
       "      <td>0.515658</td>\n",
       "      <td>16.973116</td>\n",
       "      <td>0.490377</td>\n",
       "      <td>1201.488859</td>\n",
       "      <td>-300.092036</td>\n",
       "      <td>1149.141258</td>\n",
       "      <td>-499.678998</td>\n",
       "      <td>1048.820883</td>\n",
       "      <td>-500.060648</td>\n",
       "      <td>949.499877</td>\n",
       "      <td>-499.242816</td>\n",
       "      <td>850.132617</td>\n",
       "      <td>-500.216717</td>\n",
       "      <td>850.302712</td>\n",
       "      <td>-499.215592</td>\n",
       "      <td>16.197416</td>\n",
       "      <td>12.896107</td>\n",
       "      <td>0.274862</td>\n",
       "      <td>6.564722</td>\n",
       "      <td>34.896136</td>\n",
       "      <td>-500.583360</td>\n",
       "      <td>30.001509</td>\n",
       "      <td>-500.509220</td>\n",
       "      <td>26.033281</td>\n",
       "      <td>-499.508983</td>\n",
       "      <td>22.984061</td>\n",
       "      <td>-499.994631</td>\n",
       "      <td>23.008401</td>\n",
       "      <td>-500.482103</td>\n",
       "      <td>20.026673</td>\n",
       "      <td>-500.100963</td>\n",
       "      <td>18.031864</td>\n",
       "      <td>-499.141703</td>\n",
       "      <td>12.997776</td>\n",
       "      <td>-499.967224</td>\n",
       "      <td>19.983409</td>\n",
       "      <td>-520.407546</td>\n",
       "    </tr>\n",
       "    <tr>\n",
       "      <th>19425</th>\n",
       "      <td>2018-08-17 21:59:59</td>\n",
       "      <td>3.599454</td>\n",
       "      <td>12.308172</td>\n",
       "      <td>6.512304</td>\n",
       "      <td>45.477834</td>\n",
       "      <td>59.871040</td>\n",
       "      <td>8.882691</td>\n",
       "      <td>3.036575</td>\n",
       "      <td>9.421421</td>\n",
       "      <td>1.826293</td>\n",
       "      <td>91.906045</td>\n",
       "      <td>7.968677</td>\n",
       "      <td>6.040000</td>\n",
       "      <td>1.291651</td>\n",
       "      <td>7.610781</td>\n",
       "      <td>12.434663</td>\n",
       "      <td>7.265046</td>\n",
       "      <td>30.200271</td>\n",
       "      <td>22.517510</td>\n",
       "      <td>6.304395</td>\n",
       "      <td>3.015982</td>\n",
       "      <td>3.673030</td>\n",
       "      <td>1652.365837</td>\n",
       "      <td>-400.240930</td>\n",
       "      <td>1652.317049</td>\n",
       "      <td>-399.804379</td>\n",
       "      <td>1649.907180</td>\n",
       "      <td>-401.298443</td>\n",
       "      <td>1650.614808</td>\n",
       "      <td>-399.978780</td>\n",
       "      <td>46000.146111</td>\n",
       "      <td>2488.366004</td>\n",
       "      <td>2489.086787</td>\n",
       "      <td>1.001493</td>\n",
       "      <td>5.886543</td>\n",
       "      <td>4.287400</td>\n",
       "      <td>539.570507</td>\n",
       "      <td>78.312907</td>\n",
       "      <td>36.421157</td>\n",
       "      <td>4.293801</td>\n",
       "      <td>5.721385</td>\n",
       "      <td>8.998198</td>\n",
       "      <td>5.721753</td>\n",
       "      <td>9.000801</td>\n",
       "      <td>11.713342</td>\n",
       "      <td>11.544891</td>\n",
       "      <td>29.759394</td>\n",
       "      <td>18.243537</td>\n",
       "      <td>90.989649</td>\n",
       "      <td>4.012505</td>\n",
       "      <td>0.474320</td>\n",
       "      <td>16.950894</td>\n",
       "      <td>0.492318</td>\n",
       "      <td>1199.283969</td>\n",
       "      <td>-299.960242</td>\n",
       "      <td>1148.971487</td>\n",
       "      <td>-500.472039</td>\n",
       "      <td>1048.141264</td>\n",
       "      <td>-499.905768</td>\n",
       "      <td>951.163287</td>\n",
       "      <td>-500.325469</td>\n",
       "      <td>849.871895</td>\n",
       "      <td>-499.941902</td>\n",
       "      <td>849.708337</td>\n",
       "      <td>-501.895577</td>\n",
       "      <td>16.725339</td>\n",
       "      <td>12.598838</td>\n",
       "      <td>NaN</td>\n",
       "      <td>5.204622</td>\n",
       "      <td>34.923976</td>\n",
       "      <td>-501.328421</td>\n",
       "      <td>29.920564</td>\n",
       "      <td>-500.203885</td>\n",
       "      <td>25.981553</td>\n",
       "      <td>-500.570435</td>\n",
       "      <td>22.961685</td>\n",
       "      <td>-500.171430</td>\n",
       "      <td>22.988173</td>\n",
       "      <td>-500.989518</td>\n",
       "      <td>20.005718</td>\n",
       "      <td>-500.154032</td>\n",
       "      <td>17.987716</td>\n",
       "      <td>-501.022243</td>\n",
       "      <td>13.020843</td>\n",
       "      <td>-500.218430</td>\n",
       "      <td>20.011456</td>\n",
       "      <td>-499.842173</td>\n",
       "    </tr>\n",
       "    <tr>\n",
       "      <th>19426</th>\n",
       "      <td>2018-08-17 22:59:59</td>\n",
       "      <td>3.540800</td>\n",
       "      <td>12.423927</td>\n",
       "      <td>6.702631</td>\n",
       "      <td>45.323979</td>\n",
       "      <td>70.477689</td>\n",
       "      <td>8.866079</td>\n",
       "      <td>2.816357</td>\n",
       "      <td>9.838458</td>\n",
       "      <td>1.439220</td>\n",
       "      <td>101.341013</td>\n",
       "      <td>7.917487</td>\n",
       "      <td>6.040000</td>\n",
       "      <td>1.281787</td>\n",
       "      <td>7.404078</td>\n",
       "      <td>12.618266</td>\n",
       "      <td>7.251474</td>\n",
       "      <td>30.625624</td>\n",
       "      <td>22.864823</td>\n",
       "      <td>6.308930</td>\n",
       "      <td>3.051909</td>\n",
       "      <td>2.882679</td>\n",
       "      <td>1652.623536</td>\n",
       "      <td>-399.579910</td>\n",
       "      <td>1649.637851</td>\n",
       "      <td>-400.214559</td>\n",
       "      <td>1647.758528</td>\n",
       "      <td>-399.745368</td>\n",
       "      <td>1649.043905</td>\n",
       "      <td>-399.522963</td>\n",
       "      <td>47899.294619</td>\n",
       "      <td>2488.017397</td>\n",
       "      <td>2488.434922</td>\n",
       "      <td>1.023785</td>\n",
       "      <td>6.017651</td>\n",
       "      <td>4.426232</td>\n",
       "      <td>540.406542</td>\n",
       "      <td>81.105992</td>\n",
       "      <td>38.242356</td>\n",
       "      <td>4.531511</td>\n",
       "      <td>6.104409</td>\n",
       "      <td>8.995350</td>\n",
       "      <td>6.104624</td>\n",
       "      <td>9.001988</td>\n",
       "      <td>11.745437</td>\n",
       "      <td>11.366487</td>\n",
       "      <td>29.892366</td>\n",
       "      <td>18.221587</td>\n",
       "      <td>91.245717</td>\n",
       "      <td>4.116838</td>\n",
       "      <td>0.466360</td>\n",
       "      <td>17.189575</td>\n",
       "      <td>0.513143</td>\n",
       "      <td>1197.333752</td>\n",
       "      <td>-300.164875</td>\n",
       "      <td>1149.718263</td>\n",
       "      <td>-500.105474</td>\n",
       "      <td>1048.991268</td>\n",
       "      <td>-500.630333</td>\n",
       "      <td>948.160245</td>\n",
       "      <td>-499.899248</td>\n",
       "      <td>849.732961</td>\n",
       "      <td>-499.802533</td>\n",
       "      <td>849.945291</td>\n",
       "      <td>-500.398744</td>\n",
       "      <td>17.243332</td>\n",
       "      <td>12.286579</td>\n",
       "      <td>NaN</td>\n",
       "      <td>3.721288</td>\n",
       "      <td>34.913783</td>\n",
       "      <td>-499.972623</td>\n",
       "      <td>29.976915</td>\n",
       "      <td>-499.776570</td>\n",
       "      <td>25.945855</td>\n",
       "      <td>-499.583424</td>\n",
       "      <td>22.980280</td>\n",
       "      <td>-500.048126</td>\n",
       "      <td>23.036427</td>\n",
       "      <td>-500.990672</td>\n",
       "      <td>20.023346</td>\n",
       "      <td>-500.147796</td>\n",
       "      <td>18.010037</td>\n",
       "      <td>-500.299851</td>\n",
       "      <td>12.982786</td>\n",
       "      <td>-500.097885</td>\n",
       "      <td>20.003557</td>\n",
       "      <td>-506.135132</td>\n",
       "    </tr>\n",
       "    <tr>\n",
       "      <th>19427</th>\n",
       "      <td>2018-08-17 23:59:59</td>\n",
       "      <td>3.573966</td>\n",
       "      <td>12.199649</td>\n",
       "      <td>6.584768</td>\n",
       "      <td>45.440494</td>\n",
       "      <td>74.594019</td>\n",
       "      <td>9.042359</td>\n",
       "      <td>2.980534</td>\n",
       "      <td>9.737694</td>\n",
       "      <td>1.455128</td>\n",
       "      <td>111.053703</td>\n",
       "      <td>8.004520</td>\n",
       "      <td>6.240000</td>\n",
       "      <td>1.285999</td>\n",
       "      <td>7.346926</td>\n",
       "      <td>12.387421</td>\n",
       "      <td>6.848893</td>\n",
       "      <td>30.714633</td>\n",
       "      <td>23.001127</td>\n",
       "      <td>6.356377</td>\n",
       "      <td>3.134771</td>\n",
       "      <td>2.576175</td>\n",
       "      <td>1649.979836</td>\n",
       "      <td>-400.098864</td>\n",
       "      <td>1649.714509</td>\n",
       "      <td>-399.513947</td>\n",
       "      <td>1649.557408</td>\n",
       "      <td>-400.776757</td>\n",
       "      <td>1650.503802</td>\n",
       "      <td>-400.731683</td>\n",
       "      <td>47703.305705</td>\n",
       "      <td>2479.455193</td>\n",
       "      <td>2477.646461</td>\n",
       "      <td>1.066710</td>\n",
       "      <td>6.085168</td>\n",
       "      <td>4.907868</td>\n",
       "      <td>539.940703</td>\n",
       "      <td>80.963233</td>\n",
       "      <td>37.571166</td>\n",
       "      <td>5.235274</td>\n",
       "      <td>7.119301</td>\n",
       "      <td>8.991273</td>\n",
       "      <td>7.115128</td>\n",
       "      <td>8.998376</td>\n",
       "      <td>11.308509</td>\n",
       "      <td>11.415062</td>\n",
       "      <td>29.631281</td>\n",
       "      <td>18.205040</td>\n",
       "      <td>90.954901</td>\n",
       "      <td>4.212634</td>\n",
       "      <td>0.536411</td>\n",
       "      <td>16.974401</td>\n",
       "      <td>0.641266</td>\n",
       "      <td>1199.283008</td>\n",
       "      <td>-300.103086</td>\n",
       "      <td>1151.771815</td>\n",
       "      <td>-499.817654</td>\n",
       "      <td>1050.303096</td>\n",
       "      <td>-499.675907</td>\n",
       "      <td>950.756793</td>\n",
       "      <td>-499.706288</td>\n",
       "      <td>850.528828</td>\n",
       "      <td>-499.980762</td>\n",
       "      <td>850.351206</td>\n",
       "      <td>-498.969103</td>\n",
       "      <td>17.137556</td>\n",
       "      <td>12.527319</td>\n",
       "      <td>NaN</td>\n",
       "      <td>3.031301</td>\n",
       "      <td>34.937995</td>\n",
       "      <td>-498.616792</td>\n",
       "      <td>29.941616</td>\n",
       "      <td>-499.996881</td>\n",
       "      <td>26.035841</td>\n",
       "      <td>-499.999451</td>\n",
       "      <td>22.948806</td>\n",
       "      <td>-500.027338</td>\n",
       "      <td>23.011485</td>\n",
       "      <td>-500.714430</td>\n",
       "      <td>20.058045</td>\n",
       "      <td>-499.066195</td>\n",
       "      <td>17.990312</td>\n",
       "      <td>-499.278862</td>\n",
       "      <td>13.002126</td>\n",
       "      <td>-499.724599</td>\n",
       "      <td>20.004410</td>\n",
       "      <td>-500.347623</td>\n",
       "    </tr>\n",
       "    <tr>\n",
       "      <th>19428</th>\n",
       "      <td>2018-08-18 00:59:59</td>\n",
       "      <td>3.525247</td>\n",
       "      <td>12.121578</td>\n",
       "      <td>6.605982</td>\n",
       "      <td>45.785582</td>\n",
       "      <td>75.185602</td>\n",
       "      <td>9.041052</td>\n",
       "      <td>3.208360</td>\n",
       "      <td>9.792629</td>\n",
       "      <td>1.534906</td>\n",
       "      <td>127.007820</td>\n",
       "      <td>7.970326</td>\n",
       "      <td>6.240000</td>\n",
       "      <td>1.285490</td>\n",
       "      <td>7.105218</td>\n",
       "      <td>12.629375</td>\n",
       "      <td>6.984734</td>\n",
       "      <td>31.480333</td>\n",
       "      <td>22.732062</td>\n",
       "      <td>6.373961</td>\n",
       "      <td>3.657784</td>\n",
       "      <td>2.362253</td>\n",
       "      <td>1647.218711</td>\n",
       "      <td>-399.708145</td>\n",
       "      <td>1648.401594</td>\n",
       "      <td>-400.608887</td>\n",
       "      <td>1649.739466</td>\n",
       "      <td>-399.690006</td>\n",
       "      <td>1650.660653</td>\n",
       "      <td>-399.372453</td>\n",
       "      <td>47759.460187</td>\n",
       "      <td>2494.313150</td>\n",
       "      <td>2495.445414</td>\n",
       "      <td>1.122375</td>\n",
       "      <td>6.135752</td>\n",
       "      <td>5.002952</td>\n",
       "      <td>539.820229</td>\n",
       "      <td>80.434254</td>\n",
       "      <td>36.698724</td>\n",
       "      <td>5.615186</td>\n",
       "      <td>7.760323</td>\n",
       "      <td>9.018925</td>\n",
       "      <td>7.763807</td>\n",
       "      <td>9.002704</td>\n",
       "      <td>8.974101</td>\n",
       "      <td>10.589476</td>\n",
       "      <td>25.531901</td>\n",
       "      <td>17.149374</td>\n",
       "      <td>91.675070</td>\n",
       "      <td>4.152521</td>\n",
       "      <td>0.580449</td>\n",
       "      <td>16.480686</td>\n",
       "      <td>0.667963</td>\n",
       "      <td>1198.874750</td>\n",
       "      <td>-300.082852</td>\n",
       "      <td>1150.891634</td>\n",
       "      <td>-500.522824</td>\n",
       "      <td>1052.065334</td>\n",
       "      <td>-500.176105</td>\n",
       "      <td>953.527898</td>\n",
       "      <td>-499.847032</td>\n",
       "      <td>850.971686</td>\n",
       "      <td>-500.459497</td>\n",
       "      <td>850.442347</td>\n",
       "      <td>-501.220087</td>\n",
       "      <td>16.964984</td>\n",
       "      <td>12.856960</td>\n",
       "      <td>NaN</td>\n",
       "      <td>3.130333</td>\n",
       "      <td>34.941947</td>\n",
       "      <td>-499.814729</td>\n",
       "      <td>30.057878</td>\n",
       "      <td>-499.831294</td>\n",
       "      <td>25.992952</td>\n",
       "      <td>-500.231500</td>\n",
       "      <td>22.968326</td>\n",
       "      <td>-499.879700</td>\n",
       "      <td>23.035611</td>\n",
       "      <td>-501.134671</td>\n",
       "      <td>19.984883</td>\n",
       "      <td>-501.051735</td>\n",
       "      <td>17.948892</td>\n",
       "      <td>-500.147451</td>\n",
       "      <td>13.009772</td>\n",
       "      <td>-500.081309</td>\n",
       "      <td>20.012084</td>\n",
       "      <td>-501.651764</td>\n",
       "    </tr>\n",
       "    <tr>\n",
       "      <th>19429</th>\n",
       "      <td>2018-08-18 01:59:59</td>\n",
       "      <td>3.236759</td>\n",
       "      <td>11.692898</td>\n",
       "      <td>6.745979</td>\n",
       "      <td>46.225130</td>\n",
       "      <td>73.265872</td>\n",
       "      <td>8.895144</td>\n",
       "      <td>3.425167</td>\n",
       "      <td>10.118103</td>\n",
       "      <td>1.611159</td>\n",
       "      <td>132.723539</td>\n",
       "      <td>8.003791</td>\n",
       "      <td>6.283333</td>\n",
       "      <td>1.148652</td>\n",
       "      <td>6.250206</td>\n",
       "      <td>12.671935</td>\n",
       "      <td>6.968363</td>\n",
       "      <td>33.543341</td>\n",
       "      <td>22.636772</td>\n",
       "      <td>6.610989</td>\n",
       "      <td>4.281521</td>\n",
       "      <td>2.332941</td>\n",
       "      <td>1647.735565</td>\n",
       "      <td>-400.061136</td>\n",
       "      <td>1649.457537</td>\n",
       "      <td>-399.456945</td>\n",
       "      <td>1650.385133</td>\n",
       "      <td>-399.375007</td>\n",
       "      <td>1649.409465</td>\n",
       "      <td>-400.605830</td>\n",
       "      <td>47996.497221</td>\n",
       "      <td>2498.160551</td>\n",
       "      <td>2498.390499</td>\n",
       "      <td>1.125554</td>\n",
       "      <td>5.991053</td>\n",
       "      <td>4.887487</td>\n",
       "      <td>547.273785</td>\n",
       "      <td>82.210677</td>\n",
       "      <td>37.663932</td>\n",
       "      <td>5.501130</td>\n",
       "      <td>7.713332</td>\n",
       "      <td>8.902892</td>\n",
       "      <td>7.713595</td>\n",
       "      <td>8.541827</td>\n",
       "      <td>9.578575</td>\n",
       "      <td>10.321667</td>\n",
       "      <td>27.501761</td>\n",
       "      <td>17.200572</td>\n",
       "      <td>90.732567</td>\n",
       "      <td>4.131306</td>\n",
       "      <td>0.603649</td>\n",
       "      <td>15.991752</td>\n",
       "      <td>0.718232</td>\n",
       "      <td>1201.841545</td>\n",
       "      <td>-299.984514</td>\n",
       "      <td>1149.184639</td>\n",
       "      <td>-499.994347</td>\n",
       "      <td>1048.740007</td>\n",
       "      <td>-500.024919</td>\n",
       "      <td>957.358660</td>\n",
       "      <td>-499.664991</td>\n",
       "      <td>849.596840</td>\n",
       "      <td>-500.389175</td>\n",
       "      <td>850.254354</td>\n",
       "      <td>-500.049111</td>\n",
       "      <td>8.967923</td>\n",
       "      <td>7.093982</td>\n",
       "      <td>NaN</td>\n",
       "      <td>1.615687</td>\n",
       "      <td>34.960260</td>\n",
       "      <td>-501.279042</td>\n",
       "      <td>30.000837</td>\n",
       "      <td>-500.309952</td>\n",
       "      <td>26.005410</td>\n",
       "      <td>-499.896222</td>\n",
       "      <td>23.016695</td>\n",
       "      <td>-499.961916</td>\n",
       "      <td>23.015413</td>\n",
       "      <td>-501.287519</td>\n",
       "      <td>20.057415</td>\n",
       "      <td>-499.600478</td>\n",
       "      <td>17.985857</td>\n",
       "      <td>-500.239983</td>\n",
       "      <td>12.974452</td>\n",
       "      <td>-499.879930</td>\n",
       "      <td>19.988701</td>\n",
       "      <td>-501.037332</td>\n",
       "    </tr>\n",
       "    <tr>\n",
       "      <th>19430</th>\n",
       "      <td>2018-08-18 02:59:59</td>\n",
       "      <td>3.187398</td>\n",
       "      <td>11.423128</td>\n",
       "      <td>6.790500</td>\n",
       "      <td>46.801679</td>\n",
       "      <td>68.369674</td>\n",
       "      <td>9.043962</td>\n",
       "      <td>3.629573</td>\n",
       "      <td>10.037518</td>\n",
       "      <td>1.838214</td>\n",
       "      <td>132.726374</td>\n",
       "      <td>8.009750</td>\n",
       "      <td>6.500000</td>\n",
       "      <td>1.230668</td>\n",
       "      <td>5.899632</td>\n",
       "      <td>12.568309</td>\n",
       "      <td>7.641505</td>\n",
       "      <td>34.956030</td>\n",
       "      <td>22.946631</td>\n",
       "      <td>6.975321</td>\n",
       "      <td>4.347714</td>\n",
       "      <td>2.875382</td>\n",
       "      <td>1648.023813</td>\n",
       "      <td>-399.457524</td>\n",
       "      <td>1649.909661</td>\n",
       "      <td>-400.627000</td>\n",
       "      <td>1649.530874</td>\n",
       "      <td>-399.898857</td>\n",
       "      <td>1649.360905</td>\n",
       "      <td>-400.181248</td>\n",
       "      <td>47996.597285</td>\n",
       "      <td>2505.007286</td>\n",
       "      <td>2505.376866</td>\n",
       "      <td>1.112634</td>\n",
       "      <td>6.064047</td>\n",
       "      <td>4.814499</td>\n",
       "      <td>560.225154</td>\n",
       "      <td>85.757347</td>\n",
       "      <td>37.523378</td>\n",
       "      <td>5.356778</td>\n",
       "      <td>7.773575</td>\n",
       "      <td>8.986931</td>\n",
       "      <td>7.774479</td>\n",
       "      <td>8.999780</td>\n",
       "      <td>10.979841</td>\n",
       "      <td>11.454703</td>\n",
       "      <td>30.242922</td>\n",
       "      <td>18.551582</td>\n",
       "      <td>89.946627</td>\n",
       "      <td>4.141503</td>\n",
       "      <td>0.599991</td>\n",
       "      <td>15.978496</td>\n",
       "      <td>0.727478</td>\n",
       "      <td>1199.084276</td>\n",
       "      <td>-300.148928</td>\n",
       "      <td>1149.854843</td>\n",
       "      <td>-499.752986</td>\n",
       "      <td>1052.176004</td>\n",
       "      <td>-499.894254</td>\n",
       "      <td>944.653141</td>\n",
       "      <td>-500.416078</td>\n",
       "      <td>850.038455</td>\n",
       "      <td>-500.706533</td>\n",
       "      <td>849.697769</td>\n",
       "      <td>-499.617680</td>\n",
       "      <td>0.000000</td>\n",
       "      <td>0.000000</td>\n",
       "      <td>0.000000</td>\n",
       "      <td>0.000000</td>\n",
       "      <td>34.997070</td>\n",
       "      <td>-498.618024</td>\n",
       "      <td>30.002182</td>\n",
       "      <td>-506.845938</td>\n",
       "      <td>25.996285</td>\n",
       "      <td>-500.121249</td>\n",
       "      <td>23.001768</td>\n",
       "      <td>-500.120533</td>\n",
       "      <td>23.017115</td>\n",
       "      <td>-501.665249</td>\n",
       "      <td>20.044418</td>\n",
       "      <td>-500.415095</td>\n",
       "      <td>18.026001</td>\n",
       "      <td>-499.866058</td>\n",
       "      <td>13.001740</td>\n",
       "      <td>-499.914235</td>\n",
       "      <td>20.005963</td>\n",
       "      <td>-500.767097</td>\n",
       "    </tr>\n",
       "    <tr>\n",
       "      <th>19431</th>\n",
       "      <td>2018-08-18 03:59:59</td>\n",
       "      <td>2.925574</td>\n",
       "      <td>10.855586</td>\n",
       "      <td>7.053796</td>\n",
       "      <td>47.765393</td>\n",
       "      <td>64.054699</td>\n",
       "      <td>8.578502</td>\n",
       "      <td>3.365823</td>\n",
       "      <td>10.603464</td>\n",
       "      <td>1.761994</td>\n",
       "      <td>125.423263</td>\n",
       "      <td>8.014263</td>\n",
       "      <td>6.500000</td>\n",
       "      <td>1.338973</td>\n",
       "      <td>6.372520</td>\n",
       "      <td>12.879280</td>\n",
       "      <td>7.756028</td>\n",
       "      <td>33.493651</td>\n",
       "      <td>22.974292</td>\n",
       "      <td>6.868943</td>\n",
       "      <td>4.315335</td>\n",
       "      <td>2.581269</td>\n",
       "      <td>1648.628464</td>\n",
       "      <td>-400.254719</td>\n",
       "      <td>1649.423778</td>\n",
       "      <td>-399.892993</td>\n",
       "      <td>1648.461910</td>\n",
       "      <td>-400.079787</td>\n",
       "      <td>1649.980440</td>\n",
       "      <td>-399.801181</td>\n",
       "      <td>48310.254419</td>\n",
       "      <td>2524.316705</td>\n",
       "      <td>2524.130891</td>\n",
       "      <td>1.080830</td>\n",
       "      <td>5.822083</td>\n",
       "      <td>4.255546</td>\n",
       "      <td>559.895089</td>\n",
       "      <td>85.247019</td>\n",
       "      <td>37.480479</td>\n",
       "      <td>4.599524</td>\n",
       "      <td>6.775864</td>\n",
       "      <td>9.005425</td>\n",
       "      <td>6.775291</td>\n",
       "      <td>9.000862</td>\n",
       "      <td>11.351051</td>\n",
       "      <td>11.247837</td>\n",
       "      <td>29.858813</td>\n",
       "      <td>18.162221</td>\n",
       "      <td>87.684717</td>\n",
       "      <td>4.116153</td>\n",
       "      <td>0.618130</td>\n",
       "      <td>16.383667</td>\n",
       "      <td>0.728133</td>\n",
       "      <td>1200.454685</td>\n",
       "      <td>-300.012582</td>\n",
       "      <td>1150.627632</td>\n",
       "      <td>-500.007240</td>\n",
       "      <td>1052.213299</td>\n",
       "      <td>-499.814928</td>\n",
       "      <td>947.090150</td>\n",
       "      <td>-499.963329</td>\n",
       "      <td>850.209399</td>\n",
       "      <td>-499.970349</td>\n",
       "      <td>850.139876</td>\n",
       "      <td>-498.721100</td>\n",
       "      <td>0.000000</td>\n",
       "      <td>0.000000</td>\n",
       "      <td>0.000000</td>\n",
       "      <td>0.000000</td>\n",
       "      <td>35.096512</td>\n",
       "      <td>-501.110562</td>\n",
       "      <td>29.933276</td>\n",
       "      <td>-500.291576</td>\n",
       "      <td>25.996427</td>\n",
       "      <td>-500.158269</td>\n",
       "      <td>23.033562</td>\n",
       "      <td>-499.972253</td>\n",
       "      <td>23.030949</td>\n",
       "      <td>-501.196721</td>\n",
       "      <td>20.034440</td>\n",
       "      <td>-499.842047</td>\n",
       "      <td>18.001504</td>\n",
       "      <td>-499.872052</td>\n",
       "      <td>12.998309</td>\n",
       "      <td>-500.027809</td>\n",
       "      <td>20.007108</td>\n",
       "      <td>-500.850685</td>\n",
       "    </tr>\n",
       "    <tr>\n",
       "      <th>19432</th>\n",
       "      <td>2018-08-18 04:59:59</td>\n",
       "      <td>3.076566</td>\n",
       "      <td>11.542302</td>\n",
       "      <td>6.929418</td>\n",
       "      <td>46.956275</td>\n",
       "      <td>68.643324</td>\n",
       "      <td>8.792890</td>\n",
       "      <td>3.120351</td>\n",
       "      <td>10.184715</td>\n",
       "      <td>1.567363</td>\n",
       "      <td>114.108530</td>\n",
       "      <td>7.961098</td>\n",
       "      <td>6.500000</td>\n",
       "      <td>1.298811</td>\n",
       "      <td>6.682350</td>\n",
       "      <td>12.681564</td>\n",
       "      <td>7.431864</td>\n",
       "      <td>32.636363</td>\n",
       "      <td>23.047492</td>\n",
       "      <td>6.673419</td>\n",
       "      <td>4.023964</td>\n",
       "      <td>2.664374</td>\n",
       "      <td>1648.754818</td>\n",
       "      <td>-400.169291</td>\n",
       "      <td>1648.508847</td>\n",
       "      <td>-399.896538</td>\n",
       "      <td>1649.692752</td>\n",
       "      <td>-400.115498</td>\n",
       "      <td>1649.423919</td>\n",
       "      <td>-400.428729</td>\n",
       "      <td>48001.534550</td>\n",
       "      <td>2489.159602</td>\n",
       "      <td>2489.526748</td>\n",
       "      <td>1.098209</td>\n",
       "      <td>5.844800</td>\n",
       "      <td>4.241564</td>\n",
       "      <td>561.464855</td>\n",
       "      <td>83.860651</td>\n",
       "      <td>37.395565</td>\n",
       "      <td>4.658125</td>\n",
       "      <td>6.770561</td>\n",
       "      <td>9.000889</td>\n",
       "      <td>6.771708</td>\n",
       "      <td>9.001694</td>\n",
       "      <td>11.466046</td>\n",
       "      <td>11.038697</td>\n",
       "      <td>29.817524</td>\n",
       "      <td>18.287758</td>\n",
       "      <td>90.677361</td>\n",
       "      <td>3.926701</td>\n",
       "      <td>0.559078</td>\n",
       "      <td>17.340650</td>\n",
       "      <td>0.564683</td>\n",
       "      <td>1200.958146</td>\n",
       "      <td>-300.013649</td>\n",
       "      <td>1149.862859</td>\n",
       "      <td>-499.856868</td>\n",
       "      <td>1049.476804</td>\n",
       "      <td>-500.085763</td>\n",
       "      <td>960.563638</td>\n",
       "      <td>-499.675142</td>\n",
       "      <td>849.797044</td>\n",
       "      <td>-500.615874</td>\n",
       "      <td>850.462226</td>\n",
       "      <td>-500.703846</td>\n",
       "      <td>0.000000</td>\n",
       "      <td>0.000000</td>\n",
       "      <td>0.000000</td>\n",
       "      <td>0.000000</td>\n",
       "      <td>35.116645</td>\n",
       "      <td>-499.070270</td>\n",
       "      <td>29.948081</td>\n",
       "      <td>-499.964126</td>\n",
       "      <td>25.990572</td>\n",
       "      <td>-499.785781</td>\n",
       "      <td>22.963252</td>\n",
       "      <td>-499.898742</td>\n",
       "      <td>23.033246</td>\n",
       "      <td>-500.912210</td>\n",
       "      <td>19.988437</td>\n",
       "      <td>-500.125966</td>\n",
       "      <td>18.011724</td>\n",
       "      <td>-500.090861</td>\n",
       "      <td>13.007108</td>\n",
       "      <td>-500.258238</td>\n",
       "      <td>19.983872</td>\n",
       "      <td>-502.581707</td>\n",
       "    </tr>\n",
       "    <tr>\n",
       "      <th>19433</th>\n",
       "      <td>2018-08-18 05:59:59</td>\n",
       "      <td>3.192996</td>\n",
       "      <td>11.612338</td>\n",
       "      <td>6.824441</td>\n",
       "      <td>46.710119</td>\n",
       "      <td>74.817644</td>\n",
       "      <td>8.665858</td>\n",
       "      <td>2.938592</td>\n",
       "      <td>10.241498</td>\n",
       "      <td>1.393077</td>\n",
       "      <td>119.497545</td>\n",
       "      <td>8.003752</td>\n",
       "      <td>6.500000</td>\n",
       "      <td>1.259741</td>\n",
       "      <td>6.650871</td>\n",
       "      <td>12.428122</td>\n",
       "      <td>7.089553</td>\n",
       "      <td>32.763603</td>\n",
       "      <td>23.095983</td>\n",
       "      <td>6.571676</td>\n",
       "      <td>3.714114</td>\n",
       "      <td>2.523626</td>\n",
       "      <td>1647.368779</td>\n",
       "      <td>-399.788506</td>\n",
       "      <td>1648.395206</td>\n",
       "      <td>-400.166490</td>\n",
       "      <td>1648.953828</td>\n",
       "      <td>-400.468641</td>\n",
       "      <td>1649.821569</td>\n",
       "      <td>-400.071884</td>\n",
       "      <td>47344.521623</td>\n",
       "      <td>2486.372996</td>\n",
       "      <td>2484.340934</td>\n",
       "      <td>1.113408</td>\n",
       "      <td>6.082745</td>\n",
       "      <td>4.564078</td>\n",
       "      <td>558.155110</td>\n",
       "      <td>82.610855</td>\n",
       "      <td>37.208683</td>\n",
       "      <td>5.081681</td>\n",
       "      <td>7.363824</td>\n",
       "      <td>9.003562</td>\n",
       "      <td>7.358308</td>\n",
       "      <td>9.000624</td>\n",
       "      <td>11.211407</td>\n",
       "      <td>11.068714</td>\n",
       "      <td>29.796166</td>\n",
       "      <td>18.584333</td>\n",
       "      <td>91.816623</td>\n",
       "      <td>3.958529</td>\n",
       "      <td>0.546749</td>\n",
       "      <td>17.403429</td>\n",
       "      <td>0.555257</td>\n",
       "      <td>1200.826926</td>\n",
       "      <td>-300.124116</td>\n",
       "      <td>1150.754676</td>\n",
       "      <td>-499.986009</td>\n",
       "      <td>1049.182824</td>\n",
       "      <td>-500.014696</td>\n",
       "      <td>948.085464</td>\n",
       "      <td>-499.997003</td>\n",
       "      <td>850.170086</td>\n",
       "      <td>-500.270334</td>\n",
       "      <td>849.557905</td>\n",
       "      <td>-500.198702</td>\n",
       "      <td>0.000000</td>\n",
       "      <td>0.000000</td>\n",
       "      <td>0.000000</td>\n",
       "      <td>0.000000</td>\n",
       "      <td>34.952967</td>\n",
       "      <td>-501.204647</td>\n",
       "      <td>29.927025</td>\n",
       "      <td>-500.106628</td>\n",
       "      <td>25.978253</td>\n",
       "      <td>-499.890060</td>\n",
       "      <td>23.004376</td>\n",
       "      <td>-500.014529</td>\n",
       "      <td>22.993827</td>\n",
       "      <td>-501.559663</td>\n",
       "      <td>20.029144</td>\n",
       "      <td>-500.000662</td>\n",
       "      <td>18.012723</td>\n",
       "      <td>-500.024764</td>\n",
       "      <td>13.016445</td>\n",
       "      <td>-500.058432</td>\n",
       "      <td>19.973767</td>\n",
       "      <td>-501.394155</td>\n",
       "    </tr>\n",
       "    <tr>\n",
       "      <th>19434</th>\n",
       "      <td>2018-08-18 06:59:59</td>\n",
       "      <td>3.224920</td>\n",
       "      <td>11.356233</td>\n",
       "      <td>6.803482</td>\n",
       "      <td>46.713954</td>\n",
       "      <td>73.755150</td>\n",
       "      <td>8.769645</td>\n",
       "      <td>3.141541</td>\n",
       "      <td>10.403181</td>\n",
       "      <td>1.529220</td>\n",
       "      <td>123.381787</td>\n",
       "      <td>8.028927</td>\n",
       "      <td>6.500000</td>\n",
       "      <td>1.304232</td>\n",
       "      <td>6.559174</td>\n",
       "      <td>12.445966</td>\n",
       "      <td>7.056338</td>\n",
       "      <td>32.940215</td>\n",
       "      <td>22.854592</td>\n",
       "      <td>6.531541</td>\n",
       "      <td>3.934320</td>\n",
       "      <td>2.314352</td>\n",
       "      <td>1648.421193</td>\n",
       "      <td>-400.382169</td>\n",
       "      <td>1648.742005</td>\n",
       "      <td>-400.359661</td>\n",
       "      <td>1648.578230</td>\n",
       "      <td>-399.363624</td>\n",
       "      <td>1648.833984</td>\n",
       "      <td>-399.669220</td>\n",
       "      <td>45912.942619</td>\n",
       "      <td>2497.652954</td>\n",
       "      <td>2499.177950</td>\n",
       "      <td>1.155559</td>\n",
       "      <td>6.091855</td>\n",
       "      <td>4.617558</td>\n",
       "      <td>560.889077</td>\n",
       "      <td>85.718304</td>\n",
       "      <td>37.369774</td>\n",
       "      <td>5.335862</td>\n",
       "      <td>7.762770</td>\n",
       "      <td>9.158609</td>\n",
       "      <td>7.766744</td>\n",
       "      <td>9.156069</td>\n",
       "      <td>11.124896</td>\n",
       "      <td>10.984003</td>\n",
       "      <td>30.068876</td>\n",
       "      <td>18.603550</td>\n",
       "      <td>89.574376</td>\n",
       "      <td>4.207261</td>\n",
       "      <td>0.612935</td>\n",
       "      <td>16.666590</td>\n",
       "      <td>0.748633</td>\n",
       "      <td>1199.245914</td>\n",
       "      <td>-300.845518</td>\n",
       "      <td>1149.807890</td>\n",
       "      <td>-498.789721</td>\n",
       "      <td>1047.963596</td>\n",
       "      <td>-498.413079</td>\n",
       "      <td>946.640977</td>\n",
       "      <td>-499.152477</td>\n",
       "      <td>849.664935</td>\n",
       "      <td>-499.214461</td>\n",
       "      <td>849.758091</td>\n",
       "      <td>-497.448664</td>\n",
       "      <td>0.000000</td>\n",
       "      <td>0.000000</td>\n",
       "      <td>0.000000</td>\n",
       "      <td>0.000000</td>\n",
       "      <td>35.043205</td>\n",
       "      <td>-499.045671</td>\n",
       "      <td>29.906659</td>\n",
       "      <td>-499.979939</td>\n",
       "      <td>26.002402</td>\n",
       "      <td>-499.953431</td>\n",
       "      <td>22.987238</td>\n",
       "      <td>-499.967351</td>\n",
       "      <td>23.031497</td>\n",
       "      <td>-501.167942</td>\n",
       "      <td>20.007571</td>\n",
       "      <td>-499.740028</td>\n",
       "      <td>18.006038</td>\n",
       "      <td>-499.834374</td>\n",
       "      <td>13.001114</td>\n",
       "      <td>-500.155694</td>\n",
       "      <td>20.007840</td>\n",
       "      <td>-501.296428</td>\n",
       "    </tr>\n",
       "    <tr>\n",
       "      <th>19435</th>\n",
       "      <td>2018-08-18 07:59:59</td>\n",
       "      <td>3.195978</td>\n",
       "      <td>11.349355</td>\n",
       "      <td>6.862249</td>\n",
       "      <td>46.866780</td>\n",
       "      <td>69.049291</td>\n",
       "      <td>8.897321</td>\n",
       "      <td>3.130493</td>\n",
       "      <td>10.549470</td>\n",
       "      <td>1.612542</td>\n",
       "      <td>120.878188</td>\n",
       "      <td>7.962636</td>\n",
       "      <td>6.500000</td>\n",
       "      <td>1.302419</td>\n",
       "      <td>6.612376</td>\n",
       "      <td>12.623947</td>\n",
       "      <td>7.542264</td>\n",
       "      <td>32.925325</td>\n",
       "      <td>23.002490</td>\n",
       "      <td>6.629725</td>\n",
       "      <td>4.089124</td>\n",
       "      <td>2.462890</td>\n",
       "      <td>1649.820162</td>\n",
       "      <td>-399.930973</td>\n",
       "      <td>1649.357538</td>\n",
       "      <td>-399.721222</td>\n",
       "      <td>1648.656192</td>\n",
       "      <td>-401.195834</td>\n",
       "      <td>1649.725133</td>\n",
       "      <td>-400.636306</td>\n",
       "      <td>46200.099585</td>\n",
       "      <td>2614.403937</td>\n",
       "      <td>2518.550078</td>\n",
       "      <td>1.167342</td>\n",
       "      <td>6.121323</td>\n",
       "      <td>4.144989</td>\n",
       "      <td>559.031805</td>\n",
       "      <td>119.499241</td>\n",
       "      <td>38.591551</td>\n",
       "      <td>4.838619</td>\n",
       "      <td>7.356687</td>\n",
       "      <td>9.304952</td>\n",
       "      <td>7.095508</td>\n",
       "      <td>9.297924</td>\n",
       "      <td>11.425983</td>\n",
       "      <td>10.888213</td>\n",
       "      <td>29.783972</td>\n",
       "      <td>18.441436</td>\n",
       "      <td>87.724007</td>\n",
       "      <td>4.177943</td>\n",
       "      <td>0.650557</td>\n",
       "      <td>16.960649</td>\n",
       "      <td>0.771582</td>\n",
       "      <td>1196.569267</td>\n",
       "      <td>-299.512227</td>\n",
       "      <td>1147.675196</td>\n",
       "      <td>-500.608341</td>\n",
       "      <td>1048.565741</td>\n",
       "      <td>-500.932810</td>\n",
       "      <td>949.773589</td>\n",
       "      <td>-500.023144</td>\n",
       "      <td>848.515225</td>\n",
       "      <td>-500.289405</td>\n",
       "      <td>850.013123</td>\n",
       "      <td>-496.822119</td>\n",
       "      <td>0.000000</td>\n",
       "      <td>0.000000</td>\n",
       "      <td>0.000000</td>\n",
       "      <td>0.000000</td>\n",
       "      <td>35.026062</td>\n",
       "      <td>-499.891945</td>\n",
       "      <td>29.921795</td>\n",
       "      <td>-499.949663</td>\n",
       "      <td>26.031747</td>\n",
       "      <td>-500.384612</td>\n",
       "      <td>22.991058</td>\n",
       "      <td>-500.079590</td>\n",
       "      <td>22.960095</td>\n",
       "      <td>-501.612783</td>\n",
       "      <td>20.035660</td>\n",
       "      <td>-500.251357</td>\n",
       "      <td>17.998535</td>\n",
       "      <td>-500.395178</td>\n",
       "      <td>12.954048</td>\n",
       "      <td>-499.895163</td>\n",
       "      <td>19.968498</td>\n",
       "      <td>-501.041608</td>\n",
       "    </tr>\n",
       "    <tr>\n",
       "      <th>19436</th>\n",
       "      <td>2018-08-18 08:59:59</td>\n",
       "      <td>3.109998</td>\n",
       "      <td>11.434366</td>\n",
       "      <td>6.886013</td>\n",
       "      <td>46.795691</td>\n",
       "      <td>67.002189</td>\n",
       "      <td>8.529606</td>\n",
       "      <td>2.911418</td>\n",
       "      <td>11.115147</td>\n",
       "      <td>1.596616</td>\n",
       "      <td>105.666118</td>\n",
       "      <td>7.955111</td>\n",
       "      <td>6.500000</td>\n",
       "      <td>1.315926</td>\n",
       "      <td>7.128896</td>\n",
       "      <td>12.633558</td>\n",
       "      <td>7.941900</td>\n",
       "      <td>31.856742</td>\n",
       "      <td>22.298149</td>\n",
       "      <td>6.278250</td>\n",
       "      <td>4.457457</td>\n",
       "      <td>2.612231</td>\n",
       "      <td>1649.166761</td>\n",
       "      <td>-399.888631</td>\n",
       "      <td>1649.196904</td>\n",
       "      <td>-399.677571</td>\n",
       "      <td>1647.896999</td>\n",
       "      <td>-399.988275</td>\n",
       "      <td>1649.772714</td>\n",
       "      <td>-399.831902</td>\n",
       "      <td>44585.181334</td>\n",
       "      <td>2510.813545</td>\n",
       "      <td>2510.142433</td>\n",
       "      <td>1.125637</td>\n",
       "      <td>5.970515</td>\n",
       "      <td>4.020002</td>\n",
       "      <td>555.682872</td>\n",
       "      <td>122.262690</td>\n",
       "      <td>40.074026</td>\n",
       "      <td>4.525061</td>\n",
       "      <td>6.586020</td>\n",
       "      <td>9.299606</td>\n",
       "      <td>6.584130</td>\n",
       "      <td>9.300133</td>\n",
       "      <td>8.523497</td>\n",
       "      <td>8.955135</td>\n",
       "      <td>22.786467</td>\n",
       "      <td>15.111231</td>\n",
       "      <td>88.890579</td>\n",
       "      <td>4.050010</td>\n",
       "      <td>0.636095</td>\n",
       "      <td>18.323080</td>\n",
       "      <td>0.685059</td>\n",
       "      <td>1204.866639</td>\n",
       "      <td>-299.235675</td>\n",
       "      <td>1149.942902</td>\n",
       "      <td>-501.717903</td>\n",
       "      <td>1049.604390</td>\n",
       "      <td>-500.549053</td>\n",
       "      <td>952.702732</td>\n",
       "      <td>-502.352296</td>\n",
       "      <td>849.016017</td>\n",
       "      <td>-500.505677</td>\n",
       "      <td>850.455635</td>\n",
       "      <td>-506.897968</td>\n",
       "      <td>0.000000</td>\n",
       "      <td>0.000000</td>\n",
       "      <td>0.000000</td>\n",
       "      <td>0.000000</td>\n",
       "      <td>35.003586</td>\n",
       "      <td>-501.083794</td>\n",
       "      <td>29.990533</td>\n",
       "      <td>-611.855898</td>\n",
       "      <td>25.948429</td>\n",
       "      <td>-500.067268</td>\n",
       "      <td>22.968268</td>\n",
       "      <td>-499.839442</td>\n",
       "      <td>23.015718</td>\n",
       "      <td>-501.711599</td>\n",
       "      <td>19.951231</td>\n",
       "      <td>-499.857027</td>\n",
       "      <td>18.019543</td>\n",
       "      <td>-500.451156</td>\n",
       "      <td>13.023431</td>\n",
       "      <td>-499.914391</td>\n",
       "      <td>19.990885</td>\n",
       "      <td>-501.518452</td>\n",
       "    </tr>\n",
       "    <tr>\n",
       "      <th>19437</th>\n",
       "      <td>2018-08-18 09:59:59</td>\n",
       "      <td>3.367241</td>\n",
       "      <td>11.625587</td>\n",
       "      <td>6.799433</td>\n",
       "      <td>46.408188</td>\n",
       "      <td>65.523246</td>\n",
       "      <td>8.777171</td>\n",
       "      <td>2.819214</td>\n",
       "      <td>10.463847</td>\n",
       "      <td>1.602879</td>\n",
       "      <td>98.880538</td>\n",
       "      <td>7.984164</td>\n",
       "      <td>6.500000</td>\n",
       "      <td>1.241969</td>\n",
       "      <td>7.490444</td>\n",
       "      <td>12.012378</td>\n",
       "      <td>6.942972</td>\n",
       "      <td>30.770892</td>\n",
       "      <td>22.714656</td>\n",
       "      <td>6.253145</td>\n",
       "      <td>3.557121</td>\n",
       "      <td>2.800648</td>\n",
       "      <td>1646.547763</td>\n",
       "      <td>-398.977083</td>\n",
       "      <td>1648.212240</td>\n",
       "      <td>-400.383265</td>\n",
       "      <td>1648.917387</td>\n",
       "      <td>-399.521344</td>\n",
       "      <td>1651.498591</td>\n",
       "      <td>-399.745329</td>\n",
       "      <td>44084.735708</td>\n",
       "      <td>2507.572494</td>\n",
       "      <td>2507.723361</td>\n",
       "      <td>1.117935</td>\n",
       "      <td>6.048130</td>\n",
       "      <td>3.902537</td>\n",
       "      <td>544.731687</td>\n",
       "      <td>123.742430</td>\n",
       "      <td>39.713906</td>\n",
       "      <td>4.362781</td>\n",
       "      <td>6.210119</td>\n",
       "      <td>9.297709</td>\n",
       "      <td>6.209517</td>\n",
       "      <td>9.297194</td>\n",
       "      <td>11.658799</td>\n",
       "      <td>10.655377</td>\n",
       "      <td>29.052742</td>\n",
       "      <td>17.834772</td>\n",
       "      <td>89.858126</td>\n",
       "      <td>3.902494</td>\n",
       "      <td>0.625609</td>\n",
       "      <td>19.423740</td>\n",
       "      <td>0.567130</td>\n",
       "      <td>1201.904177</td>\n",
       "      <td>-299.907308</td>\n",
       "      <td>1154.087804</td>\n",
       "      <td>-500.036580</td>\n",
       "      <td>1054.009756</td>\n",
       "      <td>-500.237335</td>\n",
       "      <td>944.138793</td>\n",
       "      <td>-496.866953</td>\n",
       "      <td>851.589767</td>\n",
       "      <td>-499.040466</td>\n",
       "      <td>851.345606</td>\n",
       "      <td>-499.122561</td>\n",
       "      <td>0.000000</td>\n",
       "      <td>0.000000</td>\n",
       "      <td>0.000000</td>\n",
       "      <td>0.000000</td>\n",
       "      <td>34.980742</td>\n",
       "      <td>-498.131002</td>\n",
       "      <td>29.968453</td>\n",
       "      <td>-586.013330</td>\n",
       "      <td>25.971737</td>\n",
       "      <td>-499.608392</td>\n",
       "      <td>22.958448</td>\n",
       "      <td>-499.821308</td>\n",
       "      <td>23.024963</td>\n",
       "      <td>-501.153409</td>\n",
       "      <td>20.054122</td>\n",
       "      <td>-500.314711</td>\n",
       "      <td>17.979515</td>\n",
       "      <td>-499.272871</td>\n",
       "      <td>12.992404</td>\n",
       "      <td>-499.976268</td>\n",
       "      <td>20.013986</td>\n",
       "      <td>-500.625471</td>\n",
       "    </tr>\n",
       "    <tr>\n",
       "      <th>19438</th>\n",
       "      <td>2018-08-18 10:59:59</td>\n",
       "      <td>3.598375</td>\n",
       "      <td>11.737832</td>\n",
       "      <td>6.717509</td>\n",
       "      <td>46.299438</td>\n",
       "      <td>70.281454</td>\n",
       "      <td>8.406690</td>\n",
       "      <td>2.517518</td>\n",
       "      <td>10.652193</td>\n",
       "      <td>1.389434</td>\n",
       "      <td>95.248427</td>\n",
       "      <td>8.078957</td>\n",
       "      <td>6.500000</td>\n",
       "      <td>1.283045</td>\n",
       "      <td>7.537584</td>\n",
       "      <td>11.650285</td>\n",
       "      <td>6.203553</td>\n",
       "      <td>30.356618</td>\n",
       "      <td>22.735927</td>\n",
       "      <td>6.084287</td>\n",
       "      <td>3.026699</td>\n",
       "      <td>2.708046</td>\n",
       "      <td>1648.759906</td>\n",
       "      <td>-399.862053</td>\n",
       "      <td>1650.135395</td>\n",
       "      <td>-399.957321</td>\n",
       "      <td>1648.831890</td>\n",
       "      <td>-400.586116</td>\n",
       "      <td>1649.464582</td>\n",
       "      <td>-400.673303</td>\n",
       "      <td>44082.866565</td>\n",
       "      <td>2487.477762</td>\n",
       "      <td>2488.626080</td>\n",
       "      <td>1.126367</td>\n",
       "      <td>6.158718</td>\n",
       "      <td>3.875727</td>\n",
       "      <td>555.820208</td>\n",
       "      <td>94.544358</td>\n",
       "      <td>39.135119</td>\n",
       "      <td>4.365491</td>\n",
       "      <td>6.146982</td>\n",
       "      <td>9.308612</td>\n",
       "      <td>6.168939</td>\n",
       "      <td>9.309852</td>\n",
       "      <td>11.959486</td>\n",
       "      <td>10.702148</td>\n",
       "      <td>29.078235</td>\n",
       "      <td>17.804134</td>\n",
       "      <td>89.514960</td>\n",
       "      <td>3.925473</td>\n",
       "      <td>0.638677</td>\n",
       "      <td>19.946673</td>\n",
       "      <td>0.586439</td>\n",
       "      <td>1196.238112</td>\n",
       "      <td>-299.862743</td>\n",
       "      <td>1147.248241</td>\n",
       "      <td>-500.363165</td>\n",
       "      <td>1047.279065</td>\n",
       "      <td>-500.354091</td>\n",
       "      <td>948.756608</td>\n",
       "      <td>-498.439416</td>\n",
       "      <td>849.441918</td>\n",
       "      <td>-499.255503</td>\n",
       "      <td>850.112246</td>\n",
       "      <td>-499.407112</td>\n",
       "      <td>0.000000</td>\n",
       "      <td>0.000000</td>\n",
       "      <td>0.000000</td>\n",
       "      <td>0.000000</td>\n",
       "      <td>34.940919</td>\n",
       "      <td>-500.150510</td>\n",
       "      <td>30.031867</td>\n",
       "      <td>-500.328335</td>\n",
       "      <td>26.033990</td>\n",
       "      <td>-500.147792</td>\n",
       "      <td>22.952306</td>\n",
       "      <td>-500.037678</td>\n",
       "      <td>23.018622</td>\n",
       "      <td>-500.492702</td>\n",
       "      <td>20.020205</td>\n",
       "      <td>-500.220296</td>\n",
       "      <td>17.963512</td>\n",
       "      <td>-499.939490</td>\n",
       "      <td>12.990306</td>\n",
       "      <td>-500.080993</td>\n",
       "      <td>19.990336</td>\n",
       "      <td>-499.191575</td>\n",
       "    </tr>\n",
       "  </tbody>\n",
       "</table>\n",
       "</div>"
      ],
      "text/plain": [
       "                      date  final.output.concentrate_ag  \\\n",
       "19409  2018-08-17 05:59:59                     3.575851   \n",
       "19410  2018-08-17 06:59:59                     3.676767   \n",
       "19411  2018-08-17 07:59:59                     3.571477   \n",
       "19412  2018-08-17 08:59:59                     3.651242   \n",
       "19413  2018-08-17 09:59:59                     3.991065   \n",
       "19414  2018-08-17 10:59:59                     4.894652   \n",
       "19415  2018-08-17 11:59:59                     4.827192   \n",
       "19416  2018-08-17 12:59:59                     4.515130   \n",
       "19417  2018-08-17 13:59:59                     4.108712   \n",
       "19418  2018-08-17 14:59:59                     3.861031   \n",
       "19419  2018-08-17 15:59:59                     3.769352   \n",
       "19420  2018-08-17 16:59:59                     3.680897   \n",
       "19421  2018-08-17 17:59:59                     3.500876   \n",
       "19422  2018-08-17 18:59:59                     3.163108   \n",
       "19423  2018-08-17 19:59:59                     3.467581   \n",
       "19424  2018-08-17 20:59:59                     3.690737   \n",
       "19425  2018-08-17 21:59:59                     3.599454   \n",
       "19426  2018-08-17 22:59:59                     3.540800   \n",
       "19427  2018-08-17 23:59:59                     3.573966   \n",
       "19428  2018-08-18 00:59:59                     3.525247   \n",
       "19429  2018-08-18 01:59:59                     3.236759   \n",
       "19430  2018-08-18 02:59:59                     3.187398   \n",
       "19431  2018-08-18 03:59:59                     2.925574   \n",
       "19432  2018-08-18 04:59:59                     3.076566   \n",
       "19433  2018-08-18 05:59:59                     3.192996   \n",
       "19434  2018-08-18 06:59:59                     3.224920   \n",
       "19435  2018-08-18 07:59:59                     3.195978   \n",
       "19436  2018-08-18 08:59:59                     3.109998   \n",
       "19437  2018-08-18 09:59:59                     3.367241   \n",
       "19438  2018-08-18 10:59:59                     3.598375   \n",
       "\n",
       "       final.output.concentrate_pb  final.output.concentrate_sol  \\\n",
       "19409                    11.907212                      6.802939   \n",
       "19410                    11.811546                      6.701614   \n",
       "19411                    11.612422                      6.819930   \n",
       "19412                    11.546264                      6.896616   \n",
       "19413                    11.599666                      6.905807   \n",
       "19414                    12.713174                      6.660313   \n",
       "19415                    12.974069                      6.641652   \n",
       "19416                    12.868653                      6.579353   \n",
       "19417                    12.666388                      6.563593   \n",
       "19418                    12.441737                      6.667624   \n",
       "19419                    12.653977                      6.733743   \n",
       "19420                    12.778424                      6.623745   \n",
       "19421                    12.522030                      6.666484   \n",
       "19422                    11.384970                      6.263301   \n",
       "19423                    12.198985                      6.695562   \n",
       "19424                    12.546410                      6.486781   \n",
       "19425                    12.308172                      6.512304   \n",
       "19426                    12.423927                      6.702631   \n",
       "19427                    12.199649                      6.584768   \n",
       "19428                    12.121578                      6.605982   \n",
       "19429                    11.692898                      6.745979   \n",
       "19430                    11.423128                      6.790500   \n",
       "19431                    10.855586                      7.053796   \n",
       "19432                    11.542302                      6.929418   \n",
       "19433                    11.612338                      6.824441   \n",
       "19434                    11.356233                      6.803482   \n",
       "19435                    11.349355                      6.862249   \n",
       "19436                    11.434366                      6.886013   \n",
       "19437                    11.625587                      6.799433   \n",
       "19438                    11.737832                      6.717509   \n",
       "\n",
       "       final.output.concentrate_au  final.output.recovery  \\\n",
       "19409                    45.444440              72.666035   \n",
       "19410                    45.626776              70.124520   \n",
       "19411                    45.868268              66.461188   \n",
       "19412                    45.942074              66.417292   \n",
       "19413                    45.073197              69.884868   \n",
       "19414                    41.924180              72.346428   \n",
       "19415                    41.821659              72.754450   \n",
       "19416                    42.645208              72.248239   \n",
       "19417                    43.687607              72.582287   \n",
       "19418                    44.339835              72.001394   \n",
       "19419                    44.621845              70.004249   \n",
       "19420                    44.636157              67.796293   \n",
       "19421                    45.068492              63.082720   \n",
       "19422                    42.962557              56.137031   \n",
       "19423                    45.630993              58.570570   \n",
       "19424                    44.837728              51.168934   \n",
       "19425                    45.477834              59.871040   \n",
       "19426                    45.323979              70.477689   \n",
       "19427                    45.440494              74.594019   \n",
       "19428                    45.785582              75.185602   \n",
       "19429                    46.225130              73.265872   \n",
       "19430                    46.801679              68.369674   \n",
       "19431                    47.765393              64.054699   \n",
       "19432                    46.956275              68.643324   \n",
       "19433                    46.710119              74.817644   \n",
       "19434                    46.713954              73.755150   \n",
       "19435                    46.866780              69.049291   \n",
       "19436                    46.795691              67.002189   \n",
       "19437                    46.408188              65.523246   \n",
       "19438                    46.299438              70.281454   \n",
       "\n",
       "       final.output.tail_ag  final.output.tail_pb  final.output.tail_sol  \\\n",
       "19409              9.478193              3.057374               9.797800   \n",
       "19410             10.101142              3.458313               9.202298   \n",
       "19411             10.346141              3.447106               9.025933   \n",
       "19412             10.080692              3.109990               9.244794   \n",
       "19413              9.654578              2.835589               9.375307   \n",
       "19414              9.274585              2.773309               9.499506   \n",
       "19415              9.504075              3.028277               9.111587   \n",
       "19416              9.501524              3.189444               9.023446   \n",
       "19417              9.320000              3.277720               9.397333   \n",
       "19418              8.752653              3.258726              10.303485   \n",
       "19419              9.538939              3.572824               9.344995   \n",
       "19420              9.558624              3.617360               9.210683   \n",
       "19421              9.012745              3.513789              10.392631   \n",
       "19422              8.409223              3.245894               9.343320   \n",
       "19423              8.694564              3.174479               9.993155   \n",
       "19424              8.764530              3.226070               9.722573   \n",
       "19425              8.882691              3.036575               9.421421   \n",
       "19426              8.866079              2.816357               9.838458   \n",
       "19427              9.042359              2.980534               9.737694   \n",
       "19428              9.041052              3.208360               9.792629   \n",
       "19429              8.895144              3.425167              10.118103   \n",
       "19430              9.043962              3.629573              10.037518   \n",
       "19431              8.578502              3.365823              10.603464   \n",
       "19432              8.792890              3.120351              10.184715   \n",
       "19433              8.665858              2.938592              10.241498   \n",
       "19434              8.769645              3.141541              10.403181   \n",
       "19435              8.897321              3.130493              10.549470   \n",
       "19436              8.529606              2.911418              11.115147   \n",
       "19437              8.777171              2.819214              10.463847   \n",
       "19438              8.406690              2.517518              10.652193   \n",
       "\n",
       "       final.output.tail_au  primary_cleaner.input.sulfate  \\\n",
       "19409              1.731699                     100.660232   \n",
       "19410              1.985746                     105.008309   \n",
       "19411              2.037761                     104.321144   \n",
       "19412              1.941038                      97.855853   \n",
       "19413              1.713933                      95.058385   \n",
       "19414              1.593406                      95.702286   \n",
       "19415              1.632850                      98.832193   \n",
       "19416              1.696612                     104.479696   \n",
       "19417              1.678070                     105.880296   \n",
       "19418              1.742921                     108.127972   \n",
       "19419              1.846842                     108.436718   \n",
       "19420              1.975891                     111.336787   \n",
       "19421              2.047201                     108.080163   \n",
       "19422              2.058186                      98.209466   \n",
       "19423              1.987334                      94.374681   \n",
       "19424              2.114178                      92.387927   \n",
       "19425              1.826293                      91.906045   \n",
       "19426              1.439220                     101.341013   \n",
       "19427              1.455128                     111.053703   \n",
       "19428              1.534906                     127.007820   \n",
       "19429              1.611159                     132.723539   \n",
       "19430              1.838214                     132.726374   \n",
       "19431              1.761994                     125.423263   \n",
       "19432              1.567363                     114.108530   \n",
       "19433              1.393077                     119.497545   \n",
       "19434              1.529220                     123.381787   \n",
       "19435              1.612542                     120.878188   \n",
       "19436              1.596616                     105.666118   \n",
       "19437              1.602879                      98.880538   \n",
       "19438              1.389434                      95.248427   \n",
       "\n",
       "       primary_cleaner.input.depressant  primary_cleaner.input.feed_size  \\\n",
       "19409                          6.965547                         6.460000   \n",
       "19410                          6.995182                         6.401667   \n",
       "19411                          6.971811                         6.390000   \n",
       "19412                          6.982815                         6.390000   \n",
       "19413                          7.044277                         6.569999   \n",
       "19414                          6.996929                         6.660000   \n",
       "19415                          8.019897                         6.660000   \n",
       "19416                          7.975558                         6.660000   \n",
       "19417                          8.044041                         6.660000   \n",
       "19418                          7.989871                         6.660000   \n",
       "19419                          7.995342                         6.660000   \n",
       "19420                          7.981744                         6.660000   \n",
       "19421                          7.970121                         6.660000   \n",
       "19422                          7.980342                         6.466667   \n",
       "19423                          7.984632                         6.080000   \n",
       "19424                          7.994911                         6.066667   \n",
       "19425                          7.968677                         6.040000   \n",
       "19426                          7.917487                         6.040000   \n",
       "19427                          8.004520                         6.240000   \n",
       "19428                          7.970326                         6.240000   \n",
       "19429                          8.003791                         6.283333   \n",
       "19430                          8.009750                         6.500000   \n",
       "19431                          8.014263                         6.500000   \n",
       "19432                          7.961098                         6.500000   \n",
       "19433                          8.003752                         6.500000   \n",
       "19434                          8.028927                         6.500000   \n",
       "19435                          7.962636                         6.500000   \n",
       "19436                          7.955111                         6.500000   \n",
       "19437                          7.984164                         6.500000   \n",
       "19438                          8.078957                         6.500000   \n",
       "\n",
       "       primary_cleaner.input.xanthate  primary_cleaner.output.concentrate_ag  \\\n",
       "19409                        0.789850                               7.084616   \n",
       "19410                        0.801839                               6.999118   \n",
       "19411                        0.808661                               7.308847   \n",
       "19412                        0.875157                               7.860497   \n",
       "19413                        0.695245                               8.971777   \n",
       "19414                        0.636334                               9.595150   \n",
       "19415                        0.603955                               8.929451   \n",
       "19416                        0.604532                               8.438699   \n",
       "19417                        0.598256                               6.700402   \n",
       "19418                        0.595134                               7.781050   \n",
       "19419                        0.592419                               7.693782   \n",
       "19420                        0.659512                               7.278378   \n",
       "19421                        0.774909                               6.723180   \n",
       "19422                        1.004989                               6.381755   \n",
       "19423                        0.972557                               7.654692   \n",
       "19424                        1.254427                               6.576096   \n",
       "19425                        1.291651                               7.610781   \n",
       "19426                        1.281787                               7.404078   \n",
       "19427                        1.285999                               7.346926   \n",
       "19428                        1.285490                               7.105218   \n",
       "19429                        1.148652                               6.250206   \n",
       "19430                        1.230668                               5.899632   \n",
       "19431                        1.338973                               6.372520   \n",
       "19432                        1.298811                               6.682350   \n",
       "19433                        1.259741                               6.650871   \n",
       "19434                        1.304232                               6.559174   \n",
       "19435                        1.302419                               6.612376   \n",
       "19436                        1.315926                               7.128896   \n",
       "19437                        1.241969                               7.490444   \n",
       "19438                        1.283045                               7.537584   \n",
       "\n",
       "       primary_cleaner.output.concentrate_pb  \\\n",
       "19409                              12.410259   \n",
       "19410                              12.429446   \n",
       "19411                              12.345113   \n",
       "19412                              11.957296   \n",
       "19413                              11.391412   \n",
       "19414                              11.625295   \n",
       "19415                              12.035778   \n",
       "19416                              12.446818   \n",
       "19417                              10.697559   \n",
       "19418                              12.804960   \n",
       "19419                              13.126838   \n",
       "19420                              13.039313   \n",
       "19421                              13.105695   \n",
       "19422                              12.039587   \n",
       "19423                              12.810578   \n",
       "19424                              12.518923   \n",
       "19425                              12.434663   \n",
       "19426                              12.618266   \n",
       "19427                              12.387421   \n",
       "19428                              12.629375   \n",
       "19429                              12.671935   \n",
       "19430                              12.568309   \n",
       "19431                              12.879280   \n",
       "19432                              12.681564   \n",
       "19433                              12.428122   \n",
       "19434                              12.445966   \n",
       "19435                              12.623947   \n",
       "19436                              12.633558   \n",
       "19437                              12.012378   \n",
       "19438                              11.650285   \n",
       "\n",
       "       primary_cleaner.output.concentrate_sol  \\\n",
       "19409                                7.804975   \n",
       "19410                                7.966334   \n",
       "19411                                8.160708   \n",
       "19412                                8.244764   \n",
       "19413                                7.375135   \n",
       "19414                                7.856474   \n",
       "19415                                7.390553   \n",
       "19416                                7.529207   \n",
       "19417                                6.392370   \n",
       "19418                                7.515622   \n",
       "19419                                8.020305   \n",
       "19420                                7.730468   \n",
       "19421                                7.979863   \n",
       "19422                                7.791816   \n",
       "19423                                8.400378   \n",
       "19424                                6.874945   \n",
       "19425                                7.265046   \n",
       "19426                                7.251474   \n",
       "19427                                6.848893   \n",
       "19428                                6.984734   \n",
       "19429                                6.968363   \n",
       "19430                                7.641505   \n",
       "19431                                7.756028   \n",
       "19432                                7.431864   \n",
       "19433                                7.089553   \n",
       "19434                                7.056338   \n",
       "19435                                7.542264   \n",
       "19436                                7.941900   \n",
       "19437                                6.942972   \n",
       "19438                                6.203553   \n",
       "\n",
       "       primary_cleaner.output.concentrate_au  primary_cleaner.output.tail_ag  \\\n",
       "19409                              32.053491                       22.752922   \n",
       "19410                              32.246091                       23.301500   \n",
       "19411                              31.837233                       22.769633   \n",
       "19412                              30.755803                       22.629053   \n",
       "19413                              27.867629                       21.978954   \n",
       "19414                              26.325246                       21.170211   \n",
       "19415                              27.335203                       21.114439   \n",
       "19416                              28.345128                       21.407565   \n",
       "19417                              24.626783                       21.439259   \n",
       "19418                              29.762286                       21.728548   \n",
       "19419                              29.913959                       22.162235   \n",
       "19420                              30.898004                       22.071484   \n",
       "19421                              32.432209                       22.101497   \n",
       "19422                              30.857716                       20.913601   \n",
       "19423                              30.463994                       22.247646   \n",
       "19424                              32.510852                       22.471642   \n",
       "19425                              30.200271                       22.517510   \n",
       "19426                              30.625624                       22.864823   \n",
       "19427                              30.714633                       23.001127   \n",
       "19428                              31.480333                       22.732062   \n",
       "19429                              33.543341                       22.636772   \n",
       "19430                              34.956030                       22.946631   \n",
       "19431                              33.493651                       22.974292   \n",
       "19432                              32.636363                       23.047492   \n",
       "19433                              32.763603                       23.095983   \n",
       "19434                              32.940215                       22.854592   \n",
       "19435                              32.925325                       23.002490   \n",
       "19436                              31.856742                       22.298149   \n",
       "19437                              30.770892                       22.714656   \n",
       "19438                              30.356618                       22.735927   \n",
       "\n",
       "       primary_cleaner.output.tail_pb  primary_cleaner.output.tail_sol  \\\n",
       "19409                        6.269964                         3.554283   \n",
       "19410                        6.519378                         3.259334   \n",
       "19411                        6.363498                         3.566117   \n",
       "19412                        6.144751                         3.620707   \n",
       "19413                        5.652493                         3.541234   \n",
       "19414                        5.305853                         2.959974   \n",
       "19415                        5.420842                         3.255398   \n",
       "19416                        5.685268                         3.661006   \n",
       "19417                        5.829177                         4.115866   \n",
       "19418                        5.992773                         4.040583   \n",
       "19419                        6.224966                         4.076909   \n",
       "19420                        6.282320                         4.280299   \n",
       "19421                        6.437497                         4.543611   \n",
       "19422                        6.115773                         4.038684   \n",
       "19423                        6.319221                         3.669043   \n",
       "19424                        6.546969                         3.638378   \n",
       "19425                        6.304395                         3.015982   \n",
       "19426                        6.308930                         3.051909   \n",
       "19427                        6.356377                         3.134771   \n",
       "19428                        6.373961                         3.657784   \n",
       "19429                        6.610989                         4.281521   \n",
       "19430                        6.975321                         4.347714   \n",
       "19431                        6.868943                         4.315335   \n",
       "19432                        6.673419                         4.023964   \n",
       "19433                        6.571676                         3.714114   \n",
       "19434                        6.531541                         3.934320   \n",
       "19435                        6.629725                         4.089124   \n",
       "19436                        6.278250                         4.457457   \n",
       "19437                        6.253145                         3.557121   \n",
       "19438                        6.084287                         3.026699   \n",
       "\n",
       "       primary_cleaner.output.tail_au  primary_cleaner.state.floatbank8_a_air  \\\n",
       "19409                        2.953635                             1648.253639   \n",
       "19410                        2.944576                             1648.001550   \n",
       "19411                        2.945426                             1649.388691   \n",
       "19412                        2.962553                             1649.920624   \n",
       "19413                        2.513834                             1649.514479   \n",
       "19414                        2.623531                             1649.293762   \n",
       "19415                        2.662831                             1650.110239   \n",
       "19416                        2.675620                             1648.696021   \n",
       "19417                        2.704792                             1648.845107   \n",
       "19418                        2.743374                             1649.405961   \n",
       "19419                        2.893284                             1647.373511   \n",
       "19420                        3.156794                             1651.326284   \n",
       "19421                        3.462451                             1652.660845   \n",
       "19422                        3.674340                             1649.672742   \n",
       "19423                        3.903720                             1652.843019   \n",
       "19424                        4.320648                             1649.402813   \n",
       "19425                        3.673030                             1652.365837   \n",
       "19426                        2.882679                             1652.623536   \n",
       "19427                        2.576175                             1649.979836   \n",
       "19428                        2.362253                             1647.218711   \n",
       "19429                        2.332941                             1647.735565   \n",
       "19430                        2.875382                             1648.023813   \n",
       "19431                        2.581269                             1648.628464   \n",
       "19432                        2.664374                             1648.754818   \n",
       "19433                        2.523626                             1647.368779   \n",
       "19434                        2.314352                             1648.421193   \n",
       "19435                        2.462890                             1649.820162   \n",
       "19436                        2.612231                             1649.166761   \n",
       "19437                        2.800648                             1646.547763   \n",
       "19438                        2.708046                             1648.759906   \n",
       "\n",
       "       primary_cleaner.state.floatbank8_a_level  \\\n",
       "19409                               -399.652957   \n",
       "19410                               -399.870802   \n",
       "19411                               -399.029909   \n",
       "19412                               -399.799354   \n",
       "19413                               -400.177220   \n",
       "19414                               -400.467259   \n",
       "19415                               -399.828162   \n",
       "19416                               -400.069849   \n",
       "19417                               -400.124973   \n",
       "19418                               -399.645178   \n",
       "19419                               -399.718422   \n",
       "19420                               -399.878826   \n",
       "19421                               -399.702218   \n",
       "19422                               -400.242440   \n",
       "19423                               -399.962773   \n",
       "19424                               -400.073386   \n",
       "19425                               -400.240930   \n",
       "19426                               -399.579910   \n",
       "19427                               -400.098864   \n",
       "19428                               -399.708145   \n",
       "19429                               -400.061136   \n",
       "19430                               -399.457524   \n",
       "19431                               -400.254719   \n",
       "19432                               -400.169291   \n",
       "19433                               -399.788506   \n",
       "19434                               -400.382169   \n",
       "19435                               -399.930973   \n",
       "19436                               -399.888631   \n",
       "19437                               -398.977083   \n",
       "19438                               -399.862053   \n",
       "\n",
       "       primary_cleaner.state.floatbank8_b_air  \\\n",
       "19409                             1648.463763   \n",
       "19410                             1648.478146   \n",
       "19411                             1648.793918   \n",
       "19412                             1648.138126   \n",
       "19413                             1648.063460   \n",
       "19414                             1651.065222   \n",
       "19415                             1649.813613   \n",
       "19416                             1649.610826   \n",
       "19417                             1650.440341   \n",
       "19418                             1650.788636   \n",
       "19419                             1649.170321   \n",
       "19420                             1649.375947   \n",
       "19421                             1651.203128   \n",
       "19422                             1649.259588   \n",
       "19423                             1649.606115   \n",
       "19424                             1649.459080   \n",
       "19425                             1652.317049   \n",
       "19426                             1649.637851   \n",
       "19427                             1649.714509   \n",
       "19428                             1648.401594   \n",
       "19429                             1649.457537   \n",
       "19430                             1649.909661   \n",
       "19431                             1649.423778   \n",
       "19432                             1648.508847   \n",
       "19433                             1648.395206   \n",
       "19434                             1648.742005   \n",
       "19435                             1649.357538   \n",
       "19436                             1649.196904   \n",
       "19437                             1648.212240   \n",
       "19438                             1650.135395   \n",
       "\n",
       "       primary_cleaner.state.floatbank8_b_level  \\\n",
       "19409                               -399.606965   \n",
       "19410                               -400.203233   \n",
       "19411                               -399.520718   \n",
       "19412                               -399.983964   \n",
       "19413                               -399.854891   \n",
       "19414                               -400.657488   \n",
       "19415                               -399.854071   \n",
       "19416                               -399.479252   \n",
       "19417                               -400.182977   \n",
       "19418                               -399.857146   \n",
       "19419                               -400.119658   \n",
       "19420                               -399.827594   \n",
       "19421                               -400.291472   \n",
       "19422                               -399.580931   \n",
       "19423                               -399.890043   \n",
       "19424                               -400.558233   \n",
       "19425                               -399.804379   \n",
       "19426                               -400.214559   \n",
       "19427                               -399.513947   \n",
       "19428                               -400.608887   \n",
       "19429                               -399.456945   \n",
       "19430                               -400.627000   \n",
       "19431                               -399.892993   \n",
       "19432                               -399.896538   \n",
       "19433                               -400.166490   \n",
       "19434                               -400.359661   \n",
       "19435                               -399.721222   \n",
       "19436                               -399.677571   \n",
       "19437                               -400.383265   \n",
       "19438                               -399.957321   \n",
       "\n",
       "       primary_cleaner.state.floatbank8_c_air  \\\n",
       "19409                             1648.623990   \n",
       "19410                             1648.578582   \n",
       "19411                             1648.833785   \n",
       "19412                             1648.816499   \n",
       "19413                             1647.933879   \n",
       "19414                             1649.535593   \n",
       "19415                             1650.211110   \n",
       "19416                             1649.041564   \n",
       "19417                             1650.279621   \n",
       "19418                             1649.707469   \n",
       "19419                             1650.330426   \n",
       "19420                             1649.519493   \n",
       "19421                             1651.924848   \n",
       "19422                             1652.590371   \n",
       "19423                             1649.119654   \n",
       "19424                             1650.555095   \n",
       "19425                             1649.907180   \n",
       "19426                             1647.758528   \n",
       "19427                             1649.557408   \n",
       "19428                             1649.739466   \n",
       "19429                             1650.385133   \n",
       "19430                             1649.530874   \n",
       "19431                             1648.461910   \n",
       "19432                             1649.692752   \n",
       "19433                             1648.953828   \n",
       "19434                             1648.578230   \n",
       "19435                             1648.656192   \n",
       "19436                             1647.896999   \n",
       "19437                             1648.917387   \n",
       "19438                             1648.831890   \n",
       "\n",
       "       primary_cleaner.state.floatbank8_c_level  \\\n",
       "19409                               -399.664682   \n",
       "19410                               -400.605144   \n",
       "19411                               -400.555705   \n",
       "19412                               -401.025014   \n",
       "19413                               -401.903999   \n",
       "19414                               -399.814081   \n",
       "19415                               -400.113409   \n",
       "19416                               -399.369227   \n",
       "19417                               -399.968515   \n",
       "19418                               -400.831714   \n",
       "19419                               -398.758777   \n",
       "19420                               -400.578727   \n",
       "19421                               -398.058033   \n",
       "19422                               -400.282064   \n",
       "19423                               -398.908968   \n",
       "19424                               -400.803280   \n",
       "19425                               -401.298443   \n",
       "19426                               -399.745368   \n",
       "19427                               -400.776757   \n",
       "19428                               -399.690006   \n",
       "19429                               -399.375007   \n",
       "19430                               -399.898857   \n",
       "19431                               -400.079787   \n",
       "19432                               -400.115498   \n",
       "19433                               -400.468641   \n",
       "19434                               -399.363624   \n",
       "19435                               -401.195834   \n",
       "19436                               -399.988275   \n",
       "19437                               -399.521344   \n",
       "19438                               -400.586116   \n",
       "\n",
       "       primary_cleaner.state.floatbank8_d_air  \\\n",
       "19409                             1649.975109   \n",
       "19410                             1650.268262   \n",
       "19411                             1651.426923   \n",
       "19412                             1649.958315   \n",
       "19413                             1649.210305   \n",
       "19414                             1645.473629   \n",
       "19415                             1650.732551   \n",
       "19416                             1649.215480   \n",
       "19417                             1649.706672   \n",
       "19418                             1650.552948   \n",
       "19419                             1650.368980   \n",
       "19420                             1649.677354   \n",
       "19421                             1650.782696   \n",
       "19422                             1649.989293   \n",
       "19423                             1649.055862   \n",
       "19424                             1650.729405   \n",
       "19425                             1650.614808   \n",
       "19426                             1649.043905   \n",
       "19427                             1650.503802   \n",
       "19428                             1650.660653   \n",
       "19429                             1649.409465   \n",
       "19430                             1649.360905   \n",
       "19431                             1649.980440   \n",
       "19432                             1649.423919   \n",
       "19433                             1649.821569   \n",
       "19434                             1648.833984   \n",
       "19435                             1649.725133   \n",
       "19436                             1649.772714   \n",
       "19437                             1651.498591   \n",
       "19438                             1649.464582   \n",
       "\n",
       "       primary_cleaner.state.floatbank8_d_level  \\\n",
       "19409                               -400.074773   \n",
       "19410                               -400.156538   \n",
       "19411                               -399.795765   \n",
       "19412                               -399.539034   \n",
       "19413                               -400.597112   \n",
       "19414                               -399.921994   \n",
       "19415                               -399.945036   \n",
       "19416                               -399.994232   \n",
       "19417                               -400.438633   \n",
       "19418                               -400.310647   \n",
       "19419                               -400.800815   \n",
       "19420                               -399.149192   \n",
       "19421                               -399.597977   \n",
       "19422                               -400.526621   \n",
       "19423                               -398.838869   \n",
       "19424                               -400.683849   \n",
       "19425                               -399.978780   \n",
       "19426                               -399.522963   \n",
       "19427                               -400.731683   \n",
       "19428                               -399.372453   \n",
       "19429                               -400.605830   \n",
       "19430                               -400.181248   \n",
       "19431                               -399.801181   \n",
       "19432                               -400.428729   \n",
       "19433                               -400.071884   \n",
       "19434                               -399.669220   \n",
       "19435                               -400.636306   \n",
       "19436                               -399.831902   \n",
       "19437                               -399.745329   \n",
       "19438                               -400.673303   \n",
       "\n",
       "       rougher.calculation.sulfate_to_au_concentrate  \\\n",
       "19409                                   41916.831962   \n",
       "19410                                   41937.040929   \n",
       "19411                                   42098.236930   \n",
       "19412                                   42081.773555   \n",
       "19413                                   42026.195368   \n",
       "19414                                   41971.509540   \n",
       "19415                                   41908.053229   \n",
       "19416                                   41935.456917   \n",
       "19417                                   41966.701923   \n",
       "19418                                   41959.331207   \n",
       "19419                                   42003.084480   \n",
       "19420                                   41957.639706   \n",
       "19421                                   42143.655118   \n",
       "19422                                   42146.475684   \n",
       "19423                                   42813.394867   \n",
       "19424                                   44146.766229   \n",
       "19425                                   46000.146111   \n",
       "19426                                   47899.294619   \n",
       "19427                                   47703.305705   \n",
       "19428                                   47759.460187   \n",
       "19429                                   47996.497221   \n",
       "19430                                   47996.597285   \n",
       "19431                                   48310.254419   \n",
       "19432                                   48001.534550   \n",
       "19433                                   47344.521623   \n",
       "19434                                   45912.942619   \n",
       "19435                                   46200.099585   \n",
       "19436                                   44585.181334   \n",
       "19437                                   44084.735708   \n",
       "19438                                   44082.866565   \n",
       "\n",
       "       rougher.calculation.floatbank10_sulfate_to_au_feed  \\\n",
       "19409                                        2491.157171    \n",
       "19410                                        2496.794459    \n",
       "19411                                        2513.707580    \n",
       "19412                                        2505.242536    \n",
       "19413                                        2499.588400    \n",
       "19414                                        2497.674206    \n",
       "19415                                        2490.448721    \n",
       "19416                                        2502.870977    \n",
       "19417                                        2497.230088    \n",
       "19418                                        2499.609135    \n",
       "19419                                        2491.724178    \n",
       "19420                                        2503.830982    \n",
       "19421                                        2518.384030    \n",
       "19422                                        2511.682890    \n",
       "19423                                        2503.564166    \n",
       "19424                                        2509.370081    \n",
       "19425                                        2488.366004    \n",
       "19426                                        2488.017397    \n",
       "19427                                        2479.455193    \n",
       "19428                                        2494.313150    \n",
       "19429                                        2498.160551    \n",
       "19430                                        2505.007286    \n",
       "19431                                        2524.316705    \n",
       "19432                                        2489.159602    \n",
       "19433                                        2486.372996    \n",
       "19434                                        2497.652954    \n",
       "19435                                        2614.403937    \n",
       "19436                                        2510.813545    \n",
       "19437                                        2507.572494    \n",
       "19438                                        2487.477762    \n",
       "\n",
       "       rougher.calculation.floatbank11_sulfate_to_au_feed  \\\n",
       "19409                                        2490.489462    \n",
       "19410                                        2496.952350    \n",
       "19411                                        2513.093240    \n",
       "19412                                        2506.595681    \n",
       "19413                                        2498.722141    \n",
       "19414                                        2497.715187    \n",
       "19415                                        2490.557108    \n",
       "19416                                        2502.967665    \n",
       "19417                                        2497.122601    \n",
       "19418                                        2499.572877    \n",
       "19419                                        2491.835858    \n",
       "19420                                        2503.353793    \n",
       "19421                                        2519.316168    \n",
       "19422                                        2510.560269    \n",
       "19423                                        2503.812254    \n",
       "19424                                        2509.205831    \n",
       "19425                                        2489.086787    \n",
       "19426                                        2488.434922    \n",
       "19427                                        2477.646461    \n",
       "19428                                        2495.445414    \n",
       "19429                                        2498.390499    \n",
       "19430                                        2505.376866    \n",
       "19431                                        2524.130891    \n",
       "19432                                        2489.526748    \n",
       "19433                                        2484.340934    \n",
       "19434                                        2499.177950    \n",
       "19435                                        2518.550078    \n",
       "19436                                        2510.142433    \n",
       "19437                                        2507.723361    \n",
       "19438                                        2488.626080    \n",
       "\n",
       "       rougher.calculation.au_pb_ratio  rougher.input.feed_ag  \\\n",
       "19409                         1.136122               6.881480   \n",
       "19410                         1.228492               7.009794   \n",
       "19411                         1.277886               6.942730   \n",
       "19412                         1.202026               6.749376   \n",
       "19413                         1.099282               6.413922   \n",
       "19414                         1.066018               6.347536   \n",
       "19415                         1.084777               6.432678   \n",
       "19416                         1.092787               6.343984   \n",
       "19417                         1.082861               6.210191   \n",
       "19418                         1.068924               6.344844   \n",
       "19419                         1.075400               6.389170   \n",
       "19420                         1.091276               6.367655   \n",
       "19421                         1.079240               6.084374   \n",
       "19422                         1.014358               5.491951   \n",
       "19423                         0.991771               5.824127   \n",
       "19424                         0.976453               5.729293   \n",
       "19425                         1.001493               5.886543   \n",
       "19426                         1.023785               6.017651   \n",
       "19427                         1.066710               6.085168   \n",
       "19428                         1.122375               6.135752   \n",
       "19429                         1.125554               5.991053   \n",
       "19430                         1.112634               6.064047   \n",
       "19431                         1.080830               5.822083   \n",
       "19432                         1.098209               5.844800   \n",
       "19433                         1.113408               6.082745   \n",
       "19434                         1.155559               6.091855   \n",
       "19435                         1.167342               6.121323   \n",
       "19436                         1.125637               5.970515   \n",
       "19437                         1.117935               6.048130   \n",
       "19438                         1.126367               6.158718   \n",
       "\n",
       "       rougher.input.feed_pb  rougher.input.feed_rate  \\\n",
       "19409               5.063351               499.913283   \n",
       "19410               4.909009               514.977484   \n",
       "19411               4.369886               520.303650   \n",
       "19412               4.437641               520.055759   \n",
       "19413               4.757455               519.740199   \n",
       "19414               4.916344               519.714494   \n",
       "19415               5.003105               520.076735   \n",
       "19416               5.069383               519.402068   \n",
       "19417               5.130377               519.813206   \n",
       "19418               5.288999               519.782461   \n",
       "19419               5.221009               534.302251   \n",
       "19420               5.143115               539.505358   \n",
       "19421               4.768124               539.713765   \n",
       "19422               4.358653               540.659299   \n",
       "19423               4.556183               539.403965   \n",
       "19424               4.225217               540.561050   \n",
       "19425               4.287400               539.570507   \n",
       "19426               4.426232               540.406542   \n",
       "19427               4.907868               539.940703   \n",
       "19428               5.002952               539.820229   \n",
       "19429               4.887487               547.273785   \n",
       "19430               4.814499               560.225154   \n",
       "19431               4.255546               559.895089   \n",
       "19432               4.241564               561.464855   \n",
       "19433               4.564078               558.155110   \n",
       "19434               4.617558               560.889077   \n",
       "19435               4.144989               559.031805   \n",
       "19436               4.020002               555.682872   \n",
       "19437               3.902537               544.731687   \n",
       "19438               3.875727               555.820208   \n",
       "\n",
       "       rougher.input.feed_size  rougher.input.feed_sol  rougher.input.feed_au  \\\n",
       "19409                75.555829               37.583419               5.752585   \n",
       "19410                74.467183               36.839063               6.030679   \n",
       "19411                76.149509               37.131979               5.584216   \n",
       "19412                74.352820               36.818434               5.334160   \n",
       "19413                72.676754               36.466654               5.229785   \n",
       "19414                70.465492               36.664364               5.240911   \n",
       "19415                70.178018               37.273569               5.427253   \n",
       "19416                72.380824               36.320938               5.539758   \n",
       "19417                72.747320               36.583801               5.555483   \n",
       "19418                73.955183               36.532975               5.653537   \n",
       "19419                75.581975               36.793884               5.614674   \n",
       "19420                76.736229               37.056661               5.612559   \n",
       "19421                77.984784               36.808874               5.145949   \n",
       "19422                83.856289               34.969575               4.421234   \n",
       "19423                82.395217               37.171760               4.518689   \n",
       "19424                78.393221               37.209750               4.125726   \n",
       "19425                78.312907               36.421157               4.293801   \n",
       "19426                81.105992               38.242356               4.531511   \n",
       "19427                80.963233               37.571166               5.235274   \n",
       "19428                80.434254               36.698724               5.615186   \n",
       "19429                82.210677               37.663932               5.501130   \n",
       "19430                85.757347               37.523378               5.356778   \n",
       "19431                85.247019               37.480479               4.599524   \n",
       "19432                83.860651               37.395565               4.658125   \n",
       "19433                82.610855               37.208683               5.081681   \n",
       "19434                85.718304               37.369774               5.335862   \n",
       "19435               119.499241               38.591551               4.838619   \n",
       "19436               122.262690               40.074026               4.525061   \n",
       "19437               123.742430               39.713906               4.362781   \n",
       "19438                94.544358               39.135119               4.365491   \n",
       "\n",
       "       rougher.input.floatbank10_sulfate  rougher.input.floatbank10_xanthate  \\\n",
       "19409                           7.149966                            7.493450   \n",
       "19410                           7.493988                            7.667556   \n",
       "19411                           7.136975                            8.011375   \n",
       "19412                           6.836032                            8.866426   \n",
       "19413                           6.709837                            9.003702   \n",
       "19414                           6.731820                            8.997863   \n",
       "19415                           6.958417                            8.996328   \n",
       "19416                           7.136243                            8.996588   \n",
       "19417                           7.140897                            9.002550   \n",
       "19418                           7.272077                            9.001176   \n",
       "19419                           7.266384                            9.001968   \n",
       "19420                           7.469923                            9.000133   \n",
       "19421                           6.927072                            8.955597   \n",
       "19422                           6.429040                            8.994282   \n",
       "19423                           6.053601                            8.630881   \n",
       "19424                           5.538614                            9.004429   \n",
       "19425                           5.721385                            8.998198   \n",
       "19426                           6.104409                            8.995350   \n",
       "19427                           7.119301                            8.991273   \n",
       "19428                           7.760323                            9.018925   \n",
       "19429                           7.713332                            8.902892   \n",
       "19430                           7.773575                            8.986931   \n",
       "19431                           6.775864                            9.005425   \n",
       "19432                           6.770561                            9.000889   \n",
       "19433                           7.363824                            9.003562   \n",
       "19434                           7.762770                            9.158609   \n",
       "19435                           7.356687                            9.304952   \n",
       "19436                           6.586020                            9.299606   \n",
       "19437                           6.210119                            9.297709   \n",
       "19438                           6.146982                            9.308612   \n",
       "\n",
       "       rougher.input.floatbank11_sulfate  rougher.input.floatbank11_xanthate  \\\n",
       "19409                           7.148391                            7.500544   \n",
       "19410                           7.495567                            7.696076   \n",
       "19411                           7.134951                            8.004409   \n",
       "19412                           6.840455                            8.885448   \n",
       "19413                           6.706426                            8.995812   \n",
       "19414                           6.730742                            9.002956   \n",
       "19415                           6.958694                            8.998763   \n",
       "19416                           7.136513                            8.999869   \n",
       "19417                           7.141975                            9.000660   \n",
       "19418                           7.271614                            8.991570   \n",
       "19419                           7.267421                            8.996827   \n",
       "19420                           7.470929                            8.998936   \n",
       "19421                           6.929364                            8.920717   \n",
       "19422                           6.426564                            9.003144   \n",
       "19423                           6.053477                            8.544054   \n",
       "19424                           5.537430                            8.996390   \n",
       "19425                           5.721753                            9.000801   \n",
       "19426                           6.104624                            9.001988   \n",
       "19427                           7.115128                            8.998376   \n",
       "19428                           7.763807                            9.002704   \n",
       "19429                           7.713595                            8.541827   \n",
       "19430                           7.774479                            8.999780   \n",
       "19431                           6.775291                            9.000862   \n",
       "19432                           6.771708                            9.001694   \n",
       "19433                           7.358308                            9.000624   \n",
       "19434                           7.766744                            9.156069   \n",
       "19435                           7.095508                            9.297924   \n",
       "19436                           6.584130                            9.300133   \n",
       "19437                           6.209517                            9.297194   \n",
       "19438                           6.168939                            9.309852   \n",
       "\n",
       "       rougher.output.concentrate_ag  rougher.output.concentrate_pb  \\\n",
       "19409                      11.609476                      10.998026   \n",
       "19410                      11.438144                      10.950660   \n",
       "19411                      11.762979                      10.334964   \n",
       "19412                      11.851375                      10.198830   \n",
       "19413                      11.523313                      10.701882   \n",
       "19414                      11.223092                      11.126900   \n",
       "19415                      11.273482                      11.224784   \n",
       "19416                      11.174380                      11.202407   \n",
       "19417                      10.982999                      11.253276   \n",
       "19418                      10.913800                      11.418703   \n",
       "19419                      11.120757                      11.583608   \n",
       "19420                      11.253180                      11.615797   \n",
       "19421                      11.374600                      11.490951   \n",
       "19422                      10.659928                      10.845380   \n",
       "19423                      11.467013                      11.785651   \n",
       "19424                      11.651589                      11.664664   \n",
       "19425                      11.713342                      11.544891   \n",
       "19426                      11.745437                      11.366487   \n",
       "19427                      11.308509                      11.415062   \n",
       "19428                       8.974101                      10.589476   \n",
       "19429                       9.578575                      10.321667   \n",
       "19430                      10.979841                      11.454703   \n",
       "19431                      11.351051                      11.247837   \n",
       "19432                      11.466046                      11.038697   \n",
       "19433                      11.211407                      11.068714   \n",
       "19434                      11.124896                      10.984003   \n",
       "19435                      11.425983                      10.888213   \n",
       "19436                       8.523497                       8.955135   \n",
       "19437                      11.658799                      10.655377   \n",
       "19438                      11.959486                      10.702148   \n",
       "\n",
       "       rougher.output.concentrate_sol  rougher.output.concentrate_au  \\\n",
       "19409                       30.326956                      18.755634   \n",
       "19410                       29.937369                      19.021444   \n",
       "19411                       29.247242                      18.512130   \n",
       "19412                       28.658896                      18.092120   \n",
       "19413                       28.295748                      17.595923   \n",
       "19414                       28.073480                      17.482762   \n",
       "19415                       28.061300                      17.396721   \n",
       "19416                       28.860089                      17.872484   \n",
       "19417                       29.005615                      17.848178   \n",
       "19418                       28.846029                      17.870680   \n",
       "19419                       29.082068                      17.850498   \n",
       "19420                       29.765601                      18.311183   \n",
       "19421                       29.869018                      18.260411   \n",
       "19422                       28.005892                      17.032174   \n",
       "19423                       29.613255                      17.998415   \n",
       "19424                       29.664556                      18.031260   \n",
       "19425                       29.759394                      18.243537   \n",
       "19426                       29.892366                      18.221587   \n",
       "19427                       29.631281                      18.205040   \n",
       "19428                       25.531901                      17.149374   \n",
       "19429                       27.501761                      17.200572   \n",
       "19430                       30.242922                      18.551582   \n",
       "19431                       29.858813                      18.162221   \n",
       "19432                       29.817524                      18.287758   \n",
       "19433                       29.796166                      18.584333   \n",
       "19434                       30.068876                      18.603550   \n",
       "19435                       29.783972                      18.441436   \n",
       "19436                       22.786467                      15.111231   \n",
       "19437                       29.052742                      17.834772   \n",
       "19438                       29.078235                      17.804134   \n",
       "\n",
       "       rougher.output.recovery  rougher.output.tail_ag  \\\n",
       "19409                88.772782                4.633042   \n",
       "19410                86.379988                5.022654   \n",
       "19411                84.040936                5.081916   \n",
       "19412                83.803129                4.996664   \n",
       "19413                85.176523                4.825933   \n",
       "19414                87.558903                4.552694   \n",
       "19415                89.614889                4.372936   \n",
       "19416                90.575891                4.304173   \n",
       "19417                91.068846                4.174661   \n",
       "19418                91.492066                4.077304   \n",
       "19419                90.912994                4.101903   \n",
       "19420                90.384753                4.168361   \n",
       "19421                88.478959                4.205933   \n",
       "19422                87.793594                4.117566   \n",
       "19423                90.466483                3.946942   \n",
       "19424                90.577495                3.907190   \n",
       "19425                90.989649                4.012505   \n",
       "19426                91.245717                4.116838   \n",
       "19427                90.954901                4.212634   \n",
       "19428                91.675070                4.152521   \n",
       "19429                90.732567                4.131306   \n",
       "19430                89.946627                4.141503   \n",
       "19431                87.684717                4.116153   \n",
       "19432                90.677361                3.926701   \n",
       "19433                91.816623                3.958529   \n",
       "19434                89.574376                4.207261   \n",
       "19435                87.724007                4.177943   \n",
       "19436                88.890579                4.050010   \n",
       "19437                89.858126                3.902494   \n",
       "19438                89.514960                3.925473   \n",
       "\n",
       "       rougher.output.tail_pb  rougher.output.tail_sol  \\\n",
       "19409                0.613917                17.276486   \n",
       "19410                0.658619                15.647142   \n",
       "19411                0.668265                15.790780   \n",
       "19412                0.648876                16.478637   \n",
       "19413                0.614857                16.318209   \n",
       "19414                0.581822                15.696471   \n",
       "19415                0.574707                15.702253   \n",
       "19416                0.558524                15.702565   \n",
       "19417                0.557063                15.311872   \n",
       "19418                0.575396                15.077514   \n",
       "19419                0.601814                14.871610   \n",
       "19420                0.604370                15.030256   \n",
       "19421                0.627657                15.233675   \n",
       "19422                0.549278                15.981621   \n",
       "19423                0.540102                16.477907   \n",
       "19424                0.515658                16.973116   \n",
       "19425                0.474320                16.950894   \n",
       "19426                0.466360                17.189575   \n",
       "19427                0.536411                16.974401   \n",
       "19428                0.580449                16.480686   \n",
       "19429                0.603649                15.991752   \n",
       "19430                0.599991                15.978496   \n",
       "19431                0.618130                16.383667   \n",
       "19432                0.559078                17.340650   \n",
       "19433                0.546749                17.403429   \n",
       "19434                0.612935                16.666590   \n",
       "19435                0.650557                16.960649   \n",
       "19436                0.636095                18.323080   \n",
       "19437                0.625609                19.423740   \n",
       "19438                0.638677                19.946673   \n",
       "\n",
       "       rougher.output.tail_au  rougher.state.floatbank10_a_air  \\\n",
       "19409                0.887502                      1200.157535   \n",
       "19410                1.131165                      1199.343087   \n",
       "19411                1.193840                      1201.274151   \n",
       "19412                1.147488                      1198.635691   \n",
       "19413                1.038019                      1199.378277   \n",
       "19414                0.884081                      1198.036238   \n",
       "19415                0.782349                      1200.011575   \n",
       "19416                0.725856                      1201.619605   \n",
       "19417                0.692455                      1200.421437   \n",
       "19418                0.676932                      1199.310939   \n",
       "19419                0.714530                      1199.596950   \n",
       "19420                0.746459                      1199.405551   \n",
       "19421                0.789796                      1199.292489   \n",
       "19422                0.698965                      1202.166594   \n",
       "19423                0.557387                      1199.337928   \n",
       "19424                0.490377                      1201.488859   \n",
       "19425                0.492318                      1199.283969   \n",
       "19426                0.513143                      1197.333752   \n",
       "19427                0.641266                      1199.283008   \n",
       "19428                0.667963                      1198.874750   \n",
       "19429                0.718232                      1201.841545   \n",
       "19430                0.727478                      1199.084276   \n",
       "19431                0.728133                      1200.454685   \n",
       "19432                0.564683                      1200.958146   \n",
       "19433                0.555257                      1200.826926   \n",
       "19434                0.748633                      1199.245914   \n",
       "19435                0.771582                      1196.569267   \n",
       "19436                0.685059                      1204.866639   \n",
       "19437                0.567130                      1201.904177   \n",
       "19438                0.586439                      1196.238112   \n",
       "\n",
       "       rougher.state.floatbank10_a_level  rougher.state.floatbank10_b_air  \\\n",
       "19409                        -300.144541                      1100.440625   \n",
       "19410                        -300.147209                      1147.078162   \n",
       "19411                        -300.061571                      1157.483950   \n",
       "19412                        -299.864355                      1146.875123   \n",
       "19413                        -299.642414                      1150.214396   \n",
       "19414                        -299.687525                      1145.595699   \n",
       "19415                        -300.100669                      1150.733478   \n",
       "19416                        -299.990564                      1149.979368   \n",
       "19417                        -299.996873                      1150.028662   \n",
       "19418                        -300.270580                      1149.481748   \n",
       "19419                        -299.922279                      1150.643651   \n",
       "19420                        -300.218487                      1149.919618   \n",
       "19421                        -299.778385                      1152.512559   \n",
       "19422                        -300.022766                      1149.027411   \n",
       "19423                        -300.060055                      1151.754713   \n",
       "19424                        -300.092036                      1149.141258   \n",
       "19425                        -299.960242                      1148.971487   \n",
       "19426                        -300.164875                      1149.718263   \n",
       "19427                        -300.103086                      1151.771815   \n",
       "19428                        -300.082852                      1150.891634   \n",
       "19429                        -299.984514                      1149.184639   \n",
       "19430                        -300.148928                      1149.854843   \n",
       "19431                        -300.012582                      1150.627632   \n",
       "19432                        -300.013649                      1149.862859   \n",
       "19433                        -300.124116                      1150.754676   \n",
       "19434                        -300.845518                      1149.807890   \n",
       "19435                        -299.512227                      1147.675196   \n",
       "19436                        -299.235675                      1149.942902   \n",
       "19437                        -299.907308                      1154.087804   \n",
       "19438                        -299.862743                      1147.248241   \n",
       "\n",
       "       rougher.state.floatbank10_b_level  rougher.state.floatbank10_c_air  \\\n",
       "19409                        -499.814870                       999.177497   \n",
       "19410                        -500.062445                      1048.042621   \n",
       "19411                        -500.110068                      1057.037676   \n",
       "19412                        -499.771902                      1047.091883   \n",
       "19413                        -500.167215                      1050.871214   \n",
       "19414                        -500.016520                      1045.921471   \n",
       "19415                        -498.734148                      1049.807364   \n",
       "19416                        -500.164238                      1050.066661   \n",
       "19417                        -499.918417                      1049.185330   \n",
       "19418                        -499.842052                      1049.683412   \n",
       "19419                        -500.624927                      1050.311866   \n",
       "19420                        -500.239756                      1049.791661   \n",
       "19421                        -500.338106                      1052.601592   \n",
       "19422                        -500.153563                      1049.855122   \n",
       "19423                        -499.615403                      1050.657337   \n",
       "19424                        -499.678998                      1048.820883   \n",
       "19425                        -500.472039                      1048.141264   \n",
       "19426                        -500.105474                      1048.991268   \n",
       "19427                        -499.817654                      1050.303096   \n",
       "19428                        -500.522824                      1052.065334   \n",
       "19429                        -499.994347                      1048.740007   \n",
       "19430                        -499.752986                      1052.176004   \n",
       "19431                        -500.007240                      1052.213299   \n",
       "19432                        -499.856868                      1049.476804   \n",
       "19433                        -499.986009                      1049.182824   \n",
       "19434                        -498.789721                      1047.963596   \n",
       "19435                        -500.608341                      1048.565741   \n",
       "19436                        -501.717903                      1049.604390   \n",
       "19437                        -500.036580                      1054.009756   \n",
       "19438                        -500.363165                      1047.279065   \n",
       "\n",
       "       rougher.state.floatbank10_c_level  rougher.state.floatbank10_d_air  \\\n",
       "19409                        -499.762026                       901.053589   \n",
       "19410                        -500.376287                       940.262276   \n",
       "19411                        -499.944273                       966.447061   \n",
       "19412                        -498.775508                       948.020265   \n",
       "19413                        -500.953506                       937.767035   \n",
       "19414                        -500.453249                       949.025896   \n",
       "19415                        -500.114897                       955.834131   \n",
       "19416                        -500.273861                       952.282700   \n",
       "19417                        -499.830436                       950.605707   \n",
       "19418                        -500.062701                       944.002890   \n",
       "19419                        -499.319171                       943.044876   \n",
       "19420                        -500.087268                       950.606498   \n",
       "19421                        -499.695075                       955.171539   \n",
       "19422                        -499.723735                       953.510033   \n",
       "19423                        -499.732921                       941.182622   \n",
       "19424                        -500.060648                       949.499877   \n",
       "19425                        -499.905768                       951.163287   \n",
       "19426                        -500.630333                       948.160245   \n",
       "19427                        -499.675907                       950.756793   \n",
       "19428                        -500.176105                       953.527898   \n",
       "19429                        -500.024919                       957.358660   \n",
       "19430                        -499.894254                       944.653141   \n",
       "19431                        -499.814928                       947.090150   \n",
       "19432                        -500.085763                       960.563638   \n",
       "19433                        -500.014696                       948.085464   \n",
       "19434                        -498.413079                       946.640977   \n",
       "19435                        -500.932810                       949.773589   \n",
       "19436                        -500.549053                       952.702732   \n",
       "19437                        -500.237335                       944.138793   \n",
       "19438                        -500.354091                       948.756608   \n",
       "\n",
       "       rougher.state.floatbank10_d_level  rougher.state.floatbank10_e_air  \\\n",
       "19409                        -499.073520                       801.845206   \n",
       "19410                        -499.154832                       851.091798   \n",
       "19411                        -495.966604                       851.317657   \n",
       "19412                        -501.962415                       848.792460   \n",
       "19413                        -499.638557                       849.242954   \n",
       "19414                        -504.335534                       845.755668   \n",
       "19415                        -497.388243                       850.807180   \n",
       "19416                        -500.716759                       849.642310   \n",
       "19417                        -500.597049                       849.533313   \n",
       "19418                        -499.743294                       850.274654   \n",
       "19419                        -500.358077                       849.984106   \n",
       "19420                        -500.092256                       850.000363   \n",
       "19421                        -500.294989                       851.957342   \n",
       "19422                        -499.809841                       850.188331   \n",
       "19423                        -500.103851                       849.722351   \n",
       "19424                        -499.242816                       850.132617   \n",
       "19425                        -500.325469                       849.871895   \n",
       "19426                        -499.899248                       849.732961   \n",
       "19427                        -499.706288                       850.528828   \n",
       "19428                        -499.847032                       850.971686   \n",
       "19429                        -499.664991                       849.596840   \n",
       "19430                        -500.416078                       850.038455   \n",
       "19431                        -499.963329                       850.209399   \n",
       "19432                        -499.675142                       849.797044   \n",
       "19433                        -499.997003                       850.170086   \n",
       "19434                        -499.152477                       849.664935   \n",
       "19435                        -500.023144                       848.515225   \n",
       "19436                        -502.352296                       849.016017   \n",
       "19437                        -496.866953                       851.589767   \n",
       "19438                        -498.439416                       849.441918   \n",
       "\n",
       "       rougher.state.floatbank10_e_level  rougher.state.floatbank10_f_air  \\\n",
       "19409                        -500.086592                       801.248561   \n",
       "19410                        -500.235318                       851.104372   \n",
       "19411                        -499.726805                       853.577703   \n",
       "19412                        -500.283905                       849.866730   \n",
       "19413                        -500.078875                       849.614786   \n",
       "19414                        -500.881743                       846.387320   \n",
       "19415                        -500.813903                       851.489053   \n",
       "19416                        -500.536018                       849.798485   \n",
       "19417                        -500.467919                       850.029750   \n",
       "19418                        -500.064710                       850.067438   \n",
       "19419                        -499.328915                       850.395925   \n",
       "19420                        -500.284130                       849.399947   \n",
       "19421                        -499.779541                       850.765662   \n",
       "19422                        -499.868074                       849.698235   \n",
       "19423                        -500.264534                       849.231466   \n",
       "19424                        -500.216717                       850.302712   \n",
       "19425                        -499.941902                       849.708337   \n",
       "19426                        -499.802533                       849.945291   \n",
       "19427                        -499.980762                       850.351206   \n",
       "19428                        -500.459497                       850.442347   \n",
       "19429                        -500.389175                       850.254354   \n",
       "19430                        -500.706533                       849.697769   \n",
       "19431                        -499.970349                       850.139876   \n",
       "19432                        -500.615874                       850.462226   \n",
       "19433                        -500.270334                       849.557905   \n",
       "19434                        -499.214461                       849.758091   \n",
       "19435                        -500.289405                       850.013123   \n",
       "19436                        -500.505677                       850.455635   \n",
       "19437                        -499.040466                       851.345606   \n",
       "19438                        -499.255503                       850.112246   \n",
       "\n",
       "       rougher.state.floatbank10_f_level  secondary_cleaner.output.tail_ag  \\\n",
       "19409                        -499.625962                         17.181839   \n",
       "19410                        -499.425752                         16.983468   \n",
       "19411                        -498.422421                         17.010500   \n",
       "19412                        -501.403563                         17.410938   \n",
       "19413                        -499.218315                         17.837357   \n",
       "19414                        -500.690974                         18.058221   \n",
       "19415                        -500.135056                         17.826736   \n",
       "19416                        -501.026541                         17.462725   \n",
       "19417                        -499.775214                         17.117687   \n",
       "19418                        -500.636851                         16.952631   \n",
       "19419                        -499.506926                         16.803670   \n",
       "19420                        -500.054695                         16.578715   \n",
       "19421                        -501.030559                         16.282560   \n",
       "19422                        -500.410908                         14.999573   \n",
       "19423                        -499.479767                         16.484125   \n",
       "19424                        -499.215592                         16.197416   \n",
       "19425                        -501.895577                         16.725339   \n",
       "19426                        -500.398744                         17.243332   \n",
       "19427                        -498.969103                         17.137556   \n",
       "19428                        -501.220087                         16.964984   \n",
       "19429                        -500.049111                          8.967923   \n",
       "19430                        -499.617680                          0.000000   \n",
       "19431                        -498.721100                          0.000000   \n",
       "19432                        -500.703846                          0.000000   \n",
       "19433                        -500.198702                          0.000000   \n",
       "19434                        -497.448664                          0.000000   \n",
       "19435                        -496.822119                          0.000000   \n",
       "19436                        -506.897968                          0.000000   \n",
       "19437                        -499.122561                          0.000000   \n",
       "19438                        -499.407112                          0.000000   \n",
       "\n",
       "       secondary_cleaner.output.tail_pb  secondary_cleaner.output.tail_sol  \\\n",
       "19409                         11.979707                                NaN   \n",
       "19410                         12.391459                                NaN   \n",
       "19411                         12.256636                                NaN   \n",
       "19412                         11.784212                                NaN   \n",
       "19413                         10.965235                           0.530318   \n",
       "19414                         10.482786                           0.662766   \n",
       "19415                         10.988334                           0.743472   \n",
       "19416                         11.675401                           0.692615   \n",
       "19417                         12.171111                           0.757040   \n",
       "19418                         12.485949                           0.683082   \n",
       "19419                         12.720986                           0.814362   \n",
       "19420                         12.827148                           0.832636   \n",
       "19421                         13.101025                           0.609960   \n",
       "19422                         12.498403                           0.703719   \n",
       "19423                         12.855712                           0.942621   \n",
       "19424                         12.896107                           0.274862   \n",
       "19425                         12.598838                                NaN   \n",
       "19426                         12.286579                                NaN   \n",
       "19427                         12.527319                                NaN   \n",
       "19428                         12.856960                                NaN   \n",
       "19429                          7.093982                                NaN   \n",
       "19430                          0.000000                           0.000000   \n",
       "19431                          0.000000                           0.000000   \n",
       "19432                          0.000000                           0.000000   \n",
       "19433                          0.000000                           0.000000   \n",
       "19434                          0.000000                           0.000000   \n",
       "19435                          0.000000                           0.000000   \n",
       "19436                          0.000000                           0.000000   \n",
       "19437                          0.000000                           0.000000   \n",
       "19438                          0.000000                           0.000000   \n",
       "\n",
       "       secondary_cleaner.output.tail_au  \\\n",
       "19409                          3.762781   \n",
       "19410                          3.679443   \n",
       "19411                          4.065196   \n",
       "19412                          3.865271   \n",
       "19413                          3.588618   \n",
       "19414                          3.791681   \n",
       "19415                          3.781508   \n",
       "19416                          3.920341   \n",
       "19417                          4.140606   \n",
       "19418                          4.248930   \n",
       "19419                          4.420492   \n",
       "19420                          4.869462   \n",
       "19421                          5.510263   \n",
       "19422                          6.340453   \n",
       "19423                          6.408357   \n",
       "19424                          6.564722   \n",
       "19425                          5.204622   \n",
       "19426                          3.721288   \n",
       "19427                          3.031301   \n",
       "19428                          3.130333   \n",
       "19429                          1.615687   \n",
       "19430                          0.000000   \n",
       "19431                          0.000000   \n",
       "19432                          0.000000   \n",
       "19433                          0.000000   \n",
       "19434                          0.000000   \n",
       "19435                          0.000000   \n",
       "19436                          0.000000   \n",
       "19437                          0.000000   \n",
       "19438                          0.000000   \n",
       "\n",
       "       secondary_cleaner.state.floatbank2_a_air  \\\n",
       "19409                                 34.961689   \n",
       "19410                                 34.954898   \n",
       "19411                                 34.910582   \n",
       "19412                                 34.805518   \n",
       "19413                                 34.954987   \n",
       "19414                                 35.027138   \n",
       "19415                                 34.968712   \n",
       "19416                                 34.863297   \n",
       "19417                                 34.932444   \n",
       "19418                                 34.923706   \n",
       "19419                                 34.919221   \n",
       "19420                                 35.008874   \n",
       "19421                                 35.038256   \n",
       "19422                                 34.991783   \n",
       "19423                                 34.973300   \n",
       "19424                                 34.896136   \n",
       "19425                                 34.923976   \n",
       "19426                                 34.913783   \n",
       "19427                                 34.937995   \n",
       "19428                                 34.941947   \n",
       "19429                                 34.960260   \n",
       "19430                                 34.997070   \n",
       "19431                                 35.096512   \n",
       "19432                                 35.116645   \n",
       "19433                                 34.952967   \n",
       "19434                                 35.043205   \n",
       "19435                                 35.026062   \n",
       "19436                                 35.003586   \n",
       "19437                                 34.980742   \n",
       "19438                                 34.940919   \n",
       "\n",
       "       secondary_cleaner.state.floatbank2_a_level  \\\n",
       "19409                                 -500.735010   \n",
       "19410                                 -500.306542   \n",
       "19411                                 -498.946702   \n",
       "19412                                 -498.845168   \n",
       "19413                                 -499.651022   \n",
       "19414                                 -500.436491   \n",
       "19415                                 -499.984941   \n",
       "19416                                 -500.162333   \n",
       "19417                                 -500.100140   \n",
       "19418                                 -500.489921   \n",
       "19419                                 -499.558610   \n",
       "19420                                 -500.282611   \n",
       "19421                                 -500.102649   \n",
       "19422                                 -500.397999   \n",
       "19423                                 -499.165345   \n",
       "19424                                 -500.583360   \n",
       "19425                                 -501.328421   \n",
       "19426                                 -499.972623   \n",
       "19427                                 -498.616792   \n",
       "19428                                 -499.814729   \n",
       "19429                                 -501.279042   \n",
       "19430                                 -498.618024   \n",
       "19431                                 -501.110562   \n",
       "19432                                 -499.070270   \n",
       "19433                                 -501.204647   \n",
       "19434                                 -499.045671   \n",
       "19435                                 -499.891945   \n",
       "19436                                 -501.083794   \n",
       "19437                                 -498.131002   \n",
       "19438                                 -500.150510   \n",
       "\n",
       "       secondary_cleaner.state.floatbank2_b_air  \\\n",
       "19409                                 30.048940   \n",
       "19410                                 30.078909   \n",
       "19411                                 29.942602   \n",
       "19412                                 29.895892   \n",
       "19413                                 29.970947   \n",
       "19414                                 29.989105   \n",
       "19415                                 30.022480   \n",
       "19416                                 29.995787   \n",
       "19417                                 30.070079   \n",
       "19418                                 29.993005   \n",
       "19419                                 30.027713   \n",
       "19420                                 30.077853   \n",
       "19421                                 30.066959   \n",
       "19422                                 30.027288   \n",
       "19423                                 30.068738   \n",
       "19424                                 30.001509   \n",
       "19425                                 29.920564   \n",
       "19426                                 29.976915   \n",
       "19427                                 29.941616   \n",
       "19428                                 30.057878   \n",
       "19429                                 30.000837   \n",
       "19430                                 30.002182   \n",
       "19431                                 29.933276   \n",
       "19432                                 29.948081   \n",
       "19433                                 29.927025   \n",
       "19434                                 29.906659   \n",
       "19435                                 29.921795   \n",
       "19436                                 29.990533   \n",
       "19437                                 29.968453   \n",
       "19438                                 30.031867   \n",
       "\n",
       "       secondary_cleaner.state.floatbank2_b_level  \\\n",
       "19409                                 -500.158357   \n",
       "19410                                 -500.336223   \n",
       "19411                                 -499.499426   \n",
       "19412                                 -499.637137   \n",
       "19413                                 -499.713652   \n",
       "19414                                 -500.344610   \n",
       "19415                                 -499.829772   \n",
       "19416                                 -499.968873   \n",
       "19417                                 -499.966051   \n",
       "19418                                 -500.025516   \n",
       "19419                                 -499.796403   \n",
       "19420                                 -500.080473   \n",
       "19421                                 -500.211499   \n",
       "19422                                 -499.860828   \n",
       "19423                                 -499.331838   \n",
       "19424                                 -500.509220   \n",
       "19425                                 -500.203885   \n",
       "19426                                 -499.776570   \n",
       "19427                                 -499.996881   \n",
       "19428                                 -499.831294   \n",
       "19429                                 -500.309952   \n",
       "19430                                 -506.845938   \n",
       "19431                                 -500.291576   \n",
       "19432                                 -499.964126   \n",
       "19433                                 -500.106628   \n",
       "19434                                 -499.979939   \n",
       "19435                                 -499.949663   \n",
       "19436                                 -611.855898   \n",
       "19437                                 -586.013330   \n",
       "19438                                 -500.328335   \n",
       "\n",
       "       secondary_cleaner.state.floatbank3_a_air  \\\n",
       "19409                                 25.966349   \n",
       "19410                                 25.969538   \n",
       "19411                                 26.036524   \n",
       "19412                                 25.979531   \n",
       "19413                                 25.990068   \n",
       "19414                                 26.069549   \n",
       "19415                                 25.988277   \n",
       "19416                                 25.960827   \n",
       "19417                                 25.987640   \n",
       "19418                                 25.983069   \n",
       "19419                                 25.947000   \n",
       "19420                                 26.051994   \n",
       "19421                                 26.013515   \n",
       "19422                                 26.004500   \n",
       "19423                                 25.977254   \n",
       "19424                                 26.033281   \n",
       "19425                                 25.981553   \n",
       "19426                                 25.945855   \n",
       "19427                                 26.035841   \n",
       "19428                                 25.992952   \n",
       "19429                                 26.005410   \n",
       "19430                                 25.996285   \n",
       "19431                                 25.996427   \n",
       "19432                                 25.990572   \n",
       "19433                                 25.978253   \n",
       "19434                                 26.002402   \n",
       "19435                                 26.031747   \n",
       "19436                                 25.948429   \n",
       "19437                                 25.971737   \n",
       "19438                                 26.033990   \n",
       "\n",
       "       secondary_cleaner.state.floatbank3_a_level  \\\n",
       "19409                                 -500.129114   \n",
       "19410                                 -499.488722   \n",
       "19411                                 -500.196862   \n",
       "19412                                 -500.097166   \n",
       "19413                                 -499.812567   \n",
       "19414                                 -500.432573   \n",
       "19415                                 -500.152515   \n",
       "19416                                 -500.065260   \n",
       "19417                                 -500.179257   \n",
       "19418                                 -500.886621   \n",
       "19419                                 -499.475559   \n",
       "19420                                 -500.454889   \n",
       "19421                                 -500.054597   \n",
       "19422                                 -500.094587   \n",
       "19423                                 -500.072258   \n",
       "19424                                 -499.508983   \n",
       "19425                                 -500.570435   \n",
       "19426                                 -499.583424   \n",
       "19427                                 -499.999451   \n",
       "19428                                 -500.231500   \n",
       "19429                                 -499.896222   \n",
       "19430                                 -500.121249   \n",
       "19431                                 -500.158269   \n",
       "19432                                 -499.785781   \n",
       "19433                                 -499.890060   \n",
       "19434                                 -499.953431   \n",
       "19435                                 -500.384612   \n",
       "19436                                 -500.067268   \n",
       "19437                                 -499.608392   \n",
       "19438                                 -500.147792   \n",
       "\n",
       "       secondary_cleaner.state.floatbank3_b_air  \\\n",
       "19409                                 23.011660   \n",
       "19410                                 22.966885   \n",
       "19411                                 23.010449   \n",
       "19412                                 22.959358   \n",
       "19413                                 22.987820   \n",
       "19414                                 22.982947   \n",
       "19415                                 22.958074   \n",
       "19416                                 23.004262   \n",
       "19417                                 22.997179   \n",
       "19418                                 23.039906   \n",
       "19419                                 22.976698   \n",
       "19420                                 23.013116   \n",
       "19421                                 22.988928   \n",
       "19422                                 22.998002   \n",
       "19423                                 23.015823   \n",
       "19424                                 22.984061   \n",
       "19425                                 22.961685   \n",
       "19426                                 22.980280   \n",
       "19427                                 22.948806   \n",
       "19428                                 22.968326   \n",
       "19429                                 23.016695   \n",
       "19430                                 23.001768   \n",
       "19431                                 23.033562   \n",
       "19432                                 22.963252   \n",
       "19433                                 23.004376   \n",
       "19434                                 22.987238   \n",
       "19435                                 22.991058   \n",
       "19436                                 22.968268   \n",
       "19437                                 22.958448   \n",
       "19438                                 22.952306   \n",
       "\n",
       "       secondary_cleaner.state.floatbank3_b_level  \\\n",
       "19409                                 -499.994100   \n",
       "19410                                 -499.694658   \n",
       "19411                                 -499.983843   \n",
       "19412                                 -499.888110   \n",
       "19413                                 -499.881304   \n",
       "19414                                 -500.379837   \n",
       "19415                                 -500.052563   \n",
       "19416                                 -499.830886   \n",
       "19417                                 -499.958874   \n",
       "19418                                 -499.917911   \n",
       "19419                                 -499.958587   \n",
       "19420                                 -499.971482   \n",
       "19421                                 -499.981410   \n",
       "19422                                 -500.043948   \n",
       "19423                                 -500.284572   \n",
       "19424                                 -499.994631   \n",
       "19425                                 -500.171430   \n",
       "19426                                 -500.048126   \n",
       "19427                                 -500.027338   \n",
       "19428                                 -499.879700   \n",
       "19429                                 -499.961916   \n",
       "19430                                 -500.120533   \n",
       "19431                                 -499.972253   \n",
       "19432                                 -499.898742   \n",
       "19433                                 -500.014529   \n",
       "19434                                 -499.967351   \n",
       "19435                                 -500.079590   \n",
       "19436                                 -499.839442   \n",
       "19437                                 -499.821308   \n",
       "19438                                 -500.037678   \n",
       "\n",
       "       secondary_cleaner.state.floatbank4_a_air  \\\n",
       "19409                                 23.021990   \n",
       "19410                                 23.001575   \n",
       "19411                                 23.007388   \n",
       "19412                                 23.004905   \n",
       "19413                                 23.005506   \n",
       "19414                                 22.981693   \n",
       "19415                                 23.024332   \n",
       "19416                                 22.994118   \n",
       "19417                                 23.014369   \n",
       "19418                                 23.025088   \n",
       "19419                                 23.018880   \n",
       "19420                                 23.022083   \n",
       "19421                                 23.032807   \n",
       "19422                                 22.983029   \n",
       "19423                                 23.038847   \n",
       "19424                                 23.008401   \n",
       "19425                                 22.988173   \n",
       "19426                                 23.036427   \n",
       "19427                                 23.011485   \n",
       "19428                                 23.035611   \n",
       "19429                                 23.015413   \n",
       "19430                                 23.017115   \n",
       "19431                                 23.030949   \n",
       "19432                                 23.033246   \n",
       "19433                                 22.993827   \n",
       "19434                                 23.031497   \n",
       "19435                                 22.960095   \n",
       "19436                                 23.015718   \n",
       "19437                                 23.024963   \n",
       "19438                                 23.018622   \n",
       "\n",
       "       secondary_cleaner.state.floatbank4_a_level  \\\n",
       "19409                                 -501.491291   \n",
       "19410                                 -500.731390   \n",
       "19411                                 -500.709707   \n",
       "19412                                 -500.241069   \n",
       "19413                                 -500.379181   \n",
       "19414                                 -500.375436   \n",
       "19415                                 -501.673294   \n",
       "19416                                 -500.717182   \n",
       "19417                                 -500.212424   \n",
       "19418                                 -501.311668   \n",
       "19419                                 -500.910903   \n",
       "19420                                 -501.108490   \n",
       "19421                                 -501.287889   \n",
       "19422                                 -500.471907   \n",
       "19423                                 -501.385545   \n",
       "19424                                 -500.482103   \n",
       "19425                                 -500.989518   \n",
       "19426                                 -500.990672   \n",
       "19427                                 -500.714430   \n",
       "19428                                 -501.134671   \n",
       "19429                                 -501.287519   \n",
       "19430                                 -501.665249   \n",
       "19431                                 -501.196721   \n",
       "19432                                 -500.912210   \n",
       "19433                                 -501.559663   \n",
       "19434                                 -501.167942   \n",
       "19435                                 -501.612783   \n",
       "19436                                 -501.711599   \n",
       "19437                                 -501.153409   \n",
       "19438                                 -500.492702   \n",
       "\n",
       "       secondary_cleaner.state.floatbank4_b_air  \\\n",
       "19409                                 20.081289   \n",
       "19410                                 19.995845   \n",
       "19411                                 20.063421   \n",
       "19412                                 20.019732   \n",
       "19413                                 20.016167   \n",
       "19414                                 20.045049   \n",
       "19415                                 20.052960   \n",
       "19416                                 19.980870   \n",
       "19417                                 19.992876   \n",
       "19418                                 20.031273   \n",
       "19419                                 19.973517   \n",
       "19420                                 20.018146   \n",
       "19421                                 19.977466   \n",
       "19422                                 19.992177   \n",
       "19423                                 20.031048   \n",
       "19424                                 20.026673   \n",
       "19425                                 20.005718   \n",
       "19426                                 20.023346   \n",
       "19427                                 20.058045   \n",
       "19428                                 19.984883   \n",
       "19429                                 20.057415   \n",
       "19430                                 20.044418   \n",
       "19431                                 20.034440   \n",
       "19432                                 19.988437   \n",
       "19433                                 20.029144   \n",
       "19434                                 20.007571   \n",
       "19435                                 20.035660   \n",
       "19436                                 19.951231   \n",
       "19437                                 20.054122   \n",
       "19438                                 20.020205   \n",
       "\n",
       "       secondary_cleaner.state.floatbank4_b_level  \\\n",
       "19409                                 -500.659152   \n",
       "19410                                 -499.827275   \n",
       "19411                                 -500.286289   \n",
       "19412                                 -499.381247   \n",
       "19413                                 -500.494647   \n",
       "19414                                 -499.630463   \n",
       "19415                                 -500.448548   \n",
       "19416                                 -499.580871   \n",
       "19417                                 -499.888065   \n",
       "19418                                 -500.674430   \n",
       "19419                                 -499.414252   \n",
       "19420                                 -500.739493   \n",
       "19421                                 -500.159903   \n",
       "19422                                 -499.841426   \n",
       "19423                                 -500.151459   \n",
       "19424                                 -500.100963   \n",
       "19425                                 -500.154032   \n",
       "19426                                 -500.147796   \n",
       "19427                                 -499.066195   \n",
       "19428                                 -501.051735   \n",
       "19429                                 -499.600478   \n",
       "19430                                 -500.415095   \n",
       "19431                                 -499.842047   \n",
       "19432                                 -500.125966   \n",
       "19433                                 -500.000662   \n",
       "19434                                 -499.740028   \n",
       "19435                                 -500.251357   \n",
       "19436                                 -499.857027   \n",
       "19437                                 -500.314711   \n",
       "19438                                 -500.220296   \n",
       "\n",
       "       secondary_cleaner.state.floatbank5_a_air  \\\n",
       "19409                                 17.985410   \n",
       "19410                                 18.021047   \n",
       "19411                                 18.033292   \n",
       "19412                                 17.964550   \n",
       "19413                                 18.001244   \n",
       "19414                                 18.008026   \n",
       "19415                                 17.997242   \n",
       "19416                                 18.012514   \n",
       "19417                                 17.977496   \n",
       "19418                                 17.953446   \n",
       "19419                                 17.957036   \n",
       "19420                                 17.998088   \n",
       "19421                                 17.980463   \n",
       "19422                                 17.995858   \n",
       "19423                                 17.998732   \n",
       "19424                                 18.031864   \n",
       "19425                                 17.987716   \n",
       "19426                                 18.010037   \n",
       "19427                                 17.990312   \n",
       "19428                                 17.948892   \n",
       "19429                                 17.985857   \n",
       "19430                                 18.026001   \n",
       "19431                                 18.001504   \n",
       "19432                                 18.011724   \n",
       "19433                                 18.012723   \n",
       "19434                                 18.006038   \n",
       "19435                                 17.998535   \n",
       "19436                                 18.019543   \n",
       "19437                                 17.979515   \n",
       "19438                                 17.963512   \n",
       "\n",
       "       secondary_cleaner.state.floatbank5_a_level  \\\n",
       "19409                                 -500.023766   \n",
       "19410                                 -499.853567   \n",
       "19411                                 -498.564918   \n",
       "19412                                 -500.668205   \n",
       "19413                                 -500.340417   \n",
       "19414                                 -500.690545   \n",
       "19415                                 -500.720112   \n",
       "19416                                 -500.066290   \n",
       "19417                                 -499.967811   \n",
       "19418                                 -500.681679   \n",
       "19419                                 -499.519333   \n",
       "19420                                 -500.267224   \n",
       "19421                                 -500.504602   \n",
       "19422                                 -499.881287   \n",
       "19423                                 -500.375117   \n",
       "19424                                 -499.141703   \n",
       "19425                                 -501.022243   \n",
       "19426                                 -500.299851   \n",
       "19427                                 -499.278862   \n",
       "19428                                 -500.147451   \n",
       "19429                                 -500.239983   \n",
       "19430                                 -499.866058   \n",
       "19431                                 -499.872052   \n",
       "19432                                 -500.090861   \n",
       "19433                                 -500.024764   \n",
       "19434                                 -499.834374   \n",
       "19435                                 -500.395178   \n",
       "19436                                 -500.451156   \n",
       "19437                                 -499.272871   \n",
       "19438                                 -499.939490   \n",
       "\n",
       "       secondary_cleaner.state.floatbank5_b_air  \\\n",
       "19409                                 13.016793   \n",
       "19410                                 12.971879   \n",
       "19411                                 12.961688   \n",
       "19412                                 13.006377   \n",
       "19413                                 12.987431   \n",
       "19414                                 12.994990   \n",
       "19415                                 13.010501   \n",
       "19416                                 12.999451   \n",
       "19417                                 12.954171   \n",
       "19418                                 13.013927   \n",
       "19419                                 12.995216   \n",
       "19420                                 12.995547   \n",
       "19421                                 12.949071   \n",
       "19422                                 13.040699   \n",
       "19423                                 13.022033   \n",
       "19424                                 12.997776   \n",
       "19425                                 13.020843   \n",
       "19426                                 12.982786   \n",
       "19427                                 13.002126   \n",
       "19428                                 13.009772   \n",
       "19429                                 12.974452   \n",
       "19430                                 13.001740   \n",
       "19431                                 12.998309   \n",
       "19432                                 13.007108   \n",
       "19433                                 13.016445   \n",
       "19434                                 13.001114   \n",
       "19435                                 12.954048   \n",
       "19436                                 13.023431   \n",
       "19437                                 12.992404   \n",
       "19438                                 12.990306   \n",
       "\n",
       "       secondary_cleaner.state.floatbank5_b_level  \\\n",
       "19409                                 -499.968020   \n",
       "19410                                 -500.117227   \n",
       "19411                                 -499.930240   \n",
       "19412                                 -500.012333   \n",
       "19413                                 -499.878309   \n",
       "19414                                 -500.075004   \n",
       "19415                                 -499.626615   \n",
       "19416                                 -500.008828   \n",
       "19417                                 -500.260455   \n",
       "19418                                 -500.258257   \n",
       "19419                                 -500.030232   \n",
       "19420                                 -500.179650   \n",
       "19421                                 -500.009937   \n",
       "19422                                 -500.102011   \n",
       "19423                                 -500.018178   \n",
       "19424                                 -499.967224   \n",
       "19425                                 -500.218430   \n",
       "19426                                 -500.097885   \n",
       "19427                                 -499.724599   \n",
       "19428                                 -500.081309   \n",
       "19429                                 -499.879930   \n",
       "19430                                 -499.914235   \n",
       "19431                                 -500.027809   \n",
       "19432                                 -500.258238   \n",
       "19433                                 -500.058432   \n",
       "19434                                 -500.155694   \n",
       "19435                                 -499.895163   \n",
       "19436                                 -499.914391   \n",
       "19437                                 -499.976268   \n",
       "19438                                 -500.080993   \n",
       "\n",
       "       secondary_cleaner.state.floatbank6_a_air  \\\n",
       "19409                                 20.010051   \n",
       "19410                                 19.998784   \n",
       "19411                                 20.002626   \n",
       "19412                                 19.986553   \n",
       "19413                                 19.971031   \n",
       "19414                                 19.987483   \n",
       "19415                                 19.995955   \n",
       "19416                                 20.015172   \n",
       "19417                                 19.983515   \n",
       "19418                                 20.012671   \n",
       "19419                                 19.983372   \n",
       "19420                                 19.985572   \n",
       "19421                                 20.010332   \n",
       "19422                                 19.978991   \n",
       "19423                                 20.004434   \n",
       "19424                                 19.983409   \n",
       "19425                                 20.011456   \n",
       "19426                                 20.003557   \n",
       "19427                                 20.004410   \n",
       "19428                                 20.012084   \n",
       "19429                                 19.988701   \n",
       "19430                                 20.005963   \n",
       "19431                                 20.007108   \n",
       "19432                                 19.983872   \n",
       "19433                                 19.973767   \n",
       "19434                                 20.007840   \n",
       "19435                                 19.968498   \n",
       "19436                                 19.990885   \n",
       "19437                                 20.013986   \n",
       "19438                                 19.990336   \n",
       "\n",
       "       secondary_cleaner.state.floatbank6_a_level  \n",
       "19409                                 -500.549456  \n",
       "19410                                 -500.926436  \n",
       "19411                                 -498.541530  \n",
       "19412                                 -499.845622  \n",
       "19413                                 -500.525421  \n",
       "19414                                 -501.548787  \n",
       "19415                                 -502.213469  \n",
       "19416                                 -501.271089  \n",
       "19417                                 -503.243695  \n",
       "19418                                 -505.750254  \n",
       "19419                                 -509.060146  \n",
       "19420                                 -501.375774  \n",
       "19421                                 -508.337973  \n",
       "19422                                 -506.154599  \n",
       "19423                                 -507.317080  \n",
       "19424                                 -520.407546  \n",
       "19425                                 -499.842173  \n",
       "19426                                 -506.135132  \n",
       "19427                                 -500.347623  \n",
       "19428                                 -501.651764  \n",
       "19429                                 -501.037332  \n",
       "19430                                 -500.767097  \n",
       "19431                                 -500.850685  \n",
       "19432                                 -502.581707  \n",
       "19433                                 -501.394155  \n",
       "19434                                 -501.296428  \n",
       "19435                                 -501.041608  \n",
       "19436                                 -501.518452  \n",
       "19437                                 -500.625471  \n",
       "19438                                 -499.191575  "
      ]
     },
     "execution_count": 4,
     "metadata": {},
     "output_type": "execute_result"
    }
   ],
   "source": [
    "# Взглянем на исходные данные и запишем в переменную initial_data.\n",
    "\n",
    "initial_data = pd.read_csv('/datasets/gold_recovery_full_new.csv')\n",
    "\n",
    "initial_data.tail(30)"
   ]
  },
  {
   "cell_type": "code",
   "execution_count": 5,
   "metadata": {},
   "outputs": [
    {
     "data": {
      "text/html": [
       "<div>\n",
       "<style scoped>\n",
       "    .dataframe tbody tr th:only-of-type {\n",
       "        vertical-align: middle;\n",
       "    }\n",
       "\n",
       "    .dataframe tbody tr th {\n",
       "        vertical-align: top;\n",
       "    }\n",
       "\n",
       "    .dataframe thead th {\n",
       "        text-align: right;\n",
       "    }\n",
       "</style>\n",
       "<table border=\"1\" class=\"dataframe\">\n",
       "  <thead>\n",
       "    <tr style=\"text-align: right;\">\n",
       "      <th></th>\n",
       "      <th>date</th>\n",
       "      <th>final.output.concentrate_ag</th>\n",
       "      <th>final.output.concentrate_pb</th>\n",
       "      <th>final.output.concentrate_sol</th>\n",
       "      <th>final.output.concentrate_au</th>\n",
       "      <th>final.output.recovery</th>\n",
       "      <th>final.output.tail_ag</th>\n",
       "      <th>final.output.tail_pb</th>\n",
       "      <th>final.output.tail_sol</th>\n",
       "      <th>final.output.tail_au</th>\n",
       "      <th>primary_cleaner.input.sulfate</th>\n",
       "      <th>primary_cleaner.input.depressant</th>\n",
       "      <th>primary_cleaner.input.feed_size</th>\n",
       "      <th>primary_cleaner.input.xanthate</th>\n",
       "      <th>primary_cleaner.output.concentrate_ag</th>\n",
       "      <th>primary_cleaner.output.concentrate_pb</th>\n",
       "      <th>primary_cleaner.output.concentrate_sol</th>\n",
       "      <th>primary_cleaner.output.concentrate_au</th>\n",
       "      <th>primary_cleaner.output.tail_ag</th>\n",
       "      <th>primary_cleaner.output.tail_pb</th>\n",
       "      <th>primary_cleaner.output.tail_sol</th>\n",
       "      <th>primary_cleaner.output.tail_au</th>\n",
       "      <th>primary_cleaner.state.floatbank8_a_air</th>\n",
       "      <th>primary_cleaner.state.floatbank8_a_level</th>\n",
       "      <th>primary_cleaner.state.floatbank8_b_air</th>\n",
       "      <th>primary_cleaner.state.floatbank8_b_level</th>\n",
       "      <th>primary_cleaner.state.floatbank8_c_air</th>\n",
       "      <th>primary_cleaner.state.floatbank8_c_level</th>\n",
       "      <th>primary_cleaner.state.floatbank8_d_air</th>\n",
       "      <th>primary_cleaner.state.floatbank8_d_level</th>\n",
       "      <th>rougher.calculation.sulfate_to_au_concentrate</th>\n",
       "      <th>rougher.calculation.floatbank10_sulfate_to_au_feed</th>\n",
       "      <th>rougher.calculation.floatbank11_sulfate_to_au_feed</th>\n",
       "      <th>rougher.calculation.au_pb_ratio</th>\n",
       "      <th>rougher.input.feed_ag</th>\n",
       "      <th>rougher.input.feed_pb</th>\n",
       "      <th>rougher.input.feed_rate</th>\n",
       "      <th>rougher.input.feed_size</th>\n",
       "      <th>rougher.input.feed_sol</th>\n",
       "      <th>rougher.input.feed_au</th>\n",
       "      <th>rougher.input.floatbank10_sulfate</th>\n",
       "      <th>rougher.input.floatbank10_xanthate</th>\n",
       "      <th>rougher.input.floatbank11_sulfate</th>\n",
       "      <th>rougher.input.floatbank11_xanthate</th>\n",
       "      <th>rougher.output.concentrate_ag</th>\n",
       "      <th>rougher.output.concentrate_pb</th>\n",
       "      <th>rougher.output.concentrate_sol</th>\n",
       "      <th>rougher.output.concentrate_au</th>\n",
       "      <th>rougher.output.recovery</th>\n",
       "      <th>rougher.output.tail_ag</th>\n",
       "      <th>rougher.output.tail_pb</th>\n",
       "      <th>rougher.output.tail_sol</th>\n",
       "      <th>rougher.output.tail_au</th>\n",
       "      <th>rougher.state.floatbank10_a_air</th>\n",
       "      <th>rougher.state.floatbank10_a_level</th>\n",
       "      <th>rougher.state.floatbank10_b_air</th>\n",
       "      <th>rougher.state.floatbank10_b_level</th>\n",
       "      <th>rougher.state.floatbank10_c_air</th>\n",
       "      <th>rougher.state.floatbank10_c_level</th>\n",
       "      <th>rougher.state.floatbank10_d_air</th>\n",
       "      <th>rougher.state.floatbank10_d_level</th>\n",
       "      <th>rougher.state.floatbank10_e_air</th>\n",
       "      <th>rougher.state.floatbank10_e_level</th>\n",
       "      <th>rougher.state.floatbank10_f_air</th>\n",
       "      <th>rougher.state.floatbank10_f_level</th>\n",
       "      <th>secondary_cleaner.output.tail_ag</th>\n",
       "      <th>secondary_cleaner.output.tail_pb</th>\n",
       "      <th>secondary_cleaner.output.tail_sol</th>\n",
       "      <th>secondary_cleaner.output.tail_au</th>\n",
       "      <th>secondary_cleaner.state.floatbank2_a_air</th>\n",
       "      <th>secondary_cleaner.state.floatbank2_a_level</th>\n",
       "      <th>secondary_cleaner.state.floatbank2_b_air</th>\n",
       "      <th>secondary_cleaner.state.floatbank2_b_level</th>\n",
       "      <th>secondary_cleaner.state.floatbank3_a_air</th>\n",
       "      <th>secondary_cleaner.state.floatbank3_a_level</th>\n",
       "      <th>secondary_cleaner.state.floatbank3_b_air</th>\n",
       "      <th>secondary_cleaner.state.floatbank3_b_level</th>\n",
       "      <th>secondary_cleaner.state.floatbank4_a_air</th>\n",
       "      <th>secondary_cleaner.state.floatbank4_a_level</th>\n",
       "      <th>secondary_cleaner.state.floatbank4_b_air</th>\n",
       "      <th>secondary_cleaner.state.floatbank4_b_level</th>\n",
       "      <th>secondary_cleaner.state.floatbank5_a_air</th>\n",
       "      <th>secondary_cleaner.state.floatbank5_a_level</th>\n",
       "      <th>secondary_cleaner.state.floatbank5_b_air</th>\n",
       "      <th>secondary_cleaner.state.floatbank5_b_level</th>\n",
       "      <th>secondary_cleaner.state.floatbank6_a_air</th>\n",
       "      <th>secondary_cleaner.state.floatbank6_a_level</th>\n",
       "    </tr>\n",
       "  </thead>\n",
       "  <tbody>\n",
       "    <tr>\n",
       "      <th>0</th>\n",
       "      <td>2016-01-15 00:00:00</td>\n",
       "      <td>6.055403</td>\n",
       "      <td>9.889648</td>\n",
       "      <td>5.507324</td>\n",
       "      <td>42.192020</td>\n",
       "      <td>70.541216</td>\n",
       "      <td>10.411962</td>\n",
       "      <td>0.895447</td>\n",
       "      <td>16.904297</td>\n",
       "      <td>2.143149</td>\n",
       "      <td>127.092003</td>\n",
       "      <td>10.128295</td>\n",
       "      <td>7.25</td>\n",
       "      <td>0.988759</td>\n",
       "      <td>8.547551</td>\n",
       "      <td>10.389648</td>\n",
       "      <td>19.529297</td>\n",
       "      <td>34.174427</td>\n",
       "      <td>14.936526</td>\n",
       "      <td>2.534912</td>\n",
       "      <td>7.476074</td>\n",
       "      <td>2.106679</td>\n",
       "      <td>1549.775757</td>\n",
       "      <td>-498.912140</td>\n",
       "      <td>1551.434204</td>\n",
       "      <td>-516.403442</td>\n",
       "      <td>1549.873901</td>\n",
       "      <td>-498.666595</td>\n",
       "      <td>1554.367432</td>\n",
       "      <td>-493.428131</td>\n",
       "      <td>41885.707031</td>\n",
       "      <td>3481.779053</td>\n",
       "      <td>3520.337158</td>\n",
       "      <td>2.838687</td>\n",
       "      <td>6.100378</td>\n",
       "      <td>2.284912</td>\n",
       "      <td>523.546326</td>\n",
       "      <td>55.486599</td>\n",
       "      <td>36.808594</td>\n",
       "      <td>6.486150</td>\n",
       "      <td>11.986616</td>\n",
       "      <td>6.007990</td>\n",
       "      <td>11.836743</td>\n",
       "      <td>6.005818</td>\n",
       "      <td>11.500771</td>\n",
       "      <td>7.101074</td>\n",
       "      <td>28.029297</td>\n",
       "      <td>19.793808</td>\n",
       "      <td>87.107763</td>\n",
       "      <td>5.008018</td>\n",
       "      <td>0.508728</td>\n",
       "      <td>19.154297</td>\n",
       "      <td>1.170244</td>\n",
       "      <td>999.706909</td>\n",
       "      <td>-404.066986</td>\n",
       "      <td>1603.011353</td>\n",
       "      <td>-434.715027</td>\n",
       "      <td>1602.375000</td>\n",
       "      <td>-442.204468</td>\n",
       "      <td>1598.937256</td>\n",
       "      <td>-451.294128</td>\n",
       "      <td>1404.472046</td>\n",
       "      <td>-455.462982</td>\n",
       "      <td>1416.354980</td>\n",
       "      <td>-451.939636</td>\n",
       "      <td>14.500184</td>\n",
       "      <td>4.694824</td>\n",
       "      <td>8.764648</td>\n",
       "      <td>2.606185</td>\n",
       "      <td>25.853109</td>\n",
       "      <td>-498.526489</td>\n",
       "      <td>23.893660</td>\n",
       "      <td>-501.406281</td>\n",
       "      <td>23.961798</td>\n",
       "      <td>-495.262817</td>\n",
       "      <td>21.940409</td>\n",
       "      <td>-499.340973</td>\n",
       "      <td>14.016835</td>\n",
       "      <td>-502.488007</td>\n",
       "      <td>12.099931</td>\n",
       "      <td>-504.715942</td>\n",
       "      <td>9.925633</td>\n",
       "      <td>-498.310211</td>\n",
       "      <td>8.079666</td>\n",
       "      <td>-500.470978</td>\n",
       "      <td>14.151341</td>\n",
       "      <td>-605.841980</td>\n",
       "    </tr>\n",
       "    <tr>\n",
       "      <th>1</th>\n",
       "      <td>2016-01-15 01:00:00</td>\n",
       "      <td>6.029369</td>\n",
       "      <td>9.968944</td>\n",
       "      <td>5.257781</td>\n",
       "      <td>42.701629</td>\n",
       "      <td>69.266198</td>\n",
       "      <td>10.462676</td>\n",
       "      <td>0.927452</td>\n",
       "      <td>16.634514</td>\n",
       "      <td>2.224930</td>\n",
       "      <td>125.629232</td>\n",
       "      <td>10.296251</td>\n",
       "      <td>7.25</td>\n",
       "      <td>1.002663</td>\n",
       "      <td>8.558743</td>\n",
       "      <td>10.497069</td>\n",
       "      <td>19.369147</td>\n",
       "      <td>34.118526</td>\n",
       "      <td>16.250511</td>\n",
       "      <td>3.049646</td>\n",
       "      <td>6.733907</td>\n",
       "      <td>2.353017</td>\n",
       "      <td>1576.166671</td>\n",
       "      <td>-500.904965</td>\n",
       "      <td>1575.950626</td>\n",
       "      <td>-499.865889</td>\n",
       "      <td>1575.994189</td>\n",
       "      <td>-499.315107</td>\n",
       "      <td>1574.479259</td>\n",
       "      <td>-498.931665</td>\n",
       "      <td>42050.861809</td>\n",
       "      <td>3498.370979</td>\n",
       "      <td>3489.981857</td>\n",
       "      <td>2.858998</td>\n",
       "      <td>6.161113</td>\n",
       "      <td>2.266033</td>\n",
       "      <td>525.290581</td>\n",
       "      <td>57.278666</td>\n",
       "      <td>35.753385</td>\n",
       "      <td>6.478583</td>\n",
       "      <td>11.971193</td>\n",
       "      <td>6.005766</td>\n",
       "      <td>11.996163</td>\n",
       "      <td>6.012594</td>\n",
       "      <td>11.615865</td>\n",
       "      <td>7.278807</td>\n",
       "      <td>28.067063</td>\n",
       "      <td>20.050975</td>\n",
       "      <td>86.843261</td>\n",
       "      <td>4.955378</td>\n",
       "      <td>0.536689</td>\n",
       "      <td>18.965234</td>\n",
       "      <td>1.184827</td>\n",
       "      <td>1000.286398</td>\n",
       "      <td>-400.065196</td>\n",
       "      <td>1600.754587</td>\n",
       "      <td>-449.953435</td>\n",
       "      <td>1600.479580</td>\n",
       "      <td>-449.830646</td>\n",
       "      <td>1600.527589</td>\n",
       "      <td>-449.953649</td>\n",
       "      <td>1399.227084</td>\n",
       "      <td>-450.869848</td>\n",
       "      <td>1399.719514</td>\n",
       "      <td>-450.119001</td>\n",
       "      <td>14.265474</td>\n",
       "      <td>4.592547</td>\n",
       "      <td>9.001494</td>\n",
       "      <td>2.488248</td>\n",
       "      <td>25.880539</td>\n",
       "      <td>-499.989656</td>\n",
       "      <td>23.889530</td>\n",
       "      <td>-500.372428</td>\n",
       "      <td>23.970550</td>\n",
       "      <td>-500.085473</td>\n",
       "      <td>22.085714</td>\n",
       "      <td>-499.446897</td>\n",
       "      <td>13.992281</td>\n",
       "      <td>-505.503262</td>\n",
       "      <td>11.950531</td>\n",
       "      <td>-501.331529</td>\n",
       "      <td>10.039245</td>\n",
       "      <td>-500.169983</td>\n",
       "      <td>7.984757</td>\n",
       "      <td>-500.582168</td>\n",
       "      <td>13.998353</td>\n",
       "      <td>-599.787184</td>\n",
       "    </tr>\n",
       "    <tr>\n",
       "      <th>2</th>\n",
       "      <td>2016-01-15 02:00:00</td>\n",
       "      <td>6.055926</td>\n",
       "      <td>10.213995</td>\n",
       "      <td>5.383759</td>\n",
       "      <td>42.657501</td>\n",
       "      <td>68.116445</td>\n",
       "      <td>10.507046</td>\n",
       "      <td>0.953716</td>\n",
       "      <td>16.208849</td>\n",
       "      <td>2.257889</td>\n",
       "      <td>123.819808</td>\n",
       "      <td>11.316280</td>\n",
       "      <td>7.25</td>\n",
       "      <td>0.991265</td>\n",
       "      <td>8.603505</td>\n",
       "      <td>10.354494</td>\n",
       "      <td>19.167579</td>\n",
       "      <td>33.969464</td>\n",
       "      <td>16.491823</td>\n",
       "      <td>3.124664</td>\n",
       "      <td>6.471768</td>\n",
       "      <td>2.416800</td>\n",
       "      <td>1601.556163</td>\n",
       "      <td>-499.997791</td>\n",
       "      <td>1600.386685</td>\n",
       "      <td>-500.607762</td>\n",
       "      <td>1602.003542</td>\n",
       "      <td>-500.870069</td>\n",
       "      <td>1599.541515</td>\n",
       "      <td>-499.827444</td>\n",
       "      <td>42018.101184</td>\n",
       "      <td>3495.348910</td>\n",
       "      <td>3502.359819</td>\n",
       "      <td>2.945989</td>\n",
       "      <td>6.116455</td>\n",
       "      <td>2.159622</td>\n",
       "      <td>530.026610</td>\n",
       "      <td>57.510649</td>\n",
       "      <td>35.971630</td>\n",
       "      <td>6.362222</td>\n",
       "      <td>11.920603</td>\n",
       "      <td>6.197377</td>\n",
       "      <td>11.920305</td>\n",
       "      <td>6.204633</td>\n",
       "      <td>11.695753</td>\n",
       "      <td>7.216833</td>\n",
       "      <td>27.454037</td>\n",
       "      <td>19.737170</td>\n",
       "      <td>86.842308</td>\n",
       "      <td>4.843460</td>\n",
       "      <td>0.546416</td>\n",
       "      <td>18.808533</td>\n",
       "      <td>1.162562</td>\n",
       "      <td>999.719565</td>\n",
       "      <td>-400.074028</td>\n",
       "      <td>1599.337330</td>\n",
       "      <td>-450.008530</td>\n",
       "      <td>1599.672797</td>\n",
       "      <td>-449.954491</td>\n",
       "      <td>1599.849325</td>\n",
       "      <td>-449.954185</td>\n",
       "      <td>1399.180945</td>\n",
       "      <td>-449.937588</td>\n",
       "      <td>1400.316682</td>\n",
       "      <td>-450.527147</td>\n",
       "      <td>14.115662</td>\n",
       "      <td>4.624775</td>\n",
       "      <td>8.842896</td>\n",
       "      <td>2.458187</td>\n",
       "      <td>26.005245</td>\n",
       "      <td>-499.929616</td>\n",
       "      <td>23.886657</td>\n",
       "      <td>-499.951928</td>\n",
       "      <td>23.913535</td>\n",
       "      <td>-499.442343</td>\n",
       "      <td>23.957717</td>\n",
       "      <td>-499.901982</td>\n",
       "      <td>14.015015</td>\n",
       "      <td>-502.520901</td>\n",
       "      <td>11.912783</td>\n",
       "      <td>-501.133383</td>\n",
       "      <td>10.070913</td>\n",
       "      <td>-500.129135</td>\n",
       "      <td>8.013877</td>\n",
       "      <td>-500.517572</td>\n",
       "      <td>14.028663</td>\n",
       "      <td>-601.427363</td>\n",
       "    </tr>\n",
       "    <tr>\n",
       "      <th>3</th>\n",
       "      <td>2016-01-15 03:00:00</td>\n",
       "      <td>6.047977</td>\n",
       "      <td>9.977019</td>\n",
       "      <td>4.858634</td>\n",
       "      <td>42.689819</td>\n",
       "      <td>68.347543</td>\n",
       "      <td>10.422762</td>\n",
       "      <td>0.883763</td>\n",
       "      <td>16.532835</td>\n",
       "      <td>2.146849</td>\n",
       "      <td>122.270188</td>\n",
       "      <td>11.322140</td>\n",
       "      <td>7.25</td>\n",
       "      <td>0.996739</td>\n",
       "      <td>7.221879</td>\n",
       "      <td>8.496563</td>\n",
       "      <td>15.978538</td>\n",
       "      <td>28.260743</td>\n",
       "      <td>16.024359</td>\n",
       "      <td>2.960362</td>\n",
       "      <td>6.843791</td>\n",
       "      <td>2.262051</td>\n",
       "      <td>1599.968720</td>\n",
       "      <td>-500.951778</td>\n",
       "      <td>1600.659236</td>\n",
       "      <td>-499.677094</td>\n",
       "      <td>1600.304144</td>\n",
       "      <td>-500.727997</td>\n",
       "      <td>1600.449520</td>\n",
       "      <td>-500.052575</td>\n",
       "      <td>42029.447991</td>\n",
       "      <td>3498.578313</td>\n",
       "      <td>3499.162912</td>\n",
       "      <td>3.002340</td>\n",
       "      <td>6.043309</td>\n",
       "      <td>2.037807</td>\n",
       "      <td>542.590390</td>\n",
       "      <td>57.792734</td>\n",
       "      <td>36.862241</td>\n",
       "      <td>6.118189</td>\n",
       "      <td>11.630094</td>\n",
       "      <td>6.203177</td>\n",
       "      <td>11.692450</td>\n",
       "      <td>6.196578</td>\n",
       "      <td>11.915047</td>\n",
       "      <td>7.175616</td>\n",
       "      <td>27.341277</td>\n",
       "      <td>19.320810</td>\n",
       "      <td>87.226430</td>\n",
       "      <td>4.655288</td>\n",
       "      <td>0.542525</td>\n",
       "      <td>19.330200</td>\n",
       "      <td>1.079755</td>\n",
       "      <td>999.814770</td>\n",
       "      <td>-400.200179</td>\n",
       "      <td>1600.059442</td>\n",
       "      <td>-450.619948</td>\n",
       "      <td>1600.012842</td>\n",
       "      <td>-449.910497</td>\n",
       "      <td>1597.725177</td>\n",
       "      <td>-450.130127</td>\n",
       "      <td>1400.943157</td>\n",
       "      <td>-450.030142</td>\n",
       "      <td>1400.234743</td>\n",
       "      <td>-449.790835</td>\n",
       "      <td>13.732071</td>\n",
       "      <td>4.482453</td>\n",
       "      <td>9.122857</td>\n",
       "      <td>2.322062</td>\n",
       "      <td>25.942508</td>\n",
       "      <td>-499.176749</td>\n",
       "      <td>23.955516</td>\n",
       "      <td>-499.848796</td>\n",
       "      <td>23.966838</td>\n",
       "      <td>-500.008812</td>\n",
       "      <td>23.954443</td>\n",
       "      <td>-499.944710</td>\n",
       "      <td>14.036510</td>\n",
       "      <td>-500.857308</td>\n",
       "      <td>11.999550</td>\n",
       "      <td>-501.193686</td>\n",
       "      <td>9.970366</td>\n",
       "      <td>-499.201640</td>\n",
       "      <td>7.977324</td>\n",
       "      <td>-500.255908</td>\n",
       "      <td>14.005551</td>\n",
       "      <td>-599.996129</td>\n",
       "    </tr>\n",
       "    <tr>\n",
       "      <th>4</th>\n",
       "      <td>2016-01-15 04:00:00</td>\n",
       "      <td>6.148599</td>\n",
       "      <td>10.142511</td>\n",
       "      <td>4.939416</td>\n",
       "      <td>42.774141</td>\n",
       "      <td>66.927016</td>\n",
       "      <td>10.360302</td>\n",
       "      <td>0.792826</td>\n",
       "      <td>16.525686</td>\n",
       "      <td>2.055292</td>\n",
       "      <td>117.988169</td>\n",
       "      <td>11.913613</td>\n",
       "      <td>7.25</td>\n",
       "      <td>1.009869</td>\n",
       "      <td>9.089428</td>\n",
       "      <td>9.986786</td>\n",
       "      <td>19.199864</td>\n",
       "      <td>33.044932</td>\n",
       "      <td>16.480185</td>\n",
       "      <td>3.112100</td>\n",
       "      <td>6.550154</td>\n",
       "      <td>2.277073</td>\n",
       "      <td>1601.339707</td>\n",
       "      <td>-498.975456</td>\n",
       "      <td>1601.437854</td>\n",
       "      <td>-500.323246</td>\n",
       "      <td>1599.581894</td>\n",
       "      <td>-500.888152</td>\n",
       "      <td>1602.649541</td>\n",
       "      <td>-500.593010</td>\n",
       "      <td>42125.354245</td>\n",
       "      <td>3494.800771</td>\n",
       "      <td>3506.679315</td>\n",
       "      <td>3.169615</td>\n",
       "      <td>6.060915</td>\n",
       "      <td>1.786875</td>\n",
       "      <td>540.531893</td>\n",
       "      <td>56.047189</td>\n",
       "      <td>34.347666</td>\n",
       "      <td>5.663707</td>\n",
       "      <td>10.957755</td>\n",
       "      <td>6.198826</td>\n",
       "      <td>10.960521</td>\n",
       "      <td>6.194897</td>\n",
       "      <td>12.411054</td>\n",
       "      <td>7.240205</td>\n",
       "      <td>27.041023</td>\n",
       "      <td>19.216101</td>\n",
       "      <td>86.688794</td>\n",
       "      <td>4.552800</td>\n",
       "      <td>0.515438</td>\n",
       "      <td>19.267422</td>\n",
       "      <td>1.012642</td>\n",
       "      <td>999.678690</td>\n",
       "      <td>-399.752729</td>\n",
       "      <td>1600.208824</td>\n",
       "      <td>-449.599614</td>\n",
       "      <td>1600.357732</td>\n",
       "      <td>-450.034364</td>\n",
       "      <td>1599.759049</td>\n",
       "      <td>-449.909799</td>\n",
       "      <td>1401.560902</td>\n",
       "      <td>-448.877187</td>\n",
       "      <td>1401.160227</td>\n",
       "      <td>-450.407128</td>\n",
       "      <td>14.079996</td>\n",
       "      <td>4.470737</td>\n",
       "      <td>8.871028</td>\n",
       "      <td>2.330448</td>\n",
       "      <td>26.024787</td>\n",
       "      <td>-500.279091</td>\n",
       "      <td>23.955345</td>\n",
       "      <td>-500.593614</td>\n",
       "      <td>23.985703</td>\n",
       "      <td>-500.083811</td>\n",
       "      <td>23.958945</td>\n",
       "      <td>-499.990309</td>\n",
       "      <td>14.027298</td>\n",
       "      <td>-499.838632</td>\n",
       "      <td>11.953070</td>\n",
       "      <td>-501.053894</td>\n",
       "      <td>9.925709</td>\n",
       "      <td>-501.686727</td>\n",
       "      <td>7.894242</td>\n",
       "      <td>-500.356035</td>\n",
       "      <td>13.996647</td>\n",
       "      <td>-601.496691</td>\n",
       "    </tr>\n",
       "    <tr>\n",
       "      <th>5</th>\n",
       "      <td>2016-01-15 05:00:00</td>\n",
       "      <td>6.482968</td>\n",
       "      <td>10.049416</td>\n",
       "      <td>5.480257</td>\n",
       "      <td>41.633678</td>\n",
       "      <td>69.465816</td>\n",
       "      <td>10.182708</td>\n",
       "      <td>0.664118</td>\n",
       "      <td>16.999638</td>\n",
       "      <td>1.918586</td>\n",
       "      <td>115.581252</td>\n",
       "      <td>12.470773</td>\n",
       "      <td>7.25</td>\n",
       "      <td>0.965760</td>\n",
       "      <td>9.553724</td>\n",
       "      <td>9.816215</td>\n",
       "      <td>19.167328</td>\n",
       "      <td>32.070664</td>\n",
       "      <td>15.931540</td>\n",
       "      <td>2.844511</td>\n",
       "      <td>6.724197</td>\n",
       "      <td>2.114558</td>\n",
       "      <td>1602.964922</td>\n",
       "      <td>-498.090944</td>\n",
       "      <td>1602.074298</td>\n",
       "      <td>-500.179481</td>\n",
       "      <td>1602.154812</td>\n",
       "      <td>-498.642614</td>\n",
       "      <td>1605.020106</td>\n",
       "      <td>-500.538177</td>\n",
       "      <td>41973.280986</td>\n",
       "      <td>3501.916973</td>\n",
       "      <td>3499.527175</td>\n",
       "      <td>3.026134</td>\n",
       "      <td>5.801920</td>\n",
       "      <td>1.879351</td>\n",
       "      <td>546.173470</td>\n",
       "      <td>57.469578</td>\n",
       "      <td>35.470082</td>\n",
       "      <td>5.687168</td>\n",
       "      <td>11.072517</td>\n",
       "      <td>6.200383</td>\n",
       "      <td>11.075009</td>\n",
       "      <td>6.202362</td>\n",
       "      <td>11.985584</td>\n",
       "      <td>7.121903</td>\n",
       "      <td>26.898046</td>\n",
       "      <td>18.950385</td>\n",
       "      <td>88.156912</td>\n",
       "      <td>4.397415</td>\n",
       "      <td>0.491350</td>\n",
       "      <td>19.640269</td>\n",
       "      <td>0.915835</td>\n",
       "      <td>999.934134</td>\n",
       "      <td>-400.599524</td>\n",
       "      <td>1601.080554</td>\n",
       "      <td>-450.120760</td>\n",
       "      <td>1603.164805</td>\n",
       "      <td>-450.097732</td>\n",
       "      <td>1603.368371</td>\n",
       "      <td>-446.306150</td>\n",
       "      <td>1403.393100</td>\n",
       "      <td>-447.899904</td>\n",
       "      <td>1402.903175</td>\n",
       "      <td>-448.872321</td>\n",
       "      <td>13.615012</td>\n",
       "      <td>4.286817</td>\n",
       "      <td>9.302669</td>\n",
       "      <td>2.192127</td>\n",
       "      <td>26.014841</td>\n",
       "      <td>-498.864670</td>\n",
       "      <td>23.880214</td>\n",
       "      <td>-499.738447</td>\n",
       "      <td>23.982635</td>\n",
       "      <td>-500.495272</td>\n",
       "      <td>24.009749</td>\n",
       "      <td>-499.433825</td>\n",
       "      <td>13.938497</td>\n",
       "      <td>-500.970168</td>\n",
       "      <td>11.883350</td>\n",
       "      <td>-500.395298</td>\n",
       "      <td>10.054147</td>\n",
       "      <td>-496.374715</td>\n",
       "      <td>7.965083</td>\n",
       "      <td>-499.364752</td>\n",
       "      <td>14.017067</td>\n",
       "      <td>-599.707915</td>\n",
       "    </tr>\n",
       "    <tr>\n",
       "      <th>6</th>\n",
       "      <td>2016-01-15 06:00:00</td>\n",
       "      <td>6.533849</td>\n",
       "      <td>10.058141</td>\n",
       "      <td>4.569100</td>\n",
       "      <td>41.995316</td>\n",
       "      <td>69.300835</td>\n",
       "      <td>10.304598</td>\n",
       "      <td>0.807342</td>\n",
       "      <td>16.723575</td>\n",
       "      <td>2.058913</td>\n",
       "      <td>117.322323</td>\n",
       "      <td>12.469088</td>\n",
       "      <td>7.25</td>\n",
       "      <td>0.895207</td>\n",
       "      <td>8.968869</td>\n",
       "      <td>10.081306</td>\n",
       "      <td>18.930855</td>\n",
       "      <td>33.184823</td>\n",
       "      <td>16.078368</td>\n",
       "      <td>2.938979</td>\n",
       "      <td>6.623598</td>\n",
       "      <td>2.223152</td>\n",
       "      <td>1597.532455</td>\n",
       "      <td>-500.985364</td>\n",
       "      <td>1602.816321</td>\n",
       "      <td>-500.696736</td>\n",
       "      <td>1603.572091</td>\n",
       "      <td>-500.256955</td>\n",
       "      <td>1597.597437</td>\n",
       "      <td>-500.378192</td>\n",
       "      <td>41956.468979</td>\n",
       "      <td>3497.427365</td>\n",
       "      <td>3506.352790</td>\n",
       "      <td>2.867933</td>\n",
       "      <td>6.056253</td>\n",
       "      <td>2.105501</td>\n",
       "      <td>523.376439</td>\n",
       "      <td>56.674647</td>\n",
       "      <td>34.920570</td>\n",
       "      <td>6.038436</td>\n",
       "      <td>11.535899</td>\n",
       "      <td>6.204974</td>\n",
       "      <td>11.539227</td>\n",
       "      <td>6.200515</td>\n",
       "      <td>11.684307</td>\n",
       "      <td>7.304849</td>\n",
       "      <td>27.063672</td>\n",
       "      <td>19.319591</td>\n",
       "      <td>88.168065</td>\n",
       "      <td>4.478080</td>\n",
       "      <td>0.518266</td>\n",
       "      <td>19.262491</td>\n",
       "      <td>0.986248</td>\n",
       "      <td>999.832373</td>\n",
       "      <td>-399.353521</td>\n",
       "      <td>1600.753019</td>\n",
       "      <td>-450.050089</td>\n",
       "      <td>1599.019966</td>\n",
       "      <td>-449.848507</td>\n",
       "      <td>1600.298267</td>\n",
       "      <td>-453.102891</td>\n",
       "      <td>1397.853265</td>\n",
       "      <td>-451.306640</td>\n",
       "      <td>1397.973670</td>\n",
       "      <td>-451.355626</td>\n",
       "      <td>13.597056</td>\n",
       "      <td>4.487865</td>\n",
       "      <td>9.103047</td>\n",
       "      <td>2.316720</td>\n",
       "      <td>25.957594</td>\n",
       "      <td>-500.134472</td>\n",
       "      <td>24.077199</td>\n",
       "      <td>-500.089190</td>\n",
       "      <td>23.991710</td>\n",
       "      <td>-500.391528</td>\n",
       "      <td>23.954144</td>\n",
       "      <td>-501.872171</td>\n",
       "      <td>14.046819</td>\n",
       "      <td>-500.971133</td>\n",
       "      <td>12.091543</td>\n",
       "      <td>-500.501426</td>\n",
       "      <td>10.003247</td>\n",
       "      <td>-497.083180</td>\n",
       "      <td>8.010890</td>\n",
       "      <td>-500.002423</td>\n",
       "      <td>14.029649</td>\n",
       "      <td>-600.905470</td>\n",
       "    </tr>\n",
       "    <tr>\n",
       "      <th>7</th>\n",
       "      <td>2016-01-15 07:00:00</td>\n",
       "      <td>6.130823</td>\n",
       "      <td>9.935481</td>\n",
       "      <td>4.389813</td>\n",
       "      <td>42.452727</td>\n",
       "      <td>70.230976</td>\n",
       "      <td>10.443288</td>\n",
       "      <td>0.949346</td>\n",
       "      <td>16.689959</td>\n",
       "      <td>2.143437</td>\n",
       "      <td>124.592960</td>\n",
       "      <td>12.467403</td>\n",
       "      <td>7.25</td>\n",
       "      <td>0.901202</td>\n",
       "      <td>8.545238</td>\n",
       "      <td>10.224540</td>\n",
       "      <td>18.735813</td>\n",
       "      <td>34.027719</td>\n",
       "      <td>15.797720</td>\n",
       "      <td>2.881529</td>\n",
       "      <td>6.872033</td>\n",
       "      <td>2.112025</td>\n",
       "      <td>1597.946266</td>\n",
       "      <td>-501.592304</td>\n",
       "      <td>1601.078254</td>\n",
       "      <td>-499.494115</td>\n",
       "      <td>1602.630688</td>\n",
       "      <td>-500.173741</td>\n",
       "      <td>1595.937990</td>\n",
       "      <td>-498.929825</td>\n",
       "      <td>41812.416893</td>\n",
       "      <td>3497.275828</td>\n",
       "      <td>3501.000030</td>\n",
       "      <td>2.784698</td>\n",
       "      <td>5.955053</td>\n",
       "      <td>2.310432</td>\n",
       "      <td>549.842749</td>\n",
       "      <td>56.730325</td>\n",
       "      <td>36.091386</td>\n",
       "      <td>6.433854</td>\n",
       "      <td>12.557906</td>\n",
       "      <td>6.799275</td>\n",
       "      <td>12.583109</td>\n",
       "      <td>6.798354</td>\n",
       "      <td>11.182624</td>\n",
       "      <td>7.258496</td>\n",
       "      <td>27.231114</td>\n",
       "      <td>19.507897</td>\n",
       "      <td>87.668336</td>\n",
       "      <td>4.728325</td>\n",
       "      <td>0.548067</td>\n",
       "      <td>18.861866</td>\n",
       "      <td>1.116110</td>\n",
       "      <td>1000.166602</td>\n",
       "      <td>-400.556601</td>\n",
       "      <td>1598.877246</td>\n",
       "      <td>-450.070980</td>\n",
       "      <td>1598.108717</td>\n",
       "      <td>-449.211334</td>\n",
       "      <td>1592.872844</td>\n",
       "      <td>-449.806802</td>\n",
       "      <td>1396.580752</td>\n",
       "      <td>-453.548352</td>\n",
       "      <td>1397.289884</td>\n",
       "      <td>-450.221696</td>\n",
       "      <td>13.177237</td>\n",
       "      <td>4.432448</td>\n",
       "      <td>9.369209</td>\n",
       "      <td>2.192197</td>\n",
       "      <td>25.938026</td>\n",
       "      <td>-499.657795</td>\n",
       "      <td>24.020179</td>\n",
       "      <td>-499.798396</td>\n",
       "      <td>24.031555</td>\n",
       "      <td>-500.550436</td>\n",
       "      <td>23.968160</td>\n",
       "      <td>-499.836513</td>\n",
       "      <td>13.974691</td>\n",
       "      <td>-501.819696</td>\n",
       "      <td>12.101324</td>\n",
       "      <td>-500.583446</td>\n",
       "      <td>9.873169</td>\n",
       "      <td>-499.171928</td>\n",
       "      <td>7.993381</td>\n",
       "      <td>-499.794518</td>\n",
       "      <td>13.984498</td>\n",
       "      <td>-600.411070</td>\n",
       "    </tr>\n",
       "    <tr>\n",
       "      <th>8</th>\n",
       "      <td>2016-01-15 08:00:00</td>\n",
       "      <td>5.834140</td>\n",
       "      <td>10.071156</td>\n",
       "      <td>4.876389</td>\n",
       "      <td>43.404078</td>\n",
       "      <td>69.688595</td>\n",
       "      <td>10.420140</td>\n",
       "      <td>1.065453</td>\n",
       "      <td>17.201948</td>\n",
       "      <td>2.209881</td>\n",
       "      <td>131.781026</td>\n",
       "      <td>12.465718</td>\n",
       "      <td>7.25</td>\n",
       "      <td>0.885535</td>\n",
       "      <td>8.046686</td>\n",
       "      <td>10.500065</td>\n",
       "      <td>18.560288</td>\n",
       "      <td>34.964974</td>\n",
       "      <td>16.195420</td>\n",
       "      <td>3.089922</td>\n",
       "      <td>6.705633</td>\n",
       "      <td>2.243817</td>\n",
       "      <td>1601.670053</td>\n",
       "      <td>-499.548891</td>\n",
       "      <td>1598.804355</td>\n",
       "      <td>-499.689644</td>\n",
       "      <td>1601.689285</td>\n",
       "      <td>-500.484957</td>\n",
       "      <td>1602.431117</td>\n",
       "      <td>-500.650982</td>\n",
       "      <td>41905.757985</td>\n",
       "      <td>3498.332166</td>\n",
       "      <td>3498.120075</td>\n",
       "      <td>2.728844</td>\n",
       "      <td>5.878084</td>\n",
       "      <td>2.391713</td>\n",
       "      <td>560.115242</td>\n",
       "      <td>56.649893</td>\n",
       "      <td>35.753879</td>\n",
       "      <td>6.526612</td>\n",
       "      <td>13.166128</td>\n",
       "      <td>6.798659</td>\n",
       "      <td>13.184764</td>\n",
       "      <td>6.800021</td>\n",
       "      <td>11.051323</td>\n",
       "      <td>7.380043</td>\n",
       "      <td>27.404296</td>\n",
       "      <td>19.789465</td>\n",
       "      <td>87.035862</td>\n",
       "      <td>4.764300</td>\n",
       "      <td>0.599181</td>\n",
       "      <td>18.873082</td>\n",
       "      <td>1.186780</td>\n",
       "      <td>1000.026864</td>\n",
       "      <td>-399.968583</td>\n",
       "      <td>1599.813104</td>\n",
       "      <td>-450.481122</td>\n",
       "      <td>1600.024621</td>\n",
       "      <td>-450.365493</td>\n",
       "      <td>1594.448648</td>\n",
       "      <td>-449.882428</td>\n",
       "      <td>1402.033682</td>\n",
       "      <td>-448.545552</td>\n",
       "      <td>1400.748347</td>\n",
       "      <td>-450.303991</td>\n",
       "      <td>13.487870</td>\n",
       "      <td>4.608756</td>\n",
       "      <td>9.437044</td>\n",
       "      <td>2.212084</td>\n",
       "      <td>25.929511</td>\n",
       "      <td>-500.079889</td>\n",
       "      <td>23.977375</td>\n",
       "      <td>-500.005187</td>\n",
       "      <td>23.998809</td>\n",
       "      <td>-500.400133</td>\n",
       "      <td>23.982633</td>\n",
       "      <td>-499.826311</td>\n",
       "      <td>13.964030</td>\n",
       "      <td>-504.252450</td>\n",
       "      <td>12.060738</td>\n",
       "      <td>-501.174549</td>\n",
       "      <td>10.033838</td>\n",
       "      <td>-501.178133</td>\n",
       "      <td>7.881604</td>\n",
       "      <td>-499.729434</td>\n",
       "      <td>13.967135</td>\n",
       "      <td>-599.061188</td>\n",
       "    </tr>\n",
       "    <tr>\n",
       "      <th>9</th>\n",
       "      <td>2016-01-15 09:00:00</td>\n",
       "      <td>5.687063</td>\n",
       "      <td>9.980404</td>\n",
       "      <td>5.282514</td>\n",
       "      <td>43.235220</td>\n",
       "      <td>70.279619</td>\n",
       "      <td>10.487013</td>\n",
       "      <td>1.159805</td>\n",
       "      <td>17.483979</td>\n",
       "      <td>2.209593</td>\n",
       "      <td>138.120409</td>\n",
       "      <td>12.464032</td>\n",
       "      <td>7.25</td>\n",
       "      <td>0.898779</td>\n",
       "      <td>8.098985</td>\n",
       "      <td>10.525324</td>\n",
       "      <td>18.436589</td>\n",
       "      <td>34.826500</td>\n",
       "      <td>15.535214</td>\n",
       "      <td>2.866688</td>\n",
       "      <td>7.265906</td>\n",
       "      <td>2.025454</td>\n",
       "      <td>1603.436598</td>\n",
       "      <td>-499.864400</td>\n",
       "      <td>1597.455353</td>\n",
       "      <td>-500.266905</td>\n",
       "      <td>1600.747882</td>\n",
       "      <td>-500.541002</td>\n",
       "      <td>1599.754053</td>\n",
       "      <td>-499.216962</td>\n",
       "      <td>41882.126352</td>\n",
       "      <td>3499.915439</td>\n",
       "      <td>3519.952954</td>\n",
       "      <td>2.717442</td>\n",
       "      <td>5.908793</td>\n",
       "      <td>2.440899</td>\n",
       "      <td>573.076049</td>\n",
       "      <td>58.509262</td>\n",
       "      <td>36.958540</td>\n",
       "      <td>6.633002</td>\n",
       "      <td>13.707775</td>\n",
       "      <td>6.820245</td>\n",
       "      <td>13.812674</td>\n",
       "      <td>6.790624</td>\n",
       "      <td>11.116297</td>\n",
       "      <td>7.297363</td>\n",
       "      <td>27.497520</td>\n",
       "      <td>19.497669</td>\n",
       "      <td>87.650868</td>\n",
       "      <td>4.667157</td>\n",
       "      <td>0.615418</td>\n",
       "      <td>18.907179</td>\n",
       "      <td>1.167140</td>\n",
       "      <td>1000.589156</td>\n",
       "      <td>-398.879586</td>\n",
       "      <td>1598.975250</td>\n",
       "      <td>-451.238638</td>\n",
       "      <td>1600.058139</td>\n",
       "      <td>-451.271448</td>\n",
       "      <td>1610.182874</td>\n",
       "      <td>-450.460190</td>\n",
       "      <td>1399.194663</td>\n",
       "      <td>-450.332681</td>\n",
       "      <td>1399.638290</td>\n",
       "      <td>-450.198722</td>\n",
       "      <td>13.209191</td>\n",
       "      <td>4.550553</td>\n",
       "      <td>9.813732</td>\n",
       "      <td>2.073737</td>\n",
       "      <td>26.059510</td>\n",
       "      <td>-499.151646</td>\n",
       "      <td>23.934570</td>\n",
       "      <td>-499.351758</td>\n",
       "      <td>23.994184</td>\n",
       "      <td>-500.078566</td>\n",
       "      <td>23.924481</td>\n",
       "      <td>-499.989024</td>\n",
       "      <td>13.989632</td>\n",
       "      <td>-503.195299</td>\n",
       "      <td>12.052233</td>\n",
       "      <td>-500.928547</td>\n",
       "      <td>9.962574</td>\n",
       "      <td>-502.986357</td>\n",
       "      <td>7.979219</td>\n",
       "      <td>-500.146835</td>\n",
       "      <td>13.981614</td>\n",
       "      <td>-598.070855</td>\n",
       "    </tr>\n",
       "  </tbody>\n",
       "</table>\n",
       "</div>"
      ],
      "text/plain": [
       "                  date  final.output.concentrate_ag  \\\n",
       "0  2016-01-15 00:00:00                     6.055403   \n",
       "1  2016-01-15 01:00:00                     6.029369   \n",
       "2  2016-01-15 02:00:00                     6.055926   \n",
       "3  2016-01-15 03:00:00                     6.047977   \n",
       "4  2016-01-15 04:00:00                     6.148599   \n",
       "5  2016-01-15 05:00:00                     6.482968   \n",
       "6  2016-01-15 06:00:00                     6.533849   \n",
       "7  2016-01-15 07:00:00                     6.130823   \n",
       "8  2016-01-15 08:00:00                     5.834140   \n",
       "9  2016-01-15 09:00:00                     5.687063   \n",
       "\n",
       "   final.output.concentrate_pb  final.output.concentrate_sol  \\\n",
       "0                     9.889648                      5.507324   \n",
       "1                     9.968944                      5.257781   \n",
       "2                    10.213995                      5.383759   \n",
       "3                     9.977019                      4.858634   \n",
       "4                    10.142511                      4.939416   \n",
       "5                    10.049416                      5.480257   \n",
       "6                    10.058141                      4.569100   \n",
       "7                     9.935481                      4.389813   \n",
       "8                    10.071156                      4.876389   \n",
       "9                     9.980404                      5.282514   \n",
       "\n",
       "   final.output.concentrate_au  final.output.recovery  final.output.tail_ag  \\\n",
       "0                    42.192020              70.541216             10.411962   \n",
       "1                    42.701629              69.266198             10.462676   \n",
       "2                    42.657501              68.116445             10.507046   \n",
       "3                    42.689819              68.347543             10.422762   \n",
       "4                    42.774141              66.927016             10.360302   \n",
       "5                    41.633678              69.465816             10.182708   \n",
       "6                    41.995316              69.300835             10.304598   \n",
       "7                    42.452727              70.230976             10.443288   \n",
       "8                    43.404078              69.688595             10.420140   \n",
       "9                    43.235220              70.279619             10.487013   \n",
       "\n",
       "   final.output.tail_pb  final.output.tail_sol  final.output.tail_au  \\\n",
       "0              0.895447              16.904297              2.143149   \n",
       "1              0.927452              16.634514              2.224930   \n",
       "2              0.953716              16.208849              2.257889   \n",
       "3              0.883763              16.532835              2.146849   \n",
       "4              0.792826              16.525686              2.055292   \n",
       "5              0.664118              16.999638              1.918586   \n",
       "6              0.807342              16.723575              2.058913   \n",
       "7              0.949346              16.689959              2.143437   \n",
       "8              1.065453              17.201948              2.209881   \n",
       "9              1.159805              17.483979              2.209593   \n",
       "\n",
       "   primary_cleaner.input.sulfate  primary_cleaner.input.depressant  \\\n",
       "0                     127.092003                         10.128295   \n",
       "1                     125.629232                         10.296251   \n",
       "2                     123.819808                         11.316280   \n",
       "3                     122.270188                         11.322140   \n",
       "4                     117.988169                         11.913613   \n",
       "5                     115.581252                         12.470773   \n",
       "6                     117.322323                         12.469088   \n",
       "7                     124.592960                         12.467403   \n",
       "8                     131.781026                         12.465718   \n",
       "9                     138.120409                         12.464032   \n",
       "\n",
       "   primary_cleaner.input.feed_size  primary_cleaner.input.xanthate  \\\n",
       "0                             7.25                        0.988759   \n",
       "1                             7.25                        1.002663   \n",
       "2                             7.25                        0.991265   \n",
       "3                             7.25                        0.996739   \n",
       "4                             7.25                        1.009869   \n",
       "5                             7.25                        0.965760   \n",
       "6                             7.25                        0.895207   \n",
       "7                             7.25                        0.901202   \n",
       "8                             7.25                        0.885535   \n",
       "9                             7.25                        0.898779   \n",
       "\n",
       "   primary_cleaner.output.concentrate_ag  \\\n",
       "0                               8.547551   \n",
       "1                               8.558743   \n",
       "2                               8.603505   \n",
       "3                               7.221879   \n",
       "4                               9.089428   \n",
       "5                               9.553724   \n",
       "6                               8.968869   \n",
       "7                               8.545238   \n",
       "8                               8.046686   \n",
       "9                               8.098985   \n",
       "\n",
       "   primary_cleaner.output.concentrate_pb  \\\n",
       "0                              10.389648   \n",
       "1                              10.497069   \n",
       "2                              10.354494   \n",
       "3                               8.496563   \n",
       "4                               9.986786   \n",
       "5                               9.816215   \n",
       "6                              10.081306   \n",
       "7                              10.224540   \n",
       "8                              10.500065   \n",
       "9                              10.525324   \n",
       "\n",
       "   primary_cleaner.output.concentrate_sol  \\\n",
       "0                               19.529297   \n",
       "1                               19.369147   \n",
       "2                               19.167579   \n",
       "3                               15.978538   \n",
       "4                               19.199864   \n",
       "5                               19.167328   \n",
       "6                               18.930855   \n",
       "7                               18.735813   \n",
       "8                               18.560288   \n",
       "9                               18.436589   \n",
       "\n",
       "   primary_cleaner.output.concentrate_au  primary_cleaner.output.tail_ag  \\\n",
       "0                              34.174427                       14.936526   \n",
       "1                              34.118526                       16.250511   \n",
       "2                              33.969464                       16.491823   \n",
       "3                              28.260743                       16.024359   \n",
       "4                              33.044932                       16.480185   \n",
       "5                              32.070664                       15.931540   \n",
       "6                              33.184823                       16.078368   \n",
       "7                              34.027719                       15.797720   \n",
       "8                              34.964974                       16.195420   \n",
       "9                              34.826500                       15.535214   \n",
       "\n",
       "   primary_cleaner.output.tail_pb  primary_cleaner.output.tail_sol  \\\n",
       "0                        2.534912                         7.476074   \n",
       "1                        3.049646                         6.733907   \n",
       "2                        3.124664                         6.471768   \n",
       "3                        2.960362                         6.843791   \n",
       "4                        3.112100                         6.550154   \n",
       "5                        2.844511                         6.724197   \n",
       "6                        2.938979                         6.623598   \n",
       "7                        2.881529                         6.872033   \n",
       "8                        3.089922                         6.705633   \n",
       "9                        2.866688                         7.265906   \n",
       "\n",
       "   primary_cleaner.output.tail_au  primary_cleaner.state.floatbank8_a_air  \\\n",
       "0                        2.106679                             1549.775757   \n",
       "1                        2.353017                             1576.166671   \n",
       "2                        2.416800                             1601.556163   \n",
       "3                        2.262051                             1599.968720   \n",
       "4                        2.277073                             1601.339707   \n",
       "5                        2.114558                             1602.964922   \n",
       "6                        2.223152                             1597.532455   \n",
       "7                        2.112025                             1597.946266   \n",
       "8                        2.243817                             1601.670053   \n",
       "9                        2.025454                             1603.436598   \n",
       "\n",
       "   primary_cleaner.state.floatbank8_a_level  \\\n",
       "0                               -498.912140   \n",
       "1                               -500.904965   \n",
       "2                               -499.997791   \n",
       "3                               -500.951778   \n",
       "4                               -498.975456   \n",
       "5                               -498.090944   \n",
       "6                               -500.985364   \n",
       "7                               -501.592304   \n",
       "8                               -499.548891   \n",
       "9                               -499.864400   \n",
       "\n",
       "   primary_cleaner.state.floatbank8_b_air  \\\n",
       "0                             1551.434204   \n",
       "1                             1575.950626   \n",
       "2                             1600.386685   \n",
       "3                             1600.659236   \n",
       "4                             1601.437854   \n",
       "5                             1602.074298   \n",
       "6                             1602.816321   \n",
       "7                             1601.078254   \n",
       "8                             1598.804355   \n",
       "9                             1597.455353   \n",
       "\n",
       "   primary_cleaner.state.floatbank8_b_level  \\\n",
       "0                               -516.403442   \n",
       "1                               -499.865889   \n",
       "2                               -500.607762   \n",
       "3                               -499.677094   \n",
       "4                               -500.323246   \n",
       "5                               -500.179481   \n",
       "6                               -500.696736   \n",
       "7                               -499.494115   \n",
       "8                               -499.689644   \n",
       "9                               -500.266905   \n",
       "\n",
       "   primary_cleaner.state.floatbank8_c_air  \\\n",
       "0                             1549.873901   \n",
       "1                             1575.994189   \n",
       "2                             1602.003542   \n",
       "3                             1600.304144   \n",
       "4                             1599.581894   \n",
       "5                             1602.154812   \n",
       "6                             1603.572091   \n",
       "7                             1602.630688   \n",
       "8                             1601.689285   \n",
       "9                             1600.747882   \n",
       "\n",
       "   primary_cleaner.state.floatbank8_c_level  \\\n",
       "0                               -498.666595   \n",
       "1                               -499.315107   \n",
       "2                               -500.870069   \n",
       "3                               -500.727997   \n",
       "4                               -500.888152   \n",
       "5                               -498.642614   \n",
       "6                               -500.256955   \n",
       "7                               -500.173741   \n",
       "8                               -500.484957   \n",
       "9                               -500.541002   \n",
       "\n",
       "   primary_cleaner.state.floatbank8_d_air  \\\n",
       "0                             1554.367432   \n",
       "1                             1574.479259   \n",
       "2                             1599.541515   \n",
       "3                             1600.449520   \n",
       "4                             1602.649541   \n",
       "5                             1605.020106   \n",
       "6                             1597.597437   \n",
       "7                             1595.937990   \n",
       "8                             1602.431117   \n",
       "9                             1599.754053   \n",
       "\n",
       "   primary_cleaner.state.floatbank8_d_level  \\\n",
       "0                               -493.428131   \n",
       "1                               -498.931665   \n",
       "2                               -499.827444   \n",
       "3                               -500.052575   \n",
       "4                               -500.593010   \n",
       "5                               -500.538177   \n",
       "6                               -500.378192   \n",
       "7                               -498.929825   \n",
       "8                               -500.650982   \n",
       "9                               -499.216962   \n",
       "\n",
       "   rougher.calculation.sulfate_to_au_concentrate  \\\n",
       "0                                   41885.707031   \n",
       "1                                   42050.861809   \n",
       "2                                   42018.101184   \n",
       "3                                   42029.447991   \n",
       "4                                   42125.354245   \n",
       "5                                   41973.280986   \n",
       "6                                   41956.468979   \n",
       "7                                   41812.416893   \n",
       "8                                   41905.757985   \n",
       "9                                   41882.126352   \n",
       "\n",
       "   rougher.calculation.floatbank10_sulfate_to_au_feed  \\\n",
       "0                                        3481.779053    \n",
       "1                                        3498.370979    \n",
       "2                                        3495.348910    \n",
       "3                                        3498.578313    \n",
       "4                                        3494.800771    \n",
       "5                                        3501.916973    \n",
       "6                                        3497.427365    \n",
       "7                                        3497.275828    \n",
       "8                                        3498.332166    \n",
       "9                                        3499.915439    \n",
       "\n",
       "   rougher.calculation.floatbank11_sulfate_to_au_feed  \\\n",
       "0                                        3520.337158    \n",
       "1                                        3489.981857    \n",
       "2                                        3502.359819    \n",
       "3                                        3499.162912    \n",
       "4                                        3506.679315    \n",
       "5                                        3499.527175    \n",
       "6                                        3506.352790    \n",
       "7                                        3501.000030    \n",
       "8                                        3498.120075    \n",
       "9                                        3519.952954    \n",
       "\n",
       "   rougher.calculation.au_pb_ratio  rougher.input.feed_ag  \\\n",
       "0                         2.838687               6.100378   \n",
       "1                         2.858998               6.161113   \n",
       "2                         2.945989               6.116455   \n",
       "3                         3.002340               6.043309   \n",
       "4                         3.169615               6.060915   \n",
       "5                         3.026134               5.801920   \n",
       "6                         2.867933               6.056253   \n",
       "7                         2.784698               5.955053   \n",
       "8                         2.728844               5.878084   \n",
       "9                         2.717442               5.908793   \n",
       "\n",
       "   rougher.input.feed_pb  rougher.input.feed_rate  rougher.input.feed_size  \\\n",
       "0               2.284912               523.546326                55.486599   \n",
       "1               2.266033               525.290581                57.278666   \n",
       "2               2.159622               530.026610                57.510649   \n",
       "3               2.037807               542.590390                57.792734   \n",
       "4               1.786875               540.531893                56.047189   \n",
       "5               1.879351               546.173470                57.469578   \n",
       "6               2.105501               523.376439                56.674647   \n",
       "7               2.310432               549.842749                56.730325   \n",
       "8               2.391713               560.115242                56.649893   \n",
       "9               2.440899               573.076049                58.509262   \n",
       "\n",
       "   rougher.input.feed_sol  rougher.input.feed_au  \\\n",
       "0               36.808594               6.486150   \n",
       "1               35.753385               6.478583   \n",
       "2               35.971630               6.362222   \n",
       "3               36.862241               6.118189   \n",
       "4               34.347666               5.663707   \n",
       "5               35.470082               5.687168   \n",
       "6               34.920570               6.038436   \n",
       "7               36.091386               6.433854   \n",
       "8               35.753879               6.526612   \n",
       "9               36.958540               6.633002   \n",
       "\n",
       "   rougher.input.floatbank10_sulfate  rougher.input.floatbank10_xanthate  \\\n",
       "0                          11.986616                            6.007990   \n",
       "1                          11.971193                            6.005766   \n",
       "2                          11.920603                            6.197377   \n",
       "3                          11.630094                            6.203177   \n",
       "4                          10.957755                            6.198826   \n",
       "5                          11.072517                            6.200383   \n",
       "6                          11.535899                            6.204974   \n",
       "7                          12.557906                            6.799275   \n",
       "8                          13.166128                            6.798659   \n",
       "9                          13.707775                            6.820245   \n",
       "\n",
       "   rougher.input.floatbank11_sulfate  rougher.input.floatbank11_xanthate  \\\n",
       "0                          11.836743                            6.005818   \n",
       "1                          11.996163                            6.012594   \n",
       "2                          11.920305                            6.204633   \n",
       "3                          11.692450                            6.196578   \n",
       "4                          10.960521                            6.194897   \n",
       "5                          11.075009                            6.202362   \n",
       "6                          11.539227                            6.200515   \n",
       "7                          12.583109                            6.798354   \n",
       "8                          13.184764                            6.800021   \n",
       "9                          13.812674                            6.790624   \n",
       "\n",
       "   rougher.output.concentrate_ag  rougher.output.concentrate_pb  \\\n",
       "0                      11.500771                       7.101074   \n",
       "1                      11.615865                       7.278807   \n",
       "2                      11.695753                       7.216833   \n",
       "3                      11.915047                       7.175616   \n",
       "4                      12.411054                       7.240205   \n",
       "5                      11.985584                       7.121903   \n",
       "6                      11.684307                       7.304849   \n",
       "7                      11.182624                       7.258496   \n",
       "8                      11.051323                       7.380043   \n",
       "9                      11.116297                       7.297363   \n",
       "\n",
       "   rougher.output.concentrate_sol  rougher.output.concentrate_au  \\\n",
       "0                       28.029297                      19.793808   \n",
       "1                       28.067063                      20.050975   \n",
       "2                       27.454037                      19.737170   \n",
       "3                       27.341277                      19.320810   \n",
       "4                       27.041023                      19.216101   \n",
       "5                       26.898046                      18.950385   \n",
       "6                       27.063672                      19.319591   \n",
       "7                       27.231114                      19.507897   \n",
       "8                       27.404296                      19.789465   \n",
       "9                       27.497520                      19.497669   \n",
       "\n",
       "   rougher.output.recovery  rougher.output.tail_ag  rougher.output.tail_pb  \\\n",
       "0                87.107763                5.008018                0.508728   \n",
       "1                86.843261                4.955378                0.536689   \n",
       "2                86.842308                4.843460                0.546416   \n",
       "3                87.226430                4.655288                0.542525   \n",
       "4                86.688794                4.552800                0.515438   \n",
       "5                88.156912                4.397415                0.491350   \n",
       "6                88.168065                4.478080                0.518266   \n",
       "7                87.668336                4.728325                0.548067   \n",
       "8                87.035862                4.764300                0.599181   \n",
       "9                87.650868                4.667157                0.615418   \n",
       "\n",
       "   rougher.output.tail_sol  rougher.output.tail_au  \\\n",
       "0                19.154297                1.170244   \n",
       "1                18.965234                1.184827   \n",
       "2                18.808533                1.162562   \n",
       "3                19.330200                1.079755   \n",
       "4                19.267422                1.012642   \n",
       "5                19.640269                0.915835   \n",
       "6                19.262491                0.986248   \n",
       "7                18.861866                1.116110   \n",
       "8                18.873082                1.186780   \n",
       "9                18.907179                1.167140   \n",
       "\n",
       "   rougher.state.floatbank10_a_air  rougher.state.floatbank10_a_level  \\\n",
       "0                       999.706909                        -404.066986   \n",
       "1                      1000.286398                        -400.065196   \n",
       "2                       999.719565                        -400.074028   \n",
       "3                       999.814770                        -400.200179   \n",
       "4                       999.678690                        -399.752729   \n",
       "5                       999.934134                        -400.599524   \n",
       "6                       999.832373                        -399.353521   \n",
       "7                      1000.166602                        -400.556601   \n",
       "8                      1000.026864                        -399.968583   \n",
       "9                      1000.589156                        -398.879586   \n",
       "\n",
       "   rougher.state.floatbank10_b_air  rougher.state.floatbank10_b_level  \\\n",
       "0                      1603.011353                        -434.715027   \n",
       "1                      1600.754587                        -449.953435   \n",
       "2                      1599.337330                        -450.008530   \n",
       "3                      1600.059442                        -450.619948   \n",
       "4                      1600.208824                        -449.599614   \n",
       "5                      1601.080554                        -450.120760   \n",
       "6                      1600.753019                        -450.050089   \n",
       "7                      1598.877246                        -450.070980   \n",
       "8                      1599.813104                        -450.481122   \n",
       "9                      1598.975250                        -451.238638   \n",
       "\n",
       "   rougher.state.floatbank10_c_air  rougher.state.floatbank10_c_level  \\\n",
       "0                      1602.375000                        -442.204468   \n",
       "1                      1600.479580                        -449.830646   \n",
       "2                      1599.672797                        -449.954491   \n",
       "3                      1600.012842                        -449.910497   \n",
       "4                      1600.357732                        -450.034364   \n",
       "5                      1603.164805                        -450.097732   \n",
       "6                      1599.019966                        -449.848507   \n",
       "7                      1598.108717                        -449.211334   \n",
       "8                      1600.024621                        -450.365493   \n",
       "9                      1600.058139                        -451.271448   \n",
       "\n",
       "   rougher.state.floatbank10_d_air  rougher.state.floatbank10_d_level  \\\n",
       "0                      1598.937256                        -451.294128   \n",
       "1                      1600.527589                        -449.953649   \n",
       "2                      1599.849325                        -449.954185   \n",
       "3                      1597.725177                        -450.130127   \n",
       "4                      1599.759049                        -449.909799   \n",
       "5                      1603.368371                        -446.306150   \n",
       "6                      1600.298267                        -453.102891   \n",
       "7                      1592.872844                        -449.806802   \n",
       "8                      1594.448648                        -449.882428   \n",
       "9                      1610.182874                        -450.460190   \n",
       "\n",
       "   rougher.state.floatbank10_e_air  rougher.state.floatbank10_e_level  \\\n",
       "0                      1404.472046                        -455.462982   \n",
       "1                      1399.227084                        -450.869848   \n",
       "2                      1399.180945                        -449.937588   \n",
       "3                      1400.943157                        -450.030142   \n",
       "4                      1401.560902                        -448.877187   \n",
       "5                      1403.393100                        -447.899904   \n",
       "6                      1397.853265                        -451.306640   \n",
       "7                      1396.580752                        -453.548352   \n",
       "8                      1402.033682                        -448.545552   \n",
       "9                      1399.194663                        -450.332681   \n",
       "\n",
       "   rougher.state.floatbank10_f_air  rougher.state.floatbank10_f_level  \\\n",
       "0                      1416.354980                        -451.939636   \n",
       "1                      1399.719514                        -450.119001   \n",
       "2                      1400.316682                        -450.527147   \n",
       "3                      1400.234743                        -449.790835   \n",
       "4                      1401.160227                        -450.407128   \n",
       "5                      1402.903175                        -448.872321   \n",
       "6                      1397.973670                        -451.355626   \n",
       "7                      1397.289884                        -450.221696   \n",
       "8                      1400.748347                        -450.303991   \n",
       "9                      1399.638290                        -450.198722   \n",
       "\n",
       "   secondary_cleaner.output.tail_ag  secondary_cleaner.output.tail_pb  \\\n",
       "0                         14.500184                          4.694824   \n",
       "1                         14.265474                          4.592547   \n",
       "2                         14.115662                          4.624775   \n",
       "3                         13.732071                          4.482453   \n",
       "4                         14.079996                          4.470737   \n",
       "5                         13.615012                          4.286817   \n",
       "6                         13.597056                          4.487865   \n",
       "7                         13.177237                          4.432448   \n",
       "8                         13.487870                          4.608756   \n",
       "9                         13.209191                          4.550553   \n",
       "\n",
       "   secondary_cleaner.output.tail_sol  secondary_cleaner.output.tail_au  \\\n",
       "0                           8.764648                          2.606185   \n",
       "1                           9.001494                          2.488248   \n",
       "2                           8.842896                          2.458187   \n",
       "3                           9.122857                          2.322062   \n",
       "4                           8.871028                          2.330448   \n",
       "5                           9.302669                          2.192127   \n",
       "6                           9.103047                          2.316720   \n",
       "7                           9.369209                          2.192197   \n",
       "8                           9.437044                          2.212084   \n",
       "9                           9.813732                          2.073737   \n",
       "\n",
       "   secondary_cleaner.state.floatbank2_a_air  \\\n",
       "0                                 25.853109   \n",
       "1                                 25.880539   \n",
       "2                                 26.005245   \n",
       "3                                 25.942508   \n",
       "4                                 26.024787   \n",
       "5                                 26.014841   \n",
       "6                                 25.957594   \n",
       "7                                 25.938026   \n",
       "8                                 25.929511   \n",
       "9                                 26.059510   \n",
       "\n",
       "   secondary_cleaner.state.floatbank2_a_level  \\\n",
       "0                                 -498.526489   \n",
       "1                                 -499.989656   \n",
       "2                                 -499.929616   \n",
       "3                                 -499.176749   \n",
       "4                                 -500.279091   \n",
       "5                                 -498.864670   \n",
       "6                                 -500.134472   \n",
       "7                                 -499.657795   \n",
       "8                                 -500.079889   \n",
       "9                                 -499.151646   \n",
       "\n",
       "   secondary_cleaner.state.floatbank2_b_air  \\\n",
       "0                                 23.893660   \n",
       "1                                 23.889530   \n",
       "2                                 23.886657   \n",
       "3                                 23.955516   \n",
       "4                                 23.955345   \n",
       "5                                 23.880214   \n",
       "6                                 24.077199   \n",
       "7                                 24.020179   \n",
       "8                                 23.977375   \n",
       "9                                 23.934570   \n",
       "\n",
       "   secondary_cleaner.state.floatbank2_b_level  \\\n",
       "0                                 -501.406281   \n",
       "1                                 -500.372428   \n",
       "2                                 -499.951928   \n",
       "3                                 -499.848796   \n",
       "4                                 -500.593614   \n",
       "5                                 -499.738447   \n",
       "6                                 -500.089190   \n",
       "7                                 -499.798396   \n",
       "8                                 -500.005187   \n",
       "9                                 -499.351758   \n",
       "\n",
       "   secondary_cleaner.state.floatbank3_a_air  \\\n",
       "0                                 23.961798   \n",
       "1                                 23.970550   \n",
       "2                                 23.913535   \n",
       "3                                 23.966838   \n",
       "4                                 23.985703   \n",
       "5                                 23.982635   \n",
       "6                                 23.991710   \n",
       "7                                 24.031555   \n",
       "8                                 23.998809   \n",
       "9                                 23.994184   \n",
       "\n",
       "   secondary_cleaner.state.floatbank3_a_level  \\\n",
       "0                                 -495.262817   \n",
       "1                                 -500.085473   \n",
       "2                                 -499.442343   \n",
       "3                                 -500.008812   \n",
       "4                                 -500.083811   \n",
       "5                                 -500.495272   \n",
       "6                                 -500.391528   \n",
       "7                                 -500.550436   \n",
       "8                                 -500.400133   \n",
       "9                                 -500.078566   \n",
       "\n",
       "   secondary_cleaner.state.floatbank3_b_air  \\\n",
       "0                                 21.940409   \n",
       "1                                 22.085714   \n",
       "2                                 23.957717   \n",
       "3                                 23.954443   \n",
       "4                                 23.958945   \n",
       "5                                 24.009749   \n",
       "6                                 23.954144   \n",
       "7                                 23.968160   \n",
       "8                                 23.982633   \n",
       "9                                 23.924481   \n",
       "\n",
       "   secondary_cleaner.state.floatbank3_b_level  \\\n",
       "0                                 -499.340973   \n",
       "1                                 -499.446897   \n",
       "2                                 -499.901982   \n",
       "3                                 -499.944710   \n",
       "4                                 -499.990309   \n",
       "5                                 -499.433825   \n",
       "6                                 -501.872171   \n",
       "7                                 -499.836513   \n",
       "8                                 -499.826311   \n",
       "9                                 -499.989024   \n",
       "\n",
       "   secondary_cleaner.state.floatbank4_a_air  \\\n",
       "0                                 14.016835   \n",
       "1                                 13.992281   \n",
       "2                                 14.015015   \n",
       "3                                 14.036510   \n",
       "4                                 14.027298   \n",
       "5                                 13.938497   \n",
       "6                                 14.046819   \n",
       "7                                 13.974691   \n",
       "8                                 13.964030   \n",
       "9                                 13.989632   \n",
       "\n",
       "   secondary_cleaner.state.floatbank4_a_level  \\\n",
       "0                                 -502.488007   \n",
       "1                                 -505.503262   \n",
       "2                                 -502.520901   \n",
       "3                                 -500.857308   \n",
       "4                                 -499.838632   \n",
       "5                                 -500.970168   \n",
       "6                                 -500.971133   \n",
       "7                                 -501.819696   \n",
       "8                                 -504.252450   \n",
       "9                                 -503.195299   \n",
       "\n",
       "   secondary_cleaner.state.floatbank4_b_air  \\\n",
       "0                                 12.099931   \n",
       "1                                 11.950531   \n",
       "2                                 11.912783   \n",
       "3                                 11.999550   \n",
       "4                                 11.953070   \n",
       "5                                 11.883350   \n",
       "6                                 12.091543   \n",
       "7                                 12.101324   \n",
       "8                                 12.060738   \n",
       "9                                 12.052233   \n",
       "\n",
       "   secondary_cleaner.state.floatbank4_b_level  \\\n",
       "0                                 -504.715942   \n",
       "1                                 -501.331529   \n",
       "2                                 -501.133383   \n",
       "3                                 -501.193686   \n",
       "4                                 -501.053894   \n",
       "5                                 -500.395298   \n",
       "6                                 -500.501426   \n",
       "7                                 -500.583446   \n",
       "8                                 -501.174549   \n",
       "9                                 -500.928547   \n",
       "\n",
       "   secondary_cleaner.state.floatbank5_a_air  \\\n",
       "0                                  9.925633   \n",
       "1                                 10.039245   \n",
       "2                                 10.070913   \n",
       "3                                  9.970366   \n",
       "4                                  9.925709   \n",
       "5                                 10.054147   \n",
       "6                                 10.003247   \n",
       "7                                  9.873169   \n",
       "8                                 10.033838   \n",
       "9                                  9.962574   \n",
       "\n",
       "   secondary_cleaner.state.floatbank5_a_level  \\\n",
       "0                                 -498.310211   \n",
       "1                                 -500.169983   \n",
       "2                                 -500.129135   \n",
       "3                                 -499.201640   \n",
       "4                                 -501.686727   \n",
       "5                                 -496.374715   \n",
       "6                                 -497.083180   \n",
       "7                                 -499.171928   \n",
       "8                                 -501.178133   \n",
       "9                                 -502.986357   \n",
       "\n",
       "   secondary_cleaner.state.floatbank5_b_air  \\\n",
       "0                                  8.079666   \n",
       "1                                  7.984757   \n",
       "2                                  8.013877   \n",
       "3                                  7.977324   \n",
       "4                                  7.894242   \n",
       "5                                  7.965083   \n",
       "6                                  8.010890   \n",
       "7                                  7.993381   \n",
       "8                                  7.881604   \n",
       "9                                  7.979219   \n",
       "\n",
       "   secondary_cleaner.state.floatbank5_b_level  \\\n",
       "0                                 -500.470978   \n",
       "1                                 -500.582168   \n",
       "2                                 -500.517572   \n",
       "3                                 -500.255908   \n",
       "4                                 -500.356035   \n",
       "5                                 -499.364752   \n",
       "6                                 -500.002423   \n",
       "7                                 -499.794518   \n",
       "8                                 -499.729434   \n",
       "9                                 -500.146835   \n",
       "\n",
       "   secondary_cleaner.state.floatbank6_a_air  \\\n",
       "0                                 14.151341   \n",
       "1                                 13.998353   \n",
       "2                                 14.028663   \n",
       "3                                 14.005551   \n",
       "4                                 13.996647   \n",
       "5                                 14.017067   \n",
       "6                                 14.029649   \n",
       "7                                 13.984498   \n",
       "8                                 13.967135   \n",
       "9                                 13.981614   \n",
       "\n",
       "   secondary_cleaner.state.floatbank6_a_level  \n",
       "0                                 -605.841980  \n",
       "1                                 -599.787184  \n",
       "2                                 -601.427363  \n",
       "3                                 -599.996129  \n",
       "4                                 -601.496691  \n",
       "5                                 -599.707915  \n",
       "6                                 -600.905470  \n",
       "7                                 -600.411070  \n",
       "8                                 -599.061188  \n",
       "9                                 -598.070855  "
      ]
     },
     "execution_count": 5,
     "metadata": {},
     "output_type": "execute_result"
    }
   ],
   "source": [
    "# Взглянем на обучающие данные и запишем в переменную training_data.\n",
    "\n",
    "training_data = pd.read_csv('/datasets/gold_recovery_train_new.csv')\n",
    "\n",
    "training_data.head(10)"
   ]
  },
  {
   "cell_type": "code",
   "execution_count": 6,
   "metadata": {},
   "outputs": [
    {
     "data": {
      "text/html": [
       "<div>\n",
       "<style scoped>\n",
       "    .dataframe tbody tr th:only-of-type {\n",
       "        vertical-align: middle;\n",
       "    }\n",
       "\n",
       "    .dataframe tbody tr th {\n",
       "        vertical-align: top;\n",
       "    }\n",
       "\n",
       "    .dataframe thead th {\n",
       "        text-align: right;\n",
       "    }\n",
       "</style>\n",
       "<table border=\"1\" class=\"dataframe\">\n",
       "  <thead>\n",
       "    <tr style=\"text-align: right;\">\n",
       "      <th></th>\n",
       "      <th>date</th>\n",
       "      <th>primary_cleaner.input.sulfate</th>\n",
       "      <th>primary_cleaner.input.depressant</th>\n",
       "      <th>primary_cleaner.input.feed_size</th>\n",
       "      <th>primary_cleaner.input.xanthate</th>\n",
       "      <th>primary_cleaner.state.floatbank8_a_air</th>\n",
       "      <th>primary_cleaner.state.floatbank8_a_level</th>\n",
       "      <th>primary_cleaner.state.floatbank8_b_air</th>\n",
       "      <th>primary_cleaner.state.floatbank8_b_level</th>\n",
       "      <th>primary_cleaner.state.floatbank8_c_air</th>\n",
       "      <th>primary_cleaner.state.floatbank8_c_level</th>\n",
       "      <th>primary_cleaner.state.floatbank8_d_air</th>\n",
       "      <th>primary_cleaner.state.floatbank8_d_level</th>\n",
       "      <th>rougher.input.feed_ag</th>\n",
       "      <th>rougher.input.feed_pb</th>\n",
       "      <th>rougher.input.feed_rate</th>\n",
       "      <th>rougher.input.feed_size</th>\n",
       "      <th>rougher.input.feed_sol</th>\n",
       "      <th>rougher.input.feed_au</th>\n",
       "      <th>rougher.input.floatbank10_sulfate</th>\n",
       "      <th>rougher.input.floatbank10_xanthate</th>\n",
       "      <th>rougher.input.floatbank11_sulfate</th>\n",
       "      <th>rougher.input.floatbank11_xanthate</th>\n",
       "      <th>rougher.state.floatbank10_a_air</th>\n",
       "      <th>rougher.state.floatbank10_a_level</th>\n",
       "      <th>rougher.state.floatbank10_b_air</th>\n",
       "      <th>rougher.state.floatbank10_b_level</th>\n",
       "      <th>rougher.state.floatbank10_c_air</th>\n",
       "      <th>rougher.state.floatbank10_c_level</th>\n",
       "      <th>rougher.state.floatbank10_d_air</th>\n",
       "      <th>rougher.state.floatbank10_d_level</th>\n",
       "      <th>rougher.state.floatbank10_e_air</th>\n",
       "      <th>rougher.state.floatbank10_e_level</th>\n",
       "      <th>rougher.state.floatbank10_f_air</th>\n",
       "      <th>rougher.state.floatbank10_f_level</th>\n",
       "      <th>secondary_cleaner.state.floatbank2_a_air</th>\n",
       "      <th>secondary_cleaner.state.floatbank2_a_level</th>\n",
       "      <th>secondary_cleaner.state.floatbank2_b_air</th>\n",
       "      <th>secondary_cleaner.state.floatbank2_b_level</th>\n",
       "      <th>secondary_cleaner.state.floatbank3_a_air</th>\n",
       "      <th>secondary_cleaner.state.floatbank3_a_level</th>\n",
       "      <th>secondary_cleaner.state.floatbank3_b_air</th>\n",
       "      <th>secondary_cleaner.state.floatbank3_b_level</th>\n",
       "      <th>secondary_cleaner.state.floatbank4_a_air</th>\n",
       "      <th>secondary_cleaner.state.floatbank4_a_level</th>\n",
       "      <th>secondary_cleaner.state.floatbank4_b_air</th>\n",
       "      <th>secondary_cleaner.state.floatbank4_b_level</th>\n",
       "      <th>secondary_cleaner.state.floatbank5_a_air</th>\n",
       "      <th>secondary_cleaner.state.floatbank5_a_level</th>\n",
       "      <th>secondary_cleaner.state.floatbank5_b_air</th>\n",
       "      <th>secondary_cleaner.state.floatbank5_b_level</th>\n",
       "      <th>secondary_cleaner.state.floatbank6_a_air</th>\n",
       "      <th>secondary_cleaner.state.floatbank6_a_level</th>\n",
       "    </tr>\n",
       "  </thead>\n",
       "  <tbody>\n",
       "    <tr>\n",
       "      <th>0</th>\n",
       "      <td>2016-09-01 00:59:59</td>\n",
       "      <td>210.800909</td>\n",
       "      <td>14.993118</td>\n",
       "      <td>8.080000</td>\n",
       "      <td>1.005021</td>\n",
       "      <td>1398.981301</td>\n",
       "      <td>-500.225577</td>\n",
       "      <td>1399.144926</td>\n",
       "      <td>-499.919735</td>\n",
       "      <td>1400.102998</td>\n",
       "      <td>-500.704369</td>\n",
       "      <td>1399.001695</td>\n",
       "      <td>-499.485144</td>\n",
       "      <td>13.128569</td>\n",
       "      <td>5.636710</td>\n",
       "      <td>489.793655</td>\n",
       "      <td>62.710452</td>\n",
       "      <td>42.022440</td>\n",
       "      <td>12.084103</td>\n",
       "      <td>16.922877</td>\n",
       "      <td>6.153479</td>\n",
       "      <td>16.867518</td>\n",
       "      <td>6.150709</td>\n",
       "      <td>1001.849317</td>\n",
       "      <td>-350.301265</td>\n",
       "      <td>1249.738612</td>\n",
       "      <td>-399.107531</td>\n",
       "      <td>1249.750520</td>\n",
       "      <td>-399.396730</td>\n",
       "      <td>1198.287855</td>\n",
       "      <td>-399.488594</td>\n",
       "      <td>999.472250</td>\n",
       "      <td>-399.530962</td>\n",
       "      <td>949.566189</td>\n",
       "      <td>-398.180807</td>\n",
       "      <td>24.938200</td>\n",
       "      <td>-500.490963</td>\n",
       "      <td>14.947607</td>\n",
       "      <td>-500.013837</td>\n",
       "      <td>20.018166</td>\n",
       "      <td>-450.395995</td>\n",
       "      <td>13.987058</td>\n",
       "      <td>-449.831513</td>\n",
       "      <td>12.023554</td>\n",
       "      <td>-497.795834</td>\n",
       "      <td>8.016656</td>\n",
       "      <td>-501.289139</td>\n",
       "      <td>7.946562</td>\n",
       "      <td>-432.317850</td>\n",
       "      <td>4.872511</td>\n",
       "      <td>-500.037437</td>\n",
       "      <td>26.705889</td>\n",
       "      <td>-499.709414</td>\n",
       "    </tr>\n",
       "    <tr>\n",
       "      <th>1</th>\n",
       "      <td>2016-09-01 01:59:59</td>\n",
       "      <td>215.392455</td>\n",
       "      <td>14.987471</td>\n",
       "      <td>8.080000</td>\n",
       "      <td>0.990469</td>\n",
       "      <td>1398.777912</td>\n",
       "      <td>-500.057435</td>\n",
       "      <td>1398.055362</td>\n",
       "      <td>-499.778182</td>\n",
       "      <td>1396.151033</td>\n",
       "      <td>-499.240168</td>\n",
       "      <td>1399.508091</td>\n",
       "      <td>-500.416324</td>\n",
       "      <td>13.036280</td>\n",
       "      <td>5.526065</td>\n",
       "      <td>490.104534</td>\n",
       "      <td>61.961163</td>\n",
       "      <td>41.187903</td>\n",
       "      <td>11.918977</td>\n",
       "      <td>17.002532</td>\n",
       "      <td>5.999043</td>\n",
       "      <td>16.996063</td>\n",
       "      <td>6.002315</td>\n",
       "      <td>998.690785</td>\n",
       "      <td>-350.425704</td>\n",
       "      <td>1248.395457</td>\n",
       "      <td>-399.946025</td>\n",
       "      <td>1249.514451</td>\n",
       "      <td>-399.630810</td>\n",
       "      <td>1200.506459</td>\n",
       "      <td>-399.942434</td>\n",
       "      <td>1000.002114</td>\n",
       "      <td>-399.491528</td>\n",
       "      <td>950.200009</td>\n",
       "      <td>-405.787514</td>\n",
       "      <td>24.923466</td>\n",
       "      <td>-499.813963</td>\n",
       "      <td>14.930873</td>\n",
       "      <td>-500.764452</td>\n",
       "      <td>19.988503</td>\n",
       "      <td>-450.114024</td>\n",
       "      <td>14.092981</td>\n",
       "      <td>-450.059163</td>\n",
       "      <td>12.058140</td>\n",
       "      <td>-498.695773</td>\n",
       "      <td>8.130979</td>\n",
       "      <td>-499.634209</td>\n",
       "      <td>7.958270</td>\n",
       "      <td>-525.839648</td>\n",
       "      <td>4.878850</td>\n",
       "      <td>-500.162375</td>\n",
       "      <td>25.019940</td>\n",
       "      <td>-499.819438</td>\n",
       "    </tr>\n",
       "    <tr>\n",
       "      <th>2</th>\n",
       "      <td>2016-09-01 02:59:59</td>\n",
       "      <td>215.259946</td>\n",
       "      <td>12.884934</td>\n",
       "      <td>7.786667</td>\n",
       "      <td>0.996043</td>\n",
       "      <td>1398.493666</td>\n",
       "      <td>-500.868360</td>\n",
       "      <td>1398.860436</td>\n",
       "      <td>-499.764529</td>\n",
       "      <td>1398.075709</td>\n",
       "      <td>-502.151509</td>\n",
       "      <td>1399.497088</td>\n",
       "      <td>-499.715479</td>\n",
       "      <td>13.138412</td>\n",
       "      <td>5.426561</td>\n",
       "      <td>489.617969</td>\n",
       "      <td>66.903807</td>\n",
       "      <td>42.546294</td>\n",
       "      <td>12.091332</td>\n",
       "      <td>16.992520</td>\n",
       "      <td>5.850632</td>\n",
       "      <td>16.982096</td>\n",
       "      <td>5.853594</td>\n",
       "      <td>998.516720</td>\n",
       "      <td>-349.783538</td>\n",
       "      <td>1247.440748</td>\n",
       "      <td>-400.264330</td>\n",
       "      <td>1248.207204</td>\n",
       "      <td>-401.074405</td>\n",
       "      <td>1199.770026</td>\n",
       "      <td>-400.790582</td>\n",
       "      <td>999.925519</td>\n",
       "      <td>-399.236999</td>\n",
       "      <td>950.320481</td>\n",
       "      <td>-400.864340</td>\n",
       "      <td>24.908732</td>\n",
       "      <td>-500.304035</td>\n",
       "      <td>14.996511</td>\n",
       "      <td>-500.993821</td>\n",
       "      <td>20.039689</td>\n",
       "      <td>-450.263164</td>\n",
       "      <td>14.077881</td>\n",
       "      <td>-449.660997</td>\n",
       "      <td>11.962366</td>\n",
       "      <td>-498.767484</td>\n",
       "      <td>8.096893</td>\n",
       "      <td>-500.827423</td>\n",
       "      <td>8.071056</td>\n",
       "      <td>-500.801673</td>\n",
       "      <td>4.905125</td>\n",
       "      <td>-499.828510</td>\n",
       "      <td>24.994862</td>\n",
       "      <td>-500.622559</td>\n",
       "    </tr>\n",
       "    <tr>\n",
       "      <th>3</th>\n",
       "      <td>2016-09-01 03:59:59</td>\n",
       "      <td>215.336236</td>\n",
       "      <td>12.006805</td>\n",
       "      <td>7.640000</td>\n",
       "      <td>0.863514</td>\n",
       "      <td>1399.618111</td>\n",
       "      <td>-498.863574</td>\n",
       "      <td>1397.440120</td>\n",
       "      <td>-499.211024</td>\n",
       "      <td>1400.129303</td>\n",
       "      <td>-498.355873</td>\n",
       "      <td>1401.065165</td>\n",
       "      <td>-501.038738</td>\n",
       "      <td>12.400507</td>\n",
       "      <td>5.114758</td>\n",
       "      <td>476.618130</td>\n",
       "      <td>59.865919</td>\n",
       "      <td>41.060195</td>\n",
       "      <td>12.181597</td>\n",
       "      <td>16.532144</td>\n",
       "      <td>5.801935</td>\n",
       "      <td>16.515277</td>\n",
       "      <td>5.803657</td>\n",
       "      <td>1000.276604</td>\n",
       "      <td>-350.172597</td>\n",
       "      <td>1251.322675</td>\n",
       "      <td>-398.655289</td>\n",
       "      <td>1250.493702</td>\n",
       "      <td>-399.746728</td>\n",
       "      <td>1199.398691</td>\n",
       "      <td>-397.503052</td>\n",
       "      <td>1001.930679</td>\n",
       "      <td>-400.437573</td>\n",
       "      <td>950.735324</td>\n",
       "      <td>-399.802986</td>\n",
       "      <td>24.893998</td>\n",
       "      <td>-499.382374</td>\n",
       "      <td>14.916674</td>\n",
       "      <td>-499.862299</td>\n",
       "      <td>20.031100</td>\n",
       "      <td>-449.372570</td>\n",
       "      <td>14.013968</td>\n",
       "      <td>-449.526900</td>\n",
       "      <td>12.033091</td>\n",
       "      <td>-498.350935</td>\n",
       "      <td>8.074946</td>\n",
       "      <td>-499.474407</td>\n",
       "      <td>7.897085</td>\n",
       "      <td>-500.868509</td>\n",
       "      <td>4.931400</td>\n",
       "      <td>-499.963623</td>\n",
       "      <td>24.948919</td>\n",
       "      <td>-498.709987</td>\n",
       "    </tr>\n",
       "    <tr>\n",
       "      <th>4</th>\n",
       "      <td>2016-09-01 04:59:59</td>\n",
       "      <td>199.099327</td>\n",
       "      <td>10.682530</td>\n",
       "      <td>7.530000</td>\n",
       "      <td>0.805575</td>\n",
       "      <td>1401.268123</td>\n",
       "      <td>-500.808305</td>\n",
       "      <td>1398.128818</td>\n",
       "      <td>-499.504543</td>\n",
       "      <td>1402.172226</td>\n",
       "      <td>-500.810606</td>\n",
       "      <td>1399.480508</td>\n",
       "      <td>-499.374053</td>\n",
       "      <td>11.327427</td>\n",
       "      <td>4.767383</td>\n",
       "      <td>488.248117</td>\n",
       "      <td>63.315324</td>\n",
       "      <td>41.269161</td>\n",
       "      <td>11.290425</td>\n",
       "      <td>13.607257</td>\n",
       "      <td>5.738081</td>\n",
       "      <td>13.650053</td>\n",
       "      <td>5.739634</td>\n",
       "      <td>996.541302</td>\n",
       "      <td>-350.562517</td>\n",
       "      <td>1304.658848</td>\n",
       "      <td>-399.511519</td>\n",
       "      <td>1306.455515</td>\n",
       "      <td>-399.050685</td>\n",
       "      <td>1248.699349</td>\n",
       "      <td>-400.876894</td>\n",
       "      <td>1058.839106</td>\n",
       "      <td>-398.988239</td>\n",
       "      <td>949.645313</td>\n",
       "      <td>-399.277632</td>\n",
       "      <td>24.886905</td>\n",
       "      <td>-499.357375</td>\n",
       "      <td>14.979233</td>\n",
       "      <td>-500.186804</td>\n",
       "      <td>19.962364</td>\n",
       "      <td>-450.638828</td>\n",
       "      <td>14.009245</td>\n",
       "      <td>-450.022259</td>\n",
       "      <td>12.025367</td>\n",
       "      <td>-500.786497</td>\n",
       "      <td>8.054678</td>\n",
       "      <td>-500.397500</td>\n",
       "      <td>8.107890</td>\n",
       "      <td>-509.526725</td>\n",
       "      <td>4.957674</td>\n",
       "      <td>-500.360026</td>\n",
       "      <td>25.003331</td>\n",
       "      <td>-500.856333</td>\n",
       "    </tr>\n",
       "    <tr>\n",
       "      <th>5</th>\n",
       "      <td>2016-09-01 05:59:59</td>\n",
       "      <td>168.485085</td>\n",
       "      <td>8.817007</td>\n",
       "      <td>7.420000</td>\n",
       "      <td>0.791191</td>\n",
       "      <td>1402.826803</td>\n",
       "      <td>-499.299521</td>\n",
       "      <td>1401.511119</td>\n",
       "      <td>-499.205357</td>\n",
       "      <td>1404.088107</td>\n",
       "      <td>-497.903666</td>\n",
       "      <td>1400.479070</td>\n",
       "      <td>-500.842752</td>\n",
       "      <td>9.658909</td>\n",
       "      <td>4.290008</td>\n",
       "      <td>490.908013</td>\n",
       "      <td>69.218255</td>\n",
       "      <td>41.515115</td>\n",
       "      <td>9.779850</td>\n",
       "      <td>10.696589</td>\n",
       "      <td>5.596642</td>\n",
       "      <td>10.699891</td>\n",
       "      <td>5.597860</td>\n",
       "      <td>998.650980</td>\n",
       "      <td>-349.659046</td>\n",
       "      <td>1349.964264</td>\n",
       "      <td>-399.393077</td>\n",
       "      <td>1349.764702</td>\n",
       "      <td>-399.233016</td>\n",
       "      <td>1302.258827</td>\n",
       "      <td>-399.946857</td>\n",
       "      <td>1100.278629</td>\n",
       "      <td>-399.742287</td>\n",
       "      <td>949.622431</td>\n",
       "      <td>-399.096175</td>\n",
       "      <td>24.920872</td>\n",
       "      <td>-500.006603</td>\n",
       "      <td>14.916602</td>\n",
       "      <td>-499.899348</td>\n",
       "      <td>20.019330</td>\n",
       "      <td>-449.836319</td>\n",
       "      <td>14.041691</td>\n",
       "      <td>-450.185369</td>\n",
       "      <td>12.029797</td>\n",
       "      <td>-499.814895</td>\n",
       "      <td>8.036586</td>\n",
       "      <td>-500.371492</td>\n",
       "      <td>8.041446</td>\n",
       "      <td>-510.037054</td>\n",
       "      <td>4.983949</td>\n",
       "      <td>-499.990990</td>\n",
       "      <td>24.978973</td>\n",
       "      <td>-500.475640</td>\n",
       "    </tr>\n",
       "    <tr>\n",
       "      <th>6</th>\n",
       "      <td>2016-09-01 06:59:59</td>\n",
       "      <td>144.133440</td>\n",
       "      <td>7.924610</td>\n",
       "      <td>7.420000</td>\n",
       "      <td>0.788838</td>\n",
       "      <td>1398.252401</td>\n",
       "      <td>-499.748672</td>\n",
       "      <td>1393.255503</td>\n",
       "      <td>-499.195380</td>\n",
       "      <td>1396.738566</td>\n",
       "      <td>-497.923683</td>\n",
       "      <td>1399.535678</td>\n",
       "      <td>-500.256895</td>\n",
       "      <td>8.902324</td>\n",
       "      <td>4.043502</td>\n",
       "      <td>490.081681</td>\n",
       "      <td>75.856243</td>\n",
       "      <td>43.157100</td>\n",
       "      <td>9.168984</td>\n",
       "      <td>10.004265</td>\n",
       "      <td>5.602029</td>\n",
       "      <td>10.004993</td>\n",
       "      <td>5.598335</td>\n",
       "      <td>999.686022</td>\n",
       "      <td>-350.086605</td>\n",
       "      <td>1349.452840</td>\n",
       "      <td>-400.372133</td>\n",
       "      <td>1349.739875</td>\n",
       "      <td>-400.045549</td>\n",
       "      <td>1299.687671</td>\n",
       "      <td>-399.981643</td>\n",
       "      <td>1099.813504</td>\n",
       "      <td>-400.249376</td>\n",
       "      <td>949.798421</td>\n",
       "      <td>-400.710664</td>\n",
       "      <td>24.966566</td>\n",
       "      <td>-500.375242</td>\n",
       "      <td>12.573283</td>\n",
       "      <td>-499.670366</td>\n",
       "      <td>19.959853</td>\n",
       "      <td>-485.725045</td>\n",
       "      <td>12.465845</td>\n",
       "      <td>-485.778583</td>\n",
       "      <td>12.026296</td>\n",
       "      <td>-499.473127</td>\n",
       "      <td>8.027984</td>\n",
       "      <td>-500.983079</td>\n",
       "      <td>7.907340</td>\n",
       "      <td>-507.964971</td>\n",
       "      <td>5.010224</td>\n",
       "      <td>-500.043697</td>\n",
       "      <td>25.040709</td>\n",
       "      <td>-499.501984</td>\n",
       "    </tr>\n",
       "    <tr>\n",
       "      <th>7</th>\n",
       "      <td>2016-09-01 07:59:59</td>\n",
       "      <td>133.513396</td>\n",
       "      <td>8.055252</td>\n",
       "      <td>6.988000</td>\n",
       "      <td>0.801871</td>\n",
       "      <td>1401.669677</td>\n",
       "      <td>-501.777839</td>\n",
       "      <td>1400.754446</td>\n",
       "      <td>-502.514024</td>\n",
       "      <td>1400.465244</td>\n",
       "      <td>-503.451306</td>\n",
       "      <td>1398.546641</td>\n",
       "      <td>-498.000544</td>\n",
       "      <td>8.759385</td>\n",
       "      <td>4.036795</td>\n",
       "      <td>489.121319</td>\n",
       "      <td>77.968131</td>\n",
       "      <td>44.392272</td>\n",
       "      <td>9.116535</td>\n",
       "      <td>9.999497</td>\n",
       "      <td>5.604636</td>\n",
       "      <td>9.998214</td>\n",
       "      <td>5.601708</td>\n",
       "      <td>999.888294</td>\n",
       "      <td>-350.889527</td>\n",
       "      <td>1350.425833</td>\n",
       "      <td>-400.665895</td>\n",
       "      <td>1347.736470</td>\n",
       "      <td>-401.850527</td>\n",
       "      <td>1295.059918</td>\n",
       "      <td>-404.880024</td>\n",
       "      <td>1097.116527</td>\n",
       "      <td>-399.280301</td>\n",
       "      <td>950.165809</td>\n",
       "      <td>-399.217640</td>\n",
       "      <td>25.057298</td>\n",
       "      <td>-500.516443</td>\n",
       "      <td>11.919993</td>\n",
       "      <td>-500.141295</td>\n",
       "      <td>20.091065</td>\n",
       "      <td>-500.162309</td>\n",
       "      <td>11.935898</td>\n",
       "      <td>-500.116649</td>\n",
       "      <td>12.040911</td>\n",
       "      <td>-501.293852</td>\n",
       "      <td>8.020490</td>\n",
       "      <td>-499.185229</td>\n",
       "      <td>8.116897</td>\n",
       "      <td>-511.927561</td>\n",
       "      <td>5.036498</td>\n",
       "      <td>-500.149615</td>\n",
       "      <td>25.032580</td>\n",
       "      <td>-503.970657</td>\n",
       "    </tr>\n",
       "    <tr>\n",
       "      <th>8</th>\n",
       "      <td>2016-09-01 08:59:59</td>\n",
       "      <td>133.735356</td>\n",
       "      <td>7.999618</td>\n",
       "      <td>6.935000</td>\n",
       "      <td>0.789329</td>\n",
       "      <td>1402.358981</td>\n",
       "      <td>-499.981597</td>\n",
       "      <td>1400.985954</td>\n",
       "      <td>-496.802968</td>\n",
       "      <td>1401.168584</td>\n",
       "      <td>-499.890350</td>\n",
       "      <td>1402.934656</td>\n",
       "      <td>-501.129108</td>\n",
       "      <td>8.603058</td>\n",
       "      <td>4.182064</td>\n",
       "      <td>489.860555</td>\n",
       "      <td>75.846999</td>\n",
       "      <td>45.022970</td>\n",
       "      <td>8.976052</td>\n",
       "      <td>10.002345</td>\n",
       "      <td>5.597465</td>\n",
       "      <td>9.992438</td>\n",
       "      <td>5.599358</td>\n",
       "      <td>1000.807159</td>\n",
       "      <td>-349.470811</td>\n",
       "      <td>1350.272285</td>\n",
       "      <td>-399.528520</td>\n",
       "      <td>1354.016617</td>\n",
       "      <td>-399.401157</td>\n",
       "      <td>1305.915847</td>\n",
       "      <td>-395.740836</td>\n",
       "      <td>1102.693258</td>\n",
       "      <td>-401.384425</td>\n",
       "      <td>950.082475</td>\n",
       "      <td>-400.682219</td>\n",
       "      <td>25.034680</td>\n",
       "      <td>-499.569715</td>\n",
       "      <td>11.988782</td>\n",
       "      <td>-499.838657</td>\n",
       "      <td>19.980559</td>\n",
       "      <td>-500.068733</td>\n",
       "      <td>12.079221</td>\n",
       "      <td>-499.983683</td>\n",
       "      <td>11.998184</td>\n",
       "      <td>-499.481608</td>\n",
       "      <td>8.012610</td>\n",
       "      <td>-500.896783</td>\n",
       "      <td>7.974422</td>\n",
       "      <td>-521.199104</td>\n",
       "      <td>5.061599</td>\n",
       "      <td>-499.791519</td>\n",
       "      <td>25.005063</td>\n",
       "      <td>-497.613716</td>\n",
       "    </tr>\n",
       "    <tr>\n",
       "      <th>9</th>\n",
       "      <td>2016-09-01 09:59:59</td>\n",
       "      <td>126.961069</td>\n",
       "      <td>8.017856</td>\n",
       "      <td>7.030000</td>\n",
       "      <td>0.805298</td>\n",
       "      <td>1400.816120</td>\n",
       "      <td>-499.014158</td>\n",
       "      <td>1399.975401</td>\n",
       "      <td>-499.570552</td>\n",
       "      <td>1401.871924</td>\n",
       "      <td>-499.577934</td>\n",
       "      <td>1402.758281</td>\n",
       "      <td>-500.120765</td>\n",
       "      <td>8.353697</td>\n",
       "      <td>4.013407</td>\n",
       "      <td>498.755837</td>\n",
       "      <td>72.476418</td>\n",
       "      <td>43.445836</td>\n",
       "      <td>8.345579</td>\n",
       "      <td>10.001816</td>\n",
       "      <td>5.597272</td>\n",
       "      <td>10.001796</td>\n",
       "      <td>5.611996</td>\n",
       "      <td>1000.429044</td>\n",
       "      <td>-350.050785</td>\n",
       "      <td>1349.662467</td>\n",
       "      <td>-399.820231</td>\n",
       "      <td>1350.121930</td>\n",
       "      <td>-399.334600</td>\n",
       "      <td>1297.578530</td>\n",
       "      <td>-398.095707</td>\n",
       "      <td>1102.301530</td>\n",
       "      <td>-399.421425</td>\n",
       "      <td>951.069653</td>\n",
       "      <td>-401.079692</td>\n",
       "      <td>25.100847</td>\n",
       "      <td>-500.700788</td>\n",
       "      <td>12.057571</td>\n",
       "      <td>-500.134346</td>\n",
       "      <td>19.973543</td>\n",
       "      <td>-498.635246</td>\n",
       "      <td>11.973403</td>\n",
       "      <td>-498.885523</td>\n",
       "      <td>12.040725</td>\n",
       "      <td>-499.987743</td>\n",
       "      <td>7.989503</td>\n",
       "      <td>-499.750625</td>\n",
       "      <td>7.989710</td>\n",
       "      <td>-509.946737</td>\n",
       "      <td>5.068811</td>\n",
       "      <td>-499.293900</td>\n",
       "      <td>24.992741</td>\n",
       "      <td>-499.272255</td>\n",
       "    </tr>\n",
       "  </tbody>\n",
       "</table>\n",
       "</div>"
      ],
      "text/plain": [
       "                  date  primary_cleaner.input.sulfate  \\\n",
       "0  2016-09-01 00:59:59                     210.800909   \n",
       "1  2016-09-01 01:59:59                     215.392455   \n",
       "2  2016-09-01 02:59:59                     215.259946   \n",
       "3  2016-09-01 03:59:59                     215.336236   \n",
       "4  2016-09-01 04:59:59                     199.099327   \n",
       "5  2016-09-01 05:59:59                     168.485085   \n",
       "6  2016-09-01 06:59:59                     144.133440   \n",
       "7  2016-09-01 07:59:59                     133.513396   \n",
       "8  2016-09-01 08:59:59                     133.735356   \n",
       "9  2016-09-01 09:59:59                     126.961069   \n",
       "\n",
       "   primary_cleaner.input.depressant  primary_cleaner.input.feed_size  \\\n",
       "0                         14.993118                         8.080000   \n",
       "1                         14.987471                         8.080000   \n",
       "2                         12.884934                         7.786667   \n",
       "3                         12.006805                         7.640000   \n",
       "4                         10.682530                         7.530000   \n",
       "5                          8.817007                         7.420000   \n",
       "6                          7.924610                         7.420000   \n",
       "7                          8.055252                         6.988000   \n",
       "8                          7.999618                         6.935000   \n",
       "9                          8.017856                         7.030000   \n",
       "\n",
       "   primary_cleaner.input.xanthate  primary_cleaner.state.floatbank8_a_air  \\\n",
       "0                        1.005021                             1398.981301   \n",
       "1                        0.990469                             1398.777912   \n",
       "2                        0.996043                             1398.493666   \n",
       "3                        0.863514                             1399.618111   \n",
       "4                        0.805575                             1401.268123   \n",
       "5                        0.791191                             1402.826803   \n",
       "6                        0.788838                             1398.252401   \n",
       "7                        0.801871                             1401.669677   \n",
       "8                        0.789329                             1402.358981   \n",
       "9                        0.805298                             1400.816120   \n",
       "\n",
       "   primary_cleaner.state.floatbank8_a_level  \\\n",
       "0                               -500.225577   \n",
       "1                               -500.057435   \n",
       "2                               -500.868360   \n",
       "3                               -498.863574   \n",
       "4                               -500.808305   \n",
       "5                               -499.299521   \n",
       "6                               -499.748672   \n",
       "7                               -501.777839   \n",
       "8                               -499.981597   \n",
       "9                               -499.014158   \n",
       "\n",
       "   primary_cleaner.state.floatbank8_b_air  \\\n",
       "0                             1399.144926   \n",
       "1                             1398.055362   \n",
       "2                             1398.860436   \n",
       "3                             1397.440120   \n",
       "4                             1398.128818   \n",
       "5                             1401.511119   \n",
       "6                             1393.255503   \n",
       "7                             1400.754446   \n",
       "8                             1400.985954   \n",
       "9                             1399.975401   \n",
       "\n",
       "   primary_cleaner.state.floatbank8_b_level  \\\n",
       "0                               -499.919735   \n",
       "1                               -499.778182   \n",
       "2                               -499.764529   \n",
       "3                               -499.211024   \n",
       "4                               -499.504543   \n",
       "5                               -499.205357   \n",
       "6                               -499.195380   \n",
       "7                               -502.514024   \n",
       "8                               -496.802968   \n",
       "9                               -499.570552   \n",
       "\n",
       "   primary_cleaner.state.floatbank8_c_air  \\\n",
       "0                             1400.102998   \n",
       "1                             1396.151033   \n",
       "2                             1398.075709   \n",
       "3                             1400.129303   \n",
       "4                             1402.172226   \n",
       "5                             1404.088107   \n",
       "6                             1396.738566   \n",
       "7                             1400.465244   \n",
       "8                             1401.168584   \n",
       "9                             1401.871924   \n",
       "\n",
       "   primary_cleaner.state.floatbank8_c_level  \\\n",
       "0                               -500.704369   \n",
       "1                               -499.240168   \n",
       "2                               -502.151509   \n",
       "3                               -498.355873   \n",
       "4                               -500.810606   \n",
       "5                               -497.903666   \n",
       "6                               -497.923683   \n",
       "7                               -503.451306   \n",
       "8                               -499.890350   \n",
       "9                               -499.577934   \n",
       "\n",
       "   primary_cleaner.state.floatbank8_d_air  \\\n",
       "0                             1399.001695   \n",
       "1                             1399.508091   \n",
       "2                             1399.497088   \n",
       "3                             1401.065165   \n",
       "4                             1399.480508   \n",
       "5                             1400.479070   \n",
       "6                             1399.535678   \n",
       "7                             1398.546641   \n",
       "8                             1402.934656   \n",
       "9                             1402.758281   \n",
       "\n",
       "   primary_cleaner.state.floatbank8_d_level  rougher.input.feed_ag  \\\n",
       "0                               -499.485144              13.128569   \n",
       "1                               -500.416324              13.036280   \n",
       "2                               -499.715479              13.138412   \n",
       "3                               -501.038738              12.400507   \n",
       "4                               -499.374053              11.327427   \n",
       "5                               -500.842752               9.658909   \n",
       "6                               -500.256895               8.902324   \n",
       "7                               -498.000544               8.759385   \n",
       "8                               -501.129108               8.603058   \n",
       "9                               -500.120765               8.353697   \n",
       "\n",
       "   rougher.input.feed_pb  rougher.input.feed_rate  rougher.input.feed_size  \\\n",
       "0               5.636710               489.793655                62.710452   \n",
       "1               5.526065               490.104534                61.961163   \n",
       "2               5.426561               489.617969                66.903807   \n",
       "3               5.114758               476.618130                59.865919   \n",
       "4               4.767383               488.248117                63.315324   \n",
       "5               4.290008               490.908013                69.218255   \n",
       "6               4.043502               490.081681                75.856243   \n",
       "7               4.036795               489.121319                77.968131   \n",
       "8               4.182064               489.860555                75.846999   \n",
       "9               4.013407               498.755837                72.476418   \n",
       "\n",
       "   rougher.input.feed_sol  rougher.input.feed_au  \\\n",
       "0               42.022440              12.084103   \n",
       "1               41.187903              11.918977   \n",
       "2               42.546294              12.091332   \n",
       "3               41.060195              12.181597   \n",
       "4               41.269161              11.290425   \n",
       "5               41.515115               9.779850   \n",
       "6               43.157100               9.168984   \n",
       "7               44.392272               9.116535   \n",
       "8               45.022970               8.976052   \n",
       "9               43.445836               8.345579   \n",
       "\n",
       "   rougher.input.floatbank10_sulfate  rougher.input.floatbank10_xanthate  \\\n",
       "0                          16.922877                            6.153479   \n",
       "1                          17.002532                            5.999043   \n",
       "2                          16.992520                            5.850632   \n",
       "3                          16.532144                            5.801935   \n",
       "4                          13.607257                            5.738081   \n",
       "5                          10.696589                            5.596642   \n",
       "6                          10.004265                            5.602029   \n",
       "7                           9.999497                            5.604636   \n",
       "8                          10.002345                            5.597465   \n",
       "9                          10.001816                            5.597272   \n",
       "\n",
       "   rougher.input.floatbank11_sulfate  rougher.input.floatbank11_xanthate  \\\n",
       "0                          16.867518                            6.150709   \n",
       "1                          16.996063                            6.002315   \n",
       "2                          16.982096                            5.853594   \n",
       "3                          16.515277                            5.803657   \n",
       "4                          13.650053                            5.739634   \n",
       "5                          10.699891                            5.597860   \n",
       "6                          10.004993                            5.598335   \n",
       "7                           9.998214                            5.601708   \n",
       "8                           9.992438                            5.599358   \n",
       "9                          10.001796                            5.611996   \n",
       "\n",
       "   rougher.state.floatbank10_a_air  rougher.state.floatbank10_a_level  \\\n",
       "0                      1001.849317                        -350.301265   \n",
       "1                       998.690785                        -350.425704   \n",
       "2                       998.516720                        -349.783538   \n",
       "3                      1000.276604                        -350.172597   \n",
       "4                       996.541302                        -350.562517   \n",
       "5                       998.650980                        -349.659046   \n",
       "6                       999.686022                        -350.086605   \n",
       "7                       999.888294                        -350.889527   \n",
       "8                      1000.807159                        -349.470811   \n",
       "9                      1000.429044                        -350.050785   \n",
       "\n",
       "   rougher.state.floatbank10_b_air  rougher.state.floatbank10_b_level  \\\n",
       "0                      1249.738612                        -399.107531   \n",
       "1                      1248.395457                        -399.946025   \n",
       "2                      1247.440748                        -400.264330   \n",
       "3                      1251.322675                        -398.655289   \n",
       "4                      1304.658848                        -399.511519   \n",
       "5                      1349.964264                        -399.393077   \n",
       "6                      1349.452840                        -400.372133   \n",
       "7                      1350.425833                        -400.665895   \n",
       "8                      1350.272285                        -399.528520   \n",
       "9                      1349.662467                        -399.820231   \n",
       "\n",
       "   rougher.state.floatbank10_c_air  rougher.state.floatbank10_c_level  \\\n",
       "0                      1249.750520                        -399.396730   \n",
       "1                      1249.514451                        -399.630810   \n",
       "2                      1248.207204                        -401.074405   \n",
       "3                      1250.493702                        -399.746728   \n",
       "4                      1306.455515                        -399.050685   \n",
       "5                      1349.764702                        -399.233016   \n",
       "6                      1349.739875                        -400.045549   \n",
       "7                      1347.736470                        -401.850527   \n",
       "8                      1354.016617                        -399.401157   \n",
       "9                      1350.121930                        -399.334600   \n",
       "\n",
       "   rougher.state.floatbank10_d_air  rougher.state.floatbank10_d_level  \\\n",
       "0                      1198.287855                        -399.488594   \n",
       "1                      1200.506459                        -399.942434   \n",
       "2                      1199.770026                        -400.790582   \n",
       "3                      1199.398691                        -397.503052   \n",
       "4                      1248.699349                        -400.876894   \n",
       "5                      1302.258827                        -399.946857   \n",
       "6                      1299.687671                        -399.981643   \n",
       "7                      1295.059918                        -404.880024   \n",
       "8                      1305.915847                        -395.740836   \n",
       "9                      1297.578530                        -398.095707   \n",
       "\n",
       "   rougher.state.floatbank10_e_air  rougher.state.floatbank10_e_level  \\\n",
       "0                       999.472250                        -399.530962   \n",
       "1                      1000.002114                        -399.491528   \n",
       "2                       999.925519                        -399.236999   \n",
       "3                      1001.930679                        -400.437573   \n",
       "4                      1058.839106                        -398.988239   \n",
       "5                      1100.278629                        -399.742287   \n",
       "6                      1099.813504                        -400.249376   \n",
       "7                      1097.116527                        -399.280301   \n",
       "8                      1102.693258                        -401.384425   \n",
       "9                      1102.301530                        -399.421425   \n",
       "\n",
       "   rougher.state.floatbank10_f_air  rougher.state.floatbank10_f_level  \\\n",
       "0                       949.566189                        -398.180807   \n",
       "1                       950.200009                        -405.787514   \n",
       "2                       950.320481                        -400.864340   \n",
       "3                       950.735324                        -399.802986   \n",
       "4                       949.645313                        -399.277632   \n",
       "5                       949.622431                        -399.096175   \n",
       "6                       949.798421                        -400.710664   \n",
       "7                       950.165809                        -399.217640   \n",
       "8                       950.082475                        -400.682219   \n",
       "9                       951.069653                        -401.079692   \n",
       "\n",
       "   secondary_cleaner.state.floatbank2_a_air  \\\n",
       "0                                 24.938200   \n",
       "1                                 24.923466   \n",
       "2                                 24.908732   \n",
       "3                                 24.893998   \n",
       "4                                 24.886905   \n",
       "5                                 24.920872   \n",
       "6                                 24.966566   \n",
       "7                                 25.057298   \n",
       "8                                 25.034680   \n",
       "9                                 25.100847   \n",
       "\n",
       "   secondary_cleaner.state.floatbank2_a_level  \\\n",
       "0                                 -500.490963   \n",
       "1                                 -499.813963   \n",
       "2                                 -500.304035   \n",
       "3                                 -499.382374   \n",
       "4                                 -499.357375   \n",
       "5                                 -500.006603   \n",
       "6                                 -500.375242   \n",
       "7                                 -500.516443   \n",
       "8                                 -499.569715   \n",
       "9                                 -500.700788   \n",
       "\n",
       "   secondary_cleaner.state.floatbank2_b_air  \\\n",
       "0                                 14.947607   \n",
       "1                                 14.930873   \n",
       "2                                 14.996511   \n",
       "3                                 14.916674   \n",
       "4                                 14.979233   \n",
       "5                                 14.916602   \n",
       "6                                 12.573283   \n",
       "7                                 11.919993   \n",
       "8                                 11.988782   \n",
       "9                                 12.057571   \n",
       "\n",
       "   secondary_cleaner.state.floatbank2_b_level  \\\n",
       "0                                 -500.013837   \n",
       "1                                 -500.764452   \n",
       "2                                 -500.993821   \n",
       "3                                 -499.862299   \n",
       "4                                 -500.186804   \n",
       "5                                 -499.899348   \n",
       "6                                 -499.670366   \n",
       "7                                 -500.141295   \n",
       "8                                 -499.838657   \n",
       "9                                 -500.134346   \n",
       "\n",
       "   secondary_cleaner.state.floatbank3_a_air  \\\n",
       "0                                 20.018166   \n",
       "1                                 19.988503   \n",
       "2                                 20.039689   \n",
       "3                                 20.031100   \n",
       "4                                 19.962364   \n",
       "5                                 20.019330   \n",
       "6                                 19.959853   \n",
       "7                                 20.091065   \n",
       "8                                 19.980559   \n",
       "9                                 19.973543   \n",
       "\n",
       "   secondary_cleaner.state.floatbank3_a_level  \\\n",
       "0                                 -450.395995   \n",
       "1                                 -450.114024   \n",
       "2                                 -450.263164   \n",
       "3                                 -449.372570   \n",
       "4                                 -450.638828   \n",
       "5                                 -449.836319   \n",
       "6                                 -485.725045   \n",
       "7                                 -500.162309   \n",
       "8                                 -500.068733   \n",
       "9                                 -498.635246   \n",
       "\n",
       "   secondary_cleaner.state.floatbank3_b_air  \\\n",
       "0                                 13.987058   \n",
       "1                                 14.092981   \n",
       "2                                 14.077881   \n",
       "3                                 14.013968   \n",
       "4                                 14.009245   \n",
       "5                                 14.041691   \n",
       "6                                 12.465845   \n",
       "7                                 11.935898   \n",
       "8                                 12.079221   \n",
       "9                                 11.973403   \n",
       "\n",
       "   secondary_cleaner.state.floatbank3_b_level  \\\n",
       "0                                 -449.831513   \n",
       "1                                 -450.059163   \n",
       "2                                 -449.660997   \n",
       "3                                 -449.526900   \n",
       "4                                 -450.022259   \n",
       "5                                 -450.185369   \n",
       "6                                 -485.778583   \n",
       "7                                 -500.116649   \n",
       "8                                 -499.983683   \n",
       "9                                 -498.885523   \n",
       "\n",
       "   secondary_cleaner.state.floatbank4_a_air  \\\n",
       "0                                 12.023554   \n",
       "1                                 12.058140   \n",
       "2                                 11.962366   \n",
       "3                                 12.033091   \n",
       "4                                 12.025367   \n",
       "5                                 12.029797   \n",
       "6                                 12.026296   \n",
       "7                                 12.040911   \n",
       "8                                 11.998184   \n",
       "9                                 12.040725   \n",
       "\n",
       "   secondary_cleaner.state.floatbank4_a_level  \\\n",
       "0                                 -497.795834   \n",
       "1                                 -498.695773   \n",
       "2                                 -498.767484   \n",
       "3                                 -498.350935   \n",
       "4                                 -500.786497   \n",
       "5                                 -499.814895   \n",
       "6                                 -499.473127   \n",
       "7                                 -501.293852   \n",
       "8                                 -499.481608   \n",
       "9                                 -499.987743   \n",
       "\n",
       "   secondary_cleaner.state.floatbank4_b_air  \\\n",
       "0                                  8.016656   \n",
       "1                                  8.130979   \n",
       "2                                  8.096893   \n",
       "3                                  8.074946   \n",
       "4                                  8.054678   \n",
       "5                                  8.036586   \n",
       "6                                  8.027984   \n",
       "7                                  8.020490   \n",
       "8                                  8.012610   \n",
       "9                                  7.989503   \n",
       "\n",
       "   secondary_cleaner.state.floatbank4_b_level  \\\n",
       "0                                 -501.289139   \n",
       "1                                 -499.634209   \n",
       "2                                 -500.827423   \n",
       "3                                 -499.474407   \n",
       "4                                 -500.397500   \n",
       "5                                 -500.371492   \n",
       "6                                 -500.983079   \n",
       "7                                 -499.185229   \n",
       "8                                 -500.896783   \n",
       "9                                 -499.750625   \n",
       "\n",
       "   secondary_cleaner.state.floatbank5_a_air  \\\n",
       "0                                  7.946562   \n",
       "1                                  7.958270   \n",
       "2                                  8.071056   \n",
       "3                                  7.897085   \n",
       "4                                  8.107890   \n",
       "5                                  8.041446   \n",
       "6                                  7.907340   \n",
       "7                                  8.116897   \n",
       "8                                  7.974422   \n",
       "9                                  7.989710   \n",
       "\n",
       "   secondary_cleaner.state.floatbank5_a_level  \\\n",
       "0                                 -432.317850   \n",
       "1                                 -525.839648   \n",
       "2                                 -500.801673   \n",
       "3                                 -500.868509   \n",
       "4                                 -509.526725   \n",
       "5                                 -510.037054   \n",
       "6                                 -507.964971   \n",
       "7                                 -511.927561   \n",
       "8                                 -521.199104   \n",
       "9                                 -509.946737   \n",
       "\n",
       "   secondary_cleaner.state.floatbank5_b_air  \\\n",
       "0                                  4.872511   \n",
       "1                                  4.878850   \n",
       "2                                  4.905125   \n",
       "3                                  4.931400   \n",
       "4                                  4.957674   \n",
       "5                                  4.983949   \n",
       "6                                  5.010224   \n",
       "7                                  5.036498   \n",
       "8                                  5.061599   \n",
       "9                                  5.068811   \n",
       "\n",
       "   secondary_cleaner.state.floatbank5_b_level  \\\n",
       "0                                 -500.037437   \n",
       "1                                 -500.162375   \n",
       "2                                 -499.828510   \n",
       "3                                 -499.963623   \n",
       "4                                 -500.360026   \n",
       "5                                 -499.990990   \n",
       "6                                 -500.043697   \n",
       "7                                 -500.149615   \n",
       "8                                 -499.791519   \n",
       "9                                 -499.293900   \n",
       "\n",
       "   secondary_cleaner.state.floatbank6_a_air  \\\n",
       "0                                 26.705889   \n",
       "1                                 25.019940   \n",
       "2                                 24.994862   \n",
       "3                                 24.948919   \n",
       "4                                 25.003331   \n",
       "5                                 24.978973   \n",
       "6                                 25.040709   \n",
       "7                                 25.032580   \n",
       "8                                 25.005063   \n",
       "9                                 24.992741   \n",
       "\n",
       "   secondary_cleaner.state.floatbank6_a_level  \n",
       "0                                 -499.709414  \n",
       "1                                 -499.819438  \n",
       "2                                 -500.622559  \n",
       "3                                 -498.709987  \n",
       "4                                 -500.856333  \n",
       "5                                 -500.475640  \n",
       "6                                 -499.501984  \n",
       "7                                 -503.970657  \n",
       "8                                 -497.613716  \n",
       "9                                 -499.272255  "
      ]
     },
     "execution_count": 6,
     "metadata": {},
     "output_type": "execute_result"
    }
   ],
   "source": [
    "# Взглянем на тестовые данные и запишем в переменную test_data.\n",
    "\n",
    "test_data = pd.read_csv('/datasets/gold_recovery_test_new.csv')\n",
    "\n",
    "test_data.head(10)"
   ]
  },
  {
   "cell_type": "markdown",
   "metadata": {},
   "source": [
    "#### Посмотрим на общею информацию с помощью `info` и `describe`."
   ]
  },
  {
   "cell_type": "code",
   "execution_count": 7,
   "metadata": {},
   "outputs": [
    {
     "name": "stdout",
     "output_type": "stream",
     "text": [
      "<class 'pandas.core.frame.DataFrame'>\n",
      "RangeIndex: 19439 entries, 0 to 19438\n",
      "Data columns (total 87 columns):\n",
      " #   Column                                              Non-Null Count  Dtype  \n",
      "---  ------                                              --------------  -----  \n",
      " 0   date                                                19439 non-null  object \n",
      " 1   final.output.concentrate_ag                         19438 non-null  float64\n",
      " 2   final.output.concentrate_pb                         19438 non-null  float64\n",
      " 3   final.output.concentrate_sol                        19228 non-null  float64\n",
      " 4   final.output.concentrate_au                         19439 non-null  float64\n",
      " 5   final.output.recovery                               19439 non-null  float64\n",
      " 6   final.output.tail_ag                                19438 non-null  float64\n",
      " 7   final.output.tail_pb                                19338 non-null  float64\n",
      " 8   final.output.tail_sol                               19433 non-null  float64\n",
      " 9   final.output.tail_au                                19439 non-null  float64\n",
      " 10  primary_cleaner.input.sulfate                       19415 non-null  float64\n",
      " 11  primary_cleaner.input.depressant                    19402 non-null  float64\n",
      " 12  primary_cleaner.input.feed_size                     19439 non-null  float64\n",
      " 13  primary_cleaner.input.xanthate                      19335 non-null  float64\n",
      " 14  primary_cleaner.output.concentrate_ag               19439 non-null  float64\n",
      " 15  primary_cleaner.output.concentrate_pb               19323 non-null  float64\n",
      " 16  primary_cleaner.output.concentrate_sol              19069 non-null  float64\n",
      " 17  primary_cleaner.output.concentrate_au               19439 non-null  float64\n",
      " 18  primary_cleaner.output.tail_ag                      19435 non-null  float64\n",
      " 19  primary_cleaner.output.tail_pb                      19418 non-null  float64\n",
      " 20  primary_cleaner.output.tail_sol                     19377 non-null  float64\n",
      " 21  primary_cleaner.output.tail_au                      19439 non-null  float64\n",
      " 22  primary_cleaner.state.floatbank8_a_air              19435 non-null  float64\n",
      " 23  primary_cleaner.state.floatbank8_a_level            19438 non-null  float64\n",
      " 24  primary_cleaner.state.floatbank8_b_air              19435 non-null  float64\n",
      " 25  primary_cleaner.state.floatbank8_b_level            19438 non-null  float64\n",
      " 26  primary_cleaner.state.floatbank8_c_air              19437 non-null  float64\n",
      " 27  primary_cleaner.state.floatbank8_c_level            19438 non-null  float64\n",
      " 28  primary_cleaner.state.floatbank8_d_air              19436 non-null  float64\n",
      " 29  primary_cleaner.state.floatbank8_d_level            19438 non-null  float64\n",
      " 30  rougher.calculation.sulfate_to_au_concentrate       19437 non-null  float64\n",
      " 31  rougher.calculation.floatbank10_sulfate_to_au_feed  19437 non-null  float64\n",
      " 32  rougher.calculation.floatbank11_sulfate_to_au_feed  19437 non-null  float64\n",
      " 33  rougher.calculation.au_pb_ratio                     19439 non-null  float64\n",
      " 34  rougher.input.feed_ag                               19439 non-null  float64\n",
      " 35  rougher.input.feed_pb                               19339 non-null  float64\n",
      " 36  rougher.input.feed_rate                             19428 non-null  float64\n",
      " 37  rougher.input.feed_size                             19294 non-null  float64\n",
      " 38  rougher.input.feed_sol                              19340 non-null  float64\n",
      " 39  rougher.input.feed_au                               19439 non-null  float64\n",
      " 40  rougher.input.floatbank10_sulfate                   19405 non-null  float64\n",
      " 41  rougher.input.floatbank10_xanthate                  19431 non-null  float64\n",
      " 42  rougher.input.floatbank11_sulfate                   19395 non-null  float64\n",
      " 43  rougher.input.floatbank11_xanthate                  18986 non-null  float64\n",
      " 44  rougher.output.concentrate_ag                       19439 non-null  float64\n",
      " 45  rougher.output.concentrate_pb                       19439 non-null  float64\n",
      " 46  rougher.output.concentrate_sol                      19416 non-null  float64\n",
      " 47  rougher.output.concentrate_au                       19439 non-null  float64\n",
      " 48  rougher.output.recovery                             19439 non-null  float64\n",
      " 49  rougher.output.tail_ag                              19438 non-null  float64\n",
      " 50  rougher.output.tail_pb                              19439 non-null  float64\n",
      " 51  rougher.output.tail_sol                             19439 non-null  float64\n",
      " 52  rougher.output.tail_au                              19439 non-null  float64\n",
      " 53  rougher.state.floatbank10_a_air                     19438 non-null  float64\n",
      " 54  rougher.state.floatbank10_a_level                   19438 non-null  float64\n",
      " 55  rougher.state.floatbank10_b_air                     19438 non-null  float64\n",
      " 56  rougher.state.floatbank10_b_level                   19438 non-null  float64\n",
      " 57  rougher.state.floatbank10_c_air                     19438 non-null  float64\n",
      " 58  rougher.state.floatbank10_c_level                   19438 non-null  float64\n",
      " 59  rougher.state.floatbank10_d_air                     19439 non-null  float64\n",
      " 60  rougher.state.floatbank10_d_level                   19439 non-null  float64\n",
      " 61  rougher.state.floatbank10_e_air                     19003 non-null  float64\n",
      " 62  rougher.state.floatbank10_e_level                   19439 non-null  float64\n",
      " 63  rougher.state.floatbank10_f_air                     19439 non-null  float64\n",
      " 64  rougher.state.floatbank10_f_level                   19439 non-null  float64\n",
      " 65  secondary_cleaner.output.tail_ag                    19437 non-null  float64\n",
      " 66  secondary_cleaner.output.tail_pb                    19427 non-null  float64\n",
      " 67  secondary_cleaner.output.tail_sol                   17691 non-null  float64\n",
      " 68  secondary_cleaner.output.tail_au                    19439 non-null  float64\n",
      " 69  secondary_cleaner.state.floatbank2_a_air            19219 non-null  float64\n",
      " 70  secondary_cleaner.state.floatbank2_a_level          19438 non-null  float64\n",
      " 71  secondary_cleaner.state.floatbank2_b_air            19416 non-null  float64\n",
      " 72  secondary_cleaner.state.floatbank2_b_level          19438 non-null  float64\n",
      " 73  secondary_cleaner.state.floatbank3_a_air            19426 non-null  float64\n",
      " 74  secondary_cleaner.state.floatbank3_a_level          19438 non-null  float64\n",
      " 75  secondary_cleaner.state.floatbank3_b_air            19438 non-null  float64\n",
      " 76  secondary_cleaner.state.floatbank3_b_level          19438 non-null  float64\n",
      " 77  secondary_cleaner.state.floatbank4_a_air            19433 non-null  float64\n",
      " 78  secondary_cleaner.state.floatbank4_a_level          19438 non-null  float64\n",
      " 79  secondary_cleaner.state.floatbank4_b_air            19438 non-null  float64\n",
      " 80  secondary_cleaner.state.floatbank4_b_level          19438 non-null  float64\n",
      " 81  secondary_cleaner.state.floatbank5_a_air            19438 non-null  float64\n",
      " 82  secondary_cleaner.state.floatbank5_a_level          19438 non-null  float64\n",
      " 83  secondary_cleaner.state.floatbank5_b_air            19438 non-null  float64\n",
      " 84  secondary_cleaner.state.floatbank5_b_level          19438 non-null  float64\n",
      " 85  secondary_cleaner.state.floatbank6_a_air            19437 non-null  float64\n",
      " 86  secondary_cleaner.state.floatbank6_a_level          19438 non-null  float64\n",
      "dtypes: float64(86), object(1)\n",
      "memory usage: 12.9+ MB\n"
     ]
    }
   ],
   "source": [
    "# Исходные данные\n",
    "\n",
    "initial_data.info()"
   ]
  },
  {
   "cell_type": "code",
   "execution_count": 8,
   "metadata": {
    "scrolled": true
   },
   "outputs": [
    {
     "name": "stdout",
     "output_type": "stream",
     "text": [
      "       final.output.concentrate_ag  final.output.concentrate_pb  \\\n",
      "count                 19438.000000                 19438.000000   \n",
      "mean                      5.168470                     9.978895   \n",
      "std                       1.372348                     1.669240   \n",
      "min                       0.000000                     0.000000   \n",
      "25%                       4.251240                     9.137262   \n",
      "50%                       5.066094                    10.102433   \n",
      "75%                       5.895527                    11.035769   \n",
      "max                      16.001945                    17.031899   \n",
      "\n",
      "       final.output.concentrate_sol  final.output.concentrate_au  \\\n",
      "count                  19228.000000                 19439.000000   \n",
      "mean                       9.501224                    44.076513   \n",
      "std                        2.787537                     5.129784   \n",
      "min                        0.000000                     0.000000   \n",
      "25%                        7.722820                    43.402215   \n",
      "50%                        9.218961                    45.011244   \n",
      "75%                       10.947813                    46.275313   \n",
      "max                       19.615720                    52.756638   \n",
      "\n",
      "       final.output.recovery  final.output.tail_ag  final.output.tail_pb  \\\n",
      "count           19439.000000          19438.000000          19338.000000   \n",
      "mean               67.050208              9.688589              2.705795   \n",
      "std                10.125840              2.328642              0.949077   \n",
      "min                 0.000000              0.000000              0.000000   \n",
      "25%                63.299712              8.062878              2.040119   \n",
      "50%                68.172738              9.743623              2.748730   \n",
      "75%                72.686642             11.134294              3.333216   \n",
      "max               100.000000             19.552149              5.804178   \n",
      "\n",
      "       final.output.tail_sol  final.output.tail_au  \\\n",
      "count           19433.000000          19439.000000   \n",
      "mean               10.583728              3.042467   \n",
      "std                 2.868782              0.922808   \n",
      "min                 0.000000              0.000000   \n",
      "25%                 8.938947              2.461138   \n",
      "50%                10.622456              2.984909   \n",
      "75%                12.104271              3.571351   \n",
      "max                22.317730              8.245022   \n",
      "\n",
      "       primary_cleaner.input.sulfate  primary_cleaner.input.depressant  \\\n",
      "count                   19415.000000                      19402.000000   \n",
      "mean                      144.624774                          8.817039   \n",
      "std                        44.464071                          3.286186   \n",
      "min                         0.003112                          0.000000   \n",
      "25%                       114.107029                          6.076909   \n",
      "50%                       143.232103                          8.038311   \n",
      "75%                       175.075656                         11.013521   \n",
      "max                       265.983123                         40.000000   \n",
      "\n",
      "       primary_cleaner.input.feed_size  primary_cleaner.input.xanthate  \\\n",
      "count                     19439.000000                    19335.000000   \n",
      "mean                          7.307078                        1.021795   \n",
      "std                           0.613509                        0.513254   \n",
      "min                           1.080000                        0.000005   \n",
      "25%                           6.940000                        0.697224   \n",
      "50%                           7.280000                        0.940863   \n",
      "75%                           7.670000                        1.210990   \n",
      "max                          15.500000                        4.102454   \n",
      "\n",
      "       primary_cleaner.output.concentrate_ag  \\\n",
      "count                           19439.000000   \n",
      "mean                                8.442408   \n",
      "std                                 2.054465   \n",
      "min                                 0.000000   \n",
      "25%                                 7.263288   \n",
      "50%                                 8.507298   \n",
      "75%                                 9.809001   \n",
      "max                                16.081632   \n",
      "\n",
      "       primary_cleaner.output.concentrate_pb  \\\n",
      "count                           19323.000000   \n",
      "mean                                9.829530   \n",
      "std                                 2.556843   \n",
      "min                                 0.000000   \n",
      "25%                                 8.702328   \n",
      "50%                                10.152433   \n",
      "75%                                11.424971   \n",
      "max                                17.081278   \n",
      "\n",
      "       primary_cleaner.output.concentrate_sol  \\\n",
      "count                            19069.000000   \n",
      "mean                                10.489499   \n",
      "std                                  3.909639   \n",
      "min                                  0.000000   \n",
      "25%                                  7.893893   \n",
      "50%                                 10.314632   \n",
      "75%                                 13.446702   \n",
      "max                                 22.458114   \n",
      "\n",
      "       primary_cleaner.output.concentrate_au  primary_cleaner.output.tail_ag  \\\n",
      "count                           19439.000000                    19435.000000   \n",
      "mean                               32.119400                       16.145826   \n",
      "std                                 5.627611                        3.548598   \n",
      "min                                 0.000000                        0.000000   \n",
      "25%                                30.463140                       14.017742   \n",
      "50%                                32.841295                       15.842836   \n",
      "75%                                35.048006                       18.013975   \n",
      "max                                45.933934                       29.459575   \n",
      "\n",
      "       primary_cleaner.output.tail_pb  primary_cleaner.output.tail_sol  \\\n",
      "count                    19418.000000                     19377.000000   \n",
      "mean                         3.435656                         7.973209   \n",
      "std                          1.392536                         2.212677   \n",
      "min                          0.000000                         0.000000   \n",
      "25%                          2.504365                         6.747483   \n",
      "50%                          3.271153                         8.183673   \n",
      "75%                          4.181748                         9.548586   \n",
      "max                          9.634565                        22.276364   \n",
      "\n",
      "       primary_cleaner.output.tail_au  primary_cleaner.state.floatbank8_a_air  \\\n",
      "count                    19439.000000                            1.943500e+04   \n",
      "mean                         3.914179                            1.589354e+03   \n",
      "std                          1.593034                            1.289968e+02   \n",
      "min                          0.000000                            5.445860e-32   \n",
      "25%                          2.924844                            1.505063e+03   \n",
      "50%                          3.623234                            1.600597e+03   \n",
      "75%                          4.585705                            1.697658e+03   \n",
      "max                         17.788925                            2.103104e+03   \n",
      "\n",
      "       primary_cleaner.state.floatbank8_a_level  \\\n",
      "count                              19438.000000   \n",
      "mean                                -491.195012   \n",
      "std                                   32.431842   \n",
      "min                                 -798.641662   \n",
      "25%                                 -500.308544   \n",
      "50%                                 -499.926134   \n",
      "75%                                 -499.433950   \n",
      "max                                  -57.195404   \n",
      "\n",
      "       primary_cleaner.state.floatbank8_b_air  \\\n",
      "count                            1.943500e+04   \n",
      "mean                             1.591344e+03   \n",
      "std                              1.318109e+02   \n",
      "min                              6.647490e-32   \n",
      "25%                              1.503630e+03   \n",
      "50%                              1.600521e+03   \n",
      "75%                              1.699218e+03   \n",
      "max                              2.114907e+03   \n",
      "\n",
      "       primary_cleaner.state.floatbank8_b_level  \\\n",
      "count                              19438.000000   \n",
      "mean                                -492.192978   \n",
      "std                                   33.794822   \n",
      "min                                 -799.997015   \n",
      "25%                                 -500.437171   \n",
      "50%                                 -499.956767   \n",
      "75%                                 -499.373336   \n",
      "max                                 -142.527229   \n",
      "\n",
      "       primary_cleaner.state.floatbank8_c_air  \\\n",
      "count                            1.943700e+04   \n",
      "mean                             1.586669e+03   \n",
      "std                              1.361114e+02   \n",
      "min                              4.033736e-32   \n",
      "25%                              1.500927e+03   \n",
      "50%                              1.600254e+03   \n",
      "75%                              1.699483e+03   \n",
      "max                              2.013156e+03   \n",
      "\n",
      "       primary_cleaner.state.floatbank8_c_level  \\\n",
      "count                              19438.000000   \n",
      "mean                                -491.980070   \n",
      "std                                   32.711455   \n",
      "min                                 -799.960571   \n",
      "25%                                 -500.703932   \n",
      "50%                                 -499.909524   \n",
      "75%                                 -498.857643   \n",
      "max                                 -150.937035   \n",
      "\n",
      "       primary_cleaner.state.floatbank8_d_air  \\\n",
      "count                            1.943600e+04   \n",
      "mean                             1.542912e+03   \n",
      "std                              2.461996e+02   \n",
      "min                              4.039220e-32   \n",
      "25%                              1.494219e+03   \n",
      "50%                              1.599447e+03   \n",
      "75%                              1.698525e+03   \n",
      "max                              2.398904e+03   \n",
      "\n",
      "       primary_cleaner.state.floatbank8_d_level  \\\n",
      "count                              19438.000000   \n",
      "mean                                -488.017382   \n",
      "std                                   43.959780   \n",
      "min                                 -799.794250   \n",
      "25%                                 -500.458365   \n",
      "50%                                 -499.905974   \n",
      "75%                                 -499.064695   \n",
      "max                                  -30.601828   \n",
      "\n",
      "       rougher.calculation.sulfate_to_au_concentrate  \\\n",
      "count                                   1.943700e+04   \n",
      "mean                                    4.217119e+04   \n",
      "std                                     3.243621e+05   \n",
      "min                                    -4.223520e+07   \n",
      "25%                                     4.070095e+04   \n",
      "50%                                     4.469648e+04   \n",
      "75%                                     4.816821e+04   \n",
      "max                                     3.428099e+06   \n",
      "\n",
      "       rougher.calculation.floatbank10_sulfate_to_au_feed  \\\n",
      "count                                       19437.000000    \n",
      "mean                                         3393.052498    \n",
      "std                                          4943.845943    \n",
      "min                                          -486.598675    \n",
      "25%                                          2611.425833    \n",
      "50%                                          3018.353876    \n",
      "75%                                          3676.769750    \n",
      "max                                        629638.977914    \n",
      "\n",
      "       rougher.calculation.floatbank11_sulfate_to_au_feed  \\\n",
      "count                                       19437.000000    \n",
      "mean                                         3256.854171    \n",
      "std                                          5781.423659    \n",
      "min                                          -264.982785    \n",
      "25%                                          2551.437587    \n",
      "50%                                          2997.218088    \n",
      "75%                                          3601.998911    \n",
      "max                                        718684.955855    \n",
      "\n",
      "       rougher.calculation.au_pb_ratio  rougher.input.feed_ag  \\\n",
      "count                     19439.000000           19439.000000   \n",
      "mean                          2.420119               8.794927   \n",
      "std                           0.814935               1.936847   \n",
      "min                          -0.010548               0.010000   \n",
      "25%                           2.035434               7.237967   \n",
      "50%                           2.309665               8.593574   \n",
      "75%                           2.731794              10.213771   \n",
      "max                          39.379272              14.596026   \n",
      "\n",
      "       rougher.input.feed_pb  rougher.input.feed_rate  \\\n",
      "count           19339.000000             19428.000000   \n",
      "mean                3.598085               478.320042   \n",
      "std                 1.049486               105.373758   \n",
      "min                 0.010000                 0.002986   \n",
      "25%                 2.887280               416.525453   \n",
      "50%                 3.534895               499.416120   \n",
      "75%                 4.244161               550.172183   \n",
      "max                 7.142594               717.508837   \n",
      "\n",
      "       rougher.input.feed_size  rougher.input.feed_sol  rougher.input.feed_au  \\\n",
      "count             19294.000000            19340.000000           19439.000000   \n",
      "mean                 58.970310               36.695114               8.266097   \n",
      "std                  21.634478                5.145445               1.955092   \n",
      "min                   0.046369                0.010000               0.010000   \n",
      "25%                  47.435103               34.207799               6.854384   \n",
      "50%                  54.610197               37.202650               8.125839   \n",
      "75%                  65.023044               40.039133               9.769917   \n",
      "max                 484.967466               53.477742              13.731330   \n",
      "\n",
      "       rougher.input.floatbank10_sulfate  rougher.input.floatbank10_xanthate  \\\n",
      "count                       19405.000000                        19431.000000   \n",
      "mean                           12.334373                            6.021474   \n",
      "std                             3.427317                            1.127263   \n",
      "min                             0.001083                            0.000568   \n",
      "25%                            10.000362                            5.398678   \n",
      "50%                            12.001174                            6.008273   \n",
      "75%                            14.716595                            6.798051   \n",
      "max                            36.118275                            9.703448   \n",
      "\n",
      "       rougher.input.floatbank11_sulfate  rougher.input.floatbank11_xanthate  \\\n",
      "count                       19395.000000                        18986.000000   \n",
      "mean                           12.064140                            6.065533   \n",
      "std                             3.784221                            1.099118   \n",
      "min                             0.000077                            0.000290   \n",
      "25%                             9.998460                            5.402368   \n",
      "50%                            12.000204                            6.098580   \n",
      "75%                            14.636766                            6.801233   \n",
      "max                            37.980648                            9.698407   \n",
      "\n",
      "       rougher.output.concentrate_ag  rougher.output.concentrate_pb  \\\n",
      "count                   19439.000000                   19439.000000   \n",
      "mean                       11.994759                       7.606272   \n",
      "std                         2.733862                       1.796757   \n",
      "min                         0.000000                       0.000000   \n",
      "25%                        10.628337                       6.725987   \n",
      "50%                        12.098115                       7.742580   \n",
      "75%                        13.736996                       8.565199   \n",
      "max                        24.480271                      13.617072   \n",
      "\n",
      "       rougher.output.concentrate_sol  rougher.output.concentrate_au  \\\n",
      "count                    19416.000000                   19439.000000   \n",
      "mean                        28.805571                      19.772000   \n",
      "std                          5.944207                       3.753600   \n",
      "min                          0.000000                       0.000000   \n",
      "25%                         27.224120                      18.802523   \n",
      "50%                         29.835345                      20.280214   \n",
      "75%                         32.189933                      21.717843   \n",
      "max                         38.351193                      28.824507   \n",
      "\n",
      "       rougher.output.recovery  rougher.output.tail_ag  \\\n",
      "count             19439.000000            19438.000000   \n",
      "mean                 83.328587                5.588982   \n",
      "std                  14.148086                1.111288   \n",
      "min                   0.000000                0.594562   \n",
      "25%                  81.037957                4.889892   \n",
      "50%                  86.188892                5.765802   \n",
      "75%                  90.010670                6.389234   \n",
      "max                 100.000000               12.719177   \n",
      "\n",
      "       rougher.output.tail_pb  rougher.output.tail_sol  \\\n",
      "count            19439.000000             19439.000000   \n",
      "mean                 0.645782                18.057106   \n",
      "std                  0.251526                 3.449218   \n",
      "min                  0.007566                10.014648   \n",
      "25%                  0.477728                15.822525   \n",
      "50%                  0.617465                18.106867   \n",
      "75%                  0.778271                20.088151   \n",
      "max                  3.778064                66.117188   \n",
      "\n",
      "       rougher.output.tail_au  rougher.state.floatbank10_a_air  \\\n",
      "count            19439.000000                     19438.000000   \n",
      "mean                 1.816391                      1105.315068   \n",
      "std                  0.680046                       160.826798   \n",
      "min                  0.020676                        -0.042069   \n",
      "25%                  1.404207                       999.661867   \n",
      "50%                  1.808170                      1001.072890   \n",
      "75%                  2.211861                      1205.620588   \n",
      "max                  9.688980                      1521.980372   \n",
      "\n",
      "       rougher.state.floatbank10_a_level  rougher.state.floatbank10_b_air  \\\n",
      "count                       19438.000000                     19438.000000   \n",
      "mean                         -376.610690                      1320.221139   \n",
      "std                            93.909667                       176.287095   \n",
      "min                          -657.949759                        -0.721806   \n",
      "25%                          -499.835165                      1199.626115   \n",
      "50%                          -300.263994                      1301.579988   \n",
      "75%                          -299.981998                      1448.630789   \n",
      "max                          -273.776101                      1809.194008   \n",
      "\n",
      "       rougher.state.floatbank10_b_level  rougher.state.floatbank10_c_air  \\\n",
      "count                       19438.000000                     19438.000000   \n",
      "mean                         -467.247826                      1299.968799   \n",
      "std                            54.673142                       202.804325   \n",
      "min                          -650.260008                        -0.056636   \n",
      "25%                          -500.201130                      1151.076301   \n",
      "50%                          -499.784045                      1300.211537   \n",
      "75%                          -400.615589                      1449.464001   \n",
      "max                          -296.383080                      2499.129174   \n",
      "\n",
      "       rougher.state.floatbank10_c_level  rougher.state.floatbank10_d_air  \\\n",
      "count                       19438.000000                     19439.000000   \n",
      "mean                         -467.716946                      1211.563299   \n",
      "std                            53.534825                       204.019326   \n",
      "min                          -647.544439                        -0.992219   \n",
      "25%                          -500.217218                      1061.051788   \n",
      "50%                          -499.713364                      1201.569141   \n",
      "75%                          -400.985743                      1352.880320   \n",
      "max                          -292.155509                      1817.199290   \n",
      "\n",
      "       rougher.state.floatbank10_d_level  rougher.state.floatbank10_e_air  \\\n",
      "count                       19439.000000                     19003.000000   \n",
      "mean                         -468.239912                      1080.869685   \n",
      "std                            53.921458                       172.149992   \n",
      "min                          -648.390665                        -1.982295   \n",
      "25%                          -500.386386                       998.675263   \n",
      "50%                          -499.532412                      1050.029461   \n",
      "75%                          -401.638550                      1199.425140   \n",
      "max                           -76.397327                      1922.636637   \n",
      "\n",
      "       rougher.state.floatbank10_e_level  rougher.state.floatbank10_f_air  \\\n",
      "count                       19439.000000                     19439.000000   \n",
      "mean                         -466.037742                      1025.274256   \n",
      "std                            57.384424                       164.487837   \n",
      "min                          -649.443911                        -2.593390   \n",
      "25%                          -500.232191                       900.995511   \n",
      "50%                          -499.663089                       999.924821   \n",
      "75%                          -401.161191                      1099.719692   \n",
      "max                          -139.753025                      1706.307502   \n",
      "\n",
      "       rougher.state.floatbank10_f_level  secondary_cleaner.output.tail_ag  \\\n",
      "count                       19439.000000                      19437.000000   \n",
      "mean                         -466.265327                         14.586833   \n",
      "std                            57.850263                          4.265202   \n",
      "min                          -649.949283                          0.000000   \n",
      "25%                          -500.522553                         12.640239   \n",
      "50%                          -499.471777                         15.641902   \n",
      "75%                          -401.511042                         17.358217   \n",
      "max                          -191.718480                         23.264738   \n",
      "\n",
      "       secondary_cleaner.output.tail_pb  secondary_cleaner.output.tail_sol  \\\n",
      "count                      19427.000000                       17691.000000   \n",
      "mean                           5.777703                           7.167247   \n",
      "std                            2.774598                           3.916079   \n",
      "min                            0.000000                           0.000000   \n",
      "25%                            3.864733                           3.845475   \n",
      "50%                            5.344073                           7.685827   \n",
      "75%                            7.788467                          10.411296   \n",
      "max                           17.042505                          26.000772   \n",
      "\n",
      "       secondary_cleaner.output.tail_au  \\\n",
      "count                      19439.000000   \n",
      "mean                           4.339625   \n",
      "std                            2.326751   \n",
      "min                            0.000000   \n",
      "25%                            3.182770   \n",
      "50%                            4.072412   \n",
      "75%                            5.063081   \n",
      "max                           26.811643   \n",
      "\n",
      "       secondary_cleaner.state.floatbank2_a_air  \\\n",
      "count                              19219.000000   \n",
      "mean                                  28.705564   \n",
      "std                                    5.458789   \n",
      "min                                    0.077503   \n",
      "25%                                   25.048462   \n",
      "50%                                   29.099943   \n",
      "75%                                   33.012536   \n",
      "max                                   52.651399   \n",
      "\n",
      "       secondary_cleaner.state.floatbank2_a_level  \\\n",
      "count                                19438.000000   \n",
      "mean                                  -502.367331   \n",
      "std                                     53.571950   \n",
      "min                                   -799.606441   \n",
      "25%                                   -500.233700   \n",
      "50%                                   -499.973250   \n",
      "75%                                   -499.671261   \n",
      "max                                   -127.875565   \n",
      "\n",
      "       secondary_cleaner.state.floatbank2_b_air  \\\n",
      "count                              19416.000000   \n",
      "mean                                  24.106800   \n",
      "std                                    5.749616   \n",
      "min                                    0.000000   \n",
      "25%                                   20.919853   \n",
      "50%                                   25.043289   \n",
      "75%                                   28.008197   \n",
      "max                                   35.152122   \n",
      "\n",
      "       secondary_cleaner.state.floatbank2_b_level  \\\n",
      "count                                19438.000000   \n",
      "mean                                  -503.230712   \n",
      "std                                     56.567724   \n",
      "min                                   -799.873878   \n",
      "25%                                   -500.253794   \n",
      "50%                                   -500.015439   \n",
      "75%                                   -499.785698   \n",
      "max                                   -211.999273   \n",
      "\n",
      "       secondary_cleaner.state.floatbank3_a_air  \\\n",
      "count                              19426.000000   \n",
      "mean                                  28.199338   \n",
      "std                                    6.134908   \n",
      "min                                    0.000000   \n",
      "25%                                   24.949227   \n",
      "50%                                   27.982129   \n",
      "75%                                   33.002798   \n",
      "max                                   44.260464   \n",
      "\n",
      "       secondary_cleaner.state.floatbank3_a_level  \\\n",
      "count                                19438.000000   \n",
      "mean                                  -486.203350   \n",
      "std                                     54.412349   \n",
      "min                                   -799.755798   \n",
      "25%                                   -500.213546   \n",
      "50%                                   -499.930680   \n",
      "75%                                   -499.325739   \n",
      "max                                   -191.678810   \n",
      "\n",
      "       secondary_cleaner.state.floatbank3_b_air  \\\n",
      "count                              19438.000000   \n",
      "mean                                  22.200645   \n",
      "std                                    5.574001   \n",
      "min                                    0.000000   \n",
      "25%                                   18.995924   \n",
      "50%                                   22.011231   \n",
      "75%                                   25.998206   \n",
      "max                                   35.072841   \n",
      "\n",
      "       secondary_cleaner.state.floatbank3_b_level  \\\n",
      "count                                19438.000000   \n",
      "mean                                  -493.742107   \n",
      "std                                     43.372158   \n",
      "min                                   -809.333008   \n",
      "25%                                   -500.123034   \n",
      "50%                                   -499.981902   \n",
      "75%                                   -499.812834   \n",
      "max                                   -159.742331   \n",
      "\n",
      "       secondary_cleaner.state.floatbank4_a_air  \\\n",
      "count                              19433.000000   \n",
      "mean                                  18.987674   \n",
      "std                                    5.411058   \n",
      "min                                    0.000000   \n",
      "25%                                   14.975734   \n",
      "50%                                   18.017481   \n",
      "75%                                   23.012470   \n",
      "max                                   30.115735   \n",
      "\n",
      "       secondary_cleaner.state.floatbank4_a_level  \\\n",
      "count                                19438.000000   \n",
      "mean                                  -485.894516   \n",
      "std                                     47.758570   \n",
      "min                                   -799.798523   \n",
      "25%                                   -500.704892   \n",
      "50%                                   -499.837793   \n",
      "75%                                   -498.249730   \n",
      "max                                   -245.239184   \n",
      "\n",
      "       secondary_cleaner.state.floatbank4_b_air  \\\n",
      "count                              19438.000000   \n",
      "mean                                  15.010366   \n",
      "std                                    4.890228   \n",
      "min                                    0.000000   \n",
      "25%                                   11.940294   \n",
      "50%                                   14.971014   \n",
      "75%                                   19.034162   \n",
      "max                                   31.269706   \n",
      "\n",
      "       secondary_cleaner.state.floatbank4_b_level  \\\n",
      "count                                19438.000000   \n",
      "mean                                  -461.078636   \n",
      "std                                     67.405524   \n",
      "min                                   -800.836914   \n",
      "25%                                   -500.187742   \n",
      "50%                                   -499.459786   \n",
      "75%                                   -400.118106   \n",
      "max                                     -6.506986   \n",
      "\n",
      "       secondary_cleaner.state.floatbank5_a_air  \\\n",
      "count                              19438.000000   \n",
      "mean                                  15.694452   \n",
      "std                                    5.510974   \n",
      "min                                   -0.372054   \n",
      "25%                                   10.988606   \n",
      "50%                                   15.000036   \n",
      "75%                                   18.026190   \n",
      "max                                   43.709931   \n",
      "\n",
      "       secondary_cleaner.state.floatbank5_a_level  \\\n",
      "count                                19438.000000   \n",
      "mean                                  -488.684065   \n",
      "std                                     34.533396   \n",
      "min                                   -797.323986   \n",
      "25%                                   -500.458467   \n",
      "50%                                   -499.802605   \n",
      "75%                                   -498.384187   \n",
      "max                                   -244.483566   \n",
      "\n",
      "       secondary_cleaner.state.floatbank5_b_air  \\\n",
      "count                              19438.000000   \n",
      "mean                                  12.198224   \n",
      "std                                    5.333024   \n",
      "min                                    0.528083   \n",
      "25%                                    8.971105   \n",
      "50%                                   11.019433   \n",
      "75%                                   14.019088   \n",
      "max                                   27.926001   \n",
      "\n",
      "       secondary_cleaner.state.floatbank5_b_level  \\\n",
      "count                                19438.000000   \n",
      "mean                                  -487.149827   \n",
      "std                                     38.347312   \n",
      "min                                   -800.220337   \n",
      "25%                                   -500.129462   \n",
      "50%                                   -499.935317   \n",
      "75%                                   -499.436708   \n",
      "max                                   -137.740004   \n",
      "\n",
      "       secondary_cleaner.state.floatbank6_a_air  \\\n",
      "count                              19437.000000   \n",
      "mean                                  18.959024   \n",
      "std                                    5.550498   \n",
      "min                                   -0.079426   \n",
      "25%                                   14.983037   \n",
      "50%                                   19.960541   \n",
      "75%                                   24.003170   \n",
      "max                                   32.188906   \n",
      "\n",
      "       secondary_cleaner.state.floatbank6_a_level  \n",
      "count                                19438.000000  \n",
      "mean                                  -505.436305  \n",
      "std                                     37.689057  \n",
      "min                                   -809.741464  \n",
      "25%                                   -500.728067  \n",
      "50%                                   -500.048400  \n",
      "75%                                   -499.495378  \n",
      "max                                   -104.427459  \n"
     ]
    }
   ],
   "source": [
    "# Исходные данные\n",
    "\n",
    "print(initial_data.describe())"
   ]
  },
  {
   "cell_type": "code",
   "execution_count": 9,
   "metadata": {
    "scrolled": true
   },
   "outputs": [
    {
     "name": "stdout",
     "output_type": "stream",
     "text": [
      "<class 'pandas.core.frame.DataFrame'>\n",
      "RangeIndex: 14149 entries, 0 to 14148\n",
      "Data columns (total 87 columns):\n",
      " #   Column                                              Non-Null Count  Dtype  \n",
      "---  ------                                              --------------  -----  \n",
      " 0   date                                                14149 non-null  object \n",
      " 1   final.output.concentrate_ag                         14148 non-null  float64\n",
      " 2   final.output.concentrate_pb                         14148 non-null  float64\n",
      " 3   final.output.concentrate_sol                        13938 non-null  float64\n",
      " 4   final.output.concentrate_au                         14149 non-null  float64\n",
      " 5   final.output.recovery                               14149 non-null  float64\n",
      " 6   final.output.tail_ag                                14149 non-null  float64\n",
      " 7   final.output.tail_pb                                14049 non-null  float64\n",
      " 8   final.output.tail_sol                               14144 non-null  float64\n",
      " 9   final.output.tail_au                                14149 non-null  float64\n",
      " 10  primary_cleaner.input.sulfate                       14129 non-null  float64\n",
      " 11  primary_cleaner.input.depressant                    14117 non-null  float64\n",
      " 12  primary_cleaner.input.feed_size                     14149 non-null  float64\n",
      " 13  primary_cleaner.input.xanthate                      14049 non-null  float64\n",
      " 14  primary_cleaner.output.concentrate_ag               14149 non-null  float64\n",
      " 15  primary_cleaner.output.concentrate_pb               14063 non-null  float64\n",
      " 16  primary_cleaner.output.concentrate_sol              13863 non-null  float64\n",
      " 17  primary_cleaner.output.concentrate_au               14149 non-null  float64\n",
      " 18  primary_cleaner.output.tail_ag                      14148 non-null  float64\n",
      " 19  primary_cleaner.output.tail_pb                      14134 non-null  float64\n",
      " 20  primary_cleaner.output.tail_sol                     14103 non-null  float64\n",
      " 21  primary_cleaner.output.tail_au                      14149 non-null  float64\n",
      " 22  primary_cleaner.state.floatbank8_a_air              14145 non-null  float64\n",
      " 23  primary_cleaner.state.floatbank8_a_level            14148 non-null  float64\n",
      " 24  primary_cleaner.state.floatbank8_b_air              14145 non-null  float64\n",
      " 25  primary_cleaner.state.floatbank8_b_level            14148 non-null  float64\n",
      " 26  primary_cleaner.state.floatbank8_c_air              14147 non-null  float64\n",
      " 27  primary_cleaner.state.floatbank8_c_level            14148 non-null  float64\n",
      " 28  primary_cleaner.state.floatbank8_d_air              14146 non-null  float64\n",
      " 29  primary_cleaner.state.floatbank8_d_level            14148 non-null  float64\n",
      " 30  rougher.calculation.sulfate_to_au_concentrate       14148 non-null  float64\n",
      " 31  rougher.calculation.floatbank10_sulfate_to_au_feed  14148 non-null  float64\n",
      " 32  rougher.calculation.floatbank11_sulfate_to_au_feed  14148 non-null  float64\n",
      " 33  rougher.calculation.au_pb_ratio                     14149 non-null  float64\n",
      " 34  rougher.input.feed_ag                               14149 non-null  float64\n",
      " 35  rougher.input.feed_pb                               14049 non-null  float64\n",
      " 36  rougher.input.feed_rate                             14141 non-null  float64\n",
      " 37  rougher.input.feed_size                             14005 non-null  float64\n",
      " 38  rougher.input.feed_sol                              14071 non-null  float64\n",
      " 39  rougher.input.feed_au                               14149 non-null  float64\n",
      " 40  rougher.input.floatbank10_sulfate                   14120 non-null  float64\n",
      " 41  rougher.input.floatbank10_xanthate                  14141 non-null  float64\n",
      " 42  rougher.input.floatbank11_sulfate                   14113 non-null  float64\n",
      " 43  rougher.input.floatbank11_xanthate                  13721 non-null  float64\n",
      " 44  rougher.output.concentrate_ag                       14149 non-null  float64\n",
      " 45  rougher.output.concentrate_pb                       14149 non-null  float64\n",
      " 46  rougher.output.concentrate_sol                      14127 non-null  float64\n",
      " 47  rougher.output.concentrate_au                       14149 non-null  float64\n",
      " 48  rougher.output.recovery                             14149 non-null  float64\n",
      " 49  rougher.output.tail_ag                              14148 non-null  float64\n",
      " 50  rougher.output.tail_pb                              14149 non-null  float64\n",
      " 51  rougher.output.tail_sol                             14149 non-null  float64\n",
      " 52  rougher.output.tail_au                              14149 non-null  float64\n",
      " 53  rougher.state.floatbank10_a_air                     14148 non-null  float64\n",
      " 54  rougher.state.floatbank10_a_level                   14148 non-null  float64\n",
      " 55  rougher.state.floatbank10_b_air                     14148 non-null  float64\n",
      " 56  rougher.state.floatbank10_b_level                   14148 non-null  float64\n",
      " 57  rougher.state.floatbank10_c_air                     14148 non-null  float64\n",
      " 58  rougher.state.floatbank10_c_level                   14148 non-null  float64\n",
      " 59  rougher.state.floatbank10_d_air                     14149 non-null  float64\n",
      " 60  rougher.state.floatbank10_d_level                   14149 non-null  float64\n",
      " 61  rougher.state.floatbank10_e_air                     13713 non-null  float64\n",
      " 62  rougher.state.floatbank10_e_level                   14149 non-null  float64\n",
      " 63  rougher.state.floatbank10_f_air                     14149 non-null  float64\n",
      " 64  rougher.state.floatbank10_f_level                   14149 non-null  float64\n",
      " 65  secondary_cleaner.output.tail_ag                    14147 non-null  float64\n",
      " 66  secondary_cleaner.output.tail_pb                    14139 non-null  float64\n",
      " 67  secondary_cleaner.output.tail_sol                   12544 non-null  float64\n",
      " 68  secondary_cleaner.output.tail_au                    14149 non-null  float64\n",
      " 69  secondary_cleaner.state.floatbank2_a_air            13932 non-null  float64\n",
      " 70  secondary_cleaner.state.floatbank2_a_level          14148 non-null  float64\n",
      " 71  secondary_cleaner.state.floatbank2_b_air            14128 non-null  float64\n",
      " 72  secondary_cleaner.state.floatbank2_b_level          14148 non-null  float64\n",
      " 73  secondary_cleaner.state.floatbank3_a_air            14145 non-null  float64\n",
      " 74  secondary_cleaner.state.floatbank3_a_level          14148 non-null  float64\n",
      " 75  secondary_cleaner.state.floatbank3_b_air            14148 non-null  float64\n",
      " 76  secondary_cleaner.state.floatbank3_b_level          14148 non-null  float64\n",
      " 77  secondary_cleaner.state.floatbank4_a_air            14143 non-null  float64\n",
      " 78  secondary_cleaner.state.floatbank4_a_level          14148 non-null  float64\n",
      " 79  secondary_cleaner.state.floatbank4_b_air            14148 non-null  float64\n",
      " 80  secondary_cleaner.state.floatbank4_b_level          14148 non-null  float64\n",
      " 81  secondary_cleaner.state.floatbank5_a_air            14148 non-null  float64\n",
      " 82  secondary_cleaner.state.floatbank5_a_level          14148 non-null  float64\n",
      " 83  secondary_cleaner.state.floatbank5_b_air            14148 non-null  float64\n",
      " 84  secondary_cleaner.state.floatbank5_b_level          14148 non-null  float64\n",
      " 85  secondary_cleaner.state.floatbank6_a_air            14147 non-null  float64\n",
      " 86  secondary_cleaner.state.floatbank6_a_level          14148 non-null  float64\n",
      "dtypes: float64(86), object(1)\n",
      "memory usage: 9.4+ MB\n"
     ]
    }
   ],
   "source": [
    "# Обучающие данные\n",
    "\n",
    "training_data.info()"
   ]
  },
  {
   "cell_type": "code",
   "execution_count": 10,
   "metadata": {
    "scrolled": true
   },
   "outputs": [
    {
     "name": "stdout",
     "output_type": "stream",
     "text": [
      "       final.output.concentrate_ag  final.output.concentrate_pb  \\\n",
      "count                 14148.000000                 14148.000000   \n",
      "mean                      5.142034                    10.132960   \n",
      "std                       1.369586                     1.654930   \n",
      "min                       0.000000                     0.000000   \n",
      "25%                       4.211620                     9.297355   \n",
      "50%                       4.994652                    10.297144   \n",
      "75%                       5.859540                    11.170603   \n",
      "max                      16.001945                    17.031899   \n",
      "\n",
      "       final.output.concentrate_sol  final.output.concentrate_au  \\\n",
      "count                  13938.000000                 14149.000000   \n",
      "mean                       9.202849                    44.003792   \n",
      "std                        2.790516                     4.905261   \n",
      "min                        0.000000                     0.000000   \n",
      "25%                        7.484645                    43.276111   \n",
      "50%                        8.845462                    44.872436   \n",
      "75%                       10.487508                    46.166425   \n",
      "max                       18.124851                    52.756638   \n",
      "\n",
      "       final.output.recovery  final.output.tail_ag  final.output.tail_pb  \\\n",
      "count           14149.000000          14149.000000          14049.000000   \n",
      "mean               66.518832              9.607035              2.597298   \n",
      "std                10.295402              2.319069              0.971843   \n",
      "min                 0.000000              0.000000              0.000000   \n",
      "25%                62.545817              7.997429              1.905973   \n",
      "50%                67.432775              9.480270              2.592022   \n",
      "75%                72.346428             11.003707              3.241723   \n",
      "max               100.000000             19.552149              5.639565   \n",
      "\n",
      "       final.output.tail_sol  final.output.tail_au  \\\n",
      "count           14144.000000          14149.000000   \n",
      "mean               10.512122              2.918421   \n",
      "std                 3.003617              0.903712   \n",
      "min                 0.000000              0.000000   \n",
      "25%                 8.811324              2.368607   \n",
      "50%                10.514621              2.851025   \n",
      "75%                11.933009              3.434764   \n",
      "max                22.317730              8.197408   \n",
      "\n",
      "       primary_cleaner.input.sulfate  primary_cleaner.input.depressant  \\\n",
      "count                   14129.000000                      14117.000000   \n",
      "mean                      133.320659                          8.866996   \n",
      "std                        39.431659                          3.361589   \n",
      "min                         0.003112                          0.000000   \n",
      "25%                       107.006651                          6.040604   \n",
      "50%                       133.018328                          8.035811   \n",
      "75%                       159.825396                         11.522173   \n",
      "max                       250.127834                         20.052255   \n",
      "\n",
      "       primary_cleaner.input.feed_size  primary_cleaner.input.xanthate  \\\n",
      "count                     14149.000000                    14049.000000   \n",
      "mean                          7.322310                        0.885588   \n",
      "std                           0.614062                        0.372714   \n",
      "min                           1.080000                        0.000005   \n",
      "25%                           6.960000                        0.607021   \n",
      "50%                           7.290000                        0.888749   \n",
      "75%                           7.700000                        1.100933   \n",
      "max                          10.470000                        2.512968   \n",
      "\n",
      "       primary_cleaner.output.concentrate_ag  \\\n",
      "count                           14149.000000   \n",
      "mean                                8.200916   \n",
      "std                                 2.005185   \n",
      "min                                 0.000000   \n",
      "25%                                 7.107126   \n",
      "50%                                 8.226247   \n",
      "75%                                 9.504924   \n",
      "max                                16.081632   \n",
      "\n",
      "       primary_cleaner.output.concentrate_pb  \\\n",
      "count                           14063.000000   \n",
      "mean                                9.588862   \n",
      "std                                 2.694296   \n",
      "min                                 0.000000   \n",
      "25%                                 8.333489   \n",
      "50%                                 9.933520   \n",
      "75%                                11.310817   \n",
      "max                                17.081278   \n",
      "\n",
      "       primary_cleaner.output.concentrate_sol  \\\n",
      "count                            13863.000000   \n",
      "mean                                10.114745   \n",
      "std                                  4.064076   \n",
      "min                                  0.000000   \n",
      "25%                                  7.488139   \n",
      "50%                                  9.726566   \n",
      "75%                                 13.052807   \n",
      "max                                 22.280845   \n",
      "\n",
      "       primary_cleaner.output.concentrate_au  primary_cleaner.output.tail_ag  \\\n",
      "count                           14149.000000                    14148.000000   \n",
      "mean                               32.386836                       16.303929   \n",
      "std                                 5.798843                        3.739843   \n",
      "min                                 0.000000                        0.000000   \n",
      "25%                                30.857764                       13.873147   \n",
      "50%                                33.225835                       15.800604   \n",
      "75%                                35.330145                       18.450109   \n",
      "max                                45.933934                       29.459575   \n",
      "\n",
      "       primary_cleaner.output.tail_pb  primary_cleaner.output.tail_sol  \\\n",
      "count                    14134.000000                     14103.000000   \n",
      "mean                         3.443398                         7.533566   \n",
      "std                          1.490106                         2.133220   \n",
      "min                          0.000000                         0.000000   \n",
      "25%                          2.420259                         6.332548   \n",
      "50%                          3.218374                         7.714419   \n",
      "75%                          4.253218                         8.910664   \n",
      "max                          9.634565                        20.620833   \n",
      "\n",
      "       primary_cleaner.output.tail_au  primary_cleaner.state.floatbank8_a_air  \\\n",
      "count                    14149.000000                            14145.000000   \n",
      "mean                         3.839637                             1608.000064   \n",
      "std                          1.603544                              128.394355   \n",
      "min                          0.000000                                0.006352   \n",
      "25%                          2.867957                             1595.695815   \n",
      "50%                          3.510337                             1601.824410   \n",
      "75%                          4.492470                             1699.716408   \n",
      "max                         17.788925                             2079.531340   \n",
      "\n",
      "       primary_cleaner.state.floatbank8_a_level  \\\n",
      "count                              14148.000000   \n",
      "mean                                -488.775525   \n",
      "std                                   35.704184   \n",
      "min                                 -798.641662   \n",
      "25%                                 -500.287952   \n",
      "50%                                 -499.909375   \n",
      "75%                                 -499.378551   \n",
      "max                                 -330.134203   \n",
      "\n",
      "       primary_cleaner.state.floatbank8_b_air  \\\n",
      "count                            14145.000000   \n",
      "mean                              1608.610983   \n",
      "std                                131.112729   \n",
      "min                                  0.008700   \n",
      "25%                               1558.959943   \n",
      "50%                               1601.818514   \n",
      "75%                               1700.215351   \n",
      "max                               2114.906758   \n",
      "\n",
      "       primary_cleaner.state.floatbank8_b_level  \\\n",
      "count                              14148.000000   \n",
      "mean                                -489.171786   \n",
      "std                                   33.604449   \n",
      "min                                 -740.122129   \n",
      "25%                                 -500.375645   \n",
      "50%                                 -499.938003   \n",
      "75%                                 -499.389658   \n",
      "max                                 -347.354380   \n",
      "\n",
      "       primary_cleaner.state.floatbank8_c_air  \\\n",
      "count                            14147.000000   \n",
      "mean                              1608.879407   \n",
      "std                                134.266898   \n",
      "min                                  0.015159   \n",
      "25%                               1549.871886   \n",
      "50%                               1601.574628   \n",
      "75%                               1700.464037   \n",
      "max                               2013.156457   \n",
      "\n",
      "       primary_cleaner.state.floatbank8_c_level  \\\n",
      "count                              14148.000000   \n",
      "mean                                -489.605549   \n",
      "std                                   35.624002   \n",
      "min                                 -799.803073   \n",
      "25%                                 -500.601718   \n",
      "50%                                 -499.871346   \n",
      "75%                                 -498.801774   \n",
      "max                                 -346.653450   \n",
      "\n",
      "       primary_cleaner.state.floatbank8_d_air  \\\n",
      "count                            14146.000000   \n",
      "mean                              1542.189963   \n",
      "std                                278.316132   \n",
      "min                                  0.008655   \n",
      "25%                               1452.678767   \n",
      "50%                               1600.168346   \n",
      "75%                               1699.358771   \n",
      "max                               2398.903635   \n",
      "\n",
      "       primary_cleaner.state.floatbank8_d_level  \\\n",
      "count                              14148.000000   \n",
      "mean                                -483.462423   \n",
      "std                                   47.100934   \n",
      "min                                 -799.788598   \n",
      "25%                                 -500.459917   \n",
      "50%                                 -499.831833   \n",
      "75%                                 -498.480341   \n",
      "max                                  -30.601828   \n",
      "\n",
      "       rougher.calculation.sulfate_to_au_concentrate  \\\n",
      "count                                   1.414800e+04   \n",
      "mean                                    4.038265e+04   \n",
      "std                                     3.801436e+05   \n",
      "min                                    -4.223520e+07   \n",
      "25%                                     3.999430e+04   \n",
      "50%                                     4.368431e+04   \n",
      "75%                                     4.776041e+04   \n",
      "max                                     3.428099e+06   \n",
      "\n",
      "       rougher.calculation.floatbank10_sulfate_to_au_feed  \\\n",
      "count                                       14148.000000    \n",
      "mean                                         3456.608298    \n",
      "std                                          5772.510248    \n",
      "min                                          -486.598675    \n",
      "25%                                          2527.093354    \n",
      "50%                                          2975.892211    \n",
      "75%                                          3716.360822    \n",
      "max                                        629638.977914    \n",
      "\n",
      "       rougher.calculation.floatbank11_sulfate_to_au_feed  \\\n",
      "count                                       14148.000000    \n",
      "mean                                         3253.356387    \n",
      "std                                          6753.290662    \n",
      "min                                          -264.982785    \n",
      "25%                                          2512.200873    \n",
      "50%                                          2899.807724    \n",
      "75%                                          3596.534806    \n",
      "max                                        718684.955855    \n",
      "\n",
      "       rougher.calculation.au_pb_ratio  rougher.input.feed_ag  \\\n",
      "count                     14149.000000           14149.000000   \n",
      "mean                          2.367314               8.579195   \n",
      "std                           0.873551               1.896284   \n",
      "min                          -0.010548               0.010000   \n",
      "25%                           1.999588               7.132802   \n",
      "50%                           2.249275               8.156092   \n",
      "75%                           2.660896               9.918304   \n",
      "max                          39.379272              14.596026   \n",
      "\n",
      "       rougher.input.feed_pb  rougher.input.feed_rate  \\\n",
      "count           14049.000000             14141.000000   \n",
      "mean                3.522778               474.027714   \n",
      "std                 1.073394               104.039838   \n",
      "min                 0.010000                 0.012786   \n",
      "25%                 2.780010               420.781913   \n",
      "50%                 3.422677               499.454777   \n",
      "75%                 4.226107               547.334973   \n",
      "max                 7.142594               717.508837   \n",
      "\n",
      "       rougher.input.feed_size  rougher.input.feed_sol  rougher.input.feed_au  \\\n",
      "count             14005.000000            14071.000000           14149.000000   \n",
      "mean                 60.110518               36.312593               7.866577   \n",
      "std                  22.418485                4.956057               1.919506   \n",
      "min                   9.659576                0.010000               0.010000   \n",
      "25%                  48.973027               34.117635               6.596217   \n",
      "50%                  55.373885               37.020345               7.649138   \n",
      "75%                  66.080172               39.423265               9.066976   \n",
      "max                 484.967466               48.363177              13.126043   \n",
      "\n",
      "       rougher.input.floatbank10_sulfate  rougher.input.floatbank10_xanthate  \\\n",
      "count                       14120.000000                        14141.000000   \n",
      "mean                           11.764931                            5.854529   \n",
      "std                             3.278813                            1.104263   \n",
      "min                             0.001083                            0.001428   \n",
      "25%                             9.861100                            5.117359   \n",
      "50%                            11.688702                            5.951071   \n",
      "75%                            13.607115                            6.602533   \n",
      "max                            36.118275                            9.703448   \n",
      "\n",
      "       rougher.input.floatbank11_sulfate  rougher.input.floatbank11_xanthate  \\\n",
      "count                       14113.000000                        13721.000000   \n",
      "mean                           11.368685                            5.894176   \n",
      "std                             3.743672                            1.124233   \n",
      "min                             0.000098                            0.000290   \n",
      "25%                             9.505507                            5.199168   \n",
      "50%                            11.384283                            5.998460   \n",
      "75%                            13.497134                            6.699006   \n",
      "max                            37.980648                            9.698407   \n",
      "\n",
      "       rougher.output.concentrate_ag  rougher.output.concentrate_pb  \\\n",
      "count                   14149.000000                   14149.000000   \n",
      "mean                       11.775812                       7.664555   \n",
      "std                         2.731747                       1.856279   \n",
      "min                         0.000000                       0.000000   \n",
      "25%                        10.486871                       6.850501   \n",
      "50%                        11.747362                       7.760435   \n",
      "75%                        13.426419                       8.601927   \n",
      "max                        24.480271                      13.617072   \n",
      "\n",
      "       rougher.output.concentrate_sol  rougher.output.concentrate_au  \\\n",
      "count                    14127.000000                   14149.000000   \n",
      "mean                        28.302715                      19.439958   \n",
      "std                          6.102982                       3.765192   \n",
      "min                          0.000000                       0.000000   \n",
      "25%                         26.703554                      18.432161   \n",
      "50%                         29.257545                      19.947312   \n",
      "75%                         31.743913                      21.392714   \n",
      "max                         38.351193                      28.146838   \n",
      "\n",
      "       rougher.output.recovery  rougher.output.tail_ag  \\\n",
      "count             14149.000000            14148.000000   \n",
      "mean                 82.704502                5.567124   \n",
      "std                  14.479156                1.039136   \n",
      "min                   0.000000                0.594562   \n",
      "25%                  79.993067                4.921647   \n",
      "50%                  85.299462                5.722018   \n",
      "75%                  90.165021                6.310633   \n",
      "max                 100.000000               12.719177   \n",
      "\n",
      "       rougher.output.tail_pb  rougher.output.tail_sol  \\\n",
      "count            14149.000000             14149.000000   \n",
      "mean                 0.653277                17.882853   \n",
      "std                  0.263766                 3.432859   \n",
      "min                  0.007566                10.014648   \n",
      "25%                  0.474047                15.688727   \n",
      "50%                  0.625805                18.015894   \n",
      "75%                  0.794326                19.938672   \n",
      "max                  3.778064                66.117188   \n",
      "\n",
      "       rougher.output.tail_au  rougher.state.floatbank10_a_air  \\\n",
      "count            14149.000000                     14148.000000   \n",
      "mean                 1.757473                      1124.726280   \n",
      "std                  0.713187                       169.310825   \n",
      "min                  0.020676                        -0.041078   \n",
      "25%                  1.310800                       999.799166   \n",
      "50%                  1.745513                      1001.685708   \n",
      "75%                  2.186790                      1299.505513   \n",
      "max                  9.688980                      1521.980372   \n",
      "\n",
      "       rougher.state.floatbank10_a_level  rougher.state.floatbank10_b_air  \\\n",
      "count                       14148.000000                     14148.000000   \n",
      "mean                         -369.460950                      1320.705069   \n",
      "std                            93.952787                       183.155975   \n",
      "min                          -650.202881                        -0.653384   \n",
      "25%                          -499.787867                      1199.366448   \n",
      "50%                          -300.175125                      1301.365123   \n",
      "75%                          -299.963153                      1449.553689   \n",
      "max                          -281.039299                      1809.194008   \n",
      "\n",
      "       rougher.state.floatbank10_b_level  rougher.state.floatbank10_c_air  \\\n",
      "count                       14148.000000                     14148.000000   \n",
      "mean                         -464.258983                      1299.360578   \n",
      "std                            57.401954                       213.404094   \n",
      "min                          -650.260008                        -0.035112   \n",
      "25%                          -500.183028                      1103.095071   \n",
      "50%                          -499.764620                      1300.213385   \n",
      "75%                          -400.425493                      1450.350668   \n",
      "max                          -296.383080                      2499.129174   \n",
      "\n",
      "       rougher.state.floatbank10_c_level  rougher.state.floatbank10_d_air  \\\n",
      "count                       14148.000000                     14149.000000   \n",
      "mean                         -465.054849                      1210.335236   \n",
      "std                            55.904716                       210.431555   \n",
      "min                          -640.995627                        -0.554299   \n",
      "25%                          -500.211863                      1059.708509   \n",
      "50%                          -499.682528                      1200.744308   \n",
      "75%                          -400.664736                      1344.378462   \n",
      "max                          -292.155509                      1817.199290   \n",
      "\n",
      "       rougher.state.floatbank10_d_level  rougher.state.floatbank10_e_air  \\\n",
      "count                       14149.000000                     13713.000000   \n",
      "mean                         -465.457377                      1090.213187   \n",
      "std                            55.771393                       184.610118   \n",
      "min                          -640.519003                        -1.970275   \n",
      "25%                          -500.359197                       997.183864   \n",
      "50%                          -499.465285                      1050.496363   \n",
      "75%                          -401.052891                      1200.047746   \n",
      "max                          -208.330673                      1922.636637   \n",
      "\n",
      "       rougher.state.floatbank10_e_level  rougher.state.floatbank10_f_air  \\\n",
      "count                       14149.000000                     14149.000000   \n",
      "mean                         -464.919119                      1035.490299   \n",
      "std                            56.602962                       175.052279   \n",
      "min                          -649.443911                        -2.430587   \n",
      "25%                          -500.250033                       900.966986   \n",
      "50%                          -499.611447                      1000.053757   \n",
      "75%                          -400.596104                      1100.165435   \n",
      "max                          -272.199598                      1706.307502   \n",
      "\n",
      "       rougher.state.floatbank10_f_level  secondary_cleaner.output.tail_ag  \\\n",
      "count                       14149.000000                      14147.000000   \n",
      "mean                         -464.688631                         14.281629   \n",
      "std                            56.645965                          4.477126   \n",
      "min                          -649.880981                          0.000000   \n",
      "25%                          -500.476526                         12.177364   \n",
      "50%                          -499.364335                         15.357951   \n",
      "75%                          -401.014951                         17.230151   \n",
      "max                          -191.718480                         23.264738   \n",
      "\n",
      "       secondary_cleaner.output.tail_pb  secondary_cleaner.output.tail_sol  \\\n",
      "count                      14139.000000                       12544.000000   \n",
      "mean                           5.848863                           6.938693   \n",
      "std                            2.861799                           4.155487   \n",
      "min                            0.000000                           0.000000   \n",
      "25%                            3.982298                           3.225486   \n",
      "50%                            5.442310                           7.302639   \n",
      "75%                            7.797948                          10.547068   \n",
      "max                           17.042505                          17.976171   \n",
      "\n",
      "       secondary_cleaner.output.tail_au  \\\n",
      "count                      14149.000000   \n",
      "mean                           4.246961   \n",
      "std                            2.389060   \n",
      "min                            0.000000   \n",
      "25%                            3.153122   \n",
      "50%                            3.980210   \n",
      "75%                            4.883943   \n",
      "max                           26.811643   \n",
      "\n",
      "       secondary_cleaner.state.floatbank2_a_air  \\\n",
      "count                              13932.000000   \n",
      "mean                                  29.613649   \n",
      "std                                    5.800494   \n",
      "min                                    0.077503   \n",
      "25%                                   25.099584   \n",
      "50%                                   30.027721   \n",
      "75%                                   34.893057   \n",
      "max                                   52.651399   \n",
      "\n",
      "       secondary_cleaner.state.floatbank2_a_level  \\\n",
      "count                                14148.000000   \n",
      "mean                                  -502.223914   \n",
      "std                                     60.281705   \n",
      "min                                   -799.606441   \n",
      "25%                                   -500.248814   \n",
      "50%                                   -499.959206   \n",
      "75%                                   -499.593198   \n",
      "max                                   -127.875565   \n",
      "\n",
      "       secondary_cleaner.state.floatbank2_b_air  \\\n",
      "count                              14128.000000   \n",
      "mean                                  24.914403   \n",
      "std                                    5.994959   \n",
      "min                                    0.000000   \n",
      "25%                                   22.048294   \n",
      "50%                                   27.022783   \n",
      "75%                                   28.939454   \n",
      "max                                   35.152122   \n",
      "\n",
      "       secondary_cleaner.state.floatbank2_b_level  \\\n",
      "count                                14148.000000   \n",
      "mean                                  -503.695706   \n",
      "std                                     62.837357   \n",
      "min                                   -799.873878   \n",
      "25%                                   -500.270997   \n",
      "50%                                   -500.014092   \n",
      "75%                                   -499.764112   \n",
      "max                                   -212.064665   \n",
      "\n",
      "       secondary_cleaner.state.floatbank3_a_air  \\\n",
      "count                              14145.000000   \n",
      "mean                                  29.243372   \n",
      "std                                    5.637309   \n",
      "min                                    0.000000   \n",
      "25%                                   24.991662   \n",
      "50%                                   28.016530   \n",
      "75%                                   34.990095   \n",
      "max                                   44.260464   \n",
      "\n",
      "       secondary_cleaner.state.floatbank3_a_level  \\\n",
      "count                                14148.000000   \n",
      "mean                                  -478.244059   \n",
      "std                                     54.655143   \n",
      "min                                   -799.613013   \n",
      "25%                                   -500.175065   \n",
      "50%                                   -499.877837   \n",
      "75%                                   -436.923166   \n",
      "max                                   -191.678810   \n",
      "\n",
      "       secondary_cleaner.state.floatbank3_b_air  \\\n",
      "count                              14148.000000   \n",
      "mean                                  22.656261   \n",
      "std                                    4.996017   \n",
      "min                                    0.000000   \n",
      "25%                                   19.948436   \n",
      "50%                                   22.037270   \n",
      "75%                                   25.970365   \n",
      "max                                   35.072841   \n",
      "\n",
      "       secondary_cleaner.state.floatbank3_b_level  \\\n",
      "count                                14148.000000   \n",
      "mean                                  -488.924046   \n",
      "std                                     41.928112   \n",
      "min                                   -759.177381   \n",
      "25%                                   -500.110581   \n",
      "50%                                   -499.966809   \n",
      "75%                                   -499.757501   \n",
      "max                                   -159.742331   \n",
      "\n",
      "       secondary_cleaner.state.floatbank4_a_air  \\\n",
      "count                              14143.000000   \n",
      "mean                                  19.985454   \n",
      "std                                    5.657723   \n",
      "min                                    0.000000   \n",
      "25%                                   14.990775   \n",
      "50%                                   20.001789   \n",
      "75%                                   24.990826   \n",
      "max                                   30.115735   \n",
      "\n",
      "       secondary_cleaner.state.floatbank4_a_level  \\\n",
      "count                                14148.000000   \n",
      "mean                                  -478.696836   \n",
      "std                                     50.736021   \n",
      "min                                   -799.709069   \n",
      "25%                                   -500.628656   \n",
      "50%                                   -499.681450   \n",
      "75%                                   -477.472413   \n",
      "max                                   -245.239184   \n",
      "\n",
      "       secondary_cleaner.state.floatbank4_b_air  \\\n",
      "count                              14148.000000   \n",
      "mean                                  15.487065   \n",
      "std                                    5.255655   \n",
      "min                                    0.000000   \n",
      "25%                                   11.894558   \n",
      "50%                                   14.975536   \n",
      "75%                                   20.059375   \n",
      "max                                   24.007913   \n",
      "\n",
      "       secondary_cleaner.state.floatbank4_b_level  \\\n",
      "count                                14148.000000   \n",
      "mean                                  -460.229416   \n",
      "std                                     58.843586   \n",
      "min                                   -799.889113   \n",
      "25%                                   -500.149000   \n",
      "50%                                   -499.388738   \n",
      "75%                                   -400.039008   \n",
      "max                                   -145.071088   \n",
      "\n",
      "       secondary_cleaner.state.floatbank5_a_air  \\\n",
      "count                              14148.000000   \n",
      "mean                                  16.775136   \n",
      "std                                    5.831906   \n",
      "min                                   -0.372054   \n",
      "25%                                   11.083980   \n",
      "50%                                   17.932223   \n",
      "75%                                   21.346550   \n",
      "max                                   43.709931   \n",
      "\n",
      "       secondary_cleaner.state.floatbank5_a_level  \\\n",
      "count                                14148.000000   \n",
      "mean                                  -483.956022   \n",
      "std                                     37.892788   \n",
      "min                                   -797.142475   \n",
      "25%                                   -500.363177   \n",
      "50%                                   -499.702452   \n",
      "75%                                   -487.712108   \n",
      "max                                   -275.073125   \n",
      "\n",
      "       secondary_cleaner.state.floatbank5_b_air  \\\n",
      "count                              14148.000000   \n",
      "mean                                  13.064590   \n",
      "std                                    5.765617   \n",
      "min                                    0.646208   \n",
      "25%                                    8.994405   \n",
      "50%                                   11.997547   \n",
      "75%                                   17.982903   \n",
      "max                                   27.926001   \n",
      "\n",
      "       secondary_cleaner.state.floatbank5_b_level  \\\n",
      "count                                14148.000000   \n",
      "mean                                  -483.966564   \n",
      "std                                     39.207913   \n",
      "min                                   -800.006180   \n",
      "25%                                   -500.105994   \n",
      "50%                                   -499.914556   \n",
      "75%                                   -453.186936   \n",
      "max                                   -157.396071   \n",
      "\n",
      "       secondary_cleaner.state.floatbank6_a_air  \\\n",
      "count                              14147.000000   \n",
      "mean                                  19.577539   \n",
      "std                                    5.764417   \n",
      "min                                    0.195324   \n",
      "25%                                   14.989304   \n",
      "50%                                   19.984175   \n",
      "75%                                   24.991623   \n",
      "max                                   32.188906   \n",
      "\n",
      "       secondary_cleaner.state.floatbank6_a_level  \n",
      "count                                14148.000000  \n",
      "mean                                  -506.798480  \n",
      "std                                     37.079249  \n",
      "min                                   -809.398668  \n",
      "25%                                   -500.745104  \n",
      "50%                                   -500.061431  \n",
      "75%                                   -499.536466  \n",
      "max                                   -104.427459  \n"
     ]
    }
   ],
   "source": [
    "# Обучающие данные\n",
    "\n",
    "print(training_data.describe())"
   ]
  },
  {
   "cell_type": "code",
   "execution_count": 11,
   "metadata": {
    "scrolled": true
   },
   "outputs": [
    {
     "name": "stdout",
     "output_type": "stream",
     "text": [
      "<class 'pandas.core.frame.DataFrame'>\n",
      "RangeIndex: 5290 entries, 0 to 5289\n",
      "Data columns (total 53 columns):\n",
      " #   Column                                      Non-Null Count  Dtype  \n",
      "---  ------                                      --------------  -----  \n",
      " 0   date                                        5290 non-null   object \n",
      " 1   primary_cleaner.input.sulfate               5286 non-null   float64\n",
      " 2   primary_cleaner.input.depressant            5285 non-null   float64\n",
      " 3   primary_cleaner.input.feed_size             5290 non-null   float64\n",
      " 4   primary_cleaner.input.xanthate              5286 non-null   float64\n",
      " 5   primary_cleaner.state.floatbank8_a_air      5290 non-null   float64\n",
      " 6   primary_cleaner.state.floatbank8_a_level    5290 non-null   float64\n",
      " 7   primary_cleaner.state.floatbank8_b_air      5290 non-null   float64\n",
      " 8   primary_cleaner.state.floatbank8_b_level    5290 non-null   float64\n",
      " 9   primary_cleaner.state.floatbank8_c_air      5290 non-null   float64\n",
      " 10  primary_cleaner.state.floatbank8_c_level    5290 non-null   float64\n",
      " 11  primary_cleaner.state.floatbank8_d_air      5290 non-null   float64\n",
      " 12  primary_cleaner.state.floatbank8_d_level    5290 non-null   float64\n",
      " 13  rougher.input.feed_ag                       5290 non-null   float64\n",
      " 14  rougher.input.feed_pb                       5290 non-null   float64\n",
      " 15  rougher.input.feed_rate                     5287 non-null   float64\n",
      " 16  rougher.input.feed_size                     5289 non-null   float64\n",
      " 17  rougher.input.feed_sol                      5269 non-null   float64\n",
      " 18  rougher.input.feed_au                       5290 non-null   float64\n",
      " 19  rougher.input.floatbank10_sulfate           5285 non-null   float64\n",
      " 20  rougher.input.floatbank10_xanthate          5290 non-null   float64\n",
      " 21  rougher.input.floatbank11_sulfate           5282 non-null   float64\n",
      " 22  rougher.input.floatbank11_xanthate          5265 non-null   float64\n",
      " 23  rougher.state.floatbank10_a_air             5290 non-null   float64\n",
      " 24  rougher.state.floatbank10_a_level           5290 non-null   float64\n",
      " 25  rougher.state.floatbank10_b_air             5290 non-null   float64\n",
      " 26  rougher.state.floatbank10_b_level           5290 non-null   float64\n",
      " 27  rougher.state.floatbank10_c_air             5290 non-null   float64\n",
      " 28  rougher.state.floatbank10_c_level           5290 non-null   float64\n",
      " 29  rougher.state.floatbank10_d_air             5290 non-null   float64\n",
      " 30  rougher.state.floatbank10_d_level           5290 non-null   float64\n",
      " 31  rougher.state.floatbank10_e_air             5290 non-null   float64\n",
      " 32  rougher.state.floatbank10_e_level           5290 non-null   float64\n",
      " 33  rougher.state.floatbank10_f_air             5290 non-null   float64\n",
      " 34  rougher.state.floatbank10_f_level           5290 non-null   float64\n",
      " 35  secondary_cleaner.state.floatbank2_a_air    5287 non-null   float64\n",
      " 36  secondary_cleaner.state.floatbank2_a_level  5290 non-null   float64\n",
      " 37  secondary_cleaner.state.floatbank2_b_air    5288 non-null   float64\n",
      " 38  secondary_cleaner.state.floatbank2_b_level  5290 non-null   float64\n",
      " 39  secondary_cleaner.state.floatbank3_a_air    5281 non-null   float64\n",
      " 40  secondary_cleaner.state.floatbank3_a_level  5290 non-null   float64\n",
      " 41  secondary_cleaner.state.floatbank3_b_air    5290 non-null   float64\n",
      " 42  secondary_cleaner.state.floatbank3_b_level  5290 non-null   float64\n",
      " 43  secondary_cleaner.state.floatbank4_a_air    5290 non-null   float64\n",
      " 44  secondary_cleaner.state.floatbank4_a_level  5290 non-null   float64\n",
      " 45  secondary_cleaner.state.floatbank4_b_air    5290 non-null   float64\n",
      " 46  secondary_cleaner.state.floatbank4_b_level  5290 non-null   float64\n",
      " 47  secondary_cleaner.state.floatbank5_a_air    5290 non-null   float64\n",
      " 48  secondary_cleaner.state.floatbank5_a_level  5290 non-null   float64\n",
      " 49  secondary_cleaner.state.floatbank5_b_air    5290 non-null   float64\n",
      " 50  secondary_cleaner.state.floatbank5_b_level  5290 non-null   float64\n",
      " 51  secondary_cleaner.state.floatbank6_a_air    5290 non-null   float64\n",
      " 52  secondary_cleaner.state.floatbank6_a_level  5290 non-null   float64\n",
      "dtypes: float64(52), object(1)\n",
      "memory usage: 2.1+ MB\n"
     ]
    }
   ],
   "source": [
    "# Тестовые данные\n",
    "\n",
    "test_data.info()"
   ]
  },
  {
   "cell_type": "code",
   "execution_count": 12,
   "metadata": {
    "scrolled": true
   },
   "outputs": [
    {
     "name": "stdout",
     "output_type": "stream",
     "text": [
      "       primary_cleaner.input.sulfate  primary_cleaner.input.depressant  \\\n",
      "count                    5286.000000                       5285.000000   \n",
      "mean                      174.839652                          8.683596   \n",
      "std                        43.027080                          3.072050   \n",
      "min                         2.566156                          0.003839   \n",
      "25%                       147.121401                          6.489555   \n",
      "50%                       177.828489                          8.052207   \n",
      "75%                       208.125438                         10.027764   \n",
      "max                       265.983123                         40.000000   \n",
      "\n",
      "       primary_cleaner.input.feed_size  primary_cleaner.input.xanthate  \\\n",
      "count                      5290.000000                     5286.000000   \n",
      "mean                          7.266339                        1.383803   \n",
      "std                           0.610219                        0.643474   \n",
      "min                           5.650000                        0.004984   \n",
      "25%                           6.890000                        0.907623   \n",
      "50%                           7.250000                        1.197610   \n",
      "75%                           7.600000                        1.797819   \n",
      "max                          15.500000                        4.102454   \n",
      "\n",
      "       primary_cleaner.state.floatbank8_a_air  \\\n",
      "count                            5.290000e+03   \n",
      "mean                             1.539494e+03   \n",
      "std                              1.167979e+02   \n",
      "min                              5.445860e-32   \n",
      "25%                              1.498936e+03   \n",
      "50%                              1.585129e+03   \n",
      "75%                              1.602077e+03   \n",
      "max                              2.103104e+03   \n",
      "\n",
      "       primary_cleaner.state.floatbank8_a_level  \\\n",
      "count                               5290.000000   \n",
      "mean                                -497.665883   \n",
      "std                                   19.952431   \n",
      "min                                 -795.316337   \n",
      "25%                                 -500.357298   \n",
      "50%                                 -499.969164   \n",
      "75%                                 -499.568951   \n",
      "max                                  -57.195404   \n",
      "\n",
      "       primary_cleaner.state.floatbank8_b_air  \\\n",
      "count                            5.290000e+03   \n",
      "mean                             1.545174e+03   \n",
      "std                              1.222246e+02   \n",
      "min                              6.647490e-32   \n",
      "25%                              1.498971e+03   \n",
      "50%                              1.595622e+03   \n",
      "75%                              1.602324e+03   \n",
      "max                              1.813084e+03   \n",
      "\n",
      "       primary_cleaner.state.floatbank8_b_level  \\\n",
      "count                               5290.000000   \n",
      "mean                                -500.273098   \n",
      "std                                   32.968307   \n",
      "min                                 -799.997015   \n",
      "25%                                 -500.703002   \n",
      "50%                                 -500.028514   \n",
      "75%                                 -499.293257   \n",
      "max                                 -142.527229   \n",
      "\n",
      "       primary_cleaner.state.floatbank8_c_air  \\\n",
      "count                            5.290000e+03   \n",
      "mean                             1.527272e+03   \n",
      "std                              1.225380e+02   \n",
      "min                              4.033736e-32   \n",
      "25%                              1.473230e+03   \n",
      "50%                              1.549595e+03   \n",
      "75%                              1.601144e+03   \n",
      "max                              1.715054e+03   \n",
      "\n",
      "       primary_cleaner.state.floatbank8_c_level  \\\n",
      "count                               5290.000000   \n",
      "mean                                -498.330680   \n",
      "std                                   21.964876   \n",
      "min                                 -799.960571   \n",
      "25%                                 -501.018117   \n",
      "50%                                 -500.017711   \n",
      "75%                                 -498.994130   \n",
      "max                                 -150.937035   \n",
      "\n",
      "       primary_cleaner.state.floatbank8_d_air  \\\n",
      "count                            5.290000e+03   \n",
      "mean                             1.544844e+03   \n",
      "std                              1.247731e+02   \n",
      "min                              4.039220e-32   \n",
      "25%                              1.499481e+03   \n",
      "50%                              1.594579e+03   \n",
      "75%                              1.600965e+03   \n",
      "max                              1.913257e+03   \n",
      "\n",
      "       primary_cleaner.state.floatbank8_d_level  rougher.input.feed_ag  \\\n",
      "count                               5290.000000            5290.000000   \n",
      "mean                                -500.199527               9.371940   \n",
      "std                                   31.045257               1.926264   \n",
      "min                                 -799.794250               0.568441   \n",
      "25%                                 -500.452469               8.112434   \n",
      "50%                                 -500.023307               9.762654   \n",
      "75%                                 -499.607040              10.652297   \n",
      "max                                 -158.950573              14.406130   \n",
      "\n",
      "       rougher.input.feed_pb  rougher.input.feed_rate  \\\n",
      "count            5290.000000              5287.000000   \n",
      "mean                3.798082               489.800620   \n",
      "std                 0.954859               108.036326   \n",
      "min                 0.273677                 0.002986   \n",
      "25%                 3.240251               407.020883   \n",
      "50%                 3.740716               499.051440   \n",
      "75%                 4.282634               575.307213   \n",
      "max                 6.905684               707.364020   \n",
      "\n",
      "       rougher.input.feed_size  rougher.input.feed_sol  rougher.input.feed_au  \\\n",
      "count              5289.000000             5269.000000            5290.000000   \n",
      "mean                 55.951097               37.716648               9.334682   \n",
      "std                  19.081758                5.491415               1.619521   \n",
      "min                   0.046369                1.393488               0.568632   \n",
      "25%                  43.906347               34.505576               8.207814   \n",
      "50%                  50.841029               37.980276               9.593766   \n",
      "75%                  62.431047               41.635385              10.463538   \n",
      "max                 392.494040               53.477742              13.731330   \n",
      "\n",
      "       rougher.input.floatbank10_sulfate  rougher.input.floatbank10_xanthate  \\\n",
      "count                        5285.000000                         5290.000000   \n",
      "mean                           13.855759                            6.467745   \n",
      "std                             3.350852                            1.065114   \n",
      "min                             0.001147                            0.000568   \n",
      "25%                            11.995006                            5.998779   \n",
      "50%                            14.003126                            6.498181   \n",
      "75%                            16.974284                            7.085457   \n",
      "max                            24.280636                            8.910468   \n",
      "\n",
      "       rougher.input.floatbank11_sulfate  rougher.input.floatbank11_xanthate  \\\n",
      "count                        5282.000000                         5265.000000   \n",
      "mean                           13.922328                            6.512103   \n",
      "std                             3.223769                            0.886989   \n",
      "min                             0.000077                            0.006985   \n",
      "25%                            11.997200                            5.999157   \n",
      "50%                            14.004371                            6.498744   \n",
      "75%                            16.959671                            7.091808   \n",
      "max                            24.280966                            8.621338   \n",
      "\n",
      "       rougher.state.floatbank10_a_air  rougher.state.floatbank10_a_level  \\\n",
      "count                      5290.000000                        5290.000000   \n",
      "mean                       1053.400166                        -395.732530   \n",
      "std                         121.139309                          91.085505   \n",
      "min                          -0.042069                        -657.949759   \n",
      "25%                         999.205344                        -499.920565   \n",
      "50%                        1000.472055                        -399.693363   \n",
      "75%                        1006.254299                        -300.060056   \n",
      "max                        1423.274687                        -273.776101   \n",
      "\n",
      "       rougher.state.floatbank10_b_air  rougher.state.floatbank10_b_level  \\\n",
      "count                      5290.000000                        5290.000000   \n",
      "mean                       1318.926879                        -475.241428   \n",
      "std                         156.450366                          45.649466   \n",
      "min                          -0.721806                        -650.245277   \n",
      "25%                        1200.871883                        -500.256114   \n",
      "50%                        1302.254995                        -499.837803   \n",
      "75%                        1433.955649                        -450.749619   \n",
      "max                        1706.640419                        -298.200051   \n",
      "\n",
      "       rougher.state.floatbank10_c_air  rougher.state.floatbank10_c_level  \\\n",
      "count                      5290.000000                        5290.000000   \n",
      "mean                       1301.595477                        -474.836671   \n",
      "std                         171.269667                          45.859866   \n",
      "min                          -0.056636                        -647.544439   \n",
      "25%                        1199.651371                        -500.233831   \n",
      "50%                        1300.202274                        -499.777222   \n",
      "75%                        1406.594956                        -451.153188   \n",
      "max                        1731.017788                        -298.036852   \n",
      "\n",
      "       rougher.state.floatbank10_d_air  rougher.state.floatbank10_d_level  \\\n",
      "count                      5290.000000                        5290.000000   \n",
      "mean                       1214.847960                        -475.682272   \n",
      "std                         185.763319                          47.844967   \n",
      "min                          -0.992219                        -648.390665   \n",
      "25%                        1093.368068                        -500.440610   \n",
      "50%                        1207.014092                        -499.691917   \n",
      "75%                        1391.497269                        -452.483463   \n",
      "max                        1775.218584                         -76.397327   \n",
      "\n",
      "       rougher.state.floatbank10_e_air  rougher.state.floatbank10_e_level  \\\n",
      "count                      5290.000000                        5290.000000   \n",
      "mean                       1056.648995                        -469.029688   \n",
      "std                         131.542839                          59.325990   \n",
      "min                          -1.982295                        -649.267537   \n",
      "25%                         999.361403                        -500.190639   \n",
      "50%                        1047.495449                        -499.765796   \n",
      "75%                        1101.365315                        -450.957513   \n",
      "max                        1467.184843                        -139.753025   \n",
      "\n",
      "       rougher.state.floatbank10_f_air  rougher.state.floatbank10_f_level  \\\n",
      "count                      5290.000000                        5290.000000   \n",
      "mean                        997.949719                        -470.482465   \n",
      "std                         128.218869                          60.759318   \n",
      "min                          -2.593390                        -649.949283   \n",
      "25%                         901.024994                        -500.624783   \n",
      "50%                         999.441879                        -499.680986   \n",
      "75%                        1050.433005                        -451.986460   \n",
      "max                        1476.588107                        -249.801043   \n",
      "\n",
      "       secondary_cleaner.state.floatbank2_a_air  \\\n",
      "count                               5287.000000   \n",
      "mean                                  26.312630   \n",
      "std                                    3.429852   \n",
      "min                                    0.205329   \n",
      "25%                                   24.942328   \n",
      "50%                                   26.910569   \n",
      "75%                                   28.091885   \n",
      "max                                   32.138727   \n",
      "\n",
      "       secondary_cleaner.state.floatbank2_a_level  \\\n",
      "count                                 5290.000000   \n",
      "mean                                  -502.750897   \n",
      "std                                     28.756505   \n",
      "min                                   -784.091091   \n",
      "25%                                   -500.206517   \n",
      "50%                                   -500.003902   \n",
      "75%                                   -499.791639   \n",
      "max                                   -300.343670   \n",
      "\n",
      "       secondary_cleaner.state.floatbank2_b_air  \\\n",
      "count                               5288.000000   \n",
      "mean                                  21.949119   \n",
      "std                                    4.354961   \n",
      "min                                    0.006064   \n",
      "25%                                   20.002315   \n",
      "50%                                   22.942603   \n",
      "75%                                   24.985013   \n",
      "max                                   28.165864   \n",
      "\n",
      "       secondary_cleaner.state.floatbank2_b_level  \\\n",
      "count                                 5290.000000   \n",
      "mean                                  -501.987097   \n",
      "std                                     34.582722   \n",
      "min                                   -797.783989   \n",
      "25%                                   -500.218030   \n",
      "50%                                   -500.019058   \n",
      "75%                                   -499.831532   \n",
      "max                                   -211.999273   \n",
      "\n",
      "       secondary_cleaner.state.floatbank3_a_air  \\\n",
      "count                               5281.000000   \n",
      "mean                                  25.402926   \n",
      "std                                    6.526457   \n",
      "min                                    0.000000   \n",
      "25%                                   22.982288   \n",
      "50%                                   25.010105   \n",
      "75%                                   30.002063   \n",
      "max                                   40.041997   \n",
      "\n",
      "       secondary_cleaner.state.floatbank3_a_level  \\\n",
      "count                                 5290.000000   \n",
      "mean                                  -507.490314   \n",
      "std                                     47.620908   \n",
      "min                                   -799.755798   \n",
      "25%                                   -500.297951   \n",
      "50%                                   -500.034578   \n",
      "75%                                   -499.780163   \n",
      "max                                   -313.866425   \n",
      "\n",
      "       secondary_cleaner.state.floatbank3_b_air  \\\n",
      "count                              5.290000e+03   \n",
      "mean                               2.098211e+01   \n",
      "std                                6.736179e+00   \n",
      "min                                1.521587e-17   \n",
      "25%                                1.796786e+01   \n",
      "50%                                2.100316e+01   \n",
      "75%                                2.697698e+01   \n",
      "max                                3.203936e+01   \n",
      "\n",
      "       secondary_cleaner.state.floatbank3_b_level  \\\n",
      "count                                 5290.000000   \n",
      "mean                                  -506.627916   \n",
      "std                                     44.528673   \n",
      "min                                   -809.333008   \n",
      "25%                                   -500.145128   \n",
      "50%                                   -500.013819   \n",
      "75%                                   -499.890608   \n",
      "max                                   -202.277366   \n",
      "\n",
      "       secondary_cleaner.state.floatbank4_a_air  \\\n",
      "count                              5.290000e+03   \n",
      "mean                               1.632007e+01   \n",
      "std                                3.493583e+00   \n",
      "min                                1.079872e-16   \n",
      "25%                                1.403618e+01   \n",
      "50%                                1.700847e+01   \n",
      "75%                                1.803862e+01   \n",
      "max                                3.005180e+01   \n",
      "\n",
      "       secondary_cleaner.state.floatbank4_a_level  \\\n",
      "count                                 5290.000000   \n",
      "mean                                  -505.144570   \n",
      "std                                     31.427337   \n",
      "min                                   -799.798523   \n",
      "25%                                   -500.868258   \n",
      "50%                                   -500.115727   \n",
      "75%                                   -499.404224   \n",
      "max                                   -401.565212   \n",
      "\n",
      "       secondary_cleaner.state.floatbank4_b_air  \\\n",
      "count                              5.290000e+03   \n",
      "mean                               1.373544e+01   \n",
      "std                                3.430484e+00   \n",
      "min                                2.489718e-17   \n",
      "25%                                1.202862e+01   \n",
      "50%                                1.496486e+01   \n",
      "75%                                1.596213e+01   \n",
      "max                                3.126971e+01   \n",
      "\n",
      "       secondary_cleaner.state.floatbank4_b_level  \\\n",
      "count                                 5290.000000   \n",
      "mean                                  -463.349858   \n",
      "std                                     86.189107   \n",
      "min                                   -800.836914   \n",
      "25%                                   -500.323028   \n",
      "50%                                   -499.576513   \n",
      "75%                                   -400.933805   \n",
      "max                                     -6.506986   \n",
      "\n",
      "       secondary_cleaner.state.floatbank5_a_air  \\\n",
      "count                               5290.000000   \n",
      "mean                                  12.804186   \n",
      "std                                    3.026591   \n",
      "min                                    0.069227   \n",
      "25%                                   10.914838   \n",
      "50%                                   12.954182   \n",
      "75%                                   15.097528   \n",
      "max                                   25.258848   \n",
      "\n",
      "       secondary_cleaner.state.floatbank5_a_level  \\\n",
      "count                                 5290.000000   \n",
      "mean                                  -501.329122   \n",
      "std                                     17.951495   \n",
      "min                                   -797.323986   \n",
      "25%                                   -500.726841   \n",
      "50%                                   -499.990332   \n",
      "75%                                   -499.283191   \n",
      "max                                   -244.483566   \n",
      "\n",
      "       secondary_cleaner.state.floatbank5_b_air  \\\n",
      "count                               5290.000000   \n",
      "mean                                   9.881145   \n",
      "std                                    2.868205   \n",
      "min                                    0.528083   \n",
      "25%                                    8.036719   \n",
      "50%                                   10.004301   \n",
      "75%                                   11.997467   \n",
      "max                                   14.086866   \n",
      "\n",
      "       secondary_cleaner.state.floatbank5_b_level  \\\n",
      "count                                 5290.000000   \n",
      "mean                                  -495.663398   \n",
      "std                                     34.535007   \n",
      "min                                   -800.220337   \n",
      "25%                                   -500.194668   \n",
      "50%                                   -499.990535   \n",
      "75%                                   -499.719913   \n",
      "max                                   -137.740004   \n",
      "\n",
      "       secondary_cleaner.state.floatbank6_a_air  \\\n",
      "count                               5290.000000   \n",
      "mean                                  17.304935   \n",
      "std                                    4.536544   \n",
      "min                                   -0.079426   \n",
      "25%                                   13.997317   \n",
      "50%                                   16.014935   \n",
      "75%                                   21.020013   \n",
      "max                                   26.705889   \n",
      "\n",
      "       secondary_cleaner.state.floatbank6_a_level  \n",
      "count                                 5290.000000  \n",
      "mean                                  -501.793193  \n",
      "std                                     39.044215  \n",
      "min                                   -809.741464  \n",
      "25%                                   -500.690984  \n",
      "50%                                   -500.007126  \n",
      "75%                                   -499.373018  \n",
      "max                                   -123.307487  \n"
     ]
    }
   ],
   "source": [
    "# Тестовые данные\n",
    "\n",
    "print(test_data.describe())"
   ]
  },
  {
   "cell_type": "markdown",
   "metadata": {},
   "source": [
    "#### Поиск дубликатов и пропусков."
   ]
  },
  {
   "cell_type": "code",
   "execution_count": 13,
   "metadata": {},
   "outputs": [
    {
     "name": "stdout",
     "output_type": "stream",
     "text": [
      "Количество дубликатов в исходных данных: 0\n",
      "Количество дубликатов в обучающих данных: 0\n",
      "Количество дубликатов в тестовых данных: 0\n"
     ]
    }
   ],
   "source": [
    "print(\"Количество дубликатов в исходных данных:\", initial_data.duplicated().sum())\n",
    "print(\"Количество дубликатов в обучающих данных:\", training_data.duplicated().sum())\n",
    "print(\"Количество дубликатов в тестовых данных:\", test_data.duplicated().sum())"
   ]
  },
  {
   "cell_type": "code",
   "execution_count": 14,
   "metadata": {
    "scrolled": true
   },
   "outputs": [
    {
     "data": {
      "text/html": [
       "<style  type=\"text/css\" >\n",
       "#T_e783f_row0_col0{\n",
       "            background-color:  #b40426;\n",
       "            color:  #f1f1f1;\n",
       "        }#T_e783f_row1_col0{\n",
       "            background-color:  #90b2fe;\n",
       "            color:  #000000;\n",
       "        }#T_e783f_row2_col0{\n",
       "            background-color:  #8caffe;\n",
       "            color:  #000000;\n",
       "        }#T_e783f_row3_col0{\n",
       "            background-color:  #80a3fa;\n",
       "            color:  #000000;\n",
       "        }#T_e783f_row4_col0{\n",
       "            background-color:  #6282ea;\n",
       "            color:  #000000;\n",
       "        }#T_e783f_row5_col0{\n",
       "            background-color:  #5f7fe8;\n",
       "            color:  #000000;\n",
       "        }#T_e783f_row6_col0{\n",
       "            background-color:  #5470de;\n",
       "            color:  #000000;\n",
       "        }#T_e783f_row7_col0{\n",
       "            background-color:  #4e68d8;\n",
       "            color:  #000000;\n",
       "        }#T_e783f_row8_col0{\n",
       "            background-color:  #4c66d6;\n",
       "            color:  #000000;\n",
       "        }#T_e783f_row9_col0,#T_e783f_row10_col0,#T_e783f_row11_col0{\n",
       "            background-color:  #4b64d5;\n",
       "            color:  #f1f1f1;\n",
       "        }#T_e783f_row12_col0{\n",
       "            background-color:  #455cce;\n",
       "            color:  #f1f1f1;\n",
       "        }#T_e783f_row13_col0{\n",
       "            background-color:  #4257c9;\n",
       "            color:  #f1f1f1;\n",
       "        }#T_e783f_row14_col0{\n",
       "            background-color:  #4055c8;\n",
       "            color:  #f1f1f1;\n",
       "        }#T_e783f_row15_col0{\n",
       "            background-color:  #3f53c6;\n",
       "            color:  #f1f1f1;\n",
       "        }#T_e783f_row16_col0,#T_e783f_row17_col0,#T_e783f_row18_col0,#T_e783f_row19_col0{\n",
       "            background-color:  #3e51c5;\n",
       "            color:  #f1f1f1;\n",
       "        }#T_e783f_row20_col0,#T_e783f_row21_col0,#T_e783f_row22_col0,#T_e783f_row23_col0{\n",
       "            background-color:  #3c4ec2;\n",
       "            color:  #f1f1f1;\n",
       "        }#T_e783f_row24_col0,#T_e783f_row25_col0,#T_e783f_row26_col0,#T_e783f_row27_col0,#T_e783f_row28_col0,#T_e783f_row29_col0,#T_e783f_row30_col0,#T_e783f_row31_col0,#T_e783f_row32_col0,#T_e783f_row33_col0,#T_e783f_row34_col0,#T_e783f_row35_col0,#T_e783f_row36_col0,#T_e783f_row37_col0,#T_e783f_row38_col0,#T_e783f_row39_col0,#T_e783f_row40_col0,#T_e783f_row41_col0,#T_e783f_row42_col0,#T_e783f_row43_col0,#T_e783f_row44_col0,#T_e783f_row45_col0,#T_e783f_row46_col0,#T_e783f_row47_col0,#T_e783f_row48_col0,#T_e783f_row49_col0,#T_e783f_row50_col0,#T_e783f_row51_col0,#T_e783f_row52_col0,#T_e783f_row53_col0,#T_e783f_row54_col0,#T_e783f_row55_col0,#T_e783f_row56_col0,#T_e783f_row57_col0,#T_e783f_row58_col0,#T_e783f_row59_col0,#T_e783f_row60_col0,#T_e783f_row61_col0,#T_e783f_row62_col0,#T_e783f_row63_col0,#T_e783f_row64_col0,#T_e783f_row65_col0,#T_e783f_row66_col0,#T_e783f_row67_col0,#T_e783f_row68_col0,#T_e783f_row69_col0,#T_e783f_row70_col0,#T_e783f_row71_col0,#T_e783f_row72_col0,#T_e783f_row73_col0,#T_e783f_row74_col0,#T_e783f_row75_col0,#T_e783f_row76_col0,#T_e783f_row77_col0,#T_e783f_row78_col0,#T_e783f_row79_col0,#T_e783f_row80_col0,#T_e783f_row81_col0,#T_e783f_row82_col0,#T_e783f_row83_col0,#T_e783f_row84_col0,#T_e783f_row85_col0,#T_e783f_row86_col0{\n",
       "            background-color:  #3b4cc0;\n",
       "            color:  #f1f1f1;\n",
       "        }</style><table id=\"T_e783f_\" ><thead>    <tr>        <th class=\"blank level0\" ></th>        <th class=\"col_heading level0 col0\" >percent_space</th>    </tr></thead><tbody>\n",
       "                <tr>\n",
       "                        <th id=\"T_e783f_level0_row0\" class=\"row_heading level0 row0\" >secondary_cleaner.output.tail_sol</th>\n",
       "                        <td id=\"T_e783f_row0_col0\" class=\"data row0 col0\" >9.0</td>\n",
       "            </tr>\n",
       "            <tr>\n",
       "                        <th id=\"T_e783f_level0_row1\" class=\"row_heading level0 row1\" >rougher.input.floatbank11_xanthate</th>\n",
       "                        <td id=\"T_e783f_row1_col0\" class=\"data row1 col0\" >2.3</td>\n",
       "            </tr>\n",
       "            <tr>\n",
       "                        <th id=\"T_e783f_level0_row2\" class=\"row_heading level0 row2\" >rougher.state.floatbank10_e_air</th>\n",
       "                        <td id=\"T_e783f_row2_col0\" class=\"data row2 col0\" >2.2</td>\n",
       "            </tr>\n",
       "            <tr>\n",
       "                        <th id=\"T_e783f_level0_row3\" class=\"row_heading level0 row3\" >primary_cleaner.output.concentrate_sol</th>\n",
       "                        <td id=\"T_e783f_row3_col0\" class=\"data row3 col0\" >1.9</td>\n",
       "            </tr>\n",
       "            <tr>\n",
       "                        <th id=\"T_e783f_level0_row4\" class=\"row_heading level0 row4\" >secondary_cleaner.state.floatbank2_a_air</th>\n",
       "                        <td id=\"T_e783f_row4_col0\" class=\"data row4 col0\" >1.1</td>\n",
       "            </tr>\n",
       "            <tr>\n",
       "                        <th id=\"T_e783f_level0_row5\" class=\"row_heading level0 row5\" >final.output.concentrate_sol</th>\n",
       "                        <td id=\"T_e783f_row5_col0\" class=\"data row5 col0\" >1.1</td>\n",
       "            </tr>\n",
       "            <tr>\n",
       "                        <th id=\"T_e783f_level0_row6\" class=\"row_heading level0 row6\" >rougher.input.feed_size</th>\n",
       "                        <td id=\"T_e783f_row6_col0\" class=\"data row6 col0\" >0.7</td>\n",
       "            </tr>\n",
       "            <tr>\n",
       "                        <th id=\"T_e783f_level0_row7\" class=\"row_heading level0 row7\" >primary_cleaner.output.concentrate_pb</th>\n",
       "                        <td id=\"T_e783f_row7_col0\" class=\"data row7 col0\" >0.6</td>\n",
       "            </tr>\n",
       "            <tr>\n",
       "                        <th id=\"T_e783f_level0_row8\" class=\"row_heading level0 row8\" >primary_cleaner.input.xanthate</th>\n",
       "                        <td id=\"T_e783f_row8_col0\" class=\"data row8 col0\" >0.5</td>\n",
       "            </tr>\n",
       "            <tr>\n",
       "                        <th id=\"T_e783f_level0_row9\" class=\"row_heading level0 row9\" >final.output.tail_pb</th>\n",
       "                        <td id=\"T_e783f_row9_col0\" class=\"data row9 col0\" >0.5</td>\n",
       "            </tr>\n",
       "            <tr>\n",
       "                        <th id=\"T_e783f_level0_row10\" class=\"row_heading level0 row10\" >rougher.input.feed_pb</th>\n",
       "                        <td id=\"T_e783f_row10_col0\" class=\"data row10 col0\" >0.5</td>\n",
       "            </tr>\n",
       "            <tr>\n",
       "                        <th id=\"T_e783f_level0_row11\" class=\"row_heading level0 row11\" >rougher.input.feed_sol</th>\n",
       "                        <td id=\"T_e783f_row11_col0\" class=\"data row11 col0\" >0.5</td>\n",
       "            </tr>\n",
       "            <tr>\n",
       "                        <th id=\"T_e783f_level0_row12\" class=\"row_heading level0 row12\" >primary_cleaner.output.tail_sol</th>\n",
       "                        <td id=\"T_e783f_row12_col0\" class=\"data row12 col0\" >0.3</td>\n",
       "            </tr>\n",
       "            <tr>\n",
       "                        <th id=\"T_e783f_level0_row13\" class=\"row_heading level0 row13\" >rougher.input.floatbank11_sulfate</th>\n",
       "                        <td id=\"T_e783f_row13_col0\" class=\"data row13 col0\" >0.2</td>\n",
       "            </tr>\n",
       "            <tr>\n",
       "                        <th id=\"T_e783f_level0_row14\" class=\"row_heading level0 row14\" >primary_cleaner.input.depressant</th>\n",
       "                        <td id=\"T_e783f_row14_col0\" class=\"data row14 col0\" >0.2</td>\n",
       "            </tr>\n",
       "            <tr>\n",
       "                        <th id=\"T_e783f_level0_row15\" class=\"row_heading level0 row15\" >rougher.input.floatbank10_sulfate</th>\n",
       "                        <td id=\"T_e783f_row15_col0\" class=\"data row15 col0\" >0.2</td>\n",
       "            </tr>\n",
       "            <tr>\n",
       "                        <th id=\"T_e783f_level0_row16\" class=\"row_heading level0 row16\" >primary_cleaner.input.sulfate</th>\n",
       "                        <td id=\"T_e783f_row16_col0\" class=\"data row16 col0\" >0.1</td>\n",
       "            </tr>\n",
       "            <tr>\n",
       "                        <th id=\"T_e783f_level0_row17\" class=\"row_heading level0 row17\" >rougher.output.concentrate_sol</th>\n",
       "                        <td id=\"T_e783f_row17_col0\" class=\"data row17 col0\" >0.1</td>\n",
       "            </tr>\n",
       "            <tr>\n",
       "                        <th id=\"T_e783f_level0_row18\" class=\"row_heading level0 row18\" >secondary_cleaner.state.floatbank2_b_air</th>\n",
       "                        <td id=\"T_e783f_row18_col0\" class=\"data row18 col0\" >0.1</td>\n",
       "            </tr>\n",
       "            <tr>\n",
       "                        <th id=\"T_e783f_level0_row19\" class=\"row_heading level0 row19\" >primary_cleaner.output.tail_pb</th>\n",
       "                        <td id=\"T_e783f_row19_col0\" class=\"data row19 col0\" >0.1</td>\n",
       "            </tr>\n",
       "            <tr>\n",
       "                        <th id=\"T_e783f_level0_row20\" class=\"row_heading level0 row20\" >secondary_cleaner.state.floatbank3_a_air</th>\n",
       "                        <td id=\"T_e783f_row20_col0\" class=\"data row20 col0\" >0.1</td>\n",
       "            </tr>\n",
       "            <tr>\n",
       "                        <th id=\"T_e783f_level0_row21\" class=\"row_heading level0 row21\" >secondary_cleaner.output.tail_pb</th>\n",
       "                        <td id=\"T_e783f_row21_col0\" class=\"data row21 col0\" >0.1</td>\n",
       "            </tr>\n",
       "            <tr>\n",
       "                        <th id=\"T_e783f_level0_row22\" class=\"row_heading level0 row22\" >rougher.input.feed_rate</th>\n",
       "                        <td id=\"T_e783f_row22_col0\" class=\"data row22 col0\" >0.1</td>\n",
       "            </tr>\n",
       "            <tr>\n",
       "                        <th id=\"T_e783f_level0_row23\" class=\"row_heading level0 row23\" >rougher.input.floatbank10_xanthate</th>\n",
       "                        <td id=\"T_e783f_row23_col0\" class=\"data row23 col0\" >0.0</td>\n",
       "            </tr>\n",
       "            <tr>\n",
       "                        <th id=\"T_e783f_level0_row24\" class=\"row_heading level0 row24\" >final.output.tail_sol</th>\n",
       "                        <td id=\"T_e783f_row24_col0\" class=\"data row24 col0\" >0.0</td>\n",
       "            </tr>\n",
       "            <tr>\n",
       "                        <th id=\"T_e783f_level0_row25\" class=\"row_heading level0 row25\" >secondary_cleaner.state.floatbank4_a_air</th>\n",
       "                        <td id=\"T_e783f_row25_col0\" class=\"data row25 col0\" >0.0</td>\n",
       "            </tr>\n",
       "            <tr>\n",
       "                        <th id=\"T_e783f_level0_row26\" class=\"row_heading level0 row26\" >primary_cleaner.output.tail_ag</th>\n",
       "                        <td id=\"T_e783f_row26_col0\" class=\"data row26 col0\" >0.0</td>\n",
       "            </tr>\n",
       "            <tr>\n",
       "                        <th id=\"T_e783f_level0_row27\" class=\"row_heading level0 row27\" >primary_cleaner.state.floatbank8_b_air</th>\n",
       "                        <td id=\"T_e783f_row27_col0\" class=\"data row27 col0\" >0.0</td>\n",
       "            </tr>\n",
       "            <tr>\n",
       "                        <th id=\"T_e783f_level0_row28\" class=\"row_heading level0 row28\" >primary_cleaner.state.floatbank8_a_air</th>\n",
       "                        <td id=\"T_e783f_row28_col0\" class=\"data row28 col0\" >0.0</td>\n",
       "            </tr>\n",
       "            <tr>\n",
       "                        <th id=\"T_e783f_level0_row29\" class=\"row_heading level0 row29\" >primary_cleaner.state.floatbank8_d_air</th>\n",
       "                        <td id=\"T_e783f_row29_col0\" class=\"data row29 col0\" >0.0</td>\n",
       "            </tr>\n",
       "            <tr>\n",
       "                        <th id=\"T_e783f_level0_row30\" class=\"row_heading level0 row30\" >rougher.calculation.floatbank11_sulfate_to_au_feed</th>\n",
       "                        <td id=\"T_e783f_row30_col0\" class=\"data row30 col0\" >0.0</td>\n",
       "            </tr>\n",
       "            <tr>\n",
       "                        <th id=\"T_e783f_level0_row31\" class=\"row_heading level0 row31\" >secondary_cleaner.output.tail_ag</th>\n",
       "                        <td id=\"T_e783f_row31_col0\" class=\"data row31 col0\" >0.0</td>\n",
       "            </tr>\n",
       "            <tr>\n",
       "                        <th id=\"T_e783f_level0_row32\" class=\"row_heading level0 row32\" >primary_cleaner.state.floatbank8_c_air</th>\n",
       "                        <td id=\"T_e783f_row32_col0\" class=\"data row32 col0\" >0.0</td>\n",
       "            </tr>\n",
       "            <tr>\n",
       "                        <th id=\"T_e783f_level0_row33\" class=\"row_heading level0 row33\" >rougher.calculation.sulfate_to_au_concentrate</th>\n",
       "                        <td id=\"T_e783f_row33_col0\" class=\"data row33 col0\" >0.0</td>\n",
       "            </tr>\n",
       "            <tr>\n",
       "                        <th id=\"T_e783f_level0_row34\" class=\"row_heading level0 row34\" >secondary_cleaner.state.floatbank6_a_air</th>\n",
       "                        <td id=\"T_e783f_row34_col0\" class=\"data row34 col0\" >0.0</td>\n",
       "            </tr>\n",
       "            <tr>\n",
       "                        <th id=\"T_e783f_level0_row35\" class=\"row_heading level0 row35\" >rougher.calculation.floatbank10_sulfate_to_au_feed</th>\n",
       "                        <td id=\"T_e783f_row35_col0\" class=\"data row35 col0\" >0.0</td>\n",
       "            </tr>\n",
       "            <tr>\n",
       "                        <th id=\"T_e783f_level0_row36\" class=\"row_heading level0 row36\" >secondary_cleaner.state.floatbank2_b_level</th>\n",
       "                        <td id=\"T_e783f_row36_col0\" class=\"data row36 col0\" >0.0</td>\n",
       "            </tr>\n",
       "            <tr>\n",
       "                        <th id=\"T_e783f_level0_row37\" class=\"row_heading level0 row37\" >secondary_cleaner.state.floatbank5_a_air</th>\n",
       "                        <td id=\"T_e783f_row37_col0\" class=\"data row37 col0\" >0.0</td>\n",
       "            </tr>\n",
       "            <tr>\n",
       "                        <th id=\"T_e783f_level0_row38\" class=\"row_heading level0 row38\" >rougher.state.floatbank10_b_level</th>\n",
       "                        <td id=\"T_e783f_row38_col0\" class=\"data row38 col0\" >0.0</td>\n",
       "            </tr>\n",
       "            <tr>\n",
       "                        <th id=\"T_e783f_level0_row39\" class=\"row_heading level0 row39\" >rougher.state.floatbank10_c_air</th>\n",
       "                        <td id=\"T_e783f_row39_col0\" class=\"data row39 col0\" >0.0</td>\n",
       "            </tr>\n",
       "            <tr>\n",
       "                        <th id=\"T_e783f_level0_row40\" class=\"row_heading level0 row40\" >rougher.state.floatbank10_c_level</th>\n",
       "                        <td id=\"T_e783f_row40_col0\" class=\"data row40 col0\" >0.0</td>\n",
       "            </tr>\n",
       "            <tr>\n",
       "                        <th id=\"T_e783f_level0_row41\" class=\"row_heading level0 row41\" >secondary_cleaner.state.floatbank5_b_level</th>\n",
       "                        <td id=\"T_e783f_row41_col0\" class=\"data row41 col0\" >0.0</td>\n",
       "            </tr>\n",
       "            <tr>\n",
       "                        <th id=\"T_e783f_level0_row42\" class=\"row_heading level0 row42\" >secondary_cleaner.state.floatbank5_b_air</th>\n",
       "                        <td id=\"T_e783f_row42_col0\" class=\"data row42 col0\" >0.0</td>\n",
       "            </tr>\n",
       "            <tr>\n",
       "                        <th id=\"T_e783f_level0_row43\" class=\"row_heading level0 row43\" >secondary_cleaner.state.floatbank5_a_level</th>\n",
       "                        <td id=\"T_e783f_row43_col0\" class=\"data row43 col0\" >0.0</td>\n",
       "            </tr>\n",
       "            <tr>\n",
       "                        <th id=\"T_e783f_level0_row44\" class=\"row_heading level0 row44\" >secondary_cleaner.state.floatbank4_b_level</th>\n",
       "                        <td id=\"T_e783f_row44_col0\" class=\"data row44 col0\" >0.0</td>\n",
       "            </tr>\n",
       "            <tr>\n",
       "                        <th id=\"T_e783f_level0_row45\" class=\"row_heading level0 row45\" >secondary_cleaner.state.floatbank4_b_air</th>\n",
       "                        <td id=\"T_e783f_row45_col0\" class=\"data row45 col0\" >0.0</td>\n",
       "            </tr>\n",
       "            <tr>\n",
       "                        <th id=\"T_e783f_level0_row46\" class=\"row_heading level0 row46\" >secondary_cleaner.state.floatbank4_a_level</th>\n",
       "                        <td id=\"T_e783f_row46_col0\" class=\"data row46 col0\" >0.0</td>\n",
       "            </tr>\n",
       "            <tr>\n",
       "                        <th id=\"T_e783f_level0_row47\" class=\"row_heading level0 row47\" >secondary_cleaner.state.floatbank3_b_level</th>\n",
       "                        <td id=\"T_e783f_row47_col0\" class=\"data row47 col0\" >0.0</td>\n",
       "            </tr>\n",
       "            <tr>\n",
       "                        <th id=\"T_e783f_level0_row48\" class=\"row_heading level0 row48\" >secondary_cleaner.state.floatbank2_a_level</th>\n",
       "                        <td id=\"T_e783f_row48_col0\" class=\"data row48 col0\" >0.0</td>\n",
       "            </tr>\n",
       "            <tr>\n",
       "                        <th id=\"T_e783f_level0_row49\" class=\"row_heading level0 row49\" >secondary_cleaner.state.floatbank3_b_air</th>\n",
       "                        <td id=\"T_e783f_row49_col0\" class=\"data row49 col0\" >0.0</td>\n",
       "            </tr>\n",
       "            <tr>\n",
       "                        <th id=\"T_e783f_level0_row50\" class=\"row_heading level0 row50\" >rougher.state.floatbank10_a_level</th>\n",
       "                        <td id=\"T_e783f_row50_col0\" class=\"data row50 col0\" >0.0</td>\n",
       "            </tr>\n",
       "            <tr>\n",
       "                        <th id=\"T_e783f_level0_row51\" class=\"row_heading level0 row51\" >secondary_cleaner.state.floatbank3_a_level</th>\n",
       "                        <td id=\"T_e783f_row51_col0\" class=\"data row51 col0\" >0.0</td>\n",
       "            </tr>\n",
       "            <tr>\n",
       "                        <th id=\"T_e783f_level0_row52\" class=\"row_heading level0 row52\" >rougher.state.floatbank10_b_air</th>\n",
       "                        <td id=\"T_e783f_row52_col0\" class=\"data row52 col0\" >0.0</td>\n",
       "            </tr>\n",
       "            <tr>\n",
       "                        <th id=\"T_e783f_level0_row53\" class=\"row_heading level0 row53\" >secondary_cleaner.state.floatbank6_a_level</th>\n",
       "                        <td id=\"T_e783f_row53_col0\" class=\"data row53 col0\" >0.0</td>\n",
       "            </tr>\n",
       "            <tr>\n",
       "                        <th id=\"T_e783f_level0_row54\" class=\"row_heading level0 row54\" >rougher.state.floatbank10_a_air</th>\n",
       "                        <td id=\"T_e783f_row54_col0\" class=\"data row54 col0\" >0.0</td>\n",
       "            </tr>\n",
       "            <tr>\n",
       "                        <th id=\"T_e783f_level0_row55\" class=\"row_heading level0 row55\" >final.output.tail_ag</th>\n",
       "                        <td id=\"T_e783f_row55_col0\" class=\"data row55 col0\" >0.0</td>\n",
       "            </tr>\n",
       "            <tr>\n",
       "                        <th id=\"T_e783f_level0_row56\" class=\"row_heading level0 row56\" >final.output.concentrate_ag</th>\n",
       "                        <td id=\"T_e783f_row56_col0\" class=\"data row56 col0\" >0.0</td>\n",
       "            </tr>\n",
       "            <tr>\n",
       "                        <th id=\"T_e783f_level0_row57\" class=\"row_heading level0 row57\" >primary_cleaner.state.floatbank8_c_level</th>\n",
       "                        <td id=\"T_e783f_row57_col0\" class=\"data row57 col0\" >0.0</td>\n",
       "            </tr>\n",
       "            <tr>\n",
       "                        <th id=\"T_e783f_level0_row58\" class=\"row_heading level0 row58\" >primary_cleaner.state.floatbank8_b_level</th>\n",
       "                        <td id=\"T_e783f_row58_col0\" class=\"data row58 col0\" >0.0</td>\n",
       "            </tr>\n",
       "            <tr>\n",
       "                        <th id=\"T_e783f_level0_row59\" class=\"row_heading level0 row59\" >primary_cleaner.state.floatbank8_a_level</th>\n",
       "                        <td id=\"T_e783f_row59_col0\" class=\"data row59 col0\" >0.0</td>\n",
       "            </tr>\n",
       "            <tr>\n",
       "                        <th id=\"T_e783f_level0_row60\" class=\"row_heading level0 row60\" >primary_cleaner.state.floatbank8_d_level</th>\n",
       "                        <td id=\"T_e783f_row60_col0\" class=\"data row60 col0\" >0.0</td>\n",
       "            </tr>\n",
       "            <tr>\n",
       "                        <th id=\"T_e783f_level0_row61\" class=\"row_heading level0 row61\" >rougher.output.tail_ag</th>\n",
       "                        <td id=\"T_e783f_row61_col0\" class=\"data row61 col0\" >0.0</td>\n",
       "            </tr>\n",
       "            <tr>\n",
       "                        <th id=\"T_e783f_level0_row62\" class=\"row_heading level0 row62\" >final.output.concentrate_pb</th>\n",
       "                        <td id=\"T_e783f_row62_col0\" class=\"data row62 col0\" >0.0</td>\n",
       "            </tr>\n",
       "            <tr>\n",
       "                        <th id=\"T_e783f_level0_row63\" class=\"row_heading level0 row63\" >final.output.tail_au</th>\n",
       "                        <td id=\"T_e783f_row63_col0\" class=\"data row63 col0\" >0.0</td>\n",
       "            </tr>\n",
       "            <tr>\n",
       "                        <th id=\"T_e783f_level0_row64\" class=\"row_heading level0 row64\" >rougher.calculation.au_pb_ratio</th>\n",
       "                        <td id=\"T_e783f_row64_col0\" class=\"data row64 col0\" >0.0</td>\n",
       "            </tr>\n",
       "            <tr>\n",
       "                        <th id=\"T_e783f_level0_row65\" class=\"row_heading level0 row65\" >primary_cleaner.output.concentrate_ag</th>\n",
       "                        <td id=\"T_e783f_row65_col0\" class=\"data row65 col0\" >0.0</td>\n",
       "            </tr>\n",
       "            <tr>\n",
       "                        <th id=\"T_e783f_level0_row66\" class=\"row_heading level0 row66\" >primary_cleaner.output.concentrate_au</th>\n",
       "                        <td id=\"T_e783f_row66_col0\" class=\"data row66 col0\" >0.0</td>\n",
       "            </tr>\n",
       "            <tr>\n",
       "                        <th id=\"T_e783f_level0_row67\" class=\"row_heading level0 row67\" >primary_cleaner.output.tail_au</th>\n",
       "                        <td id=\"T_e783f_row67_col0\" class=\"data row67 col0\" >0.0</td>\n",
       "            </tr>\n",
       "            <tr>\n",
       "                        <th id=\"T_e783f_level0_row68\" class=\"row_heading level0 row68\" >final.output.recovery</th>\n",
       "                        <td id=\"T_e783f_row68_col0\" class=\"data row68 col0\" >0.0</td>\n",
       "            </tr>\n",
       "            <tr>\n",
       "                        <th id=\"T_e783f_level0_row69\" class=\"row_heading level0 row69\" >final.output.concentrate_au</th>\n",
       "                        <td id=\"T_e783f_row69_col0\" class=\"data row69 col0\" >0.0</td>\n",
       "            </tr>\n",
       "            <tr>\n",
       "                        <th id=\"T_e783f_level0_row70\" class=\"row_heading level0 row70\" >primary_cleaner.input.feed_size</th>\n",
       "                        <td id=\"T_e783f_row70_col0\" class=\"data row70 col0\" >0.0</td>\n",
       "            </tr>\n",
       "            <tr>\n",
       "                        <th id=\"T_e783f_level0_row71\" class=\"row_heading level0 row71\" >rougher.input.feed_au</th>\n",
       "                        <td id=\"T_e783f_row71_col0\" class=\"data row71 col0\" >0.0</td>\n",
       "            </tr>\n",
       "            <tr>\n",
       "                        <th id=\"T_e783f_level0_row72\" class=\"row_heading level0 row72\" >rougher.input.feed_ag</th>\n",
       "                        <td id=\"T_e783f_row72_col0\" class=\"data row72 col0\" >0.0</td>\n",
       "            </tr>\n",
       "            <tr>\n",
       "                        <th id=\"T_e783f_level0_row73\" class=\"row_heading level0 row73\" >rougher.output.tail_au</th>\n",
       "                        <td id=\"T_e783f_row73_col0\" class=\"data row73 col0\" >0.0</td>\n",
       "            </tr>\n",
       "            <tr>\n",
       "                        <th id=\"T_e783f_level0_row74\" class=\"row_heading level0 row74\" >secondary_cleaner.output.tail_au</th>\n",
       "                        <td id=\"T_e783f_row74_col0\" class=\"data row74 col0\" >0.0</td>\n",
       "            </tr>\n",
       "            <tr>\n",
       "                        <th id=\"T_e783f_level0_row75\" class=\"row_heading level0 row75\" >rougher.output.concentrate_ag</th>\n",
       "                        <td id=\"T_e783f_row75_col0\" class=\"data row75 col0\" >0.0</td>\n",
       "            </tr>\n",
       "            <tr>\n",
       "                        <th id=\"T_e783f_level0_row76\" class=\"row_heading level0 row76\" >rougher.output.concentrate_pb</th>\n",
       "                        <td id=\"T_e783f_row76_col0\" class=\"data row76 col0\" >0.0</td>\n",
       "            </tr>\n",
       "            <tr>\n",
       "                        <th id=\"T_e783f_level0_row77\" class=\"row_heading level0 row77\" >rougher.output.concentrate_au</th>\n",
       "                        <td id=\"T_e783f_row77_col0\" class=\"data row77 col0\" >0.0</td>\n",
       "            </tr>\n",
       "            <tr>\n",
       "                        <th id=\"T_e783f_level0_row78\" class=\"row_heading level0 row78\" >rougher.state.floatbank10_f_level</th>\n",
       "                        <td id=\"T_e783f_row78_col0\" class=\"data row78 col0\" >0.0</td>\n",
       "            </tr>\n",
       "            <tr>\n",
       "                        <th id=\"T_e783f_level0_row79\" class=\"row_heading level0 row79\" >rougher.state.floatbank10_f_air</th>\n",
       "                        <td id=\"T_e783f_row79_col0\" class=\"data row79 col0\" >0.0</td>\n",
       "            </tr>\n",
       "            <tr>\n",
       "                        <th id=\"T_e783f_level0_row80\" class=\"row_heading level0 row80\" >rougher.state.floatbank10_e_level</th>\n",
       "                        <td id=\"T_e783f_row80_col0\" class=\"data row80 col0\" >0.0</td>\n",
       "            </tr>\n",
       "            <tr>\n",
       "                        <th id=\"T_e783f_level0_row81\" class=\"row_heading level0 row81\" >rougher.output.recovery</th>\n",
       "                        <td id=\"T_e783f_row81_col0\" class=\"data row81 col0\" >0.0</td>\n",
       "            </tr>\n",
       "            <tr>\n",
       "                        <th id=\"T_e783f_level0_row82\" class=\"row_heading level0 row82\" >rougher.state.floatbank10_d_level</th>\n",
       "                        <td id=\"T_e783f_row82_col0\" class=\"data row82 col0\" >0.0</td>\n",
       "            </tr>\n",
       "            <tr>\n",
       "                        <th id=\"T_e783f_level0_row83\" class=\"row_heading level0 row83\" >rougher.state.floatbank10_d_air</th>\n",
       "                        <td id=\"T_e783f_row83_col0\" class=\"data row83 col0\" >0.0</td>\n",
       "            </tr>\n",
       "            <tr>\n",
       "                        <th id=\"T_e783f_level0_row84\" class=\"row_heading level0 row84\" >rougher.output.tail_pb</th>\n",
       "                        <td id=\"T_e783f_row84_col0\" class=\"data row84 col0\" >0.0</td>\n",
       "            </tr>\n",
       "            <tr>\n",
       "                        <th id=\"T_e783f_level0_row85\" class=\"row_heading level0 row85\" >rougher.output.tail_sol</th>\n",
       "                        <td id=\"T_e783f_row85_col0\" class=\"data row85 col0\" >0.0</td>\n",
       "            </tr>\n",
       "            <tr>\n",
       "                        <th id=\"T_e783f_level0_row86\" class=\"row_heading level0 row86\" >date</th>\n",
       "                        <td id=\"T_e783f_row86_col0\" class=\"data row86 col0\" >0.0</td>\n",
       "            </tr>\n",
       "    </tbody></table>"
      ],
      "text/plain": [
       "<pandas.io.formats.style.Styler at 0x7f73eafef8b0>"
      ]
     },
     "execution_count": 14,
     "metadata": {},
     "output_type": "execute_result"
    }
   ],
   "source": [
    "# Создадим функцию для поиска пропусков.\n",
    "\n",
    "def isna_view (df):\n",
    "    return  (\n",
    "                (df.isna().mean()*100)\n",
    "                .sort_values(ascending=False)\n",
    "                .to_frame()\n",
    "                .rename(columns = {0:'percent_space'})\n",
    "                .style.background_gradient('coolwarm').format(\"{:.1f}\")\n",
    "            )\n",
    "\n",
    "isna_view (initial_data)"
   ]
  },
  {
   "cell_type": "code",
   "execution_count": 15,
   "metadata": {},
   "outputs": [
    {
     "data": {
      "text/html": [
       "<style  type=\"text/css\" >\n",
       "#T_dc114_row0_col0{\n",
       "            background-color:  #b40426;\n",
       "            color:  #f1f1f1;\n",
       "        }#T_dc114_row1_col0{\n",
       "            background-color:  #94b6ff;\n",
       "            color:  #000000;\n",
       "        }#T_dc114_row2_col0{\n",
       "            background-color:  #93b5fe;\n",
       "            color:  #000000;\n",
       "        }#T_dc114_row3_col0{\n",
       "            background-color:  #7396f5;\n",
       "            color:  #000000;\n",
       "        }#T_dc114_row4_col0{\n",
       "            background-color:  #6485ec;\n",
       "            color:  #000000;\n",
       "        }#T_dc114_row5_col0{\n",
       "            background-color:  #6384eb;\n",
       "            color:  #000000;\n",
       "        }#T_dc114_row6_col0{\n",
       "            background-color:  #5572df;\n",
       "            color:  #000000;\n",
       "        }#T_dc114_row7_col0,#T_dc114_row8_col0,#T_dc114_row9_col0{\n",
       "            background-color:  #4c66d6;\n",
       "            color:  #000000;\n",
       "        }#T_dc114_row10_col0{\n",
       "            background-color:  #4a63d3;\n",
       "            color:  #f1f1f1;\n",
       "        }#T_dc114_row11_col0{\n",
       "            background-color:  #4961d2;\n",
       "            color:  #f1f1f1;\n",
       "        }#T_dc114_row12_col0{\n",
       "            background-color:  #4358cb;\n",
       "            color:  #f1f1f1;\n",
       "        }#T_dc114_row13_col0,#T_dc114_row14_col0{\n",
       "            background-color:  #4055c8;\n",
       "            color:  #f1f1f1;\n",
       "        }#T_dc114_row15_col0{\n",
       "            background-color:  #3f53c6;\n",
       "            color:  #f1f1f1;\n",
       "        }#T_dc114_row16_col0,#T_dc114_row17_col0,#T_dc114_row18_col0{\n",
       "            background-color:  #3e51c5;\n",
       "            color:  #f1f1f1;\n",
       "        }#T_dc114_row19_col0{\n",
       "            background-color:  #3d50c3;\n",
       "            color:  #f1f1f1;\n",
       "        }#T_dc114_row20_col0,#T_dc114_row21_col0,#T_dc114_row22_col0{\n",
       "            background-color:  #3c4ec2;\n",
       "            color:  #f1f1f1;\n",
       "        }#T_dc114_row23_col0,#T_dc114_row24_col0,#T_dc114_row25_col0,#T_dc114_row26_col0,#T_dc114_row27_col0,#T_dc114_row28_col0,#T_dc114_row29_col0,#T_dc114_row30_col0,#T_dc114_row31_col0,#T_dc114_row32_col0,#T_dc114_row33_col0,#T_dc114_row34_col0,#T_dc114_row35_col0,#T_dc114_row36_col0,#T_dc114_row37_col0,#T_dc114_row38_col0,#T_dc114_row39_col0,#T_dc114_row40_col0,#T_dc114_row41_col0,#T_dc114_row42_col0,#T_dc114_row43_col0,#T_dc114_row44_col0,#T_dc114_row45_col0,#T_dc114_row46_col0,#T_dc114_row47_col0,#T_dc114_row48_col0,#T_dc114_row49_col0,#T_dc114_row50_col0,#T_dc114_row51_col0,#T_dc114_row52_col0,#T_dc114_row53_col0,#T_dc114_row54_col0,#T_dc114_row55_col0,#T_dc114_row56_col0,#T_dc114_row57_col0,#T_dc114_row58_col0,#T_dc114_row59_col0,#T_dc114_row60_col0,#T_dc114_row61_col0,#T_dc114_row62_col0,#T_dc114_row63_col0,#T_dc114_row64_col0,#T_dc114_row65_col0,#T_dc114_row66_col0,#T_dc114_row67_col0,#T_dc114_row68_col0,#T_dc114_row69_col0,#T_dc114_row70_col0,#T_dc114_row71_col0,#T_dc114_row72_col0,#T_dc114_row73_col0,#T_dc114_row74_col0,#T_dc114_row75_col0,#T_dc114_row76_col0,#T_dc114_row77_col0,#T_dc114_row78_col0,#T_dc114_row79_col0,#T_dc114_row80_col0,#T_dc114_row81_col0,#T_dc114_row82_col0,#T_dc114_row83_col0,#T_dc114_row84_col0,#T_dc114_row85_col0,#T_dc114_row86_col0{\n",
       "            background-color:  #3b4cc0;\n",
       "            color:  #f1f1f1;\n",
       "        }</style><table id=\"T_dc114_\" ><thead>    <tr>        <th class=\"blank level0\" ></th>        <th class=\"col_heading level0 col0\" >percent_space</th>    </tr></thead><tbody>\n",
       "                <tr>\n",
       "                        <th id=\"T_dc114_level0_row0\" class=\"row_heading level0 row0\" >secondary_cleaner.output.tail_sol</th>\n",
       "                        <td id=\"T_dc114_row0_col0\" class=\"data row0 col0\" >11.3</td>\n",
       "            </tr>\n",
       "            <tr>\n",
       "                        <th id=\"T_dc114_level0_row1\" class=\"row_heading level0 row1\" >rougher.state.floatbank10_e_air</th>\n",
       "                        <td id=\"T_dc114_row1_col0\" class=\"data row1 col0\" >3.1</td>\n",
       "            </tr>\n",
       "            <tr>\n",
       "                        <th id=\"T_dc114_level0_row2\" class=\"row_heading level0 row2\" >rougher.input.floatbank11_xanthate</th>\n",
       "                        <td id=\"T_dc114_row2_col0\" class=\"data row2 col0\" >3.0</td>\n",
       "            </tr>\n",
       "            <tr>\n",
       "                        <th id=\"T_dc114_level0_row3\" class=\"row_heading level0 row3\" >primary_cleaner.output.concentrate_sol</th>\n",
       "                        <td id=\"T_dc114_row3_col0\" class=\"data row3 col0\" >2.0</td>\n",
       "            </tr>\n",
       "            <tr>\n",
       "                        <th id=\"T_dc114_level0_row4\" class=\"row_heading level0 row4\" >secondary_cleaner.state.floatbank2_a_air</th>\n",
       "                        <td id=\"T_dc114_row4_col0\" class=\"data row4 col0\" >1.5</td>\n",
       "            </tr>\n",
       "            <tr>\n",
       "                        <th id=\"T_dc114_level0_row5\" class=\"row_heading level0 row5\" >final.output.concentrate_sol</th>\n",
       "                        <td id=\"T_dc114_row5_col0\" class=\"data row5 col0\" >1.5</td>\n",
       "            </tr>\n",
       "            <tr>\n",
       "                        <th id=\"T_dc114_level0_row6\" class=\"row_heading level0 row6\" >rougher.input.feed_size</th>\n",
       "                        <td id=\"T_dc114_row6_col0\" class=\"data row6 col0\" >1.0</td>\n",
       "            </tr>\n",
       "            <tr>\n",
       "                        <th id=\"T_dc114_level0_row7\" class=\"row_heading level0 row7\" >primary_cleaner.input.xanthate</th>\n",
       "                        <td id=\"T_dc114_row7_col0\" class=\"data row7 col0\" >0.7</td>\n",
       "            </tr>\n",
       "            <tr>\n",
       "                        <th id=\"T_dc114_level0_row8\" class=\"row_heading level0 row8\" >rougher.input.feed_pb</th>\n",
       "                        <td id=\"T_dc114_row8_col0\" class=\"data row8 col0\" >0.7</td>\n",
       "            </tr>\n",
       "            <tr>\n",
       "                        <th id=\"T_dc114_level0_row9\" class=\"row_heading level0 row9\" >final.output.tail_pb</th>\n",
       "                        <td id=\"T_dc114_row9_col0\" class=\"data row9 col0\" >0.7</td>\n",
       "            </tr>\n",
       "            <tr>\n",
       "                        <th id=\"T_dc114_level0_row10\" class=\"row_heading level0 row10\" >primary_cleaner.output.concentrate_pb</th>\n",
       "                        <td id=\"T_dc114_row10_col0\" class=\"data row10 col0\" >0.6</td>\n",
       "            </tr>\n",
       "            <tr>\n",
       "                        <th id=\"T_dc114_level0_row11\" class=\"row_heading level0 row11\" >rougher.input.feed_sol</th>\n",
       "                        <td id=\"T_dc114_row11_col0\" class=\"data row11 col0\" >0.6</td>\n",
       "            </tr>\n",
       "            <tr>\n",
       "                        <th id=\"T_dc114_level0_row12\" class=\"row_heading level0 row12\" >primary_cleaner.output.tail_sol</th>\n",
       "                        <td id=\"T_dc114_row12_col0\" class=\"data row12 col0\" >0.3</td>\n",
       "            </tr>\n",
       "            <tr>\n",
       "                        <th id=\"T_dc114_level0_row13\" class=\"row_heading level0 row13\" >rougher.input.floatbank11_sulfate</th>\n",
       "                        <td id=\"T_dc114_row13_col0\" class=\"data row13 col0\" >0.3</td>\n",
       "            </tr>\n",
       "            <tr>\n",
       "                        <th id=\"T_dc114_level0_row14\" class=\"row_heading level0 row14\" >primary_cleaner.input.depressant</th>\n",
       "                        <td id=\"T_dc114_row14_col0\" class=\"data row14 col0\" >0.2</td>\n",
       "            </tr>\n",
       "            <tr>\n",
       "                        <th id=\"T_dc114_level0_row15\" class=\"row_heading level0 row15\" >rougher.input.floatbank10_sulfate</th>\n",
       "                        <td id=\"T_dc114_row15_col0\" class=\"data row15 col0\" >0.2</td>\n",
       "            </tr>\n",
       "            <tr>\n",
       "                        <th id=\"T_dc114_level0_row16\" class=\"row_heading level0 row16\" >rougher.output.concentrate_sol</th>\n",
       "                        <td id=\"T_dc114_row16_col0\" class=\"data row16 col0\" >0.2</td>\n",
       "            </tr>\n",
       "            <tr>\n",
       "                        <th id=\"T_dc114_level0_row17\" class=\"row_heading level0 row17\" >secondary_cleaner.state.floatbank2_b_air</th>\n",
       "                        <td id=\"T_dc114_row17_col0\" class=\"data row17 col0\" >0.1</td>\n",
       "            </tr>\n",
       "            <tr>\n",
       "                        <th id=\"T_dc114_level0_row18\" class=\"row_heading level0 row18\" >primary_cleaner.input.sulfate</th>\n",
       "                        <td id=\"T_dc114_row18_col0\" class=\"data row18 col0\" >0.1</td>\n",
       "            </tr>\n",
       "            <tr>\n",
       "                        <th id=\"T_dc114_level0_row19\" class=\"row_heading level0 row19\" >primary_cleaner.output.tail_pb</th>\n",
       "                        <td id=\"T_dc114_row19_col0\" class=\"data row19 col0\" >0.1</td>\n",
       "            </tr>\n",
       "            <tr>\n",
       "                        <th id=\"T_dc114_level0_row20\" class=\"row_heading level0 row20\" >secondary_cleaner.output.tail_pb</th>\n",
       "                        <td id=\"T_dc114_row20_col0\" class=\"data row20 col0\" >0.1</td>\n",
       "            </tr>\n",
       "            <tr>\n",
       "                        <th id=\"T_dc114_level0_row21\" class=\"row_heading level0 row21\" >rougher.input.feed_rate</th>\n",
       "                        <td id=\"T_dc114_row21_col0\" class=\"data row21 col0\" >0.1</td>\n",
       "            </tr>\n",
       "            <tr>\n",
       "                        <th id=\"T_dc114_level0_row22\" class=\"row_heading level0 row22\" >rougher.input.floatbank10_xanthate</th>\n",
       "                        <td id=\"T_dc114_row22_col0\" class=\"data row22 col0\" >0.1</td>\n",
       "            </tr>\n",
       "            <tr>\n",
       "                        <th id=\"T_dc114_level0_row23\" class=\"row_heading level0 row23\" >secondary_cleaner.state.floatbank4_a_air</th>\n",
       "                        <td id=\"T_dc114_row23_col0\" class=\"data row23 col0\" >0.0</td>\n",
       "            </tr>\n",
       "            <tr>\n",
       "                        <th id=\"T_dc114_level0_row24\" class=\"row_heading level0 row24\" >final.output.tail_sol</th>\n",
       "                        <td id=\"T_dc114_row24_col0\" class=\"data row24 col0\" >0.0</td>\n",
       "            </tr>\n",
       "            <tr>\n",
       "                        <th id=\"T_dc114_level0_row25\" class=\"row_heading level0 row25\" >secondary_cleaner.state.floatbank3_a_air</th>\n",
       "                        <td id=\"T_dc114_row25_col0\" class=\"data row25 col0\" >0.0</td>\n",
       "            </tr>\n",
       "            <tr>\n",
       "                        <th id=\"T_dc114_level0_row26\" class=\"row_heading level0 row26\" >primary_cleaner.state.floatbank8_a_air</th>\n",
       "                        <td id=\"T_dc114_row26_col0\" class=\"data row26 col0\" >0.0</td>\n",
       "            </tr>\n",
       "            <tr>\n",
       "                        <th id=\"T_dc114_level0_row27\" class=\"row_heading level0 row27\" >primary_cleaner.state.floatbank8_b_air</th>\n",
       "                        <td id=\"T_dc114_row27_col0\" class=\"data row27 col0\" >0.0</td>\n",
       "            </tr>\n",
       "            <tr>\n",
       "                        <th id=\"T_dc114_level0_row28\" class=\"row_heading level0 row28\" >primary_cleaner.state.floatbank8_d_air</th>\n",
       "                        <td id=\"T_dc114_row28_col0\" class=\"data row28 col0\" >0.0</td>\n",
       "            </tr>\n",
       "            <tr>\n",
       "                        <th id=\"T_dc114_level0_row29\" class=\"row_heading level0 row29\" >primary_cleaner.state.floatbank8_c_air</th>\n",
       "                        <td id=\"T_dc114_row29_col0\" class=\"data row29 col0\" >0.0</td>\n",
       "            </tr>\n",
       "            <tr>\n",
       "                        <th id=\"T_dc114_level0_row30\" class=\"row_heading level0 row30\" >secondary_cleaner.output.tail_ag</th>\n",
       "                        <td id=\"T_dc114_row30_col0\" class=\"data row30 col0\" >0.0</td>\n",
       "            </tr>\n",
       "            <tr>\n",
       "                        <th id=\"T_dc114_level0_row31\" class=\"row_heading level0 row31\" >secondary_cleaner.state.floatbank6_a_air</th>\n",
       "                        <td id=\"T_dc114_row31_col0\" class=\"data row31 col0\" >0.0</td>\n",
       "            </tr>\n",
       "            <tr>\n",
       "                        <th id=\"T_dc114_level0_row32\" class=\"row_heading level0 row32\" >rougher.state.floatbank10_b_level</th>\n",
       "                        <td id=\"T_dc114_row32_col0\" class=\"data row32 col0\" >0.0</td>\n",
       "            </tr>\n",
       "            <tr>\n",
       "                        <th id=\"T_dc114_level0_row33\" class=\"row_heading level0 row33\" >rougher.state.floatbank10_b_air</th>\n",
       "                        <td id=\"T_dc114_row33_col0\" class=\"data row33 col0\" >0.0</td>\n",
       "            </tr>\n",
       "            <tr>\n",
       "                        <th id=\"T_dc114_level0_row34\" class=\"row_heading level0 row34\" >rougher.state.floatbank10_c_level</th>\n",
       "                        <td id=\"T_dc114_row34_col0\" class=\"data row34 col0\" >0.0</td>\n",
       "            </tr>\n",
       "            <tr>\n",
       "                        <th id=\"T_dc114_level0_row35\" class=\"row_heading level0 row35\" >rougher.state.floatbank10_c_air</th>\n",
       "                        <td id=\"T_dc114_row35_col0\" class=\"data row35 col0\" >0.0</td>\n",
       "            </tr>\n",
       "            <tr>\n",
       "                        <th id=\"T_dc114_level0_row36\" class=\"row_heading level0 row36\" >secondary_cleaner.state.floatbank3_a_level</th>\n",
       "                        <td id=\"T_dc114_row36_col0\" class=\"data row36 col0\" >0.0</td>\n",
       "            </tr>\n",
       "            <tr>\n",
       "                        <th id=\"T_dc114_level0_row37\" class=\"row_heading level0 row37\" >secondary_cleaner.state.floatbank2_a_level</th>\n",
       "                        <td id=\"T_dc114_row37_col0\" class=\"data row37 col0\" >0.0</td>\n",
       "            </tr>\n",
       "            <tr>\n",
       "                        <th id=\"T_dc114_level0_row38\" class=\"row_heading level0 row38\" >secondary_cleaner.state.floatbank2_b_level</th>\n",
       "                        <td id=\"T_dc114_row38_col0\" class=\"data row38 col0\" >0.0</td>\n",
       "            </tr>\n",
       "            <tr>\n",
       "                        <th id=\"T_dc114_level0_row39\" class=\"row_heading level0 row39\" >rougher.state.floatbank10_a_air</th>\n",
       "                        <td id=\"T_dc114_row39_col0\" class=\"data row39 col0\" >0.0</td>\n",
       "            </tr>\n",
       "            <tr>\n",
       "                        <th id=\"T_dc114_level0_row40\" class=\"row_heading level0 row40\" >secondary_cleaner.state.floatbank3_b_air</th>\n",
       "                        <td id=\"T_dc114_row40_col0\" class=\"data row40 col0\" >0.0</td>\n",
       "            </tr>\n",
       "            <tr>\n",
       "                        <th id=\"T_dc114_level0_row41\" class=\"row_heading level0 row41\" >secondary_cleaner.state.floatbank3_b_level</th>\n",
       "                        <td id=\"T_dc114_row41_col0\" class=\"data row41 col0\" >0.0</td>\n",
       "            </tr>\n",
       "            <tr>\n",
       "                        <th id=\"T_dc114_level0_row42\" class=\"row_heading level0 row42\" >secondary_cleaner.state.floatbank4_a_level</th>\n",
       "                        <td id=\"T_dc114_row42_col0\" class=\"data row42 col0\" >0.0</td>\n",
       "            </tr>\n",
       "            <tr>\n",
       "                        <th id=\"T_dc114_level0_row43\" class=\"row_heading level0 row43\" >secondary_cleaner.state.floatbank4_b_air</th>\n",
       "                        <td id=\"T_dc114_row43_col0\" class=\"data row43 col0\" >0.0</td>\n",
       "            </tr>\n",
       "            <tr>\n",
       "                        <th id=\"T_dc114_level0_row44\" class=\"row_heading level0 row44\" >secondary_cleaner.state.floatbank4_b_level</th>\n",
       "                        <td id=\"T_dc114_row44_col0\" class=\"data row44 col0\" >0.0</td>\n",
       "            </tr>\n",
       "            <tr>\n",
       "                        <th id=\"T_dc114_level0_row45\" class=\"row_heading level0 row45\" >secondary_cleaner.state.floatbank5_a_air</th>\n",
       "                        <td id=\"T_dc114_row45_col0\" class=\"data row45 col0\" >0.0</td>\n",
       "            </tr>\n",
       "            <tr>\n",
       "                        <th id=\"T_dc114_level0_row46\" class=\"row_heading level0 row46\" >secondary_cleaner.state.floatbank5_a_level</th>\n",
       "                        <td id=\"T_dc114_row46_col0\" class=\"data row46 col0\" >0.0</td>\n",
       "            </tr>\n",
       "            <tr>\n",
       "                        <th id=\"T_dc114_level0_row47\" class=\"row_heading level0 row47\" >secondary_cleaner.state.floatbank5_b_air</th>\n",
       "                        <td id=\"T_dc114_row47_col0\" class=\"data row47 col0\" >0.0</td>\n",
       "            </tr>\n",
       "            <tr>\n",
       "                        <th id=\"T_dc114_level0_row48\" class=\"row_heading level0 row48\" >secondary_cleaner.state.floatbank5_b_level</th>\n",
       "                        <td id=\"T_dc114_row48_col0\" class=\"data row48 col0\" >0.0</td>\n",
       "            </tr>\n",
       "            <tr>\n",
       "                        <th id=\"T_dc114_level0_row49\" class=\"row_heading level0 row49\" >rougher.state.floatbank10_a_level</th>\n",
       "                        <td id=\"T_dc114_row49_col0\" class=\"data row49 col0\" >0.0</td>\n",
       "            </tr>\n",
       "            <tr>\n",
       "                        <th id=\"T_dc114_level0_row50\" class=\"row_heading level0 row50\" >secondary_cleaner.state.floatbank6_a_level</th>\n",
       "                        <td id=\"T_dc114_row50_col0\" class=\"data row50 col0\" >0.0</td>\n",
       "            </tr>\n",
       "            <tr>\n",
       "                        <th id=\"T_dc114_level0_row51\" class=\"row_heading level0 row51\" >rougher.calculation.floatbank11_sulfate_to_au_feed</th>\n",
       "                        <td id=\"T_dc114_row51_col0\" class=\"data row51 col0\" >0.0</td>\n",
       "            </tr>\n",
       "            <tr>\n",
       "                        <th id=\"T_dc114_level0_row52\" class=\"row_heading level0 row52\" >rougher.calculation.floatbank10_sulfate_to_au_feed</th>\n",
       "                        <td id=\"T_dc114_row52_col0\" class=\"data row52 col0\" >0.0</td>\n",
       "            </tr>\n",
       "            <tr>\n",
       "                        <th id=\"T_dc114_level0_row53\" class=\"row_heading level0 row53\" >primary_cleaner.state.floatbank8_d_level</th>\n",
       "                        <td id=\"T_dc114_row53_col0\" class=\"data row53 col0\" >0.0</td>\n",
       "            </tr>\n",
       "            <tr>\n",
       "                        <th id=\"T_dc114_level0_row54\" class=\"row_heading level0 row54\" >primary_cleaner.state.floatbank8_c_level</th>\n",
       "                        <td id=\"T_dc114_row54_col0\" class=\"data row54 col0\" >0.0</td>\n",
       "            </tr>\n",
       "            <tr>\n",
       "                        <th id=\"T_dc114_level0_row55\" class=\"row_heading level0 row55\" >primary_cleaner.state.floatbank8_b_level</th>\n",
       "                        <td id=\"T_dc114_row55_col0\" class=\"data row55 col0\" >0.0</td>\n",
       "            </tr>\n",
       "            <tr>\n",
       "                        <th id=\"T_dc114_level0_row56\" class=\"row_heading level0 row56\" >primary_cleaner.state.floatbank8_a_level</th>\n",
       "                        <td id=\"T_dc114_row56_col0\" class=\"data row56 col0\" >0.0</td>\n",
       "            </tr>\n",
       "            <tr>\n",
       "                        <th id=\"T_dc114_level0_row57\" class=\"row_heading level0 row57\" >primary_cleaner.output.tail_ag</th>\n",
       "                        <td id=\"T_dc114_row57_col0\" class=\"data row57 col0\" >0.0</td>\n",
       "            </tr>\n",
       "            <tr>\n",
       "                        <th id=\"T_dc114_level0_row58\" class=\"row_heading level0 row58\" >final.output.concentrate_ag</th>\n",
       "                        <td id=\"T_dc114_row58_col0\" class=\"data row58 col0\" >0.0</td>\n",
       "            </tr>\n",
       "            <tr>\n",
       "                        <th id=\"T_dc114_level0_row59\" class=\"row_heading level0 row59\" >rougher.calculation.sulfate_to_au_concentrate</th>\n",
       "                        <td id=\"T_dc114_row59_col0\" class=\"data row59 col0\" >0.0</td>\n",
       "            </tr>\n",
       "            <tr>\n",
       "                        <th id=\"T_dc114_level0_row60\" class=\"row_heading level0 row60\" >rougher.output.tail_ag</th>\n",
       "                        <td id=\"T_dc114_row60_col0\" class=\"data row60 col0\" >0.0</td>\n",
       "            </tr>\n",
       "            <tr>\n",
       "                        <th id=\"T_dc114_level0_row61\" class=\"row_heading level0 row61\" >final.output.concentrate_pb</th>\n",
       "                        <td id=\"T_dc114_row61_col0\" class=\"data row61 col0\" >0.0</td>\n",
       "            </tr>\n",
       "            <tr>\n",
       "                        <th id=\"T_dc114_level0_row62\" class=\"row_heading level0 row62\" >primary_cleaner.input.feed_size</th>\n",
       "                        <td id=\"T_dc114_row62_col0\" class=\"data row62 col0\" >0.0</td>\n",
       "            </tr>\n",
       "            <tr>\n",
       "                        <th id=\"T_dc114_level0_row63\" class=\"row_heading level0 row63\" >final.output.tail_au</th>\n",
       "                        <td id=\"T_dc114_row63_col0\" class=\"data row63 col0\" >0.0</td>\n",
       "            </tr>\n",
       "            <tr>\n",
       "                        <th id=\"T_dc114_level0_row64\" class=\"row_heading level0 row64\" >primary_cleaner.output.concentrate_au</th>\n",
       "                        <td id=\"T_dc114_row64_col0\" class=\"data row64 col0\" >0.0</td>\n",
       "            </tr>\n",
       "            <tr>\n",
       "                        <th id=\"T_dc114_level0_row65\" class=\"row_heading level0 row65\" >final.output.tail_ag</th>\n",
       "                        <td id=\"T_dc114_row65_col0\" class=\"data row65 col0\" >0.0</td>\n",
       "            </tr>\n",
       "            <tr>\n",
       "                        <th id=\"T_dc114_level0_row66\" class=\"row_heading level0 row66\" >primary_cleaner.output.tail_au</th>\n",
       "                        <td id=\"T_dc114_row66_col0\" class=\"data row66 col0\" >0.0</td>\n",
       "            </tr>\n",
       "            <tr>\n",
       "                        <th id=\"T_dc114_level0_row67\" class=\"row_heading level0 row67\" >final.output.recovery</th>\n",
       "                        <td id=\"T_dc114_row67_col0\" class=\"data row67 col0\" >0.0</td>\n",
       "            </tr>\n",
       "            <tr>\n",
       "                        <th id=\"T_dc114_level0_row68\" class=\"row_heading level0 row68\" >final.output.concentrate_au</th>\n",
       "                        <td id=\"T_dc114_row68_col0\" class=\"data row68 col0\" >0.0</td>\n",
       "            </tr>\n",
       "            <tr>\n",
       "                        <th id=\"T_dc114_level0_row69\" class=\"row_heading level0 row69\" >primary_cleaner.output.concentrate_ag</th>\n",
       "                        <td id=\"T_dc114_row69_col0\" class=\"data row69 col0\" >0.0</td>\n",
       "            </tr>\n",
       "            <tr>\n",
       "                        <th id=\"T_dc114_level0_row70\" class=\"row_heading level0 row70\" >rougher.output.tail_sol</th>\n",
       "                        <td id=\"T_dc114_row70_col0\" class=\"data row70 col0\" >0.0</td>\n",
       "            </tr>\n",
       "            <tr>\n",
       "                        <th id=\"T_dc114_level0_row71\" class=\"row_heading level0 row71\" >rougher.output.tail_au</th>\n",
       "                        <td id=\"T_dc114_row71_col0\" class=\"data row71 col0\" >0.0</td>\n",
       "            </tr>\n",
       "            <tr>\n",
       "                        <th id=\"T_dc114_level0_row72\" class=\"row_heading level0 row72\" >secondary_cleaner.output.tail_au</th>\n",
       "                        <td id=\"T_dc114_row72_col0\" class=\"data row72 col0\" >0.0</td>\n",
       "            </tr>\n",
       "            <tr>\n",
       "                        <th id=\"T_dc114_level0_row73\" class=\"row_heading level0 row73\" >rougher.calculation.au_pb_ratio</th>\n",
       "                        <td id=\"T_dc114_row73_col0\" class=\"data row73 col0\" >0.0</td>\n",
       "            </tr>\n",
       "            <tr>\n",
       "                        <th id=\"T_dc114_level0_row74\" class=\"row_heading level0 row74\" >rougher.input.feed_ag</th>\n",
       "                        <td id=\"T_dc114_row74_col0\" class=\"data row74 col0\" >0.0</td>\n",
       "            </tr>\n",
       "            <tr>\n",
       "                        <th id=\"T_dc114_level0_row75\" class=\"row_heading level0 row75\" >rougher.input.feed_au</th>\n",
       "                        <td id=\"T_dc114_row75_col0\" class=\"data row75 col0\" >0.0</td>\n",
       "            </tr>\n",
       "            <tr>\n",
       "                        <th id=\"T_dc114_level0_row76\" class=\"row_heading level0 row76\" >rougher.state.floatbank10_f_level</th>\n",
       "                        <td id=\"T_dc114_row76_col0\" class=\"data row76 col0\" >0.0</td>\n",
       "            </tr>\n",
       "            <tr>\n",
       "                        <th id=\"T_dc114_level0_row77\" class=\"row_heading level0 row77\" >rougher.state.floatbank10_f_air</th>\n",
       "                        <td id=\"T_dc114_row77_col0\" class=\"data row77 col0\" >0.0</td>\n",
       "            </tr>\n",
       "            <tr>\n",
       "                        <th id=\"T_dc114_level0_row78\" class=\"row_heading level0 row78\" >rougher.state.floatbank10_e_level</th>\n",
       "                        <td id=\"T_dc114_row78_col0\" class=\"data row78 col0\" >0.0</td>\n",
       "            </tr>\n",
       "            <tr>\n",
       "                        <th id=\"T_dc114_level0_row79\" class=\"row_heading level0 row79\" >rougher.state.floatbank10_d_level</th>\n",
       "                        <td id=\"T_dc114_row79_col0\" class=\"data row79 col0\" >0.0</td>\n",
       "            </tr>\n",
       "            <tr>\n",
       "                        <th id=\"T_dc114_level0_row80\" class=\"row_heading level0 row80\" >rougher.state.floatbank10_d_air</th>\n",
       "                        <td id=\"T_dc114_row80_col0\" class=\"data row80 col0\" >0.0</td>\n",
       "            </tr>\n",
       "            <tr>\n",
       "                        <th id=\"T_dc114_level0_row81\" class=\"row_heading level0 row81\" >rougher.output.concentrate_ag</th>\n",
       "                        <td id=\"T_dc114_row81_col0\" class=\"data row81 col0\" >0.0</td>\n",
       "            </tr>\n",
       "            <tr>\n",
       "                        <th id=\"T_dc114_level0_row82\" class=\"row_heading level0 row82\" >rougher.output.concentrate_pb</th>\n",
       "                        <td id=\"T_dc114_row82_col0\" class=\"data row82 col0\" >0.0</td>\n",
       "            </tr>\n",
       "            <tr>\n",
       "                        <th id=\"T_dc114_level0_row83\" class=\"row_heading level0 row83\" >rougher.output.concentrate_au</th>\n",
       "                        <td id=\"T_dc114_row83_col0\" class=\"data row83 col0\" >0.0</td>\n",
       "            </tr>\n",
       "            <tr>\n",
       "                        <th id=\"T_dc114_level0_row84\" class=\"row_heading level0 row84\" >rougher.output.recovery</th>\n",
       "                        <td id=\"T_dc114_row84_col0\" class=\"data row84 col0\" >0.0</td>\n",
       "            </tr>\n",
       "            <tr>\n",
       "                        <th id=\"T_dc114_level0_row85\" class=\"row_heading level0 row85\" >rougher.output.tail_pb</th>\n",
       "                        <td id=\"T_dc114_row85_col0\" class=\"data row85 col0\" >0.0</td>\n",
       "            </tr>\n",
       "            <tr>\n",
       "                        <th id=\"T_dc114_level0_row86\" class=\"row_heading level0 row86\" >date</th>\n",
       "                        <td id=\"T_dc114_row86_col0\" class=\"data row86 col0\" >0.0</td>\n",
       "            </tr>\n",
       "    </tbody></table>"
      ],
      "text/plain": [
       "<pandas.io.formats.style.Styler at 0x7f73eaff3e80>"
      ]
     },
     "execution_count": 15,
     "metadata": {},
     "output_type": "execute_result"
    }
   ],
   "source": [
    "isna_view (training_data)"
   ]
  },
  {
   "cell_type": "code",
   "execution_count": 16,
   "metadata": {},
   "outputs": [
    {
     "data": {
      "text/html": [
       "<style  type=\"text/css\" >\n",
       "#T_4855d_row0_col0{\n",
       "            background-color:  #b40426;\n",
       "            color:  #f1f1f1;\n",
       "        }#T_4855d_row1_col0{\n",
       "            background-color:  #e57058;\n",
       "            color:  #000000;\n",
       "        }#T_4855d_row2_col0{\n",
       "            background-color:  #b3cdfb;\n",
       "            color:  #000000;\n",
       "        }#T_4855d_row3_col0{\n",
       "            background-color:  #a5c3fe;\n",
       "            color:  #000000;\n",
       "        }#T_4855d_row4_col0,#T_4855d_row5_col0{\n",
       "            background-color:  #7b9ff9;\n",
       "            color:  #000000;\n",
       "        }#T_4855d_row6_col0,#T_4855d_row7_col0{\n",
       "            background-color:  #6c8ff1;\n",
       "            color:  #000000;\n",
       "        }#T_4855d_row8_col0,#T_4855d_row9_col0{\n",
       "            background-color:  #5f7fe8;\n",
       "            color:  #000000;\n",
       "        }#T_4855d_row10_col0{\n",
       "            background-color:  #536edd;\n",
       "            color:  #000000;\n",
       "        }#T_4855d_row11_col0{\n",
       "            background-color:  #465ecf;\n",
       "            color:  #f1f1f1;\n",
       "        }#T_4855d_row12_col0,#T_4855d_row13_col0,#T_4855d_row14_col0,#T_4855d_row15_col0,#T_4855d_row16_col0,#T_4855d_row17_col0,#T_4855d_row18_col0,#T_4855d_row19_col0,#T_4855d_row20_col0,#T_4855d_row21_col0,#T_4855d_row22_col0,#T_4855d_row23_col0,#T_4855d_row24_col0,#T_4855d_row25_col0,#T_4855d_row26_col0,#T_4855d_row27_col0,#T_4855d_row28_col0,#T_4855d_row29_col0,#T_4855d_row30_col0,#T_4855d_row31_col0,#T_4855d_row32_col0,#T_4855d_row33_col0,#T_4855d_row34_col0,#T_4855d_row35_col0,#T_4855d_row36_col0,#T_4855d_row37_col0,#T_4855d_row38_col0,#T_4855d_row39_col0,#T_4855d_row40_col0,#T_4855d_row41_col0,#T_4855d_row42_col0,#T_4855d_row43_col0,#T_4855d_row44_col0,#T_4855d_row45_col0,#T_4855d_row46_col0,#T_4855d_row47_col0,#T_4855d_row48_col0,#T_4855d_row49_col0,#T_4855d_row50_col0,#T_4855d_row51_col0,#T_4855d_row52_col0{\n",
       "            background-color:  #3b4cc0;\n",
       "            color:  #f1f1f1;\n",
       "        }</style><table id=\"T_4855d_\" ><thead>    <tr>        <th class=\"blank level0\" ></th>        <th class=\"col_heading level0 col0\" >percent_space</th>    </tr></thead><tbody>\n",
       "                <tr>\n",
       "                        <th id=\"T_4855d_level0_row0\" class=\"row_heading level0 row0\" >rougher.input.floatbank11_xanthate</th>\n",
       "                        <td id=\"T_4855d_row0_col0\" class=\"data row0 col0\" >0.5</td>\n",
       "            </tr>\n",
       "            <tr>\n",
       "                        <th id=\"T_4855d_level0_row1\" class=\"row_heading level0 row1\" >rougher.input.feed_sol</th>\n",
       "                        <td id=\"T_4855d_row1_col0\" class=\"data row1 col0\" >0.4</td>\n",
       "            </tr>\n",
       "            <tr>\n",
       "                        <th id=\"T_4855d_level0_row2\" class=\"row_heading level0 row2\" >secondary_cleaner.state.floatbank3_a_air</th>\n",
       "                        <td id=\"T_4855d_row2_col0\" class=\"data row2 col0\" >0.2</td>\n",
       "            </tr>\n",
       "            <tr>\n",
       "                        <th id=\"T_4855d_level0_row3\" class=\"row_heading level0 row3\" >rougher.input.floatbank11_sulfate</th>\n",
       "                        <td id=\"T_4855d_row3_col0\" class=\"data row3 col0\" >0.2</td>\n",
       "            </tr>\n",
       "            <tr>\n",
       "                        <th id=\"T_4855d_level0_row4\" class=\"row_heading level0 row4\" >primary_cleaner.input.depressant</th>\n",
       "                        <td id=\"T_4855d_row4_col0\" class=\"data row4 col0\" >0.1</td>\n",
       "            </tr>\n",
       "            <tr>\n",
       "                        <th id=\"T_4855d_level0_row5\" class=\"row_heading level0 row5\" >rougher.input.floatbank10_sulfate</th>\n",
       "                        <td id=\"T_4855d_row5_col0\" class=\"data row5 col0\" >0.1</td>\n",
       "            </tr>\n",
       "            <tr>\n",
       "                        <th id=\"T_4855d_level0_row6\" class=\"row_heading level0 row6\" >primary_cleaner.input.xanthate</th>\n",
       "                        <td id=\"T_4855d_row6_col0\" class=\"data row6 col0\" >0.1</td>\n",
       "            </tr>\n",
       "            <tr>\n",
       "                        <th id=\"T_4855d_level0_row7\" class=\"row_heading level0 row7\" >primary_cleaner.input.sulfate</th>\n",
       "                        <td id=\"T_4855d_row7_col0\" class=\"data row7 col0\" >0.1</td>\n",
       "            </tr>\n",
       "            <tr>\n",
       "                        <th id=\"T_4855d_level0_row8\" class=\"row_heading level0 row8\" >rougher.input.feed_rate</th>\n",
       "                        <td id=\"T_4855d_row8_col0\" class=\"data row8 col0\" >0.1</td>\n",
       "            </tr>\n",
       "            <tr>\n",
       "                        <th id=\"T_4855d_level0_row9\" class=\"row_heading level0 row9\" >secondary_cleaner.state.floatbank2_a_air</th>\n",
       "                        <td id=\"T_4855d_row9_col0\" class=\"data row9 col0\" >0.1</td>\n",
       "            </tr>\n",
       "            <tr>\n",
       "                        <th id=\"T_4855d_level0_row10\" class=\"row_heading level0 row10\" >secondary_cleaner.state.floatbank2_b_air</th>\n",
       "                        <td id=\"T_4855d_row10_col0\" class=\"data row10 col0\" >0.0</td>\n",
       "            </tr>\n",
       "            <tr>\n",
       "                        <th id=\"T_4855d_level0_row11\" class=\"row_heading level0 row11\" >rougher.input.feed_size</th>\n",
       "                        <td id=\"T_4855d_row11_col0\" class=\"data row11 col0\" >0.0</td>\n",
       "            </tr>\n",
       "            <tr>\n",
       "                        <th id=\"T_4855d_level0_row12\" class=\"row_heading level0 row12\" >secondary_cleaner.state.floatbank2_b_level</th>\n",
       "                        <td id=\"T_4855d_row12_col0\" class=\"data row12 col0\" >0.0</td>\n",
       "            </tr>\n",
       "            <tr>\n",
       "                        <th id=\"T_4855d_level0_row13\" class=\"row_heading level0 row13\" >rougher.state.floatbank10_f_level</th>\n",
       "                        <td id=\"T_4855d_row13_col0\" class=\"data row13 col0\" >0.0</td>\n",
       "            </tr>\n",
       "            <tr>\n",
       "                        <th id=\"T_4855d_level0_row14\" class=\"row_heading level0 row14\" >rougher.state.floatbank10_f_air</th>\n",
       "                        <td id=\"T_4855d_row14_col0\" class=\"data row14 col0\" >0.0</td>\n",
       "            </tr>\n",
       "            <tr>\n",
       "                        <th id=\"T_4855d_level0_row15\" class=\"row_heading level0 row15\" >secondary_cleaner.state.floatbank3_a_level</th>\n",
       "                        <td id=\"T_4855d_row15_col0\" class=\"data row15 col0\" >0.0</td>\n",
       "            </tr>\n",
       "            <tr>\n",
       "                        <th id=\"T_4855d_level0_row16\" class=\"row_heading level0 row16\" >secondary_cleaner.state.floatbank2_a_level</th>\n",
       "                        <td id=\"T_4855d_row16_col0\" class=\"data row16 col0\" >0.0</td>\n",
       "            </tr>\n",
       "            <tr>\n",
       "                        <th id=\"T_4855d_level0_row17\" class=\"row_heading level0 row17\" >date</th>\n",
       "                        <td id=\"T_4855d_row17_col0\" class=\"data row17 col0\" >0.0</td>\n",
       "            </tr>\n",
       "            <tr>\n",
       "                        <th id=\"T_4855d_level0_row18\" class=\"row_heading level0 row18\" >rougher.state.floatbank10_e_air</th>\n",
       "                        <td id=\"T_4855d_row18_col0\" class=\"data row18 col0\" >0.0</td>\n",
       "            </tr>\n",
       "            <tr>\n",
       "                        <th id=\"T_4855d_level0_row19\" class=\"row_heading level0 row19\" >secondary_cleaner.state.floatbank3_b_air</th>\n",
       "                        <td id=\"T_4855d_row19_col0\" class=\"data row19 col0\" >0.0</td>\n",
       "            </tr>\n",
       "            <tr>\n",
       "                        <th id=\"T_4855d_level0_row20\" class=\"row_heading level0 row20\" >secondary_cleaner.state.floatbank3_b_level</th>\n",
       "                        <td id=\"T_4855d_row20_col0\" class=\"data row20 col0\" >0.0</td>\n",
       "            </tr>\n",
       "            <tr>\n",
       "                        <th id=\"T_4855d_level0_row21\" class=\"row_heading level0 row21\" >secondary_cleaner.state.floatbank4_a_air</th>\n",
       "                        <td id=\"T_4855d_row21_col0\" class=\"data row21 col0\" >0.0</td>\n",
       "            </tr>\n",
       "            <tr>\n",
       "                        <th id=\"T_4855d_level0_row22\" class=\"row_heading level0 row22\" >secondary_cleaner.state.floatbank4_a_level</th>\n",
       "                        <td id=\"T_4855d_row22_col0\" class=\"data row22 col0\" >0.0</td>\n",
       "            </tr>\n",
       "            <tr>\n",
       "                        <th id=\"T_4855d_level0_row23\" class=\"row_heading level0 row23\" >secondary_cleaner.state.floatbank4_b_air</th>\n",
       "                        <td id=\"T_4855d_row23_col0\" class=\"data row23 col0\" >0.0</td>\n",
       "            </tr>\n",
       "            <tr>\n",
       "                        <th id=\"T_4855d_level0_row24\" class=\"row_heading level0 row24\" >secondary_cleaner.state.floatbank4_b_level</th>\n",
       "                        <td id=\"T_4855d_row24_col0\" class=\"data row24 col0\" >0.0</td>\n",
       "            </tr>\n",
       "            <tr>\n",
       "                        <th id=\"T_4855d_level0_row25\" class=\"row_heading level0 row25\" >secondary_cleaner.state.floatbank5_a_air</th>\n",
       "                        <td id=\"T_4855d_row25_col0\" class=\"data row25 col0\" >0.0</td>\n",
       "            </tr>\n",
       "            <tr>\n",
       "                        <th id=\"T_4855d_level0_row26\" class=\"row_heading level0 row26\" >secondary_cleaner.state.floatbank5_a_level</th>\n",
       "                        <td id=\"T_4855d_row26_col0\" class=\"data row26 col0\" >0.0</td>\n",
       "            </tr>\n",
       "            <tr>\n",
       "                        <th id=\"T_4855d_level0_row27\" class=\"row_heading level0 row27\" >secondary_cleaner.state.floatbank5_b_air</th>\n",
       "                        <td id=\"T_4855d_row27_col0\" class=\"data row27 col0\" >0.0</td>\n",
       "            </tr>\n",
       "            <tr>\n",
       "                        <th id=\"T_4855d_level0_row28\" class=\"row_heading level0 row28\" >secondary_cleaner.state.floatbank5_b_level</th>\n",
       "                        <td id=\"T_4855d_row28_col0\" class=\"data row28 col0\" >0.0</td>\n",
       "            </tr>\n",
       "            <tr>\n",
       "                        <th id=\"T_4855d_level0_row29\" class=\"row_heading level0 row29\" >secondary_cleaner.state.floatbank6_a_air</th>\n",
       "                        <td id=\"T_4855d_row29_col0\" class=\"data row29 col0\" >0.0</td>\n",
       "            </tr>\n",
       "            <tr>\n",
       "                        <th id=\"T_4855d_level0_row30\" class=\"row_heading level0 row30\" >rougher.state.floatbank10_e_level</th>\n",
       "                        <td id=\"T_4855d_row30_col0\" class=\"data row30 col0\" >0.0</td>\n",
       "            </tr>\n",
       "            <tr>\n",
       "                        <th id=\"T_4855d_level0_row31\" class=\"row_heading level0 row31\" >rougher.state.floatbank10_b_level</th>\n",
       "                        <td id=\"T_4855d_row31_col0\" class=\"data row31 col0\" >0.0</td>\n",
       "            </tr>\n",
       "            <tr>\n",
       "                        <th id=\"T_4855d_level0_row32\" class=\"row_heading level0 row32\" >rougher.state.floatbank10_d_level</th>\n",
       "                        <td id=\"T_4855d_row32_col0\" class=\"data row32 col0\" >0.0</td>\n",
       "            </tr>\n",
       "            <tr>\n",
       "                        <th id=\"T_4855d_level0_row33\" class=\"row_heading level0 row33\" >primary_cleaner.state.floatbank8_d_level</th>\n",
       "                        <td id=\"T_4855d_row33_col0\" class=\"data row33 col0\" >0.0</td>\n",
       "            </tr>\n",
       "            <tr>\n",
       "                        <th id=\"T_4855d_level0_row34\" class=\"row_heading level0 row34\" >primary_cleaner.input.feed_size</th>\n",
       "                        <td id=\"T_4855d_row34_col0\" class=\"data row34 col0\" >0.0</td>\n",
       "            </tr>\n",
       "            <tr>\n",
       "                        <th id=\"T_4855d_level0_row35\" class=\"row_heading level0 row35\" >primary_cleaner.state.floatbank8_a_air</th>\n",
       "                        <td id=\"T_4855d_row35_col0\" class=\"data row35 col0\" >0.0</td>\n",
       "            </tr>\n",
       "            <tr>\n",
       "                        <th id=\"T_4855d_level0_row36\" class=\"row_heading level0 row36\" >primary_cleaner.state.floatbank8_a_level</th>\n",
       "                        <td id=\"T_4855d_row36_col0\" class=\"data row36 col0\" >0.0</td>\n",
       "            </tr>\n",
       "            <tr>\n",
       "                        <th id=\"T_4855d_level0_row37\" class=\"row_heading level0 row37\" >primary_cleaner.state.floatbank8_b_air</th>\n",
       "                        <td id=\"T_4855d_row37_col0\" class=\"data row37 col0\" >0.0</td>\n",
       "            </tr>\n",
       "            <tr>\n",
       "                        <th id=\"T_4855d_level0_row38\" class=\"row_heading level0 row38\" >primary_cleaner.state.floatbank8_b_level</th>\n",
       "                        <td id=\"T_4855d_row38_col0\" class=\"data row38 col0\" >0.0</td>\n",
       "            </tr>\n",
       "            <tr>\n",
       "                        <th id=\"T_4855d_level0_row39\" class=\"row_heading level0 row39\" >primary_cleaner.state.floatbank8_c_air</th>\n",
       "                        <td id=\"T_4855d_row39_col0\" class=\"data row39 col0\" >0.0</td>\n",
       "            </tr>\n",
       "            <tr>\n",
       "                        <th id=\"T_4855d_level0_row40\" class=\"row_heading level0 row40\" >primary_cleaner.state.floatbank8_c_level</th>\n",
       "                        <td id=\"T_4855d_row40_col0\" class=\"data row40 col0\" >0.0</td>\n",
       "            </tr>\n",
       "            <tr>\n",
       "                        <th id=\"T_4855d_level0_row41\" class=\"row_heading level0 row41\" >primary_cleaner.state.floatbank8_d_air</th>\n",
       "                        <td id=\"T_4855d_row41_col0\" class=\"data row41 col0\" >0.0</td>\n",
       "            </tr>\n",
       "            <tr>\n",
       "                        <th id=\"T_4855d_level0_row42\" class=\"row_heading level0 row42\" >rougher.input.feed_ag</th>\n",
       "                        <td id=\"T_4855d_row42_col0\" class=\"data row42 col0\" >0.0</td>\n",
       "            </tr>\n",
       "            <tr>\n",
       "                        <th id=\"T_4855d_level0_row43\" class=\"row_heading level0 row43\" >rougher.state.floatbank10_d_air</th>\n",
       "                        <td id=\"T_4855d_row43_col0\" class=\"data row43 col0\" >0.0</td>\n",
       "            </tr>\n",
       "            <tr>\n",
       "                        <th id=\"T_4855d_level0_row44\" class=\"row_heading level0 row44\" >rougher.input.feed_pb</th>\n",
       "                        <td id=\"T_4855d_row44_col0\" class=\"data row44 col0\" >0.0</td>\n",
       "            </tr>\n",
       "            <tr>\n",
       "                        <th id=\"T_4855d_level0_row45\" class=\"row_heading level0 row45\" >rougher.input.feed_au</th>\n",
       "                        <td id=\"T_4855d_row45_col0\" class=\"data row45 col0\" >0.0</td>\n",
       "            </tr>\n",
       "            <tr>\n",
       "                        <th id=\"T_4855d_level0_row46\" class=\"row_heading level0 row46\" >rougher.input.floatbank10_xanthate</th>\n",
       "                        <td id=\"T_4855d_row46_col0\" class=\"data row46 col0\" >0.0</td>\n",
       "            </tr>\n",
       "            <tr>\n",
       "                        <th id=\"T_4855d_level0_row47\" class=\"row_heading level0 row47\" >rougher.state.floatbank10_a_air</th>\n",
       "                        <td id=\"T_4855d_row47_col0\" class=\"data row47 col0\" >0.0</td>\n",
       "            </tr>\n",
       "            <tr>\n",
       "                        <th id=\"T_4855d_level0_row48\" class=\"row_heading level0 row48\" >rougher.state.floatbank10_a_level</th>\n",
       "                        <td id=\"T_4855d_row48_col0\" class=\"data row48 col0\" >0.0</td>\n",
       "            </tr>\n",
       "            <tr>\n",
       "                        <th id=\"T_4855d_level0_row49\" class=\"row_heading level0 row49\" >rougher.state.floatbank10_b_air</th>\n",
       "                        <td id=\"T_4855d_row49_col0\" class=\"data row49 col0\" >0.0</td>\n",
       "            </tr>\n",
       "            <tr>\n",
       "                        <th id=\"T_4855d_level0_row50\" class=\"row_heading level0 row50\" >rougher.state.floatbank10_c_air</th>\n",
       "                        <td id=\"T_4855d_row50_col0\" class=\"data row50 col0\" >0.0</td>\n",
       "            </tr>\n",
       "            <tr>\n",
       "                        <th id=\"T_4855d_level0_row51\" class=\"row_heading level0 row51\" >rougher.state.floatbank10_c_level</th>\n",
       "                        <td id=\"T_4855d_row51_col0\" class=\"data row51 col0\" >0.0</td>\n",
       "            </tr>\n",
       "            <tr>\n",
       "                        <th id=\"T_4855d_level0_row52\" class=\"row_heading level0 row52\" >secondary_cleaner.state.floatbank6_a_level</th>\n",
       "                        <td id=\"T_4855d_row52_col0\" class=\"data row52 col0\" >0.0</td>\n",
       "            </tr>\n",
       "    </tbody></table>"
      ],
      "text/plain": [
       "<pandas.io.formats.style.Styler at 0x7f73eaff3b50>"
      ]
     },
     "execution_count": 16,
     "metadata": {},
     "output_type": "execute_result"
    }
   ],
   "source": [
    "isna_view (test_data)"
   ]
  },
  {
   "cell_type": "markdown",
   "metadata": {},
   "source": [
    "<s>Заменим пропуски методом `ffill`, т.к данные обновляются каждый час.</s> К сожалению данный метод не подойдёт. Может быть несколько пропусков подряд. Попробуем удалить строки с пропусками в конкретном столбце."
   ]
  },
  {
   "cell_type": "code",
   "execution_count": 17,
   "metadata": {},
   "outputs": [],
   "source": [
    "#initial_data = initial_data.fillna(method='ffill')"
   ]
  },
  {
   "cell_type": "code",
   "execution_count": 18,
   "metadata": {},
   "outputs": [],
   "source": [
    "#training_data = training_data.fillna(method='ffill')"
   ]
  },
  {
   "cell_type": "code",
   "execution_count": 19,
   "metadata": {
    "scrolled": true
   },
   "outputs": [],
   "source": [
    "#test_data = test_data.fillna(method='ffill')"
   ]
  },
  {
   "cell_type": "code",
   "execution_count": 20,
   "metadata": {},
   "outputs": [],
   "source": [
    "initial_data = initial_data.dropna(subset=['rougher.output.recovery', 'final.output.recovery'])"
   ]
  },
  {
   "cell_type": "code",
   "execution_count": 21,
   "metadata": {},
   "outputs": [],
   "source": [
    "training_data = training_data.dropna(subset=['rougher.output.recovery', 'final.output.recovery'])"
   ]
  },
  {
   "cell_type": "code",
   "execution_count": 22,
   "metadata": {},
   "outputs": [],
   "source": [
    "training_data = training_data.dropna(subset=['rougher.output.recovery', 'final.output.recovery'])"
   ]
  },
  {
   "cell_type": "markdown",
   "metadata": {},
   "source": [
    "### Проверим, что эффективность обогащения рассчитана правильно"
   ]
  },
  {
   "cell_type": "markdown",
   "metadata": {},
   "source": [
    "* C — доля золота в концентрате после флотации/очистки;\n",
    "* F — доля золота в сырье/концентрате до флотации/очистки;\n",
    "* T — доля золота в отвальных хвостах после флотации/очистки."
   ]
  },
  {
   "cell_type": "code",
   "execution_count": 23,
   "metadata": {},
   "outputs": [],
   "source": [
    "# Для подсчета запишем в отдельные переменные интересующие нас данные\n",
    "\n",
    "C = training_data['rougher.output.concentrate_au']\n",
    "F = training_data['rougher.input.feed_au']\n",
    "T = training_data['rougher.output.tail_au']\n",
    "\n",
    "enrichment_efficiency = (C*(F - T) / (F*(C - T)))*100"
   ]
  },
  {
   "cell_type": "code",
   "execution_count": 24,
   "metadata": {},
   "outputs": [
    {
     "data": {
      "text/plain": [
       "9.73512347450521e-15"
      ]
     },
     "execution_count": 24,
     "metadata": {},
     "output_type": "execute_result"
    }
   ],
   "source": [
    "# Найдем MAE между нашими расчётами и значением признака\n",
    "\n",
    "mean_absolute_error(enrichment_efficiency,training_data['rougher.output.recovery'])"
   ]
  },
  {
   "cell_type": "markdown",
   "metadata": {},
   "source": [
    "Полученное значение **MAE** очень низкое, это говорит о том, что данные рассчитаны верно."
   ]
  },
  {
   "cell_type": "markdown",
   "metadata": {},
   "source": [
    "### Проанализируем признаки, недоступные в тестовой выборке"
   ]
  },
  {
   "cell_type": "code",
   "execution_count": 25,
   "metadata": {},
   "outputs": [
    {
     "data": {
      "text/plain": [
       "Index(['final.output.concentrate_ag', 'final.output.concentrate_au',\n",
       "       'final.output.concentrate_pb', 'final.output.concentrate_sol',\n",
       "       'final.output.recovery', 'final.output.tail_ag', 'final.output.tail_au',\n",
       "       'final.output.tail_pb', 'final.output.tail_sol',\n",
       "       'primary_cleaner.output.concentrate_ag',\n",
       "       'primary_cleaner.output.concentrate_au',\n",
       "       'primary_cleaner.output.concentrate_pb',\n",
       "       'primary_cleaner.output.concentrate_sol',\n",
       "       'primary_cleaner.output.tail_ag', 'primary_cleaner.output.tail_au',\n",
       "       'primary_cleaner.output.tail_pb', 'primary_cleaner.output.tail_sol',\n",
       "       'rougher.calculation.au_pb_ratio',\n",
       "       'rougher.calculation.floatbank10_sulfate_to_au_feed',\n",
       "       'rougher.calculation.floatbank11_sulfate_to_au_feed',\n",
       "       'rougher.calculation.sulfate_to_au_concentrate',\n",
       "       'rougher.output.concentrate_ag', 'rougher.output.concentrate_au',\n",
       "       'rougher.output.concentrate_pb', 'rougher.output.concentrate_sol',\n",
       "       'rougher.output.recovery', 'rougher.output.tail_ag',\n",
       "       'rougher.output.tail_au', 'rougher.output.tail_pb',\n",
       "       'rougher.output.tail_sol', 'secondary_cleaner.output.tail_ag',\n",
       "       'secondary_cleaner.output.tail_au', 'secondary_cleaner.output.tail_pb',\n",
       "       'secondary_cleaner.output.tail_sol'],\n",
       "      dtype='object')"
      ]
     },
     "execution_count": 25,
     "metadata": {},
     "output_type": "execute_result"
    }
   ],
   "source": [
    "columns_not_test = training_data.columns.difference(test_data.columns)\n",
    "columns_not_test"
   ]
  },
  {
   "cell_type": "markdown",
   "metadata": {},
   "source": [
    "Данные параметры относятся к целевым признакам, то есть предоставляю результат какого-то процесса который нам еще не известен. Например того же `rougher.output.recovery` эффективности обогащения."
   ]
  },
  {
   "cell_type": "markdown",
   "metadata": {},
   "source": [
    "## Анализ данных"
   ]
  },
  {
   "cell_type": "markdown",
   "metadata": {},
   "source": [
    "### Посмотрим, как меняется концентрация металлов (Au, Ag, Pb) на различных этапах очистки. "
   ]
  },
  {
   "cell_type": "code",
   "execution_count": 26,
   "metadata": {},
   "outputs": [],
   "source": [
    "# Концентрация Золота\n",
    "\n",
    "concentration_metals_au = initial_data[['rougher.input.feed_au', 'rougher.output.concentrate_au', \n",
    "                                        'primary_cleaner.output.concentrate_au', 'final.output.concentrate_au']].mean()"
   ]
  },
  {
   "cell_type": "code",
   "execution_count": 27,
   "metadata": {},
   "outputs": [],
   "source": [
    "# Концентрация Серебра\n",
    "\n",
    "concentration_metals_ag = initial_data[['rougher.input.feed_ag', 'rougher.output.concentrate_ag', \n",
    "                                        'primary_cleaner.output.concentrate_ag', 'final.output.concentrate_ag']].mean()"
   ]
  },
  {
   "cell_type": "code",
   "execution_count": 28,
   "metadata": {},
   "outputs": [],
   "source": [
    "# Концентрация Свинца\n",
    "\n",
    "concentration_metals_pb = initial_data[['rougher.input.feed_pb', 'rougher.output.concentrate_pb', \n",
    "                                        'primary_cleaner.output.concentrate_pb', 'final.output.concentrate_pb']].mean()"
   ]
  },
  {
   "cell_type": "code",
   "execution_count": 29,
   "metadata": {},
   "outputs": [],
   "source": [
    "# Функция для построения графиков\n",
    "\n",
    "def graph (df, axes, name):\n",
    "    df.plot(kind='pie', autopct='%1.0f%%',\n",
    "               wedgeprops={'linewidth': 3.0, 'edgecolor': 'white'},\n",
    "                            title = name, textprops={'size': 'x-large'}, \n",
    "                            labels=None, ax = axes,).set(ylabel='')"
   ]
  },
  {
   "cell_type": "markdown",
   "metadata": {},
   "source": [
    "**Построим диаграмму.** <a id='concentration'></a>"
   ]
  },
  {
   "cell_type": "code",
   "execution_count": 30,
   "metadata": {
    "scrolled": true
   },
   "outputs": [
    {
     "data": {
      "image/png": "[encoded data removed]",
      "text/plain": [
       "<Figure size 1080x360 with 3 Axes>"
      ]
     },
     "metadata": {},
     "output_type": "display_data"
    }
   ],
   "source": [
    "plt.style.use('seaborn-darkgrid')\n",
    "fig, axes = plt.subplots(1, 3, figsize = (15,5))\n",
    "fig.suptitle('Концентрация металла на различных этапах очистки', fontsize = 20, fontweight='bold')\n",
    "\n",
    "\n",
    "graph(concentration_metals_au, axes[0], 'Au')\n",
    "graph(concentration_metals_ag, axes[1], 'Ag')\n",
    "graph(concentration_metals_pb, axes[2], 'Pb')\n",
    "plt.legend([\"Исходное сырье\", \"После флотации\", \"После первичной очистки\", \"После вторичной очистки\"], \n",
    "           loc=(1,1), fontsize = 15);"
   ]
  },
  {
   "cell_type": "markdown",
   "metadata": {},
   "source": [
    "Вывод: Концентрация золота по мере прохождения технологического процесса возрастает, что не скажешь про серебро. После флотации концентрация возрастает но уже на финальном этапе резко падает. Свинец также показывает увеличения после флотации, но сохраняет концентрацию после первичной и вторичной очистки. В целом нас больше интересует золото, а оно показывает хороший прирост. \n",
    "<a id='graph'></a>"
   ]
  },
  {
   "cell_type": "markdown",
   "metadata": {},
   "source": [
    "### Сравним распределения размеров гранул сырья на обучающей и тестовой выборках. "
   ]
  },
  {
   "cell_type": "code",
   "execution_count": 31,
   "metadata": {
    "scrolled": true
   },
   "outputs": [
    {
     "data": {
      "image/png": "[encoded data removed]",
      "text/plain": [
       "<Figure size 720x360 with 1 Axes>"
      ]
     },
     "metadata": {},
     "output_type": "display_data"
    }
   ],
   "source": [
    "fig, axes = plt.subplots(figsize = (10,5))\n",
    "\n",
    "sns.kdeplot(training_data['rougher.input.feed_size']);\n",
    "sns.kdeplot(test_data['rougher.input.feed_size']);\n",
    "axes.set_xlabel('Размер гранул');"
   ]
  },
  {
   "cell_type": "markdown",
   "metadata": {},
   "source": [
    "Размеры гранул сырья на обучающей и тестовой выборках практически не отличаются. Что в дальнейшем ни как не повлияет на работу нашей модели."
   ]
  },
  {
   "cell_type": "markdown",
   "metadata": {},
   "source": [
    "### Исследуем суммарную концентрацию всех веществ на разных стадиях обработки"
   ]
  },
  {
   "cell_type": "code",
   "execution_count": 32,
   "metadata": {},
   "outputs": [],
   "source": [
    "# Концентрация сырья.\n",
    "\n",
    "sum_metals_raw = initial_data[['rougher.input.feed_au', 'rougher.input.feed_ag', \n",
    "                                         'rougher.input.feed_pb', 'rougher.input.feed_sol']].sum(axis = 1)\n",
    "\n",
    "# Концентрация после флотации.\n",
    "\n",
    "sum_metals_rougher = initial_data[['rougher.output.concentrate_au', 'rougher.output.concentrate_ag', \n",
    "                                         'rougher.output.concentrate_pb', 'rougher.output.concentrate_sol']].sum(axis = 1)\n",
    "\n",
    "# Концентрация после первичного этапа очистки.\n",
    "\n",
    "sum_metals_pc = initial_data[['primary_cleaner.output.concentrate_au', 'primary_cleaner.output.concentrate_ag', \n",
    "                            'primary_cleaner.output.concentrate_pb', 'primary_cleaner.output.concentrate_sol']].sum(axis = 1)\n",
    "\n",
    "# Финальная концентрация.\n",
    "\n",
    "sum_metals_final = initial_data[['final.output.concentrate_au', 'final.output.concentrate_ag', \n",
    "                            'final.output.concentrate_pb', 'final.output.concentrate_sol']].sum(axis = 1)"
   ]
  },
  {
   "cell_type": "markdown",
   "metadata": {},
   "source": [
    "**Построим график.** <a id='concentration1'></a>"
   ]
  },
  {
   "cell_type": "code",
   "execution_count": 33,
   "metadata": {},
   "outputs": [
    {
     "data": {
      "image/png": "[encoded data removed]",
      "text/plain": [
       "<Figure size 864x432 with 1 Axes>"
      ]
     },
     "metadata": {},
     "output_type": "display_data"
    }
   ],
   "source": [
    "fig, axes = plt.subplots(figsize = (12, 6))\n",
    "\n",
    "sns.histplot(sum_metals_raw, stat=\"density\", linewidth=0, color='#0DADCD');\n",
    "sns.histplot(sum_metals_rougher, stat=\"density\", linewidth=0, color='#E9DF08');\n",
    "sns.histplot(sum_metals_pc, stat=\"density\", linewidth=0, color='#1C9D05');\n",
    "sns.histplot(sum_metals_final, stat=\"density\", linewidth=0, color='#BD0B18');\n",
    "\n",
    "plt.legend([\"Исходное сырье\", \"После флотации\", \"После первичной очистки\", \"После вторичной очистки\"], fontsize = 15);"
   ]
  },
  {
   "cell_type": "markdown",
   "metadata": {},
   "source": [
    "Есть небольшие выбросы в районе нуля избавимся от них. Возможно проблема в измерительном приборе."
   ]
  },
  {
   "cell_type": "markdown",
   "metadata": {},
   "source": [
    "Избавимся от аномалий, заменим 0 на Nan, но т.к. Nan становиться слишком много в нашем наборе данных, все таки воспользуемся методом `ffill`, т.к на целевые признаки он уже не повлияет."
   ]
  },
  {
   "cell_type": "code",
   "execution_count": 34,
   "metadata": {},
   "outputs": [],
   "source": [
    "for df in (initial_data, training_data, test_data):\n",
    "    df.replace(0, np.nan, inplace=True)\n",
    "    df.fillna(method='ffill', inplace=True)"
   ]
  },
  {
   "cell_type": "code",
   "execution_count": 35,
   "metadata": {},
   "outputs": [],
   "source": [
    "sum_metals_rougher = sum_metals_rougher[sum_metals_rougher > 1]\n",
    "sum_metals_pc = sum_metals_pc[sum_metals_pc > 1]\n",
    "sum_metals_final = sum_metals_final[sum_metals_final > 1]"
   ]
  },
  {
   "cell_type": "code",
   "execution_count": 36,
   "metadata": {},
   "outputs": [
    {
     "data": {
      "image/png": "[encoded data removed]",
      "text/plain": [
       "<Figure size 864x432 with 1 Axes>"
      ]
     },
     "metadata": {},
     "output_type": "display_data"
    }
   ],
   "source": [
    "fig, axes = plt.subplots(figsize = (12, 6))\n",
    "\n",
    "sns.histplot(sum_metals_raw, stat=\"density\", linewidth=0, color='#0DADCD');\n",
    "sns.histplot(sum_metals_rougher, stat=\"density\", linewidth=0, color='#E9DF08');\n",
    "sns.histplot(sum_metals_pc, stat=\"density\", linewidth=0, color='#1C9D05');\n",
    "sns.histplot(sum_metals_final, stat=\"density\", linewidth=0, color='#BD0B18');\n",
    "\n",
    "plt.legend([\"Исходное сырье\", \"После флотации\", \"После первичной очистки\", \"После вторичной очистки\"], fontsize = 15);"
   ]
  },
  {
   "cell_type": "markdown",
   "metadata": {},
   "source": [
    "Наблюдаем что концентрация металлов растете по мере прохождения этапов очистки. "
   ]
  },
  {
   "cell_type": "markdown",
   "metadata": {},
   "source": [
    "## Модель"
   ]
  },
  {
   "cell_type": "markdown",
   "metadata": {},
   "source": [
    "### Напишим функцию для вычисления итоговой sMAPE"
   ]
  },
  {
   "cell_type": "code",
   "execution_count": 37,
   "metadata": {},
   "outputs": [],
   "source": [
    "def smape (target, predict):\n",
    "    smape = np.abs(target - predict) / ((np.abs(target) + np.abs(predict))/2)*100\n",
    "    smape = np.sum(smape)/len(smape)\n",
    "    return smape"
   ]
  },
  {
   "cell_type": "code",
   "execution_count": 38,
   "metadata": {},
   "outputs": [],
   "source": [
    "def final_smape (smape_roug, smape_end):\n",
    "    return 0.25 * smape_roug + 0.75 * smape_end"
   ]
  },
  {
   "cell_type": "markdown",
   "metadata": {},
   "source": [
    "### Подготовка данных для обучения"
   ]
  },
  {
   "cell_type": "code",
   "execution_count": 39,
   "metadata": {},
   "outputs": [],
   "source": [
    "# Удалим признак 'date'.\n",
    "\n",
    "test_data = test_data.drop(['date'], axis=1)\n",
    "#training_data = training_data.drop(['date'], axis=1)"
   ]
  },
  {
   "cell_type": "code",
   "execution_count": 40,
   "metadata": {},
   "outputs": [],
   "source": [
    "# Сформируем данные с необходимыми параметрами.\n",
    "\n",
    "X_train = training_data[test_data.columns]\n",
    "rougher_columns = X_train.columns.str.contains('rougher')"
   ]
  },
  {
   "cell_type": "markdown",
   "metadata": {},
   "source": [
    "Разделим данные на признаки и целевые признаки"
   ]
  },
  {
   "cell_type": "code",
   "execution_count": 41,
   "metadata": {},
   "outputs": [],
   "source": [
    "# Обучающие\n",
    "\n",
    "X_train_rougher = X_train.loc[:, rougher_columns]\n",
    "y_train_rougher = training_data['rougher.output.recovery']\n",
    "y_train_final = training_data['final.output.recovery']\n",
    "\n",
    "# Тестовые\n",
    "\n",
    "X_test_rougher = test_data.loc[:, rougher_columns]\n",
    "y_test_rougher = initial_data.loc[test_data.index, 'rougher.output.recovery']\n",
    "y_test_final = initial_data.loc[test_data.index, 'final.output.recovery']"
   ]
  },
  {
   "cell_type": "code",
   "execution_count": 42,
   "metadata": {},
   "outputs": [
    {
     "data": {
      "text/plain": [
       "(5290,)"
      ]
     },
     "execution_count": 42,
     "metadata": {},
     "output_type": "execute_result"
    }
   ],
   "source": [
    "y_test_final.shape"
   ]
  },
  {
   "cell_type": "code",
   "execution_count": 43,
   "metadata": {},
   "outputs": [
    {
     "data": {
      "text/plain": [
       "(5290, 22)"
      ]
     },
     "metadata": {},
     "output_type": "display_data"
    },
    {
     "data": {
      "text/plain": [
       "(14149,)"
      ]
     },
     "metadata": {},
     "output_type": "display_data"
    },
    {
     "data": {
      "text/plain": [
       "(14149,)"
      ]
     },
     "execution_count": 43,
     "metadata": {},
     "output_type": "execute_result"
    }
   ],
   "source": [
    "display(X_test_rougher.shape)\n",
    "display(y_train_rougher.shape)\n",
    "y_train_final.shape"
   ]
  },
  {
   "cell_type": "markdown",
   "metadata": {},
   "source": [
    "### Настройка гиперпараметров и обучение моделей."
   ]
  },
  {
   "cell_type": "markdown",
   "metadata": {},
   "source": [
    "#### Модель №1 \"Случайный лес\""
   ]
  },
  {
   "cell_type": "code",
   "execution_count": 44,
   "metadata": {},
   "outputs": [],
   "source": [
    "pipe_steps_forest = [('scaler', StandardScaler()), ('forest', RandomForestRegressor(random_state=STATE))]\n",
    "\n",
    "parametrs_forest = {'forest__n_estimators' : [10, 100],\n",
    "                    'forest__max_depth': [5, 10]\n",
    "                   }\n",
    "\n",
    "smape_scorer = make_scorer(smape, greater_is_better=False)\n",
    "\n",
    "pipeline_forest = Pipeline(pipe_steps_forest)\n",
    "\n",
    "model_forest_rougher = GridSearchCV(pipeline_forest, parametrs_forest, scoring = smape_scorer, cv=5, n_jobs=-1)\n",
    "model_forest_final = GridSearchCV(pipeline_forest, parametrs_forest, scoring = smape_scorer, cv=5, n_jobs=-1)"
   ]
  },
  {
   "cell_type": "markdown",
   "metadata": {},
   "source": [
    "#### Модель №2 \"Градиентный бустинг.\""
   ]
  },
  {
   "cell_type": "code",
   "execution_count": 45,
   "metadata": {},
   "outputs": [],
   "source": [
    "pipe_steps_gbr = [('scaler', StandardScaler()), ('gbr', GradientBoostingRegressor(random_state=STATE))]\n",
    "\n",
    "parametrs_gbr =  {'gbr__n_estimators':[10, 100],\n",
    "                  'gbr__max_depth':[5, 10] ,\n",
    "                 }\n",
    "\n",
    "# Для оценки также воспользуемся smape_scorer\n",
    "\n",
    "pipeline_gbr = Pipeline(pipe_steps_gbr)\n",
    "\n",
    "model_gbr_rougher = GridSearchCV(pipeline_gbr, parametrs_gbr, scoring = smape_scorer, cv=5, n_jobs=-1)\n",
    "model_gbr_final = GridSearchCV(pipeline_gbr, parametrs_gbr, scoring = smape_scorer, cv=5, n_jobs=-1)"
   ]
  },
  {
   "cell_type": "markdown",
   "metadata": {},
   "source": [
    "#### Обучение модели \"Случайного леса\""
   ]
  },
  {
   "cell_type": "code",
   "execution_count": 46,
   "metadata": {},
   "outputs": [
    {
     "name": "stdout",
     "output_type": "stream",
     "text": [
      "Параметры: {'forest__max_depth': 10, 'forest__n_estimators': 100}\n",
      "Score: -6.780516768312455\n",
      "CPU times: user 2min 11s, sys: 427 ms, total: 2min 11s\n",
      "Wall time: 2min 12s\n"
     ]
    }
   ],
   "source": [
    "%%time\n",
    "\n",
    "# Модель на этапе флотации\n",
    "\n",
    "model_forest_rougher.fit(X_train_rougher, y_train_rougher)\n",
    "print(\"Параметры:\", model_forest_rougher.best_params_)\n",
    "print(\"Score:\", model_forest_rougher.best_score_)"
   ]
  },
  {
   "cell_type": "code",
   "execution_count": 47,
   "metadata": {},
   "outputs": [
    {
     "name": "stdout",
     "output_type": "stream",
     "text": [
      "Параметры: {'forest__max_depth': 5, 'forest__n_estimators': 100}\n",
      "Score: -9.868953669436948\n",
      "CPU times: user 2min 8s, sys: 328 ms, total: 2min 9s\n",
      "Wall time: 2min 9s\n"
     ]
    }
   ],
   "source": [
    "%%time\n",
    "\n",
    "# Модель на финальном этапе\n",
    "\n",
    "model_forest_final.fit(X_train_rougher, y_train_final)\n",
    "print(\"Параметры:\", model_forest_final.best_params_)\n",
    "print(\"Score:\", model_forest_final.best_score_)"
   ]
  },
  {
   "cell_type": "markdown",
   "metadata": {},
   "source": [
    "#### Обучение модели \"Градиентный бустинг.\""
   ]
  },
  {
   "cell_type": "code",
   "execution_count": 48,
   "metadata": {},
   "outputs": [
    {
     "name": "stdout",
     "output_type": "stream",
     "text": [
      "Параметры: {'gbr__max_depth': 5, 'gbr__n_estimators': 10}\n",
      "Score: -6.669338126449967\n",
      "CPU times: user 3min 23s, sys: 344 ms, total: 3min 24s\n",
      "Wall time: 3min 24s\n"
     ]
    }
   ],
   "source": [
    "%%time\n",
    "\n",
    "# Модель на этапе флотации\n",
    "\n",
    "model_gbr_rougher.fit(X_train_rougher, y_train_rougher)\n",
    "print(\"Параметры:\", model_gbr_rougher.best_params_)\n",
    "print(\"Score:\", model_gbr_rougher.best_score_)"
   ]
  },
  {
   "cell_type": "code",
   "execution_count": 49,
   "metadata": {},
   "outputs": [
    {
     "name": "stdout",
     "output_type": "stream",
     "text": [
      "Параметры: {'gbr__max_depth': 5, 'gbr__n_estimators': 10}\n",
      "Score: -9.54824398472671\n",
      "CPU times: user 3min 26s, sys: 699 ms, total: 3min 27s\n",
      "Wall time: 3min 27s\n"
     ]
    }
   ],
   "source": [
    "%%time\n",
    "\n",
    "# Модель на финальном этапе\n",
    "\n",
    "model_gbr_final.fit(X_train_rougher, y_train_final)\n",
    "print(\"Параметры:\", model_gbr_final.best_params_)\n",
    "print(\"Score:\", model_gbr_final.best_score_)"
   ]
  },
  {
   "cell_type": "markdown",
   "metadata": {},
   "source": [
    "#### Модель №3 \"CatBoost .\""
   ]
  },
  {
   "cell_type": "code",
   "execution_count": 50,
   "metadata": {
    "scrolled": true
   },
   "outputs": [
    {
     "data": {
      "application/vnd.jupyter.widget-view+json": {
       "model_id": "1316670018d54fc7b097832d5655c866",
       "version_major": 2,
       "version_minor": 0
      },
      "text/plain": [
       "MetricVisualizer(layout=Layout(align_self='stretch', height='500px'))"
      ]
     },
     "metadata": {},
     "output_type": "display_data"
    },
    {
     "name": "stdout",
     "output_type": "stream",
     "text": [
      "Training on fold [0/5]\n",
      "\n",
      "bestTest = 6.987812398\n",
      "bestIteration = 99\n",
      "\n",
      "Training on fold [1/5]\n",
      "\n",
      "bestTest = 7.142279352\n",
      "bestIteration = 99\n",
      "\n",
      "Training on fold [2/5]\n",
      "\n",
      "bestTest = 6.990356282\n",
      "bestIteration = 99\n",
      "\n",
      "Training on fold [3/5]\n",
      "\n",
      "bestTest = 6.879147573\n",
      "bestIteration = 99\n",
      "\n",
      "Training on fold [4/5]\n",
      "\n",
      "bestTest = 7.057454793\n",
      "bestIteration = 99\n",
      "\n"
     ]
    }
   ],
   "source": [
    "params = {\"iterations\": 100,\n",
    "          \"loss_function\": \"RMSE\",\n",
    "          \"verbose\": False\n",
    "          }\n",
    "cv_dataset = Pool(data=X_train_rougher,label=y_train_rougher)\n",
    "scores = cv(cv_dataset, params, fold_count=5, plot=\"True\")"
   ]
  },
  {
   "cell_type": "markdown",
   "metadata": {},
   "source": [
    "pipe_steps_cat = [('scaler', StandardScaler()), ('cat', CatBoostRegressor(verbose=False))]\n",
    "\n",
    "parameters_cat = {'cat__depth': [5, 10, 20],\n",
    "                 'cat__learning_rate': [0.02,0.03, 0.04],\n",
    "                  'cat__iterations': [50, 100, 200]\n",
    "                 }\n",
    "\n",
    "pipeline_cat = Pipeline(pipe_steps_cat)\n",
    "\n",
    "model_cat_rougher = GridSearchCV(estimator=pipeline_cat, param_grid = parameters_cat, cv = 2, n_jobs=-1)\n",
    "model_cat_final = GridSearchCV(estimator=pipeline_cat, param_grid = parameters_cat, cv = 2, n_jobs=-1)"
   ]
  },
  {
   "cell_type": "code",
   "execution_count": 51,
   "metadata": {
    "scrolled": true
   },
   "outputs": [],
   "source": [
    "pipe_steps_cat = Pipeline([('scaler', StandardScaler()), ('cat', CatBoostRegressor(verbose=False))])\n",
    "\n",
    "parameters_cat = {'cat__depth': [5, 10],\n",
    "                 'cat__learning_rate': [0.02, 0.03],\n",
    "                  'cat__iterations': [10, 20, 30, 40, 50]\n",
    "                 }\n",
    "\n",
    "model_cat_rougher = RandomizedSearchCV(estimator=pipe_steps_cat, param_distributions=parameters_cat, \n",
    "                                       scoring=smape_scorer, cv = 3, n_jobs=-1)\n",
    "model_cat_final = RandomizedSearchCV(estimator=pipe_steps_cat, param_distributions=parameters_cat, \n",
    "                                     scoring=smape_scorer, cv = 3, n_jobs=-1)"
   ]
  },
  {
   "cell_type": "code",
   "execution_count": 52,
   "metadata": {
    "scrolled": true
   },
   "outputs": [
    {
     "name": "stdout",
     "output_type": "stream",
     "text": [
      "Параметры: {'cat__learning_rate': 0.03, 'cat__iterations': 50, 'cat__depth': 5}\n",
      "Score: -7.7038446092580015\n"
     ]
    }
   ],
   "source": [
    "# Модель на этапе флотации\n",
    "\n",
    "model_cat_rougher.fit(X_train_rougher, y_train_rougher)\n",
    "print(\"Параметры:\", model_cat_rougher.best_params_)\n",
    "print(\"Score:\", model_cat_rougher.best_score_)"
   ]
  },
  {
   "cell_type": "code",
   "execution_count": 53,
   "metadata": {
    "scrolled": true
   },
   "outputs": [
    {
     "name": "stdout",
     "output_type": "stream",
     "text": [
      "Параметры: {'cat__learning_rate': 0.03, 'cat__iterations': 50, 'cat__depth': 10}\n",
      "Score: -10.01898854568703\n"
     ]
    }
   ],
   "source": [
    "# Модель на финальном этапе\n",
    "\n",
    "model_cat_final.fit(X_train_rougher, y_train_final)\n",
    "print(\"Параметры:\", model_cat_final.best_params_)\n",
    "print(\"Score:\", model_cat_final.best_score_)"
   ]
  },
  {
   "cell_type": "markdown",
   "metadata": {},
   "source": [
    "Вывод: По результатам для тестовых данных мы будем использовать модель Градиентного бустинга. "
   ]
  },
  {
   "cell_type": "markdown",
   "metadata": {},
   "source": [
    "### Проверка модели на тесовой выборке и оценка качества с помощью метрики sMAPE."
   ]
  },
  {
   "cell_type": "markdown",
   "metadata": {},
   "source": [
    "Для предсказания воспользуемся моделю Градиентного бустинга с лучшими параметрами и произведем оценку"
   ]
  },
  {
   "cell_type": "code",
   "execution_count": 54,
   "metadata": {},
   "outputs": [
    {
     "name": "stdout",
     "output_type": "stream",
     "text": [
      "sMAPE: 9.26\n"
     ]
    }
   ],
   "source": [
    "predict_y_rougher = model_gbr_rougher.best_estimator_.predict(X_test_rougher)\n",
    "\n",
    "smape_rouge = smape(y_test_rougher, predict_y_rougher)\n",
    "\n",
    "print('sMAPE:', round(smape_rouge, 2))"
   ]
  },
  {
   "cell_type": "code",
   "execution_count": 55,
   "metadata": {},
   "outputs": [
    {
     "name": "stdout",
     "output_type": "stream",
     "text": [
      "sMAPE: 10.97\n"
     ]
    }
   ],
   "source": [
    "predict_y_final = model_gbr_final.best_estimator_.predict(X_test_rougher)\n",
    "\n",
    "smape_final = smape(y_test_final, predict_y_final)\n",
    "\n",
    "print('sMAPE:', round(smape_final, 2))"
   ]
  },
  {
   "cell_type": "markdown",
   "metadata": {},
   "source": [
    "Из результатов видно, что симметричная средняя абсолютная процентная ошибка для этой модели на разных этапах: флотации и финальном состовляет 9.26,  и 10.97 соответственно."
   ]
  },
  {
   "cell_type": "markdown",
   "metadata": {},
   "source": [
    "Рассчитаем итоговое **sMAPE.**"
   ]
  },
  {
   "cell_type": "code",
   "execution_count": 56,
   "metadata": {
    "scrolled": true
   },
   "outputs": [
    {
     "data": {
      "text/plain": [
       "10.54258571281606"
      ]
     },
     "execution_count": 56,
     "metadata": {},
     "output_type": "execute_result"
    }
   ],
   "source": [
    "final_smape(smape_rouge, smape_final)"
   ]
  },
  {
   "cell_type": "markdown",
   "metadata": {},
   "source": [
    "### Сравним с константной моделью используя DummyRegressor"
   ]
  },
  {
   "cell_type": "code",
   "execution_count": 57,
   "metadata": {},
   "outputs": [],
   "source": [
    "pipe_steps_dump =Pipeline([('scaler', StandardScaler()), ('dump', DummyRegressor())])"
   ]
  },
  {
   "cell_type": "code",
   "execution_count": 58,
   "metadata": {},
   "outputs": [],
   "source": [
    "baseline_rougher = pipe_steps_dump.fit(X_train_rougher, y_train_rougher)\n",
    "baseline_final = pipe_steps_dump.fit(X_train_rougher, y_train_final)"
   ]
  },
  {
   "cell_type": "code",
   "execution_count": 59,
   "metadata": {},
   "outputs": [
    {
     "data": {
      "text/plain": [
       "12.08307915194516"
      ]
     },
     "execution_count": 59,
     "metadata": {},
     "output_type": "execute_result"
    }
   ],
   "source": [
    "baseline_predict_y_rougher = baseline_rougher.predict(X_test_rougher)\n",
    "baseline_predict_y_final = baseline_final.predict(X_test_rougher)\n",
    "\n",
    "final_smape(smape(y_test_rougher, baseline_predict_y_rougher), \n",
    "                 smape(y_test_final, baseline_predict_y_final))"
   ]
  },
  {
   "cell_type": "markdown",
   "metadata": {},
   "source": [
    "Наша модель показывает допустимый результат т.к на константной модели ошибка больше."
   ]
  },
  {
   "cell_type": "markdown",
   "metadata": {},
   "source": [
    "**Вывод:** Задачей нашего проекта необходимо было подготовить модель машинного обучения для компании «Цифры». Модель должна предсказать коэффициент восстановления золота из золотосодержащей руды. В вашем распоряжении были предоставлены данные с параметрами добычи и очистки. \n",
    "\n",
    "* Первым этапом мы определили, что эффективность обогащения рассчитана правильно, т.к. это один из ключевых параметров, который может повлиять на наши расчеты. По итогу, определив среднюю величину ошибки с помощью метрики MAE, мы получили  9.73e-15 что говорит о верных расчетах. \n",
    "* Еще один не мало важный фактор, надо было сравнить распределения размеров гранул сырья на обучающей и тестовой выборках. Гранулы не отключаются, можно посмотреть на [графике](#graph).\n",
    "* Далее мы проанализировали данные и выявили, как меняется [концентрация металлов](#concentration) на разных этапах очистки. Концентрация золота на каждом этапе возрастает. Что говорит нам о том, что можно дальше продолжать наше исследование. \n",
    "* Далее рассмотрели [концентрацию всех металлов.](#concentration1) На каждом этапе очистки концентрация также растет, и это тоже хороший признак. Но были небольшие аномалии. Требуется разобраться, что может быть причиной. Возможно неисправность измерительного прибора. \n",
    "\n",
    "В целом данные были проанализированные, аномалии и пропуски были удалены/обработаны. Концентрация золота растет, а значит, можно приступить к ML.\n",
    "* Первой моделью мы выбрали модель \"Случайного леса\" обучили на тренировочных данных на этапе флотации и финальном этапе. Score составила -0.10 и 0.03 соответственно.\n",
    "* Второй моделью выбрали модель \"Градиентный бустинг\". Score получили на этапе флотации:-0.086 и финальном:0.081.\n",
    "\n",
    "Для обучения на тестовых данных мы выбрали модель \"Градиентный бустинг\" и произвели оценку с помощью метрики sMAPE. На этапе флотации sMAPE: 9.26, на финальном этапе sMAPE: 10.97. \n",
    "Итоговое sMAPE получили 10.54. Получили не плохой результат, но можно попробовать еще оптимизировать производство, разобраться с аномалиями и сделать предприятие более прибыльным."
   ]
  },
  {
   "cell_type": "markdown",
   "metadata": {},
   "source": [
    "## Чек-лист готовности проекта"
   ]
  },
  {
   "cell_type": "markdown",
   "metadata": {},
   "source": [
    "- [x]  Jupyter Notebook открыт\n",
    "- [ ]  Весь код выполняется без ошибок\n",
    "- [ ]  Ячейки с кодом расположены в порядке выполнения\n",
    "- [ ]  Выполнен шаг 1: данные подготовлены\n",
    "    - [ ]  Проверена формула вычисления эффективности обогащения\n",
    "    - [ ]  Проанализированы признаки, недоступные в тестовой выборке\n",
    "    - [ ]  Проведена предобработка данных\n",
    "- [ ]  Выполнен шаг 2: данные проанализированы\n",
    "    - [ ]  Исследовано изменение концентрации элементов на каждом этапе\n",
    "    - [ ]  Проанализированы распределения размеров гранул на обучающей и тестовой выборках\n",
    "    - [ ]  Исследованы суммарные концентрации\n",
    "- [ ]  Выполнен шаг 3: построена модель прогнозирования\n",
    "    - [ ]  Написана функция для вычисления итогового *sMAPE*\n",
    "    - [ ]  Обучено и проверено несколько моделей\n",
    "    - [ ]  Выбрана лучшая модель, её качество проверено на тестовой выборке"
   ]
  },
  {
   "cell_type": "code",
   "execution_count": null,
   "metadata": {},
   "outputs": [],
   "source": []
  }
 ],
 "metadata": {
  "ExecuteTimeLog": [
   {
    "duration": 1559,
    "start_time": "2023-03-13T09:35:03.842Z"
   },
   {
    "duration": 171,
    "start_time": "2023-03-13T09:41:51.130Z"
   },
   {
    "duration": 23,
    "start_time": "2023-03-13T09:42:18.252Z"
   },
   {
    "duration": 597,
    "start_time": "2023-03-13T09:43:21.295Z"
   },
   {
    "duration": 1364,
    "start_time": "2023-03-13T09:45:01.793Z"
   },
   {
    "duration": 156,
    "start_time": "2023-03-13T09:45:31.300Z"
   },
   {
    "duration": 369,
    "start_time": "2023-03-13T09:48:22.054Z"
   },
   {
    "duration": 3,
    "start_time": "2023-03-13T09:49:05.830Z"
   },
   {
    "duration": 441,
    "start_time": "2023-03-13T09:49:07.970Z"
   },
   {
    "duration": 346,
    "start_time": "2023-03-13T09:49:32.369Z"
   },
   {
    "duration": 123,
    "start_time": "2023-03-13T09:49:49.312Z"
   },
   {
    "duration": 412,
    "start_time": "2023-03-13T09:51:44.468Z"
   },
   {
    "duration": 387,
    "start_time": "2023-03-13T09:52:30.196Z"
   },
   {
    "duration": 122,
    "start_time": "2023-03-13T09:53:01.024Z"
   },
   {
    "duration": 14035,
    "start_time": "2023-03-13T09:56:39.308Z"
   },
   {
    "duration": 17,
    "start_time": "2023-03-13T09:57:38.928Z"
   },
   {
    "duration": 11,
    "start_time": "2023-03-13T09:57:53.119Z"
   },
   {
    "duration": 10,
    "start_time": "2023-03-13T09:58:27.260Z"
   },
   {
    "duration": 579,
    "start_time": "2023-03-13T09:58:50.877Z"
   },
   {
    "duration": 2829,
    "start_time": "2023-03-13T10:06:21.671Z"
   },
   {
    "duration": 276,
    "start_time": "2023-03-13T10:07:08.034Z"
   },
   {
    "duration": 176,
    "start_time": "2023-03-13T10:07:53.967Z"
   },
   {
    "duration": 5,
    "start_time": "2023-03-13T10:08:15.369Z"
   },
   {
    "duration": 19,
    "start_time": "2023-03-13T10:08:15.376Z"
   },
   {
    "duration": 686,
    "start_time": "2023-03-13T10:08:15.397Z"
   },
   {
    "duration": 1392,
    "start_time": "2023-03-13T10:08:16.086Z"
   },
   {
    "duration": 196,
    "start_time": "2023-03-13T10:08:17.480Z"
   },
   {
    "duration": 2583,
    "start_time": "2023-03-13T10:08:17.678Z"
   },
   {
    "duration": 489,
    "start_time": "2023-03-13T10:21:30.420Z"
   },
   {
    "duration": 4021,
    "start_time": "2023-03-13T10:22:57.631Z"
   },
   {
    "duration": 1041,
    "start_time": "2023-03-13T10:23:13.728Z"
   },
   {
    "duration": 76,
    "start_time": "2023-03-13T10:23:55.018Z"
   },
   {
    "duration": 584,
    "start_time": "2023-03-13T10:24:00.842Z"
   },
   {
    "duration": 63289,
    "start_time": "2023-03-13T10:24:04.787Z"
   },
   {
    "duration": 515,
    "start_time": "2023-03-13T10:25:32.072Z"
   },
   {
    "duration": 592,
    "start_time": "2023-03-13T10:34:17.961Z"
   },
   {
    "duration": 440,
    "start_time": "2023-03-13T10:38:54.317Z"
   },
   {
    "duration": 4,
    "start_time": "2023-03-13T10:39:34.122Z"
   },
   {
    "duration": 180,
    "start_time": "2023-03-13T10:40:15.908Z"
   },
   {
    "duration": 12,
    "start_time": "2023-03-13T10:43:13.736Z"
   },
   {
    "duration": 5,
    "start_time": "2023-03-13T10:44:29.895Z"
   },
   {
    "duration": 5,
    "start_time": "2023-03-13T10:44:50.490Z"
   },
   {
    "duration": 4,
    "start_time": "2023-03-13T10:45:02.598Z"
   },
   {
    "duration": 5,
    "start_time": "2023-03-13T10:45:08.597Z"
   },
   {
    "duration": 623,
    "start_time": "2023-03-14T07:13:35.009Z"
   },
   {
    "duration": 0,
    "start_time": "2023-03-14T07:13:35.633Z"
   },
   {
    "duration": 2298,
    "start_time": "2023-03-14T07:13:36.452Z"
   },
   {
    "duration": 3435,
    "start_time": "2023-03-14T07:14:55.033Z"
   },
   {
    "duration": 33,
    "start_time": "2023-03-14T07:15:30.071Z"
   },
   {
    "duration": 57,
    "start_time": "2023-03-14T07:16:50.553Z"
   },
   {
    "duration": 476,
    "start_time": "2023-03-14T07:17:02.181Z"
   },
   {
    "duration": 16,
    "start_time": "2023-03-14T07:17:10.506Z"
   },
   {
    "duration": 482,
    "start_time": "2023-03-14T07:17:31.812Z"
   },
   {
    "duration": 13,
    "start_time": "2023-03-14T07:17:47.938Z"
   },
   {
    "duration": 63,
    "start_time": "2023-03-14T07:21:53.073Z"
   },
   {
    "duration": 22,
    "start_time": "2023-03-14T07:38:53.346Z"
   },
   {
    "duration": 17,
    "start_time": "2023-03-14T07:39:11.182Z"
   },
   {
    "duration": 16,
    "start_time": "2023-03-14T07:57:47.349Z"
   },
   {
    "duration": 14,
    "start_time": "2023-03-14T07:57:49.277Z"
   },
   {
    "duration": 11,
    "start_time": "2023-03-14T07:57:52.242Z"
   },
   {
    "duration": 16,
    "start_time": "2023-03-14T08:02:41.605Z"
   },
   {
    "duration": 33,
    "start_time": "2023-03-14T08:02:53.621Z"
   },
   {
    "duration": 30,
    "start_time": "2023-03-14T08:03:18.135Z"
   },
   {
    "duration": 17,
    "start_time": "2023-03-14T08:03:45.910Z"
   },
   {
    "duration": 27,
    "start_time": "2023-03-14T08:09:41.633Z"
   },
   {
    "duration": 131,
    "start_time": "2023-03-14T08:09:51.504Z"
   },
   {
    "duration": 108,
    "start_time": "2023-03-14T08:10:01.315Z"
   },
   {
    "duration": 216,
    "start_time": "2023-03-14T08:13:21.761Z"
   },
   {
    "duration": 627,
    "start_time": "2023-03-14T08:15:46.135Z"
   },
   {
    "duration": 240,
    "start_time": "2023-03-14T08:16:14.204Z"
   },
   {
    "duration": 2,
    "start_time": "2023-03-14T08:32:43.396Z"
   },
   {
    "duration": 211,
    "start_time": "2023-03-14T08:32:46.619Z"
   },
   {
    "duration": 139,
    "start_time": "2023-03-14T08:33:06.004Z"
   },
   {
    "duration": 237,
    "start_time": "2023-03-14T08:38:23.569Z"
   },
   {
    "duration": 15,
    "start_time": "2023-03-14T08:38:38.697Z"
   },
   {
    "duration": 245,
    "start_time": "2023-03-14T08:38:42.020Z"
   },
   {
    "duration": 20,
    "start_time": "2023-03-14T08:38:58.757Z"
   },
   {
    "duration": 223,
    "start_time": "2023-03-14T08:39:03.797Z"
   },
   {
    "duration": 15,
    "start_time": "2023-03-14T08:39:15.757Z"
   },
   {
    "duration": 128,
    "start_time": "2023-03-14T08:39:19.659Z"
   },
   {
    "duration": 3,
    "start_time": "2023-03-14T08:51:50.453Z"
   },
   {
    "duration": 3,
    "start_time": "2023-03-14T08:53:22.521Z"
   },
   {
    "duration": 420,
    "start_time": "2023-03-14T08:53:25.706Z"
   },
   {
    "duration": 1350,
    "start_time": "2023-03-14T09:48:49.097Z"
   },
   {
    "duration": 11,
    "start_time": "2023-03-14T09:49:35.767Z"
   },
   {
    "duration": 3,
    "start_time": "2023-03-14T10:06:35.738Z"
   },
   {
    "duration": 3,
    "start_time": "2023-03-14T10:08:55.202Z"
   },
   {
    "duration": 5,
    "start_time": "2023-03-14T10:18:45.073Z"
   },
   {
    "duration": 8,
    "start_time": "2023-03-14T10:18:50.489Z"
   },
   {
    "duration": 11,
    "start_time": "2023-03-14T10:19:26.513Z"
   },
   {
    "duration": 9,
    "start_time": "2023-03-14T10:30:11.992Z"
   },
   {
    "duration": 4,
    "start_time": "2023-03-14T10:30:59.425Z"
   },
   {
    "duration": 10,
    "start_time": "2023-03-14T10:31:03.453Z"
   },
   {
    "duration": 7,
    "start_time": "2023-03-14T10:31:32.231Z"
   },
   {
    "duration": 5,
    "start_time": "2023-03-14T10:32:44.195Z"
   },
   {
    "duration": 5,
    "start_time": "2023-03-14T10:45:19.213Z"
   },
   {
    "duration": 5,
    "start_time": "2023-03-14T10:46:07.413Z"
   },
   {
    "duration": 5,
    "start_time": "2023-03-14T10:47:28.905Z"
   },
   {
    "duration": 2,
    "start_time": "2023-03-14T11:08:02.783Z"
   },
   {
    "duration": 6,
    "start_time": "2023-03-14T11:08:07.066Z"
   },
   {
    "duration": 1777,
    "start_time": "2023-03-15T08:15:24.957Z"
   },
   {
    "duration": 3,
    "start_time": "2023-03-15T08:15:26.736Z"
   },
   {
    "duration": 750,
    "start_time": "2023-03-15T08:15:26.740Z"
   },
   {
    "duration": 1687,
    "start_time": "2023-03-15T08:15:27.493Z"
   },
   {
    "duration": 224,
    "start_time": "2023-03-15T08:15:29.181Z"
   },
   {
    "duration": 17,
    "start_time": "2023-03-15T08:15:29.406Z"
   },
   {
    "duration": 286,
    "start_time": "2023-03-15T08:15:29.424Z"
   },
   {
    "duration": 16,
    "start_time": "2023-03-15T08:15:29.711Z"
   },
   {
    "duration": 242,
    "start_time": "2023-03-15T08:15:29.728Z"
   },
   {
    "duration": 20,
    "start_time": "2023-03-15T08:15:29.972Z"
   },
   {
    "duration": 122,
    "start_time": "2023-03-15T08:15:29.993Z"
   },
   {
    "duration": 258,
    "start_time": "2023-03-15T08:15:30.116Z"
   },
   {
    "duration": 64,
    "start_time": "2023-03-15T08:15:30.376Z"
   },
   {
    "duration": 33,
    "start_time": "2023-03-15T08:15:30.442Z"
   },
   {
    "duration": 17,
    "start_time": "2023-03-15T08:15:30.477Z"
   },
   {
    "duration": 86,
    "start_time": "2023-03-15T08:15:30.496Z"
   },
   {
    "duration": 25,
    "start_time": "2023-03-15T08:15:30.584Z"
   },
   {
    "duration": 15,
    "start_time": "2023-03-15T08:15:30.611Z"
   },
   {
    "duration": 40,
    "start_time": "2023-03-15T08:15:30.628Z"
   },
   {
    "duration": 40,
    "start_time": "2023-03-15T08:15:30.670Z"
   },
   {
    "duration": 35,
    "start_time": "2023-03-15T08:15:30.712Z"
   },
   {
    "duration": 4,
    "start_time": "2023-03-15T08:42:06.225Z"
   },
   {
    "duration": 55806,
    "start_time": "2023-03-15T08:43:09.113Z"
   },
   {
    "duration": 5,
    "start_time": "2023-03-15T08:45:03.632Z"
   },
   {
    "duration": 4628,
    "start_time": "2023-03-15T08:45:05.711Z"
   },
   {
    "duration": 173,
    "start_time": "2023-03-15T08:45:56.146Z"
   },
   {
    "duration": 3,
    "start_time": "2023-03-15T08:46:14.373Z"
   },
   {
    "duration": 171,
    "start_time": "2023-03-15T08:46:19.211Z"
   },
   {
    "duration": 6,
    "start_time": "2023-03-15T08:47:06.359Z"
   },
   {
    "duration": 224,
    "start_time": "2023-03-15T08:47:08.046Z"
   },
   {
    "duration": 5,
    "start_time": "2023-03-15T08:47:15.111Z"
   },
   {
    "duration": 185,
    "start_time": "2023-03-15T08:47:17.807Z"
   },
   {
    "duration": 3,
    "start_time": "2023-03-15T08:52:15.031Z"
   },
   {
    "duration": 10593,
    "start_time": "2023-03-15T08:53:47.607Z"
   },
   {
    "duration": 10,
    "start_time": "2023-03-15T08:54:07.224Z"
   },
   {
    "duration": 7,
    "start_time": "2023-03-15T08:54:52.339Z"
   },
   {
    "duration": 37700,
    "start_time": "2023-03-15T08:54:54.287Z"
   },
   {
    "duration": 9,
    "start_time": "2023-03-15T08:58:22.740Z"
   },
   {
    "duration": 16,
    "start_time": "2023-03-15T08:58:29.459Z"
   },
   {
    "duration": 12,
    "start_time": "2023-03-15T08:58:35.851Z"
   },
   {
    "duration": 12,
    "start_time": "2023-03-15T08:59:36.952Z"
   },
   {
    "duration": 11,
    "start_time": "2023-03-15T08:59:58.109Z"
   },
   {
    "duration": 4,
    "start_time": "2023-03-15T09:00:06.878Z"
   },
   {
    "duration": 10,
    "start_time": "2023-03-15T09:00:15.833Z"
   },
   {
    "duration": 10,
    "start_time": "2023-03-15T09:00:17.773Z"
   },
   {
    "duration": 10,
    "start_time": "2023-03-15T09:00:29.479Z"
   },
   {
    "duration": 383,
    "start_time": "2023-03-15T09:01:52.315Z"
   },
   {
    "duration": 367,
    "start_time": "2023-03-15T09:12:09.720Z"
   },
   {
    "duration": 2066,
    "start_time": "2023-03-15T09:12:15.336Z"
   },
   {
    "duration": 11,
    "start_time": "2023-03-15T09:13:02.948Z"
   },
   {
    "duration": 162,
    "start_time": "2023-03-15T09:13:17.076Z"
   },
   {
    "duration": 153,
    "start_time": "2023-03-15T09:13:24.919Z"
   },
   {
    "duration": 779,
    "start_time": "2023-03-15T09:15:05.520Z"
   },
   {
    "duration": 155,
    "start_time": "2023-03-15T09:15:13.423Z"
   },
   {
    "duration": 341,
    "start_time": "2023-03-15T09:15:17.543Z"
   },
   {
    "duration": 109,
    "start_time": "2023-03-15T09:15:20.767Z"
   },
   {
    "duration": 173,
    "start_time": "2023-03-15T09:15:27.625Z"
   },
   {
    "duration": 148,
    "start_time": "2023-03-15T09:15:32.782Z"
   },
   {
    "duration": 164,
    "start_time": "2023-03-15T09:15:37.831Z"
   },
   {
    "duration": 151,
    "start_time": "2023-03-15T09:17:13.721Z"
   },
   {
    "duration": 145,
    "start_time": "2023-03-15T09:17:19.641Z"
   },
   {
    "duration": 147,
    "start_time": "2023-03-15T09:18:17.232Z"
   },
   {
    "duration": 189,
    "start_time": "2023-03-15T09:18:52.543Z"
   },
   {
    "duration": 6,
    "start_time": "2023-03-15T09:19:21.268Z"
   },
   {
    "duration": 139,
    "start_time": "2023-03-15T09:19:24.265Z"
   },
   {
    "duration": 4,
    "start_time": "2023-03-15T09:19:30.940Z"
   },
   {
    "duration": 182,
    "start_time": "2023-03-15T09:19:32.512Z"
   },
   {
    "duration": 242,
    "start_time": "2023-03-15T09:20:25.557Z"
   },
   {
    "duration": 260,
    "start_time": "2023-03-15T09:21:07.417Z"
   },
   {
    "duration": 10,
    "start_time": "2023-03-15T09:25:37.836Z"
   },
   {
    "duration": 6,
    "start_time": "2023-03-15T09:26:44.133Z"
   },
   {
    "duration": 281,
    "start_time": "2023-03-15T09:26:47.027Z"
   },
   {
    "duration": 27,
    "start_time": "2023-03-15T09:28:19.704Z"
   },
   {
    "duration": 261,
    "start_time": "2023-03-15T09:28:21.434Z"
   },
   {
    "duration": 545,
    "start_time": "2023-03-15T09:35:25.040Z"
   },
   {
    "duration": 24,
    "start_time": "2023-03-15T09:37:26.846Z"
   },
   {
    "duration": 16,
    "start_time": "2023-03-15T09:38:05.213Z"
   },
   {
    "duration": 504,
    "start_time": "2023-03-15T09:38:26.127Z"
   },
   {
    "duration": 522,
    "start_time": "2023-03-15T09:38:46.946Z"
   },
   {
    "duration": 522,
    "start_time": "2023-03-15T09:38:57.372Z"
   },
   {
    "duration": 605,
    "start_time": "2023-03-15T09:39:05.581Z"
   },
   {
    "duration": 588,
    "start_time": "2023-03-15T09:39:18.947Z"
   },
   {
    "duration": 583,
    "start_time": "2023-03-15T09:39:23.306Z"
   },
   {
    "duration": 580,
    "start_time": "2023-03-15T09:39:32.644Z"
   },
   {
    "duration": 585,
    "start_time": "2023-03-15T09:39:44.280Z"
   },
   {
    "duration": 4,
    "start_time": "2023-03-15T09:40:11.383Z"
   },
   {
    "duration": 593,
    "start_time": "2023-03-15T09:40:13.683Z"
   },
   {
    "duration": 139,
    "start_time": "2023-03-15T09:41:31.524Z"
   },
   {
    "duration": 6018,
    "start_time": "2023-03-15T09:42:02.982Z"
   },
   {
    "duration": 550,
    "start_time": "2023-03-15T09:42:12.722Z"
   },
   {
    "duration": 263,
    "start_time": "2023-03-15T09:44:33.752Z"
   },
   {
    "duration": 556,
    "start_time": "2023-03-15T09:45:14.216Z"
   },
   {
    "duration": 78,
    "start_time": "2023-03-15T09:47:13.035Z"
   },
   {
    "duration": 581,
    "start_time": "2023-03-15T09:47:43.545Z"
   },
   {
    "duration": 671,
    "start_time": "2023-03-15T09:48:04.401Z"
   },
   {
    "duration": 611,
    "start_time": "2023-03-15T09:48:20.482Z"
   },
   {
    "duration": 580,
    "start_time": "2023-03-15T09:50:39.084Z"
   },
   {
    "duration": 566,
    "start_time": "2023-03-15T10:06:36.456Z"
   },
   {
    "duration": 1170,
    "start_time": "2023-03-15T10:06:46.042Z"
   },
   {
    "duration": 162,
    "start_time": "2023-03-15T10:06:53.967Z"
   },
   {
    "duration": 586,
    "start_time": "2023-03-15T10:07:01.088Z"
   },
   {
    "duration": 568,
    "start_time": "2023-03-15T10:07:05.632Z"
   },
   {
    "duration": 558,
    "start_time": "2023-03-15T10:07:09.039Z"
   },
   {
    "duration": 704,
    "start_time": "2023-03-15T10:07:10.635Z"
   },
   {
    "duration": 3,
    "start_time": "2023-03-15T10:07:21.920Z"
   },
   {
    "duration": 540,
    "start_time": "2023-03-15T10:07:23.647Z"
   },
   {
    "duration": 3,
    "start_time": "2023-03-15T10:07:38.432Z"
   },
   {
    "duration": 5,
    "start_time": "2023-03-15T10:07:38.437Z"
   },
   {
    "duration": 370,
    "start_time": "2023-03-15T10:07:38.444Z"
   },
   {
    "duration": 276,
    "start_time": "2023-03-15T10:07:38.816Z"
   },
   {
    "duration": 98,
    "start_time": "2023-03-15T10:07:39.094Z"
   },
   {
    "duration": 16,
    "start_time": "2023-03-15T10:07:39.194Z"
   },
   {
    "duration": 230,
    "start_time": "2023-03-15T10:07:39.212Z"
   },
   {
    "duration": 24,
    "start_time": "2023-03-15T10:07:39.444Z"
   },
   {
    "duration": 225,
    "start_time": "2023-03-15T10:07:39.470Z"
   },
   {
    "duration": 12,
    "start_time": "2023-03-15T10:07:39.697Z"
   },
   {
    "duration": 118,
    "start_time": "2023-03-15T10:07:39.710Z"
   },
   {
    "duration": 243,
    "start_time": "2023-03-15T10:07:39.830Z"
   },
   {
    "duration": 25,
    "start_time": "2023-03-15T10:07:40.075Z"
   },
   {
    "duration": 22,
    "start_time": "2023-03-15T10:07:40.101Z"
   },
   {
    "duration": 33,
    "start_time": "2023-03-15T10:07:40.125Z"
   },
   {
    "duration": 30,
    "start_time": "2023-03-15T10:07:40.159Z"
   },
   {
    "duration": 24,
    "start_time": "2023-03-15T10:07:40.191Z"
   },
   {
    "duration": 16,
    "start_time": "2023-03-15T10:07:40.216Z"
   },
   {
    "duration": 24,
    "start_time": "2023-03-15T10:07:40.233Z"
   },
   {
    "duration": 6,
    "start_time": "2023-03-15T10:07:40.259Z"
   },
   {
    "duration": 5,
    "start_time": "2023-03-15T10:07:40.266Z"
   },
   {
    "duration": 6,
    "start_time": "2023-03-15T10:07:40.273Z"
   },
   {
    "duration": 3,
    "start_time": "2023-03-15T10:07:40.280Z"
   },
   {
    "duration": 559,
    "start_time": "2023-03-15T10:07:40.284Z"
   },
   {
    "duration": 553,
    "start_time": "2023-03-15T10:07:49.558Z"
   },
   {
    "duration": 2,
    "start_time": "2023-03-15T10:07:57.838Z"
   },
   {
    "duration": 747,
    "start_time": "2023-03-15T10:07:59.372Z"
   },
   {
    "duration": 659,
    "start_time": "2023-03-15T10:08:30.825Z"
   },
   {
    "duration": 557,
    "start_time": "2023-03-15T10:08:51.120Z"
   },
   {
    "duration": 570,
    "start_time": "2023-03-15T10:09:01.416Z"
   },
   {
    "duration": 740,
    "start_time": "2023-03-15T10:09:07.104Z"
   },
   {
    "duration": 696,
    "start_time": "2023-03-15T10:09:17.378Z"
   },
   {
    "duration": 613,
    "start_time": "2023-03-15T10:09:27.636Z"
   },
   {
    "duration": 733,
    "start_time": "2023-03-15T10:09:38.878Z"
   },
   {
    "duration": 566,
    "start_time": "2023-03-15T10:09:48.424Z"
   },
   {
    "duration": 574,
    "start_time": "2023-03-15T10:09:51.240Z"
   },
   {
    "duration": 537,
    "start_time": "2023-03-15T10:10:03.632Z"
   },
   {
    "duration": 325,
    "start_time": "2023-03-15T10:21:56.050Z"
   },
   {
    "duration": 736,
    "start_time": "2023-03-15T10:22:02.355Z"
   },
   {
    "duration": 567,
    "start_time": "2023-03-15T10:24:03.938Z"
   },
   {
    "duration": 561,
    "start_time": "2023-03-15T10:24:15.020Z"
   },
   {
    "duration": 550,
    "start_time": "2023-03-15T10:24:28.290Z"
   },
   {
    "duration": 825,
    "start_time": "2023-03-15T10:24:47.922Z"
   },
   {
    "duration": 542,
    "start_time": "2023-03-15T10:24:58.227Z"
   },
   {
    "duration": 549,
    "start_time": "2023-03-15T10:25:03.788Z"
   },
   {
    "duration": 532,
    "start_time": "2023-03-15T10:25:12.737Z"
   },
   {
    "duration": 762,
    "start_time": "2023-03-15T10:25:34.077Z"
   },
   {
    "duration": 537,
    "start_time": "2023-03-15T10:26:35.791Z"
   },
   {
    "duration": 562,
    "start_time": "2023-03-15T10:26:57.416Z"
   },
   {
    "duration": 613,
    "start_time": "2023-03-15T10:27:09.574Z"
   },
   {
    "duration": 829,
    "start_time": "2023-03-15T10:27:34.314Z"
   },
   {
    "duration": 652,
    "start_time": "2023-03-15T10:27:45.530Z"
   },
   {
    "duration": 11,
    "start_time": "2023-03-15T10:32:36.125Z"
   },
   {
    "duration": 10,
    "start_time": "2023-03-15T10:32:45.687Z"
   },
   {
    "duration": 10,
    "start_time": "2023-03-15T10:32:54.123Z"
   },
   {
    "duration": 9,
    "start_time": "2023-03-15T10:33:24.813Z"
   },
   {
    "duration": 641,
    "start_time": "2023-03-15T10:34:03.505Z"
   },
   {
    "duration": 10,
    "start_time": "2023-03-15T10:34:15.273Z"
   },
   {
    "duration": 12,
    "start_time": "2023-03-15T10:34:43.619Z"
   },
   {
    "duration": 10,
    "start_time": "2023-03-15T10:35:12.535Z"
   },
   {
    "duration": 12,
    "start_time": "2023-03-15T10:35:17.823Z"
   },
   {
    "duration": 48,
    "start_time": "2023-03-15T10:36:09.419Z"
   },
   {
    "duration": 96891,
    "start_time": "2023-03-15T10:36:17.241Z"
   },
   {
    "duration": 0,
    "start_time": "2023-03-15T10:37:54.136Z"
   },
   {
    "duration": 0,
    "start_time": "2023-03-15T10:37:54.137Z"
   },
   {
    "duration": 3,
    "start_time": "2023-03-15T10:37:57.087Z"
   },
   {
    "duration": 5,
    "start_time": "2023-03-15T10:38:04.977Z"
   },
   {
    "duration": 82,
    "start_time": "2023-03-15T10:38:08.681Z"
   },
   {
    "duration": 91,
    "start_time": "2023-03-15T10:38:39.527Z"
   },
   {
    "duration": 98,
    "start_time": "2023-03-15T10:39:12.211Z"
   },
   {
    "duration": 111,
    "start_time": "2023-03-15T10:39:40.869Z"
   },
   {
    "duration": 234,
    "start_time": "2023-03-15T10:39:47.239Z"
   },
   {
    "duration": 154,
    "start_time": "2023-03-15T10:39:52.319Z"
   },
   {
    "duration": 149,
    "start_time": "2023-03-15T10:43:58.639Z"
   },
   {
    "duration": 163,
    "start_time": "2023-03-15T10:44:03.948Z"
   },
   {
    "duration": 122,
    "start_time": "2023-03-15T10:44:06.880Z"
   },
   {
    "duration": 5,
    "start_time": "2023-03-15T10:46:07.812Z"
   },
   {
    "duration": 6,
    "start_time": "2023-03-15T10:46:46.916Z"
   },
   {
    "duration": 3,
    "start_time": "2023-03-15T10:47:35.820Z"
   },
   {
    "duration": 139,
    "start_time": "2023-03-15T10:48:58.622Z"
   },
   {
    "duration": 110,
    "start_time": "2023-03-15T10:49:57.520Z"
   },
   {
    "duration": 106,
    "start_time": "2023-03-15T10:50:14.821Z"
   },
   {
    "duration": 156,
    "start_time": "2023-03-15T10:50:19.738Z"
   },
   {
    "duration": 4,
    "start_time": "2023-03-15T10:50:28.860Z"
   },
   {
    "duration": 4,
    "start_time": "2023-03-15T10:50:51.952Z"
   },
   {
    "duration": 3,
    "start_time": "2023-03-15T10:51:02.848Z"
   },
   {
    "duration": 661,
    "start_time": "2023-03-15T10:51:51.845Z"
   },
   {
    "duration": 6,
    "start_time": "2023-03-15T10:52:06.783Z"
   },
   {
    "duration": 5,
    "start_time": "2023-03-15T10:52:08.052Z"
   },
   {
    "duration": 601,
    "start_time": "2023-03-15T10:52:11.020Z"
   },
   {
    "duration": 3,
    "start_time": "2023-03-15T10:52:47.068Z"
   },
   {
    "duration": 602,
    "start_time": "2023-03-15T10:52:49.024Z"
   },
   {
    "duration": 3,
    "start_time": "2023-03-15T10:54:08.112Z"
   },
   {
    "duration": 600,
    "start_time": "2023-03-15T10:54:11.345Z"
   },
   {
    "duration": 623,
    "start_time": "2023-03-15T10:54:18.049Z"
   },
   {
    "duration": 669,
    "start_time": "2023-03-15T10:54:25.452Z"
   },
   {
    "duration": 166,
    "start_time": "2023-03-15T10:57:05.733Z"
   },
   {
    "duration": 4,
    "start_time": "2023-03-15T10:57:14.174Z"
   },
   {
    "duration": 1232,
    "start_time": "2023-03-15T10:57:16.764Z"
   },
   {
    "duration": 201,
    "start_time": "2023-03-15T10:57:22.639Z"
   },
   {
    "duration": 593,
    "start_time": "2023-03-15T10:57:57.745Z"
   },
   {
    "duration": 637,
    "start_time": "2023-03-15T10:58:06.273Z"
   },
   {
    "duration": 596,
    "start_time": "2023-03-15T10:58:19.728Z"
   },
   {
    "duration": 639,
    "start_time": "2023-03-15T10:58:31.203Z"
   },
   {
    "duration": 108,
    "start_time": "2023-03-15T10:58:46.150Z"
   },
   {
    "duration": 3,
    "start_time": "2023-03-15T10:59:15.846Z"
   },
   {
    "duration": 300,
    "start_time": "2023-03-15T10:59:17.844Z"
   },
   {
    "duration": 293,
    "start_time": "2023-03-15T10:59:35.743Z"
   },
   {
    "duration": 293,
    "start_time": "2023-03-15T10:59:43.204Z"
   },
   {
    "duration": 286,
    "start_time": "2023-03-15T10:59:58.185Z"
   },
   {
    "duration": 282,
    "start_time": "2023-03-15T11:00:09.164Z"
   },
   {
    "duration": 55,
    "start_time": "2023-03-15T11:11:58.517Z"
   },
   {
    "duration": 60,
    "start_time": "2023-03-15T11:12:02.626Z"
   },
   {
    "duration": 46,
    "start_time": "2023-03-15T11:12:05.803Z"
   },
   {
    "duration": 3,
    "start_time": "2023-03-15T11:14:28.513Z"
   },
   {
    "duration": 287,
    "start_time": "2023-03-15T11:14:30.750Z"
   },
   {
    "duration": 287,
    "start_time": "2023-03-15T11:14:39.943Z"
   },
   {
    "duration": 284,
    "start_time": "2023-03-15T11:15:11.237Z"
   },
   {
    "duration": 4,
    "start_time": "2023-03-15T11:15:13.932Z"
   },
   {
    "duration": 239,
    "start_time": "2023-03-15T11:15:15.371Z"
   },
   {
    "duration": 50,
    "start_time": "2023-03-16T07:59:30.536Z"
   },
   {
    "duration": 1554,
    "start_time": "2023-03-16T07:59:35.592Z"
   },
   {
    "duration": 7,
    "start_time": "2023-03-16T07:59:37.148Z"
   },
   {
    "duration": 581,
    "start_time": "2023-03-16T07:59:37.156Z"
   },
   {
    "duration": 1381,
    "start_time": "2023-03-16T07:59:37.738Z"
   },
   {
    "duration": 181,
    "start_time": "2023-03-16T07:59:39.121Z"
   },
   {
    "duration": 17,
    "start_time": "2023-03-16T07:59:39.303Z"
   },
   {
    "duration": 222,
    "start_time": "2023-03-16T07:59:39.321Z"
   },
   {
    "duration": 22,
    "start_time": "2023-03-16T07:59:39.544Z"
   },
   {
    "duration": 207,
    "start_time": "2023-03-16T07:59:39.567Z"
   },
   {
    "duration": 11,
    "start_time": "2023-03-16T07:59:39.775Z"
   },
   {
    "duration": 113,
    "start_time": "2023-03-16T07:59:39.787Z"
   },
   {
    "duration": 231,
    "start_time": "2023-03-16T07:59:39.901Z"
   },
   {
    "duration": 65,
    "start_time": "2023-03-16T07:59:40.133Z"
   },
   {
    "duration": 19,
    "start_time": "2023-03-16T07:59:40.200Z"
   },
   {
    "duration": 13,
    "start_time": "2023-03-16T07:59:40.221Z"
   },
   {
    "duration": 41,
    "start_time": "2023-03-16T07:59:40.236Z"
   },
   {
    "duration": 25,
    "start_time": "2023-03-16T07:59:40.278Z"
   },
   {
    "duration": 14,
    "start_time": "2023-03-16T07:59:40.304Z"
   },
   {
    "duration": 4,
    "start_time": "2023-03-16T07:59:40.320Z"
   },
   {
    "duration": 32,
    "start_time": "2023-03-16T07:59:40.325Z"
   },
   {
    "duration": 4,
    "start_time": "2023-03-16T07:59:40.359Z"
   },
   {
    "duration": 4,
    "start_time": "2023-03-16T07:59:40.364Z"
   },
   {
    "duration": 5,
    "start_time": "2023-03-16T07:59:40.369Z"
   },
   {
    "duration": 5,
    "start_time": "2023-03-16T07:59:40.376Z"
   },
   {
    "duration": 4,
    "start_time": "2023-03-16T07:59:40.383Z"
   },
   {
    "duration": 357,
    "start_time": "2023-03-16T07:59:40.388Z"
   },
   {
    "duration": 97,
    "start_time": "2023-03-16T07:59:40.747Z"
   },
   {
    "duration": 4,
    "start_time": "2023-03-16T08:11:43.928Z"
   },
   {
    "duration": 262,
    "start_time": "2023-03-16T08:11:44.808Z"
   },
   {
    "duration": 3,
    "start_time": "2023-03-16T08:12:29.944Z"
   },
   {
    "duration": 439,
    "start_time": "2023-03-16T08:12:30.797Z"
   },
   {
    "duration": 4,
    "start_time": "2023-03-16T08:13:08.200Z"
   },
   {
    "duration": 371,
    "start_time": "2023-03-16T08:13:10.404Z"
   },
   {
    "duration": 4,
    "start_time": "2023-03-16T08:13:27.304Z"
   },
   {
    "duration": 472,
    "start_time": "2023-03-16T08:13:28.844Z"
   },
   {
    "duration": 259,
    "start_time": "2023-03-16T08:14:55.280Z"
   },
   {
    "duration": 568,
    "start_time": "2023-03-16T08:15:05.441Z"
   },
   {
    "duration": 3,
    "start_time": "2023-03-16T08:15:37.150Z"
   },
   {
    "duration": 409,
    "start_time": "2023-03-16T08:15:38.149Z"
   },
   {
    "duration": 4,
    "start_time": "2023-03-16T08:15:58.627Z"
   },
   {
    "duration": 212,
    "start_time": "2023-03-16T08:15:59.428Z"
   },
   {
    "duration": 239,
    "start_time": "2023-03-16T08:16:10.887Z"
   },
   {
    "duration": 4,
    "start_time": "2023-03-16T08:18:06.228Z"
   },
   {
    "duration": 217,
    "start_time": "2023-03-16T08:18:10.922Z"
   },
   {
    "duration": 293,
    "start_time": "2023-03-16T08:18:17.624Z"
   },
   {
    "duration": 400,
    "start_time": "2023-03-16T08:19:07.183Z"
   },
   {
    "duration": 284,
    "start_time": "2023-03-16T08:19:15.135Z"
   },
   {
    "duration": 270,
    "start_time": "2023-03-16T08:20:23.424Z"
   },
   {
    "duration": 3,
    "start_time": "2023-03-16T08:20:48.232Z"
   },
   {
    "duration": 248,
    "start_time": "2023-03-16T08:20:49.112Z"
   },
   {
    "duration": 271,
    "start_time": "2023-03-16T08:21:55.825Z"
   },
   {
    "duration": 255,
    "start_time": "2023-03-16T08:22:47.826Z"
   },
   {
    "duration": 350,
    "start_time": "2023-03-16T08:22:54.121Z"
   },
   {
    "duration": 3,
    "start_time": "2023-03-16T08:24:53.600Z"
   },
   {
    "duration": 51,
    "start_time": "2023-03-16T08:26:13.317Z"
   },
   {
    "duration": 3,
    "start_time": "2023-03-16T08:26:17.841Z"
   },
   {
    "duration": 268,
    "start_time": "2023-03-16T08:26:19.469Z"
   },
   {
    "duration": 3,
    "start_time": "2023-03-16T08:26:41.726Z"
   },
   {
    "duration": 321,
    "start_time": "2023-03-16T08:26:43.017Z"
   },
   {
    "duration": 3,
    "start_time": "2023-03-16T08:26:48.717Z"
   },
   {
    "duration": 281,
    "start_time": "2023-03-16T08:26:50.230Z"
   },
   {
    "duration": 3,
    "start_time": "2023-03-16T08:27:40.428Z"
   },
   {
    "duration": 254,
    "start_time": "2023-03-16T08:27:41.382Z"
   },
   {
    "duration": 60,
    "start_time": "2023-03-16T08:28:48.332Z"
   },
   {
    "duration": 14,
    "start_time": "2023-03-16T08:28:52.103Z"
   },
   {
    "duration": 277,
    "start_time": "2023-03-16T08:28:53.538Z"
   },
   {
    "duration": 4,
    "start_time": "2023-03-16T08:29:03.591Z"
   },
   {
    "duration": 310,
    "start_time": "2023-03-16T08:29:04.296Z"
   },
   {
    "duration": 394,
    "start_time": "2023-03-16T08:29:43.708Z"
   },
   {
    "duration": 3,
    "start_time": "2023-03-16T08:30:03.500Z"
   },
   {
    "duration": 266,
    "start_time": "2023-03-16T08:30:04.733Z"
   },
   {
    "duration": 241,
    "start_time": "2023-03-16T08:30:09.738Z"
   },
   {
    "duration": 274,
    "start_time": "2023-03-16T08:30:16.712Z"
   },
   {
    "duration": 253,
    "start_time": "2023-03-16T08:30:22.096Z"
   },
   {
    "duration": 58,
    "start_time": "2023-03-16T08:31:46.445Z"
   },
   {
    "duration": 54,
    "start_time": "2023-03-16T08:32:00.088Z"
   },
   {
    "duration": 267,
    "start_time": "2023-03-16T08:32:44.036Z"
   },
   {
    "duration": 3,
    "start_time": "2023-03-16T08:32:53.720Z"
   },
   {
    "duration": 291,
    "start_time": "2023-03-16T08:32:54.781Z"
   },
   {
    "duration": 334,
    "start_time": "2023-03-16T08:35:15.612Z"
   },
   {
    "duration": 46,
    "start_time": "2023-03-16T08:40:20.538Z"
   },
   {
    "duration": 3,
    "start_time": "2023-03-16T08:40:51.684Z"
   },
   {
    "duration": 259,
    "start_time": "2023-03-16T08:40:52.929Z"
   },
   {
    "duration": 3,
    "start_time": "2023-03-16T08:41:05.488Z"
   },
   {
    "duration": 248,
    "start_time": "2023-03-16T08:41:08.016Z"
   },
   {
    "duration": 4,
    "start_time": "2023-03-16T08:41:14.676Z"
   },
   {
    "duration": 252,
    "start_time": "2023-03-16T08:41:15.784Z"
   },
   {
    "duration": 3,
    "start_time": "2023-03-16T08:41:23.077Z"
   },
   {
    "duration": 249,
    "start_time": "2023-03-16T08:42:50.519Z"
   },
   {
    "duration": 245,
    "start_time": "2023-03-16T08:47:51.082Z"
   },
   {
    "duration": 11,
    "start_time": "2023-03-16T09:42:25.625Z"
   },
   {
    "duration": 3,
    "start_time": "2023-03-16T09:42:30.293Z"
   },
   {
    "duration": 340,
    "start_time": "2023-03-16T09:42:31.449Z"
   },
   {
    "duration": 3808,
    "start_time": "2023-03-16T09:42:38.433Z"
   },
   {
    "duration": 537,
    "start_time": "2023-03-16T09:43:29.366Z"
   },
   {
    "duration": 360,
    "start_time": "2023-03-16T09:44:07.090Z"
   },
   {
    "duration": 416,
    "start_time": "2023-03-16T09:44:16.414Z"
   },
   {
    "duration": 375,
    "start_time": "2023-03-16T09:44:25.004Z"
   },
   {
    "duration": 351,
    "start_time": "2023-03-16T09:50:55.264Z"
   },
   {
    "duration": 399,
    "start_time": "2023-03-16T09:53:09.312Z"
   },
   {
    "duration": 445,
    "start_time": "2023-03-16T09:53:15.885Z"
   },
   {
    "duration": 332,
    "start_time": "2023-03-16T09:53:20.683Z"
   },
   {
    "duration": 385,
    "start_time": "2023-03-16T09:54:01.529Z"
   },
   {
    "duration": 335,
    "start_time": "2023-03-16T09:54:12.300Z"
   },
   {
    "duration": 325,
    "start_time": "2023-03-16T09:54:32.581Z"
   },
   {
    "duration": 3,
    "start_time": "2023-03-16T09:56:32.268Z"
   },
   {
    "duration": 260,
    "start_time": "2023-03-16T09:56:33.643Z"
   },
   {
    "duration": 3,
    "start_time": "2023-03-16T09:56:55.504Z"
   },
   {
    "duration": 276,
    "start_time": "2023-03-16T09:56:57.040Z"
   },
   {
    "duration": 5,
    "start_time": "2023-03-16T10:21:34.033Z"
   },
   {
    "duration": 8,
    "start_time": "2023-03-16T10:38:43.544Z"
   },
   {
    "duration": 5,
    "start_time": "2023-03-16T10:38:46.144Z"
   },
   {
    "duration": 24,
    "start_time": "2023-03-16T10:38:47.301Z"
   },
   {
    "duration": 544,
    "start_time": "2023-03-16T10:40:51.308Z"
   },
   {
    "duration": 42,
    "start_time": "2023-03-16T10:40:59.788Z"
   },
   {
    "duration": 741,
    "start_time": "2023-03-16T10:41:02.801Z"
   },
   {
    "duration": 5,
    "start_time": "2023-03-16T10:41:18.392Z"
   },
   {
    "duration": 124,
    "start_time": "2023-03-16T10:41:19.371Z"
   },
   {
    "duration": 16,
    "start_time": "2023-03-16T10:43:12.755Z"
   },
   {
    "duration": 12,
    "start_time": "2023-03-16T10:43:24.754Z"
   },
   {
    "duration": 5,
    "start_time": "2023-03-16T10:44:24.050Z"
   },
   {
    "duration": 141,
    "start_time": "2023-03-16T10:44:29.730Z"
   },
   {
    "duration": 4,
    "start_time": "2023-03-16T10:44:39.622Z"
   },
   {
    "duration": 168,
    "start_time": "2023-03-16T10:44:41.673Z"
   },
   {
    "duration": 594,
    "start_time": "2023-03-16T10:46:34.305Z"
   },
   {
    "duration": 6,
    "start_time": "2023-03-16T10:48:15.431Z"
   },
   {
    "duration": 153,
    "start_time": "2023-03-16T10:48:16.906Z"
   },
   {
    "duration": 4,
    "start_time": "2023-03-16T10:48:25.814Z"
   },
   {
    "duration": 639,
    "start_time": "2023-03-16T10:48:27.725Z"
   },
   {
    "duration": 1067,
    "start_time": "2023-03-16T10:58:34.883Z"
   },
   {
    "duration": 503,
    "start_time": "2023-03-16T10:59:22.459Z"
   },
   {
    "duration": 1063,
    "start_time": "2023-03-16T10:59:34.796Z"
   },
   {
    "duration": 4,
    "start_time": "2023-03-16T11:00:17.507Z"
   },
   {
    "duration": 254,
    "start_time": "2023-03-16T11:00:20.103Z"
   },
   {
    "duration": 381,
    "start_time": "2023-03-16T11:00:28.555Z"
   },
   {
    "duration": 6,
    "start_time": "2023-03-16T11:34:53.872Z"
   },
   {
    "duration": 689,
    "start_time": "2023-03-16T11:35:15.654Z"
   },
   {
    "duration": 8,
    "start_time": "2023-03-16T11:37:11.236Z"
   },
   {
    "duration": 1049,
    "start_time": "2023-03-16T11:37:22.642Z"
   },
   {
    "duration": 42,
    "start_time": "2023-03-16T11:43:37.424Z"
   },
   {
    "duration": 9,
    "start_time": "2023-03-16T11:44:28.725Z"
   },
   {
    "duration": 1520,
    "start_time": "2023-03-16T11:45:10.701Z"
   },
   {
    "duration": 444,
    "start_time": "2023-03-16T11:45:37.432Z"
   },
   {
    "duration": 1515,
    "start_time": "2023-03-16T11:45:57.142Z"
   },
   {
    "duration": 1556,
    "start_time": "2023-03-16T11:46:05.132Z"
   },
   {
    "duration": 430,
    "start_time": "2023-03-16T11:48:54.102Z"
   },
   {
    "duration": 435,
    "start_time": "2023-03-16T11:48:59.729Z"
   },
   {
    "duration": 551,
    "start_time": "2023-03-16T11:49:39.022Z"
   },
   {
    "duration": 466,
    "start_time": "2023-03-16T11:49:46.989Z"
   },
   {
    "duration": 887,
    "start_time": "2023-03-16T11:50:27.241Z"
   },
   {
    "duration": 1026,
    "start_time": "2023-03-16T11:50:59.797Z"
   },
   {
    "duration": 107,
    "start_time": "2023-03-16T11:54:18.338Z"
   },
   {
    "duration": 902,
    "start_time": "2023-03-16T11:54:23.634Z"
   },
   {
    "duration": 539,
    "start_time": "2023-03-16T11:55:39.493Z"
   },
   {
    "duration": 505,
    "start_time": "2023-03-16T11:56:48.586Z"
   },
   {
    "duration": 437,
    "start_time": "2023-03-16T11:57:11.545Z"
   },
   {
    "duration": 685,
    "start_time": "2023-03-16T11:57:26.173Z"
   },
   {
    "duration": 1343,
    "start_time": "2023-03-16T11:58:14.352Z"
   },
   {
    "duration": 1388,
    "start_time": "2023-03-16T11:58:56.179Z"
   },
   {
    "duration": 1396,
    "start_time": "2023-03-16T11:59:24.848Z"
   },
   {
    "duration": 1206,
    "start_time": "2023-03-16T12:01:51.711Z"
   },
   {
    "duration": 55,
    "start_time": "2023-03-16T12:02:00.697Z"
   },
   {
    "duration": 1467,
    "start_time": "2023-03-16T12:02:05.737Z"
   },
   {
    "duration": 1438,
    "start_time": "2023-03-16T12:03:08.723Z"
   },
   {
    "duration": 1158,
    "start_time": "2023-03-16T12:03:21.913Z"
   },
   {
    "duration": 1559,
    "start_time": "2023-03-16T12:03:42.995Z"
   },
   {
    "duration": 1223,
    "start_time": "2023-03-16T12:03:54.996Z"
   },
   {
    "duration": 52,
    "start_time": "2023-03-16T12:06:02.690Z"
   },
   {
    "duration": 139,
    "start_time": "2023-03-16T12:06:08.749Z"
   },
   {
    "duration": 248,
    "start_time": "2023-03-16T12:06:45.723Z"
   },
   {
    "duration": 242,
    "start_time": "2023-03-16T12:06:53.866Z"
   },
   {
    "duration": 242,
    "start_time": "2023-03-16T12:07:12.488Z"
   },
   {
    "duration": 9,
    "start_time": "2023-03-16T12:09:11.160Z"
   },
   {
    "duration": 1602,
    "start_time": "2023-03-16T12:09:35.098Z"
   },
   {
    "duration": 941,
    "start_time": "2023-03-16T12:09:43.434Z"
   },
   {
    "duration": 1483,
    "start_time": "2023-03-16T12:09:54.218Z"
   },
   {
    "duration": 956,
    "start_time": "2023-03-16T12:10:03.087Z"
   },
   {
    "duration": 951,
    "start_time": "2023-03-16T12:11:41.404Z"
   },
   {
    "duration": 1496,
    "start_time": "2023-03-16T12:11:48.116Z"
   },
   {
    "duration": 142,
    "start_time": "2023-03-16T12:15:34.555Z"
   },
   {
    "duration": 938,
    "start_time": "2023-03-16T12:15:45.052Z"
   },
   {
    "duration": 197,
    "start_time": "2023-03-16T12:30:53.699Z"
   },
   {
    "duration": 176,
    "start_time": "2023-03-16T12:31:08.311Z"
   },
   {
    "duration": 172,
    "start_time": "2023-03-16T12:31:55.042Z"
   },
   {
    "duration": 195,
    "start_time": "2023-03-16T12:32:22.922Z"
   },
   {
    "duration": 175,
    "start_time": "2023-03-16T12:32:38.788Z"
   },
   {
    "duration": 163,
    "start_time": "2023-03-16T12:34:24.708Z"
   },
   {
    "duration": 169,
    "start_time": "2023-03-16T12:34:29.199Z"
   },
   {
    "duration": 174,
    "start_time": "2023-03-16T12:34:33.599Z"
   },
   {
    "duration": 482,
    "start_time": "2023-03-16T12:36:33.696Z"
   },
   {
    "duration": 536,
    "start_time": "2023-03-16T12:36:51.599Z"
   },
   {
    "duration": 1219,
    "start_time": "2023-03-16T12:37:04.622Z"
   },
   {
    "duration": 617,
    "start_time": "2023-03-16T12:37:14.083Z"
   },
   {
    "duration": 9,
    "start_time": "2023-03-16T12:38:32.518Z"
   },
   {
    "duration": 316,
    "start_time": "2023-03-16T12:38:46.792Z"
   },
   {
    "duration": 272,
    "start_time": "2023-03-16T12:40:00.650Z"
   },
   {
    "duration": 1206,
    "start_time": "2023-03-16T12:41:57.818Z"
   },
   {
    "duration": 10,
    "start_time": "2023-03-16T12:42:07.232Z"
   },
   {
    "duration": 954,
    "start_time": "2023-03-16T12:42:31.039Z"
   },
   {
    "duration": 1041,
    "start_time": "2023-03-16T12:42:42.403Z"
   },
   {
    "duration": 59,
    "start_time": "2023-03-16T12:46:35.527Z"
   },
   {
    "duration": 1793,
    "start_time": "2023-03-16T12:46:44.526Z"
   },
   {
    "duration": 160,
    "start_time": "2023-03-16T12:47:24.627Z"
   },
   {
    "duration": 1239,
    "start_time": "2023-03-16T12:50:10.452Z"
   },
   {
    "duration": 9,
    "start_time": "2023-03-16T12:50:46.008Z"
   },
   {
    "duration": 14,
    "start_time": "2023-03-16T12:50:55.528Z"
   },
   {
    "duration": 13,
    "start_time": "2023-03-16T12:51:02.619Z"
   },
   {
    "duration": 1527,
    "start_time": "2023-03-16T12:51:14.704Z"
   },
   {
    "duration": 13,
    "start_time": "2023-03-16T12:51:22.341Z"
   },
   {
    "duration": 13,
    "start_time": "2023-03-16T12:51:36.892Z"
   },
   {
    "duration": 2273,
    "start_time": "2023-03-16T12:51:44.208Z"
   },
   {
    "duration": 9,
    "start_time": "2023-03-16T12:52:16.444Z"
   },
   {
    "duration": 13,
    "start_time": "2023-03-16T12:52:21.938Z"
   },
   {
    "duration": 13,
    "start_time": "2023-03-16T12:52:42.983Z"
   },
   {
    "duration": 145,
    "start_time": "2023-03-16T12:53:02.493Z"
   },
   {
    "duration": 1149,
    "start_time": "2023-03-16T12:53:45.891Z"
   },
   {
    "duration": 1504,
    "start_time": "2023-03-16T12:53:51.138Z"
   },
   {
    "duration": 958,
    "start_time": "2023-03-16T12:54:43.634Z"
   },
   {
    "duration": 17,
    "start_time": "2023-03-16T12:55:00.041Z"
   },
   {
    "duration": 12,
    "start_time": "2023-03-16T12:55:30.282Z"
   },
   {
    "duration": 12,
    "start_time": "2023-03-16T12:58:08.649Z"
   },
   {
    "duration": 303,
    "start_time": "2023-03-16T12:58:14.603Z"
   },
   {
    "duration": 62,
    "start_time": "2023-03-16T12:58:41.479Z"
   },
   {
    "duration": 14,
    "start_time": "2023-03-16T12:58:51.611Z"
   },
   {
    "duration": 13,
    "start_time": "2023-03-16T12:59:01.125Z"
   },
   {
    "duration": 19,
    "start_time": "2023-03-16T12:59:08.776Z"
   },
   {
    "duration": 14,
    "start_time": "2023-03-16T12:59:43.390Z"
   },
   {
    "duration": 10,
    "start_time": "2023-03-16T13:10:28.871Z"
   },
   {
    "duration": 11,
    "start_time": "2023-03-16T13:10:37.762Z"
   },
   {
    "duration": 16,
    "start_time": "2023-03-16T13:10:44.203Z"
   },
   {
    "duration": 14,
    "start_time": "2023-03-16T13:10:51.899Z"
   },
   {
    "duration": 264,
    "start_time": "2023-03-16T13:10:59.438Z"
   },
   {
    "duration": 283,
    "start_time": "2023-03-16T13:11:06.610Z"
   },
   {
    "duration": 264,
    "start_time": "2023-03-16T13:11:26.242Z"
   },
   {
    "duration": 240,
    "start_time": "2023-03-16T13:11:30.568Z"
   },
   {
    "duration": 256,
    "start_time": "2023-03-16T13:11:36.246Z"
   },
   {
    "duration": 254,
    "start_time": "2023-03-16T13:11:43.651Z"
   },
   {
    "duration": 14,
    "start_time": "2023-03-16T13:13:16.924Z"
   },
   {
    "duration": 13,
    "start_time": "2023-03-16T13:14:13.291Z"
   },
   {
    "duration": 1840,
    "start_time": "2023-03-16T13:20:20.397Z"
   },
   {
    "duration": 1284,
    "start_time": "2023-03-16T13:20:52.050Z"
   },
   {
    "duration": 1733,
    "start_time": "2023-03-16T13:21:10.279Z"
   },
   {
    "duration": 1292,
    "start_time": "2023-03-16T13:21:26.137Z"
   },
   {
    "duration": 1234,
    "start_time": "2023-03-16T13:26:37.438Z"
   },
   {
    "duration": 1187,
    "start_time": "2023-03-16T13:27:27.955Z"
   },
   {
    "duration": 1268,
    "start_time": "2023-03-16T13:27:30.759Z"
   },
   {
    "duration": 1958,
    "start_time": "2023-03-16T13:28:16.071Z"
   },
   {
    "duration": 1258,
    "start_time": "2023-03-16T13:28:41.003Z"
   },
   {
    "duration": 1222,
    "start_time": "2023-03-16T13:29:13.988Z"
   },
   {
    "duration": 15,
    "start_time": "2023-03-16T13:29:58.727Z"
   },
   {
    "duration": 15,
    "start_time": "2023-03-16T13:30:32.930Z"
   },
   {
    "duration": 10,
    "start_time": "2023-03-16T13:33:39.922Z"
   },
   {
    "duration": 11,
    "start_time": "2023-03-16T13:34:05.184Z"
   },
   {
    "duration": 10,
    "start_time": "2023-03-16T13:34:43.895Z"
   },
   {
    "duration": 3,
    "start_time": "2023-03-16T13:46:25.538Z"
   },
   {
    "duration": 41,
    "start_time": "2023-03-16T13:47:16.866Z"
   },
   {
    "duration": 5,
    "start_time": "2023-03-16T13:47:25.185Z"
   },
   {
    "duration": 929,
    "start_time": "2023-03-16T13:47:39.330Z"
   },
   {
    "duration": 6,
    "start_time": "2023-03-16T13:48:13.360Z"
   },
   {
    "duration": 415,
    "start_time": "2023-03-16T13:48:15.321Z"
   },
   {
    "duration": 6,
    "start_time": "2023-03-16T13:48:24.305Z"
   },
   {
    "duration": 8,
    "start_time": "2023-03-16T13:48:24.313Z"
   },
   {
    "duration": 451,
    "start_time": "2023-03-16T13:48:24.323Z"
   },
   {
    "duration": 315,
    "start_time": "2023-03-16T13:48:24.777Z"
   },
   {
    "duration": 104,
    "start_time": "2023-03-16T13:48:25.094Z"
   },
   {
    "duration": 20,
    "start_time": "2023-03-16T13:48:25.200Z"
   },
   {
    "duration": 276,
    "start_time": "2023-03-16T13:48:25.222Z"
   },
   {
    "duration": 18,
    "start_time": "2023-03-16T13:48:25.499Z"
   },
   {
    "duration": 233,
    "start_time": "2023-03-16T13:48:25.519Z"
   },
   {
    "duration": 12,
    "start_time": "2023-03-16T13:48:25.755Z"
   },
   {
    "duration": 117,
    "start_time": "2023-03-16T13:48:25.769Z"
   },
   {
    "duration": 231,
    "start_time": "2023-03-16T13:48:25.888Z"
   },
   {
    "duration": 35,
    "start_time": "2023-03-16T13:48:26.121Z"
   },
   {
    "duration": 21,
    "start_time": "2023-03-16T13:48:26.157Z"
   },
   {
    "duration": 15,
    "start_time": "2023-03-16T13:48:26.180Z"
   },
   {
    "duration": 28,
    "start_time": "2023-03-16T13:48:26.197Z"
   },
   {
    "duration": 52,
    "start_time": "2023-03-16T13:48:26.226Z"
   },
   {
    "duration": 18,
    "start_time": "2023-03-16T13:48:26.279Z"
   },
   {
    "duration": 4,
    "start_time": "2023-03-16T13:48:26.298Z"
   },
   {
    "duration": 4,
    "start_time": "2023-03-16T13:48:26.304Z"
   },
   {
    "duration": 5,
    "start_time": "2023-03-16T13:48:26.310Z"
   },
   {
    "duration": 6,
    "start_time": "2023-03-16T13:48:26.316Z"
   },
   {
    "duration": 34,
    "start_time": "2023-03-16T13:48:26.323Z"
   },
   {
    "duration": 5,
    "start_time": "2023-03-16T13:48:26.360Z"
   },
   {
    "duration": 3,
    "start_time": "2023-03-16T13:48:26.367Z"
   },
   {
    "duration": 308,
    "start_time": "2023-03-16T13:48:26.371Z"
   },
   {
    "duration": 466,
    "start_time": "2023-03-16T13:48:26.681Z"
   },
   {
    "duration": 10,
    "start_time": "2023-03-16T13:48:27.155Z"
   },
   {
    "duration": 1223,
    "start_time": "2023-03-16T13:48:27.166Z"
   },
   {
    "duration": 4,
    "start_time": "2023-03-16T13:48:28.390Z"
   },
   {
    "duration": 357,
    "start_time": "2023-03-16T13:48:28.395Z"
   },
   {
    "duration": 714,
    "start_time": "2023-03-16T13:50:20.149Z"
   },
   {
    "duration": 799,
    "start_time": "2023-03-16T13:50:39.900Z"
   },
   {
    "duration": 5,
    "start_time": "2023-03-16T13:50:44.871Z"
   },
   {
    "duration": 3,
    "start_time": "2023-03-16T13:50:44.878Z"
   },
   {
    "duration": 401,
    "start_time": "2023-03-16T13:50:44.883Z"
   },
   {
    "duration": 329,
    "start_time": "2023-03-16T13:50:45.285Z"
   },
   {
    "duration": 106,
    "start_time": "2023-03-16T13:50:45.616Z"
   },
   {
    "duration": 17,
    "start_time": "2023-03-16T13:50:45.724Z"
   },
   {
    "duration": 235,
    "start_time": "2023-03-16T13:50:45.742Z"
   },
   {
    "duration": 15,
    "start_time": "2023-03-16T13:50:45.979Z"
   },
   {
    "duration": 219,
    "start_time": "2023-03-16T13:50:45.996Z"
   },
   {
    "duration": 12,
    "start_time": "2023-03-16T13:50:46.216Z"
   },
   {
    "duration": 127,
    "start_time": "2023-03-16T13:50:46.230Z"
   },
   {
    "duration": 246,
    "start_time": "2023-03-16T13:50:46.359Z"
   },
   {
    "duration": 30,
    "start_time": "2023-03-16T13:50:46.607Z"
   },
   {
    "duration": 35,
    "start_time": "2023-03-16T13:50:46.640Z"
   },
   {
    "duration": 22,
    "start_time": "2023-03-16T13:50:46.677Z"
   },
   {
    "duration": 68,
    "start_time": "2023-03-16T13:50:46.702Z"
   },
   {
    "duration": 31,
    "start_time": "2023-03-16T13:50:46.772Z"
   },
   {
    "duration": 22,
    "start_time": "2023-03-16T13:50:46.805Z"
   },
   {
    "duration": 29,
    "start_time": "2023-03-16T13:50:46.829Z"
   },
   {
    "duration": 6,
    "start_time": "2023-03-16T13:50:46.859Z"
   },
   {
    "duration": 6,
    "start_time": "2023-03-16T13:50:46.867Z"
   },
   {
    "duration": 17,
    "start_time": "2023-03-16T13:50:46.874Z"
   },
   {
    "duration": 6,
    "start_time": "2023-03-16T13:50:46.892Z"
   },
   {
    "duration": 9,
    "start_time": "2023-03-16T13:50:46.900Z"
   },
   {
    "duration": 4,
    "start_time": "2023-03-16T13:50:46.911Z"
   },
   {
    "duration": 275,
    "start_time": "2023-03-16T13:50:46.917Z"
   },
   {
    "duration": 437,
    "start_time": "2023-03-16T13:50:47.193Z"
   },
   {
    "duration": 12,
    "start_time": "2023-03-16T13:50:47.632Z"
   },
   {
    "duration": 1808,
    "start_time": "2023-03-16T13:50:47.655Z"
   },
   {
    "duration": 712,
    "start_time": "2023-03-16T13:50:49.465Z"
   },
   {
    "duration": 0,
    "start_time": "2023-03-16T13:50:50.179Z"
   },
   {
    "duration": 29,
    "start_time": "2023-03-16T13:51:03.273Z"
   },
   {
    "duration": 13,
    "start_time": "2023-03-16T13:53:18.394Z"
   },
   {
    "duration": 11,
    "start_time": "2023-03-16T14:06:07.310Z"
   },
   {
    "duration": 9,
    "start_time": "2023-03-16T14:09:18.588Z"
   },
   {
    "duration": 21,
    "start_time": "2023-03-16T14:10:52.666Z"
   },
   {
    "duration": 892,
    "start_time": "2023-03-16T14:11:59.813Z"
   },
   {
    "duration": 28,
    "start_time": "2023-03-16T14:12:37.940Z"
   },
   {
    "duration": 18,
    "start_time": "2023-03-16T14:13:05.205Z"
   },
   {
    "duration": 33,
    "start_time": "2023-03-16T14:13:16.647Z"
   },
   {
    "duration": 9,
    "start_time": "2023-03-16T14:13:35.673Z"
   },
   {
    "duration": 13,
    "start_time": "2023-03-16T14:14:36.063Z"
   },
   {
    "duration": 9,
    "start_time": "2023-03-16T14:14:53.835Z"
   },
   {
    "duration": 1448,
    "start_time": "2023-03-16T14:14:57.637Z"
   },
   {
    "duration": 11,
    "start_time": "2023-03-16T14:15:12.097Z"
   },
   {
    "duration": 8,
    "start_time": "2023-03-16T14:15:26.788Z"
   },
   {
    "duration": 10,
    "start_time": "2023-03-16T14:25:17.523Z"
   },
   {
    "duration": 254,
    "start_time": "2023-03-16T14:29:50.279Z"
   },
   {
    "duration": 273,
    "start_time": "2023-03-16T14:30:23.318Z"
   },
   {
    "duration": 3,
    "start_time": "2023-03-16T14:30:44.023Z"
   },
   {
    "duration": 5,
    "start_time": "2023-03-16T14:30:44.028Z"
   },
   {
    "duration": 401,
    "start_time": "2023-03-16T14:30:44.034Z"
   },
   {
    "duration": 295,
    "start_time": "2023-03-16T14:30:44.436Z"
   },
   {
    "duration": 106,
    "start_time": "2023-03-16T14:30:44.733Z"
   },
   {
    "duration": 27,
    "start_time": "2023-03-16T14:30:44.841Z"
   },
   {
    "duration": 244,
    "start_time": "2023-03-16T14:30:44.869Z"
   },
   {
    "duration": 15,
    "start_time": "2023-03-16T14:30:45.115Z"
   },
   {
    "duration": 216,
    "start_time": "2023-03-16T14:30:45.131Z"
   },
   {
    "duration": 25,
    "start_time": "2023-03-16T14:30:45.348Z"
   },
   {
    "duration": 124,
    "start_time": "2023-03-16T14:30:45.377Z"
   },
   {
    "duration": 263,
    "start_time": "2023-03-16T14:30:45.503Z"
   },
   {
    "duration": 22,
    "start_time": "2023-03-16T14:30:45.768Z"
   },
   {
    "duration": 20,
    "start_time": "2023-03-16T14:30:45.791Z"
   },
   {
    "duration": 15,
    "start_time": "2023-03-16T14:30:45.812Z"
   },
   {
    "duration": 46,
    "start_time": "2023-03-16T14:30:45.829Z"
   },
   {
    "duration": 25,
    "start_time": "2023-03-16T14:30:45.876Z"
   },
   {
    "duration": 16,
    "start_time": "2023-03-16T14:30:45.903Z"
   },
   {
    "duration": 9,
    "start_time": "2023-03-16T14:30:45.920Z"
   },
   {
    "duration": 35,
    "start_time": "2023-03-16T14:30:45.930Z"
   },
   {
    "duration": 5,
    "start_time": "2023-03-16T14:30:45.967Z"
   },
   {
    "duration": 8,
    "start_time": "2023-03-16T14:30:45.973Z"
   },
   {
    "duration": 18,
    "start_time": "2023-03-16T14:30:45.982Z"
   },
   {
    "duration": 11,
    "start_time": "2023-03-16T14:30:46.002Z"
   },
   {
    "duration": 14,
    "start_time": "2023-03-16T14:30:46.015Z"
   },
   {
    "duration": 260,
    "start_time": "2023-03-16T14:30:46.031Z"
   },
   {
    "duration": 483,
    "start_time": "2023-03-16T14:30:46.292Z"
   },
   {
    "duration": 12,
    "start_time": "2023-03-16T14:30:46.777Z"
   },
   {
    "duration": 1785,
    "start_time": "2023-03-16T14:30:46.792Z"
   },
   {
    "duration": 10,
    "start_time": "2023-03-16T14:30:48.579Z"
   },
   {
    "duration": 0,
    "start_time": "2023-03-16T14:30:48.591Z"
   },
   {
    "duration": 257,
    "start_time": "2023-03-16T14:31:21.315Z"
   },
   {
    "duration": 251,
    "start_time": "2023-03-16T14:31:33.773Z"
   },
   {
    "duration": 303,
    "start_time": "2023-03-16T14:31:44.566Z"
   },
   {
    "duration": 38,
    "start_time": "2023-03-16T14:33:16.179Z"
   },
   {
    "duration": 40,
    "start_time": "2023-03-16T14:33:48.690Z"
   },
   {
    "duration": 10,
    "start_time": "2023-03-16T14:33:53.241Z"
   },
   {
    "duration": 35,
    "start_time": "2023-03-16T14:33:58.813Z"
   },
   {
    "duration": 257,
    "start_time": "2023-03-16T14:36:31.176Z"
   },
   {
    "duration": 4,
    "start_time": "2023-03-16T14:36:45.566Z"
   },
   {
    "duration": 12,
    "start_time": "2023-03-16T14:36:45.572Z"
   },
   {
    "duration": 413,
    "start_time": "2023-03-16T14:36:45.586Z"
   },
   {
    "duration": 294,
    "start_time": "2023-03-16T14:36:46.001Z"
   },
   {
    "duration": 113,
    "start_time": "2023-03-16T14:36:46.297Z"
   },
   {
    "duration": 16,
    "start_time": "2023-03-16T14:36:46.412Z"
   },
   {
    "duration": 242,
    "start_time": "2023-03-16T14:36:46.430Z"
   },
   {
    "duration": 16,
    "start_time": "2023-03-16T14:36:46.674Z"
   },
   {
    "duration": 292,
    "start_time": "2023-03-16T14:36:46.692Z"
   },
   {
    "duration": 16,
    "start_time": "2023-03-16T14:36:46.986Z"
   },
   {
    "duration": 143,
    "start_time": "2023-03-16T14:36:47.006Z"
   },
   {
    "duration": 245,
    "start_time": "2023-03-16T14:36:47.151Z"
   },
   {
    "duration": 24,
    "start_time": "2023-03-16T14:36:47.397Z"
   },
   {
    "duration": 44,
    "start_time": "2023-03-16T14:36:47.422Z"
   },
   {
    "duration": 16,
    "start_time": "2023-03-16T14:36:47.468Z"
   },
   {
    "duration": 25,
    "start_time": "2023-03-16T14:36:47.486Z"
   },
   {
    "duration": 51,
    "start_time": "2023-03-16T14:36:47.513Z"
   },
   {
    "duration": 18,
    "start_time": "2023-03-16T14:36:47.566Z"
   },
   {
    "duration": 4,
    "start_time": "2023-03-16T14:36:47.586Z"
   },
   {
    "duration": 9,
    "start_time": "2023-03-16T14:36:47.591Z"
   },
   {
    "duration": 6,
    "start_time": "2023-03-16T14:36:47.602Z"
   },
   {
    "duration": 28,
    "start_time": "2023-03-16T14:36:47.609Z"
   },
   {
    "duration": 15,
    "start_time": "2023-03-16T14:36:47.639Z"
   },
   {
    "duration": 8,
    "start_time": "2023-03-16T14:36:47.665Z"
   },
   {
    "duration": 5,
    "start_time": "2023-03-16T14:36:47.674Z"
   },
   {
    "duration": 265,
    "start_time": "2023-03-16T14:36:47.680Z"
   },
   {
    "duration": 398,
    "start_time": "2023-03-16T14:36:47.947Z"
   },
   {
    "duration": 25,
    "start_time": "2023-03-16T14:36:48.347Z"
   },
   {
    "duration": 1288,
    "start_time": "2023-03-16T14:36:48.376Z"
   },
   {
    "duration": 15,
    "start_time": "2023-03-16T14:36:49.673Z"
   },
   {
    "duration": 0,
    "start_time": "2023-03-16T14:36:49.693Z"
   },
   {
    "duration": 253,
    "start_time": "2023-03-16T14:37:45.432Z"
   },
   {
    "duration": 255,
    "start_time": "2023-03-16T14:38:02.046Z"
   },
   {
    "duration": 264,
    "start_time": "2023-03-16T14:38:06.107Z"
   },
   {
    "duration": 389,
    "start_time": "2023-03-16T14:38:09.041Z"
   },
   {
    "duration": 254,
    "start_time": "2023-03-16T14:38:31.496Z"
   },
   {
    "duration": 266,
    "start_time": "2023-03-16T14:39:02.674Z"
   },
   {
    "duration": 284,
    "start_time": "2023-03-16T14:39:29.498Z"
   },
   {
    "duration": 830,
    "start_time": "2023-03-16T14:39:42.844Z"
   },
   {
    "duration": 33,
    "start_time": "2023-03-16T14:39:55.015Z"
   },
   {
    "duration": 264,
    "start_time": "2023-03-16T14:40:12.538Z"
   },
   {
    "duration": 5,
    "start_time": "2023-03-16T14:40:22.167Z"
   },
   {
    "duration": 4,
    "start_time": "2023-03-16T14:40:22.174Z"
   },
   {
    "duration": 423,
    "start_time": "2023-03-16T14:40:22.180Z"
   },
   {
    "duration": 321,
    "start_time": "2023-03-16T14:40:22.605Z"
   },
   {
    "duration": 115,
    "start_time": "2023-03-16T14:40:22.927Z"
   },
   {
    "duration": 27,
    "start_time": "2023-03-16T14:40:23.043Z"
   },
   {
    "duration": 227,
    "start_time": "2023-03-16T14:40:23.072Z"
   },
   {
    "duration": 16,
    "start_time": "2023-03-16T14:40:23.301Z"
   },
   {
    "duration": 245,
    "start_time": "2023-03-16T14:40:23.320Z"
   },
   {
    "duration": 14,
    "start_time": "2023-03-16T14:40:23.567Z"
   },
   {
    "duration": 127,
    "start_time": "2023-03-16T14:40:23.582Z"
   },
   {
    "duration": 235,
    "start_time": "2023-03-16T14:40:23.711Z"
   },
   {
    "duration": 29,
    "start_time": "2023-03-16T14:40:23.948Z"
   },
   {
    "duration": 22,
    "start_time": "2023-03-16T14:40:23.978Z"
   },
   {
    "duration": 16,
    "start_time": "2023-03-16T14:40:24.001Z"
   },
   {
    "duration": 56,
    "start_time": "2023-03-16T14:40:24.018Z"
   },
   {
    "duration": 25,
    "start_time": "2023-03-16T14:40:24.076Z"
   },
   {
    "duration": 18,
    "start_time": "2023-03-16T14:40:24.103Z"
   },
   {
    "duration": 5,
    "start_time": "2023-03-16T14:40:24.122Z"
   },
   {
    "duration": 32,
    "start_time": "2023-03-16T14:40:24.128Z"
   },
   {
    "duration": 9,
    "start_time": "2023-03-16T14:40:24.161Z"
   },
   {
    "duration": 12,
    "start_time": "2023-03-16T14:40:24.171Z"
   },
   {
    "duration": 7,
    "start_time": "2023-03-16T14:40:24.184Z"
   },
   {
    "duration": 6,
    "start_time": "2023-03-16T14:40:24.194Z"
   },
   {
    "duration": 4,
    "start_time": "2023-03-16T14:40:24.201Z"
   },
   {
    "duration": 287,
    "start_time": "2023-03-16T14:40:24.207Z"
   },
   {
    "duration": 451,
    "start_time": "2023-03-16T14:40:24.495Z"
   },
   {
    "duration": 18,
    "start_time": "2023-03-16T14:40:24.947Z"
   },
   {
    "duration": 1309,
    "start_time": "2023-03-16T14:40:24.967Z"
   },
   {
    "duration": 11,
    "start_time": "2023-03-16T14:40:26.277Z"
   },
   {
    "duration": 0,
    "start_time": "2023-03-16T14:40:26.289Z"
   },
   {
    "duration": 275,
    "start_time": "2023-03-16T14:40:32.855Z"
   },
   {
    "duration": 254,
    "start_time": "2023-03-16T14:40:33.879Z"
   },
   {
    "duration": 252,
    "start_time": "2023-03-16T14:40:34.686Z"
   },
   {
    "duration": 298,
    "start_time": "2023-03-16T14:40:35.193Z"
   },
   {
    "duration": 240,
    "start_time": "2023-03-16T14:40:35.592Z"
   },
   {
    "duration": 2,
    "start_time": "2023-03-16T14:40:46.985Z"
   },
   {
    "duration": 254,
    "start_time": "2023-03-16T14:40:48.339Z"
   },
   {
    "duration": 4,
    "start_time": "2023-03-16T14:41:11.966Z"
   },
   {
    "duration": 258,
    "start_time": "2023-03-16T14:41:13.146Z"
   },
   {
    "duration": 2,
    "start_time": "2023-03-16T14:41:28.498Z"
   },
   {
    "duration": 5,
    "start_time": "2023-03-16T14:41:29.566Z"
   },
   {
    "duration": 243,
    "start_time": "2023-03-16T14:41:29.779Z"
   },
   {
    "duration": 410,
    "start_time": "2023-03-16T14:41:37.933Z"
   },
   {
    "duration": 3,
    "start_time": "2023-03-16T14:42:14.289Z"
   },
   {
    "duration": 3,
    "start_time": "2023-03-16T14:42:15.435Z"
   },
   {
    "duration": 245,
    "start_time": "2023-03-16T14:42:15.667Z"
   },
   {
    "duration": 3,
    "start_time": "2023-03-16T14:42:27.700Z"
   },
   {
    "duration": 242,
    "start_time": "2023-03-16T14:42:27.966Z"
   },
   {
    "duration": 3,
    "start_time": "2023-03-16T14:42:41.822Z"
   },
   {
    "duration": 3,
    "start_time": "2023-03-16T14:42:42.487Z"
   },
   {
    "duration": 263,
    "start_time": "2023-03-16T14:42:42.682Z"
   },
   {
    "duration": 3,
    "start_time": "2023-03-16T14:42:55.670Z"
   },
   {
    "duration": 795,
    "start_time": "2023-03-16T14:42:55.832Z"
   },
   {
    "duration": 3,
    "start_time": "2023-03-16T14:43:11.095Z"
   },
   {
    "duration": 245,
    "start_time": "2023-03-16T14:43:11.339Z"
   },
   {
    "duration": 7,
    "start_time": "2023-03-16T14:43:26.340Z"
   },
   {
    "duration": 290,
    "start_time": "2023-03-16T14:43:26.545Z"
   },
   {
    "duration": 3,
    "start_time": "2023-03-16T14:43:40.467Z"
   },
   {
    "duration": 257,
    "start_time": "2023-03-16T14:43:40.657Z"
   },
   {
    "duration": 3,
    "start_time": "2023-03-16T14:43:51.215Z"
   },
   {
    "duration": 286,
    "start_time": "2023-03-16T14:43:51.435Z"
   },
   {
    "duration": 3,
    "start_time": "2023-03-16T14:44:15.108Z"
   },
   {
    "duration": 296,
    "start_time": "2023-03-16T14:44:15.353Z"
   },
   {
    "duration": 3,
    "start_time": "2023-03-16T14:44:36.447Z"
   },
   {
    "duration": 257,
    "start_time": "2023-03-16T14:44:36.635Z"
   },
   {
    "duration": 52,
    "start_time": "2023-03-16T14:46:34.336Z"
   },
   {
    "duration": 255,
    "start_time": "2023-03-16T14:46:34.550Z"
   },
   {
    "duration": 44,
    "start_time": "2023-03-16T14:46:56.152Z"
   },
   {
    "duration": 37,
    "start_time": "2023-03-16T14:47:12.892Z"
   },
   {
    "duration": 269,
    "start_time": "2023-03-16T14:48:08.955Z"
   },
   {
    "duration": 272,
    "start_time": "2023-03-16T14:48:21.627Z"
   },
   {
    "duration": 4,
    "start_time": "2023-03-16T14:48:28.943Z"
   },
   {
    "duration": 11,
    "start_time": "2023-03-16T14:48:28.949Z"
   },
   {
    "duration": 470,
    "start_time": "2023-03-16T14:48:28.967Z"
   },
   {
    "duration": 361,
    "start_time": "2023-03-16T14:48:29.439Z"
   },
   {
    "duration": 110,
    "start_time": "2023-03-16T14:48:29.802Z"
   },
   {
    "duration": 20,
    "start_time": "2023-03-16T14:48:29.913Z"
   },
   {
    "duration": 253,
    "start_time": "2023-03-16T14:48:29.934Z"
   },
   {
    "duration": 17,
    "start_time": "2023-03-16T14:48:30.189Z"
   },
   {
    "duration": 252,
    "start_time": "2023-03-16T14:48:30.208Z"
   },
   {
    "duration": 13,
    "start_time": "2023-03-16T14:48:30.466Z"
   },
   {
    "duration": 121,
    "start_time": "2023-03-16T14:48:30.481Z"
   },
   {
    "duration": 246,
    "start_time": "2023-03-16T14:48:30.603Z"
   },
   {
    "duration": 32,
    "start_time": "2023-03-16T14:48:30.850Z"
   },
   {
    "duration": 21,
    "start_time": "2023-03-16T14:48:30.884Z"
   },
   {
    "duration": 16,
    "start_time": "2023-03-16T14:48:30.907Z"
   },
   {
    "duration": 55,
    "start_time": "2023-03-16T14:48:30.925Z"
   },
   {
    "duration": 28,
    "start_time": "2023-03-16T14:48:30.981Z"
   },
   {
    "duration": 16,
    "start_time": "2023-03-16T14:48:31.011Z"
   },
   {
    "duration": 5,
    "start_time": "2023-03-16T14:48:31.028Z"
   },
   {
    "duration": 5,
    "start_time": "2023-03-16T14:48:31.056Z"
   },
   {
    "duration": 4,
    "start_time": "2023-03-16T14:48:31.062Z"
   },
   {
    "duration": 4,
    "start_time": "2023-03-16T14:48:31.068Z"
   },
   {
    "duration": 9,
    "start_time": "2023-03-16T14:48:31.074Z"
   },
   {
    "duration": 18,
    "start_time": "2023-03-16T14:48:31.085Z"
   },
   {
    "duration": 8,
    "start_time": "2023-03-16T14:48:31.104Z"
   },
   {
    "duration": 291,
    "start_time": "2023-03-16T14:48:31.113Z"
   },
   {
    "duration": 425,
    "start_time": "2023-03-16T14:48:31.405Z"
   },
   {
    "duration": 10,
    "start_time": "2023-03-16T14:48:31.831Z"
   },
   {
    "duration": 1252,
    "start_time": "2023-03-16T14:48:31.857Z"
   },
   {
    "duration": 11,
    "start_time": "2023-03-16T14:48:33.110Z"
   },
   {
    "duration": 0,
    "start_time": "2023-03-16T14:48:33.122Z"
   },
   {
    "duration": 255,
    "start_time": "2023-03-16T14:48:53.934Z"
   },
   {
    "duration": 259,
    "start_time": "2023-03-16T14:49:36.466Z"
   },
   {
    "duration": 2,
    "start_time": "2023-03-16T14:49:49.485Z"
   },
   {
    "duration": 8,
    "start_time": "2023-03-16T14:49:49.489Z"
   },
   {
    "duration": 284,
    "start_time": "2023-03-16T14:49:49.499Z"
   },
   {
    "duration": 277,
    "start_time": "2023-03-16T14:49:57.132Z"
   },
   {
    "duration": 870,
    "start_time": "2023-03-16T14:51:25.915Z"
   },
   {
    "duration": 406,
    "start_time": "2023-03-16T14:51:28.133Z"
   },
   {
    "duration": 253,
    "start_time": "2023-03-16T14:51:58.175Z"
   },
   {
    "duration": 254,
    "start_time": "2023-03-16T14:52:15.699Z"
   },
   {
    "duration": 426,
    "start_time": "2023-03-16T14:52:18.146Z"
   },
   {
    "duration": 264,
    "start_time": "2023-03-16T14:54:56.228Z"
   },
   {
    "duration": 357,
    "start_time": "2023-03-16T14:55:06.793Z"
   },
   {
    "duration": 1316,
    "start_time": "2023-03-16T14:56:21.026Z"
   },
   {
    "duration": 1802,
    "start_time": "2023-03-16T14:56:47.280Z"
   },
   {
    "duration": 258,
    "start_time": "2023-03-16T14:58:17.956Z"
   },
   {
    "duration": 402,
    "start_time": "2023-03-16T14:58:24.052Z"
   },
   {
    "duration": 1278,
    "start_time": "2023-03-16T14:58:29.315Z"
   },
   {
    "duration": 272,
    "start_time": "2023-03-16T15:00:27.185Z"
   },
   {
    "duration": 260,
    "start_time": "2023-03-16T15:00:38.560Z"
   },
   {
    "duration": 257,
    "start_time": "2023-03-16T15:00:44.255Z"
   },
   {
    "duration": 467,
    "start_time": "2023-03-16T15:00:49.015Z"
   },
   {
    "duration": 10,
    "start_time": "2023-03-16T15:00:49.715Z"
   },
   {
    "duration": 1898,
    "start_time": "2023-03-16T15:00:52.027Z"
   },
   {
    "duration": 258,
    "start_time": "2023-03-16T15:01:47.269Z"
   },
   {
    "duration": 258,
    "start_time": "2023-03-16T15:01:58.859Z"
   },
   {
    "duration": 270,
    "start_time": "2023-03-16T15:02:01.216Z"
   },
   {
    "duration": 444,
    "start_time": "2023-03-16T15:02:02.287Z"
   },
   {
    "duration": 10,
    "start_time": "2023-03-16T15:02:05.317Z"
   },
   {
    "duration": 1380,
    "start_time": "2023-03-16T15:02:05.907Z"
   },
   {
    "duration": 263,
    "start_time": "2023-03-16T15:02:40.135Z"
   },
   {
    "duration": 264,
    "start_time": "2023-03-16T15:02:42.807Z"
   },
   {
    "duration": 410,
    "start_time": "2023-03-16T15:02:44.017Z"
   },
   {
    "duration": 275,
    "start_time": "2023-03-16T15:02:59.385Z"
   },
   {
    "duration": 399,
    "start_time": "2023-03-16T15:03:02.636Z"
   },
   {
    "duration": 1975,
    "start_time": "2023-03-16T15:03:06.155Z"
   },
   {
    "duration": 1286,
    "start_time": "2023-03-16T15:03:23.388Z"
   },
   {
    "duration": 1821,
    "start_time": "2023-03-16T15:03:34.994Z"
   },
   {
    "duration": 3,
    "start_time": "2023-03-16T15:05:42.491Z"
   },
   {
    "duration": 29,
    "start_time": "2023-03-16T15:06:12.932Z"
   },
   {
    "duration": 8,
    "start_time": "2023-03-16T15:06:30.022Z"
   },
   {
    "duration": 21,
    "start_time": "2023-03-16T15:07:05.458Z"
   },
   {
    "duration": 24,
    "start_time": "2023-03-16T15:07:20.183Z"
   },
   {
    "duration": 14,
    "start_time": "2023-03-16T15:07:24.656Z"
   },
   {
    "duration": 4,
    "start_time": "2023-03-16T15:07:36.914Z"
   },
   {
    "duration": 4,
    "start_time": "2023-03-16T15:07:36.920Z"
   },
   {
    "duration": 482,
    "start_time": "2023-03-16T15:07:36.926Z"
   },
   {
    "duration": 313,
    "start_time": "2023-03-16T15:07:37.411Z"
   },
   {
    "duration": 109,
    "start_time": "2023-03-16T15:07:37.726Z"
   },
   {
    "duration": 18,
    "start_time": "2023-03-16T15:07:37.849Z"
   },
   {
    "duration": 230,
    "start_time": "2023-03-16T15:07:37.869Z"
   },
   {
    "duration": 16,
    "start_time": "2023-03-16T15:07:38.101Z"
   },
   {
    "duration": 233,
    "start_time": "2023-03-16T15:07:38.118Z"
   },
   {
    "duration": 15,
    "start_time": "2023-03-16T15:07:38.353Z"
   },
   {
    "duration": 131,
    "start_time": "2023-03-16T15:07:38.370Z"
   },
   {
    "duration": 235,
    "start_time": "2023-03-16T15:07:38.505Z"
   },
   {
    "duration": 26,
    "start_time": "2023-03-16T15:07:38.750Z"
   },
   {
    "duration": 20,
    "start_time": "2023-03-16T15:07:38.777Z"
   },
   {
    "duration": 15,
    "start_time": "2023-03-16T15:07:38.798Z"
   },
   {
    "duration": 56,
    "start_time": "2023-03-16T15:07:38.814Z"
   },
   {
    "duration": 25,
    "start_time": "2023-03-16T15:07:38.871Z"
   },
   {
    "duration": 17,
    "start_time": "2023-03-16T15:07:38.897Z"
   },
   {
    "duration": 39,
    "start_time": "2023-03-16T15:07:38.915Z"
   },
   {
    "duration": 6,
    "start_time": "2023-03-16T15:07:38.956Z"
   },
   {
    "duration": 6,
    "start_time": "2023-03-16T15:07:38.963Z"
   },
   {
    "duration": 6,
    "start_time": "2023-03-16T15:07:38.971Z"
   },
   {
    "duration": 6,
    "start_time": "2023-03-16T15:07:38.979Z"
   },
   {
    "duration": 6,
    "start_time": "2023-03-16T15:07:38.987Z"
   },
   {
    "duration": 4,
    "start_time": "2023-03-16T15:07:38.995Z"
   },
   {
    "duration": 296,
    "start_time": "2023-03-16T15:07:39.001Z"
   },
   {
    "duration": 430,
    "start_time": "2023-03-16T15:07:39.299Z"
   },
   {
    "duration": 23,
    "start_time": "2023-03-16T15:07:39.730Z"
   },
   {
    "duration": 1278,
    "start_time": "2023-03-16T15:07:39.755Z"
   },
   {
    "duration": 11,
    "start_time": "2023-03-16T15:07:41.039Z"
   },
   {
    "duration": 1270,
    "start_time": "2023-03-16T15:07:41.051Z"
   },
   {
    "duration": 15,
    "start_time": "2023-03-16T15:08:00.122Z"
   },
   {
    "duration": 4,
    "start_time": "2023-03-16T15:08:03.788Z"
   },
   {
    "duration": 33,
    "start_time": "2023-03-16T15:08:03.794Z"
   },
   {
    "duration": 427,
    "start_time": "2023-03-16T15:08:03.829Z"
   },
   {
    "duration": 318,
    "start_time": "2023-03-16T15:08:04.258Z"
   },
   {
    "duration": 679,
    "start_time": "2023-03-16T15:08:04.579Z"
   },
   {
    "duration": 17,
    "start_time": "2023-03-16T15:08:05.260Z"
   },
   {
    "duration": 255,
    "start_time": "2023-03-16T15:08:05.279Z"
   },
   {
    "duration": 31,
    "start_time": "2023-03-16T15:08:05.536Z"
   },
   {
    "duration": 210,
    "start_time": "2023-03-16T15:08:05.568Z"
   },
   {
    "duration": 13,
    "start_time": "2023-03-16T15:08:05.780Z"
   },
   {
    "duration": 124,
    "start_time": "2023-03-16T15:08:05.797Z"
   },
   {
    "duration": 247,
    "start_time": "2023-03-16T15:08:05.923Z"
   },
   {
    "duration": 39,
    "start_time": "2023-03-16T15:08:06.172Z"
   },
   {
    "duration": 45,
    "start_time": "2023-03-16T15:08:06.213Z"
   },
   {
    "duration": 26,
    "start_time": "2023-03-16T15:08:06.260Z"
   },
   {
    "duration": 37,
    "start_time": "2023-03-16T15:08:06.288Z"
   },
   {
    "duration": 46,
    "start_time": "2023-03-16T15:08:06.327Z"
   },
   {
    "duration": 17,
    "start_time": "2023-03-16T15:08:06.374Z"
   },
   {
    "duration": 4,
    "start_time": "2023-03-16T15:08:06.392Z"
   },
   {
    "duration": 10,
    "start_time": "2023-03-16T15:08:06.398Z"
   },
   {
    "duration": 13,
    "start_time": "2023-03-16T15:08:06.410Z"
   },
   {
    "duration": 29,
    "start_time": "2023-03-16T15:08:06.425Z"
   },
   {
    "duration": 24,
    "start_time": "2023-03-16T15:08:06.455Z"
   },
   {
    "duration": 18,
    "start_time": "2023-03-16T15:08:06.480Z"
   },
   {
    "duration": 5,
    "start_time": "2023-03-16T15:08:06.500Z"
   },
   {
    "duration": 327,
    "start_time": "2023-03-16T15:08:06.507Z"
   },
   {
    "duration": 380,
    "start_time": "2023-03-16T15:08:06.836Z"
   },
   {
    "duration": 27,
    "start_time": "2023-03-16T15:08:07.218Z"
   },
   {
    "duration": 1296,
    "start_time": "2023-03-16T15:08:07.257Z"
   },
   {
    "duration": 23,
    "start_time": "2023-03-16T15:08:08.554Z"
   },
   {
    "duration": 0,
    "start_time": "2023-03-16T15:08:08.579Z"
   },
   {
    "duration": 8,
    "start_time": "2023-03-16T15:08:41.943Z"
   },
   {
    "duration": 48,
    "start_time": "2023-03-16T15:09:01.187Z"
   },
   {
    "duration": 46,
    "start_time": "2023-03-16T15:09:15.687Z"
   },
   {
    "duration": 58,
    "start_time": "2023-03-16T15:09:25.899Z"
   },
   {
    "duration": 66,
    "start_time": "2023-03-16T15:09:30.920Z"
   },
   {
    "duration": 15,
    "start_time": "2023-03-16T15:09:33.381Z"
   },
   {
    "duration": 5,
    "start_time": "2023-03-16T15:09:42.978Z"
   },
   {
    "duration": 5,
    "start_time": "2023-03-16T15:09:42.985Z"
   },
   {
    "duration": 482,
    "start_time": "2023-03-16T15:09:42.992Z"
   },
   {
    "duration": 334,
    "start_time": "2023-03-16T15:09:43.476Z"
   },
   {
    "duration": 113,
    "start_time": "2023-03-16T15:09:43.812Z"
   },
   {
    "duration": 27,
    "start_time": "2023-03-16T15:09:43.927Z"
   },
   {
    "duration": 252,
    "start_time": "2023-03-16T15:09:43.956Z"
   },
   {
    "duration": 17,
    "start_time": "2023-03-16T15:09:44.210Z"
   },
   {
    "duration": 221,
    "start_time": "2023-03-16T15:09:44.240Z"
   },
   {
    "duration": 12,
    "start_time": "2023-03-16T15:09:44.463Z"
   },
   {
    "duration": 132,
    "start_time": "2023-03-16T15:09:44.477Z"
   },
   {
    "duration": 251,
    "start_time": "2023-03-16T15:09:44.611Z"
   },
   {
    "duration": 28,
    "start_time": "2023-03-16T15:09:44.863Z"
   },
   {
    "duration": 29,
    "start_time": "2023-03-16T15:09:44.893Z"
   },
   {
    "duration": 35,
    "start_time": "2023-03-16T15:09:44.924Z"
   },
   {
    "duration": 32,
    "start_time": "2023-03-16T15:09:44.962Z"
   },
   {
    "duration": 50,
    "start_time": "2023-03-16T15:09:44.996Z"
   },
   {
    "duration": 26,
    "start_time": "2023-03-16T15:09:45.059Z"
   },
   {
    "duration": 6,
    "start_time": "2023-03-16T15:09:45.087Z"
   },
   {
    "duration": 6,
    "start_time": "2023-03-16T15:09:45.095Z"
   },
   {
    "duration": 10,
    "start_time": "2023-03-16T15:09:45.102Z"
   },
   {
    "duration": 6,
    "start_time": "2023-03-16T15:09:45.114Z"
   },
   {
    "duration": 31,
    "start_time": "2023-03-16T15:09:45.122Z"
   },
   {
    "duration": 6,
    "start_time": "2023-03-16T15:09:45.156Z"
   },
   {
    "duration": 5,
    "start_time": "2023-03-16T15:09:45.164Z"
   },
   {
    "duration": 301,
    "start_time": "2023-03-16T15:09:45.170Z"
   },
   {
    "duration": 480,
    "start_time": "2023-03-16T15:09:45.473Z"
   },
   {
    "duration": 14,
    "start_time": "2023-03-16T15:09:45.954Z"
   },
   {
    "duration": 1616,
    "start_time": "2023-03-16T15:09:45.970Z"
   },
   {
    "duration": 20,
    "start_time": "2023-03-16T15:09:47.587Z"
   },
   {
    "duration": 0,
    "start_time": "2023-03-16T15:09:47.609Z"
   },
   {
    "duration": 9,
    "start_time": "2023-03-16T15:09:59.357Z"
   },
   {
    "duration": 2136,
    "start_time": "2023-03-16T15:10:05.551Z"
   },
   {
    "duration": 26,
    "start_time": "2023-03-16T15:10:31.437Z"
   },
   {
    "duration": 186,
    "start_time": "2023-03-16T15:10:32.578Z"
   },
   {
    "duration": 5,
    "start_time": "2023-03-16T15:29:32.545Z"
   },
   {
    "duration": 4,
    "start_time": "2023-03-16T15:29:37.559Z"
   },
   {
    "duration": 5,
    "start_time": "2023-03-16T15:29:41.862Z"
   },
   {
    "duration": 8,
    "start_time": "2023-03-16T15:29:45.833Z"
   },
   {
    "duration": 4,
    "start_time": "2023-03-16T15:29:50.261Z"
   },
   {
    "duration": 4,
    "start_time": "2023-03-16T15:29:59.206Z"
   },
   {
    "duration": 17,
    "start_time": "2023-03-16T15:29:59.212Z"
   },
   {
    "duration": 414,
    "start_time": "2023-03-16T15:29:59.231Z"
   },
   {
    "duration": 335,
    "start_time": "2023-03-16T15:29:59.647Z"
   },
   {
    "duration": 105,
    "start_time": "2023-03-16T15:29:59.984Z"
   },
   {
    "duration": 25,
    "start_time": "2023-03-16T15:30:00.092Z"
   },
   {
    "duration": 262,
    "start_time": "2023-03-16T15:30:00.119Z"
   },
   {
    "duration": 23,
    "start_time": "2023-03-16T15:30:00.383Z"
   },
   {
    "duration": 224,
    "start_time": "2023-03-16T15:30:00.410Z"
   },
   {
    "duration": 15,
    "start_time": "2023-03-16T15:30:00.636Z"
   },
   {
    "duration": 131,
    "start_time": "2023-03-16T15:30:00.653Z"
   },
   {
    "duration": 229,
    "start_time": "2023-03-16T15:30:00.786Z"
   },
   {
    "duration": 34,
    "start_time": "2023-03-16T15:30:01.017Z"
   },
   {
    "duration": 41,
    "start_time": "2023-03-16T15:30:01.052Z"
   },
   {
    "duration": 32,
    "start_time": "2023-03-16T15:30:01.094Z"
   },
   {
    "duration": 37,
    "start_time": "2023-03-16T15:30:01.128Z"
   },
   {
    "duration": 50,
    "start_time": "2023-03-16T15:30:01.167Z"
   },
   {
    "duration": 39,
    "start_time": "2023-03-16T15:30:01.218Z"
   },
   {
    "duration": 16,
    "start_time": "2023-03-16T15:30:01.258Z"
   },
   {
    "duration": 71,
    "start_time": "2023-03-16T15:30:01.276Z"
   },
   {
    "duration": 63,
    "start_time": "2023-03-16T15:30:01.349Z"
   },
   {
    "duration": 45,
    "start_time": "2023-03-16T15:30:01.413Z"
   },
   {
    "duration": 37,
    "start_time": "2023-03-16T15:30:01.459Z"
   },
   {
    "duration": 8,
    "start_time": "2023-03-16T15:30:01.499Z"
   },
   {
    "duration": 14,
    "start_time": "2023-03-16T15:30:01.509Z"
   },
   {
    "duration": 301,
    "start_time": "2023-03-16T15:30:01.524Z"
   },
   {
    "duration": 400,
    "start_time": "2023-03-16T15:30:01.827Z"
   },
   {
    "duration": 17,
    "start_time": "2023-03-16T15:30:02.229Z"
   },
   {
    "duration": 1274,
    "start_time": "2023-03-16T15:30:02.248Z"
   },
   {
    "duration": 6,
    "start_time": "2023-03-16T15:30:03.524Z"
   },
   {
    "duration": 3,
    "start_time": "2023-03-16T15:30:31.599Z"
   },
   {
    "duration": 7,
    "start_time": "2023-03-16T15:30:39.496Z"
   },
   {
    "duration": 6,
    "start_time": "2023-03-16T15:30:56.172Z"
   },
   {
    "duration": 5,
    "start_time": "2023-03-16T15:31:14.108Z"
   },
   {
    "duration": 4,
    "start_time": "2023-03-16T15:31:28.845Z"
   },
   {
    "duration": 5,
    "start_time": "2023-03-16T15:31:38.355Z"
   },
   {
    "duration": 4,
    "start_time": "2023-03-16T15:32:07.751Z"
   },
   {
    "duration": 1812,
    "start_time": "2023-03-16T15:32:17.483Z"
   },
   {
    "duration": 6,
    "start_time": "2023-03-16T15:32:43.895Z"
   },
   {
    "duration": 5,
    "start_time": "2023-03-16T15:32:50.664Z"
   },
   {
    "duration": 23,
    "start_time": "2023-03-16T15:32:50.671Z"
   },
   {
    "duration": 426,
    "start_time": "2023-03-16T15:32:50.697Z"
   },
   {
    "duration": 303,
    "start_time": "2023-03-16T15:32:51.125Z"
   },
   {
    "duration": 101,
    "start_time": "2023-03-16T15:32:51.430Z"
   },
   {
    "duration": 20,
    "start_time": "2023-03-16T15:32:51.533Z"
   },
   {
    "duration": 243,
    "start_time": "2023-03-16T15:32:51.555Z"
   },
   {
    "duration": 15,
    "start_time": "2023-03-16T15:32:51.799Z"
   },
   {
    "duration": 229,
    "start_time": "2023-03-16T15:32:51.816Z"
   },
   {
    "duration": 12,
    "start_time": "2023-03-16T15:32:52.047Z"
   },
   {
    "duration": 129,
    "start_time": "2023-03-16T15:32:52.061Z"
   },
   {
    "duration": 241,
    "start_time": "2023-03-16T15:32:52.192Z"
   },
   {
    "duration": 31,
    "start_time": "2023-03-16T15:32:52.435Z"
   },
   {
    "duration": 21,
    "start_time": "2023-03-16T15:32:52.468Z"
   },
   {
    "duration": 15,
    "start_time": "2023-03-16T15:32:52.491Z"
   },
   {
    "duration": 58,
    "start_time": "2023-03-16T15:32:52.508Z"
   },
   {
    "duration": 28,
    "start_time": "2023-03-16T15:32:52.568Z"
   },
   {
    "duration": 17,
    "start_time": "2023-03-16T15:32:52.597Z"
   },
   {
    "duration": 28,
    "start_time": "2023-03-16T15:32:52.616Z"
   },
   {
    "duration": 6,
    "start_time": "2023-03-16T15:32:52.646Z"
   },
   {
    "duration": 14,
    "start_time": "2023-03-16T15:32:52.654Z"
   },
   {
    "duration": 9,
    "start_time": "2023-03-16T15:32:52.670Z"
   },
   {
    "duration": 6,
    "start_time": "2023-03-16T15:32:52.681Z"
   },
   {
    "duration": 8,
    "start_time": "2023-03-16T15:32:52.689Z"
   },
   {
    "duration": 4,
    "start_time": "2023-03-16T15:32:52.699Z"
   },
   {
    "duration": 307,
    "start_time": "2023-03-16T15:32:52.705Z"
   },
   {
    "duration": 520,
    "start_time": "2023-03-16T15:32:53.014Z"
   },
   {
    "duration": 10,
    "start_time": "2023-03-16T15:32:53.536Z"
   },
   {
    "duration": 1248,
    "start_time": "2023-03-16T15:32:53.549Z"
   },
   {
    "duration": 5,
    "start_time": "2023-03-16T15:32:54.799Z"
   },
   {
    "duration": 1744,
    "start_time": "2023-03-16T15:32:54.806Z"
   },
   {
    "duration": 3,
    "start_time": "2023-03-16T16:11:51.721Z"
   },
   {
    "duration": 3,
    "start_time": "2023-03-16T16:18:07.770Z"
   },
   {
    "duration": 7,
    "start_time": "2023-03-17T08:32:29.602Z"
   },
   {
    "duration": 2,
    "start_time": "2023-03-17T08:32:50.654Z"
   },
   {
    "duration": 43,
    "start_time": "2023-03-17T08:39:46.254Z"
   },
   {
    "duration": 1726,
    "start_time": "2023-03-17T08:39:52.357Z"
   },
   {
    "duration": 3,
    "start_time": "2023-03-17T08:39:54.085Z"
   },
   {
    "duration": 1963,
    "start_time": "2023-03-17T08:39:54.090Z"
   },
   {
    "duration": 574,
    "start_time": "2023-03-17T08:39:56.056Z"
   },
   {
    "duration": 396,
    "start_time": "2023-03-17T08:39:56.632Z"
   },
   {
    "duration": 18,
    "start_time": "2023-03-17T08:39:57.030Z"
   },
   {
    "duration": 281,
    "start_time": "2023-03-17T08:39:57.050Z"
   },
   {
    "duration": 23,
    "start_time": "2023-03-17T08:39:57.333Z"
   },
   {
    "duration": 274,
    "start_time": "2023-03-17T08:39:57.359Z"
   },
   {
    "duration": 15,
    "start_time": "2023-03-17T08:39:57.636Z"
   },
   {
    "duration": 177,
    "start_time": "2023-03-17T08:39:57.653Z"
   },
   {
    "duration": 237,
    "start_time": "2023-03-17T08:39:57.832Z"
   },
   {
    "duration": 71,
    "start_time": "2023-03-17T08:39:58.071Z"
   },
   {
    "duration": 21,
    "start_time": "2023-03-17T08:39:58.144Z"
   },
   {
    "duration": 33,
    "start_time": "2023-03-17T08:39:58.167Z"
   },
   {
    "duration": 32,
    "start_time": "2023-03-17T08:39:58.202Z"
   },
   {
    "duration": 28,
    "start_time": "2023-03-17T08:39:58.236Z"
   },
   {
    "duration": 39,
    "start_time": "2023-03-17T08:39:58.266Z"
   },
   {
    "duration": 9,
    "start_time": "2023-03-17T08:39:58.306Z"
   },
   {
    "duration": 10,
    "start_time": "2023-03-17T08:39:58.317Z"
   },
   {
    "duration": 15,
    "start_time": "2023-03-17T08:39:58.329Z"
   },
   {
    "duration": 19,
    "start_time": "2023-03-17T08:39:58.346Z"
   },
   {
    "duration": 11,
    "start_time": "2023-03-17T08:39:58.366Z"
   },
   {
    "duration": 12,
    "start_time": "2023-03-17T08:39:58.379Z"
   },
   {
    "duration": 6,
    "start_time": "2023-03-17T08:39:58.393Z"
   },
   {
    "duration": 426,
    "start_time": "2023-03-17T08:39:58.400Z"
   },
   {
    "duration": 338,
    "start_time": "2023-03-17T08:39:58.828Z"
   },
   {
    "duration": 10,
    "start_time": "2023-03-17T08:39:59.169Z"
   },
   {
    "duration": 1541,
    "start_time": "2023-03-17T08:39:59.180Z"
   },
   {
    "duration": 5,
    "start_time": "2023-03-17T08:40:00.723Z"
   },
   {
    "duration": 1546,
    "start_time": "2023-03-17T08:40:00.730Z"
   },
   {
    "duration": 3,
    "start_time": "2023-03-17T08:40:02.277Z"
   },
   {
    "duration": 24,
    "start_time": "2023-03-17T08:40:02.290Z"
   },
   {
    "duration": 109,
    "start_time": "2023-03-17T08:40:02.316Z"
   },
   {
    "duration": 16,
    "start_time": "2023-03-17T08:40:12.120Z"
   },
   {
    "duration": 14,
    "start_time": "2023-03-17T08:41:50.222Z"
   },
   {
    "duration": 14,
    "start_time": "2023-03-17T08:41:56.715Z"
   },
   {
    "duration": 14,
    "start_time": "2023-03-17T08:42:20.052Z"
   },
   {
    "duration": 13,
    "start_time": "2023-03-17T08:42:26.736Z"
   },
   {
    "duration": 13,
    "start_time": "2023-03-17T08:55:23.315Z"
   },
   {
    "duration": 13,
    "start_time": "2023-03-17T08:55:31.220Z"
   },
   {
    "duration": 14,
    "start_time": "2023-03-17T08:56:39.382Z"
   },
   {
    "duration": 13,
    "start_time": "2023-03-17T08:57:58.958Z"
   },
   {
    "duration": 15,
    "start_time": "2023-03-17T08:58:09.375Z"
   },
   {
    "duration": 1342,
    "start_time": "2023-03-17T08:59:12.272Z"
   },
   {
    "duration": 2300,
    "start_time": "2023-03-17T09:00:14.437Z"
   },
   {
    "duration": 8,
    "start_time": "2023-03-17T09:05:21.834Z"
   },
   {
    "duration": 10,
    "start_time": "2023-03-17T09:18:07.875Z"
   },
   {
    "duration": 10,
    "start_time": "2023-03-17T09:18:32.938Z"
   },
   {
    "duration": 4,
    "start_time": "2023-03-17T09:18:37.356Z"
   },
   {
    "duration": 6,
    "start_time": "2023-03-17T09:18:37.362Z"
   },
   {
    "duration": 475,
    "start_time": "2023-03-17T09:18:37.370Z"
   },
   {
    "duration": 337,
    "start_time": "2023-03-17T09:18:37.847Z"
   },
   {
    "duration": 120,
    "start_time": "2023-03-17T09:18:38.187Z"
   },
   {
    "duration": 18,
    "start_time": "2023-03-17T09:18:38.309Z"
   },
   {
    "duration": 276,
    "start_time": "2023-03-17T09:18:38.329Z"
   },
   {
    "duration": 18,
    "start_time": "2023-03-17T09:18:38.606Z"
   },
   {
    "duration": 258,
    "start_time": "2023-03-17T09:18:38.625Z"
   },
   {
    "duration": 12,
    "start_time": "2023-03-17T09:18:38.889Z"
   },
   {
    "duration": 141,
    "start_time": "2023-03-17T09:18:38.903Z"
   },
   {
    "duration": 235,
    "start_time": "2023-03-17T09:18:39.045Z"
   },
   {
    "duration": 22,
    "start_time": "2023-03-17T09:18:39.290Z"
   },
   {
    "duration": 21,
    "start_time": "2023-03-17T09:18:39.314Z"
   },
   {
    "duration": 16,
    "start_time": "2023-03-17T09:18:39.336Z"
   },
   {
    "duration": 62,
    "start_time": "2023-03-17T09:18:39.354Z"
   },
   {
    "duration": 29,
    "start_time": "2023-03-17T09:18:39.418Z"
   },
   {
    "duration": 42,
    "start_time": "2023-03-17T09:18:39.449Z"
   },
   {
    "duration": 7,
    "start_time": "2023-03-17T09:18:39.493Z"
   },
   {
    "duration": 6,
    "start_time": "2023-03-17T09:18:39.502Z"
   },
   {
    "duration": 5,
    "start_time": "2023-03-17T09:18:39.510Z"
   },
   {
    "duration": 7,
    "start_time": "2023-03-17T09:18:39.516Z"
   },
   {
    "duration": 6,
    "start_time": "2023-03-17T09:18:39.525Z"
   },
   {
    "duration": 9,
    "start_time": "2023-03-17T09:18:39.533Z"
   },
   {
    "duration": 7,
    "start_time": "2023-03-17T09:18:39.545Z"
   },
   {
    "duration": 303,
    "start_time": "2023-03-17T09:18:39.553Z"
   },
   {
    "duration": 405,
    "start_time": "2023-03-17T09:18:39.858Z"
   },
   {
    "duration": 11,
    "start_time": "2023-03-17T09:18:40.265Z"
   },
   {
    "duration": 1573,
    "start_time": "2023-03-17T09:18:40.278Z"
   },
   {
    "duration": 5,
    "start_time": "2023-03-17T09:18:41.852Z"
   },
   {
    "duration": 1492,
    "start_time": "2023-03-17T09:18:41.859Z"
   },
   {
    "duration": 3,
    "start_time": "2023-03-17T09:18:43.353Z"
   },
   {
    "duration": 24,
    "start_time": "2023-03-17T09:18:43.357Z"
   },
   {
    "duration": 25,
    "start_time": "2023-03-17T09:18:43.383Z"
   },
   {
    "duration": 9,
    "start_time": "2023-03-17T09:18:51.657Z"
   },
   {
    "duration": 12,
    "start_time": "2023-03-17T09:18:58.703Z"
   },
   {
    "duration": 12,
    "start_time": "2023-03-17T09:19:09.267Z"
   },
   {
    "duration": 8,
    "start_time": "2023-03-17T09:19:47.808Z"
   },
   {
    "duration": 9,
    "start_time": "2023-03-17T09:19:51.080Z"
   },
   {
    "duration": 12,
    "start_time": "2023-03-17T09:19:55.359Z"
   },
   {
    "duration": 5,
    "start_time": "2023-03-17T09:20:07.312Z"
   },
   {
    "duration": 7,
    "start_time": "2023-03-17T09:20:07.319Z"
   },
   {
    "duration": 439,
    "start_time": "2023-03-17T09:20:07.328Z"
   },
   {
    "duration": 350,
    "start_time": "2023-03-17T09:20:07.769Z"
   },
   {
    "duration": 128,
    "start_time": "2023-03-17T09:20:08.121Z"
   },
   {
    "duration": 18,
    "start_time": "2023-03-17T09:20:08.251Z"
   },
   {
    "duration": 292,
    "start_time": "2023-03-17T09:20:08.271Z"
   },
   {
    "duration": 26,
    "start_time": "2023-03-17T09:20:08.565Z"
   },
   {
    "duration": 269,
    "start_time": "2023-03-17T09:20:08.593Z"
   },
   {
    "duration": 12,
    "start_time": "2023-03-17T09:20:08.864Z"
   },
   {
    "duration": 151,
    "start_time": "2023-03-17T09:20:08.890Z"
   },
   {
    "duration": 256,
    "start_time": "2023-03-17T09:20:09.043Z"
   },
   {
    "duration": 25,
    "start_time": "2023-03-17T09:20:09.301Z"
   },
   {
    "duration": 23,
    "start_time": "2023-03-17T09:20:09.327Z"
   },
   {
    "duration": 45,
    "start_time": "2023-03-17T09:20:09.352Z"
   },
   {
    "duration": 33,
    "start_time": "2023-03-17T09:20:09.399Z"
   },
   {
    "duration": 27,
    "start_time": "2023-03-17T09:20:09.434Z"
   },
   {
    "duration": 51,
    "start_time": "2023-03-17T09:20:09.463Z"
   },
   {
    "duration": 9,
    "start_time": "2023-03-17T09:20:09.516Z"
   },
   {
    "duration": 18,
    "start_time": "2023-03-17T09:20:09.527Z"
   },
   {
    "duration": 31,
    "start_time": "2023-03-17T09:20:09.547Z"
   },
   {
    "duration": 41,
    "start_time": "2023-03-17T09:20:09.580Z"
   },
   {
    "duration": 13,
    "start_time": "2023-03-17T09:20:09.623Z"
   },
   {
    "duration": 20,
    "start_time": "2023-03-17T09:20:09.638Z"
   },
   {
    "duration": 25,
    "start_time": "2023-03-17T09:20:09.661Z"
   },
   {
    "duration": 346,
    "start_time": "2023-03-17T09:20:09.688Z"
   },
   {
    "duration": 473,
    "start_time": "2023-03-17T09:20:10.036Z"
   },
   {
    "duration": 13,
    "start_time": "2023-03-17T09:20:10.511Z"
   },
   {
    "duration": 1562,
    "start_time": "2023-03-17T09:20:10.525Z"
   },
   {
    "duration": 5,
    "start_time": "2023-03-17T09:20:12.088Z"
   },
   {
    "duration": 1536,
    "start_time": "2023-03-17T09:20:12.095Z"
   },
   {
    "duration": 3,
    "start_time": "2023-03-17T09:20:13.633Z"
   },
   {
    "duration": 13,
    "start_time": "2023-03-17T09:20:13.637Z"
   },
   {
    "duration": 14,
    "start_time": "2023-03-17T09:20:13.652Z"
   },
   {
    "duration": 4,
    "start_time": "2023-03-17T09:20:29.576Z"
   },
   {
    "duration": 5,
    "start_time": "2023-03-17T09:20:53.410Z"
   },
   {
    "duration": 5,
    "start_time": "2023-03-17T09:21:06.070Z"
   },
   {
    "duration": 4,
    "start_time": "2023-03-17T09:21:15.755Z"
   },
   {
    "duration": 5,
    "start_time": "2023-03-17T09:21:29.789Z"
   },
   {
    "duration": 42,
    "start_time": "2023-03-17T09:36:30.372Z"
   },
   {
    "duration": 5,
    "start_time": "2023-03-17T09:36:42.730Z"
   },
   {
    "duration": 5,
    "start_time": "2023-03-17T09:57:53.098Z"
   },
   {
    "duration": 12,
    "start_time": "2023-03-17T10:57:54.255Z"
   },
   {
    "duration": 6,
    "start_time": "2023-03-17T10:58:56.272Z"
   },
   {
    "duration": 14,
    "start_time": "2023-03-17T10:58:58.506Z"
   },
   {
    "duration": 16,
    "start_time": "2023-03-17T10:59:03.515Z"
   },
   {
    "duration": 7,
    "start_time": "2023-03-17T10:59:56.034Z"
   },
   {
    "duration": 36,
    "start_time": "2023-03-17T11:00:00.725Z"
   },
   {
    "duration": 4,
    "start_time": "2023-03-17T11:00:12.233Z"
   },
   {
    "duration": 5,
    "start_time": "2023-03-17T11:02:11.822Z"
   },
   {
    "duration": 6,
    "start_time": "2023-03-17T11:02:27.210Z"
   },
   {
    "duration": 26,
    "start_time": "2023-03-17T11:18:41.451Z"
   },
   {
    "duration": 5,
    "start_time": "2023-03-17T11:18:49.874Z"
   },
   {
    "duration": 4,
    "start_time": "2023-03-17T11:28:44.018Z"
   },
   {
    "duration": 5,
    "start_time": "2023-03-17T11:29:11.650Z"
   },
   {
    "duration": 4,
    "start_time": "2023-03-17T13:40:19.274Z"
   },
   {
    "duration": 163,
    "start_time": "2023-03-17T13:41:34.902Z"
   },
   {
    "duration": 9,
    "start_time": "2023-03-17T13:45:55.106Z"
   },
   {
    "duration": 5,
    "start_time": "2023-03-17T13:46:14.266Z"
   },
   {
    "duration": 5,
    "start_time": "2023-03-17T14:33:34.545Z"
   },
   {
    "duration": 3,
    "start_time": "2023-03-17T14:33:59.921Z"
   },
   {
    "duration": 11,
    "start_time": "2023-03-17T14:35:39.017Z"
   },
   {
    "duration": 16,
    "start_time": "2023-03-17T14:35:53.765Z"
   },
   {
    "duration": 4,
    "start_time": "2023-03-17T14:36:02.433Z"
   },
   {
    "duration": 52,
    "start_time": "2023-03-17T14:36:02.439Z"
   },
   {
    "duration": 45,
    "start_time": "2023-03-17T14:36:02.494Z"
   },
   {
    "duration": 540,
    "start_time": "2023-03-17T14:36:02.542Z"
   },
   {
    "duration": 412,
    "start_time": "2023-03-17T14:36:03.083Z"
   },
   {
    "duration": 143,
    "start_time": "2023-03-17T14:36:03.497Z"
   },
   {
    "duration": 19,
    "start_time": "2023-03-17T14:36:03.642Z"
   },
   {
    "duration": 300,
    "start_time": "2023-03-17T14:36:03.663Z"
   },
   {
    "duration": 28,
    "start_time": "2023-03-17T14:36:03.966Z"
   },
   {
    "duration": 264,
    "start_time": "2023-03-17T14:36:03.998Z"
   },
   {
    "duration": 16,
    "start_time": "2023-03-17T14:36:04.264Z"
   },
   {
    "duration": 149,
    "start_time": "2023-03-17T14:36:04.290Z"
   },
   {
    "duration": 286,
    "start_time": "2023-03-17T14:36:04.441Z"
   },
   {
    "duration": 23,
    "start_time": "2023-03-17T14:36:04.729Z"
   },
   {
    "duration": 39,
    "start_time": "2023-03-17T14:36:04.753Z"
   },
   {
    "duration": 29,
    "start_time": "2023-03-17T14:36:04.798Z"
   },
   {
    "duration": 38,
    "start_time": "2023-03-17T14:36:04.829Z"
   },
   {
    "duration": 55,
    "start_time": "2023-03-17T14:36:04.869Z"
   },
   {
    "duration": 28,
    "start_time": "2023-03-17T14:36:04.927Z"
   },
   {
    "duration": 6,
    "start_time": "2023-03-17T14:36:04.957Z"
   },
   {
    "duration": 22,
    "start_time": "2023-03-17T14:36:04.964Z"
   },
   {
    "duration": 35,
    "start_time": "2023-03-17T14:36:04.988Z"
   },
   {
    "duration": 18,
    "start_time": "2023-03-17T14:36:05.025Z"
   },
   {
    "duration": 8,
    "start_time": "2023-03-17T14:36:05.047Z"
   },
   {
    "duration": 15,
    "start_time": "2023-03-17T14:36:05.057Z"
   },
   {
    "duration": 7,
    "start_time": "2023-03-17T14:36:05.074Z"
   },
   {
    "duration": 357,
    "start_time": "2023-03-17T14:36:05.083Z"
   },
   {
    "duration": 472,
    "start_time": "2023-03-17T14:36:05.442Z"
   },
   {
    "duration": 12,
    "start_time": "2023-03-17T14:36:05.916Z"
   },
   {
    "duration": 1987,
    "start_time": "2023-03-17T14:36:05.930Z"
   },
   {
    "duration": 8,
    "start_time": "2023-03-17T14:36:07.921Z"
   },
   {
    "duration": 1747,
    "start_time": "2023-03-17T14:36:07.931Z"
   },
   {
    "duration": 3,
    "start_time": "2023-03-17T14:36:09.680Z"
   },
   {
    "duration": 11,
    "start_time": "2023-03-17T14:36:09.685Z"
   },
   {
    "duration": 27,
    "start_time": "2023-03-17T14:36:09.702Z"
   },
   {
    "duration": 21,
    "start_time": "2023-03-17T14:36:09.730Z"
   },
   {
    "duration": 10,
    "start_time": "2023-03-17T14:36:09.753Z"
   },
   {
    "duration": 25,
    "start_time": "2023-03-17T14:36:09.764Z"
   },
   {
    "duration": 48,
    "start_time": "2023-03-17T14:36:09.800Z"
   },
   {
    "duration": 8,
    "start_time": "2023-03-17T14:36:09.850Z"
   },
   {
    "duration": 48,
    "start_time": "2023-03-17T14:36:09.860Z"
   },
   {
    "duration": 0,
    "start_time": "2023-03-17T14:36:09.910Z"
   },
   {
    "duration": 5,
    "start_time": "2023-03-17T14:41:50.318Z"
   },
   {
    "duration": 4,
    "start_time": "2023-03-17T14:49:31.145Z"
   },
   {
    "duration": 28,
    "start_time": "2023-03-17T14:49:33.113Z"
   },
   {
    "duration": 6,
    "start_time": "2023-03-17T14:53:23.413Z"
   },
   {
    "duration": 3,
    "start_time": "2023-03-17T14:53:24.440Z"
   },
   {
    "duration": 4,
    "start_time": "2023-03-17T14:53:24.827Z"
   },
   {
    "duration": 10715,
    "start_time": "2023-03-17T14:53:25.223Z"
   },
   {
    "duration": 5,
    "start_time": "2023-03-17T14:54:19.819Z"
   },
   {
    "duration": 4,
    "start_time": "2023-03-17T14:54:20.728Z"
   },
   {
    "duration": 3,
    "start_time": "2023-03-17T14:54:21.066Z"
   },
   {
    "duration": 989165,
    "start_time": "2023-03-17T14:54:21.413Z"
   },
   {
    "duration": 29,
    "start_time": "2023-03-17T15:12:02.619Z"
   },
   {
    "duration": 215,
    "start_time": "2023-03-17T15:13:40.258Z"
   },
   {
    "duration": 116,
    "start_time": "2023-03-17T15:13:45.349Z"
   },
   {
    "duration": 17835,
    "start_time": "2023-03-17T15:13:58.242Z"
   },
   {
    "duration": 138403,
    "start_time": "2023-03-17T15:14:24.081Z"
   },
   {
    "duration": 4,
    "start_time": "2023-03-17T15:17:22.062Z"
   },
   {
    "duration": 4,
    "start_time": "2023-03-17T15:17:23.538Z"
   },
   {
    "duration": 166242,
    "start_time": "2023-03-17T15:17:23.759Z"
   },
   {
    "duration": 4,
    "start_time": "2023-03-17T15:20:17.372Z"
   },
   {
    "duration": 9,
    "start_time": "2023-03-17T15:20:18.133Z"
   },
   {
    "duration": 221293,
    "start_time": "2023-03-17T15:20:18.389Z"
   },
   {
    "duration": 4,
    "start_time": "2023-03-17T15:24:02.249Z"
   },
   {
    "duration": 24695,
    "start_time": "2023-03-17T15:24:03.189Z"
   },
   {
    "duration": 3,
    "start_time": "2023-03-17T15:25:40.043Z"
   },
   {
    "duration": 6,
    "start_time": "2023-03-17T15:25:40.914Z"
   },
   {
    "duration": 827450,
    "start_time": "2023-03-17T15:25:41.362Z"
   },
   {
    "duration": 15,
    "start_time": "2023-03-17T15:40:05.712Z"
   },
   {
    "duration": 4,
    "start_time": "2023-03-17T15:40:33.052Z"
   },
   {
    "duration": 620153,
    "start_time": "2023-03-17T15:42:01.258Z"
   },
   {
    "duration": 8,
    "start_time": "2023-03-17T15:53:30.789Z"
   },
   {
    "duration": 174387,
    "start_time": "2023-03-17T15:53:32.914Z"
   },
   {
    "duration": 19,
    "start_time": "2023-03-17T16:16:28.313Z"
   },
   {
    "duration": 14,
    "start_time": "2023-03-17T16:16:58.318Z"
   },
   {
    "duration": 24,
    "start_time": "2023-03-17T16:17:04.444Z"
   },
   {
    "duration": 24,
    "start_time": "2023-03-17T16:17:28.829Z"
   },
   {
    "duration": 24,
    "start_time": "2023-03-17T16:25:10.971Z"
   },
   {
    "duration": 4,
    "start_time": "2023-03-17T16:27:17.312Z"
   },
   {
    "duration": 12,
    "start_time": "2023-03-17T16:27:19.633Z"
   },
   {
    "duration": 9,
    "start_time": "2023-03-17T16:28:31.122Z"
   },
   {
    "duration": 20,
    "start_time": "2023-03-17T16:28:32.600Z"
   },
   {
    "duration": 4,
    "start_time": "2023-03-17T16:28:46.945Z"
   },
   {
    "duration": 23,
    "start_time": "2023-03-17T16:28:48.182Z"
   },
   {
    "duration": 4,
    "start_time": "2023-03-17T16:29:00.113Z"
   },
   {
    "duration": 3,
    "start_time": "2023-03-17T16:29:01.549Z"
   },
   {
    "duration": 7,
    "start_time": "2023-03-17T16:30:10.518Z"
   },
   {
    "duration": 13,
    "start_time": "2023-03-17T16:30:11.541Z"
   },
   {
    "duration": 6,
    "start_time": "2023-03-17T16:32:01.262Z"
   },
   {
    "duration": 16,
    "start_time": "2023-03-17T16:32:02.278Z"
   },
   {
    "duration": 11,
    "start_time": "2023-03-17T16:33:55.090Z"
   },
   {
    "duration": 12,
    "start_time": "2023-03-17T16:33:57.266Z"
   },
   {
    "duration": 11,
    "start_time": "2023-03-17T16:34:08.609Z"
   },
   {
    "duration": 14,
    "start_time": "2023-03-17T16:34:10.419Z"
   },
   {
    "duration": 5,
    "start_time": "2023-03-17T16:34:37.330Z"
   },
   {
    "duration": 3,
    "start_time": "2023-03-17T16:34:38.534Z"
   },
   {
    "duration": 130,
    "start_time": "2023-03-17T16:35:33.451Z"
   },
   {
    "duration": 4,
    "start_time": "2023-03-17T16:40:48.042Z"
   },
   {
    "duration": 3,
    "start_time": "2023-03-17T16:40:49.500Z"
   },
   {
    "duration": 6638,
    "start_time": "2023-03-17T16:40:50.443Z"
   },
   {
    "duration": 13,
    "start_time": "2023-03-17T16:48:37.688Z"
   },
   {
    "duration": 3,
    "start_time": "2023-03-17T16:48:37.939Z"
   },
   {
    "duration": 432,
    "start_time": "2023-03-17T16:48:38.278Z"
   },
   {
    "duration": 5,
    "start_time": "2023-03-17T16:51:17.014Z"
   },
   {
    "duration": 150,
    "start_time": "2023-03-17T16:51:25.836Z"
   },
   {
    "duration": 3,
    "start_time": "2023-03-17T16:51:46.158Z"
   },
   {
    "duration": 119,
    "start_time": "2023-03-17T16:51:47.649Z"
   },
   {
    "duration": 4,
    "start_time": "2023-03-17T16:53:44.862Z"
   },
   {
    "duration": 167,
    "start_time": "2023-03-17T16:53:45.390Z"
   },
   {
    "duration": 3,
    "start_time": "2023-03-17T16:53:51.177Z"
   },
   {
    "duration": 131,
    "start_time": "2023-03-17T16:53:52.226Z"
   },
   {
    "duration": 7,
    "start_time": "2023-03-17T16:54:31.088Z"
   },
   {
    "duration": 124,
    "start_time": "2023-03-17T16:54:32.523Z"
   },
   {
    "duration": 8,
    "start_time": "2023-03-17T16:55:04.319Z"
   },
   {
    "duration": 3250,
    "start_time": "2023-03-17T16:55:05.432Z"
   },
   {
    "duration": 7,
    "start_time": "2023-03-17T16:58:53.821Z"
   },
   {
    "duration": 9,
    "start_time": "2023-03-17T17:04:14.218Z"
   },
   {
    "duration": 6,
    "start_time": "2023-03-17T17:04:17.774Z"
   },
   {
    "duration": 6,
    "start_time": "2023-03-17T17:04:21.132Z"
   },
   {
    "duration": 5,
    "start_time": "2023-03-17T17:04:31.866Z"
   },
   {
    "duration": 20,
    "start_time": "2023-03-17T17:04:39.110Z"
   },
   {
    "duration": 6,
    "start_time": "2023-03-17T17:06:58.825Z"
   },
   {
    "duration": 6,
    "start_time": "2023-03-17T17:07:00.129Z"
   },
   {
    "duration": 7,
    "start_time": "2023-03-17T17:07:02.087Z"
   },
   {
    "duration": 19,
    "start_time": "2023-03-17T17:07:35.489Z"
   },
   {
    "duration": 130073,
    "start_time": "2023-03-17T17:07:36.746Z"
   },
   {
    "duration": 7,
    "start_time": "2023-03-17T17:09:46.821Z"
   },
   {
    "duration": 1539,
    "start_time": "2023-03-17T17:09:59.167Z"
   },
   {
    "duration": 15,
    "start_time": "2023-03-17T17:10:00.711Z"
   },
   {
    "duration": 33,
    "start_time": "2023-03-17T17:10:00.729Z"
   },
   {
    "duration": 590,
    "start_time": "2023-03-17T17:10:00.764Z"
   },
   {
    "duration": 389,
    "start_time": "2023-03-17T17:10:01.356Z"
   },
   {
    "duration": 131,
    "start_time": "2023-03-17T17:10:01.747Z"
   },
   {
    "duration": 31,
    "start_time": "2023-03-17T17:10:01.879Z"
   },
   {
    "duration": 321,
    "start_time": "2023-03-17T17:10:01.914Z"
   },
   {
    "duration": 16,
    "start_time": "2023-03-17T17:10:02.237Z"
   },
   {
    "duration": 317,
    "start_time": "2023-03-17T17:10:02.255Z"
   },
   {
    "duration": 13,
    "start_time": "2023-03-17T17:10:02.574Z"
   },
   {
    "duration": 151,
    "start_time": "2023-03-17T17:10:02.604Z"
   },
   {
    "duration": 309,
    "start_time": "2023-03-17T17:10:02.757Z"
   },
   {
    "duration": 85,
    "start_time": "2023-03-17T17:10:03.067Z"
   },
   {
    "duration": 20,
    "start_time": "2023-03-17T17:10:03.154Z"
   },
   {
    "duration": 34,
    "start_time": "2023-03-17T17:10:03.176Z"
   },
   {
    "duration": 55,
    "start_time": "2023-03-17T17:10:03.213Z"
   },
   {
    "duration": 45,
    "start_time": "2023-03-17T17:10:03.270Z"
   },
   {
    "duration": 21,
    "start_time": "2023-03-17T17:10:03.319Z"
   },
   {
    "duration": 8,
    "start_time": "2023-03-17T17:10:03.342Z"
   },
   {
    "duration": 7,
    "start_time": "2023-03-17T17:10:03.352Z"
   },
   {
    "duration": 7,
    "start_time": "2023-03-17T17:10:03.361Z"
   },
   {
    "duration": 48,
    "start_time": "2023-03-17T17:10:03.370Z"
   },
   {
    "duration": 43,
    "start_time": "2023-03-17T17:10:03.420Z"
   },
   {
    "duration": 8,
    "start_time": "2023-03-17T17:10:03.465Z"
   },
   {
    "duration": 5,
    "start_time": "2023-03-17T17:10:03.475Z"
   },
   {
    "duration": 447,
    "start_time": "2023-03-17T17:10:03.481Z"
   },
   {
    "duration": 350,
    "start_time": "2023-03-17T17:10:03.933Z"
   },
   {
    "duration": 21,
    "start_time": "2023-03-17T17:10:04.285Z"
   },
   {
    "duration": 1835,
    "start_time": "2023-03-17T17:10:04.318Z"
   },
   {
    "duration": 5,
    "start_time": "2023-03-17T17:10:06.154Z"
   },
   {
    "duration": 1980,
    "start_time": "2023-03-17T17:10:06.160Z"
   },
   {
    "duration": 3,
    "start_time": "2023-03-17T17:10:08.142Z"
   },
   {
    "duration": 32,
    "start_time": "2023-03-17T17:10:08.147Z"
   },
   {
    "duration": 20,
    "start_time": "2023-03-17T17:10:08.181Z"
   },
   {
    "duration": 36,
    "start_time": "2023-03-17T17:10:08.205Z"
   },
   {
    "duration": 15,
    "start_time": "2023-03-17T17:10:08.242Z"
   },
   {
    "duration": 7,
    "start_time": "2023-03-17T17:10:10.951Z"
   },
   {
    "duration": 12,
    "start_time": "2023-03-17T17:10:11.417Z"
   },
   {
    "duration": 4,
    "start_time": "2023-03-17T17:10:12.956Z"
   },
   {
    "duration": 145410,
    "start_time": "2023-03-17T17:10:13.541Z"
   },
   {
    "duration": 7,
    "start_time": "2023-03-17T17:14:18.119Z"
   },
   {
    "duration": 6,
    "start_time": "2023-03-17T17:14:18.911Z"
   },
   {
    "duration": 663976,
    "start_time": "2023-03-17T17:14:19.628Z"
   },
   {
    "duration": 4,
    "start_time": "2023-03-17T17:25:25.775Z"
   },
   {
    "duration": 3,
    "start_time": "2023-03-17T17:25:26.358Z"
   },
   {
    "duration": 416629,
    "start_time": "2023-03-17T17:25:26.986Z"
   },
   {
    "duration": 4,
    "start_time": "2023-03-17T17:32:35.361Z"
   },
   {
    "duration": 8,
    "start_time": "2023-03-17T17:32:35.622Z"
   },
   {
    "duration": 14,
    "start_time": "2023-03-17T17:32:36.522Z"
   },
   {
    "duration": 8,
    "start_time": "2023-03-17T17:32:40.313Z"
   },
   {
    "duration": 236314,
    "start_time": "2023-03-17T17:32:40.986Z"
   },
   {
    "duration": 6,
    "start_time": "2023-03-17T17:51:42.283Z"
   },
   {
    "duration": 4,
    "start_time": "2023-03-17T17:54:11.260Z"
   },
   {
    "duration": 244581,
    "start_time": "2023-03-17T17:55:02.615Z"
   },
   {
    "duration": 18,
    "start_time": "2023-03-17T18:20:14.946Z"
   },
   {
    "duration": 15,
    "start_time": "2023-03-17T18:20:38.487Z"
   },
   {
    "duration": 26,
    "start_time": "2023-03-17T18:25:57.788Z"
   },
   {
    "duration": 14,
    "start_time": "2023-03-17T18:26:12.687Z"
   },
   {
    "duration": 13,
    "start_time": "2023-03-17T18:35:15.210Z"
   },
   {
    "duration": 7,
    "start_time": "2023-03-17T18:37:52.760Z"
   },
   {
    "duration": 154520,
    "start_time": "2023-03-17T18:41:20.358Z"
   },
   {
    "duration": 250545,
    "start_time": "2023-03-17T18:43:54.881Z"
   },
   {
    "duration": 154903,
    "start_time": "2023-03-17T18:48:05.429Z"
   },
   {
    "duration": 4,
    "start_time": "2023-03-17T18:50:40.334Z"
   },
   {
    "duration": 6,
    "start_time": "2023-03-17T18:55:16.048Z"
   },
   {
    "duration": 18,
    "start_time": "2023-03-17T18:55:16.057Z"
   },
   {
    "duration": 9,
    "start_time": "2023-03-17T18:55:16.077Z"
   },
   {
    "duration": 700,
    "start_time": "2023-03-17T18:55:16.088Z"
   },
   {
    "duration": 533,
    "start_time": "2023-03-17T18:55:16.790Z"
   },
   {
    "duration": 219,
    "start_time": "2023-03-17T18:55:17.325Z"
   },
   {
    "duration": 37,
    "start_time": "2023-03-17T18:55:17.546Z"
   },
   {
    "duration": 393,
    "start_time": "2023-03-17T18:55:17.586Z"
   },
   {
    "duration": 45,
    "start_time": "2023-03-17T18:55:17.984Z"
   },
   {
    "duration": 403,
    "start_time": "2023-03-17T18:55:18.030Z"
   },
   {
    "duration": 31,
    "start_time": "2023-03-17T18:55:18.435Z"
   },
   {
    "duration": 189,
    "start_time": "2023-03-17T18:55:18.468Z"
   },
   {
    "duration": 293,
    "start_time": "2023-03-17T18:55:18.659Z"
   },
   {
    "duration": 40,
    "start_time": "2023-03-17T18:55:18.954Z"
   },
   {
    "duration": 89,
    "start_time": "2023-03-17T18:55:18.996Z"
   },
   {
    "duration": 94,
    "start_time": "2023-03-17T18:55:19.088Z"
   },
   {
    "duration": 52,
    "start_time": "2023-03-17T18:55:19.185Z"
   },
   {
    "duration": 95,
    "start_time": "2023-03-17T18:55:19.239Z"
   },
   {
    "duration": 32,
    "start_time": "2023-03-17T18:55:19.335Z"
   },
   {
    "duration": 7,
    "start_time": "2023-03-17T18:55:19.368Z"
   },
   {
    "duration": 10,
    "start_time": "2023-03-17T18:55:19.377Z"
   },
   {
    "duration": 83,
    "start_time": "2023-03-17T18:55:19.389Z"
   },
   {
    "duration": 8,
    "start_time": "2023-03-17T18:55:19.474Z"
   },
   {
    "duration": 16,
    "start_time": "2023-03-17T18:55:19.487Z"
   },
   {
    "duration": 38,
    "start_time": "2023-03-17T18:55:19.509Z"
   },
   {
    "duration": 25,
    "start_time": "2023-03-17T18:55:19.555Z"
   },
   {
    "duration": 414,
    "start_time": "2023-03-17T18:55:19.582Z"
   },
   {
    "duration": 427,
    "start_time": "2023-03-17T18:55:19.998Z"
   },
   {
    "duration": 15,
    "start_time": "2023-03-17T18:55:20.426Z"
   },
   {
    "duration": 2109,
    "start_time": "2023-03-17T18:55:20.442Z"
   },
   {
    "duration": 7,
    "start_time": "2023-03-17T18:55:22.552Z"
   },
   {
    "duration": 1938,
    "start_time": "2023-03-17T18:55:22.561Z"
   },
   {
    "duration": 7,
    "start_time": "2023-03-17T18:55:24.507Z"
   },
   {
    "duration": 51,
    "start_time": "2023-03-17T18:55:24.525Z"
   },
   {
    "duration": 9,
    "start_time": "2023-03-17T18:55:24.578Z"
   },
   {
    "duration": 76,
    "start_time": "2023-03-17T18:55:24.589Z"
   },
   {
    "duration": 18,
    "start_time": "2023-03-17T18:55:24.667Z"
   },
   {
    "duration": 62,
    "start_time": "2023-03-17T18:55:24.686Z"
   },
   {
    "duration": 10,
    "start_time": "2023-03-17T18:55:24.750Z"
   },
   {
    "duration": 67,
    "start_time": "2023-03-17T18:55:24.780Z"
   },
   {
    "duration": 113,
    "start_time": "2023-03-17T18:55:24.849Z"
   },
   {
    "duration": 0,
    "start_time": "2023-03-17T18:55:24.964Z"
   },
   {
    "duration": 0,
    "start_time": "2023-03-17T18:55:24.965Z"
   },
   {
    "duration": 0,
    "start_time": "2023-03-17T18:55:24.966Z"
   },
   {
    "duration": 247382,
    "start_time": "2023-03-17T18:55:46.330Z"
   },
   {
    "duration": 156423,
    "start_time": "2023-03-17T18:59:53.714Z"
   },
   {
    "duration": 250653,
    "start_time": "2023-03-17T19:02:30.141Z"
   },
   {
    "duration": 247153,
    "start_time": "2023-03-17T19:06:40.797Z"
   },
   {
    "duration": 626636,
    "start_time": "2023-03-17T19:49:28.557Z"
   },
   {
    "duration": 7,
    "start_time": "2023-03-17T20:02:44.265Z"
   },
   {
    "duration": 10,
    "start_time": "2023-03-17T20:03:05.470Z"
   },
   {
    "duration": 6,
    "start_time": "2023-03-17T20:04:46.173Z"
   },
   {
    "duration": 12,
    "start_time": "2023-03-17T20:05:15.047Z"
   },
   {
    "duration": 2340,
    "start_time": "2023-03-20T07:01:13.686Z"
   },
   {
    "duration": 3,
    "start_time": "2023-03-20T07:01:16.028Z"
   },
   {
    "duration": 3,
    "start_time": "2023-03-20T07:01:16.033Z"
   },
   {
    "duration": 2640,
    "start_time": "2023-03-20T07:01:16.039Z"
   },
   {
    "duration": 520,
    "start_time": "2023-03-20T07:01:18.682Z"
   },
   {
    "duration": 434,
    "start_time": "2023-03-20T07:01:19.204Z"
   },
   {
    "duration": 18,
    "start_time": "2023-03-20T07:01:19.640Z"
   },
   {
    "duration": 303,
    "start_time": "2023-03-20T07:01:19.659Z"
   },
   {
    "duration": 23,
    "start_time": "2023-03-20T07:01:19.964Z"
   },
   {
    "duration": 337,
    "start_time": "2023-03-20T07:01:19.991Z"
   },
   {
    "duration": 16,
    "start_time": "2023-03-20T07:01:20.331Z"
   },
   {
    "duration": 181,
    "start_time": "2023-03-20T07:01:20.349Z"
   },
   {
    "duration": 240,
    "start_time": "2023-03-20T07:01:20.531Z"
   },
   {
    "duration": 78,
    "start_time": "2023-03-20T07:01:20.773Z"
   },
   {
    "duration": 21,
    "start_time": "2023-03-20T07:01:20.852Z"
   },
   {
    "duration": 22,
    "start_time": "2023-03-20T07:01:20.875Z"
   },
   {
    "duration": 71,
    "start_time": "2023-03-20T07:01:20.900Z"
   },
   {
    "duration": 58,
    "start_time": "2023-03-20T07:01:20.973Z"
   },
   {
    "duration": 24,
    "start_time": "2023-03-20T07:01:21.032Z"
   },
   {
    "duration": 6,
    "start_time": "2023-03-20T07:01:21.058Z"
   },
   {
    "duration": 32,
    "start_time": "2023-03-20T07:01:21.065Z"
   },
   {
    "duration": 17,
    "start_time": "2023-03-20T07:01:21.098Z"
   },
   {
    "duration": 16,
    "start_time": "2023-03-20T07:01:21.118Z"
   },
   {
    "duration": 19,
    "start_time": "2023-03-20T07:01:21.136Z"
   },
   {
    "duration": 17,
    "start_time": "2023-03-20T07:01:21.157Z"
   },
   {
    "duration": 13,
    "start_time": "2023-03-20T07:01:21.176Z"
   },
   {
    "duration": 424,
    "start_time": "2023-03-20T07:01:21.191Z"
   },
   {
    "duration": 376,
    "start_time": "2023-03-20T07:01:21.619Z"
   },
   {
    "duration": 11,
    "start_time": "2023-03-20T07:01:21.996Z"
   },
   {
    "duration": 1535,
    "start_time": "2023-03-20T07:01:22.009Z"
   },
   {
    "duration": 6,
    "start_time": "2023-03-20T07:01:23.546Z"
   },
   {
    "duration": 1598,
    "start_time": "2023-03-20T07:01:23.554Z"
   },
   {
    "duration": 3,
    "start_time": "2023-03-20T07:01:25.154Z"
   },
   {
    "duration": 8,
    "start_time": "2023-03-20T07:01:25.159Z"
   },
   {
    "duration": 13,
    "start_time": "2023-03-20T07:01:25.169Z"
   },
   {
    "duration": 12,
    "start_time": "2023-03-20T07:01:25.185Z"
   },
   {
    "duration": 11,
    "start_time": "2023-03-20T07:01:25.199Z"
   },
   {
    "duration": 22,
    "start_time": "2023-03-20T07:01:25.212Z"
   },
   {
    "duration": 6,
    "start_time": "2023-03-20T07:01:25.236Z"
   },
   {
    "duration": 6,
    "start_time": "2023-03-20T07:01:25.244Z"
   },
   {
    "duration": 203359,
    "start_time": "2023-03-20T07:01:25.252Z"
   },
   {
    "duration": 127628,
    "start_time": "2023-03-20T07:04:48.613Z"
   },
   {
    "duration": 13,
    "start_time": "2023-03-20T07:06:56.242Z"
   },
   {
    "duration": 205368,
    "start_time": "2023-03-20T07:06:56.257Z"
   },
   {
    "duration": 207301,
    "start_time": "2023-03-20T07:10:21.627Z"
   },
   {
    "duration": 208105,
    "start_time": "2023-03-20T07:16:32.271Z"
   },
   {
    "duration": 204750,
    "start_time": "2023-03-20T07:23:42.188Z"
   },
   {
    "duration": 206577,
    "start_time": "2023-03-20T07:29:20.267Z"
   },
   {
    "duration": 13,
    "start_time": "2023-03-20T07:33:45.187Z"
   },
   {
    "duration": 10,
    "start_time": "2023-03-20T07:34:11.691Z"
   },
   {
    "duration": 135155,
    "start_time": "2023-03-20T07:35:52.118Z"
   },
   {
    "duration": 8,
    "start_time": "2023-03-20T07:47:47.766Z"
   },
   {
    "duration": 8,
    "start_time": "2023-03-20T07:54:50.254Z"
   },
   {
    "duration": 3,
    "start_time": "2023-03-20T08:23:47.878Z"
   },
   {
    "duration": 11,
    "start_time": "2023-03-20T08:28:20.655Z"
   },
   {
    "duration": 26,
    "start_time": "2023-03-20T08:29:09.969Z"
   },
   {
    "duration": 7,
    "start_time": "2023-03-20T08:29:17.890Z"
   },
   {
    "duration": 17,
    "start_time": "2023-03-20T08:29:26.367Z"
   },
   {
    "duration": 18,
    "start_time": "2023-03-20T08:29:33.456Z"
   },
   {
    "duration": 5,
    "start_time": "2023-03-20T08:30:27.250Z"
   },
   {
    "duration": 18,
    "start_time": "2023-03-20T08:30:32.096Z"
   },
   {
    "duration": 5,
    "start_time": "2023-03-20T08:35:29.131Z"
   },
   {
    "duration": 19,
    "start_time": "2023-03-20T08:35:32.507Z"
   },
   {
    "duration": 4,
    "start_time": "2023-03-20T08:56:54.174Z"
   },
   {
    "duration": 24,
    "start_time": "2023-03-20T08:57:03.300Z"
   },
   {
    "duration": 7,
    "start_time": "2023-03-20T09:13:37.000Z"
   },
   {
    "duration": 4,
    "start_time": "2023-03-20T09:13:47.198Z"
   },
   {
    "duration": 7,
    "start_time": "2023-03-20T09:29:05.919Z"
   },
   {
    "duration": 9,
    "start_time": "2023-03-20T09:29:34.602Z"
   },
   {
    "duration": 7,
    "start_time": "2023-03-20T09:29:43.920Z"
   },
   {
    "duration": 8,
    "start_time": "2023-03-20T09:31:53.304Z"
   },
   {
    "duration": 7,
    "start_time": "2023-03-20T09:31:59.860Z"
   },
   {
    "duration": 6,
    "start_time": "2023-03-20T09:32:08.355Z"
   },
   {
    "duration": 8,
    "start_time": "2023-03-20T09:32:52.310Z"
   },
   {
    "duration": 13,
    "start_time": "2023-03-20T09:35:05.998Z"
   },
   {
    "duration": 7,
    "start_time": "2023-03-20T09:35:17.806Z"
   },
   {
    "duration": 6,
    "start_time": "2023-03-20T09:37:33.910Z"
   },
   {
    "duration": 6,
    "start_time": "2023-03-20T09:37:36.547Z"
   },
   {
    "duration": 5,
    "start_time": "2023-03-20T09:37:44.867Z"
   },
   {
    "duration": 17,
    "start_time": "2023-03-20T09:39:56.220Z"
   },
   {
    "duration": 5,
    "start_time": "2023-03-20T09:45:24.673Z"
   },
   {
    "duration": 4,
    "start_time": "2023-03-20T09:45:40.148Z"
   },
   {
    "duration": 4,
    "start_time": "2023-03-20T09:45:47.163Z"
   },
   {
    "duration": 14,
    "start_time": "2023-03-20T09:49:50.601Z"
   },
   {
    "duration": 58,
    "start_time": "2023-03-21T07:46:23.032Z"
   },
   {
    "duration": 45,
    "start_time": "2023-03-21T07:46:41.382Z"
   },
   {
    "duration": 53,
    "start_time": "2023-03-21T08:33:06.788Z"
   },
   {
    "duration": 81,
    "start_time": "2023-03-21T09:08:32.118Z"
   },
   {
    "duration": 1782,
    "start_time": "2023-03-22T06:55:51.248Z"
   },
   {
    "duration": 3,
    "start_time": "2023-03-22T06:55:53.033Z"
   },
   {
    "duration": 6,
    "start_time": "2023-03-22T06:55:53.038Z"
   },
   {
    "duration": 685,
    "start_time": "2023-03-22T06:55:53.048Z"
   },
   {
    "duration": 1456,
    "start_time": "2023-03-22T06:55:53.735Z"
   },
   {
    "duration": 211,
    "start_time": "2023-03-22T06:55:55.193Z"
   },
   {
    "duration": 19,
    "start_time": "2023-03-22T06:55:55.406Z"
   },
   {
    "duration": 308,
    "start_time": "2023-03-22T06:55:55.427Z"
   },
   {
    "duration": 30,
    "start_time": "2023-03-22T06:55:55.737Z"
   },
   {
    "duration": 256,
    "start_time": "2023-03-22T06:55:55.772Z"
   },
   {
    "duration": 13,
    "start_time": "2023-03-22T06:55:56.029Z"
   },
   {
    "duration": 153,
    "start_time": "2023-03-22T06:55:56.044Z"
   },
   {
    "duration": 237,
    "start_time": "2023-03-22T06:55:56.200Z"
   },
   {
    "duration": 73,
    "start_time": "2023-03-22T06:55:56.439Z"
   },
   {
    "duration": 22,
    "start_time": "2023-03-22T06:55:56.515Z"
   },
   {
    "duration": 41,
    "start_time": "2023-03-22T06:55:56.539Z"
   },
   {
    "duration": 38,
    "start_time": "2023-03-22T06:55:56.582Z"
   },
   {
    "duration": 51,
    "start_time": "2023-03-22T06:55:56.622Z"
   },
   {
    "duration": 18,
    "start_time": "2023-03-22T06:55:56.675Z"
   },
   {
    "duration": 5,
    "start_time": "2023-03-22T06:55:56.695Z"
   },
   {
    "duration": 6,
    "start_time": "2023-03-22T06:55:56.702Z"
   },
   {
    "duration": 7,
    "start_time": "2023-03-22T06:55:56.710Z"
   },
   {
    "duration": 47,
    "start_time": "2023-03-22T06:55:56.719Z"
   },
   {
    "duration": 14,
    "start_time": "2023-03-22T06:55:56.768Z"
   },
   {
    "duration": 11,
    "start_time": "2023-03-22T06:55:56.784Z"
   },
   {
    "duration": 6,
    "start_time": "2023-03-22T06:55:56.796Z"
   },
   {
    "duration": 432,
    "start_time": "2023-03-22T06:55:56.804Z"
   },
   {
    "duration": 378,
    "start_time": "2023-03-22T06:55:57.241Z"
   },
   {
    "duration": 11,
    "start_time": "2023-03-22T06:55:57.621Z"
   },
   {
    "duration": 1518,
    "start_time": "2023-03-22T06:55:57.634Z"
   },
   {
    "duration": 7,
    "start_time": "2023-03-22T06:55:59.155Z"
   },
   {
    "duration": 1581,
    "start_time": "2023-03-22T06:55:59.164Z"
   },
   {
    "duration": 4,
    "start_time": "2023-03-22T06:56:00.747Z"
   },
   {
    "duration": 70,
    "start_time": "2023-03-22T06:56:00.760Z"
   },
   {
    "duration": 40,
    "start_time": "2023-03-22T06:56:00.832Z"
   },
   {
    "duration": 72,
    "start_time": "2023-03-22T06:56:00.873Z"
   },
   {
    "duration": 58,
    "start_time": "2023-03-22T06:56:00.946Z"
   },
   {
    "duration": 60,
    "start_time": "2023-03-22T06:56:01.005Z"
   },
   {
    "duration": 66,
    "start_time": "2023-03-22T06:56:01.067Z"
   },
   {
    "duration": 40,
    "start_time": "2023-03-22T06:56:01.136Z"
   },
   {
    "duration": 91,
    "start_time": "2023-03-22T06:56:01.178Z"
   },
   {
    "duration": 121434,
    "start_time": "2023-03-22T06:56:01.271Z"
   },
   {
    "duration": 119766,
    "start_time": "2023-03-22T06:58:02.708Z"
   },
   {
    "duration": 17,
    "start_time": "2023-03-22T07:00:02.477Z"
   },
   {
    "duration": 193583,
    "start_time": "2023-03-22T07:00:02.496Z"
   },
   {
    "duration": 194927,
    "start_time": "2023-03-22T07:03:16.082Z"
   },
   {
    "duration": 11,
    "start_time": "2023-03-22T07:06:31.011Z"
   },
   {
    "duration": 44,
    "start_time": "2023-03-22T07:06:31.024Z"
   },
   {
    "duration": 32,
    "start_time": "2023-03-22T07:06:31.071Z"
   },
   {
    "duration": 10,
    "start_time": "2023-03-22T07:13:58.476Z"
   },
   {
    "duration": 12,
    "start_time": "2023-03-22T07:14:05.932Z"
   },
   {
    "duration": 10,
    "start_time": "2023-03-22T07:14:11.532Z"
   },
   {
    "duration": 2,
    "start_time": "2023-03-22T07:38:31.891Z"
   },
   {
    "duration": 3,
    "start_time": "2023-03-22T07:38:32.301Z"
   },
   {
    "duration": 3,
    "start_time": "2023-03-22T07:38:32.764Z"
   },
   {
    "duration": 211,
    "start_time": "2023-03-22T07:39:44.063Z"
   },
   {
    "duration": 163,
    "start_time": "2023-03-22T07:40:21.791Z"
   },
   {
    "duration": 136,
    "start_time": "2023-03-22T07:41:19.139Z"
   },
   {
    "duration": 513,
    "start_time": "2023-03-22T07:41:24.251Z"
   },
   {
    "duration": 484,
    "start_time": "2023-03-22T07:42:00.744Z"
   },
   {
    "duration": 10,
    "start_time": "2023-03-22T07:48:42.532Z"
   },
   {
    "duration": 12,
    "start_time": "2023-03-22T07:48:42.937Z"
   },
   {
    "duration": 12,
    "start_time": "2023-03-22T07:48:43.240Z"
   },
   {
    "duration": 147,
    "start_time": "2023-03-22T07:53:29.338Z"
   },
   {
    "duration": 1691,
    "start_time": "2023-03-22T07:54:18.428Z"
   },
   {
    "duration": 4,
    "start_time": "2023-03-22T07:54:20.121Z"
   },
   {
    "duration": 5,
    "start_time": "2023-03-22T07:54:20.128Z"
   },
   {
    "duration": 602,
    "start_time": "2023-03-22T07:54:20.135Z"
   },
   {
    "duration": 418,
    "start_time": "2023-03-22T07:54:20.740Z"
   },
   {
    "duration": 157,
    "start_time": "2023-03-22T07:54:21.160Z"
   },
   {
    "duration": 19,
    "start_time": "2023-03-22T07:54:21.319Z"
   },
   {
    "duration": 324,
    "start_time": "2023-03-22T07:54:21.340Z"
   },
   {
    "duration": 23,
    "start_time": "2023-03-22T07:54:21.666Z"
   },
   {
    "duration": 314,
    "start_time": "2023-03-22T07:54:21.696Z"
   },
   {
    "duration": 14,
    "start_time": "2023-03-22T07:54:22.012Z"
   },
   {
    "duration": 146,
    "start_time": "2023-03-22T07:54:22.028Z"
   },
   {
    "duration": 252,
    "start_time": "2023-03-22T07:54:22.176Z"
   },
   {
    "duration": 72,
    "start_time": "2023-03-22T07:54:22.431Z"
   },
   {
    "duration": 21,
    "start_time": "2023-03-22T07:54:22.505Z"
   },
   {
    "duration": 17,
    "start_time": "2023-03-22T07:54:22.527Z"
   },
   {
    "duration": 21,
    "start_time": "2023-03-22T07:54:22.545Z"
   },
   {
    "duration": 4,
    "start_time": "2023-03-22T07:54:22.568Z"
   },
   {
    "duration": 4,
    "start_time": "2023-03-22T07:54:22.574Z"
   },
   {
    "duration": 10,
    "start_time": "2023-03-22T07:54:22.580Z"
   },
   {
    "duration": 12,
    "start_time": "2023-03-22T07:54:22.592Z"
   },
   {
    "duration": 11,
    "start_time": "2023-03-22T07:54:22.606Z"
   },
   {
    "duration": 41,
    "start_time": "2023-03-22T07:54:22.619Z"
   },
   {
    "duration": 7,
    "start_time": "2023-03-22T07:54:22.664Z"
   },
   {
    "duration": 6,
    "start_time": "2023-03-22T07:54:22.674Z"
   },
   {
    "duration": 7,
    "start_time": "2023-03-22T07:54:22.682Z"
   },
   {
    "duration": 7,
    "start_time": "2023-03-22T07:54:22.691Z"
   },
   {
    "duration": 5,
    "start_time": "2023-03-22T07:54:22.700Z"
   },
   {
    "duration": 4,
    "start_time": "2023-03-22T07:54:22.707Z"
   },
   {
    "duration": 382,
    "start_time": "2023-03-22T07:54:22.713Z"
   },
   {
    "duration": 451,
    "start_time": "2023-03-22T07:54:23.097Z"
   },
   {
    "duration": 15,
    "start_time": "2023-03-22T07:54:23.551Z"
   },
   {
    "duration": 1814,
    "start_time": "2023-03-22T07:54:23.568Z"
   },
   {
    "duration": 8,
    "start_time": "2023-03-22T07:54:25.385Z"
   },
   {
    "duration": 6,
    "start_time": "2023-03-22T07:54:29.126Z"
   },
   {
    "duration": 155,
    "start_time": "2023-03-22T07:54:29.335Z"
   },
   {
    "duration": 41,
    "start_time": "2023-03-22T07:56:56.442Z"
   },
   {
    "duration": 1729,
    "start_time": "2023-03-22T07:56:59.993Z"
   },
   {
    "duration": 1528,
    "start_time": "2023-03-22T07:57:15.235Z"
   },
   {
    "duration": 5,
    "start_time": "2023-03-22T07:57:16.766Z"
   },
   {
    "duration": 5,
    "start_time": "2023-03-22T07:57:16.773Z"
   },
   {
    "duration": 499,
    "start_time": "2023-03-22T07:57:16.780Z"
   },
   {
    "duration": 392,
    "start_time": "2023-03-22T07:57:17.283Z"
   },
   {
    "duration": 125,
    "start_time": "2023-03-22T07:57:17.677Z"
   },
   {
    "duration": 21,
    "start_time": "2023-03-22T07:57:17.804Z"
   },
   {
    "duration": 332,
    "start_time": "2023-03-22T07:57:17.827Z"
   },
   {
    "duration": 21,
    "start_time": "2023-03-22T07:57:18.163Z"
   },
   {
    "duration": 312,
    "start_time": "2023-03-22T07:57:18.186Z"
   },
   {
    "duration": 14,
    "start_time": "2023-03-22T07:57:18.499Z"
   },
   {
    "duration": 169,
    "start_time": "2023-03-22T07:57:18.515Z"
   },
   {
    "duration": 250,
    "start_time": "2023-03-22T07:57:18.687Z"
   },
   {
    "duration": 81,
    "start_time": "2023-03-22T07:57:18.940Z"
   },
   {
    "duration": 24,
    "start_time": "2023-03-22T07:57:19.023Z"
   },
   {
    "duration": 20,
    "start_time": "2023-03-22T07:57:19.062Z"
   },
   {
    "duration": 3,
    "start_time": "2023-03-22T07:57:19.085Z"
   },
   {
    "duration": 13,
    "start_time": "2023-03-22T07:57:19.090Z"
   },
   {
    "duration": 13,
    "start_time": "2023-03-22T07:57:19.105Z"
   },
   {
    "duration": 16,
    "start_time": "2023-03-22T07:57:19.120Z"
   },
   {
    "duration": 23,
    "start_time": "2023-03-22T07:57:19.139Z"
   },
   {
    "duration": 12,
    "start_time": "2023-03-22T07:57:19.164Z"
   },
   {
    "duration": 9,
    "start_time": "2023-03-22T07:57:19.179Z"
   },
   {
    "duration": 6,
    "start_time": "2023-03-22T07:57:19.190Z"
   },
   {
    "duration": 10,
    "start_time": "2023-03-22T07:57:19.198Z"
   },
   {
    "duration": 7,
    "start_time": "2023-03-22T07:57:19.209Z"
   },
   {
    "duration": 16,
    "start_time": "2023-03-22T07:57:19.218Z"
   },
   {
    "duration": 35,
    "start_time": "2023-03-22T07:57:19.236Z"
   },
   {
    "duration": 5,
    "start_time": "2023-03-22T07:57:19.273Z"
   },
   {
    "duration": 325,
    "start_time": "2023-03-22T07:57:19.280Z"
   },
   {
    "duration": 602,
    "start_time": "2023-03-22T07:57:19.607Z"
   },
   {
    "duration": 16,
    "start_time": "2023-03-22T07:57:20.211Z"
   },
   {
    "duration": 1775,
    "start_time": "2023-03-22T07:57:20.229Z"
   },
   {
    "duration": 3,
    "start_time": "2023-03-22T07:57:28.599Z"
   },
   {
    "duration": 36,
    "start_time": "2023-03-22T07:57:28.987Z"
   },
   {
    "duration": 1807,
    "start_time": "2023-03-22T07:57:29.845Z"
   },
   {
    "duration": 13,
    "start_time": "2023-03-22T07:58:40.384Z"
   },
   {
    "duration": 1891,
    "start_time": "2023-03-22T07:58:43.879Z"
   },
   {
    "duration": 21,
    "start_time": "2023-03-22T07:59:21.088Z"
   },
   {
    "duration": 18,
    "start_time": "2023-03-22T07:59:25.784Z"
   },
   {
    "duration": 22,
    "start_time": "2023-03-22T07:59:27.998Z"
   },
   {
    "duration": 38,
    "start_time": "2023-03-22T07:59:34.133Z"
   },
   {
    "duration": 62,
    "start_time": "2023-03-22T08:05:16.506Z"
   },
   {
    "duration": 1787,
    "start_time": "2023-03-22T08:05:19.030Z"
   },
   {
    "duration": 15,
    "start_time": "2023-03-22T08:05:25.952Z"
   },
   {
    "duration": 1657,
    "start_time": "2023-03-22T08:05:32.194Z"
   },
   {
    "duration": 14,
    "start_time": "2023-03-22T08:07:03.760Z"
   },
   {
    "duration": 133,
    "start_time": "2023-03-22T08:07:32.186Z"
   },
   {
    "duration": 9,
    "start_time": "2023-03-22T08:07:36.217Z"
   },
   {
    "duration": 4,
    "start_time": "2023-03-22T08:10:14.783Z"
   },
   {
    "duration": 12,
    "start_time": "2023-03-22T08:10:18.455Z"
   },
   {
    "duration": 6,
    "start_time": "2023-03-22T08:10:24.426Z"
   },
   {
    "duration": 52,
    "start_time": "2023-03-22T08:14:28.225Z"
   },
   {
    "duration": 15,
    "start_time": "2023-03-22T08:14:36.175Z"
   },
   {
    "duration": 7,
    "start_time": "2023-03-22T08:14:40.391Z"
   },
   {
    "duration": 37,
    "start_time": "2023-03-22T08:14:52.456Z"
   },
   {
    "duration": 12,
    "start_time": "2023-03-22T08:14:53.960Z"
   },
   {
    "duration": 6,
    "start_time": "2023-03-22T08:14:56.222Z"
   },
   {
    "duration": 23,
    "start_time": "2023-03-22T08:15:23.320Z"
   },
   {
    "duration": 9,
    "start_time": "2023-03-22T08:15:24.641Z"
   },
   {
    "duration": 6,
    "start_time": "2023-03-22T08:15:31.659Z"
   },
   {
    "duration": 16,
    "start_time": "2023-03-22T08:16:05.685Z"
   },
   {
    "duration": 1579,
    "start_time": "2023-03-22T08:16:32.785Z"
   },
   {
    "duration": 4,
    "start_time": "2023-03-22T08:16:34.366Z"
   },
   {
    "duration": 7,
    "start_time": "2023-03-22T08:16:34.372Z"
   },
   {
    "duration": 481,
    "start_time": "2023-03-22T08:16:34.381Z"
   },
   {
    "duration": 369,
    "start_time": "2023-03-22T08:16:34.864Z"
   },
   {
    "duration": 141,
    "start_time": "2023-03-22T08:16:35.236Z"
   },
   {
    "duration": 32,
    "start_time": "2023-03-22T08:16:35.379Z"
   },
   {
    "duration": 332,
    "start_time": "2023-03-22T08:16:35.414Z"
   },
   {
    "duration": 36,
    "start_time": "2023-03-22T08:16:35.748Z"
   },
   {
    "duration": 342,
    "start_time": "2023-03-22T08:16:35.789Z"
   },
   {
    "duration": 18,
    "start_time": "2023-03-22T08:16:36.134Z"
   },
   {
    "duration": 153,
    "start_time": "2023-03-22T08:16:36.163Z"
   },
   {
    "duration": 250,
    "start_time": "2023-03-22T08:16:36.318Z"
   },
   {
    "duration": 62,
    "start_time": "2023-03-22T08:16:36.570Z"
   },
   {
    "duration": 41,
    "start_time": "2023-03-22T08:16:36.634Z"
   },
   {
    "duration": 17,
    "start_time": "2023-03-22T08:16:36.677Z"
   },
   {
    "duration": 3,
    "start_time": "2023-03-22T08:16:36.695Z"
   },
   {
    "duration": 8,
    "start_time": "2023-03-22T08:16:36.700Z"
   },
   {
    "duration": 12,
    "start_time": "2023-03-22T08:16:36.710Z"
   },
   {
    "duration": 13,
    "start_time": "2023-03-22T08:16:36.724Z"
   },
   {
    "duration": 12,
    "start_time": "2023-03-22T08:16:36.762Z"
   },
   {
    "duration": 11,
    "start_time": "2023-03-22T08:16:36.777Z"
   },
   {
    "duration": 19,
    "start_time": "2023-03-22T08:16:36.790Z"
   },
   {
    "duration": 13,
    "start_time": "2023-03-22T08:16:36.812Z"
   },
   {
    "duration": 8,
    "start_time": "2023-03-22T08:16:36.826Z"
   },
   {
    "duration": 30,
    "start_time": "2023-03-22T08:16:36.836Z"
   },
   {
    "duration": 7,
    "start_time": "2023-03-22T08:16:36.869Z"
   },
   {
    "duration": 6,
    "start_time": "2023-03-22T08:16:36.880Z"
   },
   {
    "duration": 5,
    "start_time": "2023-03-22T08:16:36.888Z"
   },
   {
    "duration": 316,
    "start_time": "2023-03-22T08:16:36.896Z"
   },
   {
    "duration": 506,
    "start_time": "2023-03-22T08:16:37.214Z"
   },
   {
    "duration": 14,
    "start_time": "2023-03-22T08:16:37.721Z"
   },
   {
    "duration": 1629,
    "start_time": "2023-03-22T08:16:37.737Z"
   },
   {
    "duration": 3,
    "start_time": "2023-03-22T08:16:39.368Z"
   },
   {
    "duration": 131,
    "start_time": "2023-03-22T08:17:07.832Z"
   },
   {
    "duration": 11,
    "start_time": "2023-03-22T08:28:20.683Z"
   },
   {
    "duration": 89,
    "start_time": "2023-03-22T08:28:28.125Z"
   },
   {
    "duration": 29,
    "start_time": "2023-03-22T08:28:33.155Z"
   },
   {
    "duration": 1512,
    "start_time": "2023-03-22T08:29:23.217Z"
   },
   {
    "duration": 3,
    "start_time": "2023-03-22T08:29:24.731Z"
   },
   {
    "duration": 7,
    "start_time": "2023-03-22T08:29:24.736Z"
   },
   {
    "duration": 507,
    "start_time": "2023-03-22T08:29:24.745Z"
   },
   {
    "duration": 403,
    "start_time": "2023-03-22T08:29:25.261Z"
   },
   {
    "duration": 144,
    "start_time": "2023-03-22T08:29:25.666Z"
   },
   {
    "duration": 19,
    "start_time": "2023-03-22T08:29:25.811Z"
   },
   {
    "duration": 313,
    "start_time": "2023-03-22T08:29:25.832Z"
   },
   {
    "duration": 36,
    "start_time": "2023-03-22T08:29:26.147Z"
   },
   {
    "duration": 284,
    "start_time": "2023-03-22T08:29:26.186Z"
   },
   {
    "duration": 18,
    "start_time": "2023-03-22T08:29:26.472Z"
   },
   {
    "duration": 155,
    "start_time": "2023-03-22T08:29:26.492Z"
   },
   {
    "duration": 260,
    "start_time": "2023-03-22T08:29:26.649Z"
   },
   {
    "duration": 77,
    "start_time": "2023-03-22T08:29:26.911Z"
   },
   {
    "duration": 23,
    "start_time": "2023-03-22T08:29:26.991Z"
   },
   {
    "duration": 18,
    "start_time": "2023-03-22T08:29:27.016Z"
   },
   {
    "duration": 26,
    "start_time": "2023-03-22T08:29:27.036Z"
   },
   {
    "duration": 7,
    "start_time": "2023-03-22T08:29:27.064Z"
   },
   {
    "duration": 6,
    "start_time": "2023-03-22T08:29:27.073Z"
   },
   {
    "duration": 12,
    "start_time": "2023-03-22T08:29:27.081Z"
   },
   {
    "duration": 12,
    "start_time": "2023-03-22T08:29:27.095Z"
   },
   {
    "duration": 12,
    "start_time": "2023-03-22T08:29:27.108Z"
   },
   {
    "duration": 6,
    "start_time": "2023-03-22T08:29:27.122Z"
   },
   {
    "duration": 37,
    "start_time": "2023-03-22T08:29:27.130Z"
   },
   {
    "duration": 6,
    "start_time": "2023-03-22T08:29:27.169Z"
   },
   {
    "duration": 6,
    "start_time": "2023-03-22T08:29:27.178Z"
   },
   {
    "duration": 9,
    "start_time": "2023-03-22T08:29:27.187Z"
   },
   {
    "duration": 7,
    "start_time": "2023-03-22T08:29:27.200Z"
   },
   {
    "duration": 5,
    "start_time": "2023-03-22T08:29:27.209Z"
   },
   {
    "duration": 448,
    "start_time": "2023-03-22T08:29:27.216Z"
   },
   {
    "duration": 370,
    "start_time": "2023-03-22T08:29:27.666Z"
   },
   {
    "duration": 30,
    "start_time": "2023-03-22T08:29:28.039Z"
   },
   {
    "duration": 1598,
    "start_time": "2023-03-22T08:29:28.076Z"
   },
   {
    "duration": 3,
    "start_time": "2023-03-22T08:29:29.677Z"
   },
   {
    "duration": 36,
    "start_time": "2023-03-22T08:29:29.683Z"
   },
   {
    "duration": 25,
    "start_time": "2023-03-22T08:29:36.029Z"
   },
   {
    "duration": 8,
    "start_time": "2023-03-22T08:29:38.231Z"
   },
   {
    "duration": 6,
    "start_time": "2023-03-22T08:29:40.292Z"
   },
   {
    "duration": 1716,
    "start_time": "2023-03-22T08:29:48.893Z"
   },
   {
    "duration": 12,
    "start_time": "2023-03-22T08:29:58.611Z"
   },
   {
    "duration": 1574,
    "start_time": "2023-03-22T08:30:01.580Z"
   },
   {
    "duration": 5,
    "start_time": "2023-03-22T08:34:09.888Z"
   },
   {
    "duration": 1627,
    "start_time": "2023-03-22T08:34:14.435Z"
   },
   {
    "duration": 20,
    "start_time": "2023-03-22T08:37:10.283Z"
   },
   {
    "duration": 23,
    "start_time": "2023-03-22T08:37:12.712Z"
   },
   {
    "duration": 24,
    "start_time": "2023-03-22T08:37:17.092Z"
   },
   {
    "duration": 6,
    "start_time": "2023-03-22T08:38:08.683Z"
   },
   {
    "duration": 25,
    "start_time": "2023-03-22T08:38:42.920Z"
   },
   {
    "duration": 22,
    "start_time": "2023-03-22T08:38:49.085Z"
   },
   {
    "duration": 24,
    "start_time": "2023-03-22T08:38:50.014Z"
   },
   {
    "duration": 8,
    "start_time": "2023-03-22T08:38:59.983Z"
   },
   {
    "duration": 23,
    "start_time": "2023-03-22T08:39:08.002Z"
   },
   {
    "duration": 19,
    "start_time": "2023-03-22T08:39:57.422Z"
   },
   {
    "duration": 3,
    "start_time": "2023-03-22T08:40:07.621Z"
   },
   {
    "duration": 1674,
    "start_time": "2023-03-22T08:40:14.695Z"
   },
   {
    "duration": 3,
    "start_time": "2023-03-22T08:40:16.372Z"
   },
   {
    "duration": 5,
    "start_time": "2023-03-22T08:40:16.377Z"
   },
   {
    "duration": 473,
    "start_time": "2023-03-22T08:40:16.385Z"
   },
   {
    "duration": 351,
    "start_time": "2023-03-22T08:40:16.863Z"
   },
   {
    "duration": 145,
    "start_time": "2023-03-22T08:40:17.216Z"
   },
   {
    "duration": 19,
    "start_time": "2023-03-22T08:40:17.363Z"
   },
   {
    "duration": 314,
    "start_time": "2023-03-22T08:40:17.384Z"
   },
   {
    "duration": 18,
    "start_time": "2023-03-22T08:40:17.700Z"
   },
   {
    "duration": 280,
    "start_time": "2023-03-22T08:40:17.722Z"
   },
   {
    "duration": 18,
    "start_time": "2023-03-22T08:40:18.005Z"
   },
   {
    "duration": 165,
    "start_time": "2023-03-22T08:40:18.025Z"
   },
   {
    "duration": 253,
    "start_time": "2023-03-22T08:40:18.191Z"
   },
   {
    "duration": 78,
    "start_time": "2023-03-22T08:40:18.446Z"
   },
   {
    "duration": 39,
    "start_time": "2023-03-22T08:40:18.526Z"
   },
   {
    "duration": 18,
    "start_time": "2023-03-22T08:40:18.567Z"
   },
   {
    "duration": 10,
    "start_time": "2023-03-22T08:40:18.587Z"
   },
   {
    "duration": 5,
    "start_time": "2023-03-22T08:40:18.599Z"
   },
   {
    "duration": 6,
    "start_time": "2023-03-22T08:40:18.606Z"
   },
   {
    "duration": 14,
    "start_time": "2023-03-22T08:40:18.614Z"
   },
   {
    "duration": 41,
    "start_time": "2023-03-22T08:40:18.630Z"
   },
   {
    "duration": 13,
    "start_time": "2023-03-22T08:40:18.673Z"
   },
   {
    "duration": 9,
    "start_time": "2023-03-22T08:40:18.688Z"
   },
   {
    "duration": 10,
    "start_time": "2023-03-22T08:40:18.699Z"
   },
   {
    "duration": 6,
    "start_time": "2023-03-22T08:40:18.711Z"
   },
   {
    "duration": 44,
    "start_time": "2023-03-22T08:40:18.719Z"
   },
   {
    "duration": 7,
    "start_time": "2023-03-22T08:40:18.765Z"
   },
   {
    "duration": 20,
    "start_time": "2023-03-22T08:40:18.776Z"
   },
   {
    "duration": 7,
    "start_time": "2023-03-22T08:40:18.799Z"
   },
   {
    "duration": 422,
    "start_time": "2023-03-22T08:40:18.808Z"
   },
   {
    "duration": 547,
    "start_time": "2023-03-22T08:40:19.231Z"
   },
   {
    "duration": 16,
    "start_time": "2023-03-22T08:40:19.779Z"
   },
   {
    "duration": 1628,
    "start_time": "2023-03-22T08:40:19.797Z"
   },
   {
    "duration": 22,
    "start_time": "2023-03-22T08:40:21.427Z"
   },
   {
    "duration": 11,
    "start_time": "2023-03-22T08:40:21.451Z"
   },
   {
    "duration": 4,
    "start_time": "2023-03-22T08:40:23.096Z"
   },
   {
    "duration": 1749,
    "start_time": "2023-03-22T08:40:23.695Z"
   },
   {
    "duration": 23,
    "start_time": "2023-03-22T08:40:32.408Z"
   },
   {
    "duration": 6,
    "start_time": "2023-03-22T08:40:49.169Z"
   },
   {
    "duration": 1613,
    "start_time": "2023-03-22T08:45:34.140Z"
   },
   {
    "duration": 1463,
    "start_time": "2023-03-22T08:45:57.309Z"
   },
   {
    "duration": 4,
    "start_time": "2023-03-22T08:45:58.774Z"
   },
   {
    "duration": 7,
    "start_time": "2023-03-22T08:45:58.780Z"
   },
   {
    "duration": 473,
    "start_time": "2023-03-22T08:45:58.789Z"
   },
   {
    "duration": 345,
    "start_time": "2023-03-22T08:45:59.264Z"
   },
   {
    "duration": 117,
    "start_time": "2023-03-22T08:45:59.610Z"
   },
   {
    "duration": 18,
    "start_time": "2023-03-22T08:45:59.729Z"
   },
   {
    "duration": 312,
    "start_time": "2023-03-22T08:45:59.749Z"
   },
   {
    "duration": 20,
    "start_time": "2023-03-22T08:46:00.064Z"
   },
   {
    "duration": 327,
    "start_time": "2023-03-22T08:46:00.087Z"
   },
   {
    "duration": 20,
    "start_time": "2023-03-22T08:46:00.416Z"
   },
   {
    "duration": 153,
    "start_time": "2023-03-22T08:46:00.438Z"
   },
   {
    "duration": 223,
    "start_time": "2023-03-22T08:46:00.593Z"
   },
   {
    "duration": 99,
    "start_time": "2023-03-22T08:46:00.818Z"
   },
   {
    "duration": 20,
    "start_time": "2023-03-22T08:46:00.920Z"
   },
   {
    "duration": 31,
    "start_time": "2023-03-22T08:46:00.942Z"
   },
   {
    "duration": 4,
    "start_time": "2023-03-22T08:46:00.975Z"
   },
   {
    "duration": 22,
    "start_time": "2023-03-22T08:46:00.981Z"
   },
   {
    "duration": 14,
    "start_time": "2023-03-22T08:46:01.004Z"
   },
   {
    "duration": 49,
    "start_time": "2023-03-22T08:46:01.020Z"
   },
   {
    "duration": 23,
    "start_time": "2023-03-22T08:46:01.071Z"
   },
   {
    "duration": 26,
    "start_time": "2023-03-22T08:46:01.096Z"
   },
   {
    "duration": 21,
    "start_time": "2023-03-22T08:46:01.124Z"
   },
   {
    "duration": 28,
    "start_time": "2023-03-22T08:46:01.148Z"
   },
   {
    "duration": 48,
    "start_time": "2023-03-22T08:46:01.178Z"
   },
   {
    "duration": 50,
    "start_time": "2023-03-22T08:46:01.228Z"
   },
   {
    "duration": 44,
    "start_time": "2023-03-22T08:46:01.280Z"
   },
   {
    "duration": 45,
    "start_time": "2023-03-22T08:46:01.328Z"
   },
   {
    "duration": 42,
    "start_time": "2023-03-22T08:46:01.375Z"
   },
   {
    "duration": 345,
    "start_time": "2023-03-22T08:46:01.419Z"
   },
   {
    "duration": 516,
    "start_time": "2023-03-22T08:46:01.766Z"
   },
   {
    "duration": 18,
    "start_time": "2023-03-22T08:46:02.284Z"
   },
   {
    "duration": 1621,
    "start_time": "2023-03-22T08:46:02.304Z"
   },
   {
    "duration": 34,
    "start_time": "2023-03-22T08:46:03.927Z"
   },
   {
    "duration": 7,
    "start_time": "2023-03-22T08:46:03.964Z"
   },
   {
    "duration": 1711,
    "start_time": "2023-03-22T08:46:03.973Z"
   },
   {
    "duration": 3,
    "start_time": "2023-03-22T08:46:05.687Z"
   },
   {
    "duration": 26,
    "start_time": "2023-03-22T08:46:05.692Z"
   },
   {
    "duration": 9,
    "start_time": "2023-03-22T08:46:05.720Z"
   },
   {
    "duration": 10,
    "start_time": "2023-03-22T08:46:05.730Z"
   },
   {
    "duration": 8,
    "start_time": "2023-03-22T08:46:05.742Z"
   },
   {
    "duration": 12,
    "start_time": "2023-03-22T08:46:05.751Z"
   },
   {
    "duration": 7,
    "start_time": "2023-03-22T08:46:05.765Z"
   },
   {
    "duration": 6,
    "start_time": "2023-03-22T08:46:05.774Z"
   },
   {
    "duration": 12,
    "start_time": "2023-03-22T08:46:05.782Z"
   },
   {
    "duration": 117581,
    "start_time": "2023-03-22T08:46:05.796Z"
   },
   {
    "duration": 120340,
    "start_time": "2023-03-22T08:48:03.379Z"
   },
   {
    "duration": 14,
    "start_time": "2023-03-22T08:50:03.722Z"
   },
   {
    "duration": 188392,
    "start_time": "2023-03-22T08:50:03.738Z"
   },
   {
    "duration": 189986,
    "start_time": "2023-03-22T08:53:12.132Z"
   },
   {
    "duration": 10,
    "start_time": "2023-03-22T08:56:22.120Z"
   },
   {
    "duration": 11,
    "start_time": "2023-03-22T08:56:22.131Z"
   },
   {
    "duration": 22,
    "start_time": "2023-03-22T08:56:22.144Z"
   },
   {
    "duration": 34,
    "start_time": "2023-03-22T09:02:50.439Z"
   },
   {
    "duration": 49,
    "start_time": "2023-03-22T09:33:48.528Z"
   },
   {
    "duration": 1590,
    "start_time": "2023-03-22T09:34:00.525Z"
   },
   {
    "duration": 1530,
    "start_time": "2023-03-22T10:08:54.998Z"
   },
   {
    "duration": 3,
    "start_time": "2023-03-22T10:08:56.530Z"
   },
   {
    "duration": 15,
    "start_time": "2023-03-22T10:08:56.535Z"
   },
   {
    "duration": 514,
    "start_time": "2023-03-22T10:08:56.553Z"
   },
   {
    "duration": 359,
    "start_time": "2023-03-22T10:08:57.069Z"
   },
   {
    "duration": 132,
    "start_time": "2023-03-22T10:08:57.431Z"
   },
   {
    "duration": 22,
    "start_time": "2023-03-22T10:08:57.565Z"
   },
   {
    "duration": 309,
    "start_time": "2023-03-22T10:08:57.589Z"
   },
   {
    "duration": 17,
    "start_time": "2023-03-22T10:08:57.900Z"
   },
   {
    "duration": 285,
    "start_time": "2023-03-22T10:08:57.920Z"
   },
   {
    "duration": 12,
    "start_time": "2023-03-22T10:08:58.207Z"
   },
   {
    "duration": 161,
    "start_time": "2023-03-22T10:08:58.220Z"
   },
   {
    "duration": 253,
    "start_time": "2023-03-22T10:08:58.383Z"
   },
   {
    "duration": 83,
    "start_time": "2023-03-22T10:08:58.638Z"
   },
   {
    "duration": 24,
    "start_time": "2023-03-22T10:08:58.723Z"
   },
   {
    "duration": 32,
    "start_time": "2023-03-22T10:08:58.749Z"
   },
   {
    "duration": 3,
    "start_time": "2023-03-22T10:08:58.783Z"
   },
   {
    "duration": 27,
    "start_time": "2023-03-22T10:08:58.788Z"
   },
   {
    "duration": 15,
    "start_time": "2023-03-22T10:08:58.817Z"
   },
   {
    "duration": 24,
    "start_time": "2023-03-22T10:08:58.834Z"
   },
   {
    "duration": 22,
    "start_time": "2023-03-22T10:08:58.860Z"
   },
   {
    "duration": 20,
    "start_time": "2023-03-22T10:08:58.885Z"
   },
   {
    "duration": 8,
    "start_time": "2023-03-22T10:08:58.906Z"
   },
   {
    "duration": 21,
    "start_time": "2023-03-22T10:08:58.915Z"
   },
   {
    "duration": 9,
    "start_time": "2023-03-22T10:08:58.938Z"
   },
   {
    "duration": 11,
    "start_time": "2023-03-22T10:08:58.950Z"
   },
   {
    "duration": 25,
    "start_time": "2023-03-22T10:08:58.965Z"
   },
   {
    "duration": 10,
    "start_time": "2023-03-22T10:08:58.994Z"
   },
   {
    "duration": 32,
    "start_time": "2023-03-22T10:08:59.005Z"
   },
   {
    "duration": 329,
    "start_time": "2023-03-22T10:08:59.039Z"
   },
   {
    "duration": 571,
    "start_time": "2023-03-22T10:08:59.370Z"
   },
   {
    "duration": 22,
    "start_time": "2023-03-22T10:08:59.942Z"
   },
   {
    "duration": 1698,
    "start_time": "2023-03-22T10:08:59.967Z"
   },
   {
    "duration": 24,
    "start_time": "2023-03-22T10:09:01.667Z"
   },
   {
    "duration": 47,
    "start_time": "2023-03-22T10:09:01.692Z"
   },
   {
    "duration": 1729,
    "start_time": "2023-03-22T10:09:01.741Z"
   },
   {
    "duration": 5,
    "start_time": "2023-03-22T10:09:03.472Z"
   },
   {
    "duration": 15,
    "start_time": "2023-03-22T10:09:03.478Z"
   },
   {
    "duration": 34,
    "start_time": "2023-03-22T10:09:03.496Z"
   },
   {
    "duration": 9,
    "start_time": "2023-03-22T10:09:03.533Z"
   },
   {
    "duration": 9,
    "start_time": "2023-03-22T10:09:03.544Z"
   },
   {
    "duration": 6,
    "start_time": "2023-03-22T10:09:03.555Z"
   },
   {
    "duration": 20,
    "start_time": "2023-03-22T10:09:03.563Z"
   },
   {
    "duration": 19,
    "start_time": "2023-03-22T10:09:03.585Z"
   },
   {
    "duration": 7,
    "start_time": "2023-03-22T10:09:03.606Z"
   },
   {
    "duration": 121235,
    "start_time": "2023-03-22T10:09:03.616Z"
   },
   {
    "duration": 124694,
    "start_time": "2023-03-22T10:11:04.853Z"
   },
   {
    "duration": 196363,
    "start_time": "2023-03-22T10:13:09.550Z"
   },
   {
    "duration": 199026,
    "start_time": "2023-03-22T10:16:25.915Z"
   },
   {
    "duration": 9,
    "start_time": "2023-03-22T10:19:44.943Z"
   },
   {
    "duration": 12,
    "start_time": "2023-03-22T10:19:44.962Z"
   },
   {
    "duration": 10,
    "start_time": "2023-03-22T10:19:44.977Z"
   },
   {
    "duration": 2005,
    "start_time": "2023-03-23T14:32:34.163Z"
   },
   {
    "duration": 5,
    "start_time": "2023-03-23T14:36:37.708Z"
   },
   {
    "duration": 9,
    "start_time": "2023-03-23T14:36:37.716Z"
   },
   {
    "duration": 9,
    "start_time": "2023-03-23T14:36:37.727Z"
   },
   {
    "duration": 931,
    "start_time": "2023-03-23T14:36:37.739Z"
   },
   {
    "duration": 1666,
    "start_time": "2023-03-23T14:36:38.672Z"
   },
   {
    "duration": 250,
    "start_time": "2023-03-23T14:36:40.341Z"
   },
   {
    "duration": 24,
    "start_time": "2023-03-23T14:36:40.593Z"
   },
   {
    "duration": 381,
    "start_time": "2023-03-23T14:36:40.619Z"
   },
   {
    "duration": 24,
    "start_time": "2023-03-23T14:36:41.003Z"
   },
   {
    "duration": 353,
    "start_time": "2023-03-23T14:36:41.032Z"
   },
   {
    "duration": 28,
    "start_time": "2023-03-23T14:36:41.388Z"
   },
   {
    "duration": 205,
    "start_time": "2023-03-23T14:36:41.420Z"
   },
   {
    "duration": 346,
    "start_time": "2023-03-23T14:36:41.628Z"
   },
   {
    "duration": 97,
    "start_time": "2023-03-23T14:36:41.976Z"
   },
   {
    "duration": 40,
    "start_time": "2023-03-23T14:36:42.075Z"
   },
   {
    "duration": 25,
    "start_time": "2023-03-23T14:36:42.118Z"
   },
   {
    "duration": 3,
    "start_time": "2023-03-23T14:36:42.145Z"
   },
   {
    "duration": 10,
    "start_time": "2023-03-23T14:36:42.150Z"
   },
   {
    "duration": 9,
    "start_time": "2023-03-23T14:36:42.163Z"
   },
   {
    "duration": 37,
    "start_time": "2023-03-23T14:36:42.175Z"
   },
   {
    "duration": 13,
    "start_time": "2023-03-23T14:36:42.215Z"
   },
   {
    "duration": 16,
    "start_time": "2023-03-23T14:36:42.230Z"
   },
   {
    "duration": 6,
    "start_time": "2023-03-23T14:36:42.248Z"
   },
   {
    "duration": 11,
    "start_time": "2023-03-23T14:36:42.257Z"
   },
   {
    "duration": 31,
    "start_time": "2023-03-23T14:36:42.274Z"
   },
   {
    "duration": 20,
    "start_time": "2023-03-23T14:36:42.310Z"
   },
   {
    "duration": 7,
    "start_time": "2023-03-23T14:36:42.332Z"
   },
   {
    "duration": 9,
    "start_time": "2023-03-23T14:36:42.341Z"
   },
   {
    "duration": 7,
    "start_time": "2023-03-23T14:36:42.352Z"
   },
   {
    "duration": 457,
    "start_time": "2023-03-23T14:36:42.361Z"
   },
   {
    "duration": 614,
    "start_time": "2023-03-23T14:36:42.820Z"
   },
   {
    "duration": 17,
    "start_time": "2023-03-23T14:36:43.438Z"
   },
   {
    "duration": 2208,
    "start_time": "2023-03-23T14:36:43.457Z"
   },
   {
    "duration": 36,
    "start_time": "2023-03-23T14:36:45.667Z"
   },
   {
    "duration": 6,
    "start_time": "2023-03-23T14:36:45.706Z"
   },
   {
    "duration": 2350,
    "start_time": "2023-03-23T14:36:45.714Z"
   },
   {
    "duration": 5,
    "start_time": "2023-03-23T14:36:48.066Z"
   },
   {
    "duration": 13,
    "start_time": "2023-03-23T14:36:48.073Z"
   },
   {
    "duration": 13,
    "start_time": "2023-03-23T14:36:48.090Z"
   },
   {
    "duration": 10,
    "start_time": "2023-03-23T14:36:48.106Z"
   },
   {
    "duration": 12,
    "start_time": "2023-03-23T14:36:48.118Z"
   },
   {
    "duration": 9,
    "start_time": "2023-03-23T14:36:48.132Z"
   },
   {
    "duration": 44,
    "start_time": "2023-03-23T14:36:48.143Z"
   },
   {
    "duration": 7,
    "start_time": "2023-03-23T14:37:01.986Z"
   },
   {
    "duration": 134211,
    "start_time": "2023-03-23T14:45:52.456Z"
   },
   {
    "duration": 9,
    "start_time": "2023-03-23T14:50:24.883Z"
   },
   {
    "duration": 13,
    "start_time": "2023-03-23T14:51:14.767Z"
   },
   {
    "duration": 136910,
    "start_time": "2023-03-23T14:52:24.960Z"
   },
   {
    "duration": 4,
    "start_time": "2023-03-23T15:07:50.073Z"
   },
   {
    "duration": 4,
    "start_time": "2023-03-23T15:08:19.022Z"
   },
   {
    "duration": 17,
    "start_time": "2023-03-23T15:08:19.028Z"
   },
   {
    "duration": 5,
    "start_time": "2023-03-23T15:08:19.047Z"
   },
   {
    "duration": 526,
    "start_time": "2023-03-23T15:08:19.055Z"
   },
   {
    "duration": 340,
    "start_time": "2023-03-23T15:08:19.583Z"
   },
   {
    "duration": 141,
    "start_time": "2023-03-23T15:08:19.925Z"
   },
   {
    "duration": 21,
    "start_time": "2023-03-23T15:08:20.068Z"
   },
   {
    "duration": 324,
    "start_time": "2023-03-23T15:08:20.104Z"
   },
   {
    "duration": 18,
    "start_time": "2023-03-23T15:08:20.430Z"
   },
   {
    "duration": 292,
    "start_time": "2023-03-23T15:08:20.450Z"
   },
   {
    "duration": 19,
    "start_time": "2023-03-23T15:08:20.745Z"
   },
   {
    "duration": 196,
    "start_time": "2023-03-23T15:08:20.766Z"
   },
   {
    "duration": 293,
    "start_time": "2023-03-23T15:08:20.963Z"
   },
   {
    "duration": 26,
    "start_time": "2023-03-23T15:08:21.259Z"
   },
   {
    "duration": 40,
    "start_time": "2023-03-23T15:08:21.287Z"
   },
   {
    "duration": 22,
    "start_time": "2023-03-23T15:08:21.330Z"
   },
   {
    "duration": 3,
    "start_time": "2023-03-23T15:08:21.355Z"
   },
   {
    "duration": 5,
    "start_time": "2023-03-23T15:08:21.360Z"
   },
   {
    "duration": 3,
    "start_time": "2023-03-23T15:08:21.405Z"
   },
   {
    "duration": 13,
    "start_time": "2023-03-23T15:08:21.410Z"
   },
   {
    "duration": 9,
    "start_time": "2023-03-23T15:08:21.426Z"
   },
   {
    "duration": 10,
    "start_time": "2023-03-23T15:08:21.437Z"
   },
   {
    "duration": 6,
    "start_time": "2023-03-23T15:08:21.449Z"
   },
   {
    "duration": 6,
    "start_time": "2023-03-23T15:08:21.456Z"
   },
   {
    "duration": 43,
    "start_time": "2023-03-23T15:08:21.463Z"
   },
   {
    "duration": 6,
    "start_time": "2023-03-23T15:08:21.508Z"
   },
   {
    "duration": 9,
    "start_time": "2023-03-23T15:08:21.515Z"
   },
   {
    "duration": 7,
    "start_time": "2023-03-23T15:08:21.526Z"
   },
   {
    "duration": 5,
    "start_time": "2023-03-23T15:08:21.535Z"
   },
   {
    "duration": 397,
    "start_time": "2023-03-23T15:08:21.543Z"
   },
   {
    "duration": 526,
    "start_time": "2023-03-23T15:08:21.943Z"
   },
   {
    "duration": 19,
    "start_time": "2023-03-23T15:08:22.471Z"
   },
   {
    "duration": 1678,
    "start_time": "2023-03-23T15:08:22.502Z"
   },
   {
    "duration": 32,
    "start_time": "2023-03-23T15:08:24.182Z"
   },
   {
    "duration": 5,
    "start_time": "2023-03-23T15:08:24.216Z"
   },
   {
    "duration": 1624,
    "start_time": "2023-03-23T15:08:24.223Z"
   },
   {
    "duration": 3,
    "start_time": "2023-03-23T15:08:25.850Z"
   },
   {
    "duration": 5,
    "start_time": "2023-03-23T15:08:25.855Z"
   },
   {
    "duration": 6,
    "start_time": "2023-03-23T15:08:25.862Z"
   },
   {
    "duration": 7,
    "start_time": "2023-03-23T15:08:25.870Z"
   },
   {
    "duration": 31,
    "start_time": "2023-03-23T15:08:25.879Z"
   },
   {
    "duration": 6,
    "start_time": "2023-03-23T15:08:25.912Z"
   },
   {
    "duration": 17,
    "start_time": "2023-03-23T15:08:25.920Z"
   },
   {
    "duration": 6,
    "start_time": "2023-03-23T15:08:25.939Z"
   },
   {
    "duration": 7,
    "start_time": "2023-03-23T15:08:25.947Z"
   },
   {
    "duration": 137754,
    "start_time": "2023-03-23T15:08:25.956Z"
   },
   {
    "duration": 135850,
    "start_time": "2023-03-23T15:10:43.713Z"
   },
   {
    "duration": 236318,
    "start_time": "2023-03-23T15:12:59.566Z"
   },
   {
    "duration": 226771,
    "start_time": "2023-03-23T15:16:55.886Z"
   },
   {
    "duration": 14,
    "start_time": "2023-03-23T15:33:23.752Z"
   },
   {
    "duration": 15,
    "start_time": "2023-03-23T15:33:26.230Z"
   },
   {
    "duration": 31,
    "start_time": "2023-03-23T15:43:43.028Z"
   },
   {
    "duration": 4,
    "start_time": "2023-03-23T15:44:35.067Z"
   },
   {
    "duration": 135,
    "start_time": "2023-03-23T15:47:33.884Z"
   },
   {
    "duration": 12,
    "start_time": "2023-03-23T15:48:24.645Z"
   },
   {
    "duration": 6,
    "start_time": "2023-03-23T15:50:47.165Z"
   },
   {
    "duration": 37,
    "start_time": "2023-03-23T15:51:29.157Z"
   },
   {
    "duration": 9,
    "start_time": "2023-03-23T15:51:48.001Z"
   },
   {
    "duration": 25,
    "start_time": "2023-03-23T15:51:52.722Z"
   },
   {
    "duration": 8,
    "start_time": "2023-03-23T15:52:10.818Z"
   },
   {
    "duration": 12595,
    "start_time": "2023-03-23T15:52:11.802Z"
   },
   {
    "duration": 5,
    "start_time": "2023-03-23T16:12:34.125Z"
   },
   {
    "duration": 4,
    "start_time": "2023-03-23T16:12:51.373Z"
   },
   {
    "duration": 14,
    "start_time": "2023-03-23T16:14:58.663Z"
   },
   {
    "duration": 16,
    "start_time": "2023-03-23T16:15:59.393Z"
   },
   {
    "duration": 11,
    "start_time": "2023-03-23T16:18:16.384Z"
   },
   {
    "duration": 15,
    "start_time": "2023-03-23T16:18:52.951Z"
   },
   {
    "duration": 6,
    "start_time": "2023-03-23T16:21:22.230Z"
   },
   {
    "duration": 1301,
    "start_time": "2023-03-23T16:21:33.387Z"
   },
   {
    "duration": 3226,
    "start_time": "2023-03-23T16:29:22.680Z"
   },
   {
    "duration": 349,
    "start_time": "2023-03-23T16:40:37.546Z"
   },
   {
    "duration": 803,
    "start_time": "2023-03-23T16:40:47.008Z"
   },
   {
    "duration": 479,
    "start_time": "2023-03-23T16:41:18.602Z"
   },
   {
    "duration": 396,
    "start_time": "2023-03-23T16:41:30.201Z"
   },
   {
    "duration": 1680,
    "start_time": "2023-03-23T16:41:37.762Z"
   },
   {
    "duration": 12,
    "start_time": "2023-03-23T16:55:30.866Z"
   },
   {
    "duration": 1805,
    "start_time": "2023-03-23T16:57:27.231Z"
   },
   {
    "duration": 4,
    "start_time": "2023-03-23T16:57:48.510Z"
   },
   {
    "duration": 4,
    "start_time": "2023-03-23T16:57:53.193Z"
   },
   {
    "duration": 1296,
    "start_time": "2023-03-23T16:58:12.033Z"
   },
   {
    "duration": 10,
    "start_time": "2023-03-23T16:58:52.873Z"
   },
   {
    "duration": 3,
    "start_time": "2023-03-23T16:59:18.494Z"
   },
   {
    "duration": 688,
    "start_time": "2023-03-23T16:59:20.543Z"
   },
   {
    "duration": 12,
    "start_time": "2023-03-23T16:59:36.116Z"
   },
   {
    "duration": 11,
    "start_time": "2023-03-23T17:00:07.343Z"
   },
   {
    "duration": 4,
    "start_time": "2023-03-23T17:05:09.176Z"
   },
   {
    "duration": 4,
    "start_time": "2023-03-23T17:05:28.716Z"
   },
   {
    "duration": 3,
    "start_time": "2023-03-23T17:05:33.882Z"
   },
   {
    "duration": 1030,
    "start_time": "2023-03-23T17:05:51.222Z"
   },
   {
    "duration": 57,
    "start_time": "2023-03-23T17:06:04.670Z"
   },
   {
    "duration": 5,
    "start_time": "2023-03-23T17:06:08.376Z"
   },
   {
    "duration": 963,
    "start_time": "2023-03-23T17:06:09.783Z"
   },
   {
    "duration": 3,
    "start_time": "2023-03-23T17:08:07.721Z"
   },
   {
    "duration": 9964,
    "start_time": "2023-03-23T17:08:09.538Z"
   },
   {
    "duration": 3,
    "start_time": "2023-03-23T17:14:07.261Z"
   },
   {
    "duration": 11364,
    "start_time": "2023-03-23T17:14:09.361Z"
   },
   {
    "duration": 19,
    "start_time": "2023-03-23T17:14:45.298Z"
   },
   {
    "duration": 24,
    "start_time": "2023-03-23T17:14:50.122Z"
   },
   {
    "duration": 21,
    "start_time": "2023-03-23T17:17:36.127Z"
   },
   {
    "duration": 16,
    "start_time": "2023-03-23T17:20:48.435Z"
   },
   {
    "duration": 3,
    "start_time": "2023-03-23T17:22:40.727Z"
   },
   {
    "duration": 41502,
    "start_time": "2023-03-23T17:22:45.882Z"
   },
   {
    "duration": 0,
    "start_time": "2023-03-23T17:24:18.401Z"
   },
   {
    "duration": 9549,
    "start_time": "2023-03-23T17:24:24.882Z"
   },
   {
    "duration": 6953,
    "start_time": "2023-03-23T17:25:27.327Z"
   },
   {
    "duration": 14711,
    "start_time": "2023-03-23T17:25:45.681Z"
   },
   {
    "duration": 0,
    "start_time": "2023-03-23T17:37:30.647Z"
   },
   {
    "duration": 14,
    "start_time": "2023-03-23T17:37:45.958Z"
   },
   {
    "duration": 17,
    "start_time": "2023-03-23T17:38:53.722Z"
   },
   {
    "duration": 4,
    "start_time": "2023-03-23T17:39:47.135Z"
   },
   {
    "duration": 438103,
    "start_time": "2023-03-23T17:39:55.286Z"
   },
   {
    "duration": 791352,
    "start_time": "2023-03-23T17:47:26.026Z"
   },
   {
    "duration": 773028,
    "start_time": "2023-03-23T18:00:56.794Z"
   },
   {
    "duration": 13,
    "start_time": "2023-03-23T18:22:10.010Z"
   },
   {
    "duration": 35,
    "start_time": "2023-03-23T18:25:49.139Z"
   },
   {
    "duration": 13,
    "start_time": "2023-03-23T18:28:47.527Z"
   },
   {
    "duration": 15,
    "start_time": "2023-03-23T18:38:05.159Z"
   },
   {
    "duration": 4,
    "start_time": "2023-03-23T18:38:18.470Z"
   },
   {
    "duration": 828078,
    "start_time": "2023-03-23T18:38:52.871Z"
   },
   {
    "duration": 48,
    "start_time": "2023-03-23T18:59:03.879Z"
   },
   {
    "duration": 47,
    "start_time": "2023-03-23T18:59:23.099Z"
   },
   {
    "duration": 16,
    "start_time": "2023-03-23T18:59:28.911Z"
   },
   {
    "duration": 14,
    "start_time": "2023-03-23T19:00:18.564Z"
   },
   {
    "duration": 16,
    "start_time": "2023-03-23T19:03:33.317Z"
   },
   {
    "duration": 20,
    "start_time": "2023-03-23T19:04:03.302Z"
   },
   {
    "duration": 16,
    "start_time": "2023-03-23T19:04:41.225Z"
   },
   {
    "duration": 15,
    "start_time": "2023-03-23T19:04:57.183Z"
   },
   {
    "duration": 16,
    "start_time": "2023-03-23T19:08:53.842Z"
   },
   {
    "duration": 4,
    "start_time": "2023-03-23T19:09:13.433Z"
   },
   {
    "duration": 6,
    "start_time": "2023-03-23T19:09:40.483Z"
   },
   {
    "duration": 2256,
    "start_time": "2023-03-23T19:09:56.492Z"
   },
   {
    "duration": 2489,
    "start_time": "2023-03-23T19:11:47.055Z"
   },
   {
    "duration": 4,
    "start_time": "2023-03-23T19:12:09.139Z"
   },
   {
    "duration": 2331,
    "start_time": "2023-03-23T19:12:12.755Z"
   },
   {
    "duration": 2467,
    "start_time": "2023-03-23T19:12:22.627Z"
   },
   {
    "duration": 4,
    "start_time": "2023-03-23T19:12:25.376Z"
   },
   {
    "duration": 3,
    "start_time": "2023-03-23T19:21:02.688Z"
   },
   {
    "duration": 1597,
    "start_time": "2023-03-23T19:21:24.992Z"
   },
   {
    "duration": 3,
    "start_time": "2023-03-23T19:22:28.535Z"
   },
   {
    "duration": 1602,
    "start_time": "2023-03-23T19:22:30.349Z"
   },
   {
    "duration": 12,
    "start_time": "2023-03-23T19:22:45.655Z"
   },
   {
    "duration": 760,
    "start_time": "2023-03-23T19:30:29.506Z"
   },
   {
    "duration": 113759,
    "start_time": "2023-03-23T19:30:49.098Z"
   },
   {
    "duration": 10,
    "start_time": "2023-03-23T19:34:03.637Z"
   },
   {
    "duration": 13,
    "start_time": "2023-03-23T19:35:59.218Z"
   },
   {
    "duration": 13,
    "start_time": "2023-03-23T19:36:31.946Z"
   },
   {
    "duration": 103214,
    "start_time": "2023-03-23T19:37:19.104Z"
   },
   {
    "duration": 13,
    "start_time": "2023-03-23T19:39:30.992Z"
   },
   {
    "duration": 4957,
    "start_time": "2023-03-23T19:39:57.519Z"
   },
   {
    "duration": 96909,
    "start_time": "2023-03-23T19:42:58.259Z"
   },
   {
    "duration": 14,
    "start_time": "2023-03-23T19:46:18.886Z"
   },
   {
    "duration": 98763,
    "start_time": "2023-03-23T19:49:01.751Z"
   },
   {
    "duration": 9,
    "start_time": "2023-03-23T19:50:40.517Z"
   },
   {
    "duration": 16,
    "start_time": "2023-03-23T19:53:10.295Z"
   },
   {
    "duration": 24,
    "start_time": "2023-03-23T19:53:25.309Z"
   },
   {
    "duration": 18,
    "start_time": "2023-03-23T20:13:16.963Z"
   },
   {
    "duration": 1166,
    "start_time": "2023-03-23T20:14:00.198Z"
   },
   {
    "duration": 8341,
    "start_time": "2023-03-23T20:14:18.692Z"
   },
   {
    "duration": 742,
    "start_time": "2023-03-23T20:19:44.940Z"
   },
   {
    "duration": 9168,
    "start_time": "2023-03-23T20:20:11.736Z"
   },
   {
    "duration": 51,
    "start_time": "2023-03-23T20:24:40.926Z"
   },
   {
    "duration": 694,
    "start_time": "2023-03-23T20:24:46.926Z"
   },
   {
    "duration": 735,
    "start_time": "2023-03-23T20:25:14.021Z"
   },
   {
    "duration": 62,
    "start_time": "2023-03-23T20:25:33.602Z"
   },
   {
    "duration": 8061,
    "start_time": "2023-03-23T20:25:41.078Z"
   },
   {
    "duration": 6,
    "start_time": "2023-03-23T20:34:32.060Z"
   },
   {
    "duration": 4,
    "start_time": "2023-03-23T20:34:55.316Z"
   },
   {
    "duration": 16,
    "start_time": "2023-03-23T20:35:16.322Z"
   },
   {
    "duration": 21,
    "start_time": "2023-03-23T20:35:48.900Z"
   },
   {
    "duration": 195002,
    "start_time": "2023-03-23T20:36:48.032Z"
   },
   {
    "duration": 13,
    "start_time": "2023-03-23T20:40:43.015Z"
   },
   {
    "duration": 20,
    "start_time": "2023-03-23T20:46:00.885Z"
   },
   {
    "duration": 14,
    "start_time": "2023-03-23T20:46:34.653Z"
   },
   {
    "duration": 3,
    "start_time": "2023-03-23T20:47:06.529Z"
   },
   {
    "duration": 17,
    "start_time": "2023-03-23T20:47:07.018Z"
   },
   {
    "duration": 16,
    "start_time": "2023-03-23T20:47:32.746Z"
   },
   {
    "duration": 17,
    "start_time": "2023-03-23T20:54:12.325Z"
   },
   {
    "duration": 12,
    "start_time": "2023-03-23T20:56:56.759Z"
   },
   {
    "duration": 22,
    "start_time": "2023-03-23T20:57:24.400Z"
   },
   {
    "duration": 1468,
    "start_time": "2023-03-23T20:57:44.832Z"
   },
   {
    "duration": 4,
    "start_time": "2023-03-23T20:57:46.302Z"
   },
   {
    "duration": 22,
    "start_time": "2023-03-23T20:57:46.308Z"
   },
   {
    "duration": 560,
    "start_time": "2023-03-23T20:57:46.333Z"
   },
   {
    "duration": 389,
    "start_time": "2023-03-23T20:57:46.895Z"
   },
   {
    "duration": 129,
    "start_time": "2023-03-23T20:57:47.286Z"
   },
   {
    "duration": 25,
    "start_time": "2023-03-23T20:57:47.418Z"
   },
   {
    "duration": 303,
    "start_time": "2023-03-23T20:57:47.446Z"
   },
   {
    "duration": 24,
    "start_time": "2023-03-23T20:57:47.752Z"
   },
   {
    "duration": 289,
    "start_time": "2023-03-23T20:57:47.780Z"
   },
   {
    "duration": 17,
    "start_time": "2023-03-23T20:57:48.071Z"
   },
   {
    "duration": 173,
    "start_time": "2023-03-23T20:57:48.103Z"
   },
   {
    "duration": 249,
    "start_time": "2023-03-23T20:57:48.278Z"
   },
   {
    "duration": 80,
    "start_time": "2023-03-23T20:57:48.529Z"
   },
   {
    "duration": 22,
    "start_time": "2023-03-23T20:57:48.611Z"
   },
   {
    "duration": 18,
    "start_time": "2023-03-23T20:57:48.635Z"
   },
   {
    "duration": 3,
    "start_time": "2023-03-23T20:57:48.655Z"
   },
   {
    "duration": 4,
    "start_time": "2023-03-23T20:57:48.661Z"
   },
   {
    "duration": 4,
    "start_time": "2023-03-23T20:57:48.702Z"
   },
   {
    "duration": 13,
    "start_time": "2023-03-23T20:57:48.709Z"
   },
   {
    "duration": 14,
    "start_time": "2023-03-23T20:57:48.724Z"
   },
   {
    "duration": 13,
    "start_time": "2023-03-23T20:57:48.740Z"
   },
   {
    "duration": 5,
    "start_time": "2023-03-23T20:57:48.755Z"
   },
   {
    "duration": 41,
    "start_time": "2023-03-23T20:57:48.763Z"
   },
   {
    "duration": 9,
    "start_time": "2023-03-23T20:57:48.806Z"
   },
   {
    "duration": 14,
    "start_time": "2023-03-23T20:57:48.817Z"
   },
   {
    "duration": 8,
    "start_time": "2023-03-23T20:57:48.833Z"
   },
   {
    "duration": 6,
    "start_time": "2023-03-23T20:57:48.845Z"
   },
   {
    "duration": 4,
    "start_time": "2023-03-23T20:57:48.853Z"
   },
   {
    "duration": 435,
    "start_time": "2023-03-23T20:57:48.859Z"
   },
   {
    "duration": 369,
    "start_time": "2023-03-23T20:57:49.296Z"
   },
   {
    "duration": 15,
    "start_time": "2023-03-23T20:57:49.667Z"
   },
   {
    "duration": 1711,
    "start_time": "2023-03-23T20:57:49.684Z"
   },
   {
    "duration": 25,
    "start_time": "2023-03-23T20:57:51.397Z"
   },
   {
    "duration": 7,
    "start_time": "2023-03-23T20:57:51.424Z"
   },
   {
    "duration": 1695,
    "start_time": "2023-03-23T20:57:51.433Z"
   },
   {
    "duration": 4,
    "start_time": "2023-03-23T20:57:53.129Z"
   },
   {
    "duration": 4,
    "start_time": "2023-03-23T20:57:53.135Z"
   },
   {
    "duration": 5,
    "start_time": "2023-03-23T20:57:53.142Z"
   },
   {
    "duration": 6,
    "start_time": "2023-03-23T20:57:53.149Z"
   },
   {
    "duration": 9,
    "start_time": "2023-03-23T20:57:53.157Z"
   },
   {
    "duration": 35,
    "start_time": "2023-03-23T20:57:53.168Z"
   },
   {
    "duration": 11,
    "start_time": "2023-03-23T20:57:53.205Z"
   },
   {
    "duration": 13,
    "start_time": "2023-03-23T20:57:53.218Z"
   },
   {
    "duration": 13,
    "start_time": "2023-03-23T20:57:53.233Z"
   },
   {
    "duration": 143,
    "start_time": "2023-03-23T20:57:57.912Z"
   },
   {
    "duration": 4,
    "start_time": "2023-03-23T20:58:03.734Z"
   },
   {
    "duration": 165630,
    "start_time": "2023-03-23T20:58:05.252Z"
   },
   {
    "duration": 12,
    "start_time": "2023-03-23T21:00:59.696Z"
   },
   {
    "duration": 13,
    "start_time": "2023-03-23T21:01:06.344Z"
   },
   {
    "duration": 68,
    "start_time": "2023-03-23T21:01:19.848Z"
   },
   {
    "duration": 14,
    "start_time": "2023-03-23T21:01:23.227Z"
   },
   {
    "duration": 3,
    "start_time": "2023-03-23T21:01:40.743Z"
   },
   {
    "duration": 4751,
    "start_time": "2023-03-23T21:01:42.296Z"
   },
   {
    "duration": 123370,
    "start_time": "2023-03-23T21:01:56.141Z"
   },
   {
    "duration": 4,
    "start_time": "2023-03-23T21:04:03.193Z"
   },
   {
    "duration": 98449,
    "start_time": "2023-03-23T21:04:04.403Z"
   },
   {
    "duration": 3,
    "start_time": "2023-03-23T21:05:47.946Z"
   },
   {
    "duration": 148526,
    "start_time": "2023-03-23T21:05:48.112Z"
   },
   {
    "duration": 62,
    "start_time": "2023-03-24T08:11:31.951Z"
   },
   {
    "duration": 1720,
    "start_time": "2023-03-24T08:13:05.825Z"
   },
   {
    "duration": 2,
    "start_time": "2023-03-24T08:13:11.572Z"
   },
   {
    "duration": 90,
    "start_time": "2023-03-24T08:20:36.136Z"
   },
   {
    "duration": 4,
    "start_time": "2023-03-24T08:20:52.842Z"
   },
   {
    "duration": 4,
    "start_time": "2023-03-24T08:20:52.848Z"
   },
   {
    "duration": 4,
    "start_time": "2023-03-24T08:20:52.854Z"
   },
   {
    "duration": 786,
    "start_time": "2023-03-24T08:20:52.862Z"
   },
   {
    "duration": 2032,
    "start_time": "2023-03-24T08:20:53.651Z"
   },
   {
    "duration": 231,
    "start_time": "2023-03-24T08:20:55.685Z"
   },
   {
    "duration": 22,
    "start_time": "2023-03-24T08:20:55.919Z"
   },
   {
    "duration": 314,
    "start_time": "2023-03-24T08:20:55.943Z"
   },
   {
    "duration": 29,
    "start_time": "2023-03-24T08:20:56.259Z"
   },
   {
    "duration": 264,
    "start_time": "2023-03-24T08:20:56.290Z"
   },
   {
    "duration": 21,
    "start_time": "2023-03-24T08:20:56.556Z"
   },
   {
    "duration": 146,
    "start_time": "2023-03-24T08:20:56.579Z"
   },
   {
    "duration": 263,
    "start_time": "2023-03-24T08:20:56.729Z"
   },
   {
    "duration": 85,
    "start_time": "2023-03-24T08:20:56.994Z"
   },
   {
    "duration": 23,
    "start_time": "2023-03-24T08:20:57.082Z"
   },
   {
    "duration": 17,
    "start_time": "2023-03-24T08:20:57.107Z"
   },
   {
    "duration": 3,
    "start_time": "2023-03-24T08:20:57.126Z"
   },
   {
    "duration": 4,
    "start_time": "2023-03-24T08:20:57.131Z"
   },
   {
    "duration": 26,
    "start_time": "2023-03-24T08:20:57.136Z"
   },
   {
    "duration": 25,
    "start_time": "2023-03-24T08:20:57.164Z"
   },
   {
    "duration": 19,
    "start_time": "2023-03-24T08:20:57.190Z"
   },
   {
    "duration": 23,
    "start_time": "2023-03-24T08:20:57.211Z"
   },
   {
    "duration": 8,
    "start_time": "2023-03-24T08:20:57.236Z"
   },
   {
    "duration": 18,
    "start_time": "2023-03-24T08:20:57.246Z"
   },
   {
    "duration": 7,
    "start_time": "2023-03-24T08:20:57.273Z"
   },
   {
    "duration": 8,
    "start_time": "2023-03-24T08:20:57.282Z"
   },
   {
    "duration": 6,
    "start_time": "2023-03-24T08:20:57.293Z"
   },
   {
    "duration": 9,
    "start_time": "2023-03-24T08:20:57.301Z"
   },
   {
    "duration": 5,
    "start_time": "2023-03-24T08:20:57.312Z"
   },
   {
    "duration": 426,
    "start_time": "2023-03-24T08:20:57.320Z"
   },
   {
    "duration": 404,
    "start_time": "2023-03-24T08:20:57.749Z"
   },
   {
    "duration": 30,
    "start_time": "2023-03-24T08:20:58.155Z"
   },
   {
    "duration": 1523,
    "start_time": "2023-03-24T08:20:58.187Z"
   },
   {
    "duration": 22,
    "start_time": "2023-03-24T08:20:59.711Z"
   },
   {
    "duration": 5,
    "start_time": "2023-03-24T08:20:59.735Z"
   },
   {
    "duration": 1594,
    "start_time": "2023-03-24T08:20:59.741Z"
   },
   {
    "duration": 4,
    "start_time": "2023-03-24T08:21:01.337Z"
   },
   {
    "duration": 42,
    "start_time": "2023-03-24T08:21:01.342Z"
   },
   {
    "duration": 33,
    "start_time": "2023-03-24T08:21:01.386Z"
   },
   {
    "duration": 34,
    "start_time": "2023-03-24T08:21:01.421Z"
   },
   {
    "duration": 40,
    "start_time": "2023-03-24T08:21:01.457Z"
   },
   {
    "duration": 25,
    "start_time": "2023-03-24T08:21:01.499Z"
   },
   {
    "duration": 54,
    "start_time": "2023-03-24T08:21:01.525Z"
   },
   {
    "duration": 47,
    "start_time": "2023-03-24T08:21:01.581Z"
   },
   {
    "duration": 73,
    "start_time": "2023-03-24T08:21:01.630Z"
   },
   {
    "duration": 4,
    "start_time": "2023-03-24T08:21:12.618Z"
   },
   {
    "duration": 4,
    "start_time": "2023-03-24T08:21:20.843Z"
   },
   {
    "duration": 25,
    "start_time": "2023-03-24T08:22:57.949Z"
   },
   {
    "duration": 10,
    "start_time": "2023-03-24T08:23:12.065Z"
   },
   {
    "duration": 6,
    "start_time": "2023-03-24T08:28:47.224Z"
   },
   {
    "duration": 7,
    "start_time": "2023-03-24T08:32:28.905Z"
   },
   {
    "duration": 5,
    "start_time": "2023-03-24T08:41:07.235Z"
   },
   {
    "duration": 12,
    "start_time": "2023-03-24T08:41:16.442Z"
   },
   {
    "duration": 10,
    "start_time": "2023-03-24T08:49:44.262Z"
   },
   {
    "duration": 10,
    "start_time": "2023-03-24T08:50:29.517Z"
   },
   {
    "duration": 10,
    "start_time": "2023-03-24T08:51:39.720Z"
   },
   {
    "duration": 3,
    "start_time": "2023-03-24T09:29:01.805Z"
   },
   {
    "duration": 157871,
    "start_time": "2023-03-24T09:29:02.508Z"
   },
   {
    "duration": 8379,
    "start_time": "2023-03-24T09:44:49.671Z"
   },
   {
    "duration": 12,
    "start_time": "2023-03-24T10:06:21.333Z"
   },
   {
    "duration": 6,
    "start_time": "2023-03-24T10:06:43.682Z"
   },
   {
    "duration": 207097,
    "start_time": "2023-03-24T10:07:08.058Z"
   },
   {
    "duration": 4,
    "start_time": "2023-03-24T10:11:07.627Z"
   },
   {
    "duration": 48431,
    "start_time": "2023-03-24T10:11:09.112Z"
   },
   {
    "duration": 10,
    "start_time": "2023-03-24T10:20:47.474Z"
   },
   {
    "duration": 8,
    "start_time": "2023-03-24T10:21:10.904Z"
   },
   {
    "duration": 8,
    "start_time": "2023-03-24T10:21:56.933Z"
   },
   {
    "duration": 50303,
    "start_time": "2023-03-24T10:23:07.626Z"
   },
   {
    "duration": 12,
    "start_time": "2023-03-24T10:29:42.756Z"
   },
   {
    "duration": 48644,
    "start_time": "2023-03-24T10:29:50.859Z"
   },
   {
    "duration": 4,
    "start_time": "2023-03-24T10:31:10.707Z"
   },
   {
    "duration": 46753,
    "start_time": "2023-03-24T10:31:12.148Z"
   },
   {
    "duration": 10,
    "start_time": "2023-03-24T10:32:12.740Z"
   },
   {
    "duration": 47934,
    "start_time": "2023-03-24T10:32:17.665Z"
   },
   {
    "duration": 10,
    "start_time": "2023-03-24T10:35:18.737Z"
   },
   {
    "duration": 5,
    "start_time": "2023-03-24T10:35:55.179Z"
   },
   {
    "duration": 11,
    "start_time": "2023-03-24T10:38:23.895Z"
   },
   {
    "duration": 11,
    "start_time": "2023-03-24T10:38:45.885Z"
   },
   {
    "duration": 14,
    "start_time": "2023-03-24T10:38:49.733Z"
   },
   {
    "duration": 87,
    "start_time": "2023-03-24T10:39:24.650Z"
   },
   {
    "duration": 5,
    "start_time": "2023-03-24T10:40:01.906Z"
   },
   {
    "duration": 52949,
    "start_time": "2023-03-24T10:40:03.791Z"
   },
   {
    "duration": 47070,
    "start_time": "2023-03-24T10:40:56.742Z"
   },
   {
    "duration": 10,
    "start_time": "2023-03-24T10:41:43.814Z"
   },
   {
    "duration": 9,
    "start_time": "2023-03-24T10:41:43.826Z"
   },
   {
    "duration": 5,
    "start_time": "2023-03-24T10:41:43.836Z"
   },
   {
    "duration": 6,
    "start_time": "2023-03-24T10:42:43.430Z"
   },
   {
    "duration": 157091,
    "start_time": "2023-03-24T10:42:45.413Z"
   },
   {
    "duration": 160491,
    "start_time": "2023-03-24T10:45:22.506Z"
   },
   {
    "duration": 12,
    "start_time": "2023-03-24T10:48:02.999Z"
   },
   {
    "duration": 14,
    "start_time": "2023-03-24T10:48:03.013Z"
   },
   {
    "duration": 10,
    "start_time": "2023-03-24T10:48:03.029Z"
   },
   {
    "duration": 22,
    "start_time": "2023-03-24T10:48:03.040Z"
   },
   {
    "duration": 4,
    "start_time": "2023-03-24T10:48:59.826Z"
   },
   {
    "duration": 3,
    "start_time": "2023-03-24T10:49:05.741Z"
   },
   {
    "duration": 57,
    "start_time": "2023-03-24T10:49:29.554Z"
   },
   {
    "duration": 21,
    "start_time": "2023-03-24T10:49:35.136Z"
   },
   {
    "duration": 4,
    "start_time": "2023-03-24T10:50:44.193Z"
   },
   {
    "duration": 19,
    "start_time": "2023-03-24T10:50:57.890Z"
   },
   {
    "duration": 14,
    "start_time": "2023-03-24T10:51:00.182Z"
   },
   {
    "duration": 14,
    "start_time": "2023-03-24T10:51:09.074Z"
   },
   {
    "duration": 1556,
    "start_time": "2023-03-24T10:51:51.875Z"
   },
   {
    "duration": 4,
    "start_time": "2023-03-24T10:51:53.433Z"
   },
   {
    "duration": 5,
    "start_time": "2023-03-24T10:51:53.438Z"
   },
   {
    "duration": 610,
    "start_time": "2023-03-24T10:51:53.446Z"
   },
   {
    "duration": 416,
    "start_time": "2023-03-24T10:51:54.063Z"
   },
   {
    "duration": 150,
    "start_time": "2023-03-24T10:51:54.481Z"
   },
   {
    "duration": 39,
    "start_time": "2023-03-24T10:51:54.633Z"
   },
   {
    "duration": 336,
    "start_time": "2023-03-24T10:51:54.673Z"
   },
   {
    "duration": 17,
    "start_time": "2023-03-24T10:51:55.011Z"
   },
   {
    "duration": 300,
    "start_time": "2023-03-24T10:51:55.030Z"
   },
   {
    "duration": 14,
    "start_time": "2023-03-24T10:51:55.332Z"
   },
   {
    "duration": 168,
    "start_time": "2023-03-24T10:51:55.348Z"
   },
   {
    "duration": 265,
    "start_time": "2023-03-24T10:51:55.518Z"
   },
   {
    "duration": 94,
    "start_time": "2023-03-24T10:51:55.787Z"
   },
   {
    "duration": 22,
    "start_time": "2023-03-24T10:51:55.883Z"
   },
   {
    "duration": 16,
    "start_time": "2023-03-24T10:51:55.907Z"
   },
   {
    "duration": 3,
    "start_time": "2023-03-24T10:51:55.925Z"
   },
   {
    "duration": 8,
    "start_time": "2023-03-24T10:51:55.929Z"
   },
   {
    "duration": 5,
    "start_time": "2023-03-24T10:51:55.962Z"
   },
   {
    "duration": 20,
    "start_time": "2023-03-24T10:51:55.969Z"
   },
   {
    "duration": 12,
    "start_time": "2023-03-24T10:51:55.991Z"
   },
   {
    "duration": 13,
    "start_time": "2023-03-24T10:51:56.006Z"
   },
   {
    "duration": 7,
    "start_time": "2023-03-24T10:51:56.021Z"
   },
   {
    "duration": 35,
    "start_time": "2023-03-24T10:51:56.030Z"
   },
   {
    "duration": 10,
    "start_time": "2023-03-24T10:51:56.069Z"
   },
   {
    "duration": 6,
    "start_time": "2023-03-24T10:51:56.081Z"
   },
   {
    "duration": 10,
    "start_time": "2023-03-24T10:51:56.089Z"
   },
   {
    "duration": 6,
    "start_time": "2023-03-24T10:51:56.101Z"
   },
   {
    "duration": 4,
    "start_time": "2023-03-24T10:51:56.108Z"
   },
   {
    "duration": 409,
    "start_time": "2023-03-24T10:51:56.114Z"
   },
   {
    "duration": 407,
    "start_time": "2023-03-24T10:51:56.525Z"
   },
   {
    "duration": 14,
    "start_time": "2023-03-24T10:51:56.934Z"
   },
   {
    "duration": 1687,
    "start_time": "2023-03-24T10:51:56.950Z"
   },
   {
    "duration": 35,
    "start_time": "2023-03-24T10:51:58.640Z"
   },
   {
    "duration": 5,
    "start_time": "2023-03-24T10:51:58.679Z"
   },
   {
    "duration": 1669,
    "start_time": "2023-03-24T10:51:58.686Z"
   },
   {
    "duration": 9,
    "start_time": "2023-03-24T10:52:00.362Z"
   },
   {
    "duration": 12,
    "start_time": "2023-03-24T10:52:00.378Z"
   },
   {
    "duration": 26,
    "start_time": "2023-03-24T10:52:00.392Z"
   },
   {
    "duration": 31,
    "start_time": "2023-03-24T10:52:00.419Z"
   },
   {
    "duration": 34,
    "start_time": "2023-03-24T10:52:00.454Z"
   },
   {
    "duration": 22,
    "start_time": "2023-03-24T10:52:00.490Z"
   },
   {
    "duration": 40,
    "start_time": "2023-03-24T10:52:00.514Z"
   },
   {
    "duration": 43,
    "start_time": "2023-03-24T10:52:00.556Z"
   },
   {
    "duration": 37,
    "start_time": "2023-03-24T10:52:00.601Z"
   },
   {
    "duration": 5,
    "start_time": "2023-03-24T10:52:11.585Z"
   },
   {
    "duration": 153301,
    "start_time": "2023-03-24T10:52:12.051Z"
   },
   {
    "duration": 147977,
    "start_time": "2023-03-24T10:54:45.354Z"
   },
   {
    "duration": 0,
    "start_time": "2023-03-24T10:57:13.333Z"
   },
   {
    "duration": 0,
    "start_time": "2023-03-24T10:57:13.334Z"
   },
   {
    "duration": 0,
    "start_time": "2023-03-24T10:57:13.335Z"
   },
   {
    "duration": 12,
    "start_time": "2023-03-24T10:59:45.932Z"
   },
   {
    "duration": 5,
    "start_time": "2023-03-24T11:00:35.390Z"
   },
   {
    "duration": 17,
    "start_time": "2023-03-24T11:00:43.563Z"
   },
   {
    "duration": 13,
    "start_time": "2023-03-24T11:01:09.799Z"
   },
   {
    "duration": 60,
    "start_time": "2023-03-24T11:01:28.331Z"
   },
   {
    "duration": 53,
    "start_time": "2023-03-24T11:04:51.574Z"
   },
   {
    "duration": 43,
    "start_time": "2023-03-24T11:04:55.286Z"
   },
   {
    "duration": 133,
    "start_time": "2023-03-24T11:05:04.447Z"
   },
   {
    "duration": 1504,
    "start_time": "2023-03-24T11:05:38.799Z"
   },
   {
    "duration": 3,
    "start_time": "2023-03-24T11:05:40.305Z"
   },
   {
    "duration": 8,
    "start_time": "2023-03-24T11:05:40.309Z"
   },
   {
    "duration": 560,
    "start_time": "2023-03-24T11:05:40.318Z"
   },
   {
    "duration": 415,
    "start_time": "2023-03-24T11:05:40.881Z"
   },
   {
    "duration": 131,
    "start_time": "2023-03-24T11:05:41.298Z"
   },
   {
    "duration": 33,
    "start_time": "2023-03-24T11:05:41.431Z"
   },
   {
    "duration": 286,
    "start_time": "2023-03-24T11:05:41.474Z"
   },
   {
    "duration": 21,
    "start_time": "2023-03-24T11:05:41.761Z"
   },
   {
    "duration": 277,
    "start_time": "2023-03-24T11:05:41.786Z"
   },
   {
    "duration": 14,
    "start_time": "2023-03-24T11:05:42.075Z"
   },
   {
    "duration": 141,
    "start_time": "2023-03-24T11:05:42.091Z"
   },
   {
    "duration": 255,
    "start_time": "2023-03-24T11:05:42.234Z"
   },
   {
    "duration": 78,
    "start_time": "2023-03-24T11:05:42.491Z"
   },
   {
    "duration": 23,
    "start_time": "2023-03-24T11:05:42.577Z"
   },
   {
    "duration": 16,
    "start_time": "2023-03-24T11:05:42.602Z"
   },
   {
    "duration": 2,
    "start_time": "2023-03-24T11:05:42.620Z"
   },
   {
    "duration": 5,
    "start_time": "2023-03-24T11:05:42.624Z"
   },
   {
    "duration": 3,
    "start_time": "2023-03-24T11:05:42.631Z"
   },
   {
    "duration": 34,
    "start_time": "2023-03-24T11:05:42.636Z"
   },
   {
    "duration": 16,
    "start_time": "2023-03-24T11:05:42.671Z"
   },
   {
    "duration": 12,
    "start_time": "2023-03-24T11:05:42.688Z"
   },
   {
    "duration": 6,
    "start_time": "2023-03-24T11:05:42.701Z"
   },
   {
    "duration": 6,
    "start_time": "2023-03-24T11:05:42.709Z"
   },
   {
    "duration": 6,
    "start_time": "2023-03-24T11:05:42.717Z"
   },
   {
    "duration": 41,
    "start_time": "2023-03-24T11:05:42.725Z"
   },
   {
    "duration": 8,
    "start_time": "2023-03-24T11:05:42.773Z"
   },
   {
    "duration": 5,
    "start_time": "2023-03-24T11:05:42.784Z"
   },
   {
    "duration": 4,
    "start_time": "2023-03-24T11:05:42.791Z"
   },
   {
    "duration": 407,
    "start_time": "2023-03-24T11:05:42.796Z"
   },
   {
    "duration": 441,
    "start_time": "2023-03-24T11:05:43.205Z"
   },
   {
    "duration": 27,
    "start_time": "2023-03-24T11:05:43.648Z"
   },
   {
    "duration": 1697,
    "start_time": "2023-03-24T11:05:43.679Z"
   },
   {
    "duration": 24,
    "start_time": "2023-03-24T11:05:45.378Z"
   },
   {
    "duration": 6,
    "start_time": "2023-03-24T11:05:45.404Z"
   },
   {
    "duration": 1675,
    "start_time": "2023-03-24T11:05:45.411Z"
   },
   {
    "duration": 3,
    "start_time": "2023-03-24T11:05:47.088Z"
   },
   {
    "duration": 5,
    "start_time": "2023-03-24T11:05:47.093Z"
   },
   {
    "duration": 13,
    "start_time": "2023-03-24T11:05:47.099Z"
   },
   {
    "duration": 32,
    "start_time": "2023-03-24T11:05:47.113Z"
   },
   {
    "duration": 11,
    "start_time": "2023-03-24T11:05:47.147Z"
   },
   {
    "duration": 19,
    "start_time": "2023-03-24T11:05:47.165Z"
   },
   {
    "duration": 8,
    "start_time": "2023-03-24T11:05:47.186Z"
   },
   {
    "duration": 6,
    "start_time": "2023-03-24T11:05:47.196Z"
   },
   {
    "duration": 7,
    "start_time": "2023-03-24T11:05:47.204Z"
   },
   {
    "duration": 63,
    "start_time": "2023-03-24T11:06:02.761Z"
   },
   {
    "duration": 58,
    "start_time": "2023-03-24T11:06:23.828Z"
   },
   {
    "duration": 48,
    "start_time": "2023-03-24T11:06:31.209Z"
   },
   {
    "duration": 62,
    "start_time": "2023-03-24T11:08:24.798Z"
   },
   {
    "duration": 54,
    "start_time": "2023-03-24T11:10:42.555Z"
   },
   {
    "duration": 71,
    "start_time": "2023-03-24T11:10:57.127Z"
   },
   {
    "duration": 42,
    "start_time": "2023-03-24T11:12:03.278Z"
   },
   {
    "duration": 55,
    "start_time": "2023-03-24T11:12:09.660Z"
   },
   {
    "duration": 56,
    "start_time": "2023-03-24T11:12:21.493Z"
   },
   {
    "duration": 43,
    "start_time": "2023-03-24T11:13:39.314Z"
   },
   {
    "duration": 71,
    "start_time": "2023-03-24T11:14:18.735Z"
   },
   {
    "duration": 8,
    "start_time": "2023-03-24T11:14:50.460Z"
   },
   {
    "duration": 127,
    "start_time": "2023-03-24T11:15:31.999Z"
   },
   {
    "duration": 4,
    "start_time": "2023-03-24T11:15:47.718Z"
   },
   {
    "duration": 6,
    "start_time": "2023-03-24T11:16:12.274Z"
   },
   {
    "duration": 134345,
    "start_time": "2023-03-24T11:16:14.780Z"
   },
   {
    "duration": 69592,
    "start_time": "2023-03-24T11:18:29.128Z"
   },
   {
    "duration": 10,
    "start_time": "2023-03-24T11:19:38.722Z"
   },
   {
    "duration": 14,
    "start_time": "2023-03-24T11:19:38.733Z"
   },
   {
    "duration": 0,
    "start_time": "2023-03-24T11:19:38.749Z"
   },
   {
    "duration": 12,
    "start_time": "2023-03-24T11:26:10.296Z"
   },
   {
    "duration": 4,
    "start_time": "2023-03-24T11:26:13.899Z"
   },
   {
    "duration": 5,
    "start_time": "2023-03-24T11:37:56.731Z"
   },
   {
    "duration": 0,
    "start_time": "2023-03-24T11:52:06.313Z"
   },
   {
    "duration": 0,
    "start_time": "2023-03-24T11:52:06.314Z"
   },
   {
    "duration": 0,
    "start_time": "2023-03-24T11:52:06.315Z"
   },
   {
    "duration": 0,
    "start_time": "2023-03-24T11:52:06.316Z"
   },
   {
    "duration": 0,
    "start_time": "2023-03-24T11:52:06.317Z"
   },
   {
    "duration": 6,
    "start_time": "2023-03-24T11:52:17.266Z"
   },
   {
    "duration": 6,
    "start_time": "2023-03-24T11:52:18.329Z"
   },
   {
    "duration": 391916,
    "start_time": "2023-03-24T11:52:18.598Z"
   },
   {
    "duration": 0,
    "start_time": "2023-03-24T11:58:50.517Z"
   },
   {
    "duration": 5,
    "start_time": "2023-03-24T11:58:58.581Z"
   },
   {
    "duration": 5104,
    "start_time": "2023-03-24T11:58:58.734Z"
   },
   {
    "duration": 5,
    "start_time": "2023-03-24T11:59:19.695Z"
   },
   {
    "duration": 57911,
    "start_time": "2023-03-24T11:59:21.703Z"
   },
   {
    "duration": 0,
    "start_time": "2023-03-24T12:00:19.616Z"
   },
   {
    "duration": 5,
    "start_time": "2023-03-24T12:00:21.561Z"
   },
   {
    "duration": 39226,
    "start_time": "2023-03-24T12:00:22.780Z"
   },
   {
    "duration": 23126,
    "start_time": "2023-03-24T12:01:46.090Z"
   },
   {
    "duration": 0,
    "start_time": "2023-03-24T12:02:09.217Z"
   },
   {
    "duration": 0,
    "start_time": "2023-03-24T12:02:09.219Z"
   },
   {
    "duration": 43033,
    "start_time": "2023-03-24T12:02:11.906Z"
   },
   {
    "duration": 37586,
    "start_time": "2023-03-24T12:14:39.614Z"
   },
   {
    "duration": 40491,
    "start_time": "2023-03-24T12:15:52.716Z"
   },
   {
    "duration": 43987,
    "start_time": "2023-03-24T12:16:33.209Z"
   },
   {
    "duration": 14,
    "start_time": "2023-03-24T12:19:05.115Z"
   },
   {
    "duration": 16,
    "start_time": "2023-03-24T12:19:08.800Z"
   },
   {
    "duration": 10,
    "start_time": "2023-03-24T12:22:20.978Z"
   },
   {
    "duration": 10,
    "start_time": "2023-03-24T12:22:28.776Z"
   },
   {
    "duration": 14,
    "start_time": "2023-03-24T12:22:43.162Z"
   },
   {
    "duration": 5,
    "start_time": "2023-03-24T12:22:51.554Z"
   },
   {
    "duration": 5,
    "start_time": "2023-03-24T12:23:29.673Z"
   },
   {
    "duration": 5,
    "start_time": "2023-03-24T12:23:53.314Z"
   },
   {
    "duration": 70675,
    "start_time": "2023-03-24T12:23:54.891Z"
   },
   {
    "duration": 15,
    "start_time": "2023-03-24T12:25:36.665Z"
   },
   {
    "duration": 364886,
    "start_time": "2023-03-24T12:25:38.077Z"
   },
   {
    "duration": 4,
    "start_time": "2023-03-24T12:31:53.989Z"
   },
   {
    "duration": 69113,
    "start_time": "2023-03-24T12:31:55.667Z"
   },
   {
    "duration": 7,
    "start_time": "2023-03-24T12:34:47.296Z"
   },
   {
    "duration": 53694,
    "start_time": "2023-03-24T12:34:49.192Z"
   },
   {
    "duration": 5,
    "start_time": "2023-03-24T12:36:07.797Z"
   },
   {
    "duration": 39640,
    "start_time": "2023-03-24T12:36:08.976Z"
   },
   {
    "duration": 41339,
    "start_time": "2023-03-24T12:36:48.618Z"
   },
   {
    "duration": 3,
    "start_time": "2023-03-24T13:21:51.979Z"
   },
   {
    "duration": 19,
    "start_time": "2023-03-24T13:21:52.277Z"
   },
   {
    "duration": 12,
    "start_time": "2023-03-24T13:21:52.515Z"
   },
   {
    "duration": 15,
    "start_time": "2023-03-24T13:25:49.180Z"
   },
   {
    "duration": 1608,
    "start_time": "2023-03-24T13:27:31.450Z"
   },
   {
    "duration": 11,
    "start_time": "2023-03-24T13:27:33.061Z"
   },
   {
    "duration": 4,
    "start_time": "2023-03-24T13:27:33.074Z"
   },
   {
    "duration": 705,
    "start_time": "2023-03-24T13:27:33.080Z"
   },
   {
    "duration": 439,
    "start_time": "2023-03-24T13:27:33.786Z"
   },
   {
    "duration": 166,
    "start_time": "2023-03-24T13:27:34.228Z"
   },
   {
    "duration": 17,
    "start_time": "2023-03-24T13:27:34.396Z"
   },
   {
    "duration": 290,
    "start_time": "2023-03-24T13:27:34.415Z"
   },
   {
    "duration": 18,
    "start_time": "2023-03-24T13:27:34.707Z"
   },
   {
    "duration": 299,
    "start_time": "2023-03-24T13:27:34.728Z"
   },
   {
    "duration": 14,
    "start_time": "2023-03-24T13:27:35.029Z"
   },
   {
    "duration": 167,
    "start_time": "2023-03-24T13:27:35.045Z"
   },
   {
    "duration": 270,
    "start_time": "2023-03-24T13:27:35.214Z"
   },
   {
    "duration": 84,
    "start_time": "2023-03-24T13:27:35.486Z"
   },
   {
    "duration": 27,
    "start_time": "2023-03-24T13:27:35.572Z"
   },
   {
    "duration": 20,
    "start_time": "2023-03-24T13:27:35.601Z"
   },
   {
    "duration": 3,
    "start_time": "2023-03-24T13:27:35.623Z"
   },
   {
    "duration": 8,
    "start_time": "2023-03-24T13:27:35.628Z"
   },
   {
    "duration": 34,
    "start_time": "2023-03-24T13:27:35.638Z"
   },
   {
    "duration": 14,
    "start_time": "2023-03-24T13:27:35.674Z"
   },
   {
    "duration": 14,
    "start_time": "2023-03-24T13:27:35.690Z"
   },
   {
    "duration": 14,
    "start_time": "2023-03-24T13:27:35.706Z"
   },
   {
    "duration": 7,
    "start_time": "2023-03-24T13:27:35.722Z"
   },
   {
    "duration": 16,
    "start_time": "2023-03-24T13:27:35.730Z"
   },
   {
    "duration": 18,
    "start_time": "2023-03-24T13:27:35.748Z"
   },
   {
    "duration": 13,
    "start_time": "2023-03-24T13:27:35.767Z"
   },
   {
    "duration": 13,
    "start_time": "2023-03-24T13:27:35.782Z"
   },
   {
    "duration": 7,
    "start_time": "2023-03-24T13:27:35.801Z"
   },
   {
    "duration": 4,
    "start_time": "2023-03-24T13:27:35.810Z"
   },
   {
    "duration": 419,
    "start_time": "2023-03-24T13:27:35.816Z"
   },
   {
    "duration": 404,
    "start_time": "2023-03-24T13:27:36.238Z"
   },
   {
    "duration": 33,
    "start_time": "2023-03-24T13:27:36.644Z"
   },
   {
    "duration": 1587,
    "start_time": "2023-03-24T13:27:36.679Z"
   },
   {
    "duration": 23,
    "start_time": "2023-03-24T13:27:38.268Z"
   },
   {
    "duration": 5,
    "start_time": "2023-03-24T13:27:38.293Z"
   },
   {
    "duration": 1586,
    "start_time": "2023-03-24T13:27:38.299Z"
   },
   {
    "duration": 4,
    "start_time": "2023-03-24T13:27:39.886Z"
   },
   {
    "duration": 4,
    "start_time": "2023-03-24T13:27:39.891Z"
   },
   {
    "duration": 5,
    "start_time": "2023-03-24T13:27:39.897Z"
   },
   {
    "duration": 8,
    "start_time": "2023-03-24T13:27:39.903Z"
   },
   {
    "duration": 19,
    "start_time": "2023-03-24T13:27:39.912Z"
   },
   {
    "duration": 4,
    "start_time": "2023-03-24T13:27:39.933Z"
   },
   {
    "duration": 30,
    "start_time": "2023-03-24T13:27:39.939Z"
   },
   {
    "duration": 14,
    "start_time": "2023-03-24T13:27:39.971Z"
   },
   {
    "duration": 7,
    "start_time": "2023-03-24T13:27:39.987Z"
   },
   {
    "duration": 132303,
    "start_time": "2023-03-24T13:27:39.997Z"
   },
   {
    "duration": 129429,
    "start_time": "2023-03-24T13:29:52.303Z"
   },
   {
    "duration": 204705,
    "start_time": "2023-03-24T13:32:01.734Z"
   },
   {
    "duration": 207404,
    "start_time": "2023-03-24T13:35:26.441Z"
   },
   {
    "duration": 8341,
    "start_time": "2023-03-24T13:38:53.847Z"
   },
   {
    "duration": 6,
    "start_time": "2023-03-24T13:39:02.189Z"
   },
   {
    "duration": 39842,
    "start_time": "2023-03-24T13:39:02.197Z"
   },
   {
    "duration": 60499,
    "start_time": "2023-03-24T13:39:42.041Z"
   },
   {
    "duration": 10,
    "start_time": "2023-03-24T13:40:42.542Z"
   },
   {
    "duration": 23,
    "start_time": "2023-03-24T13:40:42.553Z"
   },
   {
    "duration": 5,
    "start_time": "2023-03-24T13:40:42.579Z"
   },
   {
    "duration": 4,
    "start_time": "2023-03-24T13:40:42.586Z"
   },
   {
    "duration": 32,
    "start_time": "2023-03-24T13:40:42.592Z"
   },
   {
    "duration": 11,
    "start_time": "2023-03-24T13:40:42.626Z"
   }
  ],
  "kernelspec": {
   "display_name": "Python 3 (ipykernel)",
   "language": "python",
   "name": "python3"
  },
  "language_info": {
   "codemirror_mode": {
    "name": "ipython",
    "version": 3
   },
   "file_extension": ".py",
   "mimetype": "text/x-python",
   "name": "python",
   "nbconvert_exporter": "python",
   "pygments_lexer": "ipython3",
   "version": "3.9.13"
  },
  "toc": {
   "base_numbering": 1,
   "nav_menu": {},
   "number_sections": true,
   "sideBar": true,
   "skip_h1_title": true,
   "title_cell": "Содержание",
   "title_sidebar": "Contents",
   "toc_cell": true,
   "toc_position": {
    "height": "calc(100% - 180px)",
    "left": "10px",
    "top": "150px",
    "width": "177px"
   },
   "toc_section_display": true,
   "toc_window_display": true
  }
 },
 "nbformat": 4,
 "nbformat_minor": 2
}
