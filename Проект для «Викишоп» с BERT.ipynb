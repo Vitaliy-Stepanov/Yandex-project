{
 "cells": [
  {
   "cell_type": "markdown",
   "id": "d4b67664",
   "metadata": {
    "id": "d4b67664"
   },
   "source": [
    "<h1>Содержание<span class=\"tocSkip\"></span></h1>\n",
    "<div class=\"toc\"><ul class=\"toc-item\"><li><span><a href=\"#Подготовка\" data-toc-modified-id=\"Подготовка-1\"><span class=\"toc-item-num\">1&nbsp;&nbsp;</span>Подготовка</a></span></li><li><span><a href=\"#Обучение\" data-toc-modified-id=\"Обучение-2\"><span class=\"toc-item-num\">2&nbsp;&nbsp;</span>Обучение</a></span></li><li><span><a href=\"#Выводы\" data-toc-modified-id=\"Выводы-3\"><span class=\"toc-item-num\">3&nbsp;&nbsp;</span>Выводы</a></span></li><li><span><a href=\"#Чек-лист-проверки\" data-toc-modified-id=\"Чек-лист-проверки-4\"><span class=\"toc-item-num\">4&nbsp;&nbsp;</span>Чек-лист проверки</a></span></li></ul></div>"
   ]
  },
  {
   "cell_type": "markdown",
   "id": "25e9e71f",
   "metadata": {
    "id": "25e9e71f"
   },
   "source": [
    "<h1>Проект для «Викишоп» с BERT<span class=\"tocSkip\"></span></h1> "
   ]
  },
  {
   "cell_type": "markdown",
   "id": "dc24ef6f",
   "metadata": {
    "id": "dc24ef6f"
   },
   "source": [
    "Интернет-магазин «Викишоп» запускает новый сервис. Теперь пользователи могут редактировать и дополнять описания товаров, как в вики-сообществах. То есть клиенты предлагают свои правки и комментируют изменения других. Магазину нужен инструмент, который будет искать токсичные комментарии и отправлять их на модерацию. \n",
    "\n",
    "Обучите модель классифицировать комментарии на позитивные и негативные. В вашем распоряжении набор данных с разметкой о токсичности правок.\n",
    "\n",
    "Постройте модель со значением метрики качества *F1* не меньше 0.75. \n",
    "\n",
    "**Описание данных**\n",
    "\n",
    "Данные находятся в файле `toxic_comments.csv`. Столбец *text* в нём содержит текст комментария, а *toxic* — целевой признак."
   ]
  },
  {
   "cell_type": "markdown",
   "id": "9a1e9293",
   "metadata": {
    "id": "9a1e9293"
   },
   "source": [
    "## Подготовка"
   ]
  },
  {
   "cell_type": "markdown",
   "id": "y1fUMfIBMrln",
   "metadata": {
    "id": "y1fUMfIBMrln"
   },
   "source": [
    "### Импорт библиотек"
   ]
  },
  {
   "cell_type": "code",
   "execution_count": 1,
   "id": "iipQlDRSYH3L",
   "metadata": {
    "colab": {
     "base_uri": "https://localhost:8080/"
    },
    "id": "iipQlDRSYH3L",
    "outputId": "1b0d7ebb-385f-4b62-ec5a-299ae4053c91"
   },
   "outputs": [
    {
     "name": "stdout",
     "output_type": "stream",
     "text": [
      "\u001b[2K     \u001b[90m━━━━━━━━━━━━━━━━━━━━━━━━━━━━━━━━━━━━━━━━\u001b[0m \u001b[32m7.1/7.1 MB\u001b[0m \u001b[31m58.0 MB/s\u001b[0m eta \u001b[36m0:00:00\u001b[0m\n",
      "\u001b[2K     \u001b[90m━━━━━━━━━━━━━━━━━━━━━━━━━━━━━━━━━━━━━━━━\u001b[0m \u001b[32m98.6/98.6 MB\u001b[0m \u001b[31m8.7 MB/s\u001b[0m eta \u001b[36m0:00:00\u001b[0m\n",
      "\u001b[2K     \u001b[90m━━━━━━━━━━━━━━━━━━━━━━━━━━━━━━━━━━━━━━\u001b[0m \u001b[32m224.5/224.5 kB\u001b[0m \u001b[31m29.1 MB/s\u001b[0m eta \u001b[36m0:00:00\u001b[0m\n",
      "\u001b[2K     \u001b[90m━━━━━━━━━━━━━━━━━━━━━━━━━━━━━━━━━━━━━━━━\u001b[0m \u001b[32m7.8/7.8 MB\u001b[0m \u001b[31m106.4 MB/s\u001b[0m eta \u001b[36m0:00:00\u001b[0m\n",
      "\u001b[?25h"
     ]
    }
   ],
   "source": [
    "!pip install -q transformers catboost"
   ]
  },
  {
   "cell_type": "code",
   "execution_count": 2,
   "id": "c6e1cc4b",
   "metadata": {
    "id": "c6e1cc4b",
    "scrolled": true
   },
   "outputs": [],
   "source": [
    "# Обработка данных\n",
    "import numpy as np\n",
    "import pandas as pd\n",
    "\n",
    "# Визуализация данных\n",
    "import matplotlib.pyplot as plt\n",
    "import seaborn as sns\n",
    "\n",
    "import torch\n",
    "import transformers as ppb\n",
    "from tqdm import notebook, tqdm\n",
    "from sklearn.linear_model import LogisticRegression\n",
    "from sklearn.model_selection import cross_val_score, RandomizedSearchCV\n",
    "from sklearn.model_selection import train_test_split\n",
    "from sklearn. metrics import f1_score\n",
    "from catboost import CatBoostRegressor, Pool, cv, CatBoostClassifier\n",
    "from lightgbm import LGBMClassifier\n",
    "from sklearn.dummy import DummyClassifier"
   ]
  },
  {
   "cell_type": "markdown",
   "id": "uHTbnwytNJPH",
   "metadata": {
    "id": "uHTbnwytNJPH"
   },
   "source": [
    "### Знакомство переработка данных"
   ]
  },
  {
   "cell_type": "code",
   "execution_count": 3,
   "id": "90af3bb0",
   "metadata": {
    "id": "90af3bb0"
   },
   "outputs": [],
   "source": [
    "data = pd.read_csv('https://code.s3.yandex.net/datasets/toxic_comments.csv', index_col=False)"
   ]
  },
  {
   "cell_type": "code",
   "execution_count": 4,
   "id": "26a12b90",
   "metadata": {
    "id": "26a12b90"
   },
   "outputs": [],
   "source": [
    "data = data[['text','toxic']]"
   ]
  },
  {
   "cell_type": "code",
   "execution_count": 5,
   "id": "a370d44d",
   "metadata": {
    "colab": {
     "base_uri": "https://localhost:8080/"
    },
    "id": "a370d44d",
    "outputId": "5a6bfa9c-6bc3-42e8-bfa2-4d77a7343a0a"
   },
   "outputs": [
    {
     "name": "stdout",
     "output_type": "stream",
     "text": [
      "<class 'pandas.core.frame.DataFrame'>\n",
      "RangeIndex: 159292 entries, 0 to 159291\n",
      "Data columns (total 2 columns):\n",
      " #   Column  Non-Null Count   Dtype \n",
      "---  ------  --------------   ----- \n",
      " 0   text    159292 non-null  object\n",
      " 1   toxic   159292 non-null  int64 \n",
      "dtypes: int64(1), object(1)\n",
      "memory usage: 2.4+ MB\n"
     ]
    }
   ],
   "source": [
    "data.info()"
   ]
  },
  {
   "cell_type": "code",
   "execution_count": 6,
   "id": "ESCNkaK7D_si",
   "metadata": {
    "colab": {
     "base_uri": "https://localhost:8080/",
     "height": 363
    },
    "id": "ESCNkaK7D_si",
    "outputId": "c997ee7a-00ee-421b-a477-cd1df6b89d53"
   },
   "outputs": [
    {
     "data": {
      "text/html": [
       "\n",
       "  <div id=\"df-64bbb348-d49d-4ed6-8fbe-77921c2bae95\">\n",
       "    <div class=\"colab-df-container\">\n",
       "      <div>\n",
       "<style scoped>\n",
       "    .dataframe tbody tr th:only-of-type {\n",
       "        vertical-align: middle;\n",
       "    }\n",
       "\n",
       "    .dataframe tbody tr th {\n",
       "        vertical-align: top;\n",
       "    }\n",
       "\n",
       "    .dataframe thead th {\n",
       "        text-align: right;\n",
       "    }\n",
       "</style>\n",
       "<table border=\"1\" class=\"dataframe\">\n",
       "  <thead>\n",
       "    <tr style=\"text-align: right;\">\n",
       "      <th></th>\n",
       "      <th>text</th>\n",
       "      <th>toxic</th>\n",
       "    </tr>\n",
       "  </thead>\n",
       "  <tbody>\n",
       "    <tr>\n",
       "      <th>0</th>\n",
       "      <td>Explanation\\nWhy the edits made under my usern...</td>\n",
       "      <td>0</td>\n",
       "    </tr>\n",
       "    <tr>\n",
       "      <th>1</th>\n",
       "      <td>D'aww! He matches this background colour I'm s...</td>\n",
       "      <td>0</td>\n",
       "    </tr>\n",
       "    <tr>\n",
       "      <th>2</th>\n",
       "      <td>Hey man, I'm really not trying to edit war. It...</td>\n",
       "      <td>0</td>\n",
       "    </tr>\n",
       "    <tr>\n",
       "      <th>3</th>\n",
       "      <td>\"\\nMore\\nI can't make any real suggestions on ...</td>\n",
       "      <td>0</td>\n",
       "    </tr>\n",
       "    <tr>\n",
       "      <th>4</th>\n",
       "      <td>You, sir, are my hero. Any chance you remember...</td>\n",
       "      <td>0</td>\n",
       "    </tr>\n",
       "    <tr>\n",
       "      <th>5</th>\n",
       "      <td>\"\\n\\nCongratulations from me as well, use the ...</td>\n",
       "      <td>0</td>\n",
       "    </tr>\n",
       "    <tr>\n",
       "      <th>6</th>\n",
       "      <td>COCKSUCKER BEFORE YOU PISS AROUND ON MY WORK</td>\n",
       "      <td>1</td>\n",
       "    </tr>\n",
       "    <tr>\n",
       "      <th>7</th>\n",
       "      <td>Your vandalism to the Matt Shirvington article...</td>\n",
       "      <td>0</td>\n",
       "    </tr>\n",
       "    <tr>\n",
       "      <th>8</th>\n",
       "      <td>Sorry if the word 'nonsense' was offensive to ...</td>\n",
       "      <td>0</td>\n",
       "    </tr>\n",
       "    <tr>\n",
       "      <th>9</th>\n",
       "      <td>alignment on this subject and which are contra...</td>\n",
       "      <td>0</td>\n",
       "    </tr>\n",
       "  </tbody>\n",
       "</table>\n",
       "</div>\n",
       "      <button class=\"colab-df-convert\" onclick=\"convertToInteractive('df-64bbb348-d49d-4ed6-8fbe-77921c2bae95')\"\n",
       "              title=\"Convert this dataframe to an interactive table.\"\n",
       "              style=\"display:none;\">\n",
       "        \n",
       "  <svg xmlns=\"http://www.w3.org/2000/svg\" height=\"24px\"viewBox=\"0 0 24 24\"\n",
       "       width=\"24px\">\n",
       "    <path d=\"M0 0h24v24H0V0z\" fill=\"none\"/>\n",
       "    <path d=\"M18.56 5.44l.94 2.06.94-2.06 2.06-.94-2.06-.94-.94-2.06-.94 2.06-2.06.94zm-11 1L8.5 8.5l.94-2.06 2.06-.94-2.06-.94L8.5 2.5l-.94 2.06-2.06.94zm10 10l.94 2.06.94-2.06 2.06-.94-2.06-.94-.94-2.06-.94 2.06-2.06.94z\"/><path d=\"M17.41 7.96l-1.37-1.37c-.4-.4-.92-.59-1.43-.59-.52 0-1.04.2-1.43.59L10.3 9.45l-7.72 7.72c-.78.78-.78 2.05 0 2.83L4 21.41c.39.39.9.59 1.41.59.51 0 1.02-.2 1.41-.59l7.78-7.78 2.81-2.81c.8-.78.8-2.07 0-2.86zM5.41 20L4 18.59l7.72-7.72 1.47 1.35L5.41 20z\"/>\n",
       "  </svg>\n",
       "      </button>\n",
       "      \n",
       "  <style>\n",
       "    .colab-df-container {\n",
       "      display:flex;\n",
       "      flex-wrap:wrap;\n",
       "      gap: 12px;\n",
       "    }\n",
       "\n",
       "    .colab-df-convert {\n",
       "      background-color: #E8F0FE;\n",
       "      border: none;\n",
       "      border-radius: 50%;\n",
       "      cursor: pointer;\n",
       "      display: none;\n",
       "      fill: #1967D2;\n",
       "      height: 32px;\n",
       "      padding: 0 0 0 0;\n",
       "      width: 32px;\n",
       "    }\n",
       "\n",
       "    .colab-df-convert:hover {\n",
       "      background-color: #E2EBFA;\n",
       "      box-shadow: 0px 1px 2px rgba(60, 64, 67, 0.3), 0px 1px 3px 1px rgba(60, 64, 67, 0.15);\n",
       "      fill: #174EA6;\n",
       "    }\n",
       "\n",
       "    [theme=dark] .colab-df-convert {\n",
       "      background-color: #3B4455;\n",
       "      fill: #D2E3FC;\n",
       "    }\n",
       "\n",
       "    [theme=dark] .colab-df-convert:hover {\n",
       "      background-color: #434B5C;\n",
       "      box-shadow: 0px 1px 3px 1px rgba(0, 0, 0, 0.15);\n",
       "      filter: drop-shadow(0px 1px 2px rgba(0, 0, 0, 0.3));\n",
       "      fill: #FFFFFF;\n",
       "    }\n",
       "  </style>\n",
       "\n",
       "      <script>\n",
       "        const buttonEl =\n",
       "          document.querySelector('#df-64bbb348-d49d-4ed6-8fbe-77921c2bae95 button.colab-df-convert');\n",
       "        buttonEl.style.display =\n",
       "          google.colab.kernel.accessAllowed ? 'block' : 'none';\n",
       "\n",
       "        async function convertToInteractive(key) {\n",
       "          const element = document.querySelector('#df-64bbb348-d49d-4ed6-8fbe-77921c2bae95');\n",
       "          const dataTable =\n",
       "            await google.colab.kernel.invokeFunction('convertToInteractive',\n",
       "                                                     [key], {});\n",
       "          if (!dataTable) return;\n",
       "\n",
       "          const docLinkHtml = 'Like what you see? Visit the ' +\n",
       "            '<a target=\"_blank\" href=https://colab.research.google.com/notebooks/data_table.ipynb>data table notebook</a>'\n",
       "            + ' to learn more about interactive tables.';\n",
       "          element.innerHTML = '';\n",
       "          dataTable['output_type'] = 'display_data';\n",
       "          await google.colab.output.renderOutput(dataTable, element);\n",
       "          const docLink = document.createElement('div');\n",
       "          docLink.innerHTML = docLinkHtml;\n",
       "          element.appendChild(docLink);\n",
       "        }\n",
       "      </script>\n",
       "    </div>\n",
       "  </div>\n",
       "  "
      ],
      "text/plain": [
       "                                                text  toxic\n",
       "0  Explanation\\nWhy the edits made under my usern...      0\n",
       "1  D'aww! He matches this background colour I'm s...      0\n",
       "2  Hey man, I'm really not trying to edit war. It...      0\n",
       "3  \"\\nMore\\nI can't make any real suggestions on ...      0\n",
       "4  You, sir, are my hero. Any chance you remember...      0\n",
       "5  \"\\n\\nCongratulations from me as well, use the ...      0\n",
       "6       COCKSUCKER BEFORE YOU PISS AROUND ON MY WORK      1\n",
       "7  Your vandalism to the Matt Shirvington article...      0\n",
       "8  Sorry if the word 'nonsense' was offensive to ...      0\n",
       "9  alignment on this subject and which are contra...      0"
      ]
     },
     "execution_count": 6,
     "metadata": {},
     "output_type": "execute_result"
    }
   ],
   "source": [
    "data.head(10)"
   ]
  },
  {
   "cell_type": "code",
   "execution_count": 7,
   "id": "b6a5b04e",
   "metadata": {
    "colab": {
     "base_uri": "https://localhost:8080/"
    },
    "id": "b6a5b04e",
    "outputId": "c12118b0-f6f3-4672-94c0-8ff19b11c3cb"
   },
   "outputs": [
    {
     "data": {
      "text/plain": [
       "0"
      ]
     },
     "execution_count": 7,
     "metadata": {},
     "output_type": "execute_result"
    }
   ],
   "source": [
    "data.duplicated().sum()"
   ]
  },
  {
   "cell_type": "code",
   "execution_count": 8,
   "id": "44de3e25",
   "metadata": {
    "colab": {
     "base_uri": "https://localhost:8080/",
     "height": 472
    },
    "id": "44de3e25",
    "outputId": "17edb76c-35f3-40a5-a334-8ce9320542e9"
   },
   "outputs": [
    {
     "data": {
      "image/png": "[encoded data removed]",
      "text/plain": [
       "<Figure size 640x480 with 1 Axes>"
      ]
     },
     "metadata": {},
     "output_type": "display_data"
    }
   ],
   "source": [
    "sns.countplot(x = 'toxic', data = data);\n",
    "plt.title(\"Баланс классов\");"
   ]
  },
  {
   "cell_type": "markdown",
   "id": "dea1a107",
   "metadata": {
    "id": "dea1a107"
   },
   "source": [
    "* Чтобы не создавать эмбеддинги слишком долго, возьмите из выборки только 3000 случайных элементов"
   ]
  },
  {
   "cell_type": "code",
   "execution_count": 9,
   "id": "a82d0cda",
   "metadata": {
    "id": "a82d0cda"
   },
   "outputs": [],
   "source": [
    "new_data = data[['text','toxic']].sample(3000).reset_index(drop=True)"
   ]
  },
  {
   "cell_type": "code",
   "execution_count": 10,
   "id": "AkhKHlkRng1U",
   "metadata": {
    "colab": {
     "base_uri": "https://localhost:8080/",
     "height": 363
    },
    "id": "AkhKHlkRng1U",
    "outputId": "2ff953e0-ec30-4fc7-bfae-e2204f308fb8"
   },
   "outputs": [
    {
     "data": {
      "text/html": [
       "\n",
       "  <div id=\"df-49a2c6dc-d749-455d-a2e7-589ff84c27ca\">\n",
       "    <div class=\"colab-df-container\">\n",
       "      <div>\n",
       "<style scoped>\n",
       "    .dataframe tbody tr th:only-of-type {\n",
       "        vertical-align: middle;\n",
       "    }\n",
       "\n",
       "    .dataframe tbody tr th {\n",
       "        vertical-align: top;\n",
       "    }\n",
       "\n",
       "    .dataframe thead th {\n",
       "        text-align: right;\n",
       "    }\n",
       "</style>\n",
       "<table border=\"1\" class=\"dataframe\">\n",
       "  <thead>\n",
       "    <tr style=\"text-align: right;\">\n",
       "      <th></th>\n",
       "      <th>text</th>\n",
       "      <th>toxic</th>\n",
       "    </tr>\n",
       "  </thead>\n",
       "  <tbody>\n",
       "    <tr>\n",
       "      <th>0</th>\n",
       "      <td>\"\\n\\nInstead, I've removed the reference to a ...</td>\n",
       "      <td>0</td>\n",
       "    </tr>\n",
       "    <tr>\n",
       "      <th>1</th>\n",
       "      <td>Thanks. Happy New Year to you too. I probably ...</td>\n",
       "      <td>0</td>\n",
       "    </tr>\n",
       "    <tr>\n",
       "      <th>2</th>\n",
       "      <td>WAS HERE. HE POWNS NOOBS ALL DAY!</td>\n",
       "      <td>1</td>\n",
       "    </tr>\n",
       "    <tr>\n",
       "      <th>3</th>\n",
       "      <td>{{unblock}Look, make a new account. The messag...</td>\n",
       "      <td>0</td>\n",
       "    </tr>\n",
       "    <tr>\n",
       "      <th>4</th>\n",
       "      <td>I dont see anything wrong with the link I put ...</td>\n",
       "      <td>0</td>\n",
       "    </tr>\n",
       "    <tr>\n",
       "      <th>5</th>\n",
       "      <td>\"\\nNai soske (\"\"don't mention it\"\"). Of course...</td>\n",
       "      <td>0</td>\n",
       "    </tr>\n",
       "    <tr>\n",
       "      <th>6</th>\n",
       "      <td>f*ck you x2 \\n\\nAre you still enjoying your bl...</td>\n",
       "      <td>1</td>\n",
       "    </tr>\n",
       "    <tr>\n",
       "      <th>7</th>\n",
       "      <td>\"\\n\\nYou all are stupid. The term African Amer...</td>\n",
       "      <td>1</td>\n",
       "    </tr>\n",
       "    <tr>\n",
       "      <th>8</th>\n",
       "      <td>\"\\nThe Graceful Slick....\\nIs non other than a...</td>\n",
       "      <td>1</td>\n",
       "    </tr>\n",
       "    <tr>\n",
       "      <th>9</th>\n",
       "      <td>The following link is NOT a spam link, but rat...</td>\n",
       "      <td>0</td>\n",
       "    </tr>\n",
       "  </tbody>\n",
       "</table>\n",
       "</div>\n",
       "      <button class=\"colab-df-convert\" onclick=\"convertToInteractive('df-49a2c6dc-d749-455d-a2e7-589ff84c27ca')\"\n",
       "              title=\"Convert this dataframe to an interactive table.\"\n",
       "              style=\"display:none;\">\n",
       "        \n",
       "  <svg xmlns=\"http://www.w3.org/2000/svg\" height=\"24px\"viewBox=\"0 0 24 24\"\n",
       "       width=\"24px\">\n",
       "    <path d=\"M0 0h24v24H0V0z\" fill=\"none\"/>\n",
       "    <path d=\"M18.56 5.44l.94 2.06.94-2.06 2.06-.94-2.06-.94-.94-2.06-.94 2.06-2.06.94zm-11 1L8.5 8.5l.94-2.06 2.06-.94-2.06-.94L8.5 2.5l-.94 2.06-2.06.94zm10 10l.94 2.06.94-2.06 2.06-.94-2.06-.94-.94-2.06-.94 2.06-2.06.94z\"/><path d=\"M17.41 7.96l-1.37-1.37c-.4-.4-.92-.59-1.43-.59-.52 0-1.04.2-1.43.59L10.3 9.45l-7.72 7.72c-.78.78-.78 2.05 0 2.83L4 21.41c.39.39.9.59 1.41.59.51 0 1.02-.2 1.41-.59l7.78-7.78 2.81-2.81c.8-.78.8-2.07 0-2.86zM5.41 20L4 18.59l7.72-7.72 1.47 1.35L5.41 20z\"/>\n",
       "  </svg>\n",
       "      </button>\n",
       "      \n",
       "  <style>\n",
       "    .colab-df-container {\n",
       "      display:flex;\n",
       "      flex-wrap:wrap;\n",
       "      gap: 12px;\n",
       "    }\n",
       "\n",
       "    .colab-df-convert {\n",
       "      background-color: #E8F0FE;\n",
       "      border: none;\n",
       "      border-radius: 50%;\n",
       "      cursor: pointer;\n",
       "      display: none;\n",
       "      fill: #1967D2;\n",
       "      height: 32px;\n",
       "      padding: 0 0 0 0;\n",
       "      width: 32px;\n",
       "    }\n",
       "\n",
       "    .colab-df-convert:hover {\n",
       "      background-color: #E2EBFA;\n",
       "      box-shadow: 0px 1px 2px rgba(60, 64, 67, 0.3), 0px 1px 3px 1px rgba(60, 64, 67, 0.15);\n",
       "      fill: #174EA6;\n",
       "    }\n",
       "\n",
       "    [theme=dark] .colab-df-convert {\n",
       "      background-color: #3B4455;\n",
       "      fill: #D2E3FC;\n",
       "    }\n",
       "\n",
       "    [theme=dark] .colab-df-convert:hover {\n",
       "      background-color: #434B5C;\n",
       "      box-shadow: 0px 1px 3px 1px rgba(0, 0, 0, 0.15);\n",
       "      filter: drop-shadow(0px 1px 2px rgba(0, 0, 0, 0.3));\n",
       "      fill: #FFFFFF;\n",
       "    }\n",
       "  </style>\n",
       "\n",
       "      <script>\n",
       "        const buttonEl =\n",
       "          document.querySelector('#df-49a2c6dc-d749-455d-a2e7-589ff84c27ca button.colab-df-convert');\n",
       "        buttonEl.style.display =\n",
       "          google.colab.kernel.accessAllowed ? 'block' : 'none';\n",
       "\n",
       "        async function convertToInteractive(key) {\n",
       "          const element = document.querySelector('#df-49a2c6dc-d749-455d-a2e7-589ff84c27ca');\n",
       "          const dataTable =\n",
       "            await google.colab.kernel.invokeFunction('convertToInteractive',\n",
       "                                                     [key], {});\n",
       "          if (!dataTable) return;\n",
       "\n",
       "          const docLinkHtml = 'Like what you see? Visit the ' +\n",
       "            '<a target=\"_blank\" href=https://colab.research.google.com/notebooks/data_table.ipynb>data table notebook</a>'\n",
       "            + ' to learn more about interactive tables.';\n",
       "          element.innerHTML = '';\n",
       "          dataTable['output_type'] = 'display_data';\n",
       "          await google.colab.output.renderOutput(dataTable, element);\n",
       "          const docLink = document.createElement('div');\n",
       "          docLink.innerHTML = docLinkHtml;\n",
       "          element.appendChild(docLink);\n",
       "        }\n",
       "      </script>\n",
       "    </div>\n",
       "  </div>\n",
       "  "
      ],
      "text/plain": [
       "                                                text  toxic\n",
       "0  \"\\n\\nInstead, I've removed the reference to a ...      0\n",
       "1  Thanks. Happy New Year to you too. I probably ...      0\n",
       "2                  WAS HERE. HE POWNS NOOBS ALL DAY!      1\n",
       "3  {{unblock}Look, make a new account. The messag...      0\n",
       "4  I dont see anything wrong with the link I put ...      0\n",
       "5  \"\\nNai soske (\"\"don't mention it\"\"). Of course...      0\n",
       "6  f*ck you x2 \\n\\nAre you still enjoying your bl...      1\n",
       "7  \"\\n\\nYou all are stupid. The term African Amer...      1\n",
       "8  \"\\nThe Graceful Slick....\\nIs non other than a...      1\n",
       "9  The following link is NOT a spam link, but rat...      0"
      ]
     },
     "execution_count": 10,
     "metadata": {},
     "output_type": "execute_result"
    }
   ],
   "source": [
    "new_data.head(10)"
   ]
  },
  {
   "cell_type": "markdown",
   "id": "45b3c3a0",
   "metadata": {
    "id": "45b3c3a0"
   },
   "source": [
    "* Загрузка предобученной модели/токенизатора"
   ]
  },
  {
   "cell_type": "code",
   "execution_count": 11,
   "id": "ab69e4e9",
   "metadata": {
    "id": "ab69e4e9"
   },
   "outputs": [],
   "source": [
    "model_class, tokenizer_class, pretrained_weights = (ppb.AutoModel, ppb.AutoTokenizer, 'unitary/toxic-bert')"
   ]
  },
  {
   "cell_type": "code",
   "execution_count": 12,
   "id": "c81d0e00",
   "metadata": {
    "colab": {
     "base_uri": "https://localhost:8080/",
     "height": 229,
     "referenced_widgets": [
      "3fc1b62596f94c0cb7b45a85d9053b84",
      "39c29ba7ed78445f8152db6bdbba7671",
      "841afb5a08e54d56a00d0d8c5fe16428",
      "57770e009d184b32a8abb9d38b7aec64",
      "1ffcec617ecd48feb78ea007cc6d2126",
      "ef2b947cf7a548dcbdde98478be91ea3",
      "44b517a81f0b42fda892bf8b8b2a845f",
      "84be33d4a45e4c6089dd7cfe9cc3cacc",
      "aa1f539af2bb449ab1681bde4a7e6cad",
      "d5b9eb002f7a43b4bd95ddd39091a41c",
      "862b438b78da428ba49ef6c68de10322",
      "1138a51adb854aaea6099801b4e2b6d1",
      "a7d4ad29fa164c82983a09f8d4748684",
      "6f3e61636d6d490dbd1475da790c15a4",
      "b5549306818744ad887ddcd24a07728f",
      "bb298539d6424106ab182132a348458e",
      "632728a5639d4d40860457b145fea08b",
      "196f22fbeb8e4ebca3465ce9426f0a91",
      "5f08e2a2d73f466a9a1f4780d0fdaae0",
      "a83b2fbf176d4286b792854721d308c0",
      "651f582e85c54460addb390a8091baf5",
      "ff3559a5c60947899ab5929d2f418ee0",
      "d37348d5018b4c4995c0c5a6c42347e8",
      "328c76630ee34accb64d7062b3ebedec",
      "7bb911b5d9bb4e2ca43b238c66113171",
      "05e344c300ad435cbec8294987bdd31a",
      "b086adaa9c254790800120e404a88a06",
      "b02e4aba6bc8463f8ec424e95667a04b",
      "8a8d1a7eaa2f41879bda282069be030d",
      "15bd0e16b71f4c37934dfd78a4a40ba9",
      "f6dc726ea4964bcba5bcd72a3a13f394",
      "cfbf5b2a23ca4a989d2bf8bc13e8e88f",
      "74176838cbac448092affed844da3103",
      "5c882ce6751346d490618bca3ed97793",
      "75730adb43ec49f8a3979b96f14e6dd7",
      "ef82a087738f4138b287b8e840692db8",
      "83ed21bf9be847cb976651214aacbd6f",
      "231ade3c5401423ca3737fb4293df493",
      "8784f1caceef41b288a9aa24aca01c2c",
      "ebd0415a3588420dba90e53e16ab9540",
      "619d67a3ff894fcdb67d023276fb0e82",
      "160b15b3644a4f6982fd7b6fb016937c",
      "9f551c56d99345d78c6fb5f0f4c2d1ae",
      "370b863b17604cc09cc761b2b65d06e5",
      "ed36770ec43646d98170adef601c46ca",
      "1e87f39975e244babbc9b0d4126006b5",
      "7dc451ceeea847e9808bfdd22aac996b",
      "80a5cb2706f2469d88e1c0d25b778337",
      "2f20ae7e6ef148519fc4dcdb7bc2b658",
      "8206ddf74b7045c2bc2268a6e74cbf74",
      "7e03701acb764927b7dffd040d0e3a53",
      "2bc3189cd540400e8f8d56f5b049f4ea",
      "7ff8c831f401418cbe4e9d8d38b9af6a",
      "c70841946d5e426e9b22d3dd777e4efb",
      "15c7a3bd6f1244bab0b60381f4c2b238"
     ]
    },
    "id": "c81d0e00",
    "outputId": "2b0e6431-639e-4cdd-ba5c-ec207d8bcbea",
    "scrolled": false
   },
   "outputs": [
    {
     "data": {
      "application/vnd.jupyter.widget-view+json": {
       "model_id": "3fc1b62596f94c0cb7b45a85d9053b84",
       "version_major": 2,
       "version_minor": 0
      },
      "text/plain": [
       "Downloading (…)okenizer_config.json:   0%|          | 0.00/174 [00:00<?, ?B/s]"
      ]
     },
     "metadata": {},
     "output_type": "display_data"
    },
    {
     "data": {
      "application/vnd.jupyter.widget-view+json": {
       "model_id": "1138a51adb854aaea6099801b4e2b6d1",
       "version_major": 2,
       "version_minor": 0
      },
      "text/plain": [
       "Downloading (…)lve/main/config.json:   0%|          | 0.00/811 [00:00<?, ?B/s]"
      ]
     },
     "metadata": {},
     "output_type": "display_data"
    },
    {
     "data": {
      "application/vnd.jupyter.widget-view+json": {
       "model_id": "d37348d5018b4c4995c0c5a6c42347e8",
       "version_major": 2,
       "version_minor": 0
      },
      "text/plain": [
       "Downloading (…)solve/main/vocab.txt:   0%|          | 0.00/232k [00:00<?, ?B/s]"
      ]
     },
     "metadata": {},
     "output_type": "display_data"
    },
    {
     "data": {
      "application/vnd.jupyter.widget-view+json": {
       "model_id": "5c882ce6751346d490618bca3ed97793",
       "version_major": 2,
       "version_minor": 0
      },
      "text/plain": [
       "Downloading (…)cial_tokens_map.json:   0%|          | 0.00/112 [00:00<?, ?B/s]"
      ]
     },
     "metadata": {},
     "output_type": "display_data"
    },
    {
     "data": {
      "application/vnd.jupyter.widget-view+json": {
       "model_id": "ed36770ec43646d98170adef601c46ca",
       "version_major": 2,
       "version_minor": 0
      },
      "text/plain": [
       "Downloading pytorch_model.bin:   0%|          | 0.00/438M [00:00<?, ?B/s]"
      ]
     },
     "metadata": {},
     "output_type": "display_data"
    },
    {
     "name": "stderr",
     "output_type": "stream",
     "text": [
      "Some weights of the model checkpoint at unitary/toxic-bert were not used when initializing BertModel: ['classifier.weight', 'classifier.bias']\n",
      "- This IS expected if you are initializing BertModel from the checkpoint of a model trained on another task or with another architecture (e.g. initializing a BertForSequenceClassification model from a BertForPreTraining model).\n",
      "- This IS NOT expected if you are initializing BertModel from the checkpoint of a model that you expect to be exactly identical (initializing a BertForSequenceClassification model from a BertForSequenceClassification model).\n"
     ]
    }
   ],
   "source": [
    " tokenizer = tokenizer_class.from_pretrained(pretrained_weights)\n",
    "model = model_class.from_pretrained(pretrained_weights)"
   ]
  },
  {
   "cell_type": "markdown",
   "id": "8cfcd66f",
   "metadata": {
    "id": "8cfcd66f"
   },
   "source": [
    "* Преобразуем текст в номера токенов"
   ]
  },
  {
   "cell_type": "code",
   "execution_count": 13,
   "id": "b26ac2b7",
   "metadata": {
    "id": "b26ac2b7"
   },
   "outputs": [],
   "source": [
    "tokenized = new_data['text'].apply((lambda x: tokenizer.encode(x, padding='max_length', truncation=True, \n",
    "                                                               add_special_tokens=True)))"
   ]
  },
  {
   "cell_type": "markdown",
   "id": "47417ea9",
   "metadata": {
    "id": "47417ea9"
   },
   "source": [
    "* Найдем максимальной длины вектор во всём датасете."
   ]
  },
  {
   "cell_type": "code",
   "execution_count": 14,
   "id": "41ef259d",
   "metadata": {
    "colab": {
     "base_uri": "https://localhost:8080/"
    },
    "id": "41ef259d",
    "outputId": "4223c1e6-440b-4eca-b7b1-9699efc91c23",
    "scrolled": true
   },
   "outputs": [
    {
     "data": {
      "text/plain": [
       "512"
      ]
     },
     "execution_count": 14,
     "metadata": {},
     "output_type": "execute_result"
    }
   ],
   "source": [
    "max_len = 0\n",
    "for i in tokenized.values:\n",
    "    if len(i) > max_len:\n",
    "        max_len = len(i)\n",
    "max_len        "
   ]
  },
  {
   "cell_type": "markdown",
   "id": "b74392bf",
   "metadata": {
    "id": "b74392bf"
   },
   "source": [
    "* Применим метод padding, чтобы после токенизации длины исходных текстов в корпусе были равными"
   ]
  },
  {
   "cell_type": "code",
   "execution_count": 15,
   "id": "eb5cb689",
   "metadata": {
    "id": "eb5cb689"
   },
   "outputs": [],
   "source": [
    "padded = np.array([i + [0]*(max_len-len(i)) for i in tokenized.values])"
   ]
  },
  {
   "cell_type": "markdown",
   "id": "11668542",
   "metadata": {
    "id": "11668542"
   },
   "source": [
    "* Создадим маску"
   ]
  },
  {
   "cell_type": "code",
   "execution_count": 16,
   "id": "8457d004",
   "metadata": {
    "colab": {
     "base_uri": "https://localhost:8080/"
    },
    "id": "8457d004",
    "outputId": "a462f99e-bdfe-40b3-d607-e9e4d4606d3e"
   },
   "outputs": [
    {
     "data": {
      "text/plain": [
       "(3000, 512)"
      ]
     },
     "execution_count": 16,
     "metadata": {},
     "output_type": "execute_result"
    }
   ],
   "source": [
    "attention_mask = np.where(padded != 0, 1, 0)\n",
    "attention_mask.shape"
   ]
  },
  {
   "cell_type": "code",
   "execution_count": 17,
   "id": "eFZLbPJpHjcd",
   "metadata": {
    "id": "eFZLbPJpHjcd"
   },
   "outputs": [],
   "source": [
    "device = torch.device('cuda' if torch.cuda.is_available() else 'cpu')\n",
    "model = model.to(device)"
   ]
  },
  {
   "cell_type": "code",
   "execution_count": 18,
   "id": "c8fda2ce",
   "metadata": {
    "colab": {
     "base_uri": "https://localhost:8080/",
     "height": 49,
     "referenced_widgets": [
      "902a4645972e4c7d9d179ddfa67276b3",
      "243f334f2dd8437ab63335c885d7720d",
      "47c5e6bd3bd04d33ba6c916b272663d3",
      "3cd671e4b8a847fe81d4d22652484975",
      "1f754e63debe4eb0b12520935e61496c",
      "17b7d24166474592be267ab00b81b901",
      "f9dc88af7bc14440bd184218bdd9e863",
      "f4e4d4c5e3264ffea6f4af64a893ba26",
      "938a0a1658b14e7db63e86e83de2a59a",
      "7f3bbec699c04e0ab6d6a5105985ad58",
      "7c024a12c8c14d8f83af0690c7f05462"
     ]
    },
    "id": "c8fda2ce",
    "outputId": "3c2ee347-6afe-4e2f-aaa0-c5b502942fbd"
   },
   "outputs": [
    {
     "data": {
      "application/vnd.jupyter.widget-view+json": {
       "model_id": "902a4645972e4c7d9d179ddfa67276b3",
       "version_major": 2,
       "version_minor": 0
      },
      "text/plain": [
       "  0%|          | 0/30 [00:00<?, ?it/s]"
      ]
     },
     "metadata": {},
     "output_type": "display_data"
    }
   ],
   "source": [
    "batch_size = 100\n",
    "embeddings = []\n",
    "for i in notebook.tqdm(range(padded.shape[0] // batch_size)):\n",
    "        batch = torch.LongTensor(padded[batch_size*i:batch_size*(i+1)]) \n",
    "        attention_mask_batch = torch.LongTensor(attention_mask[batch_size*i:batch_size*(i+1)])\n",
    "        \n",
    "        with torch.no_grad():\n",
    "            batch_embeddings = model(batch.to(device), attention_mask=attention_mask_batch.to(device))\n",
    "        embeddings.append(batch_embeddings[0][:,0,:].cpu().numpy())"
   ]
  },
  {
   "cell_type": "markdown",
   "id": "pdCugRX8N2XX",
   "metadata": {
    "id": "pdCugRX8N2XX"
   },
   "source": [
    "* Сохраним полученные данные в новый датафрейм"
   ]
  },
  {
   "cell_type": "code",
   "execution_count": 19,
   "id": "6c4f4d87",
   "metadata": {
    "id": "6c4f4d87"
   },
   "outputs": [],
   "source": [
    "lemm_toxic = np.concatenate(embeddings)"
   ]
  },
  {
   "cell_type": "code",
   "execution_count": 20,
   "id": "XU_vmGppsotQ",
   "metadata": {
    "id": "XU_vmGppsotQ"
   },
   "outputs": [],
   "source": [
    "new_df = pd.DataFrame(lemm_toxic, index= new_data.index)"
   ]
  },
  {
   "cell_type": "code",
   "execution_count": 21,
   "id": "9Z9Qyvi_tICC",
   "metadata": {
    "id": "9Z9Qyvi_tICC"
   },
   "outputs": [],
   "source": [
    "data_new = new_data.join(new_df, lsuffix='_left', rsuffix='_right')"
   ]
  },
  {
   "cell_type": "code",
   "execution_count": 22,
   "id": "2JHyTh1kyvBk",
   "metadata": {
    "id": "2JHyTh1kyvBk"
   },
   "outputs": [],
   "source": [
    "data_new.to_csv('data_new_lemm_toxic.csv')"
   ]
  },
  {
   "cell_type": "markdown",
   "id": "WpPBZUUxONF4",
   "metadata": {
    "id": "WpPBZUUxONF4"
   },
   "source": [
    "* Данные сохранены. Зановов считаем и сделаем разбивку для обучения наших моделей."
   ]
  },
  {
   "cell_type": "code",
   "execution_count": 23,
   "id": "kqG7PcBJdnsh",
   "metadata": {
    "id": "kqG7PcBJdnsh"
   },
   "outputs": [],
   "source": [
    "df = pd.read_csv('/content/data_new_lemm_toxic.csv', index_col = False)"
   ]
  },
  {
   "cell_type": "code",
   "execution_count": 24,
   "id": "jNuLPOJCu1xe",
   "metadata": {
    "id": "jNuLPOJCu1xe"
   },
   "outputs": [],
   "source": [
    "df = df.iloc [: , 1:]"
   ]
  },
  {
   "cell_type": "code",
   "execution_count": 25,
   "id": "HlhC35Zovmh8",
   "metadata": {
    "colab": {
     "base_uri": "https://localhost:8080/",
     "height": 506
    },
    "id": "HlhC35Zovmh8",
    "outputId": "61a97fd9-70b4-479e-d803-68a378cc8c72"
   },
   "outputs": [
    {
     "data": {
      "text/html": [
       "\n",
       "  <div id=\"df-5084d691-f95a-411a-9063-b9f7eb7ebe7b\">\n",
       "    <div class=\"colab-df-container\">\n",
       "      <div>\n",
       "<style scoped>\n",
       "    .dataframe tbody tr th:only-of-type {\n",
       "        vertical-align: middle;\n",
       "    }\n",
       "\n",
       "    .dataframe tbody tr th {\n",
       "        vertical-align: top;\n",
       "    }\n",
       "\n",
       "    .dataframe thead th {\n",
       "        text-align: right;\n",
       "    }\n",
       "</style>\n",
       "<table border=\"1\" class=\"dataframe\">\n",
       "  <thead>\n",
       "    <tr style=\"text-align: right;\">\n",
       "      <th></th>\n",
       "      <th>text</th>\n",
       "      <th>toxic</th>\n",
       "      <th>0</th>\n",
       "      <th>1</th>\n",
       "      <th>2</th>\n",
       "      <th>3</th>\n",
       "      <th>4</th>\n",
       "      <th>5</th>\n",
       "      <th>6</th>\n",
       "      <th>7</th>\n",
       "      <th>...</th>\n",
       "      <th>758</th>\n",
       "      <th>759</th>\n",
       "      <th>760</th>\n",
       "      <th>761</th>\n",
       "      <th>762</th>\n",
       "      <th>763</th>\n",
       "      <th>764</th>\n",
       "      <th>765</th>\n",
       "      <th>766</th>\n",
       "      <th>767</th>\n",
       "    </tr>\n",
       "  </thead>\n",
       "  <tbody>\n",
       "    <tr>\n",
       "      <th>0</th>\n",
       "      <td>\"\\n\\nInstead, I've removed the reference to a ...</td>\n",
       "      <td>0</td>\n",
       "      <td>-0.668524</td>\n",
       "      <td>-1.012075</td>\n",
       "      <td>0.445433</td>\n",
       "      <td>-0.425507</td>\n",
       "      <td>1.099503</td>\n",
       "      <td>0.264261</td>\n",
       "      <td>-0.147757</td>\n",
       "      <td>-0.047310</td>\n",
       "      <td>...</td>\n",
       "      <td>-0.432456</td>\n",
       "      <td>-1.277784</td>\n",
       "      <td>0.111234</td>\n",
       "      <td>-0.759719</td>\n",
       "      <td>0.244113</td>\n",
       "      <td>0.811907</td>\n",
       "      <td>-0.412181</td>\n",
       "      <td>-0.773051</td>\n",
       "      <td>0.362650</td>\n",
       "      <td>0.011771</td>\n",
       "    </tr>\n",
       "    <tr>\n",
       "      <th>1</th>\n",
       "      <td>Thanks. Happy New Year to you too. I probably ...</td>\n",
       "      <td>0</td>\n",
       "      <td>-0.556536</td>\n",
       "      <td>-0.788890</td>\n",
       "      <td>0.518939</td>\n",
       "      <td>-0.283243</td>\n",
       "      <td>1.033466</td>\n",
       "      <td>0.194861</td>\n",
       "      <td>-0.160070</td>\n",
       "      <td>0.068645</td>\n",
       "      <td>...</td>\n",
       "      <td>-0.462660</td>\n",
       "      <td>-1.156194</td>\n",
       "      <td>0.214955</td>\n",
       "      <td>-0.720492</td>\n",
       "      <td>0.147710</td>\n",
       "      <td>1.012081</td>\n",
       "      <td>-0.488753</td>\n",
       "      <td>-0.679739</td>\n",
       "      <td>0.360003</td>\n",
       "      <td>0.081433</td>\n",
       "    </tr>\n",
       "    <tr>\n",
       "      <th>2</th>\n",
       "      <td>WAS HERE. HE POWNS NOOBS ALL DAY!</td>\n",
       "      <td>1</td>\n",
       "      <td>-0.110228</td>\n",
       "      <td>0.673257</td>\n",
       "      <td>0.453540</td>\n",
       "      <td>-0.500050</td>\n",
       "      <td>-0.227017</td>\n",
       "      <td>0.642047</td>\n",
       "      <td>0.915823</td>\n",
       "      <td>1.224944</td>\n",
       "      <td>...</td>\n",
       "      <td>-1.211769</td>\n",
       "      <td>0.615779</td>\n",
       "      <td>-0.563565</td>\n",
       "      <td>-0.620878</td>\n",
       "      <td>-0.465086</td>\n",
       "      <td>-0.734098</td>\n",
       "      <td>-0.190248</td>\n",
       "      <td>-0.261914</td>\n",
       "      <td>0.401774</td>\n",
       "      <td>0.035476</td>\n",
       "    </tr>\n",
       "    <tr>\n",
       "      <th>3</th>\n",
       "      <td>{{unblock}Look, make a new account. The messag...</td>\n",
       "      <td>0</td>\n",
       "      <td>-0.475742</td>\n",
       "      <td>-0.773629</td>\n",
       "      <td>0.913052</td>\n",
       "      <td>-0.364221</td>\n",
       "      <td>1.056603</td>\n",
       "      <td>0.490569</td>\n",
       "      <td>0.553574</td>\n",
       "      <td>0.195458</td>\n",
       "      <td>...</td>\n",
       "      <td>-0.405248</td>\n",
       "      <td>-0.755634</td>\n",
       "      <td>0.464625</td>\n",
       "      <td>-0.486767</td>\n",
       "      <td>-0.445150</td>\n",
       "      <td>0.482836</td>\n",
       "      <td>-0.535630</td>\n",
       "      <td>-0.604065</td>\n",
       "      <td>0.754953</td>\n",
       "      <td>0.371090</td>\n",
       "    </tr>\n",
       "    <tr>\n",
       "      <th>4</th>\n",
       "      <td>I dont see anything wrong with the link I put ...</td>\n",
       "      <td>0</td>\n",
       "      <td>-0.409543</td>\n",
       "      <td>-0.955128</td>\n",
       "      <td>0.559810</td>\n",
       "      <td>-0.226098</td>\n",
       "      <td>0.968858</td>\n",
       "      <td>0.212163</td>\n",
       "      <td>0.035291</td>\n",
       "      <td>0.269119</td>\n",
       "      <td>...</td>\n",
       "      <td>-0.585006</td>\n",
       "      <td>-0.872573</td>\n",
       "      <td>0.158351</td>\n",
       "      <td>-0.564870</td>\n",
       "      <td>0.157533</td>\n",
       "      <td>0.966833</td>\n",
       "      <td>-0.422279</td>\n",
       "      <td>-0.850227</td>\n",
       "      <td>0.531452</td>\n",
       "      <td>0.358398</td>\n",
       "    </tr>\n",
       "    <tr>\n",
       "      <th>5</th>\n",
       "      <td>\"\\nNai soske (\"\"don't mention it\"\"). Of course...</td>\n",
       "      <td>0</td>\n",
       "      <td>-0.402958</td>\n",
       "      <td>-0.783547</td>\n",
       "      <td>0.449764</td>\n",
       "      <td>-0.634642</td>\n",
       "      <td>1.022255</td>\n",
       "      <td>0.719170</td>\n",
       "      <td>0.372964</td>\n",
       "      <td>0.331827</td>\n",
       "      <td>...</td>\n",
       "      <td>-0.904840</td>\n",
       "      <td>-0.813216</td>\n",
       "      <td>0.046601</td>\n",
       "      <td>-0.676324</td>\n",
       "      <td>0.008394</td>\n",
       "      <td>0.388116</td>\n",
       "      <td>-0.278736</td>\n",
       "      <td>-0.689906</td>\n",
       "      <td>0.626102</td>\n",
       "      <td>0.256493</td>\n",
       "    </tr>\n",
       "    <tr>\n",
       "      <th>6</th>\n",
       "      <td>f*ck you x2 \\n\\nAre you still enjoying your bl...</td>\n",
       "      <td>1</td>\n",
       "      <td>-0.000281</td>\n",
       "      <td>0.939310</td>\n",
       "      <td>0.906840</td>\n",
       "      <td>0.524734</td>\n",
       "      <td>-0.426921</td>\n",
       "      <td>0.554818</td>\n",
       "      <td>0.417819</td>\n",
       "      <td>-0.204060</td>\n",
       "      <td>...</td>\n",
       "      <td>-1.323513</td>\n",
       "      <td>0.484673</td>\n",
       "      <td>-1.021811</td>\n",
       "      <td>0.237804</td>\n",
       "      <td>-1.083081</td>\n",
       "      <td>-1.089943</td>\n",
       "      <td>0.085394</td>\n",
       "      <td>-0.415312</td>\n",
       "      <td>-0.205645</td>\n",
       "      <td>-0.353331</td>\n",
       "    </tr>\n",
       "    <tr>\n",
       "      <th>7</th>\n",
       "      <td>\"\\n\\nYou all are stupid. The term African Amer...</td>\n",
       "      <td>1</td>\n",
       "      <td>-0.282408</td>\n",
       "      <td>0.188373</td>\n",
       "      <td>-0.170497</td>\n",
       "      <td>-0.875169</td>\n",
       "      <td>0.293922</td>\n",
       "      <td>1.114821</td>\n",
       "      <td>0.946724</td>\n",
       "      <td>1.075430</td>\n",
       "      <td>...</td>\n",
       "      <td>-1.136657</td>\n",
       "      <td>0.633450</td>\n",
       "      <td>-0.646802</td>\n",
       "      <td>-1.238392</td>\n",
       "      <td>0.206694</td>\n",
       "      <td>-0.294773</td>\n",
       "      <td>-0.286139</td>\n",
       "      <td>-0.393394</td>\n",
       "      <td>-0.196115</td>\n",
       "      <td>0.404435</td>\n",
       "    </tr>\n",
       "    <tr>\n",
       "      <th>8</th>\n",
       "      <td>\"\\nThe Graceful Slick....\\nIs non other than a...</td>\n",
       "      <td>1</td>\n",
       "      <td>-0.533842</td>\n",
       "      <td>0.390976</td>\n",
       "      <td>0.921185</td>\n",
       "      <td>0.290132</td>\n",
       "      <td>-0.486912</td>\n",
       "      <td>0.676412</td>\n",
       "      <td>0.767043</td>\n",
       "      <td>0.514356</td>\n",
       "      <td>...</td>\n",
       "      <td>-0.981447</td>\n",
       "      <td>0.501149</td>\n",
       "      <td>-0.892705</td>\n",
       "      <td>-0.388172</td>\n",
       "      <td>-0.837197</td>\n",
       "      <td>-0.978212</td>\n",
       "      <td>0.287582</td>\n",
       "      <td>-0.244589</td>\n",
       "      <td>0.316982</td>\n",
       "      <td>0.188626</td>\n",
       "    </tr>\n",
       "    <tr>\n",
       "      <th>9</th>\n",
       "      <td>The following link is NOT a spam link, but rat...</td>\n",
       "      <td>0</td>\n",
       "      <td>-0.689445</td>\n",
       "      <td>-0.966722</td>\n",
       "      <td>0.598824</td>\n",
       "      <td>-0.392439</td>\n",
       "      <td>0.969672</td>\n",
       "      <td>0.169701</td>\n",
       "      <td>-0.080501</td>\n",
       "      <td>0.047043</td>\n",
       "      <td>...</td>\n",
       "      <td>-0.408899</td>\n",
       "      <td>-1.250794</td>\n",
       "      <td>0.097098</td>\n",
       "      <td>-0.742753</td>\n",
       "      <td>0.162316</td>\n",
       "      <td>0.928127</td>\n",
       "      <td>-0.457461</td>\n",
       "      <td>-0.784491</td>\n",
       "      <td>0.368440</td>\n",
       "      <td>0.095940</td>\n",
       "    </tr>\n",
       "  </tbody>\n",
       "</table>\n",
       "<p>10 rows × 770 columns</p>\n",
       "</div>\n",
       "      <button class=\"colab-df-convert\" onclick=\"convertToInteractive('df-5084d691-f95a-411a-9063-b9f7eb7ebe7b')\"\n",
       "              title=\"Convert this dataframe to an interactive table.\"\n",
       "              style=\"display:none;\">\n",
       "        \n",
       "  <svg xmlns=\"http://www.w3.org/2000/svg\" height=\"24px\"viewBox=\"0 0 24 24\"\n",
       "       width=\"24px\">\n",
       "    <path d=\"M0 0h24v24H0V0z\" fill=\"none\"/>\n",
       "    <path d=\"M18.56 5.44l.94 2.06.94-2.06 2.06-.94-2.06-.94-.94-2.06-.94 2.06-2.06.94zm-11 1L8.5 8.5l.94-2.06 2.06-.94-2.06-.94L8.5 2.5l-.94 2.06-2.06.94zm10 10l.94 2.06.94-2.06 2.06-.94-2.06-.94-.94-2.06-.94 2.06-2.06.94z\"/><path d=\"M17.41 7.96l-1.37-1.37c-.4-.4-.92-.59-1.43-.59-.52 0-1.04.2-1.43.59L10.3 9.45l-7.72 7.72c-.78.78-.78 2.05 0 2.83L4 21.41c.39.39.9.59 1.41.59.51 0 1.02-.2 1.41-.59l7.78-7.78 2.81-2.81c.8-.78.8-2.07 0-2.86zM5.41 20L4 18.59l7.72-7.72 1.47 1.35L5.41 20z\"/>\n",
       "  </svg>\n",
       "      </button>\n",
       "      \n",
       "  <style>\n",
       "    .colab-df-container {\n",
       "      display:flex;\n",
       "      flex-wrap:wrap;\n",
       "      gap: 12px;\n",
       "    }\n",
       "\n",
       "    .colab-df-convert {\n",
       "      background-color: #E8F0FE;\n",
       "      border: none;\n",
       "      border-radius: 50%;\n",
       "      cursor: pointer;\n",
       "      display: none;\n",
       "      fill: #1967D2;\n",
       "      height: 32px;\n",
       "      padding: 0 0 0 0;\n",
       "      width: 32px;\n",
       "    }\n",
       "\n",
       "    .colab-df-convert:hover {\n",
       "      background-color: #E2EBFA;\n",
       "      box-shadow: 0px 1px 2px rgba(60, 64, 67, 0.3), 0px 1px 3px 1px rgba(60, 64, 67, 0.15);\n",
       "      fill: #174EA6;\n",
       "    }\n",
       "\n",
       "    [theme=dark] .colab-df-convert {\n",
       "      background-color: #3B4455;\n",
       "      fill: #D2E3FC;\n",
       "    }\n",
       "\n",
       "    [theme=dark] .colab-df-convert:hover {\n",
       "      background-color: #434B5C;\n",
       "      box-shadow: 0px 1px 3px 1px rgba(0, 0, 0, 0.15);\n",
       "      filter: drop-shadow(0px 1px 2px rgba(0, 0, 0, 0.3));\n",
       "      fill: #FFFFFF;\n",
       "    }\n",
       "  </style>\n",
       "\n",
       "      <script>\n",
       "        const buttonEl =\n",
       "          document.querySelector('#df-5084d691-f95a-411a-9063-b9f7eb7ebe7b button.colab-df-convert');\n",
       "        buttonEl.style.display =\n",
       "          google.colab.kernel.accessAllowed ? 'block' : 'none';\n",
       "\n",
       "        async function convertToInteractive(key) {\n",
       "          const element = document.querySelector('#df-5084d691-f95a-411a-9063-b9f7eb7ebe7b');\n",
       "          const dataTable =\n",
       "            await google.colab.kernel.invokeFunction('convertToInteractive',\n",
       "                                                     [key], {});\n",
       "          if (!dataTable) return;\n",
       "\n",
       "          const docLinkHtml = 'Like what you see? Visit the ' +\n",
       "            '<a target=\"_blank\" href=https://colab.research.google.com/notebooks/data_table.ipynb>data table notebook</a>'\n",
       "            + ' to learn more about interactive tables.';\n",
       "          element.innerHTML = '';\n",
       "          dataTable['output_type'] = 'display_data';\n",
       "          await google.colab.output.renderOutput(dataTable, element);\n",
       "          const docLink = document.createElement('div');\n",
       "          docLink.innerHTML = docLinkHtml;\n",
       "          element.appendChild(docLink);\n",
       "        }\n",
       "      </script>\n",
       "    </div>\n",
       "  </div>\n",
       "  "
      ],
      "text/plain": [
       "                                                text  toxic         0  \\\n",
       "0  \"\\n\\nInstead, I've removed the reference to a ...      0 -0.668524   \n",
       "1  Thanks. Happy New Year to you too. I probably ...      0 -0.556536   \n",
       "2                  WAS HERE. HE POWNS NOOBS ALL DAY!      1 -0.110228   \n",
       "3  {{unblock}Look, make a new account. The messag...      0 -0.475742   \n",
       "4  I dont see anything wrong with the link I put ...      0 -0.409543   \n",
       "5  \"\\nNai soske (\"\"don't mention it\"\"). Of course...      0 -0.402958   \n",
       "6  f*ck you x2 \\n\\nAre you still enjoying your bl...      1 -0.000281   \n",
       "7  \"\\n\\nYou all are stupid. The term African Amer...      1 -0.282408   \n",
       "8  \"\\nThe Graceful Slick....\\nIs non other than a...      1 -0.533842   \n",
       "9  The following link is NOT a spam link, but rat...      0 -0.689445   \n",
       "\n",
       "          1         2         3         4         5         6         7  ...  \\\n",
       "0 -1.012075  0.445433 -0.425507  1.099503  0.264261 -0.147757 -0.047310  ...   \n",
       "1 -0.788890  0.518939 -0.283243  1.033466  0.194861 -0.160070  0.068645  ...   \n",
       "2  0.673257  0.453540 -0.500050 -0.227017  0.642047  0.915823  1.224944  ...   \n",
       "3 -0.773629  0.913052 -0.364221  1.056603  0.490569  0.553574  0.195458  ...   \n",
       "4 -0.955128  0.559810 -0.226098  0.968858  0.212163  0.035291  0.269119  ...   \n",
       "5 -0.783547  0.449764 -0.634642  1.022255  0.719170  0.372964  0.331827  ...   \n",
       "6  0.939310  0.906840  0.524734 -0.426921  0.554818  0.417819 -0.204060  ...   \n",
       "7  0.188373 -0.170497 -0.875169  0.293922  1.114821  0.946724  1.075430  ...   \n",
       "8  0.390976  0.921185  0.290132 -0.486912  0.676412  0.767043  0.514356  ...   \n",
       "9 -0.966722  0.598824 -0.392439  0.969672  0.169701 -0.080501  0.047043  ...   \n",
       "\n",
       "        758       759       760       761       762       763       764  \\\n",
       "0 -0.432456 -1.277784  0.111234 -0.759719  0.244113  0.811907 -0.412181   \n",
       "1 -0.462660 -1.156194  0.214955 -0.720492  0.147710  1.012081 -0.488753   \n",
       "2 -1.211769  0.615779 -0.563565 -0.620878 -0.465086 -0.734098 -0.190248   \n",
       "3 -0.405248 -0.755634  0.464625 -0.486767 -0.445150  0.482836 -0.535630   \n",
       "4 -0.585006 -0.872573  0.158351 -0.564870  0.157533  0.966833 -0.422279   \n",
       "5 -0.904840 -0.813216  0.046601 -0.676324  0.008394  0.388116 -0.278736   \n",
       "6 -1.323513  0.484673 -1.021811  0.237804 -1.083081 -1.089943  0.085394   \n",
       "7 -1.136657  0.633450 -0.646802 -1.238392  0.206694 -0.294773 -0.286139   \n",
       "8 -0.981447  0.501149 -0.892705 -0.388172 -0.837197 -0.978212  0.287582   \n",
       "9 -0.408899 -1.250794  0.097098 -0.742753  0.162316  0.928127 -0.457461   \n",
       "\n",
       "        765       766       767  \n",
       "0 -0.773051  0.362650  0.011771  \n",
       "1 -0.679739  0.360003  0.081433  \n",
       "2 -0.261914  0.401774  0.035476  \n",
       "3 -0.604065  0.754953  0.371090  \n",
       "4 -0.850227  0.531452  0.358398  \n",
       "5 -0.689906  0.626102  0.256493  \n",
       "6 -0.415312 -0.205645 -0.353331  \n",
       "7 -0.393394 -0.196115  0.404435  \n",
       "8 -0.244589  0.316982  0.188626  \n",
       "9 -0.784491  0.368440  0.095940  \n",
       "\n",
       "[10 rows x 770 columns]"
      ]
     },
     "execution_count": 25,
     "metadata": {},
     "output_type": "execute_result"
    }
   ],
   "source": [
    "df.head(10)"
   ]
  },
  {
   "cell_type": "code",
   "execution_count": 26,
   "id": "rU9ocyahgi7T",
   "metadata": {
    "colab": {
     "base_uri": "https://localhost:8080/"
    },
    "id": "rU9ocyahgi7T",
    "outputId": "291c18f5-9d48-402a-e7ba-78e151be4f95"
   },
   "outputs": [
    {
     "data": {
      "text/plain": [
       "((3000,), (3000, 768))"
      ]
     },
     "execution_count": 26,
     "metadata": {},
     "output_type": "execute_result"
    }
   ],
   "source": [
    "features = df.drop(['toxic', 'text'], axis = 1)\n",
    "target = df['toxic']\n",
    "target.shape, features.shape"
   ]
  },
  {
   "cell_type": "code",
   "execution_count": 27,
   "id": "yEDRysGed3X_",
   "metadata": {
    "colab": {
     "base_uri": "https://localhost:8080/"
    },
    "id": "yEDRysGed3X_",
    "outputId": "d55865b4-0bba-4c63-8e66-76d1a24a60de"
   },
   "outputs": [
    {
     "data": {
      "text/plain": [
       "0    2670\n",
       "1     330\n",
       "Name: toxic, dtype: int64"
      ]
     },
     "execution_count": 27,
     "metadata": {},
     "output_type": "execute_result"
    }
   ],
   "source": [
    "target.value_counts()"
   ]
  },
  {
   "cell_type": "code",
   "execution_count": 28,
   "id": "68b3666f",
   "metadata": {
    "id": "68b3666f"
   },
   "outputs": [],
   "source": [
    "features_train, features_test, target_train, target_test = train_test_split(features, target, \n",
    "                                                                              test_size=0.4, random_state=12345)"
   ]
  },
  {
   "cell_type": "markdown",
   "id": "000c0997",
   "metadata": {
    "id": "000c0997"
   },
   "source": [
    "## Обучение"
   ]
  },
  {
   "cell_type": "markdown",
   "id": "qQAEOUgAMKfM",
   "metadata": {
    "id": "qQAEOUgAMKfM"
   },
   "source": [
    "### Обучим модель CatBoost"
   ]
  },
  {
   "cell_type": "code",
   "execution_count": 30,
   "id": "fe4bc829",
   "metadata": {
    "id": "fe4bc829"
   },
   "outputs": [],
   "source": [
    "cat_model = CatBoostClassifier(verbose=False, task_type=\"GPU\", auto_class_weights='Balanced',\n",
    "                              early_stopping_rounds=20)\n",
    "\n",
    "parameters_cat = {'iterations':[100, 300, 400],\n",
    "                  'learning_rate':[0.2, 0.3, 0.5, 0.7],\n",
    "                  'l2_leaf_reg':[3, 6, 8]\n",
    "                 }\n",
    "\n",
    "model_cat = RandomizedSearchCV(estimator=cat_model, param_distributions=parameters_cat, \n",
    "                               scoring='f1', n_iter=5, cv = 3)"
   ]
  },
  {
   "cell_type": "code",
   "execution_count": 31,
   "id": "075164ae",
   "metadata": {
    "colab": {
     "base_uri": "https://localhost:8080/"
    },
    "id": "075164ae",
    "outputId": "1628e609-9db6-46ba-e0f1-4ad0b16e05f3",
    "scrolled": true
   },
   "outputs": [
    {
     "name": "stderr",
     "output_type": "stream",
     "text": [
      "Warning: less than 75% gpu memory available for training. Free: 10128.8125 Total: 15101.8125\n",
      "Warning: less than 75% gpu memory available for training. Free: 10128.8125 Total: 15101.8125\n",
      "Warning: less than 75% gpu memory available for training. Free: 10128.8125 Total: 15101.8125\n",
      "Warning: less than 75% gpu memory available for training. Free: 10128.8125 Total: 15101.8125\n",
      "Warning: less than 75% gpu memory available for training. Free: 10128.8125 Total: 15101.8125\n",
      "Warning: less than 75% gpu memory available for training. Free: 10128.8125 Total: 15101.8125\n",
      "Warning: less than 75% gpu memory available for training. Free: 10128.8125 Total: 15101.8125\n",
      "Warning: less than 75% gpu memory available for training. Free: 10128.8125 Total: 15101.8125\n",
      "Warning: less than 75% gpu memory available for training. Free: 10128.8125 Total: 15101.8125\n",
      "Warning: less than 75% gpu memory available for training. Free: 10128.8125 Total: 15101.8125\n",
      "Warning: less than 75% gpu memory available for training. Free: 10128.8125 Total: 15101.8125\n",
      "Warning: less than 75% gpu memory available for training. Free: 10128.8125 Total: 15101.8125\n",
      "Warning: less than 75% gpu memory available for training. Free: 10128.8125 Total: 15101.8125\n",
      "Warning: less than 75% gpu memory available for training. Free: 10128.8125 Total: 15101.8125\n",
      "Warning: less than 75% gpu memory available for training. Free: 10128.8125 Total: 15101.8125\n",
      "Warning: less than 75% gpu memory available for training. Free: 10128.8125 Total: 15101.8125\n"
     ]
    },
    {
     "name": "stdout",
     "output_type": "stream",
     "text": [
      "Параметры: {'learning_rate': 0.5, 'l2_leaf_reg': 8, 'iterations': 300}\n",
      "F1 score: 95.68%\n",
      "CPU times: user 59.5 s, sys: 30.1 s, total: 1min 29s\n",
      "Wall time: 56.4 s\n"
     ]
    }
   ],
   "source": [
    "%%time\n",
    "\n",
    "model_cat.fit(features_train, target_train)\n",
    "print(\"Параметры:\", model_cat.best_params_)\n",
    "print(\"F1 score: \" + str(round(100*model_cat.best_score_, 2)) + \"%\")"
   ]
  },
  {
   "cell_type": "markdown",
   "id": "SBVd7xj5MSJU",
   "metadata": {
    "id": "SBVd7xj5MSJU"
   },
   "source": [
    "### Обучим модель LightGBM"
   ]
  },
  {
   "cell_type": "code",
   "execution_count": 32,
   "id": "0UWyfQkk5krA",
   "metadata": {
    "id": "0UWyfQkk5krA"
   },
   "outputs": [],
   "source": [
    "light_model = LGBMClassifier(class_weight = 'balanced')\n",
    "\n",
    "\n",
    "param_light = {\n",
    "    'boosting_type': ['gbdt', 'goss', 'dart'],\n",
    "    'num_leaves': list(range(30, 150)),\n",
    "    'learning_rate': [0.01,0.1,0.5],\n",
    "    'subsample_for_bin': [20000,50000,100000,120000,150000],\n",
    "    'min_child_samples': [20,50,100,200,500],\n",
    "    'colsample_bytree': [0.6,0.8,1],\n",
    "    \"max_depth\": [5,10,50,100]\n",
    "}\n",
    "\n",
    "model_light = RandomizedSearchCV(estimator=light_model, param_distributions=param_light, \n",
    "                               scoring='f1', n_iter=5, cv = 3)"
   ]
  },
  {
   "cell_type": "code",
   "execution_count": 33,
   "id": "goBnFUS34pSl",
   "metadata": {
    "colab": {
     "base_uri": "https://localhost:8080/"
    },
    "id": "goBnFUS34pSl",
    "outputId": "defe73f0-c071-4686-df12-8c3fe7b387c9"
   },
   "outputs": [
    {
     "name": "stdout",
     "output_type": "stream",
     "text": [
      "Параметры: {'subsample_for_bin': 120000, 'num_leaves': 56, 'min_child_samples': 500, 'max_depth': 5, 'learning_rate': 0.5, 'colsample_bytree': 0.6, 'boosting_type': 'gbdt'}\n",
      "F1 score: 95.91%\n",
      "CPU times: user 39.9 s, sys: 1.31 s, total: 41.2 s\n",
      "Wall time: 46.6 s\n"
     ]
    }
   ],
   "source": [
    "%%time\n",
    "\n",
    "model_light.fit(features_train, target_train)\n",
    "print(\"Параметры:\", model_light.best_params_)\n",
    "print(\"F1 score: \" + str(round(100*model_light.best_score_, 2)) + \"%\")"
   ]
  },
  {
   "cell_type": "markdown",
   "id": "Alb1PASPkBPM",
   "metadata": {
    "id": "Alb1PASPkBPM"
   },
   "source": [
    "### Модель LogisticRegression"
   ]
  },
  {
   "cell_type": "code",
   "execution_count": 34,
   "id": "XCHZy61DOcmC",
   "metadata": {
    "id": "XCHZy61DOcmC"
   },
   "outputs": [],
   "source": [
    "lr_model = LogisticRegression(random_state=12345, solver='liblinear')\n",
    "\n",
    "param_lr= {'C': [0.01, 0.1, 0.5, 1, 5]}\n",
    "\n",
    "model_lr = RandomizedSearchCV(estimator=lr_model, param_distributions=param_lr, \n",
    "                               scoring='f1', n_iter=10, cv = 3)"
   ]
  },
  {
   "cell_type": "code",
   "execution_count": 35,
   "id": "XrCQK2DgRL7v",
   "metadata": {
    "colab": {
     "base_uri": "https://localhost:8080/"
    },
    "id": "XrCQK2DgRL7v",
    "outputId": "8db91768-2247-4f7e-be1e-f93778f0031f"
   },
   "outputs": [
    {
     "name": "stderr",
     "output_type": "stream",
     "text": [
      "/usr/local/lib/python3.10/dist-packages/sklearn/model_selection/_search.py:305: UserWarning: The total space of parameters 5 is smaller than n_iter=10. Running 5 iterations. For exhaustive searches, use GridSearchCV.\n",
      "  warnings.warn(\n"
     ]
    },
    {
     "name": "stdout",
     "output_type": "stream",
     "text": [
      "Параметры: {'C': 0.1}\n",
      "F1 score: 94.57%\n",
      "CPU times: user 3.2 s, sys: 1.63 s, total: 4.83 s\n",
      "Wall time: 2.92 s\n"
     ]
    }
   ],
   "source": [
    "%%time\n",
    "\n",
    "model_lr.fit(features_train, target_train)\n",
    "print(\"Параметры:\", model_lr.best_params_)\n",
    "print(\"F1 score: \" + str(round(100*model_lr.best_score_, 2)) + \"%\")"
   ]
  },
  {
   "cell_type": "markdown",
   "id": "phRmZysYO96w",
   "metadata": {
    "id": "phRmZysYO96w"
   },
   "source": [
    "Обучили три модели получили хороший результат. **CatBoost:** F1 score: 95.68%, **LightGBM** F1 score: 95.91% и модель **LogisticRegression** F1 score: 94.57%. Для тестовой выборки возьмем **LightGBM**"
   ]
  },
  {
   "cell_type": "markdown",
   "id": "8HMJp5TlRr6m",
   "metadata": {
    "id": "8HMJp5TlRr6m"
   },
   "source": [
    "## Тестирование"
   ]
  },
  {
   "cell_type": "markdown",
   "id": "HpHudHUmVnZ_",
   "metadata": {
    "id": "HpHudHUmVnZ_"
   },
   "source": [
    "Сравненим с dummy моделью"
   ]
  },
  {
   "cell_type": "code",
   "execution_count": 37,
   "id": "th2ms-1JSIkt",
   "metadata": {
    "colab": {
     "base_uri": "https://localhost:8080/"
    },
    "id": "th2ms-1JSIkt",
    "outputId": "b376a854-00e1-432f-dc81-a916c16c8f7e"
   },
   "outputs": [
    {
     "name": "stdout",
     "output_type": "stream",
     "text": [
      "F1 score: 0.0\n"
     ]
    }
   ],
   "source": [
    "dummy = DummyClassifier(strategy='most_frequent', random_state=12345).fit(features_train, target_train)\n",
    "predicted_test = dummy.predict(features_test)\n",
    "F1 = f1_score(target_test, predicted_test)\n",
    "print(\"F1 score:\", F1*100)"
   ]
  },
  {
   "cell_type": "code",
   "execution_count": 40,
   "id": "_Fh6871kV4ih",
   "metadata": {
    "colab": {
     "base_uri": "https://localhost:8080/"
    },
    "id": "_Fh6871kV4ih",
    "outputId": "3ced0acb-c9fc-4237-e36d-07ba84b49ae3"
   },
   "outputs": [
    {
     "name": "stdout",
     "output_type": "stream",
     "text": [
      "F1 score: 94.24%\n",
      "CPU times: user 24.3 ms, sys: 0 ns, total: 24.3 ms\n",
      "Wall time: 47.5 ms\n"
     ]
    }
   ],
   "source": [
    "%%time\n",
    "\n",
    "predict_light = model_light.best_estimator_.predict(features_test)\n",
    "F1_score = f1_score(target_test, predict_light)\n",
    "print(\"F1 score: \" + str(round(100*F1_score, 2)) + \"%\")"
   ]
  },
  {
   "cell_type": "markdown",
   "id": "uHrsJ64RT3R3",
   "metadata": {
    "id": "uHrsJ64RT3R3"
   },
   "source": [
    "**Вывод** Задачей нашего проекта было сделать инструмент для магазина «Викишоп», который будет искать токсичные комментарии и отправлять их на модерацию. Для задачи с текстом будем использовали модель BERT, выборка из 3000 случайных элементов. После кодировки обучили три модели CatBoost, LightGBM и LogisticRegression все три показали хороший результат на тестовых данных CatBoost: F1 score: 95.68%, LightGBM F1 score: 95.91% и модель LogisticRegression F1 score: 94.57%. Для тестовой выборки использовали LightGBM получили F1 score: 94.24%."
   ]
  }
 ],
 "metadata": {
  "accelerator": "GPU",
  "colab": {
   "gpuType": "T4",
   "provenance": []
  },
  "gpuClass": "standard",
  "kernelspec": {
   "display_name": "Python 3 (ipykernel)",
   "language": "python",
   "name": "python3"
  },
  "language_info": {
   "codemirror_mode": {
    "name": "ipython",
    "version": 3
   },
   "file_extension": ".py",
   "mimetype": "text/x-python",
   "name": "python",
   "nbconvert_exporter": "python",
   "pygments_lexer": "ipython3",
   "version": "3.9.13"
  },
  "toc": {
   "base_numbering": 1,
   "nav_menu": {},
   "number_sections": true,
   "sideBar": true,
   "skip_h1_title": false,
   "title_cell": "Table of Contents",
   "title_sidebar": "Contents",
   "toc_cell": false,
   "toc_position": {},
   "toc_section_display": true,
   "toc_window_display": false
  },
  "widgets": {
   "application/vnd.jupyter.widget-state+json": {
    "05e344c300ad435cbec8294987bdd31a": {
     "model_module": "@jupyter-widgets/controls",
     "model_module_version": "1.5.0",
     "model_name": "HTMLModel",
     "state": {
      "_dom_classes": [],
      "_model_module": "@jupyter-widgets/controls",
      "_model_module_version": "1.5.0",
      "_model_name": "HTMLModel",
      "_view_count": null,
      "_view_module": "@jupyter-widgets/controls",
      "_view_module_version": "1.5.0",
      "_view_name": "HTMLView",
      "description": "",
      "description_tooltip": null,
      "layout": "IPY_MODEL_cfbf5b2a23ca4a989d2bf8bc13e8e88f",
      "placeholder": "​",
      "style": "IPY_MODEL_74176838cbac448092affed844da3103",
      "value": " 232k/232k [00:00&lt;00:00, 1.26MB/s]"
     }
    },
    "1138a51adb854aaea6099801b4e2b6d1": {
     "model_module": "@jupyter-widgets/controls",
     "model_module_version": "1.5.0",
     "model_name": "HBoxModel",
     "state": {
      "_dom_classes": [],
      "_model_module": "@jupyter-widgets/controls",
      "_model_module_version": "1.5.0",
      "_model_name": "HBoxModel",
      "_view_count": null,
      "_view_module": "@jupyter-widgets/controls",
      "_view_module_version": "1.5.0",
      "_view_name": "HBoxView",
      "box_style": "",
      "children": [
       "IPY_MODEL_a7d4ad29fa164c82983a09f8d4748684",
       "IPY_MODEL_6f3e61636d6d490dbd1475da790c15a4",
       "IPY_MODEL_b5549306818744ad887ddcd24a07728f"
      ],
      "layout": "IPY_MODEL_bb298539d6424106ab182132a348458e"
     }
    },
    "15bd0e16b71f4c37934dfd78a4a40ba9": {
     "model_module": "@jupyter-widgets/base",
     "model_module_version": "1.2.0",
     "model_name": "LayoutModel",
     "state": {
      "_model_module": "@jupyter-widgets/base",
      "_model_module_version": "1.2.0",
      "_model_name": "LayoutModel",
      "_view_count": null,
      "_view_module": "@jupyter-widgets/base",
      "_view_module_version": "1.2.0",
      "_view_name": "LayoutView",
      "align_content": null,
      "align_items": null,
      "align_self": null,
      "border": null,
      "bottom": null,
      "display": null,
      "flex": null,
      "flex_flow": null,
      "grid_area": null,
      "grid_auto_columns": null,
      "grid_auto_flow": null,
      "grid_auto_rows": null,
      "grid_column": null,
      "grid_gap": null,
      "grid_row": null,
      "grid_template_areas": null,
      "grid_template_columns": null,
      "grid_template_rows": null,
      "height": null,
      "justify_content": null,
      "justify_items": null,
      "left": null,
      "margin": null,
      "max_height": null,
      "max_width": null,
      "min_height": null,
      "min_width": null,
      "object_fit": null,
      "object_position": null,
      "order": null,
      "overflow": null,
      "overflow_x": null,
      "overflow_y": null,
      "padding": null,
      "right": null,
      "top": null,
      "visibility": null,
      "width": null
     }
    },
    "15c7a3bd6f1244bab0b60381f4c2b238": {
     "model_module": "@jupyter-widgets/controls",
     "model_module_version": "1.5.0",
     "model_name": "DescriptionStyleModel",
     "state": {
      "_model_module": "@jupyter-widgets/controls",
      "_model_module_version": "1.5.0",
      "_model_name": "DescriptionStyleModel",
      "_view_count": null,
      "_view_module": "@jupyter-widgets/base",
      "_view_module_version": "1.2.0",
      "_view_name": "StyleView",
      "description_width": ""
     }
    },
    "160b15b3644a4f6982fd7b6fb016937c": {
     "model_module": "@jupyter-widgets/controls",
     "model_module_version": "1.5.0",
     "model_name": "ProgressStyleModel",
     "state": {
      "_model_module": "@jupyter-widgets/controls",
      "_model_module_version": "1.5.0",
      "_model_name": "ProgressStyleModel",
      "_view_count": null,
      "_view_module": "@jupyter-widgets/base",
      "_view_module_version": "1.2.0",
      "_view_name": "StyleView",
      "bar_color": null,
      "description_width": ""
     }
    },
    "17b7d24166474592be267ab00b81b901": {
     "model_module": "@jupyter-widgets/base",
     "model_module_version": "1.2.0",
     "model_name": "LayoutModel",
     "state": {
      "_model_module": "@jupyter-widgets/base",
      "_model_module_version": "1.2.0",
      "_model_name": "LayoutModel",
      "_view_count": null,
      "_view_module": "@jupyter-widgets/base",
      "_view_module_version": "1.2.0",
      "_view_name": "LayoutView",
      "align_content": null,
      "align_items": null,
      "align_self": null,
      "border": null,
      "bottom": null,
      "display": null,
      "flex": null,
      "flex_flow": null,
      "grid_area": null,
      "grid_auto_columns": null,
      "grid_auto_flow": null,
      "grid_auto_rows": null,
      "grid_column": null,
      "grid_gap": null,
      "grid_row": null,
      "grid_template_areas": null,
      "grid_template_columns": null,
      "grid_template_rows": null,
      "height": null,
      "justify_content": null,
      "justify_items": null,
      "left": null,
      "margin": null,
      "max_height": null,
      "max_width": null,
      "min_height": null,
      "min_width": null,
      "object_fit": null,
      "object_position": null,
      "order": null,
      "overflow": null,
      "overflow_x": null,
      "overflow_y": null,
      "padding": null,
      "right": null,
      "top": null,
      "visibility": null,
      "width": null
     }
    },
    "196f22fbeb8e4ebca3465ce9426f0a91": {
     "model_module": "@jupyter-widgets/controls",
     "model_module_version": "1.5.0",
     "model_name": "DescriptionStyleModel",
     "state": {
      "_model_module": "@jupyter-widgets/controls",
      "_model_module_version": "1.5.0",
      "_model_name": "DescriptionStyleModel",
      "_view_count": null,
      "_view_module": "@jupyter-widgets/base",
      "_view_module_version": "1.2.0",
      "_view_name": "StyleView",
      "description_width": ""
     }
    },
    "1e87f39975e244babbc9b0d4126006b5": {
     "model_module": "@jupyter-widgets/controls",
     "model_module_version": "1.5.0",
     "model_name": "HTMLModel",
     "state": {
      "_dom_classes": [],
      "_model_module": "@jupyter-widgets/controls",
      "_model_module_version": "1.5.0",
      "_model_name": "HTMLModel",
      "_view_count": null,
      "_view_module": "@jupyter-widgets/controls",
      "_view_module_version": "1.5.0",
      "_view_name": "HTMLView",
      "description": "",
      "description_tooltip": null,
      "layout": "IPY_MODEL_8206ddf74b7045c2bc2268a6e74cbf74",
      "placeholder": "​",
      "style": "IPY_MODEL_7e03701acb764927b7dffd040d0e3a53",
      "value": "Downloading pytorch_model.bin: 100%"
     }
    },
    "1f754e63debe4eb0b12520935e61496c": {
     "model_module": "@jupyter-widgets/base",
     "model_module_version": "1.2.0",
     "model_name": "LayoutModel",
     "state": {
      "_model_module": "@jupyter-widgets/base",
      "_model_module_version": "1.2.0",
      "_model_name": "LayoutModel",
      "_view_count": null,
      "_view_module": "@jupyter-widgets/base",
      "_view_module_version": "1.2.0",
      "_view_name": "LayoutView",
      "align_content": null,
      "align_items": null,
      "align_self": null,
      "border": null,
      "bottom": null,
      "display": null,
      "flex": null,
      "flex_flow": null,
      "grid_area": null,
      "grid_auto_columns": null,
      "grid_auto_flow": null,
      "grid_auto_rows": null,
      "grid_column": null,
      "grid_gap": null,
      "grid_row": null,
      "grid_template_areas": null,
      "grid_template_columns": null,
      "grid_template_rows": null,
      "height": null,
      "justify_content": null,
      "justify_items": null,
      "left": null,
      "margin": null,
      "max_height": null,
      "max_width": null,
      "min_height": null,
      "min_width": null,
      "object_fit": null,
      "object_position": null,
      "order": null,
      "overflow": null,
      "overflow_x": null,
      "overflow_y": null,
      "padding": null,
      "right": null,
      "top": null,
      "visibility": null,
      "width": null
     }
    },
    "1ffcec617ecd48feb78ea007cc6d2126": {
     "model_module": "@jupyter-widgets/base",
     "model_module_version": "1.2.0",
     "model_name": "LayoutModel",
     "state": {
      "_model_module": "@jupyter-widgets/base",
      "_model_module_version": "1.2.0",
      "_model_name": "LayoutModel",
      "_view_count": null,
      "_view_module": "@jupyter-widgets/base",
      "_view_module_version": "1.2.0",
      "_view_name": "LayoutView",
      "align_content": null,
      "align_items": null,
      "align_self": null,
      "border": null,
      "bottom": null,
      "display": null,
      "flex": null,
      "flex_flow": null,
      "grid_area": null,
      "grid_auto_columns": null,
      "grid_auto_flow": null,
      "grid_auto_rows": null,
      "grid_column": null,
      "grid_gap": null,
      "grid_row": null,
      "grid_template_areas": null,
      "grid_template_columns": null,
      "grid_template_rows": null,
      "height": null,
      "justify_content": null,
      "justify_items": null,
      "left": null,
      "margin": null,
      "max_height": null,
      "max_width": null,
      "min_height": null,
      "min_width": null,
      "object_fit": null,
      "object_position": null,
      "order": null,
      "overflow": null,
      "overflow_x": null,
      "overflow_y": null,
      "padding": null,
      "right": null,
      "top": null,
      "visibility": null,
      "width": null
     }
    },
    "231ade3c5401423ca3737fb4293df493": {
     "model_module": "@jupyter-widgets/base",
     "model_module_version": "1.2.0",
     "model_name": "LayoutModel",
     "state": {
      "_model_module": "@jupyter-widgets/base",
      "_model_module_version": "1.2.0",
      "_model_name": "LayoutModel",
      "_view_count": null,
      "_view_module": "@jupyter-widgets/base",
      "_view_module_version": "1.2.0",
      "_view_name": "LayoutView",
      "align_content": null,
      "align_items": null,
      "align_self": null,
      "border": null,
      "bottom": null,
      "display": null,
      "flex": null,
      "flex_flow": null,
      "grid_area": null,
      "grid_auto_columns": null,
      "grid_auto_flow": null,
      "grid_auto_rows": null,
      "grid_column": null,
      "grid_gap": null,
      "grid_row": null,
      "grid_template_areas": null,
      "grid_template_columns": null,
      "grid_template_rows": null,
      "height": null,
      "justify_content": null,
      "justify_items": null,
      "left": null,
      "margin": null,
      "max_height": null,
      "max_width": null,
      "min_height": null,
      "min_width": null,
      "object_fit": null,
      "object_position": null,
      "order": null,
      "overflow": null,
      "overflow_x": null,
      "overflow_y": null,
      "padding": null,
      "right": null,
      "top": null,
      "visibility": null,
      "width": null
     }
    },
    "243f334f2dd8437ab63335c885d7720d": {
     "model_module": "@jupyter-widgets/controls",
     "model_module_version": "1.5.0",
     "model_name": "HTMLModel",
     "state": {
      "_dom_classes": [],
      "_model_module": "@jupyter-widgets/controls",
      "_model_module_version": "1.5.0",
      "_model_name": "HTMLModel",
      "_view_count": null,
      "_view_module": "@jupyter-widgets/controls",
      "_view_module_version": "1.5.0",
      "_view_name": "HTMLView",
      "description": "",
      "description_tooltip": null,
      "layout": "IPY_MODEL_17b7d24166474592be267ab00b81b901",
      "placeholder": "​",
      "style": "IPY_MODEL_f9dc88af7bc14440bd184218bdd9e863",
      "value": "100%"
     }
    },
    "2bc3189cd540400e8f8d56f5b049f4ea": {
     "model_module": "@jupyter-widgets/base",
     "model_module_version": "1.2.0",
     "model_name": "LayoutModel",
     "state": {
      "_model_module": "@jupyter-widgets/base",
      "_model_module_version": "1.2.0",
      "_model_name": "LayoutModel",
      "_view_count": null,
      "_view_module": "@jupyter-widgets/base",
      "_view_module_version": "1.2.0",
      "_view_name": "LayoutView",
      "align_content": null,
      "align_items": null,
      "align_self": null,
      "border": null,
      "bottom": null,
      "display": null,
      "flex": null,
      "flex_flow": null,
      "grid_area": null,
      "grid_auto_columns": null,
      "grid_auto_flow": null,
      "grid_auto_rows": null,
      "grid_column": null,
      "grid_gap": null,
      "grid_row": null,
      "grid_template_areas": null,
      "grid_template_columns": null,
      "grid_template_rows": null,
      "height": null,
      "justify_content": null,
      "justify_items": null,
      "left": null,
      "margin": null,
      "max_height": null,
      "max_width": null,
      "min_height": null,
      "min_width": null,
      "object_fit": null,
      "object_position": null,
      "order": null,
      "overflow": null,
      "overflow_x": null,
      "overflow_y": null,
      "padding": null,
      "right": null,
      "top": null,
      "visibility": null,
      "width": null
     }
    },
    "2f20ae7e6ef148519fc4dcdb7bc2b658": {
     "model_module": "@jupyter-widgets/base",
     "model_module_version": "1.2.0",
     "model_name": "LayoutModel",
     "state": {
      "_model_module": "@jupyter-widgets/base",
      "_model_module_version": "1.2.0",
      "_model_name": "LayoutModel",
      "_view_count": null,
      "_view_module": "@jupyter-widgets/base",
      "_view_module_version": "1.2.0",
      "_view_name": "LayoutView",
      "align_content": null,
      "align_items": null,
      "align_self": null,
      "border": null,
      "bottom": null,
      "display": null,
      "flex": null,
      "flex_flow": null,
      "grid_area": null,
      "grid_auto_columns": null,
      "grid_auto_flow": null,
      "grid_auto_rows": null,
      "grid_column": null,
      "grid_gap": null,
      "grid_row": null,
      "grid_template_areas": null,
      "grid_template_columns": null,
      "grid_template_rows": null,
      "height": null,
      "justify_content": null,
      "justify_items": null,
      "left": null,
      "margin": null,
      "max_height": null,
      "max_width": null,
      "min_height": null,
      "min_width": null,
      "object_fit": null,
      "object_position": null,
      "order": null,
      "overflow": null,
      "overflow_x": null,
      "overflow_y": null,
      "padding": null,
      "right": null,
      "top": null,
      "visibility": null,
      "width": null
     }
    },
    "328c76630ee34accb64d7062b3ebedec": {
     "model_module": "@jupyter-widgets/controls",
     "model_module_version": "1.5.0",
     "model_name": "HTMLModel",
     "state": {
      "_dom_classes": [],
      "_model_module": "@jupyter-widgets/controls",
      "_model_module_version": "1.5.0",
      "_model_name": "HTMLModel",
      "_view_count": null,
      "_view_module": "@jupyter-widgets/controls",
      "_view_module_version": "1.5.0",
      "_view_name": "HTMLView",
      "description": "",
      "description_tooltip": null,
      "layout": "IPY_MODEL_b02e4aba6bc8463f8ec424e95667a04b",
      "placeholder": "​",
      "style": "IPY_MODEL_8a8d1a7eaa2f41879bda282069be030d",
      "value": "Downloading (…)solve/main/vocab.txt: 100%"
     }
    },
    "370b863b17604cc09cc761b2b65d06e5": {
     "model_module": "@jupyter-widgets/controls",
     "model_module_version": "1.5.0",
     "model_name": "DescriptionStyleModel",
     "state": {
      "_model_module": "@jupyter-widgets/controls",
      "_model_module_version": "1.5.0",
      "_model_name": "DescriptionStyleModel",
      "_view_count": null,
      "_view_module": "@jupyter-widgets/base",
      "_view_module_version": "1.2.0",
      "_view_name": "StyleView",
      "description_width": ""
     }
    },
    "39c29ba7ed78445f8152db6bdbba7671": {
     "model_module": "@jupyter-widgets/controls",
     "model_module_version": "1.5.0",
     "model_name": "HTMLModel",
     "state": {
      "_dom_classes": [],
      "_model_module": "@jupyter-widgets/controls",
      "_model_module_version": "1.5.0",
      "_model_name": "HTMLModel",
      "_view_count": null,
      "_view_module": "@jupyter-widgets/controls",
      "_view_module_version": "1.5.0",
      "_view_name": "HTMLView",
      "description": "",
      "description_tooltip": null,
      "layout": "IPY_MODEL_ef2b947cf7a548dcbdde98478be91ea3",
      "placeholder": "​",
      "style": "IPY_MODEL_44b517a81f0b42fda892bf8b8b2a845f",
      "value": "Downloading (…)okenizer_config.json: 100%"
     }
    },
    "3cd671e4b8a847fe81d4d22652484975": {
     "model_module": "@jupyter-widgets/controls",
     "model_module_version": "1.5.0",
     "model_name": "HTMLModel",
     "state": {
      "_dom_classes": [],
      "_model_module": "@jupyter-widgets/controls",
      "_model_module_version": "1.5.0",
      "_model_name": "HTMLModel",
      "_view_count": null,
      "_view_module": "@jupyter-widgets/controls",
      "_view_module_version": "1.5.0",
      "_view_name": "HTMLView",
      "description": "",
      "description_tooltip": null,
      "layout": "IPY_MODEL_7f3bbec699c04e0ab6d6a5105985ad58",
      "placeholder": "​",
      "style": "IPY_MODEL_7c024a12c8c14d8f83af0690c7f05462",
      "value": " 30/30 [01:27&lt;00:00,  2.88s/it]"
     }
    },
    "3fc1b62596f94c0cb7b45a85d9053b84": {
     "model_module": "@jupyter-widgets/controls",
     "model_module_version": "1.5.0",
     "model_name": "HBoxModel",
     "state": {
      "_dom_classes": [],
      "_model_module": "@jupyter-widgets/controls",
      "_model_module_version": "1.5.0",
      "_model_name": "HBoxModel",
      "_view_count": null,
      "_view_module": "@jupyter-widgets/controls",
      "_view_module_version": "1.5.0",
      "_view_name": "HBoxView",
      "box_style": "",
      "children": [
       "IPY_MODEL_39c29ba7ed78445f8152db6bdbba7671",
       "IPY_MODEL_841afb5a08e54d56a00d0d8c5fe16428",
       "IPY_MODEL_57770e009d184b32a8abb9d38b7aec64"
      ],
      "layout": "IPY_MODEL_1ffcec617ecd48feb78ea007cc6d2126"
     }
    },
    "44b517a81f0b42fda892bf8b8b2a845f": {
     "model_module": "@jupyter-widgets/controls",
     "model_module_version": "1.5.0",
     "model_name": "DescriptionStyleModel",
     "state": {
      "_model_module": "@jupyter-widgets/controls",
      "_model_module_version": "1.5.0",
      "_model_name": "DescriptionStyleModel",
      "_view_count": null,
      "_view_module": "@jupyter-widgets/base",
      "_view_module_version": "1.2.0",
      "_view_name": "StyleView",
      "description_width": ""
     }
    },
    "47c5e6bd3bd04d33ba6c916b272663d3": {
     "model_module": "@jupyter-widgets/controls",
     "model_module_version": "1.5.0",
     "model_name": "FloatProgressModel",
     "state": {
      "_dom_classes": [],
      "_model_module": "@jupyter-widgets/controls",
      "_model_module_version": "1.5.0",
      "_model_name": "FloatProgressModel",
      "_view_count": null,
      "_view_module": "@jupyter-widgets/controls",
      "_view_module_version": "1.5.0",
      "_view_name": "ProgressView",
      "bar_style": "success",
      "description": "",
      "description_tooltip": null,
      "layout": "IPY_MODEL_f4e4d4c5e3264ffea6f4af64a893ba26",
      "max": 30,
      "min": 0,
      "orientation": "horizontal",
      "style": "IPY_MODEL_938a0a1658b14e7db63e86e83de2a59a",
      "value": 30
     }
    },
    "57770e009d184b32a8abb9d38b7aec64": {
     "model_module": "@jupyter-widgets/controls",
     "model_module_version": "1.5.0",
     "model_name": "HTMLModel",
     "state": {
      "_dom_classes": [],
      "_model_module": "@jupyter-widgets/controls",
      "_model_module_version": "1.5.0",
      "_model_name": "HTMLModel",
      "_view_count": null,
      "_view_module": "@jupyter-widgets/controls",
      "_view_module_version": "1.5.0",
      "_view_name": "HTMLView",
      "description": "",
      "description_tooltip": null,
      "layout": "IPY_MODEL_d5b9eb002f7a43b4bd95ddd39091a41c",
      "placeholder": "​",
      "style": "IPY_MODEL_862b438b78da428ba49ef6c68de10322",
      "value": " 174/174 [00:00&lt;00:00, 9.57kB/s]"
     }
    },
    "5c882ce6751346d490618bca3ed97793": {
     "model_module": "@jupyter-widgets/controls",
     "model_module_version": "1.5.0",
     "model_name": "HBoxModel",
     "state": {
      "_dom_classes": [],
      "_model_module": "@jupyter-widgets/controls",
      "_model_module_version": "1.5.0",
      "_model_name": "HBoxModel",
      "_view_count": null,
      "_view_module": "@jupyter-widgets/controls",
      "_view_module_version": "1.5.0",
      "_view_name": "HBoxView",
      "box_style": "",
      "children": [
       "IPY_MODEL_75730adb43ec49f8a3979b96f14e6dd7",
       "IPY_MODEL_ef82a087738f4138b287b8e840692db8",
       "IPY_MODEL_83ed21bf9be847cb976651214aacbd6f"
      ],
      "layout": "IPY_MODEL_231ade3c5401423ca3737fb4293df493"
     }
    },
    "5f08e2a2d73f466a9a1f4780d0fdaae0": {
     "model_module": "@jupyter-widgets/base",
     "model_module_version": "1.2.0",
     "model_name": "LayoutModel",
     "state": {
      "_model_module": "@jupyter-widgets/base",
      "_model_module_version": "1.2.0",
      "_model_name": "LayoutModel",
      "_view_count": null,
      "_view_module": "@jupyter-widgets/base",
      "_view_module_version": "1.2.0",
      "_view_name": "LayoutView",
      "align_content": null,
      "align_items": null,
      "align_self": null,
      "border": null,
      "bottom": null,
      "display": null,
      "flex": null,
      "flex_flow": null,
      "grid_area": null,
      "grid_auto_columns": null,
      "grid_auto_flow": null,
      "grid_auto_rows": null,
      "grid_column": null,
      "grid_gap": null,
      "grid_row": null,
      "grid_template_areas": null,
      "grid_template_columns": null,
      "grid_template_rows": null,
      "height": null,
      "justify_content": null,
      "justify_items": null,
      "left": null,
      "margin": null,
      "max_height": null,
      "max_width": null,
      "min_height": null,
      "min_width": null,
      "object_fit": null,
      "object_position": null,
      "order": null,
      "overflow": null,
      "overflow_x": null,
      "overflow_y": null,
      "padding": null,
      "right": null,
      "top": null,
      "visibility": null,
      "width": null
     }
    },
    "619d67a3ff894fcdb67d023276fb0e82": {
     "model_module": "@jupyter-widgets/base",
     "model_module_version": "1.2.0",
     "model_name": "LayoutModel",
     "state": {
      "_model_module": "@jupyter-widgets/base",
      "_model_module_version": "1.2.0",
      "_model_name": "LayoutModel",
      "_view_count": null,
      "_view_module": "@jupyter-widgets/base",
      "_view_module_version": "1.2.0",
      "_view_name": "LayoutView",
      "align_content": null,
      "align_items": null,
      "align_self": null,
      "border": null,
      "bottom": null,
      "display": null,
      "flex": null,
      "flex_flow": null,
      "grid_area": null,
      "grid_auto_columns": null,
      "grid_auto_flow": null,
      "grid_auto_rows": null,
      "grid_column": null,
      "grid_gap": null,
      "grid_row": null,
      "grid_template_areas": null,
      "grid_template_columns": null,
      "grid_template_rows": null,
      "height": null,
      "justify_content": null,
      "justify_items": null,
      "left": null,
      "margin": null,
      "max_height": null,
      "max_width": null,
      "min_height": null,
      "min_width": null,
      "object_fit": null,
      "object_position": null,
      "order": null,
      "overflow": null,
      "overflow_x": null,
      "overflow_y": null,
      "padding": null,
      "right": null,
      "top": null,
      "visibility": null,
      "width": null
     }
    },
    "632728a5639d4d40860457b145fea08b": {
     "model_module": "@jupyter-widgets/base",
     "model_module_version": "1.2.0",
     "model_name": "LayoutModel",
     "state": {
      "_model_module": "@jupyter-widgets/base",
      "_model_module_version": "1.2.0",
      "_model_name": "LayoutModel",
      "_view_count": null,
      "_view_module": "@jupyter-widgets/base",
      "_view_module_version": "1.2.0",
      "_view_name": "LayoutView",
      "align_content": null,
      "align_items": null,
      "align_self": null,
      "border": null,
      "bottom": null,
      "display": null,
      "flex": null,
      "flex_flow": null,
      "grid_area": null,
      "grid_auto_columns": null,
      "grid_auto_flow": null,
      "grid_auto_rows": null,
      "grid_column": null,
      "grid_gap": null,
      "grid_row": null,
      "grid_template_areas": null,
      "grid_template_columns": null,
      "grid_template_rows": null,
      "height": null,
      "justify_content": null,
      "justify_items": null,
      "left": null,
      "margin": null,
      "max_height": null,
      "max_width": null,
      "min_height": null,
      "min_width": null,
      "object_fit": null,
      "object_position": null,
      "order": null,
      "overflow": null,
      "overflow_x": null,
      "overflow_y": null,
      "padding": null,
      "right": null,
      "top": null,
      "visibility": null,
      "width": null
     }
    },
    "651f582e85c54460addb390a8091baf5": {
     "model_module": "@jupyter-widgets/base",
     "model_module_version": "1.2.0",
     "model_name": "LayoutModel",
     "state": {
      "_model_module": "@jupyter-widgets/base",
      "_model_module_version": "1.2.0",
      "_model_name": "LayoutModel",
      "_view_count": null,
      "_view_module": "@jupyter-widgets/base",
      "_view_module_version": "1.2.0",
      "_view_name": "LayoutView",
      "align_content": null,
      "align_items": null,
      "align_self": null,
      "border": null,
      "bottom": null,
      "display": null,
      "flex": null,
      "flex_flow": null,
      "grid_area": null,
      "grid_auto_columns": null,
      "grid_auto_flow": null,
      "grid_auto_rows": null,
      "grid_column": null,
      "grid_gap": null,
      "grid_row": null,
      "grid_template_areas": null,
      "grid_template_columns": null,
      "grid_template_rows": null,
      "height": null,
      "justify_content": null,
      "justify_items": null,
      "left": null,
      "margin": null,
      "max_height": null,
      "max_width": null,
      "min_height": null,
      "min_width": null,
      "object_fit": null,
      "object_position": null,
      "order": null,
      "overflow": null,
      "overflow_x": null,
      "overflow_y": null,
      "padding": null,
      "right": null,
      "top": null,
      "visibility": null,
      "width": null
     }
    },
    "6f3e61636d6d490dbd1475da790c15a4": {
     "model_module": "@jupyter-widgets/controls",
     "model_module_version": "1.5.0",
     "model_name": "FloatProgressModel",
     "state": {
      "_dom_classes": [],
      "_model_module": "@jupyter-widgets/controls",
      "_model_module_version": "1.5.0",
      "_model_name": "FloatProgressModel",
      "_view_count": null,
      "_view_module": "@jupyter-widgets/controls",
      "_view_module_version": "1.5.0",
      "_view_name": "ProgressView",
      "bar_style": "success",
      "description": "",
      "description_tooltip": null,
      "layout": "IPY_MODEL_5f08e2a2d73f466a9a1f4780d0fdaae0",
      "max": 811,
      "min": 0,
      "orientation": "horizontal",
      "style": "IPY_MODEL_a83b2fbf176d4286b792854721d308c0",
      "value": 811
     }
    },
    "74176838cbac448092affed844da3103": {
     "model_module": "@jupyter-widgets/controls",
     "model_module_version": "1.5.0",
     "model_name": "DescriptionStyleModel",
     "state": {
      "_model_module": "@jupyter-widgets/controls",
      "_model_module_version": "1.5.0",
      "_model_name": "DescriptionStyleModel",
      "_view_count": null,
      "_view_module": "@jupyter-widgets/base",
      "_view_module_version": "1.2.0",
      "_view_name": "StyleView",
      "description_width": ""
     }
    },
    "75730adb43ec49f8a3979b96f14e6dd7": {
     "model_module": "@jupyter-widgets/controls",
     "model_module_version": "1.5.0",
     "model_name": "HTMLModel",
     "state": {
      "_dom_classes": [],
      "_model_module": "@jupyter-widgets/controls",
      "_model_module_version": "1.5.0",
      "_model_name": "HTMLModel",
      "_view_count": null,
      "_view_module": "@jupyter-widgets/controls",
      "_view_module_version": "1.5.0",
      "_view_name": "HTMLView",
      "description": "",
      "description_tooltip": null,
      "layout": "IPY_MODEL_8784f1caceef41b288a9aa24aca01c2c",
      "placeholder": "​",
      "style": "IPY_MODEL_ebd0415a3588420dba90e53e16ab9540",
      "value": "Downloading (…)cial_tokens_map.json: 100%"
     }
    },
    "7bb911b5d9bb4e2ca43b238c66113171": {
     "model_module": "@jupyter-widgets/controls",
     "model_module_version": "1.5.0",
     "model_name": "FloatProgressModel",
     "state": {
      "_dom_classes": [],
      "_model_module": "@jupyter-widgets/controls",
      "_model_module_version": "1.5.0",
      "_model_name": "FloatProgressModel",
      "_view_count": null,
      "_view_module": "@jupyter-widgets/controls",
      "_view_module_version": "1.5.0",
      "_view_name": "ProgressView",
      "bar_style": "success",
      "description": "",
      "description_tooltip": null,
      "layout": "IPY_MODEL_15bd0e16b71f4c37934dfd78a4a40ba9",
      "max": 231508,
      "min": 0,
      "orientation": "horizontal",
      "style": "IPY_MODEL_f6dc726ea4964bcba5bcd72a3a13f394",
      "value": 231508
     }
    },
    "7c024a12c8c14d8f83af0690c7f05462": {
     "model_module": "@jupyter-widgets/controls",
     "model_module_version": "1.5.0",
     "model_name": "DescriptionStyleModel",
     "state": {
      "_model_module": "@jupyter-widgets/controls",
      "_model_module_version": "1.5.0",
      "_model_name": "DescriptionStyleModel",
      "_view_count": null,
      "_view_module": "@jupyter-widgets/base",
      "_view_module_version": "1.2.0",
      "_view_name": "StyleView",
      "description_width": ""
     }
    },
    "7dc451ceeea847e9808bfdd22aac996b": {
     "model_module": "@jupyter-widgets/controls",
     "model_module_version": "1.5.0",
     "model_name": "FloatProgressModel",
     "state": {
      "_dom_classes": [],
      "_model_module": "@jupyter-widgets/controls",
      "_model_module_version": "1.5.0",
      "_model_name": "FloatProgressModel",
      "_view_count": null,
      "_view_module": "@jupyter-widgets/controls",
      "_view_module_version": "1.5.0",
      "_view_name": "ProgressView",
      "bar_style": "success",
      "description": "",
      "description_tooltip": null,
      "layout": "IPY_MODEL_2bc3189cd540400e8f8d56f5b049f4ea",
      "max": 438033929,
      "min": 0,
      "orientation": "horizontal",
      "style": "IPY_MODEL_7ff8c831f401418cbe4e9d8d38b9af6a",
      "value": 438033929
     }
    },
    "7e03701acb764927b7dffd040d0e3a53": {
     "model_module": "@jupyter-widgets/controls",
     "model_module_version": "1.5.0",
     "model_name": "DescriptionStyleModel",
     "state": {
      "_model_module": "@jupyter-widgets/controls",
      "_model_module_version": "1.5.0",
      "_model_name": "DescriptionStyleModel",
      "_view_count": null,
      "_view_module": "@jupyter-widgets/base",
      "_view_module_version": "1.2.0",
      "_view_name": "StyleView",
      "description_width": ""
     }
    },
    "7f3bbec699c04e0ab6d6a5105985ad58": {
     "model_module": "@jupyter-widgets/base",
     "model_module_version": "1.2.0",
     "model_name": "LayoutModel",
     "state": {
      "_model_module": "@jupyter-widgets/base",
      "_model_module_version": "1.2.0",
      "_model_name": "LayoutModel",
      "_view_count": null,
      "_view_module": "@jupyter-widgets/base",
      "_view_module_version": "1.2.0",
      "_view_name": "LayoutView",
      "align_content": null,
      "align_items": null,
      "align_self": null,
      "border": null,
      "bottom": null,
      "display": null,
      "flex": null,
      "flex_flow": null,
      "grid_area": null,
      "grid_auto_columns": null,
      "grid_auto_flow": null,
      "grid_auto_rows": null,
      "grid_column": null,
      "grid_gap": null,
      "grid_row": null,
      "grid_template_areas": null,
      "grid_template_columns": null,
      "grid_template_rows": null,
      "height": null,
      "justify_content": null,
      "justify_items": null,
      "left": null,
      "margin": null,
      "max_height": null,
      "max_width": null,
      "min_height": null,
      "min_width": null,
      "object_fit": null,
      "object_position": null,
      "order": null,
      "overflow": null,
      "overflow_x": null,
      "overflow_y": null,
      "padding": null,
      "right": null,
      "top": null,
      "visibility": null,
      "width": null
     }
    },
    "7ff8c831f401418cbe4e9d8d38b9af6a": {
     "model_module": "@jupyter-widgets/controls",
     "model_module_version": "1.5.0",
     "model_name": "ProgressStyleModel",
     "state": {
      "_model_module": "@jupyter-widgets/controls",
      "_model_module_version": "1.5.0",
      "_model_name": "ProgressStyleModel",
      "_view_count": null,
      "_view_module": "@jupyter-widgets/base",
      "_view_module_version": "1.2.0",
      "_view_name": "StyleView",
      "bar_color": null,
      "description_width": ""
     }
    },
    "80a5cb2706f2469d88e1c0d25b778337": {
     "model_module": "@jupyter-widgets/controls",
     "model_module_version": "1.5.0",
     "model_name": "HTMLModel",
     "state": {
      "_dom_classes": [],
      "_model_module": "@jupyter-widgets/controls",
      "_model_module_version": "1.5.0",
      "_model_name": "HTMLModel",
      "_view_count": null,
      "_view_module": "@jupyter-widgets/controls",
      "_view_module_version": "1.5.0",
      "_view_name": "HTMLView",
      "description": "",
      "description_tooltip": null,
      "layout": "IPY_MODEL_c70841946d5e426e9b22d3dd777e4efb",
      "placeholder": "​",
      "style": "IPY_MODEL_15c7a3bd6f1244bab0b60381f4c2b238",
      "value": " 438M/438M [00:01&lt;00:00, 236MB/s]"
     }
    },
    "8206ddf74b7045c2bc2268a6e74cbf74": {
     "model_module": "@jupyter-widgets/base",
     "model_module_version": "1.2.0",
     "model_name": "LayoutModel",
     "state": {
      "_model_module": "@jupyter-widgets/base",
      "_model_module_version": "1.2.0",
      "_model_name": "LayoutModel",
      "_view_count": null,
      "_view_module": "@jupyter-widgets/base",
      "_view_module_version": "1.2.0",
      "_view_name": "LayoutView",
      "align_content": null,
      "align_items": null,
      "align_self": null,
      "border": null,
      "bottom": null,
      "display": null,
      "flex": null,
      "flex_flow": null,
      "grid_area": null,
      "grid_auto_columns": null,
      "grid_auto_flow": null,
      "grid_auto_rows": null,
      "grid_column": null,
      "grid_gap": null,
      "grid_row": null,
      "grid_template_areas": null,
      "grid_template_columns": null,
      "grid_template_rows": null,
      "height": null,
      "justify_content": null,
      "justify_items": null,
      "left": null,
      "margin": null,
      "max_height": null,
      "max_width": null,
      "min_height": null,
      "min_width": null,
      "object_fit": null,
      "object_position": null,
      "order": null,
      "overflow": null,
      "overflow_x": null,
      "overflow_y": null,
      "padding": null,
      "right": null,
      "top": null,
      "visibility": null,
      "width": null
     }
    },
    "83ed21bf9be847cb976651214aacbd6f": {
     "model_module": "@jupyter-widgets/controls",
     "model_module_version": "1.5.0",
     "model_name": "HTMLModel",
     "state": {
      "_dom_classes": [],
      "_model_module": "@jupyter-widgets/controls",
      "_model_module_version": "1.5.0",
      "_model_name": "HTMLModel",
      "_view_count": null,
      "_view_module": "@jupyter-widgets/controls",
      "_view_module_version": "1.5.0",
      "_view_name": "HTMLView",
      "description": "",
      "description_tooltip": null,
      "layout": "IPY_MODEL_9f551c56d99345d78c6fb5f0f4c2d1ae",
      "placeholder": "​",
      "style": "IPY_MODEL_370b863b17604cc09cc761b2b65d06e5",
      "value": " 112/112 [00:00&lt;00:00, 8.45kB/s]"
     }
    },
    "841afb5a08e54d56a00d0d8c5fe16428": {
     "model_module": "@jupyter-widgets/controls",
     "model_module_version": "1.5.0",
     "model_name": "FloatProgressModel",
     "state": {
      "_dom_classes": [],
      "_model_module": "@jupyter-widgets/controls",
      "_model_module_version": "1.5.0",
      "_model_name": "FloatProgressModel",
      "_view_count": null,
      "_view_module": "@jupyter-widgets/controls",
      "_view_module_version": "1.5.0",
      "_view_name": "ProgressView",
      "bar_style": "success",
      "description": "",
      "description_tooltip": null,
      "layout": "IPY_MODEL_84be33d4a45e4c6089dd7cfe9cc3cacc",
      "max": 174,
      "min": 0,
      "orientation": "horizontal",
      "style": "IPY_MODEL_aa1f539af2bb449ab1681bde4a7e6cad",
      "value": 174
     }
    },
    "84be33d4a45e4c6089dd7cfe9cc3cacc": {
     "model_module": "@jupyter-widgets/base",
     "model_module_version": "1.2.0",
     "model_name": "LayoutModel",
     "state": {
      "_model_module": "@jupyter-widgets/base",
      "_model_module_version": "1.2.0",
      "_model_name": "LayoutModel",
      "_view_count": null,
      "_view_module": "@jupyter-widgets/base",
      "_view_module_version": "1.2.0",
      "_view_name": "LayoutView",
      "align_content": null,
      "align_items": null,
      "align_self": null,
      "border": null,
      "bottom": null,
      "display": null,
      "flex": null,
      "flex_flow": null,
      "grid_area": null,
      "grid_auto_columns": null,
      "grid_auto_flow": null,
      "grid_auto_rows": null,
      "grid_column": null,
      "grid_gap": null,
      "grid_row": null,
      "grid_template_areas": null,
      "grid_template_columns": null,
      "grid_template_rows": null,
      "height": null,
      "justify_content": null,
      "justify_items": null,
      "left": null,
      "margin": null,
      "max_height": null,
      "max_width": null,
      "min_height": null,
      "min_width": null,
      "object_fit": null,
      "object_position": null,
      "order": null,
      "overflow": null,
      "overflow_x": null,
      "overflow_y": null,
      "padding": null,
      "right": null,
      "top": null,
      "visibility": null,
      "width": null
     }
    },
    "862b438b78da428ba49ef6c68de10322": {
     "model_module": "@jupyter-widgets/controls",
     "model_module_version": "1.5.0",
     "model_name": "DescriptionStyleModel",
     "state": {
      "_model_module": "@jupyter-widgets/controls",
      "_model_module_version": "1.5.0",
      "_model_name": "DescriptionStyleModel",
      "_view_count": null,
      "_view_module": "@jupyter-widgets/base",
      "_view_module_version": "1.2.0",
      "_view_name": "StyleView",
      "description_width": ""
     }
    },
    "8784f1caceef41b288a9aa24aca01c2c": {
     "model_module": "@jupyter-widgets/base",
     "model_module_version": "1.2.0",
     "model_name": "LayoutModel",
     "state": {
      "_model_module": "@jupyter-widgets/base",
      "_model_module_version": "1.2.0",
      "_model_name": "LayoutModel",
      "_view_count": null,
      "_view_module": "@jupyter-widgets/base",
      "_view_module_version": "1.2.0",
      "_view_name": "LayoutView",
      "align_content": null,
      "align_items": null,
      "align_self": null,
      "border": null,
      "bottom": null,
      "display": null,
      "flex": null,
      "flex_flow": null,
      "grid_area": null,
      "grid_auto_columns": null,
      "grid_auto_flow": null,
      "grid_auto_rows": null,
      "grid_column": null,
      "grid_gap": null,
      "grid_row": null,
      "grid_template_areas": null,
      "grid_template_columns": null,
      "grid_template_rows": null,
      "height": null,
      "justify_content": null,
      "justify_items": null,
      "left": null,
      "margin": null,
      "max_height": null,
      "max_width": null,
      "min_height": null,
      "min_width": null,
      "object_fit": null,
      "object_position": null,
      "order": null,
      "overflow": null,
      "overflow_x": null,
      "overflow_y": null,
      "padding": null,
      "right": null,
      "top": null,
      "visibility": null,
      "width": null
     }
    },
    "8a8d1a7eaa2f41879bda282069be030d": {
     "model_module": "@jupyter-widgets/controls",
     "model_module_version": "1.5.0",
     "model_name": "DescriptionStyleModel",
     "state": {
      "_model_module": "@jupyter-widgets/controls",
      "_model_module_version": "1.5.0",
      "_model_name": "DescriptionStyleModel",
      "_view_count": null,
      "_view_module": "@jupyter-widgets/base",
      "_view_module_version": "1.2.0",
      "_view_name": "StyleView",
      "description_width": ""
     }
    },
    "902a4645972e4c7d9d179ddfa67276b3": {
     "model_module": "@jupyter-widgets/controls",
     "model_module_version": "1.5.0",
     "model_name": "HBoxModel",
     "state": {
      "_dom_classes": [],
      "_model_module": "@jupyter-widgets/controls",
      "_model_module_version": "1.5.0",
      "_model_name": "HBoxModel",
      "_view_count": null,
      "_view_module": "@jupyter-widgets/controls",
      "_view_module_version": "1.5.0",
      "_view_name": "HBoxView",
      "box_style": "",
      "children": [
       "IPY_MODEL_243f334f2dd8437ab63335c885d7720d",
       "IPY_MODEL_47c5e6bd3bd04d33ba6c916b272663d3",
       "IPY_MODEL_3cd671e4b8a847fe81d4d22652484975"
      ],
      "layout": "IPY_MODEL_1f754e63debe4eb0b12520935e61496c"
     }
    },
    "938a0a1658b14e7db63e86e83de2a59a": {
     "model_module": "@jupyter-widgets/controls",
     "model_module_version": "1.5.0",
     "model_name": "ProgressStyleModel",
     "state": {
      "_model_module": "@jupyter-widgets/controls",
      "_model_module_version": "1.5.0",
      "_model_name": "ProgressStyleModel",
      "_view_count": null,
      "_view_module": "@jupyter-widgets/base",
      "_view_module_version": "1.2.0",
      "_view_name": "StyleView",
      "bar_color": null,
      "description_width": ""
     }
    },
    "9f551c56d99345d78c6fb5f0f4c2d1ae": {
     "model_module": "@jupyter-widgets/base",
     "model_module_version": "1.2.0",
     "model_name": "LayoutModel",
     "state": {
      "_model_module": "@jupyter-widgets/base",
      "_model_module_version": "1.2.0",
      "_model_name": "LayoutModel",
      "_view_count": null,
      "_view_module": "@jupyter-widgets/base",
      "_view_module_version": "1.2.0",
      "_view_name": "LayoutView",
      "align_content": null,
      "align_items": null,
      "align_self": null,
      "border": null,
      "bottom": null,
      "display": null,
      "flex": null,
      "flex_flow": null,
      "grid_area": null,
      "grid_auto_columns": null,
      "grid_auto_flow": null,
      "grid_auto_rows": null,
      "grid_column": null,
      "grid_gap": null,
      "grid_row": null,
      "grid_template_areas": null,
      "grid_template_columns": null,
      "grid_template_rows": null,
      "height": null,
      "justify_content": null,
      "justify_items": null,
      "left": null,
      "margin": null,
      "max_height": null,
      "max_width": null,
      "min_height": null,
      "min_width": null,
      "object_fit": null,
      "object_position": null,
      "order": null,
      "overflow": null,
      "overflow_x": null,
      "overflow_y": null,
      "padding": null,
      "right": null,
      "top": null,
      "visibility": null,
      "width": null
     }
    },
    "a7d4ad29fa164c82983a09f8d4748684": {
     "model_module": "@jupyter-widgets/controls",
     "model_module_version": "1.5.0",
     "model_name": "HTMLModel",
     "state": {
      "_dom_classes": [],
      "_model_module": "@jupyter-widgets/controls",
      "_model_module_version": "1.5.0",
      "_model_name": "HTMLModel",
      "_view_count": null,
      "_view_module": "@jupyter-widgets/controls",
      "_view_module_version": "1.5.0",
      "_view_name": "HTMLView",
      "description": "",
      "description_tooltip": null,
      "layout": "IPY_MODEL_632728a5639d4d40860457b145fea08b",
      "placeholder": "​",
      "style": "IPY_MODEL_196f22fbeb8e4ebca3465ce9426f0a91",
      "value": "Downloading (…)lve/main/config.json: 100%"
     }
    },
    "a83b2fbf176d4286b792854721d308c0": {
     "model_module": "@jupyter-widgets/controls",
     "model_module_version": "1.5.0",
     "model_name": "ProgressStyleModel",
     "state": {
      "_model_module": "@jupyter-widgets/controls",
      "_model_module_version": "1.5.0",
      "_model_name": "ProgressStyleModel",
      "_view_count": null,
      "_view_module": "@jupyter-widgets/base",
      "_view_module_version": "1.2.0",
      "_view_name": "StyleView",
      "bar_color": null,
      "description_width": ""
     }
    },
    "aa1f539af2bb449ab1681bde4a7e6cad": {
     "model_module": "@jupyter-widgets/controls",
     "model_module_version": "1.5.0",
     "model_name": "ProgressStyleModel",
     "state": {
      "_model_module": "@jupyter-widgets/controls",
      "_model_module_version": "1.5.0",
      "_model_name": "ProgressStyleModel",
      "_view_count": null,
      "_view_module": "@jupyter-widgets/base",
      "_view_module_version": "1.2.0",
      "_view_name": "StyleView",
      "bar_color": null,
      "description_width": ""
     }
    },
    "b02e4aba6bc8463f8ec424e95667a04b": {
     "model_module": "@jupyter-widgets/base",
     "model_module_version": "1.2.0",
     "model_name": "LayoutModel",
     "state": {
      "_model_module": "@jupyter-widgets/base",
      "_model_module_version": "1.2.0",
      "_model_name": "LayoutModel",
      "_view_count": null,
      "_view_module": "@jupyter-widgets/base",
      "_view_module_version": "1.2.0",
      "_view_name": "LayoutView",
      "align_content": null,
      "align_items": null,
      "align_self": null,
      "border": null,
      "bottom": null,
      "display": null,
      "flex": null,
      "flex_flow": null,
      "grid_area": null,
      "grid_auto_columns": null,
      "grid_auto_flow": null,
      "grid_auto_rows": null,
      "grid_column": null,
      "grid_gap": null,
      "grid_row": null,
      "grid_template_areas": null,
      "grid_template_columns": null,
      "grid_template_rows": null,
      "height": null,
      "justify_content": null,
      "justify_items": null,
      "left": null,
      "margin": null,
      "max_height": null,
      "max_width": null,
      "min_height": null,
      "min_width": null,
      "object_fit": null,
      "object_position": null,
      "order": null,
      "overflow": null,
      "overflow_x": null,
      "overflow_y": null,
      "padding": null,
      "right": null,
      "top": null,
      "visibility": null,
      "width": null
     }
    },
    "b086adaa9c254790800120e404a88a06": {
     "model_module": "@jupyter-widgets/base",
     "model_module_version": "1.2.0",
     "model_name": "LayoutModel",
     "state": {
      "_model_module": "@jupyter-widgets/base",
      "_model_module_version": "1.2.0",
      "_model_name": "LayoutModel",
      "_view_count": null,
      "_view_module": "@jupyter-widgets/base",
      "_view_module_version": "1.2.0",
      "_view_name": "LayoutView",
      "align_content": null,
      "align_items": null,
      "align_self": null,
      "border": null,
      "bottom": null,
      "display": null,
      "flex": null,
      "flex_flow": null,
      "grid_area": null,
      "grid_auto_columns": null,
      "grid_auto_flow": null,
      "grid_auto_rows": null,
      "grid_column": null,
      "grid_gap": null,
      "grid_row": null,
      "grid_template_areas": null,
      "grid_template_columns": null,
      "grid_template_rows": null,
      "height": null,
      "justify_content": null,
      "justify_items": null,
      "left": null,
      "margin": null,
      "max_height": null,
      "max_width": null,
      "min_height": null,
      "min_width": null,
      "object_fit": null,
      "object_position": null,
      "order": null,
      "overflow": null,
      "overflow_x": null,
      "overflow_y": null,
      "padding": null,
      "right": null,
      "top": null,
      "visibility": null,
      "width": null
     }
    },
    "b5549306818744ad887ddcd24a07728f": {
     "model_module": "@jupyter-widgets/controls",
     "model_module_version": "1.5.0",
     "model_name": "HTMLModel",
     "state": {
      "_dom_classes": [],
      "_model_module": "@jupyter-widgets/controls",
      "_model_module_version": "1.5.0",
      "_model_name": "HTMLModel",
      "_view_count": null,
      "_view_module": "@jupyter-widgets/controls",
      "_view_module_version": "1.5.0",
      "_view_name": "HTMLView",
      "description": "",
      "description_tooltip": null,
      "layout": "IPY_MODEL_651f582e85c54460addb390a8091baf5",
      "placeholder": "​",
      "style": "IPY_MODEL_ff3559a5c60947899ab5929d2f418ee0",
      "value": " 811/811 [00:00&lt;00:00, 49.9kB/s]"
     }
    },
    "bb298539d6424106ab182132a348458e": {
     "model_module": "@jupyter-widgets/base",
     "model_module_version": "1.2.0",
     "model_name": "LayoutModel",
     "state": {
      "_model_module": "@jupyter-widgets/base",
      "_model_module_version": "1.2.0",
      "_model_name": "LayoutModel",
      "_view_count": null,
      "_view_module": "@jupyter-widgets/base",
      "_view_module_version": "1.2.0",
      "_view_name": "LayoutView",
      "align_content": null,
      "align_items": null,
      "align_self": null,
      "border": null,
      "bottom": null,
      "display": null,
      "flex": null,
      "flex_flow": null,
      "grid_area": null,
      "grid_auto_columns": null,
      "grid_auto_flow": null,
      "grid_auto_rows": null,
      "grid_column": null,
      "grid_gap": null,
      "grid_row": null,
      "grid_template_areas": null,
      "grid_template_columns": null,
      "grid_template_rows": null,
      "height": null,
      "justify_content": null,
      "justify_items": null,
      "left": null,
      "margin": null,
      "max_height": null,
      "max_width": null,
      "min_height": null,
      "min_width": null,
      "object_fit": null,
      "object_position": null,
      "order": null,
      "overflow": null,
      "overflow_x": null,
      "overflow_y": null,
      "padding": null,
      "right": null,
      "top": null,
      "visibility": null,
      "width": null
     }
    },
    "c70841946d5e426e9b22d3dd777e4efb": {
     "model_module": "@jupyter-widgets/base",
     "model_module_version": "1.2.0",
     "model_name": "LayoutModel",
     "state": {
      "_model_module": "@jupyter-widgets/base",
      "_model_module_version": "1.2.0",
      "_model_name": "LayoutModel",
      "_view_count": null,
      "_view_module": "@jupyter-widgets/base",
      "_view_module_version": "1.2.0",
      "_view_name": "LayoutView",
      "align_content": null,
      "align_items": null,
      "align_self": null,
      "border": null,
      "bottom": null,
      "display": null,
      "flex": null,
      "flex_flow": null,
      "grid_area": null,
      "grid_auto_columns": null,
      "grid_auto_flow": null,
      "grid_auto_rows": null,
      "grid_column": null,
      "grid_gap": null,
      "grid_row": null,
      "grid_template_areas": null,
      "grid_template_columns": null,
      "grid_template_rows": null,
      "height": null,
      "justify_content": null,
      "justify_items": null,
      "left": null,
      "margin": null,
      "max_height": null,
      "max_width": null,
      "min_height": null,
      "min_width": null,
      "object_fit": null,
      "object_position": null,
      "order": null,
      "overflow": null,
      "overflow_x": null,
      "overflow_y": null,
      "padding": null,
      "right": null,
      "top": null,
      "visibility": null,
      "width": null
     }
    },
    "cfbf5b2a23ca4a989d2bf8bc13e8e88f": {
     "model_module": "@jupyter-widgets/base",
     "model_module_version": "1.2.0",
     "model_name": "LayoutModel",
     "state": {
      "_model_module": "@jupyter-widgets/base",
      "_model_module_version": "1.2.0",
      "_model_name": "LayoutModel",
      "_view_count": null,
      "_view_module": "@jupyter-widgets/base",
      "_view_module_version": "1.2.0",
      "_view_name": "LayoutView",
      "align_content": null,
      "align_items": null,
      "align_self": null,
      "border": null,
      "bottom": null,
      "display": null,
      "flex": null,
      "flex_flow": null,
      "grid_area": null,
      "grid_auto_columns": null,
      "grid_auto_flow": null,
      "grid_auto_rows": null,
      "grid_column": null,
      "grid_gap": null,
      "grid_row": null,
      "grid_template_areas": null,
      "grid_template_columns": null,
      "grid_template_rows": null,
      "height": null,
      "justify_content": null,
      "justify_items": null,
      "left": null,
      "margin": null,
      "max_height": null,
      "max_width": null,
      "min_height": null,
      "min_width": null,
      "object_fit": null,
      "object_position": null,
      "order": null,
      "overflow": null,
      "overflow_x": null,
      "overflow_y": null,
      "padding": null,
      "right": null,
      "top": null,
      "visibility": null,
      "width": null
     }
    },
    "d37348d5018b4c4995c0c5a6c42347e8": {
     "model_module": "@jupyter-widgets/controls",
     "model_module_version": "1.5.0",
     "model_name": "HBoxModel",
     "state": {
      "_dom_classes": [],
      "_model_module": "@jupyter-widgets/controls",
      "_model_module_version": "1.5.0",
      "_model_name": "HBoxModel",
      "_view_count": null,
      "_view_module": "@jupyter-widgets/controls",
      "_view_module_version": "1.5.0",
      "_view_name": "HBoxView",
      "box_style": "",
      "children": [
       "IPY_MODEL_328c76630ee34accb64d7062b3ebedec",
       "IPY_MODEL_7bb911b5d9bb4e2ca43b238c66113171",
       "IPY_MODEL_05e344c300ad435cbec8294987bdd31a"
      ],
      "layout": "IPY_MODEL_b086adaa9c254790800120e404a88a06"
     }
    },
    "d5b9eb002f7a43b4bd95ddd39091a41c": {
     "model_module": "@jupyter-widgets/base",
     "model_module_version": "1.2.0",
     "model_name": "LayoutModel",
     "state": {
      "_model_module": "@jupyter-widgets/base",
      "_model_module_version": "1.2.0",
      "_model_name": "LayoutModel",
      "_view_count": null,
      "_view_module": "@jupyter-widgets/base",
      "_view_module_version": "1.2.0",
      "_view_name": "LayoutView",
      "align_content": null,
      "align_items": null,
      "align_self": null,
      "border": null,
      "bottom": null,
      "display": null,
      "flex": null,
      "flex_flow": null,
      "grid_area": null,
      "grid_auto_columns": null,
      "grid_auto_flow": null,
      "grid_auto_rows": null,
      "grid_column": null,
      "grid_gap": null,
      "grid_row": null,
      "grid_template_areas": null,
      "grid_template_columns": null,
      "grid_template_rows": null,
      "height": null,
      "justify_content": null,
      "justify_items": null,
      "left": null,
      "margin": null,
      "max_height": null,
      "max_width": null,
      "min_height": null,
      "min_width": null,
      "object_fit": null,
      "object_position": null,
      "order": null,
      "overflow": null,
      "overflow_x": null,
      "overflow_y": null,
      "padding": null,
      "right": null,
      "top": null,
      "visibility": null,
      "width": null
     }
    },
    "ebd0415a3588420dba90e53e16ab9540": {
     "model_module": "@jupyter-widgets/controls",
     "model_module_version": "1.5.0",
     "model_name": "DescriptionStyleModel",
     "state": {
      "_model_module": "@jupyter-widgets/controls",
      "_model_module_version": "1.5.0",
      "_model_name": "DescriptionStyleModel",
      "_view_count": null,
      "_view_module": "@jupyter-widgets/base",
      "_view_module_version": "1.2.0",
      "_view_name": "StyleView",
      "description_width": ""
     }
    },
    "ed36770ec43646d98170adef601c46ca": {
     "model_module": "@jupyter-widgets/controls",
     "model_module_version": "1.5.0",
     "model_name": "HBoxModel",
     "state": {
      "_dom_classes": [],
      "_model_module": "@jupyter-widgets/controls",
      "_model_module_version": "1.5.0",
      "_model_name": "HBoxModel",
      "_view_count": null,
      "_view_module": "@jupyter-widgets/controls",
      "_view_module_version": "1.5.0",
      "_view_name": "HBoxView",
      "box_style": "",
      "children": [
       "IPY_MODEL_1e87f39975e244babbc9b0d4126006b5",
       "IPY_MODEL_7dc451ceeea847e9808bfdd22aac996b",
       "IPY_MODEL_80a5cb2706f2469d88e1c0d25b778337"
      ],
      "layout": "IPY_MODEL_2f20ae7e6ef148519fc4dcdb7bc2b658"
     }
    },
    "ef2b947cf7a548dcbdde98478be91ea3": {
     "model_module": "@jupyter-widgets/base",
     "model_module_version": "1.2.0",
     "model_name": "LayoutModel",
     "state": {
      "_model_module": "@jupyter-widgets/base",
      "_model_module_version": "1.2.0",
      "_model_name": "LayoutModel",
      "_view_count": null,
      "_view_module": "@jupyter-widgets/base",
      "_view_module_version": "1.2.0",
      "_view_name": "LayoutView",
      "align_content": null,
      "align_items": null,
      "align_self": null,
      "border": null,
      "bottom": null,
      "display": null,
      "flex": null,
      "flex_flow": null,
      "grid_area": null,
      "grid_auto_columns": null,
      "grid_auto_flow": null,
      "grid_auto_rows": null,
      "grid_column": null,
      "grid_gap": null,
      "grid_row": null,
      "grid_template_areas": null,
      "grid_template_columns": null,
      "grid_template_rows": null,
      "height": null,
      "justify_content": null,
      "justify_items": null,
      "left": null,
      "margin": null,
      "max_height": null,
      "max_width": null,
      "min_height": null,
      "min_width": null,
      "object_fit": null,
      "object_position": null,
      "order": null,
      "overflow": null,
      "overflow_x": null,
      "overflow_y": null,
      "padding": null,
      "right": null,
      "top": null,
      "visibility": null,
      "width": null
     }
    },
    "ef82a087738f4138b287b8e840692db8": {
     "model_module": "@jupyter-widgets/controls",
     "model_module_version": "1.5.0",
     "model_name": "FloatProgressModel",
     "state": {
      "_dom_classes": [],
      "_model_module": "@jupyter-widgets/controls",
      "_model_module_version": "1.5.0",
      "_model_name": "FloatProgressModel",
      "_view_count": null,
      "_view_module": "@jupyter-widgets/controls",
      "_view_module_version": "1.5.0",
      "_view_name": "ProgressView",
      "bar_style": "success",
      "description": "",
      "description_tooltip": null,
      "layout": "IPY_MODEL_619d67a3ff894fcdb67d023276fb0e82",
      "max": 112,
      "min": 0,
      "orientation": "horizontal",
      "style": "IPY_MODEL_160b15b3644a4f6982fd7b6fb016937c",
      "value": 112
     }
    },
    "f4e4d4c5e3264ffea6f4af64a893ba26": {
     "model_module": "@jupyter-widgets/base",
     "model_module_version": "1.2.0",
     "model_name": "LayoutModel",
     "state": {
      "_model_module": "@jupyter-widgets/base",
      "_model_module_version": "1.2.0",
      "_model_name": "LayoutModel",
      "_view_count": null,
      "_view_module": "@jupyter-widgets/base",
      "_view_module_version": "1.2.0",
      "_view_name": "LayoutView",
      "align_content": null,
      "align_items": null,
      "align_self": null,
      "border": null,
      "bottom": null,
      "display": null,
      "flex": null,
      "flex_flow": null,
      "grid_area": null,
      "grid_auto_columns": null,
      "grid_auto_flow": null,
      "grid_auto_rows": null,
      "grid_column": null,
      "grid_gap": null,
      "grid_row": null,
      "grid_template_areas": null,
      "grid_template_columns": null,
      "grid_template_rows": null,
      "height": null,
      "justify_content": null,
      "justify_items": null,
      "left": null,
      "margin": null,
      "max_height": null,
      "max_width": null,
      "min_height": null,
      "min_width": null,
      "object_fit": null,
      "object_position": null,
      "order": null,
      "overflow": null,
      "overflow_x": null,
      "overflow_y": null,
      "padding": null,
      "right": null,
      "top": null,
      "visibility": null,
      "width": null
     }
    },
    "f6dc726ea4964bcba5bcd72a3a13f394": {
     "model_module": "@jupyter-widgets/controls",
     "model_module_version": "1.5.0",
     "model_name": "ProgressStyleModel",
     "state": {
      "_model_module": "@jupyter-widgets/controls",
      "_model_module_version": "1.5.0",
      "_model_name": "ProgressStyleModel",
      "_view_count": null,
      "_view_module": "@jupyter-widgets/base",
      "_view_module_version": "1.2.0",
      "_view_name": "StyleView",
      "bar_color": null,
      "description_width": ""
     }
    },
    "f9dc88af7bc14440bd184218bdd9e863": {
     "model_module": "@jupyter-widgets/controls",
     "model_module_version": "1.5.0",
     "model_name": "DescriptionStyleModel",
     "state": {
      "_model_module": "@jupyter-widgets/controls",
      "_model_module_version": "1.5.0",
      "_model_name": "DescriptionStyleModel",
      "_view_count": null,
      "_view_module": "@jupyter-widgets/base",
      "_view_module_version": "1.2.0",
      "_view_name": "StyleView",
      "description_width": ""
     }
    },
    "ff3559a5c60947899ab5929d2f418ee0": {
     "model_module": "@jupyter-widgets/controls",
     "model_module_version": "1.5.0",
     "model_name": "DescriptionStyleModel",
     "state": {
      "_model_module": "@jupyter-widgets/controls",
      "_model_module_version": "1.5.0",
      "_model_name": "DescriptionStyleModel",
      "_view_count": null,
      "_view_module": "@jupyter-widgets/base",
      "_view_module_version": "1.2.0",
      "_view_name": "StyleView",
      "description_width": ""
     }
    }
   }
  }
 },
 "nbformat": 4,
 "nbformat_minor": 5
}
