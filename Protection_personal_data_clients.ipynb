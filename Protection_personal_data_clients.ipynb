{
 "cells": [
  {
   "cell_type": "markdown",
   "metadata": {
    "toc": true
   },
   "source": [
    "<h1>Содержание<span class=\"tocSkip\"></span></h1>\n",
    "<div class=\"toc\"><ul class=\"toc-item\"><li><span><a href=\"#Загрузка-данных\" data-toc-modified-id=\"Загрузка-данных-1\"><span class=\"toc-item-num\">1&nbsp;&nbsp;</span>Загрузка данных</a></span><ul class=\"toc-item\"><li><span><a href=\"#Импорт-библиотек\" data-toc-modified-id=\"Импорт-библиотек-1.1\"><span class=\"toc-item-num\">1.1&nbsp;&nbsp;</span>Импорт библиотек</a></span></li><li><span><a href=\"#Знакомство-с-данными\" data-toc-modified-id=\"Знакомство-с-данными-1.2\"><span class=\"toc-item-num\">1.2&nbsp;&nbsp;</span>Знакомство с данными</a></span></li></ul></li><li><span><a href=\"#Умножение-матриц\" data-toc-modified-id=\"Умножение-матриц-2\"><span class=\"toc-item-num\">2&nbsp;&nbsp;</span>Умножение матриц</a></span></li><li><span><a href=\"#Алгоритм-преобразования\" data-toc-modified-id=\"Алгоритм-преобразования-3\"><span class=\"toc-item-num\">3&nbsp;&nbsp;</span>Алгоритм преобразования</a></span></li><li><span><a href=\"#Проверка-алгоритма\" data-toc-modified-id=\"Проверка-алгоритма-4\"><span class=\"toc-item-num\">4&nbsp;&nbsp;</span>Проверка алгоритма</a></span></li><li><span><a href=\"#Чек-лист-проверки\" data-toc-modified-id=\"Чек-лист-проверки-5\"><span class=\"toc-item-num\">5&nbsp;&nbsp;</span>Чек-лист проверки</a></span></li><li><span><a href=\"#Финальные-комментарии-ревьюера\" data-toc-modified-id=\"Финальные-комментарии-ревьюера-6\"><span class=\"toc-item-num\">6&nbsp;&nbsp;</span>Финальные комментарии ревьюера</a></span></li></ul></div>"
   ]
  },
  {
   "cell_type": "markdown",
   "metadata": {},
   "source": [
    "# Защита персональных данных клиентов"
   ]
  },
  {
   "cell_type": "markdown",
   "metadata": {},
   "source": [
    "Вам нужно защитить данные клиентов страховой компании «Хоть потоп». Разработайте такой метод преобразования данных, чтобы по ним было сложно восстановить персональную информацию. Обоснуйте корректность его работы.\n",
    "\n",
    "Нужно защитить данные, чтобы при преобразовании качество моделей машинного обучения не ухудшилось. Подбирать наилучшую модель не требуется."
   ]
  },
  {
   "cell_type": "markdown",
   "metadata": {},
   "source": [
    "## Загрузка данных"
   ]
  },
  {
   "cell_type": "markdown",
   "metadata": {},
   "source": [
    "### Импорт библиотек"
   ]
  },
  {
   "cell_type": "code",
   "execution_count": 70,
   "metadata": {},
   "outputs": [],
   "source": [
    "# Обработка данных\n",
    "import pandas as pd\n",
    "import numpy as np\n",
    "from scipy.stats import pointbiserialr, spearmanr\n",
    "\n",
    "# Визуализация данных\n",
    "import matplotlib.pyplot as plt\n",
    "import seaborn as sns\n",
    "\n",
    "from sklearn.metrics import r2_score"
   ]
  },
  {
   "cell_type": "code",
   "execution_count": 3,
   "metadata": {},
   "outputs": [],
   "source": [
    "pd.set_option('display.max_columns', None)"
   ]
  },
  {
   "cell_type": "code",
   "execution_count": 4,
   "metadata": {},
   "outputs": [],
   "source": [
    "STATE = np.random.RandomState(12345)"
   ]
  },
  {
   "cell_type": "markdown",
   "metadata": {},
   "source": [
    "### Знакомство с данными"
   ]
  },
  {
   "cell_type": "code",
   "execution_count": 5,
   "metadata": {
    "scrolled": false
   },
   "outputs": [
    {
     "data": {
      "text/html": [
       "<div>\n",
       "<style scoped>\n",
       "    .dataframe tbody tr th:only-of-type {\n",
       "        vertical-align: middle;\n",
       "    }\n",
       "\n",
       "    .dataframe tbody tr th {\n",
       "        vertical-align: top;\n",
       "    }\n",
       "\n",
       "    .dataframe thead th {\n",
       "        text-align: right;\n",
       "    }\n",
       "</style>\n",
       "<table border=\"1\" class=\"dataframe\">\n",
       "  <thead>\n",
       "    <tr style=\"text-align: right;\">\n",
       "      <th></th>\n",
       "      <th>Пол</th>\n",
       "      <th>Возраст</th>\n",
       "      <th>Зарплата</th>\n",
       "      <th>Члены семьи</th>\n",
       "      <th>Страховые выплаты</th>\n",
       "    </tr>\n",
       "  </thead>\n",
       "  <tbody>\n",
       "    <tr>\n",
       "      <th>0</th>\n",
       "      <td>1</td>\n",
       "      <td>41.0</td>\n",
       "      <td>49600.0</td>\n",
       "      <td>1</td>\n",
       "      <td>0</td>\n",
       "    </tr>\n",
       "    <tr>\n",
       "      <th>1</th>\n",
       "      <td>0</td>\n",
       "      <td>46.0</td>\n",
       "      <td>38000.0</td>\n",
       "      <td>1</td>\n",
       "      <td>1</td>\n",
       "    </tr>\n",
       "    <tr>\n",
       "      <th>2</th>\n",
       "      <td>0</td>\n",
       "      <td>29.0</td>\n",
       "      <td>21000.0</td>\n",
       "      <td>0</td>\n",
       "      <td>0</td>\n",
       "    </tr>\n",
       "    <tr>\n",
       "      <th>3</th>\n",
       "      <td>0</td>\n",
       "      <td>21.0</td>\n",
       "      <td>41700.0</td>\n",
       "      <td>2</td>\n",
       "      <td>0</td>\n",
       "    </tr>\n",
       "    <tr>\n",
       "      <th>4</th>\n",
       "      <td>1</td>\n",
       "      <td>28.0</td>\n",
       "      <td>26100.0</td>\n",
       "      <td>0</td>\n",
       "      <td>0</td>\n",
       "    </tr>\n",
       "    <tr>\n",
       "      <th>5</th>\n",
       "      <td>1</td>\n",
       "      <td>43.0</td>\n",
       "      <td>41000.0</td>\n",
       "      <td>2</td>\n",
       "      <td>1</td>\n",
       "    </tr>\n",
       "    <tr>\n",
       "      <th>6</th>\n",
       "      <td>1</td>\n",
       "      <td>39.0</td>\n",
       "      <td>39700.0</td>\n",
       "      <td>2</td>\n",
       "      <td>0</td>\n",
       "    </tr>\n",
       "    <tr>\n",
       "      <th>7</th>\n",
       "      <td>1</td>\n",
       "      <td>25.0</td>\n",
       "      <td>38600.0</td>\n",
       "      <td>4</td>\n",
       "      <td>0</td>\n",
       "    </tr>\n",
       "    <tr>\n",
       "      <th>8</th>\n",
       "      <td>1</td>\n",
       "      <td>36.0</td>\n",
       "      <td>49700.0</td>\n",
       "      <td>1</td>\n",
       "      <td>0</td>\n",
       "    </tr>\n",
       "    <tr>\n",
       "      <th>9</th>\n",
       "      <td>1</td>\n",
       "      <td>32.0</td>\n",
       "      <td>51700.0</td>\n",
       "      <td>1</td>\n",
       "      <td>0</td>\n",
       "    </tr>\n",
       "    <tr>\n",
       "      <th>10</th>\n",
       "      <td>1</td>\n",
       "      <td>25.0</td>\n",
       "      <td>36600.0</td>\n",
       "      <td>1</td>\n",
       "      <td>0</td>\n",
       "    </tr>\n",
       "    <tr>\n",
       "      <th>11</th>\n",
       "      <td>1</td>\n",
       "      <td>38.0</td>\n",
       "      <td>29300.0</td>\n",
       "      <td>0</td>\n",
       "      <td>0</td>\n",
       "    </tr>\n",
       "    <tr>\n",
       "      <th>12</th>\n",
       "      <td>0</td>\n",
       "      <td>23.0</td>\n",
       "      <td>39500.0</td>\n",
       "      <td>3</td>\n",
       "      <td>0</td>\n",
       "    </tr>\n",
       "  </tbody>\n",
       "</table>\n",
       "</div>"
      ],
      "text/plain": [
       "    Пол  Возраст  Зарплата  Члены семьи  Страховые выплаты\n",
       "0     1     41.0   49600.0            1                  0\n",
       "1     0     46.0   38000.0            1                  1\n",
       "2     0     29.0   21000.0            0                  0\n",
       "3     0     21.0   41700.0            2                  0\n",
       "4     1     28.0   26100.0            0                  0\n",
       "5     1     43.0   41000.0            2                  1\n",
       "6     1     39.0   39700.0            2                  0\n",
       "7     1     25.0   38600.0            4                  0\n",
       "8     1     36.0   49700.0            1                  0\n",
       "9     1     32.0   51700.0            1                  0\n",
       "10    1     25.0   36600.0            1                  0\n",
       "11    1     38.0   29300.0            0                  0\n",
       "12    0     23.0   39500.0            3                  0"
      ]
     },
     "execution_count": 5,
     "metadata": {},
     "output_type": "execute_result"
    }
   ],
   "source": [
    "data = pd.read_csv('/datasets/insurance.csv')\n",
    "\n",
    "data.head(13)"
   ]
  },
  {
   "cell_type": "code",
   "execution_count": 6,
   "metadata": {},
   "outputs": [],
   "source": [
    "data.columns = ['gender', 'age', 'salary', 'family_members', 'insurance_pay']"
   ]
  },
  {
   "cell_type": "code",
   "execution_count": 7,
   "metadata": {},
   "outputs": [
    {
     "name": "stdout",
     "output_type": "stream",
     "text": [
      "<class 'pandas.core.frame.DataFrame'>\n",
      "RangeIndex: 5000 entries, 0 to 4999\n",
      "Data columns (total 5 columns):\n",
      " #   Column          Non-Null Count  Dtype  \n",
      "---  ------          --------------  -----  \n",
      " 0   gender          5000 non-null   int64  \n",
      " 1   age             5000 non-null   float64\n",
      " 2   salary          5000 non-null   float64\n",
      " 3   family_members  5000 non-null   int64  \n",
      " 4   insurance_pay   5000 non-null   int64  \n",
      "dtypes: float64(2), int64(3)\n",
      "memory usage: 195.4 KB\n"
     ]
    },
    {
     "data": {
      "text/html": [
       "<div>\n",
       "<style scoped>\n",
       "    .dataframe tbody tr th:only-of-type {\n",
       "        vertical-align: middle;\n",
       "    }\n",
       "\n",
       "    .dataframe tbody tr th {\n",
       "        vertical-align: top;\n",
       "    }\n",
       "\n",
       "    .dataframe thead th {\n",
       "        text-align: right;\n",
       "    }\n",
       "</style>\n",
       "<table border=\"1\" class=\"dataframe\">\n",
       "  <thead>\n",
       "    <tr style=\"text-align: right;\">\n",
       "      <th></th>\n",
       "      <th>gender</th>\n",
       "      <th>age</th>\n",
       "      <th>salary</th>\n",
       "      <th>family_members</th>\n",
       "      <th>insurance_pay</th>\n",
       "    </tr>\n",
       "  </thead>\n",
       "  <tbody>\n",
       "    <tr>\n",
       "      <th>count</th>\n",
       "      <td>5000.000000</td>\n",
       "      <td>5000.000000</td>\n",
       "      <td>5000.000000</td>\n",
       "      <td>5000.000000</td>\n",
       "      <td>5000.000000</td>\n",
       "    </tr>\n",
       "    <tr>\n",
       "      <th>mean</th>\n",
       "      <td>0.499000</td>\n",
       "      <td>30.952800</td>\n",
       "      <td>39916.360000</td>\n",
       "      <td>1.194200</td>\n",
       "      <td>0.148000</td>\n",
       "    </tr>\n",
       "    <tr>\n",
       "      <th>std</th>\n",
       "      <td>0.500049</td>\n",
       "      <td>8.440807</td>\n",
       "      <td>9900.083569</td>\n",
       "      <td>1.091387</td>\n",
       "      <td>0.463183</td>\n",
       "    </tr>\n",
       "    <tr>\n",
       "      <th>min</th>\n",
       "      <td>0.000000</td>\n",
       "      <td>18.000000</td>\n",
       "      <td>5300.000000</td>\n",
       "      <td>0.000000</td>\n",
       "      <td>0.000000</td>\n",
       "    </tr>\n",
       "    <tr>\n",
       "      <th>25%</th>\n",
       "      <td>0.000000</td>\n",
       "      <td>24.000000</td>\n",
       "      <td>33300.000000</td>\n",
       "      <td>0.000000</td>\n",
       "      <td>0.000000</td>\n",
       "    </tr>\n",
       "    <tr>\n",
       "      <th>50%</th>\n",
       "      <td>0.000000</td>\n",
       "      <td>30.000000</td>\n",
       "      <td>40200.000000</td>\n",
       "      <td>1.000000</td>\n",
       "      <td>0.000000</td>\n",
       "    </tr>\n",
       "    <tr>\n",
       "      <th>75%</th>\n",
       "      <td>1.000000</td>\n",
       "      <td>37.000000</td>\n",
       "      <td>46600.000000</td>\n",
       "      <td>2.000000</td>\n",
       "      <td>0.000000</td>\n",
       "    </tr>\n",
       "    <tr>\n",
       "      <th>max</th>\n",
       "      <td>1.000000</td>\n",
       "      <td>65.000000</td>\n",
       "      <td>79000.000000</td>\n",
       "      <td>6.000000</td>\n",
       "      <td>5.000000</td>\n",
       "    </tr>\n",
       "  </tbody>\n",
       "</table>\n",
       "</div>"
      ],
      "text/plain": [
       "            gender          age        salary  family_members  insurance_pay\n",
       "count  5000.000000  5000.000000   5000.000000     5000.000000    5000.000000\n",
       "mean      0.499000    30.952800  39916.360000        1.194200       0.148000\n",
       "std       0.500049     8.440807   9900.083569        1.091387       0.463183\n",
       "min       0.000000    18.000000   5300.000000        0.000000       0.000000\n",
       "25%       0.000000    24.000000  33300.000000        0.000000       0.000000\n",
       "50%       0.000000    30.000000  40200.000000        1.000000       0.000000\n",
       "75%       1.000000    37.000000  46600.000000        2.000000       0.000000\n",
       "max       1.000000    65.000000  79000.000000        6.000000       5.000000"
      ]
     },
     "execution_count": 7,
     "metadata": {},
     "output_type": "execute_result"
    }
   ],
   "source": [
    "data.info()\n",
    "data.describe()"
   ]
  },
  {
   "cell_type": "code",
   "execution_count": 8,
   "metadata": {},
   "outputs": [
    {
     "data": {
      "text/plain": [
       "153"
      ]
     },
     "execution_count": 8,
     "metadata": {},
     "output_type": "execute_result"
    }
   ],
   "source": [
    "data.duplicated().sum()"
   ]
  },
  {
   "cell_type": "code",
   "execution_count": 9,
   "metadata": {},
   "outputs": [
    {
     "data": {
      "text/plain": [
       "0"
      ]
     },
     "execution_count": 9,
     "metadata": {},
     "output_type": "execute_result"
    }
   ],
   "source": [
    "data = data.drop_duplicates().reset_index(drop=True)\n",
    "\n",
    "data.duplicated().sum()"
   ]
  },
  {
   "cell_type": "markdown",
   "metadata": {},
   "source": [
    "Посмотрим на корреляцию с помощью тепловой карты."
   ]
  },
  {
   "cell_type": "code",
   "execution_count": 31,
   "metadata": {
    "scrolled": false
   },
   "outputs": [
    {
     "data": {
      "image/png": "[encoded data removed]",
      "text/plain": [
       "<Figure size 720x432 with 2 Axes>"
      ]
     },
     "metadata": {
      "needs_background": "light"
     },
     "output_type": "display_data"
    }
   ],
   "source": [
    "plt.figure(figsize = (10,6))\n",
    "sns.heatmap(data.corr(), annot = True, cmap= 'coolwarm');"
   ]
  },
  {
   "cell_type": "code",
   "execution_count": 74,
   "metadata": {},
   "outputs": [
    {
     "data": {
      "image/png": "[encoded data removed]",
      "text/plain": [
       "<Figure size 360x360 with 6 Axes>"
      ]
     },
     "metadata": {
      "needs_background": "light"
     },
     "output_type": "display_data"
    }
   ],
   "source": [
    "sns.pairplot(data[['age', 'insurance_pay']]);"
   ]
  },
  {
   "cell_type": "markdown",
   "metadata": {},
   "source": [
    "Видим что у нас есть взаимосвязь с \"Страховые выплаты\" и \"Возрастом\". Посмотрим на корреляцию Спирмена "
   ]
  },
  {
   "cell_type": "code",
   "execution_count": 72,
   "metadata": {
    "scrolled": false
   },
   "outputs": [
    {
     "name": "stdout",
     "output_type": "stream",
     "text": [
      "Spearman correlation: 0.5556554197171008 p-value: 0.0\n"
     ]
    }
   ],
   "source": [
    "r = spearmanr(data['age'], data['insurance_pay'])\n",
    "print('Spearman correlation:', r[0], 'p-value:', r[1])"
   ]
  },
  {
   "cell_type": "markdown",
   "metadata": {},
   "source": [
    "Корреляция есть. Можем наблюдать,  что примерно до 40 лет страховыми выплатами не пользуются. Чем старше становиться клиент, чем чаще он пользуется страховыми выплатами. "
   ]
  },
  {
   "cell_type": "markdown",
   "metadata": {},
   "source": [
    "Изменим тип на **int** в `age`, `salary`."
   ]
  },
  {
   "cell_type": "code",
   "execution_count": 12,
   "metadata": {},
   "outputs": [
    {
     "data": {
      "text/html": [
       "<div>\n",
       "<style scoped>\n",
       "    .dataframe tbody tr th:only-of-type {\n",
       "        vertical-align: middle;\n",
       "    }\n",
       "\n",
       "    .dataframe tbody tr th {\n",
       "        vertical-align: top;\n",
       "    }\n",
       "\n",
       "    .dataframe thead th {\n",
       "        text-align: right;\n",
       "    }\n",
       "</style>\n",
       "<table border=\"1\" class=\"dataframe\">\n",
       "  <thead>\n",
       "    <tr style=\"text-align: right;\">\n",
       "      <th></th>\n",
       "      <th>gender</th>\n",
       "      <th>age</th>\n",
       "      <th>salary</th>\n",
       "      <th>family_members</th>\n",
       "      <th>insurance_pay</th>\n",
       "    </tr>\n",
       "  </thead>\n",
       "  <tbody>\n",
       "    <tr>\n",
       "      <th>0</th>\n",
       "      <td>1</td>\n",
       "      <td>41</td>\n",
       "      <td>49600</td>\n",
       "      <td>1</td>\n",
       "      <td>0</td>\n",
       "    </tr>\n",
       "    <tr>\n",
       "      <th>1</th>\n",
       "      <td>0</td>\n",
       "      <td>46</td>\n",
       "      <td>38000</td>\n",
       "      <td>1</td>\n",
       "      <td>1</td>\n",
       "    </tr>\n",
       "    <tr>\n",
       "      <th>2</th>\n",
       "      <td>0</td>\n",
       "      <td>29</td>\n",
       "      <td>21000</td>\n",
       "      <td>0</td>\n",
       "      <td>0</td>\n",
       "    </tr>\n",
       "    <tr>\n",
       "      <th>3</th>\n",
       "      <td>0</td>\n",
       "      <td>21</td>\n",
       "      <td>41700</td>\n",
       "      <td>2</td>\n",
       "      <td>0</td>\n",
       "    </tr>\n",
       "    <tr>\n",
       "      <th>4</th>\n",
       "      <td>1</td>\n",
       "      <td>28</td>\n",
       "      <td>26100</td>\n",
       "      <td>0</td>\n",
       "      <td>0</td>\n",
       "    </tr>\n",
       "  </tbody>\n",
       "</table>\n",
       "</div>"
      ],
      "text/plain": [
       "   gender  age  salary  family_members  insurance_pay\n",
       "0       1   41   49600               1              0\n",
       "1       0   46   38000               1              1\n",
       "2       0   29   21000               0              0\n",
       "3       0   21   41700               2              0\n",
       "4       1   28   26100               0              0"
      ]
     },
     "execution_count": 12,
     "metadata": {},
     "output_type": "execute_result"
    }
   ],
   "source": [
    "data[['age', 'salary']] = data[['age', 'salary']].astype('int')\n",
    "\n",
    "data.head()"
   ]
  },
  {
   "cell_type": "code",
   "execution_count": 83,
   "metadata": {
    "scrolled": false
   },
   "outputs": [
    {
     "data": {
      "image/png": "[encoded data removed]",
      "text/plain": [
       "<Figure size 1008x1080 with 6 Axes>"
      ]
     },
     "metadata": {
      "needs_background": "light"
     },
     "output_type": "display_data"
    }
   ],
   "source": [
    "data.hist(bins=6, figsize=(14,15), fc='darkcyan');"
   ]
  },
  {
   "cell_type": "code",
   "execution_count": 64,
   "metadata": {},
   "outputs": [],
   "source": [
    "def plot_barh(index, values):\n",
    "    data.pivot_table(index = index, values = values, aggfunc='sum').sort_values(index)\\\n",
    "    .plot.bar(figsize=(9,6),  fc='darkcyan');   "
   ]
  },
  {
   "cell_type": "code",
   "execution_count": 66,
   "metadata": {},
   "outputs": [
    {
     "data": {
      "image/png": "[encoded data removed]",
      "text/plain": [
       "<Figure size 648x432 with 1 Axes>"
      ]
     },
     "metadata": {
      "needs_background": "light"
     },
     "output_type": "display_data"
    }
   ],
   "source": [
    "plot_barh('gender', 'insurance_pay')"
   ]
  },
  {
   "cell_type": "code",
   "execution_count": 67,
   "metadata": {},
   "outputs": [
    {
     "data": {
      "image/png": "[encoded data removed]",
      "text/plain": [
       "<Figure size 648x432 with 1 Axes>"
      ]
     },
     "metadata": {
      "needs_background": "light"
     },
     "output_type": "display_data"
    }
   ],
   "source": [
    "plot_barh('age', 'insurance_pay')"
   ]
  },
  {
   "cell_type": "code",
   "execution_count": 68,
   "metadata": {},
   "outputs": [
    {
     "data": {
      "image/png": "[encoded data removed]",
      "text/plain": [
       "<Figure size 648x432 with 1 Axes>"
      ]
     },
     "metadata": {
      "needs_background": "light"
     },
     "output_type": "display_data"
    }
   ],
   "source": [
    "plot_barh('family_members', 'insurance_pay')"
   ]
  },
  {
   "cell_type": "markdown",
   "metadata": {},
   "source": [
    "**Вывод:** Привели название столбцов в соответствующий вид. Изменили тип данных в столбцах `age`, `salary`. Удалили дубликаты в размере 153."
   ]
  },
  {
   "cell_type": "markdown",
   "metadata": {},
   "source": [
    "## Умножение матриц"
   ]
  },
  {
   "cell_type": "markdown",
   "metadata": {},
   "source": [
    "В этом задании вы можете записывать формулы в *Jupyter Notebook.*\n",
    "\n",
    "Чтобы записать формулу внутри текста, окружите её символами доллара \\\\$; если снаружи —  двойными символами \\\\$\\\\$. Эти формулы записываются на языке вёрстки *LaTeX.* \n",
    "\n",
    "Для примера мы записали формулы линейной регрессии. Можете их скопировать и отредактировать, чтобы решить задачу.\n",
    "\n",
    "Работать в *LaTeX* необязательно."
   ]
  },
  {
   "cell_type": "markdown",
   "metadata": {},
   "source": [
    "Обозначения:\n",
    "\n",
    "- $X$ — матрица признаков (нулевой столбец состоит из единиц)\n",
    "\n",
    "- $y$ — вектор целевого признака\n",
    "\n",
    "- $P$ — матрица, на которую умножаются признаки\n",
    "\n",
    "- $w$ — вектор весов линейной регрессии (нулевой элемент равен сдвигу)"
   ]
  },
  {
   "cell_type": "markdown",
   "metadata": {},
   "source": [
    "Предсказания:\n",
    "\n",
    "$$\n",
    "a = Xw\n",
    "$$\n",
    "\n",
    "Задача обучения:\n",
    "\n",
    "$$\n",
    "w = \\arg\\min_w MSE(Xw, y)\n",
    "$$\n",
    "\n",
    "Формула обучения:\n",
    "\n",
    "$$\n",
    "w = (X^T X)^{-1} X^T y\n",
    "$$"
   ]
  },
  {
   "cell_type": "markdown",
   "metadata": {},
   "source": [
    "Признаки умножают на обратимую матрицу. Изменится ли качество линейной регрессии?"
   ]
  },
  {
   "cell_type": "markdown",
   "metadata": {},
   "source": [
    "**Ответ:** Качество не измениться, score модели останется прежним.\n",
    "\n",
    "**Обоснование:** \n",
    "$$\n",
    "w = (X^T X)^{-1} X^T y\n",
    "$$\n",
    "\n",
    "Представим матрицу как умножения первоначальной матрицы **X** на обратимую **P**:\n",
    "$$\n",
    "X = XP\n",
    "$$\n",
    "\n",
    "Получим следущую формулу:\n",
    "$$\n",
    "w1 = ((XP)^T XP)^{-1} (XP)^T y\n",
    "$$\n",
    "\n",
    "Применим правило транспонирования:\n",
    "$$\n",
    "w1 = (P^TX^T XP)^{-1} P^TX^T y\n",
    "$$\n",
    "\n",
    "Вынесем за скобки $P^T$:\n",
    "$$\n",
    "w1 = (X^T XP)^{-1}(P^T)^{-1}P^T X^T y\n",
    "$$\n",
    "\n",
    "Перемножением $(P^T)^{-1}$ на $P^T$ будет **E**:\n",
    "$$\n",
    "w1 = (X^T XP)^{-1} X^T y\n",
    "$$\n",
    "\n",
    "Вынесем за скобки **P**:\n",
    "$$\n",
    "w1 = P^{-1}(X^T X)^{-1} X^T y\n",
    "$$\n",
    "\n",
    "Получим: \n",
    "$$\n",
    "w1 = P^{-1} w\n",
    "$$\n",
    "\n",
    "Подставим в формулу для предсказания **a1**:\n",
    "$$\n",
    "a1 = XPP^{-1} w = X w = a\n",
    "$$"
   ]
  },
  {
   "cell_type": "markdown",
   "metadata": {},
   "source": [
    "Исходя из полученной формулы, мы выявили, что, перемножив матрицу признаков на обратную матрицу, наши предсказания $a$ и $a1$ будут равны. Т.к. признаки исходной матрицы и зашифрованной выражаются через вектор весов $w$"
   ]
  },
  {
   "cell_type": "markdown",
   "metadata": {},
   "source": [
    "## Алгоритм преобразования"
   ]
  },
  {
   "cell_type": "markdown",
   "metadata": {},
   "source": [
    "**Алгоритм**\n",
    "\n",
    "Алгоритмом нашего преобразования послужит перемножения наших признаков на рандомную созданную обратную матрицу. Размер матрицы будет (4х4) по количеству признаков. Создав матрицу, мы проверим ее на обратимость. Перемножив, должны получить единичную матрицу. После проведем шифровку данных. И проверим score на до шифрования и после. "
   ]
  },
  {
   "cell_type": "markdown",
   "metadata": {},
   "source": [
    "**Обоснование**\n",
    "\n",
    "Обоснованием послужит, что качество нашей модели, которую мы будем проверять с помощью метрики **r2** как для исходных данных, так и для зашифрованных, не измениться. После сможем вернуть данные в исходный вид."
   ]
  },
  {
   "cell_type": "markdown",
   "metadata": {},
   "source": [
    "## Проверка алгоритма"
   ]
  },
  {
   "cell_type": "markdown",
   "metadata": {},
   "source": [
    "Разделим данные на признаки и целевые признаки"
   ]
  },
  {
   "cell_type": "code",
   "execution_count": 18,
   "metadata": {},
   "outputs": [],
   "source": [
    "features = data.drop('insurance_pay', axis=1)\n",
    "target = data['insurance_pay']"
   ]
  },
  {
   "cell_type": "markdown",
   "metadata": {},
   "source": [
    "Создадим класс с нашей моделью Линейной регрессии."
   ]
  },
  {
   "cell_type": "code",
   "execution_count": 19,
   "metadata": {},
   "outputs": [],
   "source": [
    "class LinearRegression:\n",
    "    def fit(self, train_features, train_target):\n",
    "        X = np.concatenate((np.ones((train_features.shape[0], 1)), train_features), axis=1)\n",
    "        y = train_target\n",
    "        w = np.linalg.inv(X.T @ X) @ X.T @ y\n",
    "        self.w = w[1:]\n",
    "        self.w0 = w[0]\n",
    "\n",
    "    def predict(self, test_features):\n",
    "        return test_features.dot(self.w) + self.w0"
   ]
  },
  {
   "cell_type": "markdown",
   "metadata": {},
   "source": [
    "Создадим рандомную матрицу"
   ]
  },
  {
   "cell_type": "code",
   "execution_count": 20,
   "metadata": {},
   "outputs": [
    {
     "data": {
      "text/plain": [
       "array([[47, 75, 11, 58],\n",
       "       [73, 21, 34, 79],\n",
       "       [86, 33, 94, 86],\n",
       "       [69, 11, 43,  8]])"
      ]
     },
     "execution_count": 20,
     "metadata": {},
     "output_type": "execute_result"
    }
   ],
   "source": [
    "rnd_features = np.random.randint(100, size=(features.shape[1], features.shape[1]))\n",
    "rnd_features"
   ]
  },
  {
   "cell_type": "markdown",
   "metadata": {},
   "source": [
    "Найдем обратную матрицу"
   ]
  },
  {
   "cell_type": "code",
   "execution_count": 21,
   "metadata": {
    "scrolled": true
   },
   "outputs": [
    {
     "data": {
      "text/plain": [
       "array([[-0.00051679,  0.0119531 , -0.01225731,  0.01747597],\n",
       "       [ 0.01607019, -0.01516419,  0.00296104,  0.00140634],\n",
       "       [-0.00279999, -0.01777461,  0.01842581, -0.00225324],\n",
       "       [-0.00258922,  0.01329377,  0.00260917, -0.01555277]])"
      ]
     },
     "execution_count": 21,
     "metadata": {},
     "output_type": "execute_result"
    }
   ],
   "source": [
    "back_rnd_features = np.linalg.inv(rnd_features)\n",
    "back_rnd_features"
   ]
  },
  {
   "cell_type": "markdown",
   "metadata": {},
   "source": [
    "Проверим перемножив матрицы. Должны получить ед. матрицу"
   ]
  },
  {
   "cell_type": "code",
   "execution_count": 22,
   "metadata": {},
   "outputs": [
    {
     "data": {
      "text/plain": [
       "array([[1., 0., 0., 0.],\n",
       "       [0., 1., 0., 0.],\n",
       "       [0., 0., 1., 0.],\n",
       "       [0., 0., 0., 1.]])"
      ]
     },
     "execution_count": 22,
     "metadata": {},
     "output_type": "execute_result"
    }
   ],
   "source": [
    "abs(np.around(back_rnd_features @ rnd_features))"
   ]
  },
  {
   "cell_type": "markdown",
   "metadata": {},
   "source": [
    "Делаем шифровку данных. Умножив наши признаки на обратную матрицу."
   ]
  },
  {
   "cell_type": "code",
   "execution_count": 23,
   "metadata": {
    "scrolled": false
   },
   "outputs": [
    {
     "data": {
      "text/html": [
       "<div>\n",
       "<style scoped>\n",
       "    .dataframe tbody tr th:only-of-type {\n",
       "        vertical-align: middle;\n",
       "    }\n",
       "\n",
       "    .dataframe tbody tr th {\n",
       "        vertical-align: top;\n",
       "    }\n",
       "\n",
       "    .dataframe thead th {\n",
       "        text-align: right;\n",
       "    }\n",
       "</style>\n",
       "<table border=\"1\" class=\"dataframe\">\n",
       "  <thead>\n",
       "    <tr style=\"text-align: right;\">\n",
       "      <th></th>\n",
       "      <th>0</th>\n",
       "      <th>1</th>\n",
       "      <th>2</th>\n",
       "      <th>3</th>\n",
       "    </tr>\n",
       "  </thead>\n",
       "  <tbody>\n",
       "    <tr>\n",
       "      <th>0</th>\n",
       "      <td>-138.223712</td>\n",
       "      <td>-882.217060</td>\n",
       "      <td>914.031760</td>\n",
       "      <td>-111.701036</td>\n",
       "    </tr>\n",
       "    <tr>\n",
       "      <th>1</th>\n",
       "      <td>-105.662965</td>\n",
       "      <td>-676.119377</td>\n",
       "      <td>700.319466</td>\n",
       "      <td>-85.573916</td>\n",
       "    </tr>\n",
       "    <tr>\n",
       "      <th>2</th>\n",
       "      <td>-58.333746</td>\n",
       "      <td>-373.706537</td>\n",
       "      <td>387.027808</td>\n",
       "      <td>-47.277220</td>\n",
       "    </tr>\n",
       "    <tr>\n",
       "      <th>3</th>\n",
       "      <td>-116.427271</td>\n",
       "      <td>-741.493030</td>\n",
       "      <td>768.423534</td>\n",
       "      <td>-93.961609</td>\n",
       "    </tr>\n",
       "    <tr>\n",
       "      <th>4</th>\n",
       "      <td>-72.630280</td>\n",
       "      <td>-464.329923</td>\n",
       "      <td>480.984203</td>\n",
       "      <td>-58.752666</td>\n",
       "    </tr>\n",
       "    <tr>\n",
       "      <th>...</th>\n",
       "      <td>...</td>\n",
       "      <td>...</td>\n",
       "      <td>...</td>\n",
       "      <td>...</td>\n",
       "    </tr>\n",
       "    <tr>\n",
       "      <th>4842</th>\n",
       "      <td>-99.514842</td>\n",
       "      <td>-634.951529</td>\n",
       "      <td>657.889422</td>\n",
       "      <td>-80.432335</td>\n",
       "    </tr>\n",
       "    <tr>\n",
       "      <th>4843</th>\n",
       "      <td>-146.175658</td>\n",
       "      <td>-931.891767</td>\n",
       "      <td>965.615548</td>\n",
       "      <td>-118.037424</td>\n",
       "    </tr>\n",
       "    <tr>\n",
       "      <th>4844</th>\n",
       "      <td>-94.603422</td>\n",
       "      <td>-602.835920</td>\n",
       "      <td>624.699282</td>\n",
       "      <td>-76.387757</td>\n",
       "    </tr>\n",
       "    <tr>\n",
       "      <th>4845</th>\n",
       "      <td>-91.214400</td>\n",
       "      <td>-581.511472</td>\n",
       "      <td>602.584588</td>\n",
       "      <td>-73.679135</td>\n",
       "    </tr>\n",
       "    <tr>\n",
       "      <th>4846</th>\n",
       "      <td>-113.232718</td>\n",
       "      <td>-722.048450</td>\n",
       "      <td>748.161007</td>\n",
       "      <td>-91.440174</td>\n",
       "    </tr>\n",
       "  </tbody>\n",
       "</table>\n",
       "<p>4847 rows × 4 columns</p>\n",
       "</div>"
      ],
      "text/plain": [
       "               0           1           2           3\n",
       "0    -138.223712 -882.217060  914.031760 -111.701036\n",
       "1    -105.662965 -676.119377  700.319466  -85.573916\n",
       "2     -58.333746 -373.706537  387.027808  -47.277220\n",
       "3    -116.427271 -741.493030  768.423534  -93.961609\n",
       "4     -72.630280 -464.329923  480.984203  -58.752666\n",
       "...          ...         ...         ...         ...\n",
       "4842  -99.514842 -634.951529  657.889422  -80.432335\n",
       "4843 -146.175658 -931.891767  965.615548 -118.037424\n",
       "4844  -94.603422 -602.835920  624.699282  -76.387757\n",
       "4845  -91.214400 -581.511472  602.584588  -73.679135\n",
       "4846 -113.232718 -722.048450  748.161007  -91.440174\n",
       "\n",
       "[4847 rows x 4 columns]"
      ]
     },
     "execution_count": 23,
     "metadata": {},
     "output_type": "execute_result"
    }
   ],
   "source": [
    "new_features = features @ back_rnd_features\n",
    "new_features"
   ]
  },
  {
   "cell_type": "markdown",
   "metadata": {},
   "source": [
    "Обучаем модели и проверяем качество."
   ]
  },
  {
   "cell_type": "code",
   "execution_count": 24,
   "metadata": {},
   "outputs": [
    {
     "name": "stdout",
     "output_type": "stream",
     "text": [
      "0.4302010046633359\n"
     ]
    }
   ],
   "source": [
    "model = LinearRegression()\n",
    "model.fit(features, target)\n",
    "predictions = model.predict(features)\n",
    "print(r2_score(target, predictions))"
   ]
  },
  {
   "cell_type": "code",
   "execution_count": 25,
   "metadata": {},
   "outputs": [
    {
     "name": "stdout",
     "output_type": "stream",
     "text": [
      "0.43020100466331823\n"
     ]
    }
   ],
   "source": [
    "new_model = LinearRegression()\n",
    "new_model.fit(new_features, target)\n",
    "new_predictions = new_model.predict(new_features)\n",
    "print(r2_score(target, new_predictions))"
   ]
  },
  {
   "cell_type": "markdown",
   "metadata": {},
   "source": [
    "Делаем дешифровку."
   ]
  },
  {
   "cell_type": "code",
   "execution_count": 26,
   "metadata": {},
   "outputs": [
    {
     "data": {
      "text/html": [
       "<div>\n",
       "<style scoped>\n",
       "    .dataframe tbody tr th:only-of-type {\n",
       "        vertical-align: middle;\n",
       "    }\n",
       "\n",
       "    .dataframe tbody tr th {\n",
       "        vertical-align: top;\n",
       "    }\n",
       "\n",
       "    .dataframe thead th {\n",
       "        text-align: right;\n",
       "    }\n",
       "</style>\n",
       "<table border=\"1\" class=\"dataframe\">\n",
       "  <thead>\n",
       "    <tr style=\"text-align: right;\">\n",
       "      <th></th>\n",
       "      <th>gender</th>\n",
       "      <th>age</th>\n",
       "      <th>salary</th>\n",
       "      <th>family_members</th>\n",
       "    </tr>\n",
       "  </thead>\n",
       "  <tbody>\n",
       "    <tr>\n",
       "      <th>0</th>\n",
       "      <td>1</td>\n",
       "      <td>41</td>\n",
       "      <td>49600</td>\n",
       "      <td>1</td>\n",
       "    </tr>\n",
       "    <tr>\n",
       "      <th>1</th>\n",
       "      <td>0</td>\n",
       "      <td>46</td>\n",
       "      <td>38000</td>\n",
       "      <td>1</td>\n",
       "    </tr>\n",
       "    <tr>\n",
       "      <th>2</th>\n",
       "      <td>0</td>\n",
       "      <td>29</td>\n",
       "      <td>21000</td>\n",
       "      <td>0</td>\n",
       "    </tr>\n",
       "    <tr>\n",
       "      <th>3</th>\n",
       "      <td>0</td>\n",
       "      <td>21</td>\n",
       "      <td>41700</td>\n",
       "      <td>2</td>\n",
       "    </tr>\n",
       "    <tr>\n",
       "      <th>4</th>\n",
       "      <td>1</td>\n",
       "      <td>28</td>\n",
       "      <td>26100</td>\n",
       "      <td>0</td>\n",
       "    </tr>\n",
       "    <tr>\n",
       "      <th>...</th>\n",
       "      <td>...</td>\n",
       "      <td>...</td>\n",
       "      <td>...</td>\n",
       "      <td>...</td>\n",
       "    </tr>\n",
       "    <tr>\n",
       "      <th>4842</th>\n",
       "      <td>0</td>\n",
       "      <td>28</td>\n",
       "      <td>35700</td>\n",
       "      <td>2</td>\n",
       "    </tr>\n",
       "    <tr>\n",
       "      <th>4843</th>\n",
       "      <td>0</td>\n",
       "      <td>34</td>\n",
       "      <td>52400</td>\n",
       "      <td>1</td>\n",
       "    </tr>\n",
       "    <tr>\n",
       "      <th>4844</th>\n",
       "      <td>0</td>\n",
       "      <td>20</td>\n",
       "      <td>33900</td>\n",
       "      <td>2</td>\n",
       "    </tr>\n",
       "    <tr>\n",
       "      <th>4845</th>\n",
       "      <td>1</td>\n",
       "      <td>22</td>\n",
       "      <td>32700</td>\n",
       "      <td>3</td>\n",
       "    </tr>\n",
       "    <tr>\n",
       "      <th>4846</th>\n",
       "      <td>1</td>\n",
       "      <td>28</td>\n",
       "      <td>40600</td>\n",
       "      <td>1</td>\n",
       "    </tr>\n",
       "  </tbody>\n",
       "</table>\n",
       "<p>4847 rows × 4 columns</p>\n",
       "</div>"
      ],
      "text/plain": [
       "      gender  age  salary  family_members\n",
       "0          1   41   49600               1\n",
       "1          0   46   38000               1\n",
       "2          0   29   21000               0\n",
       "3          0   21   41700               2\n",
       "4          1   28   26100               0\n",
       "...      ...  ...     ...             ...\n",
       "4842       0   28   35700               2\n",
       "4843       0   34   52400               1\n",
       "4844       0   20   33900               2\n",
       "4845       1   22   32700               3\n",
       "4846       1   28   40600               1\n",
       "\n",
       "[4847 rows x 4 columns]"
      ]
     },
     "metadata": {},
     "output_type": "display_data"
    },
    {
     "data": {
      "text/html": [
       "<div>\n",
       "<style scoped>\n",
       "    .dataframe tbody tr th:only-of-type {\n",
       "        vertical-align: middle;\n",
       "    }\n",
       "\n",
       "    .dataframe tbody tr th {\n",
       "        vertical-align: top;\n",
       "    }\n",
       "\n",
       "    .dataframe thead th {\n",
       "        text-align: right;\n",
       "    }\n",
       "</style>\n",
       "<table border=\"1\" class=\"dataframe\">\n",
       "  <thead>\n",
       "    <tr style=\"text-align: right;\">\n",
       "      <th></th>\n",
       "      <th>0</th>\n",
       "      <th>1</th>\n",
       "      <th>2</th>\n",
       "      <th>3</th>\n",
       "    </tr>\n",
       "  </thead>\n",
       "  <tbody>\n",
       "    <tr>\n",
       "      <th>0</th>\n",
       "      <td>1.0</td>\n",
       "      <td>41.0</td>\n",
       "      <td>49600.0</td>\n",
       "      <td>1.0</td>\n",
       "    </tr>\n",
       "    <tr>\n",
       "      <th>1</th>\n",
       "      <td>0.0</td>\n",
       "      <td>46.0</td>\n",
       "      <td>38000.0</td>\n",
       "      <td>1.0</td>\n",
       "    </tr>\n",
       "    <tr>\n",
       "      <th>2</th>\n",
       "      <td>0.0</td>\n",
       "      <td>29.0</td>\n",
       "      <td>21000.0</td>\n",
       "      <td>0.0</td>\n",
       "    </tr>\n",
       "    <tr>\n",
       "      <th>3</th>\n",
       "      <td>0.0</td>\n",
       "      <td>21.0</td>\n",
       "      <td>41700.0</td>\n",
       "      <td>2.0</td>\n",
       "    </tr>\n",
       "    <tr>\n",
       "      <th>4</th>\n",
       "      <td>1.0</td>\n",
       "      <td>28.0</td>\n",
       "      <td>26100.0</td>\n",
       "      <td>0.0</td>\n",
       "    </tr>\n",
       "    <tr>\n",
       "      <th>...</th>\n",
       "      <td>...</td>\n",
       "      <td>...</td>\n",
       "      <td>...</td>\n",
       "      <td>...</td>\n",
       "    </tr>\n",
       "    <tr>\n",
       "      <th>4842</th>\n",
       "      <td>0.0</td>\n",
       "      <td>28.0</td>\n",
       "      <td>35700.0</td>\n",
       "      <td>2.0</td>\n",
       "    </tr>\n",
       "    <tr>\n",
       "      <th>4843</th>\n",
       "      <td>0.0</td>\n",
       "      <td>34.0</td>\n",
       "      <td>52400.0</td>\n",
       "      <td>1.0</td>\n",
       "    </tr>\n",
       "    <tr>\n",
       "      <th>4844</th>\n",
       "      <td>0.0</td>\n",
       "      <td>20.0</td>\n",
       "      <td>33900.0</td>\n",
       "      <td>2.0</td>\n",
       "    </tr>\n",
       "    <tr>\n",
       "      <th>4845</th>\n",
       "      <td>1.0</td>\n",
       "      <td>22.0</td>\n",
       "      <td>32700.0</td>\n",
       "      <td>3.0</td>\n",
       "    </tr>\n",
       "    <tr>\n",
       "      <th>4846</th>\n",
       "      <td>1.0</td>\n",
       "      <td>28.0</td>\n",
       "      <td>40600.0</td>\n",
       "      <td>1.0</td>\n",
       "    </tr>\n",
       "  </tbody>\n",
       "</table>\n",
       "<p>4847 rows × 4 columns</p>\n",
       "</div>"
      ],
      "text/plain": [
       "        0     1        2    3\n",
       "0     1.0  41.0  49600.0  1.0\n",
       "1     0.0  46.0  38000.0  1.0\n",
       "2     0.0  29.0  21000.0  0.0\n",
       "3     0.0  21.0  41700.0  2.0\n",
       "4     1.0  28.0  26100.0  0.0\n",
       "...   ...   ...      ...  ...\n",
       "4842  0.0  28.0  35700.0  2.0\n",
       "4843  0.0  34.0  52400.0  1.0\n",
       "4844  0.0  20.0  33900.0  2.0\n",
       "4845  1.0  22.0  32700.0  3.0\n",
       "4846  1.0  28.0  40600.0  1.0\n",
       "\n",
       "[4847 rows x 4 columns]"
      ]
     },
     "execution_count": 26,
     "metadata": {},
     "output_type": "execute_result"
    }
   ],
   "source": [
    "display(features)\n",
    "np.abs(np.around(new_features @ rnd_features))"
   ]
  },
  {
   "cell_type": "markdown",
   "metadata": {},
   "source": [
    "**Вывод:** Задачей данного проекта необходимо было защитить данные клиентов страховой компании «Хоть потоп». Разработать такой метод преобразования данных, чтобы по ним было сложно восстановить персональную информацию. Обоснуйте корректность его работы.\n",
    "\n",
    "* 1 Этапом мы ознакомились с данными. Данные состоят из 5 тыс. строк и 5 признаков, 1 из которых в дальнейшем будет целевой, а именно \"Страховые выплаты\". Так же было 153 дубликата которые мы удалили. Еще мы посмотрели на корреляцию данных, больше взаимосвязь показали \"Возраст\" и \"Страховые выплаты\"\n",
    "\n",
    "* 2 Этапом нам необходимо было выявить, изменится ли качество линейной регрессии. Если признаки умножают на обратимую матрицу. Мы обосновали с помощью формул.[Умножение матриц](#Умножение-матриц)\n",
    "\n",
    "* 3 и 4 Этапом мы продумали и воспользовались алгоритмом преобразования. Нам удалось зашифровать данные с помощью умножения наших признаков на обратную матрицу. При использование модели Линейной регрессии качество метрики **r2** до и после шифрования составило **0.43**. Так же алгоритм позволяет вернуть нам исходные признаки. При этом алгоритм каждый раз меняет данные, что делает практически невозможным процесс дешифрования. \n",
    "\n",
    "**Итог:** Данный алгоритм подходить для нашей задачи."
   ]
  },
  {
   "cell_type": "markdown",
   "metadata": {},
   "source": [
    "## Чек-лист проверки"
   ]
  },
  {
   "cell_type": "markdown",
   "metadata": {},
   "source": [
    "Поставьте 'x' в выполненных пунктах. Далее нажмите Shift+Enter."
   ]
  },
  {
   "cell_type": "markdown",
   "metadata": {},
   "source": [
    "- [x]  Jupyter Notebook открыт\n",
    "- [ ]  Весь код выполняется без ошибок\n",
    "- [ ]  Ячейки с кодом расположены в порядке исполнения\n",
    "- [ ]  Выполнен шаг 1: данные загружены\n",
    "- [ ]  Выполнен шаг 2: получен ответ на вопрос об умножении матриц\n",
    "    - [ ]  Указан правильный вариант ответа\n",
    "    - [ ]  Вариант обоснован\n",
    "- [ ]  Выполнен шаг 3: предложен алгоритм преобразования\n",
    "    - [ ]  Алгоритм описан\n",
    "    - [ ]  Алгоритм обоснован\n",
    "- [ ]  Выполнен шаг 4: алгоритм проверен\n",
    "    - [ ]  Алгоритм реализован\n",
    "    - [ ]  Проведено сравнение качества моделей до и после преобразования"
   ]
  },
  {
   "cell_type": "code",
   "execution_count": null,
   "metadata": {},
   "outputs": [],
   "source": []
  }
 ],
 "metadata": {
  "ExecuteTimeLog": [
   {
    "duration": 402,
    "start_time": "2023-04-07T13:06:56.548Z"
   },
   {
    "duration": 4,
    "start_time": "2023-04-07T13:07:22.547Z"
   },
   {
    "duration": 4,
    "start_time": "2023-04-07T13:07:32.816Z"
   },
   {
    "duration": 86,
    "start_time": "2023-04-07T13:12:18.454Z"
   },
   {
    "duration": 46,
    "start_time": "2023-04-07T13:12:50.255Z"
   },
   {
    "duration": 38,
    "start_time": "2023-04-07T13:12:56.286Z"
   },
   {
    "duration": 37,
    "start_time": "2023-04-07T13:13:03.321Z"
   },
   {
    "duration": 39,
    "start_time": "2023-04-07T13:17:52.699Z"
   },
   {
    "duration": 77,
    "start_time": "2023-04-07T13:44:51.221Z"
   },
   {
    "duration": 9,
    "start_time": "2023-04-07T13:44:57.995Z"
   },
   {
    "duration": 11,
    "start_time": "2023-04-07T13:45:35.144Z"
   },
   {
    "duration": 11,
    "start_time": "2023-04-07T13:46:58.263Z"
   },
   {
    "duration": 20,
    "start_time": "2023-04-07T13:49:54.208Z"
   },
   {
    "duration": 362,
    "start_time": "2023-04-07T13:55:13.063Z"
   },
   {
    "duration": 5,
    "start_time": "2023-04-07T13:55:25.012Z"
   },
   {
    "duration": 11,
    "start_time": "2023-04-07T13:55:39.368Z"
   },
   {
    "duration": 1230,
    "start_time": "2023-04-07T13:56:07.436Z"
   },
   {
    "duration": 787,
    "start_time": "2023-04-07T13:56:12.581Z"
   },
   {
    "duration": 608,
    "start_time": "2023-04-07T13:56:22.850Z"
   },
   {
    "duration": 562,
    "start_time": "2023-04-07T13:56:29.704Z"
   },
   {
    "duration": 599,
    "start_time": "2023-04-07T13:56:33.550Z"
   },
   {
    "duration": 550,
    "start_time": "2023-04-07T13:56:38.759Z"
   },
   {
    "duration": 565,
    "start_time": "2023-04-07T13:56:54.283Z"
   },
   {
    "duration": 514,
    "start_time": "2023-04-07T13:57:32.366Z"
   },
   {
    "duration": 670,
    "start_time": "2023-04-07T13:57:37.665Z"
   },
   {
    "duration": 630,
    "start_time": "2023-04-07T13:57:56.421Z"
   },
   {
    "duration": 692,
    "start_time": "2023-04-07T13:58:02.907Z"
   },
   {
    "duration": 580,
    "start_time": "2023-04-07T14:01:07.918Z"
   },
   {
    "duration": 6,
    "start_time": "2023-04-07T14:03:21.073Z"
   },
   {
    "duration": 12,
    "start_time": "2023-04-07T14:18:34.032Z"
   },
   {
    "duration": 7,
    "start_time": "2023-04-07T14:21:01.898Z"
   },
   {
    "duration": 8,
    "start_time": "2023-04-07T14:21:09.822Z"
   },
   {
    "duration": 10,
    "start_time": "2023-04-07T14:21:23.701Z"
   },
   {
    "duration": 47,
    "start_time": "2023-04-07T14:30:53.109Z"
   },
   {
    "duration": 12,
    "start_time": "2023-04-07T14:31:31.023Z"
   },
   {
    "duration": 10,
    "start_time": "2023-04-07T14:31:43.024Z"
   },
   {
    "duration": 5,
    "start_time": "2023-04-07T14:32:21.506Z"
   },
   {
    "duration": 9421,
    "start_time": "2023-04-07T14:32:39.503Z"
   },
   {
    "duration": 20,
    "start_time": "2023-04-07T14:33:51.507Z"
   },
   {
    "duration": 10,
    "start_time": "2023-04-07T14:33:58.405Z"
   },
   {
    "duration": 529,
    "start_time": "2023-04-07T14:34:35.046Z"
   },
   {
    "duration": 505,
    "start_time": "2023-04-07T14:34:50.257Z"
   },
   {
    "duration": 17,
    "start_time": "2023-04-07T14:35:19.276Z"
   },
   {
    "duration": 17,
    "start_time": "2023-04-07T14:35:24.998Z"
   },
   {
    "duration": 534,
    "start_time": "2023-04-07T14:35:36.219Z"
   },
   {
    "duration": 497,
    "start_time": "2023-04-07T14:35:56.460Z"
   },
   {
    "duration": 861,
    "start_time": "2023-04-07T14:36:04.432Z"
   },
   {
    "duration": 518,
    "start_time": "2023-04-07T14:36:09.463Z"
   },
   {
    "duration": 4,
    "start_time": "2023-04-07T14:43:37.963Z"
   },
   {
    "duration": 542,
    "start_time": "2023-04-07T14:44:04.460Z"
   },
   {
    "duration": 569,
    "start_time": "2023-04-07T14:45:10.958Z"
   },
   {
    "duration": 99,
    "start_time": "2023-04-07T14:47:53.911Z"
   },
   {
    "duration": 5,
    "start_time": "2023-04-07T14:48:00.644Z"
   },
   {
    "duration": 3,
    "start_time": "2023-04-07T14:48:47.080Z"
   },
   {
    "duration": 9,
    "start_time": "2023-04-07T14:48:48.673Z"
   },
   {
    "duration": 522,
    "start_time": "2023-04-07T14:48:57.113Z"
   },
   {
    "duration": 5,
    "start_time": "2023-04-07T14:53:22.706Z"
   },
   {
    "duration": 490,
    "start_time": "2023-04-07T14:54:09.275Z"
   },
   {
    "duration": 4,
    "start_time": "2023-04-07T14:54:32.563Z"
   },
   {
    "duration": 605,
    "start_time": "2023-04-07T14:54:33.787Z"
   },
   {
    "duration": 4,
    "start_time": "2023-04-07T14:54:45.167Z"
   },
   {
    "duration": 497,
    "start_time": "2023-04-07T14:54:47.484Z"
   },
   {
    "duration": 596,
    "start_time": "2023-04-07T14:54:51.954Z"
   },
   {
    "duration": 506,
    "start_time": "2023-04-07T14:57:10.492Z"
   },
   {
    "duration": 177,
    "start_time": "2023-04-07T14:57:19.817Z"
   },
   {
    "duration": 3,
    "start_time": "2023-04-07T14:57:30.590Z"
   },
   {
    "duration": 160,
    "start_time": "2023-04-07T14:57:32.452Z"
   },
   {
    "duration": 3,
    "start_time": "2023-04-07T14:57:38.955Z"
   },
   {
    "duration": 5,
    "start_time": "2023-04-07T14:57:40.591Z"
   },
   {
    "duration": 158,
    "start_time": "2023-04-07T14:57:40.768Z"
   },
   {
    "duration": 649,
    "start_time": "2023-04-07T14:57:41.967Z"
   },
   {
    "duration": 4,
    "start_time": "2023-04-07T14:57:49.268Z"
   },
   {
    "duration": 173,
    "start_time": "2023-04-07T14:57:49.439Z"
   },
   {
    "duration": 498,
    "start_time": "2023-04-07T14:57:51.299Z"
   },
   {
    "duration": 7470,
    "start_time": "2023-04-07T14:58:16.410Z"
   },
   {
    "duration": 171,
    "start_time": "2023-04-07T14:58:48.617Z"
   },
   {
    "duration": 830,
    "start_time": "2023-04-07T14:59:14.557Z"
   },
   {
    "duration": 11,
    "start_time": "2023-04-07T15:01:42.613Z"
   },
   {
    "duration": 3,
    "start_time": "2023-04-07T15:02:13.589Z"
   },
   {
    "duration": 4,
    "start_time": "2023-04-07T15:05:21.069Z"
   },
   {
    "duration": 9,
    "start_time": "2023-04-07T15:05:25.602Z"
   },
   {
    "duration": 5,
    "start_time": "2023-04-07T15:05:38.893Z"
   },
   {
    "duration": 5,
    "start_time": "2023-04-07T15:09:07.363Z"
   },
   {
    "duration": 9,
    "start_time": "2023-04-07T15:16:25.214Z"
   },
   {
    "duration": 1259,
    "start_time": "2023-04-07T15:16:43.090Z"
   },
   {
    "duration": 2,
    "start_time": "2023-04-07T15:16:44.351Z"
   },
   {
    "duration": 8,
    "start_time": "2023-04-07T15:16:44.355Z"
   },
   {
    "duration": 46,
    "start_time": "2023-04-07T15:16:44.365Z"
   },
   {
    "duration": 32,
    "start_time": "2023-04-07T15:16:44.413Z"
   },
   {
    "duration": 6,
    "start_time": "2023-04-07T15:16:44.446Z"
   },
   {
    "duration": 14,
    "start_time": "2023-04-07T15:16:44.454Z"
   },
   {
    "duration": 4,
    "start_time": "2023-04-07T15:16:44.469Z"
   },
   {
    "duration": 12,
    "start_time": "2023-04-07T15:16:44.475Z"
   },
   {
    "duration": 682,
    "start_time": "2023-04-07T15:16:44.517Z"
   },
   {
    "duration": 4,
    "start_time": "2023-04-07T15:16:45.201Z"
   },
   {
    "duration": 293,
    "start_time": "2023-04-07T15:16:45.218Z"
   },
   {
    "duration": 514,
    "start_time": "2023-04-07T15:16:45.513Z"
   },
   {
    "duration": 173,
    "start_time": "2023-04-07T15:16:46.029Z"
   },
   {
    "duration": 14,
    "start_time": "2023-04-07T15:16:46.204Z"
   },
   {
    "duration": 5,
    "start_time": "2023-04-07T15:16:46.220Z"
   },
   {
    "duration": 49,
    "start_time": "2023-04-07T15:16:46.227Z"
   },
   {
    "duration": 247,
    "start_time": "2023-04-07T15:17:37.272Z"
   },
   {
    "duration": 506,
    "start_time": "2023-04-07T15:17:50.738Z"
   },
   {
    "duration": 10,
    "start_time": "2023-04-07T15:17:55.276Z"
   },
   {
    "duration": 4,
    "start_time": "2023-04-07T16:02:59.461Z"
   },
   {
    "duration": 3,
    "start_time": "2023-04-07T16:03:51.753Z"
   },
   {
    "duration": 3,
    "start_time": "2023-04-07T16:04:02.041Z"
   },
   {
    "duration": 28,
    "start_time": "2023-04-07T16:04:02.046Z"
   },
   {
    "duration": 19,
    "start_time": "2023-04-07T16:04:02.075Z"
   },
   {
    "duration": 42,
    "start_time": "2023-04-07T16:04:02.096Z"
   },
   {
    "duration": 35,
    "start_time": "2023-04-07T16:04:03.732Z"
   },
   {
    "duration": 3,
    "start_time": "2023-04-07T16:04:07.832Z"
   },
   {
    "duration": 29,
    "start_time": "2023-04-07T16:04:08.814Z"
   },
   {
    "duration": 11,
    "start_time": "2023-04-07T16:04:50.988Z"
   },
   {
    "duration": 10,
    "start_time": "2023-04-07T16:04:57.370Z"
   },
   {
    "duration": 6,
    "start_time": "2023-04-07T16:05:00.210Z"
   },
   {
    "duration": 9,
    "start_time": "2023-04-07T16:05:03.394Z"
   },
   {
    "duration": 18,
    "start_time": "2023-04-07T16:15:28.733Z"
   },
   {
    "duration": 243,
    "start_time": "2023-04-07T16:15:48.360Z"
   },
   {
    "duration": 253,
    "start_time": "2023-04-07T16:15:52.114Z"
   },
   {
    "duration": 244,
    "start_time": "2023-04-07T16:16:02.957Z"
   },
   {
    "duration": 3,
    "start_time": "2023-04-07T16:16:19.789Z"
   },
   {
    "duration": 5,
    "start_time": "2023-04-07T16:16:31.406Z"
   },
   {
    "duration": 5,
    "start_time": "2023-04-07T16:16:49.798Z"
   },
   {
    "duration": 8,
    "start_time": "2023-04-07T16:17:09.891Z"
   },
   {
    "duration": 5,
    "start_time": "2023-04-07T16:17:45.794Z"
   },
   {
    "duration": 5,
    "start_time": "2023-04-07T16:17:49.725Z"
   },
   {
    "duration": 4,
    "start_time": "2023-04-07T16:18:11.115Z"
   },
   {
    "duration": 6,
    "start_time": "2023-04-07T16:18:25.940Z"
   },
   {
    "duration": 7,
    "start_time": "2023-04-07T16:18:35.007Z"
   },
   {
    "duration": 6,
    "start_time": "2023-04-07T16:18:46.501Z"
   },
   {
    "duration": 6,
    "start_time": "2023-04-07T16:18:50.136Z"
   },
   {
    "duration": 5,
    "start_time": "2023-04-07T16:18:57.003Z"
   },
   {
    "duration": 11,
    "start_time": "2023-04-07T16:21:32.446Z"
   },
   {
    "duration": 176,
    "start_time": "2023-04-07T16:21:39.497Z"
   },
   {
    "duration": 4,
    "start_time": "2023-04-07T16:23:08.844Z"
   },
   {
    "duration": 87,
    "start_time": "2023-04-07T16:24:31.981Z"
   },
   {
    "duration": 5,
    "start_time": "2023-04-07T16:25:00.973Z"
   },
   {
    "duration": 5,
    "start_time": "2023-04-07T16:25:07.283Z"
   },
   {
    "duration": 4,
    "start_time": "2023-04-07T16:25:11.703Z"
   },
   {
    "duration": 5,
    "start_time": "2023-04-07T16:25:15.347Z"
   },
   {
    "duration": 5,
    "start_time": "2023-04-07T16:27:15.336Z"
   },
   {
    "duration": 8,
    "start_time": "2023-04-07T16:27:39.789Z"
   },
   {
    "duration": 6,
    "start_time": "2023-04-07T16:27:43.435Z"
   },
   {
    "duration": 5,
    "start_time": "2023-04-07T16:27:45.013Z"
   },
   {
    "duration": 10,
    "start_time": "2023-04-07T16:28:43.518Z"
   },
   {
    "duration": 5,
    "start_time": "2023-04-07T16:29:12.259Z"
   },
   {
    "duration": 5,
    "start_time": "2023-04-07T16:31:14.510Z"
   },
   {
    "duration": 5,
    "start_time": "2023-04-07T16:31:14.742Z"
   },
   {
    "duration": 5,
    "start_time": "2023-04-07T16:31:15.108Z"
   },
   {
    "duration": 160,
    "start_time": "2023-04-07T16:34:30.190Z"
   },
   {
    "duration": 5,
    "start_time": "2023-04-07T16:34:32.656Z"
   },
   {
    "duration": 4,
    "start_time": "2023-04-07T16:41:03.535Z"
   },
   {
    "duration": 11,
    "start_time": "2023-04-07T16:41:08.557Z"
   },
   {
    "duration": 7,
    "start_time": "2023-04-07T16:42:37.408Z"
   },
   {
    "duration": 7,
    "start_time": "2023-04-07T16:47:14.294Z"
   },
   {
    "duration": 1443,
    "start_time": "2023-04-07T16:47:23.738Z"
   },
   {
    "duration": 3,
    "start_time": "2023-04-07T16:47:25.183Z"
   },
   {
    "duration": 19,
    "start_time": "2023-04-07T16:47:25.188Z"
   },
   {
    "duration": 63,
    "start_time": "2023-04-07T16:47:25.209Z"
   },
   {
    "duration": 3,
    "start_time": "2023-04-07T16:47:25.273Z"
   },
   {
    "duration": 52,
    "start_time": "2023-04-07T16:47:25.277Z"
   },
   {
    "duration": 6,
    "start_time": "2023-04-07T16:47:25.331Z"
   },
   {
    "duration": 29,
    "start_time": "2023-04-07T16:47:25.338Z"
   },
   {
    "duration": 20,
    "start_time": "2023-04-07T16:47:25.368Z"
   },
   {
    "duration": 699,
    "start_time": "2023-04-07T16:47:25.391Z"
   },
   {
    "duration": 3,
    "start_time": "2023-04-07T16:47:26.092Z"
   },
   {
    "duration": 163,
    "start_time": "2023-04-07T16:47:26.097Z"
   },
   {
    "duration": 605,
    "start_time": "2023-04-07T16:47:26.262Z"
   },
   {
    "duration": 167,
    "start_time": "2023-04-07T16:47:26.868Z"
   },
   {
    "duration": 4,
    "start_time": "2023-04-07T16:47:27.037Z"
   },
   {
    "duration": 20,
    "start_time": "2023-04-07T16:47:27.042Z"
   },
   {
    "duration": 17,
    "start_time": "2023-04-07T16:47:27.064Z"
   },
   {
    "duration": 21,
    "start_time": "2023-04-07T16:47:27.082Z"
   },
   {
    "duration": 21,
    "start_time": "2023-04-07T16:47:27.120Z"
   },
   {
    "duration": 108,
    "start_time": "2023-04-07T16:47:27.143Z"
   },
   {
    "duration": 64,
    "start_time": "2023-04-07T16:47:27.253Z"
   },
   {
    "duration": 119,
    "start_time": "2023-04-07T16:47:27.324Z"
   },
   {
    "duration": 11,
    "start_time": "2023-04-07T17:01:32.628Z"
   },
   {
    "duration": 13,
    "start_time": "2023-04-07T17:02:09.923Z"
   },
   {
    "duration": 12,
    "start_time": "2023-04-07T17:02:38.773Z"
   },
   {
    "duration": 14,
    "start_time": "2023-04-07T17:08:53.576Z"
   },
   {
    "duration": 15,
    "start_time": "2023-04-07T17:09:39.623Z"
   },
   {
    "duration": 16,
    "start_time": "2023-04-07T17:10:16.476Z"
   },
   {
    "duration": 114,
    "start_time": "2023-04-07T17:10:29.572Z"
   },
   {
    "duration": 16,
    "start_time": "2023-04-07T17:10:35.093Z"
   },
   {
    "duration": 17,
    "start_time": "2023-04-07T17:10:40.035Z"
   },
   {
    "duration": 15,
    "start_time": "2023-04-07T17:11:26.415Z"
   },
   {
    "duration": 15,
    "start_time": "2023-04-07T17:11:29.880Z"
   },
   {
    "duration": 13,
    "start_time": "2023-04-07T17:12:19.155Z"
   },
   {
    "duration": 15,
    "start_time": "2023-04-07T17:12:35.400Z"
   },
   {
    "duration": 16,
    "start_time": "2023-04-07T17:12:41.771Z"
   },
   {
    "duration": 16,
    "start_time": "2023-04-07T17:12:56.629Z"
   },
   {
    "duration": 19,
    "start_time": "2023-04-07T17:13:19.183Z"
   },
   {
    "duration": 10,
    "start_time": "2023-04-07T17:14:48.880Z"
   },
   {
    "duration": 23,
    "start_time": "2023-04-07T17:14:56.536Z"
   },
   {
    "duration": 11,
    "start_time": "2023-04-07T17:15:45.194Z"
   },
   {
    "duration": 10,
    "start_time": "2023-04-07T17:15:49.538Z"
   },
   {
    "duration": 14,
    "start_time": "2023-04-07T17:16:57.107Z"
   },
   {
    "duration": 4,
    "start_time": "2023-04-07T17:21:10.377Z"
   },
   {
    "duration": 15,
    "start_time": "2023-04-07T17:23:35.600Z"
   },
   {
    "duration": 15,
    "start_time": "2023-04-07T21:14:02.255Z"
   },
   {
    "duration": 90,
    "start_time": "2023-04-07T21:14:22.418Z"
   },
   {
    "duration": 71,
    "start_time": "2023-04-07T21:14:26.823Z"
   },
   {
    "duration": 77,
    "start_time": "2023-04-07T21:14:33.185Z"
   },
   {
    "duration": 19,
    "start_time": "2023-04-07T21:15:11.975Z"
   },
   {
    "duration": 23,
    "start_time": "2023-04-07T21:15:50.590Z"
   },
   {
    "duration": 14,
    "start_time": "2023-04-07T21:22:05.132Z"
   },
   {
    "duration": 14,
    "start_time": "2023-04-07T21:22:15.722Z"
   },
   {
    "duration": 19,
    "start_time": "2023-04-07T21:22:50.825Z"
   },
   {
    "duration": 23,
    "start_time": "2023-04-07T21:23:02.945Z"
   },
   {
    "duration": 1431,
    "start_time": "2023-04-07T21:36:13.742Z"
   },
   {
    "duration": 4,
    "start_time": "2023-04-07T21:36:15.175Z"
   },
   {
    "duration": 14,
    "start_time": "2023-04-07T21:36:15.180Z"
   },
   {
    "duration": 66,
    "start_time": "2023-04-07T21:36:15.197Z"
   },
   {
    "duration": 2,
    "start_time": "2023-04-07T21:36:15.265Z"
   },
   {
    "duration": 42,
    "start_time": "2023-04-07T21:36:15.269Z"
   },
   {
    "duration": 6,
    "start_time": "2023-04-07T21:36:15.313Z"
   },
   {
    "duration": 24,
    "start_time": "2023-04-07T21:36:15.321Z"
   },
   {
    "duration": 26,
    "start_time": "2023-04-07T21:36:15.346Z"
   },
   {
    "duration": 627,
    "start_time": "2023-04-07T21:36:15.375Z"
   },
   {
    "duration": 3,
    "start_time": "2023-04-07T21:36:16.004Z"
   },
   {
    "duration": 140,
    "start_time": "2023-04-07T21:36:16.017Z"
   },
   {
    "duration": 572,
    "start_time": "2023-04-07T21:36:16.158Z"
   },
   {
    "duration": 162,
    "start_time": "2023-04-07T21:36:16.731Z"
   },
   {
    "duration": 3,
    "start_time": "2023-04-07T21:36:16.895Z"
   },
   {
    "duration": 25,
    "start_time": "2023-04-07T21:36:16.900Z"
   },
   {
    "duration": 32,
    "start_time": "2023-04-07T21:36:16.927Z"
   },
   {
    "duration": 17,
    "start_time": "2023-04-07T21:36:16.961Z"
   },
   {
    "duration": 244,
    "start_time": "2023-04-07T21:36:16.981Z"
   },
   {
    "duration": 0,
    "start_time": "2023-04-07T21:36:17.226Z"
   },
   {
    "duration": 0,
    "start_time": "2023-04-07T21:36:17.227Z"
   },
   {
    "duration": 0,
    "start_time": "2023-04-07T21:36:17.228Z"
   },
   {
    "duration": 0,
    "start_time": "2023-04-07T21:36:17.230Z"
   },
   {
    "duration": 9,
    "start_time": "2023-04-07T21:36:55.114Z"
   },
   {
    "duration": 440,
    "start_time": "2023-04-07T21:37:00.411Z"
   },
   {
    "duration": 5,
    "start_time": "2023-04-07T21:39:53.415Z"
   },
   {
    "duration": 19,
    "start_time": "2023-04-07T21:40:03.693Z"
   },
   {
    "duration": 12,
    "start_time": "2023-04-07T21:40:09.116Z"
   },
   {
    "duration": 22,
    "start_time": "2023-04-07T21:40:14.056Z"
   },
   {
    "duration": 178,
    "start_time": "2023-04-10T11:46:18.226Z"
   },
   {
    "duration": 98,
    "start_time": "2023-04-10T11:49:34.083Z"
   },
   {
    "duration": 156,
    "start_time": "2023-04-10T11:50:29.747Z"
   },
   {
    "duration": 1935,
    "start_time": "2023-04-10T12:07:07.085Z"
   },
   {
    "duration": 3,
    "start_time": "2023-04-10T12:07:09.023Z"
   },
   {
    "duration": 28,
    "start_time": "2023-04-10T12:07:09.027Z"
   },
   {
    "duration": 123,
    "start_time": "2023-04-10T12:07:09.056Z"
   },
   {
    "duration": 3,
    "start_time": "2023-04-10T12:07:09.182Z"
   },
   {
    "duration": 49,
    "start_time": "2023-04-10T12:07:09.187Z"
   },
   {
    "duration": 6,
    "start_time": "2023-04-10T12:07:09.238Z"
   },
   {
    "duration": 28,
    "start_time": "2023-04-10T12:07:09.246Z"
   },
   {
    "duration": 19,
    "start_time": "2023-04-10T12:07:09.276Z"
   },
   {
    "duration": 686,
    "start_time": "2023-04-10T12:07:09.297Z"
   },
   {
    "duration": 3,
    "start_time": "2023-04-10T12:07:09.986Z"
   },
   {
    "duration": 157,
    "start_time": "2023-04-10T12:07:09.992Z"
   },
   {
    "duration": 690,
    "start_time": "2023-04-10T12:07:10.152Z"
   },
   {
    "duration": 166,
    "start_time": "2023-04-10T12:07:10.846Z"
   },
   {
    "duration": 4,
    "start_time": "2023-04-10T12:07:11.014Z"
   },
   {
    "duration": 13,
    "start_time": "2023-04-10T12:07:11.020Z"
   },
   {
    "duration": 16,
    "start_time": "2023-04-10T12:07:11.035Z"
   },
   {
    "duration": 35,
    "start_time": "2023-04-10T12:07:11.054Z"
   },
   {
    "duration": 106,
    "start_time": "2023-04-10T12:07:11.091Z"
   },
   {
    "duration": 26,
    "start_time": "2023-04-10T12:07:11.199Z"
   },
   {
    "duration": 61,
    "start_time": "2023-04-10T12:07:11.227Z"
   },
   {
    "duration": 113,
    "start_time": "2023-04-10T12:07:11.291Z"
   },
   {
    "duration": 196,
    "start_time": "2023-04-10T12:07:11.407Z"
   },
   {
    "duration": 1855,
    "start_time": "2023-04-10T15:31:55.657Z"
   },
   {
    "duration": 4,
    "start_time": "2023-04-10T15:31:57.515Z"
   },
   {
    "duration": 7,
    "start_time": "2023-04-10T15:31:57.521Z"
   },
   {
    "duration": 150,
    "start_time": "2023-04-10T15:31:57.530Z"
   },
   {
    "duration": 5,
    "start_time": "2023-04-10T15:31:57.683Z"
   },
   {
    "duration": 36,
    "start_time": "2023-04-10T15:31:57.689Z"
   },
   {
    "duration": 7,
    "start_time": "2023-04-10T15:31:57.727Z"
   },
   {
    "duration": 11,
    "start_time": "2023-04-10T15:31:57.736Z"
   },
   {
    "duration": 10,
    "start_time": "2023-04-10T15:31:57.749Z"
   },
   {
    "duration": 693,
    "start_time": "2023-04-10T15:31:57.761Z"
   },
   {
    "duration": 3,
    "start_time": "2023-04-10T15:31:58.456Z"
   },
   {
    "duration": 195,
    "start_time": "2023-04-10T15:31:58.461Z"
   },
   {
    "duration": 1244,
    "start_time": "2023-04-10T15:31:58.712Z"
   },
   {
    "duration": 300,
    "start_time": "2023-04-10T15:31:59.958Z"
   },
   {
    "duration": 4,
    "start_time": "2023-04-10T15:32:00.312Z"
   },
   {
    "duration": 47,
    "start_time": "2023-04-10T15:32:00.318Z"
   },
   {
    "duration": 66,
    "start_time": "2023-04-10T15:32:00.367Z"
   },
   {
    "duration": 33,
    "start_time": "2023-04-10T15:32:00.435Z"
   },
   {
    "duration": 144,
    "start_time": "2023-04-10T15:32:00.471Z"
   },
   {
    "duration": 36,
    "start_time": "2023-04-10T15:32:00.616Z"
   },
   {
    "duration": 59,
    "start_time": "2023-04-10T15:32:00.654Z"
   },
   {
    "duration": 7,
    "start_time": "2023-04-10T15:32:00.715Z"
   },
   {
    "duration": 128,
    "start_time": "2023-04-10T15:32:00.811Z"
   },
   {
    "duration": 1706,
    "start_time": "2023-04-10T15:35:12.307Z"
   },
   {
    "duration": 2,
    "start_time": "2023-04-10T15:35:14.016Z"
   },
   {
    "duration": 11,
    "start_time": "2023-04-10T15:35:14.020Z"
   },
   {
    "duration": 45,
    "start_time": "2023-04-10T15:35:14.033Z"
   },
   {
    "duration": 3,
    "start_time": "2023-04-10T15:35:14.079Z"
   },
   {
    "duration": 36,
    "start_time": "2023-04-10T15:35:14.084Z"
   },
   {
    "duration": 6,
    "start_time": "2023-04-10T15:35:14.122Z"
   },
   {
    "duration": 15,
    "start_time": "2023-04-10T15:35:14.130Z"
   },
   {
    "duration": 10,
    "start_time": "2023-04-10T15:35:14.147Z"
   },
   {
    "duration": 695,
    "start_time": "2023-04-10T15:35:14.159Z"
   },
   {
    "duration": 3,
    "start_time": "2023-04-10T15:35:14.856Z"
   },
   {
    "duration": 146,
    "start_time": "2023-04-10T15:35:14.861Z"
   },
   {
    "duration": 548,
    "start_time": "2023-04-10T15:35:15.011Z"
   },
   {
    "duration": 153,
    "start_time": "2023-04-10T15:35:15.561Z"
   },
   {
    "duration": 3,
    "start_time": "2023-04-10T15:35:15.716Z"
   },
   {
    "duration": 15,
    "start_time": "2023-04-10T15:35:15.721Z"
   },
   {
    "duration": 7,
    "start_time": "2023-04-10T15:35:15.737Z"
   },
   {
    "duration": 6,
    "start_time": "2023-04-10T15:35:15.746Z"
   },
   {
    "duration": 60,
    "start_time": "2023-04-10T15:35:15.753Z"
   },
   {
    "duration": 16,
    "start_time": "2023-04-10T15:35:15.815Z"
   },
   {
    "duration": 10,
    "start_time": "2023-04-10T15:35:15.913Z"
   },
   {
    "duration": 186,
    "start_time": "2023-04-10T15:35:15.926Z"
   },
   {
    "duration": 112,
    "start_time": "2023-04-10T15:35:16.115Z"
   },
   {
    "duration": 64,
    "start_time": "2023-04-11T08:37:36.586Z"
   },
   {
    "duration": 1638,
    "start_time": "2023-04-11T08:37:44.385Z"
   },
   {
    "duration": 3,
    "start_time": "2023-04-11T08:37:50.229Z"
   },
   {
    "duration": 10,
    "start_time": "2023-04-11T08:37:50.234Z"
   },
   {
    "duration": 9,
    "start_time": "2023-04-11T08:37:50.246Z"
   },
   {
    "duration": 103,
    "start_time": "2023-04-11T08:37:50.257Z"
   },
   {
    "duration": 3,
    "start_time": "2023-04-11T08:37:50.362Z"
   },
   {
    "duration": 48,
    "start_time": "2023-04-11T08:37:50.367Z"
   },
   {
    "duration": 6,
    "start_time": "2023-04-11T08:37:50.417Z"
   },
   {
    "duration": 11,
    "start_time": "2023-04-11T08:37:50.425Z"
   },
   {
    "duration": 80,
    "start_time": "2023-04-11T08:37:50.438Z"
   },
   {
    "duration": 0,
    "start_time": "2023-04-11T08:37:50.520Z"
   },
   {
    "duration": 0,
    "start_time": "2023-04-11T08:37:50.533Z"
   },
   {
    "duration": 0,
    "start_time": "2023-04-11T08:37:50.535Z"
   },
   {
    "duration": 0,
    "start_time": "2023-04-11T08:37:50.536Z"
   },
   {
    "duration": 0,
    "start_time": "2023-04-11T08:37:50.537Z"
   },
   {
    "duration": 0,
    "start_time": "2023-04-11T08:37:50.538Z"
   },
   {
    "duration": 0,
    "start_time": "2023-04-11T08:37:50.539Z"
   },
   {
    "duration": 0,
    "start_time": "2023-04-11T08:37:50.540Z"
   },
   {
    "duration": 0,
    "start_time": "2023-04-11T08:37:50.542Z"
   },
   {
    "duration": 0,
    "start_time": "2023-04-11T08:37:50.543Z"
   },
   {
    "duration": 0,
    "start_time": "2023-04-11T08:37:50.544Z"
   },
   {
    "duration": 0,
    "start_time": "2023-04-11T08:37:50.547Z"
   },
   {
    "duration": 0,
    "start_time": "2023-04-11T08:37:50.549Z"
   },
   {
    "duration": 0,
    "start_time": "2023-04-11T08:37:50.550Z"
   },
   {
    "duration": 0,
    "start_time": "2023-04-11T08:37:50.552Z"
   },
   {
    "duration": 9,
    "start_time": "2023-04-11T08:38:24.486Z"
   },
   {
    "duration": 214,
    "start_time": "2023-04-11T08:38:29.948Z"
   },
   {
    "duration": 60,
    "start_time": "2023-04-11T08:42:30.489Z"
   },
   {
    "duration": 21,
    "start_time": "2023-04-11T09:21:36.577Z"
   },
   {
    "duration": 6,
    "start_time": "2023-04-11T09:23:16.798Z"
   },
   {
    "duration": 17,
    "start_time": "2023-04-11T09:23:56.535Z"
   },
   {
    "duration": 4,
    "start_time": "2023-04-11T09:24:07.338Z"
   },
   {
    "duration": 160,
    "start_time": "2023-04-11T09:24:08.999Z"
   },
   {
    "duration": 157,
    "start_time": "2023-04-11T09:24:34.561Z"
   },
   {
    "duration": 757,
    "start_time": "2023-04-11T09:25:48.778Z"
   },
   {
    "duration": 15,
    "start_time": "2023-04-11T09:26:12.217Z"
   },
   {
    "duration": 756,
    "start_time": "2023-04-11T09:26:14.107Z"
   },
   {
    "duration": 5,
    "start_time": "2023-04-11T09:27:00.809Z"
   },
   {
    "duration": 165,
    "start_time": "2023-04-11T09:27:02.713Z"
   },
   {
    "duration": 4,
    "start_time": "2023-04-11T09:27:23.654Z"
   },
   {
    "duration": 5,
    "start_time": "2023-04-11T09:27:26.194Z"
   },
   {
    "duration": 153,
    "start_time": "2023-04-11T09:27:26.419Z"
   },
   {
    "duration": 5,
    "start_time": "2023-04-11T09:28:10.723Z"
   },
   {
    "duration": 23,
    "start_time": "2023-04-11T09:28:13.514Z"
   },
   {
    "duration": 5,
    "start_time": "2023-04-11T09:28:33.514Z"
   },
   {
    "duration": 13,
    "start_time": "2023-04-11T09:28:35.359Z"
   },
   {
    "duration": 5,
    "start_time": "2023-04-11T09:29:00.125Z"
   },
   {
    "duration": 4,
    "start_time": "2023-04-11T09:29:05.834Z"
   },
   {
    "duration": 5,
    "start_time": "2023-04-11T09:29:06.055Z"
   },
   {
    "duration": 306,
    "start_time": "2023-04-11T09:29:06.419Z"
   },
   {
    "duration": 4,
    "start_time": "2023-04-11T09:29:28.162Z"
   },
   {
    "duration": 4,
    "start_time": "2023-04-11T09:29:29.607Z"
   },
   {
    "duration": 195,
    "start_time": "2023-04-11T09:29:30.857Z"
   },
   {
    "duration": 190,
    "start_time": "2023-04-11T09:31:44.921Z"
   },
   {
    "duration": 212,
    "start_time": "2023-04-11T09:32:01.825Z"
   },
   {
    "duration": 207,
    "start_time": "2023-04-11T09:32:39.990Z"
   },
   {
    "duration": 4,
    "start_time": "2023-04-11T09:32:50.634Z"
   },
   {
    "duration": 298,
    "start_time": "2023-04-11T09:32:51.359Z"
   },
   {
    "duration": 5,
    "start_time": "2023-04-11T09:33:20.945Z"
   },
   {
    "duration": 5,
    "start_time": "2023-04-11T09:33:21.650Z"
   },
   {
    "duration": 278,
    "start_time": "2023-04-11T09:33:21.822Z"
   },
   {
    "duration": 1361,
    "start_time": "2023-04-11T09:34:19.306Z"
   },
   {
    "duration": 193,
    "start_time": "2023-04-11T09:34:23.505Z"
   },
   {
    "duration": 163,
    "start_time": "2023-04-11T09:34:39.490Z"
   },
   {
    "duration": 185,
    "start_time": "2023-04-11T09:35:00.509Z"
   },
   {
    "duration": 4,
    "start_time": "2023-04-11T09:35:15.051Z"
   },
   {
    "duration": 149,
    "start_time": "2023-04-11T09:35:17.617Z"
   },
   {
    "duration": 4,
    "start_time": "2023-04-11T09:35:21.918Z"
   },
   {
    "duration": 456,
    "start_time": "2023-04-11T09:35:23.920Z"
   },
   {
    "duration": 4,
    "start_time": "2023-04-11T09:36:03.579Z"
   },
   {
    "duration": 19,
    "start_time": "2023-04-11T09:36:05.358Z"
   },
   {
    "duration": 4,
    "start_time": "2023-04-11T09:36:12.111Z"
   },
   {
    "duration": 15,
    "start_time": "2023-04-11T09:36:13.148Z"
   },
   {
    "duration": 3,
    "start_time": "2023-04-11T09:36:21.708Z"
   },
   {
    "duration": 133,
    "start_time": "2023-04-11T09:36:22.857Z"
   },
   {
    "duration": 4,
    "start_time": "2023-04-11T09:36:34.512Z"
   },
   {
    "duration": 147,
    "start_time": "2023-04-11T09:36:35.810Z"
   },
   {
    "duration": 3,
    "start_time": "2023-04-11T09:37:27.422Z"
   },
   {
    "duration": 16,
    "start_time": "2023-04-11T09:37:29.372Z"
   },
   {
    "duration": 120,
    "start_time": "2023-04-11T09:37:39.680Z"
   },
   {
    "duration": 3,
    "start_time": "2023-04-11T09:37:44.810Z"
   },
   {
    "duration": 151,
    "start_time": "2023-04-11T09:37:46.571Z"
   },
   {
    "duration": 4,
    "start_time": "2023-04-11T09:47:20.459Z"
   },
   {
    "duration": 6,
    "start_time": "2023-04-11T09:47:56.247Z"
   },
   {
    "duration": 6,
    "start_time": "2023-04-11T09:48:12.730Z"
   },
   {
    "duration": 33,
    "start_time": "2023-04-11T09:51:10.525Z"
   },
   {
    "duration": 63,
    "start_time": "2023-04-11T09:51:57.028Z"
   },
   {
    "duration": 36,
    "start_time": "2023-04-11T09:52:18.570Z"
   },
   {
    "duration": 51,
    "start_time": "2023-04-11T09:52:24.023Z"
   },
   {
    "duration": 1379,
    "start_time": "2023-04-11T09:52:53.878Z"
   },
   {
    "duration": 1432,
    "start_time": "2023-04-11T09:53:03.457Z"
   },
   {
    "duration": 1725,
    "start_time": "2023-04-11T09:53:36.351Z"
   },
   {
    "duration": 7,
    "start_time": "2023-04-11T09:53:44.303Z"
   },
   {
    "duration": 46,
    "start_time": "2023-04-11T09:53:48.417Z"
   },
   {
    "duration": 4,
    "start_time": "2023-04-11T09:53:52.559Z"
   },
   {
    "duration": 48,
    "start_time": "2023-04-11T09:53:55.202Z"
   },
   {
    "duration": 52,
    "start_time": "2023-04-11T09:54:38.921Z"
   },
   {
    "duration": 21,
    "start_time": "2023-04-11T09:55:14.393Z"
   },
   {
    "duration": 5,
    "start_time": "2023-04-11T09:55:51.573Z"
   },
   {
    "duration": 266,
    "start_time": "2023-04-11T09:56:41.750Z"
   },
   {
    "duration": 1728,
    "start_time": "2023-04-11T09:57:03.723Z"
   },
   {
    "duration": 23,
    "start_time": "2023-04-11T09:58:19.130Z"
   },
   {
    "duration": 46,
    "start_time": "2023-04-11T09:59:16.996Z"
   },
   {
    "duration": 32,
    "start_time": "2023-04-11T09:59:23.649Z"
   },
   {
    "duration": 19,
    "start_time": "2023-04-11T10:00:20.731Z"
   },
   {
    "duration": 6,
    "start_time": "2023-04-11T10:00:33.813Z"
   },
   {
    "duration": 309,
    "start_time": "2023-04-11T10:04:31.957Z"
   },
   {
    "duration": 3,
    "start_time": "2023-04-11T10:18:19.875Z"
   },
   {
    "duration": 53,
    "start_time": "2023-04-11T12:27:26.140Z"
   },
   {
    "duration": 1738,
    "start_time": "2023-04-11T12:27:35.090Z"
   },
   {
    "duration": 3,
    "start_time": "2023-04-11T12:27:36.831Z"
   },
   {
    "duration": 22,
    "start_time": "2023-04-11T12:27:36.836Z"
   },
   {
    "duration": 138,
    "start_time": "2023-04-11T12:27:36.860Z"
   },
   {
    "duration": 3,
    "start_time": "2023-04-11T12:27:37.000Z"
   },
   {
    "duration": 47,
    "start_time": "2023-04-11T12:27:37.004Z"
   },
   {
    "duration": 6,
    "start_time": "2023-04-11T12:27:37.053Z"
   },
   {
    "duration": 25,
    "start_time": "2023-04-11T12:27:37.060Z"
   },
   {
    "duration": 385,
    "start_time": "2023-04-11T12:27:37.087Z"
   },
   {
    "duration": 12,
    "start_time": "2023-04-11T12:27:37.474Z"
   },
   {
    "duration": 23,
    "start_time": "2023-04-11T12:27:37.488Z"
   },
   {
    "duration": 674,
    "start_time": "2023-04-11T12:27:37.513Z"
   },
   {
    "duration": 3,
    "start_time": "2023-04-11T12:27:38.189Z"
   },
   {
    "duration": 152,
    "start_time": "2023-04-11T12:27:38.194Z"
   },
   {
    "duration": 561,
    "start_time": "2023-04-11T12:27:38.348Z"
   },
   {
    "duration": 163,
    "start_time": "2023-04-11T12:27:38.911Z"
   },
   {
    "duration": 4,
    "start_time": "2023-04-11T12:27:39.076Z"
   },
   {
    "duration": 27,
    "start_time": "2023-04-11T12:27:39.081Z"
   },
   {
    "duration": 22,
    "start_time": "2023-04-11T12:27:39.110Z"
   },
   {
    "duration": 58,
    "start_time": "2023-04-11T12:27:39.133Z"
   },
   {
    "duration": 28,
    "start_time": "2023-04-11T12:27:39.194Z"
   },
   {
    "duration": 102,
    "start_time": "2023-04-11T12:27:39.224Z"
   },
   {
    "duration": 8,
    "start_time": "2023-04-11T12:27:39.328Z"
   },
   {
    "duration": 205,
    "start_time": "2023-04-11T12:27:39.338Z"
   },
   {
    "duration": 205,
    "start_time": "2023-04-11T12:27:39.545Z"
   },
   {
    "duration": 386,
    "start_time": "2023-04-11T12:28:12.492Z"
   },
   {
    "duration": 420,
    "start_time": "2023-04-11T12:29:27.688Z"
   },
   {
    "duration": 335,
    "start_time": "2023-04-11T12:31:03.256Z"
   },
   {
    "duration": 371,
    "start_time": "2023-04-11T12:31:08.019Z"
   },
   {
    "duration": 356,
    "start_time": "2023-04-11T12:31:23.332Z"
   },
   {
    "duration": 144,
    "start_time": "2023-04-11T12:32:34.598Z"
   },
   {
    "duration": 501,
    "start_time": "2023-04-11T12:33:32.608Z"
   },
   {
    "duration": 74,
    "start_time": "2023-04-11T12:33:41.371Z"
   },
   {
    "duration": 9,
    "start_time": "2023-04-11T12:35:12.571Z"
   },
   {
    "duration": 139,
    "start_time": "2023-04-11T12:35:17.769Z"
   },
   {
    "duration": 12,
    "start_time": "2023-04-11T12:36:13.909Z"
   },
   {
    "duration": 9,
    "start_time": "2023-04-11T12:36:31.009Z"
   },
   {
    "duration": 11,
    "start_time": "2023-04-11T12:37:17.791Z"
   },
   {
    "duration": 12,
    "start_time": "2023-04-11T12:37:51.361Z"
   },
   {
    "duration": 12,
    "start_time": "2023-04-11T12:38:32.647Z"
   },
   {
    "duration": 11,
    "start_time": "2023-04-11T12:38:37.115Z"
   },
   {
    "duration": 140,
    "start_time": "2023-04-11T12:38:42.392Z"
   },
   {
    "duration": 10,
    "start_time": "2023-04-11T12:40:12.646Z"
   },
   {
    "duration": 4,
    "start_time": "2023-04-11T12:40:53.863Z"
   },
   {
    "duration": 149,
    "start_time": "2023-04-11T12:40:55.849Z"
   },
   {
    "duration": 175,
    "start_time": "2023-04-11T12:41:01.794Z"
   },
   {
    "duration": 538,
    "start_time": "2023-04-11T12:41:20.958Z"
   },
   {
    "duration": 512,
    "start_time": "2023-04-11T12:41:43.827Z"
   },
   {
    "duration": 553,
    "start_time": "2023-04-11T12:41:52.105Z"
   },
   {
    "duration": 3,
    "start_time": "2023-04-11T12:42:15.271Z"
   },
   {
    "duration": 578,
    "start_time": "2023-04-11T12:42:17.623Z"
   },
   {
    "duration": 4,
    "start_time": "2023-04-11T12:42:26.097Z"
   },
   {
    "duration": 484,
    "start_time": "2023-04-11T12:42:28.028Z"
   },
   {
    "duration": 7,
    "start_time": "2023-04-11T12:42:45.690Z"
   },
   {
    "duration": 136,
    "start_time": "2023-04-11T12:42:47.860Z"
   },
   {
    "duration": 3,
    "start_time": "2023-04-11T12:43:13.117Z"
   },
   {
    "duration": 3,
    "start_time": "2023-04-11T12:43:18.730Z"
   },
   {
    "duration": 156,
    "start_time": "2023-04-11T12:43:20.390Z"
   },
   {
    "duration": 519,
    "start_time": "2023-04-11T12:43:23.109Z"
   },
   {
    "duration": 497,
    "start_time": "2023-04-11T12:43:40.114Z"
   },
   {
    "duration": 4,
    "start_time": "2023-04-11T12:43:55.306Z"
   },
   {
    "duration": 165,
    "start_time": "2023-04-11T12:43:57.158Z"
   },
   {
    "duration": 4,
    "start_time": "2023-04-11T12:44:05.407Z"
   },
   {
    "duration": 156,
    "start_time": "2023-04-11T12:44:06.594Z"
   },
   {
    "duration": 241,
    "start_time": "2023-04-11T12:44:09.235Z"
   },
   {
    "duration": 481,
    "start_time": "2023-04-11T12:44:09.478Z"
   },
   {
    "duration": 153,
    "start_time": "2023-04-11T12:44:13.601Z"
   },
   {
    "duration": 3983,
    "start_time": "2023-04-11T13:05:50.752Z"
   },
   {
    "duration": 5,
    "start_time": "2023-04-11T13:19:31.163Z"
   },
   {
    "duration": 860,
    "start_time": "2023-04-11T13:19:55.078Z"
   },
   {
    "duration": 6,
    "start_time": "2023-04-11T13:21:54.398Z"
   },
   {
    "duration": 890,
    "start_time": "2023-04-11T13:23:41.437Z"
   },
   {
    "duration": 871,
    "start_time": "2023-04-11T13:23:45.934Z"
   },
   {
    "duration": 843,
    "start_time": "2023-04-11T14:29:54.156Z"
   },
   {
    "duration": 759,
    "start_time": "2023-04-11T14:30:19.730Z"
   },
   {
    "duration": 773,
    "start_time": "2023-04-11T14:30:37.545Z"
   },
   {
    "duration": 871,
    "start_time": "2023-04-11T14:31:04.929Z"
   },
   {
    "duration": 165,
    "start_time": "2023-04-11T14:31:20.102Z"
   },
   {
    "duration": 666,
    "start_time": "2023-04-11T14:31:24.038Z"
   },
   {
    "duration": 675,
    "start_time": "2023-04-11T14:31:39.835Z"
   },
   {
    "duration": 854,
    "start_time": "2023-04-11T14:40:52.123Z"
   },
   {
    "duration": 631,
    "start_time": "2023-04-11T14:41:13.204Z"
   }
  ],
  "kernelspec": {
   "display_name": "Python 3 (ipykernel)",
   "language": "python",
   "name": "python3"
  },
  "language_info": {
   "codemirror_mode": {
    "name": "ipython",
    "version": 3
   },
   "file_extension": ".py",
   "mimetype": "text/x-python",
   "name": "python",
   "nbconvert_exporter": "python",
   "pygments_lexer": "ipython3",
   "version": "3.9.13"
  },
  "toc": {
   "base_numbering": 1,
   "nav_menu": {},
   "number_sections": true,
   "sideBar": true,
   "skip_h1_title": true,
   "title_cell": "Содержание",
   "title_sidebar": "Contents",
   "toc_cell": true,
   "toc_position": {
    "height": "calc(100% - 180px)",
    "left": "10px",
    "top": "150px",
    "width": "259px"
   },
   "toc_section_display": true,
   "toc_window_display": true
  }
 },
 "nbformat": 4,
 "nbformat_minor": 2
}
