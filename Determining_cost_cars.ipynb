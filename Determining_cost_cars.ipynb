{
 "cells": [
  {
   "cell_type": "markdown",
   "metadata": {},
   "source": [
    "# Определение стоимости автомобилей"
   ]
  },
  {
   "cell_type": "markdown",
   "metadata": {},
   "source": [
    "Сервис по продаже автомобилей с пробегом «Не бит, не крашен» разрабатывает приложение для привлечения новых клиентов. В нём можно быстро узнать рыночную стоимость своего автомобиля. В вашем распоряжении исторические данные: технические характеристики, комплектации и цены автомобилей. Вам нужно построить модель для определения стоимости. \n",
    "\n",
    "Заказчику важны:\n",
    "\n",
    "- качество предсказания;\n",
    "- скорость предсказания;\n",
    "- время обучения."
   ]
  },
  {
   "cell_type": "markdown",
   "metadata": {},
   "source": [
    "* DateCrawled — дата скачивания анкеты из базы\n",
    "* VehicleType — тип автомобильного кузова\n",
    "* RegistrationYear — год регистрации автомобиля\n",
    "* Gearbox — тип коробки передач\n",
    "* Power — мощность (л. с.)\n",
    "* Model — модель автомобиля\n",
    "* Kilometer — пробег (км)\n",
    "* RegistrationMonth — месяц регистрации автомобиля\n",
    "* FuelType — тип топлива\n",
    "* Brand — марка автомобиля\n",
    "* Repaired — была машина в ремонте или нет\n",
    "* DateCreated — дата создания анкеты\n",
    "* NumberOfPictures — количество фотографий автомобиля\n",
    "* PostalCode — почтовый индекс владельца анкеты (пользователя)\n",
    "* LastSeen — дата последней активности пользователя\n",
    "* Price — цена (евро)"
   ]
  },
  {
   "cell_type": "markdown",
   "metadata": {},
   "source": [
    "## Подготовка данных"
   ]
  },
  {
   "cell_type": "markdown",
   "metadata": {},
   "source": [
    "###  Импорт библиотек"
   ]
  },
  {
   "cell_type": "code",
   "execution_count": 1,
   "metadata": {},
   "outputs": [],
   "source": [
    "# Обработка данных\n",
    "import pandas as pd\n",
    "import numpy as np\n",
    "\n",
    "# Визуализация данных\n",
    "import matplotlib.pyplot as plt\n",
    "import seaborn as sns\n",
    "\n",
    "from sklearn.metrics import mean_squared_error\n",
    "from sklearn.pipeline import Pipeline, make_pipeline\n",
    "from sklearn.preprocessing import StandardScaler\n",
    "from sklearn.model_selection import GridSearchCV, cross_val_score, RandomizedSearchCV\n",
    "from catboost import CatBoostRegressor, Pool, cv\n",
    "from sklearn.model_selection import train_test_split\n",
    "from lightgbm import LGBMRegressor\n",
    "from sklearn.preprocessing import OneHotEncoder\n",
    "from sklearn.linear_model import LogisticRegression\n",
    "from sklearn.compose import make_column_transformer, make_column_selector, ColumnTransformer\n",
    "from sklearn.tree import DecisionTreeRegressor"
   ]
  },
  {
   "cell_type": "code",
   "execution_count": 2,
   "metadata": {},
   "outputs": [],
   "source": [
    "pd.set_option('display.max_columns', None)"
   ]
  },
  {
   "cell_type": "markdown",
   "metadata": {},
   "source": [
    "### Знакомство с данными"
   ]
  },
  {
   "cell_type": "code",
   "execution_count": 3,
   "metadata": {
    "scrolled": false
   },
   "outputs": [
    {
     "data": {
      "text/html": [
       "<div>\n",
       "<style scoped>\n",
       "    .dataframe tbody tr th:only-of-type {\n",
       "        vertical-align: middle;\n",
       "    }\n",
       "\n",
       "    .dataframe tbody tr th {\n",
       "        vertical-align: top;\n",
       "    }\n",
       "\n",
       "    .dataframe thead th {\n",
       "        text-align: right;\n",
       "    }\n",
       "</style>\n",
       "<table border=\"1\" class=\"dataframe\">\n",
       "  <thead>\n",
       "    <tr style=\"text-align: right;\">\n",
       "      <th></th>\n",
       "      <th>DateCrawled</th>\n",
       "      <th>Price</th>\n",
       "      <th>VehicleType</th>\n",
       "      <th>RegistrationYear</th>\n",
       "      <th>Gearbox</th>\n",
       "      <th>Power</th>\n",
       "      <th>Model</th>\n",
       "      <th>Kilometer</th>\n",
       "      <th>RegistrationMonth</th>\n",
       "      <th>FuelType</th>\n",
       "      <th>Brand</th>\n",
       "      <th>Repaired</th>\n",
       "      <th>DateCreated</th>\n",
       "      <th>NumberOfPictures</th>\n",
       "      <th>PostalCode</th>\n",
       "      <th>LastSeen</th>\n",
       "    </tr>\n",
       "  </thead>\n",
       "  <tbody>\n",
       "    <tr>\n",
       "      <th>0</th>\n",
       "      <td>2016-03-24 11:52:17</td>\n",
       "      <td>480</td>\n",
       "      <td>NaN</td>\n",
       "      <td>1993</td>\n",
       "      <td>manual</td>\n",
       "      <td>0</td>\n",
       "      <td>golf</td>\n",
       "      <td>150000</td>\n",
       "      <td>0</td>\n",
       "      <td>petrol</td>\n",
       "      <td>volkswagen</td>\n",
       "      <td>NaN</td>\n",
       "      <td>2016-03-24 00:00:00</td>\n",
       "      <td>0</td>\n",
       "      <td>70435</td>\n",
       "      <td>2016-04-07 03:16:57</td>\n",
       "    </tr>\n",
       "    <tr>\n",
       "      <th>1</th>\n",
       "      <td>2016-03-24 10:58:45</td>\n",
       "      <td>18300</td>\n",
       "      <td>coupe</td>\n",
       "      <td>2011</td>\n",
       "      <td>manual</td>\n",
       "      <td>190</td>\n",
       "      <td>NaN</td>\n",
       "      <td>125000</td>\n",
       "      <td>5</td>\n",
       "      <td>gasoline</td>\n",
       "      <td>audi</td>\n",
       "      <td>yes</td>\n",
       "      <td>2016-03-24 00:00:00</td>\n",
       "      <td>0</td>\n",
       "      <td>66954</td>\n",
       "      <td>2016-04-07 01:46:50</td>\n",
       "    </tr>\n",
       "    <tr>\n",
       "      <th>2</th>\n",
       "      <td>2016-03-14 12:52:21</td>\n",
       "      <td>9800</td>\n",
       "      <td>suv</td>\n",
       "      <td>2004</td>\n",
       "      <td>auto</td>\n",
       "      <td>163</td>\n",
       "      <td>grand</td>\n",
       "      <td>125000</td>\n",
       "      <td>8</td>\n",
       "      <td>gasoline</td>\n",
       "      <td>jeep</td>\n",
       "      <td>NaN</td>\n",
       "      <td>2016-03-14 00:00:00</td>\n",
       "      <td>0</td>\n",
       "      <td>90480</td>\n",
       "      <td>2016-04-05 12:47:46</td>\n",
       "    </tr>\n",
       "    <tr>\n",
       "      <th>3</th>\n",
       "      <td>2016-03-17 16:54:04</td>\n",
       "      <td>1500</td>\n",
       "      <td>small</td>\n",
       "      <td>2001</td>\n",
       "      <td>manual</td>\n",
       "      <td>75</td>\n",
       "      <td>golf</td>\n",
       "      <td>150000</td>\n",
       "      <td>6</td>\n",
       "      <td>petrol</td>\n",
       "      <td>volkswagen</td>\n",
       "      <td>no</td>\n",
       "      <td>2016-03-17 00:00:00</td>\n",
       "      <td>0</td>\n",
       "      <td>91074</td>\n",
       "      <td>2016-03-17 17:40:17</td>\n",
       "    </tr>\n",
       "    <tr>\n",
       "      <th>4</th>\n",
       "      <td>2016-03-31 17:25:20</td>\n",
       "      <td>3600</td>\n",
       "      <td>small</td>\n",
       "      <td>2008</td>\n",
       "      <td>manual</td>\n",
       "      <td>69</td>\n",
       "      <td>fabia</td>\n",
       "      <td>90000</td>\n",
       "      <td>7</td>\n",
       "      <td>gasoline</td>\n",
       "      <td>skoda</td>\n",
       "      <td>no</td>\n",
       "      <td>2016-03-31 00:00:00</td>\n",
       "      <td>0</td>\n",
       "      <td>60437</td>\n",
       "      <td>2016-04-06 10:17:21</td>\n",
       "    </tr>\n",
       "    <tr>\n",
       "      <th>5</th>\n",
       "      <td>2016-04-04 17:36:23</td>\n",
       "      <td>650</td>\n",
       "      <td>sedan</td>\n",
       "      <td>1995</td>\n",
       "      <td>manual</td>\n",
       "      <td>102</td>\n",
       "      <td>3er</td>\n",
       "      <td>150000</td>\n",
       "      <td>10</td>\n",
       "      <td>petrol</td>\n",
       "      <td>bmw</td>\n",
       "      <td>yes</td>\n",
       "      <td>2016-04-04 00:00:00</td>\n",
       "      <td>0</td>\n",
       "      <td>33775</td>\n",
       "      <td>2016-04-06 19:17:07</td>\n",
       "    </tr>\n",
       "    <tr>\n",
       "      <th>6</th>\n",
       "      <td>2016-04-01 20:48:51</td>\n",
       "      <td>2200</td>\n",
       "      <td>convertible</td>\n",
       "      <td>2004</td>\n",
       "      <td>manual</td>\n",
       "      <td>109</td>\n",
       "      <td>2_reihe</td>\n",
       "      <td>150000</td>\n",
       "      <td>8</td>\n",
       "      <td>petrol</td>\n",
       "      <td>peugeot</td>\n",
       "      <td>no</td>\n",
       "      <td>2016-04-01 00:00:00</td>\n",
       "      <td>0</td>\n",
       "      <td>67112</td>\n",
       "      <td>2016-04-05 18:18:39</td>\n",
       "    </tr>\n",
       "    <tr>\n",
       "      <th>7</th>\n",
       "      <td>2016-03-21 18:54:38</td>\n",
       "      <td>0</td>\n",
       "      <td>sedan</td>\n",
       "      <td>1980</td>\n",
       "      <td>manual</td>\n",
       "      <td>50</td>\n",
       "      <td>other</td>\n",
       "      <td>40000</td>\n",
       "      <td>7</td>\n",
       "      <td>petrol</td>\n",
       "      <td>volkswagen</td>\n",
       "      <td>no</td>\n",
       "      <td>2016-03-21 00:00:00</td>\n",
       "      <td>0</td>\n",
       "      <td>19348</td>\n",
       "      <td>2016-03-25 16:47:58</td>\n",
       "    </tr>\n",
       "    <tr>\n",
       "      <th>8</th>\n",
       "      <td>2016-04-04 23:42:13</td>\n",
       "      <td>14500</td>\n",
       "      <td>bus</td>\n",
       "      <td>2014</td>\n",
       "      <td>manual</td>\n",
       "      <td>125</td>\n",
       "      <td>c_max</td>\n",
       "      <td>30000</td>\n",
       "      <td>8</td>\n",
       "      <td>petrol</td>\n",
       "      <td>ford</td>\n",
       "      <td>NaN</td>\n",
       "      <td>2016-04-04 00:00:00</td>\n",
       "      <td>0</td>\n",
       "      <td>94505</td>\n",
       "      <td>2016-04-04 23:42:13</td>\n",
       "    </tr>\n",
       "    <tr>\n",
       "      <th>9</th>\n",
       "      <td>2016-03-17 10:53:50</td>\n",
       "      <td>999</td>\n",
       "      <td>small</td>\n",
       "      <td>1998</td>\n",
       "      <td>manual</td>\n",
       "      <td>101</td>\n",
       "      <td>golf</td>\n",
       "      <td>150000</td>\n",
       "      <td>0</td>\n",
       "      <td>NaN</td>\n",
       "      <td>volkswagen</td>\n",
       "      <td>NaN</td>\n",
       "      <td>2016-03-17 00:00:00</td>\n",
       "      <td>0</td>\n",
       "      <td>27472</td>\n",
       "      <td>2016-03-31 17:17:06</td>\n",
       "    </tr>\n",
       "  </tbody>\n",
       "</table>\n",
       "</div>"
      ],
      "text/plain": [
       "           DateCrawled  Price  VehicleType  RegistrationYear Gearbox  Power  \\\n",
       "0  2016-03-24 11:52:17    480          NaN              1993  manual      0   \n",
       "1  2016-03-24 10:58:45  18300        coupe              2011  manual    190   \n",
       "2  2016-03-14 12:52:21   9800          suv              2004    auto    163   \n",
       "3  2016-03-17 16:54:04   1500        small              2001  manual     75   \n",
       "4  2016-03-31 17:25:20   3600        small              2008  manual     69   \n",
       "5  2016-04-04 17:36:23    650        sedan              1995  manual    102   \n",
       "6  2016-04-01 20:48:51   2200  convertible              2004  manual    109   \n",
       "7  2016-03-21 18:54:38      0        sedan              1980  manual     50   \n",
       "8  2016-04-04 23:42:13  14500          bus              2014  manual    125   \n",
       "9  2016-03-17 10:53:50    999        small              1998  manual    101   \n",
       "\n",
       "     Model  Kilometer  RegistrationMonth  FuelType       Brand Repaired  \\\n",
       "0     golf     150000                  0    petrol  volkswagen      NaN   \n",
       "1      NaN     125000                  5  gasoline        audi      yes   \n",
       "2    grand     125000                  8  gasoline        jeep      NaN   \n",
       "3     golf     150000                  6    petrol  volkswagen       no   \n",
       "4    fabia      90000                  7  gasoline       skoda       no   \n",
       "5      3er     150000                 10    petrol         bmw      yes   \n",
       "6  2_reihe     150000                  8    petrol     peugeot       no   \n",
       "7    other      40000                  7    petrol  volkswagen       no   \n",
       "8    c_max      30000                  8    petrol        ford      NaN   \n",
       "9     golf     150000                  0       NaN  volkswagen      NaN   \n",
       "\n",
       "           DateCreated  NumberOfPictures  PostalCode             LastSeen  \n",
       "0  2016-03-24 00:00:00                 0       70435  2016-04-07 03:16:57  \n",
       "1  2016-03-24 00:00:00                 0       66954  2016-04-07 01:46:50  \n",
       "2  2016-03-14 00:00:00                 0       90480  2016-04-05 12:47:46  \n",
       "3  2016-03-17 00:00:00                 0       91074  2016-03-17 17:40:17  \n",
       "4  2016-03-31 00:00:00                 0       60437  2016-04-06 10:17:21  \n",
       "5  2016-04-04 00:00:00                 0       33775  2016-04-06 19:17:07  \n",
       "6  2016-04-01 00:00:00                 0       67112  2016-04-05 18:18:39  \n",
       "7  2016-03-21 00:00:00                 0       19348  2016-03-25 16:47:58  \n",
       "8  2016-04-04 00:00:00                 0       94505  2016-04-04 23:42:13  \n",
       "9  2016-03-17 00:00:00                 0       27472  2016-03-31 17:17:06  "
      ]
     },
     "execution_count": 3,
     "metadata": {},
     "output_type": "execute_result"
    }
   ],
   "source": [
    "data = pd.read_csv('/datasets/autos.csv')\n",
    "\n",
    "data.head(10)"
   ]
  },
  {
   "cell_type": "code",
   "execution_count": 4,
   "metadata": {
    "scrolled": false
   },
   "outputs": [
    {
     "name": "stdout",
     "output_type": "stream",
     "text": [
      "<class 'pandas.core.frame.DataFrame'>\n",
      "RangeIndex: 354369 entries, 0 to 354368\n",
      "Data columns (total 16 columns):\n",
      " #   Column             Non-Null Count   Dtype \n",
      "---  ------             --------------   ----- \n",
      " 0   DateCrawled        354369 non-null  object\n",
      " 1   Price              354369 non-null  int64 \n",
      " 2   VehicleType        316879 non-null  object\n",
      " 3   RegistrationYear   354369 non-null  int64 \n",
      " 4   Gearbox            334536 non-null  object\n",
      " 5   Power              354369 non-null  int64 \n",
      " 6   Model              334664 non-null  object\n",
      " 7   Kilometer          354369 non-null  int64 \n",
      " 8   RegistrationMonth  354369 non-null  int64 \n",
      " 9   FuelType           321474 non-null  object\n",
      " 10  Brand              354369 non-null  object\n",
      " 11  Repaired           283215 non-null  object\n",
      " 12  DateCreated        354369 non-null  object\n",
      " 13  NumberOfPictures   354369 non-null  int64 \n",
      " 14  PostalCode         354369 non-null  int64 \n",
      " 15  LastSeen           354369 non-null  object\n",
      "dtypes: int64(7), object(9)\n",
      "memory usage: 43.3+ MB\n"
     ]
    },
    {
     "data": {
      "text/html": [
       "<div>\n",
       "<style scoped>\n",
       "    .dataframe tbody tr th:only-of-type {\n",
       "        vertical-align: middle;\n",
       "    }\n",
       "\n",
       "    .dataframe tbody tr th {\n",
       "        vertical-align: top;\n",
       "    }\n",
       "\n",
       "    .dataframe thead th {\n",
       "        text-align: right;\n",
       "    }\n",
       "</style>\n",
       "<table border=\"1\" class=\"dataframe\">\n",
       "  <thead>\n",
       "    <tr style=\"text-align: right;\">\n",
       "      <th></th>\n",
       "      <th>Price</th>\n",
       "      <th>RegistrationYear</th>\n",
       "      <th>Power</th>\n",
       "      <th>Kilometer</th>\n",
       "      <th>RegistrationMonth</th>\n",
       "      <th>NumberOfPictures</th>\n",
       "      <th>PostalCode</th>\n",
       "    </tr>\n",
       "  </thead>\n",
       "  <tbody>\n",
       "    <tr>\n",
       "      <th>count</th>\n",
       "      <td>354369.000000</td>\n",
       "      <td>354369.000000</td>\n",
       "      <td>354369.000000</td>\n",
       "      <td>354369.000000</td>\n",
       "      <td>354369.000000</td>\n",
       "      <td>354369.0</td>\n",
       "      <td>354369.000000</td>\n",
       "    </tr>\n",
       "    <tr>\n",
       "      <th>mean</th>\n",
       "      <td>4416.656776</td>\n",
       "      <td>2004.234448</td>\n",
       "      <td>110.094337</td>\n",
       "      <td>128211.172535</td>\n",
       "      <td>5.714645</td>\n",
       "      <td>0.0</td>\n",
       "      <td>50508.689087</td>\n",
       "    </tr>\n",
       "    <tr>\n",
       "      <th>std</th>\n",
       "      <td>4514.158514</td>\n",
       "      <td>90.227958</td>\n",
       "      <td>189.850405</td>\n",
       "      <td>37905.341530</td>\n",
       "      <td>3.726421</td>\n",
       "      <td>0.0</td>\n",
       "      <td>25783.096248</td>\n",
       "    </tr>\n",
       "    <tr>\n",
       "      <th>min</th>\n",
       "      <td>0.000000</td>\n",
       "      <td>1000.000000</td>\n",
       "      <td>0.000000</td>\n",
       "      <td>5000.000000</td>\n",
       "      <td>0.000000</td>\n",
       "      <td>0.0</td>\n",
       "      <td>1067.000000</td>\n",
       "    </tr>\n",
       "    <tr>\n",
       "      <th>25%</th>\n",
       "      <td>1050.000000</td>\n",
       "      <td>1999.000000</td>\n",
       "      <td>69.000000</td>\n",
       "      <td>125000.000000</td>\n",
       "      <td>3.000000</td>\n",
       "      <td>0.0</td>\n",
       "      <td>30165.000000</td>\n",
       "    </tr>\n",
       "    <tr>\n",
       "      <th>50%</th>\n",
       "      <td>2700.000000</td>\n",
       "      <td>2003.000000</td>\n",
       "      <td>105.000000</td>\n",
       "      <td>150000.000000</td>\n",
       "      <td>6.000000</td>\n",
       "      <td>0.0</td>\n",
       "      <td>49413.000000</td>\n",
       "    </tr>\n",
       "    <tr>\n",
       "      <th>75%</th>\n",
       "      <td>6400.000000</td>\n",
       "      <td>2008.000000</td>\n",
       "      <td>143.000000</td>\n",
       "      <td>150000.000000</td>\n",
       "      <td>9.000000</td>\n",
       "      <td>0.0</td>\n",
       "      <td>71083.000000</td>\n",
       "    </tr>\n",
       "    <tr>\n",
       "      <th>max</th>\n",
       "      <td>20000.000000</td>\n",
       "      <td>9999.000000</td>\n",
       "      <td>20000.000000</td>\n",
       "      <td>150000.000000</td>\n",
       "      <td>12.000000</td>\n",
       "      <td>0.0</td>\n",
       "      <td>99998.000000</td>\n",
       "    </tr>\n",
       "  </tbody>\n",
       "</table>\n",
       "</div>"
      ],
      "text/plain": [
       "               Price  RegistrationYear          Power      Kilometer  \\\n",
       "count  354369.000000     354369.000000  354369.000000  354369.000000   \n",
       "mean     4416.656776       2004.234448     110.094337  128211.172535   \n",
       "std      4514.158514         90.227958     189.850405   37905.341530   \n",
       "min         0.000000       1000.000000       0.000000    5000.000000   \n",
       "25%      1050.000000       1999.000000      69.000000  125000.000000   \n",
       "50%      2700.000000       2003.000000     105.000000  150000.000000   \n",
       "75%      6400.000000       2008.000000     143.000000  150000.000000   \n",
       "max     20000.000000       9999.000000   20000.000000  150000.000000   \n",
       "\n",
       "       RegistrationMonth  NumberOfPictures     PostalCode  \n",
       "count      354369.000000          354369.0  354369.000000  \n",
       "mean            5.714645               0.0   50508.689087  \n",
       "std             3.726421               0.0   25783.096248  \n",
       "min             0.000000               0.0    1067.000000  \n",
       "25%             3.000000               0.0   30165.000000  \n",
       "50%             6.000000               0.0   49413.000000  \n",
       "75%             9.000000               0.0   71083.000000  \n",
       "max            12.000000               0.0   99998.000000  "
      ]
     },
     "execution_count": 4,
     "metadata": {},
     "output_type": "execute_result"
    }
   ],
   "source": [
    "data.info()\n",
    "data.describe()"
   ]
  },
  {
   "cell_type": "markdown",
   "metadata": {},
   "source": [
    "### Обработка данных"
   ]
  },
  {
   "cell_type": "code",
   "execution_count": 5,
   "metadata": {},
   "outputs": [
    {
     "name": "stdout",
     "output_type": "stream",
     "text": [
      "Количество данных до переработки: 354369\n"
     ]
    }
   ],
   "source": [
    "shape_old = data.shape[0]\n",
    "print('Количество данных до переработки:', shape_old)"
   ]
  },
  {
   "cell_type": "markdown",
   "metadata": {},
   "source": [
    "#### Проверим наши данные на дубликаты"
   ]
  },
  {
   "cell_type": "code",
   "execution_count": 6,
   "metadata": {
    "scrolled": true
   },
   "outputs": [
    {
     "data": {
      "text/plain": [
       "4"
      ]
     },
     "execution_count": 6,
     "metadata": {},
     "output_type": "execute_result"
    }
   ],
   "source": [
    "data.duplicated().sum()"
   ]
  },
  {
   "cell_type": "markdown",
   "metadata": {},
   "source": [
    "4 дубликата не критично, удалим их."
   ]
  },
  {
   "cell_type": "code",
   "execution_count": 7,
   "metadata": {},
   "outputs": [
    {
     "data": {
      "text/plain": [
       "0"
      ]
     },
     "execution_count": 7,
     "metadata": {},
     "output_type": "execute_result"
    }
   ],
   "source": [
    "data = data.drop_duplicates().reset_index(drop=True)\n",
    "\n",
    "data.duplicated().sum()"
   ]
  },
  {
   "cell_type": "markdown",
   "metadata": {},
   "source": [
    "#### Работа с пропущенными значениями"
   ]
  },
  {
   "cell_type": "code",
   "execution_count": 8,
   "metadata": {
    "scrolled": false
   },
   "outputs": [
    {
     "data": {
      "text/html": [
       "<style  type=\"text/css\" >\n",
       "#T_88d57_row0_col0{\n",
       "            background-color:  #b40426;\n",
       "            color:  #f1f1f1;\n",
       "        }#T_88d57_row1_col0{\n",
       "            background-color:  #e3d9d3;\n",
       "            color:  #000000;\n",
       "        }#T_88d57_row2_col0{\n",
       "            background-color:  #d3dbe7;\n",
       "            color:  #000000;\n",
       "        }#T_88d57_row3_col0{\n",
       "            background-color:  #97b8ff;\n",
       "            color:  #000000;\n",
       "        }#T_88d57_row4_col0{\n",
       "            background-color:  #96b7ff;\n",
       "            color:  #000000;\n",
       "        }#T_88d57_row5_col0,#T_88d57_row6_col0,#T_88d57_row7_col0,#T_88d57_row8_col0,#T_88d57_row9_col0,#T_88d57_row10_col0,#T_88d57_row11_col0,#T_88d57_row12_col0,#T_88d57_row13_col0,#T_88d57_row14_col0,#T_88d57_row15_col0{\n",
       "            background-color:  #3b4cc0;\n",
       "            color:  #f1f1f1;\n",
       "        }</style><table id=\"T_88d57_\" ><thead>    <tr>        <th class=\"blank level0\" ></th>        <th class=\"col_heading level0 col0\" >percent_space</th>    </tr></thead><tbody>\n",
       "                <tr>\n",
       "                        <th id=\"T_88d57_level0_row0\" class=\"row_heading level0 row0\" >Repaired</th>\n",
       "                        <td id=\"T_88d57_row0_col0\" class=\"data row0 col0\" >20.1</td>\n",
       "            </tr>\n",
       "            <tr>\n",
       "                        <th id=\"T_88d57_level0_row1\" class=\"row_heading level0 row1\" >VehicleType</th>\n",
       "                        <td id=\"T_88d57_row1_col0\" class=\"data row1 col0\" >10.6</td>\n",
       "            </tr>\n",
       "            <tr>\n",
       "                        <th id=\"T_88d57_level0_row2\" class=\"row_heading level0 row2\" >FuelType</th>\n",
       "                        <td id=\"T_88d57_row2_col0\" class=\"data row2 col0\" >9.3</td>\n",
       "            </tr>\n",
       "            <tr>\n",
       "                        <th id=\"T_88d57_level0_row3\" class=\"row_heading level0 row3\" >Gearbox</th>\n",
       "                        <td id=\"T_88d57_row3_col0\" class=\"data row3 col0\" >5.6</td>\n",
       "            </tr>\n",
       "            <tr>\n",
       "                        <th id=\"T_88d57_level0_row4\" class=\"row_heading level0 row4\" >Model</th>\n",
       "                        <td id=\"T_88d57_row4_col0\" class=\"data row4 col0\" >5.6</td>\n",
       "            </tr>\n",
       "            <tr>\n",
       "                        <th id=\"T_88d57_level0_row5\" class=\"row_heading level0 row5\" >DateCrawled</th>\n",
       "                        <td id=\"T_88d57_row5_col0\" class=\"data row5 col0\" >0.0</td>\n",
       "            </tr>\n",
       "            <tr>\n",
       "                        <th id=\"T_88d57_level0_row6\" class=\"row_heading level0 row6\" >Price</th>\n",
       "                        <td id=\"T_88d57_row6_col0\" class=\"data row6 col0\" >0.0</td>\n",
       "            </tr>\n",
       "            <tr>\n",
       "                        <th id=\"T_88d57_level0_row7\" class=\"row_heading level0 row7\" >RegistrationYear</th>\n",
       "                        <td id=\"T_88d57_row7_col0\" class=\"data row7 col0\" >0.0</td>\n",
       "            </tr>\n",
       "            <tr>\n",
       "                        <th id=\"T_88d57_level0_row8\" class=\"row_heading level0 row8\" >Power</th>\n",
       "                        <td id=\"T_88d57_row8_col0\" class=\"data row8 col0\" >0.0</td>\n",
       "            </tr>\n",
       "            <tr>\n",
       "                        <th id=\"T_88d57_level0_row9\" class=\"row_heading level0 row9\" >Kilometer</th>\n",
       "                        <td id=\"T_88d57_row9_col0\" class=\"data row9 col0\" >0.0</td>\n",
       "            </tr>\n",
       "            <tr>\n",
       "                        <th id=\"T_88d57_level0_row10\" class=\"row_heading level0 row10\" >RegistrationMonth</th>\n",
       "                        <td id=\"T_88d57_row10_col0\" class=\"data row10 col0\" >0.0</td>\n",
       "            </tr>\n",
       "            <tr>\n",
       "                        <th id=\"T_88d57_level0_row11\" class=\"row_heading level0 row11\" >Brand</th>\n",
       "                        <td id=\"T_88d57_row11_col0\" class=\"data row11 col0\" >0.0</td>\n",
       "            </tr>\n",
       "            <tr>\n",
       "                        <th id=\"T_88d57_level0_row12\" class=\"row_heading level0 row12\" >DateCreated</th>\n",
       "                        <td id=\"T_88d57_row12_col0\" class=\"data row12 col0\" >0.0</td>\n",
       "            </tr>\n",
       "            <tr>\n",
       "                        <th id=\"T_88d57_level0_row13\" class=\"row_heading level0 row13\" >NumberOfPictures</th>\n",
       "                        <td id=\"T_88d57_row13_col0\" class=\"data row13 col0\" >0.0</td>\n",
       "            </tr>\n",
       "            <tr>\n",
       "                        <th id=\"T_88d57_level0_row14\" class=\"row_heading level0 row14\" >PostalCode</th>\n",
       "                        <td id=\"T_88d57_row14_col0\" class=\"data row14 col0\" >0.0</td>\n",
       "            </tr>\n",
       "            <tr>\n",
       "                        <th id=\"T_88d57_level0_row15\" class=\"row_heading level0 row15\" >LastSeen</th>\n",
       "                        <td id=\"T_88d57_row15_col0\" class=\"data row15 col0\" >0.0</td>\n",
       "            </tr>\n",
       "    </tbody></table>"
      ],
      "text/plain": [
       "<pandas.io.formats.style.Styler at 0x7f75dbaaab50>"
      ]
     },
     "execution_count": 8,
     "metadata": {},
     "output_type": "execute_result"
    }
   ],
   "source": [
    "def isna_view (df):\n",
    "    return  (\n",
    "                (df.isna().mean()*100)\n",
    "                .sort_values(ascending=False)\n",
    "                .to_frame()\n",
    "                .rename(columns = {0:'percent_space'})\n",
    "                .style.background_gradient('coolwarm').format(\"{:.1f}\")\n",
    "            )\n",
    "\n",
    "isna_view (data)"
   ]
  },
  {
   "cell_type": "markdown",
   "metadata": {},
   "source": [
    "В `Repaired` заменим значения на \"unknown\" т.к у нас нет такой информации была ли машина в ремонте или нет. В `Gearbox`,`VehicleType`,`Model` заменим значения на \"other\" т.к. тип кузова и модель сложно будет определить, а коробка передач может робот. В `FuelType` заменим на \"petrol\" самый популярный тип. "
   ]
  },
  {
   "cell_type": "code",
   "execution_count": 9,
   "metadata": {},
   "outputs": [],
   "source": [
    "data['Repaired'].fillna('unknown', inplace = True)\n",
    "data['Gearbox'].fillna('other', inplace = True) \n",
    "data['FuelType'].fillna('petrol', inplace = True)\n",
    "data['VehicleType'].fillna('other', inplace = True)\n",
    "data['Model'].fillna('other', inplace = True)"
   ]
  },
  {
   "cell_type": "code",
   "execution_count": 10,
   "metadata": {
    "scrolled": false
   },
   "outputs": [
    {
     "data": {
      "text/html": [
       "<style  type=\"text/css\" >\n",
       "#T_83fb5_row0_col0,#T_83fb5_row1_col0,#T_83fb5_row2_col0,#T_83fb5_row3_col0,#T_83fb5_row4_col0,#T_83fb5_row5_col0,#T_83fb5_row6_col0,#T_83fb5_row7_col0,#T_83fb5_row8_col0,#T_83fb5_row9_col0,#T_83fb5_row10_col0,#T_83fb5_row11_col0,#T_83fb5_row12_col0,#T_83fb5_row13_col0,#T_83fb5_row14_col0,#T_83fb5_row15_col0{\n",
       "            background-color:  #3b4cc0;\n",
       "            color:  #f1f1f1;\n",
       "        }</style><table id=\"T_83fb5_\" ><thead>    <tr>        <th class=\"blank level0\" ></th>        <th class=\"col_heading level0 col0\" >percent_space</th>    </tr></thead><tbody>\n",
       "                <tr>\n",
       "                        <th id=\"T_83fb5_level0_row0\" class=\"row_heading level0 row0\" >DateCrawled</th>\n",
       "                        <td id=\"T_83fb5_row0_col0\" class=\"data row0 col0\" >0.0</td>\n",
       "            </tr>\n",
       "            <tr>\n",
       "                        <th id=\"T_83fb5_level0_row1\" class=\"row_heading level0 row1\" >Price</th>\n",
       "                        <td id=\"T_83fb5_row1_col0\" class=\"data row1 col0\" >0.0</td>\n",
       "            </tr>\n",
       "            <tr>\n",
       "                        <th id=\"T_83fb5_level0_row2\" class=\"row_heading level0 row2\" >VehicleType</th>\n",
       "                        <td id=\"T_83fb5_row2_col0\" class=\"data row2 col0\" >0.0</td>\n",
       "            </tr>\n",
       "            <tr>\n",
       "                        <th id=\"T_83fb5_level0_row3\" class=\"row_heading level0 row3\" >RegistrationYear</th>\n",
       "                        <td id=\"T_83fb5_row3_col0\" class=\"data row3 col0\" >0.0</td>\n",
       "            </tr>\n",
       "            <tr>\n",
       "                        <th id=\"T_83fb5_level0_row4\" class=\"row_heading level0 row4\" >Gearbox</th>\n",
       "                        <td id=\"T_83fb5_row4_col0\" class=\"data row4 col0\" >0.0</td>\n",
       "            </tr>\n",
       "            <tr>\n",
       "                        <th id=\"T_83fb5_level0_row5\" class=\"row_heading level0 row5\" >Power</th>\n",
       "                        <td id=\"T_83fb5_row5_col0\" class=\"data row5 col0\" >0.0</td>\n",
       "            </tr>\n",
       "            <tr>\n",
       "                        <th id=\"T_83fb5_level0_row6\" class=\"row_heading level0 row6\" >Model</th>\n",
       "                        <td id=\"T_83fb5_row6_col0\" class=\"data row6 col0\" >0.0</td>\n",
       "            </tr>\n",
       "            <tr>\n",
       "                        <th id=\"T_83fb5_level0_row7\" class=\"row_heading level0 row7\" >Kilometer</th>\n",
       "                        <td id=\"T_83fb5_row7_col0\" class=\"data row7 col0\" >0.0</td>\n",
       "            </tr>\n",
       "            <tr>\n",
       "                        <th id=\"T_83fb5_level0_row8\" class=\"row_heading level0 row8\" >RegistrationMonth</th>\n",
       "                        <td id=\"T_83fb5_row8_col0\" class=\"data row8 col0\" >0.0</td>\n",
       "            </tr>\n",
       "            <tr>\n",
       "                        <th id=\"T_83fb5_level0_row9\" class=\"row_heading level0 row9\" >FuelType</th>\n",
       "                        <td id=\"T_83fb5_row9_col0\" class=\"data row9 col0\" >0.0</td>\n",
       "            </tr>\n",
       "            <tr>\n",
       "                        <th id=\"T_83fb5_level0_row10\" class=\"row_heading level0 row10\" >Brand</th>\n",
       "                        <td id=\"T_83fb5_row10_col0\" class=\"data row10 col0\" >0.0</td>\n",
       "            </tr>\n",
       "            <tr>\n",
       "                        <th id=\"T_83fb5_level0_row11\" class=\"row_heading level0 row11\" >Repaired</th>\n",
       "                        <td id=\"T_83fb5_row11_col0\" class=\"data row11 col0\" >0.0</td>\n",
       "            </tr>\n",
       "            <tr>\n",
       "                        <th id=\"T_83fb5_level0_row12\" class=\"row_heading level0 row12\" >DateCreated</th>\n",
       "                        <td id=\"T_83fb5_row12_col0\" class=\"data row12 col0\" >0.0</td>\n",
       "            </tr>\n",
       "            <tr>\n",
       "                        <th id=\"T_83fb5_level0_row13\" class=\"row_heading level0 row13\" >NumberOfPictures</th>\n",
       "                        <td id=\"T_83fb5_row13_col0\" class=\"data row13 col0\" >0.0</td>\n",
       "            </tr>\n",
       "            <tr>\n",
       "                        <th id=\"T_83fb5_level0_row14\" class=\"row_heading level0 row14\" >PostalCode</th>\n",
       "                        <td id=\"T_83fb5_row14_col0\" class=\"data row14 col0\" >0.0</td>\n",
       "            </tr>\n",
       "            <tr>\n",
       "                        <th id=\"T_83fb5_level0_row15\" class=\"row_heading level0 row15\" >LastSeen</th>\n",
       "                        <td id=\"T_83fb5_row15_col0\" class=\"data row15 col0\" >0.0</td>\n",
       "            </tr>\n",
       "    </tbody></table>"
      ],
      "text/plain": [
       "<pandas.io.formats.style.Styler at 0x7f75d984edc0>"
      ]
     },
     "execution_count": 10,
     "metadata": {},
     "output_type": "execute_result"
    }
   ],
   "source": [
    "isna_view (data)"
   ]
  },
  {
   "cell_type": "markdown",
   "metadata": {},
   "source": [
    "#### Посмотрим на категориальные признаки"
   ]
  },
  {
   "cell_type": "markdown",
   "metadata": {},
   "source": [
    "**Создадим функцию для построения графиков**"
   ]
  },
  {
   "cell_type": "code",
   "execution_count": 11,
   "metadata": {},
   "outputs": [],
   "source": [
    "def graph_value_count(columns):\n",
    "    fig, ax = plt.subplots(figsize=(14, 9))\n",
    "    plt.style.use('seaborn-darkgrid')\n",
    "    data[columns].value_counts(ascending = True).plot.barh(legend=False, fontsize=14);\n",
    "    title_list = {'Brand': 'Бренд', 'VehicleType':'Тип кузова', 'FuelType':'Тип топлива', \n",
    "                  'RegistrationMonth':'Месяц регистрации', 'Gearbox':'Коробка передач'}\n",
    "    plt.title(title_list[columns], size=18)\n",
    "    for i in ax.patches:\n",
    "        plt.text(i.get_width()+0.2, i.get_y(),\n",
    "                 str(round((i.get_width()), 2)),\n",
    "                 fontsize=12, fontweight='medium',\n",
    "                 color='#866CE6')"
   ]
  },
  {
   "cell_type": "code",
   "execution_count": 12,
   "metadata": {},
   "outputs": [
    {
     "data": {
      "image/png": "[encoded data removed]",
      "text/plain": [
       "<Figure size 1008x648 with 1 Axes>"
      ]
     },
     "metadata": {
      "needs_background": "light"
     },
     "output_type": "display_data"
    }
   ],
   "source": [
    "graph_value_count('Brand')"
   ]
  },
  {
   "cell_type": "code",
   "execution_count": 13,
   "metadata": {},
   "outputs": [
    {
     "data": {
      "image/png": "[encoded data removed]",
      "text/plain": [
       "<Figure size 1008x648 with 1 Axes>"
      ]
     },
     "metadata": {},
     "output_type": "display_data"
    }
   ],
   "source": [
    "graph_value_count('VehicleType')"
   ]
  },
  {
   "cell_type": "code",
   "execution_count": 14,
   "metadata": {},
   "outputs": [
    {
     "data": {
      "image/png": "[encoded data removed]",
      "text/plain": [
       "<Figure size 1008x648 with 1 Axes>"
      ]
     },
     "metadata": {},
     "output_type": "display_data"
    }
   ],
   "source": [
    "graph_value_count('FuelType')"
   ]
  },
  {
   "cell_type": "code",
   "execution_count": 15,
   "metadata": {
    "scrolled": false
   },
   "outputs": [
    {
     "data": {
      "image/png": "[encoded data removed]",
      "text/plain": [
       "<Figure size 1008x648 with 1 Axes>"
      ]
     },
     "metadata": {},
     "output_type": "display_data"
    }
   ],
   "source": [
    "graph_value_count('RegistrationMonth')"
   ]
  },
  {
   "cell_type": "markdown",
   "metadata": {},
   "source": [
    "* Избавимся от 0 скорей всего ошибка в приложение, т.к в большинстве приложений используется скроллинг, а не проставляется вручную."
   ]
  },
  {
   "cell_type": "code",
   "execution_count": 16,
   "metadata": {},
   "outputs": [
    {
     "data": {
      "text/plain": [
       "354365"
      ]
     },
     "execution_count": 16,
     "metadata": {},
     "output_type": "execute_result"
    }
   ],
   "source": [
    "data['RegistrationMonth'].count()"
   ]
  },
  {
   "cell_type": "code",
   "execution_count": 17,
   "metadata": {},
   "outputs": [
    {
     "data": {
      "text/plain": [
       "37352"
      ]
     },
     "execution_count": 17,
     "metadata": {},
     "output_type": "execute_result"
    }
   ],
   "source": [
    "data_regm =  data.loc[data['RegistrationMonth'] != 0, 'RegistrationMonth']\n",
    "probs = np.bincount(data_regm)/data_regm.count()\n",
    "res = np.random.choice(a = range(13), size = data.loc[data['RegistrationMonth'] ==0, 'RegistrationMonth'].count(), p = probs )\n",
    "len(res)"
   ]
  },
  {
   "cell_type": "code",
   "execution_count": 18,
   "metadata": {},
   "outputs": [
    {
     "data": {
      "text/plain": [
       "3     38423\n",
       "6     35163\n",
       "4     32737\n",
       "5     32633\n",
       "7     30431\n",
       "10    29151\n",
       "12    27209\n",
       "11    26970\n",
       "9     26637\n",
       "1     25916\n",
       "8     25282\n",
       "2     23813\n",
       "Name: RegistrationMonth, dtype: int64"
      ]
     },
     "execution_count": 18,
     "metadata": {},
     "output_type": "execute_result"
    }
   ],
   "source": [
    "data.loc[data['RegistrationMonth'] == 0, 'RegistrationMonth'] = res\n",
    "data['RegistrationMonth'].value_counts()"
   ]
  },
  {
   "cell_type": "code",
   "execution_count": 19,
   "metadata": {},
   "outputs": [
    {
     "data": {
      "text/plain": [
       "354365"
      ]
     },
     "execution_count": 19,
     "metadata": {},
     "output_type": "execute_result"
    }
   ],
   "source": [
    "data['RegistrationMonth'].count()"
   ]
  },
  {
   "cell_type": "code",
   "execution_count": 20,
   "metadata": {},
   "outputs": [
    {
     "data": {
      "image/png": "[encoded data removed]",
      "text/plain": [
       "<Figure size 1008x648 with 1 Axes>"
      ]
     },
     "metadata": {},
     "output_type": "display_data"
    }
   ],
   "source": [
    "graph_value_count('Gearbox')"
   ]
  },
  {
   "cell_type": "markdown",
   "metadata": {},
   "source": [
    "#### Построим графики для количественных признаков"
   ]
  },
  {
   "cell_type": "markdown",
   "metadata": {},
   "source": [
    "**Создадим функцию для построения графиков**"
   ]
  },
  {
   "cell_type": "code",
   "execution_count": 21,
   "metadata": {},
   "outputs": [],
   "source": [
    "def graph_hist_boxp(df, columns, bins, xlim_0, xlim_1):\n",
    "    plt.figure(figsize=(12,6))\n",
    "    plt.style.use('seaborn-darkgrid')\n",
    "    \n",
    "    df[columns].hist(bins=bins)\n",
    "    plt.xlabel(columns)\n",
    "    plt.xlim(xlim_0, xlim_1);\n",
    "    plt.show()\n",
    "    \n",
    "    sns.boxplot(data=df, x=columns);\n",
    "    plt.xlim(xlim_0, xlim_1);\n",
    "    plt.show()"
   ]
  },
  {
   "cell_type": "code",
   "execution_count": 22,
   "metadata": {
    "scrolled": false
   },
   "outputs": [
    {
     "data": {
      "image/png": "[encoded data removed]",
      "text/plain": [
       "<Figure size 864x432 with 1 Axes>"
      ]
     },
     "metadata": {},
     "output_type": "display_data"
    },
    {
     "data": {
      "image/png": "[encoded data removed]",
      "text/plain": [
       "<Figure size 432x288 with 1 Axes>"
      ]
     },
     "metadata": {},
     "output_type": "display_data"
    }
   ],
   "source": [
    "graph_hist_boxp(data, 'RegistrationYear', 1000, 1900, 2050)"
   ]
  },
  {
   "cell_type": "markdown",
   "metadata": {},
   "source": [
    "Наблюдаться аномалии. Дата выпуска авто - 1910. Возможно, такой раритет еще остался, но для нас данные лучше подкорректировать и оставить авто хотя бы с 1940 года. Так же есть выбросы свыше 2017 года. Посмотрим на количество и удалим их."
   ]
  },
  {
   "cell_type": "code",
   "execution_count": 23,
   "metadata": {},
   "outputs": [
    {
     "data": {
      "text/plain": [
       "90713     2016-04-07 14:36:58\n",
       "339645    2016-04-07 14:36:56\n",
       "301027    2016-04-07 14:36:55\n",
       "53739     2016-04-07 14:36:54\n",
       "204217    2016-04-07 14:36:53\n",
       "                 ...         \n",
       "324760    2016-03-05 14:06:24\n",
       "176822    2016-03-05 14:06:24\n",
       "99885     2016-03-05 14:06:24\n",
       "220582    2016-03-05 14:06:23\n",
       "329493    2016-03-05 14:06:22\n",
       "Name: DateCrawled, Length: 354365, dtype: object"
      ]
     },
     "execution_count": 23,
     "metadata": {},
     "output_type": "execute_result"
    }
   ],
   "source": [
    "data['DateCrawled'].sort_values(ascending = False)"
   ]
  },
  {
   "cell_type": "code",
   "execution_count": 24,
   "metadata": {},
   "outputs": [
    {
     "data": {
      "text/plain": [
       "65424"
      ]
     },
     "execution_count": 24,
     "metadata": {},
     "output_type": "execute_result"
    }
   ],
   "source": [
    "data.loc[data['RegistrationYear'] > 2017].count().sum()"
   ]
  },
  {
   "cell_type": "code",
   "execution_count": 25,
   "metadata": {},
   "outputs": [],
   "source": [
    "data = data.loc[(data['RegistrationYear'] > 1940) & (data['RegistrationYear'] < 2017)]"
   ]
  },
  {
   "cell_type": "code",
   "execution_count": 26,
   "metadata": {},
   "outputs": [
    {
     "data": {
      "text/html": [
       "<div>\n",
       "<style scoped>\n",
       "    .dataframe tbody tr th:only-of-type {\n",
       "        vertical-align: middle;\n",
       "    }\n",
       "\n",
       "    .dataframe tbody tr th {\n",
       "        vertical-align: top;\n",
       "    }\n",
       "\n",
       "    .dataframe thead th {\n",
       "        text-align: right;\n",
       "    }\n",
       "</style>\n",
       "<table border=\"1\" class=\"dataframe\">\n",
       "  <thead>\n",
       "    <tr style=\"text-align: right;\">\n",
       "      <th></th>\n",
       "      <th>DateCrawled</th>\n",
       "      <th>DateCreated</th>\n",
       "    </tr>\n",
       "  </thead>\n",
       "  <tbody>\n",
       "    <tr>\n",
       "      <th>0</th>\n",
       "      <td>2016-03-24 11:52:17</td>\n",
       "      <td>2016-03-24 00:00:00</td>\n",
       "    </tr>\n",
       "    <tr>\n",
       "      <th>1</th>\n",
       "      <td>2016-03-24 10:58:45</td>\n",
       "      <td>2016-03-24 00:00:00</td>\n",
       "    </tr>\n",
       "    <tr>\n",
       "      <th>2</th>\n",
       "      <td>2016-03-14 12:52:21</td>\n",
       "      <td>2016-03-14 00:00:00</td>\n",
       "    </tr>\n",
       "    <tr>\n",
       "      <th>3</th>\n",
       "      <td>2016-03-17 16:54:04</td>\n",
       "      <td>2016-03-17 00:00:00</td>\n",
       "    </tr>\n",
       "    <tr>\n",
       "      <th>4</th>\n",
       "      <td>2016-03-31 17:25:20</td>\n",
       "      <td>2016-03-31 00:00:00</td>\n",
       "    </tr>\n",
       "    <tr>\n",
       "      <th>...</th>\n",
       "      <td>...</td>\n",
       "      <td>...</td>\n",
       "    </tr>\n",
       "    <tr>\n",
       "      <th>354360</th>\n",
       "      <td>2016-03-21 09:50:58</td>\n",
       "      <td>2016-03-21 00:00:00</td>\n",
       "    </tr>\n",
       "    <tr>\n",
       "      <th>354361</th>\n",
       "      <td>2016-03-14 17:48:27</td>\n",
       "      <td>2016-03-14 00:00:00</td>\n",
       "    </tr>\n",
       "    <tr>\n",
       "      <th>354362</th>\n",
       "      <td>2016-03-05 19:56:21</td>\n",
       "      <td>2016-03-05 00:00:00</td>\n",
       "    </tr>\n",
       "    <tr>\n",
       "      <th>354363</th>\n",
       "      <td>2016-03-19 18:57:12</td>\n",
       "      <td>2016-03-19 00:00:00</td>\n",
       "    </tr>\n",
       "    <tr>\n",
       "      <th>354364</th>\n",
       "      <td>2016-03-20 19:41:08</td>\n",
       "      <td>2016-03-20 00:00:00</td>\n",
       "    </tr>\n",
       "  </tbody>\n",
       "</table>\n",
       "<p>339611 rows × 2 columns</p>\n",
       "</div>"
      ],
      "text/plain": [
       "                DateCrawled          DateCreated\n",
       "0       2016-03-24 11:52:17  2016-03-24 00:00:00\n",
       "1       2016-03-24 10:58:45  2016-03-24 00:00:00\n",
       "2       2016-03-14 12:52:21  2016-03-14 00:00:00\n",
       "3       2016-03-17 16:54:04  2016-03-17 00:00:00\n",
       "4       2016-03-31 17:25:20  2016-03-31 00:00:00\n",
       "...                     ...                  ...\n",
       "354360  2016-03-21 09:50:58  2016-03-21 00:00:00\n",
       "354361  2016-03-14 17:48:27  2016-03-14 00:00:00\n",
       "354362  2016-03-05 19:56:21  2016-03-05 00:00:00\n",
       "354363  2016-03-19 18:57:12  2016-03-19 00:00:00\n",
       "354364  2016-03-20 19:41:08  2016-03-20 00:00:00\n",
       "\n",
       "[339611 rows x 2 columns]"
      ]
     },
     "execution_count": 26,
     "metadata": {},
     "output_type": "execute_result"
    }
   ],
   "source": [
    "data[['DateCrawled', 'DateCreated']]"
   ]
  },
  {
   "cell_type": "markdown",
   "metadata": {},
   "source": [
    "**Взгляним на график цен на автомобиль**"
   ]
  },
  {
   "cell_type": "code",
   "execution_count": 27,
   "metadata": {},
   "outputs": [
    {
     "data": {
      "image/png": "[encoded data removed]",
      "text/plain": [
       "<Figure size 864x432 with 1 Axes>"
      ]
     },
     "metadata": {},
     "output_type": "display_data"
    },
    {
     "data": {
      "image/png": "[encoded data removed]",
      "text/plain": [
       "<Figure size 432x288 with 1 Axes>"
      ]
     },
     "metadata": {},
     "output_type": "display_data"
    }
   ],
   "source": [
    "graph_hist_boxp(data, 'Price', 200, 0, 25000)"
   ]
  },
  {
   "cell_type": "markdown",
   "metadata": {},
   "source": [
    "Цена авто - 0 евро, для нашего анализа будет мешать. Что стало причиной нулевого прайса, сложно сказать, но лучше избавиться от него."
   ]
  },
  {
   "cell_type": "code",
   "execution_count": 28,
   "metadata": {},
   "outputs": [
    {
     "data": {
      "text/html": [
       "<div>\n",
       "<style scoped>\n",
       "    .dataframe tbody tr th:only-of-type {\n",
       "        vertical-align: middle;\n",
       "    }\n",
       "\n",
       "    .dataframe tbody tr th {\n",
       "        vertical-align: top;\n",
       "    }\n",
       "\n",
       "    .dataframe thead th {\n",
       "        text-align: right;\n",
       "    }\n",
       "</style>\n",
       "<table border=\"1\" class=\"dataframe\">\n",
       "  <thead>\n",
       "    <tr style=\"text-align: right;\">\n",
       "      <th></th>\n",
       "      <th>DateCrawled</th>\n",
       "      <th>Price</th>\n",
       "      <th>VehicleType</th>\n",
       "      <th>RegistrationYear</th>\n",
       "      <th>Gearbox</th>\n",
       "      <th>Power</th>\n",
       "      <th>Model</th>\n",
       "      <th>Kilometer</th>\n",
       "      <th>RegistrationMonth</th>\n",
       "      <th>FuelType</th>\n",
       "      <th>Brand</th>\n",
       "      <th>Repaired</th>\n",
       "      <th>DateCreated</th>\n",
       "      <th>NumberOfPictures</th>\n",
       "      <th>PostalCode</th>\n",
       "      <th>LastSeen</th>\n",
       "    </tr>\n",
       "  </thead>\n",
       "  <tbody>\n",
       "    <tr>\n",
       "      <th>172</th>\n",
       "      <td>2016-03-07 12:38:19</td>\n",
       "      <td>19750</td>\n",
       "      <td>convertible</td>\n",
       "      <td>2006</td>\n",
       "      <td>manual</td>\n",
       "      <td>305</td>\n",
       "      <td>mustang</td>\n",
       "      <td>50000</td>\n",
       "      <td>7</td>\n",
       "      <td>petrol</td>\n",
       "      <td>ford</td>\n",
       "      <td>no</td>\n",
       "      <td>2016-03-07 00:00:00</td>\n",
       "      <td>0</td>\n",
       "      <td>38350</td>\n",
       "      <td>2016-03-12 20:18:29</td>\n",
       "    </tr>\n",
       "    <tr>\n",
       "      <th>484</th>\n",
       "      <td>2016-03-31 23:52:32</td>\n",
       "      <td>19900</td>\n",
       "      <td>bus</td>\n",
       "      <td>2009</td>\n",
       "      <td>manual</td>\n",
       "      <td>150</td>\n",
       "      <td>viano</td>\n",
       "      <td>90000</td>\n",
       "      <td>5</td>\n",
       "      <td>gasoline</td>\n",
       "      <td>mercedes_benz</td>\n",
       "      <td>no</td>\n",
       "      <td>2016-03-31 00:00:00</td>\n",
       "      <td>0</td>\n",
       "      <td>59348</td>\n",
       "      <td>2016-04-07 03:17:20</td>\n",
       "    </tr>\n",
       "    <tr>\n",
       "      <th>1360</th>\n",
       "      <td>2016-03-07 09:53:50</td>\n",
       "      <td>19850</td>\n",
       "      <td>sedan</td>\n",
       "      <td>2013</td>\n",
       "      <td>auto</td>\n",
       "      <td>150</td>\n",
       "      <td>golf</td>\n",
       "      <td>60000</td>\n",
       "      <td>6</td>\n",
       "      <td>gasoline</td>\n",
       "      <td>volkswagen</td>\n",
       "      <td>no</td>\n",
       "      <td>2016-03-07 00:00:00</td>\n",
       "      <td>0</td>\n",
       "      <td>57078</td>\n",
       "      <td>2016-03-20 16:48:15</td>\n",
       "    </tr>\n",
       "    <tr>\n",
       "      <th>1515</th>\n",
       "      <td>2016-03-09 10:18:36</td>\n",
       "      <td>20000</td>\n",
       "      <td>sedan</td>\n",
       "      <td>2010</td>\n",
       "      <td>auto</td>\n",
       "      <td>239</td>\n",
       "      <td>a6</td>\n",
       "      <td>150000</td>\n",
       "      <td>5</td>\n",
       "      <td>gasoline</td>\n",
       "      <td>audi</td>\n",
       "      <td>no</td>\n",
       "      <td>2016-03-07 00:00:00</td>\n",
       "      <td>0</td>\n",
       "      <td>56567</td>\n",
       "      <td>2016-03-30 19:17:04</td>\n",
       "    </tr>\n",
       "    <tr>\n",
       "      <th>1586</th>\n",
       "      <td>2016-04-03 21:41:49</td>\n",
       "      <td>20000</td>\n",
       "      <td>sedan</td>\n",
       "      <td>2014</td>\n",
       "      <td>auto</td>\n",
       "      <td>184</td>\n",
       "      <td>leon</td>\n",
       "      <td>40000</td>\n",
       "      <td>4</td>\n",
       "      <td>gasoline</td>\n",
       "      <td>seat</td>\n",
       "      <td>no</td>\n",
       "      <td>2016-04-03 00:00:00</td>\n",
       "      <td>0</td>\n",
       "      <td>30655</td>\n",
       "      <td>2016-04-05 22:18:39</td>\n",
       "    </tr>\n",
       "    <tr>\n",
       "      <th>...</th>\n",
       "      <td>...</td>\n",
       "      <td>...</td>\n",
       "      <td>...</td>\n",
       "      <td>...</td>\n",
       "      <td>...</td>\n",
       "      <td>...</td>\n",
       "      <td>...</td>\n",
       "      <td>...</td>\n",
       "      <td>...</td>\n",
       "      <td>...</td>\n",
       "      <td>...</td>\n",
       "      <td>...</td>\n",
       "      <td>...</td>\n",
       "      <td>...</td>\n",
       "      <td>...</td>\n",
       "      <td>...</td>\n",
       "    </tr>\n",
       "    <tr>\n",
       "      <th>353189</th>\n",
       "      <td>2016-04-04 21:59:43</td>\n",
       "      <td>19500</td>\n",
       "      <td>bus</td>\n",
       "      <td>1970</td>\n",
       "      <td>auto</td>\n",
       "      <td>69</td>\n",
       "      <td>transporter</td>\n",
       "      <td>30000</td>\n",
       "      <td>11</td>\n",
       "      <td>petrol</td>\n",
       "      <td>volkswagen</td>\n",
       "      <td>unknown</td>\n",
       "      <td>2016-04-04 00:00:00</td>\n",
       "      <td>0</td>\n",
       "      <td>93354</td>\n",
       "      <td>2016-04-04 21:59:43</td>\n",
       "    </tr>\n",
       "    <tr>\n",
       "      <th>353586</th>\n",
       "      <td>2016-03-14 00:36:42</td>\n",
       "      <td>19950</td>\n",
       "      <td>wagon</td>\n",
       "      <td>2009</td>\n",
       "      <td>manual</td>\n",
       "      <td>265</td>\n",
       "      <td>other</td>\n",
       "      <td>125000</td>\n",
       "      <td>1</td>\n",
       "      <td>petrol</td>\n",
       "      <td>audi</td>\n",
       "      <td>no</td>\n",
       "      <td>2016-03-14 00:00:00</td>\n",
       "      <td>0</td>\n",
       "      <td>59872</td>\n",
       "      <td>2016-03-20 21:45:10</td>\n",
       "    </tr>\n",
       "    <tr>\n",
       "      <th>354041</th>\n",
       "      <td>2016-03-22 20:48:48</td>\n",
       "      <td>20000</td>\n",
       "      <td>coupe</td>\n",
       "      <td>2006</td>\n",
       "      <td>auto</td>\n",
       "      <td>476</td>\n",
       "      <td>other</td>\n",
       "      <td>125000</td>\n",
       "      <td>7</td>\n",
       "      <td>petrol</td>\n",
       "      <td>mercedes_benz</td>\n",
       "      <td>no</td>\n",
       "      <td>2016-03-22 00:00:00</td>\n",
       "      <td>0</td>\n",
       "      <td>38118</td>\n",
       "      <td>2016-03-24 05:16:02</td>\n",
       "    </tr>\n",
       "    <tr>\n",
       "      <th>354174</th>\n",
       "      <td>2016-03-14 00:48:36</td>\n",
       "      <td>19990</td>\n",
       "      <td>small</td>\n",
       "      <td>2014</td>\n",
       "      <td>auto</td>\n",
       "      <td>185</td>\n",
       "      <td>a1</td>\n",
       "      <td>10000</td>\n",
       "      <td>2</td>\n",
       "      <td>petrol</td>\n",
       "      <td>audi</td>\n",
       "      <td>no</td>\n",
       "      <td>2016-03-13 00:00:00</td>\n",
       "      <td>0</td>\n",
       "      <td>42659</td>\n",
       "      <td>2016-04-07 03:17:51</td>\n",
       "    </tr>\n",
       "    <tr>\n",
       "      <th>354315</th>\n",
       "      <td>2016-03-25 17:48:10</td>\n",
       "      <td>19800</td>\n",
       "      <td>sedan</td>\n",
       "      <td>2011</td>\n",
       "      <td>manual</td>\n",
       "      <td>170</td>\n",
       "      <td>1er</td>\n",
       "      <td>80000</td>\n",
       "      <td>12</td>\n",
       "      <td>petrol</td>\n",
       "      <td>bmw</td>\n",
       "      <td>no</td>\n",
       "      <td>2016-03-25 00:00:00</td>\n",
       "      <td>0</td>\n",
       "      <td>41460</td>\n",
       "      <td>2016-04-06 22:47:12</td>\n",
       "    </tr>\n",
       "  </tbody>\n",
       "</table>\n",
       "<p>2403 rows × 16 columns</p>\n",
       "</div>"
      ],
      "text/plain": [
       "                DateCrawled  Price  VehicleType  RegistrationYear Gearbox  \\\n",
       "172     2016-03-07 12:38:19  19750  convertible              2006  manual   \n",
       "484     2016-03-31 23:52:32  19900          bus              2009  manual   \n",
       "1360    2016-03-07 09:53:50  19850        sedan              2013    auto   \n",
       "1515    2016-03-09 10:18:36  20000        sedan              2010    auto   \n",
       "1586    2016-04-03 21:41:49  20000        sedan              2014    auto   \n",
       "...                     ...    ...          ...               ...     ...   \n",
       "353189  2016-04-04 21:59:43  19500          bus              1970    auto   \n",
       "353586  2016-03-14 00:36:42  19950        wagon              2009  manual   \n",
       "354041  2016-03-22 20:48:48  20000        coupe              2006    auto   \n",
       "354174  2016-03-14 00:48:36  19990        small              2014    auto   \n",
       "354315  2016-03-25 17:48:10  19800        sedan              2011  manual   \n",
       "\n",
       "        Power        Model  Kilometer  RegistrationMonth  FuelType  \\\n",
       "172       305      mustang      50000                  7    petrol   \n",
       "484       150        viano      90000                  5  gasoline   \n",
       "1360      150         golf      60000                  6  gasoline   \n",
       "1515      239           a6     150000                  5  gasoline   \n",
       "1586      184         leon      40000                  4  gasoline   \n",
       "...       ...          ...        ...                ...       ...   \n",
       "353189     69  transporter      30000                 11    petrol   \n",
       "353586    265        other     125000                  1    petrol   \n",
       "354041    476        other     125000                  7    petrol   \n",
       "354174    185           a1      10000                  2    petrol   \n",
       "354315    170          1er      80000                 12    petrol   \n",
       "\n",
       "                Brand Repaired          DateCreated  NumberOfPictures  \\\n",
       "172              ford       no  2016-03-07 00:00:00                 0   \n",
       "484     mercedes_benz       no  2016-03-31 00:00:00                 0   \n",
       "1360       volkswagen       no  2016-03-07 00:00:00                 0   \n",
       "1515             audi       no  2016-03-07 00:00:00                 0   \n",
       "1586             seat       no  2016-04-03 00:00:00                 0   \n",
       "...               ...      ...                  ...               ...   \n",
       "353189     volkswagen  unknown  2016-04-04 00:00:00                 0   \n",
       "353586           audi       no  2016-03-14 00:00:00                 0   \n",
       "354041  mercedes_benz       no  2016-03-22 00:00:00                 0   \n",
       "354174           audi       no  2016-03-13 00:00:00                 0   \n",
       "354315            bmw       no  2016-03-25 00:00:00                 0   \n",
       "\n",
       "        PostalCode             LastSeen  \n",
       "172          38350  2016-03-12 20:18:29  \n",
       "484          59348  2016-04-07 03:17:20  \n",
       "1360         57078  2016-03-20 16:48:15  \n",
       "1515         56567  2016-03-30 19:17:04  \n",
       "1586         30655  2016-04-05 22:18:39  \n",
       "...            ...                  ...  \n",
       "353189       93354  2016-04-04 21:59:43  \n",
       "353586       59872  2016-03-20 21:45:10  \n",
       "354041       38118  2016-03-24 05:16:02  \n",
       "354174       42659  2016-04-07 03:17:51  \n",
       "354315       41460  2016-04-06 22:47:12  \n",
       "\n",
       "[2403 rows x 16 columns]"
      ]
     },
     "execution_count": 28,
     "metadata": {},
     "output_type": "execute_result"
    }
   ],
   "source": [
    "data.loc[(data['Price'] > 19000)]"
   ]
  },
  {
   "cell_type": "code",
   "execution_count": 29,
   "metadata": {},
   "outputs": [],
   "source": [
    "data = data.loc[(data['Price'] != 0)]"
   ]
  },
  {
   "cell_type": "markdown",
   "metadata": {},
   "source": [
    "**Посмотрим на график мощности автомобилей.**"
   ]
  },
  {
   "cell_type": "code",
   "execution_count": 30,
   "metadata": {
    "scrolled": false
   },
   "outputs": [
    {
     "data": {
      "image/png": "[encoded data removed]",
      "text/plain": [
       "<Figure size 864x432 with 1 Axes>"
      ]
     },
     "metadata": {},
     "output_type": "display_data"
    },
    {
     "data": {
      "image/png": "[encoded data removed]",
      "text/plain": [
       "<Figure size 432x288 with 1 Axes>"
      ]
     },
     "metadata": {},
     "output_type": "display_data"
    }
   ],
   "source": [
    "graph_hist_boxp(data, 'Power', 500, 0, 999)"
   ]
  },
  {
   "cell_type": "markdown",
   "metadata": {},
   "source": [
    "Есть 0 мощность автомобиля. Предположим, что автомобиль без движка. По мощности свыше 250 л.с. идут выбросы. Учитывая, что в выборке у нас нет брендов автомобилей Ferrari, Bugatti Veyron, McLaren, то ограничимся до 400 л.с."
   ]
  },
  {
   "cell_type": "code",
   "execution_count": 31,
   "metadata": {
    "scrolled": true
   },
   "outputs": [
    {
     "name": "stdout",
     "output_type": "stream",
     "text": [
      "Процент автомобилей с мощность 0 и свыше 400 л.с. 10.15%\n"
     ]
    }
   ],
   "source": [
    "car_power0_400 = data[data['Power'] < 1] + data[data['Power'] > 400]\n",
    "\n",
    "print(f'Процент автомобилей с мощность 0 и свыше 400 л.с. {(car_power0_400.shape[0] / data.shape[0] * 100):.2f}%')"
   ]
  },
  {
   "cell_type": "markdown",
   "metadata": {},
   "source": [
    "Удалим аномалии в `Power`"
   ]
  },
  {
   "cell_type": "code",
   "execution_count": 32,
   "metadata": {},
   "outputs": [],
   "source": [
    "data = data.loc[(data['Power'] < 400) & (data['Power'] != 0)]"
   ]
  },
  {
   "cell_type": "markdown",
   "metadata": {},
   "source": [
    "**Посмотрим на график по километражу.**"
   ]
  },
  {
   "cell_type": "code",
   "execution_count": 33,
   "metadata": {},
   "outputs": [
    {
     "data": {
      "image/png": "[encoded data removed]",
      "text/plain": [
       "<Figure size 864x432 with 1 Axes>"
      ]
     },
     "metadata": {},
     "output_type": "display_data"
    },
    {
     "data": {
      "image/png": "[encoded data removed]",
      "text/plain": [
       "<Figure size 432x288 with 1 Axes>"
      ]
     },
     "metadata": {},
     "output_type": "display_data"
    }
   ],
   "source": [
    "graph_hist_boxp(data, 'Kilometer', 8, 0, 200000)"
   ]
  },
  {
   "cell_type": "markdown",
   "metadata": {},
   "source": [
    "Тут аномалий как таковых нет, но километраж уперается до 150 тыс.км возможно максимальное значение в приложение. "
   ]
  },
  {
   "cell_type": "markdown",
   "metadata": {},
   "source": [
    "#### Удалим ненужные нам признаки"
   ]
  },
  {
   "cell_type": "code",
   "execution_count": 34,
   "metadata": {
    "scrolled": true
   },
   "outputs": [
    {
     "data": {
      "text/html": [
       "<div>\n",
       "<style scoped>\n",
       "    .dataframe tbody tr th:only-of-type {\n",
       "        vertical-align: middle;\n",
       "    }\n",
       "\n",
       "    .dataframe tbody tr th {\n",
       "        vertical-align: top;\n",
       "    }\n",
       "\n",
       "    .dataframe thead th {\n",
       "        text-align: right;\n",
       "    }\n",
       "</style>\n",
       "<table border=\"1\" class=\"dataframe\">\n",
       "  <thead>\n",
       "    <tr style=\"text-align: right;\">\n",
       "      <th></th>\n",
       "      <th>Price</th>\n",
       "      <th>VehicleType</th>\n",
       "      <th>RegistrationYear</th>\n",
       "      <th>Gearbox</th>\n",
       "      <th>Power</th>\n",
       "      <th>Model</th>\n",
       "      <th>Kilometer</th>\n",
       "      <th>RegistrationMonth</th>\n",
       "      <th>FuelType</th>\n",
       "      <th>Brand</th>\n",
       "      <th>Repaired</th>\n",
       "    </tr>\n",
       "  </thead>\n",
       "  <tbody>\n",
       "    <tr>\n",
       "      <th>1</th>\n",
       "      <td>18300</td>\n",
       "      <td>coupe</td>\n",
       "      <td>2011</td>\n",
       "      <td>manual</td>\n",
       "      <td>190</td>\n",
       "      <td>other</td>\n",
       "      <td>125000</td>\n",
       "      <td>5</td>\n",
       "      <td>gasoline</td>\n",
       "      <td>audi</td>\n",
       "      <td>yes</td>\n",
       "    </tr>\n",
       "    <tr>\n",
       "      <th>2</th>\n",
       "      <td>9800</td>\n",
       "      <td>suv</td>\n",
       "      <td>2004</td>\n",
       "      <td>auto</td>\n",
       "      <td>163</td>\n",
       "      <td>grand</td>\n",
       "      <td>125000</td>\n",
       "      <td>8</td>\n",
       "      <td>gasoline</td>\n",
       "      <td>jeep</td>\n",
       "      <td>unknown</td>\n",
       "    </tr>\n",
       "    <tr>\n",
       "      <th>3</th>\n",
       "      <td>1500</td>\n",
       "      <td>small</td>\n",
       "      <td>2001</td>\n",
       "      <td>manual</td>\n",
       "      <td>75</td>\n",
       "      <td>golf</td>\n",
       "      <td>150000</td>\n",
       "      <td>6</td>\n",
       "      <td>petrol</td>\n",
       "      <td>volkswagen</td>\n",
       "      <td>no</td>\n",
       "    </tr>\n",
       "    <tr>\n",
       "      <th>4</th>\n",
       "      <td>3600</td>\n",
       "      <td>small</td>\n",
       "      <td>2008</td>\n",
       "      <td>manual</td>\n",
       "      <td>69</td>\n",
       "      <td>fabia</td>\n",
       "      <td>90000</td>\n",
       "      <td>7</td>\n",
       "      <td>gasoline</td>\n",
       "      <td>skoda</td>\n",
       "      <td>no</td>\n",
       "    </tr>\n",
       "    <tr>\n",
       "      <th>5</th>\n",
       "      <td>650</td>\n",
       "      <td>sedan</td>\n",
       "      <td>1995</td>\n",
       "      <td>manual</td>\n",
       "      <td>102</td>\n",
       "      <td>3er</td>\n",
       "      <td>150000</td>\n",
       "      <td>10</td>\n",
       "      <td>petrol</td>\n",
       "      <td>bmw</td>\n",
       "      <td>yes</td>\n",
       "    </tr>\n",
       "  </tbody>\n",
       "</table>\n",
       "</div>"
      ],
      "text/plain": [
       "   Price VehicleType  RegistrationYear Gearbox  Power  Model  Kilometer  \\\n",
       "1  18300       coupe              2011  manual    190  other     125000   \n",
       "2   9800         suv              2004    auto    163  grand     125000   \n",
       "3   1500       small              2001  manual     75   golf     150000   \n",
       "4   3600       small              2008  manual     69  fabia      90000   \n",
       "5    650       sedan              1995  manual    102    3er     150000   \n",
       "\n",
       "   RegistrationMonth  FuelType       Brand Repaired  \n",
       "1                  5  gasoline        audi      yes  \n",
       "2                  8  gasoline        jeep  unknown  \n",
       "3                  6    petrol  volkswagen       no  \n",
       "4                  7  gasoline       skoda       no  \n",
       "5                 10    petrol         bmw      yes  "
      ]
     },
     "execution_count": 34,
     "metadata": {},
     "output_type": "execute_result"
    }
   ],
   "source": [
    "data.drop(['DateCrawled', 'DateCreated', 'NumberOfPictures', 'PostalCode', 'LastSeen'], axis=1, inplace=True)\n",
    "data.head()"
   ]
  },
  {
   "cell_type": "code",
   "execution_count": 35,
   "metadata": {
    "scrolled": true
   },
   "outputs": [
    {
     "name": "stdout",
     "output_type": "stream",
     "text": [
      "Процент потерянных данных 16.4%\n"
     ]
    }
   ],
   "source": [
    "print('Процент потерянных данных {:.1%}'.format(1 - data.shape[0] / shape_old))"
   ]
  },
  {
   "cell_type": "markdown",
   "metadata": {},
   "source": [
    "**Итог по переработаке данных.**<a id='id1'></a>\n",
    "\n",
    "И так у нас имеется датасет из 16 стобцов и 354369 записей. \n",
    "* Найдено 4 дубликата. Удалено.\n",
    "* Пропуски в столбце `Repaired` - 20.1%. Заменены на **unknown**\n",
    "* Пропуски в столбце `VehicleType` - 10.6%. Заменены на **other**\n",
    "* Пропуски в столбце `FuelType` - 9.3%. Заменены на **petrol**\n",
    "* Пропуски в столбце `Gearbox` - 5.6%. Заменены на **other** \n",
    "* Пропуски в столбце `Model` - 5.6%. Заменены на **other** \n",
    "\n",
    "**В категориальных признаках** \n",
    "* В столбце `RegistrationMonth` заполнили данные не меняя распределения в них.\n",
    "\n",
    "**В количественных признаках** \n",
    "* В столбце `RegistrationYear` ограничились датами с 1940 по 2020.\n",
    "* В столбце `Price` убрали 0 ценик и ограничились до 15000 евро. \n",
    "* В столбце `Power` огранисились мощностью до 400 л.с и убрали 0 мощность. \n",
    "\n",
    "**Удалили ненужные признаки**\n",
    "\n",
    "`DateCrawled`, `DateCreated`, `NumberOfPictures`, `PostalCode`, `LastSeen`.\n",
    "\n",
    "**Процент потерянных данных 16.4%**"
   ]
  },
  {
   "cell_type": "code",
   "execution_count": 36,
   "metadata": {},
   "outputs": [
    {
     "name": "stdout",
     "output_type": "stream",
     "text": [
      "Collecting phik\n",
      "  Downloading phik-0.12.3-cp39-cp39-manylinux_2_17_x86_64.manylinux2014_x86_64.whl (679 kB)\n",
      "\u001b[K     |████████████████████████████████| 679 kB 1.1 MB/s eta 0:00:01\n",
      "\u001b[?25hRequirement already satisfied: matplotlib>=2.2.3 in /opt/conda/lib/python3.9/site-packages (from phik) (3.3.4)\n",
      "Requirement already satisfied: pandas>=0.25.1 in /opt/conda/lib/python3.9/site-packages (from phik) (1.2.4)\n",
      "Requirement already satisfied: scipy>=1.5.2 in /opt/conda/lib/python3.9/site-packages (from phik) (1.9.1)\n",
      "Requirement already satisfied: joblib>=0.14.1 in /opt/conda/lib/python3.9/site-packages (from phik) (1.1.0)\n",
      "Requirement already satisfied: numpy>=1.18.0 in /opt/conda/lib/python3.9/site-packages (from phik) (1.21.1)\n",
      "Requirement already satisfied: pillow>=6.2.0 in /opt/conda/lib/python3.9/site-packages (from matplotlib>=2.2.3->phik) (8.4.0)\n",
      "Requirement already satisfied: cycler>=0.10 in /opt/conda/lib/python3.9/site-packages (from matplotlib>=2.2.3->phik) (0.11.0)\n",
      "Requirement already satisfied: pyparsing!=2.0.4,!=2.1.2,!=2.1.6,>=2.0.3 in /opt/conda/lib/python3.9/site-packages (from matplotlib>=2.2.3->phik) (2.4.7)\n",
      "Requirement already satisfied: kiwisolver>=1.0.1 in /opt/conda/lib/python3.9/site-packages (from matplotlib>=2.2.3->phik) (1.4.4)\n",
      "Requirement already satisfied: python-dateutil>=2.1 in /opt/conda/lib/python3.9/site-packages (from matplotlib>=2.2.3->phik) (2.8.1)\n",
      "Requirement already satisfied: pytz>=2017.3 in /opt/conda/lib/python3.9/site-packages (from pandas>=0.25.1->phik) (2021.1)\n",
      "Requirement already satisfied: six>=1.5 in /opt/conda/lib/python3.9/site-packages (from python-dateutil>=2.1->matplotlib>=2.2.3->phik) (1.16.0)\n",
      "Installing collected packages: phik\n",
      "Successfully installed phik-0.12.3\n"
     ]
    }
   ],
   "source": [
    "!pip install phik"
   ]
  },
  {
   "cell_type": "code",
   "execution_count": 37,
   "metadata": {},
   "outputs": [],
   "source": [
    "import phik\n",
    "from phik.report import plot_correlation_matrix\n",
    "from phik import report"
   ]
  },
  {
   "cell_type": "code",
   "execution_count": 38,
   "metadata": {
    "scrolled": false
   },
   "outputs": [
    {
     "name": "stdout",
     "output_type": "stream",
     "text": [
      "interval columns not set, guessing: ['Price', 'RegistrationYear', 'Power', 'Kilometer', 'RegistrationMonth']\n"
     ]
    }
   ],
   "source": [
    "phik_overview = data.phik_matrix()"
   ]
  },
  {
   "cell_type": "code",
   "execution_count": 39,
   "metadata": {},
   "outputs": [
    {
     "data": {
      "image/png": "[encoded data removed]",
      "text/plain": [
       "<Figure size 720x432 with 2 Axes>"
      ]
     },
     "metadata": {},
     "output_type": "display_data"
    }
   ],
   "source": [
    "plt.figure(figsize = (10,6))\n",
    "sns.heatmap(phik_overview);"
   ]
  },
  {
   "cell_type": "code",
   "execution_count": 40,
   "metadata": {},
   "outputs": [
    {
     "data": {
      "text/plain": [
       "Price                1.000000\n",
       "RegistrationYear     0.649002\n",
       "Model                0.573170\n",
       "Power                0.511687\n",
       "Brand                0.361340\n",
       "Repaired             0.338364\n",
       "Kilometer            0.320127\n",
       "Gearbox              0.290430\n",
       "VehicleType          0.277619\n",
       "FuelType             0.263424\n",
       "RegistrationMonth    0.027160\n",
       "Name: Price, dtype: float64"
      ]
     },
     "execution_count": 40,
     "metadata": {},
     "output_type": "execute_result"
    }
   ],
   "source": [
    "phik_overview['Price'].sort_values(ascending = False)"
   ]
  },
  {
   "cell_type": "markdown",
   "metadata": {},
   "source": [
    "Исходя из взаимосвязей наших данных, можем увидеть, что большие влияние на цену оказывает: Дата регистрации автомобиля, модель автомобиля, мощность и Бренд. "
   ]
  },
  {
   "cell_type": "markdown",
   "metadata": {},
   "source": [
    "## Обучение моделей"
   ]
  },
  {
   "cell_type": "code",
   "execution_count": 41,
   "metadata": {},
   "outputs": [],
   "source": [
    "STATE = np.random.RandomState(12345)"
   ]
  },
  {
   "cell_type": "markdown",
   "metadata": {},
   "source": [
    "Сохраним признаки в отдельные переменные."
   ]
  },
  {
   "cell_type": "code",
   "execution_count": 42,
   "metadata": {
    "scrolled": false
   },
   "outputs": [],
   "source": [
    "target = data['Price']\n",
    "features = data.drop('Price', axis = 1)"
   ]
  },
  {
   "cell_type": "code",
   "execution_count": 43,
   "metadata": {},
   "outputs": [],
   "source": [
    "# Разобьем на обучающие и тестовую выборку.\n",
    "\n",
    "features_train, features_test, target_train, target_test = train_test_split(\n",
    "    features, target, test_size=0.25, random_state=STATE)"
   ]
  },
  {
   "cell_type": "markdown",
   "metadata": {},
   "source": [
    "Получим категориальные и числовые имена столбцов."
   ]
  },
  {
   "cell_type": "code",
   "execution_count": 44,
   "metadata": {},
   "outputs": [],
   "source": [
    "num_features = features_train.select_dtypes(exclude=['object']).columns.tolist()\n",
    "category_features = features_train.select_dtypes(include=['object']).columns.tolist()"
   ]
  },
  {
   "cell_type": "code",
   "execution_count": 45,
   "metadata": {},
   "outputs": [
    {
     "name": "stdout",
     "output_type": "stream",
     "text": [
      "Количество строк на обучающей выборке 222117\n",
      "Количество строк на тестовую выборку 74040\n"
     ]
    }
   ],
   "source": [
    "print('Количество строк на обучающей выборке', features_train.shape[0])\n",
    "print('Количество строк на тестовую выборку', features_test.shape[0])"
   ]
  },
  {
   "cell_type": "markdown",
   "metadata": {},
   "source": [
    "### Обучим модель CatBoost"
   ]
  },
  {
   "cell_type": "code",
   "execution_count": 46,
   "metadata": {},
   "outputs": [],
   "source": [
    "cat_model = CatBoostRegressor(verbose=False, cat_features= category_features,  \n",
    "                              early_stopping_rounds=20)\n",
    "\n",
    "parameters_cat = {'iterations':[50, 300],\n",
    "                  'learning_rate':[0.3, 0.7],\n",
    "                  'l2_leaf_reg':[3, 6]\n",
    "                 }\n",
    "\n",
    "model_cat = RandomizedSearchCV(estimator=cat_model, param_distributions=parameters_cat, \n",
    "                               scoring='neg_mean_squared_error', n_iter=5, cv = 3)"
   ]
  },
  {
   "cell_type": "code",
   "execution_count": 47,
   "metadata": {
    "scrolled": true
   },
   "outputs": [
    {
     "name": "stdout",
     "output_type": "stream",
     "text": [
      "Параметры: {'learning_rate': 0.3, 'l2_leaf_reg': 3, 'iterations': 300}\n",
      "RMSE: 1604.7406910399916\n",
      "CPU times: user 6min 36s, sys: 3.01 s, total: 6min 39s\n",
      "Wall time: 6min 48s\n"
     ]
    }
   ],
   "source": [
    "%%time\n",
    "\n",
    "model_cat.fit(features_train, target_train)\n",
    "print(\"Параметры:\", model_cat.best_params_)\n",
    "print('RMSE:', np.sqrt(-model_cat.best_score_))"
   ]
  },
  {
   "cell_type": "code",
   "execution_count": 48,
   "metadata": {
    "scrolled": false
   },
   "outputs": [
    {
     "name": "stdout",
     "output_type": "stream",
     "text": [
      "Время обучения модели: 50.60 сек.\n",
      "Время предсказания: 0.31 сек.\n"
     ]
    }
   ],
   "source": [
    "grid_cat_res = pd.DataFrame(model_cat.cv_results_)\n",
    "print(f'Время обучения модели: {grid_cat_res[\"mean_fit_time\"].iloc[model_cat.best_index_]:.2f} сек.') \n",
    "print(f'Время предсказания: {grid_cat_res[\"mean_score_time\"].iloc[model_cat.best_index_]:.2f} сек.')"
   ]
  },
  {
   "cell_type": "markdown",
   "metadata": {},
   "source": [
    "### Обучим модель LightGBM"
   ]
  },
  {
   "cell_type": "code",
   "execution_count": 64,
   "metadata": {},
   "outputs": [],
   "source": [
    "light_model = LGBMRegressor(verbosity= -1, random_state = STATE, n_jobs=4)\n",
    "\n",
    "parameters_light = {'num_leaves': [10, 30, 50, 60], 'max_depth': [5, 10, 20, 30], \n",
    "                    'learning_rate':[0.2, 0.5, 0.8]}\n",
    "\n",
    "model_light = RandomizedSearchCV(estimator=light_model, param_distributions=parameters_light, scoring='neg_mean_squared_error',\n",
    "                                         n_iter=4, cv = 3)"
   ]
  },
  {
   "cell_type": "code",
   "execution_count": 65,
   "metadata": {},
   "outputs": [
    {
     "name": "stdout",
     "output_type": "stream",
     "text": [
      "Параметры: {'num_leaves': 30, 'max_depth': 20, 'learning_rate': 0.2}\n",
      "RMSE: 1590.1712522009816\n",
      "CPU times: user 32.8 s, sys: 239 ms, total: 33.1 s\n",
      "Wall time: 33.4 s\n"
     ]
    }
   ],
   "source": [
    "%%time\n",
    "\n",
    "model_light.fit(features_train.astype({it:'category' for it in category_features}), target_train)\n",
    "print(\"Параметры:\", model_light.best_params_)\n",
    "print('RMSE:', np.sqrt(-model_light.best_score_))"
   ]
  },
  {
   "cell_type": "code",
   "execution_count": 66,
   "metadata": {},
   "outputs": [
    {
     "name": "stdout",
     "output_type": "stream",
     "text": [
      "Время обучения модели: 1.93 сек.\n",
      "Время предсказания: 0.61 сек.\n"
     ]
    }
   ],
   "source": [
    "grid_light_res = pd.DataFrame(model_light.cv_results_)\n",
    "print(f'Время обучения модели: {grid_light_res[\"mean_fit_time\"].iloc[model_light.best_index_]:.2f} сек.') \n",
    "print(f'Время предсказания: {grid_light_res[\"mean_score_time\"].iloc[model_light.best_index_]:.2f} сек.')"
   ]
  },
  {
   "cell_type": "markdown",
   "metadata": {},
   "source": [
    "### Обучим модель \"Дерево решений\""
   ]
  },
  {
   "cell_type": "code",
   "execution_count": 52,
   "metadata": {},
   "outputs": [],
   "source": [
    "ct = make_column_transformer((OneHotEncoder(sparse=False, handle_unknown='ignore'), \n",
    "                              category_features), \n",
    "                             (StandardScaler(), num_features), remainder='passthrough')\n",
    "\n",
    "tree_model = Pipeline(steps=[('prep', ct), ('dtr', DecisionTreeRegressor())])\n",
    "\n",
    "parametr_set = {'dtr__max_depth': [4, 6, 10], \n",
    "                'dtr__min_samples_split': [2, 3, 4], \n",
    "                'dtr__min_samples_leaf': [10, 20]}\n",
    "\n",
    "model_tree = RandomizedSearchCV(estimator=tree_model, param_distributions=parametr_set, \n",
    "                               scoring='neg_mean_squared_error', n_iter=5, cv = 3)"
   ]
  },
  {
   "cell_type": "code",
   "execution_count": 53,
   "metadata": {
    "scrolled": true
   },
   "outputs": [
    {
     "name": "stdout",
     "output_type": "stream",
     "text": [
      "Параметры: {'dtr__min_samples_split': 4, 'dtr__min_samples_leaf': 10, 'dtr__max_depth': 10}\n",
      "RMSE: 1977.4929661593965\n",
      "CPU times: user 1min 29s, sys: 13.5 s, total: 1min 43s\n",
      "Wall time: 1min 43s\n"
     ]
    }
   ],
   "source": [
    "%%time\n",
    "\n",
    "model_tree.fit(features_train, target_train)\n",
    "print(\"Параметры:\", model_tree.best_params_)\n",
    "print('RMSE:', np.sqrt(-model_tree.best_score_))"
   ]
  },
  {
   "cell_type": "code",
   "execution_count": 54,
   "metadata": {},
   "outputs": [
    {
     "name": "stdout",
     "output_type": "stream",
     "text": [
      "Время обучения модели: 6.49 сек.\n",
      "Время предсказания: 0.50 сек.\n"
     ]
    }
   ],
   "source": [
    "grid_tree_res = pd.DataFrame(model_tree.cv_results_)\n",
    "print(f'Время обучения модели: {grid_tree_res[\"mean_fit_time\"].iloc[model_tree.best_index_]:.2f} сек.') \n",
    "print(f'Время предсказания: {grid_tree_res[\"mean_score_time\"].iloc[model_tree.best_index_]:.2f} сек.')"
   ]
  },
  {
   "cell_type": "code",
   "execution_count": 67,
   "metadata": {},
   "outputs": [],
   "source": [
    "rmse = [np.sqrt(-model_cat.best_score_), np.sqrt(-model_light.best_score_), np.sqrt(-model_tree.best_score_)]\n",
    "time_fit = [grid_cat_res[\"mean_fit_time\"].iloc[model_cat.best_index_], \n",
    "            grid_light_res[\"mean_fit_time\"].iloc[model_light.best_index_],\n",
    "            grid_tree_res[\"mean_fit_time\"].iloc[model_tree.best_index_]]\n",
    "time_pred = [grid_cat_res[\"mean_score_time\"].iloc[model_cat.best_index_],\n",
    "             grid_light_res[\"mean_score_time\"].iloc[model_light.best_index_],\n",
    "             grid_tree_res[\"mean_score_time\"].iloc[model_tree.best_index_]]"
   ]
  },
  {
   "cell_type": "code",
   "execution_count": 68,
   "metadata": {},
   "outputs": [],
   "source": [
    "df_current_results = pd.DataFrame(data = [rmse, time_fit, time_pred],\n",
    "                                 columns = ['CatBoost', 'LightGBM', 'Дерево решений'],\n",
    "                                 index = ['RMSE', 'Время обучения', 'Время предсказания'])"
   ]
  },
  {
   "cell_type": "code",
   "execution_count": 69,
   "metadata": {},
   "outputs": [
    {
     "data": {
      "text/html": [
       "<div>\n",
       "<style scoped>\n",
       "    .dataframe tbody tr th:only-of-type {\n",
       "        vertical-align: middle;\n",
       "    }\n",
       "\n",
       "    .dataframe tbody tr th {\n",
       "        vertical-align: top;\n",
       "    }\n",
       "\n",
       "    .dataframe thead th {\n",
       "        text-align: right;\n",
       "    }\n",
       "</style>\n",
       "<table border=\"1\" class=\"dataframe\">\n",
       "  <thead>\n",
       "    <tr style=\"text-align: right;\">\n",
       "      <th></th>\n",
       "      <th>CatBoost</th>\n",
       "      <th>LightGBM</th>\n",
       "      <th>Дерево решений</th>\n",
       "    </tr>\n",
       "  </thead>\n",
       "  <tbody>\n",
       "    <tr>\n",
       "      <th>RMSE</th>\n",
       "      <td>1604.740691</td>\n",
       "      <td>1590.171252</td>\n",
       "      <td>1977.492966</td>\n",
       "    </tr>\n",
       "    <tr>\n",
       "      <th>Время обучения</th>\n",
       "      <td>50.598430</td>\n",
       "      <td>1.933283</td>\n",
       "      <td>6.490482</td>\n",
       "    </tr>\n",
       "    <tr>\n",
       "      <th>Время предсказания</th>\n",
       "      <td>0.309204</td>\n",
       "      <td>0.607560</td>\n",
       "      <td>0.502648</td>\n",
       "    </tr>\n",
       "  </tbody>\n",
       "</table>\n",
       "</div>"
      ],
      "text/plain": [
       "                       CatBoost     LightGBM  Дерево решений\n",
       "RMSE                1604.740691  1590.171252     1977.492966\n",
       "Время обучения        50.598430     1.933283        6.490482\n",
       "Время предсказания     0.309204     0.607560        0.502648"
      ]
     },
     "execution_count": 69,
     "metadata": {},
     "output_type": "execute_result"
    }
   ],
   "source": [
    "df_current_results"
   ]
  },
  {
   "cell_type": "markdown",
   "metadata": {},
   "source": [
    "**Итог:** \\\n",
    "Лучший результат *RMSE* у модели **\"LightGBM\"** с результатами *RMSE*: 1590.17. Время обучения 1.93 сек. Время предсказания 0.6 сек. \n",
    "\n",
    "На втором месте модель **\"CatBoost\"**  *RMSE* хуже 1604.74. Время обучения 50.59 Время предсказания 0.30 сек.\n",
    "\n",
    "**Дерево решений** получилось *RMSE* 1977.49. Время обучения 6.49 сек, а Время предсказания 0.5\n",
    "\n",
    "Для тестовой выборки будем использовать модель **LightGBM**."
   ]
  },
  {
   "cell_type": "markdown",
   "metadata": {},
   "source": [
    "## Анализ моделей"
   ]
  },
  {
   "cell_type": "markdown",
   "metadata": {},
   "source": [
    "**Найдем важность признаков**"
   ]
  },
  {
   "cell_type": "code",
   "execution_count": 58,
   "metadata": {},
   "outputs": [],
   "source": [
    "importances = model_light.best_estimator_.feature_importances_"
   ]
  },
  {
   "cell_type": "code",
   "execution_count": 59,
   "metadata": {
    "scrolled": false
   },
   "outputs": [
    {
     "data": {
      "image/png": "[encoded data removed]",
      "text/plain": [
       "<Figure size 864x432 with 1 Axes>"
      ]
     },
     "metadata": {},
     "output_type": "display_data"
    }
   ],
   "source": [
    "pd.Series(importances, index = features_train.columns).sort_values().plot.barh(legend=False, fontsize=14, figsize=(12, 6));"
   ]
  },
  {
   "cell_type": "markdown",
   "metadata": {},
   "source": [
    "Проверим нашу модель на тестовой выборке."
   ]
  },
  {
   "cell_type": "code",
   "execution_count": 60,
   "metadata": {},
   "outputs": [
    {
     "name": "stdout",
     "output_type": "stream",
     "text": [
      "CPU times: user 661 ms, sys: 0 ns, total: 661 ms\n",
      "Wall time: 656 ms\n"
     ]
    },
    {
     "data": {
      "text/plain": [
       "1585.0382461703427"
      ]
     },
     "execution_count": 60,
     "metadata": {},
     "output_type": "execute_result"
    }
   ],
   "source": [
    "%%time\n",
    "\n",
    "predict_light = model_light.best_estimator_.predict(features_test.astype({it:'category' for it in category_features}))\n",
    "mse = mean_squared_error(target_test, predict_light)\n",
    "rmse = np.sqrt(mse)\n",
    "rmse"
   ]
  },
  {
   "cell_type": "code",
   "execution_count": 61,
   "metadata": {},
   "outputs": [],
   "source": [
    "from sklearn.dummy import DummyRegressor"
   ]
  },
  {
   "cell_type": "code",
   "execution_count": 62,
   "metadata": {},
   "outputs": [
    {
     "data": {
      "text/plain": [
       "Pipeline(steps=[('prep',\n",
       "                 ColumnTransformer(remainder='passthrough',\n",
       "                                   transformers=[('onehotencoder',\n",
       "                                                  OneHotEncoder(handle_unknown='ignore',\n",
       "                                                                sparse=False),\n",
       "                                                  ['VehicleType', 'Gearbox',\n",
       "                                                   'Model', 'FuelType', 'Brand',\n",
       "                                                   'Repaired']),\n",
       "                                                 ('standardscaler',\n",
       "                                                  StandardScaler(),\n",
       "                                                  ['RegistrationYear', 'Power',\n",
       "                                                   'Kilometer',\n",
       "                                                   'RegistrationMonth'])])),\n",
       "                ('dtr', DummyRegressor())])"
      ]
     },
     "execution_count": 62,
     "metadata": {},
     "output_type": "execute_result"
    }
   ],
   "source": [
    "baseline_model = Pipeline(steps=[('prep', ct), ('dtr', DummyRegressor())])\n",
    "\n",
    "baseline_model.fit(features_train, target_train)"
   ]
  },
  {
   "cell_type": "code",
   "execution_count": 63,
   "metadata": {},
   "outputs": [
    {
     "name": "stdout",
     "output_type": "stream",
     "text": [
      "RMSE: 4583.183571257432\n"
     ]
    }
   ],
   "source": [
    "predicted_test = baseline_model.predict(features_test)\n",
    "mse = mean_squared_error(target_test, predicted_test)\n",
    "print(\"RMSE:\", np.sqrt(mse))"
   ]
  },
  {
   "cell_type": "markdown",
   "metadata": {},
   "source": [
    "Наша модель показывает хороший результат т.к на константной RMSE выше."
   ]
  },
  {
   "cell_type": "markdown",
   "metadata": {},
   "source": [
    "**Вывод:** Задачей нашего проекта было для сервиса по продаже автомобилей с пробегом «Не бит, не крашен» разрабатывает приложение, чтобы привлечь новых клиентов. В нём можно будет узнать рыночную стоимость своего автомобиля. \n",
    "Необходимо было постройте модель, которая умеет её определять. В нашем распоряжениие данные о технических характеристиках, комплектации и ценах других автомобилей.\n",
    "\n",
    "**Критерии, которые важны заказчику:**\n",
    "Качество предсказания;\n",
    "Время обучения модели;\n",
    "Время предсказания модели.\n",
    "\n",
    "Мы сделали [переработку данных.](#id1) и обучили 3 модели.\n",
    "\n",
    "1-я модель **CatBoost** получили следующие результаты: RMSE: 1604.74, время обучения 50.59 сек. Время предсказания 0.3 сек\n",
    "\n",
    "2-я модель **LightGBM** получили следующие результаты: RMSE: 1590.17, время обучения 1.93 сек. Время предсказания 0.6 сек\n",
    "\n",
    "3-я модель **Дерево решений** получили следующие результаты: RMSE: 1977.49, время обучения 6.49 сек. Время предсказания 0.5 сек\n",
    "\n",
    "Для дальнейшего анализа мы выбрали модель **LightGBM** и определили важность признаков.\n",
    "1. Самый важный признак `RegistrationYear` — год регистрации автомобиля\n",
    "2. На втором месте `Model` — модель автомобиля\n",
    "3. На третьем месте `Power` — мощность (л. с.)\n",
    "4. На четвертом месте, который тоже можно выделить `Kilometer` — пробег (км).\n",
    "\n",
    "На тестовой выборке мы также получили хороший результат RMSE: 1551.74."
   ]
  },
  {
   "cell_type": "markdown",
   "metadata": {},
   "source": [
    "## Чек-лист проверки"
   ]
  },
  {
   "cell_type": "markdown",
   "metadata": {},
   "source": [
    "Поставьте 'x' в выполненных пунктах. Далее нажмите Shift+Enter."
   ]
  },
  {
   "cell_type": "markdown",
   "metadata": {},
   "source": [
    "- [x]  Jupyter Notebook открыт\n",
    "- [ ]  Весь код выполняется без ошибок\n",
    "- [ ]  Ячейки с кодом расположены в порядке исполнения\n",
    "- [ ]  Выполнена загрузка и подготовка данных\n",
    "- [ ]  Выполнено обучение моделей\n",
    "- [ ]  Есть анализ скорости работы и качества моделей"
   ]
  },
  {
   "cell_type": "code",
   "execution_count": null,
   "metadata": {},
   "outputs": [],
   "source": []
  }
 ],
 "metadata": {
  "ExecuteTimeLog": [
   {
    "duration": 431,
    "start_time": "2023-04-17T11:33:12.684Z"
   },
   {
    "duration": 7,
    "start_time": "2023-04-17T11:33:17.550Z"
   },
   {
    "duration": 3,
    "start_time": "2023-04-17T11:33:42.223Z"
   },
   {
    "duration": 885,
    "start_time": "2023-04-17T11:35:45.731Z"
   },
   {
    "duration": 3195,
    "start_time": "2023-04-17T11:40:54.287Z"
   },
   {
    "duration": 750,
    "start_time": "2023-04-17T11:41:09.622Z"
   },
   {
    "duration": 819,
    "start_time": "2023-04-17T11:42:33.885Z"
   },
   {
    "duration": 4,
    "start_time": "2023-04-17T11:45:00.570Z"
   },
   {
    "duration": 18,
    "start_time": "2023-04-17T11:45:09.357Z"
   },
   {
    "duration": 159,
    "start_time": "2023-04-17T12:08:53.309Z"
   },
   {
    "duration": 171,
    "start_time": "2023-04-17T12:09:33.126Z"
   },
   {
    "duration": 862,
    "start_time": "2023-04-17T12:29:07.371Z"
   },
   {
    "duration": 1010,
    "start_time": "2023-04-17T12:29:37.693Z"
   },
   {
    "duration": 732,
    "start_time": "2023-04-17T12:29:38.705Z"
   },
   {
    "duration": 182,
    "start_time": "2023-04-17T12:29:39.442Z"
   },
   {
    "duration": 36,
    "start_time": "2023-04-17T12:29:39.625Z"
   },
   {
    "duration": 18,
    "start_time": "2023-04-17T12:31:56.496Z"
   },
   {
    "duration": 153,
    "start_time": "2023-04-17T12:35:02.436Z"
   },
   {
    "duration": 17,
    "start_time": "2023-04-17T12:36:05.125Z"
   },
   {
    "duration": 21,
    "start_time": "2023-04-17T12:36:17.737Z"
   },
   {
    "duration": 98,
    "start_time": "2023-04-17T12:37:56.770Z"
   },
   {
    "duration": 416,
    "start_time": "2023-04-17T12:38:03.009Z"
   },
   {
    "duration": 3,
    "start_time": "2023-04-17T13:00:33.710Z"
   },
   {
    "duration": 7,
    "start_time": "2023-04-17T13:13:06.371Z"
   },
   {
    "duration": 55,
    "start_time": "2023-04-17T13:13:55.403Z"
   },
   {
    "duration": 5,
    "start_time": "2023-04-17T13:13:59.281Z"
   },
   {
    "duration": 5,
    "start_time": "2023-04-17T13:14:14.870Z"
   },
   {
    "duration": 1045,
    "start_time": "2023-04-17T13:14:25.557Z"
   },
   {
    "duration": 750,
    "start_time": "2023-04-17T13:14:26.603Z"
   },
   {
    "duration": 199,
    "start_time": "2023-04-17T13:14:27.354Z"
   },
   {
    "duration": 22,
    "start_time": "2023-04-17T13:14:27.555Z"
   },
   {
    "duration": 17,
    "start_time": "2023-04-17T13:14:27.579Z"
   },
   {
    "duration": 31,
    "start_time": "2023-04-17T13:14:27.597Z"
   },
   {
    "duration": 6,
    "start_time": "2023-04-17T13:14:32.311Z"
   },
   {
    "duration": 234,
    "start_time": "2023-04-17T13:17:07.055Z"
   },
   {
    "duration": 31,
    "start_time": "2023-04-17T13:17:10.915Z"
   },
   {
    "duration": 31,
    "start_time": "2023-04-17T13:20:53.812Z"
   },
   {
    "duration": 6,
    "start_time": "2023-04-17T13:20:55.847Z"
   },
   {
    "duration": 1036,
    "start_time": "2023-04-17T13:21:04.469Z"
   },
   {
    "duration": 725,
    "start_time": "2023-04-17T13:21:05.507Z"
   },
   {
    "duration": 189,
    "start_time": "2023-04-17T13:21:06.235Z"
   },
   {
    "duration": 26,
    "start_time": "2023-04-17T13:21:06.425Z"
   },
   {
    "duration": 17,
    "start_time": "2023-04-17T13:21:06.453Z"
   },
   {
    "duration": 21,
    "start_time": "2023-04-17T13:21:06.471Z"
   },
   {
    "duration": 18,
    "start_time": "2023-04-17T13:21:10.375Z"
   },
   {
    "duration": 5,
    "start_time": "2023-04-17T13:21:11.038Z"
   },
   {
    "duration": 10,
    "start_time": "2023-04-17T13:21:17.980Z"
   },
   {
    "duration": 9,
    "start_time": "2023-04-17T13:21:45.615Z"
   },
   {
    "duration": 1066,
    "start_time": "2023-04-17T13:21:54.036Z"
   },
   {
    "duration": 701,
    "start_time": "2023-04-17T13:21:55.104Z"
   },
   {
    "duration": 198,
    "start_time": "2023-04-17T13:21:55.806Z"
   },
   {
    "duration": 21,
    "start_time": "2023-04-17T13:21:56.006Z"
   },
   {
    "duration": 18,
    "start_time": "2023-04-17T13:21:56.036Z"
   },
   {
    "duration": 29,
    "start_time": "2023-04-17T13:21:56.056Z"
   },
   {
    "duration": 51,
    "start_time": "2023-04-17T13:21:56.086Z"
   },
   {
    "duration": 5,
    "start_time": "2023-04-17T13:21:57.375Z"
   },
   {
    "duration": 6,
    "start_time": "2023-04-17T13:21:59.028Z"
   },
   {
    "duration": 11,
    "start_time": "2023-04-17T13:21:59.781Z"
   },
   {
    "duration": 2,
    "start_time": "2023-04-17T13:27:30.952Z"
   },
   {
    "duration": 2,
    "start_time": "2023-04-17T13:35:17.374Z"
   },
   {
    "duration": 899,
    "start_time": "2023-04-17T13:35:43.082Z"
   },
   {
    "duration": 875,
    "start_time": "2023-04-17T13:39:46.022Z"
   },
   {
    "duration": 1326,
    "start_time": "2023-04-17T13:40:12.926Z"
   },
   {
    "duration": 241,
    "start_time": "2023-04-17T13:41:04.759Z"
   },
   {
    "duration": 197,
    "start_time": "2023-04-17T13:41:17.531Z"
   },
   {
    "duration": 3,
    "start_time": "2023-04-17T13:47:41.899Z"
   },
   {
    "duration": 97,
    "start_time": "2023-04-17T13:47:57.497Z"
   },
   {
    "duration": 3,
    "start_time": "2023-04-17T13:50:17.805Z"
   },
   {
    "duration": 253,
    "start_time": "2023-04-17T13:50:19.063Z"
   },
   {
    "duration": 58,
    "start_time": "2023-04-17T13:54:08.366Z"
   },
   {
    "duration": 3,
    "start_time": "2023-04-17T13:54:30.994Z"
   },
   {
    "duration": 183,
    "start_time": "2023-04-17T13:54:32.355Z"
   },
   {
    "duration": 3,
    "start_time": "2023-04-17T13:55:15.448Z"
   },
   {
    "duration": 113,
    "start_time": "2023-04-17T13:55:16.972Z"
   },
   {
    "duration": 3,
    "start_time": "2023-04-17T13:55:32.499Z"
   },
   {
    "duration": 142,
    "start_time": "2023-04-17T13:55:34.075Z"
   },
   {
    "duration": 8,
    "start_time": "2023-04-17T13:55:43.036Z"
   },
   {
    "duration": 321,
    "start_time": "2023-04-17T13:55:44.459Z"
   },
   {
    "duration": 462,
    "start_time": "2023-04-17T13:56:00.400Z"
   },
   {
    "duration": 3,
    "start_time": "2023-04-17T13:56:32.326Z"
   },
   {
    "duration": 3,
    "start_time": "2023-04-17T13:56:37.611Z"
   },
   {
    "duration": 236,
    "start_time": "2023-04-17T13:56:37.912Z"
   },
   {
    "duration": 4,
    "start_time": "2023-04-17T13:57:08.911Z"
   },
   {
    "duration": 184,
    "start_time": "2023-04-17T13:57:10.371Z"
   },
   {
    "duration": 15,
    "start_time": "2023-04-17T13:57:23.208Z"
   },
   {
    "duration": 3,
    "start_time": "2023-04-17T13:57:45.327Z"
   },
   {
    "duration": 13,
    "start_time": "2023-04-17T13:57:46.360Z"
   },
   {
    "duration": 3,
    "start_time": "2023-04-17T13:58:04.033Z"
   },
   {
    "duration": 159,
    "start_time": "2023-04-17T13:58:05.373Z"
   },
   {
    "duration": 5,
    "start_time": "2023-04-17T13:59:04.664Z"
   },
   {
    "duration": 280,
    "start_time": "2023-04-17T13:59:05.971Z"
   },
   {
    "duration": 3,
    "start_time": "2023-04-17T14:00:06.771Z"
   },
   {
    "duration": 274,
    "start_time": "2023-04-17T14:00:06.975Z"
   },
   {
    "duration": 4,
    "start_time": "2023-04-17T14:02:06.408Z"
   },
   {
    "duration": 451,
    "start_time": "2023-04-17T14:02:08.543Z"
   },
   {
    "duration": 4,
    "start_time": "2023-04-17T14:02:15.101Z"
   },
   {
    "duration": 276,
    "start_time": "2023-04-17T14:02:16.251Z"
   },
   {
    "duration": 4,
    "start_time": "2023-04-17T14:02:20.471Z"
   },
   {
    "duration": 269,
    "start_time": "2023-04-17T14:02:22.876Z"
   },
   {
    "duration": 4,
    "start_time": "2023-04-17T14:02:42.355Z"
   },
   {
    "duration": 294,
    "start_time": "2023-04-17T14:02:43.829Z"
   },
   {
    "duration": 3,
    "start_time": "2023-04-17T14:02:59.499Z"
   },
   {
    "duration": 4,
    "start_time": "2023-04-17T14:03:02.485Z"
   },
   {
    "duration": 301,
    "start_time": "2023-04-17T14:03:02.727Z"
   },
   {
    "duration": 4,
    "start_time": "2023-04-17T14:03:11.272Z"
   },
   {
    "duration": 264,
    "start_time": "2023-04-17T14:03:13.067Z"
   },
   {
    "duration": 4,
    "start_time": "2023-04-17T14:03:21.073Z"
   },
   {
    "duration": 285,
    "start_time": "2023-04-17T14:03:21.238Z"
   },
   {
    "duration": 3,
    "start_time": "2023-04-17T14:03:30.302Z"
   },
   {
    "duration": 262,
    "start_time": "2023-04-17T14:03:31.886Z"
   },
   {
    "duration": 3,
    "start_time": "2023-04-17T14:03:39.181Z"
   },
   {
    "duration": 337,
    "start_time": "2023-04-17T14:03:40.568Z"
   },
   {
    "duration": 7,
    "start_time": "2023-04-17T14:03:51.042Z"
   },
   {
    "duration": 282,
    "start_time": "2023-04-17T14:03:51.225Z"
   },
   {
    "duration": 269,
    "start_time": "2023-04-17T14:04:56.336Z"
   },
   {
    "duration": 301,
    "start_time": "2023-04-17T14:07:07.703Z"
   },
   {
    "duration": 329,
    "start_time": "2023-04-17T14:07:23.282Z"
   },
   {
    "duration": 282,
    "start_time": "2023-04-17T14:07:33.865Z"
   },
   {
    "duration": 341,
    "start_time": "2023-04-17T14:07:42.154Z"
   },
   {
    "duration": 265,
    "start_time": "2023-04-17T14:10:55.307Z"
   },
   {
    "duration": 10,
    "start_time": "2023-04-17T14:11:32.268Z"
   },
   {
    "duration": 3,
    "start_time": "2023-04-17T14:11:35.800Z"
   },
   {
    "duration": 370,
    "start_time": "2023-04-17T14:11:39.071Z"
   },
   {
    "duration": 1684,
    "start_time": "2023-04-17T14:11:48.184Z"
   },
   {
    "duration": 477,
    "start_time": "2023-04-17T14:11:55.020Z"
   },
   {
    "duration": 288,
    "start_time": "2023-04-17T14:22:13.882Z"
   },
   {
    "duration": 5,
    "start_time": "2023-04-17T14:23:10.419Z"
   },
   {
    "duration": 302,
    "start_time": "2023-04-17T14:23:17.650Z"
   },
   {
    "duration": 235,
    "start_time": "2023-04-17T14:23:32.691Z"
   },
   {
    "duration": 4,
    "start_time": "2023-04-17T14:23:48.991Z"
   },
   {
    "duration": 277,
    "start_time": "2023-04-17T14:23:50.594Z"
   },
   {
    "duration": 311,
    "start_time": "2023-04-17T14:23:54.579Z"
   },
   {
    "duration": 9,
    "start_time": "2023-04-17T14:24:49.689Z"
   },
   {
    "duration": 3,
    "start_time": "2023-04-17T14:24:58.683Z"
   },
   {
    "duration": 398,
    "start_time": "2023-04-17T14:24:58.922Z"
   },
   {
    "duration": 11,
    "start_time": "2023-04-17T14:25:10.680Z"
   },
   {
    "duration": 429,
    "start_time": "2023-04-17T14:25:16.029Z"
   },
   {
    "duration": 446,
    "start_time": "2023-04-17T14:25:28.334Z"
   },
   {
    "duration": 544,
    "start_time": "2023-04-17T14:25:41.273Z"
   },
   {
    "duration": 284,
    "start_time": "2023-04-17T14:25:46.230Z"
   },
   {
    "duration": 827,
    "start_time": "2023-04-17T14:25:49.703Z"
   },
   {
    "duration": 1457,
    "start_time": "2023-04-17T14:26:10.880Z"
   },
   {
    "duration": 1693,
    "start_time": "2023-04-17T14:26:31.688Z"
   },
   {
    "duration": 293,
    "start_time": "2023-04-17T14:26:38.277Z"
   },
   {
    "duration": 369,
    "start_time": "2023-04-17T14:26:48.279Z"
   },
   {
    "duration": 3,
    "start_time": "2023-04-17T14:28:09.356Z"
   },
   {
    "duration": 522,
    "start_time": "2023-04-17T14:28:09.575Z"
   },
   {
    "duration": 373,
    "start_time": "2023-04-17T14:29:28.520Z"
   },
   {
    "duration": 422,
    "start_time": "2023-04-17T14:30:08.505Z"
   },
   {
    "duration": 9,
    "start_time": "2023-04-17T14:30:21.634Z"
   },
   {
    "duration": 375,
    "start_time": "2023-04-17T14:30:22.115Z"
   },
   {
    "duration": 1317,
    "start_time": "2023-04-17T14:30:23.378Z"
   },
   {
    "duration": 957,
    "start_time": "2023-04-17T14:30:47.391Z"
   },
   {
    "duration": 3,
    "start_time": "2023-04-17T14:31:45.394Z"
   },
   {
    "duration": 352,
    "start_time": "2023-04-17T14:31:47.172Z"
   },
   {
    "duration": 3,
    "start_time": "2023-04-17T14:32:13.397Z"
   },
   {
    "duration": 489,
    "start_time": "2023-04-17T14:32:14.087Z"
   },
   {
    "duration": 980,
    "start_time": "2023-04-17T14:32:19.033Z"
   },
   {
    "duration": 443,
    "start_time": "2023-04-17T14:33:21.628Z"
   },
   {
    "duration": 300,
    "start_time": "2023-04-17T14:33:26.181Z"
   },
   {
    "duration": 334,
    "start_time": "2023-04-17T14:33:28.319Z"
   },
   {
    "duration": 1321,
    "start_time": "2023-04-17T14:33:33.388Z"
   },
   {
    "duration": 1578,
    "start_time": "2023-04-17T14:33:37.528Z"
   },
   {
    "duration": 1423,
    "start_time": "2023-04-17T14:33:43.398Z"
   },
   {
    "duration": 391,
    "start_time": "2023-04-17T14:33:53.707Z"
   },
   {
    "duration": 343,
    "start_time": "2023-04-17T14:34:08.499Z"
   },
   {
    "duration": 487,
    "start_time": "2023-04-17T14:34:16.284Z"
   },
   {
    "duration": 264,
    "start_time": "2023-04-17T14:34:21.598Z"
   },
   {
    "duration": 238,
    "start_time": "2023-04-17T14:34:33.424Z"
   },
   {
    "duration": 297,
    "start_time": "2023-04-17T14:34:42.079Z"
   },
   {
    "duration": 285,
    "start_time": "2023-04-17T14:34:47.102Z"
   },
   {
    "duration": 302,
    "start_time": "2023-04-17T14:35:11.674Z"
   },
   {
    "duration": 396,
    "start_time": "2023-04-17T14:35:18.126Z"
   },
   {
    "duration": 292,
    "start_time": "2023-04-17T14:35:31.231Z"
   },
   {
    "duration": 374,
    "start_time": "2023-04-17T14:35:39.226Z"
   },
   {
    "duration": 295,
    "start_time": "2023-04-17T14:35:42.485Z"
   },
   {
    "duration": 281,
    "start_time": "2023-04-17T14:35:45.684Z"
   },
   {
    "duration": 8,
    "start_time": "2023-04-17T14:43:18.067Z"
   },
   {
    "duration": 32,
    "start_time": "2023-04-17T14:43:29.115Z"
   },
   {
    "duration": 16,
    "start_time": "2023-04-17T14:43:40.964Z"
   },
   {
    "duration": 12,
    "start_time": "2023-04-17T14:43:51.863Z"
   },
   {
    "duration": 1050,
    "start_time": "2023-04-17T14:44:03.053Z"
   },
   {
    "duration": 2,
    "start_time": "2023-04-17T14:44:04.105Z"
   },
   {
    "duration": 747,
    "start_time": "2023-04-17T14:44:04.108Z"
   },
   {
    "duration": 214,
    "start_time": "2023-04-17T14:44:04.856Z"
   },
   {
    "duration": 30,
    "start_time": "2023-04-17T14:44:05.072Z"
   },
   {
    "duration": 47,
    "start_time": "2023-04-17T14:44:05.104Z"
   },
   {
    "duration": 18,
    "start_time": "2023-04-17T14:44:05.153Z"
   },
   {
    "duration": 24,
    "start_time": "2023-04-17T14:44:05.172Z"
   },
   {
    "duration": 16,
    "start_time": "2023-04-17T14:44:05.198Z"
   },
   {
    "duration": 17,
    "start_time": "2023-04-17T14:44:05.215Z"
   },
   {
    "duration": 118,
    "start_time": "2023-04-17T14:44:05.233Z"
   },
   {
    "duration": 168,
    "start_time": "2023-04-17T14:44:05.352Z"
   },
   {
    "duration": 379,
    "start_time": "2023-04-17T14:44:05.522Z"
   },
   {
    "duration": 4,
    "start_time": "2023-04-17T14:44:05.904Z"
   },
   {
    "duration": 394,
    "start_time": "2023-04-17T14:44:05.909Z"
   },
   {
    "duration": 924,
    "start_time": "2023-04-17T14:44:06.305Z"
   },
   {
    "duration": 312,
    "start_time": "2023-04-17T14:44:07.237Z"
   },
   {
    "duration": 3,
    "start_time": "2023-04-17T14:44:07.551Z"
   },
   {
    "duration": 3,
    "start_time": "2023-04-17T14:50:44.451Z"
   },
   {
    "duration": 345,
    "start_time": "2023-04-17T14:50:45.394Z"
   },
   {
    "duration": 891,
    "start_time": "2023-04-17T14:50:54.094Z"
   },
   {
    "duration": 3,
    "start_time": "2023-04-17T14:52:40.726Z"
   },
   {
    "duration": 353,
    "start_time": "2023-04-17T14:52:41.499Z"
   },
   {
    "duration": 8,
    "start_time": "2023-04-17T14:52:53.944Z"
   },
   {
    "duration": 478,
    "start_time": "2023-04-17T14:52:55.891Z"
   },
   {
    "duration": 904,
    "start_time": "2023-04-17T14:53:10.952Z"
   },
   {
    "duration": 320,
    "start_time": "2023-04-17T14:53:14.397Z"
   },
   {
    "duration": 419,
    "start_time": "2023-04-17T14:53:57.538Z"
   },
   {
    "duration": 299,
    "start_time": "2023-04-17T14:54:02.595Z"
   },
   {
    "duration": 1448,
    "start_time": "2023-04-17T14:54:16.280Z"
   },
   {
    "duration": 267,
    "start_time": "2023-04-17T14:54:23.893Z"
   },
   {
    "duration": 506,
    "start_time": "2023-04-17T14:54:30.449Z"
   },
   {
    "duration": 63,
    "start_time": "2023-04-17T15:03:17.400Z"
   },
   {
    "duration": 307,
    "start_time": "2023-04-17T15:03:18.037Z"
   },
   {
    "duration": 3,
    "start_time": "2023-04-17T15:05:27.516Z"
   },
   {
    "duration": 327,
    "start_time": "2023-04-17T15:05:28.119Z"
   },
   {
    "duration": 900,
    "start_time": "2023-04-17T15:05:31.224Z"
   },
   {
    "duration": 296,
    "start_time": "2023-04-17T15:05:32.383Z"
   },
   {
    "duration": 100,
    "start_time": "2023-04-17T15:10:20.985Z"
   },
   {
    "duration": 8,
    "start_time": "2023-04-17T15:10:27.388Z"
   },
   {
    "duration": 31,
    "start_time": "2023-04-17T15:12:27.996Z"
   },
   {
    "duration": 27,
    "start_time": "2023-04-17T15:13:23.291Z"
   },
   {
    "duration": 28,
    "start_time": "2023-04-17T15:13:41.277Z"
   },
   {
    "duration": 20,
    "start_time": "2023-04-17T15:13:53.657Z"
   },
   {
    "duration": 21,
    "start_time": "2023-04-17T15:18:12.034Z"
   },
   {
    "duration": 22,
    "start_time": "2023-04-17T15:18:20.012Z"
   },
   {
    "duration": 10,
    "start_time": "2023-04-17T15:18:35.189Z"
   },
   {
    "duration": 6,
    "start_time": "2023-04-17T15:18:46.802Z"
   },
   {
    "duration": 3,
    "start_time": "2023-04-17T15:20:58.312Z"
   },
   {
    "duration": 4,
    "start_time": "2023-04-17T15:21:02.735Z"
   },
   {
    "duration": 6,
    "start_time": "2023-04-17T15:21:29.296Z"
   },
   {
    "duration": 5,
    "start_time": "2023-04-17T15:21:35.259Z"
   },
   {
    "duration": 173,
    "start_time": "2023-04-17T15:25:13.348Z"
   },
   {
    "duration": 104,
    "start_time": "2023-04-17T15:25:37.433Z"
   },
   {
    "duration": 1180,
    "start_time": "2023-04-17T15:25:59.237Z"
   },
   {
    "duration": 3,
    "start_time": "2023-04-17T15:26:00.419Z"
   },
   {
    "duration": 874,
    "start_time": "2023-04-17T15:26:00.423Z"
   },
   {
    "duration": 208,
    "start_time": "2023-04-17T15:26:01.299Z"
   },
   {
    "duration": 3,
    "start_time": "2023-04-17T15:26:01.508Z"
   },
   {
    "duration": 73,
    "start_time": "2023-04-17T15:26:01.513Z"
   },
   {
    "duration": 46,
    "start_time": "2023-04-17T15:26:01.587Z"
   },
   {
    "duration": 38,
    "start_time": "2023-04-17T15:26:01.634Z"
   },
   {
    "duration": 38,
    "start_time": "2023-04-17T15:26:01.673Z"
   },
   {
    "duration": 35,
    "start_time": "2023-04-17T15:26:01.713Z"
   },
   {
    "duration": 76,
    "start_time": "2023-04-17T15:26:01.750Z"
   },
   {
    "duration": 141,
    "start_time": "2023-04-17T15:26:01.828Z"
   },
   {
    "duration": 189,
    "start_time": "2023-04-17T15:26:01.971Z"
   },
   {
    "duration": 402,
    "start_time": "2023-04-17T15:26:02.161Z"
   },
   {
    "duration": 4,
    "start_time": "2023-04-17T15:26:02.565Z"
   },
   {
    "duration": 396,
    "start_time": "2023-04-17T15:26:02.571Z"
   },
   {
    "duration": 971,
    "start_time": "2023-04-17T15:26:02.968Z"
   },
   {
    "duration": 6,
    "start_time": "2023-04-17T15:26:07.994Z"
   },
   {
    "duration": 6,
    "start_time": "2023-04-17T15:26:34.596Z"
   },
   {
    "duration": 45,
    "start_time": "2023-04-17T15:30:38.591Z"
   },
   {
    "duration": 5,
    "start_time": "2023-04-17T15:30:43.292Z"
   },
   {
    "duration": 68,
    "start_time": "2023-04-17T15:31:02.609Z"
   },
   {
    "duration": 4,
    "start_time": "2023-04-17T15:31:08.906Z"
   },
   {
    "duration": 3,
    "start_time": "2023-04-17T15:31:58.620Z"
   },
   {
    "duration": 118,
    "start_time": "2023-04-17T15:32:17.122Z"
   },
   {
    "duration": 5,
    "start_time": "2023-04-17T15:32:25.228Z"
   },
   {
    "duration": 4,
    "start_time": "2023-04-17T15:34:01.604Z"
   },
   {
    "duration": 10,
    "start_time": "2023-04-17T15:34:25.433Z"
   },
   {
    "duration": 12,
    "start_time": "2023-04-17T15:34:33.857Z"
   },
   {
    "duration": 5,
    "start_time": "2023-04-17T15:36:04.290Z"
   },
   {
    "duration": 5,
    "start_time": "2023-04-17T15:51:57.440Z"
   },
   {
    "duration": 130,
    "start_time": "2023-04-17T15:53:59.658Z"
   },
   {
    "duration": 1053,
    "start_time": "2023-04-17T15:54:47.344Z"
   },
   {
    "duration": 3,
    "start_time": "2023-04-17T15:54:48.399Z"
   },
   {
    "duration": 704,
    "start_time": "2023-04-17T15:54:48.403Z"
   },
   {
    "duration": 184,
    "start_time": "2023-04-17T15:54:49.109Z"
   },
   {
    "duration": 3,
    "start_time": "2023-04-17T15:54:49.294Z"
   },
   {
    "duration": 43,
    "start_time": "2023-04-17T15:54:49.299Z"
   },
   {
    "duration": 32,
    "start_time": "2023-04-17T15:54:49.344Z"
   },
   {
    "duration": 30,
    "start_time": "2023-04-17T15:54:49.377Z"
   },
   {
    "duration": 30,
    "start_time": "2023-04-17T15:54:49.408Z"
   },
   {
    "duration": 25,
    "start_time": "2023-04-17T15:54:49.440Z"
   },
   {
    "duration": 17,
    "start_time": "2023-04-17T15:54:49.466Z"
   },
   {
    "duration": 166,
    "start_time": "2023-04-17T15:54:51.204Z"
   },
   {
    "duration": 1071,
    "start_time": "2023-04-17T15:55:57.530Z"
   },
   {
    "duration": 2,
    "start_time": "2023-04-17T15:55:58.603Z"
   },
   {
    "duration": 739,
    "start_time": "2023-04-17T15:55:58.606Z"
   },
   {
    "duration": 178,
    "start_time": "2023-04-17T15:55:59.347Z"
   },
   {
    "duration": 11,
    "start_time": "2023-04-17T15:55:59.526Z"
   },
   {
    "duration": 402,
    "start_time": "2023-04-17T15:56:01.334Z"
   },
   {
    "duration": 363,
    "start_time": "2023-04-17T15:56:07.011Z"
   },
   {
    "duration": 369,
    "start_time": "2023-04-17T15:56:21.819Z"
   },
   {
    "duration": 414,
    "start_time": "2023-04-17T15:56:29.487Z"
   },
   {
    "duration": 403,
    "start_time": "2023-04-17T15:56:38.602Z"
   },
   {
    "duration": 10,
    "start_time": "2023-04-17T15:56:42.387Z"
   },
   {
    "duration": 362,
    "start_time": "2023-04-17T15:56:43.322Z"
   },
   {
    "duration": 23,
    "start_time": "2023-04-17T15:56:48.797Z"
   },
   {
    "duration": 20,
    "start_time": "2023-04-17T15:56:49.900Z"
   },
   {
    "duration": 17,
    "start_time": "2023-04-17T15:56:50.311Z"
   },
   {
    "duration": 17,
    "start_time": "2023-04-17T15:56:50.799Z"
   },
   {
    "duration": 5,
    "start_time": "2023-04-17T15:56:51.138Z"
   },
   {
    "duration": 8,
    "start_time": "2023-04-17T15:56:52.299Z"
   },
   {
    "duration": 160,
    "start_time": "2023-04-17T15:56:54.607Z"
   },
   {
    "duration": 153,
    "start_time": "2023-04-17T15:56:59.301Z"
   },
   {
    "duration": 154,
    "start_time": "2023-04-17T15:57:01.487Z"
   },
   {
    "duration": 183,
    "start_time": "2023-04-17T15:57:19.715Z"
   },
   {
    "duration": 155,
    "start_time": "2023-04-17T15:57:25.161Z"
   },
   {
    "duration": 992,
    "start_time": "2023-04-17T15:57:46.808Z"
   },
   {
    "duration": 2,
    "start_time": "2023-04-17T15:57:47.802Z"
   },
   {
    "duration": 686,
    "start_time": "2023-04-17T15:57:47.806Z"
   },
   {
    "duration": 176,
    "start_time": "2023-04-17T15:57:48.494Z"
   },
   {
    "duration": 3,
    "start_time": "2023-04-17T15:57:48.672Z"
   },
   {
    "duration": 28,
    "start_time": "2023-04-17T15:57:48.677Z"
   },
   {
    "duration": 38,
    "start_time": "2023-04-17T15:57:48.706Z"
   },
   {
    "duration": 20,
    "start_time": "2023-04-17T15:57:48.745Z"
   },
   {
    "duration": 30,
    "start_time": "2023-04-17T15:57:48.766Z"
   },
   {
    "duration": 6,
    "start_time": "2023-04-17T15:57:48.798Z"
   },
   {
    "duration": 170,
    "start_time": "2023-04-17T15:57:48.805Z"
   },
   {
    "duration": 156,
    "start_time": "2023-04-17T15:57:53.108Z"
   },
   {
    "duration": 7,
    "start_time": "2023-04-17T15:58:22.952Z"
   },
   {
    "duration": 5,
    "start_time": "2023-04-17T15:58:23.895Z"
   },
   {
    "duration": 157,
    "start_time": "2023-04-17T15:58:25.616Z"
   },
   {
    "duration": 159,
    "start_time": "2023-04-17T15:58:26.704Z"
   },
   {
    "duration": 164,
    "start_time": "2023-04-17T15:58:26.940Z"
   },
   {
    "duration": 157,
    "start_time": "2023-04-17T15:58:27.810Z"
   },
   {
    "duration": 157,
    "start_time": "2023-04-17T15:58:28.329Z"
   },
   {
    "duration": 154,
    "start_time": "2023-04-17T15:58:28.544Z"
   },
   {
    "duration": 156,
    "start_time": "2023-04-17T15:58:28.750Z"
   },
   {
    "duration": 158,
    "start_time": "2023-04-17T15:58:28.999Z"
   },
   {
    "duration": 1042,
    "start_time": "2023-04-17T15:58:42.809Z"
   },
   {
    "duration": 3,
    "start_time": "2023-04-17T15:58:43.853Z"
   },
   {
    "duration": 701,
    "start_time": "2023-04-17T15:58:43.858Z"
   },
   {
    "duration": 190,
    "start_time": "2023-04-17T15:58:44.560Z"
   },
   {
    "duration": 3,
    "start_time": "2023-04-17T15:58:44.752Z"
   },
   {
    "duration": 31,
    "start_time": "2023-04-17T15:58:44.757Z"
   },
   {
    "duration": 22,
    "start_time": "2023-04-17T15:58:44.790Z"
   },
   {
    "duration": 38,
    "start_time": "2023-04-17T15:58:44.813Z"
   },
   {
    "duration": 18,
    "start_time": "2023-04-17T15:58:44.853Z"
   },
   {
    "duration": 6,
    "start_time": "2023-04-17T15:58:44.873Z"
   },
   {
    "duration": 159,
    "start_time": "2023-04-17T15:58:47.210Z"
   },
   {
    "duration": 1004,
    "start_time": "2023-04-17T15:59:05.488Z"
   },
   {
    "duration": 3,
    "start_time": "2023-04-17T15:59:06.494Z"
   },
   {
    "duration": 723,
    "start_time": "2023-04-17T15:59:06.498Z"
   },
   {
    "duration": 190,
    "start_time": "2023-04-17T15:59:07.222Z"
   },
   {
    "duration": 4,
    "start_time": "2023-04-17T15:59:07.414Z"
   },
   {
    "duration": 422,
    "start_time": "2023-04-17T15:59:09.189Z"
   },
   {
    "duration": 17,
    "start_time": "2023-04-17T15:59:29.515Z"
   },
   {
    "duration": 152,
    "start_time": "2023-04-17T16:00:15.341Z"
   },
   {
    "duration": 1009,
    "start_time": "2023-04-17T16:00:51.003Z"
   },
   {
    "duration": 3,
    "start_time": "2023-04-17T16:00:52.014Z"
   },
   {
    "duration": 725,
    "start_time": "2023-04-17T16:00:52.018Z"
   },
   {
    "duration": 192,
    "start_time": "2023-04-17T16:00:52.744Z"
   },
   {
    "duration": 4,
    "start_time": "2023-04-17T16:00:52.938Z"
   },
   {
    "duration": 27,
    "start_time": "2023-04-17T16:00:52.944Z"
   },
   {
    "duration": 24,
    "start_time": "2023-04-17T16:00:52.972Z"
   },
   {
    "duration": 39,
    "start_time": "2023-04-17T16:00:52.998Z"
   },
   {
    "duration": 18,
    "start_time": "2023-04-17T16:00:53.038Z"
   },
   {
    "duration": 5,
    "start_time": "2023-04-17T16:00:53.058Z"
   },
   {
    "duration": 11,
    "start_time": "2023-04-17T16:00:53.064Z"
   },
   {
    "duration": 176,
    "start_time": "2023-04-17T16:00:53.076Z"
   },
   {
    "duration": 167,
    "start_time": "2023-04-17T16:01:25.930Z"
   },
   {
    "duration": 155,
    "start_time": "2023-04-17T16:01:32.700Z"
   },
   {
    "duration": 161,
    "start_time": "2023-04-17T16:01:44.830Z"
   },
   {
    "duration": 1078,
    "start_time": "2023-04-17T16:02:08.899Z"
   },
   {
    "duration": 3,
    "start_time": "2023-04-17T16:02:09.978Z"
   },
   {
    "duration": 699,
    "start_time": "2023-04-17T16:02:09.982Z"
   },
   {
    "duration": 707,
    "start_time": "2023-04-17T16:02:12.522Z"
   },
   {
    "duration": 380,
    "start_time": "2023-04-17T16:02:13.311Z"
   },
   {
    "duration": 393,
    "start_time": "2023-04-17T16:02:16.891Z"
   },
   {
    "duration": 408,
    "start_time": "2023-04-17T16:02:19.359Z"
   },
   {
    "duration": 365,
    "start_time": "2023-04-17T16:02:20.206Z"
   },
   {
    "duration": 371,
    "start_time": "2023-04-17T16:02:20.897Z"
   },
   {
    "duration": 395,
    "start_time": "2023-04-17T16:02:21.620Z"
   },
   {
    "duration": 374,
    "start_time": "2023-04-17T16:02:22.421Z"
   },
   {
    "duration": 393,
    "start_time": "2023-04-17T16:02:32.820Z"
   },
   {
    "duration": 422,
    "start_time": "2023-04-17T16:02:33.817Z"
   },
   {
    "duration": 422,
    "start_time": "2023-04-17T16:02:34.603Z"
   },
   {
    "duration": 413,
    "start_time": "2023-04-17T16:02:35.392Z"
   },
   {
    "duration": 406,
    "start_time": "2023-04-17T16:02:36.042Z"
   },
   {
    "duration": 400,
    "start_time": "2023-04-17T16:02:36.756Z"
   },
   {
    "duration": 386,
    "start_time": "2023-04-17T16:03:01.230Z"
   },
   {
    "duration": 1068,
    "start_time": "2023-04-17T16:03:35.222Z"
   },
   {
    "duration": 3,
    "start_time": "2023-04-17T16:03:36.291Z"
   },
   {
    "duration": 714,
    "start_time": "2023-04-17T16:03:36.295Z"
   },
   {
    "duration": 187,
    "start_time": "2023-04-17T16:03:37.010Z"
   },
   {
    "duration": 3,
    "start_time": "2023-04-17T16:03:37.199Z"
   },
   {
    "duration": 388,
    "start_time": "2023-04-17T16:03:37.203Z"
   },
   {
    "duration": 812,
    "start_time": "2023-04-17T16:03:37.592Z"
   },
   {
    "duration": 32,
    "start_time": "2023-04-17T16:03:38.406Z"
   },
   {
    "duration": 22,
    "start_time": "2023-04-17T16:03:38.439Z"
   },
   {
    "duration": 21,
    "start_time": "2023-04-17T16:03:38.462Z"
   },
   {
    "duration": 24,
    "start_time": "2023-04-17T16:03:38.484Z"
   },
   {
    "duration": 12,
    "start_time": "2023-04-17T16:03:38.510Z"
   },
   {
    "duration": 20,
    "start_time": "2023-04-17T16:03:38.523Z"
   },
   {
    "duration": 3,
    "start_time": "2023-04-17T16:03:38.545Z"
   },
   {
    "duration": 343,
    "start_time": "2023-04-17T16:03:38.549Z"
   },
   {
    "duration": 902,
    "start_time": "2023-04-17T16:03:38.894Z"
   },
   {
    "duration": 5,
    "start_time": "2023-04-17T16:03:39.797Z"
   },
   {
    "duration": 190,
    "start_time": "2023-04-17T16:03:39.803Z"
   },
   {
    "duration": 311,
    "start_time": "2023-04-17T16:03:39.994Z"
   },
   {
    "duration": 111,
    "start_time": "2023-04-17T16:03:40.307Z"
   },
   {
    "duration": 95,
    "start_time": "2023-04-17T16:09:04.211Z"
   },
   {
    "duration": 8,
    "start_time": "2023-04-17T16:10:22.180Z"
   },
   {
    "duration": 4,
    "start_time": "2023-04-17T16:29:31.449Z"
   },
   {
    "duration": 1655,
    "start_time": "2023-04-17T16:29:34.755Z"
   },
   {
    "duration": 1158,
    "start_time": "2023-04-17T16:29:56.249Z"
   },
   {
    "duration": 1108,
    "start_time": "2023-04-17T16:30:16.667Z"
   },
   {
    "duration": 1282,
    "start_time": "2023-04-17T16:30:26.314Z"
   },
   {
    "duration": 1532,
    "start_time": "2023-04-17T16:31:01.671Z"
   },
   {
    "duration": 1346,
    "start_time": "2023-04-17T16:31:14.731Z"
   },
   {
    "duration": 1019,
    "start_time": "2023-04-17T16:31:28.977Z"
   },
   {
    "duration": 1101,
    "start_time": "2023-04-17T16:33:38.725Z"
   },
   {
    "duration": 2,
    "start_time": "2023-04-17T16:33:39.828Z"
   },
   {
    "duration": 802,
    "start_time": "2023-04-17T16:33:39.835Z"
   },
   {
    "duration": 197,
    "start_time": "2023-04-17T16:33:40.639Z"
   },
   {
    "duration": 4,
    "start_time": "2023-04-17T16:33:40.838Z"
   },
   {
    "duration": 415,
    "start_time": "2023-04-17T16:33:40.843Z"
   },
   {
    "duration": 835,
    "start_time": "2023-04-17T16:33:41.259Z"
   },
   {
    "duration": 19,
    "start_time": "2023-04-17T16:33:42.096Z"
   },
   {
    "duration": 23,
    "start_time": "2023-04-17T16:33:42.116Z"
   },
   {
    "duration": 17,
    "start_time": "2023-04-17T16:33:42.141Z"
   },
   {
    "duration": 9,
    "start_time": "2023-04-17T16:33:42.160Z"
   },
   {
    "duration": 9,
    "start_time": "2023-04-17T16:33:42.171Z"
   },
   {
    "duration": 3,
    "start_time": "2023-04-17T16:33:42.181Z"
   },
   {
    "duration": 357,
    "start_time": "2023-04-17T16:33:42.185Z"
   },
   {
    "duration": 745,
    "start_time": "2023-04-17T16:33:42.544Z"
   },
   {
    "duration": 5,
    "start_time": "2023-04-17T16:33:43.290Z"
   },
   {
    "duration": 296,
    "start_time": "2023-04-17T16:33:43.296Z"
   },
   {
    "duration": 293,
    "start_time": "2023-04-17T16:33:43.593Z"
   },
   {
    "duration": 150,
    "start_time": "2023-04-17T16:33:43.887Z"
   },
   {
    "duration": 123,
    "start_time": "2023-04-17T16:33:44.038Z"
   },
   {
    "duration": 305,
    "start_time": "2023-04-17T16:36:23.517Z"
   },
   {
    "duration": 1152,
    "start_time": "2023-04-17T16:36:40.913Z"
   },
   {
    "duration": 3,
    "start_time": "2023-04-17T16:36:42.068Z"
   },
   {
    "duration": 754,
    "start_time": "2023-04-17T16:36:42.072Z"
   },
   {
    "duration": 207,
    "start_time": "2023-04-17T16:36:42.828Z"
   },
   {
    "duration": 3,
    "start_time": "2023-04-17T16:36:43.037Z"
   },
   {
    "duration": 392,
    "start_time": "2023-04-17T16:36:43.041Z"
   },
   {
    "duration": 840,
    "start_time": "2023-04-17T16:36:43.436Z"
   },
   {
    "duration": 19,
    "start_time": "2023-04-17T16:36:44.277Z"
   },
   {
    "duration": 16,
    "start_time": "2023-04-17T16:36:44.298Z"
   },
   {
    "duration": 31,
    "start_time": "2023-04-17T16:36:44.316Z"
   },
   {
    "duration": 8,
    "start_time": "2023-04-17T16:36:44.348Z"
   },
   {
    "duration": 11,
    "start_time": "2023-04-17T16:36:44.358Z"
   },
   {
    "duration": 3,
    "start_time": "2023-04-17T16:36:44.370Z"
   },
   {
    "duration": 356,
    "start_time": "2023-04-17T16:36:44.375Z"
   },
   {
    "duration": 785,
    "start_time": "2023-04-17T16:36:44.732Z"
   },
   {
    "duration": 32,
    "start_time": "2023-04-17T16:36:45.519Z"
   },
   {
    "duration": 668,
    "start_time": "2023-04-17T16:36:45.553Z"
   },
   {
    "duration": 317,
    "start_time": "2023-04-17T16:36:46.222Z"
   },
   {
    "duration": 153,
    "start_time": "2023-04-17T16:36:46.541Z"
   },
   {
    "duration": 130,
    "start_time": "2023-04-17T16:36:46.695Z"
   },
   {
    "duration": 1093,
    "start_time": "2023-04-17T16:38:00.632Z"
   },
   {
    "duration": 3,
    "start_time": "2023-04-17T16:38:01.727Z"
   },
   {
    "duration": 815,
    "start_time": "2023-04-17T16:38:01.731Z"
   },
   {
    "duration": 203,
    "start_time": "2023-04-17T16:38:02.548Z"
   },
   {
    "duration": 3,
    "start_time": "2023-04-17T16:38:02.752Z"
   },
   {
    "duration": 416,
    "start_time": "2023-04-17T16:38:02.757Z"
   },
   {
    "duration": 863,
    "start_time": "2023-04-17T16:38:03.175Z"
   },
   {
    "duration": 19,
    "start_time": "2023-04-17T16:38:04.040Z"
   },
   {
    "duration": 17,
    "start_time": "2023-04-17T16:38:04.061Z"
   },
   {
    "duration": 27,
    "start_time": "2023-04-17T16:38:04.080Z"
   },
   {
    "duration": 16,
    "start_time": "2023-04-17T16:38:04.109Z"
   },
   {
    "duration": 17,
    "start_time": "2023-04-17T16:38:04.127Z"
   },
   {
    "duration": 11,
    "start_time": "2023-04-17T16:38:04.145Z"
   },
   {
    "duration": 354,
    "start_time": "2023-04-17T16:38:04.158Z"
   },
   {
    "duration": 794,
    "start_time": "2023-04-17T16:38:04.514Z"
   },
   {
    "duration": 27,
    "start_time": "2023-04-17T16:38:05.310Z"
   },
   {
    "duration": 276,
    "start_time": "2023-04-17T16:38:05.339Z"
   },
   {
    "duration": 335,
    "start_time": "2023-04-17T16:38:05.616Z"
   },
   {
    "duration": 167,
    "start_time": "2023-04-17T16:38:05.952Z"
   },
   {
    "duration": 139,
    "start_time": "2023-04-17T16:38:06.120Z"
   },
   {
    "duration": 1053,
    "start_time": "2023-04-17T16:38:38.176Z"
   },
   {
    "duration": 3,
    "start_time": "2023-04-17T16:38:39.231Z"
   },
   {
    "duration": 856,
    "start_time": "2023-04-17T16:38:39.237Z"
   },
   {
    "duration": 231,
    "start_time": "2023-04-17T16:38:40.096Z"
   },
   {
    "duration": 9,
    "start_time": "2023-04-17T16:38:40.329Z"
   },
   {
    "duration": 462,
    "start_time": "2023-04-17T16:38:40.339Z"
   },
   {
    "duration": 904,
    "start_time": "2023-04-17T16:38:40.802Z"
   },
   {
    "duration": 21,
    "start_time": "2023-04-17T16:38:41.707Z"
   },
   {
    "duration": 28,
    "start_time": "2023-04-17T16:38:41.729Z"
   },
   {
    "duration": 34,
    "start_time": "2023-04-17T16:38:41.759Z"
   },
   {
    "duration": 10,
    "start_time": "2023-04-17T16:38:41.794Z"
   },
   {
    "duration": 12,
    "start_time": "2023-04-17T16:38:41.805Z"
   },
   {
    "duration": 3,
    "start_time": "2023-04-17T16:38:41.818Z"
   },
   {
    "duration": 358,
    "start_time": "2023-04-17T16:38:41.823Z"
   },
   {
    "duration": 801,
    "start_time": "2023-04-17T16:38:42.183Z"
   },
   {
    "duration": 17,
    "start_time": "2023-04-17T16:38:42.986Z"
   },
   {
    "duration": 294,
    "start_time": "2023-04-17T16:38:43.004Z"
   },
   {
    "duration": 302,
    "start_time": "2023-04-17T16:38:43.299Z"
   },
   {
    "duration": 151,
    "start_time": "2023-04-17T16:38:43.603Z"
   },
   {
    "duration": 137,
    "start_time": "2023-04-17T16:38:43.756Z"
   },
   {
    "duration": 296,
    "start_time": "2023-04-17T16:43:08.277Z"
   },
   {
    "duration": 330,
    "start_time": "2023-04-17T16:43:13.923Z"
   },
   {
    "duration": 313,
    "start_time": "2023-04-17T16:43:17.308Z"
   },
   {
    "duration": 203,
    "start_time": "2023-04-17T16:43:21.109Z"
   },
   {
    "duration": 206,
    "start_time": "2023-04-17T16:43:27.473Z"
   },
   {
    "duration": 228,
    "start_time": "2023-04-17T16:43:40.609Z"
   },
   {
    "duration": 1279,
    "start_time": "2023-04-17T16:43:45.507Z"
   },
   {
    "duration": 1466,
    "start_time": "2023-04-17T16:43:50.276Z"
   },
   {
    "duration": 319,
    "start_time": "2023-04-17T16:43:57.727Z"
   },
   {
    "duration": 315,
    "start_time": "2023-04-17T16:44:05.976Z"
   },
   {
    "duration": 209,
    "start_time": "2023-04-17T16:44:12.722Z"
   },
   {
    "duration": 261,
    "start_time": "2023-04-17T16:44:17.390Z"
   },
   {
    "duration": 4,
    "start_time": "2023-04-17T16:45:21.838Z"
   },
   {
    "duration": 465,
    "start_time": "2023-04-17T16:45:43.573Z"
   },
   {
    "duration": 331,
    "start_time": "2023-04-17T16:45:47.907Z"
   },
   {
    "duration": 850,
    "start_time": "2023-04-17T16:45:53.587Z"
   },
   {
    "duration": 739,
    "start_time": "2023-04-17T16:46:07.605Z"
   },
   {
    "duration": 927,
    "start_time": "2023-04-17T16:46:15.929Z"
   },
   {
    "duration": 766,
    "start_time": "2023-04-17T16:46:24.577Z"
   },
   {
    "duration": 883,
    "start_time": "2023-04-17T16:46:48.607Z"
   },
   {
    "duration": 824,
    "start_time": "2023-04-17T16:46:54.497Z"
   },
   {
    "duration": 1411,
    "start_time": "2023-04-17T16:47:00.895Z"
   },
   {
    "duration": 232,
    "start_time": "2023-04-17T16:47:07.195Z"
   },
   {
    "duration": 299,
    "start_time": "2023-04-17T16:47:10.518Z"
   },
   {
    "duration": 933,
    "start_time": "2023-04-17T16:47:13.721Z"
   },
   {
    "duration": 6488,
    "start_time": "2023-04-17T16:47:17.416Z"
   },
   {
    "duration": 4,
    "start_time": "2023-04-17T16:48:01.718Z"
   },
   {
    "duration": 5871,
    "start_time": "2023-04-17T16:48:03.635Z"
   },
   {
    "duration": 4,
    "start_time": "2023-04-17T16:48:27.990Z"
   },
   {
    "duration": 7191,
    "start_time": "2023-04-17T16:48:31.127Z"
   },
   {
    "duration": 382,
    "start_time": "2023-04-17T16:49:11.246Z"
   },
   {
    "duration": 57610,
    "start_time": "2023-04-17T16:49:26.265Z"
   },
   {
    "duration": 0,
    "start_time": "2023-04-17T16:50:23.878Z"
   },
   {
    "duration": 4,
    "start_time": "2023-04-17T16:50:59.296Z"
   },
   {
    "duration": 6787,
    "start_time": "2023-04-17T16:51:00.733Z"
   },
   {
    "duration": 3,
    "start_time": "2023-04-17T16:51:15.026Z"
   },
   {
    "duration": 9262,
    "start_time": "2023-04-17T16:51:16.027Z"
   },
   {
    "duration": 6817,
    "start_time": "2023-04-17T16:51:26.196Z"
   },
   {
    "duration": 6863,
    "start_time": "2023-04-17T16:51:36.427Z"
   },
   {
    "duration": 7191,
    "start_time": "2023-04-17T16:51:50.622Z"
   },
   {
    "duration": 2140,
    "start_time": "2023-04-17T16:51:59.672Z"
   },
   {
    "duration": 9,
    "start_time": "2023-04-17T16:54:17.786Z"
   },
   {
    "duration": 4,
    "start_time": "2023-04-17T16:54:19.913Z"
   },
   {
    "duration": 1346,
    "start_time": "2023-04-17T16:54:20.810Z"
   },
   {
    "duration": 1086,
    "start_time": "2023-04-17T16:54:34.547Z"
   },
   {
    "duration": 2,
    "start_time": "2023-04-17T16:54:35.635Z"
   },
   {
    "duration": 780,
    "start_time": "2023-04-17T16:54:35.639Z"
   },
   {
    "duration": 230,
    "start_time": "2023-04-17T16:54:36.421Z"
   },
   {
    "duration": 4,
    "start_time": "2023-04-17T16:54:36.652Z"
   },
   {
    "duration": 436,
    "start_time": "2023-04-17T16:54:36.658Z"
   },
   {
    "duration": 904,
    "start_time": "2023-04-17T16:54:37.095Z"
   },
   {
    "duration": 23,
    "start_time": "2023-04-17T16:54:38.001Z"
   },
   {
    "duration": 18,
    "start_time": "2023-04-17T16:54:38.036Z"
   },
   {
    "duration": 20,
    "start_time": "2023-04-17T16:54:38.057Z"
   },
   {
    "duration": 10,
    "start_time": "2023-04-17T16:54:38.078Z"
   },
   {
    "duration": 13,
    "start_time": "2023-04-17T16:54:38.089Z"
   },
   {
    "duration": 4,
    "start_time": "2023-04-17T16:54:38.104Z"
   },
   {
    "duration": 1532,
    "start_time": "2023-04-17T16:54:38.110Z"
   },
   {
    "duration": 358,
    "start_time": "2023-04-17T16:54:39.644Z"
   },
   {
    "duration": 895,
    "start_time": "2023-04-17T16:54:40.004Z"
   },
   {
    "duration": 20,
    "start_time": "2023-04-17T16:54:40.901Z"
   },
   {
    "duration": 318,
    "start_time": "2023-04-17T16:54:40.936Z"
   },
   {
    "duration": 328,
    "start_time": "2023-04-17T16:54:41.256Z"
   },
   {
    "duration": 182,
    "start_time": "2023-04-17T16:54:41.587Z"
   },
   {
    "duration": 135,
    "start_time": "2023-04-17T16:54:41.771Z"
   },
   {
    "duration": 266,
    "start_time": "2023-04-17T16:54:53.331Z"
   },
   {
    "duration": 1333,
    "start_time": "2023-04-17T16:55:27.236Z"
   },
   {
    "duration": 24,
    "start_time": "2023-04-17T16:57:47.474Z"
   },
   {
    "duration": 28,
    "start_time": "2023-04-17T16:58:16.525Z"
   },
   {
    "duration": 1070,
    "start_time": "2023-04-17T16:58:52.839Z"
   },
   {
    "duration": 2,
    "start_time": "2023-04-17T16:58:53.911Z"
   },
   {
    "duration": 716,
    "start_time": "2023-04-17T16:58:53.914Z"
   },
   {
    "duration": 187,
    "start_time": "2023-04-17T16:58:54.631Z"
   },
   {
    "duration": 4,
    "start_time": "2023-04-17T16:58:54.820Z"
   },
   {
    "duration": 420,
    "start_time": "2023-04-17T16:58:54.836Z"
   },
   {
    "duration": 857,
    "start_time": "2023-04-17T16:58:55.257Z"
   },
   {
    "duration": 24,
    "start_time": "2023-04-17T16:58:56.116Z"
   },
   {
    "duration": 17,
    "start_time": "2023-04-17T16:58:56.141Z"
   },
   {
    "duration": 18,
    "start_time": "2023-04-17T16:58:56.159Z"
   },
   {
    "duration": 6,
    "start_time": "2023-04-17T16:58:56.179Z"
   },
   {
    "duration": 10,
    "start_time": "2023-04-17T16:58:56.186Z"
   },
   {
    "duration": 4,
    "start_time": "2023-04-17T16:58:56.197Z"
   },
   {
    "duration": 1342,
    "start_time": "2023-04-17T16:58:56.203Z"
   },
   {
    "duration": 50,
    "start_time": "2023-04-17T16:59:20.611Z"
   },
   {
    "duration": 4,
    "start_time": "2023-04-17T16:59:55.097Z"
   },
   {
    "duration": 62,
    "start_time": "2023-04-17T17:00:33.316Z"
   },
   {
    "duration": 7,
    "start_time": "2023-04-17T17:01:08.900Z"
   },
   {
    "duration": 314,
    "start_time": "2023-04-17T17:01:27.597Z"
   },
   {
    "duration": 297,
    "start_time": "2023-04-17T17:01:34.141Z"
   },
   {
    "duration": 140,
    "start_time": "2023-04-17T17:01:49.572Z"
   },
   {
    "duration": 165,
    "start_time": "2023-04-17T17:04:27.608Z"
   },
   {
    "duration": 77,
    "start_time": "2023-04-17T17:04:29.639Z"
   },
   {
    "duration": 93,
    "start_time": "2023-04-17T17:06:42.546Z"
   },
   {
    "duration": 3,
    "start_time": "2023-04-17T17:06:55.504Z"
   },
   {
    "duration": 4,
    "start_time": "2023-04-17T17:07:12.908Z"
   },
   {
    "duration": 3,
    "start_time": "2023-04-17T17:07:24.514Z"
   },
   {
    "duration": 5,
    "start_time": "2023-04-17T17:07:36.896Z"
   },
   {
    "duration": 439,
    "start_time": "2023-04-17T18:12:06.314Z"
   },
   {
    "duration": 187,
    "start_time": "2023-04-17T18:15:11.253Z"
   },
   {
    "duration": 36,
    "start_time": "2023-04-17T18:15:22.901Z"
   },
   {
    "duration": 1072,
    "start_time": "2023-04-17T18:15:57.982Z"
   },
   {
    "duration": 3,
    "start_time": "2023-04-17T18:15:59.056Z"
   },
   {
    "duration": 764,
    "start_time": "2023-04-17T18:15:59.060Z"
   },
   {
    "duration": 190,
    "start_time": "2023-04-17T18:15:59.826Z"
   },
   {
    "duration": 3,
    "start_time": "2023-04-17T18:16:00.019Z"
   },
   {
    "duration": 434,
    "start_time": "2023-04-17T18:16:00.023Z"
   },
   {
    "duration": 898,
    "start_time": "2023-04-17T18:16:00.459Z"
   },
   {
    "duration": 20,
    "start_time": "2023-04-17T18:16:01.359Z"
   },
   {
    "duration": 40,
    "start_time": "2023-04-17T18:16:01.380Z"
   },
   {
    "duration": 51,
    "start_time": "2023-04-17T18:16:01.421Z"
   },
   {
    "duration": 27,
    "start_time": "2023-04-17T18:16:01.474Z"
   },
   {
    "duration": 49,
    "start_time": "2023-04-17T18:16:01.502Z"
   },
   {
    "duration": 22,
    "start_time": "2023-04-17T18:16:01.552Z"
   },
   {
    "duration": 1373,
    "start_time": "2023-04-17T18:16:01.577Z"
   },
   {
    "duration": 45,
    "start_time": "2023-04-17T18:16:02.951Z"
   },
   {
    "duration": 465,
    "start_time": "2023-04-17T18:16:02.998Z"
   },
   {
    "duration": 40,
    "start_time": "2023-04-17T18:16:03.465Z"
   },
   {
    "duration": 807,
    "start_time": "2023-04-17T18:16:03.506Z"
   },
   {
    "duration": 6,
    "start_time": "2023-04-17T18:16:04.314Z"
   },
   {
    "duration": 49,
    "start_time": "2023-04-17T18:16:04.322Z"
   },
   {
    "duration": 295,
    "start_time": "2023-04-17T18:16:04.373Z"
   },
   {
    "duration": 31,
    "start_time": "2023-04-17T18:16:04.669Z"
   },
   {
    "duration": 108,
    "start_time": "2023-04-17T18:16:04.702Z"
   },
   {
    "duration": 3,
    "start_time": "2023-04-17T18:16:04.812Z"
   },
   {
    "duration": 19,
    "start_time": "2023-04-17T18:23:37.812Z"
   },
   {
    "duration": 28,
    "start_time": "2023-04-17T18:25:00.120Z"
   },
   {
    "duration": 30,
    "start_time": "2023-04-17T18:25:19.251Z"
   },
   {
    "duration": 26,
    "start_time": "2023-04-17T18:25:31.984Z"
   },
   {
    "duration": 7,
    "start_time": "2023-04-17T18:25:35.306Z"
   },
   {
    "duration": 1015,
    "start_time": "2023-04-17T18:25:52.578Z"
   },
   {
    "duration": 3,
    "start_time": "2023-04-17T18:25:53.595Z"
   },
   {
    "duration": 743,
    "start_time": "2023-04-17T18:25:53.599Z"
   },
   {
    "duration": 188,
    "start_time": "2023-04-17T18:25:54.343Z"
   },
   {
    "duration": 3,
    "start_time": "2023-04-17T18:25:54.537Z"
   },
   {
    "duration": 397,
    "start_time": "2023-04-17T18:25:54.542Z"
   },
   {
    "duration": 847,
    "start_time": "2023-04-17T18:25:54.941Z"
   },
   {
    "duration": 27,
    "start_time": "2023-04-17T18:25:55.790Z"
   },
   {
    "duration": 36,
    "start_time": "2023-04-17T18:25:55.818Z"
   },
   {
    "duration": 25,
    "start_time": "2023-04-17T18:25:55.856Z"
   },
   {
    "duration": 7,
    "start_time": "2023-04-17T18:26:05.424Z"
   },
   {
    "duration": 333,
    "start_time": "2023-04-17T18:30:22.579Z"
   },
   {
    "duration": 91,
    "start_time": "2023-04-17T18:30:40.338Z"
   },
   {
    "duration": 9,
    "start_time": "2023-04-17T18:30:47.575Z"
   },
   {
    "duration": 18,
    "start_time": "2023-04-17T18:31:45.193Z"
   },
   {
    "duration": 9,
    "start_time": "2023-04-17T18:32:14.145Z"
   },
   {
    "duration": 9,
    "start_time": "2023-04-17T18:32:50.589Z"
   },
   {
    "duration": 10,
    "start_time": "2023-04-17T18:36:16.283Z"
   },
   {
    "duration": 2,
    "start_time": "2023-04-17T18:36:26.279Z"
   },
   {
    "duration": 11,
    "start_time": "2023-04-17T18:36:30.636Z"
   },
   {
    "duration": 8,
    "start_time": "2023-04-17T18:40:53.626Z"
   },
   {
    "duration": 74,
    "start_time": "2023-04-17T18:40:58.403Z"
   },
   {
    "duration": 9,
    "start_time": "2023-04-17T18:41:06.309Z"
   },
   {
    "duration": 239,
    "start_time": "2023-04-17T18:41:11.611Z"
   },
   {
    "duration": 8,
    "start_time": "2023-04-17T18:41:48.510Z"
   },
   {
    "duration": 24,
    "start_time": "2023-04-17T18:47:46.293Z"
   },
   {
    "duration": 8,
    "start_time": "2023-04-17T18:47:51.314Z"
   },
   {
    "duration": 321,
    "start_time": "2023-04-17T18:48:23.146Z"
   },
   {
    "duration": 8,
    "start_time": "2023-04-17T18:49:33.203Z"
   },
   {
    "duration": 25,
    "start_time": "2023-04-17T18:49:41.480Z"
   },
   {
    "duration": 307,
    "start_time": "2023-04-17T18:49:44.603Z"
   },
   {
    "duration": 25,
    "start_time": "2023-04-17T18:49:54.491Z"
   },
   {
    "duration": 373,
    "start_time": "2023-04-17T18:49:54.706Z"
   },
   {
    "duration": 348,
    "start_time": "2023-04-17T18:50:21.985Z"
   },
   {
    "duration": 312,
    "start_time": "2023-04-17T18:51:03.453Z"
   },
   {
    "duration": 3,
    "start_time": "2023-04-17T18:53:53.494Z"
   },
   {
    "duration": 352,
    "start_time": "2023-04-17T18:54:00.258Z"
   },
   {
    "duration": 350,
    "start_time": "2023-04-17T18:54:14.503Z"
   },
   {
    "duration": 4,
    "start_time": "2023-04-17T18:55:10.438Z"
   },
   {
    "duration": 325,
    "start_time": "2023-04-17T18:55:35.340Z"
   },
   {
    "duration": 234,
    "start_time": "2023-04-17T18:55:50.406Z"
   },
   {
    "duration": 31,
    "start_time": "2023-04-17T18:59:08.091Z"
   },
   {
    "duration": 33,
    "start_time": "2023-04-17T18:59:14.387Z"
   },
   {
    "duration": 3,
    "start_time": "2023-04-17T19:00:13.391Z"
   },
   {
    "duration": 9,
    "start_time": "2023-04-17T19:00:19.061Z"
   },
   {
    "duration": 9,
    "start_time": "2023-04-17T19:00:35.551Z"
   },
   {
    "duration": 9,
    "start_time": "2023-04-17T19:01:16.054Z"
   },
   {
    "duration": 8,
    "start_time": "2023-04-17T19:01:51.699Z"
   },
   {
    "duration": 57,
    "start_time": "2023-04-17T19:06:18.541Z"
   },
   {
    "duration": 8,
    "start_time": "2023-04-17T19:06:23.833Z"
   },
   {
    "duration": 26,
    "start_time": "2023-04-17T19:06:47.241Z"
   },
   {
    "duration": 326,
    "start_time": "2023-04-17T19:06:49.995Z"
   },
   {
    "duration": 396,
    "start_time": "2023-04-17T19:07:18.047Z"
   },
   {
    "duration": 515,
    "start_time": "2023-04-17T19:09:06.521Z"
   },
   {
    "duration": 522,
    "start_time": "2023-04-17T19:09:18.689Z"
   },
   {
    "duration": 512,
    "start_time": "2023-04-17T19:10:00.051Z"
   },
   {
    "duration": 597,
    "start_time": "2023-04-17T19:10:56.591Z"
   },
   {
    "duration": 48,
    "start_time": "2023-04-17T19:11:41.940Z"
   },
   {
    "duration": 141,
    "start_time": "2023-04-17T19:11:50.748Z"
   },
   {
    "duration": 551,
    "start_time": "2023-04-17T19:12:35.025Z"
   },
   {
    "duration": 471,
    "start_time": "2023-04-17T19:12:51.715Z"
   },
   {
    "duration": 495,
    "start_time": "2023-04-17T19:13:06.587Z"
   },
   {
    "duration": 671,
    "start_time": "2023-04-17T19:13:32.320Z"
   },
   {
    "duration": 57,
    "start_time": "2023-04-17T19:14:39.498Z"
   },
   {
    "duration": 4,
    "start_time": "2023-04-17T19:14:52.716Z"
   },
   {
    "duration": 499,
    "start_time": "2023-04-17T19:14:54.479Z"
   },
   {
    "duration": 440,
    "start_time": "2023-04-17T19:14:57.987Z"
   },
   {
    "duration": 505,
    "start_time": "2023-04-17T19:16:17.148Z"
   },
   {
    "duration": 430,
    "start_time": "2023-04-17T19:16:20.855Z"
   },
   {
    "duration": 1165,
    "start_time": "2023-04-17T19:16:29.686Z"
   },
   {
    "duration": 2,
    "start_time": "2023-04-17T19:16:30.853Z"
   },
   {
    "duration": 814,
    "start_time": "2023-04-17T19:16:30.857Z"
   },
   {
    "duration": 221,
    "start_time": "2023-04-17T19:16:31.673Z"
   },
   {
    "duration": 3,
    "start_time": "2023-04-17T19:16:31.896Z"
   },
   {
    "duration": 453,
    "start_time": "2023-04-17T19:16:31.901Z"
   },
   {
    "duration": 927,
    "start_time": "2023-04-17T19:16:32.356Z"
   },
   {
    "duration": 3,
    "start_time": "2023-04-17T19:16:33.285Z"
   },
   {
    "duration": 515,
    "start_time": "2023-04-17T19:16:33.290Z"
   },
   {
    "duration": 3,
    "start_time": "2023-04-17T19:16:48.429Z"
   },
   {
    "duration": 360,
    "start_time": "2023-04-17T19:16:50.281Z"
   },
   {
    "duration": 4,
    "start_time": "2023-04-17T19:17:41.095Z"
   },
   {
    "duration": 521,
    "start_time": "2023-04-17T19:17:42.539Z"
   },
   {
    "duration": 174,
    "start_time": "2023-04-17T19:17:46.181Z"
   },
   {
    "duration": 192,
    "start_time": "2023-04-17T19:18:14.725Z"
   },
   {
    "duration": 237,
    "start_time": "2023-04-17T19:19:21.967Z"
   },
   {
    "duration": 181,
    "start_time": "2023-04-17T19:19:43.308Z"
   },
   {
    "duration": 17,
    "start_time": "2023-04-17T19:20:00.707Z"
   },
   {
    "duration": 4,
    "start_time": "2023-04-17T19:21:11.088Z"
   },
   {
    "duration": 513,
    "start_time": "2023-04-17T19:21:11.601Z"
   },
   {
    "duration": 189,
    "start_time": "2023-04-17T19:21:17.255Z"
   },
   {
    "duration": 193,
    "start_time": "2023-04-17T19:21:20.792Z"
   },
   {
    "duration": 162,
    "start_time": "2023-04-17T19:21:24.050Z"
   },
   {
    "duration": 178,
    "start_time": "2023-04-17T19:21:28.207Z"
   },
   {
    "duration": 4,
    "start_time": "2023-04-17T19:22:13.149Z"
   },
   {
    "duration": 511,
    "start_time": "2023-04-17T19:22:14.095Z"
   },
   {
    "duration": 5,
    "start_time": "2023-04-17T19:22:25.803Z"
   },
   {
    "duration": 576,
    "start_time": "2023-04-17T19:22:26.505Z"
   },
   {
    "duration": 4,
    "start_time": "2023-04-17T19:22:37.008Z"
   },
   {
    "duration": 518,
    "start_time": "2023-04-17T19:22:37.790Z"
   },
   {
    "duration": 4,
    "start_time": "2023-04-17T19:22:51.093Z"
   },
   {
    "duration": 510,
    "start_time": "2023-04-17T19:22:52.129Z"
   },
   {
    "duration": 4,
    "start_time": "2023-04-17T19:23:00.692Z"
   },
   {
    "duration": 497,
    "start_time": "2023-04-17T19:23:01.191Z"
   },
   {
    "duration": 4,
    "start_time": "2023-04-17T19:23:10.107Z"
   },
   {
    "duration": 548,
    "start_time": "2023-04-17T19:23:10.691Z"
   },
   {
    "duration": 174,
    "start_time": "2023-04-17T19:23:13.025Z"
   },
   {
    "duration": 173,
    "start_time": "2023-04-17T19:23:16.592Z"
   },
   {
    "duration": 252,
    "start_time": "2023-04-17T19:23:19.097Z"
   },
   {
    "duration": 167,
    "start_time": "2023-04-17T19:23:20.846Z"
   },
   {
    "duration": 174,
    "start_time": "2023-04-17T19:23:22.592Z"
   },
   {
    "duration": 123,
    "start_time": "2023-04-17T19:38:09.276Z"
   },
   {
    "duration": 376,
    "start_time": "2023-04-17T19:38:48.789Z"
   },
   {
    "duration": 342,
    "start_time": "2023-04-17T19:39:25.300Z"
   },
   {
    "duration": 9,
    "start_time": "2023-04-17T19:43:31.387Z"
   },
   {
    "duration": 54,
    "start_time": "2023-04-17T19:43:36.133Z"
   },
   {
    "duration": 98,
    "start_time": "2023-04-17T19:44:12.019Z"
   },
   {
    "duration": 58,
    "start_time": "2023-04-17T19:44:47.494Z"
   },
   {
    "duration": 146,
    "start_time": "2023-04-17T19:52:15.721Z"
   },
   {
    "duration": 146,
    "start_time": "2023-04-17T19:52:47.928Z"
   },
   {
    "duration": 98,
    "start_time": "2023-04-17T19:53:38.722Z"
   },
   {
    "duration": 78,
    "start_time": "2023-04-17T19:54:27.739Z"
   },
   {
    "duration": 22751,
    "start_time": "2023-04-17T19:54:54.294Z"
   },
   {
    "duration": 30,
    "start_time": "2023-04-17T19:55:41.444Z"
   },
   {
    "duration": 104,
    "start_time": "2023-04-17T19:55:42.683Z"
   },
   {
    "duration": 34,
    "start_time": "2023-04-17T20:00:43.384Z"
   },
   {
    "duration": 39,
    "start_time": "2023-04-17T20:01:17.703Z"
   },
   {
    "duration": 33,
    "start_time": "2023-04-17T20:01:32.025Z"
   },
   {
    "duration": 24,
    "start_time": "2023-04-17T20:03:01.211Z"
   },
   {
    "duration": 81,
    "start_time": "2023-04-17T20:03:39.288Z"
   },
   {
    "duration": 13,
    "start_time": "2023-04-17T20:03:40.603Z"
   },
   {
    "duration": 15,
    "start_time": "2023-04-17T20:04:20.427Z"
   },
   {
    "duration": 11,
    "start_time": "2023-04-17T20:05:51.450Z"
   },
   {
    "duration": 8,
    "start_time": "2023-04-17T20:06:45.176Z"
   },
   {
    "duration": 15,
    "start_time": "2023-04-17T20:06:59.877Z"
   },
   {
    "duration": 23,
    "start_time": "2023-04-17T20:07:48.107Z"
   },
   {
    "duration": 113,
    "start_time": "2023-04-17T20:08:23.619Z"
   },
   {
    "duration": 21,
    "start_time": "2023-04-17T20:08:29.625Z"
   },
   {
    "duration": 15,
    "start_time": "2023-04-17T20:10:00.474Z"
   },
   {
    "duration": 21,
    "start_time": "2023-04-17T20:10:19.874Z"
   },
   {
    "duration": 695,
    "start_time": "2023-04-17T20:12:07.261Z"
   },
   {
    "duration": 787,
    "start_time": "2023-04-17T20:12:29.888Z"
   },
   {
    "duration": 707,
    "start_time": "2023-04-17T20:12:50.650Z"
   },
   {
    "duration": 8,
    "start_time": "2023-04-17T20:13:01.157Z"
   },
   {
    "duration": 53,
    "start_time": "2023-04-17T20:13:20.662Z"
   },
   {
    "duration": 57,
    "start_time": "2023-04-17T20:17:29.867Z"
   },
   {
    "duration": 45,
    "start_time": "2023-04-17T20:17:53.227Z"
   },
   {
    "duration": 45,
    "start_time": "2023-04-17T20:18:07.788Z"
   },
   {
    "duration": 51,
    "start_time": "2023-04-17T20:19:39.426Z"
   },
   {
    "duration": 45,
    "start_time": "2023-04-17T20:20:02.401Z"
   },
   {
    "duration": 45,
    "start_time": "2023-04-17T20:24:05.250Z"
   },
   {
    "duration": 104,
    "start_time": "2023-04-17T20:24:38.694Z"
   },
   {
    "duration": 30,
    "start_time": "2023-04-17T20:24:58.643Z"
   },
   {
    "duration": 43,
    "start_time": "2023-04-17T20:25:58.944Z"
   },
   {
    "duration": 39,
    "start_time": "2023-04-17T20:26:24.272Z"
   },
   {
    "duration": 17,
    "start_time": "2023-04-17T20:46:29.744Z"
   },
   {
    "duration": 16,
    "start_time": "2023-04-17T20:48:57.773Z"
   },
   {
    "duration": 130,
    "start_time": "2023-04-17T20:49:01.140Z"
   },
   {
    "duration": 4,
    "start_time": "2023-04-17T20:49:09.405Z"
   },
   {
    "duration": 40,
    "start_time": "2023-04-17T20:56:09.678Z"
   },
   {
    "duration": 23,
    "start_time": "2023-04-17T21:03:27.476Z"
   },
   {
    "duration": 97,
    "start_time": "2023-04-17T21:03:29.275Z"
   },
   {
    "duration": 1915,
    "start_time": "2023-04-17T21:05:06.756Z"
   },
   {
    "duration": 18,
    "start_time": "2023-04-17T21:05:21.035Z"
   },
   {
    "duration": 23,
    "start_time": "2023-04-17T21:05:38.904Z"
   },
   {
    "duration": 14,
    "start_time": "2023-04-17T21:05:55.390Z"
   },
   {
    "duration": 14,
    "start_time": "2023-04-17T21:06:15.986Z"
   },
   {
    "duration": 12,
    "start_time": "2023-04-17T21:06:48.022Z"
   },
   {
    "duration": 19,
    "start_time": "2023-04-17T21:23:42.189Z"
   },
   {
    "duration": 17,
    "start_time": "2023-04-17T21:24:31.722Z"
   },
   {
    "duration": 16,
    "start_time": "2023-04-17T21:24:41.641Z"
   },
   {
    "duration": 37,
    "start_time": "2023-04-17T21:25:58.475Z"
   },
   {
    "duration": 99,
    "start_time": "2023-04-17T21:26:00.781Z"
   },
   {
    "duration": 44,
    "start_time": "2023-04-17T21:27:36.828Z"
   },
   {
    "duration": 102,
    "start_time": "2023-04-17T21:27:38.860Z"
   },
   {
    "duration": 4071,
    "start_time": "2023-04-17T21:28:32.427Z"
   },
   {
    "duration": 28,
    "start_time": "2023-04-17T21:29:39.372Z"
   },
   {
    "duration": 53,
    "start_time": "2023-04-17T21:30:21.072Z"
   },
   {
    "duration": 102,
    "start_time": "2023-04-17T21:30:23.335Z"
   },
   {
    "duration": 4,
    "start_time": "2023-04-17T21:30:40.401Z"
   },
   {
    "duration": 9,
    "start_time": "2023-04-17T21:32:41.107Z"
   },
   {
    "duration": 4,
    "start_time": "2023-04-17T21:32:53.382Z"
   },
   {
    "duration": 420,
    "start_time": "2023-04-17T21:32:56.474Z"
   },
   {
    "duration": 44,
    "start_time": "2023-04-17T21:33:00.508Z"
   },
   {
    "duration": 685,
    "start_time": "2023-04-17T21:33:02.538Z"
   },
   {
    "duration": 1028,
    "start_time": "2023-04-17T21:33:47.872Z"
   },
   {
    "duration": 3,
    "start_time": "2023-04-17T21:33:48.901Z"
   },
   {
    "duration": 712,
    "start_time": "2023-04-17T21:33:48.905Z"
   },
   {
    "duration": 19,
    "start_time": "2023-04-17T21:33:49.619Z"
   },
   {
    "duration": 184,
    "start_time": "2023-04-17T21:33:49.640Z"
   },
   {
    "duration": 11,
    "start_time": "2023-04-17T21:33:49.826Z"
   },
   {
    "duration": 387,
    "start_time": "2023-04-17T21:33:49.839Z"
   },
   {
    "duration": 849,
    "start_time": "2023-04-17T21:33:50.227Z"
   },
   {
    "duration": 4,
    "start_time": "2023-04-17T21:33:51.078Z"
   },
   {
    "duration": 539,
    "start_time": "2023-04-17T21:33:51.083Z"
   },
   {
    "duration": 180,
    "start_time": "2023-04-17T21:33:51.623Z"
   },
   {
    "duration": 167,
    "start_time": "2023-04-17T21:33:51.805Z"
   },
   {
    "duration": 188,
    "start_time": "2023-04-17T21:33:51.974Z"
   },
   {
    "duration": 11,
    "start_time": "2023-04-17T21:33:52.165Z"
   },
   {
    "duration": 3,
    "start_time": "2023-04-17T21:33:52.178Z"
   },
   {
    "duration": 1400,
    "start_time": "2023-04-17T21:33:52.183Z"
   },
   {
    "duration": 51,
    "start_time": "2023-04-17T21:33:53.585Z"
   },
   {
    "duration": 556,
    "start_time": "2023-04-17T21:33:53.638Z"
   },
   {
    "duration": 48,
    "start_time": "2023-04-17T21:33:54.195Z"
   },
   {
    "duration": 714,
    "start_time": "2023-04-17T21:33:54.244Z"
   },
   {
    "duration": 6,
    "start_time": "2023-04-17T21:33:54.960Z"
   },
   {
    "duration": 40,
    "start_time": "2023-04-17T21:33:54.968Z"
   },
   {
    "duration": 302,
    "start_time": "2023-04-17T21:33:55.010Z"
   },
   {
    "duration": 37,
    "start_time": "2023-04-17T21:33:55.313Z"
   },
   {
    "duration": 200,
    "start_time": "2023-04-17T21:33:55.352Z"
   },
   {
    "duration": 110,
    "start_time": "2023-04-17T21:33:55.553Z"
   },
   {
    "duration": 5,
    "start_time": "2023-04-17T21:33:55.665Z"
   },
   {
    "duration": 68,
    "start_time": "2023-04-17T21:34:12.332Z"
   },
   {
    "duration": 8,
    "start_time": "2023-04-18T08:24:58.006Z"
   },
   {
    "duration": 46,
    "start_time": "2023-04-18T08:25:32.016Z"
   },
   {
    "duration": 1368,
    "start_time": "2023-04-18T08:25:44.280Z"
   },
   {
    "duration": 3,
    "start_time": "2023-04-18T08:25:45.650Z"
   },
   {
    "duration": 3167,
    "start_time": "2023-04-18T08:25:45.655Z"
   },
   {
    "duration": 210,
    "start_time": "2023-04-18T08:25:48.824Z"
   },
   {
    "duration": 3,
    "start_time": "2023-04-18T08:25:49.036Z"
   },
   {
    "duration": 442,
    "start_time": "2023-04-18T08:25:49.041Z"
   },
   {
    "duration": 972,
    "start_time": "2023-04-18T08:25:49.485Z"
   },
   {
    "duration": 106,
    "start_time": "2023-04-18T08:35:41.186Z"
   },
   {
    "duration": 38,
    "start_time": "2023-04-18T08:35:57.476Z"
   },
   {
    "duration": 34,
    "start_time": "2023-04-18T08:36:02.445Z"
   },
   {
    "duration": 9,
    "start_time": "2023-04-18T08:36:32.978Z"
   },
   {
    "duration": 3,
    "start_time": "2023-04-18T08:36:49.972Z"
   },
   {
    "duration": 65,
    "start_time": "2023-04-18T08:41:37.641Z"
   },
   {
    "duration": 61,
    "start_time": "2023-04-18T08:41:44.542Z"
   },
   {
    "duration": 4,
    "start_time": "2023-04-18T08:42:09.809Z"
   },
   {
    "duration": 610,
    "start_time": "2023-04-18T08:42:11.475Z"
   },
   {
    "duration": 4,
    "start_time": "2023-04-18T08:46:42.248Z"
   },
   {
    "duration": 566,
    "start_time": "2023-04-18T08:46:45.371Z"
   },
   {
    "duration": 223,
    "start_time": "2023-04-18T08:46:55.317Z"
   },
   {
    "duration": 4,
    "start_time": "2023-04-18T08:47:57.430Z"
   },
   {
    "duration": 5,
    "start_time": "2023-04-18T08:47:58.414Z"
   },
   {
    "duration": 375,
    "start_time": "2023-04-18T08:47:58.910Z"
   },
   {
    "duration": 5,
    "start_time": "2023-04-18T08:48:09.531Z"
   },
   {
    "duration": 478,
    "start_time": "2023-04-18T08:48:10.643Z"
   },
   {
    "duration": 5,
    "start_time": "2023-04-18T08:48:33.764Z"
   },
   {
    "duration": 5,
    "start_time": "2023-04-18T08:48:34.733Z"
   },
   {
    "duration": 377,
    "start_time": "2023-04-18T08:48:34.961Z"
   },
   {
    "duration": 5,
    "start_time": "2023-04-18T08:48:45.632Z"
   },
   {
    "duration": 574,
    "start_time": "2023-04-18T08:48:45.792Z"
   },
   {
    "duration": 201,
    "start_time": "2023-04-18T08:48:49.573Z"
   },
   {
    "duration": 209,
    "start_time": "2023-04-18T08:48:52.663Z"
   },
   {
    "duration": 228,
    "start_time": "2023-04-18T08:48:56.217Z"
   },
   {
    "duration": 9,
    "start_time": "2023-04-18T08:52:06.634Z"
   },
   {
    "duration": 179,
    "start_time": "2023-04-18T08:52:36.780Z"
   },
   {
    "duration": 5,
    "start_time": "2023-04-18T08:54:12.763Z"
   },
   {
    "duration": 155,
    "start_time": "2023-04-18T08:54:16.337Z"
   },
   {
    "duration": 42,
    "start_time": "2023-04-18T09:06:52.624Z"
   },
   {
    "duration": 8,
    "start_time": "2023-04-18T09:06:57.219Z"
   },
   {
    "duration": 4,
    "start_time": "2023-04-18T09:07:21.383Z"
   },
   {
    "duration": 654,
    "start_time": "2023-04-18T09:07:30.383Z"
   },
   {
    "duration": 9,
    "start_time": "2023-04-18T09:13:55.048Z"
   },
   {
    "duration": 176,
    "start_time": "2023-04-18T09:13:58.721Z"
   },
   {
    "duration": 80,
    "start_time": "2023-04-18T09:13:58.918Z"
   },
   {
    "duration": 118,
    "start_time": "2023-04-18T09:14:01.557Z"
   },
   {
    "duration": 654,
    "start_time": "2023-04-18T09:14:13.503Z"
   },
   {
    "duration": 224,
    "start_time": "2023-04-18T09:14:14.315Z"
   },
   {
    "duration": 186,
    "start_time": "2023-04-18T09:14:18.822Z"
   },
   {
    "duration": 265,
    "start_time": "2023-04-18T09:14:22.430Z"
   },
   {
    "duration": 7,
    "start_time": "2023-04-18T09:14:26.771Z"
   },
   {
    "duration": 168,
    "start_time": "2023-04-18T09:14:27.642Z"
   },
   {
    "duration": 4,
    "start_time": "2023-04-18T09:14:41.150Z"
   },
   {
    "duration": 1518,
    "start_time": "2023-04-18T09:14:42.522Z"
   },
   {
    "duration": 53,
    "start_time": "2023-04-18T09:15:02.556Z"
   },
   {
    "duration": 700,
    "start_time": "2023-04-18T09:15:08.340Z"
   },
   {
    "duration": 4,
    "start_time": "2023-04-18T09:16:20.526Z"
   },
   {
    "duration": 1739,
    "start_time": "2023-04-18T09:16:21.017Z"
   },
   {
    "duration": 437,
    "start_time": "2023-04-18T09:16:56.381Z"
   },
   {
    "duration": 318,
    "start_time": "2023-04-18T09:17:07.676Z"
   },
   {
    "duration": 44,
    "start_time": "2023-04-18T09:17:18.429Z"
   },
   {
    "duration": 1235,
    "start_time": "2023-04-18T09:17:32.361Z"
   },
   {
    "duration": 4,
    "start_time": "2023-04-18T09:17:33.598Z"
   },
   {
    "duration": 1087,
    "start_time": "2023-04-18T09:17:33.604Z"
   },
   {
    "duration": 259,
    "start_time": "2023-04-18T09:17:34.693Z"
   },
   {
    "duration": 5,
    "start_time": "2023-04-18T09:17:34.956Z"
   },
   {
    "duration": 539,
    "start_time": "2023-04-18T09:17:34.963Z"
   },
   {
    "duration": 1018,
    "start_time": "2023-04-18T09:17:35.504Z"
   },
   {
    "duration": 204,
    "start_time": "2023-04-18T09:17:36.524Z"
   },
   {
    "duration": 98,
    "start_time": "2023-04-18T09:17:36.730Z"
   },
   {
    "duration": 172,
    "start_time": "2023-04-18T09:17:36.829Z"
   },
   {
    "duration": 6,
    "start_time": "2023-04-18T09:17:37.002Z"
   },
   {
    "duration": 696,
    "start_time": "2023-04-18T09:17:37.009Z"
   },
   {
    "duration": 215,
    "start_time": "2023-04-18T09:17:37.707Z"
   },
   {
    "duration": 212,
    "start_time": "2023-04-18T09:17:37.924Z"
   },
   {
    "duration": 275,
    "start_time": "2023-04-18T09:17:38.138Z"
   },
   {
    "duration": 8,
    "start_time": "2023-04-18T09:17:38.414Z"
   },
   {
    "duration": 214,
    "start_time": "2023-04-18T09:17:38.424Z"
   },
   {
    "duration": 4,
    "start_time": "2023-04-18T09:17:44.770Z"
   },
   {
    "duration": 389,
    "start_time": "2023-04-18T09:17:45.753Z"
   },
   {
    "duration": 791,
    "start_time": "2023-04-18T09:17:54.818Z"
   },
   {
    "duration": 1432,
    "start_time": "2023-04-18T09:18:00.914Z"
   },
   {
    "duration": 1672,
    "start_time": "2023-04-18T09:18:08.810Z"
   },
   {
    "duration": 2243,
    "start_time": "2023-04-18T09:18:19.163Z"
   },
   {
    "duration": 2837,
    "start_time": "2023-04-18T09:18:27.768Z"
   },
   {
    "duration": 1847,
    "start_time": "2023-04-18T09:18:54.148Z"
   },
   {
    "duration": 61,
    "start_time": "2023-04-18T09:19:07.239Z"
   },
   {
    "duration": 822,
    "start_time": "2023-04-18T09:19:09.019Z"
   },
   {
    "duration": 48,
    "start_time": "2023-04-18T09:19:20.982Z"
   },
   {
    "duration": 5,
    "start_time": "2023-04-18T09:21:20.949Z"
   },
   {
    "duration": 4,
    "start_time": "2023-04-18T09:21:34.781Z"
   },
   {
    "duration": 4,
    "start_time": "2023-04-18T09:21:55.850Z"
   },
   {
    "duration": 5,
    "start_time": "2023-04-18T09:22:25.668Z"
   },
   {
    "duration": 4,
    "start_time": "2023-04-18T09:28:13.029Z"
   },
   {
    "duration": 3,
    "start_time": "2023-04-18T09:33:07.338Z"
   },
   {
    "duration": 154,
    "start_time": "2023-04-18T10:11:15.422Z"
   },
   {
    "duration": 226,
    "start_time": "2023-04-18T10:21:33.618Z"
   },
   {
    "duration": 55,
    "start_time": "2023-04-18T10:26:36.026Z"
   },
   {
    "duration": 25,
    "start_time": "2023-04-18T10:27:28.868Z"
   },
   {
    "duration": 149,
    "start_time": "2023-04-18T10:33:08.729Z"
   },
   {
    "duration": 3,
    "start_time": "2023-04-18T10:33:23.020Z"
   },
   {
    "duration": 167,
    "start_time": "2023-04-18T10:33:24.817Z"
   },
   {
    "duration": 43,
    "start_time": "2023-04-18T10:45:35.114Z"
   },
   {
    "duration": 218,
    "start_time": "2023-04-18T10:45:52.610Z"
   },
   {
    "duration": 5,
    "start_time": "2023-04-18T10:46:05.826Z"
   },
   {
    "duration": 2330,
    "start_time": "2023-04-18T10:51:17.913Z"
   },
   {
    "duration": 1409,
    "start_time": "2023-04-18T10:51:44.526Z"
   },
   {
    "duration": 3,
    "start_time": "2023-04-18T10:51:45.937Z"
   },
   {
    "duration": 856,
    "start_time": "2023-04-18T10:51:45.942Z"
   },
   {
    "duration": 230,
    "start_time": "2023-04-18T10:51:46.799Z"
   },
   {
    "duration": 3,
    "start_time": "2023-04-18T10:51:47.032Z"
   },
   {
    "duration": 469,
    "start_time": "2023-04-18T10:51:47.037Z"
   },
   {
    "duration": 1050,
    "start_time": "2023-04-18T10:51:47.507Z"
   },
   {
    "duration": 187,
    "start_time": "2023-04-18T10:51:48.559Z"
   },
   {
    "duration": 96,
    "start_time": "2023-04-18T10:51:48.748Z"
   },
   {
    "duration": 140,
    "start_time": "2023-04-18T10:51:48.846Z"
   },
   {
    "duration": 5,
    "start_time": "2023-04-18T10:51:48.988Z"
   },
   {
    "duration": 641,
    "start_time": "2023-04-18T10:51:48.995Z"
   },
   {
    "duration": 206,
    "start_time": "2023-04-18T10:51:49.638Z"
   },
   {
    "duration": 292,
    "start_time": "2023-04-18T10:51:49.847Z"
   },
   {
    "duration": 225,
    "start_time": "2023-04-18T10:51:50.141Z"
   },
   {
    "duration": 20,
    "start_time": "2023-04-18T10:51:50.368Z"
   },
   {
    "duration": 185,
    "start_time": "2023-04-18T10:51:50.390Z"
   },
   {
    "duration": 9,
    "start_time": "2023-04-18T10:51:50.577Z"
   },
   {
    "duration": 1491,
    "start_time": "2023-04-18T10:51:50.588Z"
   },
   {
    "duration": 59,
    "start_time": "2023-04-18T10:51:52.081Z"
   },
   {
    "duration": 613,
    "start_time": "2023-04-18T10:51:52.143Z"
   },
   {
    "duration": 59,
    "start_time": "2023-04-18T10:51:52.758Z"
   },
   {
    "duration": 956,
    "start_time": "2023-04-18T10:51:52.819Z"
   },
   {
    "duration": 6,
    "start_time": "2023-04-18T10:51:53.784Z"
   },
   {
    "duration": 46,
    "start_time": "2023-04-18T10:51:53.792Z"
   },
   {
    "duration": 351,
    "start_time": "2023-04-18T10:51:53.840Z"
   },
   {
    "duration": 41,
    "start_time": "2023-04-18T10:51:54.193Z"
   },
   {
    "duration": 5,
    "start_time": "2023-04-18T10:51:54.236Z"
   },
   {
    "duration": 4,
    "start_time": "2023-04-18T10:51:57.120Z"
   },
   {
    "duration": 3,
    "start_time": "2023-04-18T10:51:57.831Z"
   },
   {
    "duration": 16,
    "start_time": "2023-04-18T10:51:58.219Z"
   },
   {
    "duration": 95,
    "start_time": "2023-04-18T10:51:58.618Z"
   },
   {
    "duration": 5,
    "start_time": "2023-04-18T10:52:00.422Z"
   },
   {
    "duration": 1792,
    "start_time": "2023-04-18T10:52:00.644Z"
   },
   {
    "duration": 35,
    "start_time": "2023-04-18T10:52:13.118Z"
   },
   {
    "duration": 4,
    "start_time": "2023-04-18T10:53:21.675Z"
   },
   {
    "duration": 3,
    "start_time": "2023-04-18T10:53:25.870Z"
   },
   {
    "duration": 44,
    "start_time": "2023-04-18T10:53:26.059Z"
   },
   {
    "duration": 116,
    "start_time": "2023-04-18T10:53:30.019Z"
   },
   {
    "duration": 4,
    "start_time": "2023-04-18T10:53:31.011Z"
   },
   {
    "duration": 1665,
    "start_time": "2023-04-18T10:53:31.481Z"
   },
   {
    "duration": 4,
    "start_time": "2023-04-18T10:54:45.663Z"
   },
   {
    "duration": 41,
    "start_time": "2023-04-18T10:54:47.506Z"
   },
   {
    "duration": 47,
    "start_time": "2023-04-18T10:56:30.211Z"
   },
   {
    "duration": 1449,
    "start_time": "2023-04-18T10:57:10.767Z"
   },
   {
    "duration": 3,
    "start_time": "2023-04-18T10:57:12.218Z"
   },
   {
    "duration": 908,
    "start_time": "2023-04-18T10:57:12.222Z"
   },
   {
    "duration": 233,
    "start_time": "2023-04-18T10:57:13.132Z"
   },
   {
    "duration": 4,
    "start_time": "2023-04-18T10:57:13.366Z"
   },
   {
    "duration": 533,
    "start_time": "2023-04-18T10:57:13.371Z"
   },
   {
    "duration": 1106,
    "start_time": "2023-04-18T10:57:13.906Z"
   },
   {
    "duration": 179,
    "start_time": "2023-04-18T10:57:15.014Z"
   },
   {
    "duration": 76,
    "start_time": "2023-04-18T10:57:15.195Z"
   },
   {
    "duration": 127,
    "start_time": "2023-04-18T10:57:15.274Z"
   },
   {
    "duration": 4,
    "start_time": "2023-04-18T10:57:15.403Z"
   },
   {
    "duration": 600,
    "start_time": "2023-04-18T10:57:15.409Z"
   },
   {
    "duration": 206,
    "start_time": "2023-04-18T10:57:16.010Z"
   },
   {
    "duration": 282,
    "start_time": "2023-04-18T10:57:16.218Z"
   },
   {
    "duration": 225,
    "start_time": "2023-04-18T10:57:16.501Z"
   },
   {
    "duration": 6,
    "start_time": "2023-04-18T10:57:16.728Z"
   },
   {
    "duration": 183,
    "start_time": "2023-04-18T10:57:16.736Z"
   },
   {
    "duration": 3,
    "start_time": "2023-04-18T10:57:16.921Z"
   },
   {
    "duration": 1478,
    "start_time": "2023-04-18T10:57:16.926Z"
   },
   {
    "duration": 62,
    "start_time": "2023-04-18T10:57:18.405Z"
   },
   {
    "duration": 509,
    "start_time": "2023-04-18T10:57:18.469Z"
   },
   {
    "duration": 51,
    "start_time": "2023-04-18T10:57:18.984Z"
   },
   {
    "duration": 907,
    "start_time": "2023-04-18T10:57:19.037Z"
   },
   {
    "duration": 6,
    "start_time": "2023-04-18T10:57:19.945Z"
   },
   {
    "duration": 56,
    "start_time": "2023-04-18T10:57:19.952Z"
   },
   {
    "duration": 322,
    "start_time": "2023-04-18T10:57:20.010Z"
   },
   {
    "duration": 32,
    "start_time": "2023-04-18T10:57:20.334Z"
   },
   {
    "duration": 40,
    "start_time": "2023-04-18T10:57:20.368Z"
   },
   {
    "duration": 4,
    "start_time": "2023-04-18T10:57:28.435Z"
   },
   {
    "duration": 29,
    "start_time": "2023-04-18T10:57:28.826Z"
   },
   {
    "duration": 35,
    "start_time": "2023-04-18T10:57:38.445Z"
   },
   {
    "duration": 50,
    "start_time": "2023-04-18T10:57:41.115Z"
   },
   {
    "duration": 102,
    "start_time": "2023-04-18T10:59:23.010Z"
   },
   {
    "duration": 5,
    "start_time": "2023-04-18T10:59:30.260Z"
   },
   {
    "duration": 21,
    "start_time": "2023-04-18T10:59:42.370Z"
   },
   {
    "duration": 19,
    "start_time": "2023-04-18T11:00:02.544Z"
   },
   {
    "duration": 3,
    "start_time": "2023-04-18T11:00:06.339Z"
   },
   {
    "duration": 53,
    "start_time": "2023-04-18T11:00:08.806Z"
   },
   {
    "duration": 1464,
    "start_time": "2023-04-18T11:00:37.177Z"
   },
   {
    "duration": 3,
    "start_time": "2023-04-18T11:00:38.643Z"
   },
   {
    "duration": 883,
    "start_time": "2023-04-18T11:00:38.648Z"
   },
   {
    "duration": 241,
    "start_time": "2023-04-18T11:00:39.534Z"
   },
   {
    "duration": 4,
    "start_time": "2023-04-18T11:00:39.786Z"
   },
   {
    "duration": 479,
    "start_time": "2023-04-18T11:00:39.792Z"
   },
   {
    "duration": 1105,
    "start_time": "2023-04-18T11:00:40.273Z"
   },
   {
    "duration": 205,
    "start_time": "2023-04-18T11:00:41.380Z"
   },
   {
    "duration": 83,
    "start_time": "2023-04-18T11:00:41.587Z"
   },
   {
    "duration": 139,
    "start_time": "2023-04-18T11:00:41.686Z"
   },
   {
    "duration": 5,
    "start_time": "2023-04-18T11:00:41.827Z"
   },
   {
    "duration": 669,
    "start_time": "2023-04-18T11:00:41.834Z"
   },
   {
    "duration": 258,
    "start_time": "2023-04-18T11:00:42.505Z"
   },
   {
    "duration": 297,
    "start_time": "2023-04-18T11:00:42.765Z"
   },
   {
    "duration": 275,
    "start_time": "2023-04-18T11:00:43.064Z"
   },
   {
    "duration": 8,
    "start_time": "2023-04-18T11:00:43.341Z"
   },
   {
    "duration": 228,
    "start_time": "2023-04-18T11:00:43.352Z"
   },
   {
    "duration": 6,
    "start_time": "2023-04-18T11:00:43.582Z"
   },
   {
    "duration": 1795,
    "start_time": "2023-04-18T11:00:43.590Z"
   },
   {
    "duration": 49,
    "start_time": "2023-04-18T11:00:45.387Z"
   },
   {
    "duration": 539,
    "start_time": "2023-04-18T11:00:45.438Z"
   },
   {
    "duration": 47,
    "start_time": "2023-04-18T11:00:45.979Z"
   },
   {
    "duration": 923,
    "start_time": "2023-04-18T11:00:46.028Z"
   },
   {
    "duration": 7,
    "start_time": "2023-04-18T11:00:46.952Z"
   },
   {
    "duration": 58,
    "start_time": "2023-04-18T11:00:46.960Z"
   },
   {
    "duration": 324,
    "start_time": "2023-04-18T11:00:47.020Z"
   },
   {
    "duration": 40,
    "start_time": "2023-04-18T11:00:47.346Z"
   },
   {
    "duration": 3,
    "start_time": "2023-04-18T11:00:47.389Z"
   },
   {
    "duration": 9,
    "start_time": "2023-04-18T11:00:47.394Z"
   },
   {
    "duration": 3,
    "start_time": "2023-04-18T11:00:51.075Z"
   },
   {
    "duration": 4,
    "start_time": "2023-04-18T11:00:51.434Z"
   },
   {
    "duration": 3,
    "start_time": "2023-04-18T11:00:53.324Z"
   },
   {
    "duration": 37,
    "start_time": "2023-04-18T11:00:53.776Z"
   },
   {
    "duration": 1439,
    "start_time": "2023-04-18T11:02:26.417Z"
   },
   {
    "duration": 3,
    "start_time": "2023-04-18T11:02:27.858Z"
   },
   {
    "duration": 961,
    "start_time": "2023-04-18T11:02:27.864Z"
   },
   {
    "duration": 305,
    "start_time": "2023-04-18T11:02:28.829Z"
   },
   {
    "duration": 4,
    "start_time": "2023-04-18T11:02:29.137Z"
   },
   {
    "duration": 545,
    "start_time": "2023-04-18T11:02:29.143Z"
   },
   {
    "duration": 1159,
    "start_time": "2023-04-18T11:02:29.691Z"
   },
   {
    "duration": 205,
    "start_time": "2023-04-18T11:02:30.853Z"
   },
   {
    "duration": 92,
    "start_time": "2023-04-18T11:02:31.059Z"
   },
   {
    "duration": 163,
    "start_time": "2023-04-18T11:02:31.153Z"
   },
   {
    "duration": 30,
    "start_time": "2023-04-18T11:02:31.318Z"
   },
   {
    "duration": 700,
    "start_time": "2023-04-18T11:02:31.350Z"
   },
   {
    "duration": 240,
    "start_time": "2023-04-18T11:02:32.052Z"
   },
   {
    "duration": 332,
    "start_time": "2023-04-18T11:02:32.295Z"
   },
   {
    "duration": 243,
    "start_time": "2023-04-18T11:02:32.630Z"
   },
   {
    "duration": 13,
    "start_time": "2023-04-18T11:02:32.876Z"
   },
   {
    "duration": 199,
    "start_time": "2023-04-18T11:02:32.891Z"
   },
   {
    "duration": 6,
    "start_time": "2023-04-18T11:02:33.093Z"
   },
   {
    "duration": 1794,
    "start_time": "2023-04-18T11:02:33.101Z"
   },
   {
    "duration": 61,
    "start_time": "2023-04-18T11:02:34.896Z"
   },
   {
    "duration": 591,
    "start_time": "2023-04-18T11:02:34.959Z"
   },
   {
    "duration": 66,
    "start_time": "2023-04-18T11:02:35.552Z"
   },
   {
    "duration": 1036,
    "start_time": "2023-04-18T11:02:35.620Z"
   },
   {
    "duration": 7,
    "start_time": "2023-04-18T11:02:36.658Z"
   },
   {
    "duration": 55,
    "start_time": "2023-04-18T11:02:36.667Z"
   },
   {
    "duration": 338,
    "start_time": "2023-04-18T11:02:36.724Z"
   },
   {
    "duration": 43,
    "start_time": "2023-04-18T11:02:37.064Z"
   },
   {
    "duration": 4,
    "start_time": "2023-04-18T11:02:37.109Z"
   },
   {
    "duration": 4,
    "start_time": "2023-04-18T11:02:37.114Z"
   },
   {
    "duration": 29,
    "start_time": "2023-04-18T11:02:37.120Z"
   },
   {
    "duration": 120,
    "start_time": "2023-04-18T11:02:37.151Z"
   },
   {
    "duration": 14,
    "start_time": "2023-04-18T11:02:37.273Z"
   },
   {
    "duration": 1751,
    "start_time": "2023-04-18T11:02:37.290Z"
   },
   {
    "duration": 164,
    "start_time": "2023-04-18T11:14:22.480Z"
   },
   {
    "duration": 28,
    "start_time": "2023-04-18T11:14:43.117Z"
   },
   {
    "duration": 3,
    "start_time": "2023-04-18T11:18:10.208Z"
   },
   {
    "duration": 172,
    "start_time": "2023-04-18T11:18:30.634Z"
   },
   {
    "duration": 1584,
    "start_time": "2023-04-18T11:18:34.248Z"
   },
   {
    "duration": 27,
    "start_time": "2023-04-18T11:18:57.047Z"
   },
   {
    "duration": 6,
    "start_time": "2023-04-18T11:20:59.806Z"
   },
   {
    "duration": 1763,
    "start_time": "2023-04-18T11:21:03.607Z"
   },
   {
    "duration": 1934,
    "start_time": "2023-04-19T08:41:05.214Z"
   },
   {
    "duration": 4,
    "start_time": "2023-04-19T08:41:07.150Z"
   },
   {
    "duration": 1280,
    "start_time": "2023-04-19T08:41:07.156Z"
   },
   {
    "duration": 255,
    "start_time": "2023-04-19T08:41:08.438Z"
   },
   {
    "duration": 4,
    "start_time": "2023-04-19T08:41:08.695Z"
   },
   {
    "duration": 605,
    "start_time": "2023-04-19T08:41:08.701Z"
   },
   {
    "duration": 1243,
    "start_time": "2023-04-19T08:41:09.307Z"
   },
   {
    "duration": 175,
    "start_time": "2023-04-19T08:41:10.552Z"
   },
   {
    "duration": 85,
    "start_time": "2023-04-19T08:41:10.728Z"
   },
   {
    "duration": 137,
    "start_time": "2023-04-19T08:41:10.816Z"
   },
   {
    "duration": 5,
    "start_time": "2023-04-19T08:41:10.955Z"
   },
   {
    "duration": 765,
    "start_time": "2023-04-19T08:41:10.962Z"
   },
   {
    "duration": 228,
    "start_time": "2023-04-19T08:41:11.730Z"
   },
   {
    "duration": 328,
    "start_time": "2023-04-19T08:41:11.961Z"
   },
   {
    "duration": 267,
    "start_time": "2023-04-19T08:41:12.291Z"
   },
   {
    "duration": 9,
    "start_time": "2023-04-19T08:41:12.560Z"
   },
   {
    "duration": 225,
    "start_time": "2023-04-19T08:41:12.572Z"
   },
   {
    "duration": 5,
    "start_time": "2023-04-19T08:41:12.799Z"
   },
   {
    "duration": 1805,
    "start_time": "2023-04-19T08:41:12.806Z"
   },
   {
    "duration": 79,
    "start_time": "2023-04-19T08:41:14.613Z"
   },
   {
    "duration": 603,
    "start_time": "2023-04-19T08:41:14.697Z"
   },
   {
    "duration": 66,
    "start_time": "2023-04-19T08:41:15.302Z"
   },
   {
    "duration": 1186,
    "start_time": "2023-04-19T08:41:15.370Z"
   },
   {
    "duration": 8,
    "start_time": "2023-04-19T08:41:16.558Z"
   },
   {
    "duration": 73,
    "start_time": "2023-04-19T08:41:16.568Z"
   },
   {
    "duration": 394,
    "start_time": "2023-04-19T08:41:16.643Z"
   },
   {
    "duration": 39,
    "start_time": "2023-04-19T08:41:17.042Z"
   },
   {
    "duration": 3,
    "start_time": "2023-04-19T08:41:17.086Z"
   },
   {
    "duration": 23,
    "start_time": "2023-04-19T08:41:17.091Z"
   },
   {
    "duration": 39,
    "start_time": "2023-04-19T08:41:17.116Z"
   },
   {
    "duration": 2,
    "start_time": "2023-04-19T08:41:17.158Z"
   },
   {
    "duration": 197,
    "start_time": "2023-04-19T08:41:17.163Z"
   },
   {
    "duration": 33,
    "start_time": "2023-04-19T08:41:17.363Z"
   },
   {
    "duration": 123,
    "start_time": "2023-04-19T08:41:17.399Z"
   },
   {
    "duration": 3,
    "start_time": "2023-04-19T08:41:17.524Z"
   },
   {
    "duration": 148,
    "start_time": "2023-04-19T08:41:17.530Z"
   },
   {
    "duration": 0,
    "start_time": "2023-04-19T08:41:17.680Z"
   },
   {
    "duration": 6,
    "start_time": "2023-04-19T08:41:41.811Z"
   },
   {
    "duration": 6513,
    "start_time": "2023-04-19T08:41:47.916Z"
   },
   {
    "duration": 12,
    "start_time": "2023-04-19T08:45:02.311Z"
   },
   {
    "duration": 11,
    "start_time": "2023-04-19T08:45:24.880Z"
   },
   {
    "duration": 4,
    "start_time": "2023-04-19T08:45:27.311Z"
   },
   {
    "duration": 695,
    "start_time": "2023-04-19T08:45:55.820Z"
   },
   {
    "duration": 1726,
    "start_time": "2023-04-19T09:25:05.963Z"
   },
   {
    "duration": 5,
    "start_time": "2023-04-19T09:25:07.691Z"
   },
   {
    "duration": 1047,
    "start_time": "2023-04-19T09:25:07.698Z"
   },
   {
    "duration": 248,
    "start_time": "2023-04-19T09:25:08.746Z"
   },
   {
    "duration": 4,
    "start_time": "2023-04-19T09:25:08.997Z"
   },
   {
    "duration": 653,
    "start_time": "2023-04-19T09:25:09.002Z"
   },
   {
    "duration": 1186,
    "start_time": "2023-04-19T09:25:09.658Z"
   },
   {
    "duration": 196,
    "start_time": "2023-04-19T09:25:10.846Z"
   },
   {
    "duration": 98,
    "start_time": "2023-04-19T09:25:11.045Z"
   },
   {
    "duration": 183,
    "start_time": "2023-04-19T09:25:11.145Z"
   },
   {
    "duration": 5,
    "start_time": "2023-04-19T09:25:11.341Z"
   },
   {
    "duration": 803,
    "start_time": "2023-04-19T09:25:11.348Z"
   },
   {
    "duration": 235,
    "start_time": "2023-04-19T09:25:12.154Z"
   },
   {
    "duration": 356,
    "start_time": "2023-04-19T09:25:12.393Z"
   },
   {
    "duration": 280,
    "start_time": "2023-04-19T09:25:12.751Z"
   },
   {
    "duration": 12,
    "start_time": "2023-04-19T09:25:13.033Z"
   },
   {
    "duration": 214,
    "start_time": "2023-04-19T09:25:13.047Z"
   },
   {
    "duration": 5,
    "start_time": "2023-04-19T09:25:13.263Z"
   },
   {
    "duration": 1710,
    "start_time": "2023-04-19T09:25:13.270Z"
   },
   {
    "duration": 78,
    "start_time": "2023-04-19T09:25:14.982Z"
   },
   {
    "duration": 668,
    "start_time": "2023-04-19T09:25:15.062Z"
   },
   {
    "duration": 75,
    "start_time": "2023-04-19T09:25:15.733Z"
   },
   {
    "duration": 1258,
    "start_time": "2023-04-19T09:25:15.810Z"
   },
   {
    "duration": 8,
    "start_time": "2023-04-19T09:25:17.070Z"
   },
   {
    "duration": 83,
    "start_time": "2023-04-19T09:25:17.080Z"
   },
   {
    "duration": 397,
    "start_time": "2023-04-19T09:25:17.165Z"
   },
   {
    "duration": 44,
    "start_time": "2023-04-19T09:25:17.565Z"
   },
   {
    "duration": 4,
    "start_time": "2023-04-19T09:25:17.611Z"
   },
   {
    "duration": 25,
    "start_time": "2023-04-19T09:25:17.618Z"
   },
   {
    "duration": 10,
    "start_time": "2023-04-19T09:25:17.645Z"
   },
   {
    "duration": 184,
    "start_time": "2023-04-19T09:25:17.657Z"
   },
   {
    "duration": 7,
    "start_time": "2023-04-19T09:25:17.844Z"
   },
   {
    "duration": 83,
    "start_time": "2023-04-19T09:25:17.854Z"
   },
   {
    "duration": 24,
    "start_time": "2023-04-19T09:25:17.939Z"
   },
   {
    "duration": 572,
    "start_time": "2023-04-19T09:25:17.965Z"
   },
   {
    "duration": 0,
    "start_time": "2023-04-19T09:25:18.541Z"
   },
   {
    "duration": 0,
    "start_time": "2023-04-19T09:25:18.542Z"
   },
   {
    "duration": 0,
    "start_time": "2023-04-19T09:25:18.544Z"
   },
   {
    "duration": 68,
    "start_time": "2023-04-19T09:26:03.248Z"
   },
   {
    "duration": 168,
    "start_time": "2023-04-19T09:43:10.526Z"
   },
   {
    "duration": 11,
    "start_time": "2023-04-19T09:43:28.252Z"
   },
   {
    "duration": 1628,
    "start_time": "2023-04-19T09:43:44.320Z"
   },
   {
    "duration": 4,
    "start_time": "2023-04-19T09:43:45.951Z"
   },
   {
    "duration": 1181,
    "start_time": "2023-04-19T09:43:45.957Z"
   },
   {
    "duration": 271,
    "start_time": "2023-04-19T09:43:47.141Z"
   },
   {
    "duration": 4,
    "start_time": "2023-04-19T09:43:47.414Z"
   },
   {
    "duration": 612,
    "start_time": "2023-04-19T09:43:47.420Z"
   },
   {
    "duration": 1254,
    "start_time": "2023-04-19T09:43:48.035Z"
   },
   {
    "duration": 199,
    "start_time": "2023-04-19T09:43:49.291Z"
   },
   {
    "duration": 96,
    "start_time": "2023-04-19T09:43:49.492Z"
   },
   {
    "duration": 130,
    "start_time": "2023-04-19T09:43:49.591Z"
   },
   {
    "duration": 5,
    "start_time": "2023-04-19T09:43:49.723Z"
   },
   {
    "duration": 762,
    "start_time": "2023-04-19T09:43:49.741Z"
   },
   {
    "duration": 295,
    "start_time": "2023-04-19T09:43:50.506Z"
   },
   {
    "duration": 340,
    "start_time": "2023-04-19T09:43:50.804Z"
   },
   {
    "duration": 258,
    "start_time": "2023-04-19T09:43:51.145Z"
   },
   {
    "duration": 7,
    "start_time": "2023-04-19T09:43:51.405Z"
   },
   {
    "duration": 202,
    "start_time": "2023-04-19T09:43:51.414Z"
   },
   {
    "duration": 6,
    "start_time": "2023-04-19T09:43:51.618Z"
   },
   {
    "duration": 1804,
    "start_time": "2023-04-19T09:43:51.641Z"
   },
   {
    "duration": 67,
    "start_time": "2023-04-19T09:43:53.448Z"
   },
   {
    "duration": 604,
    "start_time": "2023-04-19T09:43:53.517Z"
   },
   {
    "duration": 66,
    "start_time": "2023-04-19T09:43:54.123Z"
   },
   {
    "duration": 1101,
    "start_time": "2023-04-19T09:43:54.191Z"
   },
   {
    "duration": 7,
    "start_time": "2023-04-19T09:43:55.294Z"
   },
   {
    "duration": 69,
    "start_time": "2023-04-19T09:43:55.303Z"
   },
   {
    "duration": 374,
    "start_time": "2023-04-19T09:43:55.374Z"
   },
   {
    "duration": 38,
    "start_time": "2023-04-19T09:43:55.750Z"
   },
   {
    "duration": 3,
    "start_time": "2023-04-19T09:43:55.792Z"
   },
   {
    "duration": 6,
    "start_time": "2023-04-19T09:43:55.798Z"
   },
   {
    "duration": 13,
    "start_time": "2023-04-19T09:43:55.806Z"
   },
   {
    "duration": 196,
    "start_time": "2023-04-19T09:43:55.842Z"
   },
   {
    "duration": 9,
    "start_time": "2023-04-19T09:43:56.041Z"
   },
   {
    "duration": 46,
    "start_time": "2023-04-19T09:43:56.052Z"
   },
   {
    "duration": 262,
    "start_time": "2023-04-19T09:43:56.100Z"
   },
   {
    "duration": 52,
    "start_time": "2023-04-19T09:43:56.364Z"
   },
   {
    "duration": 3,
    "start_time": "2023-04-19T09:43:56.418Z"
   },
   {
    "duration": 5,
    "start_time": "2023-04-19T09:43:56.441Z"
   },
   {
    "duration": 4,
    "start_time": "2023-04-19T10:01:14.235Z"
   },
   {
    "duration": 3,
    "start_time": "2023-04-19T10:03:28.983Z"
   },
   {
    "duration": 128,
    "start_time": "2023-04-19T10:10:34.926Z"
   },
   {
    "duration": 202,
    "start_time": "2023-04-19T10:11:01.776Z"
   },
   {
    "duration": 4,
    "start_time": "2023-04-19T10:11:30.029Z"
   },
   {
    "duration": 4,
    "start_time": "2023-04-19T10:11:33.564Z"
   },
   {
    "duration": 121,
    "start_time": "2023-04-19T10:13:30.657Z"
   },
   {
    "duration": 229,
    "start_time": "2023-04-19T10:13:39.100Z"
   },
   {
    "duration": 102,
    "start_time": "2023-04-19T10:13:48.504Z"
   },
   {
    "duration": 5,
    "start_time": "2023-04-19T10:23:31.400Z"
   },
   {
    "duration": 108,
    "start_time": "2023-04-19T10:23:33.032Z"
   },
   {
    "duration": 5,
    "start_time": "2023-04-19T10:23:44.016Z"
   },
   {
    "duration": 4053,
    "start_time": "2023-04-19T10:23:45.659Z"
   },
   {
    "duration": 4,
    "start_time": "2023-04-19T10:28:34.404Z"
   },
   {
    "duration": 9307,
    "start_time": "2023-04-19T10:28:35.830Z"
   },
   {
    "duration": 159,
    "start_time": "2023-04-19T10:33:08.937Z"
   },
   {
    "duration": 419,
    "start_time": "2023-04-19T10:35:11.544Z"
   },
   {
    "duration": 1639,
    "start_time": "2023-04-19T10:35:26.269Z"
   },
   {
    "duration": 3,
    "start_time": "2023-04-19T10:35:27.910Z"
   },
   {
    "duration": 1051,
    "start_time": "2023-04-19T10:35:27.915Z"
   },
   {
    "duration": 306,
    "start_time": "2023-04-19T10:35:28.969Z"
   },
   {
    "duration": 3,
    "start_time": "2023-04-19T10:35:29.277Z"
   },
   {
    "duration": 598,
    "start_time": "2023-04-19T10:35:29.282Z"
   },
   {
    "duration": 1295,
    "start_time": "2023-04-19T10:35:29.883Z"
   },
   {
    "duration": 184,
    "start_time": "2023-04-19T10:35:31.180Z"
   },
   {
    "duration": 91,
    "start_time": "2023-04-19T10:35:31.366Z"
   },
   {
    "duration": 132,
    "start_time": "2023-04-19T10:35:31.461Z"
   },
   {
    "duration": 71,
    "start_time": "2023-04-19T10:35:31.595Z"
   },
   {
    "duration": 727,
    "start_time": "2023-04-19T10:35:31.668Z"
   },
   {
    "duration": 219,
    "start_time": "2023-04-19T10:35:32.397Z"
   },
   {
    "duration": 337,
    "start_time": "2023-04-19T10:35:32.618Z"
   },
   {
    "duration": 261,
    "start_time": "2023-04-19T10:35:32.957Z"
   },
   {
    "duration": 9,
    "start_time": "2023-04-19T10:35:33.221Z"
   },
   {
    "duration": 213,
    "start_time": "2023-04-19T10:35:33.232Z"
   },
   {
    "duration": 5,
    "start_time": "2023-04-19T10:35:33.447Z"
   },
   {
    "duration": 1777,
    "start_time": "2023-04-19T10:35:33.454Z"
   },
   {
    "duration": 72,
    "start_time": "2023-04-19T10:35:35.233Z"
   },
   {
    "duration": 574,
    "start_time": "2023-04-19T10:35:35.306Z"
   },
   {
    "duration": 79,
    "start_time": "2023-04-19T10:35:35.882Z"
   },
   {
    "duration": 1227,
    "start_time": "2023-04-19T10:35:35.971Z"
   },
   {
    "duration": 8,
    "start_time": "2023-04-19T10:35:37.200Z"
   },
   {
    "duration": 73,
    "start_time": "2023-04-19T10:35:37.210Z"
   },
   {
    "duration": 414,
    "start_time": "2023-04-19T10:35:37.285Z"
   },
   {
    "duration": 51,
    "start_time": "2023-04-19T10:35:37.701Z"
   },
   {
    "duration": 4,
    "start_time": "2023-04-19T10:35:37.756Z"
   },
   {
    "duration": 29,
    "start_time": "2023-04-19T10:35:37.762Z"
   },
   {
    "duration": 15,
    "start_time": "2023-04-19T10:35:37.793Z"
   },
   {
    "duration": 185,
    "start_time": "2023-04-19T10:35:37.810Z"
   },
   {
    "duration": 8,
    "start_time": "2023-04-19T10:35:37.996Z"
   },
   {
    "duration": 37,
    "start_time": "2023-04-19T10:35:38.006Z"
   },
   {
    "duration": 52,
    "start_time": "2023-04-19T10:35:38.045Z"
   },
   {
    "duration": 176,
    "start_time": "2023-04-19T10:35:38.099Z"
   },
   {
    "duration": 2,
    "start_time": "2023-04-19T10:35:38.277Z"
   },
   {
    "duration": 10,
    "start_time": "2023-04-19T10:35:38.281Z"
   },
   {
    "duration": 17,
    "start_time": "2023-04-19T10:35:38.293Z"
   },
   {
    "duration": 224,
    "start_time": "2023-04-19T10:35:38.312Z"
   },
   {
    "duration": 101,
    "start_time": "2023-04-19T10:36:46.475Z"
   },
   {
    "duration": 5,
    "start_time": "2023-04-19T10:38:09.169Z"
   },
   {
    "duration": 94,
    "start_time": "2023-04-19T10:38:10.454Z"
   },
   {
    "duration": 1623,
    "start_time": "2023-04-19T10:39:01.021Z"
   },
   {
    "duration": 3,
    "start_time": "2023-04-19T10:39:02.646Z"
   },
   {
    "duration": 1041,
    "start_time": "2023-04-19T10:39:02.651Z"
   },
   {
    "duration": 265,
    "start_time": "2023-04-19T10:39:03.695Z"
   },
   {
    "duration": 4,
    "start_time": "2023-04-19T10:39:03.963Z"
   },
   {
    "duration": 565,
    "start_time": "2023-04-19T10:39:03.970Z"
   },
   {
    "duration": 1204,
    "start_time": "2023-04-19T10:39:04.537Z"
   },
   {
    "duration": 181,
    "start_time": "2023-04-19T10:39:05.743Z"
   },
   {
    "duration": 83,
    "start_time": "2023-04-19T10:39:05.926Z"
   },
   {
    "duration": 132,
    "start_time": "2023-04-19T10:39:06.012Z"
   },
   {
    "duration": 18,
    "start_time": "2023-04-19T10:39:06.146Z"
   },
   {
    "duration": 785,
    "start_time": "2023-04-19T10:39:06.166Z"
   },
   {
    "duration": 224,
    "start_time": "2023-04-19T10:39:06.954Z"
   },
   {
    "duration": 329,
    "start_time": "2023-04-19T10:39:07.180Z"
   },
   {
    "duration": 251,
    "start_time": "2023-04-19T10:39:07.511Z"
   },
   {
    "duration": 9,
    "start_time": "2023-04-19T10:39:07.765Z"
   },
   {
    "duration": 203,
    "start_time": "2023-04-19T10:39:07.776Z"
   },
   {
    "duration": 4,
    "start_time": "2023-04-19T10:39:07.982Z"
   },
   {
    "duration": 1701,
    "start_time": "2023-04-19T10:39:07.988Z"
   },
   {
    "duration": 78,
    "start_time": "2023-04-19T10:39:09.691Z"
   },
   {
    "duration": 592,
    "start_time": "2023-04-19T10:39:09.771Z"
   },
   {
    "duration": 59,
    "start_time": "2023-04-19T10:39:10.365Z"
   },
   {
    "duration": 1155,
    "start_time": "2023-04-19T10:39:10.426Z"
   },
   {
    "duration": 7,
    "start_time": "2023-04-19T10:39:11.584Z"
   },
   {
    "duration": 65,
    "start_time": "2023-04-19T10:39:11.593Z"
   },
   {
    "duration": 372,
    "start_time": "2023-04-19T10:39:11.660Z"
   },
   {
    "duration": 41,
    "start_time": "2023-04-19T10:39:12.034Z"
   },
   {
    "duration": 4,
    "start_time": "2023-04-19T10:39:12.079Z"
   },
   {
    "duration": 21,
    "start_time": "2023-04-19T10:39:12.085Z"
   },
   {
    "duration": 21,
    "start_time": "2023-04-19T10:39:12.108Z"
   },
   {
    "duration": 19,
    "start_time": "2023-04-19T10:39:12.131Z"
   },
   {
    "duration": 33,
    "start_time": "2023-04-19T10:39:12.152Z"
   },
   {
    "duration": 107,
    "start_time": "2023-04-19T10:39:12.187Z"
   },
   {
    "duration": 111,
    "start_time": "2023-04-19T10:39:12.296Z"
   },
   {
    "duration": 384,
    "start_time": "2023-04-19T10:39:12.409Z"
   },
   {
    "duration": 3,
    "start_time": "2023-04-19T10:39:12.795Z"
   },
   {
    "duration": 31,
    "start_time": "2023-04-19T10:39:12.800Z"
   },
   {
    "duration": 13,
    "start_time": "2023-04-19T10:39:12.833Z"
   },
   {
    "duration": 207,
    "start_time": "2023-04-19T10:39:12.848Z"
   },
   {
    "duration": 1392,
    "start_time": "2023-04-19T11:13:10.979Z"
   },
   {
    "duration": 179,
    "start_time": "2023-04-19T11:13:41.679Z"
   },
   {
    "duration": 1101990,
    "start_time": "2023-04-19T11:14:03.268Z"
   },
   {
    "duration": 176,
    "start_time": "2023-04-19T11:32:51.021Z"
   },
   {
    "duration": 5,
    "start_time": "2023-04-19T11:32:59.757Z"
   },
   {
    "duration": 5,
    "start_time": "2023-04-19T11:33:01.195Z"
   },
   {
    "duration": 38144,
    "start_time": "2023-04-19T11:33:01.621Z"
   },
   {
    "duration": 3618,
    "start_time": "2023-04-19T11:33:40.448Z"
   },
   {
    "duration": 5,
    "start_time": "2023-04-19T11:34:01.639Z"
   },
   {
    "duration": 728891,
    "start_time": "2023-04-19T11:34:01.874Z"
   },
   {
    "duration": 7,
    "start_time": "2023-04-19T11:46:17.207Z"
   },
   {
    "duration": 10802,
    "start_time": "2023-04-19T11:46:18.857Z"
   },
   {
    "duration": 4,
    "start_time": "2023-04-19T11:47:09.978Z"
   },
   {
    "duration": 77778,
    "start_time": "2023-04-19T11:47:11.079Z"
   },
   {
    "duration": 6,
    "start_time": "2023-04-19T11:48:29.601Z"
   },
   {
    "duration": 3436,
    "start_time": "2023-04-19T11:48:30.675Z"
   },
   {
    "duration": 4,
    "start_time": "2023-04-19T11:50:08.595Z"
   },
   {
    "duration": 4287,
    "start_time": "2023-04-19T11:50:09.827Z"
   },
   {
    "duration": 4,
    "start_time": "2023-04-19T11:51:53.382Z"
   },
   {
    "duration": 4128,
    "start_time": "2023-04-19T11:51:54.679Z"
   },
   {
    "duration": 4,
    "start_time": "2023-04-19T11:53:34.809Z"
   },
   {
    "duration": 262318,
    "start_time": "2023-04-19T11:53:35.878Z"
   },
   {
    "duration": 4,
    "start_time": "2023-04-19T11:57:58.199Z"
   },
   {
    "duration": 375192,
    "start_time": "2023-04-19T11:59:15.863Z"
   },
   {
    "duration": 2081,
    "start_time": "2023-04-19T12:05:37.158Z"
   },
   {
    "duration": 4,
    "start_time": "2023-04-19T12:05:39.243Z"
   },
   {
    "duration": 1307,
    "start_time": "2023-04-19T12:05:39.249Z"
   },
   {
    "duration": 283,
    "start_time": "2023-04-19T12:05:40.558Z"
   },
   {
    "duration": 4,
    "start_time": "2023-04-19T12:05:40.850Z"
   },
   {
    "duration": 616,
    "start_time": "2023-04-19T12:05:40.859Z"
   },
   {
    "duration": 1402,
    "start_time": "2023-04-19T12:05:41.477Z"
   },
   {
    "duration": 201,
    "start_time": "2023-04-19T12:05:42.882Z"
   },
   {
    "duration": 98,
    "start_time": "2023-04-19T12:05:43.085Z"
   },
   {
    "duration": 140,
    "start_time": "2023-04-19T12:05:43.185Z"
   },
   {
    "duration": 12,
    "start_time": "2023-04-19T12:05:43.346Z"
   },
   {
    "duration": 804,
    "start_time": "2023-04-19T12:05:43.363Z"
   },
   {
    "duration": 236,
    "start_time": "2023-04-19T12:05:44.170Z"
   },
   {
    "duration": 365,
    "start_time": "2023-04-19T12:05:44.411Z"
   },
   {
    "duration": 279,
    "start_time": "2023-04-19T12:05:44.778Z"
   },
   {
    "duration": 9,
    "start_time": "2023-04-19T12:05:45.060Z"
   },
   {
    "duration": 248,
    "start_time": "2023-04-19T12:05:45.071Z"
   },
   {
    "duration": 5,
    "start_time": "2023-04-19T12:05:45.321Z"
   },
   {
    "duration": 1869,
    "start_time": "2023-04-19T12:05:45.328Z"
   },
   {
    "duration": 85,
    "start_time": "2023-04-19T12:05:47.199Z"
   },
   {
    "duration": 598,
    "start_time": "2023-04-19T12:05:47.286Z"
   },
   {
    "duration": 77,
    "start_time": "2023-04-19T12:05:47.886Z"
   },
   {
    "duration": 1134,
    "start_time": "2023-04-19T12:05:47.965Z"
   },
   {
    "duration": 7,
    "start_time": "2023-04-19T12:05:49.101Z"
   },
   {
    "duration": 69,
    "start_time": "2023-04-19T12:05:49.110Z"
   },
   {
    "duration": 399,
    "start_time": "2023-04-19T12:05:49.181Z"
   },
   {
    "duration": 40,
    "start_time": "2023-04-19T12:05:49.581Z"
   },
   {
    "duration": 5,
    "start_time": "2023-04-19T12:05:49.640Z"
   },
   {
    "duration": 29,
    "start_time": "2023-04-19T12:05:49.647Z"
   },
   {
    "duration": 19,
    "start_time": "2023-04-19T12:05:49.678Z"
   },
   {
    "duration": 8,
    "start_time": "2023-04-19T12:05:49.699Z"
   },
   {
    "duration": 45,
    "start_time": "2023-04-19T12:05:49.709Z"
   },
   {
    "duration": 88,
    "start_time": "2023-04-19T12:05:49.756Z"
   },
   {
    "duration": 111,
    "start_time": "2023-04-19T12:05:49.846Z"
   },
   {
    "duration": 383,
    "start_time": "2023-04-19T12:05:49.960Z"
   },
   {
    "duration": 9,
    "start_time": "2023-04-19T12:05:50.349Z"
   },
   {
    "duration": 10,
    "start_time": "2023-04-19T12:05:50.360Z"
   },
   {
    "duration": 7,
    "start_time": "2023-04-19T12:05:50.372Z"
   },
   {
    "duration": 110547,
    "start_time": "2023-04-19T12:05:50.381Z"
   },
   {
    "duration": 3,
    "start_time": "2023-04-19T12:07:47.359Z"
   },
   {
    "duration": 4,
    "start_time": "2023-04-19T12:07:53.979Z"
   },
   {
    "duration": 4,
    "start_time": "2023-04-19T12:07:54.697Z"
   },
   {
    "duration": 200149,
    "start_time": "2023-04-19T12:07:54.989Z"
   },
   {
    "duration": 4,
    "start_time": "2023-04-19T12:12:39.881Z"
   },
   {
    "duration": 196217,
    "start_time": "2023-04-19T12:12:41.060Z"
   },
   {
    "duration": 20,
    "start_time": "2023-04-19T12:15:57.279Z"
   },
   {
    "duration": 12,
    "start_time": "2023-04-19T12:17:25.087Z"
   },
   {
    "duration": 5,
    "start_time": "2023-04-19T12:17:35.260Z"
   },
   {
    "duration": 107,
    "start_time": "2023-04-19T12:21:59.800Z"
   },
   {
    "duration": 7,
    "start_time": "2023-04-19T12:22:06.995Z"
   },
   {
    "duration": 896290,
    "start_time": "2023-04-19T12:22:08.767Z"
   },
   {
    "duration": 11,
    "start_time": "2023-04-19T12:37:12.189Z"
   },
   {
    "duration": 5,
    "start_time": "2023-04-19T12:37:58.176Z"
   },
   {
    "duration": 232,
    "start_time": "2023-04-19T12:38:02.680Z"
   },
   {
    "duration": 7,
    "start_time": "2023-04-19T12:39:19.274Z"
   },
   {
    "duration": 4,
    "start_time": "2023-04-19T12:39:24.083Z"
   },
   {
    "duration": 103,
    "start_time": "2023-04-19T12:39:25.204Z"
   },
   {
    "duration": 6,
    "start_time": "2023-04-19T12:43:59.679Z"
   },
   {
    "duration": 9,
    "start_time": "2023-04-19T12:44:00.881Z"
   },
   {
    "duration": 613208,
    "start_time": "2023-04-19T12:44:01.174Z"
   },
   {
    "duration": 3,
    "start_time": "2023-04-19T12:59:41.630Z"
   },
   {
    "duration": 5,
    "start_time": "2023-04-19T12:59:56.171Z"
   },
   {
    "duration": 5,
    "start_time": "2023-04-19T13:00:08.021Z"
   },
   {
    "duration": 3,
    "start_time": "2023-04-19T13:01:44.675Z"
   },
   {
    "duration": 5,
    "start_time": "2023-04-19T13:01:52.967Z"
   },
   {
    "duration": 5,
    "start_time": "2023-04-19T13:01:55.667Z"
   },
   {
    "duration": 8,
    "start_time": "2023-04-19T13:01:57.361Z"
   },
   {
    "duration": 4,
    "start_time": "2023-04-19T13:02:09.472Z"
   },
   {
    "duration": 10,
    "start_time": "2023-04-19T13:02:28.361Z"
   },
   {
    "duration": 6,
    "start_time": "2023-04-19T13:19:47.275Z"
   },
   {
    "duration": 5,
    "start_time": "2023-04-19T13:19:52.687Z"
   },
   {
    "duration": 551390,
    "start_time": "2023-04-19T13:20:07.774Z"
   },
   {
    "duration": 5,
    "start_time": "2023-04-19T13:35:47.535Z"
   },
   {
    "duration": 9,
    "start_time": "2023-04-19T13:37:27.603Z"
   },
   {
    "duration": 399206,
    "start_time": "2023-04-19T13:37:31.101Z"
   },
   {
    "duration": 60,
    "start_time": "2023-04-19T16:41:16.904Z"
   },
   {
    "duration": 7,
    "start_time": "2023-04-19T16:48:00.482Z"
   },
   {
    "duration": 130,
    "start_time": "2023-04-19T16:48:21.047Z"
   },
   {
    "duration": 4,
    "start_time": "2023-04-19T16:49:49.365Z"
   },
   {
    "duration": 98,
    "start_time": "2023-04-19T16:49:51.777Z"
   },
   {
    "duration": 4,
    "start_time": "2023-04-19T16:57:04.404Z"
   },
   {
    "duration": 151,
    "start_time": "2023-04-19T16:57:06.682Z"
   },
   {
    "duration": 58,
    "start_time": "2023-04-19T17:39:28.797Z"
   },
   {
    "duration": 191,
    "start_time": "2023-04-19T17:40:23.138Z"
   },
   {
    "duration": 10,
    "start_time": "2023-04-19T17:40:25.982Z"
   },
   {
    "duration": 90,
    "start_time": "2023-04-19T17:40:31.784Z"
   },
   {
    "duration": 59,
    "start_time": "2023-04-19T17:40:33.001Z"
   },
   {
    "duration": 28,
    "start_time": "2023-04-19T17:40:36.906Z"
   },
   {
    "duration": 96,
    "start_time": "2023-04-19T17:40:41.911Z"
   },
   {
    "duration": 78,
    "start_time": "2023-04-19T17:40:43.766Z"
   },
   {
    "duration": 157,
    "start_time": "2023-04-19T17:42:16.137Z"
   },
   {
    "duration": 172,
    "start_time": "2023-04-19T17:42:32.735Z"
   },
   {
    "duration": 135,
    "start_time": "2023-04-19T17:42:43.006Z"
   },
   {
    "duration": 5,
    "start_time": "2023-04-19T17:43:01.845Z"
   },
   {
    "duration": 421754,
    "start_time": "2023-04-19T17:43:03.399Z"
   },
   {
    "duration": 18,
    "start_time": "2023-04-19T17:55:49.544Z"
   },
   {
    "duration": 12,
    "start_time": "2023-04-19T17:56:20.954Z"
   },
   {
    "duration": 11,
    "start_time": "2023-04-19T17:57:28.969Z"
   },
   {
    "duration": 13,
    "start_time": "2023-04-19T18:01:14.841Z"
   },
   {
    "duration": 5,
    "start_time": "2023-04-19T18:01:30.517Z"
   },
   {
    "duration": 11782,
    "start_time": "2023-04-19T18:01:51.895Z"
   },
   {
    "duration": 36653,
    "start_time": "2023-04-19T18:02:15.007Z"
   },
   {
    "duration": 5,
    "start_time": "2023-04-19T18:02:56.280Z"
   },
   {
    "duration": 752126,
    "start_time": "2023-04-19T18:02:57.823Z"
   },
   {
    "duration": 5,
    "start_time": "2023-04-19T18:20:41.177Z"
   },
   {
    "duration": 31672,
    "start_time": "2023-04-19T18:20:42.476Z"
   },
   {
    "duration": 4,
    "start_time": "2023-04-19T18:24:30.538Z"
   },
   {
    "duration": 160138,
    "start_time": "2023-04-19T18:24:32.404Z"
   },
   {
    "duration": 81,
    "start_time": "2023-04-19T18:27:54.098Z"
   },
   {
    "duration": 103,
    "start_time": "2023-04-19T18:27:57.460Z"
   },
   {
    "duration": 77,
    "start_time": "2023-04-19T18:29:17.521Z"
   },
   {
    "duration": 83,
    "start_time": "2023-04-19T18:29:57.309Z"
   },
   {
    "duration": 5,
    "start_time": "2023-04-19T18:30:20.205Z"
   },
   {
    "duration": 6,
    "start_time": "2023-04-19T18:31:15.210Z"
   },
   {
    "duration": 4695,
    "start_time": "2023-04-19T18:31:16.835Z"
   },
   {
    "duration": 28,
    "start_time": "2023-04-19T18:32:01.784Z"
   },
   {
    "duration": 10,
    "start_time": "2023-04-19T18:32:09.802Z"
   },
   {
    "duration": 27,
    "start_time": "2023-04-19T18:32:11.602Z"
   },
   {
    "duration": 1613,
    "start_time": "2023-04-19T18:32:21.183Z"
   },
   {
    "duration": 4,
    "start_time": "2023-04-19T18:32:22.798Z"
   },
   {
    "duration": 1313,
    "start_time": "2023-04-19T18:32:22.804Z"
   },
   {
    "duration": 259,
    "start_time": "2023-04-19T18:32:24.120Z"
   },
   {
    "duration": 5,
    "start_time": "2023-04-19T18:32:24.380Z"
   },
   {
    "duration": 591,
    "start_time": "2023-04-19T18:32:24.387Z"
   },
   {
    "duration": 1292,
    "start_time": "2023-04-19T18:32:24.980Z"
   },
   {
    "duration": 193,
    "start_time": "2023-04-19T18:32:26.274Z"
   },
   {
    "duration": 96,
    "start_time": "2023-04-19T18:32:26.470Z"
   },
   {
    "duration": 147,
    "start_time": "2023-04-19T18:32:26.569Z"
   },
   {
    "duration": 9,
    "start_time": "2023-04-19T18:32:26.718Z"
   },
   {
    "duration": 710,
    "start_time": "2023-04-19T18:32:26.741Z"
   },
   {
    "duration": 222,
    "start_time": "2023-04-19T18:32:27.453Z"
   },
   {
    "duration": 317,
    "start_time": "2023-04-19T18:32:27.677Z"
   },
   {
    "duration": 249,
    "start_time": "2023-04-19T18:32:27.996Z"
   },
   {
    "duration": 9,
    "start_time": "2023-04-19T18:32:28.247Z"
   },
   {
    "duration": 190,
    "start_time": "2023-04-19T18:32:28.257Z"
   },
   {
    "duration": 5,
    "start_time": "2023-04-19T18:32:28.449Z"
   },
   {
    "duration": 1629,
    "start_time": "2023-04-19T18:32:28.456Z"
   },
   {
    "duration": 81,
    "start_time": "2023-04-19T18:32:30.087Z"
   },
   {
    "duration": 586,
    "start_time": "2023-04-19T18:32:30.170Z"
   },
   {
    "duration": 62,
    "start_time": "2023-04-19T18:32:30.758Z"
   },
   {
    "duration": 1121,
    "start_time": "2023-04-19T18:32:30.822Z"
   },
   {
    "duration": 7,
    "start_time": "2023-04-19T18:32:31.945Z"
   },
   {
    "duration": 59,
    "start_time": "2023-04-19T18:32:31.954Z"
   },
   {
    "duration": 355,
    "start_time": "2023-04-19T18:32:32.015Z"
   },
   {
    "duration": 41,
    "start_time": "2023-04-19T18:32:32.372Z"
   },
   {
    "duration": 3,
    "start_time": "2023-04-19T18:32:32.416Z"
   },
   {
    "duration": 9,
    "start_time": "2023-04-19T18:32:32.421Z"
   },
   {
    "duration": 13,
    "start_time": "2023-04-19T18:32:32.442Z"
   },
   {
    "duration": 15,
    "start_time": "2023-04-19T18:32:32.457Z"
   },
   {
    "duration": 28,
    "start_time": "2023-04-19T18:32:32.474Z"
   },
   {
    "duration": 75,
    "start_time": "2023-04-19T18:32:32.504Z"
   },
   {
    "duration": 120,
    "start_time": "2023-04-19T18:32:32.581Z"
   },
   {
    "duration": 173,
    "start_time": "2023-04-19T18:32:32.703Z"
   },
   {
    "duration": 363,
    "start_time": "2023-04-19T18:32:32.878Z"
   },
   {
    "duration": 3,
    "start_time": "2023-04-19T18:32:33.243Z"
   },
   {
    "duration": 12,
    "start_time": "2023-04-19T18:32:33.248Z"
   },
   {
    "duration": 7,
    "start_time": "2023-04-19T18:32:33.263Z"
   },
   {
    "duration": 589266,
    "start_time": "2023-04-19T18:32:33.272Z"
   },
   {
    "duration": 15,
    "start_time": "2023-04-19T18:42:22.540Z"
   },
   {
    "duration": 653,
    "start_time": "2023-04-19T18:42:22.558Z"
   },
   {
    "duration": 4,
    "start_time": "2023-04-19T18:42:27.605Z"
   },
   {
    "duration": 63843,
    "start_time": "2023-04-19T18:42:29.234Z"
   },
   {
    "duration": 4,
    "start_time": "2023-04-19T18:43:47.717Z"
   },
   {
    "duration": 19096,
    "start_time": "2023-04-19T18:43:49.177Z"
   },
   {
    "duration": 4,
    "start_time": "2023-04-19T18:44:20.833Z"
   },
   {
    "duration": 6977,
    "start_time": "2023-04-19T18:44:21.016Z"
   },
   {
    "duration": 180,
    "start_time": "2023-04-19T18:44:38.756Z"
   },
   {
    "duration": 136,
    "start_time": "2023-04-19T18:44:44.265Z"
   },
   {
    "duration": 392199,
    "start_time": "2023-04-19T18:45:01.127Z"
   },
   {
    "duration": 4,
    "start_time": "2023-04-19T18:52:04.536Z"
   },
   {
    "duration": 103401,
    "start_time": "2023-04-19T18:52:07.130Z"
   },
   {
    "duration": 6,
    "start_time": "2023-04-19T18:55:21.658Z"
   },
   {
    "duration": 274946,
    "start_time": "2023-04-19T18:55:22.866Z"
   },
   {
    "duration": 133,
    "start_time": "2023-04-19T19:00:09.695Z"
   },
   {
    "duration": 8,
    "start_time": "2023-04-19T19:00:17.421Z"
   },
   {
    "duration": 564753,
    "start_time": "2023-04-19T19:00:19.764Z"
   },
   {
    "duration": 6,
    "start_time": "2023-04-19T19:13:07.693Z"
   },
   {
    "duration": 11701,
    "start_time": "2023-04-19T19:13:10.792Z"
   },
   {
    "duration": 6,
    "start_time": "2023-04-19T19:15:35.516Z"
   },
   {
    "duration": 482698,
    "start_time": "2023-04-19T19:15:37.028Z"
   },
   {
    "duration": 5,
    "start_time": "2023-04-19T19:24:17.797Z"
   },
   {
    "duration": 923425,
    "start_time": "2023-04-19T19:24:19.392Z"
   },
   {
    "duration": 4,
    "start_time": "2023-04-19T19:40:51.378Z"
   },
   {
    "duration": 1274783,
    "start_time": "2023-04-19T19:40:51.850Z"
   },
   {
    "duration": 4,
    "start_time": "2023-04-19T20:02:33.520Z"
   },
   {
    "duration": 1283595,
    "start_time": "2023-04-19T20:02:35.607Z"
   },
   {
    "duration": 4,
    "start_time": "2023-04-19T20:24:12.799Z"
   },
   {
    "duration": 5,
    "start_time": "2023-04-19T20:24:43.673Z"
   },
   {
    "duration": 265365,
    "start_time": "2023-04-19T20:24:45.725Z"
   },
   {
    "duration": 5,
    "start_time": "2023-04-19T20:29:51.031Z"
   },
   {
    "duration": 231,
    "start_time": "2023-04-19T20:30:04.308Z"
   },
   {
    "duration": 19,
    "start_time": "2023-04-19T20:30:06.383Z"
   },
   {
    "duration": 2314,
    "start_time": "2023-04-19T20:30:26.526Z"
   },
   {
    "duration": 9,
    "start_time": "2023-04-19T20:30:28.854Z"
   },
   {
    "duration": 1464,
    "start_time": "2023-04-19T20:30:28.867Z"
   },
   {
    "duration": 366,
    "start_time": "2023-04-19T20:30:30.334Z"
   },
   {
    "duration": 27,
    "start_time": "2023-04-19T20:30:30.710Z"
   },
   {
    "duration": 919,
    "start_time": "2023-04-19T20:30:30.741Z"
   },
   {
    "duration": 1458,
    "start_time": "2023-04-19T20:30:31.662Z"
   },
   {
    "duration": 289,
    "start_time": "2023-04-19T20:30:33.122Z"
   },
   {
    "duration": 124,
    "start_time": "2023-04-19T20:30:33.417Z"
   },
   {
    "duration": 209,
    "start_time": "2023-04-19T20:30:33.548Z"
   },
   {
    "duration": 7,
    "start_time": "2023-04-19T20:30:33.761Z"
   },
   {
    "duration": 961,
    "start_time": "2023-04-19T20:30:33.770Z"
   },
   {
    "duration": 301,
    "start_time": "2023-04-19T20:30:34.734Z"
   },
   {
    "duration": 389,
    "start_time": "2023-04-19T20:30:35.043Z"
   },
   {
    "duration": 294,
    "start_time": "2023-04-19T20:30:35.444Z"
   },
   {
    "duration": 21,
    "start_time": "2023-04-19T20:30:35.741Z"
   },
   {
    "duration": 288,
    "start_time": "2023-04-19T20:30:35.768Z"
   },
   {
    "duration": 5,
    "start_time": "2023-04-19T20:30:36.058Z"
   },
   {
    "duration": 2201,
    "start_time": "2023-04-19T20:30:36.066Z"
   },
   {
    "duration": 82,
    "start_time": "2023-04-19T20:30:38.272Z"
   },
   {
    "duration": 670,
    "start_time": "2023-04-19T20:30:38.360Z"
   },
   {
    "duration": 80,
    "start_time": "2023-04-19T20:30:39.031Z"
   },
   {
    "duration": 1350,
    "start_time": "2023-04-19T20:30:39.113Z"
   },
   {
    "duration": 8,
    "start_time": "2023-04-19T20:30:40.466Z"
   },
   {
    "duration": 97,
    "start_time": "2023-04-19T20:30:40.476Z"
   },
   {
    "duration": 419,
    "start_time": "2023-04-19T20:30:40.575Z"
   },
   {
    "duration": 62,
    "start_time": "2023-04-19T20:30:40.996Z"
   },
   {
    "duration": 11,
    "start_time": "2023-04-19T20:30:41.070Z"
   },
   {
    "duration": 20,
    "start_time": "2023-04-19T20:30:41.083Z"
   },
   {
    "duration": 6,
    "start_time": "2023-04-19T20:30:41.105Z"
   },
   {
    "duration": 218,
    "start_time": "2023-04-19T20:30:41.113Z"
   },
   {
    "duration": 11,
    "start_time": "2023-04-19T20:30:41.332Z"
   },
   {
    "duration": 101,
    "start_time": "2023-04-19T20:30:41.346Z"
   },
   {
    "duration": 241,
    "start_time": "2023-04-19T20:30:41.449Z"
   },
   {
    "duration": 10,
    "start_time": "2023-04-19T20:30:41.700Z"
   },
   {
    "duration": 7,
    "start_time": "2023-04-19T20:30:41.713Z"
   },
   {
    "duration": 8,
    "start_time": "2023-04-19T20:30:41.721Z"
   },
   {
    "duration": 579042,
    "start_time": "2023-04-19T20:30:41.731Z"
   },
   {
    "duration": 41,
    "start_time": "2023-04-19T20:40:20.775Z"
   },
   {
    "duration": 4,
    "start_time": "2023-04-19T20:40:20.818Z"
   },
   {
    "duration": 998806,
    "start_time": "2023-04-19T20:40:20.825Z"
   },
   {
    "duration": 5,
    "start_time": "2023-04-19T20:57:22.300Z"
   },
   {
    "duration": 661441,
    "start_time": "2023-04-19T20:57:24.183Z"
   },
   {
    "duration": 5,
    "start_time": "2023-04-19T21:08:43.901Z"
   },
   {
    "duration": 6,
    "start_time": "2023-04-19T21:09:00.107Z"
   },
   {
    "duration": 314106,
    "start_time": "2023-04-19T21:09:00.494Z"
   },
   {
    "duration": 9,
    "start_time": "2023-04-19T21:16:14.264Z"
   },
   {
    "duration": 64046,
    "start_time": "2023-04-19T21:16:15.543Z"
   },
   {
    "duration": 4,
    "start_time": "2023-04-19T21:17:26.512Z"
   },
   {
    "duration": 4,
    "start_time": "2023-04-19T21:17:27.797Z"
   },
   {
    "duration": 397898,
    "start_time": "2023-04-19T21:17:28.408Z"
   },
   {
    "duration": 1783,
    "start_time": "2023-04-19T21:24:32.633Z"
   },
   {
    "duration": 3,
    "start_time": "2023-04-19T21:24:34.419Z"
   },
   {
    "duration": 1159,
    "start_time": "2023-04-19T21:24:34.423Z"
   },
   {
    "duration": 254,
    "start_time": "2023-04-19T21:24:35.585Z"
   },
   {
    "duration": 3,
    "start_time": "2023-04-19T21:24:35.841Z"
   },
   {
    "duration": 630,
    "start_time": "2023-04-19T21:24:35.848Z"
   },
   {
    "duration": 1369,
    "start_time": "2023-04-19T21:24:36.482Z"
   },
   {
    "duration": 207,
    "start_time": "2023-04-19T21:24:37.855Z"
   },
   {
    "duration": 72,
    "start_time": "2023-04-19T21:24:38.063Z"
   },
   {
    "duration": 147,
    "start_time": "2023-04-19T21:24:38.138Z"
   },
   {
    "duration": 5,
    "start_time": "2023-04-19T21:24:38.287Z"
   },
   {
    "duration": 745,
    "start_time": "2023-04-19T21:24:38.294Z"
   },
   {
    "duration": 269,
    "start_time": "2023-04-19T21:24:39.041Z"
   },
   {
    "duration": 386,
    "start_time": "2023-04-19T21:24:39.312Z"
   },
   {
    "duration": 268,
    "start_time": "2023-04-19T21:24:39.700Z"
   },
   {
    "duration": 10,
    "start_time": "2023-04-19T21:24:39.970Z"
   },
   {
    "duration": 225,
    "start_time": "2023-04-19T21:24:39.982Z"
   },
   {
    "duration": 4,
    "start_time": "2023-04-19T21:24:40.210Z"
   },
   {
    "duration": 1916,
    "start_time": "2023-04-19T21:24:40.216Z"
   },
   {
    "duration": 71,
    "start_time": "2023-04-19T21:24:42.141Z"
   },
   {
    "duration": 676,
    "start_time": "2023-04-19T21:24:42.214Z"
   },
   {
    "duration": 66,
    "start_time": "2023-04-19T21:24:42.892Z"
   },
   {
    "duration": 1293,
    "start_time": "2023-04-19T21:24:42.960Z"
   },
   {
    "duration": 16,
    "start_time": "2023-04-19T21:24:44.263Z"
   },
   {
    "duration": 53,
    "start_time": "2023-04-19T21:24:44.282Z"
   },
   {
    "duration": 434,
    "start_time": "2023-04-19T21:24:44.337Z"
   },
   {
    "duration": 40,
    "start_time": "2023-04-19T21:24:44.779Z"
   },
   {
    "duration": 3,
    "start_time": "2023-04-19T21:24:44.822Z"
   },
   {
    "duration": 32,
    "start_time": "2023-04-19T21:24:44.827Z"
   },
   {
    "duration": 25,
    "start_time": "2023-04-19T21:24:44.869Z"
   },
   {
    "duration": 209,
    "start_time": "2023-04-19T21:24:44.896Z"
   },
   {
    "duration": 8,
    "start_time": "2023-04-19T21:24:45.107Z"
   },
   {
    "duration": 115,
    "start_time": "2023-04-19T21:24:45.117Z"
   },
   {
    "duration": 240,
    "start_time": "2023-04-19T21:24:45.234Z"
   },
   {
    "duration": 2,
    "start_time": "2023-04-19T21:24:45.476Z"
   },
   {
    "duration": 9,
    "start_time": "2023-04-19T21:24:45.479Z"
   },
   {
    "duration": 18,
    "start_time": "2023-04-19T21:24:45.490Z"
   },
   {
    "duration": 25,
    "start_time": "2023-04-19T21:24:45.510Z"
   },
   {
    "duration": 46,
    "start_time": "2023-04-19T21:24:45.537Z"
   },
   {
    "duration": 818543,
    "start_time": "2023-04-19T21:24:45.586Z"
   },
   {
    "duration": 53487,
    "start_time": "2023-04-19T21:38:39.640Z"
   },
   {
    "duration": 47,
    "start_time": "2023-04-19T21:39:33.130Z"
   },
   {
    "duration": 28,
    "start_time": "2023-04-19T21:40:02.780Z"
   },
   {
    "duration": 395680,
    "start_time": "2023-04-19T21:41:04.217Z"
   },
   {
    "duration": 1467647,
    "start_time": "2023-04-19T21:48:45.114Z"
   },
   {
    "duration": 70,
    "start_time": "2023-04-20T08:23:45.007Z"
   },
   {
    "duration": 2010,
    "start_time": "2023-04-20T08:23:50.477Z"
   },
   {
    "duration": 3,
    "start_time": "2023-04-20T08:23:52.489Z"
   },
   {
    "duration": 1117,
    "start_time": "2023-04-20T08:23:52.493Z"
   },
   {
    "duration": 218,
    "start_time": "2023-04-20T08:23:53.612Z"
   },
   {
    "duration": 3,
    "start_time": "2023-04-20T08:23:53.832Z"
   },
   {
    "duration": 473,
    "start_time": "2023-04-20T08:23:53.837Z"
   },
   {
    "duration": 992,
    "start_time": "2023-04-20T08:23:54.312Z"
   },
   {
    "duration": 177,
    "start_time": "2023-04-20T08:23:55.306Z"
   },
   {
    "duration": 88,
    "start_time": "2023-04-20T08:23:55.484Z"
   },
   {
    "duration": 123,
    "start_time": "2023-04-20T08:23:55.574Z"
   },
   {
    "duration": 5,
    "start_time": "2023-04-20T08:23:55.698Z"
   },
   {
    "duration": 627,
    "start_time": "2023-04-20T08:23:55.705Z"
   },
   {
    "duration": 213,
    "start_time": "2023-04-20T08:23:56.334Z"
   },
   {
    "duration": 269,
    "start_time": "2023-04-20T08:23:56.548Z"
   },
   {
    "duration": 214,
    "start_time": "2023-04-20T08:23:56.819Z"
   },
   {
    "duration": 32,
    "start_time": "2023-04-20T08:23:57.035Z"
   },
   {
    "duration": 163,
    "start_time": "2023-04-20T08:23:57.069Z"
   },
   {
    "duration": 3,
    "start_time": "2023-04-20T08:23:57.235Z"
   },
   {
    "duration": 1380,
    "start_time": "2023-04-20T08:23:57.240Z"
   },
   {
    "duration": 61,
    "start_time": "2023-04-20T08:23:58.622Z"
   },
   {
    "duration": 486,
    "start_time": "2023-04-20T08:23:58.685Z"
   },
   {
    "duration": 44,
    "start_time": "2023-04-20T08:23:59.173Z"
   },
   {
    "duration": 869,
    "start_time": "2023-04-20T08:23:59.218Z"
   },
   {
    "duration": 7,
    "start_time": "2023-04-20T08:24:00.088Z"
   },
   {
    "duration": 67,
    "start_time": "2023-04-20T08:24:00.097Z"
   },
   {
    "duration": 332,
    "start_time": "2023-04-20T08:24:00.167Z"
   },
   {
    "duration": 34,
    "start_time": "2023-04-20T08:24:00.500Z"
   },
   {
    "duration": 35,
    "start_time": "2023-04-20T08:24:00.548Z"
   },
   {
    "duration": 40,
    "start_time": "2023-04-20T08:24:00.585Z"
   },
   {
    "duration": 55,
    "start_time": "2023-04-20T08:24:00.627Z"
   },
   {
    "duration": 225,
    "start_time": "2023-04-20T08:24:00.685Z"
   },
   {
    "duration": 8,
    "start_time": "2023-04-20T08:24:00.911Z"
   },
   {
    "duration": 98,
    "start_time": "2023-04-20T08:24:00.921Z"
   },
   {
    "duration": 168,
    "start_time": "2023-04-20T08:24:01.022Z"
   },
   {
    "duration": 3,
    "start_time": "2023-04-20T08:24:01.192Z"
   },
   {
    "duration": 37,
    "start_time": "2023-04-20T08:24:01.196Z"
   },
   {
    "duration": 38,
    "start_time": "2023-04-20T08:24:01.235Z"
   },
   {
    "duration": 35,
    "start_time": "2023-04-20T08:24:01.274Z"
   },
   {
    "duration": 58,
    "start_time": "2023-04-20T08:24:01.310Z"
   },
   {
    "duration": 1802124,
    "start_time": "2023-04-20T08:24:01.370Z"
   },
   {
    "duration": 12,
    "start_time": "2023-04-20T09:00:53.069Z"
   },
   {
    "duration": 4,
    "start_time": "2023-04-20T09:01:17.516Z"
   },
   {
    "duration": 13,
    "start_time": "2023-04-20T09:01:24.031Z"
   },
   {
    "duration": 3,
    "start_time": "2023-04-20T09:01:37.856Z"
   },
   {
    "duration": 6,
    "start_time": "2023-04-20T09:01:44.057Z"
   },
   {
    "duration": 871,
    "start_time": "2023-04-20T09:01:50.737Z"
   },
   {
    "duration": 5,
    "start_time": "2023-04-20T09:08:44.682Z"
   },
   {
    "duration": 11517,
    "start_time": "2023-04-20T09:09:25.038Z"
   },
   {
    "duration": 1409,
    "start_time": "2023-04-20T09:09:42.065Z"
   },
   {
    "duration": 3,
    "start_time": "2023-04-20T09:09:43.476Z"
   },
   {
    "duration": 764,
    "start_time": "2023-04-20T09:09:43.480Z"
   },
   {
    "duration": 228,
    "start_time": "2023-04-20T09:09:44.248Z"
   },
   {
    "duration": 3,
    "start_time": "2023-04-20T09:09:44.479Z"
   },
   {
    "duration": 449,
    "start_time": "2023-04-20T09:09:44.484Z"
   },
   {
    "duration": 933,
    "start_time": "2023-04-20T09:09:44.935Z"
   },
   {
    "duration": 157,
    "start_time": "2023-04-20T09:09:45.870Z"
   },
   {
    "duration": 77,
    "start_time": "2023-04-20T09:09:46.028Z"
   },
   {
    "duration": 111,
    "start_time": "2023-04-20T09:09:46.107Z"
   },
   {
    "duration": 4,
    "start_time": "2023-04-20T09:09:46.220Z"
   },
   {
    "duration": 567,
    "start_time": "2023-04-20T09:09:46.226Z"
   },
   {
    "duration": 213,
    "start_time": "2023-04-20T09:09:46.795Z"
   },
   {
    "duration": 252,
    "start_time": "2023-04-20T09:09:47.011Z"
   },
   {
    "duration": 204,
    "start_time": "2023-04-20T09:09:47.264Z"
   },
   {
    "duration": 6,
    "start_time": "2023-04-20T09:09:47.470Z"
   },
   {
    "duration": 167,
    "start_time": "2023-04-20T09:09:47.477Z"
   },
   {
    "duration": 5,
    "start_time": "2023-04-20T09:09:47.645Z"
   },
   {
    "duration": 1267,
    "start_time": "2023-04-20T09:09:47.651Z"
   },
   {
    "duration": 55,
    "start_time": "2023-04-20T09:09:48.919Z"
   },
   {
    "duration": 465,
    "start_time": "2023-04-20T09:09:48.975Z"
   },
   {
    "duration": 44,
    "start_time": "2023-04-20T09:09:49.442Z"
   },
   {
    "duration": 816,
    "start_time": "2023-04-20T09:09:49.488Z"
   },
   {
    "duration": 5,
    "start_time": "2023-04-20T09:09:50.305Z"
   },
   {
    "duration": 48,
    "start_time": "2023-04-20T09:09:50.312Z"
   },
   {
    "duration": 321,
    "start_time": "2023-04-20T09:09:50.361Z"
   },
   {
    "duration": 31,
    "start_time": "2023-04-20T09:09:50.684Z"
   },
   {
    "duration": 2,
    "start_time": "2023-04-20T09:09:50.717Z"
   },
   {
    "duration": 11,
    "start_time": "2023-04-20T09:09:50.721Z"
   },
   {
    "duration": 15,
    "start_time": "2023-04-20T09:09:50.734Z"
   },
   {
    "duration": 184,
    "start_time": "2023-04-20T09:09:50.750Z"
   },
   {
    "duration": 6,
    "start_time": "2023-04-20T09:09:50.935Z"
   },
   {
    "duration": 37,
    "start_time": "2023-04-20T09:09:50.942Z"
   },
   {
    "duration": 154,
    "start_time": "2023-04-20T09:09:50.980Z"
   },
   {
    "duration": 2,
    "start_time": "2023-04-20T09:09:51.136Z"
   },
   {
    "duration": 12,
    "start_time": "2023-04-20T09:09:51.148Z"
   },
   {
    "duration": 20,
    "start_time": "2023-04-20T09:09:51.161Z"
   },
   {
    "duration": 15,
    "start_time": "2023-04-20T09:09:51.183Z"
   },
   {
    "duration": 15,
    "start_time": "2023-04-20T09:09:51.199Z"
   },
   {
    "duration": 67134,
    "start_time": "2023-04-20T09:09:51.215Z"
   },
   {
    "duration": 1340,
    "start_time": "2023-04-20T09:13:46.177Z"
   },
   {
    "duration": 3,
    "start_time": "2023-04-20T09:13:47.519Z"
   },
   {
    "duration": 776,
    "start_time": "2023-04-20T09:13:47.523Z"
   },
   {
    "duration": 212,
    "start_time": "2023-04-20T09:13:48.301Z"
   },
   {
    "duration": 2,
    "start_time": "2023-04-20T09:13:48.515Z"
   },
   {
    "duration": 410,
    "start_time": "2023-04-20T09:13:48.519Z"
   },
   {
    "duration": 880,
    "start_time": "2023-04-20T09:13:48.930Z"
   },
   {
    "duration": 172,
    "start_time": "2023-04-20T09:13:49.813Z"
   },
   {
    "duration": 86,
    "start_time": "2023-04-20T09:13:49.986Z"
   },
   {
    "duration": 114,
    "start_time": "2023-04-20T09:13:50.074Z"
   },
   {
    "duration": 11,
    "start_time": "2023-04-20T09:13:50.190Z"
   },
   {
    "duration": 580,
    "start_time": "2023-04-20T09:13:50.203Z"
   },
   {
    "duration": 208,
    "start_time": "2023-04-20T09:13:50.785Z"
   },
   {
    "duration": 266,
    "start_time": "2023-04-20T09:13:50.995Z"
   },
   {
    "duration": 221,
    "start_time": "2023-04-20T09:13:51.263Z"
   },
   {
    "duration": 6,
    "start_time": "2023-04-20T09:13:51.486Z"
   },
   {
    "duration": 193,
    "start_time": "2023-04-20T09:13:51.494Z"
   },
   {
    "duration": 4,
    "start_time": "2023-04-20T09:13:51.688Z"
   },
   {
    "duration": 1286,
    "start_time": "2023-04-20T09:13:51.693Z"
   },
   {
    "duration": 50,
    "start_time": "2023-04-20T09:13:52.980Z"
   },
   {
    "duration": 485,
    "start_time": "2023-04-20T09:13:53.032Z"
   },
   {
    "duration": 50,
    "start_time": "2023-04-20T09:13:53.519Z"
   },
   {
    "duration": 806,
    "start_time": "2023-04-20T09:13:53.570Z"
   },
   {
    "duration": 4,
    "start_time": "2023-04-20T09:13:54.378Z"
   },
   {
    "duration": 39,
    "start_time": "2023-04-20T09:13:54.383Z"
   },
   {
    "duration": 370,
    "start_time": "2023-04-20T09:13:54.424Z"
   },
   {
    "duration": 32,
    "start_time": "2023-04-20T09:13:54.795Z"
   },
   {
    "duration": 3,
    "start_time": "2023-04-20T09:13:54.830Z"
   },
   {
    "duration": 22,
    "start_time": "2023-04-20T09:13:54.834Z"
   },
   {
    "duration": 7,
    "start_time": "2023-04-20T09:13:54.858Z"
   },
   {
    "duration": 17,
    "start_time": "2023-04-20T09:13:54.867Z"
   },
   {
    "duration": 18,
    "start_time": "2023-04-20T09:13:54.886Z"
   },
   {
    "duration": 49,
    "start_time": "2023-04-20T09:13:54.906Z"
   },
   {
    "duration": 352,
    "start_time": "2023-04-20T09:13:54.956Z"
   },
   {
    "duration": 3,
    "start_time": "2023-04-20T09:13:55.310Z"
   },
   {
    "duration": 31,
    "start_time": "2023-04-20T09:13:55.315Z"
   },
   {
    "duration": 7,
    "start_time": "2023-04-20T09:13:55.348Z"
   },
   {
    "duration": 5,
    "start_time": "2023-04-20T09:13:55.357Z"
   },
   {
    "duration": 10,
    "start_time": "2023-04-20T09:13:55.364Z"
   },
   {
    "duration": 71778,
    "start_time": "2023-04-20T09:13:55.375Z"
   },
   {
    "duration": 4,
    "start_time": "2023-04-20T09:23:53.317Z"
   },
   {
    "duration": 14096,
    "start_time": "2023-04-20T09:23:55.063Z"
   },
   {
    "duration": 5,
    "start_time": "2023-04-20T09:28:23.528Z"
   },
   {
    "duration": 210217,
    "start_time": "2023-04-20T09:28:24.620Z"
   },
   {
    "duration": 3,
    "start_time": "2023-04-20T09:32:28.833Z"
   },
   {
    "duration": 5,
    "start_time": "2023-04-20T09:32:39.729Z"
   },
   {
    "duration": 130,
    "start_time": "2023-04-20T09:32:45.353Z"
   },
   {
    "duration": 19,
    "start_time": "2023-04-20T09:32:52.053Z"
   },
   {
    "duration": 52,
    "start_time": "2023-04-20T09:32:52.449Z"
   },
   {
    "duration": 129099,
    "start_time": "2023-04-20T09:32:56.150Z"
   },
   {
    "duration": 649107,
    "start_time": "2023-04-20T09:35:30.135Z"
   },
   {
    "duration": 22,
    "start_time": "2023-04-20T09:55:28.743Z"
   },
   {
    "duration": 26,
    "start_time": "2023-04-20T10:05:56.312Z"
   },
   {
    "duration": 20,
    "start_time": "2023-04-20T10:06:09.274Z"
   },
   {
    "duration": 24,
    "start_time": "2023-04-20T10:06:21.221Z"
   },
   {
    "duration": 9,
    "start_time": "2023-04-20T10:07:42.354Z"
   },
   {
    "duration": 22,
    "start_time": "2023-04-20T10:07:45.636Z"
   },
   {
    "duration": 10,
    "start_time": "2023-04-20T10:08:47.491Z"
   },
   {
    "duration": 8,
    "start_time": "2023-04-20T10:10:44.074Z"
   },
   {
    "duration": 10,
    "start_time": "2023-04-20T10:10:48.832Z"
   },
   {
    "duration": 14,
    "start_time": "2023-04-20T10:11:36.973Z"
   },
   {
    "duration": 12,
    "start_time": "2023-04-20T10:11:41.574Z"
   },
   {
    "duration": 9,
    "start_time": "2023-04-20T10:11:57.674Z"
   },
   {
    "duration": 9,
    "start_time": "2023-04-20T10:12:52.761Z"
   },
   {
    "duration": 2,
    "start_time": "2023-04-20T10:12:58.891Z"
   },
   {
    "duration": 13,
    "start_time": "2023-04-20T10:15:06.009Z"
   },
   {
    "duration": 10,
    "start_time": "2023-04-20T10:17:00.846Z"
   },
   {
    "duration": 1560,
    "start_time": "2023-04-20T10:18:38.820Z"
   },
   {
    "duration": 3,
    "start_time": "2023-04-20T10:18:40.381Z"
   },
   {
    "duration": 1289,
    "start_time": "2023-04-20T10:18:40.386Z"
   },
   {
    "duration": 220,
    "start_time": "2023-04-20T10:18:41.678Z"
   },
   {
    "duration": 3,
    "start_time": "2023-04-20T10:18:41.899Z"
   },
   {
    "duration": 434,
    "start_time": "2023-04-20T10:18:41.903Z"
   },
   {
    "duration": 925,
    "start_time": "2023-04-20T10:18:42.338Z"
   },
   {
    "duration": 174,
    "start_time": "2023-04-20T10:18:43.264Z"
   },
   {
    "duration": 87,
    "start_time": "2023-04-20T10:18:43.439Z"
   },
   {
    "duration": 147,
    "start_time": "2023-04-20T10:18:43.529Z"
   },
   {
    "duration": 6,
    "start_time": "2023-04-20T10:18:43.678Z"
   },
   {
    "duration": 621,
    "start_time": "2023-04-20T10:18:43.686Z"
   },
   {
    "duration": 287,
    "start_time": "2023-04-20T10:18:44.309Z"
   },
   {
    "duration": 209,
    "start_time": "2023-04-20T10:18:44.598Z"
   },
   {
    "duration": 304,
    "start_time": "2023-04-20T10:18:44.809Z"
   },
   {
    "duration": 7,
    "start_time": "2023-04-20T10:18:45.115Z"
   },
   {
    "duration": 255,
    "start_time": "2023-04-20T10:18:45.124Z"
   },
   {
    "duration": 4,
    "start_time": "2023-04-20T10:18:45.380Z"
   },
   {
    "duration": 1421,
    "start_time": "2023-04-20T10:18:45.386Z"
   },
   {
    "duration": 71,
    "start_time": "2023-04-20T10:18:46.809Z"
   },
   {
    "duration": 537,
    "start_time": "2023-04-20T10:18:46.881Z"
   },
   {
    "duration": 58,
    "start_time": "2023-04-20T10:18:47.420Z"
   },
   {
    "duration": 861,
    "start_time": "2023-04-20T10:18:47.480Z"
   },
   {
    "duration": 5,
    "start_time": "2023-04-20T10:18:48.343Z"
   },
   {
    "duration": 43,
    "start_time": "2023-04-20T10:18:48.349Z"
   },
   {
    "duration": 356,
    "start_time": "2023-04-20T10:18:48.394Z"
   },
   {
    "duration": 35,
    "start_time": "2023-04-20T10:18:48.751Z"
   },
   {
    "duration": 12,
    "start_time": "2023-04-20T10:18:48.789Z"
   },
   {
    "duration": 14,
    "start_time": "2023-04-20T10:18:48.803Z"
   },
   {
    "duration": 6,
    "start_time": "2023-04-20T10:18:48.818Z"
   },
   {
    "duration": 17,
    "start_time": "2023-04-20T10:18:48.826Z"
   },
   {
    "duration": 52,
    "start_time": "2023-04-20T10:18:48.844Z"
   },
   {
    "duration": 64,
    "start_time": "2023-04-20T10:18:48.898Z"
   },
   {
    "duration": 369,
    "start_time": "2023-04-20T10:18:48.964Z"
   },
   {
    "duration": 3,
    "start_time": "2023-04-20T10:18:49.334Z"
   },
   {
    "duration": 12,
    "start_time": "2023-04-20T10:18:49.338Z"
   },
   {
    "duration": 41,
    "start_time": "2023-04-20T10:18:49.351Z"
   },
   {
    "duration": 5,
    "start_time": "2023-04-20T10:18:49.394Z"
   },
   {
    "duration": 7,
    "start_time": "2023-04-20T10:18:49.400Z"
   },
   {
    "duration": 4,
    "start_time": "2023-04-20T10:18:49.409Z"
   },
   {
    "duration": 51,
    "start_time": "2023-04-20T10:19:24.050Z"
   },
   {
    "duration": 1568,
    "start_time": "2023-04-20T10:19:49.823Z"
   },
   {
    "duration": 84,
    "start_time": "2023-04-20T10:19:57.313Z"
   },
   {
    "duration": 4,
    "start_time": "2023-04-20T10:20:00.201Z"
   },
   {
    "duration": 23,
    "start_time": "2023-04-20T10:20:00.207Z"
   },
   {
    "duration": 1254,
    "start_time": "2023-04-20T10:20:00.231Z"
   },
   {
    "duration": 227,
    "start_time": "2023-04-20T10:20:01.486Z"
   },
   {
    "duration": 3,
    "start_time": "2023-04-20T10:20:01.716Z"
   },
   {
    "duration": 488,
    "start_time": "2023-04-20T10:20:01.720Z"
   },
   {
    "duration": 966,
    "start_time": "2023-04-20T10:20:02.210Z"
   },
   {
    "duration": 163,
    "start_time": "2023-04-20T10:20:03.177Z"
   },
   {
    "duration": 83,
    "start_time": "2023-04-20T10:20:03.342Z"
   },
   {
    "duration": 124,
    "start_time": "2023-04-20T10:20:03.427Z"
   },
   {
    "duration": 42,
    "start_time": "2023-04-20T10:20:03.553Z"
   },
   {
    "duration": 588,
    "start_time": "2023-04-20T10:20:03.597Z"
   },
   {
    "duration": 281,
    "start_time": "2023-04-20T10:20:04.187Z"
   },
   {
    "duration": 220,
    "start_time": "2023-04-20T10:20:04.470Z"
   },
   {
    "duration": 223,
    "start_time": "2023-04-20T10:20:04.692Z"
   },
   {
    "duration": 7,
    "start_time": "2023-04-20T10:20:04.918Z"
   },
   {
    "duration": 199,
    "start_time": "2023-04-20T10:20:04.927Z"
   },
   {
    "duration": 4,
    "start_time": "2023-04-20T10:20:05.128Z"
   },
   {
    "duration": 1321,
    "start_time": "2023-04-20T10:20:05.134Z"
   },
   {
    "duration": 53,
    "start_time": "2023-04-20T10:20:06.463Z"
   },
   {
    "duration": 478,
    "start_time": "2023-04-20T10:20:06.517Z"
   },
   {
    "duration": 46,
    "start_time": "2023-04-20T10:20:06.996Z"
   },
   {
    "duration": 835,
    "start_time": "2023-04-20T10:20:07.043Z"
   },
   {
    "duration": 4,
    "start_time": "2023-04-20T10:20:07.880Z"
   },
   {
    "duration": 50,
    "start_time": "2023-04-20T10:20:07.886Z"
   },
   {
    "duration": 330,
    "start_time": "2023-04-20T10:20:07.937Z"
   },
   {
    "duration": 32,
    "start_time": "2023-04-20T10:20:08.269Z"
   },
   {
    "duration": 3,
    "start_time": "2023-04-20T10:20:08.302Z"
   },
   {
    "duration": 22,
    "start_time": "2023-04-20T10:20:08.307Z"
   },
   {
    "duration": 34,
    "start_time": "2023-04-20T10:20:08.331Z"
   },
   {
    "duration": 22,
    "start_time": "2023-04-20T10:20:08.367Z"
   },
   {
    "duration": 27,
    "start_time": "2023-04-20T10:20:08.390Z"
   },
   {
    "duration": 54,
    "start_time": "2023-04-20T10:20:08.419Z"
   },
   {
    "duration": 365,
    "start_time": "2023-04-20T10:20:08.475Z"
   },
   {
    "duration": 3,
    "start_time": "2023-04-20T10:20:08.841Z"
   },
   {
    "duration": 10,
    "start_time": "2023-04-20T10:20:08.859Z"
   },
   {
    "duration": 4,
    "start_time": "2023-04-20T10:20:08.873Z"
   },
   {
    "duration": 8,
    "start_time": "2023-04-20T10:20:08.878Z"
   },
   {
    "duration": 11,
    "start_time": "2023-04-20T10:20:08.887Z"
   },
   {
    "duration": 7,
    "start_time": "2023-04-20T10:20:08.899Z"
   },
   {
    "duration": 1487,
    "start_time": "2023-04-20T10:20:27.704Z"
   },
   {
    "duration": 2,
    "start_time": "2023-04-20T10:20:29.193Z"
   },
   {
    "duration": 1047,
    "start_time": "2023-04-20T10:20:29.197Z"
   },
   {
    "duration": 242,
    "start_time": "2023-04-20T10:20:30.246Z"
   },
   {
    "duration": 3,
    "start_time": "2023-04-20T10:20:30.490Z"
   },
   {
    "duration": 466,
    "start_time": "2023-04-20T10:20:30.495Z"
   },
   {
    "duration": 872,
    "start_time": "2023-04-20T10:20:30.963Z"
   },
   {
    "duration": 163,
    "start_time": "2023-04-20T10:20:31.837Z"
   },
   {
    "duration": 77,
    "start_time": "2023-04-20T10:20:32.002Z"
   },
   {
    "duration": 112,
    "start_time": "2023-04-20T10:20:32.082Z"
   },
   {
    "duration": 4,
    "start_time": "2023-04-20T10:20:32.196Z"
   },
   {
    "duration": 585,
    "start_time": "2023-04-20T10:20:32.202Z"
   },
   {
    "duration": 265,
    "start_time": "2023-04-20T10:20:32.789Z"
   },
   {
    "duration": 195,
    "start_time": "2023-04-20T10:20:33.056Z"
   },
   {
    "duration": 211,
    "start_time": "2023-04-20T10:20:33.253Z"
   },
   {
    "duration": 6,
    "start_time": "2023-04-20T10:20:33.465Z"
   },
   {
    "duration": 178,
    "start_time": "2023-04-20T10:20:33.472Z"
   },
   {
    "duration": 3,
    "start_time": "2023-04-20T10:20:33.652Z"
   },
   {
    "duration": 1330,
    "start_time": "2023-04-20T10:20:33.657Z"
   },
   {
    "duration": 61,
    "start_time": "2023-04-20T10:20:34.989Z"
   },
   {
    "duration": 468,
    "start_time": "2023-04-20T10:20:35.052Z"
   },
   {
    "duration": 55,
    "start_time": "2023-04-20T10:20:35.522Z"
   },
   {
    "duration": 785,
    "start_time": "2023-04-20T10:20:35.579Z"
   },
   {
    "duration": 5,
    "start_time": "2023-04-20T10:20:36.366Z"
   },
   {
    "duration": 42,
    "start_time": "2023-04-20T10:20:36.372Z"
   },
   {
    "duration": 321,
    "start_time": "2023-04-20T10:20:36.415Z"
   },
   {
    "duration": 36,
    "start_time": "2023-04-20T10:20:36.738Z"
   },
   {
    "duration": 3,
    "start_time": "2023-04-20T10:20:36.777Z"
   },
   {
    "duration": 21,
    "start_time": "2023-04-20T10:20:36.782Z"
   },
   {
    "duration": 18,
    "start_time": "2023-04-20T10:20:36.805Z"
   },
   {
    "duration": 12,
    "start_time": "2023-04-20T10:20:36.825Z"
   },
   {
    "duration": 20,
    "start_time": "2023-04-20T10:20:36.839Z"
   },
   {
    "duration": 47,
    "start_time": "2023-04-20T10:20:36.861Z"
   },
   {
    "duration": 350,
    "start_time": "2023-04-20T10:20:36.910Z"
   },
   {
    "duration": 2,
    "start_time": "2023-04-20T10:20:37.262Z"
   },
   {
    "duration": 6,
    "start_time": "2023-04-20T10:20:37.266Z"
   },
   {
    "duration": 6,
    "start_time": "2023-04-20T10:20:37.273Z"
   },
   {
    "duration": 5,
    "start_time": "2023-04-20T10:20:37.280Z"
   },
   {
    "duration": 8,
    "start_time": "2023-04-20T10:20:37.286Z"
   },
   {
    "duration": 4,
    "start_time": "2023-04-20T10:20:37.295Z"
   },
   {
    "duration": 6,
    "start_time": "2023-04-20T10:20:37.300Z"
   },
   {
    "duration": 3,
    "start_time": "2023-04-20T10:20:52.210Z"
   },
   {
    "duration": 10,
    "start_time": "2023-04-20T10:21:04.397Z"
   },
   {
    "duration": 50,
    "start_time": "2023-04-20T10:25:38.840Z"
   },
   {
    "duration": 1975,
    "start_time": "2023-04-20T10:25:46.272Z"
   },
   {
    "duration": 3,
    "start_time": "2023-04-20T10:25:48.249Z"
   },
   {
    "duration": 1022,
    "start_time": "2023-04-20T10:25:48.254Z"
   },
   {
    "duration": 212,
    "start_time": "2023-04-20T10:25:49.277Z"
   },
   {
    "duration": 3,
    "start_time": "2023-04-20T10:25:49.491Z"
   },
   {
    "duration": 457,
    "start_time": "2023-04-20T10:25:49.495Z"
   },
   {
    "duration": 894,
    "start_time": "2023-04-20T10:25:49.954Z"
   },
   {
    "duration": 155,
    "start_time": "2023-04-20T10:25:50.850Z"
   },
   {
    "duration": 88,
    "start_time": "2023-04-20T10:25:51.007Z"
   },
   {
    "duration": 120,
    "start_time": "2023-04-20T10:25:51.096Z"
   },
   {
    "duration": 5,
    "start_time": "2023-04-20T10:25:51.217Z"
   },
   {
    "duration": 600,
    "start_time": "2023-04-20T10:25:51.223Z"
   },
   {
    "duration": 267,
    "start_time": "2023-04-20T10:25:51.825Z"
   },
   {
    "duration": 198,
    "start_time": "2023-04-20T10:25:52.094Z"
   },
   {
    "duration": 215,
    "start_time": "2023-04-20T10:25:52.293Z"
   },
   {
    "duration": 6,
    "start_time": "2023-04-20T10:25:52.509Z"
   },
   {
    "duration": 174,
    "start_time": "2023-04-20T10:25:52.516Z"
   },
   {
    "duration": 3,
    "start_time": "2023-04-20T10:25:52.692Z"
   },
   {
    "duration": 1312,
    "start_time": "2023-04-20T10:25:52.697Z"
   },
   {
    "duration": 64,
    "start_time": "2023-04-20T10:25:54.011Z"
   },
   {
    "duration": 492,
    "start_time": "2023-04-20T10:25:54.077Z"
   },
   {
    "duration": 55,
    "start_time": "2023-04-20T10:25:54.570Z"
   },
   {
    "duration": 829,
    "start_time": "2023-04-20T10:25:54.627Z"
   },
   {
    "duration": 5,
    "start_time": "2023-04-20T10:25:55.457Z"
   },
   {
    "duration": 44,
    "start_time": "2023-04-20T10:25:55.464Z"
   },
   {
    "duration": 345,
    "start_time": "2023-04-20T10:25:55.509Z"
   },
   {
    "duration": 32,
    "start_time": "2023-04-20T10:25:55.855Z"
   },
   {
    "duration": 3,
    "start_time": "2023-04-20T10:25:55.889Z"
   },
   {
    "duration": 17,
    "start_time": "2023-04-20T10:25:55.893Z"
   },
   {
    "duration": 3,
    "start_time": "2023-04-20T10:25:55.912Z"
   },
   {
    "duration": 4,
    "start_time": "2023-04-20T10:25:55.916Z"
   },
   {
    "duration": 17,
    "start_time": "2023-04-20T10:25:55.921Z"
   },
   {
    "duration": 44,
    "start_time": "2023-04-20T10:25:55.939Z"
   },
   {
    "duration": 351,
    "start_time": "2023-04-20T10:25:55.985Z"
   },
   {
    "duration": 2,
    "start_time": "2023-04-20T10:25:56.338Z"
   },
   {
    "duration": 9,
    "start_time": "2023-04-20T10:25:56.341Z"
   },
   {
    "duration": 6,
    "start_time": "2023-04-20T10:25:56.351Z"
   },
   {
    "duration": 6,
    "start_time": "2023-04-20T10:25:56.358Z"
   },
   {
    "duration": 13,
    "start_time": "2023-04-20T10:25:56.366Z"
   },
   {
    "duration": 5,
    "start_time": "2023-04-20T10:25:56.381Z"
   },
   {
    "duration": 217,
    "start_time": "2023-04-20T10:25:56.389Z"
   },
   {
    "duration": 1,
    "start_time": "2023-04-20T10:25:56.607Z"
   },
   {
    "duration": 0,
    "start_time": "2023-04-20T10:25:56.609Z"
   },
   {
    "duration": 3,
    "start_time": "2023-04-20T10:26:09.276Z"
   },
   {
    "duration": 4,
    "start_time": "2023-04-20T10:26:10.959Z"
   },
   {
    "duration": 32,
    "start_time": "2023-04-20T10:26:12.276Z"
   },
   {
    "duration": 3,
    "start_time": "2023-04-20T10:26:34.193Z"
   },
   {
    "duration": 3,
    "start_time": "2023-04-20T10:26:35.726Z"
   },
   {
    "duration": 52,
    "start_time": "2023-04-20T10:35:26.583Z"
   },
   {
    "duration": 1749,
    "start_time": "2023-04-20T10:35:33.701Z"
   },
   {
    "duration": 3,
    "start_time": "2023-04-20T10:35:35.452Z"
   },
   {
    "duration": 999,
    "start_time": "2023-04-20T10:35:35.456Z"
   },
   {
    "duration": 218,
    "start_time": "2023-04-20T10:35:36.457Z"
   },
   {
    "duration": 3,
    "start_time": "2023-04-20T10:35:36.677Z"
   },
   {
    "duration": 426,
    "start_time": "2023-04-20T10:35:36.682Z"
   },
   {
    "duration": 878,
    "start_time": "2023-04-20T10:35:37.109Z"
   },
   {
    "duration": 155,
    "start_time": "2023-04-20T10:35:37.989Z"
   },
   {
    "duration": 70,
    "start_time": "2023-04-20T10:35:38.148Z"
   },
   {
    "duration": 119,
    "start_time": "2023-04-20T10:35:38.221Z"
   },
   {
    "duration": 14,
    "start_time": "2023-04-20T10:35:38.341Z"
   },
   {
    "duration": 584,
    "start_time": "2023-04-20T10:35:38.356Z"
   },
   {
    "duration": 268,
    "start_time": "2023-04-20T10:35:38.942Z"
   },
   {
    "duration": 190,
    "start_time": "2023-04-20T10:35:39.212Z"
   },
   {
    "duration": 212,
    "start_time": "2023-04-20T10:35:39.403Z"
   },
   {
    "duration": 6,
    "start_time": "2023-04-20T10:35:39.617Z"
   },
   {
    "duration": 193,
    "start_time": "2023-04-20T10:35:39.624Z"
   },
   {
    "duration": 6,
    "start_time": "2023-04-20T10:35:39.819Z"
   },
   {
    "duration": 1296,
    "start_time": "2023-04-20T10:35:39.827Z"
   },
   {
    "duration": 65,
    "start_time": "2023-04-20T10:35:41.124Z"
   },
   {
    "duration": 468,
    "start_time": "2023-04-20T10:35:41.191Z"
   },
   {
    "duration": 44,
    "start_time": "2023-04-20T10:35:41.662Z"
   },
   {
    "duration": 816,
    "start_time": "2023-04-20T10:35:41.708Z"
   },
   {
    "duration": 6,
    "start_time": "2023-04-20T10:35:42.526Z"
   },
   {
    "duration": 48,
    "start_time": "2023-04-20T10:35:42.534Z"
   },
   {
    "duration": 326,
    "start_time": "2023-04-20T10:35:42.584Z"
   },
   {
    "duration": 42,
    "start_time": "2023-04-20T10:35:42.912Z"
   },
   {
    "duration": 3,
    "start_time": "2023-04-20T10:35:42.957Z"
   },
   {
    "duration": 32,
    "start_time": "2023-04-20T10:35:42.961Z"
   },
   {
    "duration": 19,
    "start_time": "2023-04-20T10:35:42.995Z"
   },
   {
    "duration": 8,
    "start_time": "2023-04-20T10:35:43.016Z"
   },
   {
    "duration": 26,
    "start_time": "2023-04-20T10:35:43.026Z"
   },
   {
    "duration": 49,
    "start_time": "2023-04-20T10:35:45.991Z"
   },
   {
    "duration": 82,
    "start_time": "2023-04-20T10:35:46.492Z"
   },
   {
    "duration": 23,
    "start_time": "2023-04-20T10:35:56.929Z"
   },
   {
    "duration": 8,
    "start_time": "2023-04-20T10:36:01.923Z"
   },
   {
    "duration": 11,
    "start_time": "2023-04-20T10:40:40.203Z"
   },
   {
    "duration": 3,
    "start_time": "2023-04-20T10:40:44.014Z"
   },
   {
    "duration": 3,
    "start_time": "2023-04-20T10:40:46.072Z"
   },
   {
    "duration": 16,
    "start_time": "2023-04-20T10:40:57.664Z"
   },
   {
    "duration": 16,
    "start_time": "2023-04-20T10:41:03.538Z"
   },
   {
    "duration": 11,
    "start_time": "2023-04-20T10:41:23.572Z"
   },
   {
    "duration": 10,
    "start_time": "2023-04-20T10:41:48.369Z"
   },
   {
    "duration": 55,
    "start_time": "2023-04-20T10:41:51.169Z"
   },
   {
    "duration": 11,
    "start_time": "2023-04-20T10:42:01.900Z"
   },
   {
    "duration": 12,
    "start_time": "2023-04-20T10:42:04.873Z"
   },
   {
    "duration": 6,
    "start_time": "2023-04-20T10:42:11.265Z"
   },
   {
    "duration": 51,
    "start_time": "2023-04-20T10:46:23.761Z"
   },
   {
    "duration": 1676,
    "start_time": "2023-04-20T10:46:30.475Z"
   },
   {
    "duration": 3,
    "start_time": "2023-04-20T10:46:32.153Z"
   },
   {
    "duration": 1020,
    "start_time": "2023-04-20T10:46:32.157Z"
   },
   {
    "duration": 207,
    "start_time": "2023-04-20T10:46:33.178Z"
   },
   {
    "duration": 3,
    "start_time": "2023-04-20T10:46:33.387Z"
   },
   {
    "duration": 409,
    "start_time": "2023-04-20T10:46:33.391Z"
   },
   {
    "duration": 901,
    "start_time": "2023-04-20T10:46:33.802Z"
   },
   {
    "duration": 157,
    "start_time": "2023-04-20T10:46:34.704Z"
   },
   {
    "duration": 76,
    "start_time": "2023-04-20T10:46:34.862Z"
   },
   {
    "duration": 122,
    "start_time": "2023-04-20T10:46:34.940Z"
   },
   {
    "duration": 4,
    "start_time": "2023-04-20T10:46:35.064Z"
   },
   {
    "duration": 576,
    "start_time": "2023-04-20T10:46:35.070Z"
   },
   {
    "duration": 261,
    "start_time": "2023-04-20T10:46:35.648Z"
   },
   {
    "duration": 194,
    "start_time": "2023-04-20T10:46:35.913Z"
   },
   {
    "duration": 217,
    "start_time": "2023-04-20T10:46:36.109Z"
   },
   {
    "duration": 5,
    "start_time": "2023-04-20T10:46:36.328Z"
   },
   {
    "duration": 186,
    "start_time": "2023-04-20T10:46:36.335Z"
   },
   {
    "duration": 3,
    "start_time": "2023-04-20T10:46:36.523Z"
   },
   {
    "duration": 1276,
    "start_time": "2023-04-20T10:46:36.527Z"
   },
   {
    "duration": 58,
    "start_time": "2023-04-20T10:46:37.805Z"
   },
   {
    "duration": 485,
    "start_time": "2023-04-20T10:46:37.864Z"
   },
   {
    "duration": 45,
    "start_time": "2023-04-20T10:46:38.350Z"
   },
   {
    "duration": 796,
    "start_time": "2023-04-20T10:46:38.397Z"
   },
   {
    "duration": 6,
    "start_time": "2023-04-20T10:46:39.195Z"
   },
   {
    "duration": 52,
    "start_time": "2023-04-20T10:46:39.203Z"
   },
   {
    "duration": 312,
    "start_time": "2023-04-20T10:46:39.257Z"
   },
   {
    "duration": 30,
    "start_time": "2023-04-20T10:46:39.570Z"
   },
   {
    "duration": 3,
    "start_time": "2023-04-20T10:46:39.602Z"
   },
   {
    "duration": 27,
    "start_time": "2023-04-20T10:46:39.606Z"
   },
   {
    "duration": 20,
    "start_time": "2023-04-20T10:46:39.634Z"
   },
   {
    "duration": 15,
    "start_time": "2023-04-20T10:46:39.656Z"
   },
   {
    "duration": 30,
    "start_time": "2023-04-20T10:46:39.673Z"
   },
   {
    "duration": 55,
    "start_time": "2023-04-20T10:46:39.705Z"
   },
   {
    "duration": 361,
    "start_time": "2023-04-20T10:46:39.762Z"
   },
   {
    "duration": 3,
    "start_time": "2023-04-20T10:46:40.124Z"
   },
   {
    "duration": 13,
    "start_time": "2023-04-20T10:46:40.128Z"
   },
   {
    "duration": 16,
    "start_time": "2023-04-20T10:46:40.142Z"
   },
   {
    "duration": 11,
    "start_time": "2023-04-20T10:46:40.159Z"
   },
   {
    "duration": 34,
    "start_time": "2023-04-20T10:46:40.171Z"
   },
   {
    "duration": 22,
    "start_time": "2023-04-20T10:46:40.206Z"
   },
   {
    "duration": 27,
    "start_time": "2023-04-20T10:46:40.231Z"
   },
   {
    "duration": 15,
    "start_time": "2023-04-20T10:46:40.259Z"
   },
   {
    "duration": 10,
    "start_time": "2023-04-20T10:46:42.776Z"
   },
   {
    "duration": 1638,
    "start_time": "2023-04-20T10:51:24.475Z"
   },
   {
    "duration": 4,
    "start_time": "2023-04-20T10:54:31.201Z"
   },
   {
    "duration": 3,
    "start_time": "2023-04-20T10:54:43.393Z"
   },
   {
    "duration": 585,
    "start_time": "2023-04-20T10:54:45.668Z"
   },
   {
    "duration": 1469,
    "start_time": "2023-04-20T10:55:36.008Z"
   },
   {
    "duration": 3,
    "start_time": "2023-04-20T10:55:37.479Z"
   },
   {
    "duration": 785,
    "start_time": "2023-04-20T10:55:37.483Z"
   },
   {
    "duration": 243,
    "start_time": "2023-04-20T10:55:38.270Z"
   },
   {
    "duration": 3,
    "start_time": "2023-04-20T10:55:38.515Z"
   },
   {
    "duration": 405,
    "start_time": "2023-04-20T10:55:38.519Z"
   },
   {
    "duration": 913,
    "start_time": "2023-04-20T10:55:38.925Z"
   },
   {
    "duration": 163,
    "start_time": "2023-04-20T10:55:39.840Z"
   },
   {
    "duration": 80,
    "start_time": "2023-04-20T10:55:40.005Z"
   },
   {
    "duration": 124,
    "start_time": "2023-04-20T10:55:40.087Z"
   },
   {
    "duration": 5,
    "start_time": "2023-04-20T10:55:40.212Z"
   },
   {
    "duration": 572,
    "start_time": "2023-04-20T10:55:40.218Z"
   },
   {
    "duration": 265,
    "start_time": "2023-04-20T10:55:40.792Z"
   },
   {
    "duration": 207,
    "start_time": "2023-04-20T10:55:41.059Z"
   },
   {
    "duration": 208,
    "start_time": "2023-04-20T10:55:41.268Z"
   },
   {
    "duration": 6,
    "start_time": "2023-04-20T10:55:41.477Z"
   },
   {
    "duration": 173,
    "start_time": "2023-04-20T10:55:41.484Z"
   },
   {
    "duration": 4,
    "start_time": "2023-04-20T10:55:41.658Z"
   },
   {
    "duration": 1276,
    "start_time": "2023-04-20T10:55:41.663Z"
   },
   {
    "duration": 50,
    "start_time": "2023-04-20T10:55:42.940Z"
   },
   {
    "duration": 451,
    "start_time": "2023-04-20T10:55:42.991Z"
   },
   {
    "duration": 48,
    "start_time": "2023-04-20T10:55:43.448Z"
   },
   {
    "duration": 768,
    "start_time": "2023-04-20T10:55:43.497Z"
   },
   {
    "duration": 6,
    "start_time": "2023-04-20T10:55:44.267Z"
   },
   {
    "duration": 87,
    "start_time": "2023-04-20T10:55:44.274Z"
   },
   {
    "duration": 337,
    "start_time": "2023-04-20T10:55:44.363Z"
   },
   {
    "duration": 34,
    "start_time": "2023-04-20T10:55:44.701Z"
   },
   {
    "duration": 13,
    "start_time": "2023-04-20T10:55:44.738Z"
   },
   {
    "duration": 12,
    "start_time": "2023-04-20T10:55:44.753Z"
   },
   {
    "duration": 38,
    "start_time": "2023-04-20T10:55:44.767Z"
   },
   {
    "duration": 13,
    "start_time": "2023-04-20T10:55:44.807Z"
   },
   {
    "duration": 26,
    "start_time": "2023-04-20T10:55:44.821Z"
   },
   {
    "duration": 48,
    "start_time": "2023-04-20T10:55:44.849Z"
   },
   {
    "duration": 343,
    "start_time": "2023-04-20T10:55:44.898Z"
   },
   {
    "duration": 2,
    "start_time": "2023-04-20T10:55:45.243Z"
   },
   {
    "duration": 7,
    "start_time": "2023-04-20T10:55:45.247Z"
   },
   {
    "duration": 5,
    "start_time": "2023-04-20T10:55:45.255Z"
   },
   {
    "duration": 18,
    "start_time": "2023-04-20T10:55:45.261Z"
   },
   {
    "duration": 17,
    "start_time": "2023-04-20T10:55:45.280Z"
   },
   {
    "duration": 13,
    "start_time": "2023-04-20T10:55:45.298Z"
   },
   {
    "duration": 2,
    "start_time": "2023-04-20T10:55:48.147Z"
   },
   {
    "duration": 89,
    "start_time": "2023-04-20T10:55:48.450Z"
   },
   {
    "duration": 4,
    "start_time": "2023-04-20T10:58:20.333Z"
   },
   {
    "duration": 623,
    "start_time": "2023-04-20T10:58:21.930Z"
   },
   {
    "duration": 3,
    "start_time": "2023-04-20T10:58:58.505Z"
   },
   {
    "duration": 579,
    "start_time": "2023-04-20T10:58:59.756Z"
   },
   {
    "duration": 2,
    "start_time": "2023-04-20T10:59:42.248Z"
   },
   {
    "duration": 1598,
    "start_time": "2023-04-20T10:59:43.730Z"
   },
   {
    "duration": 1729,
    "start_time": "2023-04-21T08:37:31.786Z"
   },
   {
    "duration": 3,
    "start_time": "2023-04-21T08:37:33.517Z"
   },
   {
    "duration": 3033,
    "start_time": "2023-04-21T08:37:33.521Z"
   },
   {
    "duration": 259,
    "start_time": "2023-04-21T08:37:36.557Z"
   },
   {
    "duration": 4,
    "start_time": "2023-04-21T08:37:36.817Z"
   },
   {
    "duration": 553,
    "start_time": "2023-04-21T08:37:36.823Z"
   },
   {
    "duration": 1196,
    "start_time": "2023-04-21T08:37:37.379Z"
   },
   {
    "duration": 171,
    "start_time": "2023-04-21T08:37:38.577Z"
   },
   {
    "duration": 80,
    "start_time": "2023-04-21T08:37:38.750Z"
   },
   {
    "duration": 116,
    "start_time": "2023-04-21T08:37:38.834Z"
   },
   {
    "duration": 5,
    "start_time": "2023-04-21T08:37:38.953Z"
   },
   {
    "duration": 700,
    "start_time": "2023-04-21T08:37:38.961Z"
   },
   {
    "duration": 298,
    "start_time": "2023-04-21T08:37:39.663Z"
   },
   {
    "duration": 218,
    "start_time": "2023-04-21T08:37:39.963Z"
   },
   {
    "duration": 232,
    "start_time": "2023-04-21T08:37:40.182Z"
   },
   {
    "duration": 7,
    "start_time": "2023-04-21T08:37:40.416Z"
   },
   {
    "duration": 191,
    "start_time": "2023-04-21T08:37:40.425Z"
   },
   {
    "duration": 4,
    "start_time": "2023-04-21T08:37:40.618Z"
   },
   {
    "duration": 1639,
    "start_time": "2023-04-21T08:37:40.624Z"
   },
   {
    "duration": 71,
    "start_time": "2023-04-21T08:37:42.265Z"
   },
   {
    "duration": 558,
    "start_time": "2023-04-21T08:37:42.339Z"
   },
   {
    "duration": 60,
    "start_time": "2023-04-21T08:37:42.898Z"
   },
   {
    "duration": 1004,
    "start_time": "2023-04-21T08:37:42.959Z"
   },
   {
    "duration": 6,
    "start_time": "2023-04-21T08:37:43.965Z"
   },
   {
    "duration": 56,
    "start_time": "2023-04-21T08:37:43.973Z"
   },
   {
    "duration": 343,
    "start_time": "2023-04-21T08:37:44.030Z"
   },
   {
    "duration": 38,
    "start_time": "2023-04-21T08:37:44.375Z"
   },
   {
    "duration": 3,
    "start_time": "2023-04-21T08:37:44.416Z"
   },
   {
    "duration": 7,
    "start_time": "2023-04-21T08:37:44.421Z"
   },
   {
    "duration": 5,
    "start_time": "2023-04-21T08:37:44.429Z"
   },
   {
    "duration": 4,
    "start_time": "2023-04-21T08:37:44.436Z"
   },
   {
    "duration": 18,
    "start_time": "2023-04-21T08:37:44.441Z"
   },
   {
    "duration": 90,
    "start_time": "2023-04-21T08:37:44.461Z"
   },
   {
    "duration": 348,
    "start_time": "2023-04-21T08:37:44.553Z"
   },
   {
    "duration": 3,
    "start_time": "2023-04-21T08:37:44.902Z"
   },
   {
    "duration": 6,
    "start_time": "2023-04-21T08:37:44.907Z"
   },
   {
    "duration": 5,
    "start_time": "2023-04-21T08:37:44.915Z"
   },
   {
    "duration": 5,
    "start_time": "2023-04-21T08:37:44.921Z"
   },
   {
    "duration": 15,
    "start_time": "2023-04-21T08:37:44.927Z"
   },
   {
    "duration": 3,
    "start_time": "2023-04-21T08:37:44.944Z"
   },
   {
    "duration": 4,
    "start_time": "2023-04-21T08:37:44.949Z"
   },
   {
    "duration": 85,
    "start_time": "2023-04-21T08:57:11.490Z"
   },
   {
    "duration": 2393,
    "start_time": "2023-04-21T08:57:21.195Z"
   },
   {
    "duration": 5,
    "start_time": "2023-04-21T09:00:30.813Z"
   },
   {
    "duration": 498,
    "start_time": "2023-04-21T09:00:50.123Z"
   },
   {
    "duration": 4,
    "start_time": "2023-04-21T09:00:52.229Z"
   },
   {
    "duration": 2306,
    "start_time": "2023-04-21T09:01:02.505Z"
   },
   {
    "duration": 5,
    "start_time": "2023-04-21T09:01:05.959Z"
   },
   {
    "duration": 1577,
    "start_time": "2023-04-21T09:03:19.177Z"
   },
   {
    "duration": 3,
    "start_time": "2023-04-21T09:03:20.756Z"
   },
   {
    "duration": 3223,
    "start_time": "2023-04-21T09:03:20.761Z"
   },
   {
    "duration": 221,
    "start_time": "2023-04-21T09:03:23.986Z"
   },
   {
    "duration": 3,
    "start_time": "2023-04-21T09:03:24.210Z"
   },
   {
    "duration": 506,
    "start_time": "2023-04-21T09:03:24.215Z"
   },
   {
    "duration": 1053,
    "start_time": "2023-04-21T09:03:24.724Z"
   },
   {
    "duration": 175,
    "start_time": "2023-04-21T09:03:25.779Z"
   },
   {
    "duration": 87,
    "start_time": "2023-04-21T09:03:25.956Z"
   },
   {
    "duration": 124,
    "start_time": "2023-04-21T09:03:26.045Z"
   },
   {
    "duration": 5,
    "start_time": "2023-04-21T09:03:26.170Z"
   },
   {
    "duration": 725,
    "start_time": "2023-04-21T09:03:26.176Z"
   },
   {
    "duration": 312,
    "start_time": "2023-04-21T09:03:26.904Z"
   },
   {
    "duration": 220,
    "start_time": "2023-04-21T09:03:27.225Z"
   },
   {
    "duration": 259,
    "start_time": "2023-04-21T09:03:27.447Z"
   },
   {
    "duration": 7,
    "start_time": "2023-04-21T09:03:27.708Z"
   },
   {
    "duration": 194,
    "start_time": "2023-04-21T09:03:27.717Z"
   },
   {
    "duration": 4,
    "start_time": "2023-04-21T09:03:27.913Z"
   },
   {
    "duration": 1679,
    "start_time": "2023-04-21T09:03:27.919Z"
   },
   {
    "duration": 59,
    "start_time": "2023-04-21T09:03:29.599Z"
   },
   {
    "duration": 582,
    "start_time": "2023-04-21T09:03:29.659Z"
   },
   {
    "duration": 65,
    "start_time": "2023-04-21T09:03:30.243Z"
   },
   {
    "duration": 1102,
    "start_time": "2023-04-21T09:03:30.311Z"
   },
   {
    "duration": 7,
    "start_time": "2023-04-21T09:03:31.415Z"
   },
   {
    "duration": 69,
    "start_time": "2023-04-21T09:03:31.423Z"
   },
   {
    "duration": 362,
    "start_time": "2023-04-21T09:03:31.494Z"
   },
   {
    "duration": 52,
    "start_time": "2023-04-21T09:03:31.859Z"
   },
   {
    "duration": 4,
    "start_time": "2023-04-21T09:03:31.913Z"
   },
   {
    "duration": 46,
    "start_time": "2023-04-21T09:03:31.919Z"
   },
   {
    "duration": 23,
    "start_time": "2023-04-21T09:03:31.967Z"
   },
   {
    "duration": 31,
    "start_time": "2023-04-21T09:03:31.993Z"
   },
   {
    "duration": 42,
    "start_time": "2023-04-21T09:03:32.027Z"
   },
   {
    "duration": 76,
    "start_time": "2023-04-21T09:03:32.071Z"
   },
   {
    "duration": 370,
    "start_time": "2023-04-21T09:03:32.149Z"
   },
   {
    "duration": 2,
    "start_time": "2023-04-21T09:03:32.521Z"
   },
   {
    "duration": 11,
    "start_time": "2023-04-21T09:03:32.525Z"
   },
   {
    "duration": 6,
    "start_time": "2023-04-21T09:03:32.538Z"
   },
   {
    "duration": 8,
    "start_time": "2023-04-21T09:03:32.546Z"
   },
   {
    "duration": 14,
    "start_time": "2023-04-21T09:03:32.556Z"
   },
   {
    "duration": 5,
    "start_time": "2023-04-21T09:03:32.572Z"
   },
   {
    "duration": 57,
    "start_time": "2023-04-21T09:03:47.778Z"
   },
   {
    "duration": 8,
    "start_time": "2023-04-21T09:04:09.575Z"
   },
   {
    "duration": 1549,
    "start_time": "2023-04-21T09:04:12.118Z"
   },
   {
    "duration": 2,
    "start_time": "2023-04-21T09:04:13.669Z"
   },
   {
    "duration": 3129,
    "start_time": "2023-04-21T09:04:13.673Z"
   },
   {
    "duration": 299,
    "start_time": "2023-04-21T09:04:16.805Z"
   },
   {
    "duration": 5,
    "start_time": "2023-04-21T09:04:17.105Z"
   },
   {
    "duration": 495,
    "start_time": "2023-04-21T09:04:17.111Z"
   },
   {
    "duration": 1073,
    "start_time": "2023-04-21T09:04:17.608Z"
   },
   {
    "duration": 170,
    "start_time": "2023-04-21T09:04:18.683Z"
   },
   {
    "duration": 84,
    "start_time": "2023-04-21T09:04:18.855Z"
   },
   {
    "duration": 121,
    "start_time": "2023-04-21T09:04:18.941Z"
   },
   {
    "duration": 5,
    "start_time": "2023-04-21T09:04:19.064Z"
   },
   {
    "duration": 695,
    "start_time": "2023-04-21T09:04:19.070Z"
   },
   {
    "duration": 306,
    "start_time": "2023-04-21T09:04:19.767Z"
   },
   {
    "duration": 218,
    "start_time": "2023-04-21T09:04:20.074Z"
   },
   {
    "duration": 246,
    "start_time": "2023-04-21T09:04:20.294Z"
   },
   {
    "duration": 8,
    "start_time": "2023-04-21T09:04:20.542Z"
   },
   {
    "duration": 198,
    "start_time": "2023-04-21T09:04:20.552Z"
   },
   {
    "duration": 4,
    "start_time": "2023-04-21T09:04:20.752Z"
   },
   {
    "duration": 1720,
    "start_time": "2023-04-21T09:04:20.757Z"
   },
   {
    "duration": 62,
    "start_time": "2023-04-21T09:04:22.479Z"
   },
   {
    "duration": 581,
    "start_time": "2023-04-21T09:04:22.542Z"
   },
   {
    "duration": 53,
    "start_time": "2023-04-21T09:04:23.124Z"
   },
   {
    "duration": 1209,
    "start_time": "2023-04-21T09:04:23.179Z"
   },
   {
    "duration": 7,
    "start_time": "2023-04-21T09:04:24.392Z"
   },
   {
    "duration": 40,
    "start_time": "2023-04-21T09:04:24.401Z"
   },
   {
    "duration": 371,
    "start_time": "2023-04-21T09:04:24.443Z"
   },
   {
    "duration": 31,
    "start_time": "2023-04-21T09:04:24.816Z"
   },
   {
    "duration": 3,
    "start_time": "2023-04-21T09:04:24.851Z"
   },
   {
    "duration": 8,
    "start_time": "2023-04-21T09:04:24.855Z"
   },
   {
    "duration": 5,
    "start_time": "2023-04-21T09:04:24.864Z"
   },
   {
    "duration": 6,
    "start_time": "2023-04-21T09:04:24.870Z"
   },
   {
    "duration": 20,
    "start_time": "2023-04-21T09:04:24.894Z"
   },
   {
    "duration": 86,
    "start_time": "2023-04-21T09:04:24.916Z"
   },
   {
    "duration": 370,
    "start_time": "2023-04-21T09:04:25.004Z"
   },
   {
    "duration": 2,
    "start_time": "2023-04-21T09:04:25.376Z"
   },
   {
    "duration": 16,
    "start_time": "2023-04-21T09:04:25.379Z"
   },
   {
    "duration": 12,
    "start_time": "2023-04-21T09:04:25.398Z"
   },
   {
    "duration": 5,
    "start_time": "2023-04-21T09:04:25.411Z"
   },
   {
    "duration": 7,
    "start_time": "2023-04-21T09:04:25.418Z"
   },
   {
    "duration": 9,
    "start_time": "2023-04-21T09:04:25.426Z"
   },
   {
    "duration": 1600,
    "start_time": "2023-04-21T09:04:51.707Z"
   },
   {
    "duration": 3,
    "start_time": "2023-04-21T09:04:53.310Z"
   },
   {
    "duration": 3141,
    "start_time": "2023-04-21T09:04:53.315Z"
   },
   {
    "duration": 220,
    "start_time": "2023-04-21T09:04:56.458Z"
   },
   {
    "duration": 14,
    "start_time": "2023-04-21T09:04:56.680Z"
   },
   {
    "duration": 478,
    "start_time": "2023-04-21T09:04:56.696Z"
   },
   {
    "duration": 1001,
    "start_time": "2023-04-21T09:04:57.176Z"
   },
   {
    "duration": 175,
    "start_time": "2023-04-21T09:04:58.179Z"
   },
   {
    "duration": 93,
    "start_time": "2023-04-21T09:04:58.356Z"
   },
   {
    "duration": 133,
    "start_time": "2023-04-21T09:04:58.451Z"
   },
   {
    "duration": 6,
    "start_time": "2023-04-21T09:04:58.593Z"
   },
   {
    "duration": 727,
    "start_time": "2023-04-21T09:04:58.602Z"
   },
   {
    "duration": 305,
    "start_time": "2023-04-21T09:04:59.331Z"
   },
   {
    "duration": 218,
    "start_time": "2023-04-21T09:04:59.639Z"
   },
   {
    "duration": 241,
    "start_time": "2023-04-21T09:04:59.859Z"
   },
   {
    "duration": 7,
    "start_time": "2023-04-21T09:05:00.102Z"
   },
   {
    "duration": 216,
    "start_time": "2023-04-21T09:05:00.111Z"
   },
   {
    "duration": 4,
    "start_time": "2023-04-21T09:05:00.329Z"
   },
   {
    "duration": 1695,
    "start_time": "2023-04-21T09:05:00.335Z"
   },
   {
    "duration": 64,
    "start_time": "2023-04-21T09:05:02.032Z"
   },
   {
    "duration": 666,
    "start_time": "2023-04-21T09:05:02.098Z"
   },
   {
    "duration": 60,
    "start_time": "2023-04-21T09:05:02.766Z"
   },
   {
    "duration": 1101,
    "start_time": "2023-04-21T09:05:02.828Z"
   },
   {
    "duration": 6,
    "start_time": "2023-04-21T09:05:03.931Z"
   },
   {
    "duration": 40,
    "start_time": "2023-04-21T09:05:03.938Z"
   },
   {
    "duration": 355,
    "start_time": "2023-04-21T09:05:03.992Z"
   },
   {
    "duration": 32,
    "start_time": "2023-04-21T09:05:04.349Z"
   },
   {
    "duration": 5,
    "start_time": "2023-04-21T09:05:04.393Z"
   },
   {
    "duration": 6,
    "start_time": "2023-04-21T09:05:04.400Z"
   },
   {
    "duration": 5,
    "start_time": "2023-04-21T09:05:04.407Z"
   },
   {
    "duration": 9,
    "start_time": "2023-04-21T09:05:04.413Z"
   },
   {
    "duration": 19,
    "start_time": "2023-04-21T09:05:04.424Z"
   },
   {
    "duration": 91,
    "start_time": "2023-04-21T09:05:04.444Z"
   },
   {
    "duration": 346,
    "start_time": "2023-04-21T09:05:04.536Z"
   },
   {
    "duration": 2,
    "start_time": "2023-04-21T09:05:04.884Z"
   },
   {
    "duration": 4,
    "start_time": "2023-04-21T09:05:04.894Z"
   },
   {
    "duration": 6,
    "start_time": "2023-04-21T09:05:04.900Z"
   },
   {
    "duration": 5,
    "start_time": "2023-04-21T09:05:04.908Z"
   },
   {
    "duration": 7,
    "start_time": "2023-04-21T09:05:04.915Z"
   },
   {
    "duration": 4,
    "start_time": "2023-04-21T09:05:04.923Z"
   },
   {
    "duration": 3,
    "start_time": "2023-04-21T09:05:04.930Z"
   },
   {
    "duration": 2307,
    "start_time": "2023-04-21T09:05:04.935Z"
   },
   {
    "duration": 6,
    "start_time": "2023-04-21T09:05:07.244Z"
   },
   {
    "duration": 20,
    "start_time": "2023-04-21T09:05:37.974Z"
   },
   {
    "duration": 1553,
    "start_time": "2023-04-21T09:06:01.336Z"
   },
   {
    "duration": 3,
    "start_time": "2023-04-21T09:06:02.890Z"
   },
   {
    "duration": 953,
    "start_time": "2023-04-21T09:06:02.895Z"
   },
   {
    "duration": 235,
    "start_time": "2023-04-21T09:06:03.850Z"
   },
   {
    "duration": 4,
    "start_time": "2023-04-21T09:06:04.086Z"
   },
   {
    "duration": 495,
    "start_time": "2023-04-21T09:06:04.093Z"
   },
   {
    "duration": 1060,
    "start_time": "2023-04-21T09:06:04.590Z"
   },
   {
    "duration": 171,
    "start_time": "2023-04-21T09:06:05.652Z"
   },
   {
    "duration": 88,
    "start_time": "2023-04-21T09:06:05.825Z"
   },
   {
    "duration": 123,
    "start_time": "2023-04-21T09:06:05.915Z"
   },
   {
    "duration": 5,
    "start_time": "2023-04-21T09:06:06.040Z"
   },
   {
    "duration": 710,
    "start_time": "2023-04-21T09:06:06.047Z"
   },
   {
    "duration": 306,
    "start_time": "2023-04-21T09:06:06.760Z"
   },
   {
    "duration": 228,
    "start_time": "2023-04-21T09:06:07.068Z"
   },
   {
    "duration": 244,
    "start_time": "2023-04-21T09:06:07.298Z"
   },
   {
    "duration": 7,
    "start_time": "2023-04-21T09:06:07.544Z"
   },
   {
    "duration": 194,
    "start_time": "2023-04-21T09:06:07.553Z"
   },
   {
    "duration": 4,
    "start_time": "2023-04-21T09:06:07.749Z"
   },
   {
    "duration": 1676,
    "start_time": "2023-04-21T09:06:07.755Z"
   },
   {
    "duration": 61,
    "start_time": "2023-04-21T09:06:09.433Z"
   },
   {
    "duration": 593,
    "start_time": "2023-04-21T09:06:09.496Z"
   },
   {
    "duration": 52,
    "start_time": "2023-04-21T09:06:10.092Z"
   },
   {
    "duration": 1014,
    "start_time": "2023-04-21T09:06:10.146Z"
   },
   {
    "duration": 7,
    "start_time": "2023-04-21T09:06:11.162Z"
   },
   {
    "duration": 60,
    "start_time": "2023-04-21T09:06:11.171Z"
   },
   {
    "duration": 380,
    "start_time": "2023-04-21T09:06:11.232Z"
   },
   {
    "duration": 32,
    "start_time": "2023-04-21T09:06:11.614Z"
   },
   {
    "duration": 4,
    "start_time": "2023-04-21T09:06:11.647Z"
   },
   {
    "duration": 31,
    "start_time": "2023-04-21T09:06:11.652Z"
   },
   {
    "duration": 16,
    "start_time": "2023-04-21T09:06:11.685Z"
   },
   {
    "duration": 17,
    "start_time": "2023-04-21T09:06:11.703Z"
   },
   {
    "duration": 26,
    "start_time": "2023-04-21T09:06:11.722Z"
   },
   {
    "duration": 84,
    "start_time": "2023-04-21T09:06:11.750Z"
   },
   {
    "duration": 400,
    "start_time": "2023-04-21T09:06:11.836Z"
   },
   {
    "duration": 2,
    "start_time": "2023-04-21T09:06:12.238Z"
   },
   {
    "duration": 15,
    "start_time": "2023-04-21T09:06:12.242Z"
   },
   {
    "duration": 35,
    "start_time": "2023-04-21T09:06:12.259Z"
   },
   {
    "duration": 26,
    "start_time": "2023-04-21T09:06:12.296Z"
   },
   {
    "duration": 39,
    "start_time": "2023-04-21T09:06:12.324Z"
   },
   {
    "duration": 13,
    "start_time": "2023-04-21T09:06:12.367Z"
   },
   {
    "duration": 26,
    "start_time": "2023-04-21T09:06:12.382Z"
   },
   {
    "duration": 214,
    "start_time": "2023-04-21T09:06:12.409Z"
   },
   {
    "duration": 0,
    "start_time": "2023-04-21T09:06:12.625Z"
   },
   {
    "duration": 1267,
    "start_time": "2023-04-21T09:07:01.256Z"
   },
   {
    "duration": 4,
    "start_time": "2023-04-21T09:07:04.243Z"
   },
   {
    "duration": 1538,
    "start_time": "2023-04-21T09:13:43.595Z"
   },
   {
    "duration": 4,
    "start_time": "2023-04-21T09:13:45.135Z"
   },
   {
    "duration": 3149,
    "start_time": "2023-04-21T09:13:45.141Z"
   },
   {
    "duration": 238,
    "start_time": "2023-04-21T09:13:48.292Z"
   },
   {
    "duration": 4,
    "start_time": "2023-04-21T09:13:48.534Z"
   },
   {
    "duration": 509,
    "start_time": "2023-04-21T09:13:48.539Z"
   },
   {
    "duration": 1074,
    "start_time": "2023-04-21T09:13:49.050Z"
   },
   {
    "duration": 169,
    "start_time": "2023-04-21T09:13:50.125Z"
   },
   {
    "duration": 81,
    "start_time": "2023-04-21T09:13:50.296Z"
   },
   {
    "duration": 130,
    "start_time": "2023-04-21T09:13:50.379Z"
   },
   {
    "duration": 5,
    "start_time": "2023-04-21T09:13:50.512Z"
   },
   {
    "duration": 693,
    "start_time": "2023-04-21T09:13:50.518Z"
   },
   {
    "duration": 311,
    "start_time": "2023-04-21T09:13:51.213Z"
   },
   {
    "duration": 211,
    "start_time": "2023-04-21T09:13:51.526Z"
   },
   {
    "duration": 328,
    "start_time": "2023-04-21T09:13:51.738Z"
   },
   {
    "duration": 7,
    "start_time": "2023-04-21T09:13:52.068Z"
   },
   {
    "duration": 208,
    "start_time": "2023-04-21T09:13:52.077Z"
   },
   {
    "duration": 8,
    "start_time": "2023-04-21T09:13:52.287Z"
   },
   {
    "duration": 1625,
    "start_time": "2023-04-21T09:13:52.297Z"
   },
   {
    "duration": 68,
    "start_time": "2023-04-21T09:13:53.925Z"
   },
   {
    "duration": 562,
    "start_time": "2023-04-21T09:13:53.995Z"
   },
   {
    "duration": 63,
    "start_time": "2023-04-21T09:13:54.558Z"
   },
   {
    "duration": 1048,
    "start_time": "2023-04-21T09:13:54.623Z"
   },
   {
    "duration": 7,
    "start_time": "2023-04-21T09:13:55.673Z"
   },
   {
    "duration": 51,
    "start_time": "2023-04-21T09:13:55.681Z"
   },
   {
    "duration": 384,
    "start_time": "2023-04-21T09:13:55.734Z"
   },
   {
    "duration": 33,
    "start_time": "2023-04-21T09:13:56.120Z"
   },
   {
    "duration": 4,
    "start_time": "2023-04-21T09:13:56.155Z"
   },
   {
    "duration": 7,
    "start_time": "2023-04-21T09:13:56.160Z"
   },
   {
    "duration": 4,
    "start_time": "2023-04-21T09:13:56.169Z"
   },
   {
    "duration": 22,
    "start_time": "2023-04-21T09:13:56.175Z"
   },
   {
    "duration": 17,
    "start_time": "2023-04-21T09:13:56.199Z"
   },
   {
    "duration": 87,
    "start_time": "2023-04-21T09:13:56.217Z"
   },
   {
    "duration": 366,
    "start_time": "2023-04-21T09:13:56.306Z"
   },
   {
    "duration": 2,
    "start_time": "2023-04-21T09:13:56.674Z"
   },
   {
    "duration": 16,
    "start_time": "2023-04-21T09:13:56.677Z"
   },
   {
    "duration": 5,
    "start_time": "2023-04-21T09:13:56.695Z"
   },
   {
    "duration": 6,
    "start_time": "2023-04-21T09:13:56.701Z"
   },
   {
    "duration": 18,
    "start_time": "2023-04-21T09:13:56.708Z"
   },
   {
    "duration": 10,
    "start_time": "2023-04-21T09:13:56.729Z"
   },
   {
    "duration": 3,
    "start_time": "2023-04-21T09:13:56.742Z"
   },
   {
    "duration": 263,
    "start_time": "2023-04-21T09:13:56.746Z"
   },
   {
    "duration": 0,
    "start_time": "2023-04-21T09:13:57.011Z"
   },
   {
    "duration": 50,
    "start_time": "2023-04-21T09:17:47.240Z"
   },
   {
    "duration": 1508,
    "start_time": "2023-04-21T09:17:52.852Z"
   },
   {
    "duration": 3,
    "start_time": "2023-04-21T09:17:54.362Z"
   },
   {
    "duration": 3149,
    "start_time": "2023-04-21T09:17:54.367Z"
   },
   {
    "duration": 242,
    "start_time": "2023-04-21T09:17:57.519Z"
   },
   {
    "duration": 3,
    "start_time": "2023-04-21T09:17:57.764Z"
   },
   {
    "duration": 540,
    "start_time": "2023-04-21T09:17:57.770Z"
   },
   {
    "duration": 1174,
    "start_time": "2023-04-21T09:17:58.312Z"
   },
   {
    "duration": 180,
    "start_time": "2023-04-21T09:17:59.489Z"
   },
   {
    "duration": 86,
    "start_time": "2023-04-21T09:17:59.671Z"
   },
   {
    "duration": 139,
    "start_time": "2023-04-21T09:17:59.761Z"
   },
   {
    "duration": 6,
    "start_time": "2023-04-21T09:17:59.902Z"
   },
   {
    "duration": 731,
    "start_time": "2023-04-21T09:17:59.910Z"
   },
   {
    "duration": 311,
    "start_time": "2023-04-21T09:18:00.644Z"
   },
   {
    "duration": 243,
    "start_time": "2023-04-21T09:18:00.957Z"
   },
   {
    "duration": 268,
    "start_time": "2023-04-21T09:18:01.202Z"
   },
   {
    "duration": 7,
    "start_time": "2023-04-21T09:18:01.472Z"
   },
   {
    "duration": 244,
    "start_time": "2023-04-21T09:18:01.481Z"
   },
   {
    "duration": 4,
    "start_time": "2023-04-21T09:18:01.727Z"
   },
   {
    "duration": 1860,
    "start_time": "2023-04-21T09:18:01.733Z"
   },
   {
    "duration": 59,
    "start_time": "2023-04-21T09:18:03.595Z"
   },
   {
    "duration": 595,
    "start_time": "2023-04-21T09:18:03.656Z"
   },
   {
    "duration": 59,
    "start_time": "2023-04-21T09:18:04.253Z"
   },
   {
    "duration": 1064,
    "start_time": "2023-04-21T09:18:04.313Z"
   },
   {
    "duration": 7,
    "start_time": "2023-04-21T09:18:05.379Z"
   },
   {
    "duration": 46,
    "start_time": "2023-04-21T09:18:05.387Z"
   },
   {
    "duration": 375,
    "start_time": "2023-04-21T09:18:05.435Z"
   },
   {
    "duration": 33,
    "start_time": "2023-04-21T09:18:05.811Z"
   },
   {
    "duration": 4,
    "start_time": "2023-04-21T09:18:05.847Z"
   },
   {
    "duration": 13,
    "start_time": "2023-04-21T09:18:05.852Z"
   },
   {
    "duration": 5,
    "start_time": "2023-04-21T09:18:05.867Z"
   },
   {
    "duration": 4,
    "start_time": "2023-04-21T09:18:05.873Z"
   },
   {
    "duration": 15,
    "start_time": "2023-04-21T09:18:05.894Z"
   },
   {
    "duration": 87,
    "start_time": "2023-04-21T09:18:05.911Z"
   },
   {
    "duration": 377,
    "start_time": "2023-04-21T09:18:06.000Z"
   },
   {
    "duration": 3,
    "start_time": "2023-04-21T09:18:06.378Z"
   },
   {
    "duration": 14,
    "start_time": "2023-04-21T09:18:06.382Z"
   },
   {
    "duration": 9,
    "start_time": "2023-04-21T09:18:06.397Z"
   },
   {
    "duration": 6,
    "start_time": "2023-04-21T09:18:06.407Z"
   },
   {
    "duration": 12,
    "start_time": "2023-04-21T09:18:06.414Z"
   },
   {
    "duration": 24,
    "start_time": "2023-04-21T09:18:06.427Z"
   },
   {
    "duration": 7,
    "start_time": "2023-04-21T09:18:06.452Z"
   },
   {
    "duration": 1349,
    "start_time": "2023-04-21T09:18:06.460Z"
   },
   {
    "duration": 0,
    "start_time": "2023-04-21T09:18:07.811Z"
   },
   {
    "duration": 1488,
    "start_time": "2023-04-21T09:19:42.341Z"
   },
   {
    "duration": 4,
    "start_time": "2023-04-21T09:19:43.831Z"
   },
   {
    "duration": 3097,
    "start_time": "2023-04-21T09:19:43.836Z"
   },
   {
    "duration": 283,
    "start_time": "2023-04-21T09:19:46.935Z"
   },
   {
    "duration": 4,
    "start_time": "2023-04-21T09:19:47.220Z"
   },
   {
    "duration": 498,
    "start_time": "2023-04-21T09:19:47.226Z"
   },
   {
    "duration": 1047,
    "start_time": "2023-04-21T09:19:47.727Z"
   },
   {
    "duration": 168,
    "start_time": "2023-04-21T09:19:48.775Z"
   },
   {
    "duration": 82,
    "start_time": "2023-04-21T09:19:48.945Z"
   },
   {
    "duration": 128,
    "start_time": "2023-04-21T09:19:49.030Z"
   },
   {
    "duration": 5,
    "start_time": "2023-04-21T09:19:49.160Z"
   },
   {
    "duration": 729,
    "start_time": "2023-04-21T09:19:49.166Z"
   },
   {
    "duration": 297,
    "start_time": "2023-04-21T09:19:49.897Z"
   },
   {
    "duration": 214,
    "start_time": "2023-04-21T09:19:50.198Z"
   },
   {
    "duration": 232,
    "start_time": "2023-04-21T09:19:50.414Z"
   },
   {
    "duration": 6,
    "start_time": "2023-04-21T09:19:50.648Z"
   },
   {
    "duration": 200,
    "start_time": "2023-04-21T09:19:50.656Z"
   },
   {
    "duration": 4,
    "start_time": "2023-04-21T09:19:50.858Z"
   },
   {
    "duration": 1769,
    "start_time": "2023-04-21T09:19:50.864Z"
   },
   {
    "duration": 58,
    "start_time": "2023-04-21T09:19:52.635Z"
   },
   {
    "duration": 567,
    "start_time": "2023-04-21T09:19:52.696Z"
   },
   {
    "duration": 66,
    "start_time": "2023-04-21T09:19:53.265Z"
   },
   {
    "duration": 1017,
    "start_time": "2023-04-21T09:19:53.333Z"
   },
   {
    "duration": 7,
    "start_time": "2023-04-21T09:19:54.351Z"
   },
   {
    "duration": 55,
    "start_time": "2023-04-21T09:19:54.360Z"
   },
   {
    "duration": 363,
    "start_time": "2023-04-21T09:19:54.417Z"
   },
   {
    "duration": 42,
    "start_time": "2023-04-21T09:19:54.782Z"
   },
   {
    "duration": 3,
    "start_time": "2023-04-21T09:19:54.827Z"
   },
   {
    "duration": 12,
    "start_time": "2023-04-21T09:19:54.832Z"
   },
   {
    "duration": 13,
    "start_time": "2023-04-21T09:19:54.846Z"
   },
   {
    "duration": 28,
    "start_time": "2023-04-21T09:19:54.861Z"
   },
   {
    "duration": 45,
    "start_time": "2023-04-21T09:19:54.891Z"
   },
   {
    "duration": 73,
    "start_time": "2023-04-21T09:19:54.938Z"
   },
   {
    "duration": 8,
    "start_time": "2023-04-21T09:20:20.748Z"
   },
   {
    "duration": 4,
    "start_time": "2023-04-21T09:20:40.742Z"
   },
   {
    "duration": 8,
    "start_time": "2023-04-21T09:20:40.748Z"
   },
   {
    "duration": 849,
    "start_time": "2023-04-21T09:20:40.758Z"
   },
   {
    "duration": 246,
    "start_time": "2023-04-21T09:20:41.609Z"
   },
   {
    "duration": 4,
    "start_time": "2023-04-21T09:20:41.858Z"
   },
   {
    "duration": 521,
    "start_time": "2023-04-21T09:20:41.864Z"
   },
   {
    "duration": 972,
    "start_time": "2023-04-21T09:20:42.387Z"
   },
   {
    "duration": 133,
    "start_time": "2023-04-21T09:20:43.361Z"
   },
   {
    "duration": 74,
    "start_time": "2023-04-21T09:20:43.496Z"
   },
   {
    "duration": 140,
    "start_time": "2023-04-21T09:20:43.572Z"
   },
   {
    "duration": 5,
    "start_time": "2023-04-21T09:20:43.714Z"
   },
   {
    "duration": 643,
    "start_time": "2023-04-21T09:20:43.721Z"
   },
   {
    "duration": 227,
    "start_time": "2023-04-21T09:20:44.366Z"
   },
   {
    "duration": 214,
    "start_time": "2023-04-21T09:20:44.597Z"
   },
   {
    "duration": 373,
    "start_time": "2023-04-21T09:20:44.813Z"
   },
   {
    "duration": 9,
    "start_time": "2023-04-21T09:20:45.188Z"
   },
   {
    "duration": 195,
    "start_time": "2023-04-21T09:20:45.199Z"
   },
   {
    "duration": 4,
    "start_time": "2023-04-21T09:20:45.396Z"
   },
   {
    "duration": 1668,
    "start_time": "2023-04-21T09:20:45.402Z"
   },
   {
    "duration": 58,
    "start_time": "2023-04-21T09:20:47.071Z"
   },
   {
    "duration": 584,
    "start_time": "2023-04-21T09:20:47.131Z"
   },
   {
    "duration": 50,
    "start_time": "2023-04-21T09:20:47.717Z"
   },
   {
    "duration": 1067,
    "start_time": "2023-04-21T09:20:47.769Z"
   },
   {
    "duration": 7,
    "start_time": "2023-04-21T09:20:48.837Z"
   },
   {
    "duration": 56,
    "start_time": "2023-04-21T09:20:48.845Z"
   },
   {
    "duration": 364,
    "start_time": "2023-04-21T09:20:48.903Z"
   },
   {
    "duration": 46,
    "start_time": "2023-04-21T09:20:49.269Z"
   },
   {
    "duration": 5,
    "start_time": "2023-04-21T09:20:49.317Z"
   },
   {
    "duration": 4,
    "start_time": "2023-04-21T09:20:49.324Z"
   },
   {
    "duration": 4,
    "start_time": "2023-04-21T09:20:49.330Z"
   },
   {
    "duration": 16,
    "start_time": "2023-04-21T09:20:49.336Z"
   },
   {
    "duration": 26,
    "start_time": "2023-04-21T09:20:49.354Z"
   },
   {
    "duration": 82,
    "start_time": "2023-04-21T09:20:49.382Z"
   },
   {
    "duration": 8,
    "start_time": "2023-04-21T09:20:55.714Z"
   },
   {
    "duration": 4,
    "start_time": "2023-04-21T09:21:03.244Z"
   },
   {
    "duration": 139,
    "start_time": "2023-04-21T09:22:02.658Z"
   },
   {
    "duration": 17,
    "start_time": "2023-04-21T09:22:08.928Z"
   },
   {
    "duration": 4,
    "start_time": "2023-04-21T09:22:10.678Z"
   },
   {
    "duration": 7,
    "start_time": "2023-04-21T09:22:22.318Z"
   },
   {
    "duration": 11,
    "start_time": "2023-04-21T09:23:34.676Z"
   },
   {
    "duration": 54,
    "start_time": "2023-04-21T09:29:10.492Z"
   },
   {
    "duration": 1477,
    "start_time": "2023-04-21T09:29:37.750Z"
   },
   {
    "duration": 1537,
    "start_time": "2023-04-21T09:29:53.581Z"
   },
   {
    "duration": 3,
    "start_time": "2023-04-21T09:29:55.120Z"
   },
   {
    "duration": 3132,
    "start_time": "2023-04-21T09:29:55.124Z"
   },
   {
    "duration": 234,
    "start_time": "2023-04-21T09:29:58.258Z"
   },
   {
    "duration": 4,
    "start_time": "2023-04-21T09:29:58.494Z"
   },
   {
    "duration": 539,
    "start_time": "2023-04-21T09:29:58.500Z"
   },
   {
    "duration": 1092,
    "start_time": "2023-04-21T09:29:59.041Z"
   },
   {
    "duration": 180,
    "start_time": "2023-04-21T09:30:00.135Z"
   },
   {
    "duration": 91,
    "start_time": "2023-04-21T09:30:00.318Z"
   },
   {
    "duration": 121,
    "start_time": "2023-04-21T09:30:00.413Z"
   },
   {
    "duration": 9,
    "start_time": "2023-04-21T09:30:00.536Z"
   },
   {
    "duration": 790,
    "start_time": "2023-04-21T09:30:00.547Z"
   },
   {
    "duration": 328,
    "start_time": "2023-04-21T09:30:01.340Z"
   },
   {
    "duration": 254,
    "start_time": "2023-04-21T09:30:01.670Z"
   },
   {
    "duration": 299,
    "start_time": "2023-04-21T09:30:01.926Z"
   },
   {
    "duration": 8,
    "start_time": "2023-04-21T09:30:02.228Z"
   },
   {
    "duration": 231,
    "start_time": "2023-04-21T09:30:02.238Z"
   },
   {
    "duration": 5,
    "start_time": "2023-04-21T09:30:02.471Z"
   },
   {
    "duration": 1640,
    "start_time": "2023-04-21T09:30:02.478Z"
   },
   {
    "duration": 57,
    "start_time": "2023-04-21T09:30:04.120Z"
   },
   {
    "duration": 572,
    "start_time": "2023-04-21T09:30:04.178Z"
   },
   {
    "duration": 58,
    "start_time": "2023-04-21T09:30:04.752Z"
   },
   {
    "duration": 1027,
    "start_time": "2023-04-21T09:30:04.811Z"
   },
   {
    "duration": 7,
    "start_time": "2023-04-21T09:30:05.839Z"
   },
   {
    "duration": 56,
    "start_time": "2023-04-21T09:30:05.847Z"
   },
   {
    "duration": 347,
    "start_time": "2023-04-21T09:30:05.905Z"
   },
   {
    "duration": 47,
    "start_time": "2023-04-21T09:30:06.254Z"
   },
   {
    "duration": 4,
    "start_time": "2023-04-21T09:30:06.306Z"
   },
   {
    "duration": 6,
    "start_time": "2023-04-21T09:30:06.311Z"
   },
   {
    "duration": 5,
    "start_time": "2023-04-21T09:30:06.319Z"
   },
   {
    "duration": 4,
    "start_time": "2023-04-21T09:30:06.326Z"
   },
   {
    "duration": 20,
    "start_time": "2023-04-21T09:30:06.332Z"
   },
   {
    "duration": 101,
    "start_time": "2023-04-21T09:30:06.354Z"
   },
   {
    "duration": 18,
    "start_time": "2023-04-21T09:30:06.456Z"
   },
   {
    "duration": 368,
    "start_time": "2023-04-21T09:30:06.475Z"
   },
   {
    "duration": 3,
    "start_time": "2023-04-21T09:30:06.845Z"
   },
   {
    "duration": 6,
    "start_time": "2023-04-21T09:30:06.850Z"
   },
   {
    "duration": 7,
    "start_time": "2023-04-21T09:30:06.858Z"
   },
   {
    "duration": 4,
    "start_time": "2023-04-21T09:30:06.867Z"
   },
   {
    "duration": 5,
    "start_time": "2023-04-21T09:30:06.894Z"
   },
   {
    "duration": 10,
    "start_time": "2023-04-21T09:30:06.901Z"
   },
   {
    "duration": 13,
    "start_time": "2023-04-21T09:30:06.913Z"
   },
   {
    "duration": 10,
    "start_time": "2023-04-21T09:30:06.928Z"
   },
   {
    "duration": 9,
    "start_time": "2023-04-21T09:30:06.941Z"
   },
   {
    "duration": 26,
    "start_time": "2023-04-21T09:30:06.952Z"
   },
   {
    "duration": 126,
    "start_time": "2023-04-21T09:32:20.817Z"
   },
   {
    "duration": 5,
    "start_time": "2023-04-21T09:32:48.470Z"
   },
   {
    "duration": 11,
    "start_time": "2023-04-21T09:32:52.405Z"
   },
   {
    "duration": 3,
    "start_time": "2023-04-21T09:33:39.132Z"
   },
   {
    "duration": 3,
    "start_time": "2023-04-21T09:34:07.622Z"
   },
   {
    "duration": 50,
    "start_time": "2023-04-21T09:37:59.330Z"
   },
   {
    "duration": 1483,
    "start_time": "2023-04-21T09:38:12.844Z"
   },
   {
    "duration": 3,
    "start_time": "2023-04-21T09:38:14.329Z"
   },
   {
    "duration": 3188,
    "start_time": "2023-04-21T09:38:14.333Z"
   },
   {
    "duration": 214,
    "start_time": "2023-04-21T09:38:17.524Z"
   },
   {
    "duration": 5,
    "start_time": "2023-04-21T09:38:17.740Z"
   },
   {
    "duration": 500,
    "start_time": "2023-04-21T09:38:17.746Z"
   },
   {
    "duration": 1027,
    "start_time": "2023-04-21T09:38:18.248Z"
   },
   {
    "duration": 171,
    "start_time": "2023-04-21T09:38:19.277Z"
   },
   {
    "duration": 87,
    "start_time": "2023-04-21T09:38:19.450Z"
   },
   {
    "duration": 121,
    "start_time": "2023-04-21T09:38:19.540Z"
   },
   {
    "duration": 5,
    "start_time": "2023-04-21T09:38:19.664Z"
   },
   {
    "duration": 770,
    "start_time": "2023-04-21T09:38:19.671Z"
   },
   {
    "duration": 309,
    "start_time": "2023-04-21T09:38:20.443Z"
   },
   {
    "duration": 229,
    "start_time": "2023-04-21T09:38:20.753Z"
   },
   {
    "duration": 255,
    "start_time": "2023-04-21T09:38:20.983Z"
   },
   {
    "duration": 8,
    "start_time": "2023-04-21T09:38:21.240Z"
   },
   {
    "duration": 213,
    "start_time": "2023-04-21T09:38:21.249Z"
   },
   {
    "duration": 4,
    "start_time": "2023-04-21T09:38:21.464Z"
   },
   {
    "duration": 1715,
    "start_time": "2023-04-21T09:38:21.470Z"
   },
   {
    "duration": 69,
    "start_time": "2023-04-21T09:38:23.187Z"
   },
   {
    "duration": 618,
    "start_time": "2023-04-21T09:38:23.260Z"
   },
   {
    "duration": 69,
    "start_time": "2023-04-21T09:38:23.879Z"
   },
   {
    "duration": 1172,
    "start_time": "2023-04-21T09:38:23.951Z"
   },
   {
    "duration": 6,
    "start_time": "2023-04-21T09:38:25.124Z"
   },
   {
    "duration": 40,
    "start_time": "2023-04-21T09:38:25.132Z"
   },
   {
    "duration": 392,
    "start_time": "2023-04-21T09:38:25.174Z"
   },
   {
    "duration": 40,
    "start_time": "2023-04-21T09:38:25.567Z"
   },
   {
    "duration": 3,
    "start_time": "2023-04-21T09:38:25.611Z"
   },
   {
    "duration": 28,
    "start_time": "2023-04-21T09:38:25.615Z"
   },
   {
    "duration": 25,
    "start_time": "2023-04-21T09:38:25.645Z"
   },
   {
    "duration": 19,
    "start_time": "2023-04-21T09:38:25.672Z"
   },
   {
    "duration": 33,
    "start_time": "2023-04-21T09:38:25.693Z"
   },
   {
    "duration": 66,
    "start_time": "2023-04-21T09:38:25.729Z"
   },
   {
    "duration": 19,
    "start_time": "2023-04-21T09:38:25.797Z"
   },
   {
    "duration": 361,
    "start_time": "2023-04-21T09:38:25.817Z"
   },
   {
    "duration": 14,
    "start_time": "2023-04-21T09:38:26.180Z"
   },
   {
    "duration": 12,
    "start_time": "2023-04-21T09:38:26.196Z"
   },
   {
    "duration": 4,
    "start_time": "2023-04-21T09:38:26.210Z"
   },
   {
    "duration": 7,
    "start_time": "2023-04-21T09:38:26.216Z"
   },
   {
    "duration": 4,
    "start_time": "2023-04-21T09:38:26.225Z"
   },
   {
    "duration": 10,
    "start_time": "2023-04-21T09:38:26.231Z"
   },
   {
    "duration": 7,
    "start_time": "2023-04-21T09:38:26.243Z"
   },
   {
    "duration": 9,
    "start_time": "2023-04-21T09:38:26.251Z"
   },
   {
    "duration": 19,
    "start_time": "2023-04-21T09:38:26.262Z"
   },
   {
    "duration": 7,
    "start_time": "2023-04-21T09:38:26.283Z"
   },
   {
    "duration": 6,
    "start_time": "2023-04-21T09:38:26.292Z"
   },
   {
    "duration": 20,
    "start_time": "2023-04-21T09:38:26.300Z"
   },
   {
    "duration": 13,
    "start_time": "2023-04-21T09:38:32.701Z"
   },
   {
    "duration": 547,
    "start_time": "2023-04-21T09:39:09.720Z"
   },
   {
    "duration": 110,
    "start_time": "2023-04-21T09:39:11.457Z"
   },
   {
    "duration": 279,
    "start_time": "2023-04-21T09:41:03.019Z"
   },
   {
    "duration": 183,
    "start_time": "2023-04-21T09:41:22.328Z"
   },
   {
    "duration": 350,
    "start_time": "2023-04-21T09:41:27.182Z"
   },
   {
    "duration": 4,
    "start_time": "2023-04-21T09:41:50.779Z"
   },
   {
    "duration": 222,
    "start_time": "2023-04-21T09:44:06.691Z"
   },
   {
    "duration": 113,
    "start_time": "2023-04-21T09:44:21.133Z"
   },
   {
    "duration": 1679,
    "start_time": "2023-04-21T09:58:57.273Z"
   },
   {
    "duration": 4,
    "start_time": "2023-04-21T09:58:58.953Z"
   },
   {
    "duration": 1025,
    "start_time": "2023-04-21T09:58:58.959Z"
   },
   {
    "duration": 284,
    "start_time": "2023-04-21T09:58:59.987Z"
   },
   {
    "duration": 4,
    "start_time": "2023-04-21T09:59:00.274Z"
   },
   {
    "duration": 705,
    "start_time": "2023-04-21T09:59:00.280Z"
   },
   {
    "duration": 1280,
    "start_time": "2023-04-21T09:59:00.987Z"
   },
   {
    "duration": 216,
    "start_time": "2023-04-21T09:59:02.270Z"
   },
   {
    "duration": 109,
    "start_time": "2023-04-21T09:59:02.493Z"
   },
   {
    "duration": 151,
    "start_time": "2023-04-21T09:59:02.610Z"
   },
   {
    "duration": 14,
    "start_time": "2023-04-21T09:59:02.763Z"
   },
   {
    "duration": 790,
    "start_time": "2023-04-21T09:59:02.779Z"
   },
   {
    "duration": 352,
    "start_time": "2023-04-21T09:59:03.571Z"
   },
   {
    "duration": 258,
    "start_time": "2023-04-21T09:59:03.927Z"
   },
   {
    "duration": 275,
    "start_time": "2023-04-21T09:59:04.188Z"
   },
   {
    "duration": 8,
    "start_time": "2023-04-21T09:59:04.465Z"
   },
   {
    "duration": 221,
    "start_time": "2023-04-21T09:59:04.474Z"
   },
   {
    "duration": 11,
    "start_time": "2023-04-21T09:59:04.708Z"
   },
   {
    "duration": 1803,
    "start_time": "2023-04-21T09:59:04.723Z"
   },
   {
    "duration": 56,
    "start_time": "2023-04-21T09:59:06.529Z"
   },
   {
    "duration": 640,
    "start_time": "2023-04-21T09:59:06.593Z"
   },
   {
    "duration": 48,
    "start_time": "2023-04-21T09:59:07.236Z"
   },
   {
    "duration": 1187,
    "start_time": "2023-04-21T09:59:07.286Z"
   },
   {
    "duration": 6,
    "start_time": "2023-04-21T09:59:08.476Z"
   },
   {
    "duration": 71,
    "start_time": "2023-04-21T09:59:08.484Z"
   },
   {
    "duration": 407,
    "start_time": "2023-04-21T09:59:08.557Z"
   },
   {
    "duration": 68,
    "start_time": "2023-04-21T09:59:08.966Z"
   },
   {
    "duration": 5,
    "start_time": "2023-04-21T09:59:09.038Z"
   },
   {
    "duration": 4,
    "start_time": "2023-04-21T09:59:09.045Z"
   },
   {
    "duration": 4,
    "start_time": "2023-04-21T09:59:09.051Z"
   },
   {
    "duration": 5,
    "start_time": "2023-04-21T09:59:09.057Z"
   },
   {
    "duration": 38,
    "start_time": "2023-04-21T09:59:09.065Z"
   },
   {
    "duration": 120,
    "start_time": "2023-04-21T09:59:09.115Z"
   },
   {
    "duration": 28,
    "start_time": "2023-04-21T09:59:09.237Z"
   },
   {
    "duration": 441,
    "start_time": "2023-04-21T09:59:09.268Z"
   },
   {
    "duration": 3,
    "start_time": "2023-04-21T09:59:09.711Z"
   },
   {
    "duration": 20,
    "start_time": "2023-04-21T09:59:09.721Z"
   },
   {
    "duration": 10,
    "start_time": "2023-04-21T09:59:09.744Z"
   },
   {
    "duration": 6,
    "start_time": "2023-04-21T09:59:09.756Z"
   },
   {
    "duration": 9,
    "start_time": "2023-04-21T09:59:09.764Z"
   },
   {
    "duration": 3,
    "start_time": "2023-04-21T09:59:09.777Z"
   },
   {
    "duration": 1714,
    "start_time": "2023-04-21T10:00:43.925Z"
   },
   {
    "duration": 3,
    "start_time": "2023-04-21T10:00:45.642Z"
   },
   {
    "duration": 3803,
    "start_time": "2023-04-21T10:00:45.647Z"
   },
   {
    "duration": 285,
    "start_time": "2023-04-21T10:00:49.453Z"
   },
   {
    "duration": 8,
    "start_time": "2023-04-21T10:00:49.742Z"
   },
   {
    "duration": 599,
    "start_time": "2023-04-21T10:00:49.752Z"
   },
   {
    "duration": 1309,
    "start_time": "2023-04-21T10:00:50.353Z"
   },
   {
    "duration": 249,
    "start_time": "2023-04-21T10:00:51.664Z"
   },
   {
    "duration": 109,
    "start_time": "2023-04-21T10:00:51.918Z"
   },
   {
    "duration": 200,
    "start_time": "2023-04-21T10:00:52.030Z"
   },
   {
    "duration": 13,
    "start_time": "2023-04-21T10:00:52.237Z"
   },
   {
    "duration": 953,
    "start_time": "2023-04-21T10:00:52.256Z"
   },
   {
    "duration": 355,
    "start_time": "2023-04-21T10:00:53.217Z"
   },
   {
    "duration": 275,
    "start_time": "2023-04-21T10:00:53.577Z"
   },
   {
    "duration": 302,
    "start_time": "2023-04-21T10:00:53.854Z"
   },
   {
    "duration": 7,
    "start_time": "2023-04-21T10:00:54.159Z"
   },
   {
    "duration": 255,
    "start_time": "2023-04-21T10:00:54.169Z"
   },
   {
    "duration": 4,
    "start_time": "2023-04-21T10:00:54.428Z"
   },
   {
    "duration": 2021,
    "start_time": "2023-04-21T10:00:54.434Z"
   },
   {
    "duration": 78,
    "start_time": "2023-04-21T10:00:56.457Z"
   },
   {
    "duration": 678,
    "start_time": "2023-04-21T10:00:56.538Z"
   },
   {
    "duration": 62,
    "start_time": "2023-04-21T10:00:57.219Z"
   },
   {
    "duration": 1261,
    "start_time": "2023-04-21T10:00:57.283Z"
   },
   {
    "duration": 7,
    "start_time": "2023-04-21T10:00:58.547Z"
   },
   {
    "duration": 73,
    "start_time": "2023-04-21T10:00:58.556Z"
   },
   {
    "duration": 433,
    "start_time": "2023-04-21T10:00:58.632Z"
   },
   {
    "duration": 66,
    "start_time": "2023-04-21T10:00:59.067Z"
   },
   {
    "duration": 10,
    "start_time": "2023-04-21T10:00:59.135Z"
   },
   {
    "duration": 7,
    "start_time": "2023-04-21T10:00:59.147Z"
   },
   {
    "duration": 4,
    "start_time": "2023-04-21T10:00:59.156Z"
   },
   {
    "duration": 7,
    "start_time": "2023-04-21T10:00:59.162Z"
   },
   {
    "duration": 69,
    "start_time": "2023-04-21T10:00:59.170Z"
   },
   {
    "duration": 95,
    "start_time": "2023-04-21T10:00:59.241Z"
   },
   {
    "duration": 19,
    "start_time": "2023-04-21T10:00:59.338Z"
   },
   {
    "duration": 427,
    "start_time": "2023-04-21T10:00:59.360Z"
   },
   {
    "duration": 2,
    "start_time": "2023-04-21T10:00:59.789Z"
   },
   {
    "duration": 10,
    "start_time": "2023-04-21T10:00:59.793Z"
   },
   {
    "duration": 12,
    "start_time": "2023-04-21T10:00:59.812Z"
   },
   {
    "duration": 9,
    "start_time": "2023-04-21T10:00:59.832Z"
   },
   {
    "duration": 10,
    "start_time": "2023-04-21T10:00:59.843Z"
   },
   {
    "duration": 7,
    "start_time": "2023-04-21T10:00:59.857Z"
   },
   {
    "duration": 4,
    "start_time": "2023-04-21T10:00:59.866Z"
   },
   {
    "duration": 662,
    "start_time": "2023-04-21T10:00:59.872Z"
   },
   {
    "duration": 217,
    "start_time": "2023-04-21T10:01:00.542Z"
   },
   {
    "duration": 303,
    "start_time": "2023-04-21T10:01:00.761Z"
   },
   {
    "duration": 141,
    "start_time": "2023-04-21T10:01:01.066Z"
   },
   {
    "duration": 1690,
    "start_time": "2023-04-21T10:11:38.634Z"
   },
   {
    "duration": 3,
    "start_time": "2023-04-21T10:11:40.338Z"
   },
   {
    "duration": 1019,
    "start_time": "2023-04-21T10:11:40.343Z"
   },
   {
    "duration": 293,
    "start_time": "2023-04-21T10:11:41.363Z"
   },
   {
    "duration": 3,
    "start_time": "2023-04-21T10:11:41.659Z"
   },
   {
    "duration": 611,
    "start_time": "2023-04-21T10:11:41.663Z"
   },
   {
    "duration": 1201,
    "start_time": "2023-04-21T10:11:42.276Z"
   },
   {
    "duration": 207,
    "start_time": "2023-04-21T10:11:43.478Z"
   },
   {
    "duration": 100,
    "start_time": "2023-04-21T10:11:43.686Z"
   },
   {
    "duration": 165,
    "start_time": "2023-04-21T10:11:43.787Z"
   },
   {
    "duration": 5,
    "start_time": "2023-04-21T10:11:43.954Z"
   },
   {
    "duration": 866,
    "start_time": "2023-04-21T10:11:43.961Z"
   },
   {
    "duration": 348,
    "start_time": "2023-04-21T10:11:44.829Z"
   },
   {
    "duration": 297,
    "start_time": "2023-04-21T10:11:45.182Z"
   },
   {
    "duration": 282,
    "start_time": "2023-04-21T10:11:45.481Z"
   },
   {
    "duration": 6,
    "start_time": "2023-04-21T10:11:45.765Z"
   },
   {
    "duration": 277,
    "start_time": "2023-04-21T10:11:45.773Z"
   },
   {
    "duration": 4,
    "start_time": "2023-04-21T10:11:46.057Z"
   },
   {
    "duration": 1856,
    "start_time": "2023-04-21T10:11:46.063Z"
   },
   {
    "duration": 60,
    "start_time": "2023-04-21T10:11:47.926Z"
   },
   {
    "duration": 754,
    "start_time": "2023-04-21T10:11:47.988Z"
   },
   {
    "duration": 64,
    "start_time": "2023-04-21T10:11:48.751Z"
   },
   {
    "duration": 1211,
    "start_time": "2023-04-21T10:11:48.820Z"
   },
   {
    "duration": 7,
    "start_time": "2023-04-21T10:11:50.044Z"
   },
   {
    "duration": 78,
    "start_time": "2023-04-21T10:11:50.053Z"
   },
   {
    "duration": 400,
    "start_time": "2023-04-21T10:11:50.133Z"
   },
   {
    "duration": 38,
    "start_time": "2023-04-21T10:11:50.537Z"
   },
   {
    "duration": 3,
    "start_time": "2023-04-21T10:11:50.577Z"
   },
   {
    "duration": 28,
    "start_time": "2023-04-21T10:11:50.582Z"
   },
   {
    "duration": 11,
    "start_time": "2023-04-21T10:11:50.627Z"
   },
   {
    "duration": 5,
    "start_time": "2023-04-21T10:11:50.643Z"
   },
   {
    "duration": 29,
    "start_time": "2023-04-21T10:11:50.650Z"
   },
   {
    "duration": 94,
    "start_time": "2023-04-21T10:11:50.680Z"
   },
   {
    "duration": 20,
    "start_time": "2023-04-21T10:11:50.776Z"
   },
   {
    "duration": 439,
    "start_time": "2023-04-21T10:11:50.798Z"
   },
   {
    "duration": 3,
    "start_time": "2023-04-21T10:11:51.249Z"
   },
   {
    "duration": 21,
    "start_time": "2023-04-21T10:11:51.254Z"
   },
   {
    "duration": 6,
    "start_time": "2023-04-21T10:11:51.277Z"
   },
   {
    "duration": 30,
    "start_time": "2023-04-21T10:11:51.285Z"
   },
   {
    "duration": 11,
    "start_time": "2023-04-21T10:11:51.328Z"
   },
   {
    "duration": 2,
    "start_time": "2023-04-21T10:11:51.348Z"
   },
   {
    "duration": 4,
    "start_time": "2023-04-21T10:11:51.352Z"
   },
   {
    "duration": 2,
    "start_time": "2023-04-21T10:11:53.681Z"
   },
   {
    "duration": 145,
    "start_time": "2023-04-21T10:11:54.043Z"
   },
   {
    "duration": 585,
    "start_time": "2023-04-21T10:12:13.258Z"
   },
   {
    "duration": 15,
    "start_time": "2023-04-21T10:12:25.913Z"
   },
   {
    "duration": 19,
    "start_time": "2023-04-21T10:12:42.636Z"
   },
   {
    "duration": 12,
    "start_time": "2023-04-21T10:13:18.142Z"
   },
   {
    "duration": 617,
    "start_time": "2023-04-21T10:13:46.722Z"
   },
   {
    "duration": 185,
    "start_time": "2023-04-21T10:18:48.339Z"
   },
   {
    "duration": 181,
    "start_time": "2023-04-21T10:19:02.208Z"
   },
   {
    "duration": 1580,
    "start_time": "2023-04-21T10:19:13.373Z"
   },
   {
    "duration": 3,
    "start_time": "2023-04-21T10:19:14.955Z"
   },
   {
    "duration": 1010,
    "start_time": "2023-04-21T10:19:14.960Z"
   },
   {
    "duration": 249,
    "start_time": "2023-04-21T10:19:15.972Z"
   },
   {
    "duration": 5,
    "start_time": "2023-04-21T10:19:16.224Z"
   },
   {
    "duration": 556,
    "start_time": "2023-04-21T10:19:16.231Z"
   },
   {
    "duration": 1111,
    "start_time": "2023-04-21T10:19:16.788Z"
   },
   {
    "duration": 180,
    "start_time": "2023-04-21T10:19:17.906Z"
   },
   {
    "duration": 96,
    "start_time": "2023-04-21T10:19:18.088Z"
   },
   {
    "duration": 153,
    "start_time": "2023-04-21T10:19:18.187Z"
   },
   {
    "duration": 4,
    "start_time": "2023-04-21T10:19:18.342Z"
   },
   {
    "duration": 777,
    "start_time": "2023-04-21T10:19:18.348Z"
   },
   {
    "duration": 333,
    "start_time": "2023-04-21T10:19:19.129Z"
   },
   {
    "duration": 262,
    "start_time": "2023-04-21T10:19:19.465Z"
   },
   {
    "duration": 295,
    "start_time": "2023-04-21T10:19:19.736Z"
   },
   {
    "duration": 7,
    "start_time": "2023-04-21T10:19:20.036Z"
   },
   {
    "duration": 217,
    "start_time": "2023-04-21T10:19:20.045Z"
   },
   {
    "duration": 4,
    "start_time": "2023-04-21T10:19:20.264Z"
   },
   {
    "duration": 1785,
    "start_time": "2023-04-21T10:19:20.270Z"
   },
   {
    "duration": 86,
    "start_time": "2023-04-21T10:19:22.057Z"
   },
   {
    "duration": 645,
    "start_time": "2023-04-21T10:19:22.146Z"
   },
   {
    "duration": 60,
    "start_time": "2023-04-21T10:19:22.797Z"
   },
   {
    "duration": 1117,
    "start_time": "2023-04-21T10:19:22.859Z"
   },
   {
    "duration": 15,
    "start_time": "2023-04-21T10:19:23.978Z"
   },
   {
    "duration": 58,
    "start_time": "2023-04-21T10:19:23.999Z"
   },
   {
    "duration": 377,
    "start_time": "2023-04-21T10:19:24.059Z"
   },
   {
    "duration": 33,
    "start_time": "2023-04-21T10:19:24.438Z"
   },
   {
    "duration": 4,
    "start_time": "2023-04-21T10:19:24.473Z"
   },
   {
    "duration": 27,
    "start_time": "2023-04-21T10:19:24.479Z"
   },
   {
    "duration": 22,
    "start_time": "2023-04-21T10:19:24.509Z"
   },
   {
    "duration": 16,
    "start_time": "2023-04-21T10:19:24.533Z"
   },
   {
    "duration": 22,
    "start_time": "2023-04-21T10:19:24.551Z"
   },
   {
    "duration": 103,
    "start_time": "2023-04-21T10:19:24.575Z"
   },
   {
    "duration": 24,
    "start_time": "2023-04-21T10:19:24.680Z"
   },
   {
    "duration": 407,
    "start_time": "2023-04-21T10:19:24.708Z"
   },
   {
    "duration": 7,
    "start_time": "2023-04-21T10:19:25.122Z"
   },
   {
    "duration": 10,
    "start_time": "2023-04-21T10:19:25.133Z"
   },
   {
    "duration": 9,
    "start_time": "2023-04-21T10:19:25.144Z"
   },
   {
    "duration": 4,
    "start_time": "2023-04-21T10:19:25.155Z"
   },
   {
    "duration": 4,
    "start_time": "2023-04-21T10:19:25.161Z"
   },
   {
    "duration": 2,
    "start_time": "2023-04-21T10:19:25.170Z"
   },
   {
    "duration": 5,
    "start_time": "2023-04-21T10:19:25.174Z"
   },
   {
    "duration": 631,
    "start_time": "2023-04-21T10:19:25.181Z"
   },
   {
    "duration": 206,
    "start_time": "2023-04-21T10:19:25.814Z"
   },
   {
    "duration": 245,
    "start_time": "2023-04-21T10:20:56.094Z"
   },
   {
    "duration": 142,
    "start_time": "2023-04-21T10:20:58.127Z"
   },
   {
    "duration": 1596,
    "start_time": "2023-04-21T10:26:12.631Z"
   },
   {
    "duration": 3,
    "start_time": "2023-04-21T10:26:14.229Z"
   },
   {
    "duration": 4023,
    "start_time": "2023-04-21T10:26:14.234Z"
   },
   {
    "duration": 295,
    "start_time": "2023-04-21T10:26:18.259Z"
   },
   {
    "duration": 5,
    "start_time": "2023-04-21T10:26:18.559Z"
   },
   {
    "duration": 569,
    "start_time": "2023-04-21T10:26:18.566Z"
   },
   {
    "duration": 1135,
    "start_time": "2023-04-21T10:26:19.137Z"
   },
   {
    "duration": 183,
    "start_time": "2023-04-21T10:26:20.274Z"
   },
   {
    "duration": 91,
    "start_time": "2023-04-21T10:26:20.459Z"
   },
   {
    "duration": 154,
    "start_time": "2023-04-21T10:26:20.552Z"
   },
   {
    "duration": 12,
    "start_time": "2023-04-21T10:26:20.710Z"
   },
   {
    "duration": 726,
    "start_time": "2023-04-21T10:26:20.724Z"
   },
   {
    "duration": 313,
    "start_time": "2023-04-21T10:26:21.452Z"
   },
   {
    "duration": 284,
    "start_time": "2023-04-21T10:26:21.769Z"
   },
   {
    "duration": 321,
    "start_time": "2023-04-21T10:26:22.055Z"
   },
   {
    "duration": 32,
    "start_time": "2023-04-21T10:26:22.378Z"
   },
   {
    "duration": 202,
    "start_time": "2023-04-21T10:26:22.412Z"
   },
   {
    "duration": 4,
    "start_time": "2023-04-21T10:26:22.616Z"
   },
   {
    "duration": 2120,
    "start_time": "2023-04-21T10:26:22.622Z"
   },
   {
    "duration": 102,
    "start_time": "2023-04-21T10:26:24.744Z"
   },
   {
    "duration": 644,
    "start_time": "2023-04-21T10:26:24.848Z"
   },
   {
    "duration": 61,
    "start_time": "2023-04-21T10:26:25.498Z"
   },
   {
    "duration": 1184,
    "start_time": "2023-04-21T10:26:25.561Z"
   },
   {
    "duration": 7,
    "start_time": "2023-04-21T10:26:26.747Z"
   },
   {
    "duration": 72,
    "start_time": "2023-04-21T10:26:26.756Z"
   },
   {
    "duration": 404,
    "start_time": "2023-04-21T10:26:26.830Z"
   },
   {
    "duration": 39,
    "start_time": "2023-04-21T10:26:27.236Z"
   },
   {
    "duration": 3,
    "start_time": "2023-04-21T10:26:27.277Z"
   },
   {
    "duration": 18,
    "start_time": "2023-04-21T10:26:27.282Z"
   },
   {
    "duration": 29,
    "start_time": "2023-04-21T10:26:27.306Z"
   },
   {
    "duration": 16,
    "start_time": "2023-04-21T10:26:27.338Z"
   },
   {
    "duration": 43,
    "start_time": "2023-04-21T10:26:27.356Z"
   },
   {
    "duration": 88,
    "start_time": "2023-04-21T10:26:27.402Z"
   },
   {
    "duration": 30,
    "start_time": "2023-04-21T10:26:27.492Z"
   },
   {
    "duration": 432,
    "start_time": "2023-04-21T10:26:27.532Z"
   },
   {
    "duration": 3,
    "start_time": "2023-04-21T10:26:27.966Z"
   },
   {
    "duration": 42,
    "start_time": "2023-04-21T10:26:27.971Z"
   },
   {
    "duration": 20,
    "start_time": "2023-04-21T10:26:28.018Z"
   },
   {
    "duration": 14,
    "start_time": "2023-04-21T10:26:28.040Z"
   },
   {
    "duration": 26,
    "start_time": "2023-04-21T10:26:28.056Z"
   },
   {
    "duration": 25,
    "start_time": "2023-04-21T10:26:28.086Z"
   },
   {
    "duration": 25,
    "start_time": "2023-04-21T10:26:28.113Z"
   },
   {
    "duration": 615,
    "start_time": "2023-04-21T10:26:28.140Z"
   },
   {
    "duration": 190,
    "start_time": "2023-04-21T10:26:28.757Z"
   },
   {
    "duration": 235,
    "start_time": "2023-04-21T10:26:28.949Z"
   },
   {
    "duration": 158,
    "start_time": "2023-04-21T10:26:29.186Z"
   },
   {
    "duration": 71,
    "start_time": "2023-04-21T10:36:36.479Z"
   },
   {
    "duration": 1554,
    "start_time": "2023-04-21T10:37:12.734Z"
   },
   {
    "duration": 12,
    "start_time": "2023-04-21T10:37:14.290Z"
   },
   {
    "duration": 956,
    "start_time": "2023-04-21T10:37:14.309Z"
   },
   {
    "duration": 260,
    "start_time": "2023-04-21T10:37:15.267Z"
   },
   {
    "duration": 4,
    "start_time": "2023-04-21T10:37:15.533Z"
   },
   {
    "duration": 520,
    "start_time": "2023-04-21T10:37:15.539Z"
   },
   {
    "duration": 1114,
    "start_time": "2023-04-21T10:37:16.060Z"
   },
   {
    "duration": 196,
    "start_time": "2023-04-21T10:37:17.176Z"
   },
   {
    "duration": 100,
    "start_time": "2023-04-21T10:37:17.374Z"
   },
   {
    "duration": 137,
    "start_time": "2023-04-21T10:37:17.476Z"
   },
   {
    "duration": 6,
    "start_time": "2023-04-21T10:37:17.615Z"
   },
   {
    "duration": 766,
    "start_time": "2023-04-21T10:37:17.629Z"
   },
   {
    "duration": 342,
    "start_time": "2023-04-21T10:37:18.397Z"
   },
   {
    "duration": 228,
    "start_time": "2023-04-21T10:37:18.742Z"
   },
   {
    "duration": 292,
    "start_time": "2023-04-21T10:37:18.972Z"
   },
   {
    "duration": 7,
    "start_time": "2023-04-21T10:37:19.265Z"
   },
   {
    "duration": 217,
    "start_time": "2023-04-21T10:37:19.274Z"
   },
   {
    "duration": 11,
    "start_time": "2023-04-21T10:37:19.503Z"
   },
   {
    "duration": 1798,
    "start_time": "2023-04-21T10:37:19.520Z"
   },
   {
    "duration": 62,
    "start_time": "2023-04-21T10:37:21.325Z"
   },
   {
    "duration": 654,
    "start_time": "2023-04-21T10:37:21.389Z"
   },
   {
    "duration": 62,
    "start_time": "2023-04-21T10:37:22.045Z"
   },
   {
    "duration": 1170,
    "start_time": "2023-04-21T10:37:22.115Z"
   },
   {
    "duration": 10,
    "start_time": "2023-04-21T10:37:23.287Z"
   },
   {
    "duration": 48,
    "start_time": "2023-04-21T10:37:23.298Z"
   },
   {
    "duration": 399,
    "start_time": "2023-04-21T10:37:23.348Z"
   },
   {
    "duration": 32,
    "start_time": "2023-04-21T10:37:23.749Z"
   },
   {
    "duration": 29,
    "start_time": "2023-04-21T10:37:23.782Z"
   },
   {
    "duration": 17,
    "start_time": "2023-04-21T10:37:23.820Z"
   },
   {
    "duration": 20,
    "start_time": "2023-04-21T10:37:23.839Z"
   },
   {
    "duration": 23,
    "start_time": "2023-04-21T10:37:23.861Z"
   },
   {
    "duration": 46,
    "start_time": "2023-04-21T10:37:23.886Z"
   },
   {
    "duration": 83,
    "start_time": "2023-04-21T10:37:23.934Z"
   },
   {
    "duration": 28,
    "start_time": "2023-04-21T10:37:24.018Z"
   },
   {
    "duration": 407,
    "start_time": "2023-04-21T10:37:24.048Z"
   },
   {
    "duration": 3,
    "start_time": "2023-04-21T10:37:24.457Z"
   },
   {
    "duration": 7,
    "start_time": "2023-04-21T10:37:24.461Z"
   },
   {
    "duration": 57,
    "start_time": "2023-04-21T10:37:24.470Z"
   },
   {
    "duration": 6,
    "start_time": "2023-04-21T10:37:24.529Z"
   },
   {
    "duration": 20,
    "start_time": "2023-04-21T10:37:24.537Z"
   },
   {
    "duration": 19,
    "start_time": "2023-04-21T10:37:24.562Z"
   },
   {
    "duration": 27,
    "start_time": "2023-04-21T10:37:24.583Z"
   },
   {
    "duration": 541,
    "start_time": "2023-04-21T10:37:24.613Z"
   },
   {
    "duration": 197,
    "start_time": "2023-04-21T10:37:25.156Z"
   },
   {
    "duration": 240,
    "start_time": "2023-04-21T10:37:25.355Z"
   },
   {
    "duration": 145,
    "start_time": "2023-04-21T10:37:25.597Z"
   },
   {
    "duration": 108,
    "start_time": "2023-04-21T10:37:25.744Z"
   },
   {
    "duration": 73,
    "start_time": "2023-04-21T10:37:49.222Z"
   },
   {
    "duration": 28,
    "start_time": "2023-04-21T10:37:52.029Z"
   },
   {
    "duration": 33,
    "start_time": "2023-04-21T10:37:56.585Z"
   },
   {
    "duration": 7841,
    "start_time": "2023-04-21T10:38:12.096Z"
   },
   {
    "duration": 212899,
    "start_time": "2023-04-21T10:38:29.737Z"
   },
   {
    "duration": 309755,
    "start_time": "2023-04-21T10:42:53.631Z"
   },
   {
    "duration": 17,
    "start_time": "2023-04-21T10:50:07.342Z"
   },
   {
    "duration": 24,
    "start_time": "2023-04-21T10:52:14.484Z"
   },
   {
    "duration": 56,
    "start_time": "2023-04-21T10:57:57.524Z"
   },
   {
    "duration": 269,
    "start_time": "2023-04-21T10:58:04.964Z"
   },
   {
    "duration": 4,
    "start_time": "2023-04-21T10:58:54.137Z"
   },
   {
    "duration": 6,
    "start_time": "2023-04-21T10:59:02.683Z"
   },
   {
    "duration": 1699,
    "start_time": "2023-04-21T11:01:15.836Z"
   },
   {
    "duration": 3,
    "start_time": "2023-04-21T11:01:17.538Z"
   },
   {
    "duration": 1023,
    "start_time": "2023-04-21T11:01:17.544Z"
   },
   {
    "duration": 304,
    "start_time": "2023-04-21T11:01:18.569Z"
   },
   {
    "duration": 3,
    "start_time": "2023-04-21T11:01:18.875Z"
   },
   {
    "duration": 594,
    "start_time": "2023-04-21T11:01:18.880Z"
   },
   {
    "duration": 1208,
    "start_time": "2023-04-21T11:01:19.475Z"
   },
   {
    "duration": 201,
    "start_time": "2023-04-21T11:01:20.684Z"
   },
   {
    "duration": 101,
    "start_time": "2023-04-21T11:01:20.887Z"
   },
   {
    "duration": 159,
    "start_time": "2023-04-21T11:01:20.990Z"
   },
   {
    "duration": 5,
    "start_time": "2023-04-21T11:01:21.151Z"
   },
   {
    "duration": 831,
    "start_time": "2023-04-21T11:01:21.158Z"
   },
   {
    "duration": 484,
    "start_time": "2023-04-21T11:01:21.992Z"
   },
   {
    "duration": 277,
    "start_time": "2023-04-21T11:01:22.480Z"
   },
   {
    "duration": 283,
    "start_time": "2023-04-21T11:01:22.760Z"
   },
   {
    "duration": 6,
    "start_time": "2023-04-21T11:01:23.045Z"
   },
   {
    "duration": 218,
    "start_time": "2023-04-21T11:01:23.053Z"
   },
   {
    "duration": 4,
    "start_time": "2023-04-21T11:01:23.273Z"
   },
   {
    "duration": 1883,
    "start_time": "2023-04-21T11:01:23.279Z"
   },
   {
    "duration": 103,
    "start_time": "2023-04-21T11:01:25.164Z"
   },
   {
    "duration": 790,
    "start_time": "2023-04-21T11:01:25.269Z"
   },
   {
    "duration": 69,
    "start_time": "2023-04-21T11:01:26.067Z"
   },
   {
    "duration": 1202,
    "start_time": "2023-04-21T11:01:26.147Z"
   },
   {
    "duration": 8,
    "start_time": "2023-04-21T11:01:27.351Z"
   },
   {
    "duration": 61,
    "start_time": "2023-04-21T11:01:27.361Z"
   },
   {
    "duration": 399,
    "start_time": "2023-04-21T11:01:27.424Z"
   },
   {
    "duration": 40,
    "start_time": "2023-04-21T11:01:27.825Z"
   },
   {
    "duration": 8,
    "start_time": "2023-04-21T11:01:27.867Z"
   },
   {
    "duration": 5,
    "start_time": "2023-04-21T11:01:27.877Z"
   },
   {
    "duration": 26,
    "start_time": "2023-04-21T11:01:27.884Z"
   },
   {
    "duration": 8,
    "start_time": "2023-04-21T11:01:27.912Z"
   },
   {
    "duration": 32,
    "start_time": "2023-04-21T11:01:27.922Z"
   },
   {
    "duration": 88,
    "start_time": "2023-04-21T11:01:27.956Z"
   },
   {
    "duration": 19,
    "start_time": "2023-04-21T11:01:28.046Z"
   },
   {
    "duration": 412,
    "start_time": "2023-04-21T11:01:28.067Z"
   },
   {
    "duration": 4,
    "start_time": "2023-04-21T11:01:28.481Z"
   },
   {
    "duration": 21,
    "start_time": "2023-04-21T11:01:28.486Z"
   },
   {
    "duration": 8,
    "start_time": "2023-04-21T11:01:28.511Z"
   },
   {
    "duration": 13,
    "start_time": "2023-04-21T11:01:28.521Z"
   },
   {
    "duration": 11,
    "start_time": "2023-04-21T11:01:28.536Z"
   },
   {
    "duration": 8,
    "start_time": "2023-04-21T11:01:28.555Z"
   },
   {
    "duration": 5,
    "start_time": "2023-04-21T11:01:28.565Z"
   },
   {
    "duration": 5,
    "start_time": "2023-04-21T11:01:28.572Z"
   },
   {
    "duration": 613,
    "start_time": "2023-04-21T11:01:28.578Z"
   },
   {
    "duration": 218,
    "start_time": "2023-04-21T11:01:29.196Z"
   },
   {
    "duration": 249,
    "start_time": "2023-04-21T11:01:29.416Z"
   },
   {
    "duration": 134,
    "start_time": "2023-04-21T11:01:29.666Z"
   },
   {
    "duration": 160,
    "start_time": "2023-04-21T11:01:29.802Z"
   },
   {
    "duration": 315024,
    "start_time": "2023-04-21T11:02:59.850Z"
   },
   {
    "duration": 18,
    "start_time": "2023-04-21T11:09:09.520Z"
   },
   {
    "duration": 3,
    "start_time": "2023-04-21T11:10:52.445Z"
   },
   {
    "duration": 13,
    "start_time": "2023-04-21T11:11:12.116Z"
   },
   {
    "duration": 3,
    "start_time": "2023-04-21T11:11:21.355Z"
   },
   {
    "duration": 1039,
    "start_time": "2023-04-21T11:13:56.130Z"
   },
   {
    "duration": 1579,
    "start_time": "2023-04-21T11:14:24.860Z"
   },
   {
    "duration": 3,
    "start_time": "2023-04-21T11:14:26.441Z"
   },
   {
    "duration": 944,
    "start_time": "2023-04-21T11:14:26.446Z"
   },
   {
    "duration": 256,
    "start_time": "2023-04-21T11:14:27.391Z"
   },
   {
    "duration": 3,
    "start_time": "2023-04-21T11:14:27.650Z"
   },
   {
    "duration": 560,
    "start_time": "2023-04-21T11:14:27.655Z"
   },
   {
    "duration": 1114,
    "start_time": "2023-04-21T11:14:28.219Z"
   },
   {
    "duration": 195,
    "start_time": "2023-04-21T11:14:29.337Z"
   },
   {
    "duration": 90,
    "start_time": "2023-04-21T11:14:29.536Z"
   },
   {
    "duration": 136,
    "start_time": "2023-04-21T11:14:29.629Z"
   },
   {
    "duration": 12,
    "start_time": "2023-04-21T11:14:29.767Z"
   },
   {
    "duration": 776,
    "start_time": "2023-04-21T11:14:29.781Z"
   },
   {
    "duration": 339,
    "start_time": "2023-04-21T11:14:30.559Z"
   },
   {
    "duration": 232,
    "start_time": "2023-04-21T11:14:30.913Z"
   },
   {
    "duration": 287,
    "start_time": "2023-04-21T11:14:31.146Z"
   },
   {
    "duration": 6,
    "start_time": "2023-04-21T11:14:31.435Z"
   },
   {
    "duration": 240,
    "start_time": "2023-04-21T11:14:31.443Z"
   },
   {
    "duration": 13,
    "start_time": "2023-04-21T11:14:31.686Z"
   },
   {
    "duration": 1868,
    "start_time": "2023-04-21T11:14:31.709Z"
   },
   {
    "duration": 72,
    "start_time": "2023-04-21T11:14:33.579Z"
   },
   {
    "duration": 605,
    "start_time": "2023-04-21T11:14:33.653Z"
   },
   {
    "duration": 63,
    "start_time": "2023-04-21T11:14:34.260Z"
   },
   {
    "duration": 1105,
    "start_time": "2023-04-21T11:14:34.332Z"
   },
   {
    "duration": 6,
    "start_time": "2023-04-21T11:14:35.439Z"
   },
   {
    "duration": 56,
    "start_time": "2023-04-21T11:14:35.447Z"
   },
   {
    "duration": 378,
    "start_time": "2023-04-21T11:14:35.513Z"
   },
   {
    "duration": 39,
    "start_time": "2023-04-21T11:14:35.893Z"
   },
   {
    "duration": 4,
    "start_time": "2023-04-21T11:14:35.936Z"
   },
   {
    "duration": 22,
    "start_time": "2023-04-21T11:14:35.941Z"
   },
   {
    "duration": 17,
    "start_time": "2023-04-21T11:14:35.965Z"
   },
   {
    "duration": 98,
    "start_time": "2023-04-21T11:14:35.984Z"
   },
   {
    "duration": 18,
    "start_time": "2023-04-21T11:14:36.084Z"
   },
   {
    "duration": 8,
    "start_time": "2023-04-21T11:14:36.112Z"
   },
   {
    "duration": 5,
    "start_time": "2023-04-21T11:14:36.125Z"
   },
   {
    "duration": 7,
    "start_time": "2023-04-21T11:14:36.132Z"
   },
   {
    "duration": 6,
    "start_time": "2023-04-21T11:14:36.141Z"
   },
   {
    "duration": 14,
    "start_time": "2023-04-21T11:14:36.149Z"
   },
   {
    "duration": 70006,
    "start_time": "2023-04-21T11:14:38.958Z"
   },
   {
    "duration": 5,
    "start_time": "2023-04-21T11:18:30.260Z"
   },
   {
    "duration": 23,
    "start_time": "2023-04-21T11:19:47.691Z"
   },
   {
    "duration": 244,
    "start_time": "2023-04-21T11:20:04.923Z"
   },
   {
    "duration": 5,
    "start_time": "2023-04-21T11:21:27.187Z"
   },
   {
    "duration": 107,
    "start_time": "2023-04-21T11:21:28.147Z"
   },
   {
    "duration": 5,
    "start_time": "2023-04-21T11:22:22.926Z"
   },
   {
    "duration": 5,
    "start_time": "2023-04-21T11:22:35.053Z"
   },
   {
    "duration": 16763,
    "start_time": "2023-04-21T11:22:35.862Z"
   },
   {
    "duration": 5,
    "start_time": "2023-04-21T11:26:23.182Z"
   },
   {
    "duration": 121604,
    "start_time": "2023-04-21T11:26:24.451Z"
   },
   {
    "duration": 114957,
    "start_time": "2023-04-21T11:28:46.925Z"
   },
   {
    "duration": 1715,
    "start_time": "2023-04-21T11:44:41.829Z"
   },
   {
    "duration": 1449,
    "start_time": "2023-04-21T11:45:40.536Z"
   },
   {
    "duration": 4,
    "start_time": "2023-04-21T11:45:41.987Z"
   },
   {
    "duration": 924,
    "start_time": "2023-04-21T11:45:41.993Z"
   },
   {
    "duration": 220,
    "start_time": "2023-04-21T11:45:42.919Z"
   },
   {
    "duration": 3,
    "start_time": "2023-04-21T11:45:43.141Z"
   },
   {
    "duration": 481,
    "start_time": "2023-04-21T11:45:43.146Z"
   },
   {
    "duration": 1006,
    "start_time": "2023-04-21T11:45:43.629Z"
   },
   {
    "duration": 171,
    "start_time": "2023-04-21T11:45:44.637Z"
   },
   {
    "duration": 69,
    "start_time": "2023-04-21T11:45:44.810Z"
   },
   {
    "duration": 131,
    "start_time": "2023-04-21T11:45:44.881Z"
   },
   {
    "duration": 5,
    "start_time": "2023-04-21T11:45:45.013Z"
   },
   {
    "duration": 725,
    "start_time": "2023-04-21T11:45:45.020Z"
   },
   {
    "duration": 301,
    "start_time": "2023-04-21T11:45:45.747Z"
   },
   {
    "duration": 218,
    "start_time": "2023-04-21T11:45:46.050Z"
   },
   {
    "duration": 254,
    "start_time": "2023-04-21T11:45:46.270Z"
   },
   {
    "duration": 7,
    "start_time": "2023-04-21T11:45:46.526Z"
   },
   {
    "duration": 189,
    "start_time": "2023-04-21T11:45:46.534Z"
   },
   {
    "duration": 3,
    "start_time": "2023-04-21T11:45:46.725Z"
   },
   {
    "duration": 1598,
    "start_time": "2023-04-21T11:45:46.730Z"
   },
   {
    "duration": 10,
    "start_time": "2023-04-21T11:47:26.458Z"
   },
   {
    "duration": 23,
    "start_time": "2023-04-21T11:48:13.027Z"
   },
   {
    "duration": 8,
    "start_time": "2023-04-21T11:48:25.598Z"
   },
   {
    "duration": 9,
    "start_time": "2023-04-21T11:48:33.616Z"
   },
   {
    "duration": 21,
    "start_time": "2023-04-21T11:49:02.612Z"
   },
   {
    "duration": 26,
    "start_time": "2023-04-21T11:49:18.401Z"
   },
   {
    "duration": 10,
    "start_time": "2023-04-21T11:49:36.382Z"
   },
   {
    "duration": 126,
    "start_time": "2023-04-21T11:50:39.766Z"
   },
   {
    "duration": 25,
    "start_time": "2023-04-21T11:50:44.407Z"
   },
   {
    "duration": 9,
    "start_time": "2023-04-21T11:51:12.881Z"
   },
   {
    "duration": 122,
    "start_time": "2023-04-21T12:16:17.093Z"
   },
   {
    "duration": 1503,
    "start_time": "2023-04-21T12:46:52.498Z"
   },
   {
    "duration": 3,
    "start_time": "2023-04-21T12:46:54.003Z"
   },
   {
    "duration": 892,
    "start_time": "2023-04-21T12:46:54.008Z"
   },
   {
    "duration": 242,
    "start_time": "2023-04-21T12:46:54.903Z"
   },
   {
    "duration": 4,
    "start_time": "2023-04-21T12:46:55.147Z"
   },
   {
    "duration": 524,
    "start_time": "2023-04-21T12:46:55.153Z"
   },
   {
    "duration": 1118,
    "start_time": "2023-04-21T12:46:55.679Z"
   },
   {
    "duration": 180,
    "start_time": "2023-04-21T12:46:56.798Z"
   },
   {
    "duration": 80,
    "start_time": "2023-04-21T12:46:56.980Z"
   },
   {
    "duration": 133,
    "start_time": "2023-04-21T12:46:57.063Z"
   },
   {
    "duration": 6,
    "start_time": "2023-04-21T12:46:57.198Z"
   },
   {
    "duration": 699,
    "start_time": "2023-04-21T12:46:57.206Z"
   },
   {
    "duration": 312,
    "start_time": "2023-04-21T12:46:57.907Z"
   },
   {
    "duration": 233,
    "start_time": "2023-04-21T12:46:58.221Z"
   },
   {
    "duration": 248,
    "start_time": "2023-04-21T12:46:58.456Z"
   },
   {
    "duration": 7,
    "start_time": "2023-04-21T12:46:58.706Z"
   },
   {
    "duration": 205,
    "start_time": "2023-04-21T12:46:58.715Z"
   },
   {
    "duration": 4,
    "start_time": "2023-04-21T12:46:58.922Z"
   },
   {
    "duration": 1710,
    "start_time": "2023-04-21T12:46:58.928Z"
   },
   {
    "duration": 11,
    "start_time": "2023-04-21T12:47:00.641Z"
   },
   {
    "duration": 85,
    "start_time": "2023-04-21T12:47:00.654Z"
   },
   {
    "duration": 591,
    "start_time": "2023-04-21T12:47:00.741Z"
   },
   {
    "duration": 59,
    "start_time": "2023-04-21T12:47:01.334Z"
   },
   {
    "duration": 1023,
    "start_time": "2023-04-21T12:47:01.395Z"
   },
   {
    "duration": 7,
    "start_time": "2023-04-21T12:47:02.420Z"
   },
   {
    "duration": 61,
    "start_time": "2023-04-21T12:47:02.429Z"
   },
   {
    "duration": 447,
    "start_time": "2023-04-21T12:47:02.492Z"
   },
   {
    "duration": 34,
    "start_time": "2023-04-21T12:47:02.944Z"
   },
   {
    "duration": 4,
    "start_time": "2023-04-21T12:47:02.994Z"
   },
   {
    "duration": 11,
    "start_time": "2023-04-21T12:47:03.000Z"
   },
   {
    "duration": 17,
    "start_time": "2023-04-21T12:47:03.013Z"
   },
   {
    "duration": 97,
    "start_time": "2023-04-21T12:47:03.032Z"
   },
   {
    "duration": 19,
    "start_time": "2023-04-21T12:47:03.131Z"
   },
   {
    "duration": 4,
    "start_time": "2023-04-21T12:47:03.153Z"
   },
   {
    "duration": 34,
    "start_time": "2023-04-21T12:47:03.159Z"
   },
   {
    "duration": 308741,
    "start_time": "2023-04-21T12:47:03.195Z"
   },
   {
    "duration": 5,
    "start_time": "2023-04-21T12:52:11.938Z"
   },
   {
    "duration": 3083764,
    "start_time": "2023-04-21T12:52:11.945Z"
   },
   {
    "duration": 5,
    "start_time": "2023-04-21T13:43:35.711Z"
   },
   {
    "duration": 109248,
    "start_time": "2023-04-21T13:43:35.719Z"
   },
   {
    "duration": 621,
    "start_time": "2023-04-21T13:48:59.021Z"
   },
   {
    "duration": 597,
    "start_time": "2023-04-21T13:49:19.457Z"
   },
   {
    "duration": 541,
    "start_time": "2023-04-21T13:51:33.653Z"
   },
   {
    "duration": 535,
    "start_time": "2023-04-21T13:51:55.680Z"
   },
   {
    "duration": 530,
    "start_time": "2023-04-21T13:51:59.329Z"
   },
   {
    "duration": 417,
    "start_time": "2023-04-21T13:52:37.677Z"
   },
   {
    "duration": 127,
    "start_time": "2023-04-21T13:59:06.298Z"
   },
   {
    "duration": 16,
    "start_time": "2023-04-21T14:06:20.854Z"
   },
   {
    "duration": 10,
    "start_time": "2023-04-21T14:13:56.772Z"
   },
   {
    "duration": 11,
    "start_time": "2023-04-21T14:14:52.300Z"
   },
   {
    "duration": 13,
    "start_time": "2023-04-21T14:15:05.566Z"
   },
   {
    "duration": 18,
    "start_time": "2023-04-21T14:17:48.217Z"
   },
   {
    "duration": 12,
    "start_time": "2023-04-21T14:20:36.500Z"
   },
   {
    "duration": 11,
    "start_time": "2023-04-21T14:21:11.272Z"
   },
   {
    "duration": 10,
    "start_time": "2023-04-21T14:23:21.552Z"
   },
   {
    "duration": 10,
    "start_time": "2023-04-21T14:25:39.161Z"
   },
   {
    "duration": 14,
    "start_time": "2023-04-21T14:25:59.276Z"
   },
   {
    "duration": 1892,
    "start_time": "2023-04-22T12:19:59.249Z"
   },
   {
    "duration": 3,
    "start_time": "2023-04-22T12:20:01.146Z"
   },
   {
    "duration": 3739,
    "start_time": "2023-04-22T12:20:01.151Z"
   },
   {
    "duration": 270,
    "start_time": "2023-04-22T12:20:04.892Z"
   },
   {
    "duration": 3,
    "start_time": "2023-04-22T12:20:05.164Z"
   },
   {
    "duration": 556,
    "start_time": "2023-04-22T12:20:05.168Z"
   },
   {
    "duration": 1125,
    "start_time": "2023-04-22T12:20:05.726Z"
   },
   {
    "duration": 208,
    "start_time": "2023-04-22T12:20:06.853Z"
   },
   {
    "duration": 109,
    "start_time": "2023-04-22T12:20:07.062Z"
   },
   {
    "duration": 164,
    "start_time": "2023-04-22T12:20:07.173Z"
   },
   {
    "duration": 7,
    "start_time": "2023-04-22T12:20:07.339Z"
   },
   {
    "duration": 728,
    "start_time": "2023-04-22T12:20:07.348Z"
   },
   {
    "duration": 310,
    "start_time": "2023-04-22T12:20:08.078Z"
   },
   {
    "duration": 253,
    "start_time": "2023-04-22T12:20:08.392Z"
   },
   {
    "duration": 266,
    "start_time": "2023-04-22T12:20:08.648Z"
   },
   {
    "duration": 23,
    "start_time": "2023-04-22T12:20:08.918Z"
   },
   {
    "duration": 231,
    "start_time": "2023-04-22T12:20:08.942Z"
   },
   {
    "duration": 6,
    "start_time": "2023-04-22T12:20:09.175Z"
   },
   {
    "duration": 1761,
    "start_time": "2023-04-22T12:20:09.183Z"
   },
   {
    "duration": 8,
    "start_time": "2023-04-22T12:20:10.947Z"
   },
   {
    "duration": 83,
    "start_time": "2023-04-22T12:20:10.957Z"
   },
   {
    "duration": 589,
    "start_time": "2023-04-22T12:20:11.043Z"
   },
   {
    "duration": 54,
    "start_time": "2023-04-22T12:20:11.634Z"
   },
   {
    "duration": 1069,
    "start_time": "2023-04-22T12:20:11.690Z"
   },
   {
    "duration": 6,
    "start_time": "2023-04-22T12:20:12.761Z"
   },
   {
    "duration": 59,
    "start_time": "2023-04-22T12:20:12.768Z"
   },
   {
    "duration": 380,
    "start_time": "2023-04-22T12:20:12.837Z"
   },
   {
    "duration": 43,
    "start_time": "2023-04-22T12:20:13.227Z"
   },
   {
    "duration": 7,
    "start_time": "2023-04-22T12:20:13.272Z"
   },
   {
    "duration": 3,
    "start_time": "2023-04-22T12:20:13.281Z"
   },
   {
    "duration": 30,
    "start_time": "2023-04-22T12:20:13.286Z"
   },
   {
    "duration": 82,
    "start_time": "2023-04-22T12:20:13.317Z"
   },
   {
    "duration": 29,
    "start_time": "2023-04-22T12:20:13.401Z"
   },
   {
    "duration": 9,
    "start_time": "2023-04-22T12:20:13.435Z"
   },
   {
    "duration": 7,
    "start_time": "2023-04-22T12:20:13.448Z"
   },
   {
    "duration": 506558,
    "start_time": "2023-04-22T12:20:13.457Z"
   },
   {
    "duration": 11,
    "start_time": "2023-04-22T12:28:40.019Z"
   },
   {
    "duration": 326047,
    "start_time": "2023-04-22T12:28:40.032Z"
   },
   {
    "duration": 5,
    "start_time": "2023-04-22T12:34:06.081Z"
   },
   {
    "duration": 115653,
    "start_time": "2023-04-22T12:34:06.087Z"
   },
   {
    "duration": 381,
    "start_time": "2023-04-22T12:36:01.744Z"
   },
   {
    "duration": 14,
    "start_time": "2023-04-22T12:36:02.130Z"
   },
   {
    "duration": 0,
    "start_time": "2023-04-22T12:36:02.147Z"
   },
   {
    "duration": 67815,
    "start_time": "2023-04-22T12:39:29.697Z"
   },
   {
    "duration": 70408,
    "start_time": "2023-04-22T12:41:08.529Z"
   },
   {
    "duration": 200438,
    "start_time": "2023-04-22T12:44:43.178Z"
   },
   {
    "duration": 4,
    "start_time": "2023-04-22T12:48:24.160Z"
   },
   {
    "duration": 129587,
    "start_time": "2023-04-22T12:48:24.752Z"
   },
   {
    "duration": 4,
    "start_time": "2023-04-22T12:50:45.078Z"
   },
   {
    "duration": 78,
    "start_time": "2023-04-22T12:50:54.644Z"
   },
   {
    "duration": 120879,
    "start_time": "2023-04-22T12:51:02.243Z"
   },
   {
    "duration": 4,
    "start_time": "2023-04-22T12:54:18.901Z"
   },
   {
    "duration": 66,
    "start_time": "2023-04-22T12:54:20.068Z"
   },
   {
    "duration": 4,
    "start_time": "2023-04-22T12:54:40.912Z"
   },
   {
    "duration": 868709,
    "start_time": "2023-04-22T12:54:43.506Z"
   },
   {
    "duration": 4,
    "start_time": "2023-04-22T13:11:52.092Z"
   },
   {
    "duration": 5,
    "start_time": "2023-04-22T13:11:57.400Z"
   },
   {
    "duration": 81,
    "start_time": "2023-04-22T13:11:57.574Z"
   },
   {
    "duration": 410259,
    "start_time": "2023-04-22T13:11:59.161Z"
   },
   {
    "duration": 6,
    "start_time": "2023-04-22T13:18:52.175Z"
   },
   {
    "duration": 73,
    "start_time": "2023-04-22T13:18:52.351Z"
   },
   {
    "duration": 4,
    "start_time": "2023-04-22T13:19:39.663Z"
   },
   {
    "duration": 1137722,
    "start_time": "2023-04-22T13:19:40.719Z"
   },
   {
    "duration": 4,
    "start_time": "2023-04-22T13:40:00.997Z"
   },
   {
    "duration": 4,
    "start_time": "2023-04-22T13:40:03.090Z"
   },
   {
    "duration": 79,
    "start_time": "2023-04-22T13:40:03.294Z"
   },
   {
    "duration": 941433,
    "start_time": "2023-04-22T13:40:05.581Z"
   },
   {
    "duration": 5,
    "start_time": "2023-04-22T13:56:55.704Z"
   },
   {
    "duration": 108456,
    "start_time": "2023-04-22T13:56:56.468Z"
   },
   {
    "duration": 382,
    "start_time": "2023-04-22T14:12:14.666Z"
   },
   {
    "duration": 13,
    "start_time": "2023-04-22T14:12:20.373Z"
   },
   {
    "duration": 10,
    "start_time": "2023-04-22T14:12:42.079Z"
   },
   {
    "duration": 11,
    "start_time": "2023-04-22T14:25:00.036Z"
   },
   {
    "duration": 11,
    "start_time": "2023-04-22T14:25:36.979Z"
   },
   {
    "duration": 11,
    "start_time": "2023-04-22T14:26:12.306Z"
   },
   {
    "duration": 13,
    "start_time": "2023-04-22T14:26:19.093Z"
   },
   {
    "duration": 11,
    "start_time": "2023-04-22T14:26:31.789Z"
   },
   {
    "duration": 13,
    "start_time": "2023-04-22T14:27:09.496Z"
   },
   {
    "duration": 18,
    "start_time": "2023-04-22T14:27:34.129Z"
   },
   {
    "duration": 61,
    "start_time": "2023-04-22T14:28:31.733Z"
   },
   {
    "duration": 4,
    "start_time": "2023-04-22T14:28:57.502Z"
   },
   {
    "duration": 86,
    "start_time": "2023-04-22T14:29:02.501Z"
   },
   {
    "duration": 137,
    "start_time": "2023-04-22T14:29:39.351Z"
   },
   {
    "duration": 72,
    "start_time": "2023-04-22T14:29:55.834Z"
   },
   {
    "duration": 7,
    "start_time": "2023-04-22T14:30:24.942Z"
   },
   {
    "duration": 20,
    "start_time": "2023-04-22T14:31:03.612Z"
   },
   {
    "duration": 3,
    "start_time": "2023-04-22T14:38:30.582Z"
   },
   {
    "duration": 10,
    "start_time": "2023-04-22T14:54:29.991Z"
   },
   {
    "duration": 2,
    "start_time": "2023-04-22T14:56:53.186Z"
   },
   {
    "duration": 5,
    "start_time": "2023-04-22T14:57:06.681Z"
   },
   {
    "duration": 1703,
    "start_time": "2023-04-22T14:58:33.369Z"
   },
   {
    "duration": 10,
    "start_time": "2023-04-22T15:01:12.084Z"
   },
   {
    "duration": 3,
    "start_time": "2023-04-22T15:02:39.563Z"
   },
   {
    "duration": 5,
    "start_time": "2023-04-22T15:02:43.698Z"
   },
   {
    "duration": 6,
    "start_time": "2023-04-22T15:06:31.440Z"
   },
   {
    "duration": 4,
    "start_time": "2023-04-22T15:06:36.141Z"
   },
   {
    "duration": 8,
    "start_time": "2023-04-22T15:08:43.030Z"
   },
   {
    "duration": 5,
    "start_time": "2023-04-22T15:09:11.654Z"
   },
   {
    "duration": 13,
    "start_time": "2023-04-22T15:11:51.127Z"
   },
   {
    "duration": 7,
    "start_time": "2023-04-22T15:12:03.643Z"
   },
   {
    "duration": 172,
    "start_time": "2023-04-22T15:12:56.474Z"
   },
   {
    "duration": 164,
    "start_time": "2023-04-22T15:13:16.833Z"
   },
   {
    "duration": 76,
    "start_time": "2023-04-22T15:13:51.795Z"
   },
   {
    "duration": 360,
    "start_time": "2023-04-22T15:14:41.585Z"
   },
   {
    "duration": 193,
    "start_time": "2023-04-22T15:14:47.948Z"
   },
   {
    "duration": 175,
    "start_time": "2023-04-22T15:14:57.125Z"
   },
   {
    "duration": 182,
    "start_time": "2023-04-22T15:15:02.372Z"
   },
   {
    "duration": 208,
    "start_time": "2023-04-22T15:15:08.667Z"
   },
   {
    "duration": 413,
    "start_time": "2023-04-22T15:20:23.005Z"
   },
   {
    "duration": 1844,
    "start_time": "2023-04-24T12:00:50.671Z"
   },
   {
    "duration": 3,
    "start_time": "2023-04-24T12:00:53.633Z"
   },
   {
    "duration": 1018,
    "start_time": "2023-04-24T12:00:54.954Z"
   },
   {
    "duration": 184,
    "start_time": "2023-04-24T12:00:58.669Z"
   },
   {
    "duration": 3,
    "start_time": "2023-04-24T12:01:07.445Z"
   },
   {
    "duration": 380,
    "start_time": "2023-04-24T12:01:08.675Z"
   },
   {
    "duration": 769,
    "start_time": "2023-04-24T12:01:10.076Z"
   },
   {
    "duration": 189,
    "start_time": "2023-04-24T12:01:52.287Z"
   },
   {
    "duration": 63,
    "start_time": "2023-04-24T12:02:06.767Z"
   },
   {
    "duration": 115,
    "start_time": "2023-04-24T12:03:19.901Z"
   },
   {
    "duration": 4,
    "start_time": "2023-04-24T12:03:47.309Z"
   },
   {
    "duration": 553,
    "start_time": "2023-04-24T12:03:48.202Z"
   },
   {
    "duration": 7,
    "start_time": "2023-04-24T12:08:26.738Z"
   },
   {
    "duration": 81,
    "start_time": "2023-04-24T12:09:18.018Z"
   },
   {
    "duration": 44,
    "start_time": "2023-04-24T12:09:37.188Z"
   },
   {
    "duration": 42,
    "start_time": "2023-04-24T12:10:44.217Z"
   },
   {
    "duration": 85,
    "start_time": "2023-04-24T12:11:23.520Z"
   },
   {
    "duration": 29,
    "start_time": "2023-04-24T12:11:58.319Z"
   },
   {
    "duration": 4,
    "start_time": "2023-04-24T12:11:59.697Z"
   },
   {
    "duration": 3,
    "start_time": "2023-04-24T12:12:34.786Z"
   },
   {
    "duration": 16,
    "start_time": "2023-04-24T12:12:37.344Z"
   },
   {
    "duration": 64,
    "start_time": "2023-04-24T12:12:37.718Z"
   },
   {
    "duration": 13,
    "start_time": "2023-04-24T12:13:40.760Z"
   },
   {
    "duration": 4,
    "start_time": "2023-04-24T12:13:41.488Z"
   },
   {
    "duration": 98,
    "start_time": "2023-04-24T12:13:56.330Z"
   },
   {
    "duration": 1650,
    "start_time": "2023-04-25T08:21:12.728Z"
   },
   {
    "duration": 2,
    "start_time": "2023-04-25T08:21:14.380Z"
   },
   {
    "duration": 1180,
    "start_time": "2023-04-25T08:21:14.384Z"
   },
   {
    "duration": 221,
    "start_time": "2023-04-25T08:21:15.566Z"
   },
   {
    "duration": 4,
    "start_time": "2023-04-25T08:21:15.788Z"
   },
   {
    "duration": 439,
    "start_time": "2023-04-25T08:21:15.793Z"
   },
   {
    "duration": 896,
    "start_time": "2023-04-25T08:21:16.235Z"
   },
   {
    "duration": 171,
    "start_time": "2023-04-25T08:21:17.135Z"
   },
   {
    "duration": 75,
    "start_time": "2023-04-25T08:21:17.308Z"
   },
   {
    "duration": 131,
    "start_time": "2023-04-25T08:21:17.385Z"
   },
   {
    "duration": 4,
    "start_time": "2023-04-25T08:21:17.518Z"
   },
   {
    "duration": 600,
    "start_time": "2023-04-25T08:21:17.523Z"
   },
   {
    "duration": 256,
    "start_time": "2023-04-25T08:21:18.125Z"
   },
   {
    "duration": 191,
    "start_time": "2023-04-25T08:21:18.382Z"
   },
   {
    "duration": 206,
    "start_time": "2023-04-25T08:21:18.575Z"
   },
   {
    "duration": 5,
    "start_time": "2023-04-25T08:21:23.467Z"
   },
   {
    "duration": 5,
    "start_time": "2023-04-25T08:27:26.903Z"
   },
   {
    "duration": 4,
    "start_time": "2023-04-25T08:30:06.685Z"
   },
   {
    "duration": 435,
    "start_time": "2023-04-25T08:30:11.697Z"
   },
   {
    "duration": 361,
    "start_time": "2023-04-25T08:31:32.145Z"
   },
   {
    "duration": 7,
    "start_time": "2023-04-25T08:36:17.552Z"
   },
   {
    "duration": 5,
    "start_time": "2023-04-25T08:46:04.950Z"
   },
   {
    "duration": 269,
    "start_time": "2023-04-25T08:46:23.485Z"
   },
   {
    "duration": 1513,
    "start_time": "2023-04-25T08:46:41.919Z"
   },
   {
    "duration": 3,
    "start_time": "2023-04-25T08:46:43.435Z"
   },
   {
    "duration": 869,
    "start_time": "2023-04-25T08:46:43.440Z"
   },
   {
    "duration": 233,
    "start_time": "2023-04-25T08:46:44.312Z"
   },
   {
    "duration": 4,
    "start_time": "2023-04-25T08:46:44.547Z"
   },
   {
    "duration": 551,
    "start_time": "2023-04-25T08:46:44.552Z"
   },
   {
    "duration": 1109,
    "start_time": "2023-04-25T08:46:45.105Z"
   },
   {
    "duration": 204,
    "start_time": "2023-04-25T08:46:46.216Z"
   },
   {
    "duration": 91,
    "start_time": "2023-04-25T08:46:46.422Z"
   },
   {
    "duration": 159,
    "start_time": "2023-04-25T08:46:46.515Z"
   },
   {
    "duration": 5,
    "start_time": "2023-04-25T08:46:46.676Z"
   },
   {
    "duration": 768,
    "start_time": "2023-04-25T08:46:46.683Z"
   },
   {
    "duration": 282,
    "start_time": "2023-04-25T08:46:47.454Z"
   },
   {
    "duration": 199,
    "start_time": "2023-04-25T08:46:47.738Z"
   },
   {
    "duration": 239,
    "start_time": "2023-04-25T08:46:47.939Z"
   },
   {
    "duration": 2,
    "start_time": "2023-04-25T08:46:51.212Z"
   },
   {
    "duration": 5,
    "start_time": "2023-04-25T08:46:51.833Z"
   },
   {
    "duration": 113,
    "start_time": "2023-04-25T08:49:58.701Z"
   },
   {
    "duration": 4,
    "start_time": "2023-04-25T08:50:03.952Z"
   },
   {
    "duration": 5,
    "start_time": "2023-04-25T08:50:11.628Z"
   },
   {
    "duration": 10,
    "start_time": "2023-04-25T08:52:05.195Z"
   },
   {
    "duration": 6,
    "start_time": "2023-04-25T08:52:11.285Z"
   },
   {
    "duration": 608,
    "start_time": "2023-04-25T08:52:12.800Z"
   },
   {
    "duration": 6,
    "start_time": "2023-04-25T08:52:27.293Z"
   },
   {
    "duration": 6,
    "start_time": "2023-04-25T08:52:33.746Z"
   },
   {
    "duration": 76,
    "start_time": "2023-04-25T08:52:37.451Z"
   },
   {
    "duration": 75,
    "start_time": "2023-04-25T08:52:42.752Z"
   },
   {
    "duration": 390,
    "start_time": "2023-04-25T08:53:03.918Z"
   },
   {
    "duration": 70,
    "start_time": "2023-04-25T08:53:09.175Z"
   },
   {
    "duration": 8,
    "start_time": "2023-04-25T08:53:25.950Z"
   },
   {
    "duration": 5,
    "start_time": "2023-04-25T08:56:00.736Z"
   },
   {
    "duration": 23,
    "start_time": "2023-04-25T08:56:01.955Z"
   },
   {
    "duration": 5,
    "start_time": "2023-04-25T08:56:04.097Z"
   },
   {
    "duration": 4,
    "start_time": "2023-04-25T09:07:35.353Z"
   },
   {
    "duration": 6,
    "start_time": "2023-04-25T09:07:41.154Z"
   },
   {
    "duration": 9,
    "start_time": "2023-04-25T09:10:37.923Z"
   },
   {
    "duration": 4,
    "start_time": "2023-04-25T09:10:41.048Z"
   },
   {
    "duration": 12330,
    "start_time": "2023-04-25T09:10:45.112Z"
   },
   {
    "duration": 55683,
    "start_time": "2023-04-25T09:11:02.278Z"
   },
   {
    "duration": 12,
    "start_time": "2023-04-25T09:12:00.544Z"
   },
   {
    "duration": 5,
    "start_time": "2023-04-25T09:13:10.585Z"
   },
   {
    "duration": 10,
    "start_time": "2023-04-25T09:13:21.781Z"
   },
   {
    "duration": 12,
    "start_time": "2023-04-25T09:13:34.189Z"
   },
   {
    "duration": 5,
    "start_time": "2023-04-25T09:14:32.038Z"
   },
   {
    "duration": 5,
    "start_time": "2023-04-25T09:15:21.505Z"
   },
   {
    "duration": 15,
    "start_time": "2023-04-25T09:15:47.785Z"
   },
   {
    "duration": 22,
    "start_time": "2023-04-25T09:16:10.397Z"
   },
   {
    "duration": 724,
    "start_time": "2023-04-25T09:17:23.185Z"
   },
   {
    "duration": 705,
    "start_time": "2023-04-25T09:17:33.397Z"
   },
   {
    "duration": 675,
    "start_time": "2023-04-25T09:17:58.489Z"
   },
   {
    "duration": 10,
    "start_time": "2023-04-25T09:18:23.500Z"
   },
   {
    "duration": 519,
    "start_time": "2023-04-25T09:18:30.617Z"
   },
   {
    "duration": 502,
    "start_time": "2023-04-25T09:19:17.517Z"
   },
   {
    "duration": 7,
    "start_time": "2023-04-25T09:19:37.309Z"
   },
   {
    "duration": 15,
    "start_time": "2023-04-25T09:19:53.381Z"
   },
   {
    "duration": 24,
    "start_time": "2023-04-25T09:21:24.508Z"
   },
   {
    "duration": 520,
    "start_time": "2023-04-25T09:23:21.397Z"
   },
   {
    "duration": 14,
    "start_time": "2023-04-25T09:27:30.008Z"
   },
   {
    "duration": 9,
    "start_time": "2023-04-25T09:34:49.116Z"
   },
   {
    "duration": 9,
    "start_time": "2023-04-25T09:34:51.752Z"
   },
   {
    "duration": 26,
    "start_time": "2023-04-25T09:34:53.439Z"
   },
   {
    "duration": 10,
    "start_time": "2023-04-25T09:34:55.578Z"
   },
   {
    "duration": 3,
    "start_time": "2023-04-25T09:34:58.051Z"
   },
   {
    "duration": 166,
    "start_time": "2023-04-25T09:34:59.612Z"
   },
   {
    "duration": 24,
    "start_time": "2023-04-25T09:35:01.321Z"
   },
   {
    "duration": 191,
    "start_time": "2023-04-25T09:36:30.610Z"
   },
   {
    "duration": 33,
    "start_time": "2023-04-25T09:44:26.947Z"
   },
   {
    "duration": 166,
    "start_time": "2023-04-25T09:44:33.465Z"
   },
   {
    "duration": 173,
    "start_time": "2023-04-25T09:44:34.579Z"
   },
   {
    "duration": 170,
    "start_time": "2023-04-25T09:45:05.569Z"
   },
   {
    "duration": 165,
    "start_time": "2023-04-25T09:45:15.177Z"
   },
   {
    "duration": 26,
    "start_time": "2023-04-25T09:45:20.350Z"
   },
   {
    "duration": 80,
    "start_time": "2023-04-25T09:45:21.872Z"
   },
   {
    "duration": 62,
    "start_time": "2023-04-25T09:45:23.669Z"
   },
   {
    "duration": 17,
    "start_time": "2023-04-25T09:47:13.094Z"
   },
   {
    "duration": 12,
    "start_time": "2023-04-25T09:48:10.466Z"
   },
   {
    "duration": 17,
    "start_time": "2023-04-25T09:48:34.803Z"
   },
   {
    "duration": 12,
    "start_time": "2023-04-25T09:48:56.614Z"
   },
   {
    "duration": 12,
    "start_time": "2023-04-25T09:49:10.739Z"
   },
   {
    "duration": 4,
    "start_time": "2023-04-25T09:49:40.233Z"
   },
   {
    "duration": 11,
    "start_time": "2023-04-25T09:49:51.394Z"
   },
   {
    "duration": 10,
    "start_time": "2023-04-25T09:50:42.454Z"
   },
   {
    "duration": 26,
    "start_time": "2023-04-25T09:51:17.473Z"
   },
   {
    "duration": 25,
    "start_time": "2023-04-25T09:51:24.497Z"
   },
   {
    "duration": 25,
    "start_time": "2023-04-25T09:51:34.408Z"
   },
   {
    "duration": 34,
    "start_time": "2023-04-25T09:51:38.996Z"
   },
   {
    "duration": 72,
    "start_time": "2023-04-25T09:51:43.041Z"
   },
   {
    "duration": 74,
    "start_time": "2023-04-25T09:51:59.072Z"
   },
   {
    "duration": 11,
    "start_time": "2023-04-25T09:52:05.802Z"
   },
   {
    "duration": 30,
    "start_time": "2023-04-25T09:52:17.103Z"
   },
   {
    "duration": 12,
    "start_time": "2023-04-25T09:52:41.947Z"
   },
   {
    "duration": 16,
    "start_time": "2023-04-25T09:52:48.375Z"
   },
   {
    "duration": 68,
    "start_time": "2023-04-25T09:52:48.727Z"
   },
   {
    "duration": 71,
    "start_time": "2023-04-25T09:52:50.194Z"
   },
   {
    "duration": 73,
    "start_time": "2023-04-25T09:52:50.816Z"
   },
   {
    "duration": 24,
    "start_time": "2023-04-25T09:53:13.573Z"
   },
   {
    "duration": 35,
    "start_time": "2023-04-25T09:53:56.350Z"
   },
   {
    "duration": 3,
    "start_time": "2023-04-25T09:54:02.591Z"
   },
   {
    "duration": 18,
    "start_time": "2023-04-25T09:54:03.069Z"
   },
   {
    "duration": 68,
    "start_time": "2023-04-25T09:54:03.377Z"
   },
   {
    "duration": 80,
    "start_time": "2023-04-25T09:54:04.519Z"
   },
   {
    "duration": 34,
    "start_time": "2023-04-25T09:54:05.486Z"
   },
   {
    "duration": 15,
    "start_time": "2023-04-25T09:54:12.666Z"
   },
   {
    "duration": 87,
    "start_time": "2023-04-25T09:54:22.601Z"
   },
   {
    "duration": 154,
    "start_time": "2023-04-25T09:54:34.755Z"
   },
   {
    "duration": 17,
    "start_time": "2023-04-25T09:54:38.949Z"
   },
   {
    "duration": 64,
    "start_time": "2023-04-25T09:54:39.150Z"
   },
   {
    "duration": 60,
    "start_time": "2023-04-25T09:54:40.005Z"
   },
   {
    "duration": 20,
    "start_time": "2023-04-25T09:54:41.085Z"
   },
   {
    "duration": 69,
    "start_time": "2023-04-25T09:54:43.082Z"
   },
   {
    "duration": 11,
    "start_time": "2023-04-25T09:57:55.573Z"
   },
   {
    "duration": 10,
    "start_time": "2023-04-25T09:58:12.852Z"
   },
   {
    "duration": 10,
    "start_time": "2023-04-25T09:58:38.587Z"
   },
   {
    "duration": 109,
    "start_time": "2023-04-25T09:59:08.772Z"
   },
   {
    "duration": 9,
    "start_time": "2023-04-25T09:59:13.897Z"
   },
   {
    "duration": 12,
    "start_time": "2023-04-25T09:59:23.270Z"
   },
   {
    "duration": 10,
    "start_time": "2023-04-25T09:59:38.368Z"
   },
   {
    "duration": 22,
    "start_time": "2023-04-25T09:59:58.965Z"
   },
   {
    "duration": 7,
    "start_time": "2023-04-25T10:00:12.129Z"
   },
   {
    "duration": 9,
    "start_time": "2023-04-25T10:00:23.594Z"
   },
   {
    "duration": 10,
    "start_time": "2023-04-25T10:00:28.288Z"
   },
   {
    "duration": 11,
    "start_time": "2023-04-25T10:00:34.152Z"
   },
   {
    "duration": 10,
    "start_time": "2023-04-25T10:00:46.196Z"
   },
   {
    "duration": 26,
    "start_time": "2023-04-25T10:00:52.925Z"
   },
   {
    "duration": 10,
    "start_time": "2023-04-25T10:02:08.343Z"
   },
   {
    "duration": 9,
    "start_time": "2023-04-25T10:02:22.730Z"
   },
   {
    "duration": 24,
    "start_time": "2023-04-25T10:02:36.495Z"
   },
   {
    "duration": 73,
    "start_time": "2023-04-25T10:03:46.191Z"
   },
   {
    "duration": 85,
    "start_time": "2023-04-25T10:03:58.432Z"
   },
   {
    "duration": 3,
    "start_time": "2023-04-25T10:04:29.804Z"
   },
   {
    "duration": 27,
    "start_time": "2023-04-25T10:04:30.174Z"
   },
   {
    "duration": 71,
    "start_time": "2023-04-25T10:04:30.339Z"
   },
   {
    "duration": 63,
    "start_time": "2023-04-25T10:04:31.141Z"
   },
   {
    "duration": 90,
    "start_time": "2023-04-25T10:04:33.705Z"
   },
   {
    "duration": 64,
    "start_time": "2023-04-25T10:04:36.281Z"
   },
   {
    "duration": 74,
    "start_time": "2023-04-25T10:04:43.783Z"
   },
   {
    "duration": 134,
    "start_time": "2023-04-25T10:05:02.465Z"
   },
   {
    "duration": 132,
    "start_time": "2023-04-25T10:05:13.253Z"
   },
   {
    "duration": 75,
    "start_time": "2023-04-25T10:05:19.716Z"
   },
   {
    "duration": 89,
    "start_time": "2023-04-25T10:05:34.490Z"
   },
   {
    "duration": 109,
    "start_time": "2023-04-25T10:06:34.741Z"
   },
   {
    "duration": 9,
    "start_time": "2023-04-25T10:11:28.691Z"
   },
   {
    "duration": 15,
    "start_time": "2023-04-25T10:11:36.197Z"
   },
   {
    "duration": 17,
    "start_time": "2023-04-25T10:11:38.413Z"
   },
   {
    "duration": 132,
    "start_time": "2023-04-25T10:11:49.522Z"
   },
   {
    "duration": 22,
    "start_time": "2023-04-25T10:11:53.041Z"
   },
   {
    "duration": 4,
    "start_time": "2023-04-25T10:12:51.791Z"
   },
   {
    "duration": 114134,
    "start_time": "2023-04-25T10:12:54.078Z"
   },
   {
    "duration": 64,
    "start_time": "2023-04-26T08:51:36.179Z"
   },
   {
    "duration": 48,
    "start_time": "2023-04-26T08:51:49.919Z"
   },
   {
    "duration": 8,
    "start_time": "2023-04-26T08:53:09.729Z"
   },
   {
    "duration": 1930,
    "start_time": "2023-04-26T08:53:13.956Z"
   },
   {
    "duration": 3,
    "start_time": "2023-04-26T08:53:15.888Z"
   },
   {
    "duration": 3042,
    "start_time": "2023-04-26T08:53:15.892Z"
   },
   {
    "duration": 322,
    "start_time": "2023-04-26T08:53:18.937Z"
   },
   {
    "duration": 5,
    "start_time": "2023-04-26T08:53:19.261Z"
   },
   {
    "duration": 485,
    "start_time": "2023-04-26T08:53:19.268Z"
   },
   {
    "duration": 1073,
    "start_time": "2023-04-26T08:53:19.755Z"
   },
   {
    "duration": 191,
    "start_time": "2023-04-26T08:53:20.830Z"
   },
   {
    "duration": 93,
    "start_time": "2023-04-26T08:53:21.023Z"
   },
   {
    "duration": 137,
    "start_time": "2023-04-26T08:53:21.119Z"
   },
   {
    "duration": 5,
    "start_time": "2023-04-26T08:53:21.259Z"
   },
   {
    "duration": 778,
    "start_time": "2023-04-26T08:53:21.266Z"
   },
   {
    "duration": 209,
    "start_time": "2023-04-26T08:53:22.046Z"
   },
   {
    "duration": 226,
    "start_time": "2023-04-26T08:53:22.256Z"
   },
   {
    "duration": 234,
    "start_time": "2023-04-26T08:53:22.484Z"
   },
   {
    "duration": 6,
    "start_time": "2023-04-26T08:53:22.720Z"
   },
   {
    "duration": 11,
    "start_time": "2023-04-26T08:53:22.727Z"
   },
   {
    "duration": 18,
    "start_time": "2023-04-26T08:53:22.740Z"
   },
   {
    "duration": 5,
    "start_time": "2023-04-26T08:53:22.760Z"
   },
   {
    "duration": 213,
    "start_time": "2023-04-26T08:53:22.766Z"
   },
   {
    "duration": 5,
    "start_time": "2023-04-26T08:53:22.981Z"
   },
   {
    "duration": 1659,
    "start_time": "2023-04-26T08:53:22.987Z"
   },
   {
    "duration": 18,
    "start_time": "2023-04-26T08:53:24.648Z"
   },
   {
    "duration": 76,
    "start_time": "2023-04-26T08:53:24.668Z"
   },
   {
    "duration": 52,
    "start_time": "2023-04-26T08:58:48.199Z"
   },
   {
    "duration": 709,
    "start_time": "2023-04-26T08:58:48.552Z"
   },
   {
    "duration": 26,
    "start_time": "2023-04-26T08:59:42.665Z"
   },
   {
    "duration": 29,
    "start_time": "2023-04-26T09:00:01.699Z"
   },
   {
    "duration": 20,
    "start_time": "2023-04-26T09:00:21.498Z"
   },
   {
    "duration": 7,
    "start_time": "2023-04-26T09:00:25.138Z"
   },
   {
    "duration": 15,
    "start_time": "2023-04-26T09:00:33.168Z"
   },
   {
    "duration": 22,
    "start_time": "2023-04-26T09:01:23.904Z"
   },
   {
    "duration": 9,
    "start_time": "2023-04-26T09:02:43.362Z"
   },
   {
    "duration": 12,
    "start_time": "2023-04-26T09:03:21.005Z"
   },
   {
    "duration": 15,
    "start_time": "2023-04-26T09:03:33.983Z"
   },
   {
    "duration": 82,
    "start_time": "2023-04-26T09:12:13.722Z"
   },
   {
    "duration": 63,
    "start_time": "2023-04-26T09:12:20.731Z"
   },
   {
    "duration": 29,
    "start_time": "2023-04-26T09:12:26.273Z"
   },
   {
    "duration": 27,
    "start_time": "2023-04-26T09:12:32.599Z"
   },
   {
    "duration": 23,
    "start_time": "2023-04-26T09:12:41.428Z"
   },
   {
    "duration": 169,
    "start_time": "2023-04-26T09:13:12.242Z"
   },
   {
    "duration": 621,
    "start_time": "2023-04-26T09:13:38.672Z"
   },
   {
    "duration": 651,
    "start_time": "2023-04-26T09:13:48.178Z"
   },
   {
    "duration": 20,
    "start_time": "2023-04-26T09:14:54.922Z"
   },
   {
    "duration": 15,
    "start_time": "2023-04-26T09:14:59.871Z"
   },
   {
    "duration": 26,
    "start_time": "2023-04-26T09:15:16.983Z"
   },
   {
    "duration": 42,
    "start_time": "2023-04-26T09:18:51.673Z"
   },
   {
    "duration": 6,
    "start_time": "2023-04-26T09:19:45.827Z"
   },
   {
    "duration": 7,
    "start_time": "2023-04-26T09:20:03.676Z"
   },
   {
    "duration": 824,
    "start_time": "2023-04-26T09:20:20.739Z"
   },
   {
    "duration": 6,
    "start_time": "2023-04-26T09:20:31.359Z"
   },
   {
    "duration": 6,
    "start_time": "2023-04-26T09:20:39.397Z"
   },
   {
    "duration": 6,
    "start_time": "2023-04-26T09:20:44.736Z"
   },
   {
    "duration": 911,
    "start_time": "2023-04-26T09:20:54.762Z"
   },
   {
    "duration": 27,
    "start_time": "2023-04-26T09:21:14.906Z"
   },
   {
    "duration": 884,
    "start_time": "2023-04-26T09:21:16.731Z"
   },
   {
    "duration": 5,
    "start_time": "2023-04-26T09:21:26.546Z"
   },
   {
    "duration": 1470,
    "start_time": "2023-04-26T09:21:33.762Z"
   },
   {
    "duration": 3,
    "start_time": "2023-04-26T09:21:35.235Z"
   },
   {
    "duration": 879,
    "start_time": "2023-04-26T09:21:35.240Z"
   },
   {
    "duration": 238,
    "start_time": "2023-04-26T09:21:36.121Z"
   },
   {
    "duration": 4,
    "start_time": "2023-04-26T09:21:36.361Z"
   },
   {
    "duration": 476,
    "start_time": "2023-04-26T09:21:36.367Z"
   },
   {
    "duration": 999,
    "start_time": "2023-04-26T09:21:36.846Z"
   },
   {
    "duration": 185,
    "start_time": "2023-04-26T09:21:37.848Z"
   },
   {
    "duration": 91,
    "start_time": "2023-04-26T09:21:38.035Z"
   },
   {
    "duration": 131,
    "start_time": "2023-04-26T09:21:38.127Z"
   },
   {
    "duration": 5,
    "start_time": "2023-04-26T09:21:38.260Z"
   },
   {
    "duration": 706,
    "start_time": "2023-04-26T09:21:38.267Z"
   },
   {
    "duration": 321,
    "start_time": "2023-04-26T09:21:38.975Z"
   },
   {
    "duration": 208,
    "start_time": "2023-04-26T09:21:39.299Z"
   },
   {
    "duration": 228,
    "start_time": "2023-04-26T09:21:39.511Z"
   },
   {
    "duration": 8,
    "start_time": "2023-04-26T09:21:39.741Z"
   },
   {
    "duration": 17,
    "start_time": "2023-04-26T09:21:39.750Z"
   },
   {
    "duration": 21,
    "start_time": "2023-04-26T09:21:39.769Z"
   },
   {
    "duration": 22,
    "start_time": "2023-04-26T09:21:39.792Z"
   },
   {
    "duration": 189,
    "start_time": "2023-04-26T09:21:39.816Z"
   },
   {
    "duration": 5,
    "start_time": "2023-04-26T09:21:40.007Z"
   },
   {
    "duration": 1648,
    "start_time": "2023-04-26T09:21:40.013Z"
   },
   {
    "duration": 611,
    "start_time": "2023-04-26T09:21:41.663Z"
   },
   {
    "duration": 7,
    "start_time": "2023-04-26T09:21:42.275Z"
   },
   {
    "duration": 69,
    "start_time": "2023-04-26T09:21:42.284Z"
   },
   {
    "duration": 15,
    "start_time": "2023-04-26T09:21:42.355Z"
   },
   {
    "duration": 532,
    "start_time": "2023-04-26T09:21:42.372Z"
   },
   {
    "duration": 30,
    "start_time": "2023-04-26T09:21:42.906Z"
   },
   {
    "duration": 52,
    "start_time": "2023-04-26T09:21:42.938Z"
   },
   {
    "duration": 1031,
    "start_time": "2023-04-26T09:21:43.011Z"
   },
   {
    "duration": 8,
    "start_time": "2023-04-26T09:21:47.160Z"
   },
   {
    "duration": 9,
    "start_time": "2023-04-26T09:21:52.067Z"
   },
   {
    "duration": 6,
    "start_time": "2023-04-26T09:22:40.170Z"
   },
   {
    "duration": 7,
    "start_time": "2023-04-26T09:22:46.880Z"
   },
   {
    "duration": 38,
    "start_time": "2023-04-26T09:23:17.528Z"
   },
   {
    "duration": 945,
    "start_time": "2023-04-26T09:23:21.518Z"
   },
   {
    "duration": 6,
    "start_time": "2023-04-26T09:24:06.097Z"
   },
   {
    "duration": 10,
    "start_time": "2023-04-26T09:24:25.856Z"
   },
   {
    "duration": 27,
    "start_time": "2023-04-26T09:24:31.917Z"
   },
   {
    "duration": 18,
    "start_time": "2023-04-26T09:24:37.714Z"
   },
   {
    "duration": 8,
    "start_time": "2023-04-26T09:25:49.455Z"
   },
   {
    "duration": 48,
    "start_time": "2023-04-26T09:27:23.813Z"
   },
   {
    "duration": 131,
    "start_time": "2023-04-26T09:47:47.231Z"
   },
   {
    "duration": 2988,
    "start_time": "2023-04-26T09:48:54.936Z"
   },
   {
    "duration": 17,
    "start_time": "2023-04-26T09:49:15.562Z"
   },
   {
    "duration": 237936,
    "start_time": "2023-04-26T09:52:29.451Z"
   },
   {
    "duration": 38,
    "start_time": "2023-04-26T09:57:04.519Z"
   },
   {
    "duration": 5,
    "start_time": "2023-04-26T09:57:15.524Z"
   },
   {
    "duration": 4,
    "start_time": "2023-04-26T09:57:15.531Z"
   },
   {
    "duration": 850,
    "start_time": "2023-04-26T09:57:15.537Z"
   },
   {
    "duration": 227,
    "start_time": "2023-04-26T09:57:16.389Z"
   },
   {
    "duration": 4,
    "start_time": "2023-04-26T09:57:16.618Z"
   },
   {
    "duration": 462,
    "start_time": "2023-04-26T09:57:16.624Z"
   },
   {
    "duration": 969,
    "start_time": "2023-04-26T09:57:17.089Z"
   },
   {
    "duration": 154,
    "start_time": "2023-04-26T09:57:18.061Z"
   },
   {
    "duration": 96,
    "start_time": "2023-04-26T09:57:18.217Z"
   },
   {
    "duration": 136,
    "start_time": "2023-04-26T09:57:18.315Z"
   },
   {
    "duration": 5,
    "start_time": "2023-04-26T09:57:18.453Z"
   },
   {
    "duration": 724,
    "start_time": "2023-04-26T09:57:18.461Z"
   },
   {
    "duration": 225,
    "start_time": "2023-04-26T09:57:19.187Z"
   },
   {
    "duration": 219,
    "start_time": "2023-04-26T09:57:19.415Z"
   },
   {
    "duration": 236,
    "start_time": "2023-04-26T09:57:19.636Z"
   },
   {
    "duration": 7,
    "start_time": "2023-04-26T09:57:19.874Z"
   },
   {
    "duration": 10,
    "start_time": "2023-04-26T09:57:19.883Z"
   },
   {
    "duration": 33,
    "start_time": "2023-04-26T09:57:19.895Z"
   },
   {
    "duration": 5,
    "start_time": "2023-04-26T09:57:19.931Z"
   },
   {
    "duration": 198,
    "start_time": "2023-04-26T09:57:19.937Z"
   },
   {
    "duration": 6,
    "start_time": "2023-04-26T09:57:20.137Z"
   },
   {
    "duration": 1498,
    "start_time": "2023-04-26T09:57:20.145Z"
   },
   {
    "duration": 641,
    "start_time": "2023-04-26T09:57:21.645Z"
   },
   {
    "duration": 8,
    "start_time": "2023-04-26T09:57:22.287Z"
   },
   {
    "duration": 65,
    "start_time": "2023-04-26T09:57:22.296Z"
   },
   {
    "duration": 16,
    "start_time": "2023-04-26T09:57:22.363Z"
   },
   {
    "duration": 527,
    "start_time": "2023-04-26T09:57:22.381Z"
   },
   {
    "duration": 28,
    "start_time": "2023-04-26T09:57:22.912Z"
   },
   {
    "duration": 47,
    "start_time": "2023-04-26T09:57:22.942Z"
   },
   {
    "duration": 924,
    "start_time": "2023-04-26T09:57:22.990Z"
   },
   {
    "duration": 10,
    "start_time": "2023-04-26T09:57:23.916Z"
   },
   {
    "duration": 47,
    "start_time": "2023-04-26T09:57:23.928Z"
   },
   {
    "duration": 384,
    "start_time": "2023-04-26T09:57:23.977Z"
   },
   {
    "duration": 50,
    "start_time": "2023-04-26T09:57:24.363Z"
   },
   {
    "duration": 4,
    "start_time": "2023-04-26T09:57:24.415Z"
   },
   {
    "duration": 1688,
    "start_time": "2023-04-26T09:58:42.783Z"
   },
   {
    "duration": 3,
    "start_time": "2023-04-26T09:58:44.473Z"
   },
   {
    "duration": 967,
    "start_time": "2023-04-26T09:58:44.477Z"
   },
   {
    "duration": 331,
    "start_time": "2023-04-26T09:58:45.447Z"
   },
   {
    "duration": 3,
    "start_time": "2023-04-26T09:58:45.779Z"
   },
   {
    "duration": 529,
    "start_time": "2023-04-26T09:58:45.784Z"
   },
   {
    "duration": 1078,
    "start_time": "2023-04-26T09:58:46.315Z"
   },
   {
    "duration": 179,
    "start_time": "2023-04-26T09:58:47.395Z"
   },
   {
    "duration": 99,
    "start_time": "2023-04-26T09:58:47.576Z"
   },
   {
    "duration": 143,
    "start_time": "2023-04-26T09:58:47.678Z"
   },
   {
    "duration": 5,
    "start_time": "2023-04-26T09:58:47.823Z"
   },
   {
    "duration": 686,
    "start_time": "2023-04-26T09:58:47.830Z"
   },
   {
    "duration": 309,
    "start_time": "2023-04-26T09:58:48.519Z"
   },
   {
    "duration": 225,
    "start_time": "2023-04-26T09:58:48.830Z"
   },
   {
    "duration": 297,
    "start_time": "2023-04-26T09:58:49.057Z"
   },
   {
    "duration": 8,
    "start_time": "2023-04-26T09:58:49.356Z"
   },
   {
    "duration": 7,
    "start_time": "2023-04-26T09:58:49.367Z"
   },
   {
    "duration": 48,
    "start_time": "2023-04-26T09:58:49.376Z"
   },
   {
    "duration": 6,
    "start_time": "2023-04-26T09:58:49.426Z"
   },
   {
    "duration": 199,
    "start_time": "2023-04-26T09:58:49.434Z"
   },
   {
    "duration": 7,
    "start_time": "2023-04-26T09:58:49.635Z"
   },
   {
    "duration": 1616,
    "start_time": "2023-04-26T09:58:49.644Z"
   },
   {
    "duration": 637,
    "start_time": "2023-04-26T09:58:51.262Z"
   },
   {
    "duration": 13,
    "start_time": "2023-04-26T09:58:51.901Z"
   },
   {
    "duration": 67,
    "start_time": "2023-04-26T09:58:51.916Z"
   },
   {
    "duration": 32,
    "start_time": "2023-04-26T09:58:51.985Z"
   },
   {
    "duration": 518,
    "start_time": "2023-04-26T09:58:52.019Z"
   },
   {
    "duration": 28,
    "start_time": "2023-04-26T09:58:52.540Z"
   },
   {
    "duration": 80,
    "start_time": "2023-04-26T09:58:52.569Z"
   },
   {
    "duration": 1026,
    "start_time": "2023-04-26T09:58:52.651Z"
   },
   {
    "duration": 7,
    "start_time": "2023-04-26T09:58:53.679Z"
   },
   {
    "duration": 58,
    "start_time": "2023-04-26T09:58:53.688Z"
   },
   {
    "duration": 400,
    "start_time": "2023-04-26T09:58:53.748Z"
   },
   {
    "duration": 33,
    "start_time": "2023-04-26T09:58:54.150Z"
   },
   {
    "duration": 4,
    "start_time": "2023-04-26T09:58:54.185Z"
   },
   {
    "duration": 2275,
    "start_time": "2023-04-26T09:58:54.212Z"
   },
   {
    "duration": 12,
    "start_time": "2023-04-26T10:01:09.828Z"
   },
   {
    "duration": 7,
    "start_time": "2023-04-26T10:01:33.230Z"
   },
   {
    "duration": 1793,
    "start_time": "2023-04-26T10:06:22.186Z"
   },
   {
    "duration": 3,
    "start_time": "2023-04-26T10:06:23.981Z"
   },
   {
    "duration": 981,
    "start_time": "2023-04-26T10:06:23.985Z"
   },
   {
    "duration": 287,
    "start_time": "2023-04-26T10:06:24.968Z"
   },
   {
    "duration": 4,
    "start_time": "2023-04-26T10:06:25.257Z"
   },
   {
    "duration": 528,
    "start_time": "2023-04-26T10:06:25.262Z"
   },
   {
    "duration": 1111,
    "start_time": "2023-04-26T10:06:25.792Z"
   },
   {
    "duration": 188,
    "start_time": "2023-04-26T10:06:26.905Z"
   },
   {
    "duration": 117,
    "start_time": "2023-04-26T10:06:27.095Z"
   },
   {
    "duration": 151,
    "start_time": "2023-04-26T10:06:27.216Z"
   },
   {
    "duration": 5,
    "start_time": "2023-04-26T10:06:27.368Z"
   },
   {
    "duration": 729,
    "start_time": "2023-04-26T10:06:27.375Z"
   },
   {
    "duration": 293,
    "start_time": "2023-04-26T10:06:28.106Z"
   },
   {
    "duration": 248,
    "start_time": "2023-04-26T10:06:28.401Z"
   },
   {
    "duration": 312,
    "start_time": "2023-04-26T10:06:28.651Z"
   },
   {
    "duration": 8,
    "start_time": "2023-04-26T10:06:28.965Z"
   },
   {
    "duration": 8,
    "start_time": "2023-04-26T10:06:28.975Z"
   },
   {
    "duration": 29,
    "start_time": "2023-04-26T10:06:28.985Z"
   },
   {
    "duration": 6,
    "start_time": "2023-04-26T10:06:29.017Z"
   },
   {
    "duration": 299,
    "start_time": "2023-04-26T10:06:29.025Z"
   },
   {
    "duration": 4,
    "start_time": "2023-04-26T10:06:29.326Z"
   },
   {
    "duration": 1755,
    "start_time": "2023-04-26T10:06:29.333Z"
   },
   {
    "duration": 695,
    "start_time": "2023-04-26T10:06:31.090Z"
   },
   {
    "duration": 8,
    "start_time": "2023-04-26T10:06:31.787Z"
   },
   {
    "duration": 80,
    "start_time": "2023-04-26T10:06:31.796Z"
   },
   {
    "duration": 18,
    "start_time": "2023-04-26T10:06:31.878Z"
   },
   {
    "duration": 557,
    "start_time": "2023-04-26T10:06:31.898Z"
   },
   {
    "duration": 26,
    "start_time": "2023-04-26T10:06:32.460Z"
   },
   {
    "duration": 86,
    "start_time": "2023-04-26T10:06:32.487Z"
   },
   {
    "duration": 1046,
    "start_time": "2023-04-26T10:06:32.574Z"
   },
   {
    "duration": 6,
    "start_time": "2023-04-26T10:06:33.622Z"
   },
   {
    "duration": 45,
    "start_time": "2023-04-26T10:06:33.630Z"
   },
   {
    "duration": 393,
    "start_time": "2023-04-26T10:06:33.676Z"
   },
   {
    "duration": 4,
    "start_time": "2023-04-26T10:06:37.816Z"
   },
   {
    "duration": 1538,
    "start_time": "2023-04-26T10:07:18.930Z"
   },
   {
    "duration": 3,
    "start_time": "2023-04-26T10:07:20.470Z"
   },
   {
    "duration": 1003,
    "start_time": "2023-04-26T10:07:20.475Z"
   },
   {
    "duration": 259,
    "start_time": "2023-04-26T10:07:21.480Z"
   },
   {
    "duration": 3,
    "start_time": "2023-04-26T10:07:21.742Z"
   },
   {
    "duration": 522,
    "start_time": "2023-04-26T10:07:21.747Z"
   },
   {
    "duration": 1155,
    "start_time": "2023-04-26T10:07:22.270Z"
   },
   {
    "duration": 225,
    "start_time": "2023-04-26T10:07:23.428Z"
   },
   {
    "duration": 94,
    "start_time": "2023-04-26T10:07:23.654Z"
   },
   {
    "duration": 177,
    "start_time": "2023-04-26T10:07:23.750Z"
   },
   {
    "duration": 5,
    "start_time": "2023-04-26T10:07:23.929Z"
   },
   {
    "duration": 713,
    "start_time": "2023-04-26T10:07:23.935Z"
   },
   {
    "duration": 315,
    "start_time": "2023-04-26T10:07:24.651Z"
   },
   {
    "duration": 218,
    "start_time": "2023-04-26T10:07:24.969Z"
   },
   {
    "duration": 239,
    "start_time": "2023-04-26T10:07:25.189Z"
   },
   {
    "duration": 7,
    "start_time": "2023-04-26T10:07:25.430Z"
   },
   {
    "duration": 15,
    "start_time": "2023-04-26T10:07:25.438Z"
   },
   {
    "duration": 31,
    "start_time": "2023-04-26T10:07:25.454Z"
   },
   {
    "duration": 5,
    "start_time": "2023-04-26T10:07:25.487Z"
   },
   {
    "duration": 203,
    "start_time": "2023-04-26T10:07:25.511Z"
   },
   {
    "duration": 4,
    "start_time": "2023-04-26T10:07:25.716Z"
   },
   {
    "duration": 1611,
    "start_time": "2023-04-26T10:07:25.722Z"
   },
   {
    "duration": 667,
    "start_time": "2023-04-26T10:07:27.335Z"
   },
   {
    "duration": 14,
    "start_time": "2023-04-26T10:07:28.003Z"
   },
   {
    "duration": 67,
    "start_time": "2023-04-26T10:07:28.019Z"
   },
   {
    "duration": 35,
    "start_time": "2023-04-26T10:07:28.088Z"
   },
   {
    "duration": 537,
    "start_time": "2023-04-26T10:07:28.125Z"
   },
   {
    "duration": 26,
    "start_time": "2023-04-26T10:07:28.664Z"
   },
   {
    "duration": 67,
    "start_time": "2023-04-26T10:07:28.692Z"
   },
   {
    "duration": 1103,
    "start_time": "2023-04-26T10:07:28.760Z"
   },
   {
    "duration": 16,
    "start_time": "2023-04-26T10:07:32.631Z"
   },
   {
    "duration": 10,
    "start_time": "2023-04-26T10:08:04.133Z"
   },
   {
    "duration": 18,
    "start_time": "2023-04-26T10:08:20.485Z"
   },
   {
    "duration": 9,
    "start_time": "2023-04-26T10:09:02.341Z"
   },
   {
    "duration": 6,
    "start_time": "2023-04-26T10:09:48.559Z"
   },
   {
    "duration": 6,
    "start_time": "2023-04-26T10:09:59.205Z"
   },
   {
    "duration": 21,
    "start_time": "2023-04-26T10:10:09.012Z"
   },
   {
    "duration": 56,
    "start_time": "2023-04-26T10:10:36.254Z"
   },
   {
    "duration": 120,
    "start_time": "2023-04-26T10:10:41.446Z"
   },
   {
    "duration": 15,
    "start_time": "2023-04-26T10:10:56.085Z"
   },
   {
    "duration": 32,
    "start_time": "2023-04-26T10:16:29.704Z"
   },
   {
    "duration": 412,
    "start_time": "2023-04-26T10:16:35.466Z"
   },
   {
    "duration": 69,
    "start_time": "2023-04-26T10:16:39.803Z"
   },
   {
    "duration": 16,
    "start_time": "2023-04-26T10:16:55.115Z"
   },
   {
    "duration": 66,
    "start_time": "2023-04-26T10:18:15.762Z"
   },
   {
    "duration": 72,
    "start_time": "2023-04-26T10:18:23.448Z"
   },
   {
    "duration": 8,
    "start_time": "2023-04-26T10:25:05.080Z"
   },
   {
    "duration": 37,
    "start_time": "2023-04-26T10:25:05.091Z"
   },
   {
    "duration": 914,
    "start_time": "2023-04-26T10:25:05.129Z"
   },
   {
    "duration": 253,
    "start_time": "2023-04-26T10:25:06.046Z"
   },
   {
    "duration": 3,
    "start_time": "2023-04-26T10:25:06.300Z"
   },
   {
    "duration": 441,
    "start_time": "2023-04-26T10:25:06.311Z"
   },
   {
    "duration": 936,
    "start_time": "2023-04-26T10:25:06.754Z"
   },
   {
    "duration": 138,
    "start_time": "2023-04-26T10:25:07.692Z"
   },
   {
    "duration": 92,
    "start_time": "2023-04-26T10:25:07.832Z"
   },
   {
    "duration": 138,
    "start_time": "2023-04-26T10:25:07.926Z"
   },
   {
    "duration": 4,
    "start_time": "2023-04-26T10:25:08.066Z"
   },
   {
    "duration": 630,
    "start_time": "2023-04-26T10:25:08.072Z"
   },
   {
    "duration": 258,
    "start_time": "2023-04-26T10:25:08.711Z"
   },
   {
    "duration": 269,
    "start_time": "2023-04-26T10:25:08.971Z"
   },
   {
    "duration": 236,
    "start_time": "2023-04-26T10:25:09.242Z"
   },
   {
    "duration": 8,
    "start_time": "2023-04-26T10:25:09.480Z"
   },
   {
    "duration": 25,
    "start_time": "2023-04-26T10:25:09.490Z"
   },
   {
    "duration": 21,
    "start_time": "2023-04-26T10:25:09.517Z"
   },
   {
    "duration": 5,
    "start_time": "2023-04-26T10:25:09.539Z"
   },
   {
    "duration": 208,
    "start_time": "2023-04-26T10:25:09.546Z"
   },
   {
    "duration": 4,
    "start_time": "2023-04-26T10:25:09.756Z"
   },
   {
    "duration": 1677,
    "start_time": "2023-04-26T10:25:09.761Z"
   },
   {
    "duration": 646,
    "start_time": "2023-04-26T10:25:11.440Z"
   },
   {
    "duration": 11,
    "start_time": "2023-04-26T10:25:12.088Z"
   },
   {
    "duration": 46,
    "start_time": "2023-04-26T10:25:12.112Z"
   },
   {
    "duration": 16,
    "start_time": "2023-04-26T10:25:12.160Z"
   },
   {
    "duration": 528,
    "start_time": "2023-04-26T10:25:12.178Z"
   },
   {
    "duration": 27,
    "start_time": "2023-04-26T10:25:12.713Z"
   },
   {
    "duration": 42,
    "start_time": "2023-04-26T10:25:12.742Z"
   },
   {
    "duration": 998,
    "start_time": "2023-04-26T10:25:12.786Z"
   },
   {
    "duration": 81,
    "start_time": "2023-04-26T10:25:13.786Z"
   },
   {
    "duration": 59,
    "start_time": "2023-04-26T10:25:13.869Z"
   },
   {
    "duration": 354,
    "start_time": "2023-04-26T10:25:13.930Z"
   },
   {
    "duration": 44,
    "start_time": "2023-04-26T10:25:14.285Z"
   },
   {
    "duration": 3,
    "start_time": "2023-04-26T10:25:14.331Z"
   },
   {
    "duration": 2342,
    "start_time": "2023-04-26T10:26:11.759Z"
   },
   {
    "duration": 18,
    "start_time": "2023-04-26T10:26:15.437Z"
   },
   {
    "duration": 5403,
    "start_time": "2023-04-26T10:26:15.997Z"
   },
   {
    "duration": 393,
    "start_time": "2023-04-26T10:26:56.220Z"
   },
   {
    "duration": 119,
    "start_time": "2023-04-26T10:27:29.525Z"
   },
   {
    "duration": 425,
    "start_time": "2023-04-26T10:27:35.387Z"
   },
   {
    "duration": 432,
    "start_time": "2023-04-26T10:27:40.612Z"
   },
   {
    "duration": 7,
    "start_time": "2023-04-26T10:29:00.344Z"
   },
   {
    "duration": 35,
    "start_time": "2023-04-26T10:48:04.005Z"
   },
   {
    "duration": 21,
    "start_time": "2023-04-26T10:48:22.633Z"
   },
   {
    "duration": 12,
    "start_time": "2023-04-26T10:48:57.284Z"
   },
   {
    "duration": 13,
    "start_time": "2023-04-26T10:49:27.831Z"
   },
   {
    "duration": 20,
    "start_time": "2023-04-26T10:50:00.140Z"
   },
   {
    "duration": 18,
    "start_time": "2023-04-26T10:50:53.156Z"
   },
   {
    "duration": 18,
    "start_time": "2023-04-26T10:51:15.662Z"
   },
   {
    "duration": 19,
    "start_time": "2023-04-26T10:51:53.528Z"
   },
   {
    "duration": 18,
    "start_time": "2023-04-26T10:51:57.617Z"
   },
   {
    "duration": 18,
    "start_time": "2023-04-26T10:52:10.419Z"
   },
   {
    "duration": 19,
    "start_time": "2023-04-26T10:52:31.059Z"
   },
   {
    "duration": 136,
    "start_time": "2023-04-26T11:02:41.858Z"
   },
   {
    "duration": 129,
    "start_time": "2023-04-26T11:03:25.423Z"
   },
   {
    "duration": 130,
    "start_time": "2023-04-26T11:03:38.253Z"
   },
   {
    "duration": 1137,
    "start_time": "2023-04-26T11:03:41.202Z"
   },
   {
    "duration": 18,
    "start_time": "2023-04-26T11:03:57.984Z"
   },
   {
    "duration": 19,
    "start_time": "2023-04-26T11:04:15.504Z"
   },
   {
    "duration": 999,
    "start_time": "2023-04-26T11:04:47.597Z"
   },
   {
    "duration": 137,
    "start_time": "2023-04-26T11:04:55.945Z"
   },
   {
    "duration": 46,
    "start_time": "2023-04-26T11:05:28.943Z"
   },
   {
    "duration": 34,
    "start_time": "2023-04-26T11:05:34.194Z"
   },
   {
    "duration": 152,
    "start_time": "2023-04-26T11:05:52.948Z"
   },
   {
    "duration": 36,
    "start_time": "2023-04-26T11:06:12.110Z"
   },
   {
    "duration": 33,
    "start_time": "2023-04-26T11:06:16.782Z"
   },
   {
    "duration": 37,
    "start_time": "2023-04-26T11:06:22.182Z"
   },
   {
    "duration": 20,
    "start_time": "2023-04-26T11:08:49.103Z"
   },
   {
    "duration": 27,
    "start_time": "2023-04-26T11:08:54.017Z"
   },
   {
    "duration": 10,
    "start_time": "2023-04-26T11:21:50.205Z"
   },
   {
    "duration": 4,
    "start_time": "2023-04-26T11:22:01.129Z"
   },
   {
    "duration": 14,
    "start_time": "2023-04-26T11:22:01.493Z"
   },
   {
    "duration": 80,
    "start_time": "2023-04-26T11:22:01.708Z"
   },
   {
    "duration": 63,
    "start_time": "2023-04-26T11:22:02.114Z"
   },
   {
    "duration": 14,
    "start_time": "2023-04-26T11:22:02.986Z"
   },
   {
    "duration": 4,
    "start_time": "2023-04-26T11:22:03.870Z"
   },
   {
    "duration": 126,
    "start_time": "2023-04-26T11:22:20.292Z"
   },
   {
    "duration": 111,
    "start_time": "2023-04-26T11:22:29.317Z"
   },
   {
    "duration": 57,
    "start_time": "2023-04-26T11:26:47.045Z"
   },
   {
    "duration": 4,
    "start_time": "2023-04-26T11:27:49.853Z"
   },
   {
    "duration": 65,
    "start_time": "2023-04-26T11:31:56.375Z"
   },
   {
    "duration": 3,
    "start_time": "2023-04-26T11:31:59.251Z"
   },
   {
    "duration": 570768,
    "start_time": "2023-04-26T11:32:00.211Z"
   },
   {
    "duration": 4,
    "start_time": "2023-04-26T11:42:46.914Z"
   },
   {
    "duration": 29489,
    "start_time": "2023-04-26T11:42:48.636Z"
   },
   {
    "duration": 3,
    "start_time": "2023-04-26T11:43:59.307Z"
   },
   {
    "duration": 71269,
    "start_time": "2023-04-26T11:44:00.752Z"
   },
   {
    "duration": 4,
    "start_time": "2023-04-26T11:47:01.950Z"
   },
   {
    "duration": 4,
    "start_time": "2023-04-26T11:47:29.656Z"
   },
   {
    "duration": 26364,
    "start_time": "2023-04-26T11:47:30.666Z"
   },
   {
    "duration": 19,
    "start_time": "2023-04-26T11:49:53.691Z"
   },
   {
    "duration": 5,
    "start_time": "2023-04-26T12:00:00.716Z"
   },
   {
    "duration": 5,
    "start_time": "2023-04-26T12:00:06.333Z"
   },
   {
    "duration": 5,
    "start_time": "2023-04-26T12:00:25.708Z"
   },
   {
    "duration": 18,
    "start_time": "2023-04-26T12:01:08.494Z"
   },
   {
    "duration": 50,
    "start_time": "2023-04-26T12:02:55.406Z"
   },
   {
    "duration": 50,
    "start_time": "2023-04-26T12:03:04.622Z"
   },
   {
    "duration": 46,
    "start_time": "2023-04-26T12:03:16.052Z"
   },
   {
    "duration": 46,
    "start_time": "2023-04-26T12:03:31.558Z"
   },
   {
    "duration": 49,
    "start_time": "2023-04-26T12:04:18.477Z"
   },
   {
    "duration": 50,
    "start_time": "2023-04-26T12:04:58.472Z"
   },
   {
    "duration": 4,
    "start_time": "2023-04-26T12:05:11.400Z"
   },
   {
    "duration": 4,
    "start_time": "2023-04-26T12:05:23.172Z"
   },
   {
    "duration": 51,
    "start_time": "2023-04-26T12:05:56.649Z"
   },
   {
    "duration": 78,
    "start_time": "2023-04-26T12:06:04.732Z"
   },
   {
    "duration": 52,
    "start_time": "2023-04-26T12:06:09.635Z"
   },
   {
    "duration": 63,
    "start_time": "2023-04-26T12:07:11.070Z"
   },
   {
    "duration": 50,
    "start_time": "2023-04-26T12:07:45.763Z"
   },
   {
    "duration": 57,
    "start_time": "2023-04-26T12:07:52.972Z"
   },
   {
    "duration": 70,
    "start_time": "2023-04-26T12:07:58.084Z"
   },
   {
    "duration": 64,
    "start_time": "2023-04-26T12:08:01.366Z"
   },
   {
    "duration": 55,
    "start_time": "2023-04-26T12:08:21.458Z"
   },
   {
    "duration": 47,
    "start_time": "2023-04-26T12:08:26.537Z"
   },
   {
    "duration": 49,
    "start_time": "2023-04-26T12:08:57.417Z"
   },
   {
    "duration": 59,
    "start_time": "2023-04-26T12:09:03.541Z"
   },
   {
    "duration": 46,
    "start_time": "2023-04-26T12:09:27.351Z"
   },
   {
    "duration": 55,
    "start_time": "2023-04-26T12:10:05.722Z"
   },
   {
    "duration": 149,
    "start_time": "2023-04-26T12:10:12.050Z"
   },
   {
    "duration": 50,
    "start_time": "2023-04-26T12:10:24.338Z"
   },
   {
    "duration": 6,
    "start_time": "2023-04-26T12:11:29.405Z"
   },
   {
    "duration": 61,
    "start_time": "2023-04-26T12:11:37.992Z"
   },
   {
    "duration": 5,
    "start_time": "2023-04-26T12:11:40.372Z"
   },
   {
    "duration": 5,
    "start_time": "2023-04-26T12:11:54.754Z"
   },
   {
    "duration": 61,
    "start_time": "2023-04-26T12:13:05.548Z"
   },
   {
    "duration": 49,
    "start_time": "2023-04-26T12:13:12.473Z"
   },
   {
    "duration": 58,
    "start_time": "2023-04-26T12:13:22.615Z"
   },
   {
    "duration": 102,
    "start_time": "2023-04-26T12:13:37.551Z"
   },
   {
    "duration": 72,
    "start_time": "2023-04-26T12:13:45.538Z"
   },
   {
    "duration": 51,
    "start_time": "2023-04-26T12:13:53.700Z"
   },
   {
    "duration": 47,
    "start_time": "2023-04-26T12:13:57.942Z"
   },
   {
    "duration": 4,
    "start_time": "2023-04-26T12:14:59.801Z"
   },
   {
    "duration": 4,
    "start_time": "2023-04-26T12:15:53.358Z"
   },
   {
    "duration": 4,
    "start_time": "2023-04-26T12:16:04.276Z"
   },
   {
    "duration": 5,
    "start_time": "2023-04-26T12:16:13.382Z"
   },
   {
    "duration": 8,
    "start_time": "2023-04-26T12:17:55.710Z"
   },
   {
    "duration": 4,
    "start_time": "2023-04-26T12:18:26.758Z"
   },
   {
    "duration": 4,
    "start_time": "2023-04-26T12:18:36.839Z"
   },
   {
    "duration": 7,
    "start_time": "2023-04-26T12:18:50.502Z"
   },
   {
    "duration": 6,
    "start_time": "2023-04-26T12:18:58.327Z"
   },
   {
    "duration": 5,
    "start_time": "2023-04-26T12:19:12.015Z"
   },
   {
    "duration": 10,
    "start_time": "2023-04-26T12:19:46.647Z"
   },
   {
    "duration": 5,
    "start_time": "2023-04-26T12:19:49.994Z"
   },
   {
    "duration": 104737,
    "start_time": "2023-04-26T12:19:51.502Z"
   },
   {
    "duration": 6,
    "start_time": "2023-04-26T12:23:07.459Z"
   },
   {
    "duration": 3,
    "start_time": "2023-04-26T12:25:30.781Z"
   },
   {
    "duration": 180,
    "start_time": "2023-04-26T12:25:31.098Z"
   },
   {
    "duration": 3,
    "start_time": "2023-04-26T12:26:18.405Z"
   },
   {
    "duration": 166,
    "start_time": "2023-04-26T12:26:19.437Z"
   },
   {
    "duration": 75,
    "start_time": "2023-04-26T12:28:26.802Z"
   },
   {
    "duration": 2003,
    "start_time": "2023-04-26T12:28:58.789Z"
   },
   {
    "duration": 550,
    "start_time": "2023-04-26T12:29:37.385Z"
   },
   {
    "duration": 15,
    "start_time": "2023-04-26T12:38:18.527Z"
   },
   {
    "duration": 61,
    "start_time": "2023-04-26T12:42:51.292Z"
   },
   {
    "duration": 5,
    "start_time": "2023-04-26T12:42:56.901Z"
   },
   {
    "duration": 11,
    "start_time": "2023-04-26T12:43:03.387Z"
   },
   {
    "duration": 8,
    "start_time": "2023-04-26T12:44:04.270Z"
   },
   {
    "duration": 55,
    "start_time": "2023-04-26T12:45:52.396Z"
   },
   {
    "duration": 8,
    "start_time": "2023-04-26T12:46:03.934Z"
   },
   {
    "duration": 9,
    "start_time": "2023-04-26T12:47:46.756Z"
   },
   {
    "duration": 8,
    "start_time": "2023-04-26T12:48:41.210Z"
   },
   {
    "duration": 10,
    "start_time": "2023-04-26T12:54:24.759Z"
   },
   {
    "duration": 12,
    "start_time": "2023-04-26T12:54:49.908Z"
   },
   {
    "duration": 17,
    "start_time": "2023-04-26T12:54:52.628Z"
   },
   {
    "duration": 61,
    "start_time": "2023-04-26T12:56:35.014Z"
   },
   {
    "duration": 3,
    "start_time": "2023-04-26T12:56:47.571Z"
   },
   {
    "duration": 3,
    "start_time": "2023-04-26T12:56:51.903Z"
   },
   {
    "duration": 3,
    "start_time": "2023-04-26T12:59:05.560Z"
   },
   {
    "duration": 5,
    "start_time": "2023-04-26T13:01:22.383Z"
   },
   {
    "duration": 50,
    "start_time": "2023-04-26T13:01:46.709Z"
   },
   {
    "duration": 101,
    "start_time": "2023-04-26T13:01:51.440Z"
   },
   {
    "duration": 63,
    "start_time": "2023-04-26T13:02:00.803Z"
   },
   {
    "duration": 46,
    "start_time": "2023-04-26T13:02:11.507Z"
   },
   {
    "duration": 69,
    "start_time": "2023-04-26T13:02:28.771Z"
   },
   {
    "duration": 4,
    "start_time": "2023-04-26T13:02:32.590Z"
   },
   {
    "duration": 6,
    "start_time": "2023-04-26T13:04:30.284Z"
   },
   {
    "duration": 16,
    "start_time": "2023-04-26T13:06:26.439Z"
   },
   {
    "duration": 5,
    "start_time": "2023-04-26T13:07:00.729Z"
   },
   {
    "duration": 6,
    "start_time": "2023-04-26T13:07:42.234Z"
   },
   {
    "duration": 5,
    "start_time": "2023-04-26T13:07:45.790Z"
   },
   {
    "duration": 5,
    "start_time": "2023-04-26T13:08:11.131Z"
   },
   {
    "duration": 5,
    "start_time": "2023-04-26T13:08:26.749Z"
   },
   {
    "duration": 5,
    "start_time": "2023-04-26T13:08:30.910Z"
   },
   {
    "duration": 4,
    "start_time": "2023-04-26T13:08:34.851Z"
   },
   {
    "duration": 10,
    "start_time": "2023-04-26T13:08:37.053Z"
   },
   {
    "duration": 5,
    "start_time": "2023-04-26T13:10:18.901Z"
   },
   {
    "duration": 11,
    "start_time": "2023-04-26T13:10:24.477Z"
   },
   {
    "duration": 11,
    "start_time": "2023-04-26T13:43:33.199Z"
   },
   {
    "duration": 4,
    "start_time": "2023-04-26T13:43:53.034Z"
   },
   {
    "duration": 12,
    "start_time": "2023-04-26T13:43:55.216Z"
   },
   {
    "duration": 1341,
    "start_time": "2023-04-26T13:45:27.180Z"
   },
   {
    "duration": 10,
    "start_time": "2023-04-26T13:49:19.717Z"
   },
   {
    "duration": 445,
    "start_time": "2023-04-26T13:49:27.567Z"
   },
   {
    "duration": 454,
    "start_time": "2023-04-26T13:50:13.815Z"
   },
   {
    "duration": 13,
    "start_time": "2023-04-26T17:13:52.375Z"
   },
   {
    "duration": 3,
    "start_time": "2023-04-26T17:14:05.861Z"
   },
   {
    "duration": 50,
    "start_time": "2023-04-27T09:22:39.262Z"
   },
   {
    "duration": 7,
    "start_time": "2023-04-27T09:22:41.481Z"
   },
   {
    "duration": 1578,
    "start_time": "2023-04-27T09:22:44.652Z"
   },
   {
    "duration": 3,
    "start_time": "2023-04-27T09:22:46.233Z"
   },
   {
    "duration": 3077,
    "start_time": "2023-04-27T09:22:46.237Z"
   },
   {
    "duration": 285,
    "start_time": "2023-04-27T09:22:49.317Z"
   },
   {
    "duration": 4,
    "start_time": "2023-04-27T09:22:49.611Z"
   },
   {
    "duration": 532,
    "start_time": "2023-04-27T09:22:49.617Z"
   },
   {
    "duration": 1098,
    "start_time": "2023-04-27T09:22:50.151Z"
   },
   {
    "duration": 190,
    "start_time": "2023-04-27T09:22:51.251Z"
   },
   {
    "duration": 104,
    "start_time": "2023-04-27T09:22:51.444Z"
   },
   {
    "duration": 160,
    "start_time": "2023-04-27T09:22:51.551Z"
   },
   {
    "duration": 6,
    "start_time": "2023-04-27T09:22:51.713Z"
   },
   {
    "duration": 716,
    "start_time": "2023-04-27T09:22:51.721Z"
   },
   {
    "duration": 313,
    "start_time": "2023-04-27T09:22:52.439Z"
   },
   {
    "duration": 232,
    "start_time": "2023-04-27T09:22:52.753Z"
   },
   {
    "duration": 237,
    "start_time": "2023-04-27T09:22:52.988Z"
   },
   {
    "duration": 8,
    "start_time": "2023-04-27T09:22:53.227Z"
   },
   {
    "duration": 7,
    "start_time": "2023-04-27T09:22:53.237Z"
   },
   {
    "duration": 22,
    "start_time": "2023-04-27T09:22:53.246Z"
   },
   {
    "duration": 5,
    "start_time": "2023-04-27T09:22:53.271Z"
   },
   {
    "duration": 211,
    "start_time": "2023-04-27T09:22:53.312Z"
   },
   {
    "duration": 5,
    "start_time": "2023-04-27T09:22:53.525Z"
   },
   {
    "duration": 1695,
    "start_time": "2023-04-27T09:22:53.532Z"
   },
   {
    "duration": 630,
    "start_time": "2023-04-27T09:22:55.230Z"
   },
   {
    "duration": 9,
    "start_time": "2023-04-27T09:22:55.862Z"
   },
   {
    "duration": 78,
    "start_time": "2023-04-27T09:22:55.873Z"
   },
   {
    "duration": 20,
    "start_time": "2023-04-27T09:22:55.953Z"
   },
   {
    "duration": 524,
    "start_time": "2023-04-27T09:22:55.974Z"
   },
   {
    "duration": 51,
    "start_time": "2023-04-27T09:22:56.501Z"
   },
   {
    "duration": 70,
    "start_time": "2023-04-27T09:22:56.555Z"
   },
   {
    "duration": 1005,
    "start_time": "2023-04-27T09:22:56.628Z"
   },
   {
    "duration": 62,
    "start_time": "2023-04-27T09:22:57.635Z"
   },
   {
    "duration": 48,
    "start_time": "2023-04-27T09:22:57.712Z"
   },
   {
    "duration": 377,
    "start_time": "2023-04-27T09:22:57.763Z"
   },
   {
    "duration": 33,
    "start_time": "2023-04-27T09:22:58.142Z"
   },
   {
    "duration": 4,
    "start_time": "2023-04-27T09:22:58.178Z"
   },
   {
    "duration": 3737,
    "start_time": "2023-04-27T09:22:58.185Z"
   },
   {
    "duration": 19,
    "start_time": "2023-04-27T09:23:01.925Z"
   },
   {
    "duration": 5670,
    "start_time": "2023-04-27T09:23:01.946Z"
   },
   {
    "duration": 440,
    "start_time": "2023-04-27T09:23:07.618Z"
   },
   {
    "duration": 7,
    "start_time": "2023-04-27T09:23:08.060Z"
   },
   {
    "duration": 6,
    "start_time": "2023-04-27T09:23:08.068Z"
   },
   {
    "duration": 24,
    "start_time": "2023-04-27T09:23:08.075Z"
   },
   {
    "duration": 70,
    "start_time": "2023-04-27T09:23:08.100Z"
   },
   {
    "duration": 14,
    "start_time": "2023-04-27T09:23:08.172Z"
   },
   {
    "duration": 31,
    "start_time": "2023-04-27T09:23:08.188Z"
   },
   {
    "duration": 20,
    "start_time": "2023-04-27T09:23:08.221Z"
   },
   {
    "duration": 700192,
    "start_time": "2023-04-27T09:23:08.243Z"
   },
   {
    "duration": 6,
    "start_time": "2023-04-27T09:34:48.437Z"
   },
   {
    "duration": 89,
    "start_time": "2023-04-27T09:34:48.445Z"
   },
   {
    "duration": 3,
    "start_time": "2023-04-27T09:35:34.373Z"
   },
   {
    "duration": 12,
    "start_time": "2023-04-27T09:35:44.072Z"
   },
   {
    "duration": 6,
    "start_time": "2023-04-27T09:36:18.013Z"
   },
   {
    "duration": 6,
    "start_time": "2023-04-27T09:37:30.509Z"
   },
   {
    "duration": 7,
    "start_time": "2023-04-27T09:37:47.694Z"
   },
   {
    "duration": 6,
    "start_time": "2023-04-27T09:38:01.714Z"
   },
   {
    "duration": 16,
    "start_time": "2023-04-27T09:47:14.099Z"
   },
   {
    "duration": 13,
    "start_time": "2023-04-27T09:47:42.548Z"
   },
   {
    "duration": 5,
    "start_time": "2023-04-27T09:50:10.634Z"
   },
   {
    "duration": 9,
    "start_time": "2023-04-27T09:50:36.474Z"
   },
   {
    "duration": 5,
    "start_time": "2023-04-27T09:50:42.430Z"
   },
   {
    "duration": 11,
    "start_time": "2023-04-27T09:51:15.031Z"
   },
   {
    "duration": 6,
    "start_time": "2023-04-27T09:51:23.317Z"
   },
   {
    "duration": 4,
    "start_time": "2023-04-27T09:53:43.507Z"
   },
   {
    "duration": 5,
    "start_time": "2023-04-27T09:54:07.699Z"
   },
   {
    "duration": 18,
    "start_time": "2023-04-27T09:54:40.145Z"
   },
   {
    "duration": 7,
    "start_time": "2023-04-27T10:06:36.703Z"
   },
   {
    "duration": 7,
    "start_time": "2023-04-27T10:14:44.813Z"
   },
   {
    "duration": 4,
    "start_time": "2023-04-27T10:15:23.873Z"
   },
   {
    "duration": 30495,
    "start_time": "2023-04-27T10:15:24.132Z"
   },
   {
    "duration": 6,
    "start_time": "2023-04-27T10:15:54.630Z"
   },
   {
    "duration": 10,
    "start_time": "2023-04-27T10:17:50.622Z"
   },
   {
    "duration": 5,
    "start_time": "2023-04-27T10:17:55.098Z"
   },
   {
    "duration": 86768,
    "start_time": "2023-04-27T10:17:55.386Z"
   },
   {
    "duration": 6,
    "start_time": "2023-04-27T10:19:22.156Z"
   },
   {
    "duration": 6,
    "start_time": "2023-04-27T10:22:33.555Z"
   },
   {
    "duration": 6,
    "start_time": "2023-04-27T10:23:01.396Z"
   },
   {
    "duration": 6,
    "start_time": "2023-04-27T10:23:14.952Z"
   },
   {
    "duration": 65,
    "start_time": "2023-04-27T10:25:49.404Z"
   },
   {
    "duration": 51,
    "start_time": "2023-04-27T10:27:08.822Z"
   },
   {
    "duration": 58,
    "start_time": "2023-04-27T10:27:23.081Z"
   },
   {
    "duration": 52,
    "start_time": "2023-04-27T10:27:33.583Z"
   },
   {
    "duration": 50,
    "start_time": "2023-04-27T10:28:14.380Z"
   },
   {
    "duration": 53,
    "start_time": "2023-04-27T10:28:26.755Z"
   },
   {
    "duration": 54,
    "start_time": "2023-04-27T10:28:33.682Z"
   },
   {
    "duration": 5,
    "start_time": "2023-04-27T10:28:52.876Z"
   },
   {
    "duration": 5,
    "start_time": "2023-04-27T10:28:58.684Z"
   },
   {
    "duration": 4,
    "start_time": "2023-04-27T10:29:00.159Z"
   },
   {
    "duration": 8,
    "start_time": "2023-04-27T10:29:00.879Z"
   },
   {
    "duration": 14,
    "start_time": "2023-04-27T10:33:03.788Z"
   },
   {
    "duration": 1535,
    "start_time": "2023-04-27T10:33:12.181Z"
   },
   {
    "duration": 3,
    "start_time": "2023-04-27T10:33:13.717Z"
   },
   {
    "duration": 875,
    "start_time": "2023-04-27T10:33:13.722Z"
   },
   {
    "duration": 239,
    "start_time": "2023-04-27T10:33:14.599Z"
   },
   {
    "duration": 3,
    "start_time": "2023-04-27T10:33:14.840Z"
   },
   {
    "duration": 495,
    "start_time": "2023-04-27T10:33:14.844Z"
   },
   {
    "duration": 1067,
    "start_time": "2023-04-27T10:33:15.345Z"
   },
   {
    "duration": 178,
    "start_time": "2023-04-27T10:33:16.414Z"
   },
   {
    "duration": 93,
    "start_time": "2023-04-27T10:33:16.593Z"
   },
   {
    "duration": 154,
    "start_time": "2023-04-27T10:33:16.689Z"
   },
   {
    "duration": 5,
    "start_time": "2023-04-27T10:33:16.844Z"
   },
   {
    "duration": 660,
    "start_time": "2023-04-27T10:33:16.852Z"
   },
   {
    "duration": 290,
    "start_time": "2023-04-27T10:33:17.515Z"
   },
   {
    "duration": 207,
    "start_time": "2023-04-27T10:33:17.811Z"
   },
   {
    "duration": 239,
    "start_time": "2023-04-27T10:33:18.020Z"
   },
   {
    "duration": 7,
    "start_time": "2023-04-27T10:33:39.956Z"
   },
   {
    "duration": 17,
    "start_time": "2023-04-27T10:33:42.020Z"
   },
   {
    "duration": 5,
    "start_time": "2023-04-27T10:33:43.528Z"
   },
   {
    "duration": 116,
    "start_time": "2023-04-27T10:33:45.621Z"
   },
   {
    "duration": 6,
    "start_time": "2023-04-27T10:42:30.450Z"
   },
   {
    "duration": 9,
    "start_time": "2023-04-27T10:42:34.304Z"
   },
   {
    "duration": 9,
    "start_time": "2023-04-27T10:42:46.104Z"
   },
   {
    "duration": 38,
    "start_time": "2023-04-27T10:42:58.799Z"
   },
   {
    "duration": 12,
    "start_time": "2023-04-27T10:43:24.242Z"
   },
   {
    "duration": 6,
    "start_time": "2023-04-27T10:43:42.062Z"
   },
   {
    "duration": 5,
    "start_time": "2023-04-27T10:44:08.725Z"
   },
   {
    "duration": 9,
    "start_time": "2023-04-27T10:44:30.636Z"
   },
   {
    "duration": 12,
    "start_time": "2023-04-27T10:45:31.181Z"
   },
   {
    "duration": 12,
    "start_time": "2023-04-27T10:45:36.640Z"
   },
   {
    "duration": 12,
    "start_time": "2023-04-27T10:45:43.832Z"
   },
   {
    "duration": 5,
    "start_time": "2023-04-27T10:45:57.665Z"
   },
   {
    "duration": 13,
    "start_time": "2023-04-27T10:46:05.424Z"
   },
   {
    "duration": 6,
    "start_time": "2023-04-27T10:46:12.246Z"
   },
   {
    "duration": 1553,
    "start_time": "2023-04-27T10:46:42.707Z"
   },
   {
    "duration": 3,
    "start_time": "2023-04-27T10:46:44.262Z"
   },
   {
    "duration": 897,
    "start_time": "2023-04-27T10:46:44.267Z"
   },
   {
    "duration": 245,
    "start_time": "2023-04-27T10:46:45.166Z"
   },
   {
    "duration": 3,
    "start_time": "2023-04-27T10:46:45.413Z"
   },
   {
    "duration": 474,
    "start_time": "2023-04-27T10:46:45.418Z"
   },
   {
    "duration": 1039,
    "start_time": "2023-04-27T10:46:45.894Z"
   },
   {
    "duration": 184,
    "start_time": "2023-04-27T10:46:46.935Z"
   },
   {
    "duration": 91,
    "start_time": "2023-04-27T10:46:47.121Z"
   },
   {
    "duration": 139,
    "start_time": "2023-04-27T10:46:47.214Z"
   },
   {
    "duration": 5,
    "start_time": "2023-04-27T10:46:47.354Z"
   },
   {
    "duration": 660,
    "start_time": "2023-04-27T10:46:47.360Z"
   },
   {
    "duration": 291,
    "start_time": "2023-04-27T10:46:48.022Z"
   },
   {
    "duration": 226,
    "start_time": "2023-04-27T10:46:48.315Z"
   },
   {
    "duration": 238,
    "start_time": "2023-04-27T10:46:48.543Z"
   },
   {
    "duration": 6,
    "start_time": "2023-04-27T10:46:48.783Z"
   },
   {
    "duration": 11,
    "start_time": "2023-04-27T10:47:08.914Z"
   },
   {
    "duration": 5,
    "start_time": "2023-04-27T10:47:10.906Z"
   },
   {
    "duration": 4,
    "start_time": "2023-04-27T10:47:22.634Z"
   },
   {
    "duration": 4,
    "start_time": "2023-04-27T10:47:28.559Z"
   },
   {
    "duration": 7,
    "start_time": "2023-04-27T10:47:45.627Z"
   },
   {
    "duration": 400,
    "start_time": "2023-04-27T10:48:07.065Z"
   },
   {
    "duration": 191,
    "start_time": "2023-04-27T10:48:12.360Z"
   },
   {
    "duration": 18,
    "start_time": "2023-04-27T10:48:15.557Z"
   },
   {
    "duration": 6,
    "start_time": "2023-04-27T10:48:20.103Z"
   },
   {
    "duration": 6,
    "start_time": "2023-04-27T10:50:01.301Z"
   },
   {
    "duration": 9,
    "start_time": "2023-04-27T10:50:47.608Z"
   },
   {
    "duration": 11,
    "start_time": "2023-04-27T10:51:12.102Z"
   },
   {
    "duration": 10,
    "start_time": "2023-04-27T10:51:20.484Z"
   },
   {
    "duration": 13,
    "start_time": "2023-04-27T10:51:30.222Z"
   },
   {
    "duration": 4,
    "start_time": "2023-04-27T10:51:50.148Z"
   },
   {
    "duration": 5,
    "start_time": "2023-04-27T10:55:12.622Z"
   },
   {
    "duration": 14,
    "start_time": "2023-04-27T10:55:28.942Z"
   },
   {
    "duration": 5,
    "start_time": "2023-04-27T10:55:34.255Z"
   },
   {
    "duration": 12,
    "start_time": "2023-04-27T10:55:43.914Z"
   },
   {
    "duration": 18,
    "start_time": "2023-04-27T10:56:56.000Z"
   },
   {
    "duration": 25,
    "start_time": "2023-04-27T10:57:15.336Z"
   },
   {
    "duration": 33,
    "start_time": "2023-04-27T10:57:51.876Z"
   },
   {
    "duration": 22,
    "start_time": "2023-04-27T10:58:07.252Z"
   },
   {
    "duration": 24,
    "start_time": "2023-04-27T10:58:13.752Z"
   },
   {
    "duration": 18,
    "start_time": "2023-04-27T10:58:47.822Z"
   },
   {
    "duration": 4,
    "start_time": "2023-04-27T10:59:11.056Z"
   },
   {
    "duration": 15,
    "start_time": "2023-04-27T10:59:39.577Z"
   },
   {
    "duration": 13,
    "start_time": "2023-04-27T11:00:15.439Z"
   },
   {
    "duration": 19,
    "start_time": "2023-04-27T11:00:26.114Z"
   },
   {
    "duration": 11,
    "start_time": "2023-04-27T11:00:31.695Z"
   },
   {
    "duration": 9,
    "start_time": "2023-04-27T11:00:40.616Z"
   },
   {
    "duration": 10,
    "start_time": "2023-04-27T11:00:43.657Z"
   },
   {
    "duration": 15,
    "start_time": "2023-04-27T11:01:05.531Z"
   },
   {
    "duration": 9,
    "start_time": "2023-04-27T11:01:50.297Z"
   },
   {
    "duration": 10,
    "start_time": "2023-04-27T11:02:06.737Z"
   },
   {
    "duration": 12,
    "start_time": "2023-04-27T11:02:34.196Z"
   },
   {
    "duration": 14,
    "start_time": "2023-04-27T11:02:51.558Z"
   },
   {
    "duration": 13,
    "start_time": "2023-04-27T11:04:37.475Z"
   },
   {
    "duration": 11,
    "start_time": "2023-04-27T11:04:44.035Z"
   },
   {
    "duration": 22,
    "start_time": "2023-04-27T11:05:15.117Z"
   },
   {
    "duration": 19,
    "start_time": "2023-04-27T11:05:19.070Z"
   },
   {
    "duration": 21,
    "start_time": "2023-04-27T11:05:44.326Z"
   },
   {
    "duration": 10,
    "start_time": "2023-04-27T11:06:02.576Z"
   },
   {
    "duration": 12,
    "start_time": "2023-04-27T11:06:13.705Z"
   },
   {
    "duration": 14,
    "start_time": "2023-04-27T11:06:34.899Z"
   },
   {
    "duration": 20,
    "start_time": "2023-04-27T11:06:47.741Z"
   },
   {
    "duration": 81,
    "start_time": "2023-04-27T11:07:19.138Z"
   },
   {
    "duration": 18,
    "start_time": "2023-04-27T11:07:27.209Z"
   },
   {
    "duration": 15,
    "start_time": "2023-04-27T11:08:35.831Z"
   },
   {
    "duration": 13,
    "start_time": "2023-04-27T11:08:40.416Z"
   },
   {
    "duration": 18,
    "start_time": "2023-04-27T11:09:06.116Z"
   },
   {
    "duration": 13,
    "start_time": "2023-04-27T11:09:22.837Z"
   },
   {
    "duration": 1502,
    "start_time": "2023-04-27T11:09:43.018Z"
   },
   {
    "duration": 3,
    "start_time": "2023-04-27T11:09:44.522Z"
   },
   {
    "duration": 925,
    "start_time": "2023-04-27T11:09:44.527Z"
   },
   {
    "duration": 250,
    "start_time": "2023-04-27T11:09:45.454Z"
   },
   {
    "duration": 9,
    "start_time": "2023-04-27T11:09:45.705Z"
   },
   {
    "duration": 535,
    "start_time": "2023-04-27T11:09:45.716Z"
   },
   {
    "duration": 1086,
    "start_time": "2023-04-27T11:09:46.253Z"
   },
   {
    "duration": 185,
    "start_time": "2023-04-27T11:09:47.340Z"
   },
   {
    "duration": 88,
    "start_time": "2023-04-27T11:09:47.527Z"
   },
   {
    "duration": 140,
    "start_time": "2023-04-27T11:09:47.618Z"
   },
   {
    "duration": 6,
    "start_time": "2023-04-27T11:09:47.760Z"
   },
   {
    "duration": 668,
    "start_time": "2023-04-27T11:09:47.768Z"
   },
   {
    "duration": 291,
    "start_time": "2023-04-27T11:09:48.439Z"
   },
   {
    "duration": 247,
    "start_time": "2023-04-27T11:09:48.732Z"
   },
   {
    "duration": 267,
    "start_time": "2023-04-27T11:09:48.981Z"
   },
   {
    "duration": 22,
    "start_time": "2023-04-27T11:09:57.541Z"
   },
   {
    "duration": 9,
    "start_time": "2023-04-27T11:09:59.332Z"
   },
   {
    "duration": 125,
    "start_time": "2023-04-27T11:10:31.532Z"
   },
   {
    "duration": 8,
    "start_time": "2023-04-27T11:10:40.313Z"
   },
   {
    "duration": 21,
    "start_time": "2023-04-27T11:13:03.993Z"
   },
   {
    "duration": 11,
    "start_time": "2023-04-27T11:14:07.052Z"
   },
   {
    "duration": 9,
    "start_time": "2023-04-27T11:14:10.281Z"
   },
   {
    "duration": 886,
    "start_time": "2023-04-27T11:14:23.149Z"
   },
   {
    "duration": 6,
    "start_time": "2023-04-27T11:14:47.591Z"
   },
   {
    "duration": 14,
    "start_time": "2023-04-27T11:15:17.692Z"
   },
   {
    "duration": 13,
    "start_time": "2023-04-27T11:16:36.762Z"
   },
   {
    "duration": 22,
    "start_time": "2023-04-27T11:16:41.204Z"
   },
   {
    "duration": 14,
    "start_time": "2023-04-27T11:16:42.064Z"
   },
   {
    "duration": 1485,
    "start_time": "2023-04-27T11:16:53.266Z"
   },
   {
    "duration": 3,
    "start_time": "2023-04-27T11:16:54.753Z"
   },
   {
    "duration": 897,
    "start_time": "2023-04-27T11:16:54.757Z"
   },
   {
    "duration": 243,
    "start_time": "2023-04-27T11:16:55.657Z"
   },
   {
    "duration": 4,
    "start_time": "2023-04-27T11:16:55.901Z"
   },
   {
    "duration": 496,
    "start_time": "2023-04-27T11:16:55.912Z"
   },
   {
    "duration": 1072,
    "start_time": "2023-04-27T11:16:56.412Z"
   },
   {
    "duration": 181,
    "start_time": "2023-04-27T11:16:57.485Z"
   },
   {
    "duration": 91,
    "start_time": "2023-04-27T11:16:57.667Z"
   },
   {
    "duration": 134,
    "start_time": "2023-04-27T11:16:57.761Z"
   },
   {
    "duration": 16,
    "start_time": "2023-04-27T11:16:57.896Z"
   },
   {
    "duration": 658,
    "start_time": "2023-04-27T11:16:57.914Z"
   },
   {
    "duration": 317,
    "start_time": "2023-04-27T11:16:58.574Z"
   },
   {
    "duration": 261,
    "start_time": "2023-04-27T11:16:58.893Z"
   },
   {
    "duration": 274,
    "start_time": "2023-04-27T11:16:59.156Z"
   },
   {
    "duration": 129,
    "start_time": "2023-04-27T11:16:59.431Z"
   },
   {
    "duration": 22,
    "start_time": "2023-04-27T11:17:16.522Z"
   },
   {
    "duration": 22,
    "start_time": "2023-04-27T11:17:25.212Z"
   },
   {
    "duration": 12,
    "start_time": "2023-04-27T11:17:30.947Z"
   },
   {
    "duration": 53,
    "start_time": "2023-04-27T11:17:48.511Z"
   },
   {
    "duration": 1459,
    "start_time": "2023-04-27T11:17:55.118Z"
   },
   {
    "duration": 3,
    "start_time": "2023-04-27T11:17:56.579Z"
   },
   {
    "duration": 922,
    "start_time": "2023-04-27T11:17:56.583Z"
   },
   {
    "duration": 275,
    "start_time": "2023-04-27T11:17:57.507Z"
   },
   {
    "duration": 4,
    "start_time": "2023-04-27T11:17:57.784Z"
   },
   {
    "duration": 518,
    "start_time": "2023-04-27T11:17:57.789Z"
   },
   {
    "duration": 1184,
    "start_time": "2023-04-27T11:17:58.308Z"
   },
   {
    "duration": 194,
    "start_time": "2023-04-27T11:17:59.494Z"
   },
   {
    "duration": 96,
    "start_time": "2023-04-27T11:17:59.690Z"
   },
   {
    "duration": 143,
    "start_time": "2023-04-27T11:17:59.789Z"
   },
   {
    "duration": 5,
    "start_time": "2023-04-27T11:17:59.934Z"
   },
   {
    "duration": 687,
    "start_time": "2023-04-27T11:17:59.941Z"
   },
   {
    "duration": 305,
    "start_time": "2023-04-27T11:18:00.630Z"
   },
   {
    "duration": 208,
    "start_time": "2023-04-27T11:18:00.936Z"
   },
   {
    "duration": 238,
    "start_time": "2023-04-27T11:18:01.146Z"
   },
   {
    "duration": 22,
    "start_time": "2023-04-27T11:18:04.639Z"
   },
   {
    "duration": 85,
    "start_time": "2023-04-27T11:18:05.511Z"
   },
   {
    "duration": 1472,
    "start_time": "2023-04-27T11:19:08.961Z"
   },
   {
    "duration": 3,
    "start_time": "2023-04-27T11:19:10.435Z"
   },
   {
    "duration": 873,
    "start_time": "2023-04-27T11:19:10.439Z"
   },
   {
    "duration": 250,
    "start_time": "2023-04-27T11:19:11.314Z"
   },
   {
    "duration": 4,
    "start_time": "2023-04-27T11:19:11.565Z"
   },
   {
    "duration": 513,
    "start_time": "2023-04-27T11:19:11.570Z"
   },
   {
    "duration": 1077,
    "start_time": "2023-04-27T11:19:12.085Z"
   },
   {
    "duration": 189,
    "start_time": "2023-04-27T11:19:13.163Z"
   },
   {
    "duration": 94,
    "start_time": "2023-04-27T11:19:13.354Z"
   },
   {
    "duration": 137,
    "start_time": "2023-04-27T11:19:13.451Z"
   },
   {
    "duration": 8,
    "start_time": "2023-04-27T11:19:13.589Z"
   },
   {
    "duration": 673,
    "start_time": "2023-04-27T11:19:13.599Z"
   },
   {
    "duration": 285,
    "start_time": "2023-04-27T11:19:14.274Z"
   },
   {
    "duration": 217,
    "start_time": "2023-04-27T11:19:14.561Z"
   },
   {
    "duration": 225,
    "start_time": "2023-04-27T11:19:14.780Z"
   },
   {
    "duration": 22,
    "start_time": "2023-04-27T11:19:15.012Z"
   },
   {
    "duration": 125,
    "start_time": "2023-04-27T11:19:18.299Z"
   },
   {
    "duration": 22,
    "start_time": "2023-04-27T11:19:42.807Z"
   },
   {
    "duration": 17,
    "start_time": "2023-04-27T11:19:48.592Z"
   },
   {
    "duration": 29,
    "start_time": "2023-04-27T11:20:13.416Z"
   },
   {
    "duration": 12,
    "start_time": "2023-04-27T11:20:24.419Z"
   },
   {
    "duration": 11,
    "start_time": "2023-04-27T11:20:26.270Z"
   },
   {
    "duration": 10,
    "start_time": "2023-04-27T11:20:31.003Z"
   },
   {
    "duration": 10,
    "start_time": "2023-04-27T11:21:03.751Z"
   },
   {
    "duration": 5,
    "start_time": "2023-04-27T11:21:17.120Z"
   },
   {
    "duration": 6,
    "start_time": "2023-04-27T11:21:27.667Z"
   },
   {
    "duration": 6,
    "start_time": "2023-04-27T11:21:40.788Z"
   },
   {
    "duration": 1522,
    "start_time": "2023-04-27T11:21:57.960Z"
   },
   {
    "duration": 3,
    "start_time": "2023-04-27T11:21:59.485Z"
   },
   {
    "duration": 889,
    "start_time": "2023-04-27T11:21:59.489Z"
   },
   {
    "duration": 247,
    "start_time": "2023-04-27T11:22:00.380Z"
   },
   {
    "duration": 4,
    "start_time": "2023-04-27T11:22:00.628Z"
   },
   {
    "duration": 547,
    "start_time": "2023-04-27T11:22:00.634Z"
   },
   {
    "duration": 1052,
    "start_time": "2023-04-27T11:22:01.183Z"
   },
   {
    "duration": 176,
    "start_time": "2023-04-27T11:22:02.236Z"
   },
   {
    "duration": 76,
    "start_time": "2023-04-27T11:22:02.414Z"
   },
   {
    "duration": 142,
    "start_time": "2023-04-27T11:22:02.493Z"
   },
   {
    "duration": 5,
    "start_time": "2023-04-27T11:22:02.637Z"
   },
   {
    "duration": 705,
    "start_time": "2023-04-27T11:22:02.643Z"
   },
   {
    "duration": 287,
    "start_time": "2023-04-27T11:22:03.350Z"
   },
   {
    "duration": 226,
    "start_time": "2023-04-27T11:22:03.639Z"
   },
   {
    "duration": 239,
    "start_time": "2023-04-27T11:22:03.866Z"
   },
   {
    "duration": 5,
    "start_time": "2023-04-27T11:22:04.111Z"
   },
   {
    "duration": 35,
    "start_time": "2023-04-27T11:22:04.117Z"
   },
   {
    "duration": 17,
    "start_time": "2023-04-27T11:22:04.154Z"
   },
   {
    "duration": 12,
    "start_time": "2023-04-27T11:22:04.172Z"
   },
   {
    "duration": 6,
    "start_time": "2023-04-27T11:22:39.409Z"
   },
   {
    "duration": 242,
    "start_time": "2023-04-27T11:23:09.956Z"
   },
   {
    "duration": 395,
    "start_time": "2023-04-27T11:26:55.936Z"
   },
   {
    "duration": 1527,
    "start_time": "2023-04-27T11:27:12.991Z"
   },
   {
    "duration": 3,
    "start_time": "2023-04-27T11:27:14.520Z"
   },
   {
    "duration": 910,
    "start_time": "2023-04-27T11:27:14.525Z"
   },
   {
    "duration": 240,
    "start_time": "2023-04-27T11:27:15.437Z"
   },
   {
    "duration": 3,
    "start_time": "2023-04-27T11:27:15.679Z"
   },
   {
    "duration": 498,
    "start_time": "2023-04-27T11:27:15.684Z"
   },
   {
    "duration": 1044,
    "start_time": "2023-04-27T11:27:16.183Z"
   },
   {
    "duration": 185,
    "start_time": "2023-04-27T11:27:17.228Z"
   },
   {
    "duration": 79,
    "start_time": "2023-04-27T11:27:17.414Z"
   },
   {
    "duration": 141,
    "start_time": "2023-04-27T11:27:17.495Z"
   },
   {
    "duration": 4,
    "start_time": "2023-04-27T11:27:17.638Z"
   },
   {
    "duration": 664,
    "start_time": "2023-04-27T11:27:17.644Z"
   },
   {
    "duration": 304,
    "start_time": "2023-04-27T11:27:18.310Z"
   },
   {
    "duration": 213,
    "start_time": "2023-04-27T11:27:18.617Z"
   },
   {
    "duration": 294,
    "start_time": "2023-04-27T11:27:18.832Z"
   },
   {
    "duration": 5,
    "start_time": "2023-04-27T11:27:19.128Z"
   },
   {
    "duration": 5,
    "start_time": "2023-04-27T11:27:22.612Z"
   },
   {
    "duration": 425,
    "start_time": "2023-04-27T11:27:23.133Z"
   },
   {
    "duration": 32,
    "start_time": "2023-04-27T11:27:58.133Z"
   },
   {
    "duration": 72,
    "start_time": "2023-04-27T11:28:01.757Z"
   },
   {
    "duration": 8,
    "start_time": "2023-04-27T11:28:14.820Z"
   },
   {
    "duration": 22,
    "start_time": "2023-04-27T11:28:35.023Z"
   },
   {
    "duration": 15,
    "start_time": "2023-04-27T11:28:39.920Z"
   },
   {
    "duration": 6,
    "start_time": "2023-04-27T11:29:05.203Z"
   },
   {
    "duration": 17,
    "start_time": "2023-04-27T11:29:56.693Z"
   },
   {
    "duration": 13,
    "start_time": "2023-04-27T11:30:40.713Z"
   },
   {
    "duration": 16,
    "start_time": "2023-04-27T11:32:49.978Z"
   },
   {
    "duration": 6,
    "start_time": "2023-04-27T11:33:36.535Z"
   },
   {
    "duration": 1552,
    "start_time": "2023-04-27T11:33:46.119Z"
   },
   {
    "duration": 3,
    "start_time": "2023-04-27T11:33:47.675Z"
   },
   {
    "duration": 903,
    "start_time": "2023-04-27T11:33:47.679Z"
   },
   {
    "duration": 296,
    "start_time": "2023-04-27T11:33:48.585Z"
   },
   {
    "duration": 5,
    "start_time": "2023-04-27T11:33:48.884Z"
   },
   {
    "duration": 628,
    "start_time": "2023-04-27T11:33:48.891Z"
   },
   {
    "duration": 1151,
    "start_time": "2023-04-27T11:33:49.521Z"
   },
   {
    "duration": 188,
    "start_time": "2023-04-27T11:33:50.675Z"
   },
   {
    "duration": 96,
    "start_time": "2023-04-27T11:33:50.865Z"
   },
   {
    "duration": 143,
    "start_time": "2023-04-27T11:33:50.963Z"
   },
   {
    "duration": 5,
    "start_time": "2023-04-27T11:33:51.112Z"
   },
   {
    "duration": 681,
    "start_time": "2023-04-27T11:33:51.119Z"
   },
   {
    "duration": 298,
    "start_time": "2023-04-27T11:33:51.802Z"
   },
   {
    "duration": 253,
    "start_time": "2023-04-27T11:33:52.101Z"
   },
   {
    "duration": 240,
    "start_time": "2023-04-27T11:33:52.357Z"
   },
   {
    "duration": 5,
    "start_time": "2023-04-27T11:33:57.466Z"
   },
   {
    "duration": 22,
    "start_time": "2023-04-27T11:34:27.441Z"
   },
   {
    "duration": 23,
    "start_time": "2023-04-27T11:34:29.834Z"
   },
   {
    "duration": 24,
    "start_time": "2023-04-27T11:34:30.843Z"
   },
   {
    "duration": 23,
    "start_time": "2023-04-27T11:34:31.472Z"
   },
   {
    "duration": 23,
    "start_time": "2023-04-27T11:34:31.808Z"
   },
   {
    "duration": 23,
    "start_time": "2023-04-27T11:34:32.028Z"
   },
   {
    "duration": 29,
    "start_time": "2023-04-27T11:34:32.247Z"
   },
   {
    "duration": 29,
    "start_time": "2023-04-27T11:34:32.458Z"
   },
   {
    "duration": 30,
    "start_time": "2023-04-27T11:34:32.683Z"
   },
   {
    "duration": 30,
    "start_time": "2023-04-27T11:34:32.888Z"
   },
   {
    "duration": 31,
    "start_time": "2023-04-27T11:34:33.127Z"
   },
   {
    "duration": 138,
    "start_time": "2023-04-27T11:34:37.048Z"
   },
   {
    "duration": 37,
    "start_time": "2023-04-27T11:35:07.004Z"
   },
   {
    "duration": 30,
    "start_time": "2023-04-27T11:35:26.444Z"
   },
   {
    "duration": 43,
    "start_time": "2023-04-27T11:35:39.103Z"
   },
   {
    "duration": 17,
    "start_time": "2023-04-27T11:36:03.115Z"
   },
   {
    "duration": 28,
    "start_time": "2023-04-27T11:36:22.407Z"
   },
   {
    "duration": 32,
    "start_time": "2023-04-27T11:39:40.650Z"
   },
   {
    "duration": 1530,
    "start_time": "2023-04-27T11:39:55.788Z"
   },
   {
    "duration": 4,
    "start_time": "2023-04-27T11:39:57.320Z"
   },
   {
    "duration": 881,
    "start_time": "2023-04-27T11:39:57.325Z"
   },
   {
    "duration": 254,
    "start_time": "2023-04-27T11:39:58.211Z"
   },
   {
    "duration": 4,
    "start_time": "2023-04-27T11:39:58.467Z"
   },
   {
    "duration": 579,
    "start_time": "2023-04-27T11:39:58.472Z"
   },
   {
    "duration": 1093,
    "start_time": "2023-04-27T11:39:59.053Z"
   },
   {
    "duration": 188,
    "start_time": "2023-04-27T11:40:00.147Z"
   },
   {
    "duration": 96,
    "start_time": "2023-04-27T11:40:00.337Z"
   },
   {
    "duration": 147,
    "start_time": "2023-04-27T11:40:00.434Z"
   },
   {
    "duration": 20,
    "start_time": "2023-04-27T11:40:00.583Z"
   },
   {
    "duration": 748,
    "start_time": "2023-04-27T11:40:00.605Z"
   },
   {
    "duration": 315,
    "start_time": "2023-04-27T11:40:01.355Z"
   },
   {
    "duration": 219,
    "start_time": "2023-04-27T11:40:01.672Z"
   },
   {
    "duration": 240,
    "start_time": "2023-04-27T11:40:01.893Z"
   },
   {
    "duration": 6,
    "start_time": "2023-04-27T11:40:02.134Z"
   },
   {
    "duration": 4,
    "start_time": "2023-04-27T11:40:04.913Z"
   },
   {
    "duration": 26,
    "start_time": "2023-04-27T11:40:18.925Z"
   },
   {
    "duration": 32,
    "start_time": "2023-04-27T11:40:24.064Z"
   },
   {
    "duration": 30,
    "start_time": "2023-04-27T11:40:25.121Z"
   },
   {
    "duration": 5,
    "start_time": "2023-04-27T11:40:33.908Z"
   },
   {
    "duration": 5,
    "start_time": "2023-04-27T11:40:35.379Z"
   },
   {
    "duration": 147,
    "start_time": "2023-04-27T11:40:41.812Z"
   },
   {
    "duration": 23,
    "start_time": "2023-04-27T11:43:17.616Z"
   },
   {
    "duration": 30,
    "start_time": "2023-04-27T11:43:24.735Z"
   },
   {
    "duration": 4,
    "start_time": "2023-04-27T11:43:28.738Z"
   },
   {
    "duration": 7,
    "start_time": "2023-04-27T11:43:34.612Z"
   },
   {
    "duration": 232,
    "start_time": "2023-04-27T11:44:01.082Z"
   },
   {
    "duration": 17,
    "start_time": "2023-04-27T11:44:21.379Z"
   },
   {
    "duration": 12,
    "start_time": "2023-04-27T11:44:25.372Z"
   },
   {
    "duration": 12,
    "start_time": "2023-04-27T11:44:41.552Z"
   },
   {
    "duration": 11,
    "start_time": "2023-04-27T11:44:47.332Z"
   },
   {
    "duration": 232,
    "start_time": "2023-04-27T11:45:00.376Z"
   },
   {
    "duration": 8,
    "start_time": "2023-04-27T11:45:43.613Z"
   },
   {
    "duration": 10,
    "start_time": "2023-04-27T11:46:06.910Z"
   },
   {
    "duration": 13,
    "start_time": "2023-04-27T11:49:31.308Z"
   },
   {
    "duration": 44,
    "start_time": "2023-04-27T11:49:39.405Z"
   },
   {
    "duration": 1496,
    "start_time": "2023-04-27T11:49:50.625Z"
   },
   {
    "duration": 3,
    "start_time": "2023-04-27T11:49:52.123Z"
   },
   {
    "duration": 968,
    "start_time": "2023-04-27T11:49:52.128Z"
   },
   {
    "duration": 267,
    "start_time": "2023-04-27T11:49:53.099Z"
   },
   {
    "duration": 4,
    "start_time": "2023-04-27T11:49:53.368Z"
   },
   {
    "duration": 567,
    "start_time": "2023-04-27T11:49:53.374Z"
   },
   {
    "duration": 1098,
    "start_time": "2023-04-27T11:49:53.943Z"
   },
   {
    "duration": 181,
    "start_time": "2023-04-27T11:49:55.043Z"
   },
   {
    "duration": 93,
    "start_time": "2023-04-27T11:49:55.226Z"
   },
   {
    "duration": 144,
    "start_time": "2023-04-27T11:49:55.322Z"
   },
   {
    "duration": 4,
    "start_time": "2023-04-27T11:49:55.468Z"
   },
   {
    "duration": 691,
    "start_time": "2023-04-27T11:49:55.474Z"
   },
   {
    "duration": 302,
    "start_time": "2023-04-27T11:49:56.167Z"
   },
   {
    "duration": 252,
    "start_time": "2023-04-27T11:49:56.472Z"
   },
   {
    "duration": 294,
    "start_time": "2023-04-27T11:49:56.728Z"
   },
   {
    "duration": 7,
    "start_time": "2023-04-27T11:49:57.024Z"
   },
   {
    "duration": 38,
    "start_time": "2023-04-27T11:49:57.032Z"
   },
   {
    "duration": 10,
    "start_time": "2023-04-27T11:49:57.073Z"
   },
   {
    "duration": 238,
    "start_time": "2023-04-27T11:49:57.111Z"
   },
   {
    "duration": 5,
    "start_time": "2023-04-27T11:49:57.352Z"
   },
   {
    "duration": 1882,
    "start_time": "2023-04-27T11:49:57.359Z"
   },
   {
    "duration": 722,
    "start_time": "2023-04-27T11:49:59.243Z"
   },
   {
    "duration": 10,
    "start_time": "2023-04-27T11:49:59.967Z"
   },
   {
    "duration": 106,
    "start_time": "2023-04-27T11:50:16.545Z"
   },
   {
    "duration": 5,
    "start_time": "2023-04-27T11:51:06.469Z"
   },
   {
    "duration": 60,
    "start_time": "2023-04-27T11:51:18.089Z"
   },
   {
    "duration": 8,
    "start_time": "2023-04-27T11:51:50.686Z"
   },
   {
    "duration": 1539,
    "start_time": "2023-04-27T11:52:03.379Z"
   },
   {
    "duration": 3,
    "start_time": "2023-04-27T11:52:04.920Z"
   },
   {
    "duration": 923,
    "start_time": "2023-04-27T11:52:04.924Z"
   },
   {
    "duration": 244,
    "start_time": "2023-04-27T11:52:05.849Z"
   },
   {
    "duration": 4,
    "start_time": "2023-04-27T11:52:06.094Z"
   },
   {
    "duration": 501,
    "start_time": "2023-04-27T11:52:06.100Z"
   },
   {
    "duration": 1047,
    "start_time": "2023-04-27T11:52:06.603Z"
   },
   {
    "duration": 186,
    "start_time": "2023-04-27T11:52:07.652Z"
   },
   {
    "duration": 90,
    "start_time": "2023-04-27T11:52:07.840Z"
   },
   {
    "duration": 134,
    "start_time": "2023-04-27T11:52:07.933Z"
   },
   {
    "duration": 4,
    "start_time": "2023-04-27T11:52:08.069Z"
   },
   {
    "duration": 685,
    "start_time": "2023-04-27T11:52:08.075Z"
   },
   {
    "duration": 363,
    "start_time": "2023-04-27T11:52:08.763Z"
   },
   {
    "duration": 223,
    "start_time": "2023-04-27T11:52:09.129Z"
   },
   {
    "duration": 231,
    "start_time": "2023-04-27T11:52:09.353Z"
   },
   {
    "duration": 5,
    "start_time": "2023-04-27T11:52:09.585Z"
   },
   {
    "duration": 52,
    "start_time": "2023-04-27T11:52:09.592Z"
   },
   {
    "duration": 13,
    "start_time": "2023-04-27T11:52:09.646Z"
   },
   {
    "duration": 189,
    "start_time": "2023-04-27T11:52:09.662Z"
   },
   {
    "duration": 4,
    "start_time": "2023-04-27T11:52:09.853Z"
   },
   {
    "duration": 1583,
    "start_time": "2023-04-27T11:52:09.859Z"
   },
   {
    "duration": 652,
    "start_time": "2023-04-27T11:52:11.443Z"
   },
   {
    "duration": 17,
    "start_time": "2023-04-27T11:53:15.319Z"
   },
   {
    "duration": 57,
    "start_time": "2023-04-27T11:53:19.315Z"
   },
   {
    "duration": 1519,
    "start_time": "2023-04-27T12:06:34.584Z"
   },
   {
    "duration": 3,
    "start_time": "2023-04-27T12:06:36.105Z"
   },
   {
    "duration": 929,
    "start_time": "2023-04-27T12:06:36.112Z"
   },
   {
    "duration": 257,
    "start_time": "2023-04-27T12:06:37.043Z"
   },
   {
    "duration": 3,
    "start_time": "2023-04-27T12:06:37.302Z"
   },
   {
    "duration": 529,
    "start_time": "2023-04-27T12:06:37.311Z"
   },
   {
    "duration": 1136,
    "start_time": "2023-04-27T12:06:37.842Z"
   },
   {
    "duration": 230,
    "start_time": "2023-04-27T12:06:38.981Z"
   },
   {
    "duration": 84,
    "start_time": "2023-04-27T12:06:39.213Z"
   },
   {
    "duration": 145,
    "start_time": "2023-04-27T12:06:39.299Z"
   },
   {
    "duration": 6,
    "start_time": "2023-04-27T12:06:39.446Z"
   },
   {
    "duration": 687,
    "start_time": "2023-04-27T12:06:39.454Z"
   },
   {
    "duration": 303,
    "start_time": "2023-04-27T12:06:40.146Z"
   },
   {
    "duration": 226,
    "start_time": "2023-04-27T12:06:40.451Z"
   },
   {
    "duration": 239,
    "start_time": "2023-04-27T12:06:40.679Z"
   },
   {
    "duration": 5,
    "start_time": "2023-04-27T12:06:40.919Z"
   },
   {
    "duration": 38,
    "start_time": "2023-04-27T12:06:40.926Z"
   },
   {
    "duration": 10,
    "start_time": "2023-04-27T12:06:40.966Z"
   },
   {
    "duration": 186,
    "start_time": "2023-04-27T12:06:40.978Z"
   },
   {
    "duration": 4,
    "start_time": "2023-04-27T12:06:41.166Z"
   },
   {
    "duration": 1565,
    "start_time": "2023-04-27T12:06:41.172Z"
   },
   {
    "duration": 704,
    "start_time": "2023-04-27T12:06:42.739Z"
   },
   {
    "duration": 17,
    "start_time": "2023-04-27T12:06:43.445Z"
   },
   {
    "duration": 79,
    "start_time": "2023-04-27T12:06:43.464Z"
   },
   {
    "duration": 17,
    "start_time": "2023-04-27T12:06:43.545Z"
   },
   {
    "duration": 630,
    "start_time": "2023-04-27T12:06:43.563Z"
   },
   {
    "duration": 46,
    "start_time": "2023-04-27T12:06:44.196Z"
   },
   {
    "duration": 72,
    "start_time": "2023-04-27T12:06:44.244Z"
   },
   {
    "duration": 1124,
    "start_time": "2023-04-27T12:06:44.318Z"
   },
   {
    "duration": 81,
    "start_time": "2023-04-27T12:06:45.444Z"
   },
   {
    "duration": 41,
    "start_time": "2023-04-27T12:06:45.527Z"
   },
   {
    "duration": 374,
    "start_time": "2023-04-27T12:06:45.569Z"
   },
   {
    "duration": 33,
    "start_time": "2023-04-27T12:06:45.945Z"
   },
   {
    "duration": 4,
    "start_time": "2023-04-27T12:06:45.980Z"
   },
   {
    "duration": 2252,
    "start_time": "2023-04-27T12:06:45.987Z"
   },
   {
    "duration": 20,
    "start_time": "2023-04-27T12:06:48.242Z"
   },
   {
    "duration": 5208,
    "start_time": "2023-04-27T12:06:48.265Z"
   },
   {
    "duration": 464,
    "start_time": "2023-04-27T12:06:53.475Z"
   },
   {
    "duration": 7,
    "start_time": "2023-04-27T12:06:53.941Z"
   },
   {
    "duration": 4,
    "start_time": "2023-04-27T12:06:53.954Z"
   },
   {
    "duration": 20,
    "start_time": "2023-04-27T12:06:53.960Z"
   },
   {
    "duration": 75,
    "start_time": "2023-04-27T12:06:53.982Z"
   },
   {
    "duration": 14,
    "start_time": "2023-04-27T12:06:54.059Z"
   },
   {
    "duration": 5,
    "start_time": "2023-04-27T12:06:54.074Z"
   },
   {
    "duration": 7,
    "start_time": "2023-04-27T12:06:54.081Z"
   },
   {
    "duration": 534892,
    "start_time": "2023-04-27T12:06:54.090Z"
   },
   {
    "duration": 8,
    "start_time": "2023-04-27T12:15:48.984Z"
   },
   {
    "duration": 10,
    "start_time": "2023-04-27T12:15:48.993Z"
   },
   {
    "duration": 29012,
    "start_time": "2023-04-27T12:15:49.005Z"
   },
   {
    "duration": 6,
    "start_time": "2023-04-27T12:16:18.019Z"
   },
   {
    "duration": 14,
    "start_time": "2023-04-27T12:16:18.027Z"
   },
   {
    "duration": 85508,
    "start_time": "2023-04-27T12:16:18.042Z"
   },
   {
    "duration": 6,
    "start_time": "2023-04-27T12:17:43.552Z"
   },
   {
    "duration": 13,
    "start_time": "2023-04-27T12:17:43.560Z"
   },
   {
    "duration": 6,
    "start_time": "2023-04-27T12:17:43.575Z"
   },
   {
    "duration": 31,
    "start_time": "2023-04-27T12:17:43.583Z"
   },
   {
    "duration": 5,
    "start_time": "2023-04-27T12:17:43.617Z"
   },
   {
    "duration": 180,
    "start_time": "2023-04-27T12:17:43.624Z"
   },
   {
    "duration": 637,
    "start_time": "2023-04-27T12:17:43.806Z"
   },
   {
    "duration": 5,
    "start_time": "2023-04-27T12:17:44.446Z"
   },
   {
    "duration": 1346,
    "start_time": "2023-04-27T12:17:44.453Z"
   },
   {
    "duration": 418,
    "start_time": "2023-04-27T12:17:45.800Z"
   },
   {
    "duration": 1593,
    "start_time": "2023-04-28T09:13:21.388Z"
   },
   {
    "duration": 4,
    "start_time": "2023-04-28T09:13:22.983Z"
   },
   {
    "duration": 2994,
    "start_time": "2023-04-28T09:13:22.988Z"
   },
   {
    "duration": 194,
    "start_time": "2023-04-28T09:13:25.984Z"
   },
   {
    "duration": 4,
    "start_time": "2023-04-28T09:13:26.180Z"
   },
   {
    "duration": 441,
    "start_time": "2023-04-28T09:13:26.185Z"
   },
   {
    "duration": 937,
    "start_time": "2023-04-28T09:13:26.627Z"
   },
   {
    "duration": 161,
    "start_time": "2023-04-28T09:13:27.566Z"
   },
   {
    "duration": 70,
    "start_time": "2023-04-28T09:13:27.728Z"
   },
   {
    "duration": 105,
    "start_time": "2023-04-28T09:13:27.803Z"
   },
   {
    "duration": 5,
    "start_time": "2023-04-28T09:13:27.909Z"
   },
   {
    "duration": 600,
    "start_time": "2023-04-28T09:13:27.916Z"
   },
   {
    "duration": 255,
    "start_time": "2023-04-28T09:13:28.517Z"
   },
   {
    "duration": 196,
    "start_time": "2023-04-28T09:13:28.776Z"
   },
   {
    "duration": 222,
    "start_time": "2023-04-28T09:13:28.974Z"
   },
   {
    "duration": 12,
    "start_time": "2023-04-28T09:13:29.200Z"
   },
   {
    "duration": 22,
    "start_time": "2023-04-28T09:13:29.215Z"
   },
   {
    "duration": 8,
    "start_time": "2023-04-28T09:13:29.239Z"
   },
   {
    "duration": 183,
    "start_time": "2023-04-28T09:13:29.248Z"
   },
   {
    "duration": 4,
    "start_time": "2023-04-28T09:13:29.433Z"
   },
   {
    "duration": 1488,
    "start_time": "2023-04-28T09:13:29.439Z"
   },
   {
    "duration": 579,
    "start_time": "2023-04-28T09:13:30.928Z"
   },
   {
    "duration": 15,
    "start_time": "2023-04-28T09:13:31.510Z"
   },
   {
    "duration": 62,
    "start_time": "2023-04-28T09:13:31.526Z"
   },
   {
    "duration": 22,
    "start_time": "2023-04-28T09:13:31.590Z"
   },
   {
    "duration": 507,
    "start_time": "2023-04-28T09:13:31.613Z"
   },
   {
    "duration": 24,
    "start_time": "2023-04-28T09:13:32.122Z"
   },
   {
    "duration": 72,
    "start_time": "2023-04-28T09:13:32.148Z"
   },
   {
    "duration": 919,
    "start_time": "2023-04-28T09:13:32.222Z"
   },
   {
    "duration": 55,
    "start_time": "2023-04-28T09:13:33.143Z"
   },
   {
    "duration": 53,
    "start_time": "2023-04-28T09:13:33.201Z"
   },
   {
    "duration": 344,
    "start_time": "2023-04-28T09:13:33.256Z"
   },
   {
    "duration": 28,
    "start_time": "2023-04-28T09:13:33.602Z"
   },
   {
    "duration": 3,
    "start_time": "2023-04-28T09:13:33.632Z"
   },
   {
    "duration": 3150,
    "start_time": "2023-04-28T09:13:33.636Z"
   },
   {
    "duration": 26,
    "start_time": "2023-04-28T09:13:36.789Z"
   },
   {
    "duration": 4643,
    "start_time": "2023-04-28T09:13:36.816Z"
   },
   {
    "duration": 411,
    "start_time": "2023-04-28T09:13:41.460Z"
   },
   {
    "duration": 5,
    "start_time": "2023-04-28T09:13:41.873Z"
   },
   {
    "duration": 11,
    "start_time": "2023-04-28T09:13:41.893Z"
   },
   {
    "duration": 13,
    "start_time": "2023-04-28T09:13:41.913Z"
   },
   {
    "duration": 59,
    "start_time": "2023-04-28T09:13:41.928Z"
   },
   {
    "duration": 22,
    "start_time": "2023-04-28T09:13:41.988Z"
   },
   {
    "duration": 5,
    "start_time": "2023-04-28T09:13:42.012Z"
   },
   {
    "duration": 8,
    "start_time": "2023-04-28T09:13:42.019Z"
   },
   {
    "duration": 484491,
    "start_time": "2023-04-28T09:13:42.029Z"
   },
   {
    "duration": 6,
    "start_time": "2023-04-28T09:21:46.521Z"
   },
   {
    "duration": 10,
    "start_time": "2023-04-28T09:21:46.528Z"
   },
   {
    "duration": 29580,
    "start_time": "2023-04-28T09:21:46.539Z"
   },
   {
    "duration": 83,
    "start_time": "2023-04-28T09:22:16.121Z"
   },
   {
    "duration": 8,
    "start_time": "2023-04-28T09:22:16.206Z"
   },
   {
    "duration": 81242,
    "start_time": "2023-04-28T09:22:16.215Z"
   },
   {
    "duration": 6,
    "start_time": "2023-04-28T09:23:37.458Z"
   },
   {
    "duration": 7,
    "start_time": "2023-04-28T09:23:37.465Z"
   },
   {
    "duration": 6,
    "start_time": "2023-04-28T09:23:37.474Z"
   },
   {
    "duration": 24,
    "start_time": "2023-04-28T09:23:37.482Z"
   },
   {
    "duration": 2,
    "start_time": "2023-04-28T09:23:37.508Z"
   },
   {
    "duration": 150,
    "start_time": "2023-04-28T09:23:37.512Z"
   },
   {
    "duration": 550,
    "start_time": "2023-04-28T09:23:37.664Z"
   },
   {
    "duration": 3,
    "start_time": "2023-04-28T09:23:38.216Z"
   },
   {
    "duration": 1198,
    "start_time": "2023-04-28T09:23:38.220Z"
   },
   {
    "duration": 397,
    "start_time": "2023-04-28T09:23:39.420Z"
   },
   {
    "duration": 1138,
    "start_time": "2023-04-28T09:27:26.605Z"
   },
   {
    "duration": 354,
    "start_time": "2023-04-28T09:27:31.007Z"
   },
   {
    "duration": 1869,
    "start_time": "2023-04-29T07:19:36.695Z"
   },
   {
    "duration": 5,
    "start_time": "2023-04-29T07:19:38.567Z"
   },
   {
    "duration": 2950,
    "start_time": "2023-04-29T07:19:38.574Z"
   },
   {
    "duration": 203,
    "start_time": "2023-04-29T07:19:41.527Z"
   },
   {
    "duration": 3,
    "start_time": "2023-04-29T07:19:41.732Z"
   },
   {
    "duration": 463,
    "start_time": "2023-04-29T07:19:41.737Z"
   },
   {
    "duration": 1004,
    "start_time": "2023-04-29T07:19:42.203Z"
   },
   {
    "duration": 183,
    "start_time": "2023-04-29T07:19:43.209Z"
   },
   {
    "duration": 80,
    "start_time": "2023-04-29T07:19:43.393Z"
   },
   {
    "duration": 146,
    "start_time": "2023-04-29T07:19:43.476Z"
   },
   {
    "duration": 8,
    "start_time": "2023-04-29T07:19:43.624Z"
   },
   {
    "duration": 703,
    "start_time": "2023-04-29T07:19:43.634Z"
   },
   {
    "duration": 359,
    "start_time": "2023-04-29T07:19:44.338Z"
   },
   {
    "duration": 219,
    "start_time": "2023-04-29T07:19:44.699Z"
   },
   {
    "duration": 390,
    "start_time": "2023-04-29T07:19:44.920Z"
   },
   {
    "duration": 3,
    "start_time": "2023-04-29T07:19:45.312Z"
   },
   {
    "duration": 4,
    "start_time": "2023-04-29T07:19:45.317Z"
   },
   {
    "duration": 16,
    "start_time": "2023-04-29T07:19:45.322Z"
   },
   {
    "duration": 3,
    "start_time": "2023-04-29T07:19:46.903Z"
   },
   {
    "duration": 144,
    "start_time": "2023-04-29T07:19:47.087Z"
   },
   {
    "duration": 9,
    "start_time": "2023-04-29T07:20:15.326Z"
   },
   {
    "duration": 10,
    "start_time": "2023-04-29T07:20:40.515Z"
   },
   {
    "duration": 137,
    "start_time": "2023-04-29T07:20:48.060Z"
   },
   {
    "duration": 1483,
    "start_time": "2023-04-29T07:21:06.608Z"
   },
   {
    "duration": 3,
    "start_time": "2023-04-29T07:21:08.094Z"
   },
   {
    "duration": 831,
    "start_time": "2023-04-29T07:21:08.099Z"
   },
   {
    "duration": 240,
    "start_time": "2023-04-29T07:21:08.932Z"
   },
   {
    "duration": 4,
    "start_time": "2023-04-29T07:21:09.174Z"
   },
   {
    "duration": 458,
    "start_time": "2023-04-29T07:21:09.180Z"
   },
   {
    "duration": 1018,
    "start_time": "2023-04-29T07:21:09.639Z"
   },
   {
    "duration": 164,
    "start_time": "2023-04-29T07:21:10.659Z"
   },
   {
    "duration": 90,
    "start_time": "2023-04-29T07:21:10.825Z"
   },
   {
    "duration": 113,
    "start_time": "2023-04-29T07:21:10.918Z"
   },
   {
    "duration": 4,
    "start_time": "2023-04-29T07:21:11.033Z"
   },
   {
    "duration": 794,
    "start_time": "2023-04-29T07:21:11.038Z"
   },
   {
    "duration": 282,
    "start_time": "2023-04-29T07:21:11.835Z"
   },
   {
    "duration": 225,
    "start_time": "2023-04-29T07:21:12.118Z"
   },
   {
    "duration": 222,
    "start_time": "2023-04-29T07:21:12.345Z"
   },
   {
    "duration": 3,
    "start_time": "2023-04-29T07:21:12.569Z"
   },
   {
    "duration": 22,
    "start_time": "2023-04-29T07:21:12.574Z"
   },
   {
    "duration": 13,
    "start_time": "2023-04-29T07:21:12.598Z"
   },
   {
    "duration": 26,
    "start_time": "2023-04-29T07:21:12.613Z"
   },
   {
    "duration": 7,
    "start_time": "2023-04-29T07:21:16.612Z"
   },
   {
    "duration": 158,
    "start_time": "2023-04-29T07:21:19.205Z"
   },
   {
    "duration": 129,
    "start_time": "2023-04-29T07:21:26.940Z"
   },
   {
    "duration": 1549,
    "start_time": "2023-04-29T07:21:33.595Z"
   },
   {
    "duration": 2,
    "start_time": "2023-04-29T07:21:35.146Z"
   },
   {
    "duration": 801,
    "start_time": "2023-04-29T07:21:35.150Z"
   },
   {
    "duration": 226,
    "start_time": "2023-04-29T07:21:35.953Z"
   },
   {
    "duration": 12,
    "start_time": "2023-04-29T07:21:36.182Z"
   },
   {
    "duration": 535,
    "start_time": "2023-04-29T07:21:36.196Z"
   },
   {
    "duration": 1093,
    "start_time": "2023-04-29T07:21:36.732Z"
   },
   {
    "duration": 173,
    "start_time": "2023-04-29T07:21:37.826Z"
   },
   {
    "duration": 70,
    "start_time": "2023-04-29T07:21:38.000Z"
   },
   {
    "duration": 136,
    "start_time": "2023-04-29T07:21:38.073Z"
   },
   {
    "duration": 7,
    "start_time": "2023-04-29T07:21:38.212Z"
   },
   {
    "duration": 666,
    "start_time": "2023-04-29T07:21:38.222Z"
   },
   {
    "duration": 283,
    "start_time": "2023-04-29T07:21:38.890Z"
   },
   {
    "duration": 199,
    "start_time": "2023-04-29T07:21:39.175Z"
   },
   {
    "duration": 215,
    "start_time": "2023-04-29T07:21:39.376Z"
   },
   {
    "duration": 3,
    "start_time": "2023-04-29T07:21:39.593Z"
   },
   {
    "duration": 6,
    "start_time": "2023-04-29T07:21:39.597Z"
   },
   {
    "duration": 4,
    "start_time": "2023-04-29T07:21:39.604Z"
   },
   {
    "duration": 3,
    "start_time": "2023-04-29T07:21:44.193Z"
   },
   {
    "duration": 226,
    "start_time": "2023-04-29T07:21:45.135Z"
   },
   {
    "duration": 10,
    "start_time": "2023-04-29T07:36:42.220Z"
   },
   {
    "duration": 11,
    "start_time": "2023-04-29T07:36:42.353Z"
   },
   {
    "duration": 15,
    "start_time": "2023-04-29T07:36:42.502Z"
   },
   {
    "duration": 11,
    "start_time": "2023-04-29T07:36:42.653Z"
   },
   {
    "duration": 14,
    "start_time": "2023-04-29T07:36:42.811Z"
   },
   {
    "duration": 14,
    "start_time": "2023-04-29T07:36:42.953Z"
   },
   {
    "duration": 12,
    "start_time": "2023-04-29T07:36:43.113Z"
   },
   {
    "duration": 11,
    "start_time": "2023-04-29T07:36:43.256Z"
   },
   {
    "duration": 12,
    "start_time": "2023-04-29T07:36:43.389Z"
   },
   {
    "duration": 11,
    "start_time": "2023-04-29T07:36:43.538Z"
   },
   {
    "duration": 10,
    "start_time": "2023-04-29T07:36:43.677Z"
   },
   {
    "duration": 15,
    "start_time": "2023-04-29T07:36:43.802Z"
   },
   {
    "duration": 29,
    "start_time": "2023-04-29T07:36:44.788Z"
   },
   {
    "duration": 14,
    "start_time": "2023-04-29T07:37:21.587Z"
   },
   {
    "duration": 12,
    "start_time": "2023-04-29T07:37:22.773Z"
   },
   {
    "duration": 10,
    "start_time": "2023-04-29T07:37:22.959Z"
   },
   {
    "duration": 10,
    "start_time": "2023-04-29T07:37:23.148Z"
   },
   {
    "duration": 13,
    "start_time": "2023-04-29T07:37:23.309Z"
   },
   {
    "duration": 1430,
    "start_time": "2023-04-29T07:37:34.809Z"
   },
   {
    "duration": 4,
    "start_time": "2023-04-29T07:37:36.240Z"
   },
   {
    "duration": 881,
    "start_time": "2023-04-29T07:37:36.246Z"
   },
   {
    "duration": 250,
    "start_time": "2023-04-29T07:37:37.130Z"
   },
   {
    "duration": 12,
    "start_time": "2023-04-29T07:37:37.382Z"
   },
   {
    "duration": 589,
    "start_time": "2023-04-29T07:37:37.396Z"
   },
   {
    "duration": 1054,
    "start_time": "2023-04-29T07:37:37.987Z"
   },
   {
    "duration": 169,
    "start_time": "2023-04-29T07:37:39.042Z"
   },
   {
    "duration": 64,
    "start_time": "2023-04-29T07:37:39.213Z"
   },
   {
    "duration": 111,
    "start_time": "2023-04-29T07:37:39.293Z"
   },
   {
    "duration": 4,
    "start_time": "2023-04-29T07:37:39.406Z"
   },
   {
    "duration": 659,
    "start_time": "2023-04-29T07:37:39.414Z"
   },
   {
    "duration": 296,
    "start_time": "2023-04-29T07:37:40.076Z"
   },
   {
    "duration": 222,
    "start_time": "2023-04-29T07:37:40.374Z"
   },
   {
    "duration": 242,
    "start_time": "2023-04-29T07:37:40.598Z"
   },
   {
    "duration": 3,
    "start_time": "2023-04-29T07:37:40.842Z"
   },
   {
    "duration": 4,
    "start_time": "2023-04-29T07:37:40.847Z"
   },
   {
    "duration": 3,
    "start_time": "2023-04-29T07:37:40.853Z"
   },
   {
    "duration": 7,
    "start_time": "2023-04-29T07:37:46.931Z"
   },
   {
    "duration": 213,
    "start_time": "2023-04-29T07:37:54.768Z"
   },
   {
    "duration": 6,
    "start_time": "2023-04-29T07:45:42.574Z"
   },
   {
    "duration": 1412,
    "start_time": "2023-04-29T07:46:00.262Z"
   },
   {
    "duration": 2,
    "start_time": "2023-04-29T07:46:01.676Z"
   },
   {
    "duration": 897,
    "start_time": "2023-04-29T07:46:01.680Z"
   },
   {
    "duration": 220,
    "start_time": "2023-04-29T07:46:02.579Z"
   },
   {
    "duration": 3,
    "start_time": "2023-04-29T07:46:02.801Z"
   },
   {
    "duration": 460,
    "start_time": "2023-04-29T07:46:02.806Z"
   },
   {
    "duration": 940,
    "start_time": "2023-04-29T07:46:03.267Z"
   },
   {
    "duration": 150,
    "start_time": "2023-04-29T07:46:04.209Z"
   },
   {
    "duration": 75,
    "start_time": "2023-04-29T07:46:04.363Z"
   },
   {
    "duration": 136,
    "start_time": "2023-04-29T07:46:04.441Z"
   },
   {
    "duration": 15,
    "start_time": "2023-04-29T07:46:04.579Z"
   },
   {
    "duration": 640,
    "start_time": "2023-04-29T07:46:04.596Z"
   },
   {
    "duration": 255,
    "start_time": "2023-04-29T07:46:05.238Z"
   },
   {
    "duration": 188,
    "start_time": "2023-04-29T07:46:05.495Z"
   },
   {
    "duration": 210,
    "start_time": "2023-04-29T07:46:05.684Z"
   },
   {
    "duration": 37,
    "start_time": "2023-04-29T07:46:29.389Z"
   },
   {
    "duration": 430,
    "start_time": "2023-04-29T07:51:07.190Z"
   },
   {
    "duration": 37,
    "start_time": "2023-04-29T07:51:23.395Z"
   },
   {
    "duration": 38,
    "start_time": "2023-04-29T07:51:31.693Z"
   },
   {
    "duration": 2539,
    "start_time": "2023-04-29T07:51:45.423Z"
   },
   {
    "duration": 7,
    "start_time": "2023-04-29T07:52:08.649Z"
   },
   {
    "duration": 13,
    "start_time": "2023-04-29T07:52:19.015Z"
   },
   {
    "duration": 16,
    "start_time": "2023-04-29T07:52:40.375Z"
   },
   {
    "duration": 7,
    "start_time": "2023-04-29T07:52:51.467Z"
   },
   {
    "duration": 13,
    "start_time": "2023-04-29T07:53:01.217Z"
   },
   {
    "duration": 7,
    "start_time": "2023-04-29T07:53:08.283Z"
   },
   {
    "duration": 4,
    "start_time": "2023-04-29T07:53:26.754Z"
   },
   {
    "duration": 7,
    "start_time": "2023-04-29T07:53:33.898Z"
   },
   {
    "duration": 47,
    "start_time": "2023-04-29T08:08:52.927Z"
   },
   {
    "duration": 7,
    "start_time": "2023-04-29T08:08:53.229Z"
   },
   {
    "duration": 1378,
    "start_time": "2023-04-29T08:08:58.520Z"
   },
   {
    "duration": 3,
    "start_time": "2023-04-29T08:08:59.900Z"
   },
   {
    "duration": 882,
    "start_time": "2023-04-29T08:08:59.905Z"
   },
   {
    "duration": 214,
    "start_time": "2023-04-29T08:09:00.792Z"
   },
   {
    "duration": 4,
    "start_time": "2023-04-29T08:09:01.008Z"
   },
   {
    "duration": 488,
    "start_time": "2023-04-29T08:09:01.014Z"
   },
   {
    "duration": 1020,
    "start_time": "2023-04-29T08:09:01.504Z"
   },
   {
    "duration": 165,
    "start_time": "2023-04-29T08:09:02.526Z"
   },
   {
    "duration": 70,
    "start_time": "2023-04-29T08:09:02.694Z"
   },
   {
    "duration": 126,
    "start_time": "2023-04-29T08:09:02.767Z"
   },
   {
    "duration": 4,
    "start_time": "2023-04-29T08:09:02.895Z"
   },
   {
    "duration": 648,
    "start_time": "2023-04-29T08:09:02.901Z"
   },
   {
    "duration": 289,
    "start_time": "2023-04-29T08:09:03.550Z"
   },
   {
    "duration": 195,
    "start_time": "2023-04-29T08:09:03.841Z"
   },
   {
    "duration": 219,
    "start_time": "2023-04-29T08:09:04.038Z"
   },
   {
    "duration": 7,
    "start_time": "2023-04-29T08:09:04.258Z"
   },
   {
    "duration": 33,
    "start_time": "2023-04-29T08:09:04.266Z"
   },
   {
    "duration": 14,
    "start_time": "2023-04-29T08:09:17.830Z"
   },
   {
    "duration": 5,
    "start_time": "2023-04-29T08:09:37.647Z"
   },
   {
    "duration": 4,
    "start_time": "2023-04-29T08:10:28.637Z"
   },
   {
    "duration": 7,
    "start_time": "2023-04-29T08:12:52.043Z"
   },
   {
    "duration": 4,
    "start_time": "2023-04-29T08:13:38.679Z"
   },
   {
    "duration": 5,
    "start_time": "2023-04-29T08:14:05.453Z"
   },
   {
    "duration": 1417,
    "start_time": "2023-04-29T08:27:27.544Z"
   },
   {
    "duration": 2,
    "start_time": "2023-04-29T08:27:28.963Z"
   },
   {
    "duration": 796,
    "start_time": "2023-04-29T08:27:28.966Z"
   },
   {
    "duration": 247,
    "start_time": "2023-04-29T08:27:29.763Z"
   },
   {
    "duration": 4,
    "start_time": "2023-04-29T08:27:30.012Z"
   },
   {
    "duration": 496,
    "start_time": "2023-04-29T08:27:30.017Z"
   },
   {
    "duration": 1039,
    "start_time": "2023-04-29T08:27:30.515Z"
   },
   {
    "duration": 166,
    "start_time": "2023-04-29T08:27:31.555Z"
   },
   {
    "duration": 80,
    "start_time": "2023-04-29T08:27:31.722Z"
   },
   {
    "duration": 115,
    "start_time": "2023-04-29T08:27:31.804Z"
   },
   {
    "duration": 4,
    "start_time": "2023-04-29T08:27:31.921Z"
   },
   {
    "duration": 694,
    "start_time": "2023-04-29T08:27:31.927Z"
   },
   {
    "duration": 293,
    "start_time": "2023-04-29T08:27:32.623Z"
   },
   {
    "duration": 208,
    "start_time": "2023-04-29T08:27:32.921Z"
   },
   {
    "duration": 218,
    "start_time": "2023-04-29T08:27:33.131Z"
   },
   {
    "duration": 5,
    "start_time": "2023-04-29T08:27:33.350Z"
   },
   {
    "duration": 14,
    "start_time": "2023-04-29T08:27:33.357Z"
   },
   {
    "duration": 12,
    "start_time": "2023-04-29T08:27:33.391Z"
   },
   {
    "duration": 4,
    "start_time": "2023-04-29T08:27:33.405Z"
   },
   {
    "duration": 179,
    "start_time": "2023-04-29T08:27:33.410Z"
   },
   {
    "duration": 4,
    "start_time": "2023-04-29T08:27:33.591Z"
   },
   {
    "duration": 1557,
    "start_time": "2023-04-29T08:27:33.596Z"
   },
   {
    "duration": 588,
    "start_time": "2023-04-29T08:27:35.154Z"
   },
   {
    "duration": 15,
    "start_time": "2023-04-29T08:27:35.744Z"
   },
   {
    "duration": 71,
    "start_time": "2023-04-29T08:27:35.761Z"
   },
   {
    "duration": 17,
    "start_time": "2023-04-29T08:27:35.833Z"
   },
   {
    "duration": 484,
    "start_time": "2023-04-29T08:27:35.852Z"
   },
   {
    "duration": 26,
    "start_time": "2023-04-29T08:27:36.338Z"
   },
   {
    "duration": 74,
    "start_time": "2023-04-29T08:27:36.366Z"
   },
   {
    "duration": 965,
    "start_time": "2023-04-29T08:27:36.442Z"
   },
   {
    "duration": 67,
    "start_time": "2023-04-29T08:27:37.408Z"
   },
   {
    "duration": 59,
    "start_time": "2023-04-29T08:27:37.491Z"
   },
   {
    "duration": 428,
    "start_time": "2023-04-29T08:27:37.552Z"
   },
   {
    "duration": 33,
    "start_time": "2023-04-29T08:27:37.982Z"
   },
   {
    "duration": 4,
    "start_time": "2023-04-29T08:27:38.017Z"
   },
   {
    "duration": 3442,
    "start_time": "2023-04-29T08:27:38.023Z"
   },
   {
    "duration": 18,
    "start_time": "2023-04-29T08:27:41.467Z"
   },
   {
    "duration": 5212,
    "start_time": "2023-04-29T08:27:41.487Z"
   },
   {
    "duration": 451,
    "start_time": "2023-04-29T08:27:46.701Z"
   },
   {
    "duration": 6,
    "start_time": "2023-04-29T08:27:47.154Z"
   },
   {
    "duration": 4,
    "start_time": "2023-04-29T08:27:47.165Z"
   },
   {
    "duration": 29,
    "start_time": "2023-04-29T08:27:47.171Z"
   },
   {
    "duration": 61,
    "start_time": "2023-04-29T08:27:47.202Z"
   },
   {
    "duration": 27,
    "start_time": "2023-04-29T08:27:47.265Z"
   },
   {
    "duration": 4,
    "start_time": "2023-04-29T08:27:47.294Z"
   },
   {
    "duration": 5,
    "start_time": "2023-04-29T08:27:47.300Z"
   },
   {
    "duration": 408724,
    "start_time": "2023-04-29T08:27:47.307Z"
   },
   {
    "duration": 6,
    "start_time": "2023-04-29T08:34:36.033Z"
   },
   {
    "duration": 6,
    "start_time": "2023-04-29T08:34:36.041Z"
   },
   {
    "duration": 67764,
    "start_time": "2023-04-29T08:34:36.048Z"
   },
   {
    "duration": 8,
    "start_time": "2023-04-29T08:35:43.814Z"
   },
   {
    "duration": 8,
    "start_time": "2023-04-29T08:35:43.825Z"
   },
   {
    "duration": 103871,
    "start_time": "2023-04-29T08:35:43.835Z"
   },
   {
    "duration": 13,
    "start_time": "2023-04-29T08:37:27.716Z"
   },
   {
    "duration": 6,
    "start_time": "2023-04-29T08:37:27.731Z"
   },
   {
    "duration": 8,
    "start_time": "2023-04-29T08:37:27.739Z"
   },
   {
    "duration": 29,
    "start_time": "2023-04-29T08:37:27.749Z"
   },
   {
    "duration": 11,
    "start_time": "2023-04-29T08:37:27.780Z"
   },
   {
    "duration": 175,
    "start_time": "2023-04-29T08:37:27.799Z"
   },
   {
    "duration": 661,
    "start_time": "2023-04-29T08:37:27.976Z"
   },
   {
    "duration": 3,
    "start_time": "2023-04-29T08:37:28.639Z"
   },
   {
    "duration": 1387,
    "start_time": "2023-04-29T08:37:28.644Z"
   },
   {
    "duration": 454,
    "start_time": "2023-04-29T08:37:30.033Z"
   },
   {
    "duration": 5,
    "start_time": "2023-04-29T08:43:11.754Z"
   },
   {
    "duration": 33401,
    "start_time": "2023-04-29T08:43:12.803Z"
   },
   {
    "duration": 6,
    "start_time": "2023-04-29T08:46:47.058Z"
   },
   {
    "duration": 4,
    "start_time": "2023-04-29T08:46:52.073Z"
   },
   {
    "duration": 5,
    "start_time": "2023-04-29T08:46:54.086Z"
   },
   {
    "duration": 9,
    "start_time": "2023-04-29T08:46:57.088Z"
   }
  ],
  "kernelspec": {
   "display_name": "Python 3 (ipykernel)",
   "language": "python",
   "name": "python3"
  },
  "language_info": {
   "codemirror_mode": {
    "name": "ipython",
    "version": 3
   },
   "file_extension": ".py",
   "mimetype": "text/x-python",
   "name": "python",
   "nbconvert_exporter": "python",
   "pygments_lexer": "ipython3",
   "version": "3.9.13"
  },
  "toc": {
   "base_numbering": 1,
   "nav_menu": {},
   "number_sections": true,
   "sideBar": true,
   "skip_h1_title": true,
   "title_cell": "Table of Contents",
   "title_sidebar": "Contents",
   "toc_cell": false,
   "toc_position": {
    "height": "calc(100% - 180px)",
    "left": "10px",
    "top": "150px",
    "width": "288px"
   },
   "toc_section_display": true,
   "toc_window_display": true
  }
 },
 "nbformat": 4,
 "nbformat_minor": 2
}
